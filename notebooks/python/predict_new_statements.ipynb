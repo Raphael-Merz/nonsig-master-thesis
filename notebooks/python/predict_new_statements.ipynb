{
 "cells": [
  {
   "cell_type": "markdown",
   "id": "5e0f8a44",
   "metadata": {},
   "source": [
    "# Predicting labels for new statements"
   ]
  },
  {
   "cell_type": "markdown",
   "id": "ef72840b",
   "metadata": {},
   "source": [
    "## 0. Setup"
   ]
  },
  {
   "cell_type": "markdown",
   "id": "32992dd0",
   "metadata": {},
   "source": [
    "### 0.1 Install libraries"
   ]
  },
  {
   "cell_type": "code",
   "execution_count": 1,
   "id": "da13a949",
   "metadata": {},
   "outputs": [
    {
     "name": "stdout",
     "output_type": "stream",
     "text": [
      "Requirement already satisfied: absl-py==2.3.1 in d:\\onedrive\\dokumente\\github desktop\\nonsig-master-thesis\\nonsig_venv\\lib\\site-packages (from -r requirements.txt (line 1)) (2.3.1)\n",
      "Requirement already satisfied: accelerate==1.8.1 in d:\\onedrive\\dokumente\\github desktop\\nonsig-master-thesis\\nonsig_venv\\lib\\site-packages (from -r requirements.txt (line 2)) (1.8.1)\n",
      "Requirement already satisfied: aiohappyeyeballs==2.6.1 in d:\\onedrive\\dokumente\\github desktop\\nonsig-master-thesis\\nonsig_venv\\lib\\site-packages (from -r requirements.txt (line 3)) (2.6.1)\n",
      "Requirement already satisfied: aiohttp==3.12.13 in d:\\onedrive\\dokumente\\github desktop\\nonsig-master-thesis\\nonsig_venv\\lib\\site-packages (from -r requirements.txt (line 4)) (3.12.13)\n",
      "Requirement already satisfied: aiosignal==1.4.0 in d:\\onedrive\\dokumente\\github desktop\\nonsig-master-thesis\\nonsig_venv\\lib\\site-packages (from -r requirements.txt (line 5)) (1.4.0)\n",
      "Requirement already satisfied: asttokens==3.0.0 in d:\\onedrive\\dokumente\\github desktop\\nonsig-master-thesis\\nonsig_venv\\lib\\site-packages (from -r requirements.txt (line 6)) (3.0.0)\n",
      "Requirement already satisfied: astunparse==1.6.3 in d:\\onedrive\\dokumente\\github desktop\\nonsig-master-thesis\\nonsig_venv\\lib\\site-packages (from -r requirements.txt (line 7)) (1.6.3)\n",
      "Requirement already satisfied: attrs==25.3.0 in d:\\onedrive\\dokumente\\github desktop\\nonsig-master-thesis\\nonsig_venv\\lib\\site-packages (from -r requirements.txt (line 8)) (25.3.0)\n",
      "Requirement already satisfied: certifi==2025.6.15 in d:\\onedrive\\dokumente\\github desktop\\nonsig-master-thesis\\nonsig_venv\\lib\\site-packages (from -r requirements.txt (line 9)) (2025.6.15)\n",
      "Requirement already satisfied: charset-normalizer==3.4.2 in d:\\onedrive\\dokumente\\github desktop\\nonsig-master-thesis\\nonsig_venv\\lib\\site-packages (from -r requirements.txt (line 10)) (3.4.2)\n",
      "Requirement already satisfied: colorama==0.4.6 in d:\\onedrive\\dokumente\\github desktop\\nonsig-master-thesis\\nonsig_venv\\lib\\site-packages (from -r requirements.txt (line 11)) (0.4.6)\n",
      "Requirement already satisfied: comm==0.2.2 in d:\\onedrive\\dokumente\\github desktop\\nonsig-master-thesis\\nonsig_venv\\lib\\site-packages (from -r requirements.txt (line 12)) (0.2.2)\n",
      "Requirement already satisfied: contourpy==1.3.2 in d:\\onedrive\\dokumente\\github desktop\\nonsig-master-thesis\\nonsig_venv\\lib\\site-packages (from -r requirements.txt (line 13)) (1.3.2)\n",
      "Requirement already satisfied: cycler==0.12.1 in d:\\onedrive\\dokumente\\github desktop\\nonsig-master-thesis\\nonsig_venv\\lib\\site-packages (from -r requirements.txt (line 14)) (0.12.1)\n",
      "Requirement already satisfied: datasets==3.6.0 in d:\\onedrive\\dokumente\\github desktop\\nonsig-master-thesis\\nonsig_venv\\lib\\site-packages (from -r requirements.txt (line 15)) (3.6.0)\n",
      "Requirement already satisfied: debugpy==1.8.14 in d:\\onedrive\\dokumente\\github desktop\\nonsig-master-thesis\\nonsig_venv\\lib\\site-packages (from -r requirements.txt (line 16)) (1.8.14)\n",
      "Requirement already satisfied: decorator==5.2.1 in d:\\onedrive\\dokumente\\github desktop\\nonsig-master-thesis\\nonsig_venv\\lib\\site-packages (from -r requirements.txt (line 17)) (5.2.1)\n",
      "Requirement already satisfied: dill==0.3.8 in d:\\onedrive\\dokumente\\github desktop\\nonsig-master-thesis\\nonsig_venv\\lib\\site-packages (from -r requirements.txt (line 18)) (0.3.8)\n",
      "Requirement already satisfied: et_xmlfile==2.0.0 in d:\\onedrive\\dokumente\\github desktop\\nonsig-master-thesis\\nonsig_venv\\lib\\site-packages (from -r requirements.txt (line 19)) (2.0.0)\n",
      "Requirement already satisfied: evaluate==0.4.4 in d:\\onedrive\\dokumente\\github desktop\\nonsig-master-thesis\\nonsig_venv\\lib\\site-packages (from -r requirements.txt (line 20)) (0.4.4)\n",
      "Requirement already satisfied: executing==2.2.0 in d:\\onedrive\\dokumente\\github desktop\\nonsig-master-thesis\\nonsig_venv\\lib\\site-packages (from -r requirements.txt (line 21)) (2.2.0)\n",
      "Requirement already satisfied: filelock==3.18.0 in d:\\onedrive\\dokumente\\github desktop\\nonsig-master-thesis\\nonsig_venv\\lib\\site-packages (from -r requirements.txt (line 22)) (3.18.0)\n",
      "Requirement already satisfied: flatbuffers==25.2.10 in d:\\onedrive\\dokumente\\github desktop\\nonsig-master-thesis\\nonsig_venv\\lib\\site-packages (from -r requirements.txt (line 23)) (25.2.10)\n",
      "Requirement already satisfied: fonttools==4.58.5 in d:\\onedrive\\dokumente\\github desktop\\nonsig-master-thesis\\nonsig_venv\\lib\\site-packages (from -r requirements.txt (line 24)) (4.58.5)\n",
      "Requirement already satisfied: frozenlist==1.7.0 in d:\\onedrive\\dokumente\\github desktop\\nonsig-master-thesis\\nonsig_venv\\lib\\site-packages (from -r requirements.txt (line 25)) (1.7.0)\n",
      "Requirement already satisfied: fsspec==2025.3.0 in d:\\onedrive\\dokumente\\github desktop\\nonsig-master-thesis\\nonsig_venv\\lib\\site-packages (from -r requirements.txt (line 26)) (2025.3.0)\n",
      "Requirement already satisfied: gast==0.6.0 in d:\\onedrive\\dokumente\\github desktop\\nonsig-master-thesis\\nonsig_venv\\lib\\site-packages (from -r requirements.txt (line 27)) (0.6.0)\n",
      "Requirement already satisfied: google-pasta==0.2.0 in d:\\onedrive\\dokumente\\github desktop\\nonsig-master-thesis\\nonsig_venv\\lib\\site-packages (from -r requirements.txt (line 28)) (0.2.0)\n",
      "Requirement already satisfied: grpcio==1.73.1 in d:\\onedrive\\dokumente\\github desktop\\nonsig-master-thesis\\nonsig_venv\\lib\\site-packages (from -r requirements.txt (line 29)) (1.73.1)\n",
      "Requirement already satisfied: h5py==3.14.0 in d:\\onedrive\\dokumente\\github desktop\\nonsig-master-thesis\\nonsig_venv\\lib\\site-packages (from -r requirements.txt (line 30)) (3.14.0)\n",
      "Requirement already satisfied: huggingface-hub==0.33.2 in d:\\onedrive\\dokumente\\github desktop\\nonsig-master-thesis\\nonsig_venv\\lib\\site-packages (from -r requirements.txt (line 31)) (0.33.2)\n",
      "Requirement already satisfied: idna==3.10 in d:\\onedrive\\dokumente\\github desktop\\nonsig-master-thesis\\nonsig_venv\\lib\\site-packages (from -r requirements.txt (line 32)) (3.10)\n",
      "Requirement already satisfied: ipykernel==6.29.5 in d:\\onedrive\\dokumente\\github desktop\\nonsig-master-thesis\\nonsig_venv\\lib\\site-packages (from -r requirements.txt (line 33)) (6.29.5)\n",
      "Requirement already satisfied: ipython==9.4.0 in d:\\onedrive\\dokumente\\github desktop\\nonsig-master-thesis\\nonsig_venv\\lib\\site-packages (from -r requirements.txt (line 34)) (9.4.0)\n",
      "Requirement already satisfied: ipython_pygments_lexers==1.1.1 in d:\\onedrive\\dokumente\\github desktop\\nonsig-master-thesis\\nonsig_venv\\lib\\site-packages (from -r requirements.txt (line 35)) (1.1.1)\n",
      "Requirement already satisfied: jedi==0.19.2 in d:\\onedrive\\dokumente\\github desktop\\nonsig-master-thesis\\nonsig_venv\\lib\\site-packages (from -r requirements.txt (line 36)) (0.19.2)\n",
      "Requirement already satisfied: Jinja2==3.1.6 in d:\\onedrive\\dokumente\\github desktop\\nonsig-master-thesis\\nonsig_venv\\lib\\site-packages (from -r requirements.txt (line 37)) (3.1.6)\n",
      "Requirement already satisfied: joblib==1.5.1 in d:\\onedrive\\dokumente\\github desktop\\nonsig-master-thesis\\nonsig_venv\\lib\\site-packages (from -r requirements.txt (line 38)) (1.5.1)\n",
      "Requirement already satisfied: jupyter_client==8.6.3 in d:\\onedrive\\dokumente\\github desktop\\nonsig-master-thesis\\nonsig_venv\\lib\\site-packages (from -r requirements.txt (line 39)) (8.6.3)\n",
      "Requirement already satisfied: jupyter_core==5.8.1 in d:\\onedrive\\dokumente\\github desktop\\nonsig-master-thesis\\nonsig_venv\\lib\\site-packages (from -r requirements.txt (line 40)) (5.8.1)\n",
      "Requirement already satisfied: keras==3.10.0 in d:\\onedrive\\dokumente\\github desktop\\nonsig-master-thesis\\nonsig_venv\\lib\\site-packages (from -r requirements.txt (line 41)) (3.10.0)\n",
      "Requirement already satisfied: kiwisolver==1.4.8 in d:\\onedrive\\dokumente\\github desktop\\nonsig-master-thesis\\nonsig_venv\\lib\\site-packages (from -r requirements.txt (line 42)) (1.4.8)\n",
      "Requirement already satisfied: libclang==18.1.1 in d:\\onedrive\\dokumente\\github desktop\\nonsig-master-thesis\\nonsig_venv\\lib\\site-packages (from -r requirements.txt (line 43)) (18.1.1)\n",
      "Requirement already satisfied: Markdown==3.8.2 in d:\\onedrive\\dokumente\\github desktop\\nonsig-master-thesis\\nonsig_venv\\lib\\site-packages (from -r requirements.txt (line 44)) (3.8.2)\n",
      "Requirement already satisfied: markdown-it-py==3.0.0 in d:\\onedrive\\dokumente\\github desktop\\nonsig-master-thesis\\nonsig_venv\\lib\\site-packages (from -r requirements.txt (line 45)) (3.0.0)\n",
      "Requirement already satisfied: MarkupSafe==3.0.2 in d:\\onedrive\\dokumente\\github desktop\\nonsig-master-thesis\\nonsig_venv\\lib\\site-packages (from -r requirements.txt (line 46)) (3.0.2)\n",
      "Requirement already satisfied: matplotlib==3.10.3 in d:\\onedrive\\dokumente\\github desktop\\nonsig-master-thesis\\nonsig_venv\\lib\\site-packages (from -r requirements.txt (line 47)) (3.10.3)\n",
      "Requirement already satisfied: matplotlib-inline==0.1.7 in d:\\onedrive\\dokumente\\github desktop\\nonsig-master-thesis\\nonsig_venv\\lib\\site-packages (from -r requirements.txt (line 48)) (0.1.7)\n",
      "Requirement already satisfied: mdurl==0.1.2 in d:\\onedrive\\dokumente\\github desktop\\nonsig-master-thesis\\nonsig_venv\\lib\\site-packages (from -r requirements.txt (line 49)) (0.1.2)\n",
      "Requirement already satisfied: ml_dtypes==0.5.1 in d:\\onedrive\\dokumente\\github desktop\\nonsig-master-thesis\\nonsig_venv\\lib\\site-packages (from -r requirements.txt (line 50)) (0.5.1)\n",
      "Requirement already satisfied: mpmath==1.3.0 in d:\\onedrive\\dokumente\\github desktop\\nonsig-master-thesis\\nonsig_venv\\lib\\site-packages (from -r requirements.txt (line 51)) (1.3.0)\n",
      "Requirement already satisfied: multidict==6.6.3 in d:\\onedrive\\dokumente\\github desktop\\nonsig-master-thesis\\nonsig_venv\\lib\\site-packages (from -r requirements.txt (line 52)) (6.6.3)\n",
      "Requirement already satisfied: multiprocess==0.70.16 in d:\\onedrive\\dokumente\\github desktop\\nonsig-master-thesis\\nonsig_venv\\lib\\site-packages (from -r requirements.txt (line 53)) (0.70.16)\n",
      "Requirement already satisfied: namex==0.1.0 in d:\\onedrive\\dokumente\\github desktop\\nonsig-master-thesis\\nonsig_venv\\lib\\site-packages (from -r requirements.txt (line 54)) (0.1.0)\n",
      "Requirement already satisfied: nest-asyncio==1.6.0 in d:\\onedrive\\dokumente\\github desktop\\nonsig-master-thesis\\nonsig_venv\\lib\\site-packages (from -r requirements.txt (line 55)) (1.6.0)\n",
      "Requirement already satisfied: networkx==3.5 in d:\\onedrive\\dokumente\\github desktop\\nonsig-master-thesis\\nonsig_venv\\lib\\site-packages (from -r requirements.txt (line 56)) (3.5)\n",
      "Requirement already satisfied: numpy==2.1.3 in d:\\onedrive\\dokumente\\github desktop\\nonsig-master-thesis\\nonsig_venv\\lib\\site-packages (from -r requirements.txt (line 57)) (2.1.3)\n",
      "Requirement already satisfied: openpyxl==3.1.5 in d:\\onedrive\\dokumente\\github desktop\\nonsig-master-thesis\\nonsig_venv\\lib\\site-packages (from -r requirements.txt (line 58)) (3.1.5)\n",
      "Requirement already satisfied: opt_einsum==3.4.0 in d:\\onedrive\\dokumente\\github desktop\\nonsig-master-thesis\\nonsig_venv\\lib\\site-packages (from -r requirements.txt (line 59)) (3.4.0)\n",
      "Requirement already satisfied: optree==0.16.0 in d:\\onedrive\\dokumente\\github desktop\\nonsig-master-thesis\\nonsig_venv\\lib\\site-packages (from -r requirements.txt (line 60)) (0.16.0)\n",
      "Requirement already satisfied: packaging==25.0 in d:\\onedrive\\dokumente\\github desktop\\nonsig-master-thesis\\nonsig_venv\\lib\\site-packages (from -r requirements.txt (line 61)) (25.0)\n",
      "Requirement already satisfied: pandas==2.3.1 in d:\\onedrive\\dokumente\\github desktop\\nonsig-master-thesis\\nonsig_venv\\lib\\site-packages (from -r requirements.txt (line 62)) (2.3.1)\n",
      "Requirement already satisfied: parso==0.8.4 in d:\\onedrive\\dokumente\\github desktop\\nonsig-master-thesis\\nonsig_venv\\lib\\site-packages (from -r requirements.txt (line 63)) (0.8.4)\n",
      "Requirement already satisfied: pillow==11.3.0 in d:\\onedrive\\dokumente\\github desktop\\nonsig-master-thesis\\nonsig_venv\\lib\\site-packages (from -r requirements.txt (line 64)) (11.3.0)\n",
      "Requirement already satisfied: platformdirs==4.3.8 in d:\\onedrive\\dokumente\\github desktop\\nonsig-master-thesis\\nonsig_venv\\lib\\site-packages (from -r requirements.txt (line 65)) (4.3.8)\n",
      "Requirement already satisfied: prompt_toolkit==3.0.51 in d:\\onedrive\\dokumente\\github desktop\\nonsig-master-thesis\\nonsig_venv\\lib\\site-packages (from -r requirements.txt (line 66)) (3.0.51)\n",
      "Requirement already satisfied: propcache==0.3.2 in d:\\onedrive\\dokumente\\github desktop\\nonsig-master-thesis\\nonsig_venv\\lib\\site-packages (from -r requirements.txt (line 67)) (0.3.2)\n",
      "Requirement already satisfied: protobuf==5.29.5 in d:\\onedrive\\dokumente\\github desktop\\nonsig-master-thesis\\nonsig_venv\\lib\\site-packages (from -r requirements.txt (line 68)) (5.29.5)\n",
      "Requirement already satisfied: psutil==7.0.0 in d:\\onedrive\\dokumente\\github desktop\\nonsig-master-thesis\\nonsig_venv\\lib\\site-packages (from -r requirements.txt (line 69)) (7.0.0)\n",
      "Requirement already satisfied: pure_eval==0.2.3 in d:\\onedrive\\dokumente\\github desktop\\nonsig-master-thesis\\nonsig_venv\\lib\\site-packages (from -r requirements.txt (line 70)) (0.2.3)\n",
      "Requirement already satisfied: pyarrow==20.0.0 in d:\\onedrive\\dokumente\\github desktop\\nonsig-master-thesis\\nonsig_venv\\lib\\site-packages (from -r requirements.txt (line 71)) (20.0.0)\n",
      "Requirement already satisfied: Pygments==2.19.2 in d:\\onedrive\\dokumente\\github desktop\\nonsig-master-thesis\\nonsig_venv\\lib\\site-packages (from -r requirements.txt (line 72)) (2.19.2)\n",
      "Requirement already satisfied: pyparsing==3.2.3 in d:\\onedrive\\dokumente\\github desktop\\nonsig-master-thesis\\nonsig_venv\\lib\\site-packages (from -r requirements.txt (line 73)) (3.2.3)\n",
      "Requirement already satisfied: python-dateutil==2.9.0.post0 in d:\\onedrive\\dokumente\\github desktop\\nonsig-master-thesis\\nonsig_venv\\lib\\site-packages (from -r requirements.txt (line 74)) (2.9.0.post0)\n",
      "Requirement already satisfied: pytz==2025.2 in d:\\onedrive\\dokumente\\github desktop\\nonsig-master-thesis\\nonsig_venv\\lib\\site-packages (from -r requirements.txt (line 75)) (2025.2)\n",
      "Requirement already satisfied: pywin32==310 in d:\\onedrive\\dokumente\\github desktop\\nonsig-master-thesis\\nonsig_venv\\lib\\site-packages (from -r requirements.txt (line 76)) (310)\n",
      "Requirement already satisfied: PyYAML==6.0.2 in d:\\onedrive\\dokumente\\github desktop\\nonsig-master-thesis\\nonsig_venv\\lib\\site-packages (from -r requirements.txt (line 77)) (6.0.2)\n",
      "Requirement already satisfied: pyzmq==27.0.0 in d:\\onedrive\\dokumente\\github desktop\\nonsig-master-thesis\\nonsig_venv\\lib\\site-packages (from -r requirements.txt (line 78)) (27.0.0)\n",
      "Requirement already satisfied: regex==2024.11.6 in d:\\onedrive\\dokumente\\github desktop\\nonsig-master-thesis\\nonsig_venv\\lib\\site-packages (from -r requirements.txt (line 79)) (2024.11.6)\n",
      "Requirement already satisfied: requests==2.32.4 in d:\\onedrive\\dokumente\\github desktop\\nonsig-master-thesis\\nonsig_venv\\lib\\site-packages (from -r requirements.txt (line 80)) (2.32.4)\n",
      "Requirement already satisfied: rich==14.0.0 in d:\\onedrive\\dokumente\\github desktop\\nonsig-master-thesis\\nonsig_venv\\lib\\site-packages (from -r requirements.txt (line 81)) (14.0.0)\n",
      "Requirement already satisfied: safetensors==0.5.3 in d:\\onedrive\\dokumente\\github desktop\\nonsig-master-thesis\\nonsig_venv\\lib\\site-packages (from -r requirements.txt (line 82)) (0.5.3)\n",
      "Requirement already satisfied: scikit-learn==1.7.0 in d:\\onedrive\\dokumente\\github desktop\\nonsig-master-thesis\\nonsig_venv\\lib\\site-packages (from -r requirements.txt (line 83)) (1.7.0)\n",
      "Requirement already satisfied: scipy==1.16.0 in d:\\onedrive\\dokumente\\github desktop\\nonsig-master-thesis\\nonsig_venv\\lib\\site-packages (from -r requirements.txt (line 84)) (1.16.0)\n",
      "Requirement already satisfied: seaborn==0.13.2 in d:\\onedrive\\dokumente\\github desktop\\nonsig-master-thesis\\nonsig_venv\\lib\\site-packages (from -r requirements.txt (line 85)) (0.13.2)\n",
      "Requirement already satisfied: setuptools==80.9.0 in d:\\onedrive\\dokumente\\github desktop\\nonsig-master-thesis\\nonsig_venv\\lib\\site-packages (from -r requirements.txt (line 86)) (80.9.0)\n",
      "Requirement already satisfied: six==1.17.0 in d:\\onedrive\\dokumente\\github desktop\\nonsig-master-thesis\\nonsig_venv\\lib\\site-packages (from -r requirements.txt (line 87)) (1.17.0)\n",
      "Requirement already satisfied: stack-data==0.6.3 in d:\\onedrive\\dokumente\\github desktop\\nonsig-master-thesis\\nonsig_venv\\lib\\site-packages (from -r requirements.txt (line 88)) (0.6.3)\n",
      "Requirement already satisfied: sympy==1.14.0 in d:\\onedrive\\dokumente\\github desktop\\nonsig-master-thesis\\nonsig_venv\\lib\\site-packages (from -r requirements.txt (line 89)) (1.14.0)\n",
      "Requirement already satisfied: tensorboard==2.19.0 in d:\\onedrive\\dokumente\\github desktop\\nonsig-master-thesis\\nonsig_venv\\lib\\site-packages (from -r requirements.txt (line 90)) (2.19.0)\n",
      "Requirement already satisfied: tensorboard-data-server==0.7.2 in d:\\onedrive\\dokumente\\github desktop\\nonsig-master-thesis\\nonsig_venv\\lib\\site-packages (from -r requirements.txt (line 91)) (0.7.2)\n",
      "Requirement already satisfied: tensorflow==2.19.0 in d:\\onedrive\\dokumente\\github desktop\\nonsig-master-thesis\\nonsig_venv\\lib\\site-packages (from -r requirements.txt (line 92)) (2.19.0)\n",
      "Requirement already satisfied: termcolor==3.1.0 in d:\\onedrive\\dokumente\\github desktop\\nonsig-master-thesis\\nonsig_venv\\lib\\site-packages (from -r requirements.txt (line 93)) (3.1.0)\n",
      "Requirement already satisfied: tf_keras==2.19.0 in d:\\onedrive\\dokumente\\github desktop\\nonsig-master-thesis\\nonsig_venv\\lib\\site-packages (from -r requirements.txt (line 94)) (2.19.0)\n",
      "Requirement already satisfied: threadpoolctl==3.6.0 in d:\\onedrive\\dokumente\\github desktop\\nonsig-master-thesis\\nonsig_venv\\lib\\site-packages (from -r requirements.txt (line 95)) (3.6.0)\n",
      "Requirement already satisfied: tokenizers==0.21.2 in d:\\onedrive\\dokumente\\github desktop\\nonsig-master-thesis\\nonsig_venv\\lib\\site-packages (from -r requirements.txt (line 96)) (0.21.2)\n",
      "Requirement already satisfied: tornado==6.5.1 in d:\\onedrive\\dokumente\\github desktop\\nonsig-master-thesis\\nonsig_venv\\lib\\site-packages (from -r requirements.txt (line 97)) (6.5.1)\n",
      "Requirement already satisfied: tqdm==4.67.1 in d:\\onedrive\\dokumente\\github desktop\\nonsig-master-thesis\\nonsig_venv\\lib\\site-packages (from -r requirements.txt (line 98)) (4.67.1)\n",
      "Requirement already satisfied: traitlets==5.14.3 in d:\\onedrive\\dokumente\\github desktop\\nonsig-master-thesis\\nonsig_venv\\lib\\site-packages (from -r requirements.txt (line 99)) (5.14.3)\n",
      "Requirement already satisfied: transformers==4.53.1 in d:\\onedrive\\dokumente\\github desktop\\nonsig-master-thesis\\nonsig_venv\\lib\\site-packages (from -r requirements.txt (line 100)) (4.53.1)\n",
      "Requirement already satisfied: typing_extensions==4.14.1 in d:\\onedrive\\dokumente\\github desktop\\nonsig-master-thesis\\nonsig_venv\\lib\\site-packages (from -r requirements.txt (line 101)) (4.14.1)\n",
      "Requirement already satisfied: tzdata==2025.2 in d:\\onedrive\\dokumente\\github desktop\\nonsig-master-thesis\\nonsig_venv\\lib\\site-packages (from -r requirements.txt (line 102)) (2025.2)\n",
      "Requirement already satisfied: urllib3==2.5.0 in d:\\onedrive\\dokumente\\github desktop\\nonsig-master-thesis\\nonsig_venv\\lib\\site-packages (from -r requirements.txt (line 103)) (2.5.0)\n",
      "Requirement already satisfied: wcwidth==0.2.13 in d:\\onedrive\\dokumente\\github desktop\\nonsig-master-thesis\\nonsig_venv\\lib\\site-packages (from -r requirements.txt (line 104)) (0.2.13)\n",
      "Requirement already satisfied: Werkzeug==3.1.3 in d:\\onedrive\\dokumente\\github desktop\\nonsig-master-thesis\\nonsig_venv\\lib\\site-packages (from -r requirements.txt (line 105)) (3.1.3)\n",
      "Requirement already satisfied: wheel==0.45.1 in d:\\onedrive\\dokumente\\github desktop\\nonsig-master-thesis\\nonsig_venv\\lib\\site-packages (from -r requirements.txt (line 106)) (0.45.1)\n",
      "Requirement already satisfied: wrapt==1.17.2 in d:\\onedrive\\dokumente\\github desktop\\nonsig-master-thesis\\nonsig_venv\\lib\\site-packages (from -r requirements.txt (line 107)) (1.17.2)\n",
      "Requirement already satisfied: xxhash==3.5.0 in d:\\onedrive\\dokumente\\github desktop\\nonsig-master-thesis\\nonsig_venv\\lib\\site-packages (from -r requirements.txt (line 108)) (3.5.0)\n",
      "Requirement already satisfied: yarl==1.20.1 in d:\\onedrive\\dokumente\\github desktop\\nonsig-master-thesis\\nonsig_venv\\lib\\site-packages (from -r requirements.txt (line 109)) (1.20.1)\n",
      "Requirement already satisfied: torch>=2.0.0 in d:\\onedrive\\dokumente\\github desktop\\nonsig-master-thesis\\nonsig_venv\\lib\\site-packages (from accelerate==1.8.1->-r requirements.txt (line 2)) (2.7.1+cu128)\n"
     ]
    },
    {
     "name": "stderr",
     "output_type": "stream",
     "text": [
      "\n",
      "[notice] A new release of pip is available: 25.0.1 -> 25.1.1\n",
      "[notice] To update, run: python.exe -m pip install --upgrade pip\n"
     ]
    },
    {
     "name": "stdout",
     "output_type": "stream",
     "text": [
      "Looking in links: https://download.pytorch.org/whl/torch/\n",
      "Requirement already satisfied: torch==2.7.1+cu128 in d:\\onedrive\\dokumente\\github desktop\\nonsig-master-thesis\\nonsig_venv\\lib\\site-packages (2.7.1+cu128)\n",
      "Requirement already satisfied: filelock in d:\\onedrive\\dokumente\\github desktop\\nonsig-master-thesis\\nonsig_venv\\lib\\site-packages (from torch==2.7.1+cu128) (3.18.0)\n",
      "Requirement already satisfied: typing-extensions>=4.10.0 in d:\\onedrive\\dokumente\\github desktop\\nonsig-master-thesis\\nonsig_venv\\lib\\site-packages (from torch==2.7.1+cu128) (4.14.1)\n",
      "Requirement already satisfied: sympy>=1.13.3 in d:\\onedrive\\dokumente\\github desktop\\nonsig-master-thesis\\nonsig_venv\\lib\\site-packages (from torch==2.7.1+cu128) (1.14.0)\n",
      "Requirement already satisfied: networkx in d:\\onedrive\\dokumente\\github desktop\\nonsig-master-thesis\\nonsig_venv\\lib\\site-packages (from torch==2.7.1+cu128) (3.5)\n",
      "Requirement already satisfied: jinja2 in d:\\onedrive\\dokumente\\github desktop\\nonsig-master-thesis\\nonsig_venv\\lib\\site-packages (from torch==2.7.1+cu128) (3.1.6)\n",
      "Requirement already satisfied: fsspec in d:\\onedrive\\dokumente\\github desktop\\nonsig-master-thesis\\nonsig_venv\\lib\\site-packages (from torch==2.7.1+cu128) (2025.3.0)\n",
      "Requirement already satisfied: setuptools in d:\\onedrive\\dokumente\\github desktop\\nonsig-master-thesis\\nonsig_venv\\lib\\site-packages (from torch==2.7.1+cu128) (80.9.0)\n",
      "Requirement already satisfied: mpmath<1.4,>=1.1.0 in d:\\onedrive\\dokumente\\github desktop\\nonsig-master-thesis\\nonsig_venv\\lib\\site-packages (from sympy>=1.13.3->torch==2.7.1+cu128) (1.3.0)\n",
      "Requirement already satisfied: MarkupSafe>=2.0 in d:\\onedrive\\dokumente\\github desktop\\nonsig-master-thesis\\nonsig_venv\\lib\\site-packages (from jinja2->torch==2.7.1+cu128) (3.0.2)\n"
     ]
    },
    {
     "name": "stderr",
     "output_type": "stream",
     "text": [
      "\n",
      "[notice] A new release of pip is available: 25.0.1 -> 25.1.1\n",
      "[notice] To update, run: python.exe -m pip install --upgrade pip\n"
     ]
    },
    {
     "name": "stdout",
     "output_type": "stream",
     "text": [
      "Looking in links: https://download.pytorch.org/whl/torchaudio/\n",
      "Requirement already satisfied: torchaudio==2.7.1+cu128 in d:\\onedrive\\dokumente\\github desktop\\nonsig-master-thesis\\nonsig_venv\\lib\\site-packages (2.7.1+cu128)\n",
      "Requirement already satisfied: torch==2.7.1+cu128 in d:\\onedrive\\dokumente\\github desktop\\nonsig-master-thesis\\nonsig_venv\\lib\\site-packages (from torchaudio==2.7.1+cu128) (2.7.1+cu128)\n",
      "Requirement already satisfied: filelock in d:\\onedrive\\dokumente\\github desktop\\nonsig-master-thesis\\nonsig_venv\\lib\\site-packages (from torch==2.7.1+cu128->torchaudio==2.7.1+cu128) (3.18.0)\n",
      "Requirement already satisfied: typing-extensions>=4.10.0 in d:\\onedrive\\dokumente\\github desktop\\nonsig-master-thesis\\nonsig_venv\\lib\\site-packages (from torch==2.7.1+cu128->torchaudio==2.7.1+cu128) (4.14.1)\n",
      "Requirement already satisfied: sympy>=1.13.3 in d:\\onedrive\\dokumente\\github desktop\\nonsig-master-thesis\\nonsig_venv\\lib\\site-packages (from torch==2.7.1+cu128->torchaudio==2.7.1+cu128) (1.14.0)\n",
      "Requirement already satisfied: networkx in d:\\onedrive\\dokumente\\github desktop\\nonsig-master-thesis\\nonsig_venv\\lib\\site-packages (from torch==2.7.1+cu128->torchaudio==2.7.1+cu128) (3.5)\n",
      "Requirement already satisfied: jinja2 in d:\\onedrive\\dokumente\\github desktop\\nonsig-master-thesis\\nonsig_venv\\lib\\site-packages (from torch==2.7.1+cu128->torchaudio==2.7.1+cu128) (3.1.6)\n",
      "Requirement already satisfied: fsspec in d:\\onedrive\\dokumente\\github desktop\\nonsig-master-thesis\\nonsig_venv\\lib\\site-packages (from torch==2.7.1+cu128->torchaudio==2.7.1+cu128) (2025.3.0)\n",
      "Requirement already satisfied: setuptools in d:\\onedrive\\dokumente\\github desktop\\nonsig-master-thesis\\nonsig_venv\\lib\\site-packages (from torch==2.7.1+cu128->torchaudio==2.7.1+cu128) (80.9.0)\n",
      "Requirement already satisfied: mpmath<1.4,>=1.1.0 in d:\\onedrive\\dokumente\\github desktop\\nonsig-master-thesis\\nonsig_venv\\lib\\site-packages (from sympy>=1.13.3->torch==2.7.1+cu128->torchaudio==2.7.1+cu128) (1.3.0)\n",
      "Requirement already satisfied: MarkupSafe>=2.0 in d:\\onedrive\\dokumente\\github desktop\\nonsig-master-thesis\\nonsig_venv\\lib\\site-packages (from jinja2->torch==2.7.1+cu128->torchaudio==2.7.1+cu128) (3.0.2)\n"
     ]
    },
    {
     "name": "stderr",
     "output_type": "stream",
     "text": [
      "\n",
      "[notice] A new release of pip is available: 25.0.1 -> 25.1.1\n",
      "[notice] To update, run: python.exe -m pip install --upgrade pip\n"
     ]
    },
    {
     "name": "stdout",
     "output_type": "stream",
     "text": [
      "Looking in links: https://download.pytorch.org/whl/torchvision/\n",
      "Requirement already satisfied: torchvision==0.22.1+cu128 in d:\\onedrive\\dokumente\\github desktop\\nonsig-master-thesis\\nonsig_venv\\lib\\site-packages (0.22.1+cu128)\n",
      "Requirement already satisfied: numpy in d:\\onedrive\\dokumente\\github desktop\\nonsig-master-thesis\\nonsig_venv\\lib\\site-packages (from torchvision==0.22.1+cu128) (2.1.3)\n",
      "Requirement already satisfied: torch==2.7.1+cu128 in d:\\onedrive\\dokumente\\github desktop\\nonsig-master-thesis\\nonsig_venv\\lib\\site-packages (from torchvision==0.22.1+cu128) (2.7.1+cu128)\n",
      "Requirement already satisfied: pillow!=8.3.*,>=5.3.0 in d:\\onedrive\\dokumente\\github desktop\\nonsig-master-thesis\\nonsig_venv\\lib\\site-packages (from torchvision==0.22.1+cu128) (11.3.0)\n",
      "Requirement already satisfied: filelock in d:\\onedrive\\dokumente\\github desktop\\nonsig-master-thesis\\nonsig_venv\\lib\\site-packages (from torch==2.7.1+cu128->torchvision==0.22.1+cu128) (3.18.0)\n",
      "Requirement already satisfied: typing-extensions>=4.10.0 in d:\\onedrive\\dokumente\\github desktop\\nonsig-master-thesis\\nonsig_venv\\lib\\site-packages (from torch==2.7.1+cu128->torchvision==0.22.1+cu128) (4.14.1)\n",
      "Requirement already satisfied: sympy>=1.13.3 in d:\\onedrive\\dokumente\\github desktop\\nonsig-master-thesis\\nonsig_venv\\lib\\site-packages (from torch==2.7.1+cu128->torchvision==0.22.1+cu128) (1.14.0)\n",
      "Requirement already satisfied: networkx in d:\\onedrive\\dokumente\\github desktop\\nonsig-master-thesis\\nonsig_venv\\lib\\site-packages (from torch==2.7.1+cu128->torchvision==0.22.1+cu128) (3.5)\n",
      "Requirement already satisfied: jinja2 in d:\\onedrive\\dokumente\\github desktop\\nonsig-master-thesis\\nonsig_venv\\lib\\site-packages (from torch==2.7.1+cu128->torchvision==0.22.1+cu128) (3.1.6)\n",
      "Requirement already satisfied: fsspec in d:\\onedrive\\dokumente\\github desktop\\nonsig-master-thesis\\nonsig_venv\\lib\\site-packages (from torch==2.7.1+cu128->torchvision==0.22.1+cu128) (2025.3.0)\n",
      "Requirement already satisfied: setuptools in d:\\onedrive\\dokumente\\github desktop\\nonsig-master-thesis\\nonsig_venv\\lib\\site-packages (from torch==2.7.1+cu128->torchvision==0.22.1+cu128) (80.9.0)\n",
      "Requirement already satisfied: mpmath<1.4,>=1.1.0 in d:\\onedrive\\dokumente\\github desktop\\nonsig-master-thesis\\nonsig_venv\\lib\\site-packages (from sympy>=1.13.3->torch==2.7.1+cu128->torchvision==0.22.1+cu128) (1.3.0)\n",
      "Requirement already satisfied: MarkupSafe>=2.0 in d:\\onedrive\\dokumente\\github desktop\\nonsig-master-thesis\\nonsig_venv\\lib\\site-packages (from jinja2->torch==2.7.1+cu128->torchvision==0.22.1+cu128) (3.0.2)\n"
     ]
    },
    {
     "name": "stderr",
     "output_type": "stream",
     "text": [
      "\n",
      "[notice] A new release of pip is available: 25.0.1 -> 25.1.1\n",
      "[notice] To update, run: python.exe -m pip install --upgrade pip\n"
     ]
    }
   ],
   "source": [
    "! pip install -r requirements.txt\n",
    "\n",
    "# If you work with GPU-support:\n",
    "! pip install torch==2.7.1+cu128 -f https://download.pytorch.org/whl/torch/\n",
    "! pip install torchaudio==2.7.1+cu128 -f https://download.pytorch.org/whl/torchaudio/\n",
    "! pip install torchvision==0.22.1+cu128 -f https://download.pytorch.org/whl/torchvision/\n",
    "\n",
    "# If you only work with CPU-support:\n",
    "# ! pip install torch==2.7.1\n",
    "# ! pip install torchaudio==2.7.1\n",
    "# ! pip install torchvision==0.22.1"
   ]
  },
  {
   "cell_type": "markdown",
   "id": "6d5fa995",
   "metadata": {},
   "source": [
    "### 0.2 GPU setup"
   ]
  },
  {
   "cell_type": "code",
   "execution_count": 2,
   "id": "a3336508",
   "metadata": {},
   "outputs": [
    {
     "name": "stderr",
     "output_type": "stream",
     "text": [
      "d:\\OneDrive\\Dokumente\\GitHub Desktop\\nonsig-master-thesis\\nonsig_venv\\Lib\\site-packages\\tqdm\\auto.py:21: TqdmWarning: IProgress not found. Please update jupyter and ipywidgets. See https://ipywidgets.readthedocs.io/en/stable/user_install.html\n",
      "  from .autonotebook import tqdm as notebook_tqdm\n"
     ]
    }
   ],
   "source": [
    "# Load necessary libraries\n",
    "import pandas as pd\n",
    "import torch\n",
    "from transformers import AutoTokenizer, AutoModelForSequenceClassification\n",
    "from torch.utils.data import DataLoader, TensorDataset, SequentialSampler\n",
    "from tqdm import tqdm"
   ]
  },
  {
   "cell_type": "markdown",
   "id": "19253634",
   "metadata": {},
   "source": [
    "## 1. Configuration"
   ]
  },
  {
   "cell_type": "code",
   "execution_count": null,
   "id": "ff026edd",
   "metadata": {},
   "outputs": [],
   "source": [
    "MODEL_DIR = \"./best_model\"  # path to saved model\n",
    "CSV_PATH = r\"../../data/validation_data/validation_labeled.xlsx\"\n",
    "OUTPUT_PATH = \"new_statements_with_preds.csv\"\n",
    "TEXT_COLUMN = \"expanded\"\n",
    "LABEL_COLUMN = \"label_pred\"\n",
    "MAX_LENGTH = 350  # or whatever you used during training\n",
    "BATCH_SIZE = 8\n",
    "DEVICE = torch.device(\"cuda\" if torch.cuda.is_available() else \"cpu\")"
   ]
  },
  {
   "cell_type": "markdown",
   "id": "050e4828",
   "metadata": {},
   "source": [
    "## 2. Load model, tokenizer and data"
   ]
  },
  {
   "cell_type": "code",
   "execution_count": 4,
   "id": "ec7408e3",
   "metadata": {},
   "outputs": [
    {
     "name": "stdout",
     "output_type": "stream",
     "text": [
      "Loading model...\n"
     ]
    },
    {
     "data": {
      "text/plain": [
       "BertForSequenceClassification(\n",
       "  (bert): BertModel(\n",
       "    (embeddings): BertEmbeddings(\n",
       "      (word_embeddings): Embedding(30522, 768, padding_idx=0)\n",
       "      (position_embeddings): Embedding(512, 768)\n",
       "      (token_type_embeddings): Embedding(2, 768)\n",
       "      (LayerNorm): LayerNorm((768,), eps=1e-12, elementwise_affine=True)\n",
       "      (dropout): Dropout(p=0.1, inplace=False)\n",
       "    )\n",
       "    (encoder): BertEncoder(\n",
       "      (layer): ModuleList(\n",
       "        (0-11): 12 x BertLayer(\n",
       "          (attention): BertAttention(\n",
       "            (self): BertSdpaSelfAttention(\n",
       "              (query): Linear(in_features=768, out_features=768, bias=True)\n",
       "              (key): Linear(in_features=768, out_features=768, bias=True)\n",
       "              (value): Linear(in_features=768, out_features=768, bias=True)\n",
       "              (dropout): Dropout(p=0.1, inplace=False)\n",
       "            )\n",
       "            (output): BertSelfOutput(\n",
       "              (dense): Linear(in_features=768, out_features=768, bias=True)\n",
       "              (LayerNorm): LayerNorm((768,), eps=1e-12, elementwise_affine=True)\n",
       "              (dropout): Dropout(p=0.1, inplace=False)\n",
       "            )\n",
       "          )\n",
       "          (intermediate): BertIntermediate(\n",
       "            (dense): Linear(in_features=768, out_features=3072, bias=True)\n",
       "            (intermediate_act_fn): GELUActivation()\n",
       "          )\n",
       "          (output): BertOutput(\n",
       "            (dense): Linear(in_features=3072, out_features=768, bias=True)\n",
       "            (LayerNorm): LayerNorm((768,), eps=1e-12, elementwise_affine=True)\n",
       "            (dropout): Dropout(p=0.1, inplace=False)\n",
       "          )\n",
       "        )\n",
       "      )\n",
       "    )\n",
       "    (pooler): BertPooler(\n",
       "      (dense): Linear(in_features=768, out_features=768, bias=True)\n",
       "      (activation): Tanh()\n",
       "    )\n",
       "  )\n",
       "  (dropout): Dropout(p=0.1, inplace=False)\n",
       "  (classifier): Linear(in_features=768, out_features=2, bias=True)\n",
       ")"
      ]
     },
     "execution_count": 4,
     "metadata": {},
     "output_type": "execute_result"
    }
   ],
   "source": [
    "# Load model and tokenizer\n",
    "print(\"Loading model...\")\n",
    "model = AutoModelForSequenceClassification.from_pretrained(MODEL_DIR)\n",
    "tokenizer = AutoTokenizer.from_pretrained(MODEL_DIR)\n",
    "model.to(DEVICE)\n",
    "model.eval()"
   ]
  },
  {
   "cell_type": "code",
   "execution_count": 16,
   "id": "1789fc47",
   "metadata": {},
   "outputs": [
    {
     "name": "stdout",
     "output_type": "stream",
     "text": [
      "Tokenizing...\n"
     ]
    }
   ],
   "source": [
    "# Load and preprocess data\n",
    "df = pd.read_csv(CSV_PATH)\n",
    "texts = df[TEXT_COLUMN].tolist()\n",
    "\n",
    "print(\"Tokenizing...\")\n",
    "encodings = tokenizer(texts, truncation=True, padding=True, max_length=MAX_LENGTH, return_tensors=\"pt\")\n",
    "input_ids = encodings[\"input_ids\"]\n",
    "attention_mask = encodings[\"attention_mask\"]\n",
    "\n",
    "dataset = TensorDataset(input_ids, attention_mask)\n",
    "dataloader = DataLoader(dataset, sampler=SequentialSampler(dataset), batch_size=BATCH_SIZE)"
   ]
  },
  {
   "cell_type": "markdown",
   "id": "c2e53af8",
   "metadata": {},
   "source": [
    "## 3. Run predictions"
   ]
  },
  {
   "cell_type": "code",
   "execution_count": 17,
   "id": "2e797a35",
   "metadata": {},
   "outputs": [
    {
     "name": "stdout",
     "output_type": "stream",
     "text": [
      "Running inference...\n"
     ]
    },
    {
     "name": "stderr",
     "output_type": "stream",
     "text": [
      "100%|██████████| 2/2 [00:01<00:00,  1.94it/s]\n"
     ]
    }
   ],
   "source": [
    "print(\"Running inference...\")\n",
    "all_preds = []\n",
    "\n",
    "with torch.no_grad():\n",
    "    for batch in tqdm(dataloader):\n",
    "        batch = [item.to(DEVICE) for item in batch]\n",
    "        outputs = model(input_ids=batch[0], attention_mask=batch[1])\n",
    "        logits = outputs.logits\n",
    "        preds = torch.argmax(logits, dim=1)\n",
    "        all_preds.extend(preds.cpu().numpy())"
   ]
  },
  {
   "cell_type": "markdown",
   "id": "ecff339a",
   "metadata": {},
   "source": [
    "### 3.1 Save predicted labels to data file"
   ]
  },
  {
   "cell_type": "code",
   "execution_count": 18,
   "id": "8f28446b",
   "metadata": {},
   "outputs": [
    {
     "name": "stdout",
     "output_type": "stream",
     "text": [
      "Predictions saved to new_statements_with_preds.csv\n"
     ]
    }
   ],
   "source": [
    "df[LABEL_COLUMN] = all_preds\n",
    "df.to_csv(OUTPUT_PATH, index=False)\n",
    "print(f\"Predictions saved to {OUTPUT_PATH}\")"
   ]
  },
  {
   "cell_type": "code",
   "execution_count": null,
   "id": "56e5e265",
   "metadata": {},
   "outputs": [],
   "source": [
    "# The end..."
   ]
  }
 ],
 "metadata": {
  "kernelspec": {
   "display_name": "nonsig_kernel",
   "language": "python",
   "name": "nonsig_kernel"
  },
  "language_info": {
   "codemirror_mode": {
    "name": "ipython",
    "version": 3
   },
   "file_extension": ".py",
   "mimetype": "text/x-python",
   "name": "python",
   "nbconvert_exporter": "python",
   "pygments_lexer": "ipython3",
   "version": "3.12.10"
  }
 },
 "nbformat": 4,
 "nbformat_minor": 5
}
