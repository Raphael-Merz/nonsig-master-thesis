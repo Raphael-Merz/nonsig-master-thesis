{
 "cells": [
  {
   "cell_type": "markdown",
   "id": "5e0f8a44",
   "metadata": {},
   "source": [
    "# Training BERT, SciBERT and PubMedBERT"
   ]
  },
  {
   "cell_type": "markdown",
   "id": "ef72840b",
   "metadata": {},
   "source": [
    "## 0. Setup"
   ]
  },
  {
   "cell_type": "markdown",
   "id": "32992dd0",
   "metadata": {},
   "source": [
    "### 0.1 Install libraries"
   ]
  },
  {
   "cell_type": "code",
   "execution_count": 1,
   "id": "da13a949",
   "metadata": {},
   "outputs": [
    {
     "name": "stdout",
     "output_type": "stream",
     "text": [
      "Requirement already satisfied: absl-py==2.3.1 in c:\\users\\raphael\\documents\\github\\nonsig-master-thesis\\venv\\lib\\site-packages (from -r requirements.txt (line 1)) (2.3.1)\n",
      "Requirement already satisfied: accelerate==1.8.1 in c:\\users\\raphael\\documents\\github\\nonsig-master-thesis\\venv\\lib\\site-packages (from -r requirements.txt (line 2)) (1.8.1)\n",
      "Requirement already satisfied: aiohappyeyeballs==2.6.1 in c:\\users\\raphael\\documents\\github\\nonsig-master-thesis\\venv\\lib\\site-packages (from -r requirements.txt (line 3)) (2.6.1)\n",
      "Requirement already satisfied: aiohttp==3.12.13 in c:\\users\\raphael\\documents\\github\\nonsig-master-thesis\\venv\\lib\\site-packages (from -r requirements.txt (line 4)) (3.12.13)\n",
      "Requirement already satisfied: aiosignal==1.4.0 in c:\\users\\raphael\\documents\\github\\nonsig-master-thesis\\venv\\lib\\site-packages (from -r requirements.txt (line 5)) (1.4.0)\n",
      "Requirement already satisfied: asttokens==3.0.0 in c:\\users\\raphael\\documents\\github\\nonsig-master-thesis\\venv\\lib\\site-packages (from -r requirements.txt (line 6)) (3.0.0)\n",
      "Requirement already satisfied: astunparse==1.6.3 in c:\\users\\raphael\\documents\\github\\nonsig-master-thesis\\venv\\lib\\site-packages (from -r requirements.txt (line 7)) (1.6.3)\n",
      "Requirement already satisfied: attrs==25.3.0 in c:\\users\\raphael\\documents\\github\\nonsig-master-thesis\\venv\\lib\\site-packages (from -r requirements.txt (line 8)) (25.3.0)\n",
      "Requirement already satisfied: certifi==2025.6.15 in c:\\users\\raphael\\documents\\github\\nonsig-master-thesis\\venv\\lib\\site-packages (from -r requirements.txt (line 9)) (2025.6.15)\n",
      "Requirement already satisfied: charset-normalizer==3.4.2 in c:\\users\\raphael\\documents\\github\\nonsig-master-thesis\\venv\\lib\\site-packages (from -r requirements.txt (line 10)) (3.4.2)\n",
      "Requirement already satisfied: colorama==0.4.6 in c:\\users\\raphael\\documents\\github\\nonsig-master-thesis\\venv\\lib\\site-packages (from -r requirements.txt (line 11)) (0.4.6)\n",
      "Requirement already satisfied: comm==0.2.2 in c:\\users\\raphael\\documents\\github\\nonsig-master-thesis\\venv\\lib\\site-packages (from -r requirements.txt (line 12)) (0.2.2)\n",
      "Requirement already satisfied: contourpy==1.3.2 in c:\\users\\raphael\\documents\\github\\nonsig-master-thesis\\venv\\lib\\site-packages (from -r requirements.txt (line 13)) (1.3.2)\n",
      "Requirement already satisfied: cycler==0.12.1 in c:\\users\\raphael\\documents\\github\\nonsig-master-thesis\\venv\\lib\\site-packages (from -r requirements.txt (line 14)) (0.12.1)\n",
      "Requirement already satisfied: datasets==3.6.0 in c:\\users\\raphael\\documents\\github\\nonsig-master-thesis\\venv\\lib\\site-packages (from -r requirements.txt (line 15)) (3.6.0)\n",
      "Requirement already satisfied: debugpy==1.8.14 in c:\\users\\raphael\\documents\\github\\nonsig-master-thesis\\venv\\lib\\site-packages (from -r requirements.txt (line 16)) (1.8.14)\n",
      "Requirement already satisfied: decorator==5.2.1 in c:\\users\\raphael\\documents\\github\\nonsig-master-thesis\\venv\\lib\\site-packages (from -r requirements.txt (line 17)) (5.2.1)\n",
      "Requirement already satisfied: dill==0.3.8 in c:\\users\\raphael\\documents\\github\\nonsig-master-thesis\\venv\\lib\\site-packages (from -r requirements.txt (line 18)) (0.3.8)\n",
      "Requirement already satisfied: et_xmlfile==2.0.0 in c:\\users\\raphael\\documents\\github\\nonsig-master-thesis\\venv\\lib\\site-packages (from -r requirements.txt (line 19)) (2.0.0)\n",
      "Requirement already satisfied: evaluate==0.4.4 in c:\\users\\raphael\\documents\\github\\nonsig-master-thesis\\venv\\lib\\site-packages (from -r requirements.txt (line 20)) (0.4.4)\n",
      "Requirement already satisfied: executing==2.2.0 in c:\\users\\raphael\\documents\\github\\nonsig-master-thesis\\venv\\lib\\site-packages (from -r requirements.txt (line 21)) (2.2.0)\n",
      "Requirement already satisfied: filelock==3.18.0 in c:\\users\\raphael\\documents\\github\\nonsig-master-thesis\\venv\\lib\\site-packages (from -r requirements.txt (line 22)) (3.18.0)\n",
      "Requirement already satisfied: flatbuffers==25.2.10 in c:\\users\\raphael\\documents\\github\\nonsig-master-thesis\\venv\\lib\\site-packages (from -r requirements.txt (line 23)) (25.2.10)\n",
      "Requirement already satisfied: fonttools==4.58.5 in c:\\users\\raphael\\documents\\github\\nonsig-master-thesis\\venv\\lib\\site-packages (from -r requirements.txt (line 24)) (4.58.5)\n",
      "Requirement already satisfied: frozenlist==1.7.0 in c:\\users\\raphael\\documents\\github\\nonsig-master-thesis\\venv\\lib\\site-packages (from -r requirements.txt (line 25)) (1.7.0)\n",
      "Requirement already satisfied: fsspec==2025.3.0 in c:\\users\\raphael\\documents\\github\\nonsig-master-thesis\\venv\\lib\\site-packages (from -r requirements.txt (line 26)) (2025.3.0)\n",
      "Requirement already satisfied: gast==0.6.0 in c:\\users\\raphael\\documents\\github\\nonsig-master-thesis\\venv\\lib\\site-packages (from -r requirements.txt (line 27)) (0.6.0)\n",
      "Requirement already satisfied: google-pasta==0.2.0 in c:\\users\\raphael\\documents\\github\\nonsig-master-thesis\\venv\\lib\\site-packages (from -r requirements.txt (line 28)) (0.2.0)\n",
      "Requirement already satisfied: grpcio==1.73.1 in c:\\users\\raphael\\documents\\github\\nonsig-master-thesis\\venv\\lib\\site-packages (from -r requirements.txt (line 29)) (1.73.1)\n",
      "Requirement already satisfied: h5py==3.14.0 in c:\\users\\raphael\\documents\\github\\nonsig-master-thesis\\venv\\lib\\site-packages (from -r requirements.txt (line 30)) (3.14.0)\n",
      "Requirement already satisfied: huggingface-hub==0.33.2 in c:\\users\\raphael\\documents\\github\\nonsig-master-thesis\\venv\\lib\\site-packages (from -r requirements.txt (line 31)) (0.33.2)\n",
      "Requirement already satisfied: idna==3.10 in c:\\users\\raphael\\documents\\github\\nonsig-master-thesis\\venv\\lib\\site-packages (from -r requirements.txt (line 32)) (3.10)\n",
      "Requirement already satisfied: ipykernel==6.29.5 in c:\\users\\raphael\\documents\\github\\nonsig-master-thesis\\venv\\lib\\site-packages (from -r requirements.txt (line 33)) (6.29.5)\n",
      "Requirement already satisfied: ipython==9.4.0 in c:\\users\\raphael\\documents\\github\\nonsig-master-thesis\\venv\\lib\\site-packages (from -r requirements.txt (line 34)) (9.4.0)\n",
      "Requirement already satisfied: ipython_pygments_lexers==1.1.1 in c:\\users\\raphael\\documents\\github\\nonsig-master-thesis\\venv\\lib\\site-packages (from -r requirements.txt (line 35)) (1.1.1)\n",
      "Requirement already satisfied: jedi==0.19.2 in c:\\users\\raphael\\documents\\github\\nonsig-master-thesis\\venv\\lib\\site-packages (from -r requirements.txt (line 36)) (0.19.2)\n",
      "Requirement already satisfied: Jinja2==3.1.6 in c:\\users\\raphael\\documents\\github\\nonsig-master-thesis\\venv\\lib\\site-packages (from -r requirements.txt (line 37)) (3.1.6)\n",
      "Requirement already satisfied: joblib==1.5.1 in c:\\users\\raphael\\documents\\github\\nonsig-master-thesis\\venv\\lib\\site-packages (from -r requirements.txt (line 38)) (1.5.1)\n",
      "Requirement already satisfied: jupyter_client==8.6.3 in c:\\users\\raphael\\documents\\github\\nonsig-master-thesis\\venv\\lib\\site-packages (from -r requirements.txt (line 39)) (8.6.3)\n",
      "Requirement already satisfied: jupyter_core==5.8.1 in c:\\users\\raphael\\documents\\github\\nonsig-master-thesis\\venv\\lib\\site-packages (from -r requirements.txt (line 40)) (5.8.1)\n",
      "Requirement already satisfied: keras==3.10.0 in c:\\users\\raphael\\documents\\github\\nonsig-master-thesis\\venv\\lib\\site-packages (from -r requirements.txt (line 41)) (3.10.0)\n",
      "Requirement already satisfied: kiwisolver==1.4.8 in c:\\users\\raphael\\documents\\github\\nonsig-master-thesis\\venv\\lib\\site-packages (from -r requirements.txt (line 42)) (1.4.8)\n",
      "Requirement already satisfied: libclang==18.1.1 in c:\\users\\raphael\\documents\\github\\nonsig-master-thesis\\venv\\lib\\site-packages (from -r requirements.txt (line 43)) (18.1.1)\n",
      "Requirement already satisfied: Markdown==3.8.2 in c:\\users\\raphael\\documents\\github\\nonsig-master-thesis\\venv\\lib\\site-packages (from -r requirements.txt (line 44)) (3.8.2)\n",
      "Requirement already satisfied: markdown-it-py==3.0.0 in c:\\users\\raphael\\documents\\github\\nonsig-master-thesis\\venv\\lib\\site-packages (from -r requirements.txt (line 45)) (3.0.0)\n",
      "Requirement already satisfied: MarkupSafe==3.0.2 in c:\\users\\raphael\\documents\\github\\nonsig-master-thesis\\venv\\lib\\site-packages (from -r requirements.txt (line 46)) (3.0.2)\n",
      "Requirement already satisfied: matplotlib==3.10.3 in c:\\users\\raphael\\documents\\github\\nonsig-master-thesis\\venv\\lib\\site-packages (from -r requirements.txt (line 47)) (3.10.3)\n",
      "Requirement already satisfied: matplotlib-inline==0.1.7 in c:\\users\\raphael\\documents\\github\\nonsig-master-thesis\\venv\\lib\\site-packages (from -r requirements.txt (line 48)) (0.1.7)\n",
      "Requirement already satisfied: mdurl==0.1.2 in c:\\users\\raphael\\documents\\github\\nonsig-master-thesis\\venv\\lib\\site-packages (from -r requirements.txt (line 49)) (0.1.2)\n",
      "Requirement already satisfied: ml_dtypes==0.5.1 in c:\\users\\raphael\\documents\\github\\nonsig-master-thesis\\venv\\lib\\site-packages (from -r requirements.txt (line 50)) (0.5.1)\n",
      "Requirement already satisfied: mpmath==1.3.0 in c:\\users\\raphael\\documents\\github\\nonsig-master-thesis\\venv\\lib\\site-packages (from -r requirements.txt (line 51)) (1.3.0)\n",
      "Requirement already satisfied: multidict==6.6.3 in c:\\users\\raphael\\documents\\github\\nonsig-master-thesis\\venv\\lib\\site-packages (from -r requirements.txt (line 52)) (6.6.3)\n",
      "Requirement already satisfied: multiprocess==0.70.16 in c:\\users\\raphael\\documents\\github\\nonsig-master-thesis\\venv\\lib\\site-packages (from -r requirements.txt (line 53)) (0.70.16)\n",
      "Requirement already satisfied: namex==0.1.0 in c:\\users\\raphael\\documents\\github\\nonsig-master-thesis\\venv\\lib\\site-packages (from -r requirements.txt (line 54)) (0.1.0)\n",
      "Requirement already satisfied: nest-asyncio==1.6.0 in c:\\users\\raphael\\documents\\github\\nonsig-master-thesis\\venv\\lib\\site-packages (from -r requirements.txt (line 55)) (1.6.0)\n",
      "Requirement already satisfied: networkx==3.5 in c:\\users\\raphael\\documents\\github\\nonsig-master-thesis\\venv\\lib\\site-packages (from -r requirements.txt (line 56)) (3.5)\n",
      "Requirement already satisfied: numpy==2.1.3 in c:\\users\\raphael\\documents\\github\\nonsig-master-thesis\\venv\\lib\\site-packages (from -r requirements.txt (line 57)) (2.1.3)\n",
      "Requirement already satisfied: openpyxl==3.1.5 in c:\\users\\raphael\\documents\\github\\nonsig-master-thesis\\venv\\lib\\site-packages (from -r requirements.txt (line 58)) (3.1.5)\n",
      "Requirement already satisfied: opt_einsum==3.4.0 in c:\\users\\raphael\\documents\\github\\nonsig-master-thesis\\venv\\lib\\site-packages (from -r requirements.txt (line 59)) (3.4.0)\n",
      "Requirement already satisfied: optree==0.16.0 in c:\\users\\raphael\\documents\\github\\nonsig-master-thesis\\venv\\lib\\site-packages (from -r requirements.txt (line 60)) (0.16.0)\n",
      "Requirement already satisfied: packaging==25.0 in c:\\users\\raphael\\documents\\github\\nonsig-master-thesis\\venv\\lib\\site-packages (from -r requirements.txt (line 61)) (25.0)\n",
      "Requirement already satisfied: pandas==2.3.1 in c:\\users\\raphael\\documents\\github\\nonsig-master-thesis\\venv\\lib\\site-packages (from -r requirements.txt (line 62)) (2.3.1)\n",
      "Requirement already satisfied: parso==0.8.4 in c:\\users\\raphael\\documents\\github\\nonsig-master-thesis\\venv\\lib\\site-packages (from -r requirements.txt (line 63)) (0.8.4)\n",
      "Requirement already satisfied: pillow==11.3.0 in c:\\users\\raphael\\documents\\github\\nonsig-master-thesis\\venv\\lib\\site-packages (from -r requirements.txt (line 64)) (11.3.0)\n",
      "Requirement already satisfied: platformdirs==4.3.8 in c:\\users\\raphael\\documents\\github\\nonsig-master-thesis\\venv\\lib\\site-packages (from -r requirements.txt (line 65)) (4.3.8)\n",
      "Requirement already satisfied: prompt_toolkit==3.0.51 in c:\\users\\raphael\\documents\\github\\nonsig-master-thesis\\venv\\lib\\site-packages (from -r requirements.txt (line 66)) (3.0.51)\n",
      "Requirement already satisfied: propcache==0.3.2 in c:\\users\\raphael\\documents\\github\\nonsig-master-thesis\\venv\\lib\\site-packages (from -r requirements.txt (line 67)) (0.3.2)\n",
      "Requirement already satisfied: protobuf==5.29.5 in c:\\users\\raphael\\documents\\github\\nonsig-master-thesis\\venv\\lib\\site-packages (from -r requirements.txt (line 68)) (5.29.5)\n",
      "Requirement already satisfied: psutil==7.0.0 in c:\\users\\raphael\\documents\\github\\nonsig-master-thesis\\venv\\lib\\site-packages (from -r requirements.txt (line 69)) (7.0.0)\n",
      "Requirement already satisfied: pure_eval==0.2.3 in c:\\users\\raphael\\documents\\github\\nonsig-master-thesis\\venv\\lib\\site-packages (from -r requirements.txt (line 70)) (0.2.3)\n",
      "Requirement already satisfied: pyarrow==20.0.0 in c:\\users\\raphael\\documents\\github\\nonsig-master-thesis\\venv\\lib\\site-packages (from -r requirements.txt (line 71)) (20.0.0)\n",
      "Requirement already satisfied: Pygments==2.19.2 in c:\\users\\raphael\\documents\\github\\nonsig-master-thesis\\venv\\lib\\site-packages (from -r requirements.txt (line 72)) (2.19.2)\n",
      "Requirement already satisfied: pyparsing==3.2.3 in c:\\users\\raphael\\documents\\github\\nonsig-master-thesis\\venv\\lib\\site-packages (from -r requirements.txt (line 73)) (3.2.3)\n",
      "Requirement already satisfied: python-dateutil==2.9.0.post0 in c:\\users\\raphael\\documents\\github\\nonsig-master-thesis\\venv\\lib\\site-packages (from -r requirements.txt (line 74)) (2.9.0.post0)\n",
      "Requirement already satisfied: pytz==2025.2 in c:\\users\\raphael\\documents\\github\\nonsig-master-thesis\\venv\\lib\\site-packages (from -r requirements.txt (line 75)) (2025.2)\n",
      "Requirement already satisfied: pywin32==310 in c:\\users\\raphael\\documents\\github\\nonsig-master-thesis\\venv\\lib\\site-packages (from -r requirements.txt (line 76)) (310)\n",
      "Requirement already satisfied: PyYAML==6.0.2 in c:\\users\\raphael\\documents\\github\\nonsig-master-thesis\\venv\\lib\\site-packages (from -r requirements.txt (line 77)) (6.0.2)\n",
      "Requirement already satisfied: pyzmq==27.0.0 in c:\\users\\raphael\\documents\\github\\nonsig-master-thesis\\venv\\lib\\site-packages (from -r requirements.txt (line 78)) (27.0.0)\n",
      "Requirement already satisfied: regex==2024.11.6 in c:\\users\\raphael\\documents\\github\\nonsig-master-thesis\\venv\\lib\\site-packages (from -r requirements.txt (line 79)) (2024.11.6)\n",
      "Requirement already satisfied: requests==2.32.4 in c:\\users\\raphael\\documents\\github\\nonsig-master-thesis\\venv\\lib\\site-packages (from -r requirements.txt (line 80)) (2.32.4)\n",
      "Requirement already satisfied: rich==14.0.0 in c:\\users\\raphael\\documents\\github\\nonsig-master-thesis\\venv\\lib\\site-packages (from -r requirements.txt (line 81)) (14.0.0)\n",
      "Requirement already satisfied: safetensors==0.5.3 in c:\\users\\raphael\\documents\\github\\nonsig-master-thesis\\venv\\lib\\site-packages (from -r requirements.txt (line 82)) (0.5.3)\n",
      "Requirement already satisfied: scikit-learn==1.7.0 in c:\\users\\raphael\\documents\\github\\nonsig-master-thesis\\venv\\lib\\site-packages (from -r requirements.txt (line 83)) (1.7.0)\n",
      "Requirement already satisfied: scipy==1.16.0 in c:\\users\\raphael\\documents\\github\\nonsig-master-thesis\\venv\\lib\\site-packages (from -r requirements.txt (line 84)) (1.16.0)\n",
      "Requirement already satisfied: seaborn==0.13.2 in c:\\users\\raphael\\documents\\github\\nonsig-master-thesis\\venv\\lib\\site-packages (from -r requirements.txt (line 85)) (0.13.2)\n",
      "Requirement already satisfied: setuptools==80.9.0 in c:\\users\\raphael\\documents\\github\\nonsig-master-thesis\\venv\\lib\\site-packages (from -r requirements.txt (line 86)) (80.9.0)\n",
      "Requirement already satisfied: six==1.17.0 in c:\\users\\raphael\\documents\\github\\nonsig-master-thesis\\venv\\lib\\site-packages (from -r requirements.txt (line 87)) (1.17.0)\n",
      "Requirement already satisfied: stack-data==0.6.3 in c:\\users\\raphael\\documents\\github\\nonsig-master-thesis\\venv\\lib\\site-packages (from -r requirements.txt (line 88)) (0.6.3)\n",
      "Requirement already satisfied: sympy==1.14.0 in c:\\users\\raphael\\documents\\github\\nonsig-master-thesis\\venv\\lib\\site-packages (from -r requirements.txt (line 89)) (1.14.0)\n",
      "Requirement already satisfied: tensorboard==2.19.0 in c:\\users\\raphael\\documents\\github\\nonsig-master-thesis\\venv\\lib\\site-packages (from -r requirements.txt (line 90)) (2.19.0)\n",
      "Requirement already satisfied: tensorboard-data-server==0.7.2 in c:\\users\\raphael\\documents\\github\\nonsig-master-thesis\\venv\\lib\\site-packages (from -r requirements.txt (line 91)) (0.7.2)\n",
      "Requirement already satisfied: tensorflow==2.19.0 in c:\\users\\raphael\\documents\\github\\nonsig-master-thesis\\venv\\lib\\site-packages (from -r requirements.txt (line 92)) (2.19.0)\n",
      "Requirement already satisfied: termcolor==3.1.0 in c:\\users\\raphael\\documents\\github\\nonsig-master-thesis\\venv\\lib\\site-packages (from -r requirements.txt (line 93)) (3.1.0)\n",
      "Requirement already satisfied: tf_keras==2.19.0 in c:\\users\\raphael\\documents\\github\\nonsig-master-thesis\\venv\\lib\\site-packages (from -r requirements.txt (line 94)) (2.19.0)\n",
      "Requirement already satisfied: threadpoolctl==3.6.0 in c:\\users\\raphael\\documents\\github\\nonsig-master-thesis\\venv\\lib\\site-packages (from -r requirements.txt (line 95)) (3.6.0)\n",
      "Requirement already satisfied: tokenizers==0.21.2 in c:\\users\\raphael\\documents\\github\\nonsig-master-thesis\\venv\\lib\\site-packages (from -r requirements.txt (line 96)) (0.21.2)\n",
      "Requirement already satisfied: torch==2.7.1+cu128 in c:\\users\\raphael\\documents\\github\\nonsig-master-thesis\\venv\\lib\\site-packages (from -r requirements.txt (line 97)) (2.7.1+cu128)\n",
      "Requirement already satisfied: torchaudio==2.7.1+cu128 in c:\\users\\raphael\\documents\\github\\nonsig-master-thesis\\venv\\lib\\site-packages (from -r requirements.txt (line 98)) (2.7.1+cu128)\n",
      "Requirement already satisfied: torchvision==0.22.1+cu128 in c:\\users\\raphael\\documents\\github\\nonsig-master-thesis\\venv\\lib\\site-packages (from -r requirements.txt (line 99)) (0.22.1+cu128)\n",
      "Requirement already satisfied: tornado==6.5.1 in c:\\users\\raphael\\documents\\github\\nonsig-master-thesis\\venv\\lib\\site-packages (from -r requirements.txt (line 100)) (6.5.1)\n",
      "Requirement already satisfied: tqdm==4.67.1 in c:\\users\\raphael\\documents\\github\\nonsig-master-thesis\\venv\\lib\\site-packages (from -r requirements.txt (line 101)) (4.67.1)\n",
      "Requirement already satisfied: traitlets==5.14.3 in c:\\users\\raphael\\documents\\github\\nonsig-master-thesis\\venv\\lib\\site-packages (from -r requirements.txt (line 102)) (5.14.3)\n",
      "Requirement already satisfied: transformers==4.53.1 in c:\\users\\raphael\\documents\\github\\nonsig-master-thesis\\venv\\lib\\site-packages (from -r requirements.txt (line 103)) (4.53.1)\n",
      "Requirement already satisfied: typing_extensions==4.14.1 in c:\\users\\raphael\\documents\\github\\nonsig-master-thesis\\venv\\lib\\site-packages (from -r requirements.txt (line 104)) (4.14.1)\n",
      "Requirement already satisfied: tzdata==2025.2 in c:\\users\\raphael\\documents\\github\\nonsig-master-thesis\\venv\\lib\\site-packages (from -r requirements.txt (line 105)) (2025.2)\n",
      "Requirement already satisfied: urllib3==2.5.0 in c:\\users\\raphael\\documents\\github\\nonsig-master-thesis\\venv\\lib\\site-packages (from -r requirements.txt (line 106)) (2.5.0)\n",
      "Requirement already satisfied: wcwidth==0.2.13 in c:\\users\\raphael\\documents\\github\\nonsig-master-thesis\\venv\\lib\\site-packages (from -r requirements.txt (line 107)) (0.2.13)\n",
      "Requirement already satisfied: Werkzeug==3.1.3 in c:\\users\\raphael\\documents\\github\\nonsig-master-thesis\\venv\\lib\\site-packages (from -r requirements.txt (line 108)) (3.1.3)\n",
      "Requirement already satisfied: wheel==0.45.1 in c:\\users\\raphael\\documents\\github\\nonsig-master-thesis\\venv\\lib\\site-packages (from -r requirements.txt (line 109)) (0.45.1)\n",
      "Requirement already satisfied: wrapt==1.17.2 in c:\\users\\raphael\\documents\\github\\nonsig-master-thesis\\venv\\lib\\site-packages (from -r requirements.txt (line 110)) (1.17.2)\n",
      "Requirement already satisfied: xxhash==3.5.0 in c:\\users\\raphael\\documents\\github\\nonsig-master-thesis\\venv\\lib\\site-packages (from -r requirements.txt (line 111)) (3.5.0)\n",
      "Requirement already satisfied: yarl==1.20.1 in c:\\users\\raphael\\documents\\github\\nonsig-master-thesis\\venv\\lib\\site-packages (from -r requirements.txt (line 112)) (1.20.1)\n"
     ]
    },
    {
     "name": "stderr",
     "output_type": "stream",
     "text": [
      "\n",
      "[notice] A new release of pip is available: 25.0.1 -> 25.1.1\n",
      "[notice] To update, run: python.exe -m pip install --upgrade pip\n"
     ]
    }
   ],
   "source": [
    "! pip install -r requirements.txt"
   ]
  },
  {
   "cell_type": "markdown",
   "id": "6d5fa995",
   "metadata": {},
   "source": [
    "### 0.2 GPU setup"
   ]
  },
  {
   "cell_type": "code",
   "execution_count": 2,
   "id": "a3336508",
   "metadata": {},
   "outputs": [
    {
     "name": "stdout",
     "output_type": "stream",
     "text": [
      "True\n",
      "0\n",
      "NVIDIA GeForce RTX 2070 with Max-Q Design\n"
     ]
    }
   ],
   "source": [
    "# Check if CUDA is available and print the current device's name\n",
    "import torch\n",
    "print(torch.cuda.is_available())\n",
    "if torch.cuda.is_available():\n",
    "    print(torch.cuda.current_device())\n",
    "    print(torch.cuda.get_device_name(0))"
   ]
  },
  {
   "cell_type": "markdown",
   "id": "19253634",
   "metadata": {},
   "source": [
    "## 1. Configuration"
   ]
  },
  {
   "cell_type": "code",
   "execution_count": 3,
   "id": "ff026edd",
   "metadata": {},
   "outputs": [],
   "source": [
    "data_path = r\"../../data/labeled/2025-06-28_labeled_data.xlsx\"\n",
    "text_column_name = \"expanded\"\n",
    "label_column_name = \"label_strict\"\n",
    "\n",
    "model_name = \"bert-base-uncased\" # standard; I specify other models in the \"3. Initialize Models\" section of this script\n",
    "test_size = 0.2\n",
    "num_labels = 2"
   ]
  },
  {
   "cell_type": "markdown",
   "id": "050e4828",
   "metadata": {},
   "source": [
    "## 2. Read and prepare dataset"
   ]
  },
  {
   "cell_type": "code",
   "execution_count": 4,
   "id": "1789fc47",
   "metadata": {},
   "outputs": [
    {
     "data": {
      "application/vnd.microsoft.datawrangler.viewer.v0+json": {
       "columns": [
        {
         "name": "index",
         "rawType": "int64",
         "type": "integer"
        },
        {
         "name": "text",
         "rawType": "object",
         "type": "string"
        },
        {
         "name": "label",
         "rawType": "int64",
         "type": "integer"
        }
       ],
       "ref": "99a65aea-22a5-426c-8612-a61cf6dd83ca",
       "rows": [
        [
         "0",
         "The analysis of polarization based on this single item did not show signs of polarization (linear model intercept: b = 0.02, SE = 0.06, 95% CI = [-0.10, 0.13], t = 0.29, p = .771).",
         "1"
        ],
        [
         "1",
         "Moreover, no effect of channel-group laterality was identified, F(1, 39) < 0.01, p = .948, Î· p 2 < .001.",
         "0"
        ],
        [
         "2",
         "Change-detection RTs in Experiment 1 were not correlated with inconsistency ratings, r(58) = .05, p = .358, 95% CI = [-.21, .30], BF 10 = 0.12 (see Fig.",
         "1"
        ],
        [
         "3",
         "The Pearson correlation test (p > .05 in the Shapiro-Wilk test of normality) showed that there was no significant correlation between the calculated values of subjective awareness and the accuracy difference (between highand low-probability features) in the b-CFS task, r = .01, p = .926 (Fig. 3c).",
         "0"
        ],
        [
         "4",
         "Variability in movement end points, calculated as the standard deviation of saccade amplitude for each condition, did not increase in the performancebased-gain condition (M = 1.09Â°) relative to the randomgain condition (M = 1.16Â°), t(29) = 1.07, p = .15, and was in fact reduced in the 10-pence-gain condition (M = 1.07Â°) relative to the 0-pence-gain condition (M = 1.29Â°), t(29) = 2.44, p = .011.",
         "1"
        ]
       ],
       "shape": {
        "columns": 2,
        "rows": 5
       }
      },
      "text/html": [
       "<div>\n",
       "<style scoped>\n",
       "    .dataframe tbody tr th:only-of-type {\n",
       "        vertical-align: middle;\n",
       "    }\n",
       "\n",
       "    .dataframe tbody tr th {\n",
       "        vertical-align: top;\n",
       "    }\n",
       "\n",
       "    .dataframe thead th {\n",
       "        text-align: right;\n",
       "    }\n",
       "</style>\n",
       "<table border=\"1\" class=\"dataframe\">\n",
       "  <thead>\n",
       "    <tr style=\"text-align: right;\">\n",
       "      <th></th>\n",
       "      <th>text</th>\n",
       "      <th>label</th>\n",
       "    </tr>\n",
       "  </thead>\n",
       "  <tbody>\n",
       "    <tr>\n",
       "      <th>0</th>\n",
       "      <td>The analysis of polarization based on this sin...</td>\n",
       "      <td>1</td>\n",
       "    </tr>\n",
       "    <tr>\n",
       "      <th>1</th>\n",
       "      <td>Moreover, no effect of channel-group lateralit...</td>\n",
       "      <td>0</td>\n",
       "    </tr>\n",
       "    <tr>\n",
       "      <th>2</th>\n",
       "      <td>Change-detection RTs in Experiment 1 were not ...</td>\n",
       "      <td>1</td>\n",
       "    </tr>\n",
       "    <tr>\n",
       "      <th>3</th>\n",
       "      <td>The Pearson correlation test (p &gt; .05 in the S...</td>\n",
       "      <td>0</td>\n",
       "    </tr>\n",
       "    <tr>\n",
       "      <th>4</th>\n",
       "      <td>Variability in movement end points, calculated...</td>\n",
       "      <td>1</td>\n",
       "    </tr>\n",
       "  </tbody>\n",
       "</table>\n",
       "</div>"
      ],
      "text/plain": [
       "                                                text  label\n",
       "0  The analysis of polarization based on this sin...      1\n",
       "1  Moreover, no effect of channel-group lateralit...      0\n",
       "2  Change-detection RTs in Experiment 1 were not ...      1\n",
       "3  The Pearson correlation test (p > .05 in the S...      0\n",
       "4  Variability in movement end points, calculated...      1"
      ]
     },
     "execution_count": 4,
     "metadata": {},
     "output_type": "execute_result"
    }
   ],
   "source": [
    "import pandas as pd\n",
    "\n",
    "# Load the data\n",
    "df = pd.read_excel(data_path)\n",
    "\n",
    "# Remove all columns but 'expanded' and 'label_strict'\n",
    "df = df.drop(columns=['statement_id', 'section', 'header','div', 'p', 's', 'article_id', 'p_comp', 'p_value', 'context', 'text', 'label_kind', 'label_keywords', 'label_comment'])\n",
    "\n",
    "# Change column names\n",
    "df = df.rename(columns={text_column_name: 'text', label_column_name: 'label'})\n",
    "\n",
    "# Remove rows where 'label' is NA or -99\n",
    "df = df[~df['label'].isna() & (df['label'] != -99)]\n",
    "\n",
    "# Convert label column to int (required for classification)\n",
    "df['label'] = df['label'].astype(int)\n",
    "\n",
    "# Balance the dataset: all 1s and an equal number of random 0s\n",
    "ones = df[df['label'] == 1]\n",
    "zeros = df[df['label'] == 0].sample(n=len(ones), random_state=42)\n",
    "df = pd.concat([ones, zeros]).sample(frac=1, random_state=42).reset_index(drop=True)\n",
    "\n",
    "# Show head\n",
    "df.head()"
   ]
  },
  {
   "cell_type": "markdown",
   "id": "c2e53af8",
   "metadata": {},
   "source": [
    "### 2.1 Create Train/Test set"
   ]
  },
  {
   "cell_type": "code",
   "execution_count": 5,
   "id": "2e797a35",
   "metadata": {},
   "outputs": [
    {
     "name": "stderr",
     "output_type": "stream",
     "text": [
      "c:\\Users\\Raphael\\Documents\\GitHub\\nonsig-master-thesis\\venv\\Lib\\site-packages\\tqdm\\auto.py:21: TqdmWarning: IProgress not found. Please update jupyter and ipywidgets. See https://ipywidgets.readthedocs.io/en/stable/user_install.html\n",
      "  from .autonotebook import tqdm as notebook_tqdm\n"
     ]
    }
   ],
   "source": [
    "from sklearn.model_selection import train_test_split\n",
    "\n",
    "# Separate by label\n",
    "ones = df[df['label'] == 1]\n",
    "zeros = df[df['label'] == 0]\n",
    "\n",
    "# Split each class into train/test\n",
    "ones_train, ones_test = train_test_split(ones, test_size=test_size, random_state=42)\n",
    "zeros_train, zeros_test = train_test_split(zeros, test_size=test_size, random_state=42)\n",
    "\n",
    "# Combine to make balanced train/test sets\n",
    "df_train = pd.concat([ones_train, zeros_train]).sample(frac=1, random_state=42).reset_index(drop=True)\n",
    "df_test = pd.concat([ones_test, zeros_test]).sample(frac=1, random_state=42).reset_index(drop=True)\n",
    "\n",
    "# Convert to Huggingface dataset\n",
    "from datasets import Dataset\n",
    "train_dataset = Dataset.from_pandas(df_train)\n",
    "test_dataset = Dataset.from_pandas(df_test)"
   ]
  },
  {
   "cell_type": "markdown",
   "id": "ecff339a",
   "metadata": {},
   "source": [
    "Header of the Training set:"
   ]
  },
  {
   "cell_type": "code",
   "execution_count": 6,
   "id": "8f28446b",
   "metadata": {},
   "outputs": [
    {
     "data": {
      "application/vnd.microsoft.datawrangler.viewer.v0+json": {
       "columns": [
        {
         "name": "index",
         "rawType": "int64",
         "type": "integer"
        },
        {
         "name": "text",
         "rawType": "object",
         "type": "string"
        },
        {
         "name": "label",
         "rawType": "int64",
         "type": "integer"
        }
       ],
       "ref": "7c588b97-4d55-4b77-8dd7-aa9fd3475202",
       "rows": [
        [
         "0",
         "Risk taking did not differ between participants who received a placebo and those who received atomoxetine (b = 0.02, SE = 0.02, p = .295).",
         "1"
        ],
        [
         "1",
         "Notably, distance never significantly predicted pupil size for the entirety of the pupil trace (t < 1.89, p > .059; Figs. 2b and 2c).",
         "0"
        ],
        [
         "2",
         "Although perceiving an opportunity to empathize at Time 1 did not predict noticing another opportunity at Time 2, b = -0.02, SE = 0.09, z = -0.23, p = .817, r = -.01, missing an opportunity at Time 1 did predict noticing an opportunity at Time 2, b = 0.32, SE = 0.12, z = 2.64, p = .008, r = .09.",
         "1"
        ],
        [
         "3",
         "Leader narcissism levels also did not significantly predict the odds that a group would arrive at the correct decision, OR = 1.03, b = 0.03, 95% CI = [-0.38, 0.44], p = .898.",
         "0"
        ],
        [
         "4",
         "Although the number of morphs identified as \"disgust\" were not differentially impacted by the lower and higher IVA dose, t(16) = 1.30, p = .213, d = 0.38, 95% CI = [-0.11, 0.87] (Holm-Bonferroni corrected), when compared with odorless air, both doses of artificial sweat biased participants to see more disgust across the spectrum of fear-disgust morphs, t(16) = 3.05, p = .008, d = 0.97, 95% CI = [0.08, 1.86].",
         "1"
        ]
       ],
       "shape": {
        "columns": 2,
        "rows": 5
       }
      },
      "text/html": [
       "<div>\n",
       "<style scoped>\n",
       "    .dataframe tbody tr th:only-of-type {\n",
       "        vertical-align: middle;\n",
       "    }\n",
       "\n",
       "    .dataframe tbody tr th {\n",
       "        vertical-align: top;\n",
       "    }\n",
       "\n",
       "    .dataframe thead th {\n",
       "        text-align: right;\n",
       "    }\n",
       "</style>\n",
       "<table border=\"1\" class=\"dataframe\">\n",
       "  <thead>\n",
       "    <tr style=\"text-align: right;\">\n",
       "      <th></th>\n",
       "      <th>text</th>\n",
       "      <th>label</th>\n",
       "    </tr>\n",
       "  </thead>\n",
       "  <tbody>\n",
       "    <tr>\n",
       "      <th>0</th>\n",
       "      <td>Risk taking did not differ between participant...</td>\n",
       "      <td>1</td>\n",
       "    </tr>\n",
       "    <tr>\n",
       "      <th>1</th>\n",
       "      <td>Notably, distance never significantly predicte...</td>\n",
       "      <td>0</td>\n",
       "    </tr>\n",
       "    <tr>\n",
       "      <th>2</th>\n",
       "      <td>Although perceiving an opportunity to empathiz...</td>\n",
       "      <td>1</td>\n",
       "    </tr>\n",
       "    <tr>\n",
       "      <th>3</th>\n",
       "      <td>Leader narcissism levels also did not signific...</td>\n",
       "      <td>0</td>\n",
       "    </tr>\n",
       "    <tr>\n",
       "      <th>4</th>\n",
       "      <td>Although the number of morphs identified as \"d...</td>\n",
       "      <td>1</td>\n",
       "    </tr>\n",
       "  </tbody>\n",
       "</table>\n",
       "</div>"
      ],
      "text/plain": [
       "                                                text  label\n",
       "0  Risk taking did not differ between participant...      1\n",
       "1  Notably, distance never significantly predicte...      0\n",
       "2  Although perceiving an opportunity to empathiz...      1\n",
       "3  Leader narcissism levels also did not signific...      0\n",
       "4  Although the number of morphs identified as \"d...      1"
      ]
     },
     "execution_count": 6,
     "metadata": {},
     "output_type": "execute_result"
    }
   ],
   "source": [
    "df_train.head()"
   ]
  },
  {
   "cell_type": "code",
   "execution_count": 7,
   "id": "c3ca483d",
   "metadata": {},
   "outputs": [
    {
     "data": {
      "application/vnd.microsoft.datawrangler.viewer.v0+json": {
       "columns": [
        {
         "name": "label",
         "rawType": "int64",
         "type": "integer"
        },
        {
         "name": "count",
         "rawType": "int64",
         "type": "integer"
        }
       ],
       "ref": "392a17f8-6c8d-4995-8b2e-c44b7d9e99f2",
       "rows": [
        [
         "1",
         "159"
        ],
        [
         "0",
         "159"
        ]
       ],
       "shape": {
        "columns": 1,
        "rows": 2
       }
      },
      "text/plain": [
       "label\n",
       "1    159\n",
       "0    159\n",
       "Name: count, dtype: int64"
      ]
     },
     "execution_count": 7,
     "metadata": {},
     "output_type": "execute_result"
    }
   ],
   "source": [
    "# Check label balance in training set\n",
    "df_train['label'].value_counts()"
   ]
  },
  {
   "cell_type": "markdown",
   "id": "80c18c19",
   "metadata": {},
   "source": [
    "Header of the Test set:"
   ]
  },
  {
   "cell_type": "code",
   "execution_count": 8,
   "id": "2a7722b9",
   "metadata": {},
   "outputs": [
    {
     "data": {
      "application/vnd.microsoft.datawrangler.viewer.v0+json": {
       "columns": [
        {
         "name": "index",
         "rawType": "int64",
         "type": "integer"
        },
        {
         "name": "text",
         "rawType": "object",
         "type": "string"
        },
        {
         "name": "label",
         "rawType": "int64",
         "type": "integer"
        }
       ],
       "ref": "39033451-ff6e-44ec-bd7d-a88f8097f2c6",
       "rows": [
        [
         "0",
         "Post hoc simple-effects analyses revealed that serial position did not affect the number of recalled distinct attributes, B = -0.02, t(1,510) = -0.39, p = .700, d = 0.01.",
         "1"
        ],
        [
         "1",
         "A length effect was found for pseudowords (five-letter strings: M = 2,236 ms, SD = 621; three-letter strings: M = 1,828 ms, SD = 459), t(17) = -4.92, p < .001, but not for real words (three letters: M = 1,617 ms, SD = 372; five letters: M = 1,620 ms, SD = 319), t(17) = -0.06, p = .96.",
         "1"
        ],
        [
         "2",
         "First, participant height (added as a fixed factor to the intercept-only model) had no effect on aggressive behavior, Wald Ï‡ 2 (1) = 0.10, b = -0.024, SE = 0.074, 95% CI = [-0.169, 0.122], p = .749 (QICc = 166.91).",
         "1"
        ],
        [
         "3",
         "However, velocity was not increased or decreased in the 10-pence-loss condition (M = 427Â°/s -1, SEM = 12) compared with the 0-pence-loss condition (M = 434Â°/s -1, SEM = 12), t(24) = 0.79, p = .21.",
         "1"
        ],
        [
         "4",
         "We observed no such increase in the congruent condition (Block 1: M = .86, SD = .24; Block 2: M = .90, SD = .19; V = 36, p = .315, r = -.76, 95% CI = [-0.27, 0.07]).",
         "1"
        ]
       ],
       "shape": {
        "columns": 2,
        "rows": 5
       }
      },
      "text/html": [
       "<div>\n",
       "<style scoped>\n",
       "    .dataframe tbody tr th:only-of-type {\n",
       "        vertical-align: middle;\n",
       "    }\n",
       "\n",
       "    .dataframe tbody tr th {\n",
       "        vertical-align: top;\n",
       "    }\n",
       "\n",
       "    .dataframe thead th {\n",
       "        text-align: right;\n",
       "    }\n",
       "</style>\n",
       "<table border=\"1\" class=\"dataframe\">\n",
       "  <thead>\n",
       "    <tr style=\"text-align: right;\">\n",
       "      <th></th>\n",
       "      <th>text</th>\n",
       "      <th>label</th>\n",
       "    </tr>\n",
       "  </thead>\n",
       "  <tbody>\n",
       "    <tr>\n",
       "      <th>0</th>\n",
       "      <td>Post hoc simple-effects analyses revealed that...</td>\n",
       "      <td>1</td>\n",
       "    </tr>\n",
       "    <tr>\n",
       "      <th>1</th>\n",
       "      <td>A length effect was found for pseudowords (fiv...</td>\n",
       "      <td>1</td>\n",
       "    </tr>\n",
       "    <tr>\n",
       "      <th>2</th>\n",
       "      <td>First, participant height (added as a fixed fa...</td>\n",
       "      <td>1</td>\n",
       "    </tr>\n",
       "    <tr>\n",
       "      <th>3</th>\n",
       "      <td>However, velocity was not increased or decreas...</td>\n",
       "      <td>1</td>\n",
       "    </tr>\n",
       "    <tr>\n",
       "      <th>4</th>\n",
       "      <td>We observed no such increase in the congruent ...</td>\n",
       "      <td>1</td>\n",
       "    </tr>\n",
       "  </tbody>\n",
       "</table>\n",
       "</div>"
      ],
      "text/plain": [
       "                                                text  label\n",
       "0  Post hoc simple-effects analyses revealed that...      1\n",
       "1  A length effect was found for pseudowords (fiv...      1\n",
       "2  First, participant height (added as a fixed fa...      1\n",
       "3  However, velocity was not increased or decreas...      1\n",
       "4  We observed no such increase in the congruent ...      1"
      ]
     },
     "execution_count": 8,
     "metadata": {},
     "output_type": "execute_result"
    }
   ],
   "source": [
    "df_test.head()"
   ]
  },
  {
   "cell_type": "code",
   "execution_count": 9,
   "id": "fc4d85ef",
   "metadata": {},
   "outputs": [
    {
     "data": {
      "application/vnd.microsoft.datawrangler.viewer.v0+json": {
       "columns": [
        {
         "name": "label",
         "rawType": "int64",
         "type": "integer"
        },
        {
         "name": "count",
         "rawType": "int64",
         "type": "integer"
        }
       ],
       "ref": "9c7cdd0b-bbff-4146-bade-7baa149dc9ed",
       "rows": [
        [
         "1",
         "40"
        ],
        [
         "0",
         "40"
        ]
       ],
       "shape": {
        "columns": 1,
        "rows": 2
       }
      },
      "text/plain": [
       "label\n",
       "1    40\n",
       "0    40\n",
       "Name: count, dtype: int64"
      ]
     },
     "execution_count": 9,
     "metadata": {},
     "output_type": "execute_result"
    }
   ],
   "source": [
    "# Check label balance in test set\n",
    "df_test['label'].value_counts()"
   ]
  },
  {
   "cell_type": "markdown",
   "id": "7ada89b4",
   "metadata": {},
   "source": [
    "### 2.2 Tokenize 'text'"
   ]
  },
  {
   "cell_type": "code",
   "execution_count": 10,
   "id": "4f669e54",
   "metadata": {},
   "outputs": [
    {
     "name": "stderr",
     "output_type": "stream",
     "text": [
      "Map: 100%|██████████| 318/318 [00:00<00:00, 2241.82 examples/s]\n",
      "Map: 100%|██████████| 80/80 [00:00<00:00, 4404.91 examples/s]\n"
     ]
    }
   ],
   "source": [
    "from transformers import AutoTokenizer\n",
    "\n",
    "tokenizer = AutoTokenizer.from_pretrained(model_name)\n",
    "\n",
    "def preprocess_function(examples):\n",
    "    return tokenizer(examples[\"text\"], truncation=True, padding=True, max_length=350)\n",
    "\n",
    "tokenized_train = train_dataset.map(preprocess_function, batched=True)\n",
    "\n",
    "tokenized_test = test_dataset.map(preprocess_function, batched=True)"
   ]
  },
  {
   "cell_type": "markdown",
   "id": "2d9ecda8",
   "metadata": {},
   "source": [
    "#### 2.2.1 Comparing tokenized and untokenized statements"
   ]
  },
  {
   "cell_type": "code",
   "execution_count": 11,
   "id": "2c5d6470",
   "metadata": {},
   "outputs": [
    {
     "data": {
      "application/vnd.microsoft.datawrangler.viewer.v0+json": {
       "columns": [
        {
         "name": "index",
         "rawType": "int64",
         "type": "integer"
        },
        {
         "name": "original_text",
         "rawType": "object",
         "type": "string"
        },
        {
         "name": "tokenized_ids",
         "rawType": "object",
         "type": "unknown"
        },
        {
         "name": "decoded_text",
         "rawType": "object",
         "type": "string"
        }
       ],
       "ref": "d35fe4e4-114b-4f65-8816-1a61e96dcf7c",
       "rows": [
        [
         "0",
         "Risk taking did not differ between participants who received a placebo and those who received atomoxetine (b = 0.02, SE = 0.02, p = .295).",
         "[101, 3891, 2635, 2106, 2025, 11234, 2090, 6818, 2040, 2363, 1037, 2173, 5092, 1998, 2216, 2040, 2363, 13787, 11636, 20624, 2638, 1006, 1038, 1027, 1014, 1012, 6185, 1010, 7367, 1027, 1014, 1012, 6185, 1010, 1052, 1027, 1012, 21679, 1007, 1012, 102, 0, 0, 0, 0, 0, 0, 0, 0, 0, 0, 0, 0, 0, 0, 0, 0, 0, 0, 0, 0, 0, 0, 0, 0, 0, 0, 0, 0, 0, 0, 0, 0, 0, 0, 0, 0, 0, 0, 0, 0, 0, 0, 0, 0, 0, 0, 0, 0, 0, 0, 0, 0, 0, 0, 0, 0, 0, 0, 0, 0, 0, 0, 0, 0, 0, 0, 0, 0, 0, 0, 0, 0, 0, 0, 0, 0, 0, 0, 0, 0, 0, 0, 0, 0, 0, 0, 0, 0, 0, 0, 0, 0, 0, 0, 0, 0, 0, 0, 0, 0, 0, 0, 0, 0, 0, 0, 0, 0, 0, 0, 0, 0, 0, 0, 0, 0, 0, 0, 0, 0, 0, 0, 0, 0, 0, 0, 0, 0, 0, 0, 0, 0, 0, 0, 0, 0, 0, 0, 0, 0, 0, 0, 0, 0, 0, 0, 0, 0, 0, 0, 0, 0, 0, 0, 0, 0, 0, 0, 0, 0, 0, 0, 0, 0, 0, 0, 0, 0, 0, 0, 0, 0, 0, 0, 0, 0, 0, 0, 0, 0, 0, 0, 0, 0, 0, 0, 0, 0, 0, 0, 0, 0, 0, 0, 0, 0, 0, 0, 0, 0, 0, 0, 0, 0, 0, 0, 0, 0, 0, 0, 0, 0, 0, 0, 0, 0, 0, 0, 0, 0, 0, 0, 0, 0, 0, 0, 0, 0, 0, 0, 0, 0, 0, 0, 0, 0]",
         "risk taking did not differ between participants who received a placebo and those who received atomoxetine ( b = 0. 02, se = 0. 02, p =. 295 )."
        ],
        [
         "1",
         "Notably, distance never significantly predicted pupil size for the entirety of the pupil trace (t < 1.89, p > .059; Figs. 2b and 2c).",
         "[101, 5546, 1010, 3292, 2196, 6022, 10173, 11136, 2946, 2005, 1996, 15700, 1997, 1996, 11136, 7637, 1006, 1056, 1026, 1015, 1012, 6486, 1010, 1052, 1028, 1012, 5709, 2683, 1025, 20965, 2015, 1012, 1016, 2497, 1998, 1016, 2278, 1007, 1012, 102, 0, 0, 0, 0, 0, 0, 0, 0, 0, 0, 0, 0, 0, 0, 0, 0, 0, 0, 0, 0, 0, 0, 0, 0, 0, 0, 0, 0, 0, 0, 0, 0, 0, 0, 0, 0, 0, 0, 0, 0, 0, 0, 0, 0, 0, 0, 0, 0, 0, 0, 0, 0, 0, 0, 0, 0, 0, 0, 0, 0, 0, 0, 0, 0, 0, 0, 0, 0, 0, 0, 0, 0, 0, 0, 0, 0, 0, 0, 0, 0, 0, 0, 0, 0, 0, 0, 0, 0, 0, 0, 0, 0, 0, 0, 0, 0, 0, 0, 0, 0, 0, 0, 0, 0, 0, 0, 0, 0, 0, 0, 0, 0, 0, 0, 0, 0, 0, 0, 0, 0, 0, 0, 0, 0, 0, 0, 0, 0, 0, 0, 0, 0, 0, 0, 0, 0, 0, 0, 0, 0, 0, 0, 0, 0, 0, 0, 0, 0, 0, 0, 0, 0, 0, 0, 0, 0, 0, 0, 0, 0, 0, 0, 0, 0, 0, 0, 0, 0, 0, 0, 0, 0, 0, 0, 0, 0, 0, 0, 0, 0, 0, 0, 0, 0, 0, 0, 0, 0, 0, 0, 0, 0, 0, 0, 0, 0, 0, 0, 0, 0, 0, 0, 0, 0, 0, 0, 0, 0, 0, 0, 0, 0, 0, 0, 0, 0, 0, 0, 0, 0, 0, 0, 0, 0, 0, 0, 0, 0, 0, 0, 0, 0, 0, 0, 0, 0, 0]",
         "notably, distance never significantly predicted pupil size for the entirety of the pupil trace ( t < 1. 89, p >. 059 ; figs. 2b and 2c )."
        ],
        [
         "2",
         "Although perceiving an opportunity to empathize at Time 1 did not predict noticing another opportunity at Time 2, b = -0.02, SE = 0.09, z = -0.23, p = .817, r = -.01, missing an opportunity at Time 1 did predict noticing an opportunity at Time 2, b = 0.32, SE = 0.12, z = 2.64, p = .008, r = .09.",
         "[101, 2348, 2566, 3401, 14966, 2019, 4495, 2000, 7861, 15069, 4697, 2012, 2051, 1015, 2106, 2025, 16014, 15103, 2178, 4495, 2012, 2051, 1016, 1010, 1038, 1027, 1011, 1014, 1012, 6185, 1010, 7367, 1027, 1014, 1012, 5641, 1010, 1062, 1027, 1011, 1014, 1012, 2603, 1010, 1052, 1027, 1012, 6282, 2581, 1010, 1054, 1027, 1011, 1012, 5890, 1010, 4394, 2019, 4495, 2012, 2051, 1015, 2106, 16014, 15103, 2019, 4495, 2012, 2051, 1016, 1010, 1038, 1027, 1014, 1012, 3590, 1010, 7367, 1027, 1014, 1012, 2260, 1010, 1062, 1027, 1016, 1012, 4185, 1010, 1052, 1027, 1012, 4002, 2620, 1010, 1054, 1027, 1012, 5641, 1012, 102, 0, 0, 0, 0, 0, 0, 0, 0, 0, 0, 0, 0, 0, 0, 0, 0, 0, 0, 0, 0, 0, 0, 0, 0, 0, 0, 0, 0, 0, 0, 0, 0, 0, 0, 0, 0, 0, 0, 0, 0, 0, 0, 0, 0, 0, 0, 0, 0, 0, 0, 0, 0, 0, 0, 0, 0, 0, 0, 0, 0, 0, 0, 0, 0, 0, 0, 0, 0, 0, 0, 0, 0, 0, 0, 0, 0, 0, 0, 0, 0, 0, 0, 0, 0, 0, 0, 0, 0, 0, 0, 0, 0, 0, 0, 0, 0, 0, 0, 0, 0, 0, 0, 0, 0, 0, 0, 0, 0, 0, 0, 0, 0, 0, 0, 0, 0, 0, 0, 0, 0, 0, 0, 0, 0, 0, 0, 0, 0, 0, 0, 0, 0, 0, 0, 0, 0, 0, 0, 0, 0, 0, 0, 0, 0, 0, 0, 0, 0, 0, 0, 0, 0, 0, 0, 0, 0, 0, 0, 0, 0, 0, 0, 0, 0, 0, 0, 0, 0, 0, 0, 0, 0, 0, 0, 0, 0]",
         "although perceiving an opportunity to empathize at time 1 did not predict noticing another opportunity at time 2, b = - 0. 02, se = 0. 09, z = - 0. 23, p =. 817, r = -. 01, missing an opportunity at time 1 did predict noticing an opportunity at time 2, b = 0. 32, se = 0. 12, z = 2. 64, p =. 008, r =. 09."
        ],
        [
         "3",
         "Leader narcissism levels also did not significantly predict the odds that a group would arrive at the correct decision, OR = 1.03, b = 0.03, 95% CI = [-0.38, 0.44], p = .898.",
         "[101, 3003, 6583, 11890, 14643, 2964, 3798, 2036, 2106, 2025, 6022, 16014, 1996, 10238, 2008, 1037, 2177, 2052, 7180, 2012, 1996, 6149, 3247, 1010, 2030, 1027, 1015, 1012, 6021, 1010, 1038, 1027, 1014, 1012, 6021, 1010, 5345, 1003, 25022, 1027, 1031, 1011, 1014, 1012, 4229, 1010, 1014, 1012, 4008, 1033, 1010, 1052, 1027, 1012, 6486, 2620, 1012, 102, 0, 0, 0, 0, 0, 0, 0, 0, 0, 0, 0, 0, 0, 0, 0, 0, 0, 0, 0, 0, 0, 0, 0, 0, 0, 0, 0, 0, 0, 0, 0, 0, 0, 0, 0, 0, 0, 0, 0, 0, 0, 0, 0, 0, 0, 0, 0, 0, 0, 0, 0, 0, 0, 0, 0, 0, 0, 0, 0, 0, 0, 0, 0, 0, 0, 0, 0, 0, 0, 0, 0, 0, 0, 0, 0, 0, 0, 0, 0, 0, 0, 0, 0, 0, 0, 0, 0, 0, 0, 0, 0, 0, 0, 0, 0, 0, 0, 0, 0, 0, 0, 0, 0, 0, 0, 0, 0, 0, 0, 0, 0, 0, 0, 0, 0, 0, 0, 0, 0, 0, 0, 0, 0, 0, 0, 0, 0, 0, 0, 0, 0, 0, 0, 0, 0, 0, 0, 0, 0, 0, 0, 0, 0, 0, 0, 0, 0, 0, 0, 0, 0, 0, 0, 0, 0, 0, 0, 0, 0, 0, 0, 0, 0, 0, 0, 0, 0, 0, 0, 0, 0, 0, 0, 0, 0, 0, 0, 0, 0, 0, 0, 0, 0, 0, 0, 0, 0, 0, 0, 0, 0, 0, 0, 0, 0, 0, 0, 0, 0, 0, 0, 0, 0, 0, 0, 0, 0, 0, 0, 0, 0, 0, 0, 0, 0, 0, 0, 0, 0]",
         "leader narcissism levels also did not significantly predict the odds that a group would arrive at the correct decision, or = 1. 03, b = 0. 03, 95 % ci = [ - 0. 38, 0. 44 ], p =. 898."
        ],
        [
         "4",
         "Although the number of morphs identified as \"disgust\" were not differentially impacted by the lower and higher IVA dose, t(16) = 1.30, p = .213, d = 0.38, 95% CI = [-0.11, 0.87] (Holm-Bonferroni corrected), when compared with odorless air, both doses of artificial sweat biased participants to see more disgust across the spectrum of fear-disgust morphs, t(16) = 3.05, p = .008, d = 0.97, 95% CI = [0.08, 1.86].",
         "[101, 2348, 1996, 2193, 1997, 22822, 18757, 4453, 2004, 1000, 12721, 1000, 2020, 2025, 11658, 2135, 19209, 2011, 1996, 2896, 1998, 3020, 4921, 2050, 13004, 1010, 1056, 1006, 2385, 1007, 1027, 1015, 1012, 2382, 1010, 1052, 1027, 1012, 19883, 1010, 1040, 1027, 1014, 1012, 4229, 1010, 5345, 1003, 25022, 1027, 1031, 1011, 1014, 1012, 2340, 1010, 1014, 1012, 6584, 1033, 1006, 28925, 1011, 14753, 7512, 4948, 2072, 13371, 1007, 1010, 2043, 4102, 2007, 19255, 3238, 2250, 1010, 2119, 21656, 1997, 7976, 7518, 25352, 6818, 2000, 2156, 2062, 12721, 2408, 1996, 8674, 1997, 3571, 1011, 12721, 22822, 18757, 1010, 1056, 1006, 2385, 1007, 1027, 1017, 1012, 5709, 1010, 1052, 1027, 1012, 4002, 2620, 1010, 1040, 1027, 1014, 1012, 5989, 1010, 5345, 1003, 25022, 1027, 1031, 1014, 1012, 5511, 1010, 1015, 1012, 6564, 1033, 1012, 102, 0, 0, 0, 0, 0, 0, 0, 0, 0, 0, 0, 0, 0, 0, 0, 0, 0, 0, 0, 0, 0, 0, 0, 0, 0, 0, 0, 0, 0, 0, 0, 0, 0, 0, 0, 0, 0, 0, 0, 0, 0, 0, 0, 0, 0, 0, 0, 0, 0, 0, 0, 0, 0, 0, 0, 0, 0, 0, 0, 0, 0, 0, 0, 0, 0, 0, 0, 0, 0, 0, 0, 0, 0, 0, 0, 0, 0, 0, 0, 0, 0, 0, 0, 0, 0, 0, 0, 0, 0, 0, 0, 0, 0, 0, 0, 0, 0, 0, 0, 0, 0, 0, 0, 0, 0, 0, 0, 0, 0, 0, 0, 0, 0, 0, 0, 0, 0, 0, 0, 0, 0, 0, 0, 0, 0, 0, 0, 0, 0, 0, 0, 0, 0, 0, 0, 0, 0, 0, 0, 0, 0, 0, 0]",
         "although the number of morphs identified as \" disgust \" were not differentially impacted by the lower and higher iva dose, t ( 16 ) = 1. 30, p =. 213, d = 0. 38, 95 % ci = [ - 0. 11, 0. 87 ] ( holm - bonferroni corrected ), when compared with odorless air, both doses of artificial sweat biased participants to see more disgust across the spectrum of fear - disgust morphs, t ( 16 ) = 3. 05, p =. 008, d = 0. 97, 95 % ci = [ 0. 08, 1. 86 ]."
        ],
        [
         "5",
         "Most importantly, test anxiety did not predict the change in performance from the mock exams to the final exam (b anx = -0.09, p = .077), which speaks against the interference hypothesis.",
         "[101, 2087, 14780, 1010, 3231, 10089, 2106, 2025, 16014, 1996, 2689, 1999, 2836, 2013, 1996, 12934, 13869, 2000, 1996, 2345, 11360, 1006, 1038, 2019, 2595, 1027, 1011, 1014, 1012, 5641, 1010, 1052, 1027, 1012, 5718, 2581, 1007, 1010, 2029, 8847, 2114, 1996, 11099, 10744, 1012, 102, 0, 0, 0, 0, 0, 0, 0, 0, 0, 0, 0, 0, 0, 0, 0, 0, 0, 0, 0, 0, 0, 0, 0, 0, 0, 0, 0, 0, 0, 0, 0, 0, 0, 0, 0, 0, 0, 0, 0, 0, 0, 0, 0, 0, 0, 0, 0, 0, 0, 0, 0, 0, 0, 0, 0, 0, 0, 0, 0, 0, 0, 0, 0, 0, 0, 0, 0, 0, 0, 0, 0, 0, 0, 0, 0, 0, 0, 0, 0, 0, 0, 0, 0, 0, 0, 0, 0, 0, 0, 0, 0, 0, 0, 0, 0, 0, 0, 0, 0, 0, 0, 0, 0, 0, 0, 0, 0, 0, 0, 0, 0, 0, 0, 0, 0, 0, 0, 0, 0, 0, 0, 0, 0, 0, 0, 0, 0, 0, 0, 0, 0, 0, 0, 0, 0, 0, 0, 0, 0, 0, 0, 0, 0, 0, 0, 0, 0, 0, 0, 0, 0, 0, 0, 0, 0, 0, 0, 0, 0, 0, 0, 0, 0, 0, 0, 0, 0, 0, 0, 0, 0, 0, 0, 0, 0, 0, 0, 0, 0, 0, 0, 0, 0, 0, 0, 0, 0, 0, 0, 0, 0, 0, 0, 0, 0, 0, 0, 0, 0, 0, 0, 0, 0, 0, 0, 0, 0, 0, 0, 0, 0, 0, 0, 0, 0, 0, 0, 0, 0, 0, 0, 0, 0, 0, 0, 0, 0, 0, 0, 0, 0]",
         "most importantly, test anxiety did not predict the change in performance from the mock exams to the final exam ( b anx = - 0. 09, p =. 077 ), which speaks against the interference hypothesis."
        ],
        [
         "6",
         "There was no significant interaction, F(2.74, 76.68) = 0.76, p = .51, Î· p 2 = .026 (Greenhouse-Geisser corrected).",
         "[101, 2045, 2001, 2053, 3278, 8290, 1010, 1042, 1006, 1016, 1012, 6356, 1010, 6146, 1012, 6273, 1007, 1027, 1014, 1012, 6146, 1010, 1052, 1027, 1012, 4868, 1010, 1045, 1087, 1052, 1016, 1027, 1012, 6185, 2575, 1006, 16635, 1011, 16216, 23491, 2099, 13371, 1007, 1012, 102, 0, 0, 0, 0, 0, 0, 0, 0, 0, 0, 0, 0, 0, 0, 0, 0, 0, 0, 0, 0, 0, 0, 0, 0, 0, 0, 0, 0, 0, 0, 0, 0, 0, 0, 0, 0, 0, 0, 0, 0, 0, 0, 0, 0, 0, 0, 0, 0, 0, 0, 0, 0, 0, 0, 0, 0, 0, 0, 0, 0, 0, 0, 0, 0, 0, 0, 0, 0, 0, 0, 0, 0, 0, 0, 0, 0, 0, 0, 0, 0, 0, 0, 0, 0, 0, 0, 0, 0, 0, 0, 0, 0, 0, 0, 0, 0, 0, 0, 0, 0, 0, 0, 0, 0, 0, 0, 0, 0, 0, 0, 0, 0, 0, 0, 0, 0, 0, 0, 0, 0, 0, 0, 0, 0, 0, 0, 0, 0, 0, 0, 0, 0, 0, 0, 0, 0, 0, 0, 0, 0, 0, 0, 0, 0, 0, 0, 0, 0, 0, 0, 0, 0, 0, 0, 0, 0, 0, 0, 0, 0, 0, 0, 0, 0, 0, 0, 0, 0, 0, 0, 0, 0, 0, 0, 0, 0, 0, 0, 0, 0, 0, 0, 0, 0, 0, 0, 0, 0, 0, 0, 0, 0, 0, 0, 0, 0, 0, 0, 0, 0, 0, 0, 0, 0, 0, 0, 0, 0, 0, 0, 0, 0, 0, 0, 0, 0, 0, 0, 0, 0, 0, 0, 0, 0, 0, 0, 0, 0, 0, 0, 0, 0]",
         "there was no significant interaction, f ( 2. 74, 76. 68 ) = 0. 76, p =. 51, i · p 2 =. 026 ( greenhouse - geisser corrected )."
        ],
        [
         "7",
         "The triple interaction (Î² = -0.02, 95% CI = [-0.17, 0.13], p = .779) did not significantly improve the model compared to the model with only an interaction between ejection event and the team that lost someone to ejection, likelihood ratio test Ï‡ 2 (4) = 1.63, p = .803.",
         "[101, 1996, 6420, 8290, 1006, 1045, 10701, 1027, 1011, 1014, 1012, 6185, 1010, 5345, 1003, 25022, 1027, 1031, 1011, 1014, 1012, 2459, 1010, 1014, 1012, 2410, 1033, 1010, 1052, 1027, 1012, 6255, 2683, 1007, 2106, 2025, 6022, 5335, 1996, 2944, 4102, 2000, 1996, 2944, 2007, 2069, 2019, 8290, 2090, 1041, 20614, 3258, 2724, 1998, 1996, 2136, 2008, 2439, 2619, 2000, 1041, 20614, 3258, 1010, 16593, 6463, 3231, 1045, 1527, 1016, 1006, 1018, 1007, 1027, 1015, 1012, 6191, 1010, 1052, 1027, 1012, 3770, 2509, 1012, 102, 0, 0, 0, 0, 0, 0, 0, 0, 0, 0, 0, 0, 0, 0, 0, 0, 0, 0, 0, 0, 0, 0, 0, 0, 0, 0, 0, 0, 0, 0, 0, 0, 0, 0, 0, 0, 0, 0, 0, 0, 0, 0, 0, 0, 0, 0, 0, 0, 0, 0, 0, 0, 0, 0, 0, 0, 0, 0, 0, 0, 0, 0, 0, 0, 0, 0, 0, 0, 0, 0, 0, 0, 0, 0, 0, 0, 0, 0, 0, 0, 0, 0, 0, 0, 0, 0, 0, 0, 0, 0, 0, 0, 0, 0, 0, 0, 0, 0, 0, 0, 0, 0, 0, 0, 0, 0, 0, 0, 0, 0, 0, 0, 0, 0, 0, 0, 0, 0, 0, 0, 0, 0, 0, 0, 0, 0, 0, 0, 0, 0, 0, 0, 0, 0, 0, 0, 0, 0, 0, 0, 0, 0, 0, 0, 0, 0, 0, 0, 0, 0, 0, 0, 0, 0, 0, 0, 0, 0, 0, 0, 0, 0, 0, 0, 0, 0, 0, 0, 0, 0, 0, 0, 0, 0, 0, 0, 0, 0, 0, 0, 0, 0, 0, 0, 0, 0, 0, 0, 0, 0, 0, 0]",
         "the triple interaction ( i² = - 0. 02, 95 % ci = [ - 0. 17, 0. 13 ], p =. 779 ) did not significantly improve the model compared to the model with only an interaction between ejection event and the team that lost someone to ejection, likelihood ratio test i ‡ 2 ( 4 ) = 1. 63, p =. 803."
        ],
        [
         "8",
         "A control model additionally revealed a main effect of gender on first donations, Ï‡ 2 (1) = 7.87, p = .005, which did not interact with age, Ï‡ 2 (2) = 1.30, p = .521.",
         "[101, 1037, 2491, 2944, 5678, 3936, 1037, 2364, 3466, 1997, 5907, 2006, 2034, 11440, 1010, 1045, 1527, 1016, 1006, 1015, 1007, 1027, 1021, 1012, 6584, 1010, 1052, 1027, 1012, 4002, 2629, 1010, 2029, 2106, 2025, 11835, 2007, 2287, 1010, 1045, 1527, 1016, 1006, 1016, 1007, 1027, 1015, 1012, 2382, 1010, 1052, 1027, 1012, 26963, 1012, 102, 0, 0, 0, 0, 0, 0, 0, 0, 0, 0, 0, 0, 0, 0, 0, 0, 0, 0, 0, 0, 0, 0, 0, 0, 0, 0, 0, 0, 0, 0, 0, 0, 0, 0, 0, 0, 0, 0, 0, 0, 0, 0, 0, 0, 0, 0, 0, 0, 0, 0, 0, 0, 0, 0, 0, 0, 0, 0, 0, 0, 0, 0, 0, 0, 0, 0, 0, 0, 0, 0, 0, 0, 0, 0, 0, 0, 0, 0, 0, 0, 0, 0, 0, 0, 0, 0, 0, 0, 0, 0, 0, 0, 0, 0, 0, 0, 0, 0, 0, 0, 0, 0, 0, 0, 0, 0, 0, 0, 0, 0, 0, 0, 0, 0, 0, 0, 0, 0, 0, 0, 0, 0, 0, 0, 0, 0, 0, 0, 0, 0, 0, 0, 0, 0, 0, 0, 0, 0, 0, 0, 0, 0, 0, 0, 0, 0, 0, 0, 0, 0, 0, 0, 0, 0, 0, 0, 0, 0, 0, 0, 0, 0, 0, 0, 0, 0, 0, 0, 0, 0, 0, 0, 0, 0, 0, 0, 0, 0, 0, 0, 0, 0, 0, 0, 0, 0, 0, 0, 0, 0, 0, 0, 0, 0, 0, 0, 0, 0, 0, 0, 0, 0, 0, 0, 0, 0, 0, 0, 0, 0, 0, 0, 0, 0, 0, 0, 0, 0, 0, 0, 0]",
         "a control model additionally revealed a main effect of gender on first donations, i ‡ 2 ( 1 ) = 7. 87, p =. 005, which did not interact with age, i ‡ 2 ( 2 ) = 1. 30, p =. 521."
        ],
        [
         "9",
         "Neither the reaction time nor the proportion of bird's-eye-view strategy use was larger for the sphere-mean time on sphere = 6.4 Â± 2.5 s versus on plane = 7.0 Â± 2.4 s, t(19) = 1.1, p = .85, one-sided; proportion of bird's-eye-view perspective on sphere = 7 out of 20 vs. on plane = 5 out of 20, McNemara test, p = .31.",
         "[101, 4445, 1996, 4668, 2051, 4496, 1996, 10817, 1997, 4743, 1005, 1055, 1011, 3239, 1011, 3193, 5656, 2224, 2001, 3469, 2005, 1996, 10336, 1011, 2812, 2051, 2006, 10336, 1027, 1020, 1012, 1018, 1037, 29657, 1016, 1012, 1019, 1055, 6431, 2006, 4946, 1027, 1021, 1012, 1014, 1037, 29657, 1016, 1012, 1018, 1055, 1010, 1056, 1006, 2539, 1007, 1027, 1015, 1012, 1015, 1010, 1052, 1027, 1012, 5594, 1010, 2028, 1011, 11536, 1025, 10817, 1997, 4743, 1005, 1055, 1011, 3239, 1011, 3193, 7339, 2006, 10336, 1027, 1021, 2041, 1997, 2322, 5443, 1012, 2006, 4946, 1027, 1019, 2041, 1997, 2322, 1010, 11338, 25832, 5400, 3231, 1010, 1052, 1027, 1012, 2861, 1012, 102, 0, 0, 0, 0, 0, 0, 0, 0, 0, 0, 0, 0, 0, 0, 0, 0, 0, 0, 0, 0, 0, 0, 0, 0, 0, 0, 0, 0, 0, 0, 0, 0, 0, 0, 0, 0, 0, 0, 0, 0, 0, 0, 0, 0, 0, 0, 0, 0, 0, 0, 0, 0, 0, 0, 0, 0, 0, 0, 0, 0, 0, 0, 0, 0, 0, 0, 0, 0, 0, 0, 0, 0, 0, 0, 0, 0, 0, 0, 0, 0, 0, 0, 0, 0, 0, 0, 0, 0, 0, 0, 0, 0, 0, 0, 0, 0, 0, 0, 0, 0, 0, 0, 0, 0, 0, 0, 0, 0, 0, 0, 0, 0, 0, 0, 0, 0, 0, 0, 0, 0, 0, 0, 0, 0, 0, 0, 0, 0, 0, 0, 0, 0, 0, 0, 0, 0, 0, 0, 0, 0, 0, 0, 0, 0, 0, 0, 0, 0, 0, 0, 0, 0, 0, 0, 0, 0, 0, 0, 0, 0, 0, 0, 0, 0, 0, 0, 0, 0, 0]",
         "neither the reaction time nor the proportion of bird ' s - eye - view strategy use was larger for the sphere - mean time on sphere = 6. 4 a± 2. 5 s versus on plane = 7. 0 a± 2. 4 s, t ( 19 ) = 1. 1, p =. 85, one - sided ; proportion of bird ' s - eye - view perspective on sphere = 7 out of 20 vs. on plane = 5 out of 20, mcnemara test, p =. 31."
        ]
       ],
       "shape": {
        "columns": 3,
        "rows": 10
       }
      },
      "text/html": [
       "<div>\n",
       "<style scoped>\n",
       "    .dataframe tbody tr th:only-of-type {\n",
       "        vertical-align: middle;\n",
       "    }\n",
       "\n",
       "    .dataframe tbody tr th {\n",
       "        vertical-align: top;\n",
       "    }\n",
       "\n",
       "    .dataframe thead th {\n",
       "        text-align: right;\n",
       "    }\n",
       "</style>\n",
       "<table border=\"1\" class=\"dataframe\">\n",
       "  <thead>\n",
       "    <tr style=\"text-align: right;\">\n",
       "      <th></th>\n",
       "      <th>original_text</th>\n",
       "      <th>tokenized_ids</th>\n",
       "      <th>decoded_text</th>\n",
       "    </tr>\n",
       "  </thead>\n",
       "  <tbody>\n",
       "    <tr>\n",
       "      <th>0</th>\n",
       "      <td>Risk taking did not differ between participant...</td>\n",
       "      <td>[101, 3891, 2635, 2106, 2025, 11234, 2090, 681...</td>\n",
       "      <td>risk taking did not differ between participant...</td>\n",
       "    </tr>\n",
       "    <tr>\n",
       "      <th>1</th>\n",
       "      <td>Notably, distance never significantly predicte...</td>\n",
       "      <td>[101, 5546, 1010, 3292, 2196, 6022, 10173, 111...</td>\n",
       "      <td>notably, distance never significantly predicte...</td>\n",
       "    </tr>\n",
       "    <tr>\n",
       "      <th>2</th>\n",
       "      <td>Although perceiving an opportunity to empathiz...</td>\n",
       "      <td>[101, 2348, 2566, 3401, 14966, 2019, 4495, 200...</td>\n",
       "      <td>although perceiving an opportunity to empathiz...</td>\n",
       "    </tr>\n",
       "    <tr>\n",
       "      <th>3</th>\n",
       "      <td>Leader narcissism levels also did not signific...</td>\n",
       "      <td>[101, 3003, 6583, 11890, 14643, 2964, 3798, 20...</td>\n",
       "      <td>leader narcissism levels also did not signific...</td>\n",
       "    </tr>\n",
       "    <tr>\n",
       "      <th>4</th>\n",
       "      <td>Although the number of morphs identified as \"d...</td>\n",
       "      <td>[101, 2348, 1996, 2193, 1997, 22822, 18757, 44...</td>\n",
       "      <td>although the number of morphs identified as \" ...</td>\n",
       "    </tr>\n",
       "    <tr>\n",
       "      <th>5</th>\n",
       "      <td>Most importantly, test anxiety did not predict...</td>\n",
       "      <td>[101, 2087, 14780, 1010, 3231, 10089, 2106, 20...</td>\n",
       "      <td>most importantly, test anxiety did not predict...</td>\n",
       "    </tr>\n",
       "    <tr>\n",
       "      <th>6</th>\n",
       "      <td>There was no significant interaction, F(2.74, ...</td>\n",
       "      <td>[101, 2045, 2001, 2053, 3278, 8290, 1010, 1042...</td>\n",
       "      <td>there was no significant interaction, f ( 2. 7...</td>\n",
       "    </tr>\n",
       "    <tr>\n",
       "      <th>7</th>\n",
       "      <td>The triple interaction (Î² = -0.02, 95% CI = [...</td>\n",
       "      <td>[101, 1996, 6420, 8290, 1006, 1045, 10701, 102...</td>\n",
       "      <td>the triple interaction ( i² = - 0. 02, 95 % ci...</td>\n",
       "    </tr>\n",
       "    <tr>\n",
       "      <th>8</th>\n",
       "      <td>A control model additionally revealed a main e...</td>\n",
       "      <td>[101, 1037, 2491, 2944, 5678, 3936, 1037, 2364...</td>\n",
       "      <td>a control model additionally revealed a main e...</td>\n",
       "    </tr>\n",
       "    <tr>\n",
       "      <th>9</th>\n",
       "      <td>Neither the reaction time nor the proportion o...</td>\n",
       "      <td>[101, 4445, 1996, 4668, 2051, 4496, 1996, 1081...</td>\n",
       "      <td>neither the reaction time nor the proportion o...</td>\n",
       "    </tr>\n",
       "  </tbody>\n",
       "</table>\n",
       "</div>"
      ],
      "text/plain": [
       "                                       original_text  \\\n",
       "0  Risk taking did not differ between participant...   \n",
       "1  Notably, distance never significantly predicte...   \n",
       "2  Although perceiving an opportunity to empathiz...   \n",
       "3  Leader narcissism levels also did not signific...   \n",
       "4  Although the number of morphs identified as \"d...   \n",
       "5  Most importantly, test anxiety did not predict...   \n",
       "6  There was no significant interaction, F(2.74, ...   \n",
       "7  The triple interaction (Î² = -0.02, 95% CI = [...   \n",
       "8  A control model additionally revealed a main e...   \n",
       "9  Neither the reaction time nor the proportion o...   \n",
       "\n",
       "                                       tokenized_ids  \\\n",
       "0  [101, 3891, 2635, 2106, 2025, 11234, 2090, 681...   \n",
       "1  [101, 5546, 1010, 3292, 2196, 6022, 10173, 111...   \n",
       "2  [101, 2348, 2566, 3401, 14966, 2019, 4495, 200...   \n",
       "3  [101, 3003, 6583, 11890, 14643, 2964, 3798, 20...   \n",
       "4  [101, 2348, 1996, 2193, 1997, 22822, 18757, 44...   \n",
       "5  [101, 2087, 14780, 1010, 3231, 10089, 2106, 20...   \n",
       "6  [101, 2045, 2001, 2053, 3278, 8290, 1010, 1042...   \n",
       "7  [101, 1996, 6420, 8290, 1006, 1045, 10701, 102...   \n",
       "8  [101, 1037, 2491, 2944, 5678, 3936, 1037, 2364...   \n",
       "9  [101, 4445, 1996, 4668, 2051, 4496, 1996, 1081...   \n",
       "\n",
       "                                        decoded_text  \n",
       "0  risk taking did not differ between participant...  \n",
       "1  notably, distance never significantly predicte...  \n",
       "2  although perceiving an opportunity to empathiz...  \n",
       "3  leader narcissism levels also did not signific...  \n",
       "4  although the number of morphs identified as \" ...  \n",
       "5  most importantly, test anxiety did not predict...  \n",
       "6  there was no significant interaction, f ( 2. 7...  \n",
       "7  the triple interaction ( i² = - 0. 02, 95 % ci...  \n",
       "8  a control model additionally revealed a main e...  \n",
       "9  neither the reaction time nor the proportion o...  "
      ]
     },
     "execution_count": 11,
     "metadata": {},
     "output_type": "execute_result"
    }
   ],
   "source": [
    "# Collect comparison data for the first 20 samples (adjust as needed)\n",
    "comparison = []\n",
    "for i in range(224):\n",
    "    original = train_dataset[i]['text']\n",
    "    input_ids = tokenized_train[i]['input_ids']\n",
    "    decoded = tokenizer.decode(input_ids, skip_special_tokens=True)\n",
    "    comparison.append({\n",
    "        \"original_text\": original,\n",
    "        \"tokenized_ids\": input_ids,\n",
    "        \"decoded_text\": decoded\n",
    "    })\n",
    "\n",
    "# Create DataFrame\n",
    "df_comparison = pd.DataFrame(comparison)\n",
    "\n",
    "# Show header\n",
    "df_comparison.head(10)\n",
    "\n",
    "# Save to CSV\n",
    "# df_comparison.to_csv(\"tokenization_comparison.csv\", index=False)\n",
    "# print(\"Saved as tokenization_comparison.csv\")"
   ]
  },
  {
   "cell_type": "markdown",
   "id": "8f2bf57e",
   "metadata": {},
   "source": [
    "## 3. Regular BERT"
   ]
  },
  {
   "cell_type": "markdown",
   "id": "ef0e7023",
   "metadata": {},
   "source": [
    "### 3.1 Initializing regular BERT"
   ]
  },
  {
   "cell_type": "code",
   "execution_count": 12,
   "id": "d32e1ea4",
   "metadata": {},
   "outputs": [
    {
     "name": "stderr",
     "output_type": "stream",
     "text": [
      "Some weights of BertForSequenceClassification were not initialized from the model checkpoint at bert-base-uncased and are newly initialized: ['classifier.bias', 'classifier.weight']\n",
      "You should probably TRAIN this model on a down-stream task to be able to use it for predictions and inference.\n"
     ]
    }
   ],
   "source": [
    "from transformers import AutoModelForSequenceClassification\n",
    "\n",
    "model_bert = AutoModelForSequenceClassification.from_pretrained(\"bert-base-uncased\", num_labels=num_labels)"
   ]
  },
  {
   "cell_type": "markdown",
   "id": "df611f60",
   "metadata": {},
   "source": [
    "### 3.2 Training regular BERT"
   ]
  },
  {
   "cell_type": "code",
   "execution_count": 13,
   "id": "7b330cbd",
   "metadata": {},
   "outputs": [
    {
     "name": "stdout",
     "output_type": "stream",
     "text": [
      "WARNING:tensorflow:From c:\\Users\\Raphael\\Documents\\GitHub\\nonsig-master-thesis\\venv\\Lib\\site-packages\\tf_keras\\src\\losses.py:2976: The name tf.losses.sparse_softmax_cross_entropy is deprecated. Please use tf.compat.v1.losses.sparse_softmax_cross_entropy instead.\n",
      "\n"
     ]
    },
    {
     "name": "stderr",
     "output_type": "stream",
     "text": [
      "C:\\Users\\Raphael\\AppData\\Local\\Temp\\ipykernel_22864\\617370419.py:28: FutureWarning: `tokenizer` is deprecated and will be removed in version 5.0.0 for `Trainer.__init__`. Use `processing_class` instead.\n",
      "  trainer_bert = Trainer(\n"
     ]
    }
   ],
   "source": [
    "# Standard Setup for training a model with Huggingface Transformers\n",
    "from transformers import DataCollatorWithPadding\n",
    "from transformers import TrainingArguments, Trainer\n",
    "import evaluate\n",
    "import numpy as np\n",
    "\n",
    "data_collator = DataCollatorWithPadding(tokenizer=tokenizer)\n",
    "\n",
    "metric = evaluate.load(\"accuracy\")\n",
    "\n",
    "def compute_metrics(eval_pred):\n",
    "    logits, labels = eval_pred\n",
    "    predictions = np.argmax(logits, axis=-1)\n",
    "    return metric.compute(predictions=predictions, references=labels)\n",
    "\n",
    "training_args = TrainingArguments(\n",
    "    output_dir=\"./results\",\n",
    "    learning_rate=2e-5, # Specify learning rate for BERT\n",
    "    per_device_train_batch_size=8,\n",
    "    per_device_eval_batch_size=8,\n",
    "    num_train_epochs=5,\n",
    "    weight_decay=0.01,\n",
    "    logging_strategy=\"epoch\",\n",
    "    report_to=\"none\",\n",
    ")\n",
    "\n",
    "# Model specific setup\n",
    "trainer_bert = Trainer(\n",
    "    model=model_bert,\n",
    "    args=training_args,\n",
    "    train_dataset=tokenized_train,\n",
    "    eval_dataset=tokenized_test,\n",
    "    tokenizer=tokenizer,\n",
    "    data_collator=data_collator,\n",
    "    compute_metrics=compute_metrics\n",
    ")"
   ]
  },
  {
   "cell_type": "code",
   "execution_count": 14,
   "id": "a0ab3c9e",
   "metadata": {},
   "outputs": [
    {
     "data": {
      "text/html": [
       "\n",
       "    <div>\n",
       "      \n",
       "      <progress value='200' max='200' style='width:300px; height:20px; vertical-align: middle;'></progress>\n",
       "      [200/200 01:04, Epoch 5/5]\n",
       "    </div>\n",
       "    <table border=\"1\" class=\"dataframe\">\n",
       "  <thead>\n",
       " <tr style=\"text-align: left;\">\n",
       "      <th>Step</th>\n",
       "      <th>Training Loss</th>\n",
       "    </tr>\n",
       "  </thead>\n",
       "  <tbody>\n",
       "    <tr>\n",
       "      <td>40</td>\n",
       "      <td>0.695900</td>\n",
       "    </tr>\n",
       "    <tr>\n",
       "      <td>80</td>\n",
       "      <td>0.490100</td>\n",
       "    </tr>\n",
       "    <tr>\n",
       "      <td>120</td>\n",
       "      <td>0.157900</td>\n",
       "    </tr>\n",
       "    <tr>\n",
       "      <td>160</td>\n",
       "      <td>0.059100</td>\n",
       "    </tr>\n",
       "    <tr>\n",
       "      <td>200</td>\n",
       "      <td>0.043200</td>\n",
       "    </tr>\n",
       "  </tbody>\n",
       "</table><p>"
      ],
      "text/plain": [
       "<IPython.core.display.HTML object>"
      ]
     },
     "metadata": {},
     "output_type": "display_data"
    },
    {
     "data": {
      "text/plain": [
       "TrainOutput(global_step=200, training_loss=0.2892455101013184, metrics={'train_runtime': 66.3585, 'train_samples_per_second': 23.961, 'train_steps_per_second': 3.014, 'total_flos': 226332035375400.0, 'train_loss': 0.2892455101013184, 'epoch': 5.0})"
      ]
     },
     "execution_count": 14,
     "metadata": {},
     "output_type": "execute_result"
    }
   ],
   "source": [
    "trainer_bert.train()"
   ]
  },
  {
   "cell_type": "markdown",
   "id": "86a63e73",
   "metadata": {},
   "source": [
    "#### 3.2.1 Save last model"
   ]
  },
  {
   "cell_type": "code",
   "execution_count": 15,
   "id": "ab2a5e7a",
   "metadata": {},
   "outputs": [],
   "source": [
    "# trainer_bert.save_model('bert_model')"
   ]
  },
  {
   "cell_type": "markdown",
   "id": "63996c7d",
   "metadata": {},
   "source": [
    "### 3.3 Evaluate model"
   ]
  },
  {
   "cell_type": "markdown",
   "id": "42526e66",
   "metadata": {},
   "source": [
    "#### 3.3.1 Predict training data"
   ]
  },
  {
   "cell_type": "code",
   "execution_count": 16,
   "id": "1016cf86",
   "metadata": {},
   "outputs": [
    {
     "data": {
      "text/html": [],
      "text/plain": [
       "<IPython.core.display.HTML object>"
      ]
     },
     "metadata": {},
     "output_type": "display_data"
    },
    {
     "name": "stdout",
     "output_type": "stream",
     "text": [
      "              precision    recall  f1-score   support\n",
      "\n",
      "           0       0.99      0.99      0.99       159\n",
      "           1       0.99      0.99      0.99       159\n",
      "\n",
      "    accuracy                           0.99       318\n",
      "   macro avg       0.99      0.99      0.99       318\n",
      "weighted avg       0.99      0.99      0.99       318\n",
      "\n"
     ]
    }
   ],
   "source": [
    "from sklearn.metrics import classification_report\n",
    "\n",
    "preds = trainer_bert.predict(tokenized_train)\n",
    "preds = np.argmax(preds[:3][0],axis=1)\n",
    "GT = df_train['label'].tolist()\n",
    "print(classification_report(GT,preds))"
   ]
  },
  {
   "cell_type": "markdown",
   "id": "ee34e701",
   "metadata": {},
   "source": [
    "#### 3.3.2 Predict test data"
   ]
  },
  {
   "cell_type": "code",
   "execution_count": 17,
   "id": "c1671518",
   "metadata": {},
   "outputs": [
    {
     "data": {
      "text/html": [],
      "text/plain": [
       "<IPython.core.display.HTML object>"
      ]
     },
     "metadata": {},
     "output_type": "display_data"
    },
    {
     "name": "stdout",
     "output_type": "stream",
     "text": [
      "              precision    recall  f1-score   support\n",
      "\n",
      "           0       0.81      0.97      0.89        40\n",
      "           1       0.97      0.78      0.86        40\n",
      "\n",
      "    accuracy                           0.88        80\n",
      "   macro avg       0.89      0.88      0.87        80\n",
      "weighted avg       0.89      0.88      0.87        80\n",
      "\n"
     ]
    }
   ],
   "source": [
    "preds = trainer_bert.predict(tokenized_test)\n",
    "preds = np.argmax(preds[:3][0],axis=1) #preds[:3][1]\n",
    "GT = df_test['label'].tolist()\n",
    "print(classification_report(GT,preds))"
   ]
  },
  {
   "cell_type": "markdown",
   "id": "e2830b7b",
   "metadata": {},
   "source": [
    "#### 3.3.3 4.3.3 Confusion-Matrix for test data"
   ]
  },
  {
   "cell_type": "code",
   "execution_count": 18,
   "id": "bc29093b",
   "metadata": {},
   "outputs": [
    {
     "data": {
      "image/png": "[encoded data removed]",
      "text/plain": [
       "<Figure size 600x500 with 2 Axes>"
      ]
     },
     "metadata": {},
     "output_type": "display_data"
    }
   ],
   "source": [
    "import seaborn as sns\n",
    "from sklearn.metrics import confusion_matrix\n",
    "\n",
    "import matplotlib.pyplot as plt\n",
    "\n",
    "# Use predictions and ground truth from previous evaluation on test set\n",
    "conf_matrix = confusion_matrix(GT, preds)\n",
    "\n",
    "plt.figure(figsize=(6,5))\n",
    "sns.heatmap(conf_matrix, annot=True, fmt='d', cmap='Blues',\n",
    "            xticklabels=[\"Predicted 0\", \"Predicted 1\"],\n",
    "            yticklabels=[\"Actual 0\", \"Actual 1\"])\n",
    "\n",
    "plt.xlabel('Predicted Label')\n",
    "plt.ylabel('True Label')\n",
    "plt.title('Confusion Matrix')\n",
    "plt.show()"
   ]
  },
  {
   "cell_type": "markdown",
   "id": "12e9b778",
   "metadata": {},
   "source": [
    "#### 3.3.4 List of statements per category (TP, TN, FP, FN)"
   ]
  },
  {
   "cell_type": "code",
   "execution_count": 19,
   "id": "07366994",
   "metadata": {},
   "outputs": [],
   "source": [
    "# Get ground truth and predictions for test set\n",
    "y_true = df_test['label'].tolist()\n",
    "y_pred = preds\n",
    "\n",
    "# True Positives: predicted 1, actual 1\n",
    "true_positives = df_test[(df_test['label'] == 1) & (y_pred == 1)]\n",
    "\n",
    "# True Negatives: predicted 0, actual 0\n",
    "true_negatives = df_test[(df_test['label'] == 0) & (y_pred == 0)]\n",
    "\n",
    "# False Positives: predicted 1, actual 0\n",
    "false_positives = df_test[(df_test['label'] == 0) & (y_pred == 1)]\n",
    "\n",
    "# False Negatives: predicted 0, actual 1\n",
    "false_negatives = df_test[(df_test['label'] == 1) & (y_pred == 0)]\n",
    "\n",
    "# Function to print statements\n",
    "import pandas as pd\n",
    "from IPython.display import display\n",
    "\n",
    "def display_statements(df, title):\n",
    "    if not df.empty:\n",
    "        print(f\"\\n{title} (count: {len(df)})\")\n",
    "        display(df[['text']].reset_index(drop=True))\n",
    "    else:\n",
    "        print(f\"\\n{title}: None\")"
   ]
  },
  {
   "cell_type": "code",
   "execution_count": 20,
   "id": "2433dc88",
   "metadata": {},
   "outputs": [
    {
     "name": "stdout",
     "output_type": "stream",
     "text": [
      "\n",
      "True Positives (predicted 1, actual 1) (count: 31)\n"
     ]
    },
    {
     "data": {
      "application/vnd.microsoft.datawrangler.viewer.v0+json": {
       "columns": [
        {
         "name": "index",
         "rawType": "int64",
         "type": "integer"
        },
        {
         "name": "text",
         "rawType": "object",
         "type": "string"
        }
       ],
       "ref": "dadbf355-1645-4b23-b037-6d35fe9ba74e",
       "rows": [
        [
         "0",
         "Post hoc simple-effects analyses revealed that serial position did not affect the number of recalled distinct attributes, B = -0.02, t(1,510) = -0.39, p = .700, d = 0.01."
        ],
        [
         "1",
         "First, participant height (added as a fixed factor to the intercept-only model) had no effect on aggressive behavior, Wald Ï‡ 2 (1) = 0.10, b = -0.024, SE = 0.074, 95% CI = [-0.169, 0.122], p = .749 (QICc = 166.91)."
        ],
        [
         "2",
         "However, velocity was not increased or decreased in the 10-pence-loss condition (M = 427Â°/s -1, SEM = 12) compared with the 0-pence-loss condition (M = 434Â°/s -1, SEM = 12), t(24) = 0.79, p = .21."
        ],
        [
         "3",
         "We observed no such increase in the congruent condition (Block 1: M = .86, SD = .24; Block 2: M = .90, SD = .19; V = 36, p = .315, r = -.76, 95% CI = [-0.27, 0.07])."
        ],
        [
         "4",
         "In contrast, atomoxetine did not increase risky helping compared with the placebo (b = -0.01, SE = 0.04, p = .787)."
        ],
        [
         "5",
         "Non-attraction-effect choices were very rare and, like decoy choices, they likely reflect noisy responding; they were more common among people with lower cognitive ability, b = 0.689, 95% CI = [0.357, 1.021], p < .001, but did not differ between the ASC and control groups, b = -0.037, 95% CI = [-0.381, 0.307], p = .834, and were unrelated to age, b = 0.014, 95% CI = [-0.295, 0.324], p = .929, or gender, b = -0.229, 95% CI = [-0.528, 0.069], p = .132."
        ],
        [
         "6",
         "For adults, patterns were similar to those in infants for high-variability videos: d was greater for Segment 2 than both Segments 1 and 3 (ps < .001), and there was no difference between Segments 1 and 3 (p = .190); but when adults learned faces from low-variability videos, there was no decrease of d from Segment 1 to Segment 2 (p = .121) or from Segment 2 to Segment 3 (p = .076) but a decrease of d from Segment 1 to Segment 3 (p = .006)."
        ],
        [
         "7",
         "There was no correlation between the reproduced time intervals and the effect of alpha tACS-Pearson's r(28) = -.004, p = .982."
        ],
        [
         "8",
         "Results were also independent of the reliability of candidate traits (r = -.02, p = .91)."
        ],
        [
         "9",
         "This finding was similar to that in the forced-stay condition, in which 38% of lies resulted in the highest possible monetary return, Ï‡ 2 (1, N = 178) = 0.48, p = .49."
        ],
        [
         "10",
         "Importantly, it was comparable with that in the alertness-training group in Study 2, t(52) = 0.40, p = .690, 95% CI for the mean difference = [-.06, .09], Cohen's d = 0.11 (Figs. 2b and 3c)."
        ],
        [
         "11",
         "Depending on the outcome measure, individuals with a higher level of commitment experienced no change or a deterioration in well-being following infidelity (socialization effects at 1 SD above the mean of commitment: relationship satisfaction b = -0.03, p = .260; intimacy b = -0.02, p = .320; admiration b = -0.04, p = .037; conflict b = 0.002, p = .915)."
        ],
        [
         "12",
         "Time of day did not interact with type of day (i.e., social isolation vs. baseline) for any of the above momentary state measures (p > .08)."
        ],
        [
         "13",
         "There was no difference in the ratings given to faces in the other-slow and other-fast conditions, t(28) = 1.44, p = .16, Cohen's d = 0.27."
        ],
        [
         "14",
         "At T0, after adjusting for covariates (age at T0, sex, Latino identity, duration between biological sample collection, and T0 child adversity exposure), BEC proportion-adjusted PedBE age acceleration was the same across CPP treatment (Î¼ = -0.06) and propensity-matched and weighted community (Î¼ = -0.06) samples, F(1, 148) = 0.03, p = .854, Cohen's f = 0.0, 95% CI = [0.00, 1.00]."
        ],
        [
         "15",
         "There was no effect of session for bimodal bilinguals (Î² = -0.50, SE = 1.52, z = -0.33, p = .74), indicating that the increase in semantically specific manual productions in bimodal bilinguals' descriptions was not due to or primed by describing similar pictures in an earlier session in NGT (for information on the order analysis, see the Supplemental Material)."
        ],
        [
         "16",
         "RTs significantly varied according to recognition judgment, F(3.58, 3303.28) = 54.86, p < .001, Î· p 2 = .056, and there was no interaction with age (p = .862; all Greenhouse-Geisser adjusted)."
        ],
        [
         "17",
         "Children and adults pressed the button with equal frequency (p = .51; children: 79%, adults: 76%, Supplemental Fig."
        ],
        [
         "18",
         "In contrast, there was no difference between the sham tACS and alpha tACS conditions (p = .475)."
        ],
        [
         "19",
         "In keeping with an absence of an effect of M1 TMS on confidence, results showed that M1 stimulation had no effect on metacognitive efficiency, F(1, 16) = 0.13, p = .73, Î· p 2 = .008 (Fig."
        ],
        [
         "20",
         "There was no main effect of ambiguity on cash-out propensity-Experiment 1: Ï‡ 2 (1) = 0.18, p = .67; Experiment 2: Ï‡ 2 (1) = 0.51, p = .48-and no evidence that cash-out propensity varied as a function of when during the delay period a cash-out offer was made-Experiment 1: Ï‡ 2 (1) = 0.76, Î² = -0.05, SE = 0.06, p = .38; Experiment 2: Ï‡ 2 (1) = 2.10, Î² = -0.05, SE = 0.04, p = .15."
        ],
        [
         "21",
         "As expected, there was no difference between participants in the agreeing-and self-perspective conditions (d = 0.12, p = .06)."
        ],
        [
         "22",
         "For âˆ†Î¸ Ë†crit values derived from highversus low-friction trials, values were different from 0Â° in the live-observation group, t(33) = 5.495, p < .001, d = 0.942, and the interaction group, t(31) = 5.339, p < .001, d = 0.851, but not in the video-observation group, t(29) = 1.232, p = .228, d = 0.225."
        ],
        [
         "23",
         "By contrast, there was no evidence of differential responding to the CS+ and the CS-among the unaware participants, F(1, 14) = 1.42, p = .254, 95% CI = [-0.16, 0.41], and no interaction with linear trend over blocks, F < 1."
        ],
        [
         "24",
         "However, auditory attention ability did not predict listening-related fatigue (b 1 : b = 0.023, p = .50)."
        ],
        [
         "25",
         "In addition, fit did not improve when the Distance Ã— Hand Position interaction (and main effects) was tested against the model including only the two main effects, Ï‡ 2 (1, N = 20) = 1, p = .315."
        ],
        [
         "26",
         "Most importantly, neither the effect of the stimulation, F(2, 58) = 0.970, p = .385, Î· p 2 = .032, nor its interaction with age level, F(12, 348) = 0.694, p = .758, Î· p 2 = .23, were significant, suggesting that age estimation was not modulated by alpha or beta oscillations (for the analysis comparing the MTT task with the age estimation task, see \"Supplementary Results\" at <https://osf.io/24cs7/>)."
        ],
        [
         "27",
         "Similarly, further analysis indicated that there was no association between imagine-to-hear errors and score on the LSHS-E, r S (1377) = -.005, 95% CI = [-.06, .05], p = .839."
        ],
        [
         "28",
         "The decline in the joy condition did not differ from that in the awe condition, b = -0.30, SE = 0.26, t(348) = -1.18, p = .240, Î· p 2 < .01 (see Table S15 in the Supplemental Material for descriptive statistics)."
        ],
        [
         "29",
         "There was no First Fixation Ã— Expected Value interaction, b = -0.54, SE = 0.74, z = -0.72, p = .47."
        ],
        [
         "30",
         "On the other hand, the quadratic component of age was marginally associated with influence magnitude under selfish influence (slope = 32.96, SE = 18.21, p = .072) but not under prosocial influence (slope = -1.11, SE = 10.60, p = .917)."
        ]
       ],
       "shape": {
        "columns": 1,
        "rows": 31
       }
      },
      "text/html": [
       "<div>\n",
       "<style scoped>\n",
       "    .dataframe tbody tr th:only-of-type {\n",
       "        vertical-align: middle;\n",
       "    }\n",
       "\n",
       "    .dataframe tbody tr th {\n",
       "        vertical-align: top;\n",
       "    }\n",
       "\n",
       "    .dataframe thead th {\n",
       "        text-align: right;\n",
       "    }\n",
       "</style>\n",
       "<table border=\"1\" class=\"dataframe\">\n",
       "  <thead>\n",
       "    <tr style=\"text-align: right;\">\n",
       "      <th></th>\n",
       "      <th>text</th>\n",
       "    </tr>\n",
       "  </thead>\n",
       "  <tbody>\n",
       "    <tr>\n",
       "      <th>0</th>\n",
       "      <td>Post hoc simple-effects analyses revealed that...</td>\n",
       "    </tr>\n",
       "    <tr>\n",
       "      <th>1</th>\n",
       "      <td>First, participant height (added as a fixed fa...</td>\n",
       "    </tr>\n",
       "    <tr>\n",
       "      <th>2</th>\n",
       "      <td>However, velocity was not increased or decreas...</td>\n",
       "    </tr>\n",
       "    <tr>\n",
       "      <th>3</th>\n",
       "      <td>We observed no such increase in the congruent ...</td>\n",
       "    </tr>\n",
       "    <tr>\n",
       "      <th>4</th>\n",
       "      <td>In contrast, atomoxetine did not increase risk...</td>\n",
       "    </tr>\n",
       "    <tr>\n",
       "      <th>5</th>\n",
       "      <td>Non-attraction-effect choices were very rare a...</td>\n",
       "    </tr>\n",
       "    <tr>\n",
       "      <th>6</th>\n",
       "      <td>For adults, patterns were similar to those in ...</td>\n",
       "    </tr>\n",
       "    <tr>\n",
       "      <th>7</th>\n",
       "      <td>There was no correlation between the reproduce...</td>\n",
       "    </tr>\n",
       "    <tr>\n",
       "      <th>8</th>\n",
       "      <td>Results were also independent of the reliabili...</td>\n",
       "    </tr>\n",
       "    <tr>\n",
       "      <th>9</th>\n",
       "      <td>This finding was similar to that in the forced...</td>\n",
       "    </tr>\n",
       "    <tr>\n",
       "      <th>10</th>\n",
       "      <td>Importantly, it was comparable with that in th...</td>\n",
       "    </tr>\n",
       "    <tr>\n",
       "      <th>11</th>\n",
       "      <td>Depending on the outcome measure, individuals ...</td>\n",
       "    </tr>\n",
       "    <tr>\n",
       "      <th>12</th>\n",
       "      <td>Time of day did not interact with type of day ...</td>\n",
       "    </tr>\n",
       "    <tr>\n",
       "      <th>13</th>\n",
       "      <td>There was no difference in the ratings given t...</td>\n",
       "    </tr>\n",
       "    <tr>\n",
       "      <th>14</th>\n",
       "      <td>At T0, after adjusting for covariates (age at ...</td>\n",
       "    </tr>\n",
       "    <tr>\n",
       "      <th>15</th>\n",
       "      <td>There was no effect of session for bimodal bil...</td>\n",
       "    </tr>\n",
       "    <tr>\n",
       "      <th>16</th>\n",
       "      <td>RTs significantly varied according to recognit...</td>\n",
       "    </tr>\n",
       "    <tr>\n",
       "      <th>17</th>\n",
       "      <td>Children and adults pressed the button with eq...</td>\n",
       "    </tr>\n",
       "    <tr>\n",
       "      <th>18</th>\n",
       "      <td>In contrast, there was no difference between t...</td>\n",
       "    </tr>\n",
       "    <tr>\n",
       "      <th>19</th>\n",
       "      <td>In keeping with an absence of an effect of M1 ...</td>\n",
       "    </tr>\n",
       "    <tr>\n",
       "      <th>20</th>\n",
       "      <td>There was no main effect of ambiguity on cash-...</td>\n",
       "    </tr>\n",
       "    <tr>\n",
       "      <th>21</th>\n",
       "      <td>As expected, there was no difference between p...</td>\n",
       "    </tr>\n",
       "    <tr>\n",
       "      <th>22</th>\n",
       "      <td>For âˆ†Î¸ Ë†crit values derived from highversu...</td>\n",
       "    </tr>\n",
       "    <tr>\n",
       "      <th>23</th>\n",
       "      <td>By contrast, there was no evidence of differen...</td>\n",
       "    </tr>\n",
       "    <tr>\n",
       "      <th>24</th>\n",
       "      <td>However, auditory attention ability did not pr...</td>\n",
       "    </tr>\n",
       "    <tr>\n",
       "      <th>25</th>\n",
       "      <td>In addition, fit did not improve when the Dist...</td>\n",
       "    </tr>\n",
       "    <tr>\n",
       "      <th>26</th>\n",
       "      <td>Most importantly, neither the effect of the st...</td>\n",
       "    </tr>\n",
       "    <tr>\n",
       "      <th>27</th>\n",
       "      <td>Similarly, further analysis indicated that the...</td>\n",
       "    </tr>\n",
       "    <tr>\n",
       "      <th>28</th>\n",
       "      <td>The decline in the joy condition did not diffe...</td>\n",
       "    </tr>\n",
       "    <tr>\n",
       "      <th>29</th>\n",
       "      <td>There was no First Fixation Ã— Expected Value ...</td>\n",
       "    </tr>\n",
       "    <tr>\n",
       "      <th>30</th>\n",
       "      <td>On the other hand, the quadratic component of ...</td>\n",
       "    </tr>\n",
       "  </tbody>\n",
       "</table>\n",
       "</div>"
      ],
      "text/plain": [
       "                                                 text\n",
       "0   Post hoc simple-effects analyses revealed that...\n",
       "1   First, participant height (added as a fixed fa...\n",
       "2   However, velocity was not increased or decreas...\n",
       "3   We observed no such increase in the congruent ...\n",
       "4   In contrast, atomoxetine did not increase risk...\n",
       "5   Non-attraction-effect choices were very rare a...\n",
       "6   For adults, patterns were similar to those in ...\n",
       "7   There was no correlation between the reproduce...\n",
       "8   Results were also independent of the reliabili...\n",
       "9   This finding was similar to that in the forced...\n",
       "10  Importantly, it was comparable with that in th...\n",
       "11  Depending on the outcome measure, individuals ...\n",
       "12  Time of day did not interact with type of day ...\n",
       "13  There was no difference in the ratings given t...\n",
       "14  At T0, after adjusting for covariates (age at ...\n",
       "15  There was no effect of session for bimodal bil...\n",
       "16  RTs significantly varied according to recognit...\n",
       "17  Children and adults pressed the button with eq...\n",
       "18  In contrast, there was no difference between t...\n",
       "19  In keeping with an absence of an effect of M1 ...\n",
       "20  There was no main effect of ambiguity on cash-...\n",
       "21  As expected, there was no difference between p...\n",
       "22  For âˆ†Î¸ Ë†crit values derived from highversu...\n",
       "23  By contrast, there was no evidence of differen...\n",
       "24  However, auditory attention ability did not pr...\n",
       "25  In addition, fit did not improve when the Dist...\n",
       "26  Most importantly, neither the effect of the st...\n",
       "27  Similarly, further analysis indicated that the...\n",
       "28  The decline in the joy condition did not diffe...\n",
       "29  There was no First Fixation Ã— Expected Value ...\n",
       "30  On the other hand, the quadratic component of ..."
      ]
     },
     "metadata": {},
     "output_type": "display_data"
    }
   ],
   "source": [
    "display_statements(true_positives, \"True Positives (predicted 1, actual 1)\")"
   ]
  },
  {
   "cell_type": "code",
   "execution_count": 21,
   "id": "64f843b9",
   "metadata": {},
   "outputs": [
    {
     "name": "stdout",
     "output_type": "stream",
     "text": [
      "\n",
      "True Negatives (predicted 0, actual 0) (count: 39)\n"
     ]
    },
    {
     "data": {
      "application/vnd.microsoft.datawrangler.viewer.v0+json": {
       "columns": [
        {
         "name": "index",
         "rawType": "int64",
         "type": "integer"
        },
        {
         "name": "text",
         "rawType": "object",
         "type": "string"
        }
       ],
       "ref": "702032e5-7d00-4dd7-a018-bf0d3ddfc49f",
       "rows": [
        [
         "0",
         "Tukey's honestly significant difference (HSD) tests revealed significant differences between all pairwise positions (all ps < .001) except Position 2 versus Position 3, t(116) = 2.28, p = .16, Position 2 versus Position 4, t(116) = .574, p = .98, and Position 3 versus Position 4, t(116) = -1.712, p = .43."
        ],
        [
         "1",
         "We found no significant difference between the high-pitch and neutral conditions, t(28) = 0.30, p = .77, Cohen's d = 0.055, BF 01 = 4.86 (range in which scales were consistent with support for the null hypothesis = 0.393-2), or between the low-pitch and neutral conditions, t(28) = 0.79, p = .43, Cohen's d = 0.15, BF 01 = 3.80 (range in which scales were consistent with support for the null hypothesis = 0.528-2)."
        ],
        [
         "2",
         "There were no significant differences by gender in the likelihood of challenging speakers (12% of men, 15% of women), b = 0.02, t(187) = 0.42, p = .676, 95% CI = [-0.09, 0.14]."
        ],
        [
         "3",
         "Among participants using the optimal strategy during generalization (Fig. 4d), control participants performed significantly better than dyslexia participants in the information-integration task, t(14.9) = 3.21, p = .0059, d = 1.36, 95% CI = [3.69, 18.3], but not the rule-based task, t(30.5) = 1.38, p = .18, d = 0.48, 95% CI = [-3.13, 16.3]."
        ],
        [
         "4",
         "The effect of transaction frame did not significantly interact with ownership status, F(1, 268) = 0.67, p = .796, Î· p 2 = .000."
        ],
        [
         "5",
         "The effect of host-country tightness was not significant, Wald Ï‡ 2 = 1.43, p = .232."
        ],
        [
         "6",
         "The LPE effect was reduced to 3.3% in the similarity condition, which was not statistically significant, t(16) = 0.76, p = .46, Î± = .025."
        ],
        [
         "7",
         "In contrast, non-White AI faces (left side of Fig. 2a) were judged as human at around chance levels, M non-White-AI = 50.5%, t(314) = 0.41, p = .682, d = 0.02, 95% CI = [-0.09, 0.13], which did not differ significantly from how often non-White human faces were judged to be human, versus M non-White-human = 51.3%, t(314) = 0.74, p = .461, d = 0.04, 95% CI = [-0.07, 0.15]."
        ],
        [
         "8",
         "However, pupil dilation was not significantly different in the 10-pencegain condition (M = 376 units, SEM = 32) than in the 0-pence-gain condition (M = 369 units, SEM = 31), t(29) = 0.99, p = .17."
        ],
        [
         "9",
         "Results revealed no significant relationships between small-scale heart rate standard deviation and self-reported fear (Model 4a: Î² = 7.42, SE = 6.34, p = .245), nor between small-scale heart rate skewness and self-reported fear (Model 5a: Î² = 8.21, SE = 8.86, p = .357)."
        ],
        [
         "10",
         "The three-way Configuration Ã— Decoy Ã— Choice interaction in a log linear analysis was nonsignificant, Ï‡ 2 (1, N = 768) = 2.85, p = .09."
        ],
        [
         "11",
         "For the recognition data, the NHST analysis showed no significant effects of state of mind on any of the measures of correct or false memories (lowest p = .077)."
        ],
        [
         "12",
         "We found no gender differences in task performance, t(51) = -0.66, p > .250."
        ],
        [
         "13",
         "We ran a mixed analysis of variance on the percentage of faces judged as human with face type (White AI, White human) within subjects and participant race (White, non-White) between subjects and found no significant main effect of participant race, F(1, 313) = 1.23, MSE = 267.22, p = .268, or interaction with face type, F(1, 313) = 1.01, MSE = 581.35, p = .316."
        ],
        [
         "14",
         "Study S2 shows that participants imagined people with depression as a bit shorter than people without depression, but this result did not reach conventional statistical significance (p = .08, d = 0.26)."
        ],
        [
         "15",
         "In contrast, performance for White human faces did not differ significantly from chance, t(123) = 0.60, p = .550, d = 0.05, 95% CI [-0.12, 0.23]."
        ],
        [
         "16",
         "There was no significant interaction between participant height and opponent height, Wald Ï‡ 2 (1) = 0.38, b = 0.042, SE = 0.068, 95% CI = [-0.091, 0.174], p = .540 (QICc = 203.85)."
        ],
        [
         "17",
         "Here, too, the interaction effects were nonsignificant-perceived scientific consensus: b = -1.68, t(20) = -0.53, p = .600; factual beliefs: b = -0.95, t(23) = -0.90, p = .378."
        ],
        [
         "18",
         "Importantly, the effect of mental rehearsal was not significant, z = 0.73, exp(b) = 1.07, 95% CI = [0.90, 1.27], p = .464, nor was the Mental Rehearsal Ã— Visual Cue interaction, z = -0.02, exp(b) = 1.00, 95% CI = [0.70, 1.41], p = .984."
        ],
        [
         "19",
         "Finally, there was no significant interaction between absolute height and opponent height, Wald Ï‡ 2 (1) = 0.13, b = 0.001, SE = 0.001, 95% CI = [-0.002, 0.003], p = .718 (QICc = 117.75)."
        ],
        [
         "20",
         "For groups added to the analysis, no significant difference was observed in the probability of strike calls after an ejection, both for individuals ejected for verbal aggression unrelated to the strike zone (OR = 0.897, 95% CI = [0.713, 1.129], p = .6170 for the offending team; OR = 0.995, 95% CI = [0.785, 1.262], p = 1.000 for the opposing team) and for aggressive behavior against the other team (OR = 1.092, 95% CI = [0.814, 1.465], p = .8673 for the offending team; OR = 1.234, 95% CI = [0.916, 1.662], p = .2659 for the opposing team)."
        ],
        [
         "21",
         "Performance was fastest for the biggest and smallest positions compared with the inner positions, with no significant difference between the outer two positions, t(116) = -1.417, p = .62, and was slightly faster for sets with one dot, M = 970, SE = 30.60, 95% CI = [907, 1,032], compared with three dots, M = 1,015, SE = 30.6, 95% CI = [953, 1,077], and five dots, M = 1,004, SE = 30.6, 95% CI = 942, 1,066]."
        ],
        [
         "22",
         "The senders' overall corrugator activity was not significantly different during touch compared with baseline (EMM = .06, 95% CI = [-.04, .157]), t(28) = 1.14, p = .264, but did vary significantly with cue, F(5, 891) = 8.58, p < .001 (Fig. 2b)."
        ],
        [
         "23",
         "Mean classification RTs did not significantly differ between the deep (M = 701 ms, SE = 6) and shallow (M = 700 ms, SE = 7) conditions, t(1048) = 0.02, p = .985, d = 0.001, 95% confidence interval (CI) = [-0.12, 0.12]."
        ],
        [
         "24",
         "SES was not significantly related to behavior in the dictator game, Wald Ï‡ 2 (1) = 0.61, b = 0.092, SE = 0.118, 95% CI = [-0.139, 0.323], p = .436."
        ],
        [
         "25",
         "Further, the reactivation-only group, t(68) = 1.00, p = .32, and the Tetris-only group, t(68) = 0.36, p = .72, did not differ significantly from the no-task control group."
        ],
        [
         "26",
         "Again, no significant interaction effect was found, b = -0.13, t(30) = -0.24, p = .810."
        ],
        [
         "27",
         "Moreover, using markers of higher-quality listening had a positive significant effect on perceived listening when the listener disagreed with speakers (B = 0.34, SE = 0.11, p = .002) but no significant effect when they agreed with them (B = 1.19e-3, SE = 0.11, p = .992; see Fig. 4)."
        ],
        [
         "28",
         "The effect of valuation order and the interaction between valuation order and transaction frame were not significant, F(1, 212) = 1.130, p = .289; and F(1, 212) = 0.524, p = .470, respectively."
        ],
        [
         "29",
         "Participants in the ultimatum game were nonsignificantly less self-biased compared with participants in the dictator game in Study 1, and significantly so in Study 2, which was better powered to detect effects (Study 1: b game = 0.968, SE = 1.467, z = 0.660, two-tailed p = .509, r = .258, 95% CI = [-.465, .727]; Study 2: b game = 0.917, SE = 0.417, z = 2.202, preregistered one-tailed p = .014, r = .245, 95% CI = [.028, .431])."
        ],
        [
         "30",
         "There was no significant Visual Cue Ã— Valence interaction, z = 0.75, exp(b) = 1.17, 95% CI = [0.78, 1.74], p = .450, or Visual Cue Ã— Neutral interaction, z = -1.18, exp(b) = 0.81, 95% CI = [0.58, 1.15], p = .239."
        ],
        [
         "31",
         "Note that we included accuracies in the model to account for the small differences in task difficulty between the direction conditions (see below), and this never significantly predicted pupil size (t < 1.113, p > .265)."
        ],
        [
         "32",
         "The overall interaction effect of Sex Ratio Ã— Participant Sex (weighted by each test's degrees of freedom) was not significant (z = 1.053, p = .146)."
        ],
        [
         "33",
         "A repeated measures ANOVA on the two questions concerning thoughts about money and labor with transaction frame as the predictor did not yield any significant effect either-transaction frame: F(1, 212) = 0.004, p = .952, Î· p 2 = .000; question: F(1, 212) = 1.023, p = .313, Î· p 2 = .005; and their interaction: F(1, 212) = 1.259, p = .263, Î· p 2 = .004, respectively."
        ],
        [
         "34",
         "Similarly, there was no significant relationship between CP enjoyment change and CP fear change (Model 6c: Î² = 0.01, SE = 0.09, p = .908)."
        ],
        [
         "35",
         "The fourth correlation between autism trait and the lowcontrast threshold was also nonsignificant (p = .07), but the Bayes factor for this case neither favored the null nor experimental hypothesis (BF 01 = 0.86)."
        ],
        [
         "36",
         "Opponent height did not significantly affect coins kept for self in the dictator game, Wald Ï‡ 2 (1) = 1.34, b = -0.006, SE = 0.005, 95% CI = [-0.015, 0.004], p = .247 (QICc = 325.85)."
        ],
        [
         "37",
         "Results revealed no significant relationship between CP post-jump-scare fear and participants' motivation (p = .558)."
        ],
        [
         "38",
         "However, there was not a significant effect of time delay on punishment in the fair condition, F(1, 3058) = 0.84, p = .36, Î· p 2 = .00, as participants in the long-time-delay condition (M = 0.79, SD = 2.16) levied equally severe punishment as those in the short-time-delay condition (M = 0.91, SD = 2.25; see Fig. 2)."
        ]
       ],
       "shape": {
        "columns": 1,
        "rows": 39
       }
      },
      "text/html": [
       "<div>\n",
       "<style scoped>\n",
       "    .dataframe tbody tr th:only-of-type {\n",
       "        vertical-align: middle;\n",
       "    }\n",
       "\n",
       "    .dataframe tbody tr th {\n",
       "        vertical-align: top;\n",
       "    }\n",
       "\n",
       "    .dataframe thead th {\n",
       "        text-align: right;\n",
       "    }\n",
       "</style>\n",
       "<table border=\"1\" class=\"dataframe\">\n",
       "  <thead>\n",
       "    <tr style=\"text-align: right;\">\n",
       "      <th></th>\n",
       "      <th>text</th>\n",
       "    </tr>\n",
       "  </thead>\n",
       "  <tbody>\n",
       "    <tr>\n",
       "      <th>0</th>\n",
       "      <td>Tukey's honestly significant difference (HSD) ...</td>\n",
       "    </tr>\n",
       "    <tr>\n",
       "      <th>1</th>\n",
       "      <td>We found no significant difference between the...</td>\n",
       "    </tr>\n",
       "    <tr>\n",
       "      <th>2</th>\n",
       "      <td>There were no significant differences by gende...</td>\n",
       "    </tr>\n",
       "    <tr>\n",
       "      <th>3</th>\n",
       "      <td>Among participants using the optimal strategy ...</td>\n",
       "    </tr>\n",
       "    <tr>\n",
       "      <th>4</th>\n",
       "      <td>The effect of transaction frame did not signif...</td>\n",
       "    </tr>\n",
       "    <tr>\n",
       "      <th>5</th>\n",
       "      <td>The effect of host-country tightness was not s...</td>\n",
       "    </tr>\n",
       "    <tr>\n",
       "      <th>6</th>\n",
       "      <td>The LPE effect was reduced to 3.3% in the simi...</td>\n",
       "    </tr>\n",
       "    <tr>\n",
       "      <th>7</th>\n",
       "      <td>In contrast, non-White AI faces (left side of ...</td>\n",
       "    </tr>\n",
       "    <tr>\n",
       "      <th>8</th>\n",
       "      <td>However, pupil dilation was not significantly ...</td>\n",
       "    </tr>\n",
       "    <tr>\n",
       "      <th>9</th>\n",
       "      <td>Results revealed no significant relationships ...</td>\n",
       "    </tr>\n",
       "    <tr>\n",
       "      <th>10</th>\n",
       "      <td>The three-way Configuration Ã— Decoy Ã— Choice...</td>\n",
       "    </tr>\n",
       "    <tr>\n",
       "      <th>11</th>\n",
       "      <td>For the recognition data, the NHST analysis sh...</td>\n",
       "    </tr>\n",
       "    <tr>\n",
       "      <th>12</th>\n",
       "      <td>We found no gender differences in task perform...</td>\n",
       "    </tr>\n",
       "    <tr>\n",
       "      <th>13</th>\n",
       "      <td>We ran a mixed analysis of variance on the per...</td>\n",
       "    </tr>\n",
       "    <tr>\n",
       "      <th>14</th>\n",
       "      <td>Study S2 shows that participants imagined peop...</td>\n",
       "    </tr>\n",
       "    <tr>\n",
       "      <th>15</th>\n",
       "      <td>In contrast, performance for White human faces...</td>\n",
       "    </tr>\n",
       "    <tr>\n",
       "      <th>16</th>\n",
       "      <td>There was no significant interaction between p...</td>\n",
       "    </tr>\n",
       "    <tr>\n",
       "      <th>17</th>\n",
       "      <td>Here, too, the interaction effects were nonsig...</td>\n",
       "    </tr>\n",
       "    <tr>\n",
       "      <th>18</th>\n",
       "      <td>Importantly, the effect of mental rehearsal wa...</td>\n",
       "    </tr>\n",
       "    <tr>\n",
       "      <th>19</th>\n",
       "      <td>Finally, there was no significant interaction ...</td>\n",
       "    </tr>\n",
       "    <tr>\n",
       "      <th>20</th>\n",
       "      <td>For groups added to the analysis, no significa...</td>\n",
       "    </tr>\n",
       "    <tr>\n",
       "      <th>21</th>\n",
       "      <td>Performance was fastest for the biggest and sm...</td>\n",
       "    </tr>\n",
       "    <tr>\n",
       "      <th>22</th>\n",
       "      <td>The senders' overall corrugator activity was n...</td>\n",
       "    </tr>\n",
       "    <tr>\n",
       "      <th>23</th>\n",
       "      <td>Mean classification RTs did not significantly ...</td>\n",
       "    </tr>\n",
       "    <tr>\n",
       "      <th>24</th>\n",
       "      <td>SES was not significantly related to behavior ...</td>\n",
       "    </tr>\n",
       "    <tr>\n",
       "      <th>25</th>\n",
       "      <td>Further, the reactivation-only group, t(68) = ...</td>\n",
       "    </tr>\n",
       "    <tr>\n",
       "      <th>26</th>\n",
       "      <td>Again, no significant interaction effect was f...</td>\n",
       "    </tr>\n",
       "    <tr>\n",
       "      <th>27</th>\n",
       "      <td>Moreover, using markers of higher-quality list...</td>\n",
       "    </tr>\n",
       "    <tr>\n",
       "      <th>28</th>\n",
       "      <td>The effect of valuation order and the interact...</td>\n",
       "    </tr>\n",
       "    <tr>\n",
       "      <th>29</th>\n",
       "      <td>Participants in the ultimatum game were nonsig...</td>\n",
       "    </tr>\n",
       "    <tr>\n",
       "      <th>30</th>\n",
       "      <td>There was no significant Visual Cue Ã— Valence...</td>\n",
       "    </tr>\n",
       "    <tr>\n",
       "      <th>31</th>\n",
       "      <td>Note that we included accuracies in the model ...</td>\n",
       "    </tr>\n",
       "    <tr>\n",
       "      <th>32</th>\n",
       "      <td>The overall interaction effect of Sex Ratio Ã—...</td>\n",
       "    </tr>\n",
       "    <tr>\n",
       "      <th>33</th>\n",
       "      <td>A repeated measures ANOVA on the two questions...</td>\n",
       "    </tr>\n",
       "    <tr>\n",
       "      <th>34</th>\n",
       "      <td>Similarly, there was no significant relationsh...</td>\n",
       "    </tr>\n",
       "    <tr>\n",
       "      <th>35</th>\n",
       "      <td>The fourth correlation between autism trait an...</td>\n",
       "    </tr>\n",
       "    <tr>\n",
       "      <th>36</th>\n",
       "      <td>Opponent height did not significantly affect c...</td>\n",
       "    </tr>\n",
       "    <tr>\n",
       "      <th>37</th>\n",
       "      <td>Results revealed no significant relationship b...</td>\n",
       "    </tr>\n",
       "    <tr>\n",
       "      <th>38</th>\n",
       "      <td>However, there was not a significant effect of...</td>\n",
       "    </tr>\n",
       "  </tbody>\n",
       "</table>\n",
       "</div>"
      ],
      "text/plain": [
       "                                                 text\n",
       "0   Tukey's honestly significant difference (HSD) ...\n",
       "1   We found no significant difference between the...\n",
       "2   There were no significant differences by gende...\n",
       "3   Among participants using the optimal strategy ...\n",
       "4   The effect of transaction frame did not signif...\n",
       "5   The effect of host-country tightness was not s...\n",
       "6   The LPE effect was reduced to 3.3% in the simi...\n",
       "7   In contrast, non-White AI faces (left side of ...\n",
       "8   However, pupil dilation was not significantly ...\n",
       "9   Results revealed no significant relationships ...\n",
       "10  The three-way Configuration Ã— Decoy Ã— Choice...\n",
       "11  For the recognition data, the NHST analysis sh...\n",
       "12  We found no gender differences in task perform...\n",
       "13  We ran a mixed analysis of variance on the per...\n",
       "14  Study S2 shows that participants imagined peop...\n",
       "15  In contrast, performance for White human faces...\n",
       "16  There was no significant interaction between p...\n",
       "17  Here, too, the interaction effects were nonsig...\n",
       "18  Importantly, the effect of mental rehearsal wa...\n",
       "19  Finally, there was no significant interaction ...\n",
       "20  For groups added to the analysis, no significa...\n",
       "21  Performance was fastest for the biggest and sm...\n",
       "22  The senders' overall corrugator activity was n...\n",
       "23  Mean classification RTs did not significantly ...\n",
       "24  SES was not significantly related to behavior ...\n",
       "25  Further, the reactivation-only group, t(68) = ...\n",
       "26  Again, no significant interaction effect was f...\n",
       "27  Moreover, using markers of higher-quality list...\n",
       "28  The effect of valuation order and the interact...\n",
       "29  Participants in the ultimatum game were nonsig...\n",
       "30  There was no significant Visual Cue Ã— Valence...\n",
       "31  Note that we included accuracies in the model ...\n",
       "32  The overall interaction effect of Sex Ratio Ã—...\n",
       "33  A repeated measures ANOVA on the two questions...\n",
       "34  Similarly, there was no significant relationsh...\n",
       "35  The fourth correlation between autism trait an...\n",
       "36  Opponent height did not significantly affect c...\n",
       "37  Results revealed no significant relationship b...\n",
       "38  However, there was not a significant effect of..."
      ]
     },
     "metadata": {},
     "output_type": "display_data"
    }
   ],
   "source": [
    "display_statements(true_negatives, \"True Negatives (predicted 0, actual 0)\")"
   ]
  },
  {
   "cell_type": "code",
   "execution_count": 22,
   "id": "a79eca53",
   "metadata": {},
   "outputs": [
    {
     "name": "stdout",
     "output_type": "stream",
     "text": [
      "\n",
      "False Positives (predicted 1, actual 0) (count: 1)\n"
     ]
    },
    {
     "data": {
      "application/vnd.microsoft.datawrangler.viewer.v0+json": {
       "columns": [
        {
         "name": "index",
         "rawType": "int64",
         "type": "integer"
        },
        {
         "name": "text",
         "rawType": "object",
         "type": "string"
        }
       ],
       "ref": "442a7d8b-3038-42e0-a216-a3c35f23a4da",
       "rows": [
        [
         "0",
         "Being in an oppositional climate (vs. the balanced condition) only descriptively reduced the willingness to respond to uncongenial comments (b = -0.30, SE = 0.16, 95% CI = [-0.62, 0.02], t = -1.84, p = .065)."
        ]
       ],
       "shape": {
        "columns": 1,
        "rows": 1
       }
      },
      "text/html": [
       "<div>\n",
       "<style scoped>\n",
       "    .dataframe tbody tr th:only-of-type {\n",
       "        vertical-align: middle;\n",
       "    }\n",
       "\n",
       "    .dataframe tbody tr th {\n",
       "        vertical-align: top;\n",
       "    }\n",
       "\n",
       "    .dataframe thead th {\n",
       "        text-align: right;\n",
       "    }\n",
       "</style>\n",
       "<table border=\"1\" class=\"dataframe\">\n",
       "  <thead>\n",
       "    <tr style=\"text-align: right;\">\n",
       "      <th></th>\n",
       "      <th>text</th>\n",
       "    </tr>\n",
       "  </thead>\n",
       "  <tbody>\n",
       "    <tr>\n",
       "      <th>0</th>\n",
       "      <td>Being in an oppositional climate (vs. the bala...</td>\n",
       "    </tr>\n",
       "  </tbody>\n",
       "</table>\n",
       "</div>"
      ],
      "text/plain": [
       "                                                text\n",
       "0  Being in an oppositional climate (vs. the bala..."
      ]
     },
     "metadata": {},
     "output_type": "display_data"
    }
   ],
   "source": [
    "display_statements(false_positives, \"False Positives (predicted 1, actual 0)\")"
   ]
  },
  {
   "cell_type": "code",
   "execution_count": 23,
   "id": "9b473d8e",
   "metadata": {},
   "outputs": [
    {
     "name": "stdout",
     "output_type": "stream",
     "text": [
      "\n",
      "False Negatives (predicted 0, actual 1) (count: 9)\n"
     ]
    },
    {
     "data": {
      "application/vnd.microsoft.datawrangler.viewer.v0+json": {
       "columns": [
        {
         "name": "index",
         "rawType": "int64",
         "type": "integer"
        },
        {
         "name": "text",
         "rawType": "object",
         "type": "string"
        }
       ],
       "ref": "2ad4cb52-db71-4b4f-b9c1-498cb7ea251d",
       "rows": [
        [
         "0",
         "A length effect was found for pseudowords (five-letter strings: M = 2,236 ms, SD = 621; three-letter strings: M = 1,828 ms, SD = 459), t(17) = -4.92, p < .001, but not for real words (three letters: M = 1,617 ms, SD = 372; five letters: M = 1,620 ms, SD = 319), t(17) = -0.06, p = .96."
        ],
        [
         "1",
         "A Position Ã— Set Size repeatedmeasures ANOVA with RT as the dependent variable showed a significant main effect of position, F(2, 58) = 104.0, p < .001, f = 1.89, and no effect of set size, F(2, 58) = 0.02, p = .98, f = 0.02, or a significant Position Ã— Set Size interaction, F(4, 116) = 1.81, p = .13, f = 0.25."
        ],
        [
         "2",
         "We next focused on report error and found a main effect of sound, F(2, 84) = 11.31, p < .001, Î· p 2 = .12; there was no main effect of sound onset (during or after visual discrimination), F(1, 84) = 0.16, p = .69, Î· p 2 = .001, and there was a significant interaction, F(2, 168) = 3.39, p = .036, Î· p 2 = .04."
        ],
        [
         "3",
         "Consistent with these observations, a repeated measures ANOVA with location as a repeated variable showed no effect of location on bias, F(2, 16) = 1.142, p = .344, Î· p 2 = .125, power = .216, and one-sample t tests comparing bias with zero were not significant for any reference position-0Â°: t(8) = 0.43, p = .677; 45Â°: t(8) = 0.055, p = .958; 90Â°: t(8) = 1.25, p = .247."
        ],
        [
         "4",
         "Unlike RT, accuracy did not significantly differ between these two conditions, t(19) = -1.55, p = .137, suggesting that the increase in performance at the location of the template-matching object was RT specific."
        ],
        [
         "5",
         "The Participant Group Ã— Tweet type interaction was significant, b = 0.24, SE = 0.05, t(4552) = 5.24, p < .001: Across measures, frequent reactors responded more positively to dismissing versus engaging tweets, b = -0.24, SE = 0.03, t(4552) = 7.12, p < .001, but everyone else did not, b = -0.00, SE = 0.04, t(4552) = -0.07, p = .946."
        ],
        [
         "6",
         "We found no systematic difference between the staircased presentation durations of high-probability feature trials (2.04, SD = 0.90) and low-probability feature trials (2.03, SD = 0.87), t(55) = 1.03, p = .308, Cohen's d = 0.14, 95% CI = [-0.01, 0.03], thus excluding the possibility that the observed accuracy difference was due to unbalanced presentation durations between the two conditions."
        ],
        [
         "7",
         "As before, this interaction resulted from a significant length effect for pseudowords (five-letter strings: M = 19.30%, SD = 10.40; three-letter strings: M = 15.68%, SD = 7.69), t(29) = -4.52, p < .001, but not for real words (three letters: M = 14.67%, SD = 8.29; five letters: M = 15.24%, SD = 7.04), t(29) = -0.67, p = .51."
        ],
        [
         "8",
         "For congruency, larger EPN amplitudes (incongruent negative: M = -2.09, SD = 2.29; M = -1.82, SD = 2.48; incongruent positive: M = -2.25, SD = 2.51) were found for incongruent positive compared with congruent evaluations (p = .004) but not compared with incongruent negative evaluations (p = .077)."
        ]
       ],
       "shape": {
        "columns": 1,
        "rows": 9
       }
      },
      "text/html": [
       "<div>\n",
       "<style scoped>\n",
       "    .dataframe tbody tr th:only-of-type {\n",
       "        vertical-align: middle;\n",
       "    }\n",
       "\n",
       "    .dataframe tbody tr th {\n",
       "        vertical-align: top;\n",
       "    }\n",
       "\n",
       "    .dataframe thead th {\n",
       "        text-align: right;\n",
       "    }\n",
       "</style>\n",
       "<table border=\"1\" class=\"dataframe\">\n",
       "  <thead>\n",
       "    <tr style=\"text-align: right;\">\n",
       "      <th></th>\n",
       "      <th>text</th>\n",
       "    </tr>\n",
       "  </thead>\n",
       "  <tbody>\n",
       "    <tr>\n",
       "      <th>0</th>\n",
       "      <td>A length effect was found for pseudowords (fiv...</td>\n",
       "    </tr>\n",
       "    <tr>\n",
       "      <th>1</th>\n",
       "      <td>A Position Ã— Set Size repeatedmeasures ANOVA ...</td>\n",
       "    </tr>\n",
       "    <tr>\n",
       "      <th>2</th>\n",
       "      <td>We next focused on report error and found a ma...</td>\n",
       "    </tr>\n",
       "    <tr>\n",
       "      <th>3</th>\n",
       "      <td>Consistent with these observations, a repeated...</td>\n",
       "    </tr>\n",
       "    <tr>\n",
       "      <th>4</th>\n",
       "      <td>Unlike RT, accuracy did not significantly diff...</td>\n",
       "    </tr>\n",
       "    <tr>\n",
       "      <th>5</th>\n",
       "      <td>The Participant Group Ã— Tweet type interactio...</td>\n",
       "    </tr>\n",
       "    <tr>\n",
       "      <th>6</th>\n",
       "      <td>We found no systematic difference between the ...</td>\n",
       "    </tr>\n",
       "    <tr>\n",
       "      <th>7</th>\n",
       "      <td>As before, this interaction resulted from a si...</td>\n",
       "    </tr>\n",
       "    <tr>\n",
       "      <th>8</th>\n",
       "      <td>For congruency, larger EPN amplitudes (incongr...</td>\n",
       "    </tr>\n",
       "  </tbody>\n",
       "</table>\n",
       "</div>"
      ],
      "text/plain": [
       "                                                text\n",
       "0  A length effect was found for pseudowords (fiv...\n",
       "1  A Position Ã— Set Size repeatedmeasures ANOVA ...\n",
       "2  We next focused on report error and found a ma...\n",
       "3  Consistent with these observations, a repeated...\n",
       "4  Unlike RT, accuracy did not significantly diff...\n",
       "5  The Participant Group Ã— Tweet type interactio...\n",
       "6  We found no systematic difference between the ...\n",
       "7  As before, this interaction resulted from a si...\n",
       "8  For congruency, larger EPN amplitudes (incongr..."
      ]
     },
     "metadata": {},
     "output_type": "display_data"
    }
   ],
   "source": [
    "display_statements(false_negatives, \"False Negatives (predicted 0, actual 1)\")"
   ]
  },
  {
   "cell_type": "markdown",
   "id": "dad5951c",
   "metadata": {},
   "source": [
    "## 4. SciBERT"
   ]
  },
  {
   "cell_type": "markdown",
   "id": "e94b04de",
   "metadata": {},
   "source": [
    "### 4.1 Initializing SciBERT"
   ]
  },
  {
   "cell_type": "code",
   "execution_count": 24,
   "id": "f3cf273a",
   "metadata": {},
   "outputs": [
    {
     "name": "stderr",
     "output_type": "stream",
     "text": [
      "Some weights of BertForSequenceClassification were not initialized from the model checkpoint at allenai/scibert_scivocab_uncased and are newly initialized: ['classifier.bias', 'classifier.weight']\n",
      "You should probably TRAIN this model on a down-stream task to be able to use it for predictions and inference.\n"
     ]
    }
   ],
   "source": [
    "from transformers import AutoModelForSequenceClassification\n",
    "\n",
    "model_scibert = AutoModelForSequenceClassification.from_pretrained(\"allenai/scibert_scivocab_uncased\", num_labels=num_labels, trust_remote_code=True,\n",
    "    use_safetensors=True)"
   ]
  },
  {
   "cell_type": "markdown",
   "id": "ae5f9d14",
   "metadata": {},
   "source": [
    "### 4.2 Training SciBERT"
   ]
  },
  {
   "cell_type": "code",
   "execution_count": 25,
   "id": "7f85b9fe",
   "metadata": {},
   "outputs": [
    {
     "name": "stderr",
     "output_type": "stream",
     "text": [
      "C:\\Users\\Raphael\\AppData\\Local\\Temp\\ipykernel_22864\\2136063693.py:28: FutureWarning: `tokenizer` is deprecated and will be removed in version 5.0.0 for `Trainer.__init__`. Use `processing_class` instead.\n",
      "  trainer_scibert = Trainer(\n"
     ]
    }
   ],
   "source": [
    "# Standard Setup for training a model with Huggingface Transformers\n",
    "from transformers import DataCollatorWithPadding\n",
    "from transformers import TrainingArguments, Trainer\n",
    "import evaluate\n",
    "import numpy as np\n",
    "\n",
    "data_collator = DataCollatorWithPadding(tokenizer=tokenizer)\n",
    "\n",
    "metric = evaluate.load(\"accuracy\")\n",
    "\n",
    "def compute_metrics(eval_pred):\n",
    "    logits, labels = eval_pred\n",
    "    predictions = np.argmax(logits, axis=-1)\n",
    "    return metric.compute(predictions=predictions, references=labels)\n",
    "\n",
    "training_args = TrainingArguments(\n",
    "    output_dir=\"./results\",\n",
    "    learning_rate=2e-5, # Specify learning rate for BERT\n",
    "    per_device_train_batch_size=8,\n",
    "    per_device_eval_batch_size=8,\n",
    "    num_train_epochs=5,\n",
    "    weight_decay=0.01,\n",
    "    logging_strategy=\"epoch\",\n",
    "    report_to=\"none\",\n",
    ")\n",
    "\n",
    "# Model specific setup\n",
    "trainer_scibert = Trainer(\n",
    "    model=model_scibert,\n",
    "    args=training_args,\n",
    "    train_dataset=tokenized_train,\n",
    "    eval_dataset=tokenized_test,\n",
    "    tokenizer=tokenizer,\n",
    "    data_collator=data_collator,\n",
    "    compute_metrics=compute_metrics\n",
    ")"
   ]
  },
  {
   "cell_type": "code",
   "execution_count": 26,
   "id": "a5e95551",
   "metadata": {},
   "outputs": [
    {
     "data": {
      "text/html": [
       "\n",
       "    <div>\n",
       "      \n",
       "      <progress value='200' max='200' style='width:300px; height:20px; vertical-align: middle;'></progress>\n",
       "      [200/200 01:12, Epoch 5/5]\n",
       "    </div>\n",
       "    <table border=\"1\" class=\"dataframe\">\n",
       "  <thead>\n",
       " <tr style=\"text-align: left;\">\n",
       "      <th>Step</th>\n",
       "      <th>Training Loss</th>\n",
       "    </tr>\n",
       "  </thead>\n",
       "  <tbody>\n",
       "    <tr>\n",
       "      <td>40</td>\n",
       "      <td>0.707800</td>\n",
       "    </tr>\n",
       "    <tr>\n",
       "      <td>80</td>\n",
       "      <td>0.620500</td>\n",
       "    </tr>\n",
       "    <tr>\n",
       "      <td>120</td>\n",
       "      <td>0.454700</td>\n",
       "    </tr>\n",
       "    <tr>\n",
       "      <td>160</td>\n",
       "      <td>0.229300</td>\n",
       "    </tr>\n",
       "    <tr>\n",
       "      <td>200</td>\n",
       "      <td>0.131000</td>\n",
       "    </tr>\n",
       "  </tbody>\n",
       "</table><p>"
      ],
      "text/plain": [
       "<IPython.core.display.HTML object>"
      ]
     },
     "metadata": {},
     "output_type": "display_data"
    },
    {
     "data": {
      "text/plain": [
       "TrainOutput(global_step=200, training_loss=0.4286613869667053, metrics={'train_runtime': 73.178, 'train_samples_per_second': 21.728, 'train_steps_per_second': 2.733, 'total_flos': 226332035375400.0, 'train_loss': 0.4286613869667053, 'epoch': 5.0})"
      ]
     },
     "execution_count": 26,
     "metadata": {},
     "output_type": "execute_result"
    }
   ],
   "source": [
    "trainer_scibert.train()"
   ]
  },
  {
   "cell_type": "markdown",
   "id": "a224b6ad",
   "metadata": {},
   "source": [
    "#### 4.2.1 Save last model"
   ]
  },
  {
   "cell_type": "code",
   "execution_count": 27,
   "id": "9bd9ac48",
   "metadata": {},
   "outputs": [],
   "source": [
    "# trainer_scibert.save_model('scibert_model')"
   ]
  },
  {
   "cell_type": "markdown",
   "id": "707975b1",
   "metadata": {},
   "source": [
    "### 4.3 Evaluate model"
   ]
  },
  {
   "cell_type": "markdown",
   "id": "e3820bb0",
   "metadata": {},
   "source": [
    "#### 4.3.1 Predict training data"
   ]
  },
  {
   "cell_type": "code",
   "execution_count": 28,
   "id": "00fea5de",
   "metadata": {},
   "outputs": [
    {
     "data": {
      "text/html": [],
      "text/plain": [
       "<IPython.core.display.HTML object>"
      ]
     },
     "metadata": {},
     "output_type": "display_data"
    },
    {
     "name": "stdout",
     "output_type": "stream",
     "text": [
      "              precision    recall  f1-score   support\n",
      "\n",
      "           0       0.98      0.98      0.98       159\n",
      "           1       0.98      0.98      0.98       159\n",
      "\n",
      "    accuracy                           0.98       318\n",
      "   macro avg       0.98      0.98      0.98       318\n",
      "weighted avg       0.98      0.98      0.98       318\n",
      "\n"
     ]
    }
   ],
   "source": [
    "from sklearn.metrics import classification_report\n",
    "\n",
    "preds = trainer_scibert.predict(tokenized_train)\n",
    "preds = np.argmax(preds[:3][0],axis=1)\n",
    "GT = df_train['label'].tolist()\n",
    "print(classification_report(GT,preds))"
   ]
  },
  {
   "cell_type": "markdown",
   "id": "8660fc64",
   "metadata": {},
   "source": [
    "#### 4.3.2 Predict test data"
   ]
  },
  {
   "cell_type": "code",
   "execution_count": 29,
   "id": "7508859d",
   "metadata": {},
   "outputs": [
    {
     "data": {
      "text/html": [],
      "text/plain": [
       "<IPython.core.display.HTML object>"
      ]
     },
     "metadata": {},
     "output_type": "display_data"
    },
    {
     "name": "stdout",
     "output_type": "stream",
     "text": [
      "              precision    recall  f1-score   support\n",
      "\n",
      "           0       0.72      0.85      0.78        40\n",
      "           1       0.82      0.68      0.74        40\n",
      "\n",
      "    accuracy                           0.76        80\n",
      "   macro avg       0.77      0.76      0.76        80\n",
      "weighted avg       0.77      0.76      0.76        80\n",
      "\n"
     ]
    }
   ],
   "source": [
    "preds = trainer_scibert.predict(tokenized_test)\n",
    "preds = np.argmax(preds[:3][0],axis=1) #preds[:3][1]\n",
    "GT = df_test['label'].tolist()\n",
    "print(classification_report(GT,preds))"
   ]
  },
  {
   "cell_type": "markdown",
   "id": "0ce497a8",
   "metadata": {},
   "source": [
    "#### 4.3.3 Confusion-Matrix for test data"
   ]
  },
  {
   "cell_type": "code",
   "execution_count": 30,
   "id": "d93a5042",
   "metadata": {},
   "outputs": [
    {
     "data": {
      "image/png": "[encoded data removed]",
      "text/plain": [
       "<Figure size 600x500 with 2 Axes>"
      ]
     },
     "metadata": {},
     "output_type": "display_data"
    }
   ],
   "source": [
    "import seaborn as sns\n",
    "from sklearn.metrics import confusion_matrix\n",
    "\n",
    "import matplotlib.pyplot as plt\n",
    "\n",
    "# Use predictions and ground truth from previous evaluation on test set\n",
    "conf_matrix = confusion_matrix(GT, preds)\n",
    "\n",
    "plt.figure(figsize=(6,5))\n",
    "sns.heatmap(conf_matrix, annot=True, fmt='d', cmap='Blues',\n",
    "            xticklabels=[\"Predicted 0\", \"Predicted 1\"],\n",
    "            yticklabels=[\"Actual 0\", \"Actual 1\"])\n",
    "\n",
    "plt.xlabel('Predicted Label')\n",
    "plt.ylabel('True Label')\n",
    "plt.title('Confusion Matrix')\n",
    "plt.show()"
   ]
  },
  {
   "cell_type": "markdown",
   "id": "b87f39f9",
   "metadata": {},
   "source": [
    "#### 4.3.4 List of statements per category (TP, TN, FP, FN)"
   ]
  },
  {
   "cell_type": "code",
   "execution_count": 31,
   "id": "aafa1591",
   "metadata": {},
   "outputs": [],
   "source": [
    "# Get ground truth and predictions for test set\n",
    "y_true = df_test['label'].tolist()\n",
    "y_pred = preds\n",
    "\n",
    "# True Positives: predicted 1, actual 1\n",
    "true_positives = df_test[(df_test['label'] == 1) & (y_pred == 1)]\n",
    "\n",
    "# True Negatives: predicted 0, actual 0\n",
    "true_negatives = df_test[(df_test['label'] == 0) & (y_pred == 0)]\n",
    "\n",
    "# False Positives: predicted 1, actual 0\n",
    "false_positives = df_test[(df_test['label'] == 0) & (y_pred == 1)]\n",
    "\n",
    "# False Negatives: predicted 0, actual 1\n",
    "false_negatives = df_test[(df_test['label'] == 1) & (y_pred == 0)]\n",
    "\n",
    "# Function to print statements\n",
    "import pandas as pd\n",
    "from IPython.display import display\n",
    "\n",
    "def display_statements(df, title):\n",
    "    if not df.empty:\n",
    "        print(f\"\\n{title} (count: {len(df)})\")\n",
    "        display(df[['text']].reset_index(drop=True))\n",
    "    else:\n",
    "        print(f\"\\n{title}: None\")"
   ]
  },
  {
   "cell_type": "code",
   "execution_count": 32,
   "id": "86cda504",
   "metadata": {},
   "outputs": [
    {
     "name": "stdout",
     "output_type": "stream",
     "text": [
      "\n",
      "True Positives (predicted 1, actual 1) (count: 27)\n"
     ]
    },
    {
     "data": {
      "application/vnd.microsoft.datawrangler.viewer.v0+json": {
       "columns": [
        {
         "name": "index",
         "rawType": "int64",
         "type": "integer"
        },
        {
         "name": "text",
         "rawType": "object",
         "type": "string"
        }
       ],
       "ref": "bf899acb-c1c6-41af-862a-e23e1d2a5ad4",
       "rows": [
        [
         "0",
         "First, participant height (added as a fixed factor to the intercept-only model) had no effect on aggressive behavior, Wald Ï‡ 2 (1) = 0.10, b = -0.024, SE = 0.074, 95% CI = [-0.169, 0.122], p = .749 (QICc = 166.91)."
        ],
        [
         "1",
         "However, velocity was not increased or decreased in the 10-pence-loss condition (M = 427Â°/s -1, SEM = 12) compared with the 0-pence-loss condition (M = 434Â°/s -1, SEM = 12), t(24) = 0.79, p = .21."
        ],
        [
         "2",
         "We observed no such increase in the congruent condition (Block 1: M = .86, SD = .24; Block 2: M = .90, SD = .19; V = 36, p = .315, r = -.76, 95% CI = [-0.27, 0.07])."
        ],
        [
         "3",
         "For adults, patterns were similar to those in infants for high-variability videos: d was greater for Segment 2 than both Segments 1 and 3 (ps < .001), and there was no difference between Segments 1 and 3 (p = .190); but when adults learned faces from low-variability videos, there was no decrease of d from Segment 1 to Segment 2 (p = .121) or from Segment 2 to Segment 3 (p = .076) but a decrease of d from Segment 1 to Segment 3 (p = .006)."
        ],
        [
         "4",
         "There was no correlation between the reproduced time intervals and the effect of alpha tACS-Pearson's r(28) = -.004, p = .982."
        ],
        [
         "5",
         "Results were also independent of the reliability of candidate traits (r = -.02, p = .91)."
        ],
        [
         "6",
         "This finding was similar to that in the forced-stay condition, in which 38% of lies resulted in the highest possible monetary return, Ï‡ 2 (1, N = 178) = 0.48, p = .49."
        ],
        [
         "7",
         "Importantly, it was comparable with that in the alertness-training group in Study 2, t(52) = 0.40, p = .690, 95% CI for the mean difference = [-.06, .09], Cohen's d = 0.11 (Figs. 2b and 3c)."
        ],
        [
         "8",
         "Depending on the outcome measure, individuals with a higher level of commitment experienced no change or a deterioration in well-being following infidelity (socialization effects at 1 SD above the mean of commitment: relationship satisfaction b = -0.03, p = .260; intimacy b = -0.02, p = .320; admiration b = -0.04, p = .037; conflict b = 0.002, p = .915)."
        ],
        [
         "9",
         "Time of day did not interact with type of day (i.e., social isolation vs. baseline) for any of the above momentary state measures (p > .08)."
        ],
        [
         "10",
         "We next focused on report error and found a main effect of sound, F(2, 84) = 11.31, p < .001, Î· p 2 = .12; there was no main effect of sound onset (during or after visual discrimination), F(1, 84) = 0.16, p = .69, Î· p 2 = .001, and there was a significant interaction, F(2, 168) = 3.39, p = .036, Î· p 2 = .04."
        ],
        [
         "11",
         "There was no difference in the ratings given to faces in the other-slow and other-fast conditions, t(28) = 1.44, p = .16, Cohen's d = 0.27."
        ],
        [
         "12",
         "At T0, after adjusting for covariates (age at T0, sex, Latino identity, duration between biological sample collection, and T0 child adversity exposure), BEC proportion-adjusted PedBE age acceleration was the same across CPP treatment (Î¼ = -0.06) and propensity-matched and weighted community (Î¼ = -0.06) samples, F(1, 148) = 0.03, p = .854, Cohen's f = 0.0, 95% CI = [0.00, 1.00]."
        ],
        [
         "13",
         "There was no effect of session for bimodal bilinguals (Î² = -0.50, SE = 1.52, z = -0.33, p = .74), indicating that the increase in semantically specific manual productions in bimodal bilinguals' descriptions was not due to or primed by describing similar pictures in an earlier session in NGT (for information on the order analysis, see the Supplemental Material)."
        ],
        [
         "14",
         "RTs significantly varied according to recognition judgment, F(3.58, 3303.28) = 54.86, p < .001, Î· p 2 = .056, and there was no interaction with age (p = .862; all Greenhouse-Geisser adjusted)."
        ],
        [
         "15",
         "In contrast, there was no difference between the sham tACS and alpha tACS conditions (p = .475)."
        ],
        [
         "16",
         "In keeping with an absence of an effect of M1 TMS on confidence, results showed that M1 stimulation had no effect on metacognitive efficiency, F(1, 16) = 0.13, p = .73, Î· p 2 = .008 (Fig."
        ],
        [
         "17",
         "There was no main effect of ambiguity on cash-out propensity-Experiment 1: Ï‡ 2 (1) = 0.18, p = .67; Experiment 2: Ï‡ 2 (1) = 0.51, p = .48-and no evidence that cash-out propensity varied as a function of when during the delay period a cash-out offer was made-Experiment 1: Ï‡ 2 (1) = 0.76, Î² = -0.05, SE = 0.06, p = .38; Experiment 2: Ï‡ 2 (1) = 2.10, Î² = -0.05, SE = 0.04, p = .15."
        ],
        [
         "18",
         "As expected, there was no difference between participants in the agreeing-and self-perspective conditions (d = 0.12, p = .06)."
        ],
        [
         "19",
         "The Participant Group Ã— Tweet type interaction was significant, b = 0.24, SE = 0.05, t(4552) = 5.24, p < .001: Across measures, frequent reactors responded more positively to dismissing versus engaging tweets, b = -0.24, SE = 0.03, t(4552) = 7.12, p < .001, but everyone else did not, b = -0.00, SE = 0.04, t(4552) = -0.07, p = .946."
        ],
        [
         "20",
         "By contrast, there was no evidence of differential responding to the CS+ and the CS-among the unaware participants, F(1, 14) = 1.42, p = .254, 95% CI = [-0.16, 0.41], and no interaction with linear trend over blocks, F < 1."
        ],
        [
         "21",
         "In addition, fit did not improve when the Distance Ã— Hand Position interaction (and main effects) was tested against the model including only the two main effects, Ï‡ 2 (1, N = 20) = 1, p = .315."
        ],
        [
         "22",
         "Most importantly, neither the effect of the stimulation, F(2, 58) = 0.970, p = .385, Î· p 2 = .032, nor its interaction with age level, F(12, 348) = 0.694, p = .758, Î· p 2 = .23, were significant, suggesting that age estimation was not modulated by alpha or beta oscillations (for the analysis comparing the MTT task with the age estimation task, see \"Supplementary Results\" at <https://osf.io/24cs7/>)."
        ],
        [
         "23",
         "We found no systematic difference between the staircased presentation durations of high-probability feature trials (2.04, SD = 0.90) and low-probability feature trials (2.03, SD = 0.87), t(55) = 1.03, p = .308, Cohen's d = 0.14, 95% CI = [-0.01, 0.03], thus excluding the possibility that the observed accuracy difference was due to unbalanced presentation durations between the two conditions."
        ],
        [
         "24",
         "Similarly, further analysis indicated that there was no association between imagine-to-hear errors and score on the LSHS-E, r S (1377) = -.005, 95% CI = [-.06, .05], p = .839."
        ],
        [
         "25",
         "There was no First Fixation Ã— Expected Value interaction, b = -0.54, SE = 0.74, z = -0.72, p = .47."
        ],
        [
         "26",
         "On the other hand, the quadratic component of age was marginally associated with influence magnitude under selfish influence (slope = 32.96, SE = 18.21, p = .072) but not under prosocial influence (slope = -1.11, SE = 10.60, p = .917)."
        ]
       ],
       "shape": {
        "columns": 1,
        "rows": 27
       }
      },
      "text/html": [
       "<div>\n",
       "<style scoped>\n",
       "    .dataframe tbody tr th:only-of-type {\n",
       "        vertical-align: middle;\n",
       "    }\n",
       "\n",
       "    .dataframe tbody tr th {\n",
       "        vertical-align: top;\n",
       "    }\n",
       "\n",
       "    .dataframe thead th {\n",
       "        text-align: right;\n",
       "    }\n",
       "</style>\n",
       "<table border=\"1\" class=\"dataframe\">\n",
       "  <thead>\n",
       "    <tr style=\"text-align: right;\">\n",
       "      <th></th>\n",
       "      <th>text</th>\n",
       "    </tr>\n",
       "  </thead>\n",
       "  <tbody>\n",
       "    <tr>\n",
       "      <th>0</th>\n",
       "      <td>First, participant height (added as a fixed fa...</td>\n",
       "    </tr>\n",
       "    <tr>\n",
       "      <th>1</th>\n",
       "      <td>However, velocity was not increased or decreas...</td>\n",
       "    </tr>\n",
       "    <tr>\n",
       "      <th>2</th>\n",
       "      <td>We observed no such increase in the congruent ...</td>\n",
       "    </tr>\n",
       "    <tr>\n",
       "      <th>3</th>\n",
       "      <td>For adults, patterns were similar to those in ...</td>\n",
       "    </tr>\n",
       "    <tr>\n",
       "      <th>4</th>\n",
       "      <td>There was no correlation between the reproduce...</td>\n",
       "    </tr>\n",
       "    <tr>\n",
       "      <th>5</th>\n",
       "      <td>Results were also independent of the reliabili...</td>\n",
       "    </tr>\n",
       "    <tr>\n",
       "      <th>6</th>\n",
       "      <td>This finding was similar to that in the forced...</td>\n",
       "    </tr>\n",
       "    <tr>\n",
       "      <th>7</th>\n",
       "      <td>Importantly, it was comparable with that in th...</td>\n",
       "    </tr>\n",
       "    <tr>\n",
       "      <th>8</th>\n",
       "      <td>Depending on the outcome measure, individuals ...</td>\n",
       "    </tr>\n",
       "    <tr>\n",
       "      <th>9</th>\n",
       "      <td>Time of day did not interact with type of day ...</td>\n",
       "    </tr>\n",
       "    <tr>\n",
       "      <th>10</th>\n",
       "      <td>We next focused on report error and found a ma...</td>\n",
       "    </tr>\n",
       "    <tr>\n",
       "      <th>11</th>\n",
       "      <td>There was no difference in the ratings given t...</td>\n",
       "    </tr>\n",
       "    <tr>\n",
       "      <th>12</th>\n",
       "      <td>At T0, after adjusting for covariates (age at ...</td>\n",
       "    </tr>\n",
       "    <tr>\n",
       "      <th>13</th>\n",
       "      <td>There was no effect of session for bimodal bil...</td>\n",
       "    </tr>\n",
       "    <tr>\n",
       "      <th>14</th>\n",
       "      <td>RTs significantly varied according to recognit...</td>\n",
       "    </tr>\n",
       "    <tr>\n",
       "      <th>15</th>\n",
       "      <td>In contrast, there was no difference between t...</td>\n",
       "    </tr>\n",
       "    <tr>\n",
       "      <th>16</th>\n",
       "      <td>In keeping with an absence of an effect of M1 ...</td>\n",
       "    </tr>\n",
       "    <tr>\n",
       "      <th>17</th>\n",
       "      <td>There was no main effect of ambiguity on cash-...</td>\n",
       "    </tr>\n",
       "    <tr>\n",
       "      <th>18</th>\n",
       "      <td>As expected, there was no difference between p...</td>\n",
       "    </tr>\n",
       "    <tr>\n",
       "      <th>19</th>\n",
       "      <td>The Participant Group Ã— Tweet type interactio...</td>\n",
       "    </tr>\n",
       "    <tr>\n",
       "      <th>20</th>\n",
       "      <td>By contrast, there was no evidence of differen...</td>\n",
       "    </tr>\n",
       "    <tr>\n",
       "      <th>21</th>\n",
       "      <td>In addition, fit did not improve when the Dist...</td>\n",
       "    </tr>\n",
       "    <tr>\n",
       "      <th>22</th>\n",
       "      <td>Most importantly, neither the effect of the st...</td>\n",
       "    </tr>\n",
       "    <tr>\n",
       "      <th>23</th>\n",
       "      <td>We found no systematic difference between the ...</td>\n",
       "    </tr>\n",
       "    <tr>\n",
       "      <th>24</th>\n",
       "      <td>Similarly, further analysis indicated that the...</td>\n",
       "    </tr>\n",
       "    <tr>\n",
       "      <th>25</th>\n",
       "      <td>There was no First Fixation Ã— Expected Value ...</td>\n",
       "    </tr>\n",
       "    <tr>\n",
       "      <th>26</th>\n",
       "      <td>On the other hand, the quadratic component of ...</td>\n",
       "    </tr>\n",
       "  </tbody>\n",
       "</table>\n",
       "</div>"
      ],
      "text/plain": [
       "                                                 text\n",
       "0   First, participant height (added as a fixed fa...\n",
       "1   However, velocity was not increased or decreas...\n",
       "2   We observed no such increase in the congruent ...\n",
       "3   For adults, patterns were similar to those in ...\n",
       "4   There was no correlation between the reproduce...\n",
       "5   Results were also independent of the reliabili...\n",
       "6   This finding was similar to that in the forced...\n",
       "7   Importantly, it was comparable with that in th...\n",
       "8   Depending on the outcome measure, individuals ...\n",
       "9   Time of day did not interact with type of day ...\n",
       "10  We next focused on report error and found a ma...\n",
       "11  There was no difference in the ratings given t...\n",
       "12  At T0, after adjusting for covariates (age at ...\n",
       "13  There was no effect of session for bimodal bil...\n",
       "14  RTs significantly varied according to recognit...\n",
       "15  In contrast, there was no difference between t...\n",
       "16  In keeping with an absence of an effect of M1 ...\n",
       "17  There was no main effect of ambiguity on cash-...\n",
       "18  As expected, there was no difference between p...\n",
       "19  The Participant Group Ã— Tweet type interactio...\n",
       "20  By contrast, there was no evidence of differen...\n",
       "21  In addition, fit did not improve when the Dist...\n",
       "22  Most importantly, neither the effect of the st...\n",
       "23  We found no systematic difference between the ...\n",
       "24  Similarly, further analysis indicated that the...\n",
       "25  There was no First Fixation Ã— Expected Value ...\n",
       "26  On the other hand, the quadratic component of ..."
      ]
     },
     "metadata": {},
     "output_type": "display_data"
    }
   ],
   "source": [
    "display_statements(true_positives, \"True Positives (predicted 1, actual 1)\")"
   ]
  },
  {
   "cell_type": "code",
   "execution_count": 33,
   "id": "7a865798",
   "metadata": {},
   "outputs": [
    {
     "name": "stdout",
     "output_type": "stream",
     "text": [
      "\n",
      "True Negatives (predicted 0, actual 0) (count: 34)\n"
     ]
    },
    {
     "data": {
      "application/vnd.microsoft.datawrangler.viewer.v0+json": {
       "columns": [
        {
         "name": "index",
         "rawType": "int64",
         "type": "integer"
        },
        {
         "name": "text",
         "rawType": "object",
         "type": "string"
        }
       ],
       "ref": "207f9f63-72ab-4b8e-8adb-775c1ecd2fc7",
       "rows": [
        [
         "0",
         "Tukey's honestly significant difference (HSD) tests revealed significant differences between all pairwise positions (all ps < .001) except Position 2 versus Position 3, t(116) = 2.28, p = .16, Position 2 versus Position 4, t(116) = .574, p = .98, and Position 3 versus Position 4, t(116) = -1.712, p = .43."
        ],
        [
         "1",
         "We found no significant difference between the high-pitch and neutral conditions, t(28) = 0.30, p = .77, Cohen's d = 0.055, BF 01 = 4.86 (range in which scales were consistent with support for the null hypothesis = 0.393-2), or between the low-pitch and neutral conditions, t(28) = 0.79, p = .43, Cohen's d = 0.15, BF 01 = 3.80 (range in which scales were consistent with support for the null hypothesis = 0.528-2)."
        ],
        [
         "2",
         "There were no significant differences by gender in the likelihood of challenging speakers (12% of men, 15% of women), b = 0.02, t(187) = 0.42, p = .676, 95% CI = [-0.09, 0.14]."
        ],
        [
         "3",
         "The effect of transaction frame did not significantly interact with ownership status, F(1, 268) = 0.67, p = .796, Î· p 2 = .000."
        ],
        [
         "4",
         "The effect of host-country tightness was not significant, Wald Ï‡ 2 = 1.43, p = .232."
        ],
        [
         "5",
         "The LPE effect was reduced to 3.3% in the similarity condition, which was not statistically significant, t(16) = 0.76, p = .46, Î± = .025."
        ],
        [
         "6",
         "However, pupil dilation was not significantly different in the 10-pencegain condition (M = 376 units, SEM = 32) than in the 0-pence-gain condition (M = 369 units, SEM = 31), t(29) = 0.99, p = .17."
        ],
        [
         "7",
         "Results revealed no significant relationships between small-scale heart rate standard deviation and self-reported fear (Model 4a: Î² = 7.42, SE = 6.34, p = .245), nor between small-scale heart rate skewness and self-reported fear (Model 5a: Î² = 8.21, SE = 8.86, p = .357)."
        ],
        [
         "8",
         "The three-way Configuration Ã— Decoy Ã— Choice interaction in a log linear analysis was nonsignificant, Ï‡ 2 (1, N = 768) = 2.85, p = .09."
        ],
        [
         "9",
         "For the recognition data, the NHST analysis showed no significant effects of state of mind on any of the measures of correct or false memories (lowest p = .077)."
        ],
        [
         "10",
         "We found no gender differences in task performance, t(51) = -0.66, p > .250."
        ],
        [
         "11",
         "We ran a mixed analysis of variance on the percentage of faces judged as human with face type (White AI, White human) within subjects and participant race (White, non-White) between subjects and found no significant main effect of participant race, F(1, 313) = 1.23, MSE = 267.22, p = .268, or interaction with face type, F(1, 313) = 1.01, MSE = 581.35, p = .316."
        ],
        [
         "12",
         "In contrast, performance for White human faces did not differ significantly from chance, t(123) = 0.60, p = .550, d = 0.05, 95% CI [-0.12, 0.23]."
        ],
        [
         "13",
         "There was no significant interaction between participant height and opponent height, Wald Ï‡ 2 (1) = 0.38, b = 0.042, SE = 0.068, 95% CI = [-0.091, 0.174], p = .540 (QICc = 203.85)."
        ],
        [
         "14",
         "Here, too, the interaction effects were nonsignificant-perceived scientific consensus: b = -1.68, t(20) = -0.53, p = .600; factual beliefs: b = -0.95, t(23) = -0.90, p = .378."
        ],
        [
         "15",
         "Importantly, the effect of mental rehearsal was not significant, z = 0.73, exp(b) = 1.07, 95% CI = [0.90, 1.27], p = .464, nor was the Mental Rehearsal Ã— Visual Cue interaction, z = -0.02, exp(b) = 1.00, 95% CI = [0.70, 1.41], p = .984."
        ],
        [
         "16",
         "Finally, there was no significant interaction between absolute height and opponent height, Wald Ï‡ 2 (1) = 0.13, b = 0.001, SE = 0.001, 95% CI = [-0.002, 0.003], p = .718 (QICc = 117.75)."
        ],
        [
         "17",
         "Performance was fastest for the biggest and smallest positions compared with the inner positions, with no significant difference between the outer two positions, t(116) = -1.417, p = .62, and was slightly faster for sets with one dot, M = 970, SE = 30.60, 95% CI = [907, 1,032], compared with three dots, M = 1,015, SE = 30.6, 95% CI = [953, 1,077], and five dots, M = 1,004, SE = 30.6, 95% CI = 942, 1,066]."
        ],
        [
         "18",
         "The senders' overall corrugator activity was not significantly different during touch compared with baseline (EMM = .06, 95% CI = [-.04, .157]), t(28) = 1.14, p = .264, but did vary significantly with cue, F(5, 891) = 8.58, p < .001 (Fig. 2b)."
        ],
        [
         "19",
         "Mean classification RTs did not significantly differ between the deep (M = 701 ms, SE = 6) and shallow (M = 700 ms, SE = 7) conditions, t(1048) = 0.02, p = .985, d = 0.001, 95% confidence interval (CI) = [-0.12, 0.12]."
        ],
        [
         "20",
         "SES was not significantly related to behavior in the dictator game, Wald Ï‡ 2 (1) = 0.61, b = 0.092, SE = 0.118, 95% CI = [-0.139, 0.323], p = .436."
        ],
        [
         "21",
         "Further, the reactivation-only group, t(68) = 1.00, p = .32, and the Tetris-only group, t(68) = 0.36, p = .72, did not differ significantly from the no-task control group."
        ],
        [
         "22",
         "Again, no significant interaction effect was found, b = -0.13, t(30) = -0.24, p = .810."
        ],
        [
         "23",
         "Moreover, using markers of higher-quality listening had a positive significant effect on perceived listening when the listener disagreed with speakers (B = 0.34, SE = 0.11, p = .002) but no significant effect when they agreed with them (B = 1.19e-3, SE = 0.11, p = .992; see Fig. 4)."
        ],
        [
         "24",
         "The effect of valuation order and the interaction between valuation order and transaction frame were not significant, F(1, 212) = 1.130, p = .289; and F(1, 212) = 0.524, p = .470, respectively."
        ],
        [
         "25",
         "There was no significant Visual Cue Ã— Valence interaction, z = 0.75, exp(b) = 1.17, 95% CI = [0.78, 1.74], p = .450, or Visual Cue Ã— Neutral interaction, z = -1.18, exp(b) = 0.81, 95% CI = [0.58, 1.15], p = .239."
        ],
        [
         "26",
         "Note that we included accuracies in the model to account for the small differences in task difficulty between the direction conditions (see below), and this never significantly predicted pupil size (t < 1.113, p > .265)."
        ],
        [
         "27",
         "The overall interaction effect of Sex Ratio Ã— Participant Sex (weighted by each test's degrees of freedom) was not significant (z = 1.053, p = .146)."
        ],
        [
         "28",
         "A repeated measures ANOVA on the two questions concerning thoughts about money and labor with transaction frame as the predictor did not yield any significant effect either-transaction frame: F(1, 212) = 0.004, p = .952, Î· p 2 = .000; question: F(1, 212) = 1.023, p = .313, Î· p 2 = .005; and their interaction: F(1, 212) = 1.259, p = .263, Î· p 2 = .004, respectively."
        ],
        [
         "29",
         "Similarly, there was no significant relationship between CP enjoyment change and CP fear change (Model 6c: Î² = 0.01, SE = 0.09, p = .908)."
        ],
        [
         "30",
         "The fourth correlation between autism trait and the lowcontrast threshold was also nonsignificant (p = .07), but the Bayes factor for this case neither favored the null nor experimental hypothesis (BF 01 = 0.86)."
        ],
        [
         "31",
         "Opponent height did not significantly affect coins kept for self in the dictator game, Wald Ï‡ 2 (1) = 1.34, b = -0.006, SE = 0.005, 95% CI = [-0.015, 0.004], p = .247 (QICc = 325.85)."
        ],
        [
         "32",
         "Results revealed no significant relationship between CP post-jump-scare fear and participants' motivation (p = .558)."
        ],
        [
         "33",
         "However, there was not a significant effect of time delay on punishment in the fair condition, F(1, 3058) = 0.84, p = .36, Î· p 2 = .00, as participants in the long-time-delay condition (M = 0.79, SD = 2.16) levied equally severe punishment as those in the short-time-delay condition (M = 0.91, SD = 2.25; see Fig. 2)."
        ]
       ],
       "shape": {
        "columns": 1,
        "rows": 34
       }
      },
      "text/html": [
       "<div>\n",
       "<style scoped>\n",
       "    .dataframe tbody tr th:only-of-type {\n",
       "        vertical-align: middle;\n",
       "    }\n",
       "\n",
       "    .dataframe tbody tr th {\n",
       "        vertical-align: top;\n",
       "    }\n",
       "\n",
       "    .dataframe thead th {\n",
       "        text-align: right;\n",
       "    }\n",
       "</style>\n",
       "<table border=\"1\" class=\"dataframe\">\n",
       "  <thead>\n",
       "    <tr style=\"text-align: right;\">\n",
       "      <th></th>\n",
       "      <th>text</th>\n",
       "    </tr>\n",
       "  </thead>\n",
       "  <tbody>\n",
       "    <tr>\n",
       "      <th>0</th>\n",
       "      <td>Tukey's honestly significant difference (HSD) ...</td>\n",
       "    </tr>\n",
       "    <tr>\n",
       "      <th>1</th>\n",
       "      <td>We found no significant difference between the...</td>\n",
       "    </tr>\n",
       "    <tr>\n",
       "      <th>2</th>\n",
       "      <td>There were no significant differences by gende...</td>\n",
       "    </tr>\n",
       "    <tr>\n",
       "      <th>3</th>\n",
       "      <td>The effect of transaction frame did not signif...</td>\n",
       "    </tr>\n",
       "    <tr>\n",
       "      <th>4</th>\n",
       "      <td>The effect of host-country tightness was not s...</td>\n",
       "    </tr>\n",
       "    <tr>\n",
       "      <th>5</th>\n",
       "      <td>The LPE effect was reduced to 3.3% in the simi...</td>\n",
       "    </tr>\n",
       "    <tr>\n",
       "      <th>6</th>\n",
       "      <td>However, pupil dilation was not significantly ...</td>\n",
       "    </tr>\n",
       "    <tr>\n",
       "      <th>7</th>\n",
       "      <td>Results revealed no significant relationships ...</td>\n",
       "    </tr>\n",
       "    <tr>\n",
       "      <th>8</th>\n",
       "      <td>The three-way Configuration Ã— Decoy Ã— Choice...</td>\n",
       "    </tr>\n",
       "    <tr>\n",
       "      <th>9</th>\n",
       "      <td>For the recognition data, the NHST analysis sh...</td>\n",
       "    </tr>\n",
       "    <tr>\n",
       "      <th>10</th>\n",
       "      <td>We found no gender differences in task perform...</td>\n",
       "    </tr>\n",
       "    <tr>\n",
       "      <th>11</th>\n",
       "      <td>We ran a mixed analysis of variance on the per...</td>\n",
       "    </tr>\n",
       "    <tr>\n",
       "      <th>12</th>\n",
       "      <td>In contrast, performance for White human faces...</td>\n",
       "    </tr>\n",
       "    <tr>\n",
       "      <th>13</th>\n",
       "      <td>There was no significant interaction between p...</td>\n",
       "    </tr>\n",
       "    <tr>\n",
       "      <th>14</th>\n",
       "      <td>Here, too, the interaction effects were nonsig...</td>\n",
       "    </tr>\n",
       "    <tr>\n",
       "      <th>15</th>\n",
       "      <td>Importantly, the effect of mental rehearsal wa...</td>\n",
       "    </tr>\n",
       "    <tr>\n",
       "      <th>16</th>\n",
       "      <td>Finally, there was no significant interaction ...</td>\n",
       "    </tr>\n",
       "    <tr>\n",
       "      <th>17</th>\n",
       "      <td>Performance was fastest for the biggest and sm...</td>\n",
       "    </tr>\n",
       "    <tr>\n",
       "      <th>18</th>\n",
       "      <td>The senders' overall corrugator activity was n...</td>\n",
       "    </tr>\n",
       "    <tr>\n",
       "      <th>19</th>\n",
       "      <td>Mean classification RTs did not significantly ...</td>\n",
       "    </tr>\n",
       "    <tr>\n",
       "      <th>20</th>\n",
       "      <td>SES was not significantly related to behavior ...</td>\n",
       "    </tr>\n",
       "    <tr>\n",
       "      <th>21</th>\n",
       "      <td>Further, the reactivation-only group, t(68) = ...</td>\n",
       "    </tr>\n",
       "    <tr>\n",
       "      <th>22</th>\n",
       "      <td>Again, no significant interaction effect was f...</td>\n",
       "    </tr>\n",
       "    <tr>\n",
       "      <th>23</th>\n",
       "      <td>Moreover, using markers of higher-quality list...</td>\n",
       "    </tr>\n",
       "    <tr>\n",
       "      <th>24</th>\n",
       "      <td>The effect of valuation order and the interact...</td>\n",
       "    </tr>\n",
       "    <tr>\n",
       "      <th>25</th>\n",
       "      <td>There was no significant Visual Cue Ã— Valence...</td>\n",
       "    </tr>\n",
       "    <tr>\n",
       "      <th>26</th>\n",
       "      <td>Note that we included accuracies in the model ...</td>\n",
       "    </tr>\n",
       "    <tr>\n",
       "      <th>27</th>\n",
       "      <td>The overall interaction effect of Sex Ratio Ã—...</td>\n",
       "    </tr>\n",
       "    <tr>\n",
       "      <th>28</th>\n",
       "      <td>A repeated measures ANOVA on the two questions...</td>\n",
       "    </tr>\n",
       "    <tr>\n",
       "      <th>29</th>\n",
       "      <td>Similarly, there was no significant relationsh...</td>\n",
       "    </tr>\n",
       "    <tr>\n",
       "      <th>30</th>\n",
       "      <td>The fourth correlation between autism trait an...</td>\n",
       "    </tr>\n",
       "    <tr>\n",
       "      <th>31</th>\n",
       "      <td>Opponent height did not significantly affect c...</td>\n",
       "    </tr>\n",
       "    <tr>\n",
       "      <th>32</th>\n",
       "      <td>Results revealed no significant relationship b...</td>\n",
       "    </tr>\n",
       "    <tr>\n",
       "      <th>33</th>\n",
       "      <td>However, there was not a significant effect of...</td>\n",
       "    </tr>\n",
       "  </tbody>\n",
       "</table>\n",
       "</div>"
      ],
      "text/plain": [
       "                                                 text\n",
       "0   Tukey's honestly significant difference (HSD) ...\n",
       "1   We found no significant difference between the...\n",
       "2   There were no significant differences by gende...\n",
       "3   The effect of transaction frame did not signif...\n",
       "4   The effect of host-country tightness was not s...\n",
       "5   The LPE effect was reduced to 3.3% in the simi...\n",
       "6   However, pupil dilation was not significantly ...\n",
       "7   Results revealed no significant relationships ...\n",
       "8   The three-way Configuration Ã— Decoy Ã— Choice...\n",
       "9   For the recognition data, the NHST analysis sh...\n",
       "10  We found no gender differences in task perform...\n",
       "11  We ran a mixed analysis of variance on the per...\n",
       "12  In contrast, performance for White human faces...\n",
       "13  There was no significant interaction between p...\n",
       "14  Here, too, the interaction effects were nonsig...\n",
       "15  Importantly, the effect of mental rehearsal wa...\n",
       "16  Finally, there was no significant interaction ...\n",
       "17  Performance was fastest for the biggest and sm...\n",
       "18  The senders' overall corrugator activity was n...\n",
       "19  Mean classification RTs did not significantly ...\n",
       "20  SES was not significantly related to behavior ...\n",
       "21  Further, the reactivation-only group, t(68) = ...\n",
       "22  Again, no significant interaction effect was f...\n",
       "23  Moreover, using markers of higher-quality list...\n",
       "24  The effect of valuation order and the interact...\n",
       "25  There was no significant Visual Cue Ã— Valence...\n",
       "26  Note that we included accuracies in the model ...\n",
       "27  The overall interaction effect of Sex Ratio Ã—...\n",
       "28  A repeated measures ANOVA on the two questions...\n",
       "29  Similarly, there was no significant relationsh...\n",
       "30  The fourth correlation between autism trait an...\n",
       "31  Opponent height did not significantly affect c...\n",
       "32  Results revealed no significant relationship b...\n",
       "33  However, there was not a significant effect of..."
      ]
     },
     "metadata": {},
     "output_type": "display_data"
    }
   ],
   "source": [
    "display_statements(true_negatives, \"True Negatives (predicted 0, actual 0)\")"
   ]
  },
  {
   "cell_type": "code",
   "execution_count": 34,
   "id": "54082c37",
   "metadata": {},
   "outputs": [
    {
     "name": "stdout",
     "output_type": "stream",
     "text": [
      "\n",
      "False Positives (predicted 1, actual 0) (count: 6)\n"
     ]
    },
    {
     "data": {
      "application/vnd.microsoft.datawrangler.viewer.v0+json": {
       "columns": [
        {
         "name": "index",
         "rawType": "int64",
         "type": "integer"
        },
        {
         "name": "text",
         "rawType": "object",
         "type": "string"
        }
       ],
       "ref": "539d056f-1a90-48cb-b61b-85d67b0d33f3",
       "rows": [
        [
         "0",
         "Among participants using the optimal strategy during generalization (Fig. 4d), control participants performed significantly better than dyslexia participants in the information-integration task, t(14.9) = 3.21, p = .0059, d = 1.36, 95% CI = [3.69, 18.3], but not the rule-based task, t(30.5) = 1.38, p = .18, d = 0.48, 95% CI = [-3.13, 16.3]."
        ],
        [
         "1",
         "In contrast, non-White AI faces (left side of Fig. 2a) were judged as human at around chance levels, M non-White-AI = 50.5%, t(314) = 0.41, p = .682, d = 0.02, 95% CI = [-0.09, 0.13], which did not differ significantly from how often non-White human faces were judged to be human, versus M non-White-human = 51.3%, t(314) = 0.74, p = .461, d = 0.04, 95% CI = [-0.07, 0.15]."
        ],
        [
         "2",
         "Study S2 shows that participants imagined people with depression as a bit shorter than people without depression, but this result did not reach conventional statistical significance (p = .08, d = 0.26)."
        ],
        [
         "3",
         "For groups added to the analysis, no significant difference was observed in the probability of strike calls after an ejection, both for individuals ejected for verbal aggression unrelated to the strike zone (OR = 0.897, 95% CI = [0.713, 1.129], p = .6170 for the offending team; OR = 0.995, 95% CI = [0.785, 1.262], p = 1.000 for the opposing team) and for aggressive behavior against the other team (OR = 1.092, 95% CI = [0.814, 1.465], p = .8673 for the offending team; OR = 1.234, 95% CI = [0.916, 1.662], p = .2659 for the opposing team)."
        ],
        [
         "4",
         "Participants in the ultimatum game were nonsignificantly less self-biased compared with participants in the dictator game in Study 1, and significantly so in Study 2, which was better powered to detect effects (Study 1: b game = 0.968, SE = 1.467, z = 0.660, two-tailed p = .509, r = .258, 95% CI = [-.465, .727]; Study 2: b game = 0.917, SE = 0.417, z = 2.202, preregistered one-tailed p = .014, r = .245, 95% CI = [.028, .431])."
        ],
        [
         "5",
         "Being in an oppositional climate (vs. the balanced condition) only descriptively reduced the willingness to respond to uncongenial comments (b = -0.30, SE = 0.16, 95% CI = [-0.62, 0.02], t = -1.84, p = .065)."
        ]
       ],
       "shape": {
        "columns": 1,
        "rows": 6
       }
      },
      "text/html": [
       "<div>\n",
       "<style scoped>\n",
       "    .dataframe tbody tr th:only-of-type {\n",
       "        vertical-align: middle;\n",
       "    }\n",
       "\n",
       "    .dataframe tbody tr th {\n",
       "        vertical-align: top;\n",
       "    }\n",
       "\n",
       "    .dataframe thead th {\n",
       "        text-align: right;\n",
       "    }\n",
       "</style>\n",
       "<table border=\"1\" class=\"dataframe\">\n",
       "  <thead>\n",
       "    <tr style=\"text-align: right;\">\n",
       "      <th></th>\n",
       "      <th>text</th>\n",
       "    </tr>\n",
       "  </thead>\n",
       "  <tbody>\n",
       "    <tr>\n",
       "      <th>0</th>\n",
       "      <td>Among participants using the optimal strategy ...</td>\n",
       "    </tr>\n",
       "    <tr>\n",
       "      <th>1</th>\n",
       "      <td>In contrast, non-White AI faces (left side of ...</td>\n",
       "    </tr>\n",
       "    <tr>\n",
       "      <th>2</th>\n",
       "      <td>Study S2 shows that participants imagined peop...</td>\n",
       "    </tr>\n",
       "    <tr>\n",
       "      <th>3</th>\n",
       "      <td>For groups added to the analysis, no significa...</td>\n",
       "    </tr>\n",
       "    <tr>\n",
       "      <th>4</th>\n",
       "      <td>Participants in the ultimatum game were nonsig...</td>\n",
       "    </tr>\n",
       "    <tr>\n",
       "      <th>5</th>\n",
       "      <td>Being in an oppositional climate (vs. the bala...</td>\n",
       "    </tr>\n",
       "  </tbody>\n",
       "</table>\n",
       "</div>"
      ],
      "text/plain": [
       "                                                text\n",
       "0  Among participants using the optimal strategy ...\n",
       "1  In contrast, non-White AI faces (left side of ...\n",
       "2  Study S2 shows that participants imagined peop...\n",
       "3  For groups added to the analysis, no significa...\n",
       "4  Participants in the ultimatum game were nonsig...\n",
       "5  Being in an oppositional climate (vs. the bala..."
      ]
     },
     "metadata": {},
     "output_type": "display_data"
    }
   ],
   "source": [
    "display_statements(false_positives, \"False Positives (predicted 1, actual 0)\")"
   ]
  },
  {
   "cell_type": "code",
   "execution_count": 35,
   "id": "9e2a577a",
   "metadata": {},
   "outputs": [
    {
     "name": "stdout",
     "output_type": "stream",
     "text": [
      "\n",
      "False Negatives (predicted 0, actual 1) (count: 13)\n"
     ]
    },
    {
     "data": {
      "application/vnd.microsoft.datawrangler.viewer.v0+json": {
       "columns": [
        {
         "name": "index",
         "rawType": "int64",
         "type": "integer"
        },
        {
         "name": "text",
         "rawType": "object",
         "type": "string"
        }
       ],
       "ref": "797431cf-6f98-40a8-b596-b87ff2b75273",
       "rows": [
        [
         "0",
         "Post hoc simple-effects analyses revealed that serial position did not affect the number of recalled distinct attributes, B = -0.02, t(1,510) = -0.39, p = .700, d = 0.01."
        ],
        [
         "1",
         "A length effect was found for pseudowords (five-letter strings: M = 2,236 ms, SD = 621; three-letter strings: M = 1,828 ms, SD = 459), t(17) = -4.92, p < .001, but not for real words (three letters: M = 1,617 ms, SD = 372; five letters: M = 1,620 ms, SD = 319), t(17) = -0.06, p = .96."
        ],
        [
         "2",
         "In contrast, atomoxetine did not increase risky helping compared with the placebo (b = -0.01, SE = 0.04, p = .787)."
        ],
        [
         "3",
         "Non-attraction-effect choices were very rare and, like decoy choices, they likely reflect noisy responding; they were more common among people with lower cognitive ability, b = 0.689, 95% CI = [0.357, 1.021], p < .001, but did not differ between the ASC and control groups, b = -0.037, 95% CI = [-0.381, 0.307], p = .834, and were unrelated to age, b = 0.014, 95% CI = [-0.295, 0.324], p = .929, or gender, b = -0.229, 95% CI = [-0.528, 0.069], p = .132."
        ],
        [
         "4",
         "A Position Ã— Set Size repeatedmeasures ANOVA with RT as the dependent variable showed a significant main effect of position, F(2, 58) = 104.0, p < .001, f = 1.89, and no effect of set size, F(2, 58) = 0.02, p = .98, f = 0.02, or a significant Position Ã— Set Size interaction, F(4, 116) = 1.81, p = .13, f = 0.25."
        ],
        [
         "5",
         "Consistent with these observations, a repeated measures ANOVA with location as a repeated variable showed no effect of location on bias, F(2, 16) = 1.142, p = .344, Î· p 2 = .125, power = .216, and one-sample t tests comparing bias with zero were not significant for any reference position-0Â°: t(8) = 0.43, p = .677; 45Â°: t(8) = 0.055, p = .958; 90Â°: t(8) = 1.25, p = .247."
        ],
        [
         "6",
         "Children and adults pressed the button with equal frequency (p = .51; children: 79%, adults: 76%, Supplemental Fig."
        ],
        [
         "7",
         "Unlike RT, accuracy did not significantly differ between these two conditions, t(19) = -1.55, p = .137, suggesting that the increase in performance at the location of the template-matching object was RT specific."
        ],
        [
         "8",
         "For âˆ†Î¸ Ë†crit values derived from highversus low-friction trials, values were different from 0Â° in the live-observation group, t(33) = 5.495, p < .001, d = 0.942, and the interaction group, t(31) = 5.339, p < .001, d = 0.851, but not in the video-observation group, t(29) = 1.232, p = .228, d = 0.225."
        ],
        [
         "9",
         "However, auditory attention ability did not predict listening-related fatigue (b 1 : b = 0.023, p = .50)."
        ],
        [
         "10",
         "As before, this interaction resulted from a significant length effect for pseudowords (five-letter strings: M = 19.30%, SD = 10.40; three-letter strings: M = 15.68%, SD = 7.69), t(29) = -4.52, p < .001, but not for real words (three letters: M = 14.67%, SD = 8.29; five letters: M = 15.24%, SD = 7.04), t(29) = -0.67, p = .51."
        ],
        [
         "11",
         "The decline in the joy condition did not differ from that in the awe condition, b = -0.30, SE = 0.26, t(348) = -1.18, p = .240, Î· p 2 < .01 (see Table S15 in the Supplemental Material for descriptive statistics)."
        ],
        [
         "12",
         "For congruency, larger EPN amplitudes (incongruent negative: M = -2.09, SD = 2.29; M = -1.82, SD = 2.48; incongruent positive: M = -2.25, SD = 2.51) were found for incongruent positive compared with congruent evaluations (p = .004) but not compared with incongruent negative evaluations (p = .077)."
        ]
       ],
       "shape": {
        "columns": 1,
        "rows": 13
       }
      },
      "text/html": [
       "<div>\n",
       "<style scoped>\n",
       "    .dataframe tbody tr th:only-of-type {\n",
       "        vertical-align: middle;\n",
       "    }\n",
       "\n",
       "    .dataframe tbody tr th {\n",
       "        vertical-align: top;\n",
       "    }\n",
       "\n",
       "    .dataframe thead th {\n",
       "        text-align: right;\n",
       "    }\n",
       "</style>\n",
       "<table border=\"1\" class=\"dataframe\">\n",
       "  <thead>\n",
       "    <tr style=\"text-align: right;\">\n",
       "      <th></th>\n",
       "      <th>text</th>\n",
       "    </tr>\n",
       "  </thead>\n",
       "  <tbody>\n",
       "    <tr>\n",
       "      <th>0</th>\n",
       "      <td>Post hoc simple-effects analyses revealed that...</td>\n",
       "    </tr>\n",
       "    <tr>\n",
       "      <th>1</th>\n",
       "      <td>A length effect was found for pseudowords (fiv...</td>\n",
       "    </tr>\n",
       "    <tr>\n",
       "      <th>2</th>\n",
       "      <td>In contrast, atomoxetine did not increase risk...</td>\n",
       "    </tr>\n",
       "    <tr>\n",
       "      <th>3</th>\n",
       "      <td>Non-attraction-effect choices were very rare a...</td>\n",
       "    </tr>\n",
       "    <tr>\n",
       "      <th>4</th>\n",
       "      <td>A Position Ã— Set Size repeatedmeasures ANOVA ...</td>\n",
       "    </tr>\n",
       "    <tr>\n",
       "      <th>5</th>\n",
       "      <td>Consistent with these observations, a repeated...</td>\n",
       "    </tr>\n",
       "    <tr>\n",
       "      <th>6</th>\n",
       "      <td>Children and adults pressed the button with eq...</td>\n",
       "    </tr>\n",
       "    <tr>\n",
       "      <th>7</th>\n",
       "      <td>Unlike RT, accuracy did not significantly diff...</td>\n",
       "    </tr>\n",
       "    <tr>\n",
       "      <th>8</th>\n",
       "      <td>For âˆ†Î¸ Ë†crit values derived from highversu...</td>\n",
       "    </tr>\n",
       "    <tr>\n",
       "      <th>9</th>\n",
       "      <td>However, auditory attention ability did not pr...</td>\n",
       "    </tr>\n",
       "    <tr>\n",
       "      <th>10</th>\n",
       "      <td>As before, this interaction resulted from a si...</td>\n",
       "    </tr>\n",
       "    <tr>\n",
       "      <th>11</th>\n",
       "      <td>The decline in the joy condition did not diffe...</td>\n",
       "    </tr>\n",
       "    <tr>\n",
       "      <th>12</th>\n",
       "      <td>For congruency, larger EPN amplitudes (incongr...</td>\n",
       "    </tr>\n",
       "  </tbody>\n",
       "</table>\n",
       "</div>"
      ],
      "text/plain": [
       "                                                 text\n",
       "0   Post hoc simple-effects analyses revealed that...\n",
       "1   A length effect was found for pseudowords (fiv...\n",
       "2   In contrast, atomoxetine did not increase risk...\n",
       "3   Non-attraction-effect choices were very rare a...\n",
       "4   A Position Ã— Set Size repeatedmeasures ANOVA ...\n",
       "5   Consistent with these observations, a repeated...\n",
       "6   Children and adults pressed the button with eq...\n",
       "7   Unlike RT, accuracy did not significantly diff...\n",
       "8   For âˆ†Î¸ Ë†crit values derived from highversu...\n",
       "9   However, auditory attention ability did not pr...\n",
       "10  As before, this interaction resulted from a si...\n",
       "11  The decline in the joy condition did not diffe...\n",
       "12  For congruency, larger EPN amplitudes (incongr..."
      ]
     },
     "metadata": {},
     "output_type": "display_data"
    }
   ],
   "source": [
    "display_statements(false_negatives, \"False Negatives (predicted 0, actual 1)\")"
   ]
  },
  {
   "cell_type": "markdown",
   "id": "71cff6f0",
   "metadata": {},
   "source": [
    "## 5. PubMedBERT"
   ]
  },
  {
   "cell_type": "markdown",
   "id": "9c428b2a",
   "metadata": {},
   "source": [
    "### 5.1 Initializing PubMedBERT"
   ]
  },
  {
   "cell_type": "code",
   "execution_count": 36,
   "id": "bad4fa17",
   "metadata": {},
   "outputs": [
    {
     "name": "stderr",
     "output_type": "stream",
     "text": [
      "Some weights of BertForSequenceClassification were not initialized from the model checkpoint at microsoft/BiomedNLP-PubMedBERT-base-uncased-abstract and are newly initialized: ['classifier.bias', 'classifier.weight']\n",
      "You should probably TRAIN this model on a down-stream task to be able to use it for predictions and inference.\n"
     ]
    }
   ],
   "source": [
    "from transformers import AutoModelForSequenceClassification\n",
    "\n",
    "model_pubmedbert = AutoModelForSequenceClassification.from_pretrained(\"microsoft/BiomedNLP-PubMedBERT-base-uncased-abstract\", num_labels=num_labels, trust_remote_code=True,\n",
    "    use_safetensors=True)"
   ]
  },
  {
   "cell_type": "markdown",
   "id": "7e9ebff5",
   "metadata": {},
   "source": [
    "### 5.2 Training PubMedBERT"
   ]
  },
  {
   "cell_type": "code",
   "execution_count": 37,
   "id": "2267abfa",
   "metadata": {},
   "outputs": [
    {
     "name": "stderr",
     "output_type": "stream",
     "text": [
      "C:\\Users\\Raphael\\AppData\\Local\\Temp\\ipykernel_22864\\2526163365.py:28: FutureWarning: `tokenizer` is deprecated and will be removed in version 5.0.0 for `Trainer.__init__`. Use `processing_class` instead.\n",
      "  trainer_pubmedbert = Trainer(\n"
     ]
    }
   ],
   "source": [
    "# Standard Setup for training a model with Huggingface Transformers\n",
    "from transformers import DataCollatorWithPadding\n",
    "from transformers import TrainingArguments, Trainer\n",
    "import evaluate\n",
    "import numpy as np\n",
    "\n",
    "data_collator = DataCollatorWithPadding(tokenizer=tokenizer)\n",
    "\n",
    "metric = evaluate.load(\"accuracy\")\n",
    "\n",
    "def compute_metrics(eval_pred):\n",
    "    logits, labels = eval_pred\n",
    "    predictions = np.argmax(logits, axis=-1)\n",
    "    return metric.compute(predictions=predictions, references=labels)\n",
    "\n",
    "training_args = TrainingArguments(\n",
    "    output_dir=\"./results\",\n",
    "    learning_rate=2e-5, # Specify learning rate for BERT\n",
    "    per_device_train_batch_size=8,\n",
    "    per_device_eval_batch_size=8,\n",
    "    num_train_epochs=5,\n",
    "    weight_decay=0.01,\n",
    "    logging_strategy=\"epoch\",\n",
    "    report_to=\"none\",\n",
    ")\n",
    "\n",
    "# Model specific setup\n",
    "trainer_pubmedbert = Trainer(\n",
    "    model=model_pubmedbert,\n",
    "    args=training_args,\n",
    "    train_dataset=tokenized_train,\n",
    "    eval_dataset=tokenized_test,\n",
    "    tokenizer=tokenizer,\n",
    "    data_collator=data_collator,\n",
    "    compute_metrics=compute_metrics\n",
    ")"
   ]
  },
  {
   "cell_type": "code",
   "execution_count": 38,
   "id": "ab958240",
   "metadata": {},
   "outputs": [
    {
     "data": {
      "text/html": [
       "\n",
       "    <div>\n",
       "      \n",
       "      <progress value='200' max='200' style='width:300px; height:20px; vertical-align: middle;'></progress>\n",
       "      [200/200 01:15, Epoch 5/5]\n",
       "    </div>\n",
       "    <table border=\"1\" class=\"dataframe\">\n",
       "  <thead>\n",
       " <tr style=\"text-align: left;\">\n",
       "      <th>Step</th>\n",
       "      <th>Training Loss</th>\n",
       "    </tr>\n",
       "  </thead>\n",
       "  <tbody>\n",
       "    <tr>\n",
       "      <td>40</td>\n",
       "      <td>0.718600</td>\n",
       "    </tr>\n",
       "    <tr>\n",
       "      <td>80</td>\n",
       "      <td>0.666200</td>\n",
       "    </tr>\n",
       "    <tr>\n",
       "      <td>120</td>\n",
       "      <td>0.479600</td>\n",
       "    </tr>\n",
       "    <tr>\n",
       "      <td>160</td>\n",
       "      <td>0.276500</td>\n",
       "    </tr>\n",
       "    <tr>\n",
       "      <td>200</td>\n",
       "      <td>0.185600</td>\n",
       "    </tr>\n",
       "  </tbody>\n",
       "</table><p>"
      ],
      "text/plain": [
       "<IPython.core.display.HTML object>"
      ]
     },
     "metadata": {},
     "output_type": "display_data"
    },
    {
     "data": {
      "text/plain": [
       "TrainOutput(global_step=200, training_loss=0.46531842231750487, metrics={'train_runtime': 75.6988, 'train_samples_per_second': 21.004, 'train_steps_per_second': 2.642, 'total_flos': 226332035375400.0, 'train_loss': 0.46531842231750487, 'epoch': 5.0})"
      ]
     },
     "execution_count": 38,
     "metadata": {},
     "output_type": "execute_result"
    }
   ],
   "source": [
    "trainer_pubmedbert.train()"
   ]
  },
  {
   "cell_type": "markdown",
   "id": "5594bfed",
   "metadata": {},
   "source": [
    "#### 5.2.1 Save last model"
   ]
  },
  {
   "cell_type": "code",
   "execution_count": 39,
   "id": "3c1cbb46",
   "metadata": {},
   "outputs": [],
   "source": [
    "# trainer_pubmedbert.save_model('pubmedbert_model')"
   ]
  },
  {
   "cell_type": "markdown",
   "id": "9c8db9d9",
   "metadata": {},
   "source": [
    "### 5.3 Evaluate model"
   ]
  },
  {
   "cell_type": "markdown",
   "id": "1e33832b",
   "metadata": {},
   "source": [
    "#### 5.3.1 Predict training data"
   ]
  },
  {
   "cell_type": "code",
   "execution_count": 40,
   "id": "5d6b24ef",
   "metadata": {},
   "outputs": [
    {
     "data": {
      "text/html": [],
      "text/plain": [
       "<IPython.core.display.HTML object>"
      ]
     },
     "metadata": {},
     "output_type": "display_data"
    },
    {
     "name": "stdout",
     "output_type": "stream",
     "text": [
      "              precision    recall  f1-score   support\n",
      "\n",
      "           0       0.96      0.99      0.98       159\n",
      "           1       0.99      0.96      0.97       159\n",
      "\n",
      "    accuracy                           0.97       318\n",
      "   macro avg       0.98      0.97      0.97       318\n",
      "weighted avg       0.98      0.97      0.97       318\n",
      "\n"
     ]
    }
   ],
   "source": [
    "from sklearn.metrics import classification_report\n",
    "\n",
    "preds = trainer_pubmedbert.predict(tokenized_train)\n",
    "preds = np.argmax(preds[:3][0],axis=1)\n",
    "GT = df_train['label'].tolist()\n",
    "print(classification_report(GT,preds))"
   ]
  },
  {
   "cell_type": "markdown",
   "id": "80987cf0",
   "metadata": {},
   "source": [
    "#### 5.3.2 Predict test data"
   ]
  },
  {
   "cell_type": "code",
   "execution_count": 41,
   "id": "48c9951c",
   "metadata": {},
   "outputs": [
    {
     "data": {
      "text/html": [],
      "text/plain": [
       "<IPython.core.display.HTML object>"
      ]
     },
     "metadata": {},
     "output_type": "display_data"
    },
    {
     "name": "stdout",
     "output_type": "stream",
     "text": [
      "              precision    recall  f1-score   support\n",
      "\n",
      "           0       0.63      0.85      0.72        40\n",
      "           1       0.77      0.50      0.61        40\n",
      "\n",
      "    accuracy                           0.68        80\n",
      "   macro avg       0.70      0.68      0.66        80\n",
      "weighted avg       0.70      0.68      0.66        80\n",
      "\n"
     ]
    }
   ],
   "source": [
    "preds = trainer_pubmedbert.predict(tokenized_test)\n",
    "preds = np.argmax(preds[:3][0],axis=1) #preds[:3][1]\n",
    "GT = df_test['label'].tolist()\n",
    "print(classification_report(GT,preds))"
   ]
  },
  {
   "cell_type": "markdown",
   "id": "87531bf7",
   "metadata": {},
   "source": [
    "#### 5.3.3 Confusion-Matrix for test data"
   ]
  },
  {
   "cell_type": "code",
   "execution_count": 42,
   "id": "23150c6a",
   "metadata": {},
   "outputs": [
    {
     "data": {
      "image/png": "[encoded data removed]",
      "text/plain": [
       "<Figure size 600x500 with 2 Axes>"
      ]
     },
     "metadata": {},
     "output_type": "display_data"
    }
   ],
   "source": [
    "import seaborn as sns\n",
    "from sklearn.metrics import confusion_matrix\n",
    "\n",
    "import matplotlib.pyplot as plt\n",
    "\n",
    "# Use predictions and ground truth from previous evaluation on test set\n",
    "conf_matrix = confusion_matrix(GT, preds)\n",
    "\n",
    "plt.figure(figsize=(6,5))\n",
    "sns.heatmap(conf_matrix, annot=True, fmt='d', cmap='Blues',\n",
    "            xticklabels=[\"Predicted 0\", \"Predicted 1\"],\n",
    "            yticklabels=[\"Actual 0\", \"Actual 1\"])\n",
    "\n",
    "plt.xlabel('Predicted Label')\n",
    "plt.ylabel('True Label')\n",
    "plt.title('Confusion Matrix')\n",
    "plt.show()"
   ]
  },
  {
   "cell_type": "markdown",
   "id": "b3c7b298",
   "metadata": {},
   "source": [
    "#### 5.3.4 List of statements per category (TP, TN, FP, FN)"
   ]
  },
  {
   "cell_type": "code",
   "execution_count": 43,
   "id": "eb52ce80",
   "metadata": {},
   "outputs": [],
   "source": [
    "# Get ground truth and predictions for test set\n",
    "y_true = df_test['label'].tolist()\n",
    "y_pred = preds\n",
    "\n",
    "# True Positives: predicted 1, actual 1\n",
    "true_positives = df_test[(df_test['label'] == 1) & (y_pred == 1)]\n",
    "\n",
    "# True Negatives: predicted 0, actual 0\n",
    "true_negatives = df_test[(df_test['label'] == 0) & (y_pred == 0)]\n",
    "\n",
    "# False Positives: predicted 1, actual 0\n",
    "false_positives = df_test[(df_test['label'] == 0) & (y_pred == 1)]\n",
    "\n",
    "# False Negatives: predicted 0, actual 1\n",
    "false_negatives = df_test[(df_test['label'] == 1) & (y_pred == 0)]\n",
    "\n",
    "# Function to print statements\n",
    "import pandas as pd\n",
    "from IPython.display import display\n",
    "\n",
    "def display_statements(df, title):\n",
    "    if not df.empty:\n",
    "        print(f\"\\n{title} (count: {len(df)})\")\n",
    "        display(df[['text']].reset_index(drop=True))\n",
    "    else:\n",
    "        print(f\"\\n{title}: None\")"
   ]
  },
  {
   "cell_type": "code",
   "execution_count": 44,
   "id": "8be49625",
   "metadata": {},
   "outputs": [
    {
     "name": "stdout",
     "output_type": "stream",
     "text": [
      "\n",
      "True Positives (predicted 1, actual 1) (count: 20)\n"
     ]
    },
    {
     "data": {
      "application/vnd.microsoft.datawrangler.viewer.v0+json": {
       "columns": [
        {
         "name": "index",
         "rawType": "int64",
         "type": "integer"
        },
        {
         "name": "text",
         "rawType": "object",
         "type": "string"
        }
       ],
       "ref": "9831a5fb-b410-4924-9bce-a43dc9eec828",
       "rows": [
        [
         "0",
         "Post hoc simple-effects analyses revealed that serial position did not affect the number of recalled distinct attributes, B = -0.02, t(1,510) = -0.39, p = .700, d = 0.01."
        ],
        [
         "1",
         "However, velocity was not increased or decreased in the 10-pence-loss condition (M = 427Â°/s -1, SEM = 12) compared with the 0-pence-loss condition (M = 434Â°/s -1, SEM = 12), t(24) = 0.79, p = .21."
        ],
        [
         "2",
         "We observed no such increase in the congruent condition (Block 1: M = .86, SD = .24; Block 2: M = .90, SD = .19; V = 36, p = .315, r = -.76, 95% CI = [-0.27, 0.07])."
        ],
        [
         "3",
         "For adults, patterns were similar to those in infants for high-variability videos: d was greater for Segment 2 than both Segments 1 and 3 (ps < .001), and there was no difference between Segments 1 and 3 (p = .190); but when adults learned faces from low-variability videos, there was no decrease of d from Segment 1 to Segment 2 (p = .121) or from Segment 2 to Segment 3 (p = .076) but a decrease of d from Segment 1 to Segment 3 (p = .006)."
        ],
        [
         "4",
         "There was no correlation between the reproduced time intervals and the effect of alpha tACS-Pearson's r(28) = -.004, p = .982."
        ],
        [
         "5",
         "Importantly, it was comparable with that in the alertness-training group in Study 2, t(52) = 0.40, p = .690, 95% CI for the mean difference = [-.06, .09], Cohen's d = 0.11 (Figs. 2b and 3c)."
        ],
        [
         "6",
         "There was no difference in the ratings given to faces in the other-slow and other-fast conditions, t(28) = 1.44, p = .16, Cohen's d = 0.27."
        ],
        [
         "7",
         "There was no effect of session for bimodal bilinguals (Î² = -0.50, SE = 1.52, z = -0.33, p = .74), indicating that the increase in semantically specific manual productions in bimodal bilinguals' descriptions was not due to or primed by describing similar pictures in an earlier session in NGT (for information on the order analysis, see the Supplemental Material)."
        ],
        [
         "8",
         "Children and adults pressed the button with equal frequency (p = .51; children: 79%, adults: 76%, Supplemental Fig."
        ],
        [
         "9",
         "In contrast, there was no difference between the sham tACS and alpha tACS conditions (p = .475)."
        ],
        [
         "10",
         "Unlike RT, accuracy did not significantly differ between these two conditions, t(19) = -1.55, p = .137, suggesting that the increase in performance at the location of the template-matching object was RT specific."
        ],
        [
         "11",
         "There was no main effect of ambiguity on cash-out propensity-Experiment 1: Ï‡ 2 (1) = 0.18, p = .67; Experiment 2: Ï‡ 2 (1) = 0.51, p = .48-and no evidence that cash-out propensity varied as a function of when during the delay period a cash-out offer was made-Experiment 1: Ï‡ 2 (1) = 0.76, Î² = -0.05, SE = 0.06, p = .38; Experiment 2: Ï‡ 2 (1) = 2.10, Î² = -0.05, SE = 0.04, p = .15."
        ],
        [
         "12",
         "As expected, there was no difference between participants in the agreeing-and self-perspective conditions (d = 0.12, p = .06)."
        ],
        [
         "13",
         "For âˆ†Î¸ Ë†crit values derived from highversus low-friction trials, values were different from 0Â° in the live-observation group, t(33) = 5.495, p < .001, d = 0.942, and the interaction group, t(31) = 5.339, p < .001, d = 0.851, but not in the video-observation group, t(29) = 1.232, p = .228, d = 0.225."
        ],
        [
         "14",
         "By contrast, there was no evidence of differential responding to the CS+ and the CS-among the unaware participants, F(1, 14) = 1.42, p = .254, 95% CI = [-0.16, 0.41], and no interaction with linear trend over blocks, F < 1."
        ],
        [
         "15",
         "However, auditory attention ability did not predict listening-related fatigue (b 1 : b = 0.023, p = .50)."
        ],
        [
         "16",
         "Most importantly, neither the effect of the stimulation, F(2, 58) = 0.970, p = .385, Î· p 2 = .032, nor its interaction with age level, F(12, 348) = 0.694, p = .758, Î· p 2 = .23, were significant, suggesting that age estimation was not modulated by alpha or beta oscillations (for the analysis comparing the MTT task with the age estimation task, see \"Supplementary Results\" at <https://osf.io/24cs7/>)."
        ],
        [
         "17",
         "We found no systematic difference between the staircased presentation durations of high-probability feature trials (2.04, SD = 0.90) and low-probability feature trials (2.03, SD = 0.87), t(55) = 1.03, p = .308, Cohen's d = 0.14, 95% CI = [-0.01, 0.03], thus excluding the possibility that the observed accuracy difference was due to unbalanced presentation durations between the two conditions."
        ],
        [
         "18",
         "Similarly, further analysis indicated that there was no association between imagine-to-hear errors and score on the LSHS-E, r S (1377) = -.005, 95% CI = [-.06, .05], p = .839."
        ],
        [
         "19",
         "There was no First Fixation Ã— Expected Value interaction, b = -0.54, SE = 0.74, z = -0.72, p = .47."
        ]
       ],
       "shape": {
        "columns": 1,
        "rows": 20
       }
      },
      "text/html": [
       "<div>\n",
       "<style scoped>\n",
       "    .dataframe tbody tr th:only-of-type {\n",
       "        vertical-align: middle;\n",
       "    }\n",
       "\n",
       "    .dataframe tbody tr th {\n",
       "        vertical-align: top;\n",
       "    }\n",
       "\n",
       "    .dataframe thead th {\n",
       "        text-align: right;\n",
       "    }\n",
       "</style>\n",
       "<table border=\"1\" class=\"dataframe\">\n",
       "  <thead>\n",
       "    <tr style=\"text-align: right;\">\n",
       "      <th></th>\n",
       "      <th>text</th>\n",
       "    </tr>\n",
       "  </thead>\n",
       "  <tbody>\n",
       "    <tr>\n",
       "      <th>0</th>\n",
       "      <td>Post hoc simple-effects analyses revealed that...</td>\n",
       "    </tr>\n",
       "    <tr>\n",
       "      <th>1</th>\n",
       "      <td>However, velocity was not increased or decreas...</td>\n",
       "    </tr>\n",
       "    <tr>\n",
       "      <th>2</th>\n",
       "      <td>We observed no such increase in the congruent ...</td>\n",
       "    </tr>\n",
       "    <tr>\n",
       "      <th>3</th>\n",
       "      <td>For adults, patterns were similar to those in ...</td>\n",
       "    </tr>\n",
       "    <tr>\n",
       "      <th>4</th>\n",
       "      <td>There was no correlation between the reproduce...</td>\n",
       "    </tr>\n",
       "    <tr>\n",
       "      <th>5</th>\n",
       "      <td>Importantly, it was comparable with that in th...</td>\n",
       "    </tr>\n",
       "    <tr>\n",
       "      <th>6</th>\n",
       "      <td>There was no difference in the ratings given t...</td>\n",
       "    </tr>\n",
       "    <tr>\n",
       "      <th>7</th>\n",
       "      <td>There was no effect of session for bimodal bil...</td>\n",
       "    </tr>\n",
       "    <tr>\n",
       "      <th>8</th>\n",
       "      <td>Children and adults pressed the button with eq...</td>\n",
       "    </tr>\n",
       "    <tr>\n",
       "      <th>9</th>\n",
       "      <td>In contrast, there was no difference between t...</td>\n",
       "    </tr>\n",
       "    <tr>\n",
       "      <th>10</th>\n",
       "      <td>Unlike RT, accuracy did not significantly diff...</td>\n",
       "    </tr>\n",
       "    <tr>\n",
       "      <th>11</th>\n",
       "      <td>There was no main effect of ambiguity on cash-...</td>\n",
       "    </tr>\n",
       "    <tr>\n",
       "      <th>12</th>\n",
       "      <td>As expected, there was no difference between p...</td>\n",
       "    </tr>\n",
       "    <tr>\n",
       "      <th>13</th>\n",
       "      <td>For âˆ†Î¸ Ë†crit values derived from highversu...</td>\n",
       "    </tr>\n",
       "    <tr>\n",
       "      <th>14</th>\n",
       "      <td>By contrast, there was no evidence of differen...</td>\n",
       "    </tr>\n",
       "    <tr>\n",
       "      <th>15</th>\n",
       "      <td>However, auditory attention ability did not pr...</td>\n",
       "    </tr>\n",
       "    <tr>\n",
       "      <th>16</th>\n",
       "      <td>Most importantly, neither the effect of the st...</td>\n",
       "    </tr>\n",
       "    <tr>\n",
       "      <th>17</th>\n",
       "      <td>We found no systematic difference between the ...</td>\n",
       "    </tr>\n",
       "    <tr>\n",
       "      <th>18</th>\n",
       "      <td>Similarly, further analysis indicated that the...</td>\n",
       "    </tr>\n",
       "    <tr>\n",
       "      <th>19</th>\n",
       "      <td>There was no First Fixation Ã— Expected Value ...</td>\n",
       "    </tr>\n",
       "  </tbody>\n",
       "</table>\n",
       "</div>"
      ],
      "text/plain": [
       "                                                 text\n",
       "0   Post hoc simple-effects analyses revealed that...\n",
       "1   However, velocity was not increased or decreas...\n",
       "2   We observed no such increase in the congruent ...\n",
       "3   For adults, patterns were similar to those in ...\n",
       "4   There was no correlation between the reproduce...\n",
       "5   Importantly, it was comparable with that in th...\n",
       "6   There was no difference in the ratings given t...\n",
       "7   There was no effect of session for bimodal bil...\n",
       "8   Children and adults pressed the button with eq...\n",
       "9   In contrast, there was no difference between t...\n",
       "10  Unlike RT, accuracy did not significantly diff...\n",
       "11  There was no main effect of ambiguity on cash-...\n",
       "12  As expected, there was no difference between p...\n",
       "13  For âˆ†Î¸ Ë†crit values derived from highversu...\n",
       "14  By contrast, there was no evidence of differen...\n",
       "15  However, auditory attention ability did not pr...\n",
       "16  Most importantly, neither the effect of the st...\n",
       "17  We found no systematic difference between the ...\n",
       "18  Similarly, further analysis indicated that the...\n",
       "19  There was no First Fixation Ã— Expected Value ..."
      ]
     },
     "metadata": {},
     "output_type": "display_data"
    }
   ],
   "source": [
    "display_statements(true_positives, \"True Positives (predicted 1, actual 1)\")"
   ]
  },
  {
   "cell_type": "code",
   "execution_count": 45,
   "id": "e5705a94",
   "metadata": {},
   "outputs": [
    {
     "name": "stdout",
     "output_type": "stream",
     "text": [
      "\n",
      "True Negatives (predicted 0, actual 0) (count: 34)\n"
     ]
    },
    {
     "data": {
      "application/vnd.microsoft.datawrangler.viewer.v0+json": {
       "columns": [
        {
         "name": "index",
         "rawType": "int64",
         "type": "integer"
        },
        {
         "name": "text",
         "rawType": "object",
         "type": "string"
        }
       ],
       "ref": "e3d0572c-136b-4c82-b22e-c0e42b651ce0",
       "rows": [
        [
         "0",
         "Tukey's honestly significant difference (HSD) tests revealed significant differences between all pairwise positions (all ps < .001) except Position 2 versus Position 3, t(116) = 2.28, p = .16, Position 2 versus Position 4, t(116) = .574, p = .98, and Position 3 versus Position 4, t(116) = -1.712, p = .43."
        ],
        [
         "1",
         "We found no significant difference between the high-pitch and neutral conditions, t(28) = 0.30, p = .77, Cohen's d = 0.055, BF 01 = 4.86 (range in which scales were consistent with support for the null hypothesis = 0.393-2), or between the low-pitch and neutral conditions, t(28) = 0.79, p = .43, Cohen's d = 0.15, BF 01 = 3.80 (range in which scales were consistent with support for the null hypothesis = 0.528-2)."
        ],
        [
         "2",
         "There were no significant differences by gender in the likelihood of challenging speakers (12% of men, 15% of women), b = 0.02, t(187) = 0.42, p = .676, 95% CI = [-0.09, 0.14]."
        ],
        [
         "3",
         "The effect of transaction frame did not significantly interact with ownership status, F(1, 268) = 0.67, p = .796, Î· p 2 = .000."
        ],
        [
         "4",
         "The effect of host-country tightness was not significant, Wald Ï‡ 2 = 1.43, p = .232."
        ],
        [
         "5",
         "The LPE effect was reduced to 3.3% in the similarity condition, which was not statistically significant, t(16) = 0.76, p = .46, Î± = .025."
        ],
        [
         "6",
         "Results revealed no significant relationships between small-scale heart rate standard deviation and self-reported fear (Model 4a: Î² = 7.42, SE = 6.34, p = .245), nor between small-scale heart rate skewness and self-reported fear (Model 5a: Î² = 8.21, SE = 8.86, p = .357)."
        ],
        [
         "7",
         "The three-way Configuration Ã— Decoy Ã— Choice interaction in a log linear analysis was nonsignificant, Ï‡ 2 (1, N = 768) = 2.85, p = .09."
        ],
        [
         "8",
         "We found no gender differences in task performance, t(51) = -0.66, p > .250."
        ],
        [
         "9",
         "We ran a mixed analysis of variance on the percentage of faces judged as human with face type (White AI, White human) within subjects and participant race (White, non-White) between subjects and found no significant main effect of participant race, F(1, 313) = 1.23, MSE = 267.22, p = .268, or interaction with face type, F(1, 313) = 1.01, MSE = 581.35, p = .316."
        ],
        [
         "10",
         "In contrast, performance for White human faces did not differ significantly from chance, t(123) = 0.60, p = .550, d = 0.05, 95% CI [-0.12, 0.23]."
        ],
        [
         "11",
         "There was no significant interaction between participant height and opponent height, Wald Ï‡ 2 (1) = 0.38, b = 0.042, SE = 0.068, 95% CI = [-0.091, 0.174], p = .540 (QICc = 203.85)."
        ],
        [
         "12",
         "Here, too, the interaction effects were nonsignificant-perceived scientific consensus: b = -1.68, t(20) = -0.53, p = .600; factual beliefs: b = -0.95, t(23) = -0.90, p = .378."
        ],
        [
         "13",
         "Importantly, the effect of mental rehearsal was not significant, z = 0.73, exp(b) = 1.07, 95% CI = [0.90, 1.27], p = .464, nor was the Mental Rehearsal Ã— Visual Cue interaction, z = -0.02, exp(b) = 1.00, 95% CI = [0.70, 1.41], p = .984."
        ],
        [
         "14",
         "Finally, there was no significant interaction between absolute height and opponent height, Wald Ï‡ 2 (1) = 0.13, b = 0.001, SE = 0.001, 95% CI = [-0.002, 0.003], p = .718 (QICc = 117.75)."
        ],
        [
         "15",
         "For groups added to the analysis, no significant difference was observed in the probability of strike calls after an ejection, both for individuals ejected for verbal aggression unrelated to the strike zone (OR = 0.897, 95% CI = [0.713, 1.129], p = .6170 for the offending team; OR = 0.995, 95% CI = [0.785, 1.262], p = 1.000 for the opposing team) and for aggressive behavior against the other team (OR = 1.092, 95% CI = [0.814, 1.465], p = .8673 for the offending team; OR = 1.234, 95% CI = [0.916, 1.662], p = .2659 for the opposing team)."
        ],
        [
         "16",
         "Performance was fastest for the biggest and smallest positions compared with the inner positions, with no significant difference between the outer two positions, t(116) = -1.417, p = .62, and was slightly faster for sets with one dot, M = 970, SE = 30.60, 95% CI = [907, 1,032], compared with three dots, M = 1,015, SE = 30.6, 95% CI = [953, 1,077], and five dots, M = 1,004, SE = 30.6, 95% CI = 942, 1,066]."
        ],
        [
         "17",
         "The senders' overall corrugator activity was not significantly different during touch compared with baseline (EMM = .06, 95% CI = [-.04, .157]), t(28) = 1.14, p = .264, but did vary significantly with cue, F(5, 891) = 8.58, p < .001 (Fig. 2b)."
        ],
        [
         "18",
         "Mean classification RTs did not significantly differ between the deep (M = 701 ms, SE = 6) and shallow (M = 700 ms, SE = 7) conditions, t(1048) = 0.02, p = .985, d = 0.001, 95% confidence interval (CI) = [-0.12, 0.12]."
        ],
        [
         "19",
         "SES was not significantly related to behavior in the dictator game, Wald Ï‡ 2 (1) = 0.61, b = 0.092, SE = 0.118, 95% CI = [-0.139, 0.323], p = .436."
        ],
        [
         "20",
         "Again, no significant interaction effect was found, b = -0.13, t(30) = -0.24, p = .810."
        ],
        [
         "21",
         "Moreover, using markers of higher-quality listening had a positive significant effect on perceived listening when the listener disagreed with speakers (B = 0.34, SE = 0.11, p = .002) but no significant effect when they agreed with them (B = 1.19e-3, SE = 0.11, p = .992; see Fig. 4)."
        ],
        [
         "22",
         "The effect of valuation order and the interaction between valuation order and transaction frame were not significant, F(1, 212) = 1.130, p = .289; and F(1, 212) = 0.524, p = .470, respectively."
        ],
        [
         "23",
         "Participants in the ultimatum game were nonsignificantly less self-biased compared with participants in the dictator game in Study 1, and significantly so in Study 2, which was better powered to detect effects (Study 1: b game = 0.968, SE = 1.467, z = 0.660, two-tailed p = .509, r = .258, 95% CI = [-.465, .727]; Study 2: b game = 0.917, SE = 0.417, z = 2.202, preregistered one-tailed p = .014, r = .245, 95% CI = [.028, .431])."
        ],
        [
         "24",
         "There was no significant Visual Cue Ã— Valence interaction, z = 0.75, exp(b) = 1.17, 95% CI = [0.78, 1.74], p = .450, or Visual Cue Ã— Neutral interaction, z = -1.18, exp(b) = 0.81, 95% CI = [0.58, 1.15], p = .239."
        ],
        [
         "25",
         "Note that we included accuracies in the model to account for the small differences in task difficulty between the direction conditions (see below), and this never significantly predicted pupil size (t < 1.113, p > .265)."
        ],
        [
         "26",
         "The overall interaction effect of Sex Ratio Ã— Participant Sex (weighted by each test's degrees of freedom) was not significant (z = 1.053, p = .146)."
        ],
        [
         "27",
         "A repeated measures ANOVA on the two questions concerning thoughts about money and labor with transaction frame as the predictor did not yield any significant effect either-transaction frame: F(1, 212) = 0.004, p = .952, Î· p 2 = .000; question: F(1, 212) = 1.023, p = .313, Î· p 2 = .005; and their interaction: F(1, 212) = 1.259, p = .263, Î· p 2 = .004, respectively."
        ],
        [
         "28",
         "Similarly, there was no significant relationship between CP enjoyment change and CP fear change (Model 6c: Î² = 0.01, SE = 0.09, p = .908)."
        ],
        [
         "29",
         "The fourth correlation between autism trait and the lowcontrast threshold was also nonsignificant (p = .07), but the Bayes factor for this case neither favored the null nor experimental hypothesis (BF 01 = 0.86)."
        ],
        [
         "30",
         "Opponent height did not significantly affect coins kept for self in the dictator game, Wald Ï‡ 2 (1) = 1.34, b = -0.006, SE = 0.005, 95% CI = [-0.015, 0.004], p = .247 (QICc = 325.85)."
        ],
        [
         "31",
         "Being in an oppositional climate (vs. the balanced condition) only descriptively reduced the willingness to respond to uncongenial comments (b = -0.30, SE = 0.16, 95% CI = [-0.62, 0.02], t = -1.84, p = .065)."
        ],
        [
         "32",
         "Results revealed no significant relationship between CP post-jump-scare fear and participants' motivation (p = .558)."
        ],
        [
         "33",
         "However, there was not a significant effect of time delay on punishment in the fair condition, F(1, 3058) = 0.84, p = .36, Î· p 2 = .00, as participants in the long-time-delay condition (M = 0.79, SD = 2.16) levied equally severe punishment as those in the short-time-delay condition (M = 0.91, SD = 2.25; see Fig. 2)."
        ]
       ],
       "shape": {
        "columns": 1,
        "rows": 34
       }
      },
      "text/html": [
       "<div>\n",
       "<style scoped>\n",
       "    .dataframe tbody tr th:only-of-type {\n",
       "        vertical-align: middle;\n",
       "    }\n",
       "\n",
       "    .dataframe tbody tr th {\n",
       "        vertical-align: top;\n",
       "    }\n",
       "\n",
       "    .dataframe thead th {\n",
       "        text-align: right;\n",
       "    }\n",
       "</style>\n",
       "<table border=\"1\" class=\"dataframe\">\n",
       "  <thead>\n",
       "    <tr style=\"text-align: right;\">\n",
       "      <th></th>\n",
       "      <th>text</th>\n",
       "    </tr>\n",
       "  </thead>\n",
       "  <tbody>\n",
       "    <tr>\n",
       "      <th>0</th>\n",
       "      <td>Tukey's honestly significant difference (HSD) ...</td>\n",
       "    </tr>\n",
       "    <tr>\n",
       "      <th>1</th>\n",
       "      <td>We found no significant difference between the...</td>\n",
       "    </tr>\n",
       "    <tr>\n",
       "      <th>2</th>\n",
       "      <td>There were no significant differences by gende...</td>\n",
       "    </tr>\n",
       "    <tr>\n",
       "      <th>3</th>\n",
       "      <td>The effect of transaction frame did not signif...</td>\n",
       "    </tr>\n",
       "    <tr>\n",
       "      <th>4</th>\n",
       "      <td>The effect of host-country tightness was not s...</td>\n",
       "    </tr>\n",
       "    <tr>\n",
       "      <th>5</th>\n",
       "      <td>The LPE effect was reduced to 3.3% in the simi...</td>\n",
       "    </tr>\n",
       "    <tr>\n",
       "      <th>6</th>\n",
       "      <td>Results revealed no significant relationships ...</td>\n",
       "    </tr>\n",
       "    <tr>\n",
       "      <th>7</th>\n",
       "      <td>The three-way Configuration Ã— Decoy Ã— Choice...</td>\n",
       "    </tr>\n",
       "    <tr>\n",
       "      <th>8</th>\n",
       "      <td>We found no gender differences in task perform...</td>\n",
       "    </tr>\n",
       "    <tr>\n",
       "      <th>9</th>\n",
       "      <td>We ran a mixed analysis of variance on the per...</td>\n",
       "    </tr>\n",
       "    <tr>\n",
       "      <th>10</th>\n",
       "      <td>In contrast, performance for White human faces...</td>\n",
       "    </tr>\n",
       "    <tr>\n",
       "      <th>11</th>\n",
       "      <td>There was no significant interaction between p...</td>\n",
       "    </tr>\n",
       "    <tr>\n",
       "      <th>12</th>\n",
       "      <td>Here, too, the interaction effects were nonsig...</td>\n",
       "    </tr>\n",
       "    <tr>\n",
       "      <th>13</th>\n",
       "      <td>Importantly, the effect of mental rehearsal wa...</td>\n",
       "    </tr>\n",
       "    <tr>\n",
       "      <th>14</th>\n",
       "      <td>Finally, there was no significant interaction ...</td>\n",
       "    </tr>\n",
       "    <tr>\n",
       "      <th>15</th>\n",
       "      <td>For groups added to the analysis, no significa...</td>\n",
       "    </tr>\n",
       "    <tr>\n",
       "      <th>16</th>\n",
       "      <td>Performance was fastest for the biggest and sm...</td>\n",
       "    </tr>\n",
       "    <tr>\n",
       "      <th>17</th>\n",
       "      <td>The senders' overall corrugator activity was n...</td>\n",
       "    </tr>\n",
       "    <tr>\n",
       "      <th>18</th>\n",
       "      <td>Mean classification RTs did not significantly ...</td>\n",
       "    </tr>\n",
       "    <tr>\n",
       "      <th>19</th>\n",
       "      <td>SES was not significantly related to behavior ...</td>\n",
       "    </tr>\n",
       "    <tr>\n",
       "      <th>20</th>\n",
       "      <td>Again, no significant interaction effect was f...</td>\n",
       "    </tr>\n",
       "    <tr>\n",
       "      <th>21</th>\n",
       "      <td>Moreover, using markers of higher-quality list...</td>\n",
       "    </tr>\n",
       "    <tr>\n",
       "      <th>22</th>\n",
       "      <td>The effect of valuation order and the interact...</td>\n",
       "    </tr>\n",
       "    <tr>\n",
       "      <th>23</th>\n",
       "      <td>Participants in the ultimatum game were nonsig...</td>\n",
       "    </tr>\n",
       "    <tr>\n",
       "      <th>24</th>\n",
       "      <td>There was no significant Visual Cue Ã— Valence...</td>\n",
       "    </tr>\n",
       "    <tr>\n",
       "      <th>25</th>\n",
       "      <td>Note that we included accuracies in the model ...</td>\n",
       "    </tr>\n",
       "    <tr>\n",
       "      <th>26</th>\n",
       "      <td>The overall interaction effect of Sex Ratio Ã—...</td>\n",
       "    </tr>\n",
       "    <tr>\n",
       "      <th>27</th>\n",
       "      <td>A repeated measures ANOVA on the two questions...</td>\n",
       "    </tr>\n",
       "    <tr>\n",
       "      <th>28</th>\n",
       "      <td>Similarly, there was no significant relationsh...</td>\n",
       "    </tr>\n",
       "    <tr>\n",
       "      <th>29</th>\n",
       "      <td>The fourth correlation between autism trait an...</td>\n",
       "    </tr>\n",
       "    <tr>\n",
       "      <th>30</th>\n",
       "      <td>Opponent height did not significantly affect c...</td>\n",
       "    </tr>\n",
       "    <tr>\n",
       "      <th>31</th>\n",
       "      <td>Being in an oppositional climate (vs. the bala...</td>\n",
       "    </tr>\n",
       "    <tr>\n",
       "      <th>32</th>\n",
       "      <td>Results revealed no significant relationship b...</td>\n",
       "    </tr>\n",
       "    <tr>\n",
       "      <th>33</th>\n",
       "      <td>However, there was not a significant effect of...</td>\n",
       "    </tr>\n",
       "  </tbody>\n",
       "</table>\n",
       "</div>"
      ],
      "text/plain": [
       "                                                 text\n",
       "0   Tukey's honestly significant difference (HSD) ...\n",
       "1   We found no significant difference between the...\n",
       "2   There were no significant differences by gende...\n",
       "3   The effect of transaction frame did not signif...\n",
       "4   The effect of host-country tightness was not s...\n",
       "5   The LPE effect was reduced to 3.3% in the simi...\n",
       "6   Results revealed no significant relationships ...\n",
       "7   The three-way Configuration Ã— Decoy Ã— Choice...\n",
       "8   We found no gender differences in task perform...\n",
       "9   We ran a mixed analysis of variance on the per...\n",
       "10  In contrast, performance for White human faces...\n",
       "11  There was no significant interaction between p...\n",
       "12  Here, too, the interaction effects were nonsig...\n",
       "13  Importantly, the effect of mental rehearsal wa...\n",
       "14  Finally, there was no significant interaction ...\n",
       "15  For groups added to the analysis, no significa...\n",
       "16  Performance was fastest for the biggest and sm...\n",
       "17  The senders' overall corrugator activity was n...\n",
       "18  Mean classification RTs did not significantly ...\n",
       "19  SES was not significantly related to behavior ...\n",
       "20  Again, no significant interaction effect was f...\n",
       "21  Moreover, using markers of higher-quality list...\n",
       "22  The effect of valuation order and the interact...\n",
       "23  Participants in the ultimatum game were nonsig...\n",
       "24  There was no significant Visual Cue Ã— Valence...\n",
       "25  Note that we included accuracies in the model ...\n",
       "26  The overall interaction effect of Sex Ratio Ã—...\n",
       "27  A repeated measures ANOVA on the two questions...\n",
       "28  Similarly, there was no significant relationsh...\n",
       "29  The fourth correlation between autism trait an...\n",
       "30  Opponent height did not significantly affect c...\n",
       "31  Being in an oppositional climate (vs. the bala...\n",
       "32  Results revealed no significant relationship b...\n",
       "33  However, there was not a significant effect of..."
      ]
     },
     "metadata": {},
     "output_type": "display_data"
    }
   ],
   "source": [
    "display_statements(true_negatives, \"True Negatives (predicted 0, actual 0)\")"
   ]
  },
  {
   "cell_type": "code",
   "execution_count": 46,
   "id": "34204718",
   "metadata": {},
   "outputs": [
    {
     "name": "stdout",
     "output_type": "stream",
     "text": [
      "\n",
      "False Positives (predicted 1, actual 0) (count: 6)\n"
     ]
    },
    {
     "data": {
      "application/vnd.microsoft.datawrangler.viewer.v0+json": {
       "columns": [
        {
         "name": "index",
         "rawType": "int64",
         "type": "integer"
        },
        {
         "name": "text",
         "rawType": "object",
         "type": "string"
        }
       ],
       "ref": "b4be11b3-0ce6-4d1e-a9a2-6854249c0561",
       "rows": [
        [
         "0",
         "Among participants using the optimal strategy during generalization (Fig. 4d), control participants performed significantly better than dyslexia participants in the information-integration task, t(14.9) = 3.21, p = .0059, d = 1.36, 95% CI = [3.69, 18.3], but not the rule-based task, t(30.5) = 1.38, p = .18, d = 0.48, 95% CI = [-3.13, 16.3]."
        ],
        [
         "1",
         "In contrast, non-White AI faces (left side of Fig. 2a) were judged as human at around chance levels, M non-White-AI = 50.5%, t(314) = 0.41, p = .682, d = 0.02, 95% CI = [-0.09, 0.13], which did not differ significantly from how often non-White human faces were judged to be human, versus M non-White-human = 51.3%, t(314) = 0.74, p = .461, d = 0.04, 95% CI = [-0.07, 0.15]."
        ],
        [
         "2",
         "However, pupil dilation was not significantly different in the 10-pencegain condition (M = 376 units, SEM = 32) than in the 0-pence-gain condition (M = 369 units, SEM = 31), t(29) = 0.99, p = .17."
        ],
        [
         "3",
         "For the recognition data, the NHST analysis showed no significant effects of state of mind on any of the measures of correct or false memories (lowest p = .077)."
        ],
        [
         "4",
         "Study S2 shows that participants imagined people with depression as a bit shorter than people without depression, but this result did not reach conventional statistical significance (p = .08, d = 0.26)."
        ],
        [
         "5",
         "Further, the reactivation-only group, t(68) = 1.00, p = .32, and the Tetris-only group, t(68) = 0.36, p = .72, did not differ significantly from the no-task control group."
        ]
       ],
       "shape": {
        "columns": 1,
        "rows": 6
       }
      },
      "text/html": [
       "<div>\n",
       "<style scoped>\n",
       "    .dataframe tbody tr th:only-of-type {\n",
       "        vertical-align: middle;\n",
       "    }\n",
       "\n",
       "    .dataframe tbody tr th {\n",
       "        vertical-align: top;\n",
       "    }\n",
       "\n",
       "    .dataframe thead th {\n",
       "        text-align: right;\n",
       "    }\n",
       "</style>\n",
       "<table border=\"1\" class=\"dataframe\">\n",
       "  <thead>\n",
       "    <tr style=\"text-align: right;\">\n",
       "      <th></th>\n",
       "      <th>text</th>\n",
       "    </tr>\n",
       "  </thead>\n",
       "  <tbody>\n",
       "    <tr>\n",
       "      <th>0</th>\n",
       "      <td>Among participants using the optimal strategy ...</td>\n",
       "    </tr>\n",
       "    <tr>\n",
       "      <th>1</th>\n",
       "      <td>In contrast, non-White AI faces (left side of ...</td>\n",
       "    </tr>\n",
       "    <tr>\n",
       "      <th>2</th>\n",
       "      <td>However, pupil dilation was not significantly ...</td>\n",
       "    </tr>\n",
       "    <tr>\n",
       "      <th>3</th>\n",
       "      <td>For the recognition data, the NHST analysis sh...</td>\n",
       "    </tr>\n",
       "    <tr>\n",
       "      <th>4</th>\n",
       "      <td>Study S2 shows that participants imagined peop...</td>\n",
       "    </tr>\n",
       "    <tr>\n",
       "      <th>5</th>\n",
       "      <td>Further, the reactivation-only group, t(68) = ...</td>\n",
       "    </tr>\n",
       "  </tbody>\n",
       "</table>\n",
       "</div>"
      ],
      "text/plain": [
       "                                                text\n",
       "0  Among participants using the optimal strategy ...\n",
       "1  In contrast, non-White AI faces (left side of ...\n",
       "2  However, pupil dilation was not significantly ...\n",
       "3  For the recognition data, the NHST analysis sh...\n",
       "4  Study S2 shows that participants imagined peop...\n",
       "5  Further, the reactivation-only group, t(68) = ..."
      ]
     },
     "metadata": {},
     "output_type": "display_data"
    }
   ],
   "source": [
    "display_statements(false_positives, \"False Positives (predicted 1, actual 0)\")"
   ]
  },
  {
   "cell_type": "code",
   "execution_count": 47,
   "id": "060b85af",
   "metadata": {},
   "outputs": [
    {
     "name": "stdout",
     "output_type": "stream",
     "text": [
      "\n",
      "False Negatives (predicted 0, actual 1) (count: 20)\n"
     ]
    },
    {
     "data": {
      "application/vnd.microsoft.datawrangler.viewer.v0+json": {
       "columns": [
        {
         "name": "index",
         "rawType": "int64",
         "type": "integer"
        },
        {
         "name": "text",
         "rawType": "object",
         "type": "string"
        }
       ],
       "ref": "43ff17ca-5dba-4026-b476-ed72fba790b6",
       "rows": [
        [
         "0",
         "A length effect was found for pseudowords (five-letter strings: M = 2,236 ms, SD = 621; three-letter strings: M = 1,828 ms, SD = 459), t(17) = -4.92, p < .001, but not for real words (three letters: M = 1,617 ms, SD = 372; five letters: M = 1,620 ms, SD = 319), t(17) = -0.06, p = .96."
        ],
        [
         "1",
         "First, participant height (added as a fixed factor to the intercept-only model) had no effect on aggressive behavior, Wald Ï‡ 2 (1) = 0.10, b = -0.024, SE = 0.074, 95% CI = [-0.169, 0.122], p = .749 (QICc = 166.91)."
        ],
        [
         "2",
         "In contrast, atomoxetine did not increase risky helping compared with the placebo (b = -0.01, SE = 0.04, p = .787)."
        ],
        [
         "3",
         "Non-attraction-effect choices were very rare and, like decoy choices, they likely reflect noisy responding; they were more common among people with lower cognitive ability, b = 0.689, 95% CI = [0.357, 1.021], p < .001, but did not differ between the ASC and control groups, b = -0.037, 95% CI = [-0.381, 0.307], p = .834, and were unrelated to age, b = 0.014, 95% CI = [-0.295, 0.324], p = .929, or gender, b = -0.229, 95% CI = [-0.528, 0.069], p = .132."
        ],
        [
         "4",
         "A Position Ã— Set Size repeatedmeasures ANOVA with RT as the dependent variable showed a significant main effect of position, F(2, 58) = 104.0, p < .001, f = 1.89, and no effect of set size, F(2, 58) = 0.02, p = .98, f = 0.02, or a significant Position Ã— Set Size interaction, F(4, 116) = 1.81, p = .13, f = 0.25."
        ],
        [
         "5",
         "Results were also independent of the reliability of candidate traits (r = -.02, p = .91)."
        ],
        [
         "6",
         "This finding was similar to that in the forced-stay condition, in which 38% of lies resulted in the highest possible monetary return, Ï‡ 2 (1, N = 178) = 0.48, p = .49."
        ],
        [
         "7",
         "Depending on the outcome measure, individuals with a higher level of commitment experienced no change or a deterioration in well-being following infidelity (socialization effects at 1 SD above the mean of commitment: relationship satisfaction b = -0.03, p = .260; intimacy b = -0.02, p = .320; admiration b = -0.04, p = .037; conflict b = 0.002, p = .915)."
        ],
        [
         "8",
         "Time of day did not interact with type of day (i.e., social isolation vs. baseline) for any of the above momentary state measures (p > .08)."
        ],
        [
         "9",
         "We next focused on report error and found a main effect of sound, F(2, 84) = 11.31, p < .001, Î· p 2 = .12; there was no main effect of sound onset (during or after visual discrimination), F(1, 84) = 0.16, p = .69, Î· p 2 = .001, and there was a significant interaction, F(2, 168) = 3.39, p = .036, Î· p 2 = .04."
        ],
        [
         "10",
         "At T0, after adjusting for covariates (age at T0, sex, Latino identity, duration between biological sample collection, and T0 child adversity exposure), BEC proportion-adjusted PedBE age acceleration was the same across CPP treatment (Î¼ = -0.06) and propensity-matched and weighted community (Î¼ = -0.06) samples, F(1, 148) = 0.03, p = .854, Cohen's f = 0.0, 95% CI = [0.00, 1.00]."
        ],
        [
         "11",
         "RTs significantly varied according to recognition judgment, F(3.58, 3303.28) = 54.86, p < .001, Î· p 2 = .056, and there was no interaction with age (p = .862; all Greenhouse-Geisser adjusted)."
        ],
        [
         "12",
         "Consistent with these observations, a repeated measures ANOVA with location as a repeated variable showed no effect of location on bias, F(2, 16) = 1.142, p = .344, Î· p 2 = .125, power = .216, and one-sample t tests comparing bias with zero were not significant for any reference position-0Â°: t(8) = 0.43, p = .677; 45Â°: t(8) = 0.055, p = .958; 90Â°: t(8) = 1.25, p = .247."
        ],
        [
         "13",
         "In keeping with an absence of an effect of M1 TMS on confidence, results showed that M1 stimulation had no effect on metacognitive efficiency, F(1, 16) = 0.13, p = .73, Î· p 2 = .008 (Fig."
        ],
        [
         "14",
         "The Participant Group Ã— Tweet type interaction was significant, b = 0.24, SE = 0.05, t(4552) = 5.24, p < .001: Across measures, frequent reactors responded more positively to dismissing versus engaging tweets, b = -0.24, SE = 0.03, t(4552) = 7.12, p < .001, but everyone else did not, b = -0.00, SE = 0.04, t(4552) = -0.07, p = .946."
        ],
        [
         "15",
         "In addition, fit did not improve when the Distance Ã— Hand Position interaction (and main effects) was tested against the model including only the two main effects, Ï‡ 2 (1, N = 20) = 1, p = .315."
        ],
        [
         "16",
         "As before, this interaction resulted from a significant length effect for pseudowords (five-letter strings: M = 19.30%, SD = 10.40; three-letter strings: M = 15.68%, SD = 7.69), t(29) = -4.52, p < .001, but not for real words (three letters: M = 14.67%, SD = 8.29; five letters: M = 15.24%, SD = 7.04), t(29) = -0.67, p = .51."
        ],
        [
         "17",
         "The decline in the joy condition did not differ from that in the awe condition, b = -0.30, SE = 0.26, t(348) = -1.18, p = .240, Î· p 2 < .01 (see Table S15 in the Supplemental Material for descriptive statistics)."
        ],
        [
         "18",
         "For congruency, larger EPN amplitudes (incongruent negative: M = -2.09, SD = 2.29; M = -1.82, SD = 2.48; incongruent positive: M = -2.25, SD = 2.51) were found for incongruent positive compared with congruent evaluations (p = .004) but not compared with incongruent negative evaluations (p = .077)."
        ],
        [
         "19",
         "On the other hand, the quadratic component of age was marginally associated with influence magnitude under selfish influence (slope = 32.96, SE = 18.21, p = .072) but not under prosocial influence (slope = -1.11, SE = 10.60, p = .917)."
        ]
       ],
       "shape": {
        "columns": 1,
        "rows": 20
       }
      },
      "text/html": [
       "<div>\n",
       "<style scoped>\n",
       "    .dataframe tbody tr th:only-of-type {\n",
       "        vertical-align: middle;\n",
       "    }\n",
       "\n",
       "    .dataframe tbody tr th {\n",
       "        vertical-align: top;\n",
       "    }\n",
       "\n",
       "    .dataframe thead th {\n",
       "        text-align: right;\n",
       "    }\n",
       "</style>\n",
       "<table border=\"1\" class=\"dataframe\">\n",
       "  <thead>\n",
       "    <tr style=\"text-align: right;\">\n",
       "      <th></th>\n",
       "      <th>text</th>\n",
       "    </tr>\n",
       "  </thead>\n",
       "  <tbody>\n",
       "    <tr>\n",
       "      <th>0</th>\n",
       "      <td>A length effect was found for pseudowords (fiv...</td>\n",
       "    </tr>\n",
       "    <tr>\n",
       "      <th>1</th>\n",
       "      <td>First, participant height (added as a fixed fa...</td>\n",
       "    </tr>\n",
       "    <tr>\n",
       "      <th>2</th>\n",
       "      <td>In contrast, atomoxetine did not increase risk...</td>\n",
       "    </tr>\n",
       "    <tr>\n",
       "      <th>3</th>\n",
       "      <td>Non-attraction-effect choices were very rare a...</td>\n",
       "    </tr>\n",
       "    <tr>\n",
       "      <th>4</th>\n",
       "      <td>A Position Ã— Set Size repeatedmeasures ANOVA ...</td>\n",
       "    </tr>\n",
       "    <tr>\n",
       "      <th>5</th>\n",
       "      <td>Results were also independent of the reliabili...</td>\n",
       "    </tr>\n",
       "    <tr>\n",
       "      <th>6</th>\n",
       "      <td>This finding was similar to that in the forced...</td>\n",
       "    </tr>\n",
       "    <tr>\n",
       "      <th>7</th>\n",
       "      <td>Depending on the outcome measure, individuals ...</td>\n",
       "    </tr>\n",
       "    <tr>\n",
       "      <th>8</th>\n",
       "      <td>Time of day did not interact with type of day ...</td>\n",
       "    </tr>\n",
       "    <tr>\n",
       "      <th>9</th>\n",
       "      <td>We next focused on report error and found a ma...</td>\n",
       "    </tr>\n",
       "    <tr>\n",
       "      <th>10</th>\n",
       "      <td>At T0, after adjusting for covariates (age at ...</td>\n",
       "    </tr>\n",
       "    <tr>\n",
       "      <th>11</th>\n",
       "      <td>RTs significantly varied according to recognit...</td>\n",
       "    </tr>\n",
       "    <tr>\n",
       "      <th>12</th>\n",
       "      <td>Consistent with these observations, a repeated...</td>\n",
       "    </tr>\n",
       "    <tr>\n",
       "      <th>13</th>\n",
       "      <td>In keeping with an absence of an effect of M1 ...</td>\n",
       "    </tr>\n",
       "    <tr>\n",
       "      <th>14</th>\n",
       "      <td>The Participant Group Ã— Tweet type interactio...</td>\n",
       "    </tr>\n",
       "    <tr>\n",
       "      <th>15</th>\n",
       "      <td>In addition, fit did not improve when the Dist...</td>\n",
       "    </tr>\n",
       "    <tr>\n",
       "      <th>16</th>\n",
       "      <td>As before, this interaction resulted from a si...</td>\n",
       "    </tr>\n",
       "    <tr>\n",
       "      <th>17</th>\n",
       "      <td>The decline in the joy condition did not diffe...</td>\n",
       "    </tr>\n",
       "    <tr>\n",
       "      <th>18</th>\n",
       "      <td>For congruency, larger EPN amplitudes (incongr...</td>\n",
       "    </tr>\n",
       "    <tr>\n",
       "      <th>19</th>\n",
       "      <td>On the other hand, the quadratic component of ...</td>\n",
       "    </tr>\n",
       "  </tbody>\n",
       "</table>\n",
       "</div>"
      ],
      "text/plain": [
       "                                                 text\n",
       "0   A length effect was found for pseudowords (fiv...\n",
       "1   First, participant height (added as a fixed fa...\n",
       "2   In contrast, atomoxetine did not increase risk...\n",
       "3   Non-attraction-effect choices were very rare a...\n",
       "4   A Position Ã— Set Size repeatedmeasures ANOVA ...\n",
       "5   Results were also independent of the reliabili...\n",
       "6   This finding was similar to that in the forced...\n",
       "7   Depending on the outcome measure, individuals ...\n",
       "8   Time of day did not interact with type of day ...\n",
       "9   We next focused on report error and found a ma...\n",
       "10  At T0, after adjusting for covariates (age at ...\n",
       "11  RTs significantly varied according to recognit...\n",
       "12  Consistent with these observations, a repeated...\n",
       "13  In keeping with an absence of an effect of M1 ...\n",
       "14  The Participant Group Ã— Tweet type interactio...\n",
       "15  In addition, fit did not improve when the Dist...\n",
       "16  As before, this interaction resulted from a si...\n",
       "17  The decline in the joy condition did not diffe...\n",
       "18  For congruency, larger EPN amplitudes (incongr...\n",
       "19  On the other hand, the quadratic component of ..."
      ]
     },
     "metadata": {},
     "output_type": "display_data"
    }
   ],
   "source": [
    "display_statements(false_negatives, \"False Negatives (predicted 0, actual 1)\")"
   ]
  },
  {
   "cell_type": "code",
   "execution_count": null,
   "id": "56e5e265",
   "metadata": {},
   "outputs": [],
   "source": [
    "# The end..."
   ]
  }
 ],
 "metadata": {
  "kernelspec": {
   "display_name": "Python (nonsig-venv)",
   "language": "python",
   "name": "nonsig-venv"
  },
  "language_info": {
   "codemirror_mode": {
    "name": "ipython",
    "version": 3
   },
   "file_extension": ".py",
   "mimetype": "text/x-python",
   "name": "python",
   "nbconvert_exporter": "python",
   "pygments_lexer": "ipython3",
   "version": "3.12.10"
  }
 },
 "nbformat": 4,
 "nbformat_minor": 5
}
