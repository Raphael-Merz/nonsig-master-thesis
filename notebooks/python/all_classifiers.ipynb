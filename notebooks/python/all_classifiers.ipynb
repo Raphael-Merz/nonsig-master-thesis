{
 "cells": [
  {
   "cell_type": "markdown",
   "id": "5e0f8a44",
   "metadata": {},
   "source": [
    "# Simpel text classification using BERT\n",
    "\n",
    "--> I used the code from this YT video: https://youtu.be/8yrD0hR8OY8?si=l-WNmVNs388TAlXe"
   ]
  },
  {
   "cell_type": "markdown",
   "id": "32992dd0",
   "metadata": {},
   "source": [
    "### 0.1 Install libraries"
   ]
  },
  {
   "cell_type": "code",
   "execution_count": 125,
   "id": "da13a949",
   "metadata": {},
   "outputs": [],
   "source": [
    "# ! pip install --upgrade pip\n",
    "\n",
    "# ! pip install transformers\n",
    "# ! pip install datasets\n",
    "# ! pip install pandas\n",
    "# ! pip install evaluate\n",
    "# ! pip install tf-keras\n",
    "# ! pip install transformers\n",
    "# ! pip install tensorflow\n",
    "# ! pip install torch\n",
    "# ! pip install openpyxl\n",
    "# ! pip install scikit-learn\n",
    "# ! pip install transformers[torch]\n",
    "# ! pip install 'accelerate>=0.26.0\n",
    "# ! pip install torch torchvision torchaudio --index-url https://download.pytorch.org/whl/cu128\n",
    "# ! pip install seaborn\n",
    "# ! pip install matplotlib.pyplot"
   ]
  },
  {
   "cell_type": "markdown",
   "id": "6d5fa995",
   "metadata": {},
   "source": [
    "### 0.2 GPU setup"
   ]
  },
  {
   "cell_type": "code",
   "execution_count": 126,
   "id": "a3336508",
   "metadata": {},
   "outputs": [
    {
     "name": "stdout",
     "output_type": "stream",
     "text": [
      "True\n",
      "0\n",
      "NVIDIA GeForce RTX 2070 with Max-Q Design\n"
     ]
    }
   ],
   "source": [
    "import torch\n",
    "print(torch.cuda.is_available())\n",
    "if torch.cuda.is_available():\n",
    "    print(torch.cuda.current_device())\n",
    "    print(torch.cuda.get_device_name(0))"
   ]
  },
  {
   "cell_type": "code",
   "execution_count": 127,
   "id": "457b0e9d",
   "metadata": {},
   "outputs": [
    {
     "name": "stdout",
     "output_type": "stream",
     "text": [
      "\n",
      "Using device: cuda\n"
     ]
    }
   ],
   "source": [
    "import tensorflow as tf\n",
    "\n",
    "# Checking for the GPU\n",
    "device_name = tf.test.gpu_device_name()\n",
    "print(device_name)\n",
    "\n",
    "import torch\n",
    "\n",
    "# Checking for the GPU\n",
    "device = torch.device(\"cuda\" if torch.cuda.is_available() else \"cpu\")\n",
    "print(\"Using device:\", device)\n"
   ]
  },
  {
   "cell_type": "markdown",
   "id": "19253634",
   "metadata": {},
   "source": [
    "## 1. Configuration"
   ]
  },
  {
   "cell_type": "code",
   "execution_count": 128,
   "id": "ff026edd",
   "metadata": {},
   "outputs": [],
   "source": [
    "data_path = r\"C:\\Users\\Raphael\\OneDrive\\RUB\\1_Master\\Masterarbeit\\2_Code_and_Data\\2025-06-27 - labeled data_nonsig-with-pvalue/2025-06-28_labeled_data.xlsx\"\n",
    "text_column_name = \"expanded\"\n",
    "label_column_name = \"label_strict\"\n",
    "\n",
    "model_name = \"bert-base-uncased\" # standard; I specify other models in the \"3. Initialize Models\" section of this script\n",
    "test_size = 0.2\n",
    "num_labels = 2"
   ]
  },
  {
   "cell_type": "markdown",
   "id": "050e4828",
   "metadata": {},
   "source": [
    "## 2. Read and prepare dataset"
   ]
  },
  {
   "cell_type": "code",
   "execution_count": 129,
   "id": "1789fc47",
   "metadata": {},
   "outputs": [
    {
     "data": {
      "application/vnd.microsoft.datawrangler.viewer.v0+json": {
       "columns": [
        {
         "name": "index",
         "rawType": "int64",
         "type": "integer"
        },
        {
         "name": "text",
         "rawType": "object",
         "type": "string"
        },
        {
         "name": "label",
         "rawType": "int64",
         "type": "integer"
        }
       ],
       "ref": "96d12406-13f9-43e6-8049-cea67e606d56",
       "rows": [
        [
         "0",
         "Change-detection RTs in Experiment 1 were not correlated with inconsistency ratings, r(58) = .05, p = .358, 95% CI = [-.21, .30], BF 10 = 0.12 (see Fig.",
         "1"
        ],
        [
         "1",
         "However, there was no difference between the agreeing-and disagreeing-perspective conditions (d = 0.04, p = .55), 5 although the effect was in the right direction: The benefits of averaging were numerically higher in the disagreeing-perspective condition.",
         "1"
        ],
        [
         "2",
         "There was no significant interaction between participant height and opponent height, Wald Ï‡ 2 (1) = 0.38, b = 0.042, SE = 0.068, 95% CI = [-0.091, 0.174], p = .540 (QICc = 203.85).",
         "0"
        ],
        [
         "3",
         "The overall interaction effect of Sex Ratio Ã— Participant Sex (weighted by each test's degrees of freedom) was not significant (z = 1.053, p = .146).",
         "0"
        ],
        [
         "4",
         "We also examined whether individual differences in stress reactivityspecifically, the increased salivary cortisol-predicted low-demand choices in the DST but found no significant predictive relationship (main effect: p = .141;",
         "0"
        ]
       ],
       "shape": {
        "columns": 2,
        "rows": 5
       }
      },
      "text/html": [
       "<div>\n",
       "<style scoped>\n",
       "    .dataframe tbody tr th:only-of-type {\n",
       "        vertical-align: middle;\n",
       "    }\n",
       "\n",
       "    .dataframe tbody tr th {\n",
       "        vertical-align: top;\n",
       "    }\n",
       "\n",
       "    .dataframe thead th {\n",
       "        text-align: right;\n",
       "    }\n",
       "</style>\n",
       "<table border=\"1\" class=\"dataframe\">\n",
       "  <thead>\n",
       "    <tr style=\"text-align: right;\">\n",
       "      <th></th>\n",
       "      <th>text</th>\n",
       "      <th>label</th>\n",
       "    </tr>\n",
       "  </thead>\n",
       "  <tbody>\n",
       "    <tr>\n",
       "      <th>0</th>\n",
       "      <td>Change-detection RTs in Experiment 1 were not ...</td>\n",
       "      <td>1</td>\n",
       "    </tr>\n",
       "    <tr>\n",
       "      <th>1</th>\n",
       "      <td>However, there was no difference between the a...</td>\n",
       "      <td>1</td>\n",
       "    </tr>\n",
       "    <tr>\n",
       "      <th>2</th>\n",
       "      <td>There was no significant interaction between p...</td>\n",
       "      <td>0</td>\n",
       "    </tr>\n",
       "    <tr>\n",
       "      <th>3</th>\n",
       "      <td>The overall interaction effect of Sex Ratio Ã—...</td>\n",
       "      <td>0</td>\n",
       "    </tr>\n",
       "    <tr>\n",
       "      <th>4</th>\n",
       "      <td>We also examined whether individual difference...</td>\n",
       "      <td>0</td>\n",
       "    </tr>\n",
       "  </tbody>\n",
       "</table>\n",
       "</div>"
      ],
      "text/plain": [
       "                                                text  label\n",
       "0  Change-detection RTs in Experiment 1 were not ...      1\n",
       "1  However, there was no difference between the a...      1\n",
       "2  There was no significant interaction between p...      0\n",
       "3  The overall interaction effect of Sex Ratio Ã—...      0\n",
       "4  We also examined whether individual difference...      0"
      ]
     },
     "execution_count": 129,
     "metadata": {},
     "output_type": "execute_result"
    }
   ],
   "source": [
    "import pandas as pd\n",
    "\n",
    "# Load the data\n",
    "df = pd.read_excel(data_path)\n",
    "\n",
    "# Remove all columns but 'expanded' and 'label_strict'\n",
    "df = df.drop(columns=['statement_id', 'section', 'header','div', 'p', 's', 'article_id', 'p_comp', 'p_value', 'context', 'text', 'label_kind', 'label_keywords', 'label_comment'])\n",
    "\n",
    "# Change column names\n",
    "df = df.rename(columns={text_column_name: 'text', label_column_name: 'label'})\n",
    "\n",
    "# Remove rows where 'label' is NA or -99\n",
    "df = df[~df['label'].isna() & (df['label'] != -99)]\n",
    "\n",
    "# Convert label column to int (required for classification)\n",
    "df['label'] = df['label'].astype(int)\n",
    "\n",
    "# Balance the dataset: all 1s and an equal number of random 0s\n",
    "ones = df[df['label'] == 1]\n",
    "zeros = df[df['label'] == 0].sample(n=len(ones), random_state=42)\n",
    "df = pd.concat([ones, zeros]).sample(frac=1, random_state=42).reset_index(drop=True)\n",
    "\n",
    "# Show head\n",
    "df.head()"
   ]
  },
  {
   "cell_type": "markdown",
   "id": "c2e53af8",
   "metadata": {},
   "source": [
    "### 2.1 Create Train/Test set"
   ]
  },
  {
   "cell_type": "code",
   "execution_count": 130,
   "id": "2e797a35",
   "metadata": {},
   "outputs": [],
   "source": [
    "from sklearn.model_selection import train_test_split\n",
    "\n",
    "# Separate by label\n",
    "ones = df[df['label'] == 1]\n",
    "zeros = df[df['label'] == 0]\n",
    "\n",
    "# Split each class into train/test\n",
    "ones_train, ones_test = train_test_split(ones, test_size=test_size, random_state=42)\n",
    "zeros_train, zeros_test = train_test_split(zeros, test_size=test_size, random_state=42)\n",
    "\n",
    "# Combine to make balanced train/test sets\n",
    "df_train = pd.concat([ones_train, zeros_train]).sample(frac=1, random_state=42).reset_index(drop=True)\n",
    "df_test = pd.concat([ones_test, zeros_test]).sample(frac=1, random_state=42).reset_index(drop=True)\n",
    "\n",
    "# Convert to Huggingface dataset\n",
    "from datasets import Dataset\n",
    "train_dataset = Dataset.from_pandas(df_train)\n",
    "test_dataset = Dataset.from_pandas(df_test)"
   ]
  },
  {
   "cell_type": "markdown",
   "id": "ecff339a",
   "metadata": {},
   "source": [
    "Header of the Training set:"
   ]
  },
  {
   "cell_type": "code",
   "execution_count": 131,
   "id": "8f28446b",
   "metadata": {},
   "outputs": [
    {
     "data": {
      "application/vnd.microsoft.datawrangler.viewer.v0+json": {
       "columns": [
        {
         "name": "index",
         "rawType": "int64",
         "type": "integer"
        },
        {
         "name": "text",
         "rawType": "object",
         "type": "string"
        },
        {
         "name": "label",
         "rawType": "int64",
         "type": "integer"
        }
       ],
       "ref": "744cc3c5-b870-48d8-90c1-b762c2d40f29",
       "rows": [
        [
         "0",
         "Most importantly, however, the baseline-to-peak increase in salivary cortisol was comparable in informed and uninformed participants of the stress group, t(25) = 0.26, p = .794, d = 0.10.",
         "1"
        ],
        [
         "1",
         "Cortisol concentrations were comparable at baseline, t(55) = 1.01, p = .317, d = 0.27, but significantly elevated in the stress group relative to the control group both 30 min after the treatment, t(55) = 3.55, p corr = .003, d = 0.94, and 45 min after the treatment, t(55) = 2.52, p corr = .045, d = 0.67 (Table 1).",
         "1"
        ],
        [
         "2",
         "The main effect of workload was not significant, F(1, 268) = 1.027, p = .312, Î· p 2 = .004.",
         "0"
        ],
        [
         "3",
         "Analyzing men and women separately revealed a significant association in men, r(147) = -.17, p = .038, but not in women, r(352) = -.06, p = .274.",
         "0"
        ],
        [
         "4",
         "Moreover, using markers of higher-quality listening had a positive significant effect on perceived listening when the listener disagreed with speakers (B = 0.34, SE = 0.11, p = .002) but no significant effect when they agreed with them (B = 1.19e-3, SE = 0.11, p = .992; see Fig. 4).",
         "0"
        ]
       ],
       "shape": {
        "columns": 2,
        "rows": 5
       }
      },
      "text/html": [
       "<div>\n",
       "<style scoped>\n",
       "    .dataframe tbody tr th:only-of-type {\n",
       "        vertical-align: middle;\n",
       "    }\n",
       "\n",
       "    .dataframe tbody tr th {\n",
       "        vertical-align: top;\n",
       "    }\n",
       "\n",
       "    .dataframe thead th {\n",
       "        text-align: right;\n",
       "    }\n",
       "</style>\n",
       "<table border=\"1\" class=\"dataframe\">\n",
       "  <thead>\n",
       "    <tr style=\"text-align: right;\">\n",
       "      <th></th>\n",
       "      <th>text</th>\n",
       "      <th>label</th>\n",
       "    </tr>\n",
       "  </thead>\n",
       "  <tbody>\n",
       "    <tr>\n",
       "      <th>0</th>\n",
       "      <td>Most importantly, however, the baseline-to-pea...</td>\n",
       "      <td>1</td>\n",
       "    </tr>\n",
       "    <tr>\n",
       "      <th>1</th>\n",
       "      <td>Cortisol concentrations were comparable at bas...</td>\n",
       "      <td>1</td>\n",
       "    </tr>\n",
       "    <tr>\n",
       "      <th>2</th>\n",
       "      <td>The main effect of workload was not significan...</td>\n",
       "      <td>0</td>\n",
       "    </tr>\n",
       "    <tr>\n",
       "      <th>3</th>\n",
       "      <td>Analyzing men and women separately revealed a ...</td>\n",
       "      <td>0</td>\n",
       "    </tr>\n",
       "    <tr>\n",
       "      <th>4</th>\n",
       "      <td>Moreover, using markers of higher-quality list...</td>\n",
       "      <td>0</td>\n",
       "    </tr>\n",
       "  </tbody>\n",
       "</table>\n",
       "</div>"
      ],
      "text/plain": [
       "                                                text  label\n",
       "0  Most importantly, however, the baseline-to-pea...      1\n",
       "1  Cortisol concentrations were comparable at bas...      1\n",
       "2  The main effect of workload was not significan...      0\n",
       "3  Analyzing men and women separately revealed a ...      0\n",
       "4  Moreover, using markers of higher-quality list...      0"
      ]
     },
     "execution_count": 131,
     "metadata": {},
     "output_type": "execute_result"
    }
   ],
   "source": [
    "df_train.head()"
   ]
  },
  {
   "cell_type": "code",
   "execution_count": 132,
   "id": "c3ca483d",
   "metadata": {},
   "outputs": [
    {
     "data": {
      "application/vnd.microsoft.datawrangler.viewer.v0+json": {
       "columns": [
        {
         "name": "label",
         "rawType": "int64",
         "type": "integer"
        },
        {
         "name": "count",
         "rawType": "int64",
         "type": "integer"
        }
       ],
       "ref": "690eb792-d1e9-454e-9a4d-df6fd7b529a5",
       "rows": [
        [
         "1",
         "112"
        ],
        [
         "0",
         "112"
        ]
       ],
       "shape": {
        "columns": 1,
        "rows": 2
       }
      },
      "text/plain": [
       "label\n",
       "1    112\n",
       "0    112\n",
       "Name: count, dtype: int64"
      ]
     },
     "execution_count": 132,
     "metadata": {},
     "output_type": "execute_result"
    }
   ],
   "source": [
    "# Check label balance in training set\n",
    "df_train['label'].value_counts()"
   ]
  },
  {
   "cell_type": "markdown",
   "id": "80c18c19",
   "metadata": {},
   "source": [
    "Header of the Test set:"
   ]
  },
  {
   "cell_type": "code",
   "execution_count": 133,
   "id": "2a7722b9",
   "metadata": {},
   "outputs": [
    {
     "data": {
      "application/vnd.microsoft.datawrangler.viewer.v0+json": {
       "columns": [
        {
         "name": "index",
         "rawType": "int64",
         "type": "integer"
        },
        {
         "name": "text",
         "rawType": "object",
         "type": "string"
        },
        {
         "name": "label",
         "rawType": "int64",
         "type": "integer"
        }
       ],
       "ref": "df062986-5d39-4c8b-b289-5fba6503817f",
       "rows": [
        [
         "0",
         "The response latencies of the low-AQ and high-AQ groups were very similar to one another (low-AQ group: geometric mean = 17.7 s, 95% CI = [16.2, 19.3]; high-AQ group: geometric mean = 16.8 s, 95% CI = [15.7, 18.0]; b = -0.031, 95% CI = [-0.085, 0.024], p = .269), and although participants with shorter RTs were more likely to make decoy selections, b = -0.303, 95% CI = [-0.521, -0.083], p = .007, there was no association between response latency and the tendency to make consistent choices, b = -0.001, 95% CI = [-0.137, 0.135], p = .990, and controlling for response latency made very little difference to the effect of AQ group on choice consistency, b = 0.161, 95% CI = [0.013, 0.309], p = .033.",
         "1"
        ],
        [
         "1",
         "Risk taking did not differ between participants who received a placebo and those who received atomoxetine (b = 0.02, SE = 0.02, p = .295).",
         "1"
        ],
        [
         "2",
         "Although the PTSD group showed a significant facilitation effect (M = 5.9%), F(1, 15) = 7.525, p = .015, Î· p 2 = .334, and the control group did not (M = 2.8%, n.s.), there was no significant group difference in facilitation, F(1, 30) = 1.215, p = .279, Î· p 2 = .039 (Fig. 3a).",
         "0"
        ],
        [
         "3",
         "Participants of the stress groups (vs. control groups) felt less positive on Day 2, F(3, 89) = 3.27, p = .025, Î· p 2 = .10, but there were no differences between the informed and uninformed stress groups, t(46) = -0.11, p = .915, d = 0.03 (see Table S1 in the Supplemental Material).",
         "1"
        ],
        [
         "4",
         "There was no main effect of channel-group laterality, F(1, 45) < 0.01, p = .960, Î· p Â² < .001.",
         "1"
        ]
       ],
       "shape": {
        "columns": 2,
        "rows": 5
       }
      },
      "text/html": [
       "<div>\n",
       "<style scoped>\n",
       "    .dataframe tbody tr th:only-of-type {\n",
       "        vertical-align: middle;\n",
       "    }\n",
       "\n",
       "    .dataframe tbody tr th {\n",
       "        vertical-align: top;\n",
       "    }\n",
       "\n",
       "    .dataframe thead th {\n",
       "        text-align: right;\n",
       "    }\n",
       "</style>\n",
       "<table border=\"1\" class=\"dataframe\">\n",
       "  <thead>\n",
       "    <tr style=\"text-align: right;\">\n",
       "      <th></th>\n",
       "      <th>text</th>\n",
       "      <th>label</th>\n",
       "    </tr>\n",
       "  </thead>\n",
       "  <tbody>\n",
       "    <tr>\n",
       "      <th>0</th>\n",
       "      <td>The response latencies of the low-AQ and high-...</td>\n",
       "      <td>1</td>\n",
       "    </tr>\n",
       "    <tr>\n",
       "      <th>1</th>\n",
       "      <td>Risk taking did not differ between participant...</td>\n",
       "      <td>1</td>\n",
       "    </tr>\n",
       "    <tr>\n",
       "      <th>2</th>\n",
       "      <td>Although the PTSD group showed a significant f...</td>\n",
       "      <td>0</td>\n",
       "    </tr>\n",
       "    <tr>\n",
       "      <th>3</th>\n",
       "      <td>Participants of the stress groups (vs. control...</td>\n",
       "      <td>1</td>\n",
       "    </tr>\n",
       "    <tr>\n",
       "      <th>4</th>\n",
       "      <td>There was no main effect of channel-group late...</td>\n",
       "      <td>1</td>\n",
       "    </tr>\n",
       "  </tbody>\n",
       "</table>\n",
       "</div>"
      ],
      "text/plain": [
       "                                                text  label\n",
       "0  The response latencies of the low-AQ and high-...      1\n",
       "1  Risk taking did not differ between participant...      1\n",
       "2  Although the PTSD group showed a significant f...      0\n",
       "3  Participants of the stress groups (vs. control...      1\n",
       "4  There was no main effect of channel-group late...      1"
      ]
     },
     "execution_count": 133,
     "metadata": {},
     "output_type": "execute_result"
    }
   ],
   "source": [
    "df_test.head()"
   ]
  },
  {
   "cell_type": "code",
   "execution_count": 134,
   "id": "fc4d85ef",
   "metadata": {},
   "outputs": [
    {
     "data": {
      "application/vnd.microsoft.datawrangler.viewer.v0+json": {
       "columns": [
        {
         "name": "label",
         "rawType": "int64",
         "type": "integer"
        },
        {
         "name": "count",
         "rawType": "int64",
         "type": "integer"
        }
       ],
       "ref": "c94152be-c84a-421a-a9ff-4a9097ccf3a5",
       "rows": [
        [
         "1",
         "28"
        ],
        [
         "0",
         "28"
        ]
       ],
       "shape": {
        "columns": 1,
        "rows": 2
       }
      },
      "text/plain": [
       "label\n",
       "1    28\n",
       "0    28\n",
       "Name: count, dtype: int64"
      ]
     },
     "execution_count": 134,
     "metadata": {},
     "output_type": "execute_result"
    }
   ],
   "source": [
    "# Check label balance in test set\n",
    "df_test['label'].value_counts()"
   ]
  },
  {
   "cell_type": "markdown",
   "id": "7ada89b4",
   "metadata": {},
   "source": [
    "### 2.2 Tokenize 'text'"
   ]
  },
  {
   "cell_type": "code",
   "execution_count": 135,
   "id": "4f669e54",
   "metadata": {},
   "outputs": [
    {
     "name": "stderr",
     "output_type": "stream",
     "text": [
      "Map: 100%|██████████| 224/224 [00:00<00:00, 1576.40 examples/s]\n",
      "Map: 100%|██████████| 56/56 [00:00<00:00, 2760.38 examples/s]\n"
     ]
    }
   ],
   "source": [
    "from transformers import AutoTokenizer\n",
    "\n",
    "tokenizer = AutoTokenizer.from_pretrained(model_name)\n",
    "\n",
    "def preprocess_function(examples):\n",
    "    return tokenizer(examples[\"text\"], truncation=True, padding=True, max_length=350)\n",
    "\n",
    "tokenized_train = train_dataset.map(preprocess_function, batched=True)\n",
    "\n",
    "tokenized_test = test_dataset.map(preprocess_function, batched=True)"
   ]
  },
  {
   "cell_type": "markdown",
   "id": "2d9ecda8",
   "metadata": {},
   "source": [
    "#### 2.2.1 Comparing tokenized and untokenized statements"
   ]
  },
  {
   "cell_type": "code",
   "execution_count": 136,
   "id": "2c5d6470",
   "metadata": {},
   "outputs": [
    {
     "name": "stdout",
     "output_type": "stream",
     "text": [
      "Saved as tokenization_comparison.csv\n"
     ]
    }
   ],
   "source": [
    "# Collect comparison data for the first 20 samples (adjust as needed)\n",
    "comparison = []\n",
    "for i in range(224):\n",
    "    original = train_dataset[i]['text']\n",
    "    input_ids = tokenized_train[i]['input_ids']\n",
    "    decoded = tokenizer.decode(input_ids, skip_special_tokens=True)\n",
    "    comparison.append({\n",
    "        \"original_text\": original,\n",
    "        \"tokenized_ids\": input_ids,\n",
    "        \"decoded_text\": decoded\n",
    "    })\n",
    "\n",
    "# Create DataFrame\n",
    "df_comparison = pd.DataFrame(comparison)\n",
    "\n",
    "# Save to CSV\n",
    "df_comparison.to_csv(\"tokenization_comparison.csv\", index=False)\n",
    "print(\"Saved as tokenization_comparison.csv\")"
   ]
  },
  {
   "cell_type": "markdown",
   "id": "8f2bf57e",
   "metadata": {},
   "source": [
    "## 3. Regular BERT"
   ]
  },
  {
   "cell_type": "markdown",
   "id": "ef0e7023",
   "metadata": {},
   "source": [
    "### 3.1 Initializing regular BERT"
   ]
  },
  {
   "cell_type": "code",
   "execution_count": 137,
   "id": "d32e1ea4",
   "metadata": {},
   "outputs": [
    {
     "name": "stderr",
     "output_type": "stream",
     "text": [
      "Some weights of BertForSequenceClassification were not initialized from the model checkpoint at bert-base-uncased and are newly initialized: ['classifier.bias', 'classifier.weight']\n",
      "You should probably TRAIN this model on a down-stream task to be able to use it for predictions and inference.\n"
     ]
    }
   ],
   "source": [
    "from transformers import AutoModelForSequenceClassification\n",
    "\n",
    "model_bert = AutoModelForSequenceClassification.from_pretrained(\"bert-base-uncased\", num_labels=num_labels)"
   ]
  },
  {
   "cell_type": "markdown",
   "id": "df611f60",
   "metadata": {},
   "source": [
    "### 3.2 Training regular BERT"
   ]
  },
  {
   "cell_type": "code",
   "execution_count": 138,
   "id": "7b330cbd",
   "metadata": {},
   "outputs": [
    {
     "name": "stderr",
     "output_type": "stream",
     "text": [
      "C:\\Users\\Raphael\\AppData\\Local\\Temp\\ipykernel_20916\\2814964137.py:28: FutureWarning: `tokenizer` is deprecated and will be removed in version 5.0.0 for `Trainer.__init__`. Use `processing_class` instead.\n",
      "  trainer_bert = Trainer(\n"
     ]
    }
   ],
   "source": [
    "# Standard Setup for training a model with Huggingface Transformers\n",
    "from transformers import DataCollatorWithPadding\n",
    "from transformers import TrainingArguments, Trainer\n",
    "import evaluate\n",
    "import numpy as np\n",
    "\n",
    "data_collator = DataCollatorWithPadding(tokenizer=tokenizer)\n",
    "\n",
    "metric = evaluate.load(\"accuracy\")\n",
    "\n",
    "def compute_metrics(eval_pred):\n",
    "    logits, labels = eval_pred\n",
    "    predictions = np.argmax(logits, axis=-1)\n",
    "    return metric.compute(predictions=predictions, references=labels)\n",
    "\n",
    "training_args = TrainingArguments(\n",
    "    output_dir=\"./results\",\n",
    "    learning_rate=2e-4,\n",
    "    per_device_train_batch_size=8,\n",
    "    per_device_eval_batch_size=8,\n",
    "    num_train_epochs=5,\n",
    "    weight_decay=0.01,\n",
    "    logging_strategy=\"epoch\",\n",
    "    report_to=\"none\",\n",
    ")\n",
    "\n",
    "# Model specific setup\n",
    "trainer_bert = Trainer(\n",
    "    model=model_bert,\n",
    "    args=training_args,\n",
    "    train_dataset=tokenized_train,\n",
    "    eval_dataset=tokenized_test,\n",
    "    tokenizer=tokenizer,\n",
    "    data_collator=data_collator,\n",
    "    compute_metrics=compute_metrics\n",
    ")"
   ]
  },
  {
   "cell_type": "code",
   "execution_count": 139,
   "id": "a0ab3c9e",
   "metadata": {},
   "outputs": [
    {
     "data": {
      "text/html": [
       "\n",
       "    <div>\n",
       "      \n",
       "      <progress value='140' max='140' style='width:300px; height:20px; vertical-align: middle;'></progress>\n",
       "      [140/140 00:47, Epoch 5/5]\n",
       "    </div>\n",
       "    <table border=\"1\" class=\"dataframe\">\n",
       "  <thead>\n",
       " <tr style=\"text-align: left;\">\n",
       "      <th>Step</th>\n",
       "      <th>Training Loss</th>\n",
       "    </tr>\n",
       "  </thead>\n",
       "  <tbody>\n",
       "    <tr>\n",
       "      <td>28</td>\n",
       "      <td>0.743100</td>\n",
       "    </tr>\n",
       "    <tr>\n",
       "      <td>56</td>\n",
       "      <td>0.697100</td>\n",
       "    </tr>\n",
       "    <tr>\n",
       "      <td>84</td>\n",
       "      <td>0.706500</td>\n",
       "    </tr>\n",
       "    <tr>\n",
       "      <td>112</td>\n",
       "      <td>0.699500</td>\n",
       "    </tr>\n",
       "    <tr>\n",
       "      <td>140</td>\n",
       "      <td>0.707600</td>\n",
       "    </tr>\n",
       "  </tbody>\n",
       "</table><p>"
      ],
      "text/plain": [
       "<IPython.core.display.HTML object>"
      ]
     },
     "metadata": {},
     "output_type": "display_data"
    },
    {
     "data": {
      "text/plain": [
       "TrainOutput(global_step=140, training_loss=0.7107711928231376, metrics={'train_runtime': 48.7768, 'train_samples_per_second': 22.962, 'train_steps_per_second': 2.87, 'total_flos': 159428855107200.0, 'train_loss': 0.7107711928231376, 'epoch': 5.0})"
      ]
     },
     "execution_count": 139,
     "metadata": {},
     "output_type": "execute_result"
    }
   ],
   "source": [
    "trainer_bert.train()"
   ]
  },
  {
   "cell_type": "markdown",
   "id": "86a63e73",
   "metadata": {},
   "source": [
    "#### 3.2.1 Save last model"
   ]
  },
  {
   "cell_type": "code",
   "execution_count": 140,
   "id": "ab2a5e7a",
   "metadata": {},
   "outputs": [],
   "source": [
    "# trainer_bert.save_model('bert_model')"
   ]
  },
  {
   "cell_type": "markdown",
   "id": "63996c7d",
   "metadata": {},
   "source": [
    "### 3.3 Evaluate model"
   ]
  },
  {
   "cell_type": "markdown",
   "id": "42526e66",
   "metadata": {},
   "source": [
    "#### 3.3.1 Predict training data"
   ]
  },
  {
   "cell_type": "code",
   "execution_count": 141,
   "id": "1016cf86",
   "metadata": {},
   "outputs": [
    {
     "data": {
      "text/html": [],
      "text/plain": [
       "<IPython.core.display.HTML object>"
      ]
     },
     "metadata": {},
     "output_type": "display_data"
    },
    {
     "name": "stdout",
     "output_type": "stream",
     "text": [
      "              precision    recall  f1-score   support\n",
      "\n",
      "           0       0.00      0.00      0.00       112\n",
      "           1       0.50      1.00      0.67       112\n",
      "\n",
      "    accuracy                           0.50       224\n",
      "   macro avg       0.25      0.50      0.33       224\n",
      "weighted avg       0.25      0.50      0.33       224\n",
      "\n"
     ]
    },
    {
     "name": "stderr",
     "output_type": "stream",
     "text": [
      "c:\\Users\\Raphael\\OneDrive\\RUB\\1_Master\\Masterarbeit\\2_Code_and_Data\\2025-07-05 - Train BERT with labeled_data\\Lib\\site-packages\\sklearn\\metrics\\_classification.py:1706: UndefinedMetricWarning: Precision is ill-defined and being set to 0.0 in labels with no predicted samples. Use `zero_division` parameter to control this behavior.\n",
      "  _warn_prf(average, modifier, f\"{metric.capitalize()} is\", result.shape[0])\n",
      "c:\\Users\\Raphael\\OneDrive\\RUB\\1_Master\\Masterarbeit\\2_Code_and_Data\\2025-07-05 - Train BERT with labeled_data\\Lib\\site-packages\\sklearn\\metrics\\_classification.py:1706: UndefinedMetricWarning: Precision is ill-defined and being set to 0.0 in labels with no predicted samples. Use `zero_division` parameter to control this behavior.\n",
      "  _warn_prf(average, modifier, f\"{metric.capitalize()} is\", result.shape[0])\n",
      "c:\\Users\\Raphael\\OneDrive\\RUB\\1_Master\\Masterarbeit\\2_Code_and_Data\\2025-07-05 - Train BERT with labeled_data\\Lib\\site-packages\\sklearn\\metrics\\_classification.py:1706: UndefinedMetricWarning: Precision is ill-defined and being set to 0.0 in labels with no predicted samples. Use `zero_division` parameter to control this behavior.\n",
      "  _warn_prf(average, modifier, f\"{metric.capitalize()} is\", result.shape[0])\n"
     ]
    }
   ],
   "source": [
    "from sklearn.metrics import classification_report\n",
    "\n",
    "preds = trainer_bert.predict(tokenized_train)\n",
    "preds = np.argmax(preds[:3][0],axis=1)\n",
    "GT = df_train['label'].tolist()\n",
    "print(classification_report(GT,preds))"
   ]
  },
  {
   "cell_type": "markdown",
   "id": "ee34e701",
   "metadata": {},
   "source": [
    "#### 3.3.2 Predict test data"
   ]
  },
  {
   "cell_type": "code",
   "execution_count": 142,
   "id": "c1671518",
   "metadata": {},
   "outputs": [
    {
     "data": {
      "text/html": [],
      "text/plain": [
       "<IPython.core.display.HTML object>"
      ]
     },
     "metadata": {},
     "output_type": "display_data"
    },
    {
     "name": "stdout",
     "output_type": "stream",
     "text": [
      "              precision    recall  f1-score   support\n",
      "\n",
      "           0       0.00      0.00      0.00        28\n",
      "           1       0.50      1.00      0.67        28\n",
      "\n",
      "    accuracy                           0.50        56\n",
      "   macro avg       0.25      0.50      0.33        56\n",
      "weighted avg       0.25      0.50      0.33        56\n",
      "\n"
     ]
    },
    {
     "name": "stderr",
     "output_type": "stream",
     "text": [
      "c:\\Users\\Raphael\\OneDrive\\RUB\\1_Master\\Masterarbeit\\2_Code_and_Data\\2025-07-05 - Train BERT with labeled_data\\Lib\\site-packages\\sklearn\\metrics\\_classification.py:1706: UndefinedMetricWarning: Precision is ill-defined and being set to 0.0 in labels with no predicted samples. Use `zero_division` parameter to control this behavior.\n",
      "  _warn_prf(average, modifier, f\"{metric.capitalize()} is\", result.shape[0])\n",
      "c:\\Users\\Raphael\\OneDrive\\RUB\\1_Master\\Masterarbeit\\2_Code_and_Data\\2025-07-05 - Train BERT with labeled_data\\Lib\\site-packages\\sklearn\\metrics\\_classification.py:1706: UndefinedMetricWarning: Precision is ill-defined and being set to 0.0 in labels with no predicted samples. Use `zero_division` parameter to control this behavior.\n",
      "  _warn_prf(average, modifier, f\"{metric.capitalize()} is\", result.shape[0])\n",
      "c:\\Users\\Raphael\\OneDrive\\RUB\\1_Master\\Masterarbeit\\2_Code_and_Data\\2025-07-05 - Train BERT with labeled_data\\Lib\\site-packages\\sklearn\\metrics\\_classification.py:1706: UndefinedMetricWarning: Precision is ill-defined and being set to 0.0 in labels with no predicted samples. Use `zero_division` parameter to control this behavior.\n",
      "  _warn_prf(average, modifier, f\"{metric.capitalize()} is\", result.shape[0])\n"
     ]
    }
   ],
   "source": [
    "preds = trainer_bert.predict(tokenized_test)\n",
    "preds = np.argmax(preds[:3][0],axis=1) #preds[:3][1]\n",
    "GT = df_test['label'].tolist()\n",
    "print(classification_report(GT,preds))"
   ]
  },
  {
   "cell_type": "markdown",
   "id": "e2830b7b",
   "metadata": {},
   "source": [
    "#### 3.3.3 4.3.3 Confusion-Matrix for test data"
   ]
  },
  {
   "cell_type": "code",
   "execution_count": 143,
   "id": "bc29093b",
   "metadata": {},
   "outputs": [
    {
     "data": {
      "image/png": "[encoded data removed]",
      "text/plain": [
       "<Figure size 600x500 with 2 Axes>"
      ]
     },
     "metadata": {},
     "output_type": "display_data"
    }
   ],
   "source": [
    "import seaborn as sns\n",
    "from sklearn.metrics import confusion_matrix\n",
    "\n",
    "import matplotlib.pyplot as plt\n",
    "\n",
    "# Use predictions and ground truth from previous evaluation on test set\n",
    "conf_matrix = confusion_matrix(GT, preds)\n",
    "\n",
    "plt.figure(figsize=(6,5))\n",
    "sns.heatmap(conf_matrix, annot=True, fmt='d', cmap='Blues',\n",
    "            xticklabels=[\"Predicted 0\", \"Predicted 1\"],\n",
    "            yticklabels=[\"Actual 0\", \"Actual 1\"])\n",
    "\n",
    "plt.xlabel('Predicted Label')\n",
    "plt.ylabel('True Label')\n",
    "plt.title('Confusion Matrix')\n",
    "plt.show()"
   ]
  },
  {
   "cell_type": "markdown",
   "id": "12e9b778",
   "metadata": {},
   "source": [
    "#### 3.3.4 List of statements per category (TP, TN, FP, FN)"
   ]
  },
  {
   "cell_type": "code",
   "execution_count": 144,
   "id": "07366994",
   "metadata": {},
   "outputs": [],
   "source": [
    "# Get ground truth and predictions for test set\n",
    "y_true = df_test['label'].tolist()\n",
    "y_pred = preds\n",
    "\n",
    "# True Positives: predicted 1, actual 1\n",
    "true_positives = df_test[(df_test['label'] == 1) & (y_pred == 1)]\n",
    "\n",
    "# True Negatives: predicted 0, actual 0\n",
    "true_negatives = df_test[(df_test['label'] == 0) & (y_pred == 0)]\n",
    "\n",
    "# False Positives: predicted 1, actual 0\n",
    "false_positives = df_test[(df_test['label'] == 0) & (y_pred == 1)]\n",
    "\n",
    "# False Negatives: predicted 0, actual 1\n",
    "false_negatives = df_test[(df_test['label'] == 1) & (y_pred == 0)]\n",
    "\n",
    "# Function to print statements\n",
    "import pandas as pd\n",
    "from IPython.display import display\n",
    "\n",
    "def display_statements(df, title):\n",
    "    if not df.empty:\n",
    "        print(f\"\\n{title} (count: {len(df)})\")\n",
    "        display(df[['text']].reset_index(drop=True))\n",
    "    else:\n",
    "        print(f\"\\n{title}: None\")"
   ]
  },
  {
   "cell_type": "code",
   "execution_count": 145,
   "id": "2433dc88",
   "metadata": {},
   "outputs": [
    {
     "name": "stdout",
     "output_type": "stream",
     "text": [
      "\n",
      "True Positives (predicted 1, actual 1) (count: 28)\n"
     ]
    },
    {
     "data": {
      "application/vnd.microsoft.datawrangler.viewer.v0+json": {
       "columns": [
        {
         "name": "index",
         "rawType": "int64",
         "type": "integer"
        },
        {
         "name": "text",
         "rawType": "object",
         "type": "string"
        }
       ],
       "ref": "178ee1b8-a4df-45d7-811a-b9f5c9223cc3",
       "rows": [
        [
         "0",
         "The response latencies of the low-AQ and high-AQ groups were very similar to one another (low-AQ group: geometric mean = 17.7 s, 95% CI = [16.2, 19.3]; high-AQ group: geometric mean = 16.8 s, 95% CI = [15.7, 18.0]; b = -0.031, 95% CI = [-0.085, 0.024], p = .269), and although participants with shorter RTs were more likely to make decoy selections, b = -0.303, 95% CI = [-0.521, -0.083], p = .007, there was no association between response latency and the tendency to make consistent choices, b = -0.001, 95% CI = [-0.137, 0.135], p = .990, and controlling for response latency made very little difference to the effect of AQ group on choice consistency, b = 0.161, 95% CI = [0.013, 0.309], p = .033."
        ],
        [
         "1",
         "Risk taking did not differ between participants who received a placebo and those who received atomoxetine (b = 0.02, SE = 0.02, p = .295)."
        ],
        [
         "2",
         "Participants of the stress groups (vs. control groups) felt less positive on Day 2, F(3, 89) = 3.27, p = .025, Î· p 2 = .10, but there were no differences between the informed and uninformed stress groups, t(46) = -0.11, p = .915, d = 0.03 (see Table S1 in the Supplemental Material)."
        ],
        [
         "3",
         "There was no main effect of channel-group laterality, F(1, 45) < 0.01, p = .960, Î· p Â² < .001."
        ],
        [
         "4",
         "Distance, Ï‡ 2 (1, N = 32) = 1.52, p = .217, did not improve model fit."
        ],
        [
         "5",
         "Consistent with study hypotheses emphasizing the importance of cumulative risk, there was not a main effect of treatment condition on epigenetic age acceleration at T3 (b = 0.14, p = .25, with iPCIT coded as 0 and RAU coded as 1)."
        ],
        [
         "6",
         "There was a significant effect of feeling small on the number of coins given away in the dictator game, Wald Ï‡ 2 (1) = 4.85, p = .028, while participant sex did not predict coin allocation, Wald Ï‡ 2 (1) = .18, p = .673."
        ],
        [
         "7",
         "Paired t tests showed that only for the neutral stimuli, there was a recognition deficit for Black faces relative to White faces (an ORE), t(198) = 4.25, p < .001, Cohen's d z = 0.30, 95% CI = [0.16, 0.44], whereas the same was not true for angry faces for which the effect was even in the descriptively opposite direction, t(198) = -0.92, p = .357, Cohen's d z = -0.07."
        ],
        [
         "8",
         "The results indicate that both participants in the fearchemosignal condition (M = 46.42, SD = 9.23) and the rest-body-odor condition (M = 45.22, SD = 10.62) counted a very similar number of bluefish consuming the food morsels (W = 7,538.50, p = .273), indicating that participants in both odor conditions were similarly engaged in the task."
        ],
        [
         "9",
         "For relative changes in pupil size, we obtained a main effect of word familiarity, F(1, 19) = 4.80, p = .04, Î· p 2 = .20, OP = .55 (pseudowords: M = 5.28%, SD = 4.34; real words: M = 4.13%, SD = 3.00), but not for length, F(1, 19) = 2.67, p = .12, Î· p 2 = .12, OP = .34 (five-letter strings: M = 4.97%, SD = 3.89; three-letter strings: M = 4.44%, SD = 3.35)."
        ],
        [
         "10",
         "Follow-up analyses showed that there was no Treatment Ã— Expectancy Violation interaction in the subcentral gyrus, F(1, 76) = 0.12, p = .726, Î· p 2 < .01; TPJ, F(1, 76) = 0.27, p = .606, Î· p 2 < .01; or dlPFC, F(1, 76) = 2.30, p = .13, Î· p 2 = .03."
        ],
        [
         "11",
         "Correlations between dizygotic twins did not differ from correlations between twins and siblings-drug condemnation: Ï‡ 2 (1) = 2.93, p = .09; sociosexuality: Ï‡ 2 (1) = 5.15, p = .02; sexual-disgust sensitivity: Ï‡ 2 (1) = 0.89, p = .34."
        ],
        [
         "12",
         "Accuracy (proportion of correct responses) did not differ between the overt-attention (M = .85, SD = .13) and covert-attention (M = .86, SD = .11) blocks, F(1, 23) = 0.23, p = .636, Î· p 2 = .01."
        ],
        [
         "13",
         "Adding delay (15 s and 30 s) in the second model did not improve model fit, c 2 (1) = 0.88, p = .347, indicating that lemurs responded similarly to delay conditions."
        ],
        [
         "14",
         "There were no differences between groups in overall mean ratings of positivity in either the self or other condition, as both younger adults (self: M = 7.39, SD = 1.36; other: M = 6.79, SD = 1.61), t(94) = 3.29, p = .001, d = 0.34, 95% CI = [0.13, 0.55], and older adults (self: M = 7.46, SD = 1.27; other: M = 7.13, SD = 1.47), t(90) = 2.75, p = .007, d = 0.29, 95% CI = [0.08, 0.50], reported feeling more positive when winning credits for themselves compared with others (there was no significant interaction between groups; z = -1.596, p = .111)."
        ],
        [
         "15",
         "As in Study 1, individuals' risk and social preferences were uncorrelated (Spearman's r = .03, p = .800)."
        ],
        [
         "16",
         "First, participant height (added as a fixed factor to the intercept-only model) had no effect on aggressive behavior, Wald Ï‡ 2 (1) = 0.10, b = -0.024, SE = 0.074, 95% CI = [-0.169, 0.122], p = .749 (QICc = 166.91)."
        ],
        [
         "17",
         "When participants made large errors on previous trials, their encoding speed on subsequent trials was the same, or if anything slightly lower (Î² = -0.121, t = -1.69, p = .094, BF 10 = 0.374, Î”BIC = -1.98; see Fig."
        ],
        [
         "18",
         "As expected, prior to the intervention (at baseline: Day 0), we confirmed that the two groups experienced a similar number of intrusive memories of the film in daily life, t(50) = 0.06, p = .95 (Fig. 1a)."
        ],
        [
         "19",
         "We next focused on report error and found a main effect of sound, F(2, 84) = 11.31, p < .001, Î· p 2 = .12; there was no main effect of sound onset (during or after visual discrimination), F(1, 84) = 0.16, p = .69, Î· p 2 = .001, and there was a significant interaction, F(2, 168) = 3.39, p = .036, Î· p 2 = .04."
        ],
        [
         "20",
         "Similarly, for inverted scenes, categorization accuracy was comparable across high (M = 0.82, SD = 0.14) and low (M = 0.81, SD = 0.85) aesthetic conditions, F(1, 98) = 0.21, p = .647 (high vs. low aesthetic condition difference = .015, 95% CI = [-.051, .082])."
        ],
        [
         "21",
         "A control model additionally revealed a main effect of gender on first donations, Ï‡ 2 (1) = 7.87, p = .005, which did not interact with age, Ï‡ 2 (2) = 1.30, p = .521."
        ],
        [
         "22",
         "However, there was no performance difference between the two conditions for 4-year-olds, t(62) = 1.67, p = .10, and 3-year-olds, t(62) = 0.96, p = .34."
        ],
        [
         "23",
         "Unlike the analyses using RT on search trials as the dependent variable, there was no main effect of real-time entropy on fixation time, F(1, 22,897.2) = 1.64, p = .20, Î² = -0.006, SE = 0.005."
        ],
        [
         "24",
         "Furthermore, we found that the nudge was effective for participants who did not vote for Donald Trump in the 2016 elections, Î² = 0.0231, 95% CI = [0.079, 0.039], F(3, 32490) = 6.58, p = .003, but not for participants who did vote for Trump, Î² = 0.00376, 95% CI = [-0.013, 0.020], F(3, 15000) = 0.12, p = .653."
        ],
        [
         "25",
         "There was no difference between adults who appealed to metaphors and adults who did not, t(62) = 1.40, p = .17."
        ],
        [
         "26",
         "The third model added the remaining task variables (right-ear syllables in the nonforced condition of the dichotic-listening task, mean span in the digit-span task, imagine-to-hear errors in the source-memory task) and did not improve on the signal detection model (p = .965)."
        ],
        [
         "27",
         "There was no effect of session for bimodal bilinguals (Î² = -0.50, SE = 1.52, z = -0.33, p = .74), indicating that the increase in semantically specific manual productions in bimodal bilinguals' descriptions was not due to or primed by describing similar pictures in an earlier session in NGT (for information on the order analysis, see the Supplemental Material)."
        ]
       ],
       "shape": {
        "columns": 1,
        "rows": 28
       }
      },
      "text/html": [
       "<div>\n",
       "<style scoped>\n",
       "    .dataframe tbody tr th:only-of-type {\n",
       "        vertical-align: middle;\n",
       "    }\n",
       "\n",
       "    .dataframe tbody tr th {\n",
       "        vertical-align: top;\n",
       "    }\n",
       "\n",
       "    .dataframe thead th {\n",
       "        text-align: right;\n",
       "    }\n",
       "</style>\n",
       "<table border=\"1\" class=\"dataframe\">\n",
       "  <thead>\n",
       "    <tr style=\"text-align: right;\">\n",
       "      <th></th>\n",
       "      <th>text</th>\n",
       "    </tr>\n",
       "  </thead>\n",
       "  <tbody>\n",
       "    <tr>\n",
       "      <th>0</th>\n",
       "      <td>The response latencies of the low-AQ and high-...</td>\n",
       "    </tr>\n",
       "    <tr>\n",
       "      <th>1</th>\n",
       "      <td>Risk taking did not differ between participant...</td>\n",
       "    </tr>\n",
       "    <tr>\n",
       "      <th>2</th>\n",
       "      <td>Participants of the stress groups (vs. control...</td>\n",
       "    </tr>\n",
       "    <tr>\n",
       "      <th>3</th>\n",
       "      <td>There was no main effect of channel-group late...</td>\n",
       "    </tr>\n",
       "    <tr>\n",
       "      <th>4</th>\n",
       "      <td>Distance, Ï‡ 2 (1, N = 32) = 1.52, p = .217, d...</td>\n",
       "    </tr>\n",
       "    <tr>\n",
       "      <th>5</th>\n",
       "      <td>Consistent with study hypotheses emphasizing t...</td>\n",
       "    </tr>\n",
       "    <tr>\n",
       "      <th>6</th>\n",
       "      <td>There was a significant effect of feeling smal...</td>\n",
       "    </tr>\n",
       "    <tr>\n",
       "      <th>7</th>\n",
       "      <td>Paired t tests showed that only for the neutra...</td>\n",
       "    </tr>\n",
       "    <tr>\n",
       "      <th>8</th>\n",
       "      <td>The results indicate that both participants in...</td>\n",
       "    </tr>\n",
       "    <tr>\n",
       "      <th>9</th>\n",
       "      <td>For relative changes in pupil size, we obtaine...</td>\n",
       "    </tr>\n",
       "    <tr>\n",
       "      <th>10</th>\n",
       "      <td>Follow-up analyses showed that there was no Tr...</td>\n",
       "    </tr>\n",
       "    <tr>\n",
       "      <th>11</th>\n",
       "      <td>Correlations between dizygotic twins did not d...</td>\n",
       "    </tr>\n",
       "    <tr>\n",
       "      <th>12</th>\n",
       "      <td>Accuracy (proportion of correct responses) did...</td>\n",
       "    </tr>\n",
       "    <tr>\n",
       "      <th>13</th>\n",
       "      <td>Adding delay (15 s and 30 s) in the second mod...</td>\n",
       "    </tr>\n",
       "    <tr>\n",
       "      <th>14</th>\n",
       "      <td>There were no differences between groups in ov...</td>\n",
       "    </tr>\n",
       "    <tr>\n",
       "      <th>15</th>\n",
       "      <td>As in Study 1, individuals' risk and social pr...</td>\n",
       "    </tr>\n",
       "    <tr>\n",
       "      <th>16</th>\n",
       "      <td>First, participant height (added as a fixed fa...</td>\n",
       "    </tr>\n",
       "    <tr>\n",
       "      <th>17</th>\n",
       "      <td>When participants made large errors on previou...</td>\n",
       "    </tr>\n",
       "    <tr>\n",
       "      <th>18</th>\n",
       "      <td>As expected, prior to the intervention (at bas...</td>\n",
       "    </tr>\n",
       "    <tr>\n",
       "      <th>19</th>\n",
       "      <td>We next focused on report error and found a ma...</td>\n",
       "    </tr>\n",
       "    <tr>\n",
       "      <th>20</th>\n",
       "      <td>Similarly, for inverted scenes, categorization...</td>\n",
       "    </tr>\n",
       "    <tr>\n",
       "      <th>21</th>\n",
       "      <td>A control model additionally revealed a main e...</td>\n",
       "    </tr>\n",
       "    <tr>\n",
       "      <th>22</th>\n",
       "      <td>However, there was no performance difference b...</td>\n",
       "    </tr>\n",
       "    <tr>\n",
       "      <th>23</th>\n",
       "      <td>Unlike the analyses using RT on search trials ...</td>\n",
       "    </tr>\n",
       "    <tr>\n",
       "      <th>24</th>\n",
       "      <td>Furthermore, we found that the nudge was effec...</td>\n",
       "    </tr>\n",
       "    <tr>\n",
       "      <th>25</th>\n",
       "      <td>There was no difference between adults who app...</td>\n",
       "    </tr>\n",
       "    <tr>\n",
       "      <th>26</th>\n",
       "      <td>The third model added the remaining task varia...</td>\n",
       "    </tr>\n",
       "    <tr>\n",
       "      <th>27</th>\n",
       "      <td>There was no effect of session for bimodal bil...</td>\n",
       "    </tr>\n",
       "  </tbody>\n",
       "</table>\n",
       "</div>"
      ],
      "text/plain": [
       "                                                 text\n",
       "0   The response latencies of the low-AQ and high-...\n",
       "1   Risk taking did not differ between participant...\n",
       "2   Participants of the stress groups (vs. control...\n",
       "3   There was no main effect of channel-group late...\n",
       "4   Distance, Ï‡ 2 (1, N = 32) = 1.52, p = .217, d...\n",
       "5   Consistent with study hypotheses emphasizing t...\n",
       "6   There was a significant effect of feeling smal...\n",
       "7   Paired t tests showed that only for the neutra...\n",
       "8   The results indicate that both participants in...\n",
       "9   For relative changes in pupil size, we obtaine...\n",
       "10  Follow-up analyses showed that there was no Tr...\n",
       "11  Correlations between dizygotic twins did not d...\n",
       "12  Accuracy (proportion of correct responses) did...\n",
       "13  Adding delay (15 s and 30 s) in the second mod...\n",
       "14  There were no differences between groups in ov...\n",
       "15  As in Study 1, individuals' risk and social pr...\n",
       "16  First, participant height (added as a fixed fa...\n",
       "17  When participants made large errors on previou...\n",
       "18  As expected, prior to the intervention (at bas...\n",
       "19  We next focused on report error and found a ma...\n",
       "20  Similarly, for inverted scenes, categorization...\n",
       "21  A control model additionally revealed a main e...\n",
       "22  However, there was no performance difference b...\n",
       "23  Unlike the analyses using RT on search trials ...\n",
       "24  Furthermore, we found that the nudge was effec...\n",
       "25  There was no difference between adults who app...\n",
       "26  The third model added the remaining task varia...\n",
       "27  There was no effect of session for bimodal bil..."
      ]
     },
     "metadata": {},
     "output_type": "display_data"
    }
   ],
   "source": [
    "display_statements(true_positives, \"True Positives (predicted 1, actual 1)\")"
   ]
  },
  {
   "cell_type": "code",
   "execution_count": 146,
   "id": "64f843b9",
   "metadata": {},
   "outputs": [
    {
     "name": "stdout",
     "output_type": "stream",
     "text": [
      "\n",
      "True Negatives (predicted 0, actual 0): None\n"
     ]
    }
   ],
   "source": [
    "display_statements(true_negatives, \"True Negatives (predicted 0, actual 0)\")"
   ]
  },
  {
   "cell_type": "code",
   "execution_count": 147,
   "id": "a79eca53",
   "metadata": {},
   "outputs": [
    {
     "name": "stdout",
     "output_type": "stream",
     "text": [
      "\n",
      "False Positives (predicted 1, actual 0) (count: 28)\n"
     ]
    },
    {
     "data": {
      "application/vnd.microsoft.datawrangler.viewer.v0+json": {
       "columns": [
        {
         "name": "index",
         "rawType": "int64",
         "type": "integer"
        },
        {
         "name": "text",
         "rawType": "object",
         "type": "string"
        }
       ],
       "ref": "e5b357ff-bdc4-4f6d-b2ab-2d36e53bec88",
       "rows": [
        [
         "0",
         "Although the PTSD group showed a significant facilitation effect (M = 5.9%), F(1, 15) = 7.525, p = .015, Î· p 2 = .334, and the control group did not (M = 2.8%, n.s.), there was no significant group difference in facilitation, F(1, 30) = 1.215, p = .279, Î· p 2 = .039 (Fig. 3a)."
        ],
        [
         "1",
         "Overall, RT was on average slower when sounds were played during the continuous report phase compared with the visual discrimination phase, but this difference in RT (i.e., having target images with lower levels of noise) was not statistically significant, t(84) = 1.58, p = .12, Cohen's d z = 0.17, 95% CI = [-0.817, 0.475], BF 01 = 2.55, and the numerical difference in RT did not lead to a significant difference in report error across sound-onset conditions (Ms = 7.38 vs. 7.54), t(84) = 0.62, p = .54, Cohen's d z = 0.06, 95% CI = [-0.85, 0.725], BF 01 = 6.94."
        ],
        [
         "2",
         "We found a significant main effect of outcome, F(1, 37) = 6.72, p = .014, Î· p 2 = .154, but no main effect of frequency, F(1, 37) = 0.03, p = .858, Î· p 2 = .001."
        ],
        [
         "3",
         "The percentage of children who waited for the full 15-min period was not significantly different between these conditions (40% in the aware condition; 33% in the unaware/additional rewards condition; Mann-Whitney U test: Z = -0.53, p = .595), and a Mantel-Cox log rank test also indicated no difference between the conditions, Ï‡ 2 (1, N = 60) = 0.41, p = .525."
        ],
        [
         "4",
         "Results revealed no significant relationship between age and enjoyment (Î² = -0.02, SE = 0.03, p = .576)."
        ],
        [
         "5",
         "Conversely, the interaction between KoR and SOC was nonsignificant in older adults' RTs, F(1, 49) = 0.00, p = .949, Î· p 2 = .000, but significant in older adults' accuracy, F(1, 49) = 9.07, p = .004, Î· p 2 = .156."
        ],
        [
         "6",
         "Participants in the ultimatum game were nonsignificantly less self-biased compared with participants in the dictator game in Study 1, and significantly so in Study 2, which was better powered to detect effects (Study 1: b game = 0.968, SE = 1.467, z = 0.660, two-tailed p = .509, r = .258, 95% CI = [-.465, .727]; Study 2: b game = 0.917, SE = 0.417, z = 2.202, preregistered one-tailed p = .014, r = .245, 95% CI = [.028, .431])."
        ],
        [
         "7",
         "The dyslexia (M = .87, SD = .05) and control (M = .88, SD = .04) groups did not significantly differ in their ability to discriminate sounds before category training, t(53) = 0.90, p = .37, d = 0.24."
        ],
        [
         "8",
         "For the recognition data, the NHST analysis showed no significant effects of state of mind on any of the measures of correct or false memories (lowest p = .077)."
        ],
        [
         "9",
         "In the current meta-analysis, however, there were no significant subgroup differences between preregistered and nonpreregistered experiments related to perceived scientific consensus, Q(1) = 2.95, p = .086, and factual beliefs, Q(1) = 1.45, p = .229."
        ],
        [
         "10",
         "When we compared directly, we found that in neither duration condition did participants show a significant bias for foreground targets-250 ms: t(47) = 0.636, p = .528, d = 0.14; 330 ms: t(47) = -1.50, p = .14, d = -0.32."
        ],
        [
         "11",
         "Here, too, the interaction effects were nonsignificant-perceived scientific consensus: b = -1.68, t(20) = -0.53, p = .600; factual beliefs: b = -0.95, t(23) = -0.90, p = .378."
        ],
        [
         "12",
         "In all these models, women were more likely to report higher fear intensity compared with men (Model 1a: Î² = 1.08, SE = 0.55, p = .054; Model 2a: Î² = 1.04, SE = 0.53, p = .051; Model 3a: Î² = 1.31, SE = 0.50, p = .011), whereas motivation (Model 1a: p = .158, Model 2a: p = .102, Model 3a: p = .090) and age (Model 1a: p = .680, Model 2a: p = .352, Model 3a: p = .117) showed no significant effects."
        ],
        [
         "13",
         "Withinpair linear regressions in identical twin pairs showed no significant effect of age of onset of musical training on musical aptitude (Î² = 0.00, p = .93)."
        ],
        [
         "14",
         "There was not a significant difference between the high-pitch and low-pitch conditions, t(27) = 1.03, p = .31, Cohen's d = 0.19, Bonferroni corrected."
        ],
        [
         "15",
         "There was no significant Visual Cue Ã— Valence interaction, z = 0.75, exp(b) = 1.17, 95% CI = [0.78, 1.74], p = .450, or Visual Cue Ã— Neutral interaction, z = -1.18, exp(b) = 0.81, 95% CI = [0.58, 1.15], p = .239."
        ],
        [
         "16",
         "The moderator tests were nonsignificant for both perceived scientific consensus, b = -0.13, t(23) = -0.17, p = .870, and factual beliefs, b = -0.02, t(26) = -0.07, p = .943."
        ],
        [
         "17",
         "The three-way Configuration Ã— Decoy Ã— Choice interaction in a log linear analysis was nonsignificant, Ï‡ 2 (1, N = 768) = 2.85, p = .09."
        ],
        [
         "18",
         "Finally, we added relative height as a fixed factor to the intercept-only model, which showed that there was no significant relationship between relative height and coins kept for self in the ultimatum game, Wald Ï‡ 2 (1) = 0.42, b = 0.001, SE = 0.002, 95% CI = [-0.002, 0.005], p = .519 (QICc = 23.58)."
        ],
        [
         "19",
         "The interaction between familiarity and length was nonsignificant as well, F(1, 19) = 0.30, p = .59, Î· p 2 = .02, OP = .08 (Table 2)."
        ],
        [
         "20",
         "The main effect of congruence did not reach significance in Experiment 2 (p = .09; see Table 3)."
        ],
        [
         "21",
         "Congruent and incongruent negative evaluations did not differ significantly (p = .230)."
        ],
        [
         "22",
         "The effect of ValenceDiff varied significantly over domains in the CloudResearch sample, Ï‡ 2 (3) = 20.31, p < .001, but not in the student sample, Ï‡ 2 (3) = 2.04, p = .564."
        ],
        [
         "23",
         "Additionally, feeling small (added as a fixed factor to the interceptonly model) was not significantly related to behavior in the hot-sauce task, Wald Ï‡ 2 (1) = 0.63, b = -0.020, SE = 0.078, 95% CI = [-0.172, 0.133], p = .802 (QICc = 166.94)."
        ],
        [
         "24",
         "Regarding the main effect of task, smaller P1 amplitudes were found in the emotion task compared with the perceptual task (p = .038) and the age task (p = .002); the latter two did not differ significantly in amplitude from each other (p = .674)."
        ],
        [
         "25",
         "Indeed, there was no significant difference in accuracy between finding the longest line across the two experiments, t(72) = 1.91, p = .23, or for finding the shortest line, t(72) = 0.479, p = .96."
        ],
        [
         "26",
         "Similarly, within-pair analyses in identical pairs showed no significant effect of age of onset before the age of 8 years versus age of onset at age 8 years or later on musical aptitude (Î² = 0.02, p = .66; Î² = 0.03, p = .60 when analyses controlled for total practice)."
        ],
        [
         "27",
         "For the mid-scale questions, we found no difference between the self-and agreeingperspective conditions (d = 0.05, p = .39), whereas the benefit of averaging was again higher for participants in the disagreeing-perspective condition compared with the self-perspective (d = 0.28, p < .001) and agreeingperspective (d = 0.24, p < .001) conditions."
        ]
       ],
       "shape": {
        "columns": 1,
        "rows": 28
       }
      },
      "text/html": [
       "<div>\n",
       "<style scoped>\n",
       "    .dataframe tbody tr th:only-of-type {\n",
       "        vertical-align: middle;\n",
       "    }\n",
       "\n",
       "    .dataframe tbody tr th {\n",
       "        vertical-align: top;\n",
       "    }\n",
       "\n",
       "    .dataframe thead th {\n",
       "        text-align: right;\n",
       "    }\n",
       "</style>\n",
       "<table border=\"1\" class=\"dataframe\">\n",
       "  <thead>\n",
       "    <tr style=\"text-align: right;\">\n",
       "      <th></th>\n",
       "      <th>text</th>\n",
       "    </tr>\n",
       "  </thead>\n",
       "  <tbody>\n",
       "    <tr>\n",
       "      <th>0</th>\n",
       "      <td>Although the PTSD group showed a significant f...</td>\n",
       "    </tr>\n",
       "    <tr>\n",
       "      <th>1</th>\n",
       "      <td>Overall, RT was on average slower when sounds ...</td>\n",
       "    </tr>\n",
       "    <tr>\n",
       "      <th>2</th>\n",
       "      <td>We found a significant main effect of outcome,...</td>\n",
       "    </tr>\n",
       "    <tr>\n",
       "      <th>3</th>\n",
       "      <td>The percentage of children who waited for the ...</td>\n",
       "    </tr>\n",
       "    <tr>\n",
       "      <th>4</th>\n",
       "      <td>Results revealed no significant relationship b...</td>\n",
       "    </tr>\n",
       "    <tr>\n",
       "      <th>5</th>\n",
       "      <td>Conversely, the interaction between KoR and SO...</td>\n",
       "    </tr>\n",
       "    <tr>\n",
       "      <th>6</th>\n",
       "      <td>Participants in the ultimatum game were nonsig...</td>\n",
       "    </tr>\n",
       "    <tr>\n",
       "      <th>7</th>\n",
       "      <td>The dyslexia (M = .87, SD = .05) and control (...</td>\n",
       "    </tr>\n",
       "    <tr>\n",
       "      <th>8</th>\n",
       "      <td>For the recognition data, the NHST analysis sh...</td>\n",
       "    </tr>\n",
       "    <tr>\n",
       "      <th>9</th>\n",
       "      <td>In the current meta-analysis, however, there w...</td>\n",
       "    </tr>\n",
       "    <tr>\n",
       "      <th>10</th>\n",
       "      <td>When we compared directly, we found that in ne...</td>\n",
       "    </tr>\n",
       "    <tr>\n",
       "      <th>11</th>\n",
       "      <td>Here, too, the interaction effects were nonsig...</td>\n",
       "    </tr>\n",
       "    <tr>\n",
       "      <th>12</th>\n",
       "      <td>In all these models, women were more likely to...</td>\n",
       "    </tr>\n",
       "    <tr>\n",
       "      <th>13</th>\n",
       "      <td>Withinpair linear regressions in identical twi...</td>\n",
       "    </tr>\n",
       "    <tr>\n",
       "      <th>14</th>\n",
       "      <td>There was not a significant difference between...</td>\n",
       "    </tr>\n",
       "    <tr>\n",
       "      <th>15</th>\n",
       "      <td>There was no significant Visual Cue Ã— Valence...</td>\n",
       "    </tr>\n",
       "    <tr>\n",
       "      <th>16</th>\n",
       "      <td>The moderator tests were nonsignificant for bo...</td>\n",
       "    </tr>\n",
       "    <tr>\n",
       "      <th>17</th>\n",
       "      <td>The three-way Configuration Ã— Decoy Ã— Choice...</td>\n",
       "    </tr>\n",
       "    <tr>\n",
       "      <th>18</th>\n",
       "      <td>Finally, we added relative height as a fixed f...</td>\n",
       "    </tr>\n",
       "    <tr>\n",
       "      <th>19</th>\n",
       "      <td>The interaction between familiarity and length...</td>\n",
       "    </tr>\n",
       "    <tr>\n",
       "      <th>20</th>\n",
       "      <td>The main effect of congruence did not reach si...</td>\n",
       "    </tr>\n",
       "    <tr>\n",
       "      <th>21</th>\n",
       "      <td>Congruent and incongruent negative evaluations...</td>\n",
       "    </tr>\n",
       "    <tr>\n",
       "      <th>22</th>\n",
       "      <td>The effect of ValenceDiff varied significantly...</td>\n",
       "    </tr>\n",
       "    <tr>\n",
       "      <th>23</th>\n",
       "      <td>Additionally, feeling small (added as a fixed ...</td>\n",
       "    </tr>\n",
       "    <tr>\n",
       "      <th>24</th>\n",
       "      <td>Regarding the main effect of task, smaller P1 ...</td>\n",
       "    </tr>\n",
       "    <tr>\n",
       "      <th>25</th>\n",
       "      <td>Indeed, there was no significant difference in...</td>\n",
       "    </tr>\n",
       "    <tr>\n",
       "      <th>26</th>\n",
       "      <td>Similarly, within-pair analyses in identical p...</td>\n",
       "    </tr>\n",
       "    <tr>\n",
       "      <th>27</th>\n",
       "      <td>For the mid-scale questions, we found no diffe...</td>\n",
       "    </tr>\n",
       "  </tbody>\n",
       "</table>\n",
       "</div>"
      ],
      "text/plain": [
       "                                                 text\n",
       "0   Although the PTSD group showed a significant f...\n",
       "1   Overall, RT was on average slower when sounds ...\n",
       "2   We found a significant main effect of outcome,...\n",
       "3   The percentage of children who waited for the ...\n",
       "4   Results revealed no significant relationship b...\n",
       "5   Conversely, the interaction between KoR and SO...\n",
       "6   Participants in the ultimatum game were nonsig...\n",
       "7   The dyslexia (M = .87, SD = .05) and control (...\n",
       "8   For the recognition data, the NHST analysis sh...\n",
       "9   In the current meta-analysis, however, there w...\n",
       "10  When we compared directly, we found that in ne...\n",
       "11  Here, too, the interaction effects were nonsig...\n",
       "12  In all these models, women were more likely to...\n",
       "13  Withinpair linear regressions in identical twi...\n",
       "14  There was not a significant difference between...\n",
       "15  There was no significant Visual Cue Ã— Valence...\n",
       "16  The moderator tests were nonsignificant for bo...\n",
       "17  The three-way Configuration Ã— Decoy Ã— Choice...\n",
       "18  Finally, we added relative height as a fixed f...\n",
       "19  The interaction between familiarity and length...\n",
       "20  The main effect of congruence did not reach si...\n",
       "21  Congruent and incongruent negative evaluations...\n",
       "22  The effect of ValenceDiff varied significantly...\n",
       "23  Additionally, feeling small (added as a fixed ...\n",
       "24  Regarding the main effect of task, smaller P1 ...\n",
       "25  Indeed, there was no significant difference in...\n",
       "26  Similarly, within-pair analyses in identical p...\n",
       "27  For the mid-scale questions, we found no diffe..."
      ]
     },
     "metadata": {},
     "output_type": "display_data"
    }
   ],
   "source": [
    "display_statements(false_positives, \"False Positives (predicted 1, actual 0)\")"
   ]
  },
  {
   "cell_type": "code",
   "execution_count": 148,
   "id": "9b473d8e",
   "metadata": {},
   "outputs": [
    {
     "name": "stdout",
     "output_type": "stream",
     "text": [
      "\n",
      "False Negatives (predicted 0, actual 1): None\n"
     ]
    }
   ],
   "source": [
    "display_statements(false_negatives, \"False Negatives (predicted 0, actual 1)\")"
   ]
  },
  {
   "cell_type": "markdown",
   "id": "dad5951c",
   "metadata": {},
   "source": [
    "## 4. SciBERT"
   ]
  },
  {
   "cell_type": "markdown",
   "id": "e94b04de",
   "metadata": {},
   "source": [
    "### 4.1 Initializing SciBERT"
   ]
  },
  {
   "cell_type": "code",
   "execution_count": 149,
   "id": "f3cf273a",
   "metadata": {},
   "outputs": [
    {
     "name": "stderr",
     "output_type": "stream",
     "text": [
      "Some weights of BertForSequenceClassification were not initialized from the model checkpoint at allenai/scibert_scivocab_uncased and are newly initialized: ['classifier.bias', 'classifier.weight']\n",
      "You should probably TRAIN this model on a down-stream task to be able to use it for predictions and inference.\n"
     ]
    }
   ],
   "source": [
    "from transformers import AutoModelForSequenceClassification\n",
    "\n",
    "model_scibert = AutoModelForSequenceClassification.from_pretrained(\"allenai/scibert_scivocab_uncased\", num_labels=num_labels, trust_remote_code=True,\n",
    "    use_safetensors=True)"
   ]
  },
  {
   "cell_type": "markdown",
   "id": "ae5f9d14",
   "metadata": {},
   "source": [
    "### 4.2 Training SciBERT"
   ]
  },
  {
   "cell_type": "code",
   "execution_count": 150,
   "id": "7f85b9fe",
   "metadata": {},
   "outputs": [
    {
     "name": "stderr",
     "output_type": "stream",
     "text": [
      "C:\\Users\\Raphael\\AppData\\Local\\Temp\\ipykernel_20916\\2163559050.py:28: FutureWarning: `tokenizer` is deprecated and will be removed in version 5.0.0 for `Trainer.__init__`. Use `processing_class` instead.\n",
      "  trainer_scibert = Trainer(\n"
     ]
    }
   ],
   "source": [
    "# Standard Setup for training a model with Huggingface Transformers\n",
    "from transformers import DataCollatorWithPadding\n",
    "from transformers import TrainingArguments, Trainer\n",
    "import evaluate\n",
    "import numpy as np\n",
    "\n",
    "data_collator = DataCollatorWithPadding(tokenizer=tokenizer)\n",
    "\n",
    "metric = evaluate.load(\"accuracy\")\n",
    "\n",
    "def compute_metrics(eval_pred):\n",
    "    logits, labels = eval_pred\n",
    "    predictions = np.argmax(logits, axis=-1)\n",
    "    return metric.compute(predictions=predictions, references=labels)\n",
    "\n",
    "training_args = TrainingArguments(\n",
    "    output_dir=\"./results\",\n",
    "    learning_rate=2e-4,\n",
    "    per_device_train_batch_size=8,\n",
    "    per_device_eval_batch_size=8,\n",
    "    num_train_epochs=5,\n",
    "    weight_decay=0.01,\n",
    "    logging_strategy=\"epoch\",\n",
    "    report_to=\"none\",\n",
    ")\n",
    "\n",
    "# Model specific setup\n",
    "trainer_scibert = Trainer(\n",
    "    model=model_scibert,\n",
    "    args=training_args,\n",
    "    train_dataset=tokenized_train,\n",
    "    eval_dataset=tokenized_test,\n",
    "    tokenizer=tokenizer,\n",
    "    data_collator=data_collator,\n",
    "    compute_metrics=compute_metrics\n",
    ")"
   ]
  },
  {
   "cell_type": "code",
   "execution_count": 151,
   "id": "a5e95551",
   "metadata": {},
   "outputs": [
    {
     "data": {
      "text/html": [
       "\n",
       "    <div>\n",
       "      \n",
       "      <progress value='140' max='140' style='width:300px; height:20px; vertical-align: middle;'></progress>\n",
       "      [140/140 00:52, Epoch 5/5]\n",
       "    </div>\n",
       "    <table border=\"1\" class=\"dataframe\">\n",
       "  <thead>\n",
       " <tr style=\"text-align: left;\">\n",
       "      <th>Step</th>\n",
       "      <th>Training Loss</th>\n",
       "    </tr>\n",
       "  </thead>\n",
       "  <tbody>\n",
       "    <tr>\n",
       "      <td>28</td>\n",
       "      <td>0.798900</td>\n",
       "    </tr>\n",
       "    <tr>\n",
       "      <td>56</td>\n",
       "      <td>0.731900</td>\n",
       "    </tr>\n",
       "    <tr>\n",
       "      <td>84</td>\n",
       "      <td>0.712100</td>\n",
       "    </tr>\n",
       "    <tr>\n",
       "      <td>112</td>\n",
       "      <td>0.701600</td>\n",
       "    </tr>\n",
       "    <tr>\n",
       "      <td>140</td>\n",
       "      <td>0.710500</td>\n",
       "    </tr>\n",
       "  </tbody>\n",
       "</table><p>"
      ],
      "text/plain": [
       "<IPython.core.display.HTML object>"
      ]
     },
     "metadata": {},
     "output_type": "display_data"
    },
    {
     "data": {
      "text/plain": [
       "TrainOutput(global_step=140, training_loss=0.7309976305280413, metrics={'train_runtime': 52.8054, 'train_samples_per_second': 21.21, 'train_steps_per_second': 2.651, 'total_flos': 159428855107200.0, 'train_loss': 0.7309976305280413, 'epoch': 5.0})"
      ]
     },
     "execution_count": 151,
     "metadata": {},
     "output_type": "execute_result"
    }
   ],
   "source": [
    "trainer_scibert.train()"
   ]
  },
  {
   "cell_type": "markdown",
   "id": "a224b6ad",
   "metadata": {},
   "source": [
    "#### 4.2.1 Save last model"
   ]
  },
  {
   "cell_type": "code",
   "execution_count": 152,
   "id": "9bd9ac48",
   "metadata": {},
   "outputs": [],
   "source": [
    "# trainer_scibert.save_model('scibert_model')"
   ]
  },
  {
   "cell_type": "markdown",
   "id": "707975b1",
   "metadata": {},
   "source": [
    "### 4.3 Evaluate model"
   ]
  },
  {
   "cell_type": "markdown",
   "id": "e3820bb0",
   "metadata": {},
   "source": [
    "#### 4.3.1 Predict training data"
   ]
  },
  {
   "cell_type": "code",
   "execution_count": 153,
   "id": "00fea5de",
   "metadata": {},
   "outputs": [
    {
     "data": {
      "text/html": [],
      "text/plain": [
       "<IPython.core.display.HTML object>"
      ]
     },
     "metadata": {},
     "output_type": "display_data"
    },
    {
     "name": "stdout",
     "output_type": "stream",
     "text": [
      "              precision    recall  f1-score   support\n",
      "\n",
      "           0       0.00      0.00      0.00       112\n",
      "           1       0.50      1.00      0.67       112\n",
      "\n",
      "    accuracy                           0.50       224\n",
      "   macro avg       0.25      0.50      0.33       224\n",
      "weighted avg       0.25      0.50      0.33       224\n",
      "\n"
     ]
    },
    {
     "name": "stderr",
     "output_type": "stream",
     "text": [
      "c:\\Users\\Raphael\\OneDrive\\RUB\\1_Master\\Masterarbeit\\2_Code_and_Data\\2025-07-05 - Train BERT with labeled_data\\Lib\\site-packages\\sklearn\\metrics\\_classification.py:1706: UndefinedMetricWarning: Precision is ill-defined and being set to 0.0 in labels with no predicted samples. Use `zero_division` parameter to control this behavior.\n",
      "  _warn_prf(average, modifier, f\"{metric.capitalize()} is\", result.shape[0])\n",
      "c:\\Users\\Raphael\\OneDrive\\RUB\\1_Master\\Masterarbeit\\2_Code_and_Data\\2025-07-05 - Train BERT with labeled_data\\Lib\\site-packages\\sklearn\\metrics\\_classification.py:1706: UndefinedMetricWarning: Precision is ill-defined and being set to 0.0 in labels with no predicted samples. Use `zero_division` parameter to control this behavior.\n",
      "  _warn_prf(average, modifier, f\"{metric.capitalize()} is\", result.shape[0])\n",
      "c:\\Users\\Raphael\\OneDrive\\RUB\\1_Master\\Masterarbeit\\2_Code_and_Data\\2025-07-05 - Train BERT with labeled_data\\Lib\\site-packages\\sklearn\\metrics\\_classification.py:1706: UndefinedMetricWarning: Precision is ill-defined and being set to 0.0 in labels with no predicted samples. Use `zero_division` parameter to control this behavior.\n",
      "  _warn_prf(average, modifier, f\"{metric.capitalize()} is\", result.shape[0])\n"
     ]
    }
   ],
   "source": [
    "from sklearn.metrics import classification_report\n",
    "\n",
    "preds = trainer_scibert.predict(tokenized_train)\n",
    "preds = np.argmax(preds[:3][0],axis=1)\n",
    "GT = df_train['label'].tolist()\n",
    "print(classification_report(GT,preds))"
   ]
  },
  {
   "cell_type": "markdown",
   "id": "8660fc64",
   "metadata": {},
   "source": [
    "#### 4.3.2 Predict test data"
   ]
  },
  {
   "cell_type": "code",
   "execution_count": 154,
   "id": "7508859d",
   "metadata": {},
   "outputs": [
    {
     "data": {
      "text/html": [],
      "text/plain": [
       "<IPython.core.display.HTML object>"
      ]
     },
     "metadata": {},
     "output_type": "display_data"
    },
    {
     "name": "stdout",
     "output_type": "stream",
     "text": [
      "              precision    recall  f1-score   support\n",
      "\n",
      "           0       0.00      0.00      0.00        28\n",
      "           1       0.50      1.00      0.67        28\n",
      "\n",
      "    accuracy                           0.50        56\n",
      "   macro avg       0.25      0.50      0.33        56\n",
      "weighted avg       0.25      0.50      0.33        56\n",
      "\n"
     ]
    },
    {
     "name": "stderr",
     "output_type": "stream",
     "text": [
      "c:\\Users\\Raphael\\OneDrive\\RUB\\1_Master\\Masterarbeit\\2_Code_and_Data\\2025-07-05 - Train BERT with labeled_data\\Lib\\site-packages\\sklearn\\metrics\\_classification.py:1706: UndefinedMetricWarning: Precision is ill-defined and being set to 0.0 in labels with no predicted samples. Use `zero_division` parameter to control this behavior.\n",
      "  _warn_prf(average, modifier, f\"{metric.capitalize()} is\", result.shape[0])\n",
      "c:\\Users\\Raphael\\OneDrive\\RUB\\1_Master\\Masterarbeit\\2_Code_and_Data\\2025-07-05 - Train BERT with labeled_data\\Lib\\site-packages\\sklearn\\metrics\\_classification.py:1706: UndefinedMetricWarning: Precision is ill-defined and being set to 0.0 in labels with no predicted samples. Use `zero_division` parameter to control this behavior.\n",
      "  _warn_prf(average, modifier, f\"{metric.capitalize()} is\", result.shape[0])\n",
      "c:\\Users\\Raphael\\OneDrive\\RUB\\1_Master\\Masterarbeit\\2_Code_and_Data\\2025-07-05 - Train BERT with labeled_data\\Lib\\site-packages\\sklearn\\metrics\\_classification.py:1706: UndefinedMetricWarning: Precision is ill-defined and being set to 0.0 in labels with no predicted samples. Use `zero_division` parameter to control this behavior.\n",
      "  _warn_prf(average, modifier, f\"{metric.capitalize()} is\", result.shape[0])\n"
     ]
    }
   ],
   "source": [
    "preds = trainer_scibert.predict(tokenized_test)\n",
    "preds = np.argmax(preds[:3][0],axis=1) #preds[:3][1]\n",
    "GT = df_test['label'].tolist()\n",
    "print(classification_report(GT,preds))"
   ]
  },
  {
   "cell_type": "markdown",
   "id": "0ce497a8",
   "metadata": {},
   "source": [
    "#### 4.3.3 Confusion-Matrix for test data"
   ]
  },
  {
   "cell_type": "code",
   "execution_count": 155,
   "id": "d93a5042",
   "metadata": {},
   "outputs": [
    {
     "data": {
      "image/png": "[encoded data removed]",
      "text/plain": [
       "<Figure size 600x500 with 2 Axes>"
      ]
     },
     "metadata": {},
     "output_type": "display_data"
    }
   ],
   "source": [
    "import seaborn as sns\n",
    "from sklearn.metrics import confusion_matrix\n",
    "\n",
    "import matplotlib.pyplot as plt\n",
    "\n",
    "# Use predictions and ground truth from previous evaluation on test set\n",
    "conf_matrix = confusion_matrix(GT, preds)\n",
    "\n",
    "plt.figure(figsize=(6,5))\n",
    "sns.heatmap(conf_matrix, annot=True, fmt='d', cmap='Blues',\n",
    "            xticklabels=[\"Predicted 0\", \"Predicted 1\"],\n",
    "            yticklabels=[\"Actual 0\", \"Actual 1\"])\n",
    "\n",
    "plt.xlabel('Predicted Label')\n",
    "plt.ylabel('True Label')\n",
    "plt.title('Confusion Matrix')\n",
    "plt.show()"
   ]
  },
  {
   "cell_type": "markdown",
   "id": "b87f39f9",
   "metadata": {},
   "source": [
    "#### 4.3.4 List of statements per category (TP, TN, FP, FN)"
   ]
  },
  {
   "cell_type": "code",
   "execution_count": 156,
   "id": "aafa1591",
   "metadata": {},
   "outputs": [],
   "source": [
    "# Get ground truth and predictions for test set\n",
    "y_true = df_test['label'].tolist()\n",
    "y_pred = preds\n",
    "\n",
    "# True Positives: predicted 1, actual 1\n",
    "true_positives = df_test[(df_test['label'] == 1) & (y_pred == 1)]\n",
    "\n",
    "# True Negatives: predicted 0, actual 0\n",
    "true_negatives = df_test[(df_test['label'] == 0) & (y_pred == 0)]\n",
    "\n",
    "# False Positives: predicted 1, actual 0\n",
    "false_positives = df_test[(df_test['label'] == 0) & (y_pred == 1)]\n",
    "\n",
    "# False Negatives: predicted 0, actual 1\n",
    "false_negatives = df_test[(df_test['label'] == 1) & (y_pred == 0)]\n",
    "\n",
    "# Function to print statements\n",
    "import pandas as pd\n",
    "from IPython.display import display\n",
    "\n",
    "def display_statements(df, title):\n",
    "    if not df.empty:\n",
    "        print(f\"\\n{title} (count: {len(df)})\")\n",
    "        display(df[['text']].reset_index(drop=True))\n",
    "    else:\n",
    "        print(f\"\\n{title}: None\")"
   ]
  },
  {
   "cell_type": "code",
   "execution_count": 157,
   "id": "86cda504",
   "metadata": {},
   "outputs": [
    {
     "name": "stdout",
     "output_type": "stream",
     "text": [
      "\n",
      "True Positives (predicted 1, actual 1) (count: 28)\n"
     ]
    },
    {
     "data": {
      "application/vnd.microsoft.datawrangler.viewer.v0+json": {
       "columns": [
        {
         "name": "index",
         "rawType": "int64",
         "type": "integer"
        },
        {
         "name": "text",
         "rawType": "object",
         "type": "string"
        }
       ],
       "ref": "980f3b53-044e-4962-8769-055c3699344d",
       "rows": [
        [
         "0",
         "The response latencies of the low-AQ and high-AQ groups were very similar to one another (low-AQ group: geometric mean = 17.7 s, 95% CI = [16.2, 19.3]; high-AQ group: geometric mean = 16.8 s, 95% CI = [15.7, 18.0]; b = -0.031, 95% CI = [-0.085, 0.024], p = .269), and although participants with shorter RTs were more likely to make decoy selections, b = -0.303, 95% CI = [-0.521, -0.083], p = .007, there was no association between response latency and the tendency to make consistent choices, b = -0.001, 95% CI = [-0.137, 0.135], p = .990, and controlling for response latency made very little difference to the effect of AQ group on choice consistency, b = 0.161, 95% CI = [0.013, 0.309], p = .033."
        ],
        [
         "1",
         "Risk taking did not differ between participants who received a placebo and those who received atomoxetine (b = 0.02, SE = 0.02, p = .295)."
        ],
        [
         "2",
         "Participants of the stress groups (vs. control groups) felt less positive on Day 2, F(3, 89) = 3.27, p = .025, Î· p 2 = .10, but there were no differences between the informed and uninformed stress groups, t(46) = -0.11, p = .915, d = 0.03 (see Table S1 in the Supplemental Material)."
        ],
        [
         "3",
         "There was no main effect of channel-group laterality, F(1, 45) < 0.01, p = .960, Î· p Â² < .001."
        ],
        [
         "4",
         "Distance, Ï‡ 2 (1, N = 32) = 1.52, p = .217, did not improve model fit."
        ],
        [
         "5",
         "Consistent with study hypotheses emphasizing the importance of cumulative risk, there was not a main effect of treatment condition on epigenetic age acceleration at T3 (b = 0.14, p = .25, with iPCIT coded as 0 and RAU coded as 1)."
        ],
        [
         "6",
         "There was a significant effect of feeling small on the number of coins given away in the dictator game, Wald Ï‡ 2 (1) = 4.85, p = .028, while participant sex did not predict coin allocation, Wald Ï‡ 2 (1) = .18, p = .673."
        ],
        [
         "7",
         "Paired t tests showed that only for the neutral stimuli, there was a recognition deficit for Black faces relative to White faces (an ORE), t(198) = 4.25, p < .001, Cohen's d z = 0.30, 95% CI = [0.16, 0.44], whereas the same was not true for angry faces for which the effect was even in the descriptively opposite direction, t(198) = -0.92, p = .357, Cohen's d z = -0.07."
        ],
        [
         "8",
         "The results indicate that both participants in the fearchemosignal condition (M = 46.42, SD = 9.23) and the rest-body-odor condition (M = 45.22, SD = 10.62) counted a very similar number of bluefish consuming the food morsels (W = 7,538.50, p = .273), indicating that participants in both odor conditions were similarly engaged in the task."
        ],
        [
         "9",
         "For relative changes in pupil size, we obtained a main effect of word familiarity, F(1, 19) = 4.80, p = .04, Î· p 2 = .20, OP = .55 (pseudowords: M = 5.28%, SD = 4.34; real words: M = 4.13%, SD = 3.00), but not for length, F(1, 19) = 2.67, p = .12, Î· p 2 = .12, OP = .34 (five-letter strings: M = 4.97%, SD = 3.89; three-letter strings: M = 4.44%, SD = 3.35)."
        ],
        [
         "10",
         "Follow-up analyses showed that there was no Treatment Ã— Expectancy Violation interaction in the subcentral gyrus, F(1, 76) = 0.12, p = .726, Î· p 2 < .01; TPJ, F(1, 76) = 0.27, p = .606, Î· p 2 < .01; or dlPFC, F(1, 76) = 2.30, p = .13, Î· p 2 = .03."
        ],
        [
         "11",
         "Correlations between dizygotic twins did not differ from correlations between twins and siblings-drug condemnation: Ï‡ 2 (1) = 2.93, p = .09; sociosexuality: Ï‡ 2 (1) = 5.15, p = .02; sexual-disgust sensitivity: Ï‡ 2 (1) = 0.89, p = .34."
        ],
        [
         "12",
         "Accuracy (proportion of correct responses) did not differ between the overt-attention (M = .85, SD = .13) and covert-attention (M = .86, SD = .11) blocks, F(1, 23) = 0.23, p = .636, Î· p 2 = .01."
        ],
        [
         "13",
         "Adding delay (15 s and 30 s) in the second model did not improve model fit, c 2 (1) = 0.88, p = .347, indicating that lemurs responded similarly to delay conditions."
        ],
        [
         "14",
         "There were no differences between groups in overall mean ratings of positivity in either the self or other condition, as both younger adults (self: M = 7.39, SD = 1.36; other: M = 6.79, SD = 1.61), t(94) = 3.29, p = .001, d = 0.34, 95% CI = [0.13, 0.55], and older adults (self: M = 7.46, SD = 1.27; other: M = 7.13, SD = 1.47), t(90) = 2.75, p = .007, d = 0.29, 95% CI = [0.08, 0.50], reported feeling more positive when winning credits for themselves compared with others (there was no significant interaction between groups; z = -1.596, p = .111)."
        ],
        [
         "15",
         "As in Study 1, individuals' risk and social preferences were uncorrelated (Spearman's r = .03, p = .800)."
        ],
        [
         "16",
         "First, participant height (added as a fixed factor to the intercept-only model) had no effect on aggressive behavior, Wald Ï‡ 2 (1) = 0.10, b = -0.024, SE = 0.074, 95% CI = [-0.169, 0.122], p = .749 (QICc = 166.91)."
        ],
        [
         "17",
         "When participants made large errors on previous trials, their encoding speed on subsequent trials was the same, or if anything slightly lower (Î² = -0.121, t = -1.69, p = .094, BF 10 = 0.374, Î”BIC = -1.98; see Fig."
        ],
        [
         "18",
         "As expected, prior to the intervention (at baseline: Day 0), we confirmed that the two groups experienced a similar number of intrusive memories of the film in daily life, t(50) = 0.06, p = .95 (Fig. 1a)."
        ],
        [
         "19",
         "We next focused on report error and found a main effect of sound, F(2, 84) = 11.31, p < .001, Î· p 2 = .12; there was no main effect of sound onset (during or after visual discrimination), F(1, 84) = 0.16, p = .69, Î· p 2 = .001, and there was a significant interaction, F(2, 168) = 3.39, p = .036, Î· p 2 = .04."
        ],
        [
         "20",
         "Similarly, for inverted scenes, categorization accuracy was comparable across high (M = 0.82, SD = 0.14) and low (M = 0.81, SD = 0.85) aesthetic conditions, F(1, 98) = 0.21, p = .647 (high vs. low aesthetic condition difference = .015, 95% CI = [-.051, .082])."
        ],
        [
         "21",
         "A control model additionally revealed a main effect of gender on first donations, Ï‡ 2 (1) = 7.87, p = .005, which did not interact with age, Ï‡ 2 (2) = 1.30, p = .521."
        ],
        [
         "22",
         "However, there was no performance difference between the two conditions for 4-year-olds, t(62) = 1.67, p = .10, and 3-year-olds, t(62) = 0.96, p = .34."
        ],
        [
         "23",
         "Unlike the analyses using RT on search trials as the dependent variable, there was no main effect of real-time entropy on fixation time, F(1, 22,897.2) = 1.64, p = .20, Î² = -0.006, SE = 0.005."
        ],
        [
         "24",
         "Furthermore, we found that the nudge was effective for participants who did not vote for Donald Trump in the 2016 elections, Î² = 0.0231, 95% CI = [0.079, 0.039], F(3, 32490) = 6.58, p = .003, but not for participants who did vote for Trump, Î² = 0.00376, 95% CI = [-0.013, 0.020], F(3, 15000) = 0.12, p = .653."
        ],
        [
         "25",
         "There was no difference between adults who appealed to metaphors and adults who did not, t(62) = 1.40, p = .17."
        ],
        [
         "26",
         "The third model added the remaining task variables (right-ear syllables in the nonforced condition of the dichotic-listening task, mean span in the digit-span task, imagine-to-hear errors in the source-memory task) and did not improve on the signal detection model (p = .965)."
        ],
        [
         "27",
         "There was no effect of session for bimodal bilinguals (Î² = -0.50, SE = 1.52, z = -0.33, p = .74), indicating that the increase in semantically specific manual productions in bimodal bilinguals' descriptions was not due to or primed by describing similar pictures in an earlier session in NGT (for information on the order analysis, see the Supplemental Material)."
        ]
       ],
       "shape": {
        "columns": 1,
        "rows": 28
       }
      },
      "text/html": [
       "<div>\n",
       "<style scoped>\n",
       "    .dataframe tbody tr th:only-of-type {\n",
       "        vertical-align: middle;\n",
       "    }\n",
       "\n",
       "    .dataframe tbody tr th {\n",
       "        vertical-align: top;\n",
       "    }\n",
       "\n",
       "    .dataframe thead th {\n",
       "        text-align: right;\n",
       "    }\n",
       "</style>\n",
       "<table border=\"1\" class=\"dataframe\">\n",
       "  <thead>\n",
       "    <tr style=\"text-align: right;\">\n",
       "      <th></th>\n",
       "      <th>text</th>\n",
       "    </tr>\n",
       "  </thead>\n",
       "  <tbody>\n",
       "    <tr>\n",
       "      <th>0</th>\n",
       "      <td>The response latencies of the low-AQ and high-...</td>\n",
       "    </tr>\n",
       "    <tr>\n",
       "      <th>1</th>\n",
       "      <td>Risk taking did not differ between participant...</td>\n",
       "    </tr>\n",
       "    <tr>\n",
       "      <th>2</th>\n",
       "      <td>Participants of the stress groups (vs. control...</td>\n",
       "    </tr>\n",
       "    <tr>\n",
       "      <th>3</th>\n",
       "      <td>There was no main effect of channel-group late...</td>\n",
       "    </tr>\n",
       "    <tr>\n",
       "      <th>4</th>\n",
       "      <td>Distance, Ï‡ 2 (1, N = 32) = 1.52, p = .217, d...</td>\n",
       "    </tr>\n",
       "    <tr>\n",
       "      <th>5</th>\n",
       "      <td>Consistent with study hypotheses emphasizing t...</td>\n",
       "    </tr>\n",
       "    <tr>\n",
       "      <th>6</th>\n",
       "      <td>There was a significant effect of feeling smal...</td>\n",
       "    </tr>\n",
       "    <tr>\n",
       "      <th>7</th>\n",
       "      <td>Paired t tests showed that only for the neutra...</td>\n",
       "    </tr>\n",
       "    <tr>\n",
       "      <th>8</th>\n",
       "      <td>The results indicate that both participants in...</td>\n",
       "    </tr>\n",
       "    <tr>\n",
       "      <th>9</th>\n",
       "      <td>For relative changes in pupil size, we obtaine...</td>\n",
       "    </tr>\n",
       "    <tr>\n",
       "      <th>10</th>\n",
       "      <td>Follow-up analyses showed that there was no Tr...</td>\n",
       "    </tr>\n",
       "    <tr>\n",
       "      <th>11</th>\n",
       "      <td>Correlations between dizygotic twins did not d...</td>\n",
       "    </tr>\n",
       "    <tr>\n",
       "      <th>12</th>\n",
       "      <td>Accuracy (proportion of correct responses) did...</td>\n",
       "    </tr>\n",
       "    <tr>\n",
       "      <th>13</th>\n",
       "      <td>Adding delay (15 s and 30 s) in the second mod...</td>\n",
       "    </tr>\n",
       "    <tr>\n",
       "      <th>14</th>\n",
       "      <td>There were no differences between groups in ov...</td>\n",
       "    </tr>\n",
       "    <tr>\n",
       "      <th>15</th>\n",
       "      <td>As in Study 1, individuals' risk and social pr...</td>\n",
       "    </tr>\n",
       "    <tr>\n",
       "      <th>16</th>\n",
       "      <td>First, participant height (added as a fixed fa...</td>\n",
       "    </tr>\n",
       "    <tr>\n",
       "      <th>17</th>\n",
       "      <td>When participants made large errors on previou...</td>\n",
       "    </tr>\n",
       "    <tr>\n",
       "      <th>18</th>\n",
       "      <td>As expected, prior to the intervention (at bas...</td>\n",
       "    </tr>\n",
       "    <tr>\n",
       "      <th>19</th>\n",
       "      <td>We next focused on report error and found a ma...</td>\n",
       "    </tr>\n",
       "    <tr>\n",
       "      <th>20</th>\n",
       "      <td>Similarly, for inverted scenes, categorization...</td>\n",
       "    </tr>\n",
       "    <tr>\n",
       "      <th>21</th>\n",
       "      <td>A control model additionally revealed a main e...</td>\n",
       "    </tr>\n",
       "    <tr>\n",
       "      <th>22</th>\n",
       "      <td>However, there was no performance difference b...</td>\n",
       "    </tr>\n",
       "    <tr>\n",
       "      <th>23</th>\n",
       "      <td>Unlike the analyses using RT on search trials ...</td>\n",
       "    </tr>\n",
       "    <tr>\n",
       "      <th>24</th>\n",
       "      <td>Furthermore, we found that the nudge was effec...</td>\n",
       "    </tr>\n",
       "    <tr>\n",
       "      <th>25</th>\n",
       "      <td>There was no difference between adults who app...</td>\n",
       "    </tr>\n",
       "    <tr>\n",
       "      <th>26</th>\n",
       "      <td>The third model added the remaining task varia...</td>\n",
       "    </tr>\n",
       "    <tr>\n",
       "      <th>27</th>\n",
       "      <td>There was no effect of session for bimodal bil...</td>\n",
       "    </tr>\n",
       "  </tbody>\n",
       "</table>\n",
       "</div>"
      ],
      "text/plain": [
       "                                                 text\n",
       "0   The response latencies of the low-AQ and high-...\n",
       "1   Risk taking did not differ between participant...\n",
       "2   Participants of the stress groups (vs. control...\n",
       "3   There was no main effect of channel-group late...\n",
       "4   Distance, Ï‡ 2 (1, N = 32) = 1.52, p = .217, d...\n",
       "5   Consistent with study hypotheses emphasizing t...\n",
       "6   There was a significant effect of feeling smal...\n",
       "7   Paired t tests showed that only for the neutra...\n",
       "8   The results indicate that both participants in...\n",
       "9   For relative changes in pupil size, we obtaine...\n",
       "10  Follow-up analyses showed that there was no Tr...\n",
       "11  Correlations between dizygotic twins did not d...\n",
       "12  Accuracy (proportion of correct responses) did...\n",
       "13  Adding delay (15 s and 30 s) in the second mod...\n",
       "14  There were no differences between groups in ov...\n",
       "15  As in Study 1, individuals' risk and social pr...\n",
       "16  First, participant height (added as a fixed fa...\n",
       "17  When participants made large errors on previou...\n",
       "18  As expected, prior to the intervention (at bas...\n",
       "19  We next focused on report error and found a ma...\n",
       "20  Similarly, for inverted scenes, categorization...\n",
       "21  A control model additionally revealed a main e...\n",
       "22  However, there was no performance difference b...\n",
       "23  Unlike the analyses using RT on search trials ...\n",
       "24  Furthermore, we found that the nudge was effec...\n",
       "25  There was no difference between adults who app...\n",
       "26  The third model added the remaining task varia...\n",
       "27  There was no effect of session for bimodal bil..."
      ]
     },
     "metadata": {},
     "output_type": "display_data"
    }
   ],
   "source": [
    "display_statements(true_positives, \"True Positives (predicted 1, actual 1)\")"
   ]
  },
  {
   "cell_type": "code",
   "execution_count": 158,
   "id": "7a865798",
   "metadata": {},
   "outputs": [
    {
     "name": "stdout",
     "output_type": "stream",
     "text": [
      "\n",
      "True Negatives (predicted 0, actual 0): None\n"
     ]
    }
   ],
   "source": [
    "display_statements(true_negatives, \"True Negatives (predicted 0, actual 0)\")"
   ]
  },
  {
   "cell_type": "code",
   "execution_count": 159,
   "id": "54082c37",
   "metadata": {},
   "outputs": [
    {
     "name": "stdout",
     "output_type": "stream",
     "text": [
      "\n",
      "False Positives (predicted 1, actual 0) (count: 28)\n"
     ]
    },
    {
     "data": {
      "application/vnd.microsoft.datawrangler.viewer.v0+json": {
       "columns": [
        {
         "name": "index",
         "rawType": "int64",
         "type": "integer"
        },
        {
         "name": "text",
         "rawType": "object",
         "type": "string"
        }
       ],
       "ref": "e1fcebbf-1b3e-4137-91f3-b9be4b3ede56",
       "rows": [
        [
         "0",
         "Although the PTSD group showed a significant facilitation effect (M = 5.9%), F(1, 15) = 7.525, p = .015, Î· p 2 = .334, and the control group did not (M = 2.8%, n.s.), there was no significant group difference in facilitation, F(1, 30) = 1.215, p = .279, Î· p 2 = .039 (Fig. 3a)."
        ],
        [
         "1",
         "Overall, RT was on average slower when sounds were played during the continuous report phase compared with the visual discrimination phase, but this difference in RT (i.e., having target images with lower levels of noise) was not statistically significant, t(84) = 1.58, p = .12, Cohen's d z = 0.17, 95% CI = [-0.817, 0.475], BF 01 = 2.55, and the numerical difference in RT did not lead to a significant difference in report error across sound-onset conditions (Ms = 7.38 vs. 7.54), t(84) = 0.62, p = .54, Cohen's d z = 0.06, 95% CI = [-0.85, 0.725], BF 01 = 6.94."
        ],
        [
         "2",
         "We found a significant main effect of outcome, F(1, 37) = 6.72, p = .014, Î· p 2 = .154, but no main effect of frequency, F(1, 37) = 0.03, p = .858, Î· p 2 = .001."
        ],
        [
         "3",
         "The percentage of children who waited for the full 15-min period was not significantly different between these conditions (40% in the aware condition; 33% in the unaware/additional rewards condition; Mann-Whitney U test: Z = -0.53, p = .595), and a Mantel-Cox log rank test also indicated no difference between the conditions, Ï‡ 2 (1, N = 60) = 0.41, p = .525."
        ],
        [
         "4",
         "Results revealed no significant relationship between age and enjoyment (Î² = -0.02, SE = 0.03, p = .576)."
        ],
        [
         "5",
         "Conversely, the interaction between KoR and SOC was nonsignificant in older adults' RTs, F(1, 49) = 0.00, p = .949, Î· p 2 = .000, but significant in older adults' accuracy, F(1, 49) = 9.07, p = .004, Î· p 2 = .156."
        ],
        [
         "6",
         "Participants in the ultimatum game were nonsignificantly less self-biased compared with participants in the dictator game in Study 1, and significantly so in Study 2, which was better powered to detect effects (Study 1: b game = 0.968, SE = 1.467, z = 0.660, two-tailed p = .509, r = .258, 95% CI = [-.465, .727]; Study 2: b game = 0.917, SE = 0.417, z = 2.202, preregistered one-tailed p = .014, r = .245, 95% CI = [.028, .431])."
        ],
        [
         "7",
         "The dyslexia (M = .87, SD = .05) and control (M = .88, SD = .04) groups did not significantly differ in their ability to discriminate sounds before category training, t(53) = 0.90, p = .37, d = 0.24."
        ],
        [
         "8",
         "For the recognition data, the NHST analysis showed no significant effects of state of mind on any of the measures of correct or false memories (lowest p = .077)."
        ],
        [
         "9",
         "In the current meta-analysis, however, there were no significant subgroup differences between preregistered and nonpreregistered experiments related to perceived scientific consensus, Q(1) = 2.95, p = .086, and factual beliefs, Q(1) = 1.45, p = .229."
        ],
        [
         "10",
         "When we compared directly, we found that in neither duration condition did participants show a significant bias for foreground targets-250 ms: t(47) = 0.636, p = .528, d = 0.14; 330 ms: t(47) = -1.50, p = .14, d = -0.32."
        ],
        [
         "11",
         "Here, too, the interaction effects were nonsignificant-perceived scientific consensus: b = -1.68, t(20) = -0.53, p = .600; factual beliefs: b = -0.95, t(23) = -0.90, p = .378."
        ],
        [
         "12",
         "In all these models, women were more likely to report higher fear intensity compared with men (Model 1a: Î² = 1.08, SE = 0.55, p = .054; Model 2a: Î² = 1.04, SE = 0.53, p = .051; Model 3a: Î² = 1.31, SE = 0.50, p = .011), whereas motivation (Model 1a: p = .158, Model 2a: p = .102, Model 3a: p = .090) and age (Model 1a: p = .680, Model 2a: p = .352, Model 3a: p = .117) showed no significant effects."
        ],
        [
         "13",
         "Withinpair linear regressions in identical twin pairs showed no significant effect of age of onset of musical training on musical aptitude (Î² = 0.00, p = .93)."
        ],
        [
         "14",
         "There was not a significant difference between the high-pitch and low-pitch conditions, t(27) = 1.03, p = .31, Cohen's d = 0.19, Bonferroni corrected."
        ],
        [
         "15",
         "There was no significant Visual Cue Ã— Valence interaction, z = 0.75, exp(b) = 1.17, 95% CI = [0.78, 1.74], p = .450, or Visual Cue Ã— Neutral interaction, z = -1.18, exp(b) = 0.81, 95% CI = [0.58, 1.15], p = .239."
        ],
        [
         "16",
         "The moderator tests were nonsignificant for both perceived scientific consensus, b = -0.13, t(23) = -0.17, p = .870, and factual beliefs, b = -0.02, t(26) = -0.07, p = .943."
        ],
        [
         "17",
         "The three-way Configuration Ã— Decoy Ã— Choice interaction in a log linear analysis was nonsignificant, Ï‡ 2 (1, N = 768) = 2.85, p = .09."
        ],
        [
         "18",
         "Finally, we added relative height as a fixed factor to the intercept-only model, which showed that there was no significant relationship between relative height and coins kept for self in the ultimatum game, Wald Ï‡ 2 (1) = 0.42, b = 0.001, SE = 0.002, 95% CI = [-0.002, 0.005], p = .519 (QICc = 23.58)."
        ],
        [
         "19",
         "The interaction between familiarity and length was nonsignificant as well, F(1, 19) = 0.30, p = .59, Î· p 2 = .02, OP = .08 (Table 2)."
        ],
        [
         "20",
         "The main effect of congruence did not reach significance in Experiment 2 (p = .09; see Table 3)."
        ],
        [
         "21",
         "Congruent and incongruent negative evaluations did not differ significantly (p = .230)."
        ],
        [
         "22",
         "The effect of ValenceDiff varied significantly over domains in the CloudResearch sample, Ï‡ 2 (3) = 20.31, p < .001, but not in the student sample, Ï‡ 2 (3) = 2.04, p = .564."
        ],
        [
         "23",
         "Additionally, feeling small (added as a fixed factor to the interceptonly model) was not significantly related to behavior in the hot-sauce task, Wald Ï‡ 2 (1) = 0.63, b = -0.020, SE = 0.078, 95% CI = [-0.172, 0.133], p = .802 (QICc = 166.94)."
        ],
        [
         "24",
         "Regarding the main effect of task, smaller P1 amplitudes were found in the emotion task compared with the perceptual task (p = .038) and the age task (p = .002); the latter two did not differ significantly in amplitude from each other (p = .674)."
        ],
        [
         "25",
         "Indeed, there was no significant difference in accuracy between finding the longest line across the two experiments, t(72) = 1.91, p = .23, or for finding the shortest line, t(72) = 0.479, p = .96."
        ],
        [
         "26",
         "Similarly, within-pair analyses in identical pairs showed no significant effect of age of onset before the age of 8 years versus age of onset at age 8 years or later on musical aptitude (Î² = 0.02, p = .66; Î² = 0.03, p = .60 when analyses controlled for total practice)."
        ],
        [
         "27",
         "For the mid-scale questions, we found no difference between the self-and agreeingperspective conditions (d = 0.05, p = .39), whereas the benefit of averaging was again higher for participants in the disagreeing-perspective condition compared with the self-perspective (d = 0.28, p < .001) and agreeingperspective (d = 0.24, p < .001) conditions."
        ]
       ],
       "shape": {
        "columns": 1,
        "rows": 28
       }
      },
      "text/html": [
       "<div>\n",
       "<style scoped>\n",
       "    .dataframe tbody tr th:only-of-type {\n",
       "        vertical-align: middle;\n",
       "    }\n",
       "\n",
       "    .dataframe tbody tr th {\n",
       "        vertical-align: top;\n",
       "    }\n",
       "\n",
       "    .dataframe thead th {\n",
       "        text-align: right;\n",
       "    }\n",
       "</style>\n",
       "<table border=\"1\" class=\"dataframe\">\n",
       "  <thead>\n",
       "    <tr style=\"text-align: right;\">\n",
       "      <th></th>\n",
       "      <th>text</th>\n",
       "    </tr>\n",
       "  </thead>\n",
       "  <tbody>\n",
       "    <tr>\n",
       "      <th>0</th>\n",
       "      <td>Although the PTSD group showed a significant f...</td>\n",
       "    </tr>\n",
       "    <tr>\n",
       "      <th>1</th>\n",
       "      <td>Overall, RT was on average slower when sounds ...</td>\n",
       "    </tr>\n",
       "    <tr>\n",
       "      <th>2</th>\n",
       "      <td>We found a significant main effect of outcome,...</td>\n",
       "    </tr>\n",
       "    <tr>\n",
       "      <th>3</th>\n",
       "      <td>The percentage of children who waited for the ...</td>\n",
       "    </tr>\n",
       "    <tr>\n",
       "      <th>4</th>\n",
       "      <td>Results revealed no significant relationship b...</td>\n",
       "    </tr>\n",
       "    <tr>\n",
       "      <th>5</th>\n",
       "      <td>Conversely, the interaction between KoR and SO...</td>\n",
       "    </tr>\n",
       "    <tr>\n",
       "      <th>6</th>\n",
       "      <td>Participants in the ultimatum game were nonsig...</td>\n",
       "    </tr>\n",
       "    <tr>\n",
       "      <th>7</th>\n",
       "      <td>The dyslexia (M = .87, SD = .05) and control (...</td>\n",
       "    </tr>\n",
       "    <tr>\n",
       "      <th>8</th>\n",
       "      <td>For the recognition data, the NHST analysis sh...</td>\n",
       "    </tr>\n",
       "    <tr>\n",
       "      <th>9</th>\n",
       "      <td>In the current meta-analysis, however, there w...</td>\n",
       "    </tr>\n",
       "    <tr>\n",
       "      <th>10</th>\n",
       "      <td>When we compared directly, we found that in ne...</td>\n",
       "    </tr>\n",
       "    <tr>\n",
       "      <th>11</th>\n",
       "      <td>Here, too, the interaction effects were nonsig...</td>\n",
       "    </tr>\n",
       "    <tr>\n",
       "      <th>12</th>\n",
       "      <td>In all these models, women were more likely to...</td>\n",
       "    </tr>\n",
       "    <tr>\n",
       "      <th>13</th>\n",
       "      <td>Withinpair linear regressions in identical twi...</td>\n",
       "    </tr>\n",
       "    <tr>\n",
       "      <th>14</th>\n",
       "      <td>There was not a significant difference between...</td>\n",
       "    </tr>\n",
       "    <tr>\n",
       "      <th>15</th>\n",
       "      <td>There was no significant Visual Cue Ã— Valence...</td>\n",
       "    </tr>\n",
       "    <tr>\n",
       "      <th>16</th>\n",
       "      <td>The moderator tests were nonsignificant for bo...</td>\n",
       "    </tr>\n",
       "    <tr>\n",
       "      <th>17</th>\n",
       "      <td>The three-way Configuration Ã— Decoy Ã— Choice...</td>\n",
       "    </tr>\n",
       "    <tr>\n",
       "      <th>18</th>\n",
       "      <td>Finally, we added relative height as a fixed f...</td>\n",
       "    </tr>\n",
       "    <tr>\n",
       "      <th>19</th>\n",
       "      <td>The interaction between familiarity and length...</td>\n",
       "    </tr>\n",
       "    <tr>\n",
       "      <th>20</th>\n",
       "      <td>The main effect of congruence did not reach si...</td>\n",
       "    </tr>\n",
       "    <tr>\n",
       "      <th>21</th>\n",
       "      <td>Congruent and incongruent negative evaluations...</td>\n",
       "    </tr>\n",
       "    <tr>\n",
       "      <th>22</th>\n",
       "      <td>The effect of ValenceDiff varied significantly...</td>\n",
       "    </tr>\n",
       "    <tr>\n",
       "      <th>23</th>\n",
       "      <td>Additionally, feeling small (added as a fixed ...</td>\n",
       "    </tr>\n",
       "    <tr>\n",
       "      <th>24</th>\n",
       "      <td>Regarding the main effect of task, smaller P1 ...</td>\n",
       "    </tr>\n",
       "    <tr>\n",
       "      <th>25</th>\n",
       "      <td>Indeed, there was no significant difference in...</td>\n",
       "    </tr>\n",
       "    <tr>\n",
       "      <th>26</th>\n",
       "      <td>Similarly, within-pair analyses in identical p...</td>\n",
       "    </tr>\n",
       "    <tr>\n",
       "      <th>27</th>\n",
       "      <td>For the mid-scale questions, we found no diffe...</td>\n",
       "    </tr>\n",
       "  </tbody>\n",
       "</table>\n",
       "</div>"
      ],
      "text/plain": [
       "                                                 text\n",
       "0   Although the PTSD group showed a significant f...\n",
       "1   Overall, RT was on average slower when sounds ...\n",
       "2   We found a significant main effect of outcome,...\n",
       "3   The percentage of children who waited for the ...\n",
       "4   Results revealed no significant relationship b...\n",
       "5   Conversely, the interaction between KoR and SO...\n",
       "6   Participants in the ultimatum game were nonsig...\n",
       "7   The dyslexia (M = .87, SD = .05) and control (...\n",
       "8   For the recognition data, the NHST analysis sh...\n",
       "9   In the current meta-analysis, however, there w...\n",
       "10  When we compared directly, we found that in ne...\n",
       "11  Here, too, the interaction effects were nonsig...\n",
       "12  In all these models, women were more likely to...\n",
       "13  Withinpair linear regressions in identical twi...\n",
       "14  There was not a significant difference between...\n",
       "15  There was no significant Visual Cue Ã— Valence...\n",
       "16  The moderator tests were nonsignificant for bo...\n",
       "17  The three-way Configuration Ã— Decoy Ã— Choice...\n",
       "18  Finally, we added relative height as a fixed f...\n",
       "19  The interaction between familiarity and length...\n",
       "20  The main effect of congruence did not reach si...\n",
       "21  Congruent and incongruent negative evaluations...\n",
       "22  The effect of ValenceDiff varied significantly...\n",
       "23  Additionally, feeling small (added as a fixed ...\n",
       "24  Regarding the main effect of task, smaller P1 ...\n",
       "25  Indeed, there was no significant difference in...\n",
       "26  Similarly, within-pair analyses in identical p...\n",
       "27  For the mid-scale questions, we found no diffe..."
      ]
     },
     "metadata": {},
     "output_type": "display_data"
    }
   ],
   "source": [
    "display_statements(false_positives, \"False Positives (predicted 1, actual 0)\")"
   ]
  },
  {
   "cell_type": "code",
   "execution_count": 160,
   "id": "9e2a577a",
   "metadata": {},
   "outputs": [
    {
     "name": "stdout",
     "output_type": "stream",
     "text": [
      "\n",
      "False Negatives (predicted 0, actual 1): None\n"
     ]
    }
   ],
   "source": [
    "display_statements(false_negatives, \"False Negatives (predicted 0, actual 1)\")"
   ]
  },
  {
   "cell_type": "markdown",
   "id": "71cff6f0",
   "metadata": {},
   "source": [
    "## 5. PubMedBERT"
   ]
  },
  {
   "cell_type": "markdown",
   "id": "9c428b2a",
   "metadata": {},
   "source": [
    "### 5.1 Initializing PubMedBERT"
   ]
  },
  {
   "cell_type": "code",
   "execution_count": 161,
   "id": "bad4fa17",
   "metadata": {},
   "outputs": [
    {
     "name": "stderr",
     "output_type": "stream",
     "text": [
      "Some weights of BertForSequenceClassification were not initialized from the model checkpoint at microsoft/BiomedNLP-PubMedBERT-base-uncased-abstract and are newly initialized: ['classifier.bias', 'classifier.weight']\n",
      "You should probably TRAIN this model on a down-stream task to be able to use it for predictions and inference.\n"
     ]
    }
   ],
   "source": [
    "from transformers import AutoModelForSequenceClassification\n",
    "\n",
    "model_pubmedbert = AutoModelForSequenceClassification.from_pretrained(\"microsoft/BiomedNLP-PubMedBERT-base-uncased-abstract\", num_labels=num_labels, trust_remote_code=True,\n",
    "    use_safetensors=True)"
   ]
  },
  {
   "cell_type": "markdown",
   "id": "7e9ebff5",
   "metadata": {},
   "source": [
    "### 5.2 Training PubMedBERT"
   ]
  },
  {
   "cell_type": "code",
   "execution_count": 162,
   "id": "2267abfa",
   "metadata": {},
   "outputs": [
    {
     "name": "stderr",
     "output_type": "stream",
     "text": [
      "C:\\Users\\Raphael\\AppData\\Local\\Temp\\ipykernel_20916\\3303321629.py:28: FutureWarning: `tokenizer` is deprecated and will be removed in version 5.0.0 for `Trainer.__init__`. Use `processing_class` instead.\n",
      "  trainer_pubmedbert = Trainer(\n"
     ]
    }
   ],
   "source": [
    "# Standard Setup for training a model with Huggingface Transformers\n",
    "from transformers import DataCollatorWithPadding\n",
    "from transformers import TrainingArguments, Trainer\n",
    "import evaluate\n",
    "import numpy as np\n",
    "\n",
    "data_collator = DataCollatorWithPadding(tokenizer=tokenizer)\n",
    "\n",
    "metric = evaluate.load(\"accuracy\")\n",
    "\n",
    "def compute_metrics(eval_pred):\n",
    "    logits, labels = eval_pred\n",
    "    predictions = np.argmax(logits, axis=-1)\n",
    "    return metric.compute(predictions=predictions, references=labels)\n",
    "\n",
    "training_args = TrainingArguments(\n",
    "    output_dir=\"./results\",\n",
    "    learning_rate=2e-4,\n",
    "    per_device_train_batch_size=8,\n",
    "    per_device_eval_batch_size=8,\n",
    "    num_train_epochs=5,\n",
    "    weight_decay=0.01,\n",
    "    logging_strategy=\"epoch\",\n",
    "    report_to=\"none\",\n",
    ")\n",
    "\n",
    "# Model specific setup\n",
    "trainer_pubmedbert = Trainer(\n",
    "    model=model_pubmedbert,\n",
    "    args=training_args,\n",
    "    train_dataset=tokenized_train,\n",
    "    eval_dataset=tokenized_test,\n",
    "    tokenizer=tokenizer,\n",
    "    data_collator=data_collator,\n",
    "    compute_metrics=compute_metrics\n",
    ")"
   ]
  },
  {
   "cell_type": "code",
   "execution_count": 163,
   "id": "ab958240",
   "metadata": {},
   "outputs": [
    {
     "data": {
      "text/html": [
       "\n",
       "    <div>\n",
       "      \n",
       "      <progress value='140' max='140' style='width:300px; height:20px; vertical-align: middle;'></progress>\n",
       "      [140/140 00:54, Epoch 5/5]\n",
       "    </div>\n",
       "    <table border=\"1\" class=\"dataframe\">\n",
       "  <thead>\n",
       " <tr style=\"text-align: left;\">\n",
       "      <th>Step</th>\n",
       "      <th>Training Loss</th>\n",
       "    </tr>\n",
       "  </thead>\n",
       "  <tbody>\n",
       "    <tr>\n",
       "      <td>28</td>\n",
       "      <td>0.808300</td>\n",
       "    </tr>\n",
       "    <tr>\n",
       "      <td>56</td>\n",
       "      <td>0.766300</td>\n",
       "    </tr>\n",
       "    <tr>\n",
       "      <td>84</td>\n",
       "      <td>0.712500</td>\n",
       "    </tr>\n",
       "    <tr>\n",
       "      <td>112</td>\n",
       "      <td>0.705800</td>\n",
       "    </tr>\n",
       "    <tr>\n",
       "      <td>140</td>\n",
       "      <td>0.706700</td>\n",
       "    </tr>\n",
       "  </tbody>\n",
       "</table><p>"
      ],
      "text/plain": [
       "<IPython.core.display.HTML object>"
      ]
     },
     "metadata": {},
     "output_type": "display_data"
    },
    {
     "data": {
      "text/plain": [
       "TrainOutput(global_step=140, training_loss=0.7399235589163644, metrics={'train_runtime': 54.5713, 'train_samples_per_second': 20.524, 'train_steps_per_second': 2.565, 'total_flos': 159428855107200.0, 'train_loss': 0.7399235589163644, 'epoch': 5.0})"
      ]
     },
     "execution_count": 163,
     "metadata": {},
     "output_type": "execute_result"
    }
   ],
   "source": [
    "trainer_pubmedbert.train()"
   ]
  },
  {
   "cell_type": "markdown",
   "id": "5594bfed",
   "metadata": {},
   "source": [
    "#### 5.2.1 Save last model"
   ]
  },
  {
   "cell_type": "code",
   "execution_count": 164,
   "id": "3c1cbb46",
   "metadata": {},
   "outputs": [],
   "source": [
    "# trainer_pubmedbert.save_model('pubmedbert_model')"
   ]
  },
  {
   "cell_type": "markdown",
   "id": "9c8db9d9",
   "metadata": {},
   "source": [
    "### 5.3 Evaluate model"
   ]
  },
  {
   "cell_type": "markdown",
   "id": "1e33832b",
   "metadata": {},
   "source": [
    "#### 5.3.1 Predict training data"
   ]
  },
  {
   "cell_type": "code",
   "execution_count": 165,
   "id": "5d6b24ef",
   "metadata": {},
   "outputs": [
    {
     "data": {
      "text/html": [],
      "text/plain": [
       "<IPython.core.display.HTML object>"
      ]
     },
     "metadata": {},
     "output_type": "display_data"
    },
    {
     "name": "stdout",
     "output_type": "stream",
     "text": [
      "              precision    recall  f1-score   support\n",
      "\n",
      "           0       0.00      0.00      0.00       112\n",
      "           1       0.50      1.00      0.67       112\n",
      "\n",
      "    accuracy                           0.50       224\n",
      "   macro avg       0.25      0.50      0.33       224\n",
      "weighted avg       0.25      0.50      0.33       224\n",
      "\n"
     ]
    },
    {
     "name": "stderr",
     "output_type": "stream",
     "text": [
      "c:\\Users\\Raphael\\OneDrive\\RUB\\1_Master\\Masterarbeit\\2_Code_and_Data\\2025-07-05 - Train BERT with labeled_data\\Lib\\site-packages\\sklearn\\metrics\\_classification.py:1706: UndefinedMetricWarning: Precision is ill-defined and being set to 0.0 in labels with no predicted samples. Use `zero_division` parameter to control this behavior.\n",
      "  _warn_prf(average, modifier, f\"{metric.capitalize()} is\", result.shape[0])\n",
      "c:\\Users\\Raphael\\OneDrive\\RUB\\1_Master\\Masterarbeit\\2_Code_and_Data\\2025-07-05 - Train BERT with labeled_data\\Lib\\site-packages\\sklearn\\metrics\\_classification.py:1706: UndefinedMetricWarning: Precision is ill-defined and being set to 0.0 in labels with no predicted samples. Use `zero_division` parameter to control this behavior.\n",
      "  _warn_prf(average, modifier, f\"{metric.capitalize()} is\", result.shape[0])\n",
      "c:\\Users\\Raphael\\OneDrive\\RUB\\1_Master\\Masterarbeit\\2_Code_and_Data\\2025-07-05 - Train BERT with labeled_data\\Lib\\site-packages\\sklearn\\metrics\\_classification.py:1706: UndefinedMetricWarning: Precision is ill-defined and being set to 0.0 in labels with no predicted samples. Use `zero_division` parameter to control this behavior.\n",
      "  _warn_prf(average, modifier, f\"{metric.capitalize()} is\", result.shape[0])\n"
     ]
    }
   ],
   "source": [
    "from sklearn.metrics import classification_report\n",
    "\n",
    "preds = trainer_pubmedbert.predict(tokenized_train)\n",
    "preds = np.argmax(preds[:3][0],axis=1)\n",
    "GT = df_train['label'].tolist()\n",
    "print(classification_report(GT,preds))"
   ]
  },
  {
   "cell_type": "markdown",
   "id": "80987cf0",
   "metadata": {},
   "source": [
    "#### 5.3.2 Predict test data"
   ]
  },
  {
   "cell_type": "code",
   "execution_count": 166,
   "id": "48c9951c",
   "metadata": {},
   "outputs": [
    {
     "data": {
      "text/html": [],
      "text/plain": [
       "<IPython.core.display.HTML object>"
      ]
     },
     "metadata": {},
     "output_type": "display_data"
    },
    {
     "name": "stdout",
     "output_type": "stream",
     "text": [
      "              precision    recall  f1-score   support\n",
      "\n",
      "           0       0.00      0.00      0.00        28\n",
      "           1       0.50      1.00      0.67        28\n",
      "\n",
      "    accuracy                           0.50        56\n",
      "   macro avg       0.25      0.50      0.33        56\n",
      "weighted avg       0.25      0.50      0.33        56\n",
      "\n"
     ]
    },
    {
     "name": "stderr",
     "output_type": "stream",
     "text": [
      "c:\\Users\\Raphael\\OneDrive\\RUB\\1_Master\\Masterarbeit\\2_Code_and_Data\\2025-07-05 - Train BERT with labeled_data\\Lib\\site-packages\\sklearn\\metrics\\_classification.py:1706: UndefinedMetricWarning: Precision is ill-defined and being set to 0.0 in labels with no predicted samples. Use `zero_division` parameter to control this behavior.\n",
      "  _warn_prf(average, modifier, f\"{metric.capitalize()} is\", result.shape[0])\n",
      "c:\\Users\\Raphael\\OneDrive\\RUB\\1_Master\\Masterarbeit\\2_Code_and_Data\\2025-07-05 - Train BERT with labeled_data\\Lib\\site-packages\\sklearn\\metrics\\_classification.py:1706: UndefinedMetricWarning: Precision is ill-defined and being set to 0.0 in labels with no predicted samples. Use `zero_division` parameter to control this behavior.\n",
      "  _warn_prf(average, modifier, f\"{metric.capitalize()} is\", result.shape[0])\n",
      "c:\\Users\\Raphael\\OneDrive\\RUB\\1_Master\\Masterarbeit\\2_Code_and_Data\\2025-07-05 - Train BERT with labeled_data\\Lib\\site-packages\\sklearn\\metrics\\_classification.py:1706: UndefinedMetricWarning: Precision is ill-defined and being set to 0.0 in labels with no predicted samples. Use `zero_division` parameter to control this behavior.\n",
      "  _warn_prf(average, modifier, f\"{metric.capitalize()} is\", result.shape[0])\n"
     ]
    }
   ],
   "source": [
    "preds = trainer_pubmedbert.predict(tokenized_test)\n",
    "preds = np.argmax(preds[:3][0],axis=1) #preds[:3][1]\n",
    "GT = df_test['label'].tolist()\n",
    "print(classification_report(GT,preds))"
   ]
  },
  {
   "cell_type": "markdown",
   "id": "87531bf7",
   "metadata": {},
   "source": [
    "#### 5.3.3 Confusion-Matrix for test data"
   ]
  },
  {
   "cell_type": "code",
   "execution_count": 167,
   "id": "23150c6a",
   "metadata": {},
   "outputs": [
    {
     "data": {
      "image/png": "[encoded data removed]",
      "text/plain": [
       "<Figure size 600x500 with 2 Axes>"
      ]
     },
     "metadata": {},
     "output_type": "display_data"
    }
   ],
   "source": [
    "import seaborn as sns\n",
    "from sklearn.metrics import confusion_matrix\n",
    "\n",
    "import matplotlib.pyplot as plt\n",
    "\n",
    "# Use predictions and ground truth from previous evaluation on test set\n",
    "conf_matrix = confusion_matrix(GT, preds)\n",
    "\n",
    "plt.figure(figsize=(6,5))\n",
    "sns.heatmap(conf_matrix, annot=True, fmt='d', cmap='Blues',\n",
    "            xticklabels=[\"Predicted 0\", \"Predicted 1\"],\n",
    "            yticklabels=[\"Actual 0\", \"Actual 1\"])\n",
    "\n",
    "plt.xlabel('Predicted Label')\n",
    "plt.ylabel('True Label')\n",
    "plt.title('Confusion Matrix')\n",
    "plt.show()"
   ]
  },
  {
   "cell_type": "markdown",
   "id": "b3c7b298",
   "metadata": {},
   "source": [
    "#### 5.3.4 List of statements per category (TP, TN, FP, FN)"
   ]
  },
  {
   "cell_type": "code",
   "execution_count": 168,
   "id": "eb52ce80",
   "metadata": {},
   "outputs": [],
   "source": [
    "# Get ground truth and predictions for test set\n",
    "y_true = df_test['label'].tolist()\n",
    "y_pred = preds\n",
    "\n",
    "# True Positives: predicted 1, actual 1\n",
    "true_positives = df_test[(df_test['label'] == 1) & (y_pred == 1)]\n",
    "\n",
    "# True Negatives: predicted 0, actual 0\n",
    "true_negatives = df_test[(df_test['label'] == 0) & (y_pred == 0)]\n",
    "\n",
    "# False Positives: predicted 1, actual 0\n",
    "false_positives = df_test[(df_test['label'] == 0) & (y_pred == 1)]\n",
    "\n",
    "# False Negatives: predicted 0, actual 1\n",
    "false_negatives = df_test[(df_test['label'] == 1) & (y_pred == 0)]\n",
    "\n",
    "# Function to print statements\n",
    "import pandas as pd\n",
    "from IPython.display import display\n",
    "\n",
    "def display_statements(df, title):\n",
    "    if not df.empty:\n",
    "        print(f\"\\n{title} (count: {len(df)})\")\n",
    "        display(df[['text']].reset_index(drop=True))\n",
    "    else:\n",
    "        print(f\"\\n{title}: None\")"
   ]
  },
  {
   "cell_type": "code",
   "execution_count": 169,
   "id": "8be49625",
   "metadata": {},
   "outputs": [
    {
     "name": "stdout",
     "output_type": "stream",
     "text": [
      "\n",
      "True Positives (predicted 1, actual 1) (count: 28)\n"
     ]
    },
    {
     "data": {
      "application/vnd.microsoft.datawrangler.viewer.v0+json": {
       "columns": [
        {
         "name": "index",
         "rawType": "int64",
         "type": "integer"
        },
        {
         "name": "text",
         "rawType": "object",
         "type": "string"
        }
       ],
       "ref": "d96de74f-7483-4416-b3cf-0dcc5bd42041",
       "rows": [
        [
         "0",
         "The response latencies of the low-AQ and high-AQ groups were very similar to one another (low-AQ group: geometric mean = 17.7 s, 95% CI = [16.2, 19.3]; high-AQ group: geometric mean = 16.8 s, 95% CI = [15.7, 18.0]; b = -0.031, 95% CI = [-0.085, 0.024], p = .269), and although participants with shorter RTs were more likely to make decoy selections, b = -0.303, 95% CI = [-0.521, -0.083], p = .007, there was no association between response latency and the tendency to make consistent choices, b = -0.001, 95% CI = [-0.137, 0.135], p = .990, and controlling for response latency made very little difference to the effect of AQ group on choice consistency, b = 0.161, 95% CI = [0.013, 0.309], p = .033."
        ],
        [
         "1",
         "Risk taking did not differ between participants who received a placebo and those who received atomoxetine (b = 0.02, SE = 0.02, p = .295)."
        ],
        [
         "2",
         "Participants of the stress groups (vs. control groups) felt less positive on Day 2, F(3, 89) = 3.27, p = .025, Î· p 2 = .10, but there were no differences between the informed and uninformed stress groups, t(46) = -0.11, p = .915, d = 0.03 (see Table S1 in the Supplemental Material)."
        ],
        [
         "3",
         "There was no main effect of channel-group laterality, F(1, 45) < 0.01, p = .960, Î· p Â² < .001."
        ],
        [
         "4",
         "Distance, Ï‡ 2 (1, N = 32) = 1.52, p = .217, did not improve model fit."
        ],
        [
         "5",
         "Consistent with study hypotheses emphasizing the importance of cumulative risk, there was not a main effect of treatment condition on epigenetic age acceleration at T3 (b = 0.14, p = .25, with iPCIT coded as 0 and RAU coded as 1)."
        ],
        [
         "6",
         "There was a significant effect of feeling small on the number of coins given away in the dictator game, Wald Ï‡ 2 (1) = 4.85, p = .028, while participant sex did not predict coin allocation, Wald Ï‡ 2 (1) = .18, p = .673."
        ],
        [
         "7",
         "Paired t tests showed that only for the neutral stimuli, there was a recognition deficit for Black faces relative to White faces (an ORE), t(198) = 4.25, p < .001, Cohen's d z = 0.30, 95% CI = [0.16, 0.44], whereas the same was not true for angry faces for which the effect was even in the descriptively opposite direction, t(198) = -0.92, p = .357, Cohen's d z = -0.07."
        ],
        [
         "8",
         "The results indicate that both participants in the fearchemosignal condition (M = 46.42, SD = 9.23) and the rest-body-odor condition (M = 45.22, SD = 10.62) counted a very similar number of bluefish consuming the food morsels (W = 7,538.50, p = .273), indicating that participants in both odor conditions were similarly engaged in the task."
        ],
        [
         "9",
         "For relative changes in pupil size, we obtained a main effect of word familiarity, F(1, 19) = 4.80, p = .04, Î· p 2 = .20, OP = .55 (pseudowords: M = 5.28%, SD = 4.34; real words: M = 4.13%, SD = 3.00), but not for length, F(1, 19) = 2.67, p = .12, Î· p 2 = .12, OP = .34 (five-letter strings: M = 4.97%, SD = 3.89; three-letter strings: M = 4.44%, SD = 3.35)."
        ],
        [
         "10",
         "Follow-up analyses showed that there was no Treatment Ã— Expectancy Violation interaction in the subcentral gyrus, F(1, 76) = 0.12, p = .726, Î· p 2 < .01; TPJ, F(1, 76) = 0.27, p = .606, Î· p 2 < .01; or dlPFC, F(1, 76) = 2.30, p = .13, Î· p 2 = .03."
        ],
        [
         "11",
         "Correlations between dizygotic twins did not differ from correlations between twins and siblings-drug condemnation: Ï‡ 2 (1) = 2.93, p = .09; sociosexuality: Ï‡ 2 (1) = 5.15, p = .02; sexual-disgust sensitivity: Ï‡ 2 (1) = 0.89, p = .34."
        ],
        [
         "12",
         "Accuracy (proportion of correct responses) did not differ between the overt-attention (M = .85, SD = .13) and covert-attention (M = .86, SD = .11) blocks, F(1, 23) = 0.23, p = .636, Î· p 2 = .01."
        ],
        [
         "13",
         "Adding delay (15 s and 30 s) in the second model did not improve model fit, c 2 (1) = 0.88, p = .347, indicating that lemurs responded similarly to delay conditions."
        ],
        [
         "14",
         "There were no differences between groups in overall mean ratings of positivity in either the self or other condition, as both younger adults (self: M = 7.39, SD = 1.36; other: M = 6.79, SD = 1.61), t(94) = 3.29, p = .001, d = 0.34, 95% CI = [0.13, 0.55], and older adults (self: M = 7.46, SD = 1.27; other: M = 7.13, SD = 1.47), t(90) = 2.75, p = .007, d = 0.29, 95% CI = [0.08, 0.50], reported feeling more positive when winning credits for themselves compared with others (there was no significant interaction between groups; z = -1.596, p = .111)."
        ],
        [
         "15",
         "As in Study 1, individuals' risk and social preferences were uncorrelated (Spearman's r = .03, p = .800)."
        ],
        [
         "16",
         "First, participant height (added as a fixed factor to the intercept-only model) had no effect on aggressive behavior, Wald Ï‡ 2 (1) = 0.10, b = -0.024, SE = 0.074, 95% CI = [-0.169, 0.122], p = .749 (QICc = 166.91)."
        ],
        [
         "17",
         "When participants made large errors on previous trials, their encoding speed on subsequent trials was the same, or if anything slightly lower (Î² = -0.121, t = -1.69, p = .094, BF 10 = 0.374, Î”BIC = -1.98; see Fig."
        ],
        [
         "18",
         "As expected, prior to the intervention (at baseline: Day 0), we confirmed that the two groups experienced a similar number of intrusive memories of the film in daily life, t(50) = 0.06, p = .95 (Fig. 1a)."
        ],
        [
         "19",
         "We next focused on report error and found a main effect of sound, F(2, 84) = 11.31, p < .001, Î· p 2 = .12; there was no main effect of sound onset (during or after visual discrimination), F(1, 84) = 0.16, p = .69, Î· p 2 = .001, and there was a significant interaction, F(2, 168) = 3.39, p = .036, Î· p 2 = .04."
        ],
        [
         "20",
         "Similarly, for inverted scenes, categorization accuracy was comparable across high (M = 0.82, SD = 0.14) and low (M = 0.81, SD = 0.85) aesthetic conditions, F(1, 98) = 0.21, p = .647 (high vs. low aesthetic condition difference = .015, 95% CI = [-.051, .082])."
        ],
        [
         "21",
         "A control model additionally revealed a main effect of gender on first donations, Ï‡ 2 (1) = 7.87, p = .005, which did not interact with age, Ï‡ 2 (2) = 1.30, p = .521."
        ],
        [
         "22",
         "However, there was no performance difference between the two conditions for 4-year-olds, t(62) = 1.67, p = .10, and 3-year-olds, t(62) = 0.96, p = .34."
        ],
        [
         "23",
         "Unlike the analyses using RT on search trials as the dependent variable, there was no main effect of real-time entropy on fixation time, F(1, 22,897.2) = 1.64, p = .20, Î² = -0.006, SE = 0.005."
        ],
        [
         "24",
         "Furthermore, we found that the nudge was effective for participants who did not vote for Donald Trump in the 2016 elections, Î² = 0.0231, 95% CI = [0.079, 0.039], F(3, 32490) = 6.58, p = .003, but not for participants who did vote for Trump, Î² = 0.00376, 95% CI = [-0.013, 0.020], F(3, 15000) = 0.12, p = .653."
        ],
        [
         "25",
         "There was no difference between adults who appealed to metaphors and adults who did not, t(62) = 1.40, p = .17."
        ],
        [
         "26",
         "The third model added the remaining task variables (right-ear syllables in the nonforced condition of the dichotic-listening task, mean span in the digit-span task, imagine-to-hear errors in the source-memory task) and did not improve on the signal detection model (p = .965)."
        ],
        [
         "27",
         "There was no effect of session for bimodal bilinguals (Î² = -0.50, SE = 1.52, z = -0.33, p = .74), indicating that the increase in semantically specific manual productions in bimodal bilinguals' descriptions was not due to or primed by describing similar pictures in an earlier session in NGT (for information on the order analysis, see the Supplemental Material)."
        ]
       ],
       "shape": {
        "columns": 1,
        "rows": 28
       }
      },
      "text/html": [
       "<div>\n",
       "<style scoped>\n",
       "    .dataframe tbody tr th:only-of-type {\n",
       "        vertical-align: middle;\n",
       "    }\n",
       "\n",
       "    .dataframe tbody tr th {\n",
       "        vertical-align: top;\n",
       "    }\n",
       "\n",
       "    .dataframe thead th {\n",
       "        text-align: right;\n",
       "    }\n",
       "</style>\n",
       "<table border=\"1\" class=\"dataframe\">\n",
       "  <thead>\n",
       "    <tr style=\"text-align: right;\">\n",
       "      <th></th>\n",
       "      <th>text</th>\n",
       "    </tr>\n",
       "  </thead>\n",
       "  <tbody>\n",
       "    <tr>\n",
       "      <th>0</th>\n",
       "      <td>The response latencies of the low-AQ and high-...</td>\n",
       "    </tr>\n",
       "    <tr>\n",
       "      <th>1</th>\n",
       "      <td>Risk taking did not differ between participant...</td>\n",
       "    </tr>\n",
       "    <tr>\n",
       "      <th>2</th>\n",
       "      <td>Participants of the stress groups (vs. control...</td>\n",
       "    </tr>\n",
       "    <tr>\n",
       "      <th>3</th>\n",
       "      <td>There was no main effect of channel-group late...</td>\n",
       "    </tr>\n",
       "    <tr>\n",
       "      <th>4</th>\n",
       "      <td>Distance, Ï‡ 2 (1, N = 32) = 1.52, p = .217, d...</td>\n",
       "    </tr>\n",
       "    <tr>\n",
       "      <th>5</th>\n",
       "      <td>Consistent with study hypotheses emphasizing t...</td>\n",
       "    </tr>\n",
       "    <tr>\n",
       "      <th>6</th>\n",
       "      <td>There was a significant effect of feeling smal...</td>\n",
       "    </tr>\n",
       "    <tr>\n",
       "      <th>7</th>\n",
       "      <td>Paired t tests showed that only for the neutra...</td>\n",
       "    </tr>\n",
       "    <tr>\n",
       "      <th>8</th>\n",
       "      <td>The results indicate that both participants in...</td>\n",
       "    </tr>\n",
       "    <tr>\n",
       "      <th>9</th>\n",
       "      <td>For relative changes in pupil size, we obtaine...</td>\n",
       "    </tr>\n",
       "    <tr>\n",
       "      <th>10</th>\n",
       "      <td>Follow-up analyses showed that there was no Tr...</td>\n",
       "    </tr>\n",
       "    <tr>\n",
       "      <th>11</th>\n",
       "      <td>Correlations between dizygotic twins did not d...</td>\n",
       "    </tr>\n",
       "    <tr>\n",
       "      <th>12</th>\n",
       "      <td>Accuracy (proportion of correct responses) did...</td>\n",
       "    </tr>\n",
       "    <tr>\n",
       "      <th>13</th>\n",
       "      <td>Adding delay (15 s and 30 s) in the second mod...</td>\n",
       "    </tr>\n",
       "    <tr>\n",
       "      <th>14</th>\n",
       "      <td>There were no differences between groups in ov...</td>\n",
       "    </tr>\n",
       "    <tr>\n",
       "      <th>15</th>\n",
       "      <td>As in Study 1, individuals' risk and social pr...</td>\n",
       "    </tr>\n",
       "    <tr>\n",
       "      <th>16</th>\n",
       "      <td>First, participant height (added as a fixed fa...</td>\n",
       "    </tr>\n",
       "    <tr>\n",
       "      <th>17</th>\n",
       "      <td>When participants made large errors on previou...</td>\n",
       "    </tr>\n",
       "    <tr>\n",
       "      <th>18</th>\n",
       "      <td>As expected, prior to the intervention (at bas...</td>\n",
       "    </tr>\n",
       "    <tr>\n",
       "      <th>19</th>\n",
       "      <td>We next focused on report error and found a ma...</td>\n",
       "    </tr>\n",
       "    <tr>\n",
       "      <th>20</th>\n",
       "      <td>Similarly, for inverted scenes, categorization...</td>\n",
       "    </tr>\n",
       "    <tr>\n",
       "      <th>21</th>\n",
       "      <td>A control model additionally revealed a main e...</td>\n",
       "    </tr>\n",
       "    <tr>\n",
       "      <th>22</th>\n",
       "      <td>However, there was no performance difference b...</td>\n",
       "    </tr>\n",
       "    <tr>\n",
       "      <th>23</th>\n",
       "      <td>Unlike the analyses using RT on search trials ...</td>\n",
       "    </tr>\n",
       "    <tr>\n",
       "      <th>24</th>\n",
       "      <td>Furthermore, we found that the nudge was effec...</td>\n",
       "    </tr>\n",
       "    <tr>\n",
       "      <th>25</th>\n",
       "      <td>There was no difference between adults who app...</td>\n",
       "    </tr>\n",
       "    <tr>\n",
       "      <th>26</th>\n",
       "      <td>The third model added the remaining task varia...</td>\n",
       "    </tr>\n",
       "    <tr>\n",
       "      <th>27</th>\n",
       "      <td>There was no effect of session for bimodal bil...</td>\n",
       "    </tr>\n",
       "  </tbody>\n",
       "</table>\n",
       "</div>"
      ],
      "text/plain": [
       "                                                 text\n",
       "0   The response latencies of the low-AQ and high-...\n",
       "1   Risk taking did not differ between participant...\n",
       "2   Participants of the stress groups (vs. control...\n",
       "3   There was no main effect of channel-group late...\n",
       "4   Distance, Ï‡ 2 (1, N = 32) = 1.52, p = .217, d...\n",
       "5   Consistent with study hypotheses emphasizing t...\n",
       "6   There was a significant effect of feeling smal...\n",
       "7   Paired t tests showed that only for the neutra...\n",
       "8   The results indicate that both participants in...\n",
       "9   For relative changes in pupil size, we obtaine...\n",
       "10  Follow-up analyses showed that there was no Tr...\n",
       "11  Correlations between dizygotic twins did not d...\n",
       "12  Accuracy (proportion of correct responses) did...\n",
       "13  Adding delay (15 s and 30 s) in the second mod...\n",
       "14  There were no differences between groups in ov...\n",
       "15  As in Study 1, individuals' risk and social pr...\n",
       "16  First, participant height (added as a fixed fa...\n",
       "17  When participants made large errors on previou...\n",
       "18  As expected, prior to the intervention (at bas...\n",
       "19  We next focused on report error and found a ma...\n",
       "20  Similarly, for inverted scenes, categorization...\n",
       "21  A control model additionally revealed a main e...\n",
       "22  However, there was no performance difference b...\n",
       "23  Unlike the analyses using RT on search trials ...\n",
       "24  Furthermore, we found that the nudge was effec...\n",
       "25  There was no difference between adults who app...\n",
       "26  The third model added the remaining task varia...\n",
       "27  There was no effect of session for bimodal bil..."
      ]
     },
     "metadata": {},
     "output_type": "display_data"
    }
   ],
   "source": [
    "display_statements(true_positives, \"True Positives (predicted 1, actual 1)\")"
   ]
  },
  {
   "cell_type": "code",
   "execution_count": 170,
   "id": "e5705a94",
   "metadata": {},
   "outputs": [
    {
     "name": "stdout",
     "output_type": "stream",
     "text": [
      "\n",
      "True Negatives (predicted 0, actual 0): None\n"
     ]
    }
   ],
   "source": [
    "display_statements(true_negatives, \"True Negatives (predicted 0, actual 0)\")"
   ]
  },
  {
   "cell_type": "code",
   "execution_count": 171,
   "id": "34204718",
   "metadata": {},
   "outputs": [
    {
     "name": "stdout",
     "output_type": "stream",
     "text": [
      "\n",
      "False Positives (predicted 1, actual 0) (count: 28)\n"
     ]
    },
    {
     "data": {
      "application/vnd.microsoft.datawrangler.viewer.v0+json": {
       "columns": [
        {
         "name": "index",
         "rawType": "int64",
         "type": "integer"
        },
        {
         "name": "text",
         "rawType": "object",
         "type": "string"
        }
       ],
       "ref": "eff60297-b4a0-4e73-8a1e-c4bb76cd3e3c",
       "rows": [
        [
         "0",
         "Although the PTSD group showed a significant facilitation effect (M = 5.9%), F(1, 15) = 7.525, p = .015, Î· p 2 = .334, and the control group did not (M = 2.8%, n.s.), there was no significant group difference in facilitation, F(1, 30) = 1.215, p = .279, Î· p 2 = .039 (Fig. 3a)."
        ],
        [
         "1",
         "Overall, RT was on average slower when sounds were played during the continuous report phase compared with the visual discrimination phase, but this difference in RT (i.e., having target images with lower levels of noise) was not statistically significant, t(84) = 1.58, p = .12, Cohen's d z = 0.17, 95% CI = [-0.817, 0.475], BF 01 = 2.55, and the numerical difference in RT did not lead to a significant difference in report error across sound-onset conditions (Ms = 7.38 vs. 7.54), t(84) = 0.62, p = .54, Cohen's d z = 0.06, 95% CI = [-0.85, 0.725], BF 01 = 6.94."
        ],
        [
         "2",
         "We found a significant main effect of outcome, F(1, 37) = 6.72, p = .014, Î· p 2 = .154, but no main effect of frequency, F(1, 37) = 0.03, p = .858, Î· p 2 = .001."
        ],
        [
         "3",
         "The percentage of children who waited for the full 15-min period was not significantly different between these conditions (40% in the aware condition; 33% in the unaware/additional rewards condition; Mann-Whitney U test: Z = -0.53, p = .595), and a Mantel-Cox log rank test also indicated no difference between the conditions, Ï‡ 2 (1, N = 60) = 0.41, p = .525."
        ],
        [
         "4",
         "Results revealed no significant relationship between age and enjoyment (Î² = -0.02, SE = 0.03, p = .576)."
        ],
        [
         "5",
         "Conversely, the interaction between KoR and SOC was nonsignificant in older adults' RTs, F(1, 49) = 0.00, p = .949, Î· p 2 = .000, but significant in older adults' accuracy, F(1, 49) = 9.07, p = .004, Î· p 2 = .156."
        ],
        [
         "6",
         "Participants in the ultimatum game were nonsignificantly less self-biased compared with participants in the dictator game in Study 1, and significantly so in Study 2, which was better powered to detect effects (Study 1: b game = 0.968, SE = 1.467, z = 0.660, two-tailed p = .509, r = .258, 95% CI = [-.465, .727]; Study 2: b game = 0.917, SE = 0.417, z = 2.202, preregistered one-tailed p = .014, r = .245, 95% CI = [.028, .431])."
        ],
        [
         "7",
         "The dyslexia (M = .87, SD = .05) and control (M = .88, SD = .04) groups did not significantly differ in their ability to discriminate sounds before category training, t(53) = 0.90, p = .37, d = 0.24."
        ],
        [
         "8",
         "For the recognition data, the NHST analysis showed no significant effects of state of mind on any of the measures of correct or false memories (lowest p = .077)."
        ],
        [
         "9",
         "In the current meta-analysis, however, there were no significant subgroup differences between preregistered and nonpreregistered experiments related to perceived scientific consensus, Q(1) = 2.95, p = .086, and factual beliefs, Q(1) = 1.45, p = .229."
        ],
        [
         "10",
         "When we compared directly, we found that in neither duration condition did participants show a significant bias for foreground targets-250 ms: t(47) = 0.636, p = .528, d = 0.14; 330 ms: t(47) = -1.50, p = .14, d = -0.32."
        ],
        [
         "11",
         "Here, too, the interaction effects were nonsignificant-perceived scientific consensus: b = -1.68, t(20) = -0.53, p = .600; factual beliefs: b = -0.95, t(23) = -0.90, p = .378."
        ],
        [
         "12",
         "In all these models, women were more likely to report higher fear intensity compared with men (Model 1a: Î² = 1.08, SE = 0.55, p = .054; Model 2a: Î² = 1.04, SE = 0.53, p = .051; Model 3a: Î² = 1.31, SE = 0.50, p = .011), whereas motivation (Model 1a: p = .158, Model 2a: p = .102, Model 3a: p = .090) and age (Model 1a: p = .680, Model 2a: p = .352, Model 3a: p = .117) showed no significant effects."
        ],
        [
         "13",
         "Withinpair linear regressions in identical twin pairs showed no significant effect of age of onset of musical training on musical aptitude (Î² = 0.00, p = .93)."
        ],
        [
         "14",
         "There was not a significant difference between the high-pitch and low-pitch conditions, t(27) = 1.03, p = .31, Cohen's d = 0.19, Bonferroni corrected."
        ],
        [
         "15",
         "There was no significant Visual Cue Ã— Valence interaction, z = 0.75, exp(b) = 1.17, 95% CI = [0.78, 1.74], p = .450, or Visual Cue Ã— Neutral interaction, z = -1.18, exp(b) = 0.81, 95% CI = [0.58, 1.15], p = .239."
        ],
        [
         "16",
         "The moderator tests were nonsignificant for both perceived scientific consensus, b = -0.13, t(23) = -0.17, p = .870, and factual beliefs, b = -0.02, t(26) = -0.07, p = .943."
        ],
        [
         "17",
         "The three-way Configuration Ã— Decoy Ã— Choice interaction in a log linear analysis was nonsignificant, Ï‡ 2 (1, N = 768) = 2.85, p = .09."
        ],
        [
         "18",
         "Finally, we added relative height as a fixed factor to the intercept-only model, which showed that there was no significant relationship between relative height and coins kept for self in the ultimatum game, Wald Ï‡ 2 (1) = 0.42, b = 0.001, SE = 0.002, 95% CI = [-0.002, 0.005], p = .519 (QICc = 23.58)."
        ],
        [
         "19",
         "The interaction between familiarity and length was nonsignificant as well, F(1, 19) = 0.30, p = .59, Î· p 2 = .02, OP = .08 (Table 2)."
        ],
        [
         "20",
         "The main effect of congruence did not reach significance in Experiment 2 (p = .09; see Table 3)."
        ],
        [
         "21",
         "Congruent and incongruent negative evaluations did not differ significantly (p = .230)."
        ],
        [
         "22",
         "The effect of ValenceDiff varied significantly over domains in the CloudResearch sample, Ï‡ 2 (3) = 20.31, p < .001, but not in the student sample, Ï‡ 2 (3) = 2.04, p = .564."
        ],
        [
         "23",
         "Additionally, feeling small (added as a fixed factor to the interceptonly model) was not significantly related to behavior in the hot-sauce task, Wald Ï‡ 2 (1) = 0.63, b = -0.020, SE = 0.078, 95% CI = [-0.172, 0.133], p = .802 (QICc = 166.94)."
        ],
        [
         "24",
         "Regarding the main effect of task, smaller P1 amplitudes were found in the emotion task compared with the perceptual task (p = .038) and the age task (p = .002); the latter two did not differ significantly in amplitude from each other (p = .674)."
        ],
        [
         "25",
         "Indeed, there was no significant difference in accuracy between finding the longest line across the two experiments, t(72) = 1.91, p = .23, or for finding the shortest line, t(72) = 0.479, p = .96."
        ],
        [
         "26",
         "Similarly, within-pair analyses in identical pairs showed no significant effect of age of onset before the age of 8 years versus age of onset at age 8 years or later on musical aptitude (Î² = 0.02, p = .66; Î² = 0.03, p = .60 when analyses controlled for total practice)."
        ],
        [
         "27",
         "For the mid-scale questions, we found no difference between the self-and agreeingperspective conditions (d = 0.05, p = .39), whereas the benefit of averaging was again higher for participants in the disagreeing-perspective condition compared with the self-perspective (d = 0.28, p < .001) and agreeingperspective (d = 0.24, p < .001) conditions."
        ]
       ],
       "shape": {
        "columns": 1,
        "rows": 28
       }
      },
      "text/html": [
       "<div>\n",
       "<style scoped>\n",
       "    .dataframe tbody tr th:only-of-type {\n",
       "        vertical-align: middle;\n",
       "    }\n",
       "\n",
       "    .dataframe tbody tr th {\n",
       "        vertical-align: top;\n",
       "    }\n",
       "\n",
       "    .dataframe thead th {\n",
       "        text-align: right;\n",
       "    }\n",
       "</style>\n",
       "<table border=\"1\" class=\"dataframe\">\n",
       "  <thead>\n",
       "    <tr style=\"text-align: right;\">\n",
       "      <th></th>\n",
       "      <th>text</th>\n",
       "    </tr>\n",
       "  </thead>\n",
       "  <tbody>\n",
       "    <tr>\n",
       "      <th>0</th>\n",
       "      <td>Although the PTSD group showed a significant f...</td>\n",
       "    </tr>\n",
       "    <tr>\n",
       "      <th>1</th>\n",
       "      <td>Overall, RT was on average slower when sounds ...</td>\n",
       "    </tr>\n",
       "    <tr>\n",
       "      <th>2</th>\n",
       "      <td>We found a significant main effect of outcome,...</td>\n",
       "    </tr>\n",
       "    <tr>\n",
       "      <th>3</th>\n",
       "      <td>The percentage of children who waited for the ...</td>\n",
       "    </tr>\n",
       "    <tr>\n",
       "      <th>4</th>\n",
       "      <td>Results revealed no significant relationship b...</td>\n",
       "    </tr>\n",
       "    <tr>\n",
       "      <th>5</th>\n",
       "      <td>Conversely, the interaction between KoR and SO...</td>\n",
       "    </tr>\n",
       "    <tr>\n",
       "      <th>6</th>\n",
       "      <td>Participants in the ultimatum game were nonsig...</td>\n",
       "    </tr>\n",
       "    <tr>\n",
       "      <th>7</th>\n",
       "      <td>The dyslexia (M = .87, SD = .05) and control (...</td>\n",
       "    </tr>\n",
       "    <tr>\n",
       "      <th>8</th>\n",
       "      <td>For the recognition data, the NHST analysis sh...</td>\n",
       "    </tr>\n",
       "    <tr>\n",
       "      <th>9</th>\n",
       "      <td>In the current meta-analysis, however, there w...</td>\n",
       "    </tr>\n",
       "    <tr>\n",
       "      <th>10</th>\n",
       "      <td>When we compared directly, we found that in ne...</td>\n",
       "    </tr>\n",
       "    <tr>\n",
       "      <th>11</th>\n",
       "      <td>Here, too, the interaction effects were nonsig...</td>\n",
       "    </tr>\n",
       "    <tr>\n",
       "      <th>12</th>\n",
       "      <td>In all these models, women were more likely to...</td>\n",
       "    </tr>\n",
       "    <tr>\n",
       "      <th>13</th>\n",
       "      <td>Withinpair linear regressions in identical twi...</td>\n",
       "    </tr>\n",
       "    <tr>\n",
       "      <th>14</th>\n",
       "      <td>There was not a significant difference between...</td>\n",
       "    </tr>\n",
       "    <tr>\n",
       "      <th>15</th>\n",
       "      <td>There was no significant Visual Cue Ã— Valence...</td>\n",
       "    </tr>\n",
       "    <tr>\n",
       "      <th>16</th>\n",
       "      <td>The moderator tests were nonsignificant for bo...</td>\n",
       "    </tr>\n",
       "    <tr>\n",
       "      <th>17</th>\n",
       "      <td>The three-way Configuration Ã— Decoy Ã— Choice...</td>\n",
       "    </tr>\n",
       "    <tr>\n",
       "      <th>18</th>\n",
       "      <td>Finally, we added relative height as a fixed f...</td>\n",
       "    </tr>\n",
       "    <tr>\n",
       "      <th>19</th>\n",
       "      <td>The interaction between familiarity and length...</td>\n",
       "    </tr>\n",
       "    <tr>\n",
       "      <th>20</th>\n",
       "      <td>The main effect of congruence did not reach si...</td>\n",
       "    </tr>\n",
       "    <tr>\n",
       "      <th>21</th>\n",
       "      <td>Congruent and incongruent negative evaluations...</td>\n",
       "    </tr>\n",
       "    <tr>\n",
       "      <th>22</th>\n",
       "      <td>The effect of ValenceDiff varied significantly...</td>\n",
       "    </tr>\n",
       "    <tr>\n",
       "      <th>23</th>\n",
       "      <td>Additionally, feeling small (added as a fixed ...</td>\n",
       "    </tr>\n",
       "    <tr>\n",
       "      <th>24</th>\n",
       "      <td>Regarding the main effect of task, smaller P1 ...</td>\n",
       "    </tr>\n",
       "    <tr>\n",
       "      <th>25</th>\n",
       "      <td>Indeed, there was no significant difference in...</td>\n",
       "    </tr>\n",
       "    <tr>\n",
       "      <th>26</th>\n",
       "      <td>Similarly, within-pair analyses in identical p...</td>\n",
       "    </tr>\n",
       "    <tr>\n",
       "      <th>27</th>\n",
       "      <td>For the mid-scale questions, we found no diffe...</td>\n",
       "    </tr>\n",
       "  </tbody>\n",
       "</table>\n",
       "</div>"
      ],
      "text/plain": [
       "                                                 text\n",
       "0   Although the PTSD group showed a significant f...\n",
       "1   Overall, RT was on average slower when sounds ...\n",
       "2   We found a significant main effect of outcome,...\n",
       "3   The percentage of children who waited for the ...\n",
       "4   Results revealed no significant relationship b...\n",
       "5   Conversely, the interaction between KoR and SO...\n",
       "6   Participants in the ultimatum game were nonsig...\n",
       "7   The dyslexia (M = .87, SD = .05) and control (...\n",
       "8   For the recognition data, the NHST analysis sh...\n",
       "9   In the current meta-analysis, however, there w...\n",
       "10  When we compared directly, we found that in ne...\n",
       "11  Here, too, the interaction effects were nonsig...\n",
       "12  In all these models, women were more likely to...\n",
       "13  Withinpair linear regressions in identical twi...\n",
       "14  There was not a significant difference between...\n",
       "15  There was no significant Visual Cue Ã— Valence...\n",
       "16  The moderator tests were nonsignificant for bo...\n",
       "17  The three-way Configuration Ã— Decoy Ã— Choice...\n",
       "18  Finally, we added relative height as a fixed f...\n",
       "19  The interaction between familiarity and length...\n",
       "20  The main effect of congruence did not reach si...\n",
       "21  Congruent and incongruent negative evaluations...\n",
       "22  The effect of ValenceDiff varied significantly...\n",
       "23  Additionally, feeling small (added as a fixed ...\n",
       "24  Regarding the main effect of task, smaller P1 ...\n",
       "25  Indeed, there was no significant difference in...\n",
       "26  Similarly, within-pair analyses in identical p...\n",
       "27  For the mid-scale questions, we found no diffe..."
      ]
     },
     "metadata": {},
     "output_type": "display_data"
    }
   ],
   "source": [
    "display_statements(false_positives, \"False Positives (predicted 1, actual 0)\")"
   ]
  },
  {
   "cell_type": "code",
   "execution_count": 172,
   "id": "060b85af",
   "metadata": {},
   "outputs": [
    {
     "name": "stdout",
     "output_type": "stream",
     "text": [
      "\n",
      "False Negatives (predicted 0, actual 1): None\n"
     ]
    }
   ],
   "source": [
    "display_statements(false_negatives, \"False Negatives (predicted 0, actual 1)\")"
   ]
  },
  {
   "cell_type": "code",
   "execution_count": null,
   "id": "56e5e265",
   "metadata": {},
   "outputs": [],
   "source": [
    "# The end..."
   ]
  }
 ],
 "metadata": {
  "kernelspec": {
   "display_name": "2025-07-05 - Train BERT with labeled_data",
   "language": "python",
   "name": "python3"
  },
  "language_info": {
   "codemirror_mode": {
    "name": "ipython",
    "version": 3
   },
   "file_extension": ".py",
   "mimetype": "text/x-python",
   "name": "python",
   "nbconvert_exporter": "python",
   "pygments_lexer": "ipython3",
   "version": "3.12.10"
  }
 },
 "nbformat": 4,
 "nbformat_minor": 5
}
