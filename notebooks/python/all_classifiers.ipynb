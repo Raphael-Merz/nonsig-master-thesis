{
 "cells": [
  {
   "cell_type": "markdown",
   "id": "5e0f8a44",
   "metadata": {},
   "source": [
    "# Training BERT, SciBERT and PubMedBERT"
   ]
  },
  {
   "cell_type": "markdown",
   "id": "ef72840b",
   "metadata": {},
   "source": [
    "## 0. Setup"
   ]
  },
  {
   "cell_type": "markdown",
   "id": "32992dd0",
   "metadata": {},
   "source": [
    "### 0.1 Install libraries"
   ]
  },
  {
   "cell_type": "code",
   "execution_count": 2,
   "id": "da13a949",
   "metadata": {},
   "outputs": [
    {
     "name": "stdout",
     "output_type": "stream",
     "text": [
      "Requirement already satisfied: absl-py==2.3.1 in c:\\users\\raphael\\documents\\github\\nonsig-master-thesis\\venv\\lib\\site-packages (from -r requirements.txt (line 1)) (2.3.1)\n",
      "Requirement already satisfied: accelerate==1.8.1 in c:\\users\\raphael\\documents\\github\\nonsig-master-thesis\\venv\\lib\\site-packages (from -r requirements.txt (line 2)) (1.8.1)\n",
      "Requirement already satisfied: aiohappyeyeballs==2.6.1 in c:\\users\\raphael\\documents\\github\\nonsig-master-thesis\\venv\\lib\\site-packages (from -r requirements.txt (line 3)) (2.6.1)\n",
      "Requirement already satisfied: aiohttp==3.12.13 in c:\\users\\raphael\\documents\\github\\nonsig-master-thesis\\venv\\lib\\site-packages (from -r requirements.txt (line 4)) (3.12.13)\n",
      "Requirement already satisfied: aiosignal==1.4.0 in c:\\users\\raphael\\documents\\github\\nonsig-master-thesis\\venv\\lib\\site-packages (from -r requirements.txt (line 5)) (1.4.0)\n",
      "Requirement already satisfied: asttokens==3.0.0 in c:\\users\\raphael\\documents\\github\\nonsig-master-thesis\\venv\\lib\\site-packages (from -r requirements.txt (line 6)) (3.0.0)\n",
      "Requirement already satisfied: astunparse==1.6.3 in c:\\users\\raphael\\documents\\github\\nonsig-master-thesis\\venv\\lib\\site-packages (from -r requirements.txt (line 7)) (1.6.3)\n",
      "Requirement already satisfied: attrs==25.3.0 in c:\\users\\raphael\\documents\\github\\nonsig-master-thesis\\venv\\lib\\site-packages (from -r requirements.txt (line 8)) (25.3.0)\n",
      "Requirement already satisfied: certifi==2025.6.15 in c:\\users\\raphael\\documents\\github\\nonsig-master-thesis\\venv\\lib\\site-packages (from -r requirements.txt (line 9)) (2025.6.15)\n",
      "Requirement already satisfied: charset-normalizer==3.4.2 in c:\\users\\raphael\\documents\\github\\nonsig-master-thesis\\venv\\lib\\site-packages (from -r requirements.txt (line 10)) (3.4.2)\n",
      "Requirement already satisfied: colorama==0.4.6 in c:\\users\\raphael\\documents\\github\\nonsig-master-thesis\\venv\\lib\\site-packages (from -r requirements.txt (line 11)) (0.4.6)\n",
      "Requirement already satisfied: comm==0.2.2 in c:\\users\\raphael\\documents\\github\\nonsig-master-thesis\\venv\\lib\\site-packages (from -r requirements.txt (line 12)) (0.2.2)\n",
      "Requirement already satisfied: contourpy==1.3.2 in c:\\users\\raphael\\documents\\github\\nonsig-master-thesis\\venv\\lib\\site-packages (from -r requirements.txt (line 13)) (1.3.2)\n",
      "Requirement already satisfied: cycler==0.12.1 in c:\\users\\raphael\\documents\\github\\nonsig-master-thesis\\venv\\lib\\site-packages (from -r requirements.txt (line 14)) (0.12.1)\n",
      "Requirement already satisfied: datasets==3.6.0 in c:\\users\\raphael\\documents\\github\\nonsig-master-thesis\\venv\\lib\\site-packages (from -r requirements.txt (line 15)) (3.6.0)\n",
      "Requirement already satisfied: debugpy==1.8.14 in c:\\users\\raphael\\documents\\github\\nonsig-master-thesis\\venv\\lib\\site-packages (from -r requirements.txt (line 16)) (1.8.14)\n",
      "Requirement already satisfied: decorator==5.2.1 in c:\\users\\raphael\\documents\\github\\nonsig-master-thesis\\venv\\lib\\site-packages (from -r requirements.txt (line 17)) (5.2.1)\n",
      "Requirement already satisfied: dill==0.3.8 in c:\\users\\raphael\\documents\\github\\nonsig-master-thesis\\venv\\lib\\site-packages (from -r requirements.txt (line 18)) (0.3.8)\n",
      "Requirement already satisfied: et_xmlfile==2.0.0 in c:\\users\\raphael\\documents\\github\\nonsig-master-thesis\\venv\\lib\\site-packages (from -r requirements.txt (line 19)) (2.0.0)\n",
      "Requirement already satisfied: evaluate==0.4.4 in c:\\users\\raphael\\documents\\github\\nonsig-master-thesis\\venv\\lib\\site-packages (from -r requirements.txt (line 20)) (0.4.4)\n",
      "Requirement already satisfied: executing==2.2.0 in c:\\users\\raphael\\documents\\github\\nonsig-master-thesis\\venv\\lib\\site-packages (from -r requirements.txt (line 21)) (2.2.0)\n",
      "Requirement already satisfied: filelock==3.18.0 in c:\\users\\raphael\\documents\\github\\nonsig-master-thesis\\venv\\lib\\site-packages (from -r requirements.txt (line 22)) (3.18.0)\n",
      "Requirement already satisfied: flatbuffers==25.2.10 in c:\\users\\raphael\\documents\\github\\nonsig-master-thesis\\venv\\lib\\site-packages (from -r requirements.txt (line 23)) (25.2.10)\n",
      "Requirement already satisfied: fonttools==4.58.5 in c:\\users\\raphael\\documents\\github\\nonsig-master-thesis\\venv\\lib\\site-packages (from -r requirements.txt (line 24)) (4.58.5)\n",
      "Requirement already satisfied: frozenlist==1.7.0 in c:\\users\\raphael\\documents\\github\\nonsig-master-thesis\\venv\\lib\\site-packages (from -r requirements.txt (line 25)) (1.7.0)\n",
      "Requirement already satisfied: fsspec==2025.3.0 in c:\\users\\raphael\\documents\\github\\nonsig-master-thesis\\venv\\lib\\site-packages (from -r requirements.txt (line 26)) (2025.3.0)\n",
      "Requirement already satisfied: gast==0.6.0 in c:\\users\\raphael\\documents\\github\\nonsig-master-thesis\\venv\\lib\\site-packages (from -r requirements.txt (line 27)) (0.6.0)\n",
      "Requirement already satisfied: google-pasta==0.2.0 in c:\\users\\raphael\\documents\\github\\nonsig-master-thesis\\venv\\lib\\site-packages (from -r requirements.txt (line 28)) (0.2.0)\n",
      "Requirement already satisfied: grpcio==1.73.1 in c:\\users\\raphael\\documents\\github\\nonsig-master-thesis\\venv\\lib\\site-packages (from -r requirements.txt (line 29)) (1.73.1)\n",
      "Requirement already satisfied: h5py==3.14.0 in c:\\users\\raphael\\documents\\github\\nonsig-master-thesis\\venv\\lib\\site-packages (from -r requirements.txt (line 30)) (3.14.0)\n",
      "Requirement already satisfied: huggingface-hub==0.33.2 in c:\\users\\raphael\\documents\\github\\nonsig-master-thesis\\venv\\lib\\site-packages (from -r requirements.txt (line 31)) (0.33.2)\n",
      "Requirement already satisfied: idna==3.10 in c:\\users\\raphael\\documents\\github\\nonsig-master-thesis\\venv\\lib\\site-packages (from -r requirements.txt (line 32)) (3.10)\n",
      "Requirement already satisfied: ipykernel==6.29.5 in c:\\users\\raphael\\documents\\github\\nonsig-master-thesis\\venv\\lib\\site-packages (from -r requirements.txt (line 33)) (6.29.5)\n",
      "Requirement already satisfied: ipython==9.4.0 in c:\\users\\raphael\\documents\\github\\nonsig-master-thesis\\venv\\lib\\site-packages (from -r requirements.txt (line 34)) (9.4.0)\n",
      "Requirement already satisfied: ipython_pygments_lexers==1.1.1 in c:\\users\\raphael\\documents\\github\\nonsig-master-thesis\\venv\\lib\\site-packages (from -r requirements.txt (line 35)) (1.1.1)\n",
      "Requirement already satisfied: jedi==0.19.2 in c:\\users\\raphael\\documents\\github\\nonsig-master-thesis\\venv\\lib\\site-packages (from -r requirements.txt (line 36)) (0.19.2)\n",
      "Requirement already satisfied: Jinja2==3.1.6 in c:\\users\\raphael\\documents\\github\\nonsig-master-thesis\\venv\\lib\\site-packages (from -r requirements.txt (line 37)) (3.1.6)\n",
      "Requirement already satisfied: joblib==1.5.1 in c:\\users\\raphael\\documents\\github\\nonsig-master-thesis\\venv\\lib\\site-packages (from -r requirements.txt (line 38)) (1.5.1)\n",
      "Requirement already satisfied: jupyter_client==8.6.3 in c:\\users\\raphael\\documents\\github\\nonsig-master-thesis\\venv\\lib\\site-packages (from -r requirements.txt (line 39)) (8.6.3)\n",
      "Requirement already satisfied: jupyter_core==5.8.1 in c:\\users\\raphael\\documents\\github\\nonsig-master-thesis\\venv\\lib\\site-packages (from -r requirements.txt (line 40)) (5.8.1)\n",
      "Requirement already satisfied: keras==3.10.0 in c:\\users\\raphael\\documents\\github\\nonsig-master-thesis\\venv\\lib\\site-packages (from -r requirements.txt (line 41)) (3.10.0)\n",
      "Requirement already satisfied: kiwisolver==1.4.8 in c:\\users\\raphael\\documents\\github\\nonsig-master-thesis\\venv\\lib\\site-packages (from -r requirements.txt (line 42)) (1.4.8)\n",
      "Requirement already satisfied: libclang==18.1.1 in c:\\users\\raphael\\documents\\github\\nonsig-master-thesis\\venv\\lib\\site-packages (from -r requirements.txt (line 43)) (18.1.1)\n",
      "Requirement already satisfied: Markdown==3.8.2 in c:\\users\\raphael\\documents\\github\\nonsig-master-thesis\\venv\\lib\\site-packages (from -r requirements.txt (line 44)) (3.8.2)\n",
      "Requirement already satisfied: markdown-it-py==3.0.0 in c:\\users\\raphael\\documents\\github\\nonsig-master-thesis\\venv\\lib\\site-packages (from -r requirements.txt (line 45)) (3.0.0)\n",
      "Requirement already satisfied: MarkupSafe==3.0.2 in c:\\users\\raphael\\documents\\github\\nonsig-master-thesis\\venv\\lib\\site-packages (from -r requirements.txt (line 46)) (3.0.2)\n",
      "Requirement already satisfied: matplotlib==3.10.3 in c:\\users\\raphael\\documents\\github\\nonsig-master-thesis\\venv\\lib\\site-packages (from -r requirements.txt (line 47)) (3.10.3)\n",
      "Requirement already satisfied: matplotlib-inline==0.1.7 in c:\\users\\raphael\\documents\\github\\nonsig-master-thesis\\venv\\lib\\site-packages (from -r requirements.txt (line 48)) (0.1.7)\n",
      "Requirement already satisfied: mdurl==0.1.2 in c:\\users\\raphael\\documents\\github\\nonsig-master-thesis\\venv\\lib\\site-packages (from -r requirements.txt (line 49)) (0.1.2)\n",
      "Requirement already satisfied: ml_dtypes==0.5.1 in c:\\users\\raphael\\documents\\github\\nonsig-master-thesis\\venv\\lib\\site-packages (from -r requirements.txt (line 50)) (0.5.1)\n",
      "Requirement already satisfied: mpmath==1.3.0 in c:\\users\\raphael\\documents\\github\\nonsig-master-thesis\\venv\\lib\\site-packages (from -r requirements.txt (line 51)) (1.3.0)\n",
      "Requirement already satisfied: multidict==6.6.3 in c:\\users\\raphael\\documents\\github\\nonsig-master-thesis\\venv\\lib\\site-packages (from -r requirements.txt (line 52)) (6.6.3)\n",
      "Requirement already satisfied: multiprocess==0.70.16 in c:\\users\\raphael\\documents\\github\\nonsig-master-thesis\\venv\\lib\\site-packages (from -r requirements.txt (line 53)) (0.70.16)\n",
      "Requirement already satisfied: namex==0.1.0 in c:\\users\\raphael\\documents\\github\\nonsig-master-thesis\\venv\\lib\\site-packages (from -r requirements.txt (line 54)) (0.1.0)\n",
      "Requirement already satisfied: nest-asyncio==1.6.0 in c:\\users\\raphael\\documents\\github\\nonsig-master-thesis\\venv\\lib\\site-packages (from -r requirements.txt (line 55)) (1.6.0)\n",
      "Requirement already satisfied: networkx==3.5 in c:\\users\\raphael\\documents\\github\\nonsig-master-thesis\\venv\\lib\\site-packages (from -r requirements.txt (line 56)) (3.5)\n",
      "Requirement already satisfied: numpy==2.1.3 in c:\\users\\raphael\\documents\\github\\nonsig-master-thesis\\venv\\lib\\site-packages (from -r requirements.txt (line 57)) (2.1.3)\n",
      "Requirement already satisfied: openpyxl==3.1.5 in c:\\users\\raphael\\documents\\github\\nonsig-master-thesis\\venv\\lib\\site-packages (from -r requirements.txt (line 58)) (3.1.5)\n",
      "Requirement already satisfied: opt_einsum==3.4.0 in c:\\users\\raphael\\documents\\github\\nonsig-master-thesis\\venv\\lib\\site-packages (from -r requirements.txt (line 59)) (3.4.0)\n",
      "Requirement already satisfied: optree==0.16.0 in c:\\users\\raphael\\documents\\github\\nonsig-master-thesis\\venv\\lib\\site-packages (from -r requirements.txt (line 60)) (0.16.0)\n",
      "Requirement already satisfied: packaging==25.0 in c:\\users\\raphael\\documents\\github\\nonsig-master-thesis\\venv\\lib\\site-packages (from -r requirements.txt (line 61)) (25.0)\n",
      "Requirement already satisfied: pandas==2.3.1 in c:\\users\\raphael\\documents\\github\\nonsig-master-thesis\\venv\\lib\\site-packages (from -r requirements.txt (line 62)) (2.3.1)\n",
      "Requirement already satisfied: parso==0.8.4 in c:\\users\\raphael\\documents\\github\\nonsig-master-thesis\\venv\\lib\\site-packages (from -r requirements.txt (line 63)) (0.8.4)\n",
      "Requirement already satisfied: pillow==11.3.0 in c:\\users\\raphael\\documents\\github\\nonsig-master-thesis\\venv\\lib\\site-packages (from -r requirements.txt (line 64)) (11.3.0)\n",
      "Requirement already satisfied: platformdirs==4.3.8 in c:\\users\\raphael\\documents\\github\\nonsig-master-thesis\\venv\\lib\\site-packages (from -r requirements.txt (line 65)) (4.3.8)\n",
      "Requirement already satisfied: prompt_toolkit==3.0.51 in c:\\users\\raphael\\documents\\github\\nonsig-master-thesis\\venv\\lib\\site-packages (from -r requirements.txt (line 66)) (3.0.51)\n",
      "Requirement already satisfied: propcache==0.3.2 in c:\\users\\raphael\\documents\\github\\nonsig-master-thesis\\venv\\lib\\site-packages (from -r requirements.txt (line 67)) (0.3.2)\n",
      "Requirement already satisfied: protobuf==5.29.5 in c:\\users\\raphael\\documents\\github\\nonsig-master-thesis\\venv\\lib\\site-packages (from -r requirements.txt (line 68)) (5.29.5)\n",
      "Requirement already satisfied: psutil==7.0.0 in c:\\users\\raphael\\documents\\github\\nonsig-master-thesis\\venv\\lib\\site-packages (from -r requirements.txt (line 69)) (7.0.0)\n",
      "Requirement already satisfied: pure_eval==0.2.3 in c:\\users\\raphael\\documents\\github\\nonsig-master-thesis\\venv\\lib\\site-packages (from -r requirements.txt (line 70)) (0.2.3)\n",
      "Requirement already satisfied: pyarrow==20.0.0 in c:\\users\\raphael\\documents\\github\\nonsig-master-thesis\\venv\\lib\\site-packages (from -r requirements.txt (line 71)) (20.0.0)\n",
      "Requirement already satisfied: Pygments==2.19.2 in c:\\users\\raphael\\documents\\github\\nonsig-master-thesis\\venv\\lib\\site-packages (from -r requirements.txt (line 72)) (2.19.2)\n",
      "Requirement already satisfied: pyparsing==3.2.3 in c:\\users\\raphael\\documents\\github\\nonsig-master-thesis\\venv\\lib\\site-packages (from -r requirements.txt (line 73)) (3.2.3)\n",
      "Requirement already satisfied: python-dateutil==2.9.0.post0 in c:\\users\\raphael\\documents\\github\\nonsig-master-thesis\\venv\\lib\\site-packages (from -r requirements.txt (line 74)) (2.9.0.post0)\n",
      "Requirement already satisfied: pytz==2025.2 in c:\\users\\raphael\\documents\\github\\nonsig-master-thesis\\venv\\lib\\site-packages (from -r requirements.txt (line 75)) (2025.2)\n",
      "Requirement already satisfied: pywin32==310 in c:\\users\\raphael\\documents\\github\\nonsig-master-thesis\\venv\\lib\\site-packages (from -r requirements.txt (line 76)) (310)\n",
      "Requirement already satisfied: PyYAML==6.0.2 in c:\\users\\raphael\\documents\\github\\nonsig-master-thesis\\venv\\lib\\site-packages (from -r requirements.txt (line 77)) (6.0.2)\n",
      "Requirement already satisfied: pyzmq==27.0.0 in c:\\users\\raphael\\documents\\github\\nonsig-master-thesis\\venv\\lib\\site-packages (from -r requirements.txt (line 78)) (27.0.0)\n",
      "Requirement already satisfied: regex==2024.11.6 in c:\\users\\raphael\\documents\\github\\nonsig-master-thesis\\venv\\lib\\site-packages (from -r requirements.txt (line 79)) (2024.11.6)\n",
      "Requirement already satisfied: requests==2.32.4 in c:\\users\\raphael\\documents\\github\\nonsig-master-thesis\\venv\\lib\\site-packages (from -r requirements.txt (line 80)) (2.32.4)\n",
      "Requirement already satisfied: rich==14.0.0 in c:\\users\\raphael\\documents\\github\\nonsig-master-thesis\\venv\\lib\\site-packages (from -r requirements.txt (line 81)) (14.0.0)\n",
      "Requirement already satisfied: safetensors==0.5.3 in c:\\users\\raphael\\documents\\github\\nonsig-master-thesis\\venv\\lib\\site-packages (from -r requirements.txt (line 82)) (0.5.3)\n",
      "Requirement already satisfied: scikit-learn==1.7.0 in c:\\users\\raphael\\documents\\github\\nonsig-master-thesis\\venv\\lib\\site-packages (from -r requirements.txt (line 83)) (1.7.0)\n",
      "Requirement already satisfied: scipy==1.16.0 in c:\\users\\raphael\\documents\\github\\nonsig-master-thesis\\venv\\lib\\site-packages (from -r requirements.txt (line 84)) (1.16.0)\n",
      "Requirement already satisfied: seaborn==0.13.2 in c:\\users\\raphael\\documents\\github\\nonsig-master-thesis\\venv\\lib\\site-packages (from -r requirements.txt (line 85)) (0.13.2)\n",
      "Requirement already satisfied: setuptools==80.9.0 in c:\\users\\raphael\\documents\\github\\nonsig-master-thesis\\venv\\lib\\site-packages (from -r requirements.txt (line 86)) (80.9.0)\n",
      "Requirement already satisfied: six==1.17.0 in c:\\users\\raphael\\documents\\github\\nonsig-master-thesis\\venv\\lib\\site-packages (from -r requirements.txt (line 87)) (1.17.0)\n",
      "Requirement already satisfied: stack-data==0.6.3 in c:\\users\\raphael\\documents\\github\\nonsig-master-thesis\\venv\\lib\\site-packages (from -r requirements.txt (line 88)) (0.6.3)\n",
      "Requirement already satisfied: sympy==1.14.0 in c:\\users\\raphael\\documents\\github\\nonsig-master-thesis\\venv\\lib\\site-packages (from -r requirements.txt (line 89)) (1.14.0)\n",
      "Requirement already satisfied: tensorboard==2.19.0 in c:\\users\\raphael\\documents\\github\\nonsig-master-thesis\\venv\\lib\\site-packages (from -r requirements.txt (line 90)) (2.19.0)\n",
      "Requirement already satisfied: tensorboard-data-server==0.7.2 in c:\\users\\raphael\\documents\\github\\nonsig-master-thesis\\venv\\lib\\site-packages (from -r requirements.txt (line 91)) (0.7.2)\n",
      "Requirement already satisfied: tensorflow==2.19.0 in c:\\users\\raphael\\documents\\github\\nonsig-master-thesis\\venv\\lib\\site-packages (from -r requirements.txt (line 92)) (2.19.0)\n",
      "Requirement already satisfied: termcolor==3.1.0 in c:\\users\\raphael\\documents\\github\\nonsig-master-thesis\\venv\\lib\\site-packages (from -r requirements.txt (line 93)) (3.1.0)\n",
      "Requirement already satisfied: tf_keras==2.19.0 in c:\\users\\raphael\\documents\\github\\nonsig-master-thesis\\venv\\lib\\site-packages (from -r requirements.txt (line 94)) (2.19.0)\n",
      "Requirement already satisfied: threadpoolctl==3.6.0 in c:\\users\\raphael\\documents\\github\\nonsig-master-thesis\\venv\\lib\\site-packages (from -r requirements.txt (line 95)) (3.6.0)\n",
      "Requirement already satisfied: tokenizers==0.21.2 in c:\\users\\raphael\\documents\\github\\nonsig-master-thesis\\venv\\lib\\site-packages (from -r requirements.txt (line 96)) (0.21.2)\n",
      "Requirement already satisfied: torch==2.7.1+cu128 in c:\\users\\raphael\\documents\\github\\nonsig-master-thesis\\venv\\lib\\site-packages (from -r requirements.txt (line 97)) (2.7.1+cu128)\n",
      "Requirement already satisfied: torchaudio==2.7.1+cu128 in c:\\users\\raphael\\documents\\github\\nonsig-master-thesis\\venv\\lib\\site-packages (from -r requirements.txt (line 98)) (2.7.1+cu128)\n",
      "Requirement already satisfied: torchvision==0.22.1+cu128 in c:\\users\\raphael\\documents\\github\\nonsig-master-thesis\\venv\\lib\\site-packages (from -r requirements.txt (line 99)) (0.22.1+cu128)\n",
      "Requirement already satisfied: tornado==6.5.1 in c:\\users\\raphael\\documents\\github\\nonsig-master-thesis\\venv\\lib\\site-packages (from -r requirements.txt (line 100)) (6.5.1)\n",
      "Requirement already satisfied: tqdm==4.67.1 in c:\\users\\raphael\\documents\\github\\nonsig-master-thesis\\venv\\lib\\site-packages (from -r requirements.txt (line 101)) (4.67.1)\n",
      "Requirement already satisfied: traitlets==5.14.3 in c:\\users\\raphael\\documents\\github\\nonsig-master-thesis\\venv\\lib\\site-packages (from -r requirements.txt (line 102)) (5.14.3)\n",
      "Requirement already satisfied: transformers==4.53.1 in c:\\users\\raphael\\documents\\github\\nonsig-master-thesis\\venv\\lib\\site-packages (from -r requirements.txt (line 103)) (4.53.1)\n",
      "Requirement already satisfied: typing_extensions==4.14.1 in c:\\users\\raphael\\documents\\github\\nonsig-master-thesis\\venv\\lib\\site-packages (from -r requirements.txt (line 104)) (4.14.1)\n",
      "Requirement already satisfied: tzdata==2025.2 in c:\\users\\raphael\\documents\\github\\nonsig-master-thesis\\venv\\lib\\site-packages (from -r requirements.txt (line 105)) (2025.2)\n",
      "Requirement already satisfied: urllib3==2.5.0 in c:\\users\\raphael\\documents\\github\\nonsig-master-thesis\\venv\\lib\\site-packages (from -r requirements.txt (line 106)) (2.5.0)\n",
      "Requirement already satisfied: wcwidth==0.2.13 in c:\\users\\raphael\\documents\\github\\nonsig-master-thesis\\venv\\lib\\site-packages (from -r requirements.txt (line 107)) (0.2.13)\n",
      "Requirement already satisfied: Werkzeug==3.1.3 in c:\\users\\raphael\\documents\\github\\nonsig-master-thesis\\venv\\lib\\site-packages (from -r requirements.txt (line 108)) (3.1.3)\n",
      "Requirement already satisfied: wheel==0.45.1 in c:\\users\\raphael\\documents\\github\\nonsig-master-thesis\\venv\\lib\\site-packages (from -r requirements.txt (line 109)) (0.45.1)\n",
      "Requirement already satisfied: wrapt==1.17.2 in c:\\users\\raphael\\documents\\github\\nonsig-master-thesis\\venv\\lib\\site-packages (from -r requirements.txt (line 110)) (1.17.2)\n",
      "Requirement already satisfied: xxhash==3.5.0 in c:\\users\\raphael\\documents\\github\\nonsig-master-thesis\\venv\\lib\\site-packages (from -r requirements.txt (line 111)) (3.5.0)\n",
      "Requirement already satisfied: yarl==1.20.1 in c:\\users\\raphael\\documents\\github\\nonsig-master-thesis\\venv\\lib\\site-packages (from -r requirements.txt (line 112)) (1.20.1)\n"
     ]
    },
    {
     "name": "stderr",
     "output_type": "stream",
     "text": [
      "\n",
      "[notice] A new release of pip is available: 25.0.1 -> 25.1.1\n",
      "[notice] To update, run: python.exe -m pip install --upgrade pip\n"
     ]
    }
   ],
   "source": [
    "! pip install -r requirements.txt"
   ]
  },
  {
   "cell_type": "markdown",
   "id": "6d5fa995",
   "metadata": {},
   "source": [
    "### 0.2 GPU setup"
   ]
  },
  {
   "cell_type": "code",
   "execution_count": 3,
   "id": "a3336508",
   "metadata": {},
   "outputs": [
    {
     "name": "stdout",
     "output_type": "stream",
     "text": [
      "True\n",
      "0\n",
      "NVIDIA GeForce RTX 2070 with Max-Q Design\n"
     ]
    }
   ],
   "source": [
    "# Check if CUDA is available and print the current device's name\n",
    "import torch\n",
    "print(torch.cuda.is_available())\n",
    "if torch.cuda.is_available():\n",
    "    print(torch.cuda.current_device())\n",
    "    print(torch.cuda.get_device_name(0))"
   ]
  },
  {
   "cell_type": "markdown",
   "id": "19253634",
   "metadata": {},
   "source": [
    "## 1. Configuration"
   ]
  },
  {
   "cell_type": "code",
   "execution_count": 4,
   "id": "ff026edd",
   "metadata": {},
   "outputs": [],
   "source": [
    "data_path = r\"../../data/labeled/2025-06-28_labeled_data.xlsx\"\n",
    "text_column_name = \"expanded\"\n",
    "label_column_name = \"label_strict\"\n",
    "\n",
    "model_name = \"bert-base-uncased\" # standard; I specify other models in the \"3. Initialize Models\" section of this script\n",
    "test_size = 0.2\n",
    "num_labels = 2"
   ]
  },
  {
   "cell_type": "markdown",
   "id": "050e4828",
   "metadata": {},
   "source": [
    "## 2. Read and prepare dataset"
   ]
  },
  {
   "cell_type": "code",
   "execution_count": 5,
   "id": "1789fc47",
   "metadata": {},
   "outputs": [
    {
     "data": {
      "application/vnd.microsoft.datawrangler.viewer.v0+json": {
       "columns": [
        {
         "name": "index",
         "rawType": "int64",
         "type": "integer"
        },
        {
         "name": "text",
         "rawType": "object",
         "type": "string"
        },
        {
         "name": "label",
         "rawType": "int64",
         "type": "integer"
        }
       ],
       "ref": "3ab63ffb-4afe-4faa-9d1c-9259b3af4f77",
       "rows": [
        [
         "0",
         "The learning bias for the self condition and the learning bias for the stranger condition were not significantly correlated, r(76) = .10, p = .386 (see Fig.",
         "0"
        ],
        [
         "1",
         "During habituation, the D1 component did not differ as a function of CS type (p = .48).",
         "1"
        ],
        [
         "2",
         "No significant interaction was found when we compared bimodal bilinguals and deaf native signers' descriptions containing double strategies (Î² = -0.25, SE = 0.25, z = -0.97, p = .33).",
         "0"
        ],
        [
         "3",
         "Contrary to our prediction, results showed that neither classifier's performance was significantly correlated with performance on the touch-communication task-sender: r = -.05, 95% CI = [-.41, .33], t(27) = -0.24, p = .8153; receiver: r = -.19, 95% CI = [-.52, .19], t(27) = -1.02, p = .3166 (including only those individuals with classifier data for at least 10 trials; Fig. 2e).",
         "0"
        ],
        [
         "4",
         "Higher income was not associated with decreased trait empathic concern, b = -0.04, SE = 0.05, t(232) = -0.73, p = .466, r = .05, or decreased extent of compassion in daily life, b = 0.06, SE = 0.06, t(200) = 0.88, p = .380, r = .06.",
         "1"
        ]
       ],
       "shape": {
        "columns": 2,
        "rows": 5
       }
      },
      "text/html": [
       "<div>\n",
       "<style scoped>\n",
       "    .dataframe tbody tr th:only-of-type {\n",
       "        vertical-align: middle;\n",
       "    }\n",
       "\n",
       "    .dataframe tbody tr th {\n",
       "        vertical-align: top;\n",
       "    }\n",
       "\n",
       "    .dataframe thead th {\n",
       "        text-align: right;\n",
       "    }\n",
       "</style>\n",
       "<table border=\"1\" class=\"dataframe\">\n",
       "  <thead>\n",
       "    <tr style=\"text-align: right;\">\n",
       "      <th></th>\n",
       "      <th>text</th>\n",
       "      <th>label</th>\n",
       "    </tr>\n",
       "  </thead>\n",
       "  <tbody>\n",
       "    <tr>\n",
       "      <th>0</th>\n",
       "      <td>The learning bias for the self condition and t...</td>\n",
       "      <td>0</td>\n",
       "    </tr>\n",
       "    <tr>\n",
       "      <th>1</th>\n",
       "      <td>During habituation, the D1 component did not d...</td>\n",
       "      <td>1</td>\n",
       "    </tr>\n",
       "    <tr>\n",
       "      <th>2</th>\n",
       "      <td>No significant interaction was found when we c...</td>\n",
       "      <td>0</td>\n",
       "    </tr>\n",
       "    <tr>\n",
       "      <th>3</th>\n",
       "      <td>Contrary to our prediction, results showed tha...</td>\n",
       "      <td>0</td>\n",
       "    </tr>\n",
       "    <tr>\n",
       "      <th>4</th>\n",
       "      <td>Higher income was not associated with decrease...</td>\n",
       "      <td>1</td>\n",
       "    </tr>\n",
       "  </tbody>\n",
       "</table>\n",
       "</div>"
      ],
      "text/plain": [
       "                                                text  label\n",
       "0  The learning bias for the self condition and t...      0\n",
       "1  During habituation, the D1 component did not d...      1\n",
       "2  No significant interaction was found when we c...      0\n",
       "3  Contrary to our prediction, results showed tha...      0\n",
       "4  Higher income was not associated with decrease...      1"
      ]
     },
     "execution_count": 5,
     "metadata": {},
     "output_type": "execute_result"
    }
   ],
   "source": [
    "import pandas as pd\n",
    "\n",
    "# Load the data\n",
    "df = pd.read_excel(data_path)\n",
    "\n",
    "# Remove all columns but 'expanded' and 'label_strict'\n",
    "df = df.drop(columns=['statement_id', 'section', 'header','div', 'p', 's', 'article_id', 'p_comp', 'p_value', 'context', 'text', 'label_kind', 'label_keywords', 'label_comment'])\n",
    "\n",
    "# Change column names\n",
    "df = df.rename(columns={text_column_name: 'text', label_column_name: 'label'})\n",
    "\n",
    "# Remove rows where 'label' is NA or -99\n",
    "df = df[~df['label'].isna() & (df['label'] != -99)]\n",
    "\n",
    "# Convert label column to int (required for classification)\n",
    "df['label'] = df['label'].astype(int)\n",
    "\n",
    "# Balance the dataset: all 1s and an equal number of random 0s\n",
    "ones = df[df['label'] == 1]\n",
    "zeros = df[df['label'] == 0].sample(n=len(ones), random_state=42)\n",
    "df = pd.concat([ones, zeros]).sample(frac=1, random_state=42).reset_index(drop=True)\n",
    "\n",
    "# Show head\n",
    "df.head()"
   ]
  },
  {
   "cell_type": "markdown",
   "id": "c2e53af8",
   "metadata": {},
   "source": [
    "### 2.1 Create Train/Test set"
   ]
  },
  {
   "cell_type": "code",
   "execution_count": 6,
   "id": "2e797a35",
   "metadata": {},
   "outputs": [
    {
     "name": "stderr",
     "output_type": "stream",
     "text": [
      "c:\\Users\\Raphael\\Documents\\GitHub\\nonsig-master-thesis\\venv\\Lib\\site-packages\\tqdm\\auto.py:21: TqdmWarning: IProgress not found. Please update jupyter and ipywidgets. See https://ipywidgets.readthedocs.io/en/stable/user_install.html\n",
      "  from .autonotebook import tqdm as notebook_tqdm\n"
     ]
    }
   ],
   "source": [
    "from sklearn.model_selection import train_test_split\n",
    "\n",
    "# Separate by label\n",
    "ones = df[df['label'] == 1]\n",
    "zeros = df[df['label'] == 0]\n",
    "\n",
    "# Split each class into train/test\n",
    "ones_train, ones_test = train_test_split(ones, test_size=test_size, random_state=42)\n",
    "zeros_train, zeros_test = train_test_split(zeros, test_size=test_size, random_state=42)\n",
    "\n",
    "# Combine to make balanced train/test sets\n",
    "df_train = pd.concat([ones_train, zeros_train]).sample(frac=1, random_state=42).reset_index(drop=True)\n",
    "df_test = pd.concat([ones_test, zeros_test]).sample(frac=1, random_state=42).reset_index(drop=True)\n",
    "\n",
    "# Convert to Huggingface dataset\n",
    "from datasets import Dataset\n",
    "train_dataset = Dataset.from_pandas(df_train)\n",
    "test_dataset = Dataset.from_pandas(df_test)"
   ]
  },
  {
   "cell_type": "markdown",
   "id": "ecff339a",
   "metadata": {},
   "source": [
    "Header of the Training set:"
   ]
  },
  {
   "cell_type": "code",
   "execution_count": 7,
   "id": "8f28446b",
   "metadata": {},
   "outputs": [
    {
     "data": {
      "application/vnd.microsoft.datawrangler.viewer.v0+json": {
       "columns": [
        {
         "name": "index",
         "rawType": "int64",
         "type": "integer"
        },
        {
         "name": "text",
         "rawType": "object",
         "type": "string"
        },
        {
         "name": "label",
         "rawType": "int64",
         "type": "integer"
        }
       ],
       "ref": "abe31a19-2794-4582-a84a-82b9bd60ed7c",
       "rows": [
        [
         "0",
         "A control model additionally revealed a main effect of gender on first donations, Ï‡ 2 (1) = 7.87, p = .005, which did not interact with age, Ï‡ 2 (2) = 1.30, p = .521.",
         "1"
        ],
        [
         "1",
         "The analysis of polarization based on this single item did not show signs of polarization (linear model intercept: b = 0.02, SE = 0.06, 95% CI = [-0.10, 0.13], t = 0.29, p = .771).",
         "1"
        ],
        [
         "2",
         "Cortisol concentrations were comparable at baseline, t(55) = 1.01, p = .317, d = 0.27, but significantly elevated in the stress group relative to the control group both 30 min after the treatment, t(55) = 3.55, p corr = .003, d = 0.94, and 45 min after the treatment, t(55) = 2.52, p corr = .045, d = 0.67 (Table 1).",
         "1"
        ],
        [
         "3",
         "Logistic barriers did not prove to be a greater barrier for men or women (men: M = 0.22, women: M = 0.17, b = -0.32, Z = -0.81, p = .416, 95% CI = [-1.07, 0.47]).",
         "1"
        ],
        [
         "4",
         "First, using a pilot sample of children who provided saliva at T1 (n = 23), we determined epigenetic age acceleration at T1 did not differ across treatment groups, t(9.44) = -0.42, p = .69.",
         "1"
        ]
       ],
       "shape": {
        "columns": 2,
        "rows": 5
       }
      },
      "text/html": [
       "<div>\n",
       "<style scoped>\n",
       "    .dataframe tbody tr th:only-of-type {\n",
       "        vertical-align: middle;\n",
       "    }\n",
       "\n",
       "    .dataframe tbody tr th {\n",
       "        vertical-align: top;\n",
       "    }\n",
       "\n",
       "    .dataframe thead th {\n",
       "        text-align: right;\n",
       "    }\n",
       "</style>\n",
       "<table border=\"1\" class=\"dataframe\">\n",
       "  <thead>\n",
       "    <tr style=\"text-align: right;\">\n",
       "      <th></th>\n",
       "      <th>text</th>\n",
       "      <th>label</th>\n",
       "    </tr>\n",
       "  </thead>\n",
       "  <tbody>\n",
       "    <tr>\n",
       "      <th>0</th>\n",
       "      <td>A control model additionally revealed a main e...</td>\n",
       "      <td>1</td>\n",
       "    </tr>\n",
       "    <tr>\n",
       "      <th>1</th>\n",
       "      <td>The analysis of polarization based on this sin...</td>\n",
       "      <td>1</td>\n",
       "    </tr>\n",
       "    <tr>\n",
       "      <th>2</th>\n",
       "      <td>Cortisol concentrations were comparable at bas...</td>\n",
       "      <td>1</td>\n",
       "    </tr>\n",
       "    <tr>\n",
       "      <th>3</th>\n",
       "      <td>Logistic barriers did not prove to be a greate...</td>\n",
       "      <td>1</td>\n",
       "    </tr>\n",
       "    <tr>\n",
       "      <th>4</th>\n",
       "      <td>First, using a pilot sample of children who pr...</td>\n",
       "      <td>1</td>\n",
       "    </tr>\n",
       "  </tbody>\n",
       "</table>\n",
       "</div>"
      ],
      "text/plain": [
       "                                                text  label\n",
       "0  A control model additionally revealed a main e...      1\n",
       "1  The analysis of polarization based on this sin...      1\n",
       "2  Cortisol concentrations were comparable at bas...      1\n",
       "3  Logistic barriers did not prove to be a greate...      1\n",
       "4  First, using a pilot sample of children who pr...      1"
      ]
     },
     "execution_count": 7,
     "metadata": {},
     "output_type": "execute_result"
    }
   ],
   "source": [
    "df_train.head()"
   ]
  },
  {
   "cell_type": "code",
   "execution_count": 8,
   "id": "c3ca483d",
   "metadata": {},
   "outputs": [
    {
     "data": {
      "application/vnd.microsoft.datawrangler.viewer.v0+json": {
       "columns": [
        {
         "name": "label",
         "rawType": "int64",
         "type": "integer"
        },
        {
         "name": "count",
         "rawType": "int64",
         "type": "integer"
        }
       ],
       "ref": "16c53ebf-10ad-4d9b-a094-a21cdc92b376",
       "rows": [
        [
         "1",
         "267"
        ],
        [
         "0",
         "267"
        ]
       ],
       "shape": {
        "columns": 1,
        "rows": 2
       }
      },
      "text/plain": [
       "label\n",
       "1    267\n",
       "0    267\n",
       "Name: count, dtype: int64"
      ]
     },
     "execution_count": 8,
     "metadata": {},
     "output_type": "execute_result"
    }
   ],
   "source": [
    "# Check label balance in training set\n",
    "df_train['label'].value_counts()"
   ]
  },
  {
   "cell_type": "markdown",
   "id": "80c18c19",
   "metadata": {},
   "source": [
    "Header of the Test set:"
   ]
  },
  {
   "cell_type": "code",
   "execution_count": 9,
   "id": "2a7722b9",
   "metadata": {},
   "outputs": [
    {
     "data": {
      "application/vnd.microsoft.datawrangler.viewer.v0+json": {
       "columns": [
        {
         "name": "index",
         "rawType": "int64",
         "type": "integer"
        },
        {
         "name": "text",
         "rawType": "object",
         "type": "string"
        },
        {
         "name": "label",
         "rawType": "int64",
         "type": "integer"
        }
       ],
       "ref": "b2881280-f4b0-4d07-9f5b-8d76918a0b4e",
       "rows": [
        [
         "0",
         "In contrast, there were no significant group differences in the linear trend across groups in the rule-based task, F(1, 54) = 0.46, p = .50052, Î· p Â² = .008.",
         "0"
        ],
        [
         "1",
         "Study S7 (with French participants) employed a within-subjects design presenting two people as either depressed or not depressed, and it showed that participants did not imagine a person with depression as shorter than a nondepressed one (p = .06, d = 0.13) or more overweight (p = .16, d = 0.10), but they imagined them to be more introverted (p < .001, d = 0.81), less attractive (p < .001, d = 0.60), less successful (p < .001, d = 0.99), and less likely to take care of their looks (p < .001, d = 0.84).",
         "1"
        ],
        [
         "2",
         "We found that sounds did not have a significant impact on report error, F(2, 78) = 2.08, p = .13, Î· 2 = .05 (Fig. 4b), and we did not find a significant RT benefit for related sounds (Ms = 2,008 vs. 2,037 ms), t(39) = 1.73, p = .09, Cohen's d z = 0.27, 95% CI = [-0.073, 0.619], BF 01 = 1.50 (Fig. 4c).",
         "0"
        ],
        [
         "3",
         "There was no correlation between CAPS score and performance in the nonforced condition of the dichoticlistening task, as assessed by the number of right-ear responses (Hypothesis 2), r S (1263) = .006, 95% CI = [-0.05, 0.06], p = .842, and equivalence testing indicated that the effect was statistically indistinguishable from 0 (p < .001).",
         "1"
        ],
        [
         "4",
         "On the other hand, hunger and desire for food increased only during the food deprivation session-desire for food: Î² = 9.78, SE = 0.58, t(95.47) = 16.91, p < .001, hunger: Î² = 9.4, SE = 0.53, t(415) = 17.61, p < .001-and not during the baseline session (p > .15).",
         "1"
        ]
       ],
       "shape": {
        "columns": 2,
        "rows": 5
       }
      },
      "text/html": [
       "<div>\n",
       "<style scoped>\n",
       "    .dataframe tbody tr th:only-of-type {\n",
       "        vertical-align: middle;\n",
       "    }\n",
       "\n",
       "    .dataframe tbody tr th {\n",
       "        vertical-align: top;\n",
       "    }\n",
       "\n",
       "    .dataframe thead th {\n",
       "        text-align: right;\n",
       "    }\n",
       "</style>\n",
       "<table border=\"1\" class=\"dataframe\">\n",
       "  <thead>\n",
       "    <tr style=\"text-align: right;\">\n",
       "      <th></th>\n",
       "      <th>text</th>\n",
       "      <th>label</th>\n",
       "    </tr>\n",
       "  </thead>\n",
       "  <tbody>\n",
       "    <tr>\n",
       "      <th>0</th>\n",
       "      <td>In contrast, there were no significant group d...</td>\n",
       "      <td>0</td>\n",
       "    </tr>\n",
       "    <tr>\n",
       "      <th>1</th>\n",
       "      <td>Study S7 (with French participants) employed a...</td>\n",
       "      <td>1</td>\n",
       "    </tr>\n",
       "    <tr>\n",
       "      <th>2</th>\n",
       "      <td>We found that sounds did not have a significan...</td>\n",
       "      <td>0</td>\n",
       "    </tr>\n",
       "    <tr>\n",
       "      <th>3</th>\n",
       "      <td>There was no correlation between CAPS score an...</td>\n",
       "      <td>1</td>\n",
       "    </tr>\n",
       "    <tr>\n",
       "      <th>4</th>\n",
       "      <td>On the other hand, hunger and desire for food ...</td>\n",
       "      <td>1</td>\n",
       "    </tr>\n",
       "  </tbody>\n",
       "</table>\n",
       "</div>"
      ],
      "text/plain": [
       "                                                text  label\n",
       "0  In contrast, there were no significant group d...      0\n",
       "1  Study S7 (with French participants) employed a...      1\n",
       "2  We found that sounds did not have a significan...      0\n",
       "3  There was no correlation between CAPS score an...      1\n",
       "4  On the other hand, hunger and desire for food ...      1"
      ]
     },
     "execution_count": 9,
     "metadata": {},
     "output_type": "execute_result"
    }
   ],
   "source": [
    "df_test.head()"
   ]
  },
  {
   "cell_type": "code",
   "execution_count": 10,
   "id": "fc4d85ef",
   "metadata": {},
   "outputs": [
    {
     "data": {
      "application/vnd.microsoft.datawrangler.viewer.v0+json": {
       "columns": [
        {
         "name": "label",
         "rawType": "int64",
         "type": "integer"
        },
        {
         "name": "count",
         "rawType": "int64",
         "type": "integer"
        }
       ],
       "ref": "983d59e9-953e-4c03-9f40-9e929f7eaa15",
       "rows": [
        [
         "0",
         "67"
        ],
        [
         "1",
         "67"
        ]
       ],
       "shape": {
        "columns": 1,
        "rows": 2
       }
      },
      "text/plain": [
       "label\n",
       "0    67\n",
       "1    67\n",
       "Name: count, dtype: int64"
      ]
     },
     "execution_count": 10,
     "metadata": {},
     "output_type": "execute_result"
    }
   ],
   "source": [
    "# Check label balance in test set\n",
    "df_test['label'].value_counts()"
   ]
  },
  {
   "cell_type": "markdown",
   "id": "7ada89b4",
   "metadata": {},
   "source": [
    "### 2.2 Tokenize 'text'"
   ]
  },
  {
   "cell_type": "code",
   "execution_count": 11,
   "id": "4f669e54",
   "metadata": {},
   "outputs": [
    {
     "name": "stderr",
     "output_type": "stream",
     "text": [
      "Map: 100%|██████████| 534/534 [00:00<00:00, 2758.33 examples/s]\n",
      "Map: 100%|██████████| 134/134 [00:00<00:00, 3512.47 examples/s]\n"
     ]
    }
   ],
   "source": [
    "from transformers import AutoTokenizer\n",
    "\n",
    "tokenizer = AutoTokenizer.from_pretrained(model_name)\n",
    "\n",
    "def preprocess_function(examples):\n",
    "    return tokenizer(examples[\"text\"], truncation=True, padding=True, max_length=350)\n",
    "\n",
    "tokenized_train = train_dataset.map(preprocess_function, batched=True)\n",
    "\n",
    "tokenized_test = test_dataset.map(preprocess_function, batched=True)"
   ]
  },
  {
   "cell_type": "markdown",
   "id": "2d9ecda8",
   "metadata": {},
   "source": [
    "#### 2.2.1 Comparing tokenized and untokenized statements"
   ]
  },
  {
   "cell_type": "code",
   "execution_count": 12,
   "id": "2c5d6470",
   "metadata": {},
   "outputs": [
    {
     "data": {
      "application/vnd.microsoft.datawrangler.viewer.v0+json": {
       "columns": [
        {
         "name": "index",
         "rawType": "int64",
         "type": "integer"
        },
        {
         "name": "original_text",
         "rawType": "object",
         "type": "string"
        },
        {
         "name": "tokenized_ids",
         "rawType": "object",
         "type": "unknown"
        },
        {
         "name": "decoded_text",
         "rawType": "object",
         "type": "string"
        }
       ],
       "ref": "b58d5d53-d4fb-45cb-aa8b-ec4fd4500160",
       "rows": [
        [
         "0",
         "A control model additionally revealed a main effect of gender on first donations, Ï‡ 2 (1) = 7.87, p = .005, which did not interact with age, Ï‡ 2 (2) = 1.30, p = .521.",
         "[101, 1037, 2491, 2944, 5678, 3936, 1037, 2364, 3466, 1997, 5907, 2006, 2034, 11440, 1010, 1045, 1527, 1016, 1006, 1015, 1007, 1027, 1021, 1012, 6584, 1010, 1052, 1027, 1012, 4002, 2629, 1010, 2029, 2106, 2025, 11835, 2007, 2287, 1010, 1045, 1527, 1016, 1006, 1016, 1007, 1027, 1015, 1012, 2382, 1010, 1052, 1027, 1012, 26963, 1012, 102, 0, 0, 0, 0, 0, 0, 0, 0, 0, 0, 0, 0, 0, 0, 0, 0, 0, 0, 0, 0, 0, 0, 0, 0, 0, 0, 0, 0, 0, 0, 0, 0, 0, 0, 0, 0, 0, 0, 0, 0, 0, 0, 0, 0, 0, 0, 0, 0, 0, 0, 0, 0, 0, 0, 0, 0, 0, 0, 0, 0, 0, 0, 0, 0, 0, 0, 0, 0, 0, 0, 0, 0, 0, 0, 0, 0, 0, 0, 0, 0, 0, 0, 0, 0, 0, 0, 0, 0, 0, 0, 0, 0, 0, 0, 0, 0, 0, 0, 0, 0, 0, 0, 0, 0, 0, 0, 0, 0, 0, 0, 0, 0, 0, 0, 0, 0, 0, 0, 0, 0, 0, 0, 0, 0, 0, 0, 0, 0, 0, 0, 0, 0, 0, 0, 0, 0, 0, 0, 0, 0, 0, 0, 0, 0, 0, 0, 0, 0, 0, 0, 0, 0, 0, 0, 0, 0, 0, 0, 0, 0, 0, 0, 0, 0, 0, 0, 0, 0, 0, 0, 0, 0, 0, 0, 0, 0, 0, 0, 0, 0, 0, 0, 0, 0, 0, 0, 0, 0, 0, 0, 0, 0, 0, 0, 0, 0, 0, 0, 0, 0, 0, 0, 0, 0, 0, 0, 0, 0, 0, 0, 0, 0, 0, 0, 0, 0, 0, 0, 0, 0, 0]",
         "a control model additionally revealed a main effect of gender on first donations, i ‡ 2 ( 1 ) = 7. 87, p =. 005, which did not interact with age, i ‡ 2 ( 2 ) = 1. 30, p =. 521."
        ],
        [
         "1",
         "The analysis of polarization based on this single item did not show signs of polarization (linear model intercept: b = 0.02, SE = 0.06, 95% CI = [-0.10, 0.13], t = 0.29, p = .771).",
         "[101, 1996, 4106, 1997, 11508, 3989, 2241, 2006, 2023, 2309, 8875, 2106, 2025, 2265, 5751, 1997, 11508, 3989, 1006, 7399, 2944, 19115, 1024, 1038, 1027, 1014, 1012, 6185, 1010, 7367, 1027, 1014, 1012, 5757, 1010, 5345, 1003, 25022, 1027, 1031, 1011, 1014, 1012, 2184, 1010, 1014, 1012, 2410, 1033, 1010, 1056, 1027, 1014, 1012, 2756, 1010, 1052, 1027, 1012, 6255, 2487, 1007, 1012, 102, 0, 0, 0, 0, 0, 0, 0, 0, 0, 0, 0, 0, 0, 0, 0, 0, 0, 0, 0, 0, 0, 0, 0, 0, 0, 0, 0, 0, 0, 0, 0, 0, 0, 0, 0, 0, 0, 0, 0, 0, 0, 0, 0, 0, 0, 0, 0, 0, 0, 0, 0, 0, 0, 0, 0, 0, 0, 0, 0, 0, 0, 0, 0, 0, 0, 0, 0, 0, 0, 0, 0, 0, 0, 0, 0, 0, 0, 0, 0, 0, 0, 0, 0, 0, 0, 0, 0, 0, 0, 0, 0, 0, 0, 0, 0, 0, 0, 0, 0, 0, 0, 0, 0, 0, 0, 0, 0, 0, 0, 0, 0, 0, 0, 0, 0, 0, 0, 0, 0, 0, 0, 0, 0, 0, 0, 0, 0, 0, 0, 0, 0, 0, 0, 0, 0, 0, 0, 0, 0, 0, 0, 0, 0, 0, 0, 0, 0, 0, 0, 0, 0, 0, 0, 0, 0, 0, 0, 0, 0, 0, 0, 0, 0, 0, 0, 0, 0, 0, 0, 0, 0, 0, 0, 0, 0, 0, 0, 0, 0, 0, 0, 0, 0, 0, 0, 0, 0, 0, 0, 0, 0, 0, 0, 0, 0, 0, 0, 0, 0, 0, 0, 0, 0, 0, 0, 0, 0, 0, 0, 0, 0, 0, 0]",
         "the analysis of polarization based on this single item did not show signs of polarization ( linear model intercept : b = 0. 02, se = 0. 06, 95 % ci = [ - 0. 10, 0. 13 ], t = 0. 29, p =. 771 )."
        ],
        [
         "2",
         "Cortisol concentrations were comparable at baseline, t(55) = 1.01, p = .317, d = 0.27, but significantly elevated in the stress group relative to the control group both 30 min after the treatment, t(55) = 3.55, p corr = .003, d = 0.94, and 45 min after the treatment, t(55) = 2.52, p corr = .045, d = 0.67 (Table 1).",
         "[101, 2522, 28228, 19454, 14061, 2020, 12435, 2012, 26163, 1010, 1056, 1006, 4583, 1007, 1027, 1015, 1012, 5890, 1010, 1052, 1027, 1012, 26628, 1010, 1040, 1027, 1014, 1012, 2676, 1010, 2021, 6022, 8319, 1999, 1996, 6911, 2177, 5816, 2000, 1996, 2491, 2177, 2119, 2382, 8117, 2044, 1996, 3949, 1010, 1056, 1006, 4583, 1007, 1027, 1017, 1012, 4583, 1010, 1052, 2522, 12171, 1027, 1012, 4002, 2509, 1010, 1040, 1027, 1014, 1012, 6365, 1010, 1998, 3429, 8117, 2044, 1996, 3949, 1010, 1056, 1006, 4583, 1007, 1027, 1016, 1012, 4720, 1010, 1052, 2522, 12171, 1027, 1012, 5840, 2629, 1010, 1040, 1027, 1014, 1012, 6163, 1006, 2795, 1015, 1007, 1012, 102, 0, 0, 0, 0, 0, 0, 0, 0, 0, 0, 0, 0, 0, 0, 0, 0, 0, 0, 0, 0, 0, 0, 0, 0, 0, 0, 0, 0, 0, 0, 0, 0, 0, 0, 0, 0, 0, 0, 0, 0, 0, 0, 0, 0, 0, 0, 0, 0, 0, 0, 0, 0, 0, 0, 0, 0, 0, 0, 0, 0, 0, 0, 0, 0, 0, 0, 0, 0, 0, 0, 0, 0, 0, 0, 0, 0, 0, 0, 0, 0, 0, 0, 0, 0, 0, 0, 0, 0, 0, 0, 0, 0, 0, 0, 0, 0, 0, 0, 0, 0, 0, 0, 0, 0, 0, 0, 0, 0, 0, 0, 0, 0, 0, 0, 0, 0, 0, 0, 0, 0, 0, 0, 0, 0, 0, 0, 0, 0, 0, 0, 0, 0, 0, 0, 0, 0, 0, 0, 0, 0, 0, 0, 0, 0, 0, 0, 0, 0, 0, 0, 0, 0, 0, 0, 0, 0, 0, 0, 0, 0, 0, 0, 0, 0, 0, 0, 0, 0, 0, 0]",
         "cortisol concentrations were comparable at baseline, t ( 55 ) = 1. 01, p =. 317, d = 0. 27, but significantly elevated in the stress group relative to the control group both 30 min after the treatment, t ( 55 ) = 3. 55, p corr =. 003, d = 0. 94, and 45 min after the treatment, t ( 55 ) = 2. 52, p corr =. 045, d = 0. 67 ( table 1 )."
        ],
        [
         "3",
         "Logistic barriers did not prove to be a greater barrier for men or women (men: M = 0.22, women: M = 0.17, b = -0.32, Z = -0.81, p = .416, 95% CI = [-1.07, 0.47]).",
         "[101, 8833, 6553, 13500, 2106, 2025, 6011, 2000, 2022, 1037, 3618, 8803, 2005, 2273, 2030, 2308, 1006, 2273, 1024, 1049, 1027, 1014, 1012, 2570, 1010, 2308, 1024, 1049, 1027, 1014, 1012, 2459, 1010, 1038, 1027, 1011, 1014, 1012, 3590, 1010, 1062, 1027, 1011, 1014, 1012, 6282, 1010, 1052, 1027, 1012, 4601, 2575, 1010, 5345, 1003, 25022, 1027, 1031, 1011, 1015, 1012, 5718, 1010, 1014, 1012, 4700, 1033, 1007, 1012, 102, 0, 0, 0, 0, 0, 0, 0, 0, 0, 0, 0, 0, 0, 0, 0, 0, 0, 0, 0, 0, 0, 0, 0, 0, 0, 0, 0, 0, 0, 0, 0, 0, 0, 0, 0, 0, 0, 0, 0, 0, 0, 0, 0, 0, 0, 0, 0, 0, 0, 0, 0, 0, 0, 0, 0, 0, 0, 0, 0, 0, 0, 0, 0, 0, 0, 0, 0, 0, 0, 0, 0, 0, 0, 0, 0, 0, 0, 0, 0, 0, 0, 0, 0, 0, 0, 0, 0, 0, 0, 0, 0, 0, 0, 0, 0, 0, 0, 0, 0, 0, 0, 0, 0, 0, 0, 0, 0, 0, 0, 0, 0, 0, 0, 0, 0, 0, 0, 0, 0, 0, 0, 0, 0, 0, 0, 0, 0, 0, 0, 0, 0, 0, 0, 0, 0, 0, 0, 0, 0, 0, 0, 0, 0, 0, 0, 0, 0, 0, 0, 0, 0, 0, 0, 0, 0, 0, 0, 0, 0, 0, 0, 0, 0, 0, 0, 0, 0, 0, 0, 0, 0, 0, 0, 0, 0, 0, 0, 0, 0, 0, 0, 0, 0, 0, 0, 0, 0, 0, 0, 0, 0, 0, 0, 0, 0, 0, 0, 0, 0, 0, 0, 0, 0, 0, 0, 0, 0]",
         "logistic barriers did not prove to be a greater barrier for men or women ( men : m = 0. 22, women : m = 0. 17, b = - 0. 32, z = - 0. 81, p =. 416, 95 % ci = [ - 1. 07, 0. 47 ] )."
        ],
        [
         "4",
         "First, using a pilot sample of children who provided saliva at T1 (n = 23), we determined epigenetic age acceleration at T1 did not differ across treatment groups, t(9.44) = -0.42, p = .69.",
         "[101, 2034, 1010, 2478, 1037, 4405, 7099, 1997, 2336, 2040, 3024, 26308, 2012, 1056, 2487, 1006, 1050, 1027, 2603, 1007, 1010, 2057, 4340, 4958, 29206, 16530, 2287, 16264, 2012, 1056, 2487, 2106, 2025, 11234, 2408, 3949, 2967, 1010, 1056, 1006, 1023, 1012, 4008, 1007, 1027, 1011, 1014, 1012, 4413, 1010, 1052, 1027, 1012, 6353, 1012, 102, 0, 0, 0, 0, 0, 0, 0, 0, 0, 0, 0, 0, 0, 0, 0, 0, 0, 0, 0, 0, 0, 0, 0, 0, 0, 0, 0, 0, 0, 0, 0, 0, 0, 0, 0, 0, 0, 0, 0, 0, 0, 0, 0, 0, 0, 0, 0, 0, 0, 0, 0, 0, 0, 0, 0, 0, 0, 0, 0, 0, 0, 0, 0, 0, 0, 0, 0, 0, 0, 0, 0, 0, 0, 0, 0, 0, 0, 0, 0, 0, 0, 0, 0, 0, 0, 0, 0, 0, 0, 0, 0, 0, 0, 0, 0, 0, 0, 0, 0, 0, 0, 0, 0, 0, 0, 0, 0, 0, 0, 0, 0, 0, 0, 0, 0, 0, 0, 0, 0, 0, 0, 0, 0, 0, 0, 0, 0, 0, 0, 0, 0, 0, 0, 0, 0, 0, 0, 0, 0, 0, 0, 0, 0, 0, 0, 0, 0, 0, 0, 0, 0, 0, 0, 0, 0, 0, 0, 0, 0, 0, 0, 0, 0, 0, 0, 0, 0, 0, 0, 0, 0, 0, 0, 0, 0, 0, 0, 0, 0, 0, 0, 0, 0, 0, 0, 0, 0, 0, 0, 0, 0, 0, 0, 0, 0, 0, 0, 0, 0, 0, 0, 0, 0, 0, 0, 0, 0, 0, 0, 0, 0, 0, 0, 0, 0, 0, 0, 0, 0, 0, 0]",
         "first, using a pilot sample of children who provided saliva at t1 ( n = 23 ), we determined epigenetic age acceleration at t1 did not differ across treatment groups, t ( 9. 44 ) = - 0. 42, p =. 69."
        ],
        [
         "5",
         "There was a positive but nonsignificant association between group performance and coded overall leadership functioning, OR = 1.65, b = 0.50, p = .065.",
         "[101, 2045, 2001, 1037, 3893, 2021, 2512, 5332, 29076, 8873, 9336, 2102, 2523, 2090, 2177, 2836, 1998, 22402, 3452, 4105, 12285, 1010, 2030, 1027, 1015, 1012, 3515, 1010, 1038, 1027, 1014, 1012, 2753, 1010, 1052, 1027, 1012, 5757, 2629, 1012, 102, 0, 0, 0, 0, 0, 0, 0, 0, 0, 0, 0, 0, 0, 0, 0, 0, 0, 0, 0, 0, 0, 0, 0, 0, 0, 0, 0, 0, 0, 0, 0, 0, 0, 0, 0, 0, 0, 0, 0, 0, 0, 0, 0, 0, 0, 0, 0, 0, 0, 0, 0, 0, 0, 0, 0, 0, 0, 0, 0, 0, 0, 0, 0, 0, 0, 0, 0, 0, 0, 0, 0, 0, 0, 0, 0, 0, 0, 0, 0, 0, 0, 0, 0, 0, 0, 0, 0, 0, 0, 0, 0, 0, 0, 0, 0, 0, 0, 0, 0, 0, 0, 0, 0, 0, 0, 0, 0, 0, 0, 0, 0, 0, 0, 0, 0, 0, 0, 0, 0, 0, 0, 0, 0, 0, 0, 0, 0, 0, 0, 0, 0, 0, 0, 0, 0, 0, 0, 0, 0, 0, 0, 0, 0, 0, 0, 0, 0, 0, 0, 0, 0, 0, 0, 0, 0, 0, 0, 0, 0, 0, 0, 0, 0, 0, 0, 0, 0, 0, 0, 0, 0, 0, 0, 0, 0, 0, 0, 0, 0, 0, 0, 0, 0, 0, 0, 0, 0, 0, 0, 0, 0, 0, 0, 0, 0, 0, 0, 0, 0, 0, 0, 0, 0, 0, 0, 0, 0, 0, 0, 0, 0, 0, 0, 0, 0, 0, 0, 0, 0, 0, 0, 0, 0, 0, 0, 0, 0, 0, 0, 0, 0, 0, 0, 0, 0, 0]",
         "there was a positive but nonsignificant association between group performance and coded overall leadership functioning, or = 1. 65, b = 0. 50, p =. 065."
        ],
        [
         "6",
         "Interestingly, however, participants' explicit relationship evaluation did not predict their verbal behavior either, b = -0.002, SE = 0.07, 95% CI = [-0.13, 0.13], p = .979, Î² = -0.002.",
         "[101, 5875, 2135, 1010, 2174, 1010, 6818, 1005, 13216, 3276, 9312, 2106, 2025, 16014, 2037, 12064, 5248, 2593, 1010, 1038, 1027, 1011, 1014, 1012, 4002, 2475, 1010, 7367, 1027, 1014, 1012, 5718, 1010, 5345, 1003, 25022, 1027, 1031, 1011, 1014, 1012, 2410, 1010, 1014, 1012, 2410, 1033, 1010, 1052, 1027, 1012, 5989, 2683, 1010, 1045, 10701, 1027, 1011, 1014, 1012, 4002, 2475, 1012, 102, 0, 0, 0, 0, 0, 0, 0, 0, 0, 0, 0, 0, 0, 0, 0, 0, 0, 0, 0, 0, 0, 0, 0, 0, 0, 0, 0, 0, 0, 0, 0, 0, 0, 0, 0, 0, 0, 0, 0, 0, 0, 0, 0, 0, 0, 0, 0, 0, 0, 0, 0, 0, 0, 0, 0, 0, 0, 0, 0, 0, 0, 0, 0, 0, 0, 0, 0, 0, 0, 0, 0, 0, 0, 0, 0, 0, 0, 0, 0, 0, 0, 0, 0, 0, 0, 0, 0, 0, 0, 0, 0, 0, 0, 0, 0, 0, 0, 0, 0, 0, 0, 0, 0, 0, 0, 0, 0, 0, 0, 0, 0, 0, 0, 0, 0, 0, 0, 0, 0, 0, 0, 0, 0, 0, 0, 0, 0, 0, 0, 0, 0, 0, 0, 0, 0, 0, 0, 0, 0, 0, 0, 0, 0, 0, 0, 0, 0, 0, 0, 0, 0, 0, 0, 0, 0, 0, 0, 0, 0, 0, 0, 0, 0, 0, 0, 0, 0, 0, 0, 0, 0, 0, 0, 0, 0, 0, 0, 0, 0, 0, 0, 0, 0, 0, 0, 0, 0, 0, 0, 0, 0, 0, 0, 0, 0, 0, 0, 0, 0, 0, 0, 0, 0, 0, 0, 0, 0, 0, 0, 0, 0, 0, 0]",
         "interestingly, however, participants ' explicit relationship evaluation did not predict their verbal behavior either, b = - 0. 002, se = 0. 07, 95 % ci = [ - 0. 13, 0. 13 ], p =. 979, i² = - 0. 002."
        ],
        [
         "7",
         "As we expected, the effect of information seeking on emotion change was weaker or even nonsignificant (e.g., b = -0.066, z = -1.31, p = .190, 95% CI = [-0.164, 0.033]) when all the covariates and their interactions were included in mixed-effects modeling.",
         "[101, 2004, 2057, 3517, 1010, 1996, 3466, 1997, 2592, 6224, 2006, 7603, 2689, 2001, 15863, 2030, 2130, 2512, 5332, 29076, 8873, 9336, 2102, 1006, 1041, 1012, 1043, 1012, 1010, 1038, 1027, 1011, 1014, 1012, 5757, 2575, 1010, 1062, 1027, 1011, 1015, 1012, 2861, 1010, 1052, 1027, 1012, 11827, 1010, 5345, 1003, 25022, 1027, 1031, 1011, 1014, 1012, 17943, 1010, 1014, 1012, 6021, 2509, 1033, 1007, 2043, 2035, 1996, 2522, 10755, 13143, 2015, 1998, 2037, 10266, 2020, 2443, 1999, 3816, 1011, 3896, 11643, 1012, 102, 0, 0, 0, 0, 0, 0, 0, 0, 0, 0, 0, 0, 0, 0, 0, 0, 0, 0, 0, 0, 0, 0, 0, 0, 0, 0, 0, 0, 0, 0, 0, 0, 0, 0, 0, 0, 0, 0, 0, 0, 0, 0, 0, 0, 0, 0, 0, 0, 0, 0, 0, 0, 0, 0, 0, 0, 0, 0, 0, 0, 0, 0, 0, 0, 0, 0, 0, 0, 0, 0, 0, 0, 0, 0, 0, 0, 0, 0, 0, 0, 0, 0, 0, 0, 0, 0, 0, 0, 0, 0, 0, 0, 0, 0, 0, 0, 0, 0, 0, 0, 0, 0, 0, 0, 0, 0, 0, 0, 0, 0, 0, 0, 0, 0, 0, 0, 0, 0, 0, 0, 0, 0, 0, 0, 0, 0, 0, 0, 0, 0, 0, 0, 0, 0, 0, 0, 0, 0, 0, 0, 0, 0, 0, 0, 0, 0, 0, 0, 0, 0, 0, 0, 0, 0, 0, 0, 0, 0, 0, 0, 0, 0, 0, 0, 0, 0, 0, 0, 0, 0, 0, 0, 0, 0, 0, 0, 0, 0, 0, 0, 0, 0, 0, 0, 0, 0, 0, 0, 0, 0, 0, 0, 0]",
         "as we expected, the effect of information seeking on emotion change was weaker or even nonsignificant ( e. g., b = - 0. 066, z = - 1. 31, p =. 190, 95 % ci = [ - 0. 164, 0. 033 ] ) when all the covariates and their interactions were included in mixed - effects modeling."
        ],
        [
         "8",
         "Real-face averageness was not significantly related to self-dissimilarity in this analysis, Î² = -0.38, 95% CI = [-0.84, 0.08], t(74) = -1.63, p = .107.",
         "[101, 2613, 1011, 2227, 2779, 2791, 2001, 2025, 6022, 3141, 2000, 2969, 1011, 4487, 18719, 4328, 8017, 3012, 1999, 2023, 4106, 1010, 1045, 10701, 1027, 1011, 1014, 1012, 4229, 1010, 5345, 1003, 25022, 1027, 1031, 1011, 1014, 1012, 6391, 1010, 1014, 1012, 5511, 1033, 1010, 1056, 1006, 6356, 1007, 1027, 1011, 1015, 1012, 6191, 1010, 1052, 1027, 1012, 10550, 1012, 102, 0, 0, 0, 0, 0, 0, 0, 0, 0, 0, 0, 0, 0, 0, 0, 0, 0, 0, 0, 0, 0, 0, 0, 0, 0, 0, 0, 0, 0, 0, 0, 0, 0, 0, 0, 0, 0, 0, 0, 0, 0, 0, 0, 0, 0, 0, 0, 0, 0, 0, 0, 0, 0, 0, 0, 0, 0, 0, 0, 0, 0, 0, 0, 0, 0, 0, 0, 0, 0, 0, 0, 0, 0, 0, 0, 0, 0, 0, 0, 0, 0, 0, 0, 0, 0, 0, 0, 0, 0, 0, 0, 0, 0, 0, 0, 0, 0, 0, 0, 0, 0, 0, 0, 0, 0, 0, 0, 0, 0, 0, 0, 0, 0, 0, 0, 0, 0, 0, 0, 0, 0, 0, 0, 0, 0, 0, 0, 0, 0, 0, 0, 0, 0, 0, 0, 0, 0, 0, 0, 0, 0, 0, 0, 0, 0, 0, 0, 0, 0, 0, 0, 0, 0, 0, 0, 0, 0, 0, 0, 0, 0, 0, 0, 0, 0, 0, 0, 0, 0, 0, 0, 0, 0, 0, 0, 0, 0, 0, 0, 0, 0, 0, 0, 0, 0, 0, 0, 0, 0, 0, 0, 0, 0, 0, 0, 0, 0, 0, 0, 0, 0, 0, 0, 0, 0, 0, 0, 0, 0, 0, 0, 0, 0, 0, 0, 0]",
         "real - face averageness was not significantly related to self - dissimilarity in this analysis, i² = - 0. 38, 95 % ci = [ - 0. 84, 0. 08 ], t ( 74 ) = - 1. 63, p =. 107."
        ],
        [
         "9",
         "When we added hours of practice to the analyses, the results did not change (Î² = 0.01, p = .87).",
         "[101, 2043, 2057, 2794, 2847, 1997, 3218, 2000, 1996, 16478, 1010, 1996, 3463, 2106, 2025, 2689, 1006, 1045, 10701, 1027, 1014, 1012, 5890, 1010, 1052, 1027, 1012, 6584, 1007, 1012, 102, 0, 0, 0, 0, 0, 0, 0, 0, 0, 0, 0, 0, 0, 0, 0, 0, 0, 0, 0, 0, 0, 0, 0, 0, 0, 0, 0, 0, 0, 0, 0, 0, 0, 0, 0, 0, 0, 0, 0, 0, 0, 0, 0, 0, 0, 0, 0, 0, 0, 0, 0, 0, 0, 0, 0, 0, 0, 0, 0, 0, 0, 0, 0, 0, 0, 0, 0, 0, 0, 0, 0, 0, 0, 0, 0, 0, 0, 0, 0, 0, 0, 0, 0, 0, 0, 0, 0, 0, 0, 0, 0, 0, 0, 0, 0, 0, 0, 0, 0, 0, 0, 0, 0, 0, 0, 0, 0, 0, 0, 0, 0, 0, 0, 0, 0, 0, 0, 0, 0, 0, 0, 0, 0, 0, 0, 0, 0, 0, 0, 0, 0, 0, 0, 0, 0, 0, 0, 0, 0, 0, 0, 0, 0, 0, 0, 0, 0, 0, 0, 0, 0, 0, 0, 0, 0, 0, 0, 0, 0, 0, 0, 0, 0, 0, 0, 0, 0, 0, 0, 0, 0, 0, 0, 0, 0, 0, 0, 0, 0, 0, 0, 0, 0, 0, 0, 0, 0, 0, 0, 0, 0, 0, 0, 0, 0, 0, 0, 0, 0, 0, 0, 0, 0, 0, 0, 0, 0, 0, 0, 0, 0, 0, 0, 0, 0, 0, 0, 0, 0, 0, 0, 0, 0, 0, 0, 0, 0, 0, 0, 0, 0, 0, 0, 0, 0, 0, 0, 0, 0, 0, 0, 0, 0, 0, 0, 0]",
         "when we added hours of practice to the analyses, the results did not change ( i² = 0. 01, p =. 87 )."
        ]
       ],
       "shape": {
        "columns": 3,
        "rows": 10
       }
      },
      "text/html": [
       "<div>\n",
       "<style scoped>\n",
       "    .dataframe tbody tr th:only-of-type {\n",
       "        vertical-align: middle;\n",
       "    }\n",
       "\n",
       "    .dataframe tbody tr th {\n",
       "        vertical-align: top;\n",
       "    }\n",
       "\n",
       "    .dataframe thead th {\n",
       "        text-align: right;\n",
       "    }\n",
       "</style>\n",
       "<table border=\"1\" class=\"dataframe\">\n",
       "  <thead>\n",
       "    <tr style=\"text-align: right;\">\n",
       "      <th></th>\n",
       "      <th>original_text</th>\n",
       "      <th>tokenized_ids</th>\n",
       "      <th>decoded_text</th>\n",
       "    </tr>\n",
       "  </thead>\n",
       "  <tbody>\n",
       "    <tr>\n",
       "      <th>0</th>\n",
       "      <td>A control model additionally revealed a main e...</td>\n",
       "      <td>[101, 1037, 2491, 2944, 5678, 3936, 1037, 2364...</td>\n",
       "      <td>a control model additionally revealed a main e...</td>\n",
       "    </tr>\n",
       "    <tr>\n",
       "      <th>1</th>\n",
       "      <td>The analysis of polarization based on this sin...</td>\n",
       "      <td>[101, 1996, 4106, 1997, 11508, 3989, 2241, 200...</td>\n",
       "      <td>the analysis of polarization based on this sin...</td>\n",
       "    </tr>\n",
       "    <tr>\n",
       "      <th>2</th>\n",
       "      <td>Cortisol concentrations were comparable at bas...</td>\n",
       "      <td>[101, 2522, 28228, 19454, 14061, 2020, 12435, ...</td>\n",
       "      <td>cortisol concentrations were comparable at bas...</td>\n",
       "    </tr>\n",
       "    <tr>\n",
       "      <th>3</th>\n",
       "      <td>Logistic barriers did not prove to be a greate...</td>\n",
       "      <td>[101, 8833, 6553, 13500, 2106, 2025, 6011, 200...</td>\n",
       "      <td>logistic barriers did not prove to be a greate...</td>\n",
       "    </tr>\n",
       "    <tr>\n",
       "      <th>4</th>\n",
       "      <td>First, using a pilot sample of children who pr...</td>\n",
       "      <td>[101, 2034, 1010, 2478, 1037, 4405, 7099, 1997...</td>\n",
       "      <td>first, using a pilot sample of children who pr...</td>\n",
       "    </tr>\n",
       "    <tr>\n",
       "      <th>5</th>\n",
       "      <td>There was a positive but nonsignificant associ...</td>\n",
       "      <td>[101, 2045, 2001, 1037, 3893, 2021, 2512, 5332...</td>\n",
       "      <td>there was a positive but nonsignificant associ...</td>\n",
       "    </tr>\n",
       "    <tr>\n",
       "      <th>6</th>\n",
       "      <td>Interestingly, however, participants' explicit...</td>\n",
       "      <td>[101, 5875, 2135, 1010, 2174, 1010, 6818, 1005...</td>\n",
       "      <td>interestingly, however, participants ' explici...</td>\n",
       "    </tr>\n",
       "    <tr>\n",
       "      <th>7</th>\n",
       "      <td>As we expected, the effect of information seek...</td>\n",
       "      <td>[101, 2004, 2057, 3517, 1010, 1996, 3466, 1997...</td>\n",
       "      <td>as we expected, the effect of information seek...</td>\n",
       "    </tr>\n",
       "    <tr>\n",
       "      <th>8</th>\n",
       "      <td>Real-face averageness was not significantly re...</td>\n",
       "      <td>[101, 2613, 1011, 2227, 2779, 2791, 2001, 2025...</td>\n",
       "      <td>real - face averageness was not significantly ...</td>\n",
       "    </tr>\n",
       "    <tr>\n",
       "      <th>9</th>\n",
       "      <td>When we added hours of practice to the analyse...</td>\n",
       "      <td>[101, 2043, 2057, 2794, 2847, 1997, 3218, 2000...</td>\n",
       "      <td>when we added hours of practice to the analyse...</td>\n",
       "    </tr>\n",
       "  </tbody>\n",
       "</table>\n",
       "</div>"
      ],
      "text/plain": [
       "                                       original_text  \\\n",
       "0  A control model additionally revealed a main e...   \n",
       "1  The analysis of polarization based on this sin...   \n",
       "2  Cortisol concentrations were comparable at bas...   \n",
       "3  Logistic barriers did not prove to be a greate...   \n",
       "4  First, using a pilot sample of children who pr...   \n",
       "5  There was a positive but nonsignificant associ...   \n",
       "6  Interestingly, however, participants' explicit...   \n",
       "7  As we expected, the effect of information seek...   \n",
       "8  Real-face averageness was not significantly re...   \n",
       "9  When we added hours of practice to the analyse...   \n",
       "\n",
       "                                       tokenized_ids  \\\n",
       "0  [101, 1037, 2491, 2944, 5678, 3936, 1037, 2364...   \n",
       "1  [101, 1996, 4106, 1997, 11508, 3989, 2241, 200...   \n",
       "2  [101, 2522, 28228, 19454, 14061, 2020, 12435, ...   \n",
       "3  [101, 8833, 6553, 13500, 2106, 2025, 6011, 200...   \n",
       "4  [101, 2034, 1010, 2478, 1037, 4405, 7099, 1997...   \n",
       "5  [101, 2045, 2001, 1037, 3893, 2021, 2512, 5332...   \n",
       "6  [101, 5875, 2135, 1010, 2174, 1010, 6818, 1005...   \n",
       "7  [101, 2004, 2057, 3517, 1010, 1996, 3466, 1997...   \n",
       "8  [101, 2613, 1011, 2227, 2779, 2791, 2001, 2025...   \n",
       "9  [101, 2043, 2057, 2794, 2847, 1997, 3218, 2000...   \n",
       "\n",
       "                                        decoded_text  \n",
       "0  a control model additionally revealed a main e...  \n",
       "1  the analysis of polarization based on this sin...  \n",
       "2  cortisol concentrations were comparable at bas...  \n",
       "3  logistic barriers did not prove to be a greate...  \n",
       "4  first, using a pilot sample of children who pr...  \n",
       "5  there was a positive but nonsignificant associ...  \n",
       "6  interestingly, however, participants ' explici...  \n",
       "7  as we expected, the effect of information seek...  \n",
       "8  real - face averageness was not significantly ...  \n",
       "9  when we added hours of practice to the analyse...  "
      ]
     },
     "execution_count": 12,
     "metadata": {},
     "output_type": "execute_result"
    }
   ],
   "source": [
    "# Collect comparison data for the first 20 samples (adjust as needed)\n",
    "comparison = []\n",
    "for i in range(224):\n",
    "    original = train_dataset[i]['text']\n",
    "    input_ids = tokenized_train[i]['input_ids']\n",
    "    decoded = tokenizer.decode(input_ids, skip_special_tokens=True)\n",
    "    comparison.append({\n",
    "        \"original_text\": original,\n",
    "        \"tokenized_ids\": input_ids,\n",
    "        \"decoded_text\": decoded\n",
    "    })\n",
    "\n",
    "# Create DataFrame\n",
    "df_comparison = pd.DataFrame(comparison)\n",
    "\n",
    "# Show header\n",
    "df_comparison.head(10)\n",
    "\n",
    "# Save to CSV\n",
    "# df_comparison.to_csv(\"tokenization_comparison.csv\", index=False)\n",
    "# print(\"Saved as tokenization_comparison.csv\")"
   ]
  },
  {
   "cell_type": "markdown",
   "id": "8f2bf57e",
   "metadata": {},
   "source": [
    "## 3. Regular BERT"
   ]
  },
  {
   "cell_type": "markdown",
   "id": "ef0e7023",
   "metadata": {},
   "source": [
    "### 3.1 Initializing regular BERT"
   ]
  },
  {
   "cell_type": "code",
   "execution_count": 13,
   "id": "d32e1ea4",
   "metadata": {},
   "outputs": [
    {
     "name": "stderr",
     "output_type": "stream",
     "text": [
      "Some weights of BertForSequenceClassification were not initialized from the model checkpoint at bert-base-uncased and are newly initialized: ['classifier.bias', 'classifier.weight']\n",
      "You should probably TRAIN this model on a down-stream task to be able to use it for predictions and inference.\n"
     ]
    }
   ],
   "source": [
    "from transformers import AutoModelForSequenceClassification\n",
    "\n",
    "model_bert = AutoModelForSequenceClassification.from_pretrained(\"bert-base-uncased\", num_labels=num_labels)"
   ]
  },
  {
   "cell_type": "markdown",
   "id": "df611f60",
   "metadata": {},
   "source": [
    "### 3.2 Training regular BERT"
   ]
  },
  {
   "cell_type": "code",
   "execution_count": 14,
   "id": "7b330cbd",
   "metadata": {},
   "outputs": [
    {
     "name": "stdout",
     "output_type": "stream",
     "text": [
      "WARNING:tensorflow:From c:\\Users\\Raphael\\Documents\\GitHub\\nonsig-master-thesis\\venv\\Lib\\site-packages\\tf_keras\\src\\losses.py:2976: The name tf.losses.sparse_softmax_cross_entropy is deprecated. Please use tf.compat.v1.losses.sparse_softmax_cross_entropy instead.\n",
      "\n"
     ]
    },
    {
     "name": "stderr",
     "output_type": "stream",
     "text": [
      "C:\\Users\\Raphael\\AppData\\Local\\Temp\\ipykernel_15220\\617370419.py:28: FutureWarning: `tokenizer` is deprecated and will be removed in version 5.0.0 for `Trainer.__init__`. Use `processing_class` instead.\n",
      "  trainer_bert = Trainer(\n"
     ]
    }
   ],
   "source": [
    "# Standard Setup for training a model with Huggingface Transformers\n",
    "from transformers import DataCollatorWithPadding\n",
    "from transformers import TrainingArguments, Trainer\n",
    "import evaluate\n",
    "import numpy as np\n",
    "\n",
    "data_collator = DataCollatorWithPadding(tokenizer=tokenizer)\n",
    "\n",
    "metric = evaluate.load(\"accuracy\")\n",
    "\n",
    "def compute_metrics(eval_pred):\n",
    "    logits, labels = eval_pred\n",
    "    predictions = np.argmax(logits, axis=-1)\n",
    "    return metric.compute(predictions=predictions, references=labels)\n",
    "\n",
    "training_args = TrainingArguments(\n",
    "    output_dir=\"./results\",\n",
    "    learning_rate=2e-5, # Specify learning rate for BERT\n",
    "    per_device_train_batch_size=8,\n",
    "    per_device_eval_batch_size=8,\n",
    "    num_train_epochs=5,\n",
    "    weight_decay=0.01,\n",
    "    logging_strategy=\"epoch\",\n",
    "    report_to=\"none\",\n",
    ")\n",
    "\n",
    "# Model specific setup\n",
    "trainer_bert = Trainer(\n",
    "    model=model_bert,\n",
    "    args=training_args,\n",
    "    train_dataset=tokenized_train,\n",
    "    eval_dataset=tokenized_test,\n",
    "    tokenizer=tokenizer,\n",
    "    data_collator=data_collator,\n",
    "    compute_metrics=compute_metrics\n",
    ")"
   ]
  },
  {
   "cell_type": "code",
   "execution_count": 15,
   "id": "a0ab3c9e",
   "metadata": {},
   "outputs": [
    {
     "data": {
      "text/html": [
       "\n",
       "    <div>\n",
       "      \n",
       "      <progress value='335' max='335' style='width:300px; height:20px; vertical-align: middle;'></progress>\n",
       "      [335/335 01:59, Epoch 5/5]\n",
       "    </div>\n",
       "    <table border=\"1\" class=\"dataframe\">\n",
       "  <thead>\n",
       " <tr style=\"text-align: left;\">\n",
       "      <th>Step</th>\n",
       "      <th>Training Loss</th>\n",
       "    </tr>\n",
       "  </thead>\n",
       "  <tbody>\n",
       "    <tr>\n",
       "      <td>67</td>\n",
       "      <td>0.684400</td>\n",
       "    </tr>\n",
       "    <tr>\n",
       "      <td>134</td>\n",
       "      <td>0.500700</td>\n",
       "    </tr>\n",
       "    <tr>\n",
       "      <td>201</td>\n",
       "      <td>0.247300</td>\n",
       "    </tr>\n",
       "    <tr>\n",
       "      <td>268</td>\n",
       "      <td>0.147300</td>\n",
       "    </tr>\n",
       "    <tr>\n",
       "      <td>335</td>\n",
       "      <td>0.062000</td>\n",
       "    </tr>\n",
       "  </tbody>\n",
       "</table><p>"
      ],
      "text/plain": [
       "<IPython.core.display.HTML object>"
      ]
     },
     "metadata": {},
     "output_type": "display_data"
    },
    {
     "data": {
      "text/plain": [
       "TrainOutput(global_step=335, training_loss=0.3283371427165928, metrics={'train_runtime': 120.7109, 'train_samples_per_second': 22.119, 'train_steps_per_second': 2.775, 'total_flos': 380067002800200.0, 'train_loss': 0.3283371427165928, 'epoch': 5.0})"
      ]
     },
     "execution_count": 15,
     "metadata": {},
     "output_type": "execute_result"
    }
   ],
   "source": [
    "trainer_bert.train()"
   ]
  },
  {
   "cell_type": "markdown",
   "id": "86a63e73",
   "metadata": {},
   "source": [
    "#### 3.2.1 Save last model"
   ]
  },
  {
   "cell_type": "code",
   "execution_count": 16,
   "id": "ab2a5e7a",
   "metadata": {},
   "outputs": [],
   "source": [
    "# trainer_bert.save_model('bert_model')"
   ]
  },
  {
   "cell_type": "markdown",
   "id": "63996c7d",
   "metadata": {},
   "source": [
    "### 3.3 Evaluate model"
   ]
  },
  {
   "cell_type": "markdown",
   "id": "42526e66",
   "metadata": {},
   "source": [
    "#### 3.3.1 Predict training data"
   ]
  },
  {
   "cell_type": "code",
   "execution_count": 17,
   "id": "1016cf86",
   "metadata": {},
   "outputs": [
    {
     "data": {
      "text/html": [],
      "text/plain": [
       "<IPython.core.display.HTML object>"
      ]
     },
     "metadata": {},
     "output_type": "display_data"
    },
    {
     "name": "stdout",
     "output_type": "stream",
     "text": [
      "              precision    recall  f1-score   support\n",
      "\n",
      "           0       0.95      1.00      0.98       267\n",
      "           1       1.00      0.95      0.98       267\n",
      "\n",
      "    accuracy                           0.98       534\n",
      "   macro avg       0.98      0.98      0.98       534\n",
      "weighted avg       0.98      0.98      0.98       534\n",
      "\n"
     ]
    }
   ],
   "source": [
    "from sklearn.metrics import classification_report\n",
    "\n",
    "preds = trainer_bert.predict(tokenized_train)\n",
    "preds = np.argmax(preds[:3][0],axis=1)\n",
    "GT = df_train['label'].tolist()\n",
    "print(classification_report(GT,preds))"
   ]
  },
  {
   "cell_type": "markdown",
   "id": "ee34e701",
   "metadata": {},
   "source": [
    "#### 3.3.2 Predict test data"
   ]
  },
  {
   "cell_type": "code",
   "execution_count": 18,
   "id": "c1671518",
   "metadata": {},
   "outputs": [
    {
     "data": {
      "text/html": [],
      "text/plain": [
       "<IPython.core.display.HTML object>"
      ]
     },
     "metadata": {},
     "output_type": "display_data"
    },
    {
     "name": "stdout",
     "output_type": "stream",
     "text": [
      "              precision    recall  f1-score   support\n",
      "\n",
      "           0       0.90      0.99      0.94        67\n",
      "           1       0.98      0.90      0.94        67\n",
      "\n",
      "    accuracy                           0.94       134\n",
      "   macro avg       0.94      0.94      0.94       134\n",
      "weighted avg       0.94      0.94      0.94       134\n",
      "\n"
     ]
    }
   ],
   "source": [
    "preds = trainer_bert.predict(tokenized_test)\n",
    "preds = np.argmax(preds[:3][0],axis=1) #preds[:3][1]\n",
    "GT = df_test['label'].tolist()\n",
    "print(classification_report(GT,preds))"
   ]
  },
  {
   "cell_type": "markdown",
   "id": "e2830b7b",
   "metadata": {},
   "source": [
    "#### 3.3.3 4.3.3 Confusion-Matrix for test data"
   ]
  },
  {
   "cell_type": "code",
   "execution_count": 19,
   "id": "bc29093b",
   "metadata": {},
   "outputs": [
    {
     "data": {
      "image/png": "[encoded data removed]",
      "text/plain": [
       "<Figure size 600x500 with 2 Axes>"
      ]
     },
     "metadata": {},
     "output_type": "display_data"
    }
   ],
   "source": [
    "import seaborn as sns\n",
    "from sklearn.metrics import confusion_matrix\n",
    "\n",
    "import matplotlib.pyplot as plt\n",
    "\n",
    "# Use predictions and ground truth from previous evaluation on test set\n",
    "conf_matrix = confusion_matrix(GT, preds)\n",
    "\n",
    "plt.figure(figsize=(6,5))\n",
    "sns.heatmap(conf_matrix, annot=True, fmt='d', cmap='Blues',\n",
    "            xticklabels=[\"Predicted 0\", \"Predicted 1\"],\n",
    "            yticklabels=[\"Actual 0\", \"Actual 1\"])\n",
    "\n",
    "plt.xlabel('Predicted Label')\n",
    "plt.ylabel('True Label')\n",
    "plt.title('Confusion Matrix')\n",
    "plt.show()"
   ]
  },
  {
   "cell_type": "markdown",
   "id": "12e9b778",
   "metadata": {},
   "source": [
    "#### 3.3.4 List of statements per category (TP, TN, FP, FN)"
   ]
  },
  {
   "cell_type": "code",
   "execution_count": 20,
   "id": "07366994",
   "metadata": {},
   "outputs": [],
   "source": [
    "# Get ground truth and predictions for test set\n",
    "y_true = df_test['label'].tolist()\n",
    "y_pred = preds\n",
    "\n",
    "# True Positives: predicted 1, actual 1\n",
    "true_positives = df_test[(df_test['label'] == 1) & (y_pred == 1)]\n",
    "\n",
    "# True Negatives: predicted 0, actual 0\n",
    "true_negatives = df_test[(df_test['label'] == 0) & (y_pred == 0)]\n",
    "\n",
    "# False Positives: predicted 1, actual 0\n",
    "false_positives = df_test[(df_test['label'] == 0) & (y_pred == 1)]\n",
    "\n",
    "# False Negatives: predicted 0, actual 1\n",
    "false_negatives = df_test[(df_test['label'] == 1) & (y_pred == 0)]\n",
    "\n",
    "# Function to print statements\n",
    "import pandas as pd\n",
    "from IPython.display import display\n",
    "\n",
    "def display_statements(df, title):\n",
    "    if not df.empty:\n",
    "        print(f\"\\n{title} (count: {len(df)})\")\n",
    "        display(df[['text']].reset_index(drop=True))\n",
    "    else:\n",
    "        print(f\"\\n{title}: None\")"
   ]
  },
  {
   "cell_type": "code",
   "execution_count": 21,
   "id": "2433dc88",
   "metadata": {},
   "outputs": [
    {
     "name": "stdout",
     "output_type": "stream",
     "text": [
      "\n",
      "True Positives (predicted 1, actual 1) (count: 60)\n"
     ]
    },
    {
     "data": {
      "application/vnd.microsoft.datawrangler.viewer.v0+json": {
       "columns": [
        {
         "name": "index",
         "rawType": "int64",
         "type": "integer"
        },
        {
         "name": "text",
         "rawType": "object",
         "type": "string"
        }
       ],
       "ref": "32fb4e8d-d532-4c4c-bcdb-6e84412a8883",
       "rows": [
        [
         "0",
         "Study S7 (with French participants) employed a within-subjects design presenting two people as either depressed or not depressed, and it showed that participants did not imagine a person with depression as shorter than a nondepressed one (p = .06, d = 0.13) or more overweight (p = .16, d = 0.10), but they imagined them to be more introverted (p < .001, d = 0.81), less attractive (p < .001, d = 0.60), less successful (p < .001, d = 0.99), and less likely to take care of their looks (p < .001, d = 0.84)."
        ],
        [
         "1",
         "There was no correlation between CAPS score and performance in the nonforced condition of the dichoticlistening task, as assessed by the number of right-ear responses (Hypothesis 2), r S (1263) = .006, 95% CI = [-0.05, 0.06], p = .842, and equivalence testing indicated that the effect was statistically indistinguishable from 0 (p < .001)."
        ],
        [
         "2",
         "On the other hand, hunger and desire for food increased only during the food deprivation session-desire for food: Î² = 9.78, SE = 0.58, t(95.47) = 16.91, p < .001, hunger: Î² = 9.4, SE = 0.53, t(415) = 17.61, p < .001-and not during the baseline session (p > .15)."
        ],
        [
         "3",
         "The number of observed individuals had no effect on either the amount, F (, ) . 3 212 1 78 =, p = .152, Î· 2 02 = ., 90% CI = [.00, .06], the rate of cultural divergence, F (, ) . 3 208 0 60 =, p = .617, Î· p 2 = .00, 90% CI = [.00, .03]."
        ],
        [
         "4",
         "There was no interaction between age group and condition, F(2, 186) = 0.06, p = .94."
        ],
        [
         "5",
         "Medical maximizers showed greater belief in both true and false headlines (this pattern was more strongly positive for belief in false headlines); in contrast, there was no such correlation with sharing discernment, F(1, 25582) = 0.03, p = .87."
        ],
        [
         "6",
         "A rank-based Spearman's correlation test (p < .05 in the Shapiro-Wilk test of normality) indicates that in our sample there was no significant correlation between the calculated subjective-awareness score and the difference in RTs between high-and low-probability locations in the b-CFS task (r = .15, p = .488; see Fig. 2c), suggesting that the effect on conscious access did not depend on the level of awareness of the regularity."
        ],
        [
         "7",
         "Chronic stress did not modulate the effect of social isolation on any dependent variable (p > .1)."
        ],
        [
         "8",
         "RT data showed a very similar pattern: Responses were slower for congruent than for incongruent trials within the probe-key condition, t(193) = 4.21, p < .001, d = 0.30, BF 10 = 677.40; difference M = 0.053 log 10 (RT/s), 95% CI = [0.032, 0.074]; congruent: M = 1.15 s, incongruent: M = 1.09 s, difference: M = 0.060 s (see Fig. S7 in the Supplemental Material), but there was no such difference for the probe-other condition, t(193) = -1.03, p = .152, d = 0.07; difference: M = -0.013 log 10 (RT/s), 95% CI = [-0.035, 0.0080]; congruent: M = 1.21 s, incongruent: M = 1.24 s, difference M = -0.032 s (see Fig. S7), although the evidence for a null effect here was anecdotal at best (BF 10 = 0.54)."
        ],
        [
         "9",
         "Comparing these correlation coefficients, we found that participants in the disagreeing-perspective condition produced more diverse errors than participants in both the self-perspective condition (d = 0.99) and agreeing-perspective condition (d = 1.00; both ps < .001), whereas there was no difference in the diversity of errors between the self-and agreeingperspective conditions (d = 0.02, p = .81)."
        ],
        [
         "10",
         "Given no main effect of depth of processing, F(1, 1039) = 0.25, p = .616, Î· p 2 < .001, the deep and shallow conditions were collapsed."
        ],
        [
         "11",
         "No main effect of saccade amplitude on judgment appeared, F(1, 26) = 1.122, p = .299, Î· p 2 = .041, but there was an effect of stimuli type, F(3, 78) = 20.836, p < .001, Î· p 2 = .445 (Ms = 4.06Â°, 3.33Â°, 4.31Â°, and 3.44Â° for classrooms, pools, restaurants, and roads, respectively), and an interaction, F(3, 78) = 4.869, p = .004, Î· p 2 = .158, with restaurants having a trend for longer saccades during subordinate categorizations (M = 4.62Â°) than during basic categorizations (M = 3.99Â°), t(26) = 1.735, p = .094."
        ],
        [
         "12",
         "Importantly, stress did not modulate the accuracy difference between repeat and switch trials (Condition Ã— Trial Type: p = .192), which provides evidence against the possibility that increased effort aversion under stress was simply caused by a desire to avoid more errors."
        ],
        [
         "13",
         "As expected on the basis of previous studies, t tests showed that there were no differences between groups on tests of either verbal, t(50) = 0.93, p = .36, or visual, t(50) = 1.00, p = .32, recognition memory of the film (Table S1 in the Supplemental Material)-this is consistent with the possibility that intrusivememory frequency (diary/IPT intrusion score) was influenced while leaving recognition memory (for facts and scenes in the trauma film) intact."
        ],
        [
         "14",
         "On the other hand, the model showed no main effect of age on influence magnitude, Ï‡ 2 (2) = 1.30, p = .521."
        ],
        [
         "15",
         "Again, there was no effect of training group, F(1, 48) < 0.01, p = .95, Ï‰ p 2 = -.02, 95% CI = [.00, 1.00], and no interaction, F(2, 96) = 2.58, p = .08, Ï‰ p 2 = .02, 95% CI = [.00, .08]."
        ],
        [
         "16",
         "Meanwhile, on lossframed trials, there was a significant interaction, b = -4.51, SE = 0.75, z = -6.03, p < .001; participants were less likely to look at the second option if they first fixated a gamble with high expected value, b = -4.31, SE = 0.49, z = -8.74, p < .001, whereas there was no effect of expected value if they first fixated the sure loss, b = 0.20, SE = 0.56, z = 0.35, p = .73."
        ],
        [
         "17",
         "Critically, whereas overall response times were faster for objects in the horizontal than the vertical plane-main effect of orientation: F(2.4) = 9.1, p < .001, Î· p 2 = .10-learned prioritization also did not differ between orientations-interaction: F(2, 158) = 0.26, p = .77, Î· p 2 = .003, BF excl = 45.1."
        ],
        [
         "18",
         "In addition, LPIPS scores were not correlated with trial-wise aesthetic ratings (for self-relevant trials, r = -.046, p = .19; for other-relevant trials, r = .00023, p = .99)."
        ],
        [
         "19",
         "The effect of age was marginally modulated by the direction of influence, Ï‡ 2 (2) = 5.04, p = .080 (Fig. 5, top panel): Under prosocial influence, influence probability was higher for young adolescents than for adults (young adolescents -adults: contrast = 1.05, SE = 0.27, p Bonf < .001; for all contrasts, see Table S4a in the Supplemental Material) and marginally higher than for midadolescents (young adolescents -midadolescents: contrast = 0.65, SE = 0.25, p Bonf = .061), whereas this was not the case under selfish influence, where influence probability did not differ between age groups (all p Bonf s > .110)."
        ],
        [
         "20",
         "Self-reported height in centimeters (absolute height) did not predict coin allocation, Wald Ï‡ 2 (1) = 0.06, p = .939 (controlling for participant sex, Wald Ï‡ 2 (1) = 0.32, p = .570)."
        ],
        [
         "21",
         "Further, the self and other scenarios did not differ in their moral wrongness as rated by participants, t(345) = 1.41, d = 0.15, 95% CI = [-0.06, 0.36], p = .160 (for descriptive statistics and bivariate correlations, see Tables S4.1 and S4.2 in the Supplemental Material)."
        ],
        [
         "22",
         "As expected, there was no difference between participants in the agreeing-and self-perspective conditions (d = 0.04, p = .51)."
        ],
        [
         "23",
         "When participants fixated only one of the two options, they were highly likely to choose whichever option they fixated regardless of whether time was unlimited, b = 3.52, SE = 0.32, z = 10.86, p < .001, or constrained, b = 2.95, SE = 0.15, z = 20.18, p < .001 (there was no difference between conditions, b = -0.57, SE = 0.34, z = -1.70, p = .09)."
        ],
        [
         "24",
         "Consistent with our expectations, results showed that individuals' implicit partner evaluations did not predict general behaviors (i.e., verbal and nonverbal clustered together) in the conversation, b = 0.15, SE = 0.10, 95% CI = [-0.05, 0.35], p = .144, Î² = 0.05."
        ],
        [
         "25",
         "First fixation had no effect on choice when time was unlimited and both options were attended, b = -0.17, SE = 0.09, z = -1.76, p = .08."
        ],
        [
         "26",
         "Conversely, and as predicted, the explicit relationship evaluation assessed at intake was not related to nonverbal behavior exhibited in the conversation, b = 0.05, SE = 0.06, 95% CI = [-0.07, 0.16], p = .411, Î² = 0.05."
        ],
        [
         "27",
         "There were no differences in participant proportion of females relative to the overall sample for Profiles 3 (p = .06) and 5 (p = .09; see Fig."
        ],
        [
         "28",
         "The results indicate that both participants in the fearchemosignal condition (M = 46.42, SD = 9.23) and the rest-body-odor condition (M = 45.22, SD = 10.62) counted a very similar number of bluefish consuming the food morsels (W = 7,538.50, p = .273), indicating that participants in both odor conditions were similarly engaged in the task."
        ],
        [
         "29",
         "There was no difference between congruent and incongruent trials in the probe-other condition, t(193) = -0.23, p = .591, d = 0.02; difference: M = -0.30%, 95% CI = [-2.45, 1.85] (see Fig. 3), and the data were about 3 times more likely under the null hypothesis of no difference (BF 10 = 0.34)."
        ],
        [
         "30",
         "However, unlike in Experiment 1, the amount of cultural divergence did not grow over time, t( ) . 214 0 39 =, p = .694, r 2 00 = ., 90% CI = [.00, .02]."
        ],
        [
         "31",
         "The results showed no difference in the weight assigned to the value of losses and gains per se, t(55) < 1.2, p > .23, Cohen's d < .17, only to the weight assigned to the associated feelings-expected feelings: t(55) = 3.59, p = .001, 95% CI = [1.29, 4.55], Cohen's d = .479; experienced feelings:"
        ],
        [
         "32",
         "Consistent with study hypotheses emphasizing the importance of cumulative risk, there was not a main effect of treatment condition on epigenetic age acceleration at T3 (b = 0.14, p = .25, with iPCIT coded as 0 and RAU coded as 1)."
        ],
        [
         "33",
         "Participants allocated more area-weighted fixations to the eye region (M = 5,943.88, SE = 853.27) and nose region (M = 5,690.79, SE = 465.17) than the mouth region (M = 1,210.98, SE = 120.56; there was no difference between eyes and nose, p = .761)."
        ],
        [
         "34",
         "ANOVAs within blocks revealed that during the beginning of acquisition, IBI did not differ between CS types (p = .559), whereas CS type modulated IBI in the second block of acquisition (p = .023), as shown in Figure 5."
        ],
        [
         "35",
         "The correlation for participants who were unsure what to believe was largely intermediate between believers and disbelievers: It was weaker than for people who believed the official story for three events (zs > 3.83, ps < .001), with the exception of the 9/11 terrorist attacks (z = 1.72, p = .086)."
        ],
        [
         "36",
         "There was no difference in the ratings given to faces in the other-slow and other-fast conditions, t(28) = 1.44, p = .16, Cohen's d = 0.27."
        ],
        [
         "37",
         "A negative binomial regression showed no difference in the number of accurately counted food items between conditions, Wald Ï‡ 2 (2, N = 353) = 3.34, p = .188 (see Fig. 2, right)."
        ],
        [
         "38",
         "The third model added the remaining task variables (right-ear syllables in the nonforced condition of the dichotic-listening task, mean span in the digit-span task, imagine-to-hear errors in the source-memory task) and did not improve on the signal detection model (p = .965)."
        ],
        [
         "39",
         "Lottery choices were not predicted by participant sex, Wald Ï‡ 2 = .208, p = .65, or by the interaction of sex ratio and participant sex, Wald Ï‡ 2 = 1.219, p = .27."
        ],
        [
         "40",
         "Results were also independent of the reliability of candidate traits (r = -.02, p = .91)."
        ],
        [
         "41",
         "Groups were matched on gender (p = .108) and years of education (p = .203; mean years of education for younger adults = 15.4, SD = 16.5, range = 11-17; mean years of education for older adults = 15.0, SD = 2.77, range = 6-20)."
        ],
        [
         "42",
         "The magnitude of this effect was equivalent to that for the dot patterns, t(21) = 0.09, p = .930, but smaller than that for the line patterns, t(41) = 3.60, p < .001, Cohen's d = 0.56."
        ],
        [
         "43",
         "Unlike the analyses using RT on search trials as the dependent variable, there was no main effect of real-time entropy on fixation time, F(1, 22,897.2) = 1.64, p = .20, Î² = -0.006, SE = 0.005."
        ],
        [
         "44",
         "As in Study 1, individuals' risk and social preferences were uncorrelated (Spearman's r = .03, p = .800)."
        ],
        [
         "45",
         "Decoy selections did not depend on age, b = 0.007, 95% CI = [-0.234, 0.248], p = .954, or gender, b = 0.036, 95% CI = [-0.214, 0.283], p = .784."
        ],
        [
         "46",
         "As predicted, a Mann-Whitney U test indicated that the percentage of children who waited for the full 15-min period (50%) was comparable with the waiting times in the aware condition of Study 1 (40%; Z = -0.77, p = .440)."
        ],
        [
         "47",
         "There was also no effect of familiarity, F(2, 96) = 0.12, p = .89, Ï‰ p 2 = -.01, 95% CI = [.00, .08]."
        ],
        [
         "48",
         "Simple-slopes analysis revealed that participants scoring higher on trait sociability (+1 SD) reported lower energetic arousal on social isolation days compared with baseline days, Î² = -4.69, SE = 1.84, t(69.16) = -2.55, p = .013, but this was not the case for those scoring lower (-1 SD) on sociability, Î² = 0.70, SE = 1.79, t(69.16) = 0.39, p = .696."
        ],
        [
         "49",
         "Nor were there gender differences in politeness of remarks (57% of men, 44% of women), b = -0.13, t(187) = -1.46, p = .145, 95% CI = [-0.30, 0.04]."
        ]
       ],
       "shape": {
        "columns": 1,
        "rows": 60
       }
      },
      "text/html": [
       "<div>\n",
       "<style scoped>\n",
       "    .dataframe tbody tr th:only-of-type {\n",
       "        vertical-align: middle;\n",
       "    }\n",
       "\n",
       "    .dataframe tbody tr th {\n",
       "        vertical-align: top;\n",
       "    }\n",
       "\n",
       "    .dataframe thead th {\n",
       "        text-align: right;\n",
       "    }\n",
       "</style>\n",
       "<table border=\"1\" class=\"dataframe\">\n",
       "  <thead>\n",
       "    <tr style=\"text-align: right;\">\n",
       "      <th></th>\n",
       "      <th>text</th>\n",
       "    </tr>\n",
       "  </thead>\n",
       "  <tbody>\n",
       "    <tr>\n",
       "      <th>0</th>\n",
       "      <td>Study S7 (with French participants) employed a...</td>\n",
       "    </tr>\n",
       "    <tr>\n",
       "      <th>1</th>\n",
       "      <td>There was no correlation between CAPS score an...</td>\n",
       "    </tr>\n",
       "    <tr>\n",
       "      <th>2</th>\n",
       "      <td>On the other hand, hunger and desire for food ...</td>\n",
       "    </tr>\n",
       "    <tr>\n",
       "      <th>3</th>\n",
       "      <td>The number of observed individuals had no effe...</td>\n",
       "    </tr>\n",
       "    <tr>\n",
       "      <th>4</th>\n",
       "      <td>There was no interaction between age group and...</td>\n",
       "    </tr>\n",
       "    <tr>\n",
       "      <th>5</th>\n",
       "      <td>Medical maximizers showed greater belief in bo...</td>\n",
       "    </tr>\n",
       "    <tr>\n",
       "      <th>6</th>\n",
       "      <td>A rank-based Spearman's correlation test (p &lt; ...</td>\n",
       "    </tr>\n",
       "    <tr>\n",
       "      <th>7</th>\n",
       "      <td>Chronic stress did not modulate the effect of ...</td>\n",
       "    </tr>\n",
       "    <tr>\n",
       "      <th>8</th>\n",
       "      <td>RT data showed a very similar pattern: Respons...</td>\n",
       "    </tr>\n",
       "    <tr>\n",
       "      <th>9</th>\n",
       "      <td>Comparing these correlation coefficients, we f...</td>\n",
       "    </tr>\n",
       "    <tr>\n",
       "      <th>10</th>\n",
       "      <td>Given no main effect of depth of processing, F...</td>\n",
       "    </tr>\n",
       "    <tr>\n",
       "      <th>11</th>\n",
       "      <td>No main effect of saccade amplitude on judgmen...</td>\n",
       "    </tr>\n",
       "    <tr>\n",
       "      <th>12</th>\n",
       "      <td>Importantly, stress did not modulate the accur...</td>\n",
       "    </tr>\n",
       "    <tr>\n",
       "      <th>13</th>\n",
       "      <td>As expected on the basis of previous studies, ...</td>\n",
       "    </tr>\n",
       "    <tr>\n",
       "      <th>14</th>\n",
       "      <td>On the other hand, the model showed no main ef...</td>\n",
       "    </tr>\n",
       "    <tr>\n",
       "      <th>15</th>\n",
       "      <td>Again, there was no effect of training group, ...</td>\n",
       "    </tr>\n",
       "    <tr>\n",
       "      <th>16</th>\n",
       "      <td>Meanwhile, on lossframed trials, there was a s...</td>\n",
       "    </tr>\n",
       "    <tr>\n",
       "      <th>17</th>\n",
       "      <td>Critically, whereas overall response times wer...</td>\n",
       "    </tr>\n",
       "    <tr>\n",
       "      <th>18</th>\n",
       "      <td>In addition, LPIPS scores were not correlated ...</td>\n",
       "    </tr>\n",
       "    <tr>\n",
       "      <th>19</th>\n",
       "      <td>The effect of age was marginally modulated by ...</td>\n",
       "    </tr>\n",
       "    <tr>\n",
       "      <th>20</th>\n",
       "      <td>Self-reported height in centimeters (absolute ...</td>\n",
       "    </tr>\n",
       "    <tr>\n",
       "      <th>21</th>\n",
       "      <td>Further, the self and other scenarios did not ...</td>\n",
       "    </tr>\n",
       "    <tr>\n",
       "      <th>22</th>\n",
       "      <td>As expected, there was no difference between p...</td>\n",
       "    </tr>\n",
       "    <tr>\n",
       "      <th>23</th>\n",
       "      <td>When participants fixated only one of the two ...</td>\n",
       "    </tr>\n",
       "    <tr>\n",
       "      <th>24</th>\n",
       "      <td>Consistent with our expectations, results show...</td>\n",
       "    </tr>\n",
       "    <tr>\n",
       "      <th>25</th>\n",
       "      <td>First fixation had no effect on choice when ti...</td>\n",
       "    </tr>\n",
       "    <tr>\n",
       "      <th>26</th>\n",
       "      <td>Conversely, and as predicted, the explicit rel...</td>\n",
       "    </tr>\n",
       "    <tr>\n",
       "      <th>27</th>\n",
       "      <td>There were no differences in participant propo...</td>\n",
       "    </tr>\n",
       "    <tr>\n",
       "      <th>28</th>\n",
       "      <td>The results indicate that both participants in...</td>\n",
       "    </tr>\n",
       "    <tr>\n",
       "      <th>29</th>\n",
       "      <td>There was no difference between congruent and ...</td>\n",
       "    </tr>\n",
       "    <tr>\n",
       "      <th>30</th>\n",
       "      <td>However, unlike in Experiment 1, the amount of...</td>\n",
       "    </tr>\n",
       "    <tr>\n",
       "      <th>31</th>\n",
       "      <td>The results showed no difference in the weight...</td>\n",
       "    </tr>\n",
       "    <tr>\n",
       "      <th>32</th>\n",
       "      <td>Consistent with study hypotheses emphasizing t...</td>\n",
       "    </tr>\n",
       "    <tr>\n",
       "      <th>33</th>\n",
       "      <td>Participants allocated more area-weighted fixa...</td>\n",
       "    </tr>\n",
       "    <tr>\n",
       "      <th>34</th>\n",
       "      <td>ANOVAs within blocks revealed that during the ...</td>\n",
       "    </tr>\n",
       "    <tr>\n",
       "      <th>35</th>\n",
       "      <td>The correlation for participants who were unsu...</td>\n",
       "    </tr>\n",
       "    <tr>\n",
       "      <th>36</th>\n",
       "      <td>There was no difference in the ratings given t...</td>\n",
       "    </tr>\n",
       "    <tr>\n",
       "      <th>37</th>\n",
       "      <td>A negative binomial regression showed no diffe...</td>\n",
       "    </tr>\n",
       "    <tr>\n",
       "      <th>38</th>\n",
       "      <td>The third model added the remaining task varia...</td>\n",
       "    </tr>\n",
       "    <tr>\n",
       "      <th>39</th>\n",
       "      <td>Lottery choices were not predicted by particip...</td>\n",
       "    </tr>\n",
       "    <tr>\n",
       "      <th>40</th>\n",
       "      <td>Results were also independent of the reliabili...</td>\n",
       "    </tr>\n",
       "    <tr>\n",
       "      <th>41</th>\n",
       "      <td>Groups were matched on gender (p = .108) and y...</td>\n",
       "    </tr>\n",
       "    <tr>\n",
       "      <th>42</th>\n",
       "      <td>The magnitude of this effect was equivalent to...</td>\n",
       "    </tr>\n",
       "    <tr>\n",
       "      <th>43</th>\n",
       "      <td>Unlike the analyses using RT on search trials ...</td>\n",
       "    </tr>\n",
       "    <tr>\n",
       "      <th>44</th>\n",
       "      <td>As in Study 1, individuals' risk and social pr...</td>\n",
       "    </tr>\n",
       "    <tr>\n",
       "      <th>45</th>\n",
       "      <td>Decoy selections did not depend on age, b = 0....</td>\n",
       "    </tr>\n",
       "    <tr>\n",
       "      <th>46</th>\n",
       "      <td>As predicted, a Mann-Whitney U test indicated ...</td>\n",
       "    </tr>\n",
       "    <tr>\n",
       "      <th>47</th>\n",
       "      <td>There was also no effect of familiarity, F(2, ...</td>\n",
       "    </tr>\n",
       "    <tr>\n",
       "      <th>48</th>\n",
       "      <td>Simple-slopes analysis revealed that participa...</td>\n",
       "    </tr>\n",
       "    <tr>\n",
       "      <th>49</th>\n",
       "      <td>Nor were there gender differences in politenes...</td>\n",
       "    </tr>\n",
       "    <tr>\n",
       "      <th>50</th>\n",
       "      <td>This effect did not interact with the order of...</td>\n",
       "    </tr>\n",
       "    <tr>\n",
       "      <th>51</th>\n",
       "      <td>However, a 2 (contingency: performance-depende...</td>\n",
       "    </tr>\n",
       "    <tr>\n",
       "      <th>52</th>\n",
       "      <td>We found that time delays increased perception...</td>\n",
       "    </tr>\n",
       "    <tr>\n",
       "      <th>53</th>\n",
       "      <td>This finding was similar to that in the forced...</td>\n",
       "    </tr>\n",
       "    <tr>\n",
       "      <th>54</th>\n",
       "      <td>Accuracy (proportion of correct responses) did...</td>\n",
       "    </tr>\n",
       "    <tr>\n",
       "      <th>55</th>\n",
       "      <td>Unlike the prior experiment, in which learning...</td>\n",
       "    </tr>\n",
       "    <tr>\n",
       "      <th>56</th>\n",
       "      <td>Further-although participant-centered valence ...</td>\n",
       "    </tr>\n",
       "    <tr>\n",
       "      <th>57</th>\n",
       "      <td>Furthermore, we found that the nudge was effec...</td>\n",
       "    </tr>\n",
       "    <tr>\n",
       "      <th>58</th>\n",
       "      <td>Efficiency did not differ between the congruen...</td>\n",
       "    </tr>\n",
       "    <tr>\n",
       "      <th>59</th>\n",
       "      <td>Viewed differently, participants disliked avoi...</td>\n",
       "    </tr>\n",
       "  </tbody>\n",
       "</table>\n",
       "</div>"
      ],
      "text/plain": [
       "                                                 text\n",
       "0   Study S7 (with French participants) employed a...\n",
       "1   There was no correlation between CAPS score an...\n",
       "2   On the other hand, hunger and desire for food ...\n",
       "3   The number of observed individuals had no effe...\n",
       "4   There was no interaction between age group and...\n",
       "5   Medical maximizers showed greater belief in bo...\n",
       "6   A rank-based Spearman's correlation test (p < ...\n",
       "7   Chronic stress did not modulate the effect of ...\n",
       "8   RT data showed a very similar pattern: Respons...\n",
       "9   Comparing these correlation coefficients, we f...\n",
       "10  Given no main effect of depth of processing, F...\n",
       "11  No main effect of saccade amplitude on judgmen...\n",
       "12  Importantly, stress did not modulate the accur...\n",
       "13  As expected on the basis of previous studies, ...\n",
       "14  On the other hand, the model showed no main ef...\n",
       "15  Again, there was no effect of training group, ...\n",
       "16  Meanwhile, on lossframed trials, there was a s...\n",
       "17  Critically, whereas overall response times wer...\n",
       "18  In addition, LPIPS scores were not correlated ...\n",
       "19  The effect of age was marginally modulated by ...\n",
       "20  Self-reported height in centimeters (absolute ...\n",
       "21  Further, the self and other scenarios did not ...\n",
       "22  As expected, there was no difference between p...\n",
       "23  When participants fixated only one of the two ...\n",
       "24  Consistent with our expectations, results show...\n",
       "25  First fixation had no effect on choice when ti...\n",
       "26  Conversely, and as predicted, the explicit rel...\n",
       "27  There were no differences in participant propo...\n",
       "28  The results indicate that both participants in...\n",
       "29  There was no difference between congruent and ...\n",
       "30  However, unlike in Experiment 1, the amount of...\n",
       "31  The results showed no difference in the weight...\n",
       "32  Consistent with study hypotheses emphasizing t...\n",
       "33  Participants allocated more area-weighted fixa...\n",
       "34  ANOVAs within blocks revealed that during the ...\n",
       "35  The correlation for participants who were unsu...\n",
       "36  There was no difference in the ratings given t...\n",
       "37  A negative binomial regression showed no diffe...\n",
       "38  The third model added the remaining task varia...\n",
       "39  Lottery choices were not predicted by particip...\n",
       "40  Results were also independent of the reliabili...\n",
       "41  Groups were matched on gender (p = .108) and y...\n",
       "42  The magnitude of this effect was equivalent to...\n",
       "43  Unlike the analyses using RT on search trials ...\n",
       "44  As in Study 1, individuals' risk and social pr...\n",
       "45  Decoy selections did not depend on age, b = 0....\n",
       "46  As predicted, a Mann-Whitney U test indicated ...\n",
       "47  There was also no effect of familiarity, F(2, ...\n",
       "48  Simple-slopes analysis revealed that participa...\n",
       "49  Nor were there gender differences in politenes...\n",
       "50  This effect did not interact with the order of...\n",
       "51  However, a 2 (contingency: performance-depende...\n",
       "52  We found that time delays increased perception...\n",
       "53  This finding was similar to that in the forced...\n",
       "54  Accuracy (proportion of correct responses) did...\n",
       "55  Unlike the prior experiment, in which learning...\n",
       "56  Further-although participant-centered valence ...\n",
       "57  Furthermore, we found that the nudge was effec...\n",
       "58  Efficiency did not differ between the congruen...\n",
       "59  Viewed differently, participants disliked avoi..."
      ]
     },
     "metadata": {},
     "output_type": "display_data"
    }
   ],
   "source": [
    "display_statements(true_positives, \"True Positives (predicted 1, actual 1)\")"
   ]
  },
  {
   "cell_type": "code",
   "execution_count": 22,
   "id": "64f843b9",
   "metadata": {},
   "outputs": [
    {
     "name": "stdout",
     "output_type": "stream",
     "text": [
      "\n",
      "True Negatives (predicted 0, actual 0) (count: 66)\n"
     ]
    },
    {
     "data": {
      "application/vnd.microsoft.datawrangler.viewer.v0+json": {
       "columns": [
        {
         "name": "index",
         "rawType": "int64",
         "type": "integer"
        },
        {
         "name": "text",
         "rawType": "object",
         "type": "string"
        }
       ],
       "ref": "143534fb-5260-46e7-aca1-05bdaffddab8",
       "rows": [
        [
         "0",
         "In contrast, there were no significant group differences in the linear trend across groups in the rule-based task, F(1, 54) = 0.46, p = .50052, Î· p Â² = .008."
        ],
        [
         "1",
         "We found that sounds did not have a significant impact on report error, F(2, 78) = 2.08, p = .13, Î· 2 = .05 (Fig. 4b), and we did not find a significant RT benefit for related sounds (Ms = 2,008 vs. 2,037 ms), t(39) = 1.73, p = .09, Cohen's d z = 0.27, 95% CI = [-0.073, 0.619], BF 01 = 1.50 (Fig. 4c)."
        ],
        [
         "2",
         "Following up, we found that sounds had no significant impact on report error, F(2, 78) = 0.38, p = .69, Î· 2 = .009 (Fig. 3b), and as expected, RT on related (M = 1,911 ms) and unrelated trials (M = 1,906 ms) was not significantly different, t(39) = 0.29, p = .77, Cohen's d z = 0.04, 95% CI = [-0.379, 0.286], BF 01 = 5.63 (Fig. 3d)."
        ],
        [
         "3",
         "This difference, however, was highly significant in Malayalam readers (p < .0005) but not in Telugu readers (p = .09)."
        ],
        [
         "4",
         "The interaction between familiarity and length, although in the predicted direction, was not significant, F(1, 29) = 0.81, p = .38, Î· p 2 = .03, OP = .14 (pseudowords-three letters: M = 2,175 ms, SD = 776, five letters: M = 2,576 ms, SD = 876; real words-three letters: M = 1,933 ms, SD = 939, five letters: M = 2,055 ms, SD = 1,028)."
        ],
        [
         "5",
         "However, no effect of arousal was found for unconditional penalties, t(24) = 1.16, p = .13."
        ],
        [
         "6",
         "The receivers' zygomatic activity during touch was not overall significantly greater than baseline (EMM = .03, 95% CI = [-.03, .10]), t(28) = 1.02, p = .316, but did vary significantly with the cue, F(5, 920) = 7.04, p < .001 (Fig. 2a)."
        ],
        [
         "7",
         "We found no effect of p(probe key|incongruent) on task effects in either 2AFC accuracy, Spearman's r(192) = .074, p = .30, 95% CI = [-.067, .21] (see Fig. 4), or RT, r(192) = -.023, p = .75, 95% CI = [-.16, .12], and the data were about 7 times more likely under the null hypothesis of no correlation for accuracy (BF 10 = 0.15) and about 11 times more likely under the null hypothesis for RT (BF 10 = 0.094)."
        ],
        [
         "8",
         "Meta-regression indicated no significant moderating effect of preexisting perceptions of consensus, b = -0.84, t(35) = -1.44, p = .159."
        ],
        [
         "9",
         "Incongruent evaluations did not differ significantly (p = .865)."
        ],
        [
         "10",
         "Interestingly, here congruent imagery did not lead to a significant increase in accuracy compared with baseline (Fig. 2C), M = 2.21%, SEM Â±2.78, t(10) = 0.79, p = 0.89, 95% CI = [-3.98, 8.4], k = 2 (Bonferroni adjusted two-tailed t test), a result not in line with previous priming research (Ishai & Sagi, 1995;Pearson, 2019)."
        ],
        [
         "11",
         "Consequently, receivers' use of the odd-oneout signal on inversion trials did not differ significantly from their use of the odd-one-out signal on one-ax trials (p > .250), in which alternate selection strategies (M = .02, SE = .02) were only negligibly deployed."
        ],
        [
         "12",
         "Post hoc examination of the interaction did not show a significant simple effect of dimensionality for intact items (Table 3; 3D -2D: Î”M = -0.33 s, SD = 0.73, 95% CI = [-0.74, 0.07], uncorrected p = .11, FDR q = 0.23, Cohen's d = 0.45) or for scrambled items (3D -2D: Î”M = 0.2 s, SD = 0.89, 95% CI = [-0.18, 0.59], uncorrected p = .32, d = 0.23)."
        ],
        [
         "13",
         "Participants scoring higher on trait sociability (+1 SD) had significantly lower desire for social contact on social isolation days compared with baseline days, Î² = -6.52, SE = 2.12, t(66.65) = -3.07, p = .003, but this was not the case for those scoring lower (-1 SD) on sociability, Î² = -0.18, SE = 2.08, t(66.65) = -0.09, p = .929."
        ],
        [
         "14",
         "There was no significant interaction between participant height and opponent height, Wald Ï‡ 2 (1) = 0.38, b = 0.042, SE = 0.068, 95% CI = [-0.091, 0.174], p = .540 (QICc = 203.85)."
        ],
        [
         "15",
         "In contrast, there were no significant differences between the dyslexia (M = 5.44 blocks) and control (M = 4.86 blocks) groups in the total blocks in which they used the optimal conjunctive strategy in the rulebased task (p = .29, 95% CI = [-0.50, 1.66])."
        ],
        [
         "16",
         "SES was not significantly related to coins kept for self in the ultimatum game, Wald Ï‡ 2 (1) = 2.41, b = -0.062, SE = 0.040, 95% CI = [-0.141, 0.016], p = .121 (QICc = 26.23)."
        ],
        [
         "17",
         "For the CFD stimuli, this contrast was not significantly different from zero, t(395) = -0.29, p = .773, Hedges's g z = -0.01, 95% CI = [-0.10, -0.07], but larger than the lower bound of the equivalence bound, t(395) = 2.99, p < .001, and smaller than the upper bound, t(395) = -3.57, p < .001."
        ],
        [
         "18",
         "The main effect of aperture, Experiment 2: F(1, 34) = 4.12, p = .05, Î· p 2 = .10; Experiment 3: F(1, 31) = 0.04, p = .85, Î· p 2 = .01; the main effect of focus distance, Experiment 2: F(1, 34) = 0.23, p = .63, Î· p 2 = .01; Experiment 3: F(1, 31) = 0.22, p = .64, Î· p 2 = .01; and the interaction between aperture and focus distance, Experiment 2: F(1, 34) = 0.00, p = .96, Î· p 2 = .00; Experiment 3: F(1, 31) = 2.86, p = .10, Î· p 2 = .08, did not reach significance."
        ],
        [
         "19",
         "For congruency, larger EPN amplitudes (incongruent negative: M = -2.09, SD = 2.29; M = -1.82, SD = 2.48; incongruent positive: M = -2.25, SD = 2.51) were found for incongruent positive compared with congruent evaluations (p = .004) but not compared with incongruent negative evaluations (p = .077)."
        ],
        [
         "20",
         "A Mantel-Cox log rank test indicated that waiting times in the unaware condition (M = 302.53 s, nonparametric bootstrapped 95% CI = [194.01, 411.06]) were not significantly different from those in the unaware/additional rewards condition (M = 417.90 s, nonparametric bootstrapped 95% CI = [317.87, 517.93]), Mantel-Cox Ï‡ 2 (1, N = 60) = 1.63, p = .202."
        ],
        [
         "21",
         "Egger's test, however, was again nonsignificant, intercept = 0.55, 95% CI = [-0.28, 1.37], t = 1.30, p = .202."
        ],
        [
         "22",
         "Compared with participants who disbelieved the official story, the correlation was more strongly positive for the 9/11 terrorist attacks (z = 4.54, p < .001) and Hitler's suicide (z = 6.98, p < .001) but not significantly different for COVID-19 (z = 1.45, p = .148) and climate change (z = 0.15, p = .883)."
        ],
        [
         "23",
         "Replicating Experiments 1 and 2, results showed that the similarity-search condition did not elicit a reliable difference between the highand low-prevalence conditions (4.7% difference in miss rates), t(21) = 1.49, p = .152, Î± = .025."
        ],
        [
         "24",
         "Again, results indicated that endorsement of direct aggression was higher for violations that targeted the self rather than another person, t(343) = -4.57, p < .001, d = -0.43, 95% CI = [-0.65, -0.22], whereas target condition did not have a significant effect on endorsement of indirect aggression, though the pattern of the means was in the opposing direction, t(343) = 1.03, p > .25, d = 0.10, 95% CI = [-0.11, 0.31] (see Fig."
        ],
        [
         "25",
         "The receivers' overall corrugator activity was not significantly different during touch compared with baseline (EMM = -.04, 95% CI = [-.10, .03]), t(28) = -1.15, p = .262, nor did it vary with cue, F(5, 901) = 1.50, p = .188 (Fig. 2b)."
        ],
        [
         "26",
         "Participants in the time-pressure condition (n = 80; M = 3.86, SD = 1.65) did not report significantly higher die-roll outcomes than participants in the self-paced condition (n = 97; M = 3.68, SD = 1.70), Z = 0.70, p = .241, rank biserial correlation (r bc ) = -.05, 95% CI = [-âˆž, .09]."
        ],
        [
         "27",
         "But, most important, the slope at 45Â° was not significantly higher than the slope at 0Â°, Î² = 0.002, t(9) = 2.143, p = .061, and at 90Â° it was significantly lower, Î² = -0.004, t(9) = -4.5, p = .001."
        ],
        [
         "28",
         "For low-probability trials, we also found no difference in RTs between trials that were preceded by a low-probability trial (2.46 s, SD = 1.40) and those preceded by a high-probability trial (2.56 s, SD = 1.22), t(23) = 0.76, p = .452, Cohen's d = 0.16, 95% CI = [-0.16, 0.35]."
        ],
        [
         "29",
         "The interaction between familiarity and length was also significant, F(1, 19) = 13.55, p = .002, Î· p 2 = .42, OP = .94, because of higher peaks for five-letter pseudowords (M = 17.05%, SD = 8.17) compared with three-letter pseudowords (M = 14.16%, SD = 6.11), t(19) = -3.58, p = .002, but length was not significant in the case of real words (five letters: M = 13.35%, SD = 5.14; three letters: M = 13.31%, SD = 4.73), t(19) = -0.10, p = .92."
        ],
        [
         "30",
         "Finally, the effect of feeling small was tested by adding the variable to the intercept-only model-feeling small was not significantly related to behavior in the dictator game, Wald Ï‡ 2 (1) = 0.08, b = -0.006, SE = 0.022, 95% CI = [-0.050, 0.037], p = .781 (QICc = 333.06)."
        ],
        [
         "31",
         "However, the difference between imagining the CS+ and imagining the CS-was not significant, t(26) = 1.03, p = .31, d = 0.20."
        ],
        [
         "32",
         "The Target Ã— Valence interaction was not significant, t(18.13) = 0.73, b = 0.21, 95% CI = [-0.36, 0.79], p = .476."
        ],
        [
         "33",
         "Similarly, there was no significant relationship between CP enjoyment change and CP fear change (Model 6c: Î² = 0.01, SE = 0.09, p = .908)."
        ],
        [
         "34",
         "Fisher's r-to-z tests were significant for seven of the topics (4.77 < zs < 8.21, ps < .001), with the exception of Elvis's death (z = 1.52, p = .128)."
        ],
        [
         "35",
         "Participants fixated on the familiar face earlier when they had more time before they were allowed to move their gaze, but this effect was not statistically significant in either group-Israeli sample: t(34) = -1.51, p = .070, d = 0.26, 95% CI = [-0.08, 0.6]; German sample: t(32) = -1.34, p = .095, d = 0.23, 95% CI = [-0.12, 0.59]."
        ],
        [
         "36",
         "However, and in contrast to these findings, when participants heard sounds during the continuous report phase (Fig. 3d), we found that error on unrelated trials was not significantly different from error on sound A trials, t(84) = 1.56, p = 0.12, Cohen's d z = 0.16, 95% CI = [-1.043, 0.705], BF 01 = 2.61, and sound B trials, t(84) = 1.42, p = .16, Cohen's d z = 0.15, 95% CI = [-0.51, 0.818], BF 01 = 3.18."
        ],
        [
         "37",
         "Post hoc t tests on the main effect of CS type revealed a significant difference between the aversive CS+ and the CS-(p = .023) and (marginally) between the aversive CS+ and the neutral CS+ (p = .054) but not between the neutral CS+ and the CS-(p = .970)."
        ],
        [
         "38",
         "Here, we found no main effect of experiment, F(1, 78) = 0.18, p = 0.67, Î· p 2 < .01), a main effect of sound, F(1, 78) = 24.04, p < .0001, Î· p 2 = .24, and a significant interaction, F(1, 78) = 4.21, p = .0435, Î· p 2 = .05."
        ],
        [
         "39",
         "Importantly, the subjective and physiological response to the psychosocial stressor was not significantly modulated by the expectancy violation-Treatment Ã— Expectancy Violation for the subjective ratings and baseline-to-peak increase in cortisol as well as Treatment Ã— Expectancy Violation Ã— Time Point of Measurement for the mood questionnaire and cortisol: all Fs < 1.13, all ps > .328, all Î· p 2 s < .03; restlessness: F(1, 90) = 3.42, p = .068, Î· p 2 = .04."
        ],
        [
         "40",
         "The triple interaction (Î² = -0.06, 95% CI = [-0.20, 0.08], p = .428) did not significantly improve the model compared to the model with only an interaction between ejection event and ejected team, likelihood ratio test Ï‡ 2 (4) = 3.53, p = .473."
        ],
        [
         "41",
         "Opponent height did not significantly affect coins kept for self in the dictator game, Wald Ï‡ 2 (1) = 1.34, b = -0.006, SE = 0.005, 95% CI = [-0.015, 0.004], p = .247 (QICc = 325.85)."
        ],
        [
         "42",
         "There was no evidence that the effect was significantly different by gender, parameter difference = .013, SE = .015, p = .400, 99% CI = [-.026, .051]."
        ],
        [
         "43",
         "Tukey's HSD tests showed no significant difference between scores in the mindfulness and mind-wandering conditions (p = .394), but scores in both the mindfulness (p < .001) and mindwandering conditions (p < .001) were greater than those in the join-the-dots condition."
        ],
        [
         "44",
         "Most importantly, the Context Ã— Phase interaction was significant, F(1, 15) = 22.44, p < .001, Î· p 2 = .6, 95% CI = [.20, .76]: There was a robust, significant contextualcuing effect during the learning phase (119 ms), F(1, 15) = 31.22, p < .001, Î· p 2 = .68, 95% CI = [.31, .80], but no reliable effect during the relocation phase (17 ms), F(1, 15) = 3.1, p = .098, Î· p 2 = .17, 95% CI = [.00, .45]."
        ],
        [
         "45",
         "However, there was not a significant effect of time delay on punishment in the fair condition, F(1, 3058) = 0.84, p = .36, Î· p 2 = .00, as participants in the long-time-delay condition (M = 0.79, SD = 2.16) levied equally severe punishment as those in the short-time-delay condition (M = 0.91, SD = 2.25; see Fig. 2)."
        ],
        [
         "46",
         "Exploratory analyses within the reference conditions showed that self-related incongruent positive evaluations elicited a larger positivity compared with both congruent evaluations (p = .011) and incongruent negative evaluations (p = .042), which did not differ significantly (p = .903)."
        ],
        [
         "47",
         "The perceptual and emotion tasks did not differ significantly in amplitude (p = .801)."
        ],
        [
         "48",
         "On average, relationship satisfaction and causal attributions did not significantly change over time (slope = -0.008, p = .171, 95% confidence interval, or CI = [-0.019, 0.003], r = -.05; slope = 0.001, p = .680, CI = [-0.003, 0.004], r = .02, respectively)."
        ],
        [
         "49",
         "Although participants were slightly less consistent than in Study 1, we found no statistical evidence that the drug treatments made decisions noisier and more inconsistent in the risk task (methylphenidate vs. placebo: b = 0.50, SE = 0.98, p = .609; atomoxetine vs. placebo: b = 0.89, SE = 0.92, p = .337), helping task (methylphenidate vs. placebo: b = -1.55, SE = 1.06, p = .141; atomoxetine vs. placebo: b = 0.74, SE = 0.72, p = .306), or risky helping task (methylphenidate vs. placebo: b = -0.24, SE = 1.43, p = .862; atomoxetine vs. placebo: b = 1.64, SE = 1.28, p = .201)."
        ]
       ],
       "shape": {
        "columns": 1,
        "rows": 66
       }
      },
      "text/html": [
       "<div>\n",
       "<style scoped>\n",
       "    .dataframe tbody tr th:only-of-type {\n",
       "        vertical-align: middle;\n",
       "    }\n",
       "\n",
       "    .dataframe tbody tr th {\n",
       "        vertical-align: top;\n",
       "    }\n",
       "\n",
       "    .dataframe thead th {\n",
       "        text-align: right;\n",
       "    }\n",
       "</style>\n",
       "<table border=\"1\" class=\"dataframe\">\n",
       "  <thead>\n",
       "    <tr style=\"text-align: right;\">\n",
       "      <th></th>\n",
       "      <th>text</th>\n",
       "    </tr>\n",
       "  </thead>\n",
       "  <tbody>\n",
       "    <tr>\n",
       "      <th>0</th>\n",
       "      <td>In contrast, there were no significant group d...</td>\n",
       "    </tr>\n",
       "    <tr>\n",
       "      <th>1</th>\n",
       "      <td>We found that sounds did not have a significan...</td>\n",
       "    </tr>\n",
       "    <tr>\n",
       "      <th>2</th>\n",
       "      <td>Following up, we found that sounds had no sign...</td>\n",
       "    </tr>\n",
       "    <tr>\n",
       "      <th>3</th>\n",
       "      <td>This difference, however, was highly significa...</td>\n",
       "    </tr>\n",
       "    <tr>\n",
       "      <th>4</th>\n",
       "      <td>The interaction between familiarity and length...</td>\n",
       "    </tr>\n",
       "    <tr>\n",
       "      <th>...</th>\n",
       "      <td>...</td>\n",
       "    </tr>\n",
       "    <tr>\n",
       "      <th>61</th>\n",
       "      <td>The difference between the boost+ condition (M...</td>\n",
       "    </tr>\n",
       "    <tr>\n",
       "      <th>62</th>\n",
       "      <td>Thus there is no significant relationship betw...</td>\n",
       "    </tr>\n",
       "    <tr>\n",
       "      <th>63</th>\n",
       "      <td>No significant gender differences emerged in a...</td>\n",
       "    </tr>\n",
       "    <tr>\n",
       "      <th>64</th>\n",
       "      <td>The effect of oral contraceptive use was not s...</td>\n",
       "    </tr>\n",
       "    <tr>\n",
       "      <th>65</th>\n",
       "      <td>RT from the visual discrimination phase was ag...</td>\n",
       "    </tr>\n",
       "  </tbody>\n",
       "</table>\n",
       "<p>66 rows × 1 columns</p>\n",
       "</div>"
      ],
      "text/plain": [
       "                                                 text\n",
       "0   In contrast, there were no significant group d...\n",
       "1   We found that sounds did not have a significan...\n",
       "2   Following up, we found that sounds had no sign...\n",
       "3   This difference, however, was highly significa...\n",
       "4   The interaction between familiarity and length...\n",
       "..                                                ...\n",
       "61  The difference between the boost+ condition (M...\n",
       "62  Thus there is no significant relationship betw...\n",
       "63  No significant gender differences emerged in a...\n",
       "64  The effect of oral contraceptive use was not s...\n",
       "65  RT from the visual discrimination phase was ag...\n",
       "\n",
       "[66 rows x 1 columns]"
      ]
     },
     "metadata": {},
     "output_type": "display_data"
    }
   ],
   "source": [
    "display_statements(true_negatives, \"True Negatives (predicted 0, actual 0)\")"
   ]
  },
  {
   "cell_type": "code",
   "execution_count": 23,
   "id": "a79eca53",
   "metadata": {},
   "outputs": [
    {
     "name": "stdout",
     "output_type": "stream",
     "text": [
      "\n",
      "False Positives (predicted 1, actual 0) (count: 1)\n"
     ]
    },
    {
     "data": {
      "application/vnd.microsoft.datawrangler.viewer.v0+json": {
       "columns": [
        {
         "name": "index",
         "rawType": "int64",
         "type": "integer"
        },
        {
         "name": "text",
         "rawType": "object",
         "type": "string"
        }
       ],
       "ref": "01614d41-71a7-4ab2-bb56-bc56832f035a",
       "rows": [
        [
         "0",
         "No main effect of dimensionality was found (3D -2D: Î”M = -0.29 s, SD = 1.74, 95% CI = [-0.65, 0.06], d = 0.17) in the two confirmatory analyses that were preregistered (permuting familiarity of items per subject, per-subject-swap, uncorrected p = .35, or across all subjects, acrosssubjects-swap, uncorrected p = .89; see the Method section; these two comparisons were Bonferroni corrected confidence intervals obtained by bootstrapping."
        ]
       ],
       "shape": {
        "columns": 1,
        "rows": 1
       }
      },
      "text/html": [
       "<div>\n",
       "<style scoped>\n",
       "    .dataframe tbody tr th:only-of-type {\n",
       "        vertical-align: middle;\n",
       "    }\n",
       "\n",
       "    .dataframe tbody tr th {\n",
       "        vertical-align: top;\n",
       "    }\n",
       "\n",
       "    .dataframe thead th {\n",
       "        text-align: right;\n",
       "    }\n",
       "</style>\n",
       "<table border=\"1\" class=\"dataframe\">\n",
       "  <thead>\n",
       "    <tr style=\"text-align: right;\">\n",
       "      <th></th>\n",
       "      <th>text</th>\n",
       "    </tr>\n",
       "  </thead>\n",
       "  <tbody>\n",
       "    <tr>\n",
       "      <th>0</th>\n",
       "      <td>No main effect of dimensionality was found (3D...</td>\n",
       "    </tr>\n",
       "  </tbody>\n",
       "</table>\n",
       "</div>"
      ],
      "text/plain": [
       "                                                text\n",
       "0  No main effect of dimensionality was found (3D..."
      ]
     },
     "metadata": {},
     "output_type": "display_data"
    }
   ],
   "source": [
    "display_statements(false_positives, \"False Positives (predicted 1, actual 0)\")"
   ]
  },
  {
   "cell_type": "code",
   "execution_count": 24,
   "id": "9b473d8e",
   "metadata": {},
   "outputs": [
    {
     "name": "stdout",
     "output_type": "stream",
     "text": [
      "\n",
      "False Negatives (predicted 0, actual 1) (count: 7)\n"
     ]
    },
    {
     "data": {
      "application/vnd.microsoft.datawrangler.viewer.v0+json": {
       "columns": [
        {
         "name": "index",
         "rawType": "int64",
         "type": "integer"
        },
        {
         "name": "text",
         "rawType": "object",
         "type": "string"
        }
       ],
       "ref": "79db1b2d-39a2-436e-8dfb-51891219ebb5",
       "rows": [
        [
         "0",
         "On the other hand, the quadratic component of age was marginally associated with influence magnitude under selfish influence (slope = 32.96, SE = 18.21, p = .072) but not under prosocial influence (slope = -1.11, SE = 10.60, p = .917)."
        ],
        [
         "1",
         "Likewise, there is no significant differences between teams before and after the ejection, suggesting that umpires, when not excessively criticized regarding the strike zone, are not favoring any team with respect to the strike zone before the ejection (OR = 1.163, 95% CI = [0.947, 1.427], p = .2339 for nonstrike-zone verbal abuse; OR = 0.872, 95% CI = [0.677, 1.122], p = .5017 for aggression directed at opponent) and after the ejection (OR = 1.047, 95% CI = [0.805, 1.362], p = .9690 for non-strike-zone verbal abuse; OR = 0.771, 95% CI = [0.550, 1.081], p = .1976 for aggression directed at opponent)."
        ],
        [
         "2",
         "No difference was found in verbal tests, t(343) = 1.20, p = .23."
        ],
        [
         "3",
         "The three-way interaction was not significant, F(1, 21) = 0.01, p = .930, Î· p 2 < .01, which suggests that holistic processing of faces and dot patterns is qualitatively similar."
        ],
        [
         "4",
         "Crucially, we found no correlation between the mean of sham and the effect of alpha tACS-Pearson's r(28) = .097, p = .610; Spearman's Ï = -.016, p = .932; N = 30, suggesting that a larger overestimation in the sham tACS condition corresponded to a larger beta-related underestimation."
        ],
        [
         "5",
         "The model was not significant, Ï‡ 2 (3, N = 90) = 2.13, p = .546, which indicates that the hammer-knocking task was not predictive of waiting times across conditions."
        ],
        [
         "6",
         "There was no significant main effect of the security-camera-information condition, F(1, 467) = 0.02, p = .88, Î· p 2 = .00, and no interaction with the condition, F(1, 466) = 0.01, p = .92, Î· p 2 = .00."
        ]
       ],
       "shape": {
        "columns": 1,
        "rows": 7
       }
      },
      "text/html": [
       "<div>\n",
       "<style scoped>\n",
       "    .dataframe tbody tr th:only-of-type {\n",
       "        vertical-align: middle;\n",
       "    }\n",
       "\n",
       "    .dataframe tbody tr th {\n",
       "        vertical-align: top;\n",
       "    }\n",
       "\n",
       "    .dataframe thead th {\n",
       "        text-align: right;\n",
       "    }\n",
       "</style>\n",
       "<table border=\"1\" class=\"dataframe\">\n",
       "  <thead>\n",
       "    <tr style=\"text-align: right;\">\n",
       "      <th></th>\n",
       "      <th>text</th>\n",
       "    </tr>\n",
       "  </thead>\n",
       "  <tbody>\n",
       "    <tr>\n",
       "      <th>0</th>\n",
       "      <td>On the other hand, the quadratic component of ...</td>\n",
       "    </tr>\n",
       "    <tr>\n",
       "      <th>1</th>\n",
       "      <td>Likewise, there is no significant differences ...</td>\n",
       "    </tr>\n",
       "    <tr>\n",
       "      <th>2</th>\n",
       "      <td>No difference was found in verbal tests, t(343...</td>\n",
       "    </tr>\n",
       "    <tr>\n",
       "      <th>3</th>\n",
       "      <td>The three-way interaction was not significant,...</td>\n",
       "    </tr>\n",
       "    <tr>\n",
       "      <th>4</th>\n",
       "      <td>Crucially, we found no correlation between the...</td>\n",
       "    </tr>\n",
       "    <tr>\n",
       "      <th>5</th>\n",
       "      <td>The model was not significant, Ï‡ 2 (3, N = 90...</td>\n",
       "    </tr>\n",
       "    <tr>\n",
       "      <th>6</th>\n",
       "      <td>There was no significant main effect of the se...</td>\n",
       "    </tr>\n",
       "  </tbody>\n",
       "</table>\n",
       "</div>"
      ],
      "text/plain": [
       "                                                text\n",
       "0  On the other hand, the quadratic component of ...\n",
       "1  Likewise, there is no significant differences ...\n",
       "2  No difference was found in verbal tests, t(343...\n",
       "3  The three-way interaction was not significant,...\n",
       "4  Crucially, we found no correlation between the...\n",
       "5  The model was not significant, Ï‡ 2 (3, N = 90...\n",
       "6  There was no significant main effect of the se..."
      ]
     },
     "metadata": {},
     "output_type": "display_data"
    }
   ],
   "source": [
    "display_statements(false_negatives, \"False Negatives (predicted 0, actual 1)\")"
   ]
  },
  {
   "cell_type": "markdown",
   "id": "dad5951c",
   "metadata": {},
   "source": [
    "## 4. SciBERT"
   ]
  },
  {
   "cell_type": "markdown",
   "id": "e94b04de",
   "metadata": {},
   "source": [
    "### 4.1 Initializing SciBERT"
   ]
  },
  {
   "cell_type": "code",
   "execution_count": 25,
   "id": "f3cf273a",
   "metadata": {},
   "outputs": [
    {
     "name": "stderr",
     "output_type": "stream",
     "text": [
      "Some weights of BertForSequenceClassification were not initialized from the model checkpoint at allenai/scibert_scivocab_uncased and are newly initialized: ['classifier.bias', 'classifier.weight']\n",
      "You should probably TRAIN this model on a down-stream task to be able to use it for predictions and inference.\n"
     ]
    }
   ],
   "source": [
    "from transformers import AutoModelForSequenceClassification\n",
    "\n",
    "model_scibert = AutoModelForSequenceClassification.from_pretrained(\"allenai/scibert_scivocab_uncased\", num_labels=num_labels, trust_remote_code=True,\n",
    "    use_safetensors=True)"
   ]
  },
  {
   "cell_type": "markdown",
   "id": "ae5f9d14",
   "metadata": {},
   "source": [
    "### 4.2 Training SciBERT"
   ]
  },
  {
   "cell_type": "code",
   "execution_count": 26,
   "id": "7f85b9fe",
   "metadata": {},
   "outputs": [
    {
     "name": "stderr",
     "output_type": "stream",
     "text": [
      "C:\\Users\\Raphael\\AppData\\Local\\Temp\\ipykernel_15220\\2136063693.py:28: FutureWarning: `tokenizer` is deprecated and will be removed in version 5.0.0 for `Trainer.__init__`. Use `processing_class` instead.\n",
      "  trainer_scibert = Trainer(\n"
     ]
    }
   ],
   "source": [
    "# Standard Setup for training a model with Huggingface Transformers\n",
    "from transformers import DataCollatorWithPadding\n",
    "from transformers import TrainingArguments, Trainer\n",
    "import evaluate\n",
    "import numpy as np\n",
    "\n",
    "data_collator = DataCollatorWithPadding(tokenizer=tokenizer)\n",
    "\n",
    "metric = evaluate.load(\"accuracy\")\n",
    "\n",
    "def compute_metrics(eval_pred):\n",
    "    logits, labels = eval_pred\n",
    "    predictions = np.argmax(logits, axis=-1)\n",
    "    return metric.compute(predictions=predictions, references=labels)\n",
    "\n",
    "training_args = TrainingArguments(\n",
    "    output_dir=\"./results\",\n",
    "    learning_rate=2e-5, # Specify learning rate for BERT\n",
    "    per_device_train_batch_size=8,\n",
    "    per_device_eval_batch_size=8,\n",
    "    num_train_epochs=5,\n",
    "    weight_decay=0.01,\n",
    "    logging_strategy=\"epoch\",\n",
    "    report_to=\"none\",\n",
    ")\n",
    "\n",
    "# Model specific setup\n",
    "trainer_scibert = Trainer(\n",
    "    model=model_scibert,\n",
    "    args=training_args,\n",
    "    train_dataset=tokenized_train,\n",
    "    eval_dataset=tokenized_test,\n",
    "    tokenizer=tokenizer,\n",
    "    data_collator=data_collator,\n",
    "    compute_metrics=compute_metrics\n",
    ")"
   ]
  },
  {
   "cell_type": "code",
   "execution_count": 27,
   "id": "a5e95551",
   "metadata": {},
   "outputs": [
    {
     "data": {
      "text/html": [
       "\n",
       "    <div>\n",
       "      \n",
       "      <progress value='335' max='335' style='width:300px; height:20px; vertical-align: middle;'></progress>\n",
       "      [335/335 02:08, Epoch 5/5]\n",
       "    </div>\n",
       "    <table border=\"1\" class=\"dataframe\">\n",
       "  <thead>\n",
       " <tr style=\"text-align: left;\">\n",
       "      <th>Step</th>\n",
       "      <th>Training Loss</th>\n",
       "    </tr>\n",
       "  </thead>\n",
       "  <tbody>\n",
       "    <tr>\n",
       "      <td>67</td>\n",
       "      <td>0.724000</td>\n",
       "    </tr>\n",
       "    <tr>\n",
       "      <td>134</td>\n",
       "      <td>0.565300</td>\n",
       "    </tr>\n",
       "    <tr>\n",
       "      <td>201</td>\n",
       "      <td>0.370700</td>\n",
       "    </tr>\n",
       "    <tr>\n",
       "      <td>268</td>\n",
       "      <td>0.207100</td>\n",
       "    </tr>\n",
       "    <tr>\n",
       "      <td>335</td>\n",
       "      <td>0.109700</td>\n",
       "    </tr>\n",
       "  </tbody>\n",
       "</table><p>"
      ],
      "text/plain": [
       "<IPython.core.display.HTML object>"
      ]
     },
     "metadata": {},
     "output_type": "display_data"
    },
    {
     "data": {
      "text/plain": [
       "TrainOutput(global_step=335, training_loss=0.3953793027507725, metrics={'train_runtime': 129.36, 'train_samples_per_second': 20.64, 'train_steps_per_second': 2.59, 'total_flos': 380067002800200.0, 'train_loss': 0.3953793027507725, 'epoch': 5.0})"
      ]
     },
     "execution_count": 27,
     "metadata": {},
     "output_type": "execute_result"
    }
   ],
   "source": [
    "trainer_scibert.train()"
   ]
  },
  {
   "cell_type": "markdown",
   "id": "a224b6ad",
   "metadata": {},
   "source": [
    "#### 4.2.1 Save last model"
   ]
  },
  {
   "cell_type": "code",
   "execution_count": 28,
   "id": "9bd9ac48",
   "metadata": {},
   "outputs": [],
   "source": [
    "# trainer_scibert.save_model('scibert_model')"
   ]
  },
  {
   "cell_type": "markdown",
   "id": "707975b1",
   "metadata": {},
   "source": [
    "### 4.3 Evaluate model"
   ]
  },
  {
   "cell_type": "markdown",
   "id": "e3820bb0",
   "metadata": {},
   "source": [
    "#### 4.3.1 Predict training data"
   ]
  },
  {
   "cell_type": "code",
   "execution_count": 29,
   "id": "00fea5de",
   "metadata": {},
   "outputs": [
    {
     "data": {
      "text/html": [],
      "text/plain": [
       "<IPython.core.display.HTML object>"
      ]
     },
     "metadata": {},
     "output_type": "display_data"
    },
    {
     "name": "stdout",
     "output_type": "stream",
     "text": [
      "              precision    recall  f1-score   support\n",
      "\n",
      "           0       0.99      0.99      0.99       267\n",
      "           1       0.99      0.99      0.99       267\n",
      "\n",
      "    accuracy                           0.99       534\n",
      "   macro avg       0.99      0.99      0.99       534\n",
      "weighted avg       0.99      0.99      0.99       534\n",
      "\n"
     ]
    }
   ],
   "source": [
    "from sklearn.metrics import classification_report\n",
    "\n",
    "preds = trainer_scibert.predict(tokenized_train)\n",
    "preds = np.argmax(preds[:3][0],axis=1)\n",
    "GT = df_train['label'].tolist()\n",
    "print(classification_report(GT,preds))"
   ]
  },
  {
   "cell_type": "markdown",
   "id": "8660fc64",
   "metadata": {},
   "source": [
    "#### 4.3.2 Predict test data"
   ]
  },
  {
   "cell_type": "code",
   "execution_count": 30,
   "id": "7508859d",
   "metadata": {},
   "outputs": [
    {
     "data": {
      "text/html": [],
      "text/plain": [
       "<IPython.core.display.HTML object>"
      ]
     },
     "metadata": {},
     "output_type": "display_data"
    },
    {
     "name": "stdout",
     "output_type": "stream",
     "text": [
      "              precision    recall  f1-score   support\n",
      "\n",
      "           0       0.86      0.81      0.83        67\n",
      "           1       0.82      0.87      0.84        67\n",
      "\n",
      "    accuracy                           0.84       134\n",
      "   macro avg       0.84      0.84      0.84       134\n",
      "weighted avg       0.84      0.84      0.84       134\n",
      "\n"
     ]
    }
   ],
   "source": [
    "preds = trainer_scibert.predict(tokenized_test)\n",
    "preds = np.argmax(preds[:3][0],axis=1) #preds[:3][1]\n",
    "GT = df_test['label'].tolist()\n",
    "print(classification_report(GT,preds))"
   ]
  },
  {
   "cell_type": "markdown",
   "id": "0ce497a8",
   "metadata": {},
   "source": [
    "#### 4.3.3 Confusion-Matrix for test data"
   ]
  },
  {
   "cell_type": "code",
   "execution_count": 31,
   "id": "d93a5042",
   "metadata": {},
   "outputs": [
    {
     "data": {
      "image/png": "[encoded data removed]",
      "text/plain": [
       "<Figure size 600x500 with 2 Axes>"
      ]
     },
     "metadata": {},
     "output_type": "display_data"
    }
   ],
   "source": [
    "import seaborn as sns\n",
    "from sklearn.metrics import confusion_matrix\n",
    "\n",
    "import matplotlib.pyplot as plt\n",
    "\n",
    "# Use predictions and ground truth from previous evaluation on test set\n",
    "conf_matrix = confusion_matrix(GT, preds)\n",
    "\n",
    "plt.figure(figsize=(6,5))\n",
    "sns.heatmap(conf_matrix, annot=True, fmt='d', cmap='Blues',\n",
    "            xticklabels=[\"Predicted 0\", \"Predicted 1\"],\n",
    "            yticklabels=[\"Actual 0\", \"Actual 1\"])\n",
    "\n",
    "plt.xlabel('Predicted Label')\n",
    "plt.ylabel('True Label')\n",
    "plt.title('Confusion Matrix')\n",
    "plt.show()"
   ]
  },
  {
   "cell_type": "markdown",
   "id": "b87f39f9",
   "metadata": {},
   "source": [
    "#### 4.3.4 List of statements per category (TP, TN, FP, FN)"
   ]
  },
  {
   "cell_type": "code",
   "execution_count": 32,
   "id": "aafa1591",
   "metadata": {},
   "outputs": [],
   "source": [
    "# Get ground truth and predictions for test set\n",
    "y_true = df_test['label'].tolist()\n",
    "y_pred = preds\n",
    "\n",
    "# True Positives: predicted 1, actual 1\n",
    "true_positives = df_test[(df_test['label'] == 1) & (y_pred == 1)]\n",
    "\n",
    "# True Negatives: predicted 0, actual 0\n",
    "true_negatives = df_test[(df_test['label'] == 0) & (y_pred == 0)]\n",
    "\n",
    "# False Positives: predicted 1, actual 0\n",
    "false_positives = df_test[(df_test['label'] == 0) & (y_pred == 1)]\n",
    "\n",
    "# False Negatives: predicted 0, actual 1\n",
    "false_negatives = df_test[(df_test['label'] == 1) & (y_pred == 0)]\n",
    "\n",
    "# Function to print statements\n",
    "import pandas as pd\n",
    "from IPython.display import display\n",
    "\n",
    "def display_statements(df, title):\n",
    "    if not df.empty:\n",
    "        print(f\"\\n{title} (count: {len(df)})\")\n",
    "        display(df[['text']].reset_index(drop=True))\n",
    "    else:\n",
    "        print(f\"\\n{title}: None\")"
   ]
  },
  {
   "cell_type": "code",
   "execution_count": 33,
   "id": "86cda504",
   "metadata": {},
   "outputs": [
    {
     "name": "stdout",
     "output_type": "stream",
     "text": [
      "\n",
      "True Positives (predicted 1, actual 1) (count: 58)\n"
     ]
    },
    {
     "data": {
      "application/vnd.microsoft.datawrangler.viewer.v0+json": {
       "columns": [
        {
         "name": "index",
         "rawType": "int64",
         "type": "integer"
        },
        {
         "name": "text",
         "rawType": "object",
         "type": "string"
        }
       ],
       "ref": "3a0572f6-1f10-44e6-a9fa-8552fec64c60",
       "rows": [
        [
         "0",
         "There was no correlation between CAPS score and performance in the nonforced condition of the dichoticlistening task, as assessed by the number of right-ear responses (Hypothesis 2), r S (1263) = .006, 95% CI = [-0.05, 0.06], p = .842, and equivalence testing indicated that the effect was statistically indistinguishable from 0 (p < .001)."
        ],
        [
         "1",
         "On the other hand, hunger and desire for food increased only during the food deprivation session-desire for food: Î² = 9.78, SE = 0.58, t(95.47) = 16.91, p < .001, hunger: Î² = 9.4, SE = 0.53, t(415) = 17.61, p < .001-and not during the baseline session (p > .15)."
        ],
        [
         "2",
         "The number of observed individuals had no effect on either the amount, F (, ) . 3 212 1 78 =, p = .152, Î· 2 02 = ., 90% CI = [.00, .06], the rate of cultural divergence, F (, ) . 3 208 0 60 =, p = .617, Î· p 2 = .00, 90% CI = [.00, .03]."
        ],
        [
         "3",
         "There was no interaction between age group and condition, F(2, 186) = 0.06, p = .94."
        ],
        [
         "4",
         "Medical maximizers showed greater belief in both true and false headlines (this pattern was more strongly positive for belief in false headlines); in contrast, there was no such correlation with sharing discernment, F(1, 25582) = 0.03, p = .87."
        ],
        [
         "5",
         "On the other hand, the quadratic component of age was marginally associated with influence magnitude under selfish influence (slope = 32.96, SE = 18.21, p = .072) but not under prosocial influence (slope = -1.11, SE = 10.60, p = .917)."
        ],
        [
         "6",
         "A rank-based Spearman's correlation test (p < .05 in the Shapiro-Wilk test of normality) indicates that in our sample there was no significant correlation between the calculated subjective-awareness score and the difference in RTs between high-and low-probability locations in the b-CFS task (r = .15, p = .488; see Fig. 2c), suggesting that the effect on conscious access did not depend on the level of awareness of the regularity."
        ],
        [
         "7",
         "Chronic stress did not modulate the effect of social isolation on any dependent variable (p > .1)."
        ],
        [
         "8",
         "RT data showed a very similar pattern: Responses were slower for congruent than for incongruent trials within the probe-key condition, t(193) = 4.21, p < .001, d = 0.30, BF 10 = 677.40; difference M = 0.053 log 10 (RT/s), 95% CI = [0.032, 0.074]; congruent: M = 1.15 s, incongruent: M = 1.09 s, difference: M = 0.060 s (see Fig. S7 in the Supplemental Material), but there was no such difference for the probe-other condition, t(193) = -1.03, p = .152, d = 0.07; difference: M = -0.013 log 10 (RT/s), 95% CI = [-0.035, 0.0080]; congruent: M = 1.21 s, incongruent: M = 1.24 s, difference M = -0.032 s (see Fig. S7), although the evidence for a null effect here was anecdotal at best (BF 10 = 0.54)."
        ],
        [
         "9",
         "Comparing these correlation coefficients, we found that participants in the disagreeing-perspective condition produced more diverse errors than participants in both the self-perspective condition (d = 0.99) and agreeing-perspective condition (d = 1.00; both ps < .001), whereas there was no difference in the diversity of errors between the self-and agreeingperspective conditions (d = 0.02, p = .81)."
        ],
        [
         "10",
         "Given no main effect of depth of processing, F(1, 1039) = 0.25, p = .616, Î· p 2 < .001, the deep and shallow conditions were collapsed."
        ],
        [
         "11",
         "No main effect of saccade amplitude on judgment appeared, F(1, 26) = 1.122, p = .299, Î· p 2 = .041, but there was an effect of stimuli type, F(3, 78) = 20.836, p < .001, Î· p 2 = .445 (Ms = 4.06Â°, 3.33Â°, 4.31Â°, and 3.44Â° for classrooms, pools, restaurants, and roads, respectively), and an interaction, F(3, 78) = 4.869, p = .004, Î· p 2 = .158, with restaurants having a trend for longer saccades during subordinate categorizations (M = 4.62Â°) than during basic categorizations (M = 3.99Â°), t(26) = 1.735, p = .094."
        ],
        [
         "12",
         "Importantly, stress did not modulate the accuracy difference between repeat and switch trials (Condition Ã— Trial Type: p = .192), which provides evidence against the possibility that increased effort aversion under stress was simply caused by a desire to avoid more errors."
        ],
        [
         "13",
         "As expected on the basis of previous studies, t tests showed that there were no differences between groups on tests of either verbal, t(50) = 0.93, p = .36, or visual, t(50) = 1.00, p = .32, recognition memory of the film (Table S1 in the Supplemental Material)-this is consistent with the possibility that intrusivememory frequency (diary/IPT intrusion score) was influenced while leaving recognition memory (for facts and scenes in the trauma film) intact."
        ],
        [
         "14",
         "On the other hand, the model showed no main effect of age on influence magnitude, Ï‡ 2 (2) = 1.30, p = .521."
        ],
        [
         "15",
         "Again, there was no effect of training group, F(1, 48) < 0.01, p = .95, Ï‰ p 2 = -.02, 95% CI = [.00, 1.00], and no interaction, F(2, 96) = 2.58, p = .08, Ï‰ p 2 = .02, 95% CI = [.00, .08]."
        ],
        [
         "16",
         "Meanwhile, on lossframed trials, there was a significant interaction, b = -4.51, SE = 0.75, z = -6.03, p < .001; participants were less likely to look at the second option if they first fixated a gamble with high expected value, b = -4.31, SE = 0.49, z = -8.74, p < .001, whereas there was no effect of expected value if they first fixated the sure loss, b = 0.20, SE = 0.56, z = 0.35, p = .73."
        ],
        [
         "17",
         "Critically, whereas overall response times were faster for objects in the horizontal than the vertical plane-main effect of orientation: F(2.4) = 9.1, p < .001, Î· p 2 = .10-learned prioritization also did not differ between orientations-interaction: F(2, 158) = 0.26, p = .77, Î· p 2 = .003, BF excl = 45.1."
        ],
        [
         "18",
         "In addition, LPIPS scores were not correlated with trial-wise aesthetic ratings (for self-relevant trials, r = -.046, p = .19; for other-relevant trials, r = .00023, p = .99)."
        ],
        [
         "19",
         "The effect of age was marginally modulated by the direction of influence, Ï‡ 2 (2) = 5.04, p = .080 (Fig. 5, top panel): Under prosocial influence, influence probability was higher for young adolescents than for adults (young adolescents -adults: contrast = 1.05, SE = 0.27, p Bonf < .001; for all contrasts, see Table S4a in the Supplemental Material) and marginally higher than for midadolescents (young adolescents -midadolescents: contrast = 0.65, SE = 0.25, p Bonf = .061), whereas this was not the case under selfish influence, where influence probability did not differ between age groups (all p Bonf s > .110)."
        ],
        [
         "20",
         "Self-reported height in centimeters (absolute height) did not predict coin allocation, Wald Ï‡ 2 (1) = 0.06, p = .939 (controlling for participant sex, Wald Ï‡ 2 (1) = 0.32, p = .570)."
        ],
        [
         "21",
         "Further, the self and other scenarios did not differ in their moral wrongness as rated by participants, t(345) = 1.41, d = 0.15, 95% CI = [-0.06, 0.36], p = .160 (for descriptive statistics and bivariate correlations, see Tables S4.1 and S4.2 in the Supplemental Material)."
        ],
        [
         "22",
         "As expected, there was no difference between participants in the agreeing-and self-perspective conditions (d = 0.04, p = .51)."
        ],
        [
         "23",
         "When participants fixated only one of the two options, they were highly likely to choose whichever option they fixated regardless of whether time was unlimited, b = 3.52, SE = 0.32, z = 10.86, p < .001, or constrained, b = 2.95, SE = 0.15, z = 20.18, p < .001 (there was no difference between conditions, b = -0.57, SE = 0.34, z = -1.70, p = .09)."
        ],
        [
         "24",
         "Consistent with our expectations, results showed that individuals' implicit partner evaluations did not predict general behaviors (i.e., verbal and nonverbal clustered together) in the conversation, b = 0.15, SE = 0.10, 95% CI = [-0.05, 0.35], p = .144, Î² = 0.05."
        ],
        [
         "25",
         "First fixation had no effect on choice when time was unlimited and both options were attended, b = -0.17, SE = 0.09, z = -1.76, p = .08."
        ],
        [
         "26",
         "There were no differences in participant proportion of females relative to the overall sample for Profiles 3 (p = .06) and 5 (p = .09; see Fig."
        ],
        [
         "27",
         "The results indicate that both participants in the fearchemosignal condition (M = 46.42, SD = 9.23) and the rest-body-odor condition (M = 45.22, SD = 10.62) counted a very similar number of bluefish consuming the food morsels (W = 7,538.50, p = .273), indicating that participants in both odor conditions were similarly engaged in the task."
        ],
        [
         "28",
         "There was no difference between congruent and incongruent trials in the probe-other condition, t(193) = -0.23, p = .591, d = 0.02; difference: M = -0.30%, 95% CI = [-2.45, 1.85] (see Fig. 3), and the data were about 3 times more likely under the null hypothesis of no difference (BF 10 = 0.34)."
        ],
        [
         "29",
         "However, unlike in Experiment 1, the amount of cultural divergence did not grow over time, t( ) . 214 0 39 =, p = .694, r 2 00 = ., 90% CI = [.00, .02]."
        ],
        [
         "30",
         "The results showed no difference in the weight assigned to the value of losses and gains per se, t(55) < 1.2, p > .23, Cohen's d < .17, only to the weight assigned to the associated feelings-expected feelings: t(55) = 3.59, p = .001, 95% CI = [1.29, 4.55], Cohen's d = .479; experienced feelings:"
        ],
        [
         "31",
         "Consistent with study hypotheses emphasizing the importance of cumulative risk, there was not a main effect of treatment condition on epigenetic age acceleration at T3 (b = 0.14, p = .25, with iPCIT coded as 0 and RAU coded as 1)."
        ],
        [
         "32",
         "Participants allocated more area-weighted fixations to the eye region (M = 5,943.88, SE = 853.27) and nose region (M = 5,690.79, SE = 465.17) than the mouth region (M = 1,210.98, SE = 120.56; there was no difference between eyes and nose, p = .761)."
        ],
        [
         "33",
         "ANOVAs within blocks revealed that during the beginning of acquisition, IBI did not differ between CS types (p = .559), whereas CS type modulated IBI in the second block of acquisition (p = .023), as shown in Figure 5."
        ],
        [
         "34",
         "The correlation for participants who were unsure what to believe was largely intermediate between believers and disbelievers: It was weaker than for people who believed the official story for three events (zs > 3.83, ps < .001), with the exception of the 9/11 terrorist attacks (z = 1.72, p = .086)."
        ],
        [
         "35",
         "There was no difference in the ratings given to faces in the other-slow and other-fast conditions, t(28) = 1.44, p = .16, Cohen's d = 0.27."
        ],
        [
         "36",
         "A negative binomial regression showed no difference in the number of accurately counted food items between conditions, Wald Ï‡ 2 (2, N = 353) = 3.34, p = .188 (see Fig. 2, right)."
        ],
        [
         "37",
         "The third model added the remaining task variables (right-ear syllables in the nonforced condition of the dichotic-listening task, mean span in the digit-span task, imagine-to-hear errors in the source-memory task) and did not improve on the signal detection model (p = .965)."
        ],
        [
         "38",
         "Lottery choices were not predicted by participant sex, Wald Ï‡ 2 = .208, p = .65, or by the interaction of sex ratio and participant sex, Wald Ï‡ 2 = 1.219, p = .27."
        ],
        [
         "39",
         "Results were also independent of the reliability of candidate traits (r = -.02, p = .91)."
        ],
        [
         "40",
         "Groups were matched on gender (p = .108) and years of education (p = .203; mean years of education for younger adults = 15.4, SD = 16.5, range = 11-17; mean years of education for older adults = 15.0, SD = 2.77, range = 6-20)."
        ],
        [
         "41",
         "The magnitude of this effect was equivalent to that for the dot patterns, t(21) = 0.09, p = .930, but smaller than that for the line patterns, t(41) = 3.60, p < .001, Cohen's d = 0.56."
        ],
        [
         "42",
         "Unlike the analyses using RT on search trials as the dependent variable, there was no main effect of real-time entropy on fixation time, F(1, 22,897.2) = 1.64, p = .20, Î² = -0.006, SE = 0.005."
        ],
        [
         "43",
         "As in Study 1, individuals' risk and social preferences were uncorrelated (Spearman's r = .03, p = .800)."
        ],
        [
         "44",
         "Decoy selections did not depend on age, b = 0.007, 95% CI = [-0.234, 0.248], p = .954, or gender, b = 0.036, 95% CI = [-0.214, 0.283], p = .784."
        ],
        [
         "45",
         "As predicted, a Mann-Whitney U test indicated that the percentage of children who waited for the full 15-min period (50%) was comparable with the waiting times in the aware condition of Study 1 (40%; Z = -0.77, p = .440)."
        ],
        [
         "46",
         "There was also no effect of familiarity, F(2, 96) = 0.12, p = .89, Ï‰ p 2 = -.01, 95% CI = [.00, .08]."
        ],
        [
         "47",
         "Simple-slopes analysis revealed that participants scoring higher on trait sociability (+1 SD) reported lower energetic arousal on social isolation days compared with baseline days, Î² = -4.69, SE = 1.84, t(69.16) = -2.55, p = .013, but this was not the case for those scoring lower (-1 SD) on sociability, Î² = 0.70, SE = 1.79, t(69.16) = 0.39, p = .696."
        ],
        [
         "48",
         "Nor were there gender differences in politeness of remarks (57% of men, 44% of women), b = -0.13, t(187) = -1.46, p = .145, 95% CI = [-0.30, 0.04]."
        ],
        [
         "49",
         "This effect did not interact with the order of the groups, F(1, 539) = 2.33, p = .128, Î· p 2 = .004."
        ]
       ],
       "shape": {
        "columns": 1,
        "rows": 58
       }
      },
      "text/html": [
       "<div>\n",
       "<style scoped>\n",
       "    .dataframe tbody tr th:only-of-type {\n",
       "        vertical-align: middle;\n",
       "    }\n",
       "\n",
       "    .dataframe tbody tr th {\n",
       "        vertical-align: top;\n",
       "    }\n",
       "\n",
       "    .dataframe thead th {\n",
       "        text-align: right;\n",
       "    }\n",
       "</style>\n",
       "<table border=\"1\" class=\"dataframe\">\n",
       "  <thead>\n",
       "    <tr style=\"text-align: right;\">\n",
       "      <th></th>\n",
       "      <th>text</th>\n",
       "    </tr>\n",
       "  </thead>\n",
       "  <tbody>\n",
       "    <tr>\n",
       "      <th>0</th>\n",
       "      <td>There was no correlation between CAPS score an...</td>\n",
       "    </tr>\n",
       "    <tr>\n",
       "      <th>1</th>\n",
       "      <td>On the other hand, hunger and desire for food ...</td>\n",
       "    </tr>\n",
       "    <tr>\n",
       "      <th>2</th>\n",
       "      <td>The number of observed individuals had no effe...</td>\n",
       "    </tr>\n",
       "    <tr>\n",
       "      <th>3</th>\n",
       "      <td>There was no interaction between age group and...</td>\n",
       "    </tr>\n",
       "    <tr>\n",
       "      <th>4</th>\n",
       "      <td>Medical maximizers showed greater belief in bo...</td>\n",
       "    </tr>\n",
       "    <tr>\n",
       "      <th>5</th>\n",
       "      <td>On the other hand, the quadratic component of ...</td>\n",
       "    </tr>\n",
       "    <tr>\n",
       "      <th>6</th>\n",
       "      <td>A rank-based Spearman's correlation test (p &lt; ...</td>\n",
       "    </tr>\n",
       "    <tr>\n",
       "      <th>7</th>\n",
       "      <td>Chronic stress did not modulate the effect of ...</td>\n",
       "    </tr>\n",
       "    <tr>\n",
       "      <th>8</th>\n",
       "      <td>RT data showed a very similar pattern: Respons...</td>\n",
       "    </tr>\n",
       "    <tr>\n",
       "      <th>9</th>\n",
       "      <td>Comparing these correlation coefficients, we f...</td>\n",
       "    </tr>\n",
       "    <tr>\n",
       "      <th>10</th>\n",
       "      <td>Given no main effect of depth of processing, F...</td>\n",
       "    </tr>\n",
       "    <tr>\n",
       "      <th>11</th>\n",
       "      <td>No main effect of saccade amplitude on judgmen...</td>\n",
       "    </tr>\n",
       "    <tr>\n",
       "      <th>12</th>\n",
       "      <td>Importantly, stress did not modulate the accur...</td>\n",
       "    </tr>\n",
       "    <tr>\n",
       "      <th>13</th>\n",
       "      <td>As expected on the basis of previous studies, ...</td>\n",
       "    </tr>\n",
       "    <tr>\n",
       "      <th>14</th>\n",
       "      <td>On the other hand, the model showed no main ef...</td>\n",
       "    </tr>\n",
       "    <tr>\n",
       "      <th>15</th>\n",
       "      <td>Again, there was no effect of training group, ...</td>\n",
       "    </tr>\n",
       "    <tr>\n",
       "      <th>16</th>\n",
       "      <td>Meanwhile, on lossframed trials, there was a s...</td>\n",
       "    </tr>\n",
       "    <tr>\n",
       "      <th>17</th>\n",
       "      <td>Critically, whereas overall response times wer...</td>\n",
       "    </tr>\n",
       "    <tr>\n",
       "      <th>18</th>\n",
       "      <td>In addition, LPIPS scores were not correlated ...</td>\n",
       "    </tr>\n",
       "    <tr>\n",
       "      <th>19</th>\n",
       "      <td>The effect of age was marginally modulated by ...</td>\n",
       "    </tr>\n",
       "    <tr>\n",
       "      <th>20</th>\n",
       "      <td>Self-reported height in centimeters (absolute ...</td>\n",
       "    </tr>\n",
       "    <tr>\n",
       "      <th>21</th>\n",
       "      <td>Further, the self and other scenarios did not ...</td>\n",
       "    </tr>\n",
       "    <tr>\n",
       "      <th>22</th>\n",
       "      <td>As expected, there was no difference between p...</td>\n",
       "    </tr>\n",
       "    <tr>\n",
       "      <th>23</th>\n",
       "      <td>When participants fixated only one of the two ...</td>\n",
       "    </tr>\n",
       "    <tr>\n",
       "      <th>24</th>\n",
       "      <td>Consistent with our expectations, results show...</td>\n",
       "    </tr>\n",
       "    <tr>\n",
       "      <th>25</th>\n",
       "      <td>First fixation had no effect on choice when ti...</td>\n",
       "    </tr>\n",
       "    <tr>\n",
       "      <th>26</th>\n",
       "      <td>There were no differences in participant propo...</td>\n",
       "    </tr>\n",
       "    <tr>\n",
       "      <th>27</th>\n",
       "      <td>The results indicate that both participants in...</td>\n",
       "    </tr>\n",
       "    <tr>\n",
       "      <th>28</th>\n",
       "      <td>There was no difference between congruent and ...</td>\n",
       "    </tr>\n",
       "    <tr>\n",
       "      <th>29</th>\n",
       "      <td>However, unlike in Experiment 1, the amount of...</td>\n",
       "    </tr>\n",
       "    <tr>\n",
       "      <th>30</th>\n",
       "      <td>The results showed no difference in the weight...</td>\n",
       "    </tr>\n",
       "    <tr>\n",
       "      <th>31</th>\n",
       "      <td>Consistent with study hypotheses emphasizing t...</td>\n",
       "    </tr>\n",
       "    <tr>\n",
       "      <th>32</th>\n",
       "      <td>Participants allocated more area-weighted fixa...</td>\n",
       "    </tr>\n",
       "    <tr>\n",
       "      <th>33</th>\n",
       "      <td>ANOVAs within blocks revealed that during the ...</td>\n",
       "    </tr>\n",
       "    <tr>\n",
       "      <th>34</th>\n",
       "      <td>The correlation for participants who were unsu...</td>\n",
       "    </tr>\n",
       "    <tr>\n",
       "      <th>35</th>\n",
       "      <td>There was no difference in the ratings given t...</td>\n",
       "    </tr>\n",
       "    <tr>\n",
       "      <th>36</th>\n",
       "      <td>A negative binomial regression showed no diffe...</td>\n",
       "    </tr>\n",
       "    <tr>\n",
       "      <th>37</th>\n",
       "      <td>The third model added the remaining task varia...</td>\n",
       "    </tr>\n",
       "    <tr>\n",
       "      <th>38</th>\n",
       "      <td>Lottery choices were not predicted by particip...</td>\n",
       "    </tr>\n",
       "    <tr>\n",
       "      <th>39</th>\n",
       "      <td>Results were also independent of the reliabili...</td>\n",
       "    </tr>\n",
       "    <tr>\n",
       "      <th>40</th>\n",
       "      <td>Groups were matched on gender (p = .108) and y...</td>\n",
       "    </tr>\n",
       "    <tr>\n",
       "      <th>41</th>\n",
       "      <td>The magnitude of this effect was equivalent to...</td>\n",
       "    </tr>\n",
       "    <tr>\n",
       "      <th>42</th>\n",
       "      <td>Unlike the analyses using RT on search trials ...</td>\n",
       "    </tr>\n",
       "    <tr>\n",
       "      <th>43</th>\n",
       "      <td>As in Study 1, individuals' risk and social pr...</td>\n",
       "    </tr>\n",
       "    <tr>\n",
       "      <th>44</th>\n",
       "      <td>Decoy selections did not depend on age, b = 0....</td>\n",
       "    </tr>\n",
       "    <tr>\n",
       "      <th>45</th>\n",
       "      <td>As predicted, a Mann-Whitney U test indicated ...</td>\n",
       "    </tr>\n",
       "    <tr>\n",
       "      <th>46</th>\n",
       "      <td>There was also no effect of familiarity, F(2, ...</td>\n",
       "    </tr>\n",
       "    <tr>\n",
       "      <th>47</th>\n",
       "      <td>Simple-slopes analysis revealed that participa...</td>\n",
       "    </tr>\n",
       "    <tr>\n",
       "      <th>48</th>\n",
       "      <td>Nor were there gender differences in politenes...</td>\n",
       "    </tr>\n",
       "    <tr>\n",
       "      <th>49</th>\n",
       "      <td>This effect did not interact with the order of...</td>\n",
       "    </tr>\n",
       "    <tr>\n",
       "      <th>50</th>\n",
       "      <td>However, a 2 (contingency: performance-depende...</td>\n",
       "    </tr>\n",
       "    <tr>\n",
       "      <th>51</th>\n",
       "      <td>We found that time delays increased perception...</td>\n",
       "    </tr>\n",
       "    <tr>\n",
       "      <th>52</th>\n",
       "      <td>This finding was similar to that in the forced...</td>\n",
       "    </tr>\n",
       "    <tr>\n",
       "      <th>53</th>\n",
       "      <td>Accuracy (proportion of correct responses) did...</td>\n",
       "    </tr>\n",
       "    <tr>\n",
       "      <th>54</th>\n",
       "      <td>Unlike the prior experiment, in which learning...</td>\n",
       "    </tr>\n",
       "    <tr>\n",
       "      <th>55</th>\n",
       "      <td>Further-although participant-centered valence ...</td>\n",
       "    </tr>\n",
       "    <tr>\n",
       "      <th>56</th>\n",
       "      <td>Furthermore, we found that the nudge was effec...</td>\n",
       "    </tr>\n",
       "    <tr>\n",
       "      <th>57</th>\n",
       "      <td>Efficiency did not differ between the congruen...</td>\n",
       "    </tr>\n",
       "  </tbody>\n",
       "</table>\n",
       "</div>"
      ],
      "text/plain": [
       "                                                 text\n",
       "0   There was no correlation between CAPS score an...\n",
       "1   On the other hand, hunger and desire for food ...\n",
       "2   The number of observed individuals had no effe...\n",
       "3   There was no interaction between age group and...\n",
       "4   Medical maximizers showed greater belief in bo...\n",
       "5   On the other hand, the quadratic component of ...\n",
       "6   A rank-based Spearman's correlation test (p < ...\n",
       "7   Chronic stress did not modulate the effect of ...\n",
       "8   RT data showed a very similar pattern: Respons...\n",
       "9   Comparing these correlation coefficients, we f...\n",
       "10  Given no main effect of depth of processing, F...\n",
       "11  No main effect of saccade amplitude on judgmen...\n",
       "12  Importantly, stress did not modulate the accur...\n",
       "13  As expected on the basis of previous studies, ...\n",
       "14  On the other hand, the model showed no main ef...\n",
       "15  Again, there was no effect of training group, ...\n",
       "16  Meanwhile, on lossframed trials, there was a s...\n",
       "17  Critically, whereas overall response times wer...\n",
       "18  In addition, LPIPS scores were not correlated ...\n",
       "19  The effect of age was marginally modulated by ...\n",
       "20  Self-reported height in centimeters (absolute ...\n",
       "21  Further, the self and other scenarios did not ...\n",
       "22  As expected, there was no difference between p...\n",
       "23  When participants fixated only one of the two ...\n",
       "24  Consistent with our expectations, results show...\n",
       "25  First fixation had no effect on choice when ti...\n",
       "26  There were no differences in participant propo...\n",
       "27  The results indicate that both participants in...\n",
       "28  There was no difference between congruent and ...\n",
       "29  However, unlike in Experiment 1, the amount of...\n",
       "30  The results showed no difference in the weight...\n",
       "31  Consistent with study hypotheses emphasizing t...\n",
       "32  Participants allocated more area-weighted fixa...\n",
       "33  ANOVAs within blocks revealed that during the ...\n",
       "34  The correlation for participants who were unsu...\n",
       "35  There was no difference in the ratings given t...\n",
       "36  A negative binomial regression showed no diffe...\n",
       "37  The third model added the remaining task varia...\n",
       "38  Lottery choices were not predicted by particip...\n",
       "39  Results were also independent of the reliabili...\n",
       "40  Groups were matched on gender (p = .108) and y...\n",
       "41  The magnitude of this effect was equivalent to...\n",
       "42  Unlike the analyses using RT on search trials ...\n",
       "43  As in Study 1, individuals' risk and social pr...\n",
       "44  Decoy selections did not depend on age, b = 0....\n",
       "45  As predicted, a Mann-Whitney U test indicated ...\n",
       "46  There was also no effect of familiarity, F(2, ...\n",
       "47  Simple-slopes analysis revealed that participa...\n",
       "48  Nor were there gender differences in politenes...\n",
       "49  This effect did not interact with the order of...\n",
       "50  However, a 2 (contingency: performance-depende...\n",
       "51  We found that time delays increased perception...\n",
       "52  This finding was similar to that in the forced...\n",
       "53  Accuracy (proportion of correct responses) did...\n",
       "54  Unlike the prior experiment, in which learning...\n",
       "55  Further-although participant-centered valence ...\n",
       "56  Furthermore, we found that the nudge was effec...\n",
       "57  Efficiency did not differ between the congruen..."
      ]
     },
     "metadata": {},
     "output_type": "display_data"
    }
   ],
   "source": [
    "display_statements(true_positives, \"True Positives (predicted 1, actual 1)\")"
   ]
  },
  {
   "cell_type": "code",
   "execution_count": 34,
   "id": "7a865798",
   "metadata": {},
   "outputs": [
    {
     "name": "stdout",
     "output_type": "stream",
     "text": [
      "\n",
      "True Negatives (predicted 0, actual 0) (count: 54)\n"
     ]
    },
    {
     "data": {
      "application/vnd.microsoft.datawrangler.viewer.v0+json": {
       "columns": [
        {
         "name": "index",
         "rawType": "int64",
         "type": "integer"
        },
        {
         "name": "text",
         "rawType": "object",
         "type": "string"
        }
       ],
       "ref": "1ef25a9d-6d78-40bf-88b0-b653fd8819e0",
       "rows": [
        [
         "0",
         "In contrast, there were no significant group differences in the linear trend across groups in the rule-based task, F(1, 54) = 0.46, p = .50052, Î· p Â² = .008."
        ],
        [
         "1",
         "We found that sounds did not have a significant impact on report error, F(2, 78) = 2.08, p = .13, Î· 2 = .05 (Fig. 4b), and we did not find a significant RT benefit for related sounds (Ms = 2,008 vs. 2,037 ms), t(39) = 1.73, p = .09, Cohen's d z = 0.27, 95% CI = [-0.073, 0.619], BF 01 = 1.50 (Fig. 4c)."
        ],
        [
         "2",
         "Following up, we found that sounds had no significant impact on report error, F(2, 78) = 0.38, p = .69, Î· 2 = .009 (Fig. 3b), and as expected, RT on related (M = 1,911 ms) and unrelated trials (M = 1,906 ms) was not significantly different, t(39) = 0.29, p = .77, Cohen's d z = 0.04, 95% CI = [-0.379, 0.286], BF 01 = 5.63 (Fig. 3d)."
        ],
        [
         "3",
         "This difference, however, was highly significant in Malayalam readers (p < .0005) but not in Telugu readers (p = .09)."
        ],
        [
         "4",
         "The interaction between familiarity and length, although in the predicted direction, was not significant, F(1, 29) = 0.81, p = .38, Î· p 2 = .03, OP = .14 (pseudowords-three letters: M = 2,175 ms, SD = 776, five letters: M = 2,576 ms, SD = 876; real words-three letters: M = 1,933 ms, SD = 939, five letters: M = 2,055 ms, SD = 1,028)."
        ],
        [
         "5",
         "However, no effect of arousal was found for unconditional penalties, t(24) = 1.16, p = .13."
        ],
        [
         "6",
         "The receivers' zygomatic activity during touch was not overall significantly greater than baseline (EMM = .03, 95% CI = [-.03, .10]), t(28) = 1.02, p = .316, but did vary significantly with the cue, F(5, 920) = 7.04, p < .001 (Fig. 2a)."
        ],
        [
         "7",
         "Meta-regression indicated no significant moderating effect of preexisting perceptions of consensus, b = -0.84, t(35) = -1.44, p = .159."
        ],
        [
         "8",
         "Incongruent evaluations did not differ significantly (p = .865)."
        ],
        [
         "9",
         "Interestingly, here congruent imagery did not lead to a significant increase in accuracy compared with baseline (Fig. 2C), M = 2.21%, SEM Â±2.78, t(10) = 0.79, p = 0.89, 95% CI = [-3.98, 8.4], k = 2 (Bonferroni adjusted two-tailed t test), a result not in line with previous priming research (Ishai & Sagi, 1995;Pearson, 2019)."
        ],
        [
         "10",
         "Consequently, receivers' use of the odd-oneout signal on inversion trials did not differ significantly from their use of the odd-one-out signal on one-ax trials (p > .250), in which alternate selection strategies (M = .02, SE = .02) were only negligibly deployed."
        ],
        [
         "11",
         "Participants scoring higher on trait sociability (+1 SD) had significantly lower desire for social contact on social isolation days compared with baseline days, Î² = -6.52, SE = 2.12, t(66.65) = -3.07, p = .003, but this was not the case for those scoring lower (-1 SD) on sociability, Î² = -0.18, SE = 2.08, t(66.65) = -0.09, p = .929."
        ],
        [
         "12",
         "There was no significant interaction between participant height and opponent height, Wald Ï‡ 2 (1) = 0.38, b = 0.042, SE = 0.068, 95% CI = [-0.091, 0.174], p = .540 (QICc = 203.85)."
        ],
        [
         "13",
         "In contrast, there were no significant differences between the dyslexia (M = 5.44 blocks) and control (M = 4.86 blocks) groups in the total blocks in which they used the optimal conjunctive strategy in the rulebased task (p = .29, 95% CI = [-0.50, 1.66])."
        ],
        [
         "14",
         "SES was not significantly related to coins kept for self in the ultimatum game, Wald Ï‡ 2 (1) = 2.41, b = -0.062, SE = 0.040, 95% CI = [-0.141, 0.016], p = .121 (QICc = 26.23)."
        ],
        [
         "15",
         "For the CFD stimuli, this contrast was not significantly different from zero, t(395) = -0.29, p = .773, Hedges's g z = -0.01, 95% CI = [-0.10, -0.07], but larger than the lower bound of the equivalence bound, t(395) = 2.99, p < .001, and smaller than the upper bound, t(395) = -3.57, p < .001."
        ],
        [
         "16",
         "Egger's test, however, was again nonsignificant, intercept = 0.55, 95% CI = [-0.28, 1.37], t = 1.30, p = .202."
        ],
        [
         "17",
         "Compared with participants who disbelieved the official story, the correlation was more strongly positive for the 9/11 terrorist attacks (z = 4.54, p < .001) and Hitler's suicide (z = 6.98, p < .001) but not significantly different for COVID-19 (z = 1.45, p = .148) and climate change (z = 0.15, p = .883)."
        ],
        [
         "18",
         "The receivers' overall corrugator activity was not significantly different during touch compared with baseline (EMM = -.04, 95% CI = [-.10, .03]), t(28) = -1.15, p = .262, nor did it vary with cue, F(5, 901) = 1.50, p = .188 (Fig. 2b)."
        ],
        [
         "19",
         "For low-probability trials, we also found no difference in RTs between trials that were preceded by a low-probability trial (2.46 s, SD = 1.40) and those preceded by a high-probability trial (2.56 s, SD = 1.22), t(23) = 0.76, p = .452, Cohen's d = 0.16, 95% CI = [-0.16, 0.35]."
        ],
        [
         "20",
         "The interaction between familiarity and length was also significant, F(1, 19) = 13.55, p = .002, Î· p 2 = .42, OP = .94, because of higher peaks for five-letter pseudowords (M = 17.05%, SD = 8.17) compared with three-letter pseudowords (M = 14.16%, SD = 6.11), t(19) = -3.58, p = .002, but length was not significant in the case of real words (five letters: M = 13.35%, SD = 5.14; three letters: M = 13.31%, SD = 4.73), t(19) = -0.10, p = .92."
        ],
        [
         "21",
         "However, the difference between imagining the CS+ and imagining the CS-was not significant, t(26) = 1.03, p = .31, d = 0.20."
        ],
        [
         "22",
         "The Target Ã— Valence interaction was not significant, t(18.13) = 0.73, b = 0.21, 95% CI = [-0.36, 0.79], p = .476."
        ],
        [
         "23",
         "Similarly, there was no significant relationship between CP enjoyment change and CP fear change (Model 6c: Î² = 0.01, SE = 0.09, p = .908)."
        ],
        [
         "24",
         "Fisher's r-to-z tests were significant for seven of the topics (4.77 < zs < 8.21, ps < .001), with the exception of Elvis's death (z = 1.52, p = .128)."
        ],
        [
         "25",
         "Participants fixated on the familiar face earlier when they had more time before they were allowed to move their gaze, but this effect was not statistically significant in either group-Israeli sample: t(34) = -1.51, p = .070, d = 0.26, 95% CI = [-0.08, 0.6]; German sample: t(32) = -1.34, p = .095, d = 0.23, 95% CI = [-0.12, 0.59]."
        ],
        [
         "26",
         "However, and in contrast to these findings, when participants heard sounds during the continuous report phase (Fig. 3d), we found that error on unrelated trials was not significantly different from error on sound A trials, t(84) = 1.56, p = 0.12, Cohen's d z = 0.16, 95% CI = [-1.043, 0.705], BF 01 = 2.61, and sound B trials, t(84) = 1.42, p = .16, Cohen's d z = 0.15, 95% CI = [-0.51, 0.818], BF 01 = 3.18."
        ],
        [
         "27",
         "Here, we found no main effect of experiment, F(1, 78) = 0.18, p = 0.67, Î· p 2 < .01), a main effect of sound, F(1, 78) = 24.04, p < .0001, Î· p 2 = .24, and a significant interaction, F(1, 78) = 4.21, p = .0435, Î· p 2 = .05."
        ],
        [
         "28",
         "Importantly, the subjective and physiological response to the psychosocial stressor was not significantly modulated by the expectancy violation-Treatment Ã— Expectancy Violation for the subjective ratings and baseline-to-peak increase in cortisol as well as Treatment Ã— Expectancy Violation Ã— Time Point of Measurement for the mood questionnaire and cortisol: all Fs < 1.13, all ps > .328, all Î· p 2 s < .03; restlessness: F(1, 90) = 3.42, p = .068, Î· p 2 = .04."
        ],
        [
         "29",
         "The triple interaction (Î² = -0.06, 95% CI = [-0.20, 0.08], p = .428) did not significantly improve the model compared to the model with only an interaction between ejection event and ejected team, likelihood ratio test Ï‡ 2 (4) = 3.53, p = .473."
        ],
        [
         "30",
         "Opponent height did not significantly affect coins kept for self in the dictator game, Wald Ï‡ 2 (1) = 1.34, b = -0.006, SE = 0.005, 95% CI = [-0.015, 0.004], p = .247 (QICc = 325.85)."
        ],
        [
         "31",
         "Tukey's HSD tests showed no significant difference between scores in the mindfulness and mind-wandering conditions (p = .394), but scores in both the mindfulness (p < .001) and mindwandering conditions (p < .001) were greater than those in the join-the-dots condition."
        ],
        [
         "32",
         "Most importantly, the Context Ã— Phase interaction was significant, F(1, 15) = 22.44, p < .001, Î· p 2 = .6, 95% CI = [.20, .76]: There was a robust, significant contextualcuing effect during the learning phase (119 ms), F(1, 15) = 31.22, p < .001, Î· p 2 = .68, 95% CI = [.31, .80], but no reliable effect during the relocation phase (17 ms), F(1, 15) = 3.1, p = .098, Î· p 2 = .17, 95% CI = [.00, .45]."
        ],
        [
         "33",
         "However, there was not a significant effect of time delay on punishment in the fair condition, F(1, 3058) = 0.84, p = .36, Î· p 2 = .00, as participants in the long-time-delay condition (M = 0.79, SD = 2.16) levied equally severe punishment as those in the short-time-delay condition (M = 0.91, SD = 2.25; see Fig. 2)."
        ],
        [
         "34",
         "Exploratory analyses within the reference conditions showed that self-related incongruent positive evaluations elicited a larger positivity compared with both congruent evaluations (p = .011) and incongruent negative evaluations (p = .042), which did not differ significantly (p = .903)."
        ],
        [
         "35",
         "The perceptual and emotion tasks did not differ significantly in amplitude (p = .801)."
        ],
        [
         "36",
         "On average, relationship satisfaction and causal attributions did not significantly change over time (slope = -0.008, p = .171, 95% confidence interval, or CI = [-0.019, 0.003], r = -.05; slope = 0.001, p = .680, CI = [-0.003, 0.004], r = .02, respectively)."
        ],
        [
         "37",
         "Although participants were slightly less consistent than in Study 1, we found no statistical evidence that the drug treatments made decisions noisier and more inconsistent in the risk task (methylphenidate vs. placebo: b = 0.50, SE = 0.98, p = .609; atomoxetine vs. placebo: b = 0.89, SE = 0.92, p = .337), helping task (methylphenidate vs. placebo: b = -1.55, SE = 1.06, p = .141; atomoxetine vs. placebo: b = 0.74, SE = 0.72, p = .306), or risky helping task (methylphenidate vs. placebo: b = -0.24, SE = 1.43, p = .862; atomoxetine vs. placebo: b = 1.64, SE = 1.28, p = .201)."
        ],
        [
         "38",
         "There were no significant gender differences in failures to ask questions (women: M = 0.24; men: M = 0.17), b = 0.07, t(187) = 1.09, p = .276, 95% CI = [-0.06, 0.21]."
        ],
        [
         "39",
         "There were no significant relationships between CP fear change with participant age (p = .119), gender (p = .347), or motivation (p = .841)."
        ],
        [
         "40",
         "The three-way Configuration Ã— Decoy Ã— Choice interaction in a log linear analysis was nonsignificant, Ï‡ 2 (1, N = 768) = 2.85, p = .09."
        ],
        [
         "41",
         "Neither participant sex, F = 0.004, p = .95, nor the interaction between sex ratio and participant sex were significant, F = 1.318, p = .26."
        ],
        [
         "42",
         "First, the main effect of boosting consensus reasoning on posterior beliefs, comparing the combined boost conditions (M = 14.84, SD = 58.06) with the consensus-only condition (M = 20.51, SD = 53.57), was not significant, F(1, 439) = 2.91, p = .089, Î· p 2 = .007, 90% CI = [.000, .025], BF 10 = 0.44."
        ],
        [
         "43",
         "Moreover, the PE effect on confidence was not significantly correlated with the PE effect on accuracy across participants (Ï = .27, p = .19)."
        ],
        [
         "44",
         "The main effect of pitch was nonsignificant, F(2, 56) = 1.04, p = .36, Î· p 2 = .036."
        ],
        [
         "45",
         "Responses to the direct question, \"What played a greater role in the decision-the money to be earned or the work of filling out the survey?\" under the two transaction frames did not significantly differ, t(212) = 1.402, p = .162, Cohen's d = 0.196."
        ],
        [
         "46",
         "The most relevant finding for our hypothesis was that there were significant differences for all pairwise comparisons involving the maximal and minimal positions (all ps < .03) except for Position 1 versus Position 7, t(174) = 2.622, p = .13, and Position 2 versus Position 7, t(174) = -0.558, p = .99; none of the inner positions were significantly different from each other."
        ],
        [
         "47",
         "However, there was no significant difference in congruent or incongruent false alarms (Supplementary Fig. 10 in the Supplemental Material), M = 1.33%, SEM Â±1.15%, t(19) = 1.1587, p = 0.2617, 95% CI = [-0.0108, 0.0375] (two-tailed t test, noncorrected)."
        ],
        [
         "48",
         "The interaction between transaction frame and ownership status was not significant, F(1, 415) = 1.041, p = .308, Î· p 2 = .003."
        ],
        [
         "49",
         "The difference between the boost+ condition (M = -47.44, SD = 40.58) and the boost condition (M = -51.16, SD = 48.60) was also not significant, F(1, 141) = 1.73, p = .191, Î· p 2 = .012, 90% CI = [.000, .058], BF 10 = 0.39."
        ]
       ],
       "shape": {
        "columns": 1,
        "rows": 54
       }
      },
      "text/html": [
       "<div>\n",
       "<style scoped>\n",
       "    .dataframe tbody tr th:only-of-type {\n",
       "        vertical-align: middle;\n",
       "    }\n",
       "\n",
       "    .dataframe tbody tr th {\n",
       "        vertical-align: top;\n",
       "    }\n",
       "\n",
       "    .dataframe thead th {\n",
       "        text-align: right;\n",
       "    }\n",
       "</style>\n",
       "<table border=\"1\" class=\"dataframe\">\n",
       "  <thead>\n",
       "    <tr style=\"text-align: right;\">\n",
       "      <th></th>\n",
       "      <th>text</th>\n",
       "    </tr>\n",
       "  </thead>\n",
       "  <tbody>\n",
       "    <tr>\n",
       "      <th>0</th>\n",
       "      <td>In contrast, there were no significant group d...</td>\n",
       "    </tr>\n",
       "    <tr>\n",
       "      <th>1</th>\n",
       "      <td>We found that sounds did not have a significan...</td>\n",
       "    </tr>\n",
       "    <tr>\n",
       "      <th>2</th>\n",
       "      <td>Following up, we found that sounds had no sign...</td>\n",
       "    </tr>\n",
       "    <tr>\n",
       "      <th>3</th>\n",
       "      <td>This difference, however, was highly significa...</td>\n",
       "    </tr>\n",
       "    <tr>\n",
       "      <th>4</th>\n",
       "      <td>The interaction between familiarity and length...</td>\n",
       "    </tr>\n",
       "    <tr>\n",
       "      <th>5</th>\n",
       "      <td>However, no effect of arousal was found for un...</td>\n",
       "    </tr>\n",
       "    <tr>\n",
       "      <th>6</th>\n",
       "      <td>The receivers' zygomatic activity during touch...</td>\n",
       "    </tr>\n",
       "    <tr>\n",
       "      <th>7</th>\n",
       "      <td>Meta-regression indicated no significant moder...</td>\n",
       "    </tr>\n",
       "    <tr>\n",
       "      <th>8</th>\n",
       "      <td>Incongruent evaluations did not differ signifi...</td>\n",
       "    </tr>\n",
       "    <tr>\n",
       "      <th>9</th>\n",
       "      <td>Interestingly, here congruent imagery did not ...</td>\n",
       "    </tr>\n",
       "    <tr>\n",
       "      <th>10</th>\n",
       "      <td>Consequently, receivers' use of the odd-oneout...</td>\n",
       "    </tr>\n",
       "    <tr>\n",
       "      <th>11</th>\n",
       "      <td>Participants scoring higher on trait sociabili...</td>\n",
       "    </tr>\n",
       "    <tr>\n",
       "      <th>12</th>\n",
       "      <td>There was no significant interaction between p...</td>\n",
       "    </tr>\n",
       "    <tr>\n",
       "      <th>13</th>\n",
       "      <td>In contrast, there were no significant differe...</td>\n",
       "    </tr>\n",
       "    <tr>\n",
       "      <th>14</th>\n",
       "      <td>SES was not significantly related to coins kep...</td>\n",
       "    </tr>\n",
       "    <tr>\n",
       "      <th>15</th>\n",
       "      <td>For the CFD stimuli, this contrast was not sig...</td>\n",
       "    </tr>\n",
       "    <tr>\n",
       "      <th>16</th>\n",
       "      <td>Egger's test, however, was again nonsignifican...</td>\n",
       "    </tr>\n",
       "    <tr>\n",
       "      <th>17</th>\n",
       "      <td>Compared with participants who disbelieved the...</td>\n",
       "    </tr>\n",
       "    <tr>\n",
       "      <th>18</th>\n",
       "      <td>The receivers' overall corrugator activity was...</td>\n",
       "    </tr>\n",
       "    <tr>\n",
       "      <th>19</th>\n",
       "      <td>For low-probability trials, we also found no d...</td>\n",
       "    </tr>\n",
       "    <tr>\n",
       "      <th>20</th>\n",
       "      <td>The interaction between familiarity and length...</td>\n",
       "    </tr>\n",
       "    <tr>\n",
       "      <th>21</th>\n",
       "      <td>However, the difference between imagining the ...</td>\n",
       "    </tr>\n",
       "    <tr>\n",
       "      <th>22</th>\n",
       "      <td>The Target Ã— Valence interaction was not sign...</td>\n",
       "    </tr>\n",
       "    <tr>\n",
       "      <th>23</th>\n",
       "      <td>Similarly, there was no significant relationsh...</td>\n",
       "    </tr>\n",
       "    <tr>\n",
       "      <th>24</th>\n",
       "      <td>Fisher's r-to-z tests were significant for sev...</td>\n",
       "    </tr>\n",
       "    <tr>\n",
       "      <th>25</th>\n",
       "      <td>Participants fixated on the familiar face earl...</td>\n",
       "    </tr>\n",
       "    <tr>\n",
       "      <th>26</th>\n",
       "      <td>However, and in contrast to these findings, wh...</td>\n",
       "    </tr>\n",
       "    <tr>\n",
       "      <th>27</th>\n",
       "      <td>Here, we found no main effect of experiment, F...</td>\n",
       "    </tr>\n",
       "    <tr>\n",
       "      <th>28</th>\n",
       "      <td>Importantly, the subjective and physiological ...</td>\n",
       "    </tr>\n",
       "    <tr>\n",
       "      <th>29</th>\n",
       "      <td>The triple interaction (Î² = -0.06, 95% CI = [...</td>\n",
       "    </tr>\n",
       "    <tr>\n",
       "      <th>30</th>\n",
       "      <td>Opponent height did not significantly affect c...</td>\n",
       "    </tr>\n",
       "    <tr>\n",
       "      <th>31</th>\n",
       "      <td>Tukey's HSD tests showed no significant differ...</td>\n",
       "    </tr>\n",
       "    <tr>\n",
       "      <th>32</th>\n",
       "      <td>Most importantly, the Context Ã— Phase interac...</td>\n",
       "    </tr>\n",
       "    <tr>\n",
       "      <th>33</th>\n",
       "      <td>However, there was not a significant effect of...</td>\n",
       "    </tr>\n",
       "    <tr>\n",
       "      <th>34</th>\n",
       "      <td>Exploratory analyses within the reference cond...</td>\n",
       "    </tr>\n",
       "    <tr>\n",
       "      <th>35</th>\n",
       "      <td>The perceptual and emotion tasks did not diffe...</td>\n",
       "    </tr>\n",
       "    <tr>\n",
       "      <th>36</th>\n",
       "      <td>On average, relationship satisfaction and caus...</td>\n",
       "    </tr>\n",
       "    <tr>\n",
       "      <th>37</th>\n",
       "      <td>Although participants were slightly less consi...</td>\n",
       "    </tr>\n",
       "    <tr>\n",
       "      <th>38</th>\n",
       "      <td>There were no significant gender differences i...</td>\n",
       "    </tr>\n",
       "    <tr>\n",
       "      <th>39</th>\n",
       "      <td>There were no significant relationships betwee...</td>\n",
       "    </tr>\n",
       "    <tr>\n",
       "      <th>40</th>\n",
       "      <td>The three-way Configuration Ã— Decoy Ã— Choice...</td>\n",
       "    </tr>\n",
       "    <tr>\n",
       "      <th>41</th>\n",
       "      <td>Neither participant sex, F = 0.004, p = .95, n...</td>\n",
       "    </tr>\n",
       "    <tr>\n",
       "      <th>42</th>\n",
       "      <td>First, the main effect of boosting consensus r...</td>\n",
       "    </tr>\n",
       "    <tr>\n",
       "      <th>43</th>\n",
       "      <td>Moreover, the PE effect on confidence was not ...</td>\n",
       "    </tr>\n",
       "    <tr>\n",
       "      <th>44</th>\n",
       "      <td>The main effect of pitch was nonsignificant, F...</td>\n",
       "    </tr>\n",
       "    <tr>\n",
       "      <th>45</th>\n",
       "      <td>Responses to the direct question, \"What played...</td>\n",
       "    </tr>\n",
       "    <tr>\n",
       "      <th>46</th>\n",
       "      <td>The most relevant finding for our hypothesis w...</td>\n",
       "    </tr>\n",
       "    <tr>\n",
       "      <th>47</th>\n",
       "      <td>However, there was no significant difference i...</td>\n",
       "    </tr>\n",
       "    <tr>\n",
       "      <th>48</th>\n",
       "      <td>The interaction between transaction frame and ...</td>\n",
       "    </tr>\n",
       "    <tr>\n",
       "      <th>49</th>\n",
       "      <td>The difference between the boost+ condition (M...</td>\n",
       "    </tr>\n",
       "    <tr>\n",
       "      <th>50</th>\n",
       "      <td>Thus there is no significant relationship betw...</td>\n",
       "    </tr>\n",
       "    <tr>\n",
       "      <th>51</th>\n",
       "      <td>No significant gender differences emerged in a...</td>\n",
       "    </tr>\n",
       "    <tr>\n",
       "      <th>52</th>\n",
       "      <td>The effect of oral contraceptive use was not s...</td>\n",
       "    </tr>\n",
       "    <tr>\n",
       "      <th>53</th>\n",
       "      <td>RT from the visual discrimination phase was ag...</td>\n",
       "    </tr>\n",
       "  </tbody>\n",
       "</table>\n",
       "</div>"
      ],
      "text/plain": [
       "                                                 text\n",
       "0   In contrast, there were no significant group d...\n",
       "1   We found that sounds did not have a significan...\n",
       "2   Following up, we found that sounds had no sign...\n",
       "3   This difference, however, was highly significa...\n",
       "4   The interaction between familiarity and length...\n",
       "5   However, no effect of arousal was found for un...\n",
       "6   The receivers' zygomatic activity during touch...\n",
       "7   Meta-regression indicated no significant moder...\n",
       "8   Incongruent evaluations did not differ signifi...\n",
       "9   Interestingly, here congruent imagery did not ...\n",
       "10  Consequently, receivers' use of the odd-oneout...\n",
       "11  Participants scoring higher on trait sociabili...\n",
       "12  There was no significant interaction between p...\n",
       "13  In contrast, there were no significant differe...\n",
       "14  SES was not significantly related to coins kep...\n",
       "15  For the CFD stimuli, this contrast was not sig...\n",
       "16  Egger's test, however, was again nonsignifican...\n",
       "17  Compared with participants who disbelieved the...\n",
       "18  The receivers' overall corrugator activity was...\n",
       "19  For low-probability trials, we also found no d...\n",
       "20  The interaction between familiarity and length...\n",
       "21  However, the difference between imagining the ...\n",
       "22  The Target Ã— Valence interaction was not sign...\n",
       "23  Similarly, there was no significant relationsh...\n",
       "24  Fisher's r-to-z tests were significant for sev...\n",
       "25  Participants fixated on the familiar face earl...\n",
       "26  However, and in contrast to these findings, wh...\n",
       "27  Here, we found no main effect of experiment, F...\n",
       "28  Importantly, the subjective and physiological ...\n",
       "29  The triple interaction (Î² = -0.06, 95% CI = [...\n",
       "30  Opponent height did not significantly affect c...\n",
       "31  Tukey's HSD tests showed no significant differ...\n",
       "32  Most importantly, the Context Ã— Phase interac...\n",
       "33  However, there was not a significant effect of...\n",
       "34  Exploratory analyses within the reference cond...\n",
       "35  The perceptual and emotion tasks did not diffe...\n",
       "36  On average, relationship satisfaction and caus...\n",
       "37  Although participants were slightly less consi...\n",
       "38  There were no significant gender differences i...\n",
       "39  There were no significant relationships betwee...\n",
       "40  The three-way Configuration Ã— Decoy Ã— Choice...\n",
       "41  Neither participant sex, F = 0.004, p = .95, n...\n",
       "42  First, the main effect of boosting consensus r...\n",
       "43  Moreover, the PE effect on confidence was not ...\n",
       "44  The main effect of pitch was nonsignificant, F...\n",
       "45  Responses to the direct question, \"What played...\n",
       "46  The most relevant finding for our hypothesis w...\n",
       "47  However, there was no significant difference i...\n",
       "48  The interaction between transaction frame and ...\n",
       "49  The difference between the boost+ condition (M...\n",
       "50  Thus there is no significant relationship betw...\n",
       "51  No significant gender differences emerged in a...\n",
       "52  The effect of oral contraceptive use was not s...\n",
       "53  RT from the visual discrimination phase was ag..."
      ]
     },
     "metadata": {},
     "output_type": "display_data"
    }
   ],
   "source": [
    "display_statements(true_negatives, \"True Negatives (predicted 0, actual 0)\")"
   ]
  },
  {
   "cell_type": "code",
   "execution_count": 35,
   "id": "54082c37",
   "metadata": {},
   "outputs": [
    {
     "name": "stdout",
     "output_type": "stream",
     "text": [
      "\n",
      "False Positives (predicted 1, actual 0) (count: 13)\n"
     ]
    },
    {
     "data": {
      "application/vnd.microsoft.datawrangler.viewer.v0+json": {
       "columns": [
        {
         "name": "index",
         "rawType": "int64",
         "type": "integer"
        },
        {
         "name": "text",
         "rawType": "object",
         "type": "string"
        }
       ],
       "ref": "4367869e-276c-42d3-adca-1584c6ab9dbf",
       "rows": [
        [
         "0",
         "No main effect of dimensionality was found (3D -2D: Î”M = -0.29 s, SD = 1.74, 95% CI = [-0.65, 0.06], d = 0.17) in the two confirmatory analyses that were preregistered (permuting familiarity of items per subject, per-subject-swap, uncorrected p = .35, or across all subjects, acrosssubjects-swap, uncorrected p = .89; see the Method section; these two comparisons were Bonferroni corrected confidence intervals obtained by bootstrapping."
        ],
        [
         "1",
         "We found no effect of p(probe key|incongruent) on task effects in either 2AFC accuracy, Spearman's r(192) = .074, p = .30, 95% CI = [-.067, .21] (see Fig. 4), or RT, r(192) = -.023, p = .75, 95% CI = [-.16, .12], and the data were about 7 times more likely under the null hypothesis of no correlation for accuracy (BF 10 = 0.15) and about 11 times more likely under the null hypothesis for RT (BF 10 = 0.094)."
        ],
        [
         "2",
         "Post hoc examination of the interaction did not show a significant simple effect of dimensionality for intact items (Table 3; 3D -2D: Î”M = -0.33 s, SD = 0.73, 95% CI = [-0.74, 0.07], uncorrected p = .11, FDR q = 0.23, Cohen's d = 0.45) or for scrambled items (3D -2D: Î”M = 0.2 s, SD = 0.89, 95% CI = [-0.18, 0.59], uncorrected p = .32, d = 0.23)."
        ],
        [
         "3",
         "The main effect of aperture, Experiment 2: F(1, 34) = 4.12, p = .05, Î· p 2 = .10; Experiment 3: F(1, 31) = 0.04, p = .85, Î· p 2 = .01; the main effect of focus distance, Experiment 2: F(1, 34) = 0.23, p = .63, Î· p 2 = .01; Experiment 3: F(1, 31) = 0.22, p = .64, Î· p 2 = .01; and the interaction between aperture and focus distance, Experiment 2: F(1, 34) = 0.00, p = .96, Î· p 2 = .00; Experiment 3: F(1, 31) = 2.86, p = .10, Î· p 2 = .08, did not reach significance."
        ],
        [
         "4",
         "For congruency, larger EPN amplitudes (incongruent negative: M = -2.09, SD = 2.29; M = -1.82, SD = 2.48; incongruent positive: M = -2.25, SD = 2.51) were found for incongruent positive compared with congruent evaluations (p = .004) but not compared with incongruent negative evaluations (p = .077)."
        ],
        [
         "5",
         "A Mantel-Cox log rank test indicated that waiting times in the unaware condition (M = 302.53 s, nonparametric bootstrapped 95% CI = [194.01, 411.06]) were not significantly different from those in the unaware/additional rewards condition (M = 417.90 s, nonparametric bootstrapped 95% CI = [317.87, 517.93]), Mantel-Cox Ï‡ 2 (1, N = 60) = 1.63, p = .202."
        ],
        [
         "6",
         "Replicating Experiments 1 and 2, results showed that the similarity-search condition did not elicit a reliable difference between the highand low-prevalence conditions (4.7% difference in miss rates), t(21) = 1.49, p = .152, Î± = .025."
        ],
        [
         "7",
         "Again, results indicated that endorsement of direct aggression was higher for violations that targeted the self rather than another person, t(343) = -4.57, p < .001, d = -0.43, 95% CI = [-0.65, -0.22], whereas target condition did not have a significant effect on endorsement of indirect aggression, though the pattern of the means was in the opposing direction, t(343) = 1.03, p > .25, d = 0.10, 95% CI = [-0.11, 0.31] (see Fig."
        ],
        [
         "8",
         "Participants in the time-pressure condition (n = 80; M = 3.86, SD = 1.65) did not report significantly higher die-roll outcomes than participants in the self-paced condition (n = 97; M = 3.68, SD = 1.70), Z = 0.70, p = .241, rank biserial correlation (r bc ) = -.05, 95% CI = [-âˆž, .09]."
        ],
        [
         "9",
         "But, most important, the slope at 45Â° was not significantly higher than the slope at 0Â°, Î² = 0.002, t(9) = 2.143, p = .061, and at 90Â° it was significantly lower, Î² = -0.004, t(9) = -4.5, p = .001."
        ],
        [
         "10",
         "Finally, the effect of feeling small was tested by adding the variable to the intercept-only model-feeling small was not significantly related to behavior in the dictator game, Wald Ï‡ 2 (1) = 0.08, b = -0.006, SE = 0.022, 95% CI = [-0.050, 0.037], p = .781 (QICc = 333.06)."
        ],
        [
         "11",
         "Post hoc t tests on the main effect of CS type revealed a significant difference between the aversive CS+ and the CS-(p = .023) and (marginally) between the aversive CS+ and the neutral CS+ (p = .054) but not between the neutral CS+ and the CS-(p = .970)."
        ],
        [
         "12",
         "There was no evidence that the effect was significantly different by gender, parameter difference = .013, SE = .015, p = .400, 99% CI = [-.026, .051]."
        ]
       ],
       "shape": {
        "columns": 1,
        "rows": 13
       }
      },
      "text/html": [
       "<div>\n",
       "<style scoped>\n",
       "    .dataframe tbody tr th:only-of-type {\n",
       "        vertical-align: middle;\n",
       "    }\n",
       "\n",
       "    .dataframe tbody tr th {\n",
       "        vertical-align: top;\n",
       "    }\n",
       "\n",
       "    .dataframe thead th {\n",
       "        text-align: right;\n",
       "    }\n",
       "</style>\n",
       "<table border=\"1\" class=\"dataframe\">\n",
       "  <thead>\n",
       "    <tr style=\"text-align: right;\">\n",
       "      <th></th>\n",
       "      <th>text</th>\n",
       "    </tr>\n",
       "  </thead>\n",
       "  <tbody>\n",
       "    <tr>\n",
       "      <th>0</th>\n",
       "      <td>No main effect of dimensionality was found (3D...</td>\n",
       "    </tr>\n",
       "    <tr>\n",
       "      <th>1</th>\n",
       "      <td>We found no effect of p(probe key|incongruent)...</td>\n",
       "    </tr>\n",
       "    <tr>\n",
       "      <th>2</th>\n",
       "      <td>Post hoc examination of the interaction did no...</td>\n",
       "    </tr>\n",
       "    <tr>\n",
       "      <th>3</th>\n",
       "      <td>The main effect of aperture, Experiment 2: F(1...</td>\n",
       "    </tr>\n",
       "    <tr>\n",
       "      <th>4</th>\n",
       "      <td>For congruency, larger EPN amplitudes (incongr...</td>\n",
       "    </tr>\n",
       "    <tr>\n",
       "      <th>5</th>\n",
       "      <td>A Mantel-Cox log rank test indicated that wait...</td>\n",
       "    </tr>\n",
       "    <tr>\n",
       "      <th>6</th>\n",
       "      <td>Replicating Experiments 1 and 2, results showe...</td>\n",
       "    </tr>\n",
       "    <tr>\n",
       "      <th>7</th>\n",
       "      <td>Again, results indicated that endorsement of d...</td>\n",
       "    </tr>\n",
       "    <tr>\n",
       "      <th>8</th>\n",
       "      <td>Participants in the time-pressure condition (n...</td>\n",
       "    </tr>\n",
       "    <tr>\n",
       "      <th>9</th>\n",
       "      <td>But, most important, the slope at 45Â° was not...</td>\n",
       "    </tr>\n",
       "    <tr>\n",
       "      <th>10</th>\n",
       "      <td>Finally, the effect of feeling small was teste...</td>\n",
       "    </tr>\n",
       "    <tr>\n",
       "      <th>11</th>\n",
       "      <td>Post hoc t tests on the main effect of CS type...</td>\n",
       "    </tr>\n",
       "    <tr>\n",
       "      <th>12</th>\n",
       "      <td>There was no evidence that the effect was sign...</td>\n",
       "    </tr>\n",
       "  </tbody>\n",
       "</table>\n",
       "</div>"
      ],
      "text/plain": [
       "                                                 text\n",
       "0   No main effect of dimensionality was found (3D...\n",
       "1   We found no effect of p(probe key|incongruent)...\n",
       "2   Post hoc examination of the interaction did no...\n",
       "3   The main effect of aperture, Experiment 2: F(1...\n",
       "4   For congruency, larger EPN amplitudes (incongr...\n",
       "5   A Mantel-Cox log rank test indicated that wait...\n",
       "6   Replicating Experiments 1 and 2, results showe...\n",
       "7   Again, results indicated that endorsement of d...\n",
       "8   Participants in the time-pressure condition (n...\n",
       "9   But, most important, the slope at 45Â° was not...\n",
       "10  Finally, the effect of feeling small was teste...\n",
       "11  Post hoc t tests on the main effect of CS type...\n",
       "12  There was no evidence that the effect was sign..."
      ]
     },
     "metadata": {},
     "output_type": "display_data"
    }
   ],
   "source": [
    "display_statements(false_positives, \"False Positives (predicted 1, actual 0)\")"
   ]
  },
  {
   "cell_type": "code",
   "execution_count": 36,
   "id": "9e2a577a",
   "metadata": {},
   "outputs": [
    {
     "name": "stdout",
     "output_type": "stream",
     "text": [
      "\n",
      "False Negatives (predicted 0, actual 1) (count: 9)\n"
     ]
    },
    {
     "data": {
      "application/vnd.microsoft.datawrangler.viewer.v0+json": {
       "columns": [
        {
         "name": "index",
         "rawType": "int64",
         "type": "integer"
        },
        {
         "name": "text",
         "rawType": "object",
         "type": "string"
        }
       ],
       "ref": "f68323ca-5a09-42cb-bccf-7db573d4db15",
       "rows": [
        [
         "0",
         "Study S7 (with French participants) employed a within-subjects design presenting two people as either depressed or not depressed, and it showed that participants did not imagine a person with depression as shorter than a nondepressed one (p = .06, d = 0.13) or more overweight (p = .16, d = 0.10), but they imagined them to be more introverted (p < .001, d = 0.81), less attractive (p < .001, d = 0.60), less successful (p < .001, d = 0.99), and less likely to take care of their looks (p < .001, d = 0.84)."
        ],
        [
         "1",
         "Likewise, there is no significant differences between teams before and after the ejection, suggesting that umpires, when not excessively criticized regarding the strike zone, are not favoring any team with respect to the strike zone before the ejection (OR = 1.163, 95% CI = [0.947, 1.427], p = .2339 for nonstrike-zone verbal abuse; OR = 0.872, 95% CI = [0.677, 1.122], p = .5017 for aggression directed at opponent) and after the ejection (OR = 1.047, 95% CI = [0.805, 1.362], p = .9690 for non-strike-zone verbal abuse; OR = 0.771, 95% CI = [0.550, 1.081], p = .1976 for aggression directed at opponent)."
        ],
        [
         "2",
         "No difference was found in verbal tests, t(343) = 1.20, p = .23."
        ],
        [
         "3",
         "Conversely, and as predicted, the explicit relationship evaluation assessed at intake was not related to nonverbal behavior exhibited in the conversation, b = 0.05, SE = 0.06, 95% CI = [-0.07, 0.16], p = .411, Î² = 0.05."
        ],
        [
         "4",
         "The three-way interaction was not significant, F(1, 21) = 0.01, p = .930, Î· p 2 < .01, which suggests that holistic processing of faces and dot patterns is qualitatively similar."
        ],
        [
         "5",
         "Crucially, we found no correlation between the mean of sham and the effect of alpha tACS-Pearson's r(28) = .097, p = .610; Spearman's Ï = -.016, p = .932; N = 30, suggesting that a larger overestimation in the sham tACS condition corresponded to a larger beta-related underestimation."
        ],
        [
         "6",
         "The model was not significant, Ï‡ 2 (3, N = 90) = 2.13, p = .546, which indicates that the hammer-knocking task was not predictive of waiting times across conditions."
        ],
        [
         "7",
         "There was no significant main effect of the security-camera-information condition, F(1, 467) = 0.02, p = .88, Î· p 2 = .00, and no interaction with the condition, F(1, 466) = 0.01, p = .92, Î· p 2 = .00."
        ],
        [
         "8",
         "Viewed differently, participants disliked avoiders regard less of whether they avoided standard or extreme views, b = 0.05, SE = 0.116, 95% CI = [-0.17, 0.28], t(229) = 0.47, p = .641, d = 0.06."
        ]
       ],
       "shape": {
        "columns": 1,
        "rows": 9
       }
      },
      "text/html": [
       "<div>\n",
       "<style scoped>\n",
       "    .dataframe tbody tr th:only-of-type {\n",
       "        vertical-align: middle;\n",
       "    }\n",
       "\n",
       "    .dataframe tbody tr th {\n",
       "        vertical-align: top;\n",
       "    }\n",
       "\n",
       "    .dataframe thead th {\n",
       "        text-align: right;\n",
       "    }\n",
       "</style>\n",
       "<table border=\"1\" class=\"dataframe\">\n",
       "  <thead>\n",
       "    <tr style=\"text-align: right;\">\n",
       "      <th></th>\n",
       "      <th>text</th>\n",
       "    </tr>\n",
       "  </thead>\n",
       "  <tbody>\n",
       "    <tr>\n",
       "      <th>0</th>\n",
       "      <td>Study S7 (with French participants) employed a...</td>\n",
       "    </tr>\n",
       "    <tr>\n",
       "      <th>1</th>\n",
       "      <td>Likewise, there is no significant differences ...</td>\n",
       "    </tr>\n",
       "    <tr>\n",
       "      <th>2</th>\n",
       "      <td>No difference was found in verbal tests, t(343...</td>\n",
       "    </tr>\n",
       "    <tr>\n",
       "      <th>3</th>\n",
       "      <td>Conversely, and as predicted, the explicit rel...</td>\n",
       "    </tr>\n",
       "    <tr>\n",
       "      <th>4</th>\n",
       "      <td>The three-way interaction was not significant,...</td>\n",
       "    </tr>\n",
       "    <tr>\n",
       "      <th>5</th>\n",
       "      <td>Crucially, we found no correlation between the...</td>\n",
       "    </tr>\n",
       "    <tr>\n",
       "      <th>6</th>\n",
       "      <td>The model was not significant, Ï‡ 2 (3, N = 90...</td>\n",
       "    </tr>\n",
       "    <tr>\n",
       "      <th>7</th>\n",
       "      <td>There was no significant main effect of the se...</td>\n",
       "    </tr>\n",
       "    <tr>\n",
       "      <th>8</th>\n",
       "      <td>Viewed differently, participants disliked avoi...</td>\n",
       "    </tr>\n",
       "  </tbody>\n",
       "</table>\n",
       "</div>"
      ],
      "text/plain": [
       "                                                text\n",
       "0  Study S7 (with French participants) employed a...\n",
       "1  Likewise, there is no significant differences ...\n",
       "2  No difference was found in verbal tests, t(343...\n",
       "3  Conversely, and as predicted, the explicit rel...\n",
       "4  The three-way interaction was not significant,...\n",
       "5  Crucially, we found no correlation between the...\n",
       "6  The model was not significant, Ï‡ 2 (3, N = 90...\n",
       "7  There was no significant main effect of the se...\n",
       "8  Viewed differently, participants disliked avoi..."
      ]
     },
     "metadata": {},
     "output_type": "display_data"
    }
   ],
   "source": [
    "display_statements(false_negatives, \"False Negatives (predicted 0, actual 1)\")"
   ]
  },
  {
   "cell_type": "markdown",
   "id": "71cff6f0",
   "metadata": {},
   "source": [
    "## 5. PubMedBERT"
   ]
  },
  {
   "cell_type": "markdown",
   "id": "9c428b2a",
   "metadata": {},
   "source": [
    "### 5.1 Initializing PubMedBERT"
   ]
  },
  {
   "cell_type": "code",
   "execution_count": 37,
   "id": "bad4fa17",
   "metadata": {},
   "outputs": [
    {
     "name": "stderr",
     "output_type": "stream",
     "text": [
      "Some weights of BertForSequenceClassification were not initialized from the model checkpoint at microsoft/BiomedNLP-PubMedBERT-base-uncased-abstract and are newly initialized: ['classifier.bias', 'classifier.weight']\n",
      "You should probably TRAIN this model on a down-stream task to be able to use it for predictions and inference.\n"
     ]
    }
   ],
   "source": [
    "from transformers import AutoModelForSequenceClassification\n",
    "\n",
    "model_pubmedbert = AutoModelForSequenceClassification.from_pretrained(\"microsoft/BiomedNLP-PubMedBERT-base-uncased-abstract\", num_labels=num_labels, trust_remote_code=True,\n",
    "    use_safetensors=True)"
   ]
  },
  {
   "cell_type": "markdown",
   "id": "7e9ebff5",
   "metadata": {},
   "source": [
    "### 5.2 Training PubMedBERT"
   ]
  },
  {
   "cell_type": "code",
   "execution_count": 38,
   "id": "2267abfa",
   "metadata": {},
   "outputs": [
    {
     "name": "stderr",
     "output_type": "stream",
     "text": [
      "C:\\Users\\Raphael\\AppData\\Local\\Temp\\ipykernel_15220\\2526163365.py:28: FutureWarning: `tokenizer` is deprecated and will be removed in version 5.0.0 for `Trainer.__init__`. Use `processing_class` instead.\n",
      "  trainer_pubmedbert = Trainer(\n"
     ]
    }
   ],
   "source": [
    "# Standard Setup for training a model with Huggingface Transformers\n",
    "from transformers import DataCollatorWithPadding\n",
    "from transformers import TrainingArguments, Trainer\n",
    "import evaluate\n",
    "import numpy as np\n",
    "\n",
    "data_collator = DataCollatorWithPadding(tokenizer=tokenizer)\n",
    "\n",
    "metric = evaluate.load(\"accuracy\")\n",
    "\n",
    "def compute_metrics(eval_pred):\n",
    "    logits, labels = eval_pred\n",
    "    predictions = np.argmax(logits, axis=-1)\n",
    "    return metric.compute(predictions=predictions, references=labels)\n",
    "\n",
    "training_args = TrainingArguments(\n",
    "    output_dir=\"./results\",\n",
    "    learning_rate=2e-5, # Specify learning rate for BERT\n",
    "    per_device_train_batch_size=8,\n",
    "    per_device_eval_batch_size=8,\n",
    "    num_train_epochs=5,\n",
    "    weight_decay=0.01,\n",
    "    logging_strategy=\"epoch\",\n",
    "    report_to=\"none\",\n",
    ")\n",
    "\n",
    "# Model specific setup\n",
    "trainer_pubmedbert = Trainer(\n",
    "    model=model_pubmedbert,\n",
    "    args=training_args,\n",
    "    train_dataset=tokenized_train,\n",
    "    eval_dataset=tokenized_test,\n",
    "    tokenizer=tokenizer,\n",
    "    data_collator=data_collator,\n",
    "    compute_metrics=compute_metrics\n",
    ")"
   ]
  },
  {
   "cell_type": "code",
   "execution_count": 39,
   "id": "ab958240",
   "metadata": {},
   "outputs": [
    {
     "data": {
      "text/html": [
       "\n",
       "    <div>\n",
       "      \n",
       "      <progress value='335' max='335' style='width:300px; height:20px; vertical-align: middle;'></progress>\n",
       "      [335/335 02:21, Epoch 5/5]\n",
       "    </div>\n",
       "    <table border=\"1\" class=\"dataframe\">\n",
       "  <thead>\n",
       " <tr style=\"text-align: left;\">\n",
       "      <th>Step</th>\n",
       "      <th>Training Loss</th>\n",
       "    </tr>\n",
       "  </thead>\n",
       "  <tbody>\n",
       "    <tr>\n",
       "      <td>67</td>\n",
       "      <td>0.719500</td>\n",
       "    </tr>\n",
       "    <tr>\n",
       "      <td>134</td>\n",
       "      <td>0.657700</td>\n",
       "    </tr>\n",
       "    <tr>\n",
       "      <td>201</td>\n",
       "      <td>0.440600</td>\n",
       "    </tr>\n",
       "    <tr>\n",
       "      <td>268</td>\n",
       "      <td>0.247300</td>\n",
       "    </tr>\n",
       "    <tr>\n",
       "      <td>335</td>\n",
       "      <td>0.143800</td>\n",
       "    </tr>\n",
       "  </tbody>\n",
       "</table><p>"
      ],
      "text/plain": [
       "<IPython.core.display.HTML object>"
      ]
     },
     "metadata": {},
     "output_type": "display_data"
    },
    {
     "data": {
      "text/plain": [
       "TrainOutput(global_step=335, training_loss=0.4417722531219027, metrics={'train_runtime': 141.7564, 'train_samples_per_second': 18.835, 'train_steps_per_second': 2.363, 'total_flos': 380067002800200.0, 'train_loss': 0.4417722531219027, 'epoch': 5.0})"
      ]
     },
     "execution_count": 39,
     "metadata": {},
     "output_type": "execute_result"
    }
   ],
   "source": [
    "trainer_pubmedbert.train()"
   ]
  },
  {
   "cell_type": "markdown",
   "id": "5594bfed",
   "metadata": {},
   "source": [
    "#### 5.2.1 Save last model"
   ]
  },
  {
   "cell_type": "code",
   "execution_count": 40,
   "id": "3c1cbb46",
   "metadata": {},
   "outputs": [],
   "source": [
    "# trainer_pubmedbert.save_model('pubmedbert_model')"
   ]
  },
  {
   "cell_type": "markdown",
   "id": "9c8db9d9",
   "metadata": {},
   "source": [
    "### 5.3 Evaluate model"
   ]
  },
  {
   "cell_type": "markdown",
   "id": "1e33832b",
   "metadata": {},
   "source": [
    "#### 5.3.1 Predict training data"
   ]
  },
  {
   "cell_type": "code",
   "execution_count": 41,
   "id": "5d6b24ef",
   "metadata": {},
   "outputs": [
    {
     "data": {
      "text/html": [],
      "text/plain": [
       "<IPython.core.display.HTML object>"
      ]
     },
     "metadata": {},
     "output_type": "display_data"
    },
    {
     "name": "stdout",
     "output_type": "stream",
     "text": [
      "              precision    recall  f1-score   support\n",
      "\n",
      "           0       0.98      0.97      0.98       267\n",
      "           1       0.97      0.99      0.98       267\n",
      "\n",
      "    accuracy                           0.98       534\n",
      "   macro avg       0.98      0.98      0.98       534\n",
      "weighted avg       0.98      0.98      0.98       534\n",
      "\n"
     ]
    }
   ],
   "source": [
    "from sklearn.metrics import classification_report\n",
    "\n",
    "preds = trainer_pubmedbert.predict(tokenized_train)\n",
    "preds = np.argmax(preds[:3][0],axis=1)\n",
    "GT = df_train['label'].tolist()\n",
    "print(classification_report(GT,preds))"
   ]
  },
  {
   "cell_type": "markdown",
   "id": "80987cf0",
   "metadata": {},
   "source": [
    "#### 5.3.2 Predict test data"
   ]
  },
  {
   "cell_type": "code",
   "execution_count": 42,
   "id": "48c9951c",
   "metadata": {},
   "outputs": [
    {
     "data": {
      "text/html": [],
      "text/plain": [
       "<IPython.core.display.HTML object>"
      ]
     },
     "metadata": {},
     "output_type": "display_data"
    },
    {
     "name": "stdout",
     "output_type": "stream",
     "text": [
      "              precision    recall  f1-score   support\n",
      "\n",
      "           0       0.84      0.72      0.77        67\n",
      "           1       0.75      0.87      0.81        67\n",
      "\n",
      "    accuracy                           0.79       134\n",
      "   macro avg       0.80      0.79      0.79       134\n",
      "weighted avg       0.80      0.79      0.79       134\n",
      "\n"
     ]
    }
   ],
   "source": [
    "preds = trainer_pubmedbert.predict(tokenized_test)\n",
    "preds = np.argmax(preds[:3][0],axis=1) #preds[:3][1]\n",
    "GT = df_test['label'].tolist()\n",
    "print(classification_report(GT,preds))"
   ]
  },
  {
   "cell_type": "markdown",
   "id": "87531bf7",
   "metadata": {},
   "source": [
    "#### 5.3.3 Confusion-Matrix for test data"
   ]
  },
  {
   "cell_type": "code",
   "execution_count": 43,
   "id": "23150c6a",
   "metadata": {},
   "outputs": [
    {
     "data": {
      "image/png": "[encoded data removed]",
      "text/plain": [
       "<Figure size 600x500 with 2 Axes>"
      ]
     },
     "metadata": {},
     "output_type": "display_data"
    }
   ],
   "source": [
    "import seaborn as sns\n",
    "from sklearn.metrics import confusion_matrix\n",
    "\n",
    "import matplotlib.pyplot as plt\n",
    "\n",
    "# Use predictions and ground truth from previous evaluation on test set\n",
    "conf_matrix = confusion_matrix(GT, preds)\n",
    "\n",
    "plt.figure(figsize=(6,5))\n",
    "sns.heatmap(conf_matrix, annot=True, fmt='d', cmap='Blues',\n",
    "            xticklabels=[\"Predicted 0\", \"Predicted 1\"],\n",
    "            yticklabels=[\"Actual 0\", \"Actual 1\"])\n",
    "\n",
    "plt.xlabel('Predicted Label')\n",
    "plt.ylabel('True Label')\n",
    "plt.title('Confusion Matrix')\n",
    "plt.show()"
   ]
  },
  {
   "cell_type": "markdown",
   "id": "b3c7b298",
   "metadata": {},
   "source": [
    "#### 5.3.4 List of statements per category (TP, TN, FP, FN)"
   ]
  },
  {
   "cell_type": "code",
   "execution_count": 44,
   "id": "eb52ce80",
   "metadata": {},
   "outputs": [],
   "source": [
    "# Get ground truth and predictions for test set\n",
    "y_true = df_test['label'].tolist()\n",
    "y_pred = preds\n",
    "\n",
    "# True Positives: predicted 1, actual 1\n",
    "true_positives = df_test[(df_test['label'] == 1) & (y_pred == 1)]\n",
    "\n",
    "# True Negatives: predicted 0, actual 0\n",
    "true_negatives = df_test[(df_test['label'] == 0) & (y_pred == 0)]\n",
    "\n",
    "# False Positives: predicted 1, actual 0\n",
    "false_positives = df_test[(df_test['label'] == 0) & (y_pred == 1)]\n",
    "\n",
    "# False Negatives: predicted 0, actual 1\n",
    "false_negatives = df_test[(df_test['label'] == 1) & (y_pred == 0)]\n",
    "\n",
    "# Function to print statements\n",
    "import pandas as pd\n",
    "from IPython.display import display\n",
    "\n",
    "def display_statements(df, title):\n",
    "    if not df.empty:\n",
    "        print(f\"\\n{title} (count: {len(df)})\")\n",
    "        display(df[['text']].reset_index(drop=True))\n",
    "    else:\n",
    "        print(f\"\\n{title}: None\")"
   ]
  },
  {
   "cell_type": "code",
   "execution_count": 45,
   "id": "8be49625",
   "metadata": {},
   "outputs": [
    {
     "name": "stdout",
     "output_type": "stream",
     "text": [
      "\n",
      "True Positives (predicted 1, actual 1) (count: 58)\n"
     ]
    },
    {
     "data": {
      "application/vnd.microsoft.datawrangler.viewer.v0+json": {
       "columns": [
        {
         "name": "index",
         "rawType": "int64",
         "type": "integer"
        },
        {
         "name": "text",
         "rawType": "object",
         "type": "string"
        }
       ],
       "ref": "93eaad87-62cb-4d8d-8e88-bff488cb9bf0",
       "rows": [
        [
         "0",
         "Study S7 (with French participants) employed a within-subjects design presenting two people as either depressed or not depressed, and it showed that participants did not imagine a person with depression as shorter than a nondepressed one (p = .06, d = 0.13) or more overweight (p = .16, d = 0.10), but they imagined them to be more introverted (p < .001, d = 0.81), less attractive (p < .001, d = 0.60), less successful (p < .001, d = 0.99), and less likely to take care of their looks (p < .001, d = 0.84)."
        ],
        [
         "1",
         "There was no correlation between CAPS score and performance in the nonforced condition of the dichoticlistening task, as assessed by the number of right-ear responses (Hypothesis 2), r S (1263) = .006, 95% CI = [-0.05, 0.06], p = .842, and equivalence testing indicated that the effect was statistically indistinguishable from 0 (p < .001)."
        ],
        [
         "2",
         "On the other hand, hunger and desire for food increased only during the food deprivation session-desire for food: Î² = 9.78, SE = 0.58, t(95.47) = 16.91, p < .001, hunger: Î² = 9.4, SE = 0.53, t(415) = 17.61, p < .001-and not during the baseline session (p > .15)."
        ],
        [
         "3",
         "The number of observed individuals had no effect on either the amount, F (, ) . 3 212 1 78 =, p = .152, Î· 2 02 = ., 90% CI = [.00, .06], the rate of cultural divergence, F (, ) . 3 208 0 60 =, p = .617, Î· p 2 = .00, 90% CI = [.00, .03]."
        ],
        [
         "4",
         "There was no interaction between age group and condition, F(2, 186) = 0.06, p = .94."
        ],
        [
         "5",
         "Medical maximizers showed greater belief in both true and false headlines (this pattern was more strongly positive for belief in false headlines); in contrast, there was no such correlation with sharing discernment, F(1, 25582) = 0.03, p = .87."
        ],
        [
         "6",
         "On the other hand, the quadratic component of age was marginally associated with influence magnitude under selfish influence (slope = 32.96, SE = 18.21, p = .072) but not under prosocial influence (slope = -1.11, SE = 10.60, p = .917)."
        ],
        [
         "7",
         "A rank-based Spearman's correlation test (p < .05 in the Shapiro-Wilk test of normality) indicates that in our sample there was no significant correlation between the calculated subjective-awareness score and the difference in RTs between high-and low-probability locations in the b-CFS task (r = .15, p = .488; see Fig. 2c), suggesting that the effect on conscious access did not depend on the level of awareness of the regularity."
        ],
        [
         "8",
         "Chronic stress did not modulate the effect of social isolation on any dependent variable (p > .1)."
        ],
        [
         "9",
         "RT data showed a very similar pattern: Responses were slower for congruent than for incongruent trials within the probe-key condition, t(193) = 4.21, p < .001, d = 0.30, BF 10 = 677.40; difference M = 0.053 log 10 (RT/s), 95% CI = [0.032, 0.074]; congruent: M = 1.15 s, incongruent: M = 1.09 s, difference: M = 0.060 s (see Fig. S7 in the Supplemental Material), but there was no such difference for the probe-other condition, t(193) = -1.03, p = .152, d = 0.07; difference: M = -0.013 log 10 (RT/s), 95% CI = [-0.035, 0.0080]; congruent: M = 1.21 s, incongruent: M = 1.24 s, difference M = -0.032 s (see Fig. S7), although the evidence for a null effect here was anecdotal at best (BF 10 = 0.54)."
        ],
        [
         "10",
         "Comparing these correlation coefficients, we found that participants in the disagreeing-perspective condition produced more diverse errors than participants in both the self-perspective condition (d = 0.99) and agreeing-perspective condition (d = 1.00; both ps < .001), whereas there was no difference in the diversity of errors between the self-and agreeingperspective conditions (d = 0.02, p = .81)."
        ],
        [
         "11",
         "Given no main effect of depth of processing, F(1, 1039) = 0.25, p = .616, Î· p 2 < .001, the deep and shallow conditions were collapsed."
        ],
        [
         "12",
         "No main effect of saccade amplitude on judgment appeared, F(1, 26) = 1.122, p = .299, Î· p 2 = .041, but there was an effect of stimuli type, F(3, 78) = 20.836, p < .001, Î· p 2 = .445 (Ms = 4.06Â°, 3.33Â°, 4.31Â°, and 3.44Â° for classrooms, pools, restaurants, and roads, respectively), and an interaction, F(3, 78) = 4.869, p = .004, Î· p 2 = .158, with restaurants having a trend for longer saccades during subordinate categorizations (M = 4.62Â°) than during basic categorizations (M = 3.99Â°), t(26) = 1.735, p = .094."
        ],
        [
         "13",
         "Importantly, stress did not modulate the accuracy difference between repeat and switch trials (Condition Ã— Trial Type: p = .192), which provides evidence against the possibility that increased effort aversion under stress was simply caused by a desire to avoid more errors."
        ],
        [
         "14",
         "As expected on the basis of previous studies, t tests showed that there were no differences between groups on tests of either verbal, t(50) = 0.93, p = .36, or visual, t(50) = 1.00, p = .32, recognition memory of the film (Table S1 in the Supplemental Material)-this is consistent with the possibility that intrusivememory frequency (diary/IPT intrusion score) was influenced while leaving recognition memory (for facts and scenes in the trauma film) intact."
        ],
        [
         "15",
         "On the other hand, the model showed no main effect of age on influence magnitude, Ï‡ 2 (2) = 1.30, p = .521."
        ],
        [
         "16",
         "Again, there was no effect of training group, F(1, 48) < 0.01, p = .95, Ï‰ p 2 = -.02, 95% CI = [.00, 1.00], and no interaction, F(2, 96) = 2.58, p = .08, Ï‰ p 2 = .02, 95% CI = [.00, .08]."
        ],
        [
         "17",
         "Meanwhile, on lossframed trials, there was a significant interaction, b = -4.51, SE = 0.75, z = -6.03, p < .001; participants were less likely to look at the second option if they first fixated a gamble with high expected value, b = -4.31, SE = 0.49, z = -8.74, p < .001, whereas there was no effect of expected value if they first fixated the sure loss, b = 0.20, SE = 0.56, z = 0.35, p = .73."
        ],
        [
         "18",
         "Critically, whereas overall response times were faster for objects in the horizontal than the vertical plane-main effect of orientation: F(2.4) = 9.1, p < .001, Î· p 2 = .10-learned prioritization also did not differ between orientations-interaction: F(2, 158) = 0.26, p = .77, Î· p 2 = .003, BF excl = 45.1."
        ],
        [
         "19",
         "The effect of age was marginally modulated by the direction of influence, Ï‡ 2 (2) = 5.04, p = .080 (Fig. 5, top panel): Under prosocial influence, influence probability was higher for young adolescents than for adults (young adolescents -adults: contrast = 1.05, SE = 0.27, p Bonf < .001; for all contrasts, see Table S4a in the Supplemental Material) and marginally higher than for midadolescents (young adolescents -midadolescents: contrast = 0.65, SE = 0.25, p Bonf = .061), whereas this was not the case under selfish influence, where influence probability did not differ between age groups (all p Bonf s > .110)."
        ],
        [
         "20",
         "Self-reported height in centimeters (absolute height) did not predict coin allocation, Wald Ï‡ 2 (1) = 0.06, p = .939 (controlling for participant sex, Wald Ï‡ 2 (1) = 0.32, p = .570)."
        ],
        [
         "21",
         "No difference was found in verbal tests, t(343) = 1.20, p = .23."
        ],
        [
         "22",
         "Further, the self and other scenarios did not differ in their moral wrongness as rated by participants, t(345) = 1.41, d = 0.15, 95% CI = [-0.06, 0.36], p = .160 (for descriptive statistics and bivariate correlations, see Tables S4.1 and S4.2 in the Supplemental Material)."
        ],
        [
         "23",
         "As expected, there was no difference between participants in the agreeing-and self-perspective conditions (d = 0.04, p = .51)."
        ],
        [
         "24",
         "When participants fixated only one of the two options, they were highly likely to choose whichever option they fixated regardless of whether time was unlimited, b = 3.52, SE = 0.32, z = 10.86, p < .001, or constrained, b = 2.95, SE = 0.15, z = 20.18, p < .001 (there was no difference between conditions, b = -0.57, SE = 0.34, z = -1.70, p = .09)."
        ],
        [
         "25",
         "First fixation had no effect on choice when time was unlimited and both options were attended, b = -0.17, SE = 0.09, z = -1.76, p = .08."
        ],
        [
         "26",
         "Conversely, and as predicted, the explicit relationship evaluation assessed at intake was not related to nonverbal behavior exhibited in the conversation, b = 0.05, SE = 0.06, 95% CI = [-0.07, 0.16], p = .411, Î² = 0.05."
        ],
        [
         "27",
         "There were no differences in participant proportion of females relative to the overall sample for Profiles 3 (p = .06) and 5 (p = .09; see Fig."
        ],
        [
         "28",
         "The results indicate that both participants in the fearchemosignal condition (M = 46.42, SD = 9.23) and the rest-body-odor condition (M = 45.22, SD = 10.62) counted a very similar number of bluefish consuming the food morsels (W = 7,538.50, p = .273), indicating that participants in both odor conditions were similarly engaged in the task."
        ],
        [
         "29",
         "There was no difference between congruent and incongruent trials in the probe-other condition, t(193) = -0.23, p = .591, d = 0.02; difference: M = -0.30%, 95% CI = [-2.45, 1.85] (see Fig. 3), and the data were about 3 times more likely under the null hypothesis of no difference (BF 10 = 0.34)."
        ],
        [
         "30",
         "However, unlike in Experiment 1, the amount of cultural divergence did not grow over time, t( ) . 214 0 39 =, p = .694, r 2 00 = ., 90% CI = [.00, .02]."
        ],
        [
         "31",
         "The results showed no difference in the weight assigned to the value of losses and gains per se, t(55) < 1.2, p > .23, Cohen's d < .17, only to the weight assigned to the associated feelings-expected feelings: t(55) = 3.59, p = .001, 95% CI = [1.29, 4.55], Cohen's d = .479; experienced feelings:"
        ],
        [
         "32",
         "Consistent with study hypotheses emphasizing the importance of cumulative risk, there was not a main effect of treatment condition on epigenetic age acceleration at T3 (b = 0.14, p = .25, with iPCIT coded as 0 and RAU coded as 1)."
        ],
        [
         "33",
         "The three-way interaction was not significant, F(1, 21) = 0.01, p = .930, Î· p 2 < .01, which suggests that holistic processing of faces and dot patterns is qualitatively similar."
        ],
        [
         "34",
         "Participants allocated more area-weighted fixations to the eye region (M = 5,943.88, SE = 853.27) and nose region (M = 5,690.79, SE = 465.17) than the mouth region (M = 1,210.98, SE = 120.56; there was no difference between eyes and nose, p = .761)."
        ],
        [
         "35",
         "ANOVAs within blocks revealed that during the beginning of acquisition, IBI did not differ between CS types (p = .559), whereas CS type modulated IBI in the second block of acquisition (p = .023), as shown in Figure 5."
        ],
        [
         "36",
         "The correlation for participants who were unsure what to believe was largely intermediate between believers and disbelievers: It was weaker than for people who believed the official story for three events (zs > 3.83, ps < .001), with the exception of the 9/11 terrorist attacks (z = 1.72, p = .086)."
        ],
        [
         "37",
         "There was no difference in the ratings given to faces in the other-slow and other-fast conditions, t(28) = 1.44, p = .16, Cohen's d = 0.27."
        ],
        [
         "38",
         "A negative binomial regression showed no difference in the number of accurately counted food items between conditions, Wald Ï‡ 2 (2, N = 353) = 3.34, p = .188 (see Fig. 2, right)."
        ],
        [
         "39",
         "Lottery choices were not predicted by participant sex, Wald Ï‡ 2 = .208, p = .65, or by the interaction of sex ratio and participant sex, Wald Ï‡ 2 = 1.219, p = .27."
        ],
        [
         "40",
         "Results were also independent of the reliability of candidate traits (r = -.02, p = .91)."
        ],
        [
         "41",
         "Crucially, we found no correlation between the mean of sham and the effect of alpha tACS-Pearson's r(28) = .097, p = .610; Spearman's Ï = -.016, p = .932; N = 30, suggesting that a larger overestimation in the sham tACS condition corresponded to a larger beta-related underestimation."
        ],
        [
         "42",
         "Groups were matched on gender (p = .108) and years of education (p = .203; mean years of education for younger adults = 15.4, SD = 16.5, range = 11-17; mean years of education for older adults = 15.0, SD = 2.77, range = 6-20)."
        ],
        [
         "43",
         "The magnitude of this effect was equivalent to that for the dot patterns, t(21) = 0.09, p = .930, but smaller than that for the line patterns, t(41) = 3.60, p < .001, Cohen's d = 0.56."
        ],
        [
         "44",
         "Unlike the analyses using RT on search trials as the dependent variable, there was no main effect of real-time entropy on fixation time, F(1, 22,897.2) = 1.64, p = .20, Î² = -0.006, SE = 0.005."
        ],
        [
         "45",
         "As in Study 1, individuals' risk and social preferences were uncorrelated (Spearman's r = .03, p = .800)."
        ],
        [
         "46",
         "As predicted, a Mann-Whitney U test indicated that the percentage of children who waited for the full 15-min period (50%) was comparable with the waiting times in the aware condition of Study 1 (40%; Z = -0.77, p = .440)."
        ],
        [
         "47",
         "There was also no effect of familiarity, F(2, 96) = 0.12, p = .89, Ï‰ p 2 = -.01, 95% CI = [.00, .08]."
        ],
        [
         "48",
         "Nor were there gender differences in politeness of remarks (57% of men, 44% of women), b = -0.13, t(187) = -1.46, p = .145, 95% CI = [-0.30, 0.04]."
        ],
        [
         "49",
         "This effect did not interact with the order of the groups, F(1, 539) = 2.33, p = .128, Î· p 2 = .004."
        ]
       ],
       "shape": {
        "columns": 1,
        "rows": 58
       }
      },
      "text/html": [
       "<div>\n",
       "<style scoped>\n",
       "    .dataframe tbody tr th:only-of-type {\n",
       "        vertical-align: middle;\n",
       "    }\n",
       "\n",
       "    .dataframe tbody tr th {\n",
       "        vertical-align: top;\n",
       "    }\n",
       "\n",
       "    .dataframe thead th {\n",
       "        text-align: right;\n",
       "    }\n",
       "</style>\n",
       "<table border=\"1\" class=\"dataframe\">\n",
       "  <thead>\n",
       "    <tr style=\"text-align: right;\">\n",
       "      <th></th>\n",
       "      <th>text</th>\n",
       "    </tr>\n",
       "  </thead>\n",
       "  <tbody>\n",
       "    <tr>\n",
       "      <th>0</th>\n",
       "      <td>Study S7 (with French participants) employed a...</td>\n",
       "    </tr>\n",
       "    <tr>\n",
       "      <th>1</th>\n",
       "      <td>There was no correlation between CAPS score an...</td>\n",
       "    </tr>\n",
       "    <tr>\n",
       "      <th>2</th>\n",
       "      <td>On the other hand, hunger and desire for food ...</td>\n",
       "    </tr>\n",
       "    <tr>\n",
       "      <th>3</th>\n",
       "      <td>The number of observed individuals had no effe...</td>\n",
       "    </tr>\n",
       "    <tr>\n",
       "      <th>4</th>\n",
       "      <td>There was no interaction between age group and...</td>\n",
       "    </tr>\n",
       "    <tr>\n",
       "      <th>5</th>\n",
       "      <td>Medical maximizers showed greater belief in bo...</td>\n",
       "    </tr>\n",
       "    <tr>\n",
       "      <th>6</th>\n",
       "      <td>On the other hand, the quadratic component of ...</td>\n",
       "    </tr>\n",
       "    <tr>\n",
       "      <th>7</th>\n",
       "      <td>A rank-based Spearman's correlation test (p &lt; ...</td>\n",
       "    </tr>\n",
       "    <tr>\n",
       "      <th>8</th>\n",
       "      <td>Chronic stress did not modulate the effect of ...</td>\n",
       "    </tr>\n",
       "    <tr>\n",
       "      <th>9</th>\n",
       "      <td>RT data showed a very similar pattern: Respons...</td>\n",
       "    </tr>\n",
       "    <tr>\n",
       "      <th>10</th>\n",
       "      <td>Comparing these correlation coefficients, we f...</td>\n",
       "    </tr>\n",
       "    <tr>\n",
       "      <th>11</th>\n",
       "      <td>Given no main effect of depth of processing, F...</td>\n",
       "    </tr>\n",
       "    <tr>\n",
       "      <th>12</th>\n",
       "      <td>No main effect of saccade amplitude on judgmen...</td>\n",
       "    </tr>\n",
       "    <tr>\n",
       "      <th>13</th>\n",
       "      <td>Importantly, stress did not modulate the accur...</td>\n",
       "    </tr>\n",
       "    <tr>\n",
       "      <th>14</th>\n",
       "      <td>As expected on the basis of previous studies, ...</td>\n",
       "    </tr>\n",
       "    <tr>\n",
       "      <th>15</th>\n",
       "      <td>On the other hand, the model showed no main ef...</td>\n",
       "    </tr>\n",
       "    <tr>\n",
       "      <th>16</th>\n",
       "      <td>Again, there was no effect of training group, ...</td>\n",
       "    </tr>\n",
       "    <tr>\n",
       "      <th>17</th>\n",
       "      <td>Meanwhile, on lossframed trials, there was a s...</td>\n",
       "    </tr>\n",
       "    <tr>\n",
       "      <th>18</th>\n",
       "      <td>Critically, whereas overall response times wer...</td>\n",
       "    </tr>\n",
       "    <tr>\n",
       "      <th>19</th>\n",
       "      <td>The effect of age was marginally modulated by ...</td>\n",
       "    </tr>\n",
       "    <tr>\n",
       "      <th>20</th>\n",
       "      <td>Self-reported height in centimeters (absolute ...</td>\n",
       "    </tr>\n",
       "    <tr>\n",
       "      <th>21</th>\n",
       "      <td>No difference was found in verbal tests, t(343...</td>\n",
       "    </tr>\n",
       "    <tr>\n",
       "      <th>22</th>\n",
       "      <td>Further, the self and other scenarios did not ...</td>\n",
       "    </tr>\n",
       "    <tr>\n",
       "      <th>23</th>\n",
       "      <td>As expected, there was no difference between p...</td>\n",
       "    </tr>\n",
       "    <tr>\n",
       "      <th>24</th>\n",
       "      <td>When participants fixated only one of the two ...</td>\n",
       "    </tr>\n",
       "    <tr>\n",
       "      <th>25</th>\n",
       "      <td>First fixation had no effect on choice when ti...</td>\n",
       "    </tr>\n",
       "    <tr>\n",
       "      <th>26</th>\n",
       "      <td>Conversely, and as predicted, the explicit rel...</td>\n",
       "    </tr>\n",
       "    <tr>\n",
       "      <th>27</th>\n",
       "      <td>There were no differences in participant propo...</td>\n",
       "    </tr>\n",
       "    <tr>\n",
       "      <th>28</th>\n",
       "      <td>The results indicate that both participants in...</td>\n",
       "    </tr>\n",
       "    <tr>\n",
       "      <th>29</th>\n",
       "      <td>There was no difference between congruent and ...</td>\n",
       "    </tr>\n",
       "    <tr>\n",
       "      <th>30</th>\n",
       "      <td>However, unlike in Experiment 1, the amount of...</td>\n",
       "    </tr>\n",
       "    <tr>\n",
       "      <th>31</th>\n",
       "      <td>The results showed no difference in the weight...</td>\n",
       "    </tr>\n",
       "    <tr>\n",
       "      <th>32</th>\n",
       "      <td>Consistent with study hypotheses emphasizing t...</td>\n",
       "    </tr>\n",
       "    <tr>\n",
       "      <th>33</th>\n",
       "      <td>The three-way interaction was not significant,...</td>\n",
       "    </tr>\n",
       "    <tr>\n",
       "      <th>34</th>\n",
       "      <td>Participants allocated more area-weighted fixa...</td>\n",
       "    </tr>\n",
       "    <tr>\n",
       "      <th>35</th>\n",
       "      <td>ANOVAs within blocks revealed that during the ...</td>\n",
       "    </tr>\n",
       "    <tr>\n",
       "      <th>36</th>\n",
       "      <td>The correlation for participants who were unsu...</td>\n",
       "    </tr>\n",
       "    <tr>\n",
       "      <th>37</th>\n",
       "      <td>There was no difference in the ratings given t...</td>\n",
       "    </tr>\n",
       "    <tr>\n",
       "      <th>38</th>\n",
       "      <td>A negative binomial regression showed no diffe...</td>\n",
       "    </tr>\n",
       "    <tr>\n",
       "      <th>39</th>\n",
       "      <td>Lottery choices were not predicted by particip...</td>\n",
       "    </tr>\n",
       "    <tr>\n",
       "      <th>40</th>\n",
       "      <td>Results were also independent of the reliabili...</td>\n",
       "    </tr>\n",
       "    <tr>\n",
       "      <th>41</th>\n",
       "      <td>Crucially, we found no correlation between the...</td>\n",
       "    </tr>\n",
       "    <tr>\n",
       "      <th>42</th>\n",
       "      <td>Groups were matched on gender (p = .108) and y...</td>\n",
       "    </tr>\n",
       "    <tr>\n",
       "      <th>43</th>\n",
       "      <td>The magnitude of this effect was equivalent to...</td>\n",
       "    </tr>\n",
       "    <tr>\n",
       "      <th>44</th>\n",
       "      <td>Unlike the analyses using RT on search trials ...</td>\n",
       "    </tr>\n",
       "    <tr>\n",
       "      <th>45</th>\n",
       "      <td>As in Study 1, individuals' risk and social pr...</td>\n",
       "    </tr>\n",
       "    <tr>\n",
       "      <th>46</th>\n",
       "      <td>As predicted, a Mann-Whitney U test indicated ...</td>\n",
       "    </tr>\n",
       "    <tr>\n",
       "      <th>47</th>\n",
       "      <td>There was also no effect of familiarity, F(2, ...</td>\n",
       "    </tr>\n",
       "    <tr>\n",
       "      <th>48</th>\n",
       "      <td>Nor were there gender differences in politenes...</td>\n",
       "    </tr>\n",
       "    <tr>\n",
       "      <th>49</th>\n",
       "      <td>This effect did not interact with the order of...</td>\n",
       "    </tr>\n",
       "    <tr>\n",
       "      <th>50</th>\n",
       "      <td>However, a 2 (contingency: performance-depende...</td>\n",
       "    </tr>\n",
       "    <tr>\n",
       "      <th>51</th>\n",
       "      <td>We found that time delays increased perception...</td>\n",
       "    </tr>\n",
       "    <tr>\n",
       "      <th>52</th>\n",
       "      <td>This finding was similar to that in the forced...</td>\n",
       "    </tr>\n",
       "    <tr>\n",
       "      <th>53</th>\n",
       "      <td>Accuracy (proportion of correct responses) did...</td>\n",
       "    </tr>\n",
       "    <tr>\n",
       "      <th>54</th>\n",
       "      <td>Unlike the prior experiment, in which learning...</td>\n",
       "    </tr>\n",
       "    <tr>\n",
       "      <th>55</th>\n",
       "      <td>Further-although participant-centered valence ...</td>\n",
       "    </tr>\n",
       "    <tr>\n",
       "      <th>56</th>\n",
       "      <td>Efficiency did not differ between the congruen...</td>\n",
       "    </tr>\n",
       "    <tr>\n",
       "      <th>57</th>\n",
       "      <td>Viewed differently, participants disliked avoi...</td>\n",
       "    </tr>\n",
       "  </tbody>\n",
       "</table>\n",
       "</div>"
      ],
      "text/plain": [
       "                                                 text\n",
       "0   Study S7 (with French participants) employed a...\n",
       "1   There was no correlation between CAPS score an...\n",
       "2   On the other hand, hunger and desire for food ...\n",
       "3   The number of observed individuals had no effe...\n",
       "4   There was no interaction between age group and...\n",
       "5   Medical maximizers showed greater belief in bo...\n",
       "6   On the other hand, the quadratic component of ...\n",
       "7   A rank-based Spearman's correlation test (p < ...\n",
       "8   Chronic stress did not modulate the effect of ...\n",
       "9   RT data showed a very similar pattern: Respons...\n",
       "10  Comparing these correlation coefficients, we f...\n",
       "11  Given no main effect of depth of processing, F...\n",
       "12  No main effect of saccade amplitude on judgmen...\n",
       "13  Importantly, stress did not modulate the accur...\n",
       "14  As expected on the basis of previous studies, ...\n",
       "15  On the other hand, the model showed no main ef...\n",
       "16  Again, there was no effect of training group, ...\n",
       "17  Meanwhile, on lossframed trials, there was a s...\n",
       "18  Critically, whereas overall response times wer...\n",
       "19  The effect of age was marginally modulated by ...\n",
       "20  Self-reported height in centimeters (absolute ...\n",
       "21  No difference was found in verbal tests, t(343...\n",
       "22  Further, the self and other scenarios did not ...\n",
       "23  As expected, there was no difference between p...\n",
       "24  When participants fixated only one of the two ...\n",
       "25  First fixation had no effect on choice when ti...\n",
       "26  Conversely, and as predicted, the explicit rel...\n",
       "27  There were no differences in participant propo...\n",
       "28  The results indicate that both participants in...\n",
       "29  There was no difference between congruent and ...\n",
       "30  However, unlike in Experiment 1, the amount of...\n",
       "31  The results showed no difference in the weight...\n",
       "32  Consistent with study hypotheses emphasizing t...\n",
       "33  The three-way interaction was not significant,...\n",
       "34  Participants allocated more area-weighted fixa...\n",
       "35  ANOVAs within blocks revealed that during the ...\n",
       "36  The correlation for participants who were unsu...\n",
       "37  There was no difference in the ratings given t...\n",
       "38  A negative binomial regression showed no diffe...\n",
       "39  Lottery choices were not predicted by particip...\n",
       "40  Results were also independent of the reliabili...\n",
       "41  Crucially, we found no correlation between the...\n",
       "42  Groups were matched on gender (p = .108) and y...\n",
       "43  The magnitude of this effect was equivalent to...\n",
       "44  Unlike the analyses using RT on search trials ...\n",
       "45  As in Study 1, individuals' risk and social pr...\n",
       "46  As predicted, a Mann-Whitney U test indicated ...\n",
       "47  There was also no effect of familiarity, F(2, ...\n",
       "48  Nor were there gender differences in politenes...\n",
       "49  This effect did not interact with the order of...\n",
       "50  However, a 2 (contingency: performance-depende...\n",
       "51  We found that time delays increased perception...\n",
       "52  This finding was similar to that in the forced...\n",
       "53  Accuracy (proportion of correct responses) did...\n",
       "54  Unlike the prior experiment, in which learning...\n",
       "55  Further-although participant-centered valence ...\n",
       "56  Efficiency did not differ between the congruen...\n",
       "57  Viewed differently, participants disliked avoi..."
      ]
     },
     "metadata": {},
     "output_type": "display_data"
    }
   ],
   "source": [
    "display_statements(true_positives, \"True Positives (predicted 1, actual 1)\")"
   ]
  },
  {
   "cell_type": "code",
   "execution_count": 46,
   "id": "e5705a94",
   "metadata": {},
   "outputs": [
    {
     "name": "stdout",
     "output_type": "stream",
     "text": [
      "\n",
      "True Negatives (predicted 0, actual 0) (count: 48)\n"
     ]
    },
    {
     "data": {
      "application/vnd.microsoft.datawrangler.viewer.v0+json": {
       "columns": [
        {
         "name": "index",
         "rawType": "int64",
         "type": "integer"
        },
        {
         "name": "text",
         "rawType": "object",
         "type": "string"
        }
       ],
       "ref": "d4ae9c16-7477-4779-a28d-f678b2b4b623",
       "rows": [
        [
         "0",
         "In contrast, there were no significant group differences in the linear trend across groups in the rule-based task, F(1, 54) = 0.46, p = .50052, Î· p Â² = .008."
        ],
        [
         "1",
         "We found that sounds did not have a significant impact on report error, F(2, 78) = 2.08, p = .13, Î· 2 = .05 (Fig. 4b), and we did not find a significant RT benefit for related sounds (Ms = 2,008 vs. 2,037 ms), t(39) = 1.73, p = .09, Cohen's d z = 0.27, 95% CI = [-0.073, 0.619], BF 01 = 1.50 (Fig. 4c)."
        ],
        [
         "2",
         "Following up, we found that sounds had no significant impact on report error, F(2, 78) = 0.38, p = .69, Î· 2 = .009 (Fig. 3b), and as expected, RT on related (M = 1,911 ms) and unrelated trials (M = 1,906 ms) was not significantly different, t(39) = 0.29, p = .77, Cohen's d z = 0.04, 95% CI = [-0.379, 0.286], BF 01 = 5.63 (Fig. 3d)."
        ],
        [
         "3",
         "This difference, however, was highly significant in Malayalam readers (p < .0005) but not in Telugu readers (p = .09)."
        ],
        [
         "4",
         "The interaction between familiarity and length, although in the predicted direction, was not significant, F(1, 29) = 0.81, p = .38, Î· p 2 = .03, OP = .14 (pseudowords-three letters: M = 2,175 ms, SD = 776, five letters: M = 2,576 ms, SD = 876; real words-three letters: M = 1,933 ms, SD = 939, five letters: M = 2,055 ms, SD = 1,028)."
        ],
        [
         "5",
         "The receivers' zygomatic activity during touch was not overall significantly greater than baseline (EMM = .03, 95% CI = [-.03, .10]), t(28) = 1.02, p = .316, but did vary significantly with the cue, F(5, 920) = 7.04, p < .001 (Fig. 2a)."
        ],
        [
         "6",
         "Meta-regression indicated no significant moderating effect of preexisting perceptions of consensus, b = -0.84, t(35) = -1.44, p = .159."
        ],
        [
         "7",
         "Incongruent evaluations did not differ significantly (p = .865)."
        ],
        [
         "8",
         "Interestingly, here congruent imagery did not lead to a significant increase in accuracy compared with baseline (Fig. 2C), M = 2.21%, SEM Â±2.78, t(10) = 0.79, p = 0.89, 95% CI = [-3.98, 8.4], k = 2 (Bonferroni adjusted two-tailed t test), a result not in line with previous priming research (Ishai & Sagi, 1995;Pearson, 2019)."
        ],
        [
         "9",
         "Consequently, receivers' use of the odd-oneout signal on inversion trials did not differ significantly from their use of the odd-one-out signal on one-ax trials (p > .250), in which alternate selection strategies (M = .02, SE = .02) were only negligibly deployed."
        ],
        [
         "10",
         "Post hoc examination of the interaction did not show a significant simple effect of dimensionality for intact items (Table 3; 3D -2D: Î”M = -0.33 s, SD = 0.73, 95% CI = [-0.74, 0.07], uncorrected p = .11, FDR q = 0.23, Cohen's d = 0.45) or for scrambled items (3D -2D: Î”M = 0.2 s, SD = 0.89, 95% CI = [-0.18, 0.59], uncorrected p = .32, d = 0.23)."
        ],
        [
         "11",
         "Participants scoring higher on trait sociability (+1 SD) had significantly lower desire for social contact on social isolation days compared with baseline days, Î² = -6.52, SE = 2.12, t(66.65) = -3.07, p = .003, but this was not the case for those scoring lower (-1 SD) on sociability, Î² = -0.18, SE = 2.08, t(66.65) = -0.09, p = .929."
        ],
        [
         "12",
         "There was no significant interaction between participant height and opponent height, Wald Ï‡ 2 (1) = 0.38, b = 0.042, SE = 0.068, 95% CI = [-0.091, 0.174], p = .540 (QICc = 203.85)."
        ],
        [
         "13",
         "In contrast, there were no significant differences between the dyslexia (M = 5.44 blocks) and control (M = 4.86 blocks) groups in the total blocks in which they used the optimal conjunctive strategy in the rulebased task (p = .29, 95% CI = [-0.50, 1.66])."
        ],
        [
         "14",
         "SES was not significantly related to coins kept for self in the ultimatum game, Wald Ï‡ 2 (1) = 2.41, b = -0.062, SE = 0.040, 95% CI = [-0.141, 0.016], p = .121 (QICc = 26.23)."
        ],
        [
         "15",
         "Egger's test, however, was again nonsignificant, intercept = 0.55, 95% CI = [-0.28, 1.37], t = 1.30, p = .202."
        ],
        [
         "16",
         "Compared with participants who disbelieved the official story, the correlation was more strongly positive for the 9/11 terrorist attacks (z = 4.54, p < .001) and Hitler's suicide (z = 6.98, p < .001) but not significantly different for COVID-19 (z = 1.45, p = .148) and climate change (z = 0.15, p = .883)."
        ],
        [
         "17",
         "Replicating Experiments 1 and 2, results showed that the similarity-search condition did not elicit a reliable difference between the highand low-prevalence conditions (4.7% difference in miss rates), t(21) = 1.49, p = .152, Î± = .025."
        ],
        [
         "18",
         "The receivers' overall corrugator activity was not significantly different during touch compared with baseline (EMM = -.04, 95% CI = [-.10, .03]), t(28) = -1.15, p = .262, nor did it vary with cue, F(5, 901) = 1.50, p = .188 (Fig. 2b)."
        ],
        [
         "19",
         "Participants in the time-pressure condition (n = 80; M = 3.86, SD = 1.65) did not report significantly higher die-roll outcomes than participants in the self-paced condition (n = 97; M = 3.68, SD = 1.70), Z = 0.70, p = .241, rank biserial correlation (r bc ) = -.05, 95% CI = [-âˆž, .09]."
        ],
        [
         "20",
         "For low-probability trials, we also found no difference in RTs between trials that were preceded by a low-probability trial (2.46 s, SD = 1.40) and those preceded by a high-probability trial (2.56 s, SD = 1.22), t(23) = 0.76, p = .452, Cohen's d = 0.16, 95% CI = [-0.16, 0.35]."
        ],
        [
         "21",
         "The interaction between familiarity and length was also significant, F(1, 19) = 13.55, p = .002, Î· p 2 = .42, OP = .94, because of higher peaks for five-letter pseudowords (M = 17.05%, SD = 8.17) compared with three-letter pseudowords (M = 14.16%, SD = 6.11), t(19) = -3.58, p = .002, but length was not significant in the case of real words (five letters: M = 13.35%, SD = 5.14; three letters: M = 13.31%, SD = 4.73), t(19) = -0.10, p = .92."
        ],
        [
         "22",
         "Finally, the effect of feeling small was tested by adding the variable to the intercept-only model-feeling small was not significantly related to behavior in the dictator game, Wald Ï‡ 2 (1) = 0.08, b = -0.006, SE = 0.022, 95% CI = [-0.050, 0.037], p = .781 (QICc = 333.06)."
        ],
        [
         "23",
         "However, the difference between imagining the CS+ and imagining the CS-was not significant, t(26) = 1.03, p = .31, d = 0.20."
        ],
        [
         "24",
         "The Target Ã— Valence interaction was not significant, t(18.13) = 0.73, b = 0.21, 95% CI = [-0.36, 0.79], p = .476."
        ],
        [
         "25",
         "Similarly, there was no significant relationship between CP enjoyment change and CP fear change (Model 6c: Î² = 0.01, SE = 0.09, p = .908)."
        ],
        [
         "26",
         "Participants fixated on the familiar face earlier when they had more time before they were allowed to move their gaze, but this effect was not statistically significant in either group-Israeli sample: t(34) = -1.51, p = .070, d = 0.26, 95% CI = [-0.08, 0.6]; German sample: t(32) = -1.34, p = .095, d = 0.23, 95% CI = [-0.12, 0.59]."
        ],
        [
         "27",
         "Post hoc t tests on the main effect of CS type revealed a significant difference between the aversive CS+ and the CS-(p = .023) and (marginally) between the aversive CS+ and the neutral CS+ (p = .054) but not between the neutral CS+ and the CS-(p = .970)."
        ],
        [
         "28",
         "Here, we found no main effect of experiment, F(1, 78) = 0.18, p = 0.67, Î· p 2 < .01), a main effect of sound, F(1, 78) = 24.04, p < .0001, Î· p 2 = .24, and a significant interaction, F(1, 78) = 4.21, p = .0435, Î· p 2 = .05."
        ],
        [
         "29",
         "The triple interaction (Î² = -0.06, 95% CI = [-0.20, 0.08], p = .428) did not significantly improve the model compared to the model with only an interaction between ejection event and ejected team, likelihood ratio test Ï‡ 2 (4) = 3.53, p = .473."
        ],
        [
         "30",
         "Opponent height did not significantly affect coins kept for self in the dictator game, Wald Ï‡ 2 (1) = 1.34, b = -0.006, SE = 0.005, 95% CI = [-0.015, 0.004], p = .247 (QICc = 325.85)."
        ],
        [
         "31",
         "Tukey's HSD tests showed no significant difference between scores in the mindfulness and mind-wandering conditions (p = .394), but scores in both the mindfulness (p < .001) and mindwandering conditions (p < .001) were greater than those in the join-the-dots condition."
        ],
        [
         "32",
         "Most importantly, the Context Ã— Phase interaction was significant, F(1, 15) = 22.44, p < .001, Î· p 2 = .6, 95% CI = [.20, .76]: There was a robust, significant contextualcuing effect during the learning phase (119 ms), F(1, 15) = 31.22, p < .001, Î· p 2 = .68, 95% CI = [.31, .80], but no reliable effect during the relocation phase (17 ms), F(1, 15) = 3.1, p = .098, Î· p 2 = .17, 95% CI = [.00, .45]."
        ],
        [
         "33",
         "The perceptual and emotion tasks did not differ significantly in amplitude (p = .801)."
        ],
        [
         "34",
         "There were no significant gender differences in failures to ask questions (women: M = 0.24; men: M = 0.17), b = 0.07, t(187) = 1.09, p = .276, 95% CI = [-0.06, 0.21]."
        ],
        [
         "35",
         "There were no significant relationships between CP fear change with participant age (p = .119), gender (p = .347), or motivation (p = .841)."
        ],
        [
         "36",
         "The three-way Configuration Ã— Decoy Ã— Choice interaction in a log linear analysis was nonsignificant, Ï‡ 2 (1, N = 768) = 2.85, p = .09."
        ],
        [
         "37",
         "Neither participant sex, F = 0.004, p = .95, nor the interaction between sex ratio and participant sex were significant, F = 1.318, p = .26."
        ],
        [
         "38",
         "First, the main effect of boosting consensus reasoning on posterior beliefs, comparing the combined boost conditions (M = 14.84, SD = 58.06) with the consensus-only condition (M = 20.51, SD = 53.57), was not significant, F(1, 439) = 2.91, p = .089, Î· p 2 = .007, 90% CI = [.000, .025], BF 10 = 0.44."
        ],
        [
         "39",
         "Moreover, the PE effect on confidence was not significantly correlated with the PE effect on accuracy across participants (Ï = .27, p = .19)."
        ],
        [
         "40",
         "The main effect of pitch was nonsignificant, F(2, 56) = 1.04, p = .36, Î· p 2 = .036."
        ],
        [
         "41",
         "Responses to the direct question, \"What played a greater role in the decision-the money to be earned or the work of filling out the survey?\" under the two transaction frames did not significantly differ, t(212) = 1.402, p = .162, Cohen's d = 0.196."
        ],
        [
         "42",
         "However, there was no significant difference in congruent or incongruent false alarms (Supplementary Fig. 10 in the Supplemental Material), M = 1.33%, SEM Â±1.15%, t(19) = 1.1587, p = 0.2617, 95% CI = [-0.0108, 0.0375] (two-tailed t test, noncorrected)."
        ],
        [
         "43",
         "The interaction between transaction frame and ownership status was not significant, F(1, 415) = 1.041, p = .308, Î· p 2 = .003."
        ],
        [
         "44",
         "The difference between the boost+ condition (M = -47.44, SD = 40.58) and the boost condition (M = -51.16, SD = 48.60) was also not significant, F(1, 141) = 1.73, p = .191, Î· p 2 = .012, 90% CI = [.000, .058], BF 10 = 0.39."
        ],
        [
         "45",
         "Thus there is no significant relationship between participants' selfreported enjoyment and CP post-jump-scare enjoyment levels (Î² = 0.06, SE = 0.21, p = .776)."
        ],
        [
         "46",
         "No significant gender differences emerged in anxiety (men: M = 0.45, women: M = 0.38, b = -0.31, Z = -0.76, p = .445, 95% CI = [-1.11, 0.49]), logistics (men: M = 0.07, women: M = 0.18, b = 1.05, Z = 1.53, p = .125, 95% CI = [-0.19, 2.59]), or preferring one-on-one conversations (men: M = 0.00, women: M = 0.03, b = 17.18, Z = 0.01, p = .995)."
        ],
        [
         "47",
         "The effect of oral contraceptive use was not significant, Î² = 0.08, SE = 0.05, t(63.381) = 1.57, p = .12, 95% CI = [-0.02, 0.17]."
        ]
       ],
       "shape": {
        "columns": 1,
        "rows": 48
       }
      },
      "text/html": [
       "<div>\n",
       "<style scoped>\n",
       "    .dataframe tbody tr th:only-of-type {\n",
       "        vertical-align: middle;\n",
       "    }\n",
       "\n",
       "    .dataframe tbody tr th {\n",
       "        vertical-align: top;\n",
       "    }\n",
       "\n",
       "    .dataframe thead th {\n",
       "        text-align: right;\n",
       "    }\n",
       "</style>\n",
       "<table border=\"1\" class=\"dataframe\">\n",
       "  <thead>\n",
       "    <tr style=\"text-align: right;\">\n",
       "      <th></th>\n",
       "      <th>text</th>\n",
       "    </tr>\n",
       "  </thead>\n",
       "  <tbody>\n",
       "    <tr>\n",
       "      <th>0</th>\n",
       "      <td>In contrast, there were no significant group d...</td>\n",
       "    </tr>\n",
       "    <tr>\n",
       "      <th>1</th>\n",
       "      <td>We found that sounds did not have a significan...</td>\n",
       "    </tr>\n",
       "    <tr>\n",
       "      <th>2</th>\n",
       "      <td>Following up, we found that sounds had no sign...</td>\n",
       "    </tr>\n",
       "    <tr>\n",
       "      <th>3</th>\n",
       "      <td>This difference, however, was highly significa...</td>\n",
       "    </tr>\n",
       "    <tr>\n",
       "      <th>4</th>\n",
       "      <td>The interaction between familiarity and length...</td>\n",
       "    </tr>\n",
       "    <tr>\n",
       "      <th>5</th>\n",
       "      <td>The receivers' zygomatic activity during touch...</td>\n",
       "    </tr>\n",
       "    <tr>\n",
       "      <th>6</th>\n",
       "      <td>Meta-regression indicated no significant moder...</td>\n",
       "    </tr>\n",
       "    <tr>\n",
       "      <th>7</th>\n",
       "      <td>Incongruent evaluations did not differ signifi...</td>\n",
       "    </tr>\n",
       "    <tr>\n",
       "      <th>8</th>\n",
       "      <td>Interestingly, here congruent imagery did not ...</td>\n",
       "    </tr>\n",
       "    <tr>\n",
       "      <th>9</th>\n",
       "      <td>Consequently, receivers' use of the odd-oneout...</td>\n",
       "    </tr>\n",
       "    <tr>\n",
       "      <th>10</th>\n",
       "      <td>Post hoc examination of the interaction did no...</td>\n",
       "    </tr>\n",
       "    <tr>\n",
       "      <th>11</th>\n",
       "      <td>Participants scoring higher on trait sociabili...</td>\n",
       "    </tr>\n",
       "    <tr>\n",
       "      <th>12</th>\n",
       "      <td>There was no significant interaction between p...</td>\n",
       "    </tr>\n",
       "    <tr>\n",
       "      <th>13</th>\n",
       "      <td>In contrast, there were no significant differe...</td>\n",
       "    </tr>\n",
       "    <tr>\n",
       "      <th>14</th>\n",
       "      <td>SES was not significantly related to coins kep...</td>\n",
       "    </tr>\n",
       "    <tr>\n",
       "      <th>15</th>\n",
       "      <td>Egger's test, however, was again nonsignifican...</td>\n",
       "    </tr>\n",
       "    <tr>\n",
       "      <th>16</th>\n",
       "      <td>Compared with participants who disbelieved the...</td>\n",
       "    </tr>\n",
       "    <tr>\n",
       "      <th>17</th>\n",
       "      <td>Replicating Experiments 1 and 2, results showe...</td>\n",
       "    </tr>\n",
       "    <tr>\n",
       "      <th>18</th>\n",
       "      <td>The receivers' overall corrugator activity was...</td>\n",
       "    </tr>\n",
       "    <tr>\n",
       "      <th>19</th>\n",
       "      <td>Participants in the time-pressure condition (n...</td>\n",
       "    </tr>\n",
       "    <tr>\n",
       "      <th>20</th>\n",
       "      <td>For low-probability trials, we also found no d...</td>\n",
       "    </tr>\n",
       "    <tr>\n",
       "      <th>21</th>\n",
       "      <td>The interaction between familiarity and length...</td>\n",
       "    </tr>\n",
       "    <tr>\n",
       "      <th>22</th>\n",
       "      <td>Finally, the effect of feeling small was teste...</td>\n",
       "    </tr>\n",
       "    <tr>\n",
       "      <th>23</th>\n",
       "      <td>However, the difference between imagining the ...</td>\n",
       "    </tr>\n",
       "    <tr>\n",
       "      <th>24</th>\n",
       "      <td>The Target Ã— Valence interaction was not sign...</td>\n",
       "    </tr>\n",
       "    <tr>\n",
       "      <th>25</th>\n",
       "      <td>Similarly, there was no significant relationsh...</td>\n",
       "    </tr>\n",
       "    <tr>\n",
       "      <th>26</th>\n",
       "      <td>Participants fixated on the familiar face earl...</td>\n",
       "    </tr>\n",
       "    <tr>\n",
       "      <th>27</th>\n",
       "      <td>Post hoc t tests on the main effect of CS type...</td>\n",
       "    </tr>\n",
       "    <tr>\n",
       "      <th>28</th>\n",
       "      <td>Here, we found no main effect of experiment, F...</td>\n",
       "    </tr>\n",
       "    <tr>\n",
       "      <th>29</th>\n",
       "      <td>The triple interaction (Î² = -0.06, 95% CI = [...</td>\n",
       "    </tr>\n",
       "    <tr>\n",
       "      <th>30</th>\n",
       "      <td>Opponent height did not significantly affect c...</td>\n",
       "    </tr>\n",
       "    <tr>\n",
       "      <th>31</th>\n",
       "      <td>Tukey's HSD tests showed no significant differ...</td>\n",
       "    </tr>\n",
       "    <tr>\n",
       "      <th>32</th>\n",
       "      <td>Most importantly, the Context Ã— Phase interac...</td>\n",
       "    </tr>\n",
       "    <tr>\n",
       "      <th>33</th>\n",
       "      <td>The perceptual and emotion tasks did not diffe...</td>\n",
       "    </tr>\n",
       "    <tr>\n",
       "      <th>34</th>\n",
       "      <td>There were no significant gender differences i...</td>\n",
       "    </tr>\n",
       "    <tr>\n",
       "      <th>35</th>\n",
       "      <td>There were no significant relationships betwee...</td>\n",
       "    </tr>\n",
       "    <tr>\n",
       "      <th>36</th>\n",
       "      <td>The three-way Configuration Ã— Decoy Ã— Choice...</td>\n",
       "    </tr>\n",
       "    <tr>\n",
       "      <th>37</th>\n",
       "      <td>Neither participant sex, F = 0.004, p = .95, n...</td>\n",
       "    </tr>\n",
       "    <tr>\n",
       "      <th>38</th>\n",
       "      <td>First, the main effect of boosting consensus r...</td>\n",
       "    </tr>\n",
       "    <tr>\n",
       "      <th>39</th>\n",
       "      <td>Moreover, the PE effect on confidence was not ...</td>\n",
       "    </tr>\n",
       "    <tr>\n",
       "      <th>40</th>\n",
       "      <td>The main effect of pitch was nonsignificant, F...</td>\n",
       "    </tr>\n",
       "    <tr>\n",
       "      <th>41</th>\n",
       "      <td>Responses to the direct question, \"What played...</td>\n",
       "    </tr>\n",
       "    <tr>\n",
       "      <th>42</th>\n",
       "      <td>However, there was no significant difference i...</td>\n",
       "    </tr>\n",
       "    <tr>\n",
       "      <th>43</th>\n",
       "      <td>The interaction between transaction frame and ...</td>\n",
       "    </tr>\n",
       "    <tr>\n",
       "      <th>44</th>\n",
       "      <td>The difference between the boost+ condition (M...</td>\n",
       "    </tr>\n",
       "    <tr>\n",
       "      <th>45</th>\n",
       "      <td>Thus there is no significant relationship betw...</td>\n",
       "    </tr>\n",
       "    <tr>\n",
       "      <th>46</th>\n",
       "      <td>No significant gender differences emerged in a...</td>\n",
       "    </tr>\n",
       "    <tr>\n",
       "      <th>47</th>\n",
       "      <td>The effect of oral contraceptive use was not s...</td>\n",
       "    </tr>\n",
       "  </tbody>\n",
       "</table>\n",
       "</div>"
      ],
      "text/plain": [
       "                                                 text\n",
       "0   In contrast, there were no significant group d...\n",
       "1   We found that sounds did not have a significan...\n",
       "2   Following up, we found that sounds had no sign...\n",
       "3   This difference, however, was highly significa...\n",
       "4   The interaction between familiarity and length...\n",
       "5   The receivers' zygomatic activity during touch...\n",
       "6   Meta-regression indicated no significant moder...\n",
       "7   Incongruent evaluations did not differ signifi...\n",
       "8   Interestingly, here congruent imagery did not ...\n",
       "9   Consequently, receivers' use of the odd-oneout...\n",
       "10  Post hoc examination of the interaction did no...\n",
       "11  Participants scoring higher on trait sociabili...\n",
       "12  There was no significant interaction between p...\n",
       "13  In contrast, there were no significant differe...\n",
       "14  SES was not significantly related to coins kep...\n",
       "15  Egger's test, however, was again nonsignifican...\n",
       "16  Compared with participants who disbelieved the...\n",
       "17  Replicating Experiments 1 and 2, results showe...\n",
       "18  The receivers' overall corrugator activity was...\n",
       "19  Participants in the time-pressure condition (n...\n",
       "20  For low-probability trials, we also found no d...\n",
       "21  The interaction between familiarity and length...\n",
       "22  Finally, the effect of feeling small was teste...\n",
       "23  However, the difference between imagining the ...\n",
       "24  The Target Ã— Valence interaction was not sign...\n",
       "25  Similarly, there was no significant relationsh...\n",
       "26  Participants fixated on the familiar face earl...\n",
       "27  Post hoc t tests on the main effect of CS type...\n",
       "28  Here, we found no main effect of experiment, F...\n",
       "29  The triple interaction (Î² = -0.06, 95% CI = [...\n",
       "30  Opponent height did not significantly affect c...\n",
       "31  Tukey's HSD tests showed no significant differ...\n",
       "32  Most importantly, the Context Ã— Phase interac...\n",
       "33  The perceptual and emotion tasks did not diffe...\n",
       "34  There were no significant gender differences i...\n",
       "35  There were no significant relationships betwee...\n",
       "36  The three-way Configuration Ã— Decoy Ã— Choice...\n",
       "37  Neither participant sex, F = 0.004, p = .95, n...\n",
       "38  First, the main effect of boosting consensus r...\n",
       "39  Moreover, the PE effect on confidence was not ...\n",
       "40  The main effect of pitch was nonsignificant, F...\n",
       "41  Responses to the direct question, \"What played...\n",
       "42  However, there was no significant difference i...\n",
       "43  The interaction between transaction frame and ...\n",
       "44  The difference between the boost+ condition (M...\n",
       "45  Thus there is no significant relationship betw...\n",
       "46  No significant gender differences emerged in a...\n",
       "47  The effect of oral contraceptive use was not s..."
      ]
     },
     "metadata": {},
     "output_type": "display_data"
    }
   ],
   "source": [
    "display_statements(true_negatives, \"True Negatives (predicted 0, actual 0)\")"
   ]
  },
  {
   "cell_type": "code",
   "execution_count": 47,
   "id": "34204718",
   "metadata": {},
   "outputs": [
    {
     "name": "stdout",
     "output_type": "stream",
     "text": [
      "\n",
      "False Positives (predicted 1, actual 0) (count: 19)\n"
     ]
    },
    {
     "data": {
      "application/vnd.microsoft.datawrangler.viewer.v0+json": {
       "columns": [
        {
         "name": "index",
         "rawType": "int64",
         "type": "integer"
        },
        {
         "name": "text",
         "rawType": "object",
         "type": "string"
        }
       ],
       "ref": "ee45539e-b889-4bd5-b1f6-d4a0328e613a",
       "rows": [
        [
         "0",
         "No main effect of dimensionality was found (3D -2D: Î”M = -0.29 s, SD = 1.74, 95% CI = [-0.65, 0.06], d = 0.17) in the two confirmatory analyses that were preregistered (permuting familiarity of items per subject, per-subject-swap, uncorrected p = .35, or across all subjects, acrosssubjects-swap, uncorrected p = .89; see the Method section; these two comparisons were Bonferroni corrected confidence intervals obtained by bootstrapping."
        ],
        [
         "1",
         "However, no effect of arousal was found for unconditional penalties, t(24) = 1.16, p = .13."
        ],
        [
         "2",
         "We found no effect of p(probe key|incongruent) on task effects in either 2AFC accuracy, Spearman's r(192) = .074, p = .30, 95% CI = [-.067, .21] (see Fig. 4), or RT, r(192) = -.023, p = .75, 95% CI = [-.16, .12], and the data were about 7 times more likely under the null hypothesis of no correlation for accuracy (BF 10 = 0.15) and about 11 times more likely under the null hypothesis for RT (BF 10 = 0.094)."
        ],
        [
         "3",
         "For the CFD stimuli, this contrast was not significantly different from zero, t(395) = -0.29, p = .773, Hedges's g z = -0.01, 95% CI = [-0.10, -0.07], but larger than the lower bound of the equivalence bound, t(395) = 2.99, p < .001, and smaller than the upper bound, t(395) = -3.57, p < .001."
        ],
        [
         "4",
         "The main effect of aperture, Experiment 2: F(1, 34) = 4.12, p = .05, Î· p 2 = .10; Experiment 3: F(1, 31) = 0.04, p = .85, Î· p 2 = .01; the main effect of focus distance, Experiment 2: F(1, 34) = 0.23, p = .63, Î· p 2 = .01; Experiment 3: F(1, 31) = 0.22, p = .64, Î· p 2 = .01; and the interaction between aperture and focus distance, Experiment 2: F(1, 34) = 0.00, p = .96, Î· p 2 = .00; Experiment 3: F(1, 31) = 2.86, p = .10, Î· p 2 = .08, did not reach significance."
        ],
        [
         "5",
         "For congruency, larger EPN amplitudes (incongruent negative: M = -2.09, SD = 2.29; M = -1.82, SD = 2.48; incongruent positive: M = -2.25, SD = 2.51) were found for incongruent positive compared with congruent evaluations (p = .004) but not compared with incongruent negative evaluations (p = .077)."
        ],
        [
         "6",
         "A Mantel-Cox log rank test indicated that waiting times in the unaware condition (M = 302.53 s, nonparametric bootstrapped 95% CI = [194.01, 411.06]) were not significantly different from those in the unaware/additional rewards condition (M = 417.90 s, nonparametric bootstrapped 95% CI = [317.87, 517.93]), Mantel-Cox Ï‡ 2 (1, N = 60) = 1.63, p = .202."
        ],
        [
         "7",
         "Again, results indicated that endorsement of direct aggression was higher for violations that targeted the self rather than another person, t(343) = -4.57, p < .001, d = -0.43, 95% CI = [-0.65, -0.22], whereas target condition did not have a significant effect on endorsement of indirect aggression, though the pattern of the means was in the opposing direction, t(343) = 1.03, p > .25, d = 0.10, 95% CI = [-0.11, 0.31] (see Fig."
        ],
        [
         "8",
         "But, most important, the slope at 45Â° was not significantly higher than the slope at 0Â°, Î² = 0.002, t(9) = 2.143, p = .061, and at 90Â° it was significantly lower, Î² = -0.004, t(9) = -4.5, p = .001."
        ],
        [
         "9",
         "Fisher's r-to-z tests were significant for seven of the topics (4.77 < zs < 8.21, ps < .001), with the exception of Elvis's death (z = 1.52, p = .128)."
        ],
        [
         "10",
         "However, and in contrast to these findings, when participants heard sounds during the continuous report phase (Fig. 3d), we found that error on unrelated trials was not significantly different from error on sound A trials, t(84) = 1.56, p = 0.12, Cohen's d z = 0.16, 95% CI = [-1.043, 0.705], BF 01 = 2.61, and sound B trials, t(84) = 1.42, p = .16, Cohen's d z = 0.15, 95% CI = [-0.51, 0.818], BF 01 = 3.18."
        ],
        [
         "11",
         "Importantly, the subjective and physiological response to the psychosocial stressor was not significantly modulated by the expectancy violation-Treatment Ã— Expectancy Violation for the subjective ratings and baseline-to-peak increase in cortisol as well as Treatment Ã— Expectancy Violation Ã— Time Point of Measurement for the mood questionnaire and cortisol: all Fs < 1.13, all ps > .328, all Î· p 2 s < .03; restlessness: F(1, 90) = 3.42, p = .068, Î· p 2 = .04."
        ],
        [
         "12",
         "There was no evidence that the effect was significantly different by gender, parameter difference = .013, SE = .015, p = .400, 99% CI = [-.026, .051]."
        ],
        [
         "13",
         "However, there was not a significant effect of time delay on punishment in the fair condition, F(1, 3058) = 0.84, p = .36, Î· p 2 = .00, as participants in the long-time-delay condition (M = 0.79, SD = 2.16) levied equally severe punishment as those in the short-time-delay condition (M = 0.91, SD = 2.25; see Fig. 2)."
        ],
        [
         "14",
         "Exploratory analyses within the reference conditions showed that self-related incongruent positive evaluations elicited a larger positivity compared with both congruent evaluations (p = .011) and incongruent negative evaluations (p = .042), which did not differ significantly (p = .903)."
        ],
        [
         "15",
         "On average, relationship satisfaction and causal attributions did not significantly change over time (slope = -0.008, p = .171, 95% confidence interval, or CI = [-0.019, 0.003], r = -.05; slope = 0.001, p = .680, CI = [-0.003, 0.004], r = .02, respectively)."
        ],
        [
         "16",
         "Although participants were slightly less consistent than in Study 1, we found no statistical evidence that the drug treatments made decisions noisier and more inconsistent in the risk task (methylphenidate vs. placebo: b = 0.50, SE = 0.98, p = .609; atomoxetine vs. placebo: b = 0.89, SE = 0.92, p = .337), helping task (methylphenidate vs. placebo: b = -1.55, SE = 1.06, p = .141; atomoxetine vs. placebo: b = 0.74, SE = 0.72, p = .306), or risky helping task (methylphenidate vs. placebo: b = -0.24, SE = 1.43, p = .862; atomoxetine vs. placebo: b = 1.64, SE = 1.28, p = .201)."
        ],
        [
         "17",
         "The most relevant finding for our hypothesis was that there were significant differences for all pairwise comparisons involving the maximal and minimal positions (all ps < .03) except for Position 1 versus Position 7, t(174) = 2.622, p = .13, and Position 2 versus Position 7, t(174) = -0.558, p = .99; none of the inner positions were significantly different from each other."
        ],
        [
         "18",
         "RT from the visual discrimination phase was again faster when sounds were related to the target morph (M = 1,798 ms) than when they were unrelated (M = 1,860 ms), t(39) = 3.22, p = 0.003, Cohen's d z = 0.51, 95% CI = [0.12, 0.89], and like before, this difference in RT did not result in a reliable difference in accuracy (Ms = 6.84), t(39) = 0.03, p = .98, Cohen's d z = 0.004, 95% CI = [-0.001, 0.009], BF 01 = 5.86."
        ]
       ],
       "shape": {
        "columns": 1,
        "rows": 19
       }
      },
      "text/html": [
       "<div>\n",
       "<style scoped>\n",
       "    .dataframe tbody tr th:only-of-type {\n",
       "        vertical-align: middle;\n",
       "    }\n",
       "\n",
       "    .dataframe tbody tr th {\n",
       "        vertical-align: top;\n",
       "    }\n",
       "\n",
       "    .dataframe thead th {\n",
       "        text-align: right;\n",
       "    }\n",
       "</style>\n",
       "<table border=\"1\" class=\"dataframe\">\n",
       "  <thead>\n",
       "    <tr style=\"text-align: right;\">\n",
       "      <th></th>\n",
       "      <th>text</th>\n",
       "    </tr>\n",
       "  </thead>\n",
       "  <tbody>\n",
       "    <tr>\n",
       "      <th>0</th>\n",
       "      <td>No main effect of dimensionality was found (3D...</td>\n",
       "    </tr>\n",
       "    <tr>\n",
       "      <th>1</th>\n",
       "      <td>However, no effect of arousal was found for un...</td>\n",
       "    </tr>\n",
       "    <tr>\n",
       "      <th>2</th>\n",
       "      <td>We found no effect of p(probe key|incongruent)...</td>\n",
       "    </tr>\n",
       "    <tr>\n",
       "      <th>3</th>\n",
       "      <td>For the CFD stimuli, this contrast was not sig...</td>\n",
       "    </tr>\n",
       "    <tr>\n",
       "      <th>4</th>\n",
       "      <td>The main effect of aperture, Experiment 2: F(1...</td>\n",
       "    </tr>\n",
       "    <tr>\n",
       "      <th>5</th>\n",
       "      <td>For congruency, larger EPN amplitudes (incongr...</td>\n",
       "    </tr>\n",
       "    <tr>\n",
       "      <th>6</th>\n",
       "      <td>A Mantel-Cox log rank test indicated that wait...</td>\n",
       "    </tr>\n",
       "    <tr>\n",
       "      <th>7</th>\n",
       "      <td>Again, results indicated that endorsement of d...</td>\n",
       "    </tr>\n",
       "    <tr>\n",
       "      <th>8</th>\n",
       "      <td>But, most important, the slope at 45Â° was not...</td>\n",
       "    </tr>\n",
       "    <tr>\n",
       "      <th>9</th>\n",
       "      <td>Fisher's r-to-z tests were significant for sev...</td>\n",
       "    </tr>\n",
       "    <tr>\n",
       "      <th>10</th>\n",
       "      <td>However, and in contrast to these findings, wh...</td>\n",
       "    </tr>\n",
       "    <tr>\n",
       "      <th>11</th>\n",
       "      <td>Importantly, the subjective and physiological ...</td>\n",
       "    </tr>\n",
       "    <tr>\n",
       "      <th>12</th>\n",
       "      <td>There was no evidence that the effect was sign...</td>\n",
       "    </tr>\n",
       "    <tr>\n",
       "      <th>13</th>\n",
       "      <td>However, there was not a significant effect of...</td>\n",
       "    </tr>\n",
       "    <tr>\n",
       "      <th>14</th>\n",
       "      <td>Exploratory analyses within the reference cond...</td>\n",
       "    </tr>\n",
       "    <tr>\n",
       "      <th>15</th>\n",
       "      <td>On average, relationship satisfaction and caus...</td>\n",
       "    </tr>\n",
       "    <tr>\n",
       "      <th>16</th>\n",
       "      <td>Although participants were slightly less consi...</td>\n",
       "    </tr>\n",
       "    <tr>\n",
       "      <th>17</th>\n",
       "      <td>The most relevant finding for our hypothesis w...</td>\n",
       "    </tr>\n",
       "    <tr>\n",
       "      <th>18</th>\n",
       "      <td>RT from the visual discrimination phase was ag...</td>\n",
       "    </tr>\n",
       "  </tbody>\n",
       "</table>\n",
       "</div>"
      ],
      "text/plain": [
       "                                                 text\n",
       "0   No main effect of dimensionality was found (3D...\n",
       "1   However, no effect of arousal was found for un...\n",
       "2   We found no effect of p(probe key|incongruent)...\n",
       "3   For the CFD stimuli, this contrast was not sig...\n",
       "4   The main effect of aperture, Experiment 2: F(1...\n",
       "5   For congruency, larger EPN amplitudes (incongr...\n",
       "6   A Mantel-Cox log rank test indicated that wait...\n",
       "7   Again, results indicated that endorsement of d...\n",
       "8   But, most important, the slope at 45Â° was not...\n",
       "9   Fisher's r-to-z tests were significant for sev...\n",
       "10  However, and in contrast to these findings, wh...\n",
       "11  Importantly, the subjective and physiological ...\n",
       "12  There was no evidence that the effect was sign...\n",
       "13  However, there was not a significant effect of...\n",
       "14  Exploratory analyses within the reference cond...\n",
       "15  On average, relationship satisfaction and caus...\n",
       "16  Although participants were slightly less consi...\n",
       "17  The most relevant finding for our hypothesis w...\n",
       "18  RT from the visual discrimination phase was ag..."
      ]
     },
     "metadata": {},
     "output_type": "display_data"
    }
   ],
   "source": [
    "display_statements(false_positives, \"False Positives (predicted 1, actual 0)\")"
   ]
  },
  {
   "cell_type": "code",
   "execution_count": 48,
   "id": "060b85af",
   "metadata": {},
   "outputs": [
    {
     "name": "stdout",
     "output_type": "stream",
     "text": [
      "\n",
      "False Negatives (predicted 0, actual 1) (count: 9)\n"
     ]
    },
    {
     "data": {
      "application/vnd.microsoft.datawrangler.viewer.v0+json": {
       "columns": [
        {
         "name": "index",
         "rawType": "int64",
         "type": "integer"
        },
        {
         "name": "text",
         "rawType": "object",
         "type": "string"
        }
       ],
       "ref": "bd57bad6-9306-42b5-9d02-b6e51520b765",
       "rows": [
        [
         "0",
         "In addition, LPIPS scores were not correlated with trial-wise aesthetic ratings (for self-relevant trials, r = -.046, p = .19; for other-relevant trials, r = .00023, p = .99)."
        ],
        [
         "1",
         "Likewise, there is no significant differences between teams before and after the ejection, suggesting that umpires, when not excessively criticized regarding the strike zone, are not favoring any team with respect to the strike zone before the ejection (OR = 1.163, 95% CI = [0.947, 1.427], p = .2339 for nonstrike-zone verbal abuse; OR = 0.872, 95% CI = [0.677, 1.122], p = .5017 for aggression directed at opponent) and after the ejection (OR = 1.047, 95% CI = [0.805, 1.362], p = .9690 for non-strike-zone verbal abuse; OR = 0.771, 95% CI = [0.550, 1.081], p = .1976 for aggression directed at opponent)."
        ],
        [
         "2",
         "Consistent with our expectations, results showed that individuals' implicit partner evaluations did not predict general behaviors (i.e., verbal and nonverbal clustered together) in the conversation, b = 0.15, SE = 0.10, 95% CI = [-0.05, 0.35], p = .144, Î² = 0.05."
        ],
        [
         "3",
         "The third model added the remaining task variables (right-ear syllables in the nonforced condition of the dichotic-listening task, mean span in the digit-span task, imagine-to-hear errors in the source-memory task) and did not improve on the signal detection model (p = .965)."
        ],
        [
         "4",
         "The model was not significant, Ï‡ 2 (3, N = 90) = 2.13, p = .546, which indicates that the hammer-knocking task was not predictive of waiting times across conditions."
        ],
        [
         "5",
         "Decoy selections did not depend on age, b = 0.007, 95% CI = [-0.234, 0.248], p = .954, or gender, b = 0.036, 95% CI = [-0.214, 0.283], p = .784."
        ],
        [
         "6",
         "There was no significant main effect of the security-camera-information condition, F(1, 467) = 0.02, p = .88, Î· p 2 = .00, and no interaction with the condition, F(1, 466) = 0.01, p = .92, Î· p 2 = .00."
        ],
        [
         "7",
         "Simple-slopes analysis revealed that participants scoring higher on trait sociability (+1 SD) reported lower energetic arousal on social isolation days compared with baseline days, Î² = -4.69, SE = 1.84, t(69.16) = -2.55, p = .013, but this was not the case for those scoring lower (-1 SD) on sociability, Î² = 0.70, SE = 1.79, t(69.16) = 0.39, p = .696."
        ],
        [
         "8",
         "Furthermore, we found that the nudge was effective for participants who did not vote for Donald Trump in the 2016 elections, Î² = 0.0231, 95% CI = [0.079, 0.039], F(3, 32490) = 6.58, p = .003, but not for participants who did vote for Trump, Î² = 0.00376, 95% CI = [-0.013, 0.020], F(3, 15000) = 0.12, p = .653."
        ]
       ],
       "shape": {
        "columns": 1,
        "rows": 9
       }
      },
      "text/html": [
       "<div>\n",
       "<style scoped>\n",
       "    .dataframe tbody tr th:only-of-type {\n",
       "        vertical-align: middle;\n",
       "    }\n",
       "\n",
       "    .dataframe tbody tr th {\n",
       "        vertical-align: top;\n",
       "    }\n",
       "\n",
       "    .dataframe thead th {\n",
       "        text-align: right;\n",
       "    }\n",
       "</style>\n",
       "<table border=\"1\" class=\"dataframe\">\n",
       "  <thead>\n",
       "    <tr style=\"text-align: right;\">\n",
       "      <th></th>\n",
       "      <th>text</th>\n",
       "    </tr>\n",
       "  </thead>\n",
       "  <tbody>\n",
       "    <tr>\n",
       "      <th>0</th>\n",
       "      <td>In addition, LPIPS scores were not correlated ...</td>\n",
       "    </tr>\n",
       "    <tr>\n",
       "      <th>1</th>\n",
       "      <td>Likewise, there is no significant differences ...</td>\n",
       "    </tr>\n",
       "    <tr>\n",
       "      <th>2</th>\n",
       "      <td>Consistent with our expectations, results show...</td>\n",
       "    </tr>\n",
       "    <tr>\n",
       "      <th>3</th>\n",
       "      <td>The third model added the remaining task varia...</td>\n",
       "    </tr>\n",
       "    <tr>\n",
       "      <th>4</th>\n",
       "      <td>The model was not significant, Ï‡ 2 (3, N = 90...</td>\n",
       "    </tr>\n",
       "    <tr>\n",
       "      <th>5</th>\n",
       "      <td>Decoy selections did not depend on age, b = 0....</td>\n",
       "    </tr>\n",
       "    <tr>\n",
       "      <th>6</th>\n",
       "      <td>There was no significant main effect of the se...</td>\n",
       "    </tr>\n",
       "    <tr>\n",
       "      <th>7</th>\n",
       "      <td>Simple-slopes analysis revealed that participa...</td>\n",
       "    </tr>\n",
       "    <tr>\n",
       "      <th>8</th>\n",
       "      <td>Furthermore, we found that the nudge was effec...</td>\n",
       "    </tr>\n",
       "  </tbody>\n",
       "</table>\n",
       "</div>"
      ],
      "text/plain": [
       "                                                text\n",
       "0  In addition, LPIPS scores were not correlated ...\n",
       "1  Likewise, there is no significant differences ...\n",
       "2  Consistent with our expectations, results show...\n",
       "3  The third model added the remaining task varia...\n",
       "4  The model was not significant, Ï‡ 2 (3, N = 90...\n",
       "5  Decoy selections did not depend on age, b = 0....\n",
       "6  There was no significant main effect of the se...\n",
       "7  Simple-slopes analysis revealed that participa...\n",
       "8  Furthermore, we found that the nudge was effec..."
      ]
     },
     "metadata": {},
     "output_type": "display_data"
    }
   ],
   "source": [
    "display_statements(false_negatives, \"False Negatives (predicted 0, actual 1)\")"
   ]
  },
  {
   "cell_type": "code",
   "execution_count": 1,
   "id": "56e5e265",
   "metadata": {},
   "outputs": [],
   "source": [
    "# The end..."
   ]
  }
 ],
 "metadata": {
  "kernelspec": {
   "display_name": "Python (nonsig-venv)",
   "language": "python",
   "name": "nonsig-venv"
  },
  "language_info": {
   "codemirror_mode": {
    "name": "ipython",
    "version": 3
   },
   "file_extension": ".py",
   "mimetype": "text/x-python",
   "name": "python",
   "nbconvert_exporter": "python",
   "pygments_lexer": "ipython3",
   "version": "3.12.10"
  }
 },
 "nbformat": 4,
 "nbformat_minor": 5
}
