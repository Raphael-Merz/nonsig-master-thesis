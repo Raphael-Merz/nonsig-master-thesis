{
 "cells": [
  {
   "cell_type": "markdown",
   "id": "5e0f8a44",
   "metadata": {},
   "source": [
    "# Training BERT, SciBERT and PubMedBERT"
   ]
  },
  {
   "cell_type": "markdown",
   "id": "ef72840b",
   "metadata": {},
   "source": [
    "## 0. Setup"
   ]
  },
  {
   "cell_type": "markdown",
   "id": "32992dd0",
   "metadata": {},
   "source": [
    "### 0.1 Install libraries"
   ]
  },
  {
   "cell_type": "code",
   "execution_count": 38,
   "id": "da13a949",
   "metadata": {},
   "outputs": [
    {
     "name": "stdout",
     "output_type": "stream",
     "text": [
      "Requirement already satisfied: absl-py==2.3.1 in c:\\users\\raphael\\documents\\github\\nonsig-master-thesis\\venv\\lib\\site-packages (from -r requirements.txt (line 1)) (2.3.1)\n",
      "Requirement already satisfied: accelerate==1.8.1 in c:\\users\\raphael\\documents\\github\\nonsig-master-thesis\\venv\\lib\\site-packages (from -r requirements.txt (line 2)) (1.8.1)\n",
      "Requirement already satisfied: aiohappyeyeballs==2.6.1 in c:\\users\\raphael\\documents\\github\\nonsig-master-thesis\\venv\\lib\\site-packages (from -r requirements.txt (line 3)) (2.6.1)\n",
      "Requirement already satisfied: aiohttp==3.12.13 in c:\\users\\raphael\\documents\\github\\nonsig-master-thesis\\venv\\lib\\site-packages (from -r requirements.txt (line 4)) (3.12.13)\n",
      "Requirement already satisfied: aiosignal==1.4.0 in c:\\users\\raphael\\documents\\github\\nonsig-master-thesis\\venv\\lib\\site-packages (from -r requirements.txt (line 5)) (1.4.0)\n",
      "Requirement already satisfied: asttokens==3.0.0 in c:\\users\\raphael\\documents\\github\\nonsig-master-thesis\\venv\\lib\\site-packages (from -r requirements.txt (line 6)) (3.0.0)\n",
      "Requirement already satisfied: astunparse==1.6.3 in c:\\users\\raphael\\documents\\github\\nonsig-master-thesis\\venv\\lib\\site-packages (from -r requirements.txt (line 7)) (1.6.3)\n",
      "Requirement already satisfied: attrs==25.3.0 in c:\\users\\raphael\\documents\\github\\nonsig-master-thesis\\venv\\lib\\site-packages (from -r requirements.txt (line 8)) (25.3.0)\n",
      "Requirement already satisfied: certifi==2025.6.15 in c:\\users\\raphael\\documents\\github\\nonsig-master-thesis\\venv\\lib\\site-packages (from -r requirements.txt (line 9)) (2025.6.15)\n",
      "Requirement already satisfied: charset-normalizer==3.4.2 in c:\\users\\raphael\\documents\\github\\nonsig-master-thesis\\venv\\lib\\site-packages (from -r requirements.txt (line 10)) (3.4.2)\n",
      "Requirement already satisfied: colorama==0.4.6 in c:\\users\\raphael\\documents\\github\\nonsig-master-thesis\\venv\\lib\\site-packages (from -r requirements.txt (line 11)) (0.4.6)\n",
      "Requirement already satisfied: comm==0.2.2 in c:\\users\\raphael\\documents\\github\\nonsig-master-thesis\\venv\\lib\\site-packages (from -r requirements.txt (line 12)) (0.2.2)\n",
      "Requirement already satisfied: contourpy==1.3.2 in c:\\users\\raphael\\documents\\github\\nonsig-master-thesis\\venv\\lib\\site-packages (from -r requirements.txt (line 13)) (1.3.2)\n",
      "Requirement already satisfied: cycler==0.12.1 in c:\\users\\raphael\\documents\\github\\nonsig-master-thesis\\venv\\lib\\site-packages (from -r requirements.txt (line 14)) (0.12.1)\n",
      "Requirement already satisfied: datasets==3.6.0 in c:\\users\\raphael\\documents\\github\\nonsig-master-thesis\\venv\\lib\\site-packages (from -r requirements.txt (line 15)) (3.6.0)\n",
      "Requirement already satisfied: debugpy==1.8.14 in c:\\users\\raphael\\documents\\github\\nonsig-master-thesis\\venv\\lib\\site-packages (from -r requirements.txt (line 16)) (1.8.14)\n",
      "Requirement already satisfied: decorator==5.2.1 in c:\\users\\raphael\\documents\\github\\nonsig-master-thesis\\venv\\lib\\site-packages (from -r requirements.txt (line 17)) (5.2.1)\n",
      "Requirement already satisfied: dill==0.3.8 in c:\\users\\raphael\\documents\\github\\nonsig-master-thesis\\venv\\lib\\site-packages (from -r requirements.txt (line 18)) (0.3.8)\n",
      "Requirement already satisfied: et_xmlfile==2.0.0 in c:\\users\\raphael\\documents\\github\\nonsig-master-thesis\\venv\\lib\\site-packages (from -r requirements.txt (line 19)) (2.0.0)\n",
      "Requirement already satisfied: evaluate==0.4.4 in c:\\users\\raphael\\documents\\github\\nonsig-master-thesis\\venv\\lib\\site-packages (from -r requirements.txt (line 20)) (0.4.4)\n",
      "Requirement already satisfied: executing==2.2.0 in c:\\users\\raphael\\documents\\github\\nonsig-master-thesis\\venv\\lib\\site-packages (from -r requirements.txt (line 21)) (2.2.0)\n",
      "Requirement already satisfied: filelock==3.18.0 in c:\\users\\raphael\\documents\\github\\nonsig-master-thesis\\venv\\lib\\site-packages (from -r requirements.txt (line 22)) (3.18.0)\n",
      "Requirement already satisfied: flatbuffers==25.2.10 in c:\\users\\raphael\\documents\\github\\nonsig-master-thesis\\venv\\lib\\site-packages (from -r requirements.txt (line 23)) (25.2.10)\n",
      "Requirement already satisfied: fonttools==4.58.5 in c:\\users\\raphael\\documents\\github\\nonsig-master-thesis\\venv\\lib\\site-packages (from -r requirements.txt (line 24)) (4.58.5)\n",
      "Requirement already satisfied: frozenlist==1.7.0 in c:\\users\\raphael\\documents\\github\\nonsig-master-thesis\\venv\\lib\\site-packages (from -r requirements.txt (line 25)) (1.7.0)\n",
      "Requirement already satisfied: fsspec==2025.3.0 in c:\\users\\raphael\\documents\\github\\nonsig-master-thesis\\venv\\lib\\site-packages (from -r requirements.txt (line 26)) (2025.3.0)\n",
      "Requirement already satisfied: gast==0.6.0 in c:\\users\\raphael\\documents\\github\\nonsig-master-thesis\\venv\\lib\\site-packages (from -r requirements.txt (line 27)) (0.6.0)\n",
      "Requirement already satisfied: google-pasta==0.2.0 in c:\\users\\raphael\\documents\\github\\nonsig-master-thesis\\venv\\lib\\site-packages (from -r requirements.txt (line 28)) (0.2.0)\n",
      "Requirement already satisfied: grpcio==1.73.1 in c:\\users\\raphael\\documents\\github\\nonsig-master-thesis\\venv\\lib\\site-packages (from -r requirements.txt (line 29)) (1.73.1)\n",
      "Requirement already satisfied: h5py==3.14.0 in c:\\users\\raphael\\documents\\github\\nonsig-master-thesis\\venv\\lib\\site-packages (from -r requirements.txt (line 30)) (3.14.0)\n",
      "Requirement already satisfied: huggingface-hub==0.33.2 in c:\\users\\raphael\\documents\\github\\nonsig-master-thesis\\venv\\lib\\site-packages (from -r requirements.txt (line 31)) (0.33.2)\n",
      "Requirement already satisfied: idna==3.10 in c:\\users\\raphael\\documents\\github\\nonsig-master-thesis\\venv\\lib\\site-packages (from -r requirements.txt (line 32)) (3.10)\n",
      "Requirement already satisfied: ipykernel==6.29.5 in c:\\users\\raphael\\documents\\github\\nonsig-master-thesis\\venv\\lib\\site-packages (from -r requirements.txt (line 33)) (6.29.5)\n",
      "Requirement already satisfied: ipython==9.4.0 in c:\\users\\raphael\\documents\\github\\nonsig-master-thesis\\venv\\lib\\site-packages (from -r requirements.txt (line 34)) (9.4.0)\n",
      "Requirement already satisfied: ipython_pygments_lexers==1.1.1 in c:\\users\\raphael\\documents\\github\\nonsig-master-thesis\\venv\\lib\\site-packages (from -r requirements.txt (line 35)) (1.1.1)\n",
      "Requirement already satisfied: jedi==0.19.2 in c:\\users\\raphael\\documents\\github\\nonsig-master-thesis\\venv\\lib\\site-packages (from -r requirements.txt (line 36)) (0.19.2)\n",
      "Requirement already satisfied: Jinja2==3.1.6 in c:\\users\\raphael\\documents\\github\\nonsig-master-thesis\\venv\\lib\\site-packages (from -r requirements.txt (line 37)) (3.1.6)\n",
      "Requirement already satisfied: joblib==1.5.1 in c:\\users\\raphael\\documents\\github\\nonsig-master-thesis\\venv\\lib\\site-packages (from -r requirements.txt (line 38)) (1.5.1)\n",
      "Requirement already satisfied: jupyter_client==8.6.3 in c:\\users\\raphael\\documents\\github\\nonsig-master-thesis\\venv\\lib\\site-packages (from -r requirements.txt (line 39)) (8.6.3)\n",
      "Requirement already satisfied: jupyter_core==5.8.1 in c:\\users\\raphael\\documents\\github\\nonsig-master-thesis\\venv\\lib\\site-packages (from -r requirements.txt (line 40)) (5.8.1)\n",
      "Requirement already satisfied: keras==3.10.0 in c:\\users\\raphael\\documents\\github\\nonsig-master-thesis\\venv\\lib\\site-packages (from -r requirements.txt (line 41)) (3.10.0)\n",
      "Requirement already satisfied: kiwisolver==1.4.8 in c:\\users\\raphael\\documents\\github\\nonsig-master-thesis\\venv\\lib\\site-packages (from -r requirements.txt (line 42)) (1.4.8)\n",
      "Requirement already satisfied: libclang==18.1.1 in c:\\users\\raphael\\documents\\github\\nonsig-master-thesis\\venv\\lib\\site-packages (from -r requirements.txt (line 43)) (18.1.1)\n",
      "Requirement already satisfied: Markdown==3.8.2 in c:\\users\\raphael\\documents\\github\\nonsig-master-thesis\\venv\\lib\\site-packages (from -r requirements.txt (line 44)) (3.8.2)\n",
      "Requirement already satisfied: markdown-it-py==3.0.0 in c:\\users\\raphael\\documents\\github\\nonsig-master-thesis\\venv\\lib\\site-packages (from -r requirements.txt (line 45)) (3.0.0)\n",
      "Requirement already satisfied: MarkupSafe==3.0.2 in c:\\users\\raphael\\documents\\github\\nonsig-master-thesis\\venv\\lib\\site-packages (from -r requirements.txt (line 46)) (3.0.2)\n",
      "Requirement already satisfied: matplotlib==3.10.3 in c:\\users\\raphael\\documents\\github\\nonsig-master-thesis\\venv\\lib\\site-packages (from -r requirements.txt (line 47)) (3.10.3)\n",
      "Requirement already satisfied: matplotlib-inline==0.1.7 in c:\\users\\raphael\\documents\\github\\nonsig-master-thesis\\venv\\lib\\site-packages (from -r requirements.txt (line 48)) (0.1.7)\n",
      "Requirement already satisfied: mdurl==0.1.2 in c:\\users\\raphael\\documents\\github\\nonsig-master-thesis\\venv\\lib\\site-packages (from -r requirements.txt (line 49)) (0.1.2)\n",
      "Requirement already satisfied: ml_dtypes==0.5.1 in c:\\users\\raphael\\documents\\github\\nonsig-master-thesis\\venv\\lib\\site-packages (from -r requirements.txt (line 50)) (0.5.1)\n",
      "Requirement already satisfied: mpmath==1.3.0 in c:\\users\\raphael\\documents\\github\\nonsig-master-thesis\\venv\\lib\\site-packages (from -r requirements.txt (line 51)) (1.3.0)\n",
      "Requirement already satisfied: multidict==6.6.3 in c:\\users\\raphael\\documents\\github\\nonsig-master-thesis\\venv\\lib\\site-packages (from -r requirements.txt (line 52)) (6.6.3)\n",
      "Requirement already satisfied: multiprocess==0.70.16 in c:\\users\\raphael\\documents\\github\\nonsig-master-thesis\\venv\\lib\\site-packages (from -r requirements.txt (line 53)) (0.70.16)\n",
      "Requirement already satisfied: namex==0.1.0 in c:\\users\\raphael\\documents\\github\\nonsig-master-thesis\\venv\\lib\\site-packages (from -r requirements.txt (line 54)) (0.1.0)\n",
      "Requirement already satisfied: nest-asyncio==1.6.0 in c:\\users\\raphael\\documents\\github\\nonsig-master-thesis\\venv\\lib\\site-packages (from -r requirements.txt (line 55)) (1.6.0)\n",
      "Requirement already satisfied: networkx==3.5 in c:\\users\\raphael\\documents\\github\\nonsig-master-thesis\\venv\\lib\\site-packages (from -r requirements.txt (line 56)) (3.5)\n",
      "Requirement already satisfied: numpy==2.1.3 in c:\\users\\raphael\\documents\\github\\nonsig-master-thesis\\venv\\lib\\site-packages (from -r requirements.txt (line 57)) (2.1.3)\n",
      "Requirement already satisfied: openpyxl==3.1.5 in c:\\users\\raphael\\documents\\github\\nonsig-master-thesis\\venv\\lib\\site-packages (from -r requirements.txt (line 58)) (3.1.5)\n",
      "Requirement already satisfied: opt_einsum==3.4.0 in c:\\users\\raphael\\documents\\github\\nonsig-master-thesis\\venv\\lib\\site-packages (from -r requirements.txt (line 59)) (3.4.0)\n",
      "Requirement already satisfied: optree==0.16.0 in c:\\users\\raphael\\documents\\github\\nonsig-master-thesis\\venv\\lib\\site-packages (from -r requirements.txt (line 60)) (0.16.0)\n",
      "Requirement already satisfied: packaging==25.0 in c:\\users\\raphael\\documents\\github\\nonsig-master-thesis\\venv\\lib\\site-packages (from -r requirements.txt (line 61)) (25.0)\n",
      "Requirement already satisfied: pandas==2.3.1 in c:\\users\\raphael\\documents\\github\\nonsig-master-thesis\\venv\\lib\\site-packages (from -r requirements.txt (line 62)) (2.3.1)\n",
      "Requirement already satisfied: parso==0.8.4 in c:\\users\\raphael\\documents\\github\\nonsig-master-thesis\\venv\\lib\\site-packages (from -r requirements.txt (line 63)) (0.8.4)\n",
      "Requirement already satisfied: pillow==11.3.0 in c:\\users\\raphael\\documents\\github\\nonsig-master-thesis\\venv\\lib\\site-packages (from -r requirements.txt (line 64)) (11.3.0)\n",
      "Requirement already satisfied: platformdirs==4.3.8 in c:\\users\\raphael\\documents\\github\\nonsig-master-thesis\\venv\\lib\\site-packages (from -r requirements.txt (line 65)) (4.3.8)\n",
      "Requirement already satisfied: prompt_toolkit==3.0.51 in c:\\users\\raphael\\documents\\github\\nonsig-master-thesis\\venv\\lib\\site-packages (from -r requirements.txt (line 66)) (3.0.51)\n",
      "Requirement already satisfied: propcache==0.3.2 in c:\\users\\raphael\\documents\\github\\nonsig-master-thesis\\venv\\lib\\site-packages (from -r requirements.txt (line 67)) (0.3.2)\n",
      "Requirement already satisfied: protobuf==5.29.5 in c:\\users\\raphael\\documents\\github\\nonsig-master-thesis\\venv\\lib\\site-packages (from -r requirements.txt (line 68)) (5.29.5)\n",
      "Requirement already satisfied: psutil==7.0.0 in c:\\users\\raphael\\documents\\github\\nonsig-master-thesis\\venv\\lib\\site-packages (from -r requirements.txt (line 69)) (7.0.0)\n",
      "Requirement already satisfied: pure_eval==0.2.3 in c:\\users\\raphael\\documents\\github\\nonsig-master-thesis\\venv\\lib\\site-packages (from -r requirements.txt (line 70)) (0.2.3)\n",
      "Requirement already satisfied: pyarrow==20.0.0 in c:\\users\\raphael\\documents\\github\\nonsig-master-thesis\\venv\\lib\\site-packages (from -r requirements.txt (line 71)) (20.0.0)\n",
      "Requirement already satisfied: Pygments==2.19.2 in c:\\users\\raphael\\documents\\github\\nonsig-master-thesis\\venv\\lib\\site-packages (from -r requirements.txt (line 72)) (2.19.2)\n",
      "Requirement already satisfied: pyparsing==3.2.3 in c:\\users\\raphael\\documents\\github\\nonsig-master-thesis\\venv\\lib\\site-packages (from -r requirements.txt (line 73)) (3.2.3)\n",
      "Requirement already satisfied: python-dateutil==2.9.0.post0 in c:\\users\\raphael\\documents\\github\\nonsig-master-thesis\\venv\\lib\\site-packages (from -r requirements.txt (line 74)) (2.9.0.post0)\n",
      "Requirement already satisfied: pytz==2025.2 in c:\\users\\raphael\\documents\\github\\nonsig-master-thesis\\venv\\lib\\site-packages (from -r requirements.txt (line 75)) (2025.2)\n",
      "Requirement already satisfied: pywin32==310 in c:\\users\\raphael\\documents\\github\\nonsig-master-thesis\\venv\\lib\\site-packages (from -r requirements.txt (line 76)) (310)\n",
      "Requirement already satisfied: PyYAML==6.0.2 in c:\\users\\raphael\\documents\\github\\nonsig-master-thesis\\venv\\lib\\site-packages (from -r requirements.txt (line 77)) (6.0.2)\n",
      "Requirement already satisfied: pyzmq==27.0.0 in c:\\users\\raphael\\documents\\github\\nonsig-master-thesis\\venv\\lib\\site-packages (from -r requirements.txt (line 78)) (27.0.0)\n",
      "Requirement already satisfied: regex==2024.11.6 in c:\\users\\raphael\\documents\\github\\nonsig-master-thesis\\venv\\lib\\site-packages (from -r requirements.txt (line 79)) (2024.11.6)\n",
      "Requirement already satisfied: requests==2.32.4 in c:\\users\\raphael\\documents\\github\\nonsig-master-thesis\\venv\\lib\\site-packages (from -r requirements.txt (line 80)) (2.32.4)\n",
      "Requirement already satisfied: rich==14.0.0 in c:\\users\\raphael\\documents\\github\\nonsig-master-thesis\\venv\\lib\\site-packages (from -r requirements.txt (line 81)) (14.0.0)\n",
      "Requirement already satisfied: safetensors==0.5.3 in c:\\users\\raphael\\documents\\github\\nonsig-master-thesis\\venv\\lib\\site-packages (from -r requirements.txt (line 82)) (0.5.3)\n",
      "Requirement already satisfied: scikit-learn==1.7.0 in c:\\users\\raphael\\documents\\github\\nonsig-master-thesis\\venv\\lib\\site-packages (from -r requirements.txt (line 83)) (1.7.0)\n",
      "Requirement already satisfied: scipy==1.16.0 in c:\\users\\raphael\\documents\\github\\nonsig-master-thesis\\venv\\lib\\site-packages (from -r requirements.txt (line 84)) (1.16.0)\n",
      "Requirement already satisfied: seaborn==0.13.2 in c:\\users\\raphael\\documents\\github\\nonsig-master-thesis\\venv\\lib\\site-packages (from -r requirements.txt (line 85)) (0.13.2)\n",
      "Requirement already satisfied: setuptools==80.9.0 in c:\\users\\raphael\\documents\\github\\nonsig-master-thesis\\venv\\lib\\site-packages (from -r requirements.txt (line 86)) (80.9.0)\n",
      "Requirement already satisfied: six==1.17.0 in c:\\users\\raphael\\documents\\github\\nonsig-master-thesis\\venv\\lib\\site-packages (from -r requirements.txt (line 87)) (1.17.0)\n",
      "Requirement already satisfied: stack-data==0.6.3 in c:\\users\\raphael\\documents\\github\\nonsig-master-thesis\\venv\\lib\\site-packages (from -r requirements.txt (line 88)) (0.6.3)\n",
      "Requirement already satisfied: sympy==1.14.0 in c:\\users\\raphael\\documents\\github\\nonsig-master-thesis\\venv\\lib\\site-packages (from -r requirements.txt (line 89)) (1.14.0)\n",
      "Requirement already satisfied: tensorboard==2.19.0 in c:\\users\\raphael\\documents\\github\\nonsig-master-thesis\\venv\\lib\\site-packages (from -r requirements.txt (line 90)) (2.19.0)\n",
      "Requirement already satisfied: tensorboard-data-server==0.7.2 in c:\\users\\raphael\\documents\\github\\nonsig-master-thesis\\venv\\lib\\site-packages (from -r requirements.txt (line 91)) (0.7.2)\n",
      "Requirement already satisfied: tensorflow==2.19.0 in c:\\users\\raphael\\documents\\github\\nonsig-master-thesis\\venv\\lib\\site-packages (from -r requirements.txt (line 92)) (2.19.0)\n",
      "Requirement already satisfied: termcolor==3.1.0 in c:\\users\\raphael\\documents\\github\\nonsig-master-thesis\\venv\\lib\\site-packages (from -r requirements.txt (line 93)) (3.1.0)\n",
      "Requirement already satisfied: tf_keras==2.19.0 in c:\\users\\raphael\\documents\\github\\nonsig-master-thesis\\venv\\lib\\site-packages (from -r requirements.txt (line 94)) (2.19.0)\n",
      "Requirement already satisfied: threadpoolctl==3.6.0 in c:\\users\\raphael\\documents\\github\\nonsig-master-thesis\\venv\\lib\\site-packages (from -r requirements.txt (line 95)) (3.6.0)\n",
      "Requirement already satisfied: tokenizers==0.21.2 in c:\\users\\raphael\\documents\\github\\nonsig-master-thesis\\venv\\lib\\site-packages (from -r requirements.txt (line 96)) (0.21.2)\n",
      "Requirement already satisfied: torch==2.7.1+cu128 in c:\\users\\raphael\\documents\\github\\nonsig-master-thesis\\venv\\lib\\site-packages (from -r requirements.txt (line 97)) (2.7.1+cu128)\n",
      "Requirement already satisfied: torchaudio==2.7.1+cu128 in c:\\users\\raphael\\documents\\github\\nonsig-master-thesis\\venv\\lib\\site-packages (from -r requirements.txt (line 98)) (2.7.1+cu128)\n",
      "Requirement already satisfied: torchvision==0.22.1+cu128 in c:\\users\\raphael\\documents\\github\\nonsig-master-thesis\\venv\\lib\\site-packages (from -r requirements.txt (line 99)) (0.22.1+cu128)\n",
      "Requirement already satisfied: tornado==6.5.1 in c:\\users\\raphael\\documents\\github\\nonsig-master-thesis\\venv\\lib\\site-packages (from -r requirements.txt (line 100)) (6.5.1)\n",
      "Requirement already satisfied: tqdm==4.67.1 in c:\\users\\raphael\\documents\\github\\nonsig-master-thesis\\venv\\lib\\site-packages (from -r requirements.txt (line 101)) (4.67.1)\n",
      "Requirement already satisfied: traitlets==5.14.3 in c:\\users\\raphael\\documents\\github\\nonsig-master-thesis\\venv\\lib\\site-packages (from -r requirements.txt (line 102)) (5.14.3)\n",
      "Requirement already satisfied: transformers==4.53.1 in c:\\users\\raphael\\documents\\github\\nonsig-master-thesis\\venv\\lib\\site-packages (from -r requirements.txt (line 103)) (4.53.1)\n",
      "Requirement already satisfied: typing_extensions==4.14.1 in c:\\users\\raphael\\documents\\github\\nonsig-master-thesis\\venv\\lib\\site-packages (from -r requirements.txt (line 104)) (4.14.1)\n",
      "Requirement already satisfied: tzdata==2025.2 in c:\\users\\raphael\\documents\\github\\nonsig-master-thesis\\venv\\lib\\site-packages (from -r requirements.txt (line 105)) (2025.2)\n",
      "Requirement already satisfied: urllib3==2.5.0 in c:\\users\\raphael\\documents\\github\\nonsig-master-thesis\\venv\\lib\\site-packages (from -r requirements.txt (line 106)) (2.5.0)\n",
      "Requirement already satisfied: wcwidth==0.2.13 in c:\\users\\raphael\\documents\\github\\nonsig-master-thesis\\venv\\lib\\site-packages (from -r requirements.txt (line 107)) (0.2.13)\n",
      "Requirement already satisfied: Werkzeug==3.1.3 in c:\\users\\raphael\\documents\\github\\nonsig-master-thesis\\venv\\lib\\site-packages (from -r requirements.txt (line 108)) (3.1.3)\n",
      "Requirement already satisfied: wheel==0.45.1 in c:\\users\\raphael\\documents\\github\\nonsig-master-thesis\\venv\\lib\\site-packages (from -r requirements.txt (line 109)) (0.45.1)\n",
      "Requirement already satisfied: wrapt==1.17.2 in c:\\users\\raphael\\documents\\github\\nonsig-master-thesis\\venv\\lib\\site-packages (from -r requirements.txt (line 110)) (1.17.2)\n",
      "Requirement already satisfied: xxhash==3.5.0 in c:\\users\\raphael\\documents\\github\\nonsig-master-thesis\\venv\\lib\\site-packages (from -r requirements.txt (line 111)) (3.5.0)\n",
      "Requirement already satisfied: yarl==1.20.1 in c:\\users\\raphael\\documents\\github\\nonsig-master-thesis\\venv\\lib\\site-packages (from -r requirements.txt (line 112)) (1.20.1)\n"
     ]
    },
    {
     "name": "stderr",
     "output_type": "stream",
     "text": [
      "\n",
      "[notice] A new release of pip is available: 25.0.1 -> 25.1.1\n",
      "[notice] To update, run: python.exe -m pip install --upgrade pip\n"
     ]
    }
   ],
   "source": [
    "! pip install -r requirements.txt"
   ]
  },
  {
   "cell_type": "markdown",
   "id": "6d5fa995",
   "metadata": {},
   "source": [
    "### 0.2 GPU setup"
   ]
  },
  {
   "cell_type": "code",
   "execution_count": 39,
   "id": "a3336508",
   "metadata": {},
   "outputs": [
    {
     "name": "stdout",
     "output_type": "stream",
     "text": [
      "True\n",
      "0\n",
      "NVIDIA GeForce RTX 2070 with Max-Q Design\n"
     ]
    }
   ],
   "source": [
    "# Check if CUDA is available and print the current device's name\n",
    "import torch\n",
    "print(torch.cuda.is_available())\n",
    "if torch.cuda.is_available():\n",
    "    print(torch.cuda.current_device())\n",
    "    print(torch.cuda.get_device_name(0))"
   ]
  },
  {
   "cell_type": "markdown",
   "id": "19253634",
   "metadata": {},
   "source": [
    "## 1. Configuration"
   ]
  },
  {
   "cell_type": "code",
   "execution_count": 40,
   "id": "ff026edd",
   "metadata": {},
   "outputs": [],
   "source": [
    "data_path = r\"../../data/labeled/2025-06-28_labeled_data.xlsx\"\n",
    "text_column_name = \"expanded\"\n",
    "label_column_name = \"label_strict\"\n",
    "\n",
    "model_name = \"bert-base-uncased\" # standard; I specify other models in the \"3. Initialize Models\" section of this script\n",
    "test_size = 0.2\n",
    "num_labels = 2"
   ]
  },
  {
   "cell_type": "markdown",
   "id": "050e4828",
   "metadata": {},
   "source": [
    "## 2. Read and prepare dataset"
   ]
  },
  {
   "cell_type": "code",
   "execution_count": 41,
   "id": "1789fc47",
   "metadata": {},
   "outputs": [
    {
     "data": {
      "application/vnd.microsoft.datawrangler.viewer.v0+json": {
       "columns": [
        {
         "name": "index",
         "rawType": "int64",
         "type": "integer"
        },
        {
         "name": "text",
         "rawType": "object",
         "type": "string"
        },
        {
         "name": "label",
         "rawType": "int64",
         "type": "integer"
        }
       ],
       "ref": "6c576e51-b2c7-46a2-9607-9dc1e470ac6a",
       "rows": [
        [
         "0",
         "Change-detection RTs in Experiment 1 were not correlated with inconsistency ratings, r(58) = .05, p = .358, 95% CI = [-.21, .30], BF 10 = 0.12 (see Fig.",
         "1"
        ],
        [
         "1",
         "However, there was no difference between the agreeing-and disagreeing-perspective conditions (d = 0.04, p = .55), 5 although the effect was in the right direction: The benefits of averaging were numerically higher in the disagreeing-perspective condition.",
         "1"
        ],
        [
         "2",
         "There was no significant interaction between participant height and opponent height, Wald Ï‡ 2 (1) = 0.38, b = 0.042, SE = 0.068, 95% CI = [-0.091, 0.174], p = .540 (QICc = 203.85).",
         "0"
        ],
        [
         "3",
         "The overall interaction effect of Sex Ratio Ã— Participant Sex (weighted by each test's degrees of freedom) was not significant (z = 1.053, p = .146).",
         "0"
        ],
        [
         "4",
         "We also examined whether individual differences in stress reactivityspecifically, the increased salivary cortisol-predicted low-demand choices in the DST but found no significant predictive relationship (main effect: p = .141;",
         "0"
        ]
       ],
       "shape": {
        "columns": 2,
        "rows": 5
       }
      },
      "text/html": [
       "<div>\n",
       "<style scoped>\n",
       "    .dataframe tbody tr th:only-of-type {\n",
       "        vertical-align: middle;\n",
       "    }\n",
       "\n",
       "    .dataframe tbody tr th {\n",
       "        vertical-align: top;\n",
       "    }\n",
       "\n",
       "    .dataframe thead th {\n",
       "        text-align: right;\n",
       "    }\n",
       "</style>\n",
       "<table border=\"1\" class=\"dataframe\">\n",
       "  <thead>\n",
       "    <tr style=\"text-align: right;\">\n",
       "      <th></th>\n",
       "      <th>text</th>\n",
       "      <th>label</th>\n",
       "    </tr>\n",
       "  </thead>\n",
       "  <tbody>\n",
       "    <tr>\n",
       "      <th>0</th>\n",
       "      <td>Change-detection RTs in Experiment 1 were not ...</td>\n",
       "      <td>1</td>\n",
       "    </tr>\n",
       "    <tr>\n",
       "      <th>1</th>\n",
       "      <td>However, there was no difference between the a...</td>\n",
       "      <td>1</td>\n",
       "    </tr>\n",
       "    <tr>\n",
       "      <th>2</th>\n",
       "      <td>There was no significant interaction between p...</td>\n",
       "      <td>0</td>\n",
       "    </tr>\n",
       "    <tr>\n",
       "      <th>3</th>\n",
       "      <td>The overall interaction effect of Sex Ratio Ã—...</td>\n",
       "      <td>0</td>\n",
       "    </tr>\n",
       "    <tr>\n",
       "      <th>4</th>\n",
       "      <td>We also examined whether individual difference...</td>\n",
       "      <td>0</td>\n",
       "    </tr>\n",
       "  </tbody>\n",
       "</table>\n",
       "</div>"
      ],
      "text/plain": [
       "                                                text  label\n",
       "0  Change-detection RTs in Experiment 1 were not ...      1\n",
       "1  However, there was no difference between the a...      1\n",
       "2  There was no significant interaction between p...      0\n",
       "3  The overall interaction effect of Sex Ratio Ã—...      0\n",
       "4  We also examined whether individual difference...      0"
      ]
     },
     "execution_count": 41,
     "metadata": {},
     "output_type": "execute_result"
    }
   ],
   "source": [
    "import pandas as pd\n",
    "\n",
    "# Load the data\n",
    "df = pd.read_excel(data_path)\n",
    "\n",
    "# Remove all columns but 'expanded' and 'label_strict'\n",
    "df = df.drop(columns=['statement_id', 'section', 'header','div', 'p', 's', 'article_id', 'p_comp', 'p_value', 'context', 'text', 'label_kind', 'label_keywords', 'label_comment'])\n",
    "\n",
    "# Change column names\n",
    "df = df.rename(columns={text_column_name: 'text', label_column_name: 'label'})\n",
    "\n",
    "# Remove rows where 'label' is NA or -99\n",
    "df = df[~df['label'].isna() & (df['label'] != -99)]\n",
    "\n",
    "# Convert label column to int (required for classification)\n",
    "df['label'] = df['label'].astype(int)\n",
    "\n",
    "# Balance the dataset: all 1s and an equal number of random 0s\n",
    "ones = df[df['label'] == 1]\n",
    "zeros = df[df['label'] == 0].sample(n=len(ones), random_state=42)\n",
    "df = pd.concat([ones, zeros]).sample(frac=1, random_state=42).reset_index(drop=True)\n",
    "\n",
    "# Show head\n",
    "df.head()"
   ]
  },
  {
   "cell_type": "markdown",
   "id": "c2e53af8",
   "metadata": {},
   "source": [
    "### 2.1 Create Train/Test set"
   ]
  },
  {
   "cell_type": "code",
   "execution_count": 42,
   "id": "2e797a35",
   "metadata": {},
   "outputs": [],
   "source": [
    "from sklearn.model_selection import train_test_split\n",
    "\n",
    "# Separate by label\n",
    "ones = df[df['label'] == 1]\n",
    "zeros = df[df['label'] == 0]\n",
    "\n",
    "# Split each class into train/test\n",
    "ones_train, ones_test = train_test_split(ones, test_size=test_size, random_state=42)\n",
    "zeros_train, zeros_test = train_test_split(zeros, test_size=test_size, random_state=42)\n",
    "\n",
    "# Combine to make balanced train/test sets\n",
    "df_train = pd.concat([ones_train, zeros_train]).sample(frac=1, random_state=42).reset_index(drop=True)\n",
    "df_test = pd.concat([ones_test, zeros_test]).sample(frac=1, random_state=42).reset_index(drop=True)\n",
    "\n",
    "# Convert to Huggingface dataset\n",
    "from datasets import Dataset\n",
    "train_dataset = Dataset.from_pandas(df_train)\n",
    "test_dataset = Dataset.from_pandas(df_test)"
   ]
  },
  {
   "cell_type": "markdown",
   "id": "ecff339a",
   "metadata": {},
   "source": [
    "Header of the Training set:"
   ]
  },
  {
   "cell_type": "code",
   "execution_count": 43,
   "id": "8f28446b",
   "metadata": {},
   "outputs": [
    {
     "data": {
      "application/vnd.microsoft.datawrangler.viewer.v0+json": {
       "columns": [
        {
         "name": "index",
         "rawType": "int64",
         "type": "integer"
        },
        {
         "name": "text",
         "rawType": "object",
         "type": "string"
        },
        {
         "name": "label",
         "rawType": "int64",
         "type": "integer"
        }
       ],
       "ref": "95f80f7a-555b-40fc-9b39-20a140cc2357",
       "rows": [
        [
         "0",
         "Most importantly, however, the baseline-to-peak increase in salivary cortisol was comparable in informed and uninformed participants of the stress group, t(25) = 0.26, p = .794, d = 0.10.",
         "1"
        ],
        [
         "1",
         "Cortisol concentrations were comparable at baseline, t(55) = 1.01, p = .317, d = 0.27, but significantly elevated in the stress group relative to the control group both 30 min after the treatment, t(55) = 3.55, p corr = .003, d = 0.94, and 45 min after the treatment, t(55) = 2.52, p corr = .045, d = 0.67 (Table 1).",
         "1"
        ],
        [
         "2",
         "The main effect of workload was not significant, F(1, 268) = 1.027, p = .312, Î· p 2 = .004.",
         "0"
        ],
        [
         "3",
         "Analyzing men and women separately revealed a significant association in men, r(147) = -.17, p = .038, but not in women, r(352) = -.06, p = .274.",
         "0"
        ],
        [
         "4",
         "Moreover, using markers of higher-quality listening had a positive significant effect on perceived listening when the listener disagreed with speakers (B = 0.34, SE = 0.11, p = .002) but no significant effect when they agreed with them (B = 1.19e-3, SE = 0.11, p = .992; see Fig. 4).",
         "0"
        ]
       ],
       "shape": {
        "columns": 2,
        "rows": 5
       }
      },
      "text/html": [
       "<div>\n",
       "<style scoped>\n",
       "    .dataframe tbody tr th:only-of-type {\n",
       "        vertical-align: middle;\n",
       "    }\n",
       "\n",
       "    .dataframe tbody tr th {\n",
       "        vertical-align: top;\n",
       "    }\n",
       "\n",
       "    .dataframe thead th {\n",
       "        text-align: right;\n",
       "    }\n",
       "</style>\n",
       "<table border=\"1\" class=\"dataframe\">\n",
       "  <thead>\n",
       "    <tr style=\"text-align: right;\">\n",
       "      <th></th>\n",
       "      <th>text</th>\n",
       "      <th>label</th>\n",
       "    </tr>\n",
       "  </thead>\n",
       "  <tbody>\n",
       "    <tr>\n",
       "      <th>0</th>\n",
       "      <td>Most importantly, however, the baseline-to-pea...</td>\n",
       "      <td>1</td>\n",
       "    </tr>\n",
       "    <tr>\n",
       "      <th>1</th>\n",
       "      <td>Cortisol concentrations were comparable at bas...</td>\n",
       "      <td>1</td>\n",
       "    </tr>\n",
       "    <tr>\n",
       "      <th>2</th>\n",
       "      <td>The main effect of workload was not significan...</td>\n",
       "      <td>0</td>\n",
       "    </tr>\n",
       "    <tr>\n",
       "      <th>3</th>\n",
       "      <td>Analyzing men and women separately revealed a ...</td>\n",
       "      <td>0</td>\n",
       "    </tr>\n",
       "    <tr>\n",
       "      <th>4</th>\n",
       "      <td>Moreover, using markers of higher-quality list...</td>\n",
       "      <td>0</td>\n",
       "    </tr>\n",
       "  </tbody>\n",
       "</table>\n",
       "</div>"
      ],
      "text/plain": [
       "                                                text  label\n",
       "0  Most importantly, however, the baseline-to-pea...      1\n",
       "1  Cortisol concentrations were comparable at bas...      1\n",
       "2  The main effect of workload was not significan...      0\n",
       "3  Analyzing men and women separately revealed a ...      0\n",
       "4  Moreover, using markers of higher-quality list...      0"
      ]
     },
     "execution_count": 43,
     "metadata": {},
     "output_type": "execute_result"
    }
   ],
   "source": [
    "df_train.head()"
   ]
  },
  {
   "cell_type": "code",
   "execution_count": 44,
   "id": "c3ca483d",
   "metadata": {},
   "outputs": [
    {
     "data": {
      "application/vnd.microsoft.datawrangler.viewer.v0+json": {
       "columns": [
        {
         "name": "label",
         "rawType": "int64",
         "type": "integer"
        },
        {
         "name": "count",
         "rawType": "int64",
         "type": "integer"
        }
       ],
       "ref": "6c1378c0-e4a5-453f-be8c-995e92ad5dbe",
       "rows": [
        [
         "1",
         "112"
        ],
        [
         "0",
         "112"
        ]
       ],
       "shape": {
        "columns": 1,
        "rows": 2
       }
      },
      "text/plain": [
       "label\n",
       "1    112\n",
       "0    112\n",
       "Name: count, dtype: int64"
      ]
     },
     "execution_count": 44,
     "metadata": {},
     "output_type": "execute_result"
    }
   ],
   "source": [
    "# Check label balance in training set\n",
    "df_train['label'].value_counts()"
   ]
  },
  {
   "cell_type": "markdown",
   "id": "80c18c19",
   "metadata": {},
   "source": [
    "Header of the Test set:"
   ]
  },
  {
   "cell_type": "code",
   "execution_count": 45,
   "id": "2a7722b9",
   "metadata": {},
   "outputs": [
    {
     "data": {
      "application/vnd.microsoft.datawrangler.viewer.v0+json": {
       "columns": [
        {
         "name": "index",
         "rawType": "int64",
         "type": "integer"
        },
        {
         "name": "text",
         "rawType": "object",
         "type": "string"
        },
        {
         "name": "label",
         "rawType": "int64",
         "type": "integer"
        }
       ],
       "ref": "510eea20-b581-402d-b4df-ea8f486b5248",
       "rows": [
        [
         "0",
         "The response latencies of the low-AQ and high-AQ groups were very similar to one another (low-AQ group: geometric mean = 17.7 s, 95% CI = [16.2, 19.3]; high-AQ group: geometric mean = 16.8 s, 95% CI = [15.7, 18.0]; b = -0.031, 95% CI = [-0.085, 0.024], p = .269), and although participants with shorter RTs were more likely to make decoy selections, b = -0.303, 95% CI = [-0.521, -0.083], p = .007, there was no association between response latency and the tendency to make consistent choices, b = -0.001, 95% CI = [-0.137, 0.135], p = .990, and controlling for response latency made very little difference to the effect of AQ group on choice consistency, b = 0.161, 95% CI = [0.013, 0.309], p = .033.",
         "1"
        ],
        [
         "1",
         "Risk taking did not differ between participants who received a placebo and those who received atomoxetine (b = 0.02, SE = 0.02, p = .295).",
         "1"
        ],
        [
         "2",
         "Although the PTSD group showed a significant facilitation effect (M = 5.9%), F(1, 15) = 7.525, p = .015, Î· p 2 = .334, and the control group did not (M = 2.8%, n.s.), there was no significant group difference in facilitation, F(1, 30) = 1.215, p = .279, Î· p 2 = .039 (Fig. 3a).",
         "0"
        ],
        [
         "3",
         "Participants of the stress groups (vs. control groups) felt less positive on Day 2, F(3, 89) = 3.27, p = .025, Î· p 2 = .10, but there were no differences between the informed and uninformed stress groups, t(46) = -0.11, p = .915, d = 0.03 (see Table S1 in the Supplemental Material).",
         "1"
        ],
        [
         "4",
         "There was no main effect of channel-group laterality, F(1, 45) < 0.01, p = .960, Î· p Â² < .001.",
         "1"
        ]
       ],
       "shape": {
        "columns": 2,
        "rows": 5
       }
      },
      "text/html": [
       "<div>\n",
       "<style scoped>\n",
       "    .dataframe tbody tr th:only-of-type {\n",
       "        vertical-align: middle;\n",
       "    }\n",
       "\n",
       "    .dataframe tbody tr th {\n",
       "        vertical-align: top;\n",
       "    }\n",
       "\n",
       "    .dataframe thead th {\n",
       "        text-align: right;\n",
       "    }\n",
       "</style>\n",
       "<table border=\"1\" class=\"dataframe\">\n",
       "  <thead>\n",
       "    <tr style=\"text-align: right;\">\n",
       "      <th></th>\n",
       "      <th>text</th>\n",
       "      <th>label</th>\n",
       "    </tr>\n",
       "  </thead>\n",
       "  <tbody>\n",
       "    <tr>\n",
       "      <th>0</th>\n",
       "      <td>The response latencies of the low-AQ and high-...</td>\n",
       "      <td>1</td>\n",
       "    </tr>\n",
       "    <tr>\n",
       "      <th>1</th>\n",
       "      <td>Risk taking did not differ between participant...</td>\n",
       "      <td>1</td>\n",
       "    </tr>\n",
       "    <tr>\n",
       "      <th>2</th>\n",
       "      <td>Although the PTSD group showed a significant f...</td>\n",
       "      <td>0</td>\n",
       "    </tr>\n",
       "    <tr>\n",
       "      <th>3</th>\n",
       "      <td>Participants of the stress groups (vs. control...</td>\n",
       "      <td>1</td>\n",
       "    </tr>\n",
       "    <tr>\n",
       "      <th>4</th>\n",
       "      <td>There was no main effect of channel-group late...</td>\n",
       "      <td>1</td>\n",
       "    </tr>\n",
       "  </tbody>\n",
       "</table>\n",
       "</div>"
      ],
      "text/plain": [
       "                                                text  label\n",
       "0  The response latencies of the low-AQ and high-...      1\n",
       "1  Risk taking did not differ between participant...      1\n",
       "2  Although the PTSD group showed a significant f...      0\n",
       "3  Participants of the stress groups (vs. control...      1\n",
       "4  There was no main effect of channel-group late...      1"
      ]
     },
     "execution_count": 45,
     "metadata": {},
     "output_type": "execute_result"
    }
   ],
   "source": [
    "df_test.head()"
   ]
  },
  {
   "cell_type": "code",
   "execution_count": 46,
   "id": "fc4d85ef",
   "metadata": {},
   "outputs": [
    {
     "data": {
      "application/vnd.microsoft.datawrangler.viewer.v0+json": {
       "columns": [
        {
         "name": "label",
         "rawType": "int64",
         "type": "integer"
        },
        {
         "name": "count",
         "rawType": "int64",
         "type": "integer"
        }
       ],
       "ref": "89ace90f-86ef-4d1b-a988-e8c29ce856c7",
       "rows": [
        [
         "1",
         "28"
        ],
        [
         "0",
         "28"
        ]
       ],
       "shape": {
        "columns": 1,
        "rows": 2
       }
      },
      "text/plain": [
       "label\n",
       "1    28\n",
       "0    28\n",
       "Name: count, dtype: int64"
      ]
     },
     "execution_count": 46,
     "metadata": {},
     "output_type": "execute_result"
    }
   ],
   "source": [
    "# Check label balance in test set\n",
    "df_test['label'].value_counts()"
   ]
  },
  {
   "cell_type": "markdown",
   "id": "7ada89b4",
   "metadata": {},
   "source": [
    "### 2.2 Tokenize 'text'"
   ]
  },
  {
   "cell_type": "code",
   "execution_count": 47,
   "id": "4f669e54",
   "metadata": {},
   "outputs": [
    {
     "name": "stderr",
     "output_type": "stream",
     "text": [
      "Map: 100%|██████████| 224/224 [00:00<00:00, 5112.53 examples/s]\n",
      "Map: 100%|██████████| 56/56 [00:00<00:00, 3374.00 examples/s]\n"
     ]
    }
   ],
   "source": [
    "from transformers import AutoTokenizer\n",
    "\n",
    "tokenizer = AutoTokenizer.from_pretrained(model_name)\n",
    "\n",
    "def preprocess_function(examples):\n",
    "    return tokenizer(examples[\"text\"], truncation=True, padding=True, max_length=350)\n",
    "\n",
    "tokenized_train = train_dataset.map(preprocess_function, batched=True)\n",
    "\n",
    "tokenized_test = test_dataset.map(preprocess_function, batched=True)"
   ]
  },
  {
   "cell_type": "markdown",
   "id": "2d9ecda8",
   "metadata": {},
   "source": [
    "#### 2.2.1 Comparing tokenized and untokenized statements"
   ]
  },
  {
   "cell_type": "code",
   "execution_count": 48,
   "id": "2c5d6470",
   "metadata": {},
   "outputs": [
    {
     "data": {
      "application/vnd.microsoft.datawrangler.viewer.v0+json": {
       "columns": [
        {
         "name": "index",
         "rawType": "int64",
         "type": "integer"
        },
        {
         "name": "original_text",
         "rawType": "object",
         "type": "string"
        },
        {
         "name": "tokenized_ids",
         "rawType": "object",
         "type": "unknown"
        },
        {
         "name": "decoded_text",
         "rawType": "object",
         "type": "string"
        }
       ],
       "ref": "7d280097-b462-400b-b73b-219265ab1dde",
       "rows": [
        [
         "0",
         "Most importantly, however, the baseline-to-peak increase in salivary cortisol was comparable in informed and uninformed participants of the stress group, t(25) = 0.26, p = .794, d = 0.10.",
         "[101, 2087, 14780, 1010, 2174, 1010, 1996, 26163, 1011, 2000, 1011, 4672, 3623, 1999, 26308, 2854, 2522, 28228, 19454, 2001, 12435, 1999, 6727, 1998, 4895, 2378, 29021, 6818, 1997, 1996, 6911, 2177, 1010, 1056, 1006, 2423, 1007, 1027, 1014, 1012, 2656, 1010, 1052, 1027, 1012, 6535, 2549, 1010, 1040, 1027, 1014, 1012, 2184, 1012, 102, 0, 0, 0, 0, 0, 0, 0, 0, 0, 0, 0, 0, 0, 0, 0, 0, 0, 0, 0, 0, 0, 0, 0, 0, 0, 0, 0, 0, 0, 0, 0, 0, 0, 0, 0, 0, 0, 0, 0, 0, 0, 0, 0, 0, 0, 0, 0, 0, 0, 0, 0, 0, 0, 0, 0, 0, 0, 0, 0, 0, 0, 0, 0, 0, 0, 0, 0, 0, 0, 0, 0, 0, 0, 0, 0, 0, 0, 0, 0, 0, 0, 0, 0, 0, 0, 0, 0, 0, 0, 0, 0, 0, 0, 0, 0, 0, 0, 0, 0, 0, 0, 0, 0, 0, 0, 0, 0, 0, 0, 0, 0, 0, 0, 0, 0, 0, 0, 0, 0, 0, 0, 0, 0, 0, 0, 0, 0, 0, 0, 0, 0, 0, 0, 0, 0, 0, 0, 0, 0, 0, 0, 0, 0, 0, 0, 0, 0, 0, 0, 0, 0, 0, 0, 0, 0, 0, 0, 0, 0, 0, 0, 0, 0, 0, 0, 0, 0, 0, 0, 0, 0, 0, 0, 0, 0, 0, 0, 0, 0, 0, 0, 0, 0, 0, 0, 0, 0, 0, 0, 0, 0, 0, 0, 0, 0, 0, 0, 0, 0, 0, 0, 0, 0, 0, 0, 0, 0, 0, 0, 0, 0, 0, 0, 0, 0, 0, 0, 0, 0, 0, 0, 0]",
         "most importantly, however, the baseline - to - peak increase in salivary cortisol was comparable in informed and uninformed participants of the stress group, t ( 25 ) = 0. 26, p =. 794, d = 0. 10."
        ],
        [
         "1",
         "Cortisol concentrations were comparable at baseline, t(55) = 1.01, p = .317, d = 0.27, but significantly elevated in the stress group relative to the control group both 30 min after the treatment, t(55) = 3.55, p corr = .003, d = 0.94, and 45 min after the treatment, t(55) = 2.52, p corr = .045, d = 0.67 (Table 1).",
         "[101, 2522, 28228, 19454, 14061, 2020, 12435, 2012, 26163, 1010, 1056, 1006, 4583, 1007, 1027, 1015, 1012, 5890, 1010, 1052, 1027, 1012, 26628, 1010, 1040, 1027, 1014, 1012, 2676, 1010, 2021, 6022, 8319, 1999, 1996, 6911, 2177, 5816, 2000, 1996, 2491, 2177, 2119, 2382, 8117, 2044, 1996, 3949, 1010, 1056, 1006, 4583, 1007, 1027, 1017, 1012, 4583, 1010, 1052, 2522, 12171, 1027, 1012, 4002, 2509, 1010, 1040, 1027, 1014, 1012, 6365, 1010, 1998, 3429, 8117, 2044, 1996, 3949, 1010, 1056, 1006, 4583, 1007, 1027, 1016, 1012, 4720, 1010, 1052, 2522, 12171, 1027, 1012, 5840, 2629, 1010, 1040, 1027, 1014, 1012, 6163, 1006, 2795, 1015, 1007, 1012, 102, 0, 0, 0, 0, 0, 0, 0, 0, 0, 0, 0, 0, 0, 0, 0, 0, 0, 0, 0, 0, 0, 0, 0, 0, 0, 0, 0, 0, 0, 0, 0, 0, 0, 0, 0, 0, 0, 0, 0, 0, 0, 0, 0, 0, 0, 0, 0, 0, 0, 0, 0, 0, 0, 0, 0, 0, 0, 0, 0, 0, 0, 0, 0, 0, 0, 0, 0, 0, 0, 0, 0, 0, 0, 0, 0, 0, 0, 0, 0, 0, 0, 0, 0, 0, 0, 0, 0, 0, 0, 0, 0, 0, 0, 0, 0, 0, 0, 0, 0, 0, 0, 0, 0, 0, 0, 0, 0, 0, 0, 0, 0, 0, 0, 0, 0, 0, 0, 0, 0, 0, 0, 0, 0, 0, 0, 0, 0, 0, 0, 0, 0, 0, 0, 0, 0, 0, 0, 0, 0, 0, 0, 0, 0, 0, 0, 0, 0, 0, 0, 0, 0, 0, 0, 0, 0, 0, 0, 0, 0, 0, 0, 0, 0, 0, 0, 0, 0, 0, 0, 0]",
         "cortisol concentrations were comparable at baseline, t ( 55 ) = 1. 01, p =. 317, d = 0. 27, but significantly elevated in the stress group relative to the control group both 30 min after the treatment, t ( 55 ) = 3. 55, p corr =. 003, d = 0. 94, and 45 min after the treatment, t ( 55 ) = 2. 52, p corr =. 045, d = 0. 67 ( table 1 )."
        ],
        [
         "2",
         "The main effect of workload was not significant, F(1, 268) = 1.027, p = .312, Î· p 2 = .004.",
         "[101, 1996, 2364, 3466, 1997, 2147, 11066, 2001, 2025, 3278, 1010, 1042, 1006, 1015, 1010, 25143, 1007, 1027, 1015, 1012, 6185, 2581, 1010, 1052, 1027, 1012, 21036, 1010, 1045, 1087, 1052, 1016, 1027, 1012, 4002, 2549, 1012, 102, 0, 0, 0, 0, 0, 0, 0, 0, 0, 0, 0, 0, 0, 0, 0, 0, 0, 0, 0, 0, 0, 0, 0, 0, 0, 0, 0, 0, 0, 0, 0, 0, 0, 0, 0, 0, 0, 0, 0, 0, 0, 0, 0, 0, 0, 0, 0, 0, 0, 0, 0, 0, 0, 0, 0, 0, 0, 0, 0, 0, 0, 0, 0, 0, 0, 0, 0, 0, 0, 0, 0, 0, 0, 0, 0, 0, 0, 0, 0, 0, 0, 0, 0, 0, 0, 0, 0, 0, 0, 0, 0, 0, 0, 0, 0, 0, 0, 0, 0, 0, 0, 0, 0, 0, 0, 0, 0, 0, 0, 0, 0, 0, 0, 0, 0, 0, 0, 0, 0, 0, 0, 0, 0, 0, 0, 0, 0, 0, 0, 0, 0, 0, 0, 0, 0, 0, 0, 0, 0, 0, 0, 0, 0, 0, 0, 0, 0, 0, 0, 0, 0, 0, 0, 0, 0, 0, 0, 0, 0, 0, 0, 0, 0, 0, 0, 0, 0, 0, 0, 0, 0, 0, 0, 0, 0, 0, 0, 0, 0, 0, 0, 0, 0, 0, 0, 0, 0, 0, 0, 0, 0, 0, 0, 0, 0, 0, 0, 0, 0, 0, 0, 0, 0, 0, 0, 0, 0, 0, 0, 0, 0, 0, 0, 0, 0, 0, 0, 0, 0, 0, 0, 0, 0, 0, 0, 0, 0, 0, 0, 0, 0, 0, 0, 0, 0, 0, 0, 0, 0]",
         "the main effect of workload was not significant, f ( 1, 268 ) = 1. 027, p =. 312, i · p 2 =. 004."
        ],
        [
         "3",
         "Analyzing men and women separately revealed a significant association in men, r(147) = -.17, p = .038, but not in women, r(352) = -.06, p = .274.",
         "[101, 20253, 2273, 1998, 2308, 10329, 3936, 1037, 3278, 2523, 1999, 2273, 1010, 1054, 1006, 16471, 1007, 1027, 1011, 1012, 2459, 1010, 1052, 1027, 1012, 6021, 2620, 1010, 2021, 2025, 1999, 2308, 1010, 1054, 1006, 28906, 1007, 1027, 1011, 1012, 5757, 1010, 1052, 1027, 1012, 25586, 1012, 102, 0, 0, 0, 0, 0, 0, 0, 0, 0, 0, 0, 0, 0, 0, 0, 0, 0, 0, 0, 0, 0, 0, 0, 0, 0, 0, 0, 0, 0, 0, 0, 0, 0, 0, 0, 0, 0, 0, 0, 0, 0, 0, 0, 0, 0, 0, 0, 0, 0, 0, 0, 0, 0, 0, 0, 0, 0, 0, 0, 0, 0, 0, 0, 0, 0, 0, 0, 0, 0, 0, 0, 0, 0, 0, 0, 0, 0, 0, 0, 0, 0, 0, 0, 0, 0, 0, 0, 0, 0, 0, 0, 0, 0, 0, 0, 0, 0, 0, 0, 0, 0, 0, 0, 0, 0, 0, 0, 0, 0, 0, 0, 0, 0, 0, 0, 0, 0, 0, 0, 0, 0, 0, 0, 0, 0, 0, 0, 0, 0, 0, 0, 0, 0, 0, 0, 0, 0, 0, 0, 0, 0, 0, 0, 0, 0, 0, 0, 0, 0, 0, 0, 0, 0, 0, 0, 0, 0, 0, 0, 0, 0, 0, 0, 0, 0, 0, 0, 0, 0, 0, 0, 0, 0, 0, 0, 0, 0, 0, 0, 0, 0, 0, 0, 0, 0, 0, 0, 0, 0, 0, 0, 0, 0, 0, 0, 0, 0, 0, 0, 0, 0, 0, 0, 0, 0, 0, 0, 0, 0, 0, 0, 0, 0, 0, 0, 0, 0, 0, 0, 0, 0, 0, 0, 0, 0, 0, 0, 0, 0]",
         "analyzing men and women separately revealed a significant association in men, r ( 147 ) = -. 17, p =. 038, but not in women, r ( 352 ) = -. 06, p =. 274."
        ],
        [
         "4",
         "Moreover, using markers of higher-quality listening had a positive significant effect on perceived listening when the listener disagreed with speakers (B = 0.34, SE = 0.11, p = .002) but no significant effect when they agreed with them (B = 1.19e-3, SE = 0.11, p = .992; see Fig. 4).",
         "[101, 9308, 1010, 2478, 16387, 1997, 3020, 1011, 3737, 5962, 2018, 1037, 3893, 3278, 3466, 2006, 8690, 5962, 2043, 1996, 19373, 18335, 2007, 7492, 1006, 1038, 1027, 1014, 1012, 4090, 1010, 7367, 1027, 1014, 1012, 2340, 1010, 1052, 1027, 1012, 4002, 2475, 1007, 2021, 2053, 3278, 3466, 2043, 2027, 3530, 2007, 2068, 1006, 1038, 1027, 1015, 1012, 2539, 2063, 1011, 1017, 1010, 7367, 1027, 1014, 1012, 2340, 1010, 1052, 1027, 1012, 5585, 2475, 1025, 2156, 20965, 1012, 1018, 1007, 1012, 102, 0, 0, 0, 0, 0, 0, 0, 0, 0, 0, 0, 0, 0, 0, 0, 0, 0, 0, 0, 0, 0, 0, 0, 0, 0, 0, 0, 0, 0, 0, 0, 0, 0, 0, 0, 0, 0, 0, 0, 0, 0, 0, 0, 0, 0, 0, 0, 0, 0, 0, 0, 0, 0, 0, 0, 0, 0, 0, 0, 0, 0, 0, 0, 0, 0, 0, 0, 0, 0, 0, 0, 0, 0, 0, 0, 0, 0, 0, 0, 0, 0, 0, 0, 0, 0, 0, 0, 0, 0, 0, 0, 0, 0, 0, 0, 0, 0, 0, 0, 0, 0, 0, 0, 0, 0, 0, 0, 0, 0, 0, 0, 0, 0, 0, 0, 0, 0, 0, 0, 0, 0, 0, 0, 0, 0, 0, 0, 0, 0, 0, 0, 0, 0, 0, 0, 0, 0, 0, 0, 0, 0, 0, 0, 0, 0, 0, 0, 0, 0, 0, 0, 0, 0, 0, 0, 0, 0, 0, 0, 0, 0, 0, 0, 0, 0, 0, 0, 0, 0, 0, 0, 0, 0, 0, 0, 0, 0, 0, 0, 0, 0, 0, 0, 0, 0, 0, 0, 0, 0, 0, 0, 0, 0, 0, 0, 0]",
         "moreover, using markers of higher - quality listening had a positive significant effect on perceived listening when the listener disagreed with speakers ( b = 0. 34, se = 0. 11, p =. 002 ) but no significant effect when they agreed with them ( b = 1. 19e - 3, se = 0. 11, p =. 992 ; see fig. 4 )."
        ],
        [
         "5",
         "Likewise, the difference in mean GPS between the stably uneducated (M = -0.03, SD = 0.99) and upwardly mobile (M = -0.09, SD = 0.98) groups was no longer significant, F(1, 2194) = 2.659, p = .10.",
         "[101, 10655, 1010, 1996, 4489, 1999, 2812, 14658, 2090, 1996, 17079, 2135, 16655, 8566, 12921, 1006, 1049, 1027, 1011, 1014, 1012, 6021, 1010, 17371, 1027, 1014, 1012, 5585, 1007, 1998, 10745, 2135, 4684, 1006, 1049, 1027, 1011, 1014, 1012, 5641, 1010, 17371, 1027, 1014, 1012, 5818, 1007, 2967, 2001, 2053, 2936, 3278, 1010, 1042, 1006, 1015, 1010, 20636, 2549, 1007, 1027, 1016, 1012, 3515, 2683, 1010, 1052, 1027, 1012, 2184, 1012, 102, 0, 0, 0, 0, 0, 0, 0, 0, 0, 0, 0, 0, 0, 0, 0, 0, 0, 0, 0, 0, 0, 0, 0, 0, 0, 0, 0, 0, 0, 0, 0, 0, 0, 0, 0, 0, 0, 0, 0, 0, 0, 0, 0, 0, 0, 0, 0, 0, 0, 0, 0, 0, 0, 0, 0, 0, 0, 0, 0, 0, 0, 0, 0, 0, 0, 0, 0, 0, 0, 0, 0, 0, 0, 0, 0, 0, 0, 0, 0, 0, 0, 0, 0, 0, 0, 0, 0, 0, 0, 0, 0, 0, 0, 0, 0, 0, 0, 0, 0, 0, 0, 0, 0, 0, 0, 0, 0, 0, 0, 0, 0, 0, 0, 0, 0, 0, 0, 0, 0, 0, 0, 0, 0, 0, 0, 0, 0, 0, 0, 0, 0, 0, 0, 0, 0, 0, 0, 0, 0, 0, 0, 0, 0, 0, 0, 0, 0, 0, 0, 0, 0, 0, 0, 0, 0, 0, 0, 0, 0, 0, 0, 0, 0, 0, 0, 0, 0, 0, 0, 0, 0, 0, 0, 0, 0, 0, 0, 0, 0, 0, 0, 0, 0, 0, 0, 0, 0, 0, 0, 0, 0, 0, 0, 0, 0, 0, 0, 0, 0, 0, 0, 0, 0, 0, 0]",
         "likewise, the difference in mean gps between the stably uneducated ( m = - 0. 03, sd = 0. 99 ) and upwardly mobile ( m = - 0. 09, sd = 0. 98 ) groups was no longer significant, f ( 1, 2194 ) = 2. 659, p =. 10."
        ],
        [
         "6",
         "The effect of block was driven by slower responses to fixed penalties than to fixed rewards-pairwise post hoc t(24) = 2.02, p = .027; there was no difference between reward and penalty blocks for the 0-pence conditions, t(24) = 0.79, p = .22.",
         "[101, 1996, 3466, 1997, 3796, 2001, 5533, 2011, 12430, 10960, 2000, 4964, 12408, 2084, 2000, 4964, 19054, 1011, 3940, 14244, 2695, 21929, 1056, 1006, 2484, 1007, 1027, 1016, 1012, 6185, 1010, 1052, 1027, 1012, 6185, 2581, 1025, 2045, 2001, 2053, 4489, 2090, 10377, 1998, 6531, 5991, 2005, 1996, 1014, 1011, 7279, 3401, 3785, 1010, 1056, 1006, 2484, 1007, 1027, 1014, 1012, 6535, 1010, 1052, 1027, 1012, 2570, 1012, 102, 0, 0, 0, 0, 0, 0, 0, 0, 0, 0, 0, 0, 0, 0, 0, 0, 0, 0, 0, 0, 0, 0, 0, 0, 0, 0, 0, 0, 0, 0, 0, 0, 0, 0, 0, 0, 0, 0, 0, 0, 0, 0, 0, 0, 0, 0, 0, 0, 0, 0, 0, 0, 0, 0, 0, 0, 0, 0, 0, 0, 0, 0, 0, 0, 0, 0, 0, 0, 0, 0, 0, 0, 0, 0, 0, 0, 0, 0, 0, 0, 0, 0, 0, 0, 0, 0, 0, 0, 0, 0, 0, 0, 0, 0, 0, 0, 0, 0, 0, 0, 0, 0, 0, 0, 0, 0, 0, 0, 0, 0, 0, 0, 0, 0, 0, 0, 0, 0, 0, 0, 0, 0, 0, 0, 0, 0, 0, 0, 0, 0, 0, 0, 0, 0, 0, 0, 0, 0, 0, 0, 0, 0, 0, 0, 0, 0, 0, 0, 0, 0, 0, 0, 0, 0, 0, 0, 0, 0, 0, 0, 0, 0, 0, 0, 0, 0, 0, 0, 0, 0, 0, 0, 0, 0, 0, 0, 0, 0, 0, 0, 0, 0, 0, 0, 0, 0, 0, 0, 0, 0, 0, 0, 0, 0, 0, 0, 0, 0, 0, 0, 0, 0, 0, 0, 0, 0, 0, 0]",
         "the effect of block was driven by slower responses to fixed penalties than to fixed rewards - pairwise post hoc t ( 24 ) = 2. 02, p =. 027 ; there was no difference between reward and penalty blocks for the 0 - pence conditions, t ( 24 ) = 0. 79, p =. 22."
        ],
        [
         "7",
         "There was no difference in the ratings given to faces in the other-slow and other-fast conditions, t(28) = 1.44, p = .16, Cohen's d = 0.27.",
         "[101, 2045, 2001, 2053, 4489, 1999, 1996, 8599, 2445, 2000, 5344, 1999, 1996, 2060, 1011, 4030, 1998, 2060, 1011, 3435, 3785, 1010, 1056, 1006, 2654, 1007, 1027, 1015, 1012, 4008, 1010, 1052, 1027, 1012, 2385, 1010, 9946, 1005, 1055, 1040, 1027, 1014, 1012, 2676, 1012, 102, 0, 0, 0, 0, 0, 0, 0, 0, 0, 0, 0, 0, 0, 0, 0, 0, 0, 0, 0, 0, 0, 0, 0, 0, 0, 0, 0, 0, 0, 0, 0, 0, 0, 0, 0, 0, 0, 0, 0, 0, 0, 0, 0, 0, 0, 0, 0, 0, 0, 0, 0, 0, 0, 0, 0, 0, 0, 0, 0, 0, 0, 0, 0, 0, 0, 0, 0, 0, 0, 0, 0, 0, 0, 0, 0, 0, 0, 0, 0, 0, 0, 0, 0, 0, 0, 0, 0, 0, 0, 0, 0, 0, 0, 0, 0, 0, 0, 0, 0, 0, 0, 0, 0, 0, 0, 0, 0, 0, 0, 0, 0, 0, 0, 0, 0, 0, 0, 0, 0, 0, 0, 0, 0, 0, 0, 0, 0, 0, 0, 0, 0, 0, 0, 0, 0, 0, 0, 0, 0, 0, 0, 0, 0, 0, 0, 0, 0, 0, 0, 0, 0, 0, 0, 0, 0, 0, 0, 0, 0, 0, 0, 0, 0, 0, 0, 0, 0, 0, 0, 0, 0, 0, 0, 0, 0, 0, 0, 0, 0, 0, 0, 0, 0, 0, 0, 0, 0, 0, 0, 0, 0, 0, 0, 0, 0, 0, 0, 0, 0, 0, 0, 0, 0, 0, 0, 0, 0, 0, 0, 0, 0, 0, 0, 0, 0, 0, 0, 0, 0, 0, 0, 0, 0, 0, 0, 0, 0, 0, 0, 0, 0]",
         "there was no difference in the ratings given to faces in the other - slow and other - fast conditions, t ( 28 ) = 1. 44, p =. 16, cohen ' s d = 0. 27."
        ],
        [
         "8",
         "Furthermore, the effect of channel-group laterality did not reach significance, F(1, 39) = 1.85, p = .182, Î· p 2 = .045.",
         "[101, 7297, 1010, 1996, 3466, 1997, 3149, 1011, 2177, 11457, 3012, 2106, 2025, 3362, 7784, 1010, 1042, 1006, 1015, 1010, 4464, 1007, 1027, 1015, 1012, 5594, 1010, 1052, 1027, 1012, 17691, 1010, 1045, 1087, 1052, 1016, 1027, 1012, 5840, 2629, 1012, 102, 0, 0, 0, 0, 0, 0, 0, 0, 0, 0, 0, 0, 0, 0, 0, 0, 0, 0, 0, 0, 0, 0, 0, 0, 0, 0, 0, 0, 0, 0, 0, 0, 0, 0, 0, 0, 0, 0, 0, 0, 0, 0, 0, 0, 0, 0, 0, 0, 0, 0, 0, 0, 0, 0, 0, 0, 0, 0, 0, 0, 0, 0, 0, 0, 0, 0, 0, 0, 0, 0, 0, 0, 0, 0, 0, 0, 0, 0, 0, 0, 0, 0, 0, 0, 0, 0, 0, 0, 0, 0, 0, 0, 0, 0, 0, 0, 0, 0, 0, 0, 0, 0, 0, 0, 0, 0, 0, 0, 0, 0, 0, 0, 0, 0, 0, 0, 0, 0, 0, 0, 0, 0, 0, 0, 0, 0, 0, 0, 0, 0, 0, 0, 0, 0, 0, 0, 0, 0, 0, 0, 0, 0, 0, 0, 0, 0, 0, 0, 0, 0, 0, 0, 0, 0, 0, 0, 0, 0, 0, 0, 0, 0, 0, 0, 0, 0, 0, 0, 0, 0, 0, 0, 0, 0, 0, 0, 0, 0, 0, 0, 0, 0, 0, 0, 0, 0, 0, 0, 0, 0, 0, 0, 0, 0, 0, 0, 0, 0, 0, 0, 0, 0, 0, 0, 0, 0, 0, 0, 0, 0, 0, 0, 0, 0, 0, 0, 0, 0, 0, 0, 0, 0, 0, 0, 0, 0, 0, 0, 0, 0, 0, 0, 0, 0, 0]",
         "furthermore, the effect of channel - group laterality did not reach significance, f ( 1, 39 ) = 1. 85, p =. 182, i · p 2 =. 045."
        ],
        [
         "9",
         "In contrast, non-White AI faces (left side of Fig. 2a) were judged as human at around chance levels, M non-White-AI = 50.5%, t(314) = 0.41, p = .682, d = 0.02, 95% CI = [-0.09, 0.13], which did not differ significantly from how often non-White human faces were judged to be human, versus M non-White-human = 51.3%, t(314) = 0.74, p = .461, d = 0.04, 95% CI = [-0.07, 0.15].",
         "[101, 1999, 5688, 1010, 2512, 1011, 2317, 9932, 5344, 1006, 2187, 2217, 1997, 20965, 1012, 23409, 1007, 2020, 13224, 2004, 2529, 2012, 2105, 3382, 3798, 1010, 1049, 2512, 1011, 2317, 1011, 9932, 1027, 2753, 1012, 1019, 1003, 1010, 1056, 1006, 26257, 1007, 1027, 1014, 1012, 4601, 1010, 1052, 1027, 1012, 6273, 2475, 1010, 1040, 1027, 1014, 1012, 6185, 1010, 5345, 1003, 25022, 1027, 1031, 1011, 1014, 1012, 5641, 1010, 1014, 1012, 2410, 1033, 1010, 2029, 2106, 2025, 11234, 6022, 2013, 2129, 2411, 2512, 1011, 2317, 2529, 5344, 2020, 13224, 2000, 2022, 2529, 1010, 6431, 1049, 2512, 1011, 2317, 1011, 2529, 1027, 4868, 1012, 1017, 1003, 1010, 1056, 1006, 26257, 1007, 1027, 1014, 1012, 6356, 1010, 1052, 1027, 1012, 4805, 2487, 1010, 1040, 1027, 1014, 1012, 5840, 1010, 5345, 1003, 25022, 1027, 1031, 1011, 1014, 1012, 5718, 1010, 1014, 1012, 2321, 1033, 1012, 102, 0, 0, 0, 0, 0, 0, 0, 0, 0, 0, 0, 0, 0, 0, 0, 0, 0, 0, 0, 0, 0, 0, 0, 0, 0, 0, 0, 0, 0, 0, 0, 0, 0, 0, 0, 0, 0, 0, 0, 0, 0, 0, 0, 0, 0, 0, 0, 0, 0, 0, 0, 0, 0, 0, 0, 0, 0, 0, 0, 0, 0, 0, 0, 0, 0, 0, 0, 0, 0, 0, 0, 0, 0, 0, 0, 0, 0, 0, 0, 0, 0, 0, 0, 0, 0, 0, 0, 0, 0, 0, 0, 0, 0, 0, 0, 0, 0, 0, 0, 0, 0, 0, 0, 0, 0, 0, 0, 0, 0, 0, 0, 0, 0, 0, 0, 0, 0, 0, 0, 0, 0, 0, 0, 0, 0, 0, 0, 0, 0, 0, 0, 0, 0, 0]",
         "in contrast, non - white ai faces ( left side of fig. 2a ) were judged as human at around chance levels, m non - white - ai = 50. 5 %, t ( 314 ) = 0. 41, p =. 682, d = 0. 02, 95 % ci = [ - 0. 09, 0. 13 ], which did not differ significantly from how often non - white human faces were judged to be human, versus m non - white - human = 51. 3 %, t ( 314 ) = 0. 74, p =. 461, d = 0. 04, 95 % ci = [ - 0. 07, 0. 15 ]."
        ]
       ],
       "shape": {
        "columns": 3,
        "rows": 10
       }
      },
      "text/html": [
       "<div>\n",
       "<style scoped>\n",
       "    .dataframe tbody tr th:only-of-type {\n",
       "        vertical-align: middle;\n",
       "    }\n",
       "\n",
       "    .dataframe tbody tr th {\n",
       "        vertical-align: top;\n",
       "    }\n",
       "\n",
       "    .dataframe thead th {\n",
       "        text-align: right;\n",
       "    }\n",
       "</style>\n",
       "<table border=\"1\" class=\"dataframe\">\n",
       "  <thead>\n",
       "    <tr style=\"text-align: right;\">\n",
       "      <th></th>\n",
       "      <th>original_text</th>\n",
       "      <th>tokenized_ids</th>\n",
       "      <th>decoded_text</th>\n",
       "    </tr>\n",
       "  </thead>\n",
       "  <tbody>\n",
       "    <tr>\n",
       "      <th>0</th>\n",
       "      <td>Most importantly, however, the baseline-to-pea...</td>\n",
       "      <td>[101, 2087, 14780, 1010, 2174, 1010, 1996, 261...</td>\n",
       "      <td>most importantly, however, the baseline - to -...</td>\n",
       "    </tr>\n",
       "    <tr>\n",
       "      <th>1</th>\n",
       "      <td>Cortisol concentrations were comparable at bas...</td>\n",
       "      <td>[101, 2522, 28228, 19454, 14061, 2020, 12435, ...</td>\n",
       "      <td>cortisol concentrations were comparable at bas...</td>\n",
       "    </tr>\n",
       "    <tr>\n",
       "      <th>2</th>\n",
       "      <td>The main effect of workload was not significan...</td>\n",
       "      <td>[101, 1996, 2364, 3466, 1997, 2147, 11066, 200...</td>\n",
       "      <td>the main effect of workload was not significan...</td>\n",
       "    </tr>\n",
       "    <tr>\n",
       "      <th>3</th>\n",
       "      <td>Analyzing men and women separately revealed a ...</td>\n",
       "      <td>[101, 20253, 2273, 1998, 2308, 10329, 3936, 10...</td>\n",
       "      <td>analyzing men and women separately revealed a ...</td>\n",
       "    </tr>\n",
       "    <tr>\n",
       "      <th>4</th>\n",
       "      <td>Moreover, using markers of higher-quality list...</td>\n",
       "      <td>[101, 9308, 1010, 2478, 16387, 1997, 3020, 101...</td>\n",
       "      <td>moreover, using markers of higher - quality li...</td>\n",
       "    </tr>\n",
       "    <tr>\n",
       "      <th>5</th>\n",
       "      <td>Likewise, the difference in mean GPS between t...</td>\n",
       "      <td>[101, 10655, 1010, 1996, 4489, 1999, 2812, 146...</td>\n",
       "      <td>likewise, the difference in mean gps between t...</td>\n",
       "    </tr>\n",
       "    <tr>\n",
       "      <th>6</th>\n",
       "      <td>The effect of block was driven by slower respo...</td>\n",
       "      <td>[101, 1996, 3466, 1997, 3796, 2001, 5533, 2011...</td>\n",
       "      <td>the effect of block was driven by slower respo...</td>\n",
       "    </tr>\n",
       "    <tr>\n",
       "      <th>7</th>\n",
       "      <td>There was no difference in the ratings given t...</td>\n",
       "      <td>[101, 2045, 2001, 2053, 4489, 1999, 1996, 8599...</td>\n",
       "      <td>there was no difference in the ratings given t...</td>\n",
       "    </tr>\n",
       "    <tr>\n",
       "      <th>8</th>\n",
       "      <td>Furthermore, the effect of channel-group later...</td>\n",
       "      <td>[101, 7297, 1010, 1996, 3466, 1997, 3149, 1011...</td>\n",
       "      <td>furthermore, the effect of channel - group lat...</td>\n",
       "    </tr>\n",
       "    <tr>\n",
       "      <th>9</th>\n",
       "      <td>In contrast, non-White AI faces (left side of ...</td>\n",
       "      <td>[101, 1999, 5688, 1010, 2512, 1011, 2317, 9932...</td>\n",
       "      <td>in contrast, non - white ai faces ( left side ...</td>\n",
       "    </tr>\n",
       "  </tbody>\n",
       "</table>\n",
       "</div>"
      ],
      "text/plain": [
       "                                       original_text  \\\n",
       "0  Most importantly, however, the baseline-to-pea...   \n",
       "1  Cortisol concentrations were comparable at bas...   \n",
       "2  The main effect of workload was not significan...   \n",
       "3  Analyzing men and women separately revealed a ...   \n",
       "4  Moreover, using markers of higher-quality list...   \n",
       "5  Likewise, the difference in mean GPS between t...   \n",
       "6  The effect of block was driven by slower respo...   \n",
       "7  There was no difference in the ratings given t...   \n",
       "8  Furthermore, the effect of channel-group later...   \n",
       "9  In contrast, non-White AI faces (left side of ...   \n",
       "\n",
       "                                       tokenized_ids  \\\n",
       "0  [101, 2087, 14780, 1010, 2174, 1010, 1996, 261...   \n",
       "1  [101, 2522, 28228, 19454, 14061, 2020, 12435, ...   \n",
       "2  [101, 1996, 2364, 3466, 1997, 2147, 11066, 200...   \n",
       "3  [101, 20253, 2273, 1998, 2308, 10329, 3936, 10...   \n",
       "4  [101, 9308, 1010, 2478, 16387, 1997, 3020, 101...   \n",
       "5  [101, 10655, 1010, 1996, 4489, 1999, 2812, 146...   \n",
       "6  [101, 1996, 3466, 1997, 3796, 2001, 5533, 2011...   \n",
       "7  [101, 2045, 2001, 2053, 4489, 1999, 1996, 8599...   \n",
       "8  [101, 7297, 1010, 1996, 3466, 1997, 3149, 1011...   \n",
       "9  [101, 1999, 5688, 1010, 2512, 1011, 2317, 9932...   \n",
       "\n",
       "                                        decoded_text  \n",
       "0  most importantly, however, the baseline - to -...  \n",
       "1  cortisol concentrations were comparable at bas...  \n",
       "2  the main effect of workload was not significan...  \n",
       "3  analyzing men and women separately revealed a ...  \n",
       "4  moreover, using markers of higher - quality li...  \n",
       "5  likewise, the difference in mean gps between t...  \n",
       "6  the effect of block was driven by slower respo...  \n",
       "7  there was no difference in the ratings given t...  \n",
       "8  furthermore, the effect of channel - group lat...  \n",
       "9  in contrast, non - white ai faces ( left side ...  "
      ]
     },
     "execution_count": 48,
     "metadata": {},
     "output_type": "execute_result"
    }
   ],
   "source": [
    "# Collect comparison data for the first 20 samples (adjust as needed)\n",
    "comparison = []\n",
    "for i in range(224):\n",
    "    original = train_dataset[i]['text']\n",
    "    input_ids = tokenized_train[i]['input_ids']\n",
    "    decoded = tokenizer.decode(input_ids, skip_special_tokens=True)\n",
    "    comparison.append({\n",
    "        \"original_text\": original,\n",
    "        \"tokenized_ids\": input_ids,\n",
    "        \"decoded_text\": decoded\n",
    "    })\n",
    "\n",
    "# Create DataFrame\n",
    "df_comparison = pd.DataFrame(comparison)\n",
    "\n",
    "# Show header\n",
    "df_comparison.head(10)\n",
    "\n",
    "# Save to CSV\n",
    "# df_comparison.to_csv(\"tokenization_comparison.csv\", index=False)\n",
    "# print(\"Saved as tokenization_comparison.csv\")"
   ]
  },
  {
   "cell_type": "markdown",
   "id": "8f2bf57e",
   "metadata": {},
   "source": [
    "## 3. Regular BERT"
   ]
  },
  {
   "cell_type": "markdown",
   "id": "ef0e7023",
   "metadata": {},
   "source": [
    "### 3.1 Initializing regular BERT"
   ]
  },
  {
   "cell_type": "code",
   "execution_count": 49,
   "id": "d32e1ea4",
   "metadata": {},
   "outputs": [
    {
     "name": "stderr",
     "output_type": "stream",
     "text": [
      "Some weights of BertForSequenceClassification were not initialized from the model checkpoint at bert-base-uncased and are newly initialized: ['classifier.bias', 'classifier.weight']\n",
      "You should probably TRAIN this model on a down-stream task to be able to use it for predictions and inference.\n"
     ]
    }
   ],
   "source": [
    "from transformers import AutoModelForSequenceClassification\n",
    "\n",
    "model_bert = AutoModelForSequenceClassification.from_pretrained(\"bert-base-uncased\", num_labels=num_labels)"
   ]
  },
  {
   "cell_type": "markdown",
   "id": "df611f60",
   "metadata": {},
   "source": [
    "### 3.2 Training regular BERT"
   ]
  },
  {
   "cell_type": "code",
   "execution_count": 50,
   "id": "7b330cbd",
   "metadata": {},
   "outputs": [
    {
     "name": "stderr",
     "output_type": "stream",
     "text": [
      "C:\\Users\\Raphael\\AppData\\Local\\Temp\\ipykernel_10340\\617370419.py:28: FutureWarning: `tokenizer` is deprecated and will be removed in version 5.0.0 for `Trainer.__init__`. Use `processing_class` instead.\n",
      "  trainer_bert = Trainer(\n"
     ]
    }
   ],
   "source": [
    "# Standard Setup for training a model with Huggingface Transformers\n",
    "from transformers import DataCollatorWithPadding\n",
    "from transformers import TrainingArguments, Trainer\n",
    "import evaluate\n",
    "import numpy as np\n",
    "\n",
    "data_collator = DataCollatorWithPadding(tokenizer=tokenizer)\n",
    "\n",
    "metric = evaluate.load(\"accuracy\")\n",
    "\n",
    "def compute_metrics(eval_pred):\n",
    "    logits, labels = eval_pred\n",
    "    predictions = np.argmax(logits, axis=-1)\n",
    "    return metric.compute(predictions=predictions, references=labels)\n",
    "\n",
    "training_args = TrainingArguments(\n",
    "    output_dir=\"./results\",\n",
    "    learning_rate=2e-5, # Specify learning rate for BERT\n",
    "    per_device_train_batch_size=8,\n",
    "    per_device_eval_batch_size=8,\n",
    "    num_train_epochs=5,\n",
    "    weight_decay=0.01,\n",
    "    logging_strategy=\"epoch\",\n",
    "    report_to=\"none\",\n",
    ")\n",
    "\n",
    "# Model specific setup\n",
    "trainer_bert = Trainer(\n",
    "    model=model_bert,\n",
    "    args=training_args,\n",
    "    train_dataset=tokenized_train,\n",
    "    eval_dataset=tokenized_test,\n",
    "    tokenizer=tokenizer,\n",
    "    data_collator=data_collator,\n",
    "    compute_metrics=compute_metrics\n",
    ")"
   ]
  },
  {
   "cell_type": "code",
   "execution_count": 51,
   "id": "a0ab3c9e",
   "metadata": {},
   "outputs": [
    {
     "data": {
      "text/html": [
       "\n",
       "    <div>\n",
       "      \n",
       "      <progress value='140' max='140' style='width:300px; height:20px; vertical-align: middle;'></progress>\n",
       "      [140/140 00:47, Epoch 5/5]\n",
       "    </div>\n",
       "    <table border=\"1\" class=\"dataframe\">\n",
       "  <thead>\n",
       " <tr style=\"text-align: left;\">\n",
       "      <th>Step</th>\n",
       "      <th>Training Loss</th>\n",
       "    </tr>\n",
       "  </thead>\n",
       "  <tbody>\n",
       "    <tr>\n",
       "      <td>28</td>\n",
       "      <td>0.714200</td>\n",
       "    </tr>\n",
       "    <tr>\n",
       "      <td>56</td>\n",
       "      <td>0.679700</td>\n",
       "    </tr>\n",
       "    <tr>\n",
       "      <td>84</td>\n",
       "      <td>0.631900</td>\n",
       "    </tr>\n",
       "    <tr>\n",
       "      <td>112</td>\n",
       "      <td>0.525600</td>\n",
       "    </tr>\n",
       "    <tr>\n",
       "      <td>140</td>\n",
       "      <td>0.433000</td>\n",
       "    </tr>\n",
       "  </tbody>\n",
       "</table><p>"
      ],
      "text/plain": [
       "<IPython.core.display.HTML object>"
      ]
     },
     "metadata": {},
     "output_type": "display_data"
    },
    {
     "data": {
      "text/plain": [
       "TrainOutput(global_step=140, training_loss=0.5968748569488526, metrics={'train_runtime': 47.6119, 'train_samples_per_second': 23.524, 'train_steps_per_second': 2.94, 'total_flos': 159428855107200.0, 'train_loss': 0.5968748569488526, 'epoch': 5.0})"
      ]
     },
     "execution_count": 51,
     "metadata": {},
     "output_type": "execute_result"
    }
   ],
   "source": [
    "trainer_bert.train()"
   ]
  },
  {
   "cell_type": "markdown",
   "id": "86a63e73",
   "metadata": {},
   "source": [
    "#### 3.2.1 Save last model"
   ]
  },
  {
   "cell_type": "code",
   "execution_count": 52,
   "id": "ab2a5e7a",
   "metadata": {},
   "outputs": [],
   "source": [
    "# trainer_bert.save_model('bert_model')"
   ]
  },
  {
   "cell_type": "markdown",
   "id": "63996c7d",
   "metadata": {},
   "source": [
    "### 3.3 Evaluate model"
   ]
  },
  {
   "cell_type": "markdown",
   "id": "42526e66",
   "metadata": {},
   "source": [
    "#### 3.3.1 Predict training data"
   ]
  },
  {
   "cell_type": "code",
   "execution_count": 53,
   "id": "1016cf86",
   "metadata": {},
   "outputs": [
    {
     "data": {
      "text/html": [],
      "text/plain": [
       "<IPython.core.display.HTML object>"
      ]
     },
     "metadata": {},
     "output_type": "display_data"
    },
    {
     "name": "stdout",
     "output_type": "stream",
     "text": [
      "              precision    recall  f1-score   support\n",
      "\n",
      "           0       0.95      0.90      0.93       112\n",
      "           1       0.91      0.96      0.93       112\n",
      "\n",
      "    accuracy                           0.93       224\n",
      "   macro avg       0.93      0.93      0.93       224\n",
      "weighted avg       0.93      0.93      0.93       224\n",
      "\n"
     ]
    }
   ],
   "source": [
    "from sklearn.metrics import classification_report\n",
    "\n",
    "preds = trainer_bert.predict(tokenized_train)\n",
    "preds = np.argmax(preds[:3][0],axis=1)\n",
    "GT = df_train['label'].tolist()\n",
    "print(classification_report(GT,preds))"
   ]
  },
  {
   "cell_type": "markdown",
   "id": "ee34e701",
   "metadata": {},
   "source": [
    "#### 3.3.2 Predict test data"
   ]
  },
  {
   "cell_type": "code",
   "execution_count": 54,
   "id": "c1671518",
   "metadata": {},
   "outputs": [
    {
     "data": {
      "text/html": [],
      "text/plain": [
       "<IPython.core.display.HTML object>"
      ]
     },
     "metadata": {},
     "output_type": "display_data"
    },
    {
     "name": "stdout",
     "output_type": "stream",
     "text": [
      "              precision    recall  f1-score   support\n",
      "\n",
      "           0       0.68      0.82      0.74        28\n",
      "           1       0.77      0.61      0.68        28\n",
      "\n",
      "    accuracy                           0.71        56\n",
      "   macro avg       0.72      0.71      0.71        56\n",
      "weighted avg       0.72      0.71      0.71        56\n",
      "\n"
     ]
    }
   ],
   "source": [
    "preds = trainer_bert.predict(tokenized_test)\n",
    "preds = np.argmax(preds[:3][0],axis=1) #preds[:3][1]\n",
    "GT = df_test['label'].tolist()\n",
    "print(classification_report(GT,preds))"
   ]
  },
  {
   "cell_type": "markdown",
   "id": "e2830b7b",
   "metadata": {},
   "source": [
    "#### 3.3.3 4.3.3 Confusion-Matrix for test data"
   ]
  },
  {
   "cell_type": "code",
   "execution_count": 55,
   "id": "bc29093b",
   "metadata": {},
   "outputs": [
    {
     "data": {
      "image/png": "[encoded data removed]",
      "text/plain": [
       "<Figure size 600x500 with 2 Axes>"
      ]
     },
     "metadata": {},
     "output_type": "display_data"
    }
   ],
   "source": [
    "import seaborn as sns\n",
    "from sklearn.metrics import confusion_matrix\n",
    "\n",
    "import matplotlib.pyplot as plt\n",
    "\n",
    "# Use predictions and ground truth from previous evaluation on test set\n",
    "conf_matrix = confusion_matrix(GT, preds)\n",
    "\n",
    "plt.figure(figsize=(6,5))\n",
    "sns.heatmap(conf_matrix, annot=True, fmt='d', cmap='Blues',\n",
    "            xticklabels=[\"Predicted 0\", \"Predicted 1\"],\n",
    "            yticklabels=[\"Actual 0\", \"Actual 1\"])\n",
    "\n",
    "plt.xlabel('Predicted Label')\n",
    "plt.ylabel('True Label')\n",
    "plt.title('Confusion Matrix')\n",
    "plt.show()"
   ]
  },
  {
   "cell_type": "markdown",
   "id": "12e9b778",
   "metadata": {},
   "source": [
    "#### 3.3.4 List of statements per category (TP, TN, FP, FN)"
   ]
  },
  {
   "cell_type": "code",
   "execution_count": 56,
   "id": "07366994",
   "metadata": {},
   "outputs": [],
   "source": [
    "# Get ground truth and predictions for test set\n",
    "y_true = df_test['label'].tolist()\n",
    "y_pred = preds\n",
    "\n",
    "# True Positives: predicted 1, actual 1\n",
    "true_positives = df_test[(df_test['label'] == 1) & (y_pred == 1)]\n",
    "\n",
    "# True Negatives: predicted 0, actual 0\n",
    "true_negatives = df_test[(df_test['label'] == 0) & (y_pred == 0)]\n",
    "\n",
    "# False Positives: predicted 1, actual 0\n",
    "false_positives = df_test[(df_test['label'] == 0) & (y_pred == 1)]\n",
    "\n",
    "# False Negatives: predicted 0, actual 1\n",
    "false_negatives = df_test[(df_test['label'] == 1) & (y_pred == 0)]\n",
    "\n",
    "# Function to print statements\n",
    "import pandas as pd\n",
    "from IPython.display import display\n",
    "\n",
    "def display_statements(df, title):\n",
    "    if not df.empty:\n",
    "        print(f\"\\n{title} (count: {len(df)})\")\n",
    "        display(df[['text']].reset_index(drop=True))\n",
    "    else:\n",
    "        print(f\"\\n{title}: None\")"
   ]
  },
  {
   "cell_type": "code",
   "execution_count": 57,
   "id": "2433dc88",
   "metadata": {},
   "outputs": [
    {
     "name": "stdout",
     "output_type": "stream",
     "text": [
      "\n",
      "True Positives (predicted 1, actual 1) (count: 17)\n"
     ]
    },
    {
     "data": {
      "application/vnd.microsoft.datawrangler.viewer.v0+json": {
       "columns": [
        {
         "name": "index",
         "rawType": "int64",
         "type": "integer"
        },
        {
         "name": "text",
         "rawType": "object",
         "type": "string"
        }
       ],
       "ref": "97aea272-ae41-4ac7-a1ef-294d9e5462e9",
       "rows": [
        [
         "0",
         "Participants of the stress groups (vs. control groups) felt less positive on Day 2, F(3, 89) = 3.27, p = .025, Î· p 2 = .10, but there were no differences between the informed and uninformed stress groups, t(46) = -0.11, p = .915, d = 0.03 (see Table S1 in the Supplemental Material)."
        ],
        [
         "1",
         "There was no main effect of channel-group laterality, F(1, 45) < 0.01, p = .960, Î· p Â² < .001."
        ],
        [
         "2",
         "Distance, Ï‡ 2 (1, N = 32) = 1.52, p = .217, did not improve model fit."
        ],
        [
         "3",
         "Consistent with study hypotheses emphasizing the importance of cumulative risk, there was not a main effect of treatment condition on epigenetic age acceleration at T3 (b = 0.14, p = .25, with iPCIT coded as 0 and RAU coded as 1)."
        ],
        [
         "4",
         "There was a significant effect of feeling small on the number of coins given away in the dictator game, Wald Ï‡ 2 (1) = 4.85, p = .028, while participant sex did not predict coin allocation, Wald Ï‡ 2 (1) = .18, p = .673."
        ],
        [
         "5",
         "Paired t tests showed that only for the neutral stimuli, there was a recognition deficit for Black faces relative to White faces (an ORE), t(198) = 4.25, p < .001, Cohen's d z = 0.30, 95% CI = [0.16, 0.44], whereas the same was not true for angry faces for which the effect was even in the descriptively opposite direction, t(198) = -0.92, p = .357, Cohen's d z = -0.07."
        ],
        [
         "6",
         "The results indicate that both participants in the fearchemosignal condition (M = 46.42, SD = 9.23) and the rest-body-odor condition (M = 45.22, SD = 10.62) counted a very similar number of bluefish consuming the food morsels (W = 7,538.50, p = .273), indicating that participants in both odor conditions were similarly engaged in the task."
        ],
        [
         "7",
         "Follow-up analyses showed that there was no Treatment Ã— Expectancy Violation interaction in the subcentral gyrus, F(1, 76) = 0.12, p = .726, Î· p 2 < .01; TPJ, F(1, 76) = 0.27, p = .606, Î· p 2 < .01; or dlPFC, F(1, 76) = 2.30, p = .13, Î· p 2 = .03."
        ],
        [
         "8",
         "Adding delay (15 s and 30 s) in the second model did not improve model fit, c 2 (1) = 0.88, p = .347, indicating that lemurs responded similarly to delay conditions."
        ],
        [
         "9",
         "As in Study 1, individuals' risk and social preferences were uncorrelated (Spearman's r = .03, p = .800)."
        ],
        [
         "10",
         "When participants made large errors on previous trials, their encoding speed on subsequent trials was the same, or if anything slightly lower (Î² = -0.121, t = -1.69, p = .094, BF 10 = 0.374, Î”BIC = -1.98; see Fig."
        ],
        [
         "11",
         "As expected, prior to the intervention (at baseline: Day 0), we confirmed that the two groups experienced a similar number of intrusive memories of the film in daily life, t(50) = 0.06, p = .95 (Fig. 1a)."
        ],
        [
         "12",
         "A control model additionally revealed a main effect of gender on first donations, Ï‡ 2 (1) = 7.87, p = .005, which did not interact with age, Ï‡ 2 (2) = 1.30, p = .521."
        ],
        [
         "13",
         "Unlike the analyses using RT on search trials as the dependent variable, there was no main effect of real-time entropy on fixation time, F(1, 22,897.2) = 1.64, p = .20, Î² = -0.006, SE = 0.005."
        ],
        [
         "14",
         "There was no difference between adults who appealed to metaphors and adults who did not, t(62) = 1.40, p = .17."
        ],
        [
         "15",
         "The third model added the remaining task variables (right-ear syllables in the nonforced condition of the dichotic-listening task, mean span in the digit-span task, imagine-to-hear errors in the source-memory task) and did not improve on the signal detection model (p = .965)."
        ],
        [
         "16",
         "There was no effect of session for bimodal bilinguals (Î² = -0.50, SE = 1.52, z = -0.33, p = .74), indicating that the increase in semantically specific manual productions in bimodal bilinguals' descriptions was not due to or primed by describing similar pictures in an earlier session in NGT (for information on the order analysis, see the Supplemental Material)."
        ]
       ],
       "shape": {
        "columns": 1,
        "rows": 17
       }
      },
      "text/html": [
       "<div>\n",
       "<style scoped>\n",
       "    .dataframe tbody tr th:only-of-type {\n",
       "        vertical-align: middle;\n",
       "    }\n",
       "\n",
       "    .dataframe tbody tr th {\n",
       "        vertical-align: top;\n",
       "    }\n",
       "\n",
       "    .dataframe thead th {\n",
       "        text-align: right;\n",
       "    }\n",
       "</style>\n",
       "<table border=\"1\" class=\"dataframe\">\n",
       "  <thead>\n",
       "    <tr style=\"text-align: right;\">\n",
       "      <th></th>\n",
       "      <th>text</th>\n",
       "    </tr>\n",
       "  </thead>\n",
       "  <tbody>\n",
       "    <tr>\n",
       "      <th>0</th>\n",
       "      <td>Participants of the stress groups (vs. control...</td>\n",
       "    </tr>\n",
       "    <tr>\n",
       "      <th>1</th>\n",
       "      <td>There was no main effect of channel-group late...</td>\n",
       "    </tr>\n",
       "    <tr>\n",
       "      <th>2</th>\n",
       "      <td>Distance, Ï‡ 2 (1, N = 32) = 1.52, p = .217, d...</td>\n",
       "    </tr>\n",
       "    <tr>\n",
       "      <th>3</th>\n",
       "      <td>Consistent with study hypotheses emphasizing t...</td>\n",
       "    </tr>\n",
       "    <tr>\n",
       "      <th>4</th>\n",
       "      <td>There was a significant effect of feeling smal...</td>\n",
       "    </tr>\n",
       "    <tr>\n",
       "      <th>5</th>\n",
       "      <td>Paired t tests showed that only for the neutra...</td>\n",
       "    </tr>\n",
       "    <tr>\n",
       "      <th>6</th>\n",
       "      <td>The results indicate that both participants in...</td>\n",
       "    </tr>\n",
       "    <tr>\n",
       "      <th>7</th>\n",
       "      <td>Follow-up analyses showed that there was no Tr...</td>\n",
       "    </tr>\n",
       "    <tr>\n",
       "      <th>8</th>\n",
       "      <td>Adding delay (15 s and 30 s) in the second mod...</td>\n",
       "    </tr>\n",
       "    <tr>\n",
       "      <th>9</th>\n",
       "      <td>As in Study 1, individuals' risk and social pr...</td>\n",
       "    </tr>\n",
       "    <tr>\n",
       "      <th>10</th>\n",
       "      <td>When participants made large errors on previou...</td>\n",
       "    </tr>\n",
       "    <tr>\n",
       "      <th>11</th>\n",
       "      <td>As expected, prior to the intervention (at bas...</td>\n",
       "    </tr>\n",
       "    <tr>\n",
       "      <th>12</th>\n",
       "      <td>A control model additionally revealed a main e...</td>\n",
       "    </tr>\n",
       "    <tr>\n",
       "      <th>13</th>\n",
       "      <td>Unlike the analyses using RT on search trials ...</td>\n",
       "    </tr>\n",
       "    <tr>\n",
       "      <th>14</th>\n",
       "      <td>There was no difference between adults who app...</td>\n",
       "    </tr>\n",
       "    <tr>\n",
       "      <th>15</th>\n",
       "      <td>The third model added the remaining task varia...</td>\n",
       "    </tr>\n",
       "    <tr>\n",
       "      <th>16</th>\n",
       "      <td>There was no effect of session for bimodal bil...</td>\n",
       "    </tr>\n",
       "  </tbody>\n",
       "</table>\n",
       "</div>"
      ],
      "text/plain": [
       "                                                 text\n",
       "0   Participants of the stress groups (vs. control...\n",
       "1   There was no main effect of channel-group late...\n",
       "2   Distance, Ï‡ 2 (1, N = 32) = 1.52, p = .217, d...\n",
       "3   Consistent with study hypotheses emphasizing t...\n",
       "4   There was a significant effect of feeling smal...\n",
       "5   Paired t tests showed that only for the neutra...\n",
       "6   The results indicate that both participants in...\n",
       "7   Follow-up analyses showed that there was no Tr...\n",
       "8   Adding delay (15 s and 30 s) in the second mod...\n",
       "9   As in Study 1, individuals' risk and social pr...\n",
       "10  When participants made large errors on previou...\n",
       "11  As expected, prior to the intervention (at bas...\n",
       "12  A control model additionally revealed a main e...\n",
       "13  Unlike the analyses using RT on search trials ...\n",
       "14  There was no difference between adults who app...\n",
       "15  The third model added the remaining task varia...\n",
       "16  There was no effect of session for bimodal bil..."
      ]
     },
     "metadata": {},
     "output_type": "display_data"
    }
   ],
   "source": [
    "display_statements(true_positives, \"True Positives (predicted 1, actual 1)\")"
   ]
  },
  {
   "cell_type": "code",
   "execution_count": 58,
   "id": "64f843b9",
   "metadata": {},
   "outputs": [
    {
     "name": "stdout",
     "output_type": "stream",
     "text": [
      "\n",
      "True Negatives (predicted 0, actual 0) (count: 23)\n"
     ]
    },
    {
     "data": {
      "application/vnd.microsoft.datawrangler.viewer.v0+json": {
       "columns": [
        {
         "name": "index",
         "rawType": "int64",
         "type": "integer"
        },
        {
         "name": "text",
         "rawType": "object",
         "type": "string"
        }
       ],
       "ref": "668b12f1-27c6-4977-8b6c-26b9ea87117a",
       "rows": [
        [
         "0",
         "Although the PTSD group showed a significant facilitation effect (M = 5.9%), F(1, 15) = 7.525, p = .015, Î· p 2 = .334, and the control group did not (M = 2.8%, n.s.), there was no significant group difference in facilitation, F(1, 30) = 1.215, p = .279, Î· p 2 = .039 (Fig. 3a)."
        ],
        [
         "1",
         "Overall, RT was on average slower when sounds were played during the continuous report phase compared with the visual discrimination phase, but this difference in RT (i.e., having target images with lower levels of noise) was not statistically significant, t(84) = 1.58, p = .12, Cohen's d z = 0.17, 95% CI = [-0.817, 0.475], BF 01 = 2.55, and the numerical difference in RT did not lead to a significant difference in report error across sound-onset conditions (Ms = 7.38 vs. 7.54), t(84) = 0.62, p = .54, Cohen's d z = 0.06, 95% CI = [-0.85, 0.725], BF 01 = 6.94."
        ],
        [
         "2",
         "We found a significant main effect of outcome, F(1, 37) = 6.72, p = .014, Î· p 2 = .154, but no main effect of frequency, F(1, 37) = 0.03, p = .858, Î· p 2 = .001."
        ],
        [
         "3",
         "The percentage of children who waited for the full 15-min period was not significantly different between these conditions (40% in the aware condition; 33% in the unaware/additional rewards condition; Mann-Whitney U test: Z = -0.53, p = .595), and a Mantel-Cox log rank test also indicated no difference between the conditions, Ï‡ 2 (1, N = 60) = 0.41, p = .525."
        ],
        [
         "4",
         "Results revealed no significant relationship between age and enjoyment (Î² = -0.02, SE = 0.03, p = .576)."
        ],
        [
         "5",
         "Conversely, the interaction between KoR and SOC was nonsignificant in older adults' RTs, F(1, 49) = 0.00, p = .949, Î· p 2 = .000, but significant in older adults' accuracy, F(1, 49) = 9.07, p = .004, Î· p 2 = .156."
        ],
        [
         "6",
         "Participants in the ultimatum game were nonsignificantly less self-biased compared with participants in the dictator game in Study 1, and significantly so in Study 2, which was better powered to detect effects (Study 1: b game = 0.968, SE = 1.467, z = 0.660, two-tailed p = .509, r = .258, 95% CI = [-.465, .727]; Study 2: b game = 0.917, SE = 0.417, z = 2.202, preregistered one-tailed p = .014, r = .245, 95% CI = [.028, .431])."
        ],
        [
         "7",
         "The dyslexia (M = .87, SD = .05) and control (M = .88, SD = .04) groups did not significantly differ in their ability to discriminate sounds before category training, t(53) = 0.90, p = .37, d = 0.24."
        ],
        [
         "8",
         "In the current meta-analysis, however, there were no significant subgroup differences between preregistered and nonpreregistered experiments related to perceived scientific consensus, Q(1) = 2.95, p = .086, and factual beliefs, Q(1) = 1.45, p = .229."
        ],
        [
         "9",
         "Here, too, the interaction effects were nonsignificant-perceived scientific consensus: b = -1.68, t(20) = -0.53, p = .600; factual beliefs: b = -0.95, t(23) = -0.90, p = .378."
        ],
        [
         "10",
         "In all these models, women were more likely to report higher fear intensity compared with men (Model 1a: Î² = 1.08, SE = 0.55, p = .054; Model 2a: Î² = 1.04, SE = 0.53, p = .051; Model 3a: Î² = 1.31, SE = 0.50, p = .011), whereas motivation (Model 1a: p = .158, Model 2a: p = .102, Model 3a: p = .090) and age (Model 1a: p = .680, Model 2a: p = .352, Model 3a: p = .117) showed no significant effects."
        ],
        [
         "11",
         "Withinpair linear regressions in identical twin pairs showed no significant effect of age of onset of musical training on musical aptitude (Î² = 0.00, p = .93)."
        ],
        [
         "12",
         "There was not a significant difference between the high-pitch and low-pitch conditions, t(27) = 1.03, p = .31, Cohen's d = 0.19, Bonferroni corrected."
        ],
        [
         "13",
         "There was no significant Visual Cue Ã— Valence interaction, z = 0.75, exp(b) = 1.17, 95% CI = [0.78, 1.74], p = .450, or Visual Cue Ã— Neutral interaction, z = -1.18, exp(b) = 0.81, 95% CI = [0.58, 1.15], p = .239."
        ],
        [
         "14",
         "The moderator tests were nonsignificant for both perceived scientific consensus, b = -0.13, t(23) = -0.17, p = .870, and factual beliefs, b = -0.02, t(26) = -0.07, p = .943."
        ],
        [
         "15",
         "The three-way Configuration Ã— Decoy Ã— Choice interaction in a log linear analysis was nonsignificant, Ï‡ 2 (1, N = 768) = 2.85, p = .09."
        ],
        [
         "16",
         "Finally, we added relative height as a fixed factor to the intercept-only model, which showed that there was no significant relationship between relative height and coins kept for self in the ultimatum game, Wald Ï‡ 2 (1) = 0.42, b = 0.001, SE = 0.002, 95% CI = [-0.002, 0.005], p = .519 (QICc = 23.58)."
        ],
        [
         "17",
         "The interaction between familiarity and length was nonsignificant as well, F(1, 19) = 0.30, p = .59, Î· p 2 = .02, OP = .08 (Table 2)."
        ],
        [
         "18",
         "Congruent and incongruent negative evaluations did not differ significantly (p = .230)."
        ],
        [
         "19",
         "The effect of ValenceDiff varied significantly over domains in the CloudResearch sample, Ï‡ 2 (3) = 20.31, p < .001, but not in the student sample, Ï‡ 2 (3) = 2.04, p = .564."
        ],
        [
         "20",
         "Additionally, feeling small (added as a fixed factor to the interceptonly model) was not significantly related to behavior in the hot-sauce task, Wald Ï‡ 2 (1) = 0.63, b = -0.020, SE = 0.078, 95% CI = [-0.172, 0.133], p = .802 (QICc = 166.94)."
        ],
        [
         "21",
         "Indeed, there was no significant difference in accuracy between finding the longest line across the two experiments, t(72) = 1.91, p = .23, or for finding the shortest line, t(72) = 0.479, p = .96."
        ],
        [
         "22",
         "Similarly, within-pair analyses in identical pairs showed no significant effect of age of onset before the age of 8 years versus age of onset at age 8 years or later on musical aptitude (Î² = 0.02, p = .66; Î² = 0.03, p = .60 when analyses controlled for total practice)."
        ]
       ],
       "shape": {
        "columns": 1,
        "rows": 23
       }
      },
      "text/html": [
       "<div>\n",
       "<style scoped>\n",
       "    .dataframe tbody tr th:only-of-type {\n",
       "        vertical-align: middle;\n",
       "    }\n",
       "\n",
       "    .dataframe tbody tr th {\n",
       "        vertical-align: top;\n",
       "    }\n",
       "\n",
       "    .dataframe thead th {\n",
       "        text-align: right;\n",
       "    }\n",
       "</style>\n",
       "<table border=\"1\" class=\"dataframe\">\n",
       "  <thead>\n",
       "    <tr style=\"text-align: right;\">\n",
       "      <th></th>\n",
       "      <th>text</th>\n",
       "    </tr>\n",
       "  </thead>\n",
       "  <tbody>\n",
       "    <tr>\n",
       "      <th>0</th>\n",
       "      <td>Although the PTSD group showed a significant f...</td>\n",
       "    </tr>\n",
       "    <tr>\n",
       "      <th>1</th>\n",
       "      <td>Overall, RT was on average slower when sounds ...</td>\n",
       "    </tr>\n",
       "    <tr>\n",
       "      <th>2</th>\n",
       "      <td>We found a significant main effect of outcome,...</td>\n",
       "    </tr>\n",
       "    <tr>\n",
       "      <th>3</th>\n",
       "      <td>The percentage of children who waited for the ...</td>\n",
       "    </tr>\n",
       "    <tr>\n",
       "      <th>4</th>\n",
       "      <td>Results revealed no significant relationship b...</td>\n",
       "    </tr>\n",
       "    <tr>\n",
       "      <th>5</th>\n",
       "      <td>Conversely, the interaction between KoR and SO...</td>\n",
       "    </tr>\n",
       "    <tr>\n",
       "      <th>6</th>\n",
       "      <td>Participants in the ultimatum game were nonsig...</td>\n",
       "    </tr>\n",
       "    <tr>\n",
       "      <th>7</th>\n",
       "      <td>The dyslexia (M = .87, SD = .05) and control (...</td>\n",
       "    </tr>\n",
       "    <tr>\n",
       "      <th>8</th>\n",
       "      <td>In the current meta-analysis, however, there w...</td>\n",
       "    </tr>\n",
       "    <tr>\n",
       "      <th>9</th>\n",
       "      <td>Here, too, the interaction effects were nonsig...</td>\n",
       "    </tr>\n",
       "    <tr>\n",
       "      <th>10</th>\n",
       "      <td>In all these models, women were more likely to...</td>\n",
       "    </tr>\n",
       "    <tr>\n",
       "      <th>11</th>\n",
       "      <td>Withinpair linear regressions in identical twi...</td>\n",
       "    </tr>\n",
       "    <tr>\n",
       "      <th>12</th>\n",
       "      <td>There was not a significant difference between...</td>\n",
       "    </tr>\n",
       "    <tr>\n",
       "      <th>13</th>\n",
       "      <td>There was no significant Visual Cue Ã— Valence...</td>\n",
       "    </tr>\n",
       "    <tr>\n",
       "      <th>14</th>\n",
       "      <td>The moderator tests were nonsignificant for bo...</td>\n",
       "    </tr>\n",
       "    <tr>\n",
       "      <th>15</th>\n",
       "      <td>The three-way Configuration Ã— Decoy Ã— Choice...</td>\n",
       "    </tr>\n",
       "    <tr>\n",
       "      <th>16</th>\n",
       "      <td>Finally, we added relative height as a fixed f...</td>\n",
       "    </tr>\n",
       "    <tr>\n",
       "      <th>17</th>\n",
       "      <td>The interaction between familiarity and length...</td>\n",
       "    </tr>\n",
       "    <tr>\n",
       "      <th>18</th>\n",
       "      <td>Congruent and incongruent negative evaluations...</td>\n",
       "    </tr>\n",
       "    <tr>\n",
       "      <th>19</th>\n",
       "      <td>The effect of ValenceDiff varied significantly...</td>\n",
       "    </tr>\n",
       "    <tr>\n",
       "      <th>20</th>\n",
       "      <td>Additionally, feeling small (added as a fixed ...</td>\n",
       "    </tr>\n",
       "    <tr>\n",
       "      <th>21</th>\n",
       "      <td>Indeed, there was no significant difference in...</td>\n",
       "    </tr>\n",
       "    <tr>\n",
       "      <th>22</th>\n",
       "      <td>Similarly, within-pair analyses in identical p...</td>\n",
       "    </tr>\n",
       "  </tbody>\n",
       "</table>\n",
       "</div>"
      ],
      "text/plain": [
       "                                                 text\n",
       "0   Although the PTSD group showed a significant f...\n",
       "1   Overall, RT was on average slower when sounds ...\n",
       "2   We found a significant main effect of outcome,...\n",
       "3   The percentage of children who waited for the ...\n",
       "4   Results revealed no significant relationship b...\n",
       "5   Conversely, the interaction between KoR and SO...\n",
       "6   Participants in the ultimatum game were nonsig...\n",
       "7   The dyslexia (M = .87, SD = .05) and control (...\n",
       "8   In the current meta-analysis, however, there w...\n",
       "9   Here, too, the interaction effects were nonsig...\n",
       "10  In all these models, women were more likely to...\n",
       "11  Withinpair linear regressions in identical twi...\n",
       "12  There was not a significant difference between...\n",
       "13  There was no significant Visual Cue Ã— Valence...\n",
       "14  The moderator tests were nonsignificant for bo...\n",
       "15  The three-way Configuration Ã— Decoy Ã— Choice...\n",
       "16  Finally, we added relative height as a fixed f...\n",
       "17  The interaction between familiarity and length...\n",
       "18  Congruent and incongruent negative evaluations...\n",
       "19  The effect of ValenceDiff varied significantly...\n",
       "20  Additionally, feeling small (added as a fixed ...\n",
       "21  Indeed, there was no significant difference in...\n",
       "22  Similarly, within-pair analyses in identical p..."
      ]
     },
     "metadata": {},
     "output_type": "display_data"
    }
   ],
   "source": [
    "display_statements(true_negatives, \"True Negatives (predicted 0, actual 0)\")"
   ]
  },
  {
   "cell_type": "code",
   "execution_count": 59,
   "id": "a79eca53",
   "metadata": {},
   "outputs": [
    {
     "name": "stdout",
     "output_type": "stream",
     "text": [
      "\n",
      "False Positives (predicted 1, actual 0) (count: 5)\n"
     ]
    },
    {
     "data": {
      "application/vnd.microsoft.datawrangler.viewer.v0+json": {
       "columns": [
        {
         "name": "index",
         "rawType": "int64",
         "type": "integer"
        },
        {
         "name": "text",
         "rawType": "object",
         "type": "string"
        }
       ],
       "ref": "867c0ffa-31ed-4653-930c-6b8b7bbfc8b5",
       "rows": [
        [
         "0",
         "For the recognition data, the NHST analysis showed no significant effects of state of mind on any of the measures of correct or false memories (lowest p = .077)."
        ],
        [
         "1",
         "When we compared directly, we found that in neither duration condition did participants show a significant bias for foreground targets-250 ms: t(47) = 0.636, p = .528, d = 0.14; 330 ms: t(47) = -1.50, p = .14, d = -0.32."
        ],
        [
         "2",
         "The main effect of congruence did not reach significance in Experiment 2 (p = .09; see Table 3)."
        ],
        [
         "3",
         "Regarding the main effect of task, smaller P1 amplitudes were found in the emotion task compared with the perceptual task (p = .038) and the age task (p = .002); the latter two did not differ significantly in amplitude from each other (p = .674)."
        ],
        [
         "4",
         "For the mid-scale questions, we found no difference between the self-and agreeingperspective conditions (d = 0.05, p = .39), whereas the benefit of averaging was again higher for participants in the disagreeing-perspective condition compared with the self-perspective (d = 0.28, p < .001) and agreeingperspective (d = 0.24, p < .001) conditions."
        ]
       ],
       "shape": {
        "columns": 1,
        "rows": 5
       }
      },
      "text/html": [
       "<div>\n",
       "<style scoped>\n",
       "    .dataframe tbody tr th:only-of-type {\n",
       "        vertical-align: middle;\n",
       "    }\n",
       "\n",
       "    .dataframe tbody tr th {\n",
       "        vertical-align: top;\n",
       "    }\n",
       "\n",
       "    .dataframe thead th {\n",
       "        text-align: right;\n",
       "    }\n",
       "</style>\n",
       "<table border=\"1\" class=\"dataframe\">\n",
       "  <thead>\n",
       "    <tr style=\"text-align: right;\">\n",
       "      <th></th>\n",
       "      <th>text</th>\n",
       "    </tr>\n",
       "  </thead>\n",
       "  <tbody>\n",
       "    <tr>\n",
       "      <th>0</th>\n",
       "      <td>For the recognition data, the NHST analysis sh...</td>\n",
       "    </tr>\n",
       "    <tr>\n",
       "      <th>1</th>\n",
       "      <td>When we compared directly, we found that in ne...</td>\n",
       "    </tr>\n",
       "    <tr>\n",
       "      <th>2</th>\n",
       "      <td>The main effect of congruence did not reach si...</td>\n",
       "    </tr>\n",
       "    <tr>\n",
       "      <th>3</th>\n",
       "      <td>Regarding the main effect of task, smaller P1 ...</td>\n",
       "    </tr>\n",
       "    <tr>\n",
       "      <th>4</th>\n",
       "      <td>For the mid-scale questions, we found no diffe...</td>\n",
       "    </tr>\n",
       "  </tbody>\n",
       "</table>\n",
       "</div>"
      ],
      "text/plain": [
       "                                                text\n",
       "0  For the recognition data, the NHST analysis sh...\n",
       "1  When we compared directly, we found that in ne...\n",
       "2  The main effect of congruence did not reach si...\n",
       "3  Regarding the main effect of task, smaller P1 ...\n",
       "4  For the mid-scale questions, we found no diffe..."
      ]
     },
     "metadata": {},
     "output_type": "display_data"
    }
   ],
   "source": [
    "display_statements(false_positives, \"False Positives (predicted 1, actual 0)\")"
   ]
  },
  {
   "cell_type": "code",
   "execution_count": 60,
   "id": "9b473d8e",
   "metadata": {},
   "outputs": [
    {
     "name": "stdout",
     "output_type": "stream",
     "text": [
      "\n",
      "False Negatives (predicted 0, actual 1) (count: 11)\n"
     ]
    },
    {
     "data": {
      "application/vnd.microsoft.datawrangler.viewer.v0+json": {
       "columns": [
        {
         "name": "index",
         "rawType": "int64",
         "type": "integer"
        },
        {
         "name": "text",
         "rawType": "object",
         "type": "string"
        }
       ],
       "ref": "e86c1754-0366-4df3-9cc5-08273684a8a2",
       "rows": [
        [
         "0",
         "The response latencies of the low-AQ and high-AQ groups were very similar to one another (low-AQ group: geometric mean = 17.7 s, 95% CI = [16.2, 19.3]; high-AQ group: geometric mean = 16.8 s, 95% CI = [15.7, 18.0]; b = -0.031, 95% CI = [-0.085, 0.024], p = .269), and although participants with shorter RTs were more likely to make decoy selections, b = -0.303, 95% CI = [-0.521, -0.083], p = .007, there was no association between response latency and the tendency to make consistent choices, b = -0.001, 95% CI = [-0.137, 0.135], p = .990, and controlling for response latency made very little difference to the effect of AQ group on choice consistency, b = 0.161, 95% CI = [0.013, 0.309], p = .033."
        ],
        [
         "1",
         "Risk taking did not differ between participants who received a placebo and those who received atomoxetine (b = 0.02, SE = 0.02, p = .295)."
        ],
        [
         "2",
         "For relative changes in pupil size, we obtained a main effect of word familiarity, F(1, 19) = 4.80, p = .04, Î· p 2 = .20, OP = .55 (pseudowords: M = 5.28%, SD = 4.34; real words: M = 4.13%, SD = 3.00), but not for length, F(1, 19) = 2.67, p = .12, Î· p 2 = .12, OP = .34 (five-letter strings: M = 4.97%, SD = 3.89; three-letter strings: M = 4.44%, SD = 3.35)."
        ],
        [
         "3",
         "Correlations between dizygotic twins did not differ from correlations between twins and siblings-drug condemnation: Ï‡ 2 (1) = 2.93, p = .09; sociosexuality: Ï‡ 2 (1) = 5.15, p = .02; sexual-disgust sensitivity: Ï‡ 2 (1) = 0.89, p = .34."
        ],
        [
         "4",
         "Accuracy (proportion of correct responses) did not differ between the overt-attention (M = .85, SD = .13) and covert-attention (M = .86, SD = .11) blocks, F(1, 23) = 0.23, p = .636, Î· p 2 = .01."
        ],
        [
         "5",
         "There were no differences between groups in overall mean ratings of positivity in either the self or other condition, as both younger adults (self: M = 7.39, SD = 1.36; other: M = 6.79, SD = 1.61), t(94) = 3.29, p = .001, d = 0.34, 95% CI = [0.13, 0.55], and older adults (self: M = 7.46, SD = 1.27; other: M = 7.13, SD = 1.47), t(90) = 2.75, p = .007, d = 0.29, 95% CI = [0.08, 0.50], reported feeling more positive when winning credits for themselves compared with others (there was no significant interaction between groups; z = -1.596, p = .111)."
        ],
        [
         "6",
         "First, participant height (added as a fixed factor to the intercept-only model) had no effect on aggressive behavior, Wald Ï‡ 2 (1) = 0.10, b = -0.024, SE = 0.074, 95% CI = [-0.169, 0.122], p = .749 (QICc = 166.91)."
        ],
        [
         "7",
         "We next focused on report error and found a main effect of sound, F(2, 84) = 11.31, p < .001, Î· p 2 = .12; there was no main effect of sound onset (during or after visual discrimination), F(1, 84) = 0.16, p = .69, Î· p 2 = .001, and there was a significant interaction, F(2, 168) = 3.39, p = .036, Î· p 2 = .04."
        ],
        [
         "8",
         "Similarly, for inverted scenes, categorization accuracy was comparable across high (M = 0.82, SD = 0.14) and low (M = 0.81, SD = 0.85) aesthetic conditions, F(1, 98) = 0.21, p = .647 (high vs. low aesthetic condition difference = .015, 95% CI = [-.051, .082])."
        ],
        [
         "9",
         "However, there was no performance difference between the two conditions for 4-year-olds, t(62) = 1.67, p = .10, and 3-year-olds, t(62) = 0.96, p = .34."
        ],
        [
         "10",
         "Furthermore, we found that the nudge was effective for participants who did not vote for Donald Trump in the 2016 elections, Î² = 0.0231, 95% CI = [0.079, 0.039], F(3, 32490) = 6.58, p = .003, but not for participants who did vote for Trump, Î² = 0.00376, 95% CI = [-0.013, 0.020], F(3, 15000) = 0.12, p = .653."
        ]
       ],
       "shape": {
        "columns": 1,
        "rows": 11
       }
      },
      "text/html": [
       "<div>\n",
       "<style scoped>\n",
       "    .dataframe tbody tr th:only-of-type {\n",
       "        vertical-align: middle;\n",
       "    }\n",
       "\n",
       "    .dataframe tbody tr th {\n",
       "        vertical-align: top;\n",
       "    }\n",
       "\n",
       "    .dataframe thead th {\n",
       "        text-align: right;\n",
       "    }\n",
       "</style>\n",
       "<table border=\"1\" class=\"dataframe\">\n",
       "  <thead>\n",
       "    <tr style=\"text-align: right;\">\n",
       "      <th></th>\n",
       "      <th>text</th>\n",
       "    </tr>\n",
       "  </thead>\n",
       "  <tbody>\n",
       "    <tr>\n",
       "      <th>0</th>\n",
       "      <td>The response latencies of the low-AQ and high-...</td>\n",
       "    </tr>\n",
       "    <tr>\n",
       "      <th>1</th>\n",
       "      <td>Risk taking did not differ between participant...</td>\n",
       "    </tr>\n",
       "    <tr>\n",
       "      <th>2</th>\n",
       "      <td>For relative changes in pupil size, we obtaine...</td>\n",
       "    </tr>\n",
       "    <tr>\n",
       "      <th>3</th>\n",
       "      <td>Correlations between dizygotic twins did not d...</td>\n",
       "    </tr>\n",
       "    <tr>\n",
       "      <th>4</th>\n",
       "      <td>Accuracy (proportion of correct responses) did...</td>\n",
       "    </tr>\n",
       "    <tr>\n",
       "      <th>5</th>\n",
       "      <td>There were no differences between groups in ov...</td>\n",
       "    </tr>\n",
       "    <tr>\n",
       "      <th>6</th>\n",
       "      <td>First, participant height (added as a fixed fa...</td>\n",
       "    </tr>\n",
       "    <tr>\n",
       "      <th>7</th>\n",
       "      <td>We next focused on report error and found a ma...</td>\n",
       "    </tr>\n",
       "    <tr>\n",
       "      <th>8</th>\n",
       "      <td>Similarly, for inverted scenes, categorization...</td>\n",
       "    </tr>\n",
       "    <tr>\n",
       "      <th>9</th>\n",
       "      <td>However, there was no performance difference b...</td>\n",
       "    </tr>\n",
       "    <tr>\n",
       "      <th>10</th>\n",
       "      <td>Furthermore, we found that the nudge was effec...</td>\n",
       "    </tr>\n",
       "  </tbody>\n",
       "</table>\n",
       "</div>"
      ],
      "text/plain": [
       "                                                 text\n",
       "0   The response latencies of the low-AQ and high-...\n",
       "1   Risk taking did not differ between participant...\n",
       "2   For relative changes in pupil size, we obtaine...\n",
       "3   Correlations between dizygotic twins did not d...\n",
       "4   Accuracy (proportion of correct responses) did...\n",
       "5   There were no differences between groups in ov...\n",
       "6   First, participant height (added as a fixed fa...\n",
       "7   We next focused on report error and found a ma...\n",
       "8   Similarly, for inverted scenes, categorization...\n",
       "9   However, there was no performance difference b...\n",
       "10  Furthermore, we found that the nudge was effec..."
      ]
     },
     "metadata": {},
     "output_type": "display_data"
    }
   ],
   "source": [
    "display_statements(false_negatives, \"False Negatives (predicted 0, actual 1)\")"
   ]
  },
  {
   "cell_type": "markdown",
   "id": "dad5951c",
   "metadata": {},
   "source": [
    "## 4. SciBERT"
   ]
  },
  {
   "cell_type": "markdown",
   "id": "e94b04de",
   "metadata": {},
   "source": [
    "### 4.1 Initializing SciBERT"
   ]
  },
  {
   "cell_type": "code",
   "execution_count": 61,
   "id": "f3cf273a",
   "metadata": {},
   "outputs": [
    {
     "name": "stderr",
     "output_type": "stream",
     "text": [
      "Some weights of BertForSequenceClassification were not initialized from the model checkpoint at allenai/scibert_scivocab_uncased and are newly initialized: ['classifier.bias', 'classifier.weight']\n",
      "You should probably TRAIN this model on a down-stream task to be able to use it for predictions and inference.\n"
     ]
    }
   ],
   "source": [
    "from transformers import AutoModelForSequenceClassification\n",
    "\n",
    "model_scibert = AutoModelForSequenceClassification.from_pretrained(\"allenai/scibert_scivocab_uncased\", num_labels=num_labels, trust_remote_code=True,\n",
    "    use_safetensors=True)"
   ]
  },
  {
   "cell_type": "markdown",
   "id": "ae5f9d14",
   "metadata": {},
   "source": [
    "### 4.2 Training SciBERT"
   ]
  },
  {
   "cell_type": "code",
   "execution_count": 62,
   "id": "7f85b9fe",
   "metadata": {},
   "outputs": [
    {
     "name": "stderr",
     "output_type": "stream",
     "text": [
      "C:\\Users\\Raphael\\AppData\\Local\\Temp\\ipykernel_10340\\2136063693.py:28: FutureWarning: `tokenizer` is deprecated and will be removed in version 5.0.0 for `Trainer.__init__`. Use `processing_class` instead.\n",
      "  trainer_scibert = Trainer(\n"
     ]
    }
   ],
   "source": [
    "# Standard Setup for training a model with Huggingface Transformers\n",
    "from transformers import DataCollatorWithPadding\n",
    "from transformers import TrainingArguments, Trainer\n",
    "import evaluate\n",
    "import numpy as np\n",
    "\n",
    "data_collator = DataCollatorWithPadding(tokenizer=tokenizer)\n",
    "\n",
    "metric = evaluate.load(\"accuracy\")\n",
    "\n",
    "def compute_metrics(eval_pred):\n",
    "    logits, labels = eval_pred\n",
    "    predictions = np.argmax(logits, axis=-1)\n",
    "    return metric.compute(predictions=predictions, references=labels)\n",
    "\n",
    "training_args = TrainingArguments(\n",
    "    output_dir=\"./results\",\n",
    "    learning_rate=2e-5, # Specify learning rate for BERT\n",
    "    per_device_train_batch_size=8,\n",
    "    per_device_eval_batch_size=8,\n",
    "    num_train_epochs=5,\n",
    "    weight_decay=0.01,\n",
    "    logging_strategy=\"epoch\",\n",
    "    report_to=\"none\",\n",
    ")\n",
    "\n",
    "# Model specific setup\n",
    "trainer_scibert = Trainer(\n",
    "    model=model_scibert,\n",
    "    args=training_args,\n",
    "    train_dataset=tokenized_train,\n",
    "    eval_dataset=tokenized_test,\n",
    "    tokenizer=tokenizer,\n",
    "    data_collator=data_collator,\n",
    "    compute_metrics=compute_metrics\n",
    ")"
   ]
  },
  {
   "cell_type": "code",
   "execution_count": 63,
   "id": "a5e95551",
   "metadata": {},
   "outputs": [
    {
     "data": {
      "text/html": [
       "\n",
       "    <div>\n",
       "      \n",
       "      <progress value='140' max='140' style='width:300px; height:20px; vertical-align: middle;'></progress>\n",
       "      [140/140 00:54, Epoch 5/5]\n",
       "    </div>\n",
       "    <table border=\"1\" class=\"dataframe\">\n",
       "  <thead>\n",
       " <tr style=\"text-align: left;\">\n",
       "      <th>Step</th>\n",
       "      <th>Training Loss</th>\n",
       "    </tr>\n",
       "  </thead>\n",
       "  <tbody>\n",
       "    <tr>\n",
       "      <td>28</td>\n",
       "      <td>0.732700</td>\n",
       "    </tr>\n",
       "    <tr>\n",
       "      <td>56</td>\n",
       "      <td>0.707200</td>\n",
       "    </tr>\n",
       "    <tr>\n",
       "      <td>84</td>\n",
       "      <td>0.648400</td>\n",
       "    </tr>\n",
       "    <tr>\n",
       "      <td>112</td>\n",
       "      <td>0.552500</td>\n",
       "    </tr>\n",
       "    <tr>\n",
       "      <td>140</td>\n",
       "      <td>0.411500</td>\n",
       "    </tr>\n",
       "  </tbody>\n",
       "</table><p>"
      ],
      "text/plain": [
       "<IPython.core.display.HTML object>"
      ]
     },
     "metadata": {},
     "output_type": "display_data"
    },
    {
     "data": {
      "text/plain": [
       "TrainOutput(global_step=140, training_loss=0.6104704993111747, metrics={'train_runtime': 54.7121, 'train_samples_per_second': 20.471, 'train_steps_per_second': 2.559, 'total_flos': 159428855107200.0, 'train_loss': 0.6104704993111747, 'epoch': 5.0})"
      ]
     },
     "execution_count": 63,
     "metadata": {},
     "output_type": "execute_result"
    }
   ],
   "source": [
    "trainer_scibert.train()"
   ]
  },
  {
   "cell_type": "markdown",
   "id": "a224b6ad",
   "metadata": {},
   "source": [
    "#### 4.2.1 Save last model"
   ]
  },
  {
   "cell_type": "code",
   "execution_count": 64,
   "id": "9bd9ac48",
   "metadata": {},
   "outputs": [],
   "source": [
    "# trainer_scibert.save_model('scibert_model')"
   ]
  },
  {
   "cell_type": "markdown",
   "id": "707975b1",
   "metadata": {},
   "source": [
    "### 4.3 Evaluate model"
   ]
  },
  {
   "cell_type": "markdown",
   "id": "e3820bb0",
   "metadata": {},
   "source": [
    "#### 4.3.1 Predict training data"
   ]
  },
  {
   "cell_type": "code",
   "execution_count": 65,
   "id": "00fea5de",
   "metadata": {},
   "outputs": [
    {
     "data": {
      "text/html": [],
      "text/plain": [
       "<IPython.core.display.HTML object>"
      ]
     },
     "metadata": {},
     "output_type": "display_data"
    },
    {
     "name": "stdout",
     "output_type": "stream",
     "text": [
      "              precision    recall  f1-score   support\n",
      "\n",
      "           0       0.92      0.96      0.94       112\n",
      "           1       0.96      0.92      0.94       112\n",
      "\n",
      "    accuracy                           0.94       224\n",
      "   macro avg       0.94      0.94      0.94       224\n",
      "weighted avg       0.94      0.94      0.94       224\n",
      "\n"
     ]
    }
   ],
   "source": [
    "from sklearn.metrics import classification_report\n",
    "\n",
    "preds = trainer_scibert.predict(tokenized_train)\n",
    "preds = np.argmax(preds[:3][0],axis=1)\n",
    "GT = df_train['label'].tolist()\n",
    "print(classification_report(GT,preds))"
   ]
  },
  {
   "cell_type": "markdown",
   "id": "8660fc64",
   "metadata": {},
   "source": [
    "#### 4.3.2 Predict test data"
   ]
  },
  {
   "cell_type": "code",
   "execution_count": 66,
   "id": "7508859d",
   "metadata": {},
   "outputs": [
    {
     "data": {
      "text/html": [],
      "text/plain": [
       "<IPython.core.display.HTML object>"
      ]
     },
     "metadata": {},
     "output_type": "display_data"
    },
    {
     "name": "stdout",
     "output_type": "stream",
     "text": [
      "              precision    recall  f1-score   support\n",
      "\n",
      "           0       0.67      0.86      0.75        28\n",
      "           1       0.80      0.57      0.67        28\n",
      "\n",
      "    accuracy                           0.71        56\n",
      "   macro avg       0.73      0.71      0.71        56\n",
      "weighted avg       0.73      0.71      0.71        56\n",
      "\n"
     ]
    }
   ],
   "source": [
    "preds = trainer_scibert.predict(tokenized_test)\n",
    "preds = np.argmax(preds[:3][0],axis=1) #preds[:3][1]\n",
    "GT = df_test['label'].tolist()\n",
    "print(classification_report(GT,preds))"
   ]
  },
  {
   "cell_type": "markdown",
   "id": "0ce497a8",
   "metadata": {},
   "source": [
    "#### 4.3.3 Confusion-Matrix for test data"
   ]
  },
  {
   "cell_type": "code",
   "execution_count": 67,
   "id": "d93a5042",
   "metadata": {},
   "outputs": [
    {
     "data": {
      "image/png": "[encoded data removed]",
      "text/plain": [
       "<Figure size 600x500 with 2 Axes>"
      ]
     },
     "metadata": {},
     "output_type": "display_data"
    }
   ],
   "source": [
    "import seaborn as sns\n",
    "from sklearn.metrics import confusion_matrix\n",
    "\n",
    "import matplotlib.pyplot as plt\n",
    "\n",
    "# Use predictions and ground truth from previous evaluation on test set\n",
    "conf_matrix = confusion_matrix(GT, preds)\n",
    "\n",
    "plt.figure(figsize=(6,5))\n",
    "sns.heatmap(conf_matrix, annot=True, fmt='d', cmap='Blues',\n",
    "            xticklabels=[\"Predicted 0\", \"Predicted 1\"],\n",
    "            yticklabels=[\"Actual 0\", \"Actual 1\"])\n",
    "\n",
    "plt.xlabel('Predicted Label')\n",
    "plt.ylabel('True Label')\n",
    "plt.title('Confusion Matrix')\n",
    "plt.show()"
   ]
  },
  {
   "cell_type": "markdown",
   "id": "b87f39f9",
   "metadata": {},
   "source": [
    "#### 4.3.4 List of statements per category (TP, TN, FP, FN)"
   ]
  },
  {
   "cell_type": "code",
   "execution_count": 68,
   "id": "aafa1591",
   "metadata": {},
   "outputs": [],
   "source": [
    "# Get ground truth and predictions for test set\n",
    "y_true = df_test['label'].tolist()\n",
    "y_pred = preds\n",
    "\n",
    "# True Positives: predicted 1, actual 1\n",
    "true_positives = df_test[(df_test['label'] == 1) & (y_pred == 1)]\n",
    "\n",
    "# True Negatives: predicted 0, actual 0\n",
    "true_negatives = df_test[(df_test['label'] == 0) & (y_pred == 0)]\n",
    "\n",
    "# False Positives: predicted 1, actual 0\n",
    "false_positives = df_test[(df_test['label'] == 0) & (y_pred == 1)]\n",
    "\n",
    "# False Negatives: predicted 0, actual 1\n",
    "false_negatives = df_test[(df_test['label'] == 1) & (y_pred == 0)]\n",
    "\n",
    "# Function to print statements\n",
    "import pandas as pd\n",
    "from IPython.display import display\n",
    "\n",
    "def display_statements(df, title):\n",
    "    if not df.empty:\n",
    "        print(f\"\\n{title} (count: {len(df)})\")\n",
    "        display(df[['text']].reset_index(drop=True))\n",
    "    else:\n",
    "        print(f\"\\n{title}: None\")"
   ]
  },
  {
   "cell_type": "code",
   "execution_count": 69,
   "id": "86cda504",
   "metadata": {},
   "outputs": [
    {
     "name": "stdout",
     "output_type": "stream",
     "text": [
      "\n",
      "True Positives (predicted 1, actual 1) (count: 16)\n"
     ]
    },
    {
     "data": {
      "application/vnd.microsoft.datawrangler.viewer.v0+json": {
       "columns": [
        {
         "name": "index",
         "rawType": "int64",
         "type": "integer"
        },
        {
         "name": "text",
         "rawType": "object",
         "type": "string"
        }
       ],
       "ref": "b084f02d-598a-49d5-bfca-1bfb8f7f8d0f",
       "rows": [
        [
         "0",
         "The response latencies of the low-AQ and high-AQ groups were very similar to one another (low-AQ group: geometric mean = 17.7 s, 95% CI = [16.2, 19.3]; high-AQ group: geometric mean = 16.8 s, 95% CI = [15.7, 18.0]; b = -0.031, 95% CI = [-0.085, 0.024], p = .269), and although participants with shorter RTs were more likely to make decoy selections, b = -0.303, 95% CI = [-0.521, -0.083], p = .007, there was no association between response latency and the tendency to make consistent choices, b = -0.001, 95% CI = [-0.137, 0.135], p = .990, and controlling for response latency made very little difference to the effect of AQ group on choice consistency, b = 0.161, 95% CI = [0.013, 0.309], p = .033."
        ],
        [
         "1",
         "Participants of the stress groups (vs. control groups) felt less positive on Day 2, F(3, 89) = 3.27, p = .025, Î· p 2 = .10, but there were no differences between the informed and uninformed stress groups, t(46) = -0.11, p = .915, d = 0.03 (see Table S1 in the Supplemental Material)."
        ],
        [
         "2",
         "There was no main effect of channel-group laterality, F(1, 45) < 0.01, p = .960, Î· p Â² < .001."
        ],
        [
         "3",
         "Distance, Ï‡ 2 (1, N = 32) = 1.52, p = .217, did not improve model fit."
        ],
        [
         "4",
         "Consistent with study hypotheses emphasizing the importance of cumulative risk, there was not a main effect of treatment condition on epigenetic age acceleration at T3 (b = 0.14, p = .25, with iPCIT coded as 0 and RAU coded as 1)."
        ],
        [
         "5",
         "The results indicate that both participants in the fearchemosignal condition (M = 46.42, SD = 9.23) and the rest-body-odor condition (M = 45.22, SD = 10.62) counted a very similar number of bluefish consuming the food morsels (W = 7,538.50, p = .273), indicating that participants in both odor conditions were similarly engaged in the task."
        ],
        [
         "6",
         "For relative changes in pupil size, we obtained a main effect of word familiarity, F(1, 19) = 4.80, p = .04, Î· p 2 = .20, OP = .55 (pseudowords: M = 5.28%, SD = 4.34; real words: M = 4.13%, SD = 3.00), but not for length, F(1, 19) = 2.67, p = .12, Î· p 2 = .12, OP = .34 (five-letter strings: M = 4.97%, SD = 3.89; three-letter strings: M = 4.44%, SD = 3.35)."
        ],
        [
         "7",
         "Follow-up analyses showed that there was no Treatment Ã— Expectancy Violation interaction in the subcentral gyrus, F(1, 76) = 0.12, p = .726, Î· p 2 < .01; TPJ, F(1, 76) = 0.27, p = .606, Î· p 2 < .01; or dlPFC, F(1, 76) = 2.30, p = .13, Î· p 2 = .03."
        ],
        [
         "8",
         "Adding delay (15 s and 30 s) in the second model did not improve model fit, c 2 (1) = 0.88, p = .347, indicating that lemurs responded similarly to delay conditions."
        ],
        [
         "9",
         "As in Study 1, individuals' risk and social preferences were uncorrelated (Spearman's r = .03, p = .800)."
        ],
        [
         "10",
         "As expected, prior to the intervention (at baseline: Day 0), we confirmed that the two groups experienced a similar number of intrusive memories of the film in daily life, t(50) = 0.06, p = .95 (Fig. 1a)."
        ],
        [
         "11",
         "We next focused on report error and found a main effect of sound, F(2, 84) = 11.31, p < .001, Î· p 2 = .12; there was no main effect of sound onset (during or after visual discrimination), F(1, 84) = 0.16, p = .69, Î· p 2 = .001, and there was a significant interaction, F(2, 168) = 3.39, p = .036, Î· p 2 = .04."
        ],
        [
         "12",
         "Unlike the analyses using RT on search trials as the dependent variable, there was no main effect of real-time entropy on fixation time, F(1, 22,897.2) = 1.64, p = .20, Î² = -0.006, SE = 0.005."
        ],
        [
         "13",
         "There was no difference between adults who appealed to metaphors and adults who did not, t(62) = 1.40, p = .17."
        ],
        [
         "14",
         "The third model added the remaining task variables (right-ear syllables in the nonforced condition of the dichotic-listening task, mean span in the digit-span task, imagine-to-hear errors in the source-memory task) and did not improve on the signal detection model (p = .965)."
        ],
        [
         "15",
         "There was no effect of session for bimodal bilinguals (Î² = -0.50, SE = 1.52, z = -0.33, p = .74), indicating that the increase in semantically specific manual productions in bimodal bilinguals' descriptions was not due to or primed by describing similar pictures in an earlier session in NGT (for information on the order analysis, see the Supplemental Material)."
        ]
       ],
       "shape": {
        "columns": 1,
        "rows": 16
       }
      },
      "text/html": [
       "<div>\n",
       "<style scoped>\n",
       "    .dataframe tbody tr th:only-of-type {\n",
       "        vertical-align: middle;\n",
       "    }\n",
       "\n",
       "    .dataframe tbody tr th {\n",
       "        vertical-align: top;\n",
       "    }\n",
       "\n",
       "    .dataframe thead th {\n",
       "        text-align: right;\n",
       "    }\n",
       "</style>\n",
       "<table border=\"1\" class=\"dataframe\">\n",
       "  <thead>\n",
       "    <tr style=\"text-align: right;\">\n",
       "      <th></th>\n",
       "      <th>text</th>\n",
       "    </tr>\n",
       "  </thead>\n",
       "  <tbody>\n",
       "    <tr>\n",
       "      <th>0</th>\n",
       "      <td>The response latencies of the low-AQ and high-...</td>\n",
       "    </tr>\n",
       "    <tr>\n",
       "      <th>1</th>\n",
       "      <td>Participants of the stress groups (vs. control...</td>\n",
       "    </tr>\n",
       "    <tr>\n",
       "      <th>2</th>\n",
       "      <td>There was no main effect of channel-group late...</td>\n",
       "    </tr>\n",
       "    <tr>\n",
       "      <th>3</th>\n",
       "      <td>Distance, Ï‡ 2 (1, N = 32) = 1.52, p = .217, d...</td>\n",
       "    </tr>\n",
       "    <tr>\n",
       "      <th>4</th>\n",
       "      <td>Consistent with study hypotheses emphasizing t...</td>\n",
       "    </tr>\n",
       "    <tr>\n",
       "      <th>5</th>\n",
       "      <td>The results indicate that both participants in...</td>\n",
       "    </tr>\n",
       "    <tr>\n",
       "      <th>6</th>\n",
       "      <td>For relative changes in pupil size, we obtaine...</td>\n",
       "    </tr>\n",
       "    <tr>\n",
       "      <th>7</th>\n",
       "      <td>Follow-up analyses showed that there was no Tr...</td>\n",
       "    </tr>\n",
       "    <tr>\n",
       "      <th>8</th>\n",
       "      <td>Adding delay (15 s and 30 s) in the second mod...</td>\n",
       "    </tr>\n",
       "    <tr>\n",
       "      <th>9</th>\n",
       "      <td>As in Study 1, individuals' risk and social pr...</td>\n",
       "    </tr>\n",
       "    <tr>\n",
       "      <th>10</th>\n",
       "      <td>As expected, prior to the intervention (at bas...</td>\n",
       "    </tr>\n",
       "    <tr>\n",
       "      <th>11</th>\n",
       "      <td>We next focused on report error and found a ma...</td>\n",
       "    </tr>\n",
       "    <tr>\n",
       "      <th>12</th>\n",
       "      <td>Unlike the analyses using RT on search trials ...</td>\n",
       "    </tr>\n",
       "    <tr>\n",
       "      <th>13</th>\n",
       "      <td>There was no difference between adults who app...</td>\n",
       "    </tr>\n",
       "    <tr>\n",
       "      <th>14</th>\n",
       "      <td>The third model added the remaining task varia...</td>\n",
       "    </tr>\n",
       "    <tr>\n",
       "      <th>15</th>\n",
       "      <td>There was no effect of session for bimodal bil...</td>\n",
       "    </tr>\n",
       "  </tbody>\n",
       "</table>\n",
       "</div>"
      ],
      "text/plain": [
       "                                                 text\n",
       "0   The response latencies of the low-AQ and high-...\n",
       "1   Participants of the stress groups (vs. control...\n",
       "2   There was no main effect of channel-group late...\n",
       "3   Distance, Ï‡ 2 (1, N = 32) = 1.52, p = .217, d...\n",
       "4   Consistent with study hypotheses emphasizing t...\n",
       "5   The results indicate that both participants in...\n",
       "6   For relative changes in pupil size, we obtaine...\n",
       "7   Follow-up analyses showed that there was no Tr...\n",
       "8   Adding delay (15 s and 30 s) in the second mod...\n",
       "9   As in Study 1, individuals' risk and social pr...\n",
       "10  As expected, prior to the intervention (at bas...\n",
       "11  We next focused on report error and found a ma...\n",
       "12  Unlike the analyses using RT on search trials ...\n",
       "13  There was no difference between adults who app...\n",
       "14  The third model added the remaining task varia...\n",
       "15  There was no effect of session for bimodal bil..."
      ]
     },
     "metadata": {},
     "output_type": "display_data"
    }
   ],
   "source": [
    "display_statements(true_positives, \"True Positives (predicted 1, actual 1)\")"
   ]
  },
  {
   "cell_type": "code",
   "execution_count": 70,
   "id": "7a865798",
   "metadata": {},
   "outputs": [
    {
     "name": "stdout",
     "output_type": "stream",
     "text": [
      "\n",
      "True Negatives (predicted 0, actual 0) (count: 24)\n"
     ]
    },
    {
     "data": {
      "application/vnd.microsoft.datawrangler.viewer.v0+json": {
       "columns": [
        {
         "name": "index",
         "rawType": "int64",
         "type": "integer"
        },
        {
         "name": "text",
         "rawType": "object",
         "type": "string"
        }
       ],
       "ref": "71c3b2b4-9f53-41a8-bcfc-f02bf5612696",
       "rows": [
        [
         "0",
         "Overall, RT was on average slower when sounds were played during the continuous report phase compared with the visual discrimination phase, but this difference in RT (i.e., having target images with lower levels of noise) was not statistically significant, t(84) = 1.58, p = .12, Cohen's d z = 0.17, 95% CI = [-0.817, 0.475], BF 01 = 2.55, and the numerical difference in RT did not lead to a significant difference in report error across sound-onset conditions (Ms = 7.38 vs. 7.54), t(84) = 0.62, p = .54, Cohen's d z = 0.06, 95% CI = [-0.85, 0.725], BF 01 = 6.94."
        ],
        [
         "1",
         "We found a significant main effect of outcome, F(1, 37) = 6.72, p = .014, Î· p 2 = .154, but no main effect of frequency, F(1, 37) = 0.03, p = .858, Î· p 2 = .001."
        ],
        [
         "2",
         "Results revealed no significant relationship between age and enjoyment (Î² = -0.02, SE = 0.03, p = .576)."
        ],
        [
         "3",
         "Conversely, the interaction between KoR and SOC was nonsignificant in older adults' RTs, F(1, 49) = 0.00, p = .949, Î· p 2 = .000, but significant in older adults' accuracy, F(1, 49) = 9.07, p = .004, Î· p 2 = .156."
        ],
        [
         "4",
         "Participants in the ultimatum game were nonsignificantly less self-biased compared with participants in the dictator game in Study 1, and significantly so in Study 2, which was better powered to detect effects (Study 1: b game = 0.968, SE = 1.467, z = 0.660, two-tailed p = .509, r = .258, 95% CI = [-.465, .727]; Study 2: b game = 0.917, SE = 0.417, z = 2.202, preregistered one-tailed p = .014, r = .245, 95% CI = [.028, .431])."
        ],
        [
         "5",
         "The dyslexia (M = .87, SD = .05) and control (M = .88, SD = .04) groups did not significantly differ in their ability to discriminate sounds before category training, t(53) = 0.90, p = .37, d = 0.24."
        ],
        [
         "6",
         "For the recognition data, the NHST analysis showed no significant effects of state of mind on any of the measures of correct or false memories (lowest p = .077)."
        ],
        [
         "7",
         "In the current meta-analysis, however, there were no significant subgroup differences between preregistered and nonpreregistered experiments related to perceived scientific consensus, Q(1) = 2.95, p = .086, and factual beliefs, Q(1) = 1.45, p = .229."
        ],
        [
         "8",
         "When we compared directly, we found that in neither duration condition did participants show a significant bias for foreground targets-250 ms: t(47) = 0.636, p = .528, d = 0.14; 330 ms: t(47) = -1.50, p = .14, d = -0.32."
        ],
        [
         "9",
         "Here, too, the interaction effects were nonsignificant-perceived scientific consensus: b = -1.68, t(20) = -0.53, p = .600; factual beliefs: b = -0.95, t(23) = -0.90, p = .378."
        ],
        [
         "10",
         "In all these models, women were more likely to report higher fear intensity compared with men (Model 1a: Î² = 1.08, SE = 0.55, p = .054; Model 2a: Î² = 1.04, SE = 0.53, p = .051; Model 3a: Î² = 1.31, SE = 0.50, p = .011), whereas motivation (Model 1a: p = .158, Model 2a: p = .102, Model 3a: p = .090) and age (Model 1a: p = .680, Model 2a: p = .352, Model 3a: p = .117) showed no significant effects."
        ],
        [
         "11",
         "Withinpair linear regressions in identical twin pairs showed no significant effect of age of onset of musical training on musical aptitude (Î² = 0.00, p = .93)."
        ],
        [
         "12",
         "There was no significant Visual Cue Ã— Valence interaction, z = 0.75, exp(b) = 1.17, 95% CI = [0.78, 1.74], p = .450, or Visual Cue Ã— Neutral interaction, z = -1.18, exp(b) = 0.81, 95% CI = [0.58, 1.15], p = .239."
        ],
        [
         "13",
         "The moderator tests were nonsignificant for both perceived scientific consensus, b = -0.13, t(23) = -0.17, p = .870, and factual beliefs, b = -0.02, t(26) = -0.07, p = .943."
        ],
        [
         "14",
         "The three-way Configuration Ã— Decoy Ã— Choice interaction in a log linear analysis was nonsignificant, Ï‡ 2 (1, N = 768) = 2.85, p = .09."
        ],
        [
         "15",
         "Finally, we added relative height as a fixed factor to the intercept-only model, which showed that there was no significant relationship between relative height and coins kept for self in the ultimatum game, Wald Ï‡ 2 (1) = 0.42, b = 0.001, SE = 0.002, 95% CI = [-0.002, 0.005], p = .519 (QICc = 23.58)."
        ],
        [
         "16",
         "The main effect of congruence did not reach significance in Experiment 2 (p = .09; see Table 3)."
        ],
        [
         "17",
         "Congruent and incongruent negative evaluations did not differ significantly (p = .230)."
        ],
        [
         "18",
         "The effect of ValenceDiff varied significantly over domains in the CloudResearch sample, Ï‡ 2 (3) = 20.31, p < .001, but not in the student sample, Ï‡ 2 (3) = 2.04, p = .564."
        ],
        [
         "19",
         "Additionally, feeling small (added as a fixed factor to the interceptonly model) was not significantly related to behavior in the hot-sauce task, Wald Ï‡ 2 (1) = 0.63, b = -0.020, SE = 0.078, 95% CI = [-0.172, 0.133], p = .802 (QICc = 166.94)."
        ],
        [
         "20",
         "Regarding the main effect of task, smaller P1 amplitudes were found in the emotion task compared with the perceptual task (p = .038) and the age task (p = .002); the latter two did not differ significantly in amplitude from each other (p = .674)."
        ],
        [
         "21",
         "Indeed, there was no significant difference in accuracy between finding the longest line across the two experiments, t(72) = 1.91, p = .23, or for finding the shortest line, t(72) = 0.479, p = .96."
        ],
        [
         "22",
         "Similarly, within-pair analyses in identical pairs showed no significant effect of age of onset before the age of 8 years versus age of onset at age 8 years or later on musical aptitude (Î² = 0.02, p = .66; Î² = 0.03, p = .60 when analyses controlled for total practice)."
        ],
        [
         "23",
         "For the mid-scale questions, we found no difference between the self-and agreeingperspective conditions (d = 0.05, p = .39), whereas the benefit of averaging was again higher for participants in the disagreeing-perspective condition compared with the self-perspective (d = 0.28, p < .001) and agreeingperspective (d = 0.24, p < .001) conditions."
        ]
       ],
       "shape": {
        "columns": 1,
        "rows": 24
       }
      },
      "text/html": [
       "<div>\n",
       "<style scoped>\n",
       "    .dataframe tbody tr th:only-of-type {\n",
       "        vertical-align: middle;\n",
       "    }\n",
       "\n",
       "    .dataframe tbody tr th {\n",
       "        vertical-align: top;\n",
       "    }\n",
       "\n",
       "    .dataframe thead th {\n",
       "        text-align: right;\n",
       "    }\n",
       "</style>\n",
       "<table border=\"1\" class=\"dataframe\">\n",
       "  <thead>\n",
       "    <tr style=\"text-align: right;\">\n",
       "      <th></th>\n",
       "      <th>text</th>\n",
       "    </tr>\n",
       "  </thead>\n",
       "  <tbody>\n",
       "    <tr>\n",
       "      <th>0</th>\n",
       "      <td>Overall, RT was on average slower when sounds ...</td>\n",
       "    </tr>\n",
       "    <tr>\n",
       "      <th>1</th>\n",
       "      <td>We found a significant main effect of outcome,...</td>\n",
       "    </tr>\n",
       "    <tr>\n",
       "      <th>2</th>\n",
       "      <td>Results revealed no significant relationship b...</td>\n",
       "    </tr>\n",
       "    <tr>\n",
       "      <th>3</th>\n",
       "      <td>Conversely, the interaction between KoR and SO...</td>\n",
       "    </tr>\n",
       "    <tr>\n",
       "      <th>4</th>\n",
       "      <td>Participants in the ultimatum game were nonsig...</td>\n",
       "    </tr>\n",
       "    <tr>\n",
       "      <th>5</th>\n",
       "      <td>The dyslexia (M = .87, SD = .05) and control (...</td>\n",
       "    </tr>\n",
       "    <tr>\n",
       "      <th>6</th>\n",
       "      <td>For the recognition data, the NHST analysis sh...</td>\n",
       "    </tr>\n",
       "    <tr>\n",
       "      <th>7</th>\n",
       "      <td>In the current meta-analysis, however, there w...</td>\n",
       "    </tr>\n",
       "    <tr>\n",
       "      <th>8</th>\n",
       "      <td>When we compared directly, we found that in ne...</td>\n",
       "    </tr>\n",
       "    <tr>\n",
       "      <th>9</th>\n",
       "      <td>Here, too, the interaction effects were nonsig...</td>\n",
       "    </tr>\n",
       "    <tr>\n",
       "      <th>10</th>\n",
       "      <td>In all these models, women were more likely to...</td>\n",
       "    </tr>\n",
       "    <tr>\n",
       "      <th>11</th>\n",
       "      <td>Withinpair linear regressions in identical twi...</td>\n",
       "    </tr>\n",
       "    <tr>\n",
       "      <th>12</th>\n",
       "      <td>There was no significant Visual Cue Ã— Valence...</td>\n",
       "    </tr>\n",
       "    <tr>\n",
       "      <th>13</th>\n",
       "      <td>The moderator tests were nonsignificant for bo...</td>\n",
       "    </tr>\n",
       "    <tr>\n",
       "      <th>14</th>\n",
       "      <td>The three-way Configuration Ã— Decoy Ã— Choice...</td>\n",
       "    </tr>\n",
       "    <tr>\n",
       "      <th>15</th>\n",
       "      <td>Finally, we added relative height as a fixed f...</td>\n",
       "    </tr>\n",
       "    <tr>\n",
       "      <th>16</th>\n",
       "      <td>The main effect of congruence did not reach si...</td>\n",
       "    </tr>\n",
       "    <tr>\n",
       "      <th>17</th>\n",
       "      <td>Congruent and incongruent negative evaluations...</td>\n",
       "    </tr>\n",
       "    <tr>\n",
       "      <th>18</th>\n",
       "      <td>The effect of ValenceDiff varied significantly...</td>\n",
       "    </tr>\n",
       "    <tr>\n",
       "      <th>19</th>\n",
       "      <td>Additionally, feeling small (added as a fixed ...</td>\n",
       "    </tr>\n",
       "    <tr>\n",
       "      <th>20</th>\n",
       "      <td>Regarding the main effect of task, smaller P1 ...</td>\n",
       "    </tr>\n",
       "    <tr>\n",
       "      <th>21</th>\n",
       "      <td>Indeed, there was no significant difference in...</td>\n",
       "    </tr>\n",
       "    <tr>\n",
       "      <th>22</th>\n",
       "      <td>Similarly, within-pair analyses in identical p...</td>\n",
       "    </tr>\n",
       "    <tr>\n",
       "      <th>23</th>\n",
       "      <td>For the mid-scale questions, we found no diffe...</td>\n",
       "    </tr>\n",
       "  </tbody>\n",
       "</table>\n",
       "</div>"
      ],
      "text/plain": [
       "                                                 text\n",
       "0   Overall, RT was on average slower when sounds ...\n",
       "1   We found a significant main effect of outcome,...\n",
       "2   Results revealed no significant relationship b...\n",
       "3   Conversely, the interaction between KoR and SO...\n",
       "4   Participants in the ultimatum game were nonsig...\n",
       "5   The dyslexia (M = .87, SD = .05) and control (...\n",
       "6   For the recognition data, the NHST analysis sh...\n",
       "7   In the current meta-analysis, however, there w...\n",
       "8   When we compared directly, we found that in ne...\n",
       "9   Here, too, the interaction effects were nonsig...\n",
       "10  In all these models, women were more likely to...\n",
       "11  Withinpair linear regressions in identical twi...\n",
       "12  There was no significant Visual Cue Ã— Valence...\n",
       "13  The moderator tests were nonsignificant for bo...\n",
       "14  The three-way Configuration Ã— Decoy Ã— Choice...\n",
       "15  Finally, we added relative height as a fixed f...\n",
       "16  The main effect of congruence did not reach si...\n",
       "17  Congruent and incongruent negative evaluations...\n",
       "18  The effect of ValenceDiff varied significantly...\n",
       "19  Additionally, feeling small (added as a fixed ...\n",
       "20  Regarding the main effect of task, smaller P1 ...\n",
       "21  Indeed, there was no significant difference in...\n",
       "22  Similarly, within-pair analyses in identical p...\n",
       "23  For the mid-scale questions, we found no diffe..."
      ]
     },
     "metadata": {},
     "output_type": "display_data"
    }
   ],
   "source": [
    "display_statements(true_negatives, \"True Negatives (predicted 0, actual 0)\")"
   ]
  },
  {
   "cell_type": "code",
   "execution_count": 71,
   "id": "54082c37",
   "metadata": {},
   "outputs": [
    {
     "name": "stdout",
     "output_type": "stream",
     "text": [
      "\n",
      "False Positives (predicted 1, actual 0) (count: 4)\n"
     ]
    },
    {
     "data": {
      "application/vnd.microsoft.datawrangler.viewer.v0+json": {
       "columns": [
        {
         "name": "index",
         "rawType": "int64",
         "type": "integer"
        },
        {
         "name": "text",
         "rawType": "object",
         "type": "string"
        }
       ],
       "ref": "ad3c773a-6411-4387-b136-c633f875d7da",
       "rows": [
        [
         "0",
         "Although the PTSD group showed a significant facilitation effect (M = 5.9%), F(1, 15) = 7.525, p = .015, Î· p 2 = .334, and the control group did not (M = 2.8%, n.s.), there was no significant group difference in facilitation, F(1, 30) = 1.215, p = .279, Î· p 2 = .039 (Fig. 3a)."
        ],
        [
         "1",
         "The percentage of children who waited for the full 15-min period was not significantly different between these conditions (40% in the aware condition; 33% in the unaware/additional rewards condition; Mann-Whitney U test: Z = -0.53, p = .595), and a Mantel-Cox log rank test also indicated no difference between the conditions, Ï‡ 2 (1, N = 60) = 0.41, p = .525."
        ],
        [
         "2",
         "There was not a significant difference between the high-pitch and low-pitch conditions, t(27) = 1.03, p = .31, Cohen's d = 0.19, Bonferroni corrected."
        ],
        [
         "3",
         "The interaction between familiarity and length was nonsignificant as well, F(1, 19) = 0.30, p = .59, Î· p 2 = .02, OP = .08 (Table 2)."
        ]
       ],
       "shape": {
        "columns": 1,
        "rows": 4
       }
      },
      "text/html": [
       "<div>\n",
       "<style scoped>\n",
       "    .dataframe tbody tr th:only-of-type {\n",
       "        vertical-align: middle;\n",
       "    }\n",
       "\n",
       "    .dataframe tbody tr th {\n",
       "        vertical-align: top;\n",
       "    }\n",
       "\n",
       "    .dataframe thead th {\n",
       "        text-align: right;\n",
       "    }\n",
       "</style>\n",
       "<table border=\"1\" class=\"dataframe\">\n",
       "  <thead>\n",
       "    <tr style=\"text-align: right;\">\n",
       "      <th></th>\n",
       "      <th>text</th>\n",
       "    </tr>\n",
       "  </thead>\n",
       "  <tbody>\n",
       "    <tr>\n",
       "      <th>0</th>\n",
       "      <td>Although the PTSD group showed a significant f...</td>\n",
       "    </tr>\n",
       "    <tr>\n",
       "      <th>1</th>\n",
       "      <td>The percentage of children who waited for the ...</td>\n",
       "    </tr>\n",
       "    <tr>\n",
       "      <th>2</th>\n",
       "      <td>There was not a significant difference between...</td>\n",
       "    </tr>\n",
       "    <tr>\n",
       "      <th>3</th>\n",
       "      <td>The interaction between familiarity and length...</td>\n",
       "    </tr>\n",
       "  </tbody>\n",
       "</table>\n",
       "</div>"
      ],
      "text/plain": [
       "                                                text\n",
       "0  Although the PTSD group showed a significant f...\n",
       "1  The percentage of children who waited for the ...\n",
       "2  There was not a significant difference between...\n",
       "3  The interaction between familiarity and length..."
      ]
     },
     "metadata": {},
     "output_type": "display_data"
    }
   ],
   "source": [
    "display_statements(false_positives, \"False Positives (predicted 1, actual 0)\")"
   ]
  },
  {
   "cell_type": "code",
   "execution_count": 72,
   "id": "9e2a577a",
   "metadata": {},
   "outputs": [
    {
     "name": "stdout",
     "output_type": "stream",
     "text": [
      "\n",
      "False Negatives (predicted 0, actual 1) (count: 12)\n"
     ]
    },
    {
     "data": {
      "application/vnd.microsoft.datawrangler.viewer.v0+json": {
       "columns": [
        {
         "name": "index",
         "rawType": "int64",
         "type": "integer"
        },
        {
         "name": "text",
         "rawType": "object",
         "type": "string"
        }
       ],
       "ref": "018e089d-b7e3-4217-96f3-f8b9658f4ed3",
       "rows": [
        [
         "0",
         "Risk taking did not differ between participants who received a placebo and those who received atomoxetine (b = 0.02, SE = 0.02, p = .295)."
        ],
        [
         "1",
         "There was a significant effect of feeling small on the number of coins given away in the dictator game, Wald Ï‡ 2 (1) = 4.85, p = .028, while participant sex did not predict coin allocation, Wald Ï‡ 2 (1) = .18, p = .673."
        ],
        [
         "2",
         "Paired t tests showed that only for the neutral stimuli, there was a recognition deficit for Black faces relative to White faces (an ORE), t(198) = 4.25, p < .001, Cohen's d z = 0.30, 95% CI = [0.16, 0.44], whereas the same was not true for angry faces for which the effect was even in the descriptively opposite direction, t(198) = -0.92, p = .357, Cohen's d z = -0.07."
        ],
        [
         "3",
         "Correlations between dizygotic twins did not differ from correlations between twins and siblings-drug condemnation: Ï‡ 2 (1) = 2.93, p = .09; sociosexuality: Ï‡ 2 (1) = 5.15, p = .02; sexual-disgust sensitivity: Ï‡ 2 (1) = 0.89, p = .34."
        ],
        [
         "4",
         "Accuracy (proportion of correct responses) did not differ between the overt-attention (M = .85, SD = .13) and covert-attention (M = .86, SD = .11) blocks, F(1, 23) = 0.23, p = .636, Î· p 2 = .01."
        ],
        [
         "5",
         "There were no differences between groups in overall mean ratings of positivity in either the self or other condition, as both younger adults (self: M = 7.39, SD = 1.36; other: M = 6.79, SD = 1.61), t(94) = 3.29, p = .001, d = 0.34, 95% CI = [0.13, 0.55], and older adults (self: M = 7.46, SD = 1.27; other: M = 7.13, SD = 1.47), t(90) = 2.75, p = .007, d = 0.29, 95% CI = [0.08, 0.50], reported feeling more positive when winning credits for themselves compared with others (there was no significant interaction between groups; z = -1.596, p = .111)."
        ],
        [
         "6",
         "First, participant height (added as a fixed factor to the intercept-only model) had no effect on aggressive behavior, Wald Ï‡ 2 (1) = 0.10, b = -0.024, SE = 0.074, 95% CI = [-0.169, 0.122], p = .749 (QICc = 166.91)."
        ],
        [
         "7",
         "When participants made large errors on previous trials, their encoding speed on subsequent trials was the same, or if anything slightly lower (Î² = -0.121, t = -1.69, p = .094, BF 10 = 0.374, Î”BIC = -1.98; see Fig."
        ],
        [
         "8",
         "Similarly, for inverted scenes, categorization accuracy was comparable across high (M = 0.82, SD = 0.14) and low (M = 0.81, SD = 0.85) aesthetic conditions, F(1, 98) = 0.21, p = .647 (high vs. low aesthetic condition difference = .015, 95% CI = [-.051, .082])."
        ],
        [
         "9",
         "A control model additionally revealed a main effect of gender on first donations, Ï‡ 2 (1) = 7.87, p = .005, which did not interact with age, Ï‡ 2 (2) = 1.30, p = .521."
        ],
        [
         "10",
         "However, there was no performance difference between the two conditions for 4-year-olds, t(62) = 1.67, p = .10, and 3-year-olds, t(62) = 0.96, p = .34."
        ],
        [
         "11",
         "Furthermore, we found that the nudge was effective for participants who did not vote for Donald Trump in the 2016 elections, Î² = 0.0231, 95% CI = [0.079, 0.039], F(3, 32490) = 6.58, p = .003, but not for participants who did vote for Trump, Î² = 0.00376, 95% CI = [-0.013, 0.020], F(3, 15000) = 0.12, p = .653."
        ]
       ],
       "shape": {
        "columns": 1,
        "rows": 12
       }
      },
      "text/html": [
       "<div>\n",
       "<style scoped>\n",
       "    .dataframe tbody tr th:only-of-type {\n",
       "        vertical-align: middle;\n",
       "    }\n",
       "\n",
       "    .dataframe tbody tr th {\n",
       "        vertical-align: top;\n",
       "    }\n",
       "\n",
       "    .dataframe thead th {\n",
       "        text-align: right;\n",
       "    }\n",
       "</style>\n",
       "<table border=\"1\" class=\"dataframe\">\n",
       "  <thead>\n",
       "    <tr style=\"text-align: right;\">\n",
       "      <th></th>\n",
       "      <th>text</th>\n",
       "    </tr>\n",
       "  </thead>\n",
       "  <tbody>\n",
       "    <tr>\n",
       "      <th>0</th>\n",
       "      <td>Risk taking did not differ between participant...</td>\n",
       "    </tr>\n",
       "    <tr>\n",
       "      <th>1</th>\n",
       "      <td>There was a significant effect of feeling smal...</td>\n",
       "    </tr>\n",
       "    <tr>\n",
       "      <th>2</th>\n",
       "      <td>Paired t tests showed that only for the neutra...</td>\n",
       "    </tr>\n",
       "    <tr>\n",
       "      <th>3</th>\n",
       "      <td>Correlations between dizygotic twins did not d...</td>\n",
       "    </tr>\n",
       "    <tr>\n",
       "      <th>4</th>\n",
       "      <td>Accuracy (proportion of correct responses) did...</td>\n",
       "    </tr>\n",
       "    <tr>\n",
       "      <th>5</th>\n",
       "      <td>There were no differences between groups in ov...</td>\n",
       "    </tr>\n",
       "    <tr>\n",
       "      <th>6</th>\n",
       "      <td>First, participant height (added as a fixed fa...</td>\n",
       "    </tr>\n",
       "    <tr>\n",
       "      <th>7</th>\n",
       "      <td>When participants made large errors on previou...</td>\n",
       "    </tr>\n",
       "    <tr>\n",
       "      <th>8</th>\n",
       "      <td>Similarly, for inverted scenes, categorization...</td>\n",
       "    </tr>\n",
       "    <tr>\n",
       "      <th>9</th>\n",
       "      <td>A control model additionally revealed a main e...</td>\n",
       "    </tr>\n",
       "    <tr>\n",
       "      <th>10</th>\n",
       "      <td>However, there was no performance difference b...</td>\n",
       "    </tr>\n",
       "    <tr>\n",
       "      <th>11</th>\n",
       "      <td>Furthermore, we found that the nudge was effec...</td>\n",
       "    </tr>\n",
       "  </tbody>\n",
       "</table>\n",
       "</div>"
      ],
      "text/plain": [
       "                                                 text\n",
       "0   Risk taking did not differ between participant...\n",
       "1   There was a significant effect of feeling smal...\n",
       "2   Paired t tests showed that only for the neutra...\n",
       "3   Correlations between dizygotic twins did not d...\n",
       "4   Accuracy (proportion of correct responses) did...\n",
       "5   There were no differences between groups in ov...\n",
       "6   First, participant height (added as a fixed fa...\n",
       "7   When participants made large errors on previou...\n",
       "8   Similarly, for inverted scenes, categorization...\n",
       "9   A control model additionally revealed a main e...\n",
       "10  However, there was no performance difference b...\n",
       "11  Furthermore, we found that the nudge was effec..."
      ]
     },
     "metadata": {},
     "output_type": "display_data"
    }
   ],
   "source": [
    "display_statements(false_negatives, \"False Negatives (predicted 0, actual 1)\")"
   ]
  },
  {
   "cell_type": "markdown",
   "id": "71cff6f0",
   "metadata": {},
   "source": [
    "## 5. PubMedBERT"
   ]
  },
  {
   "cell_type": "markdown",
   "id": "9c428b2a",
   "metadata": {},
   "source": [
    "### 5.1 Initializing PubMedBERT"
   ]
  },
  {
   "cell_type": "code",
   "execution_count": 73,
   "id": "bad4fa17",
   "metadata": {},
   "outputs": [
    {
     "name": "stderr",
     "output_type": "stream",
     "text": [
      "Some weights of BertForSequenceClassification were not initialized from the model checkpoint at microsoft/BiomedNLP-PubMedBERT-base-uncased-abstract and are newly initialized: ['classifier.bias', 'classifier.weight']\n",
      "You should probably TRAIN this model on a down-stream task to be able to use it for predictions and inference.\n"
     ]
    }
   ],
   "source": [
    "from transformers import AutoModelForSequenceClassification\n",
    "\n",
    "model_pubmedbert = AutoModelForSequenceClassification.from_pretrained(\"microsoft/BiomedNLP-PubMedBERT-base-uncased-abstract\", num_labels=num_labels, trust_remote_code=True,\n",
    "    use_safetensors=True)"
   ]
  },
  {
   "cell_type": "markdown",
   "id": "7e9ebff5",
   "metadata": {},
   "source": [
    "### 5.2 Training PubMedBERT"
   ]
  },
  {
   "cell_type": "code",
   "execution_count": 74,
   "id": "2267abfa",
   "metadata": {},
   "outputs": [
    {
     "name": "stderr",
     "output_type": "stream",
     "text": [
      "C:\\Users\\Raphael\\AppData\\Local\\Temp\\ipykernel_10340\\2526163365.py:28: FutureWarning: `tokenizer` is deprecated and will be removed in version 5.0.0 for `Trainer.__init__`. Use `processing_class` instead.\n",
      "  trainer_pubmedbert = Trainer(\n"
     ]
    }
   ],
   "source": [
    "# Standard Setup for training a model with Huggingface Transformers\n",
    "from transformers import DataCollatorWithPadding\n",
    "from transformers import TrainingArguments, Trainer\n",
    "import evaluate\n",
    "import numpy as np\n",
    "\n",
    "data_collator = DataCollatorWithPadding(tokenizer=tokenizer)\n",
    "\n",
    "metric = evaluate.load(\"accuracy\")\n",
    "\n",
    "def compute_metrics(eval_pred):\n",
    "    logits, labels = eval_pred\n",
    "    predictions = np.argmax(logits, axis=-1)\n",
    "    return metric.compute(predictions=predictions, references=labels)\n",
    "\n",
    "training_args = TrainingArguments(\n",
    "    output_dir=\"./results\",\n",
    "    learning_rate=2e-5, # Specify learning rate for BERT\n",
    "    per_device_train_batch_size=8,\n",
    "    per_device_eval_batch_size=8,\n",
    "    num_train_epochs=5,\n",
    "    weight_decay=0.01,\n",
    "    logging_strategy=\"epoch\",\n",
    "    report_to=\"none\",\n",
    ")\n",
    "\n",
    "# Model specific setup\n",
    "trainer_pubmedbert = Trainer(\n",
    "    model=model_pubmedbert,\n",
    "    args=training_args,\n",
    "    train_dataset=tokenized_train,\n",
    "    eval_dataset=tokenized_test,\n",
    "    tokenizer=tokenizer,\n",
    "    data_collator=data_collator,\n",
    "    compute_metrics=compute_metrics\n",
    ")"
   ]
  },
  {
   "cell_type": "code",
   "execution_count": 75,
   "id": "ab958240",
   "metadata": {},
   "outputs": [
    {
     "data": {
      "text/html": [
       "\n",
       "    <div>\n",
       "      \n",
       "      <progress value='140' max='140' style='width:300px; height:20px; vertical-align: middle;'></progress>\n",
       "      [140/140 00:54, Epoch 5/5]\n",
       "    </div>\n",
       "    <table border=\"1\" class=\"dataframe\">\n",
       "  <thead>\n",
       " <tr style=\"text-align: left;\">\n",
       "      <th>Step</th>\n",
       "      <th>Training Loss</th>\n",
       "    </tr>\n",
       "  </thead>\n",
       "  <tbody>\n",
       "    <tr>\n",
       "      <td>28</td>\n",
       "      <td>0.749600</td>\n",
       "    </tr>\n",
       "    <tr>\n",
       "      <td>56</td>\n",
       "      <td>0.692200</td>\n",
       "    </tr>\n",
       "    <tr>\n",
       "      <td>84</td>\n",
       "      <td>0.588600</td>\n",
       "    </tr>\n",
       "    <tr>\n",
       "      <td>112</td>\n",
       "      <td>0.403400</td>\n",
       "    </tr>\n",
       "    <tr>\n",
       "      <td>140</td>\n",
       "      <td>0.267200</td>\n",
       "    </tr>\n",
       "  </tbody>\n",
       "</table><p>"
      ],
      "text/plain": [
       "<IPython.core.display.HTML object>"
      ]
     },
     "metadata": {},
     "output_type": "display_data"
    },
    {
     "data": {
      "text/plain": [
       "TrainOutput(global_step=140, training_loss=0.5401743820735386, metrics={'train_runtime': 55.1234, 'train_samples_per_second': 20.318, 'train_steps_per_second': 2.54, 'total_flos': 159428855107200.0, 'train_loss': 0.5401743820735386, 'epoch': 5.0})"
      ]
     },
     "execution_count": 75,
     "metadata": {},
     "output_type": "execute_result"
    }
   ],
   "source": [
    "trainer_pubmedbert.train()"
   ]
  },
  {
   "cell_type": "markdown",
   "id": "5594bfed",
   "metadata": {},
   "source": [
    "#### 5.2.1 Save last model"
   ]
  },
  {
   "cell_type": "code",
   "execution_count": 76,
   "id": "3c1cbb46",
   "metadata": {},
   "outputs": [],
   "source": [
    "# trainer_pubmedbert.save_model('pubmedbert_model')"
   ]
  },
  {
   "cell_type": "markdown",
   "id": "9c8db9d9",
   "metadata": {},
   "source": [
    "### 5.3 Evaluate model"
   ]
  },
  {
   "cell_type": "markdown",
   "id": "1e33832b",
   "metadata": {},
   "source": [
    "#### 5.3.1 Predict training data"
   ]
  },
  {
   "cell_type": "code",
   "execution_count": 77,
   "id": "5d6b24ef",
   "metadata": {},
   "outputs": [
    {
     "data": {
      "text/html": [],
      "text/plain": [
       "<IPython.core.display.HTML object>"
      ]
     },
     "metadata": {},
     "output_type": "display_data"
    },
    {
     "name": "stdout",
     "output_type": "stream",
     "text": [
      "              precision    recall  f1-score   support\n",
      "\n",
      "           0       0.95      0.95      0.95       112\n",
      "           1       0.95      0.96      0.95       112\n",
      "\n",
      "    accuracy                           0.95       224\n",
      "   macro avg       0.95      0.95      0.95       224\n",
      "weighted avg       0.95      0.95      0.95       224\n",
      "\n"
     ]
    }
   ],
   "source": [
    "from sklearn.metrics import classification_report\n",
    "\n",
    "preds = trainer_pubmedbert.predict(tokenized_train)\n",
    "preds = np.argmax(preds[:3][0],axis=1)\n",
    "GT = df_train['label'].tolist()\n",
    "print(classification_report(GT,preds))"
   ]
  },
  {
   "cell_type": "markdown",
   "id": "80987cf0",
   "metadata": {},
   "source": [
    "#### 5.3.2 Predict test data"
   ]
  },
  {
   "cell_type": "code",
   "execution_count": 78,
   "id": "48c9951c",
   "metadata": {},
   "outputs": [
    {
     "data": {
      "text/html": [],
      "text/plain": [
       "<IPython.core.display.HTML object>"
      ]
     },
     "metadata": {},
     "output_type": "display_data"
    },
    {
     "name": "stdout",
     "output_type": "stream",
     "text": [
      "              precision    recall  f1-score   support\n",
      "\n",
      "           0       0.69      0.64      0.67        28\n",
      "           1       0.67      0.71      0.69        28\n",
      "\n",
      "    accuracy                           0.68        56\n",
      "   macro avg       0.68      0.68      0.68        56\n",
      "weighted avg       0.68      0.68      0.68        56\n",
      "\n"
     ]
    }
   ],
   "source": [
    "preds = trainer_pubmedbert.predict(tokenized_test)\n",
    "preds = np.argmax(preds[:3][0],axis=1) #preds[:3][1]\n",
    "GT = df_test['label'].tolist()\n",
    "print(classification_report(GT,preds))"
   ]
  },
  {
   "cell_type": "markdown",
   "id": "87531bf7",
   "metadata": {},
   "source": [
    "#### 5.3.3 Confusion-Matrix for test data"
   ]
  },
  {
   "cell_type": "code",
   "execution_count": 79,
   "id": "23150c6a",
   "metadata": {},
   "outputs": [
    {
     "data": {
      "image/png": "[encoded data removed]",
      "text/plain": [
       "<Figure size 600x500 with 2 Axes>"
      ]
     },
     "metadata": {},
     "output_type": "display_data"
    }
   ],
   "source": [
    "import seaborn as sns\n",
    "from sklearn.metrics import confusion_matrix\n",
    "\n",
    "import matplotlib.pyplot as plt\n",
    "\n",
    "# Use predictions and ground truth from previous evaluation on test set\n",
    "conf_matrix = confusion_matrix(GT, preds)\n",
    "\n",
    "plt.figure(figsize=(6,5))\n",
    "sns.heatmap(conf_matrix, annot=True, fmt='d', cmap='Blues',\n",
    "            xticklabels=[\"Predicted 0\", \"Predicted 1\"],\n",
    "            yticklabels=[\"Actual 0\", \"Actual 1\"])\n",
    "\n",
    "plt.xlabel('Predicted Label')\n",
    "plt.ylabel('True Label')\n",
    "plt.title('Confusion Matrix')\n",
    "plt.show()"
   ]
  },
  {
   "cell_type": "markdown",
   "id": "b3c7b298",
   "metadata": {},
   "source": [
    "#### 5.3.4 List of statements per category (TP, TN, FP, FN)"
   ]
  },
  {
   "cell_type": "code",
   "execution_count": 80,
   "id": "eb52ce80",
   "metadata": {},
   "outputs": [],
   "source": [
    "# Get ground truth and predictions for test set\n",
    "y_true = df_test['label'].tolist()\n",
    "y_pred = preds\n",
    "\n",
    "# True Positives: predicted 1, actual 1\n",
    "true_positives = df_test[(df_test['label'] == 1) & (y_pred == 1)]\n",
    "\n",
    "# True Negatives: predicted 0, actual 0\n",
    "true_negatives = df_test[(df_test['label'] == 0) & (y_pred == 0)]\n",
    "\n",
    "# False Positives: predicted 1, actual 0\n",
    "false_positives = df_test[(df_test['label'] == 0) & (y_pred == 1)]\n",
    "\n",
    "# False Negatives: predicted 0, actual 1\n",
    "false_negatives = df_test[(df_test['label'] == 1) & (y_pred == 0)]\n",
    "\n",
    "# Function to print statements\n",
    "import pandas as pd\n",
    "from IPython.display import display\n",
    "\n",
    "def display_statements(df, title):\n",
    "    if not df.empty:\n",
    "        print(f\"\\n{title} (count: {len(df)})\")\n",
    "        display(df[['text']].reset_index(drop=True))\n",
    "    else:\n",
    "        print(f\"\\n{title}: None\")"
   ]
  },
  {
   "cell_type": "code",
   "execution_count": 81,
   "id": "8be49625",
   "metadata": {},
   "outputs": [
    {
     "name": "stdout",
     "output_type": "stream",
     "text": [
      "\n",
      "True Positives (predicted 1, actual 1) (count: 20)\n"
     ]
    },
    {
     "data": {
      "application/vnd.microsoft.datawrangler.viewer.v0+json": {
       "columns": [
        {
         "name": "index",
         "rawType": "int64",
         "type": "integer"
        },
        {
         "name": "text",
         "rawType": "object",
         "type": "string"
        }
       ],
       "ref": "73b31a94-d671-4f03-a207-6ddad31b0fde",
       "rows": [
        [
         "0",
         "The response latencies of the low-AQ and high-AQ groups were very similar to one another (low-AQ group: geometric mean = 17.7 s, 95% CI = [16.2, 19.3]; high-AQ group: geometric mean = 16.8 s, 95% CI = [15.7, 18.0]; b = -0.031, 95% CI = [-0.085, 0.024], p = .269), and although participants with shorter RTs were more likely to make decoy selections, b = -0.303, 95% CI = [-0.521, -0.083], p = .007, there was no association between response latency and the tendency to make consistent choices, b = -0.001, 95% CI = [-0.137, 0.135], p = .990, and controlling for response latency made very little difference to the effect of AQ group on choice consistency, b = 0.161, 95% CI = [0.013, 0.309], p = .033."
        ],
        [
         "1",
         "Participants of the stress groups (vs. control groups) felt less positive on Day 2, F(3, 89) = 3.27, p = .025, Î· p 2 = .10, but there were no differences between the informed and uninformed stress groups, t(46) = -0.11, p = .915, d = 0.03 (see Table S1 in the Supplemental Material)."
        ],
        [
         "2",
         "There was no main effect of channel-group laterality, F(1, 45) < 0.01, p = .960, Î· p Â² < .001."
        ],
        [
         "3",
         "Distance, Ï‡ 2 (1, N = 32) = 1.52, p = .217, did not improve model fit."
        ],
        [
         "4",
         "Consistent with study hypotheses emphasizing the importance of cumulative risk, there was not a main effect of treatment condition on epigenetic age acceleration at T3 (b = 0.14, p = .25, with iPCIT coded as 0 and RAU coded as 1)."
        ],
        [
         "5",
         "There was a significant effect of feeling small on the number of coins given away in the dictator game, Wald Ï‡ 2 (1) = 4.85, p = .028, while participant sex did not predict coin allocation, Wald Ï‡ 2 (1) = .18, p = .673."
        ],
        [
         "6",
         "The results indicate that both participants in the fearchemosignal condition (M = 46.42, SD = 9.23) and the rest-body-odor condition (M = 45.22, SD = 10.62) counted a very similar number of bluefish consuming the food morsels (W = 7,538.50, p = .273), indicating that participants in both odor conditions were similarly engaged in the task."
        ],
        [
         "7",
         "For relative changes in pupil size, we obtained a main effect of word familiarity, F(1, 19) = 4.80, p = .04, Î· p 2 = .20, OP = .55 (pseudowords: M = 5.28%, SD = 4.34; real words: M = 4.13%, SD = 3.00), but not for length, F(1, 19) = 2.67, p = .12, Î· p 2 = .12, OP = .34 (five-letter strings: M = 4.97%, SD = 3.89; three-letter strings: M = 4.44%, SD = 3.35)."
        ],
        [
         "8",
         "Follow-up analyses showed that there was no Treatment Ã— Expectancy Violation interaction in the subcentral gyrus, F(1, 76) = 0.12, p = .726, Î· p 2 < .01; TPJ, F(1, 76) = 0.27, p = .606, Î· p 2 < .01; or dlPFC, F(1, 76) = 2.30, p = .13, Î· p 2 = .03."
        ],
        [
         "9",
         "Correlations between dizygotic twins did not differ from correlations between twins and siblings-drug condemnation: Ï‡ 2 (1) = 2.93, p = .09; sociosexuality: Ï‡ 2 (1) = 5.15, p = .02; sexual-disgust sensitivity: Ï‡ 2 (1) = 0.89, p = .34."
        ],
        [
         "10",
         "Accuracy (proportion of correct responses) did not differ between the overt-attention (M = .85, SD = .13) and covert-attention (M = .86, SD = .11) blocks, F(1, 23) = 0.23, p = .636, Î· p 2 = .01."
        ],
        [
         "11",
         "Adding delay (15 s and 30 s) in the second model did not improve model fit, c 2 (1) = 0.88, p = .347, indicating that lemurs responded similarly to delay conditions."
        ],
        [
         "12",
         "First, participant height (added as a fixed factor to the intercept-only model) had no effect on aggressive behavior, Wald Ï‡ 2 (1) = 0.10, b = -0.024, SE = 0.074, 95% CI = [-0.169, 0.122], p = .749 (QICc = 166.91)."
        ],
        [
         "13",
         "When participants made large errors on previous trials, their encoding speed on subsequent trials was the same, or if anything slightly lower (Î² = -0.121, t = -1.69, p = .094, BF 10 = 0.374, Î”BIC = -1.98; see Fig."
        ],
        [
         "14",
         "As expected, prior to the intervention (at baseline: Day 0), we confirmed that the two groups experienced a similar number of intrusive memories of the film in daily life, t(50) = 0.06, p = .95 (Fig. 1a)."
        ],
        [
         "15",
         "Similarly, for inverted scenes, categorization accuracy was comparable across high (M = 0.82, SD = 0.14) and low (M = 0.81, SD = 0.85) aesthetic conditions, F(1, 98) = 0.21, p = .647 (high vs. low aesthetic condition difference = .015, 95% CI = [-.051, .082])."
        ],
        [
         "16",
         "However, there was no performance difference between the two conditions for 4-year-olds, t(62) = 1.67, p = .10, and 3-year-olds, t(62) = 0.96, p = .34."
        ],
        [
         "17",
         "There was no difference between adults who appealed to metaphors and adults who did not, t(62) = 1.40, p = .17."
        ],
        [
         "18",
         "The third model added the remaining task variables (right-ear syllables in the nonforced condition of the dichotic-listening task, mean span in the digit-span task, imagine-to-hear errors in the source-memory task) and did not improve on the signal detection model (p = .965)."
        ],
        [
         "19",
         "There was no effect of session for bimodal bilinguals (Î² = -0.50, SE = 1.52, z = -0.33, p = .74), indicating that the increase in semantically specific manual productions in bimodal bilinguals' descriptions was not due to or primed by describing similar pictures in an earlier session in NGT (for information on the order analysis, see the Supplemental Material)."
        ]
       ],
       "shape": {
        "columns": 1,
        "rows": 20
       }
      },
      "text/html": [
       "<div>\n",
       "<style scoped>\n",
       "    .dataframe tbody tr th:only-of-type {\n",
       "        vertical-align: middle;\n",
       "    }\n",
       "\n",
       "    .dataframe tbody tr th {\n",
       "        vertical-align: top;\n",
       "    }\n",
       "\n",
       "    .dataframe thead th {\n",
       "        text-align: right;\n",
       "    }\n",
       "</style>\n",
       "<table border=\"1\" class=\"dataframe\">\n",
       "  <thead>\n",
       "    <tr style=\"text-align: right;\">\n",
       "      <th></th>\n",
       "      <th>text</th>\n",
       "    </tr>\n",
       "  </thead>\n",
       "  <tbody>\n",
       "    <tr>\n",
       "      <th>0</th>\n",
       "      <td>The response latencies of the low-AQ and high-...</td>\n",
       "    </tr>\n",
       "    <tr>\n",
       "      <th>1</th>\n",
       "      <td>Participants of the stress groups (vs. control...</td>\n",
       "    </tr>\n",
       "    <tr>\n",
       "      <th>2</th>\n",
       "      <td>There was no main effect of channel-group late...</td>\n",
       "    </tr>\n",
       "    <tr>\n",
       "      <th>3</th>\n",
       "      <td>Distance, Ï‡ 2 (1, N = 32) = 1.52, p = .217, d...</td>\n",
       "    </tr>\n",
       "    <tr>\n",
       "      <th>4</th>\n",
       "      <td>Consistent with study hypotheses emphasizing t...</td>\n",
       "    </tr>\n",
       "    <tr>\n",
       "      <th>5</th>\n",
       "      <td>There was a significant effect of feeling smal...</td>\n",
       "    </tr>\n",
       "    <tr>\n",
       "      <th>6</th>\n",
       "      <td>The results indicate that both participants in...</td>\n",
       "    </tr>\n",
       "    <tr>\n",
       "      <th>7</th>\n",
       "      <td>For relative changes in pupil size, we obtaine...</td>\n",
       "    </tr>\n",
       "    <tr>\n",
       "      <th>8</th>\n",
       "      <td>Follow-up analyses showed that there was no Tr...</td>\n",
       "    </tr>\n",
       "    <tr>\n",
       "      <th>9</th>\n",
       "      <td>Correlations between dizygotic twins did not d...</td>\n",
       "    </tr>\n",
       "    <tr>\n",
       "      <th>10</th>\n",
       "      <td>Accuracy (proportion of correct responses) did...</td>\n",
       "    </tr>\n",
       "    <tr>\n",
       "      <th>11</th>\n",
       "      <td>Adding delay (15 s and 30 s) in the second mod...</td>\n",
       "    </tr>\n",
       "    <tr>\n",
       "      <th>12</th>\n",
       "      <td>First, participant height (added as a fixed fa...</td>\n",
       "    </tr>\n",
       "    <tr>\n",
       "      <th>13</th>\n",
       "      <td>When participants made large errors on previou...</td>\n",
       "    </tr>\n",
       "    <tr>\n",
       "      <th>14</th>\n",
       "      <td>As expected, prior to the intervention (at bas...</td>\n",
       "    </tr>\n",
       "    <tr>\n",
       "      <th>15</th>\n",
       "      <td>Similarly, for inverted scenes, categorization...</td>\n",
       "    </tr>\n",
       "    <tr>\n",
       "      <th>16</th>\n",
       "      <td>However, there was no performance difference b...</td>\n",
       "    </tr>\n",
       "    <tr>\n",
       "      <th>17</th>\n",
       "      <td>There was no difference between adults who app...</td>\n",
       "    </tr>\n",
       "    <tr>\n",
       "      <th>18</th>\n",
       "      <td>The third model added the remaining task varia...</td>\n",
       "    </tr>\n",
       "    <tr>\n",
       "      <th>19</th>\n",
       "      <td>There was no effect of session for bimodal bil...</td>\n",
       "    </tr>\n",
       "  </tbody>\n",
       "</table>\n",
       "</div>"
      ],
      "text/plain": [
       "                                                 text\n",
       "0   The response latencies of the low-AQ and high-...\n",
       "1   Participants of the stress groups (vs. control...\n",
       "2   There was no main effect of channel-group late...\n",
       "3   Distance, Ï‡ 2 (1, N = 32) = 1.52, p = .217, d...\n",
       "4   Consistent with study hypotheses emphasizing t...\n",
       "5   There was a significant effect of feeling smal...\n",
       "6   The results indicate that both participants in...\n",
       "7   For relative changes in pupil size, we obtaine...\n",
       "8   Follow-up analyses showed that there was no Tr...\n",
       "9   Correlations between dizygotic twins did not d...\n",
       "10  Accuracy (proportion of correct responses) did...\n",
       "11  Adding delay (15 s and 30 s) in the second mod...\n",
       "12  First, participant height (added as a fixed fa...\n",
       "13  When participants made large errors on previou...\n",
       "14  As expected, prior to the intervention (at bas...\n",
       "15  Similarly, for inverted scenes, categorization...\n",
       "16  However, there was no performance difference b...\n",
       "17  There was no difference between adults who app...\n",
       "18  The third model added the remaining task varia...\n",
       "19  There was no effect of session for bimodal bil..."
      ]
     },
     "metadata": {},
     "output_type": "display_data"
    }
   ],
   "source": [
    "display_statements(true_positives, \"True Positives (predicted 1, actual 1)\")"
   ]
  },
  {
   "cell_type": "code",
   "execution_count": 82,
   "id": "e5705a94",
   "metadata": {},
   "outputs": [
    {
     "name": "stdout",
     "output_type": "stream",
     "text": [
      "\n",
      "True Negatives (predicted 0, actual 0) (count: 18)\n"
     ]
    },
    {
     "data": {
      "application/vnd.microsoft.datawrangler.viewer.v0+json": {
       "columns": [
        {
         "name": "index",
         "rawType": "int64",
         "type": "integer"
        },
        {
         "name": "text",
         "rawType": "object",
         "type": "string"
        }
       ],
       "ref": "eb98caca-f9ec-4872-90a9-cba1d389ecb0",
       "rows": [
        [
         "0",
         "Although the PTSD group showed a significant facilitation effect (M = 5.9%), F(1, 15) = 7.525, p = .015, Î· p 2 = .334, and the control group did not (M = 2.8%, n.s.), there was no significant group difference in facilitation, F(1, 30) = 1.215, p = .279, Î· p 2 = .039 (Fig. 3a)."
        ],
        [
         "1",
         "Overall, RT was on average slower when sounds were played during the continuous report phase compared with the visual discrimination phase, but this difference in RT (i.e., having target images with lower levels of noise) was not statistically significant, t(84) = 1.58, p = .12, Cohen's d z = 0.17, 95% CI = [-0.817, 0.475], BF 01 = 2.55, and the numerical difference in RT did not lead to a significant difference in report error across sound-onset conditions (Ms = 7.38 vs. 7.54), t(84) = 0.62, p = .54, Cohen's d z = 0.06, 95% CI = [-0.85, 0.725], BF 01 = 6.94."
        ],
        [
         "2",
         "The percentage of children who waited for the full 15-min period was not significantly different between these conditions (40% in the aware condition; 33% in the unaware/additional rewards condition; Mann-Whitney U test: Z = -0.53, p = .595), and a Mantel-Cox log rank test also indicated no difference between the conditions, Ï‡ 2 (1, N = 60) = 0.41, p = .525."
        ],
        [
         "3",
         "Results revealed no significant relationship between age and enjoyment (Î² = -0.02, SE = 0.03, p = .576)."
        ],
        [
         "4",
         "Conversely, the interaction between KoR and SOC was nonsignificant in older adults' RTs, F(1, 49) = 0.00, p = .949, Î· p 2 = .000, but significant in older adults' accuracy, F(1, 49) = 9.07, p = .004, Î· p 2 = .156."
        ],
        [
         "5",
         "The dyslexia (M = .87, SD = .05) and control (M = .88, SD = .04) groups did not significantly differ in their ability to discriminate sounds before category training, t(53) = 0.90, p = .37, d = 0.24."
        ],
        [
         "6",
         "When we compared directly, we found that in neither duration condition did participants show a significant bias for foreground targets-250 ms: t(47) = 0.636, p = .528, d = 0.14; 330 ms: t(47) = -1.50, p = .14, d = -0.32."
        ],
        [
         "7",
         "In all these models, women were more likely to report higher fear intensity compared with men (Model 1a: Î² = 1.08, SE = 0.55, p = .054; Model 2a: Î² = 1.04, SE = 0.53, p = .051; Model 3a: Î² = 1.31, SE = 0.50, p = .011), whereas motivation (Model 1a: p = .158, Model 2a: p = .102, Model 3a: p = .090) and age (Model 1a: p = .680, Model 2a: p = .352, Model 3a: p = .117) showed no significant effects."
        ],
        [
         "8",
         "There was no significant Visual Cue Ã— Valence interaction, z = 0.75, exp(b) = 1.17, 95% CI = [0.78, 1.74], p = .450, or Visual Cue Ã— Neutral interaction, z = -1.18, exp(b) = 0.81, 95% CI = [0.58, 1.15], p = .239."
        ],
        [
         "9",
         "The moderator tests were nonsignificant for both perceived scientific consensus, b = -0.13, t(23) = -0.17, p = .870, and factual beliefs, b = -0.02, t(26) = -0.07, p = .943."
        ],
        [
         "10",
         "The three-way Configuration Ã— Decoy Ã— Choice interaction in a log linear analysis was nonsignificant, Ï‡ 2 (1, N = 768) = 2.85, p = .09."
        ],
        [
         "11",
         "Finally, we added relative height as a fixed factor to the intercept-only model, which showed that there was no significant relationship between relative height and coins kept for self in the ultimatum game, Wald Ï‡ 2 (1) = 0.42, b = 0.001, SE = 0.002, 95% CI = [-0.002, 0.005], p = .519 (QICc = 23.58)."
        ],
        [
         "12",
         "The interaction between familiarity and length was nonsignificant as well, F(1, 19) = 0.30, p = .59, Î· p 2 = .02, OP = .08 (Table 2)."
        ],
        [
         "13",
         "The main effect of congruence did not reach significance in Experiment 2 (p = .09; see Table 3)."
        ],
        [
         "14",
         "Congruent and incongruent negative evaluations did not differ significantly (p = .230)."
        ],
        [
         "15",
         "Additionally, feeling small (added as a fixed factor to the interceptonly model) was not significantly related to behavior in the hot-sauce task, Wald Ï‡ 2 (1) = 0.63, b = -0.020, SE = 0.078, 95% CI = [-0.172, 0.133], p = .802 (QICc = 166.94)."
        ],
        [
         "16",
         "Regarding the main effect of task, smaller P1 amplitudes were found in the emotion task compared with the perceptual task (p = .038) and the age task (p = .002); the latter two did not differ significantly in amplitude from each other (p = .674)."
        ],
        [
         "17",
         "Indeed, there was no significant difference in accuracy between finding the longest line across the two experiments, t(72) = 1.91, p = .23, or for finding the shortest line, t(72) = 0.479, p = .96."
        ]
       ],
       "shape": {
        "columns": 1,
        "rows": 18
       }
      },
      "text/html": [
       "<div>\n",
       "<style scoped>\n",
       "    .dataframe tbody tr th:only-of-type {\n",
       "        vertical-align: middle;\n",
       "    }\n",
       "\n",
       "    .dataframe tbody tr th {\n",
       "        vertical-align: top;\n",
       "    }\n",
       "\n",
       "    .dataframe thead th {\n",
       "        text-align: right;\n",
       "    }\n",
       "</style>\n",
       "<table border=\"1\" class=\"dataframe\">\n",
       "  <thead>\n",
       "    <tr style=\"text-align: right;\">\n",
       "      <th></th>\n",
       "      <th>text</th>\n",
       "    </tr>\n",
       "  </thead>\n",
       "  <tbody>\n",
       "    <tr>\n",
       "      <th>0</th>\n",
       "      <td>Although the PTSD group showed a significant f...</td>\n",
       "    </tr>\n",
       "    <tr>\n",
       "      <th>1</th>\n",
       "      <td>Overall, RT was on average slower when sounds ...</td>\n",
       "    </tr>\n",
       "    <tr>\n",
       "      <th>2</th>\n",
       "      <td>The percentage of children who waited for the ...</td>\n",
       "    </tr>\n",
       "    <tr>\n",
       "      <th>3</th>\n",
       "      <td>Results revealed no significant relationship b...</td>\n",
       "    </tr>\n",
       "    <tr>\n",
       "      <th>4</th>\n",
       "      <td>Conversely, the interaction between KoR and SO...</td>\n",
       "    </tr>\n",
       "    <tr>\n",
       "      <th>5</th>\n",
       "      <td>The dyslexia (M = .87, SD = .05) and control (...</td>\n",
       "    </tr>\n",
       "    <tr>\n",
       "      <th>6</th>\n",
       "      <td>When we compared directly, we found that in ne...</td>\n",
       "    </tr>\n",
       "    <tr>\n",
       "      <th>7</th>\n",
       "      <td>In all these models, women were more likely to...</td>\n",
       "    </tr>\n",
       "    <tr>\n",
       "      <th>8</th>\n",
       "      <td>There was no significant Visual Cue Ã— Valence...</td>\n",
       "    </tr>\n",
       "    <tr>\n",
       "      <th>9</th>\n",
       "      <td>The moderator tests were nonsignificant for bo...</td>\n",
       "    </tr>\n",
       "    <tr>\n",
       "      <th>10</th>\n",
       "      <td>The three-way Configuration Ã— Decoy Ã— Choice...</td>\n",
       "    </tr>\n",
       "    <tr>\n",
       "      <th>11</th>\n",
       "      <td>Finally, we added relative height as a fixed f...</td>\n",
       "    </tr>\n",
       "    <tr>\n",
       "      <th>12</th>\n",
       "      <td>The interaction between familiarity and length...</td>\n",
       "    </tr>\n",
       "    <tr>\n",
       "      <th>13</th>\n",
       "      <td>The main effect of congruence did not reach si...</td>\n",
       "    </tr>\n",
       "    <tr>\n",
       "      <th>14</th>\n",
       "      <td>Congruent and incongruent negative evaluations...</td>\n",
       "    </tr>\n",
       "    <tr>\n",
       "      <th>15</th>\n",
       "      <td>Additionally, feeling small (added as a fixed ...</td>\n",
       "    </tr>\n",
       "    <tr>\n",
       "      <th>16</th>\n",
       "      <td>Regarding the main effect of task, smaller P1 ...</td>\n",
       "    </tr>\n",
       "    <tr>\n",
       "      <th>17</th>\n",
       "      <td>Indeed, there was no significant difference in...</td>\n",
       "    </tr>\n",
       "  </tbody>\n",
       "</table>\n",
       "</div>"
      ],
      "text/plain": [
       "                                                 text\n",
       "0   Although the PTSD group showed a significant f...\n",
       "1   Overall, RT was on average slower when sounds ...\n",
       "2   The percentage of children who waited for the ...\n",
       "3   Results revealed no significant relationship b...\n",
       "4   Conversely, the interaction between KoR and SO...\n",
       "5   The dyslexia (M = .87, SD = .05) and control (...\n",
       "6   When we compared directly, we found that in ne...\n",
       "7   In all these models, women were more likely to...\n",
       "8   There was no significant Visual Cue Ã— Valence...\n",
       "9   The moderator tests were nonsignificant for bo...\n",
       "10  The three-way Configuration Ã— Decoy Ã— Choice...\n",
       "11  Finally, we added relative height as a fixed f...\n",
       "12  The interaction between familiarity and length...\n",
       "13  The main effect of congruence did not reach si...\n",
       "14  Congruent and incongruent negative evaluations...\n",
       "15  Additionally, feeling small (added as a fixed ...\n",
       "16  Regarding the main effect of task, smaller P1 ...\n",
       "17  Indeed, there was no significant difference in..."
      ]
     },
     "metadata": {},
     "output_type": "display_data"
    }
   ],
   "source": [
    "display_statements(true_negatives, \"True Negatives (predicted 0, actual 0)\")"
   ]
  },
  {
   "cell_type": "code",
   "execution_count": 83,
   "id": "34204718",
   "metadata": {},
   "outputs": [
    {
     "name": "stdout",
     "output_type": "stream",
     "text": [
      "\n",
      "False Positives (predicted 1, actual 0) (count: 10)\n"
     ]
    },
    {
     "data": {
      "application/vnd.microsoft.datawrangler.viewer.v0+json": {
       "columns": [
        {
         "name": "index",
         "rawType": "int64",
         "type": "integer"
        },
        {
         "name": "text",
         "rawType": "object",
         "type": "string"
        }
       ],
       "ref": "36a9d877-eb84-4cfb-8e3c-26e32e915cf2",
       "rows": [
        [
         "0",
         "We found a significant main effect of outcome, F(1, 37) = 6.72, p = .014, Î· p 2 = .154, but no main effect of frequency, F(1, 37) = 0.03, p = .858, Î· p 2 = .001."
        ],
        [
         "1",
         "Participants in the ultimatum game were nonsignificantly less self-biased compared with participants in the dictator game in Study 1, and significantly so in Study 2, which was better powered to detect effects (Study 1: b game = 0.968, SE = 1.467, z = 0.660, two-tailed p = .509, r = .258, 95% CI = [-.465, .727]; Study 2: b game = 0.917, SE = 0.417, z = 2.202, preregistered one-tailed p = .014, r = .245, 95% CI = [.028, .431])."
        ],
        [
         "2",
         "For the recognition data, the NHST analysis showed no significant effects of state of mind on any of the measures of correct or false memories (lowest p = .077)."
        ],
        [
         "3",
         "In the current meta-analysis, however, there were no significant subgroup differences between preregistered and nonpreregistered experiments related to perceived scientific consensus, Q(1) = 2.95, p = .086, and factual beliefs, Q(1) = 1.45, p = .229."
        ],
        [
         "4",
         "Here, too, the interaction effects were nonsignificant-perceived scientific consensus: b = -1.68, t(20) = -0.53, p = .600; factual beliefs: b = -0.95, t(23) = -0.90, p = .378."
        ],
        [
         "5",
         "Withinpair linear regressions in identical twin pairs showed no significant effect of age of onset of musical training on musical aptitude (Î² = 0.00, p = .93)."
        ],
        [
         "6",
         "There was not a significant difference between the high-pitch and low-pitch conditions, t(27) = 1.03, p = .31, Cohen's d = 0.19, Bonferroni corrected."
        ],
        [
         "7",
         "The effect of ValenceDiff varied significantly over domains in the CloudResearch sample, Ï‡ 2 (3) = 20.31, p < .001, but not in the student sample, Ï‡ 2 (3) = 2.04, p = .564."
        ],
        [
         "8",
         "Similarly, within-pair analyses in identical pairs showed no significant effect of age of onset before the age of 8 years versus age of onset at age 8 years or later on musical aptitude (Î² = 0.02, p = .66; Î² = 0.03, p = .60 when analyses controlled for total practice)."
        ],
        [
         "9",
         "For the mid-scale questions, we found no difference between the self-and agreeingperspective conditions (d = 0.05, p = .39), whereas the benefit of averaging was again higher for participants in the disagreeing-perspective condition compared with the self-perspective (d = 0.28, p < .001) and agreeingperspective (d = 0.24, p < .001) conditions."
        ]
       ],
       "shape": {
        "columns": 1,
        "rows": 10
       }
      },
      "text/html": [
       "<div>\n",
       "<style scoped>\n",
       "    .dataframe tbody tr th:only-of-type {\n",
       "        vertical-align: middle;\n",
       "    }\n",
       "\n",
       "    .dataframe tbody tr th {\n",
       "        vertical-align: top;\n",
       "    }\n",
       "\n",
       "    .dataframe thead th {\n",
       "        text-align: right;\n",
       "    }\n",
       "</style>\n",
       "<table border=\"1\" class=\"dataframe\">\n",
       "  <thead>\n",
       "    <tr style=\"text-align: right;\">\n",
       "      <th></th>\n",
       "      <th>text</th>\n",
       "    </tr>\n",
       "  </thead>\n",
       "  <tbody>\n",
       "    <tr>\n",
       "      <th>0</th>\n",
       "      <td>We found a significant main effect of outcome,...</td>\n",
       "    </tr>\n",
       "    <tr>\n",
       "      <th>1</th>\n",
       "      <td>Participants in the ultimatum game were nonsig...</td>\n",
       "    </tr>\n",
       "    <tr>\n",
       "      <th>2</th>\n",
       "      <td>For the recognition data, the NHST analysis sh...</td>\n",
       "    </tr>\n",
       "    <tr>\n",
       "      <th>3</th>\n",
       "      <td>In the current meta-analysis, however, there w...</td>\n",
       "    </tr>\n",
       "    <tr>\n",
       "      <th>4</th>\n",
       "      <td>Here, too, the interaction effects were nonsig...</td>\n",
       "    </tr>\n",
       "    <tr>\n",
       "      <th>5</th>\n",
       "      <td>Withinpair linear regressions in identical twi...</td>\n",
       "    </tr>\n",
       "    <tr>\n",
       "      <th>6</th>\n",
       "      <td>There was not a significant difference between...</td>\n",
       "    </tr>\n",
       "    <tr>\n",
       "      <th>7</th>\n",
       "      <td>The effect of ValenceDiff varied significantly...</td>\n",
       "    </tr>\n",
       "    <tr>\n",
       "      <th>8</th>\n",
       "      <td>Similarly, within-pair analyses in identical p...</td>\n",
       "    </tr>\n",
       "    <tr>\n",
       "      <th>9</th>\n",
       "      <td>For the mid-scale questions, we found no diffe...</td>\n",
       "    </tr>\n",
       "  </tbody>\n",
       "</table>\n",
       "</div>"
      ],
      "text/plain": [
       "                                                text\n",
       "0  We found a significant main effect of outcome,...\n",
       "1  Participants in the ultimatum game were nonsig...\n",
       "2  For the recognition data, the NHST analysis sh...\n",
       "3  In the current meta-analysis, however, there w...\n",
       "4  Here, too, the interaction effects were nonsig...\n",
       "5  Withinpair linear regressions in identical twi...\n",
       "6  There was not a significant difference between...\n",
       "7  The effect of ValenceDiff varied significantly...\n",
       "8  Similarly, within-pair analyses in identical p...\n",
       "9  For the mid-scale questions, we found no diffe..."
      ]
     },
     "metadata": {},
     "output_type": "display_data"
    }
   ],
   "source": [
    "display_statements(false_positives, \"False Positives (predicted 1, actual 0)\")"
   ]
  },
  {
   "cell_type": "code",
   "execution_count": 84,
   "id": "060b85af",
   "metadata": {},
   "outputs": [
    {
     "name": "stdout",
     "output_type": "stream",
     "text": [
      "\n",
      "False Negatives (predicted 0, actual 1) (count: 8)\n"
     ]
    },
    {
     "data": {
      "application/vnd.microsoft.datawrangler.viewer.v0+json": {
       "columns": [
        {
         "name": "index",
         "rawType": "int64",
         "type": "integer"
        },
        {
         "name": "text",
         "rawType": "object",
         "type": "string"
        }
       ],
       "ref": "0a8a3fa4-923d-490b-9b0a-11163be0fb8d",
       "rows": [
        [
         "0",
         "Risk taking did not differ between participants who received a placebo and those who received atomoxetine (b = 0.02, SE = 0.02, p = .295)."
        ],
        [
         "1",
         "Paired t tests showed that only for the neutral stimuli, there was a recognition deficit for Black faces relative to White faces (an ORE), t(198) = 4.25, p < .001, Cohen's d z = 0.30, 95% CI = [0.16, 0.44], whereas the same was not true for angry faces for which the effect was even in the descriptively opposite direction, t(198) = -0.92, p = .357, Cohen's d z = -0.07."
        ],
        [
         "2",
         "There were no differences between groups in overall mean ratings of positivity in either the self or other condition, as both younger adults (self: M = 7.39, SD = 1.36; other: M = 6.79, SD = 1.61), t(94) = 3.29, p = .001, d = 0.34, 95% CI = [0.13, 0.55], and older adults (self: M = 7.46, SD = 1.27; other: M = 7.13, SD = 1.47), t(90) = 2.75, p = .007, d = 0.29, 95% CI = [0.08, 0.50], reported feeling more positive when winning credits for themselves compared with others (there was no significant interaction between groups; z = -1.596, p = .111)."
        ],
        [
         "3",
         "As in Study 1, individuals' risk and social preferences were uncorrelated (Spearman's r = .03, p = .800)."
        ],
        [
         "4",
         "We next focused on report error and found a main effect of sound, F(2, 84) = 11.31, p < .001, Î· p 2 = .12; there was no main effect of sound onset (during or after visual discrimination), F(1, 84) = 0.16, p = .69, Î· p 2 = .001, and there was a significant interaction, F(2, 168) = 3.39, p = .036, Î· p 2 = .04."
        ],
        [
         "5",
         "A control model additionally revealed a main effect of gender on first donations, Ï‡ 2 (1) = 7.87, p = .005, which did not interact with age, Ï‡ 2 (2) = 1.30, p = .521."
        ],
        [
         "6",
         "Unlike the analyses using RT on search trials as the dependent variable, there was no main effect of real-time entropy on fixation time, F(1, 22,897.2) = 1.64, p = .20, Î² = -0.006, SE = 0.005."
        ],
        [
         "7",
         "Furthermore, we found that the nudge was effective for participants who did not vote for Donald Trump in the 2016 elections, Î² = 0.0231, 95% CI = [0.079, 0.039], F(3, 32490) = 6.58, p = .003, but not for participants who did vote for Trump, Î² = 0.00376, 95% CI = [-0.013, 0.020], F(3, 15000) = 0.12, p = .653."
        ]
       ],
       "shape": {
        "columns": 1,
        "rows": 8
       }
      },
      "text/html": [
       "<div>\n",
       "<style scoped>\n",
       "    .dataframe tbody tr th:only-of-type {\n",
       "        vertical-align: middle;\n",
       "    }\n",
       "\n",
       "    .dataframe tbody tr th {\n",
       "        vertical-align: top;\n",
       "    }\n",
       "\n",
       "    .dataframe thead th {\n",
       "        text-align: right;\n",
       "    }\n",
       "</style>\n",
       "<table border=\"1\" class=\"dataframe\">\n",
       "  <thead>\n",
       "    <tr style=\"text-align: right;\">\n",
       "      <th></th>\n",
       "      <th>text</th>\n",
       "    </tr>\n",
       "  </thead>\n",
       "  <tbody>\n",
       "    <tr>\n",
       "      <th>0</th>\n",
       "      <td>Risk taking did not differ between participant...</td>\n",
       "    </tr>\n",
       "    <tr>\n",
       "      <th>1</th>\n",
       "      <td>Paired t tests showed that only for the neutra...</td>\n",
       "    </tr>\n",
       "    <tr>\n",
       "      <th>2</th>\n",
       "      <td>There were no differences between groups in ov...</td>\n",
       "    </tr>\n",
       "    <tr>\n",
       "      <th>3</th>\n",
       "      <td>As in Study 1, individuals' risk and social pr...</td>\n",
       "    </tr>\n",
       "    <tr>\n",
       "      <th>4</th>\n",
       "      <td>We next focused on report error and found a ma...</td>\n",
       "    </tr>\n",
       "    <tr>\n",
       "      <th>5</th>\n",
       "      <td>A control model additionally revealed a main e...</td>\n",
       "    </tr>\n",
       "    <tr>\n",
       "      <th>6</th>\n",
       "      <td>Unlike the analyses using RT on search trials ...</td>\n",
       "    </tr>\n",
       "    <tr>\n",
       "      <th>7</th>\n",
       "      <td>Furthermore, we found that the nudge was effec...</td>\n",
       "    </tr>\n",
       "  </tbody>\n",
       "</table>\n",
       "</div>"
      ],
      "text/plain": [
       "                                                text\n",
       "0  Risk taking did not differ between participant...\n",
       "1  Paired t tests showed that only for the neutra...\n",
       "2  There were no differences between groups in ov...\n",
       "3  As in Study 1, individuals' risk and social pr...\n",
       "4  We next focused on report error and found a ma...\n",
       "5  A control model additionally revealed a main e...\n",
       "6  Unlike the analyses using RT on search trials ...\n",
       "7  Furthermore, we found that the nudge was effec..."
      ]
     },
     "metadata": {},
     "output_type": "display_data"
    }
   ],
   "source": [
    "display_statements(false_negatives, \"False Negatives (predicted 0, actual 1)\")"
   ]
  },
  {
   "cell_type": "code",
   "execution_count": null,
   "id": "56e5e265",
   "metadata": {},
   "outputs": [],
   "source": [
    "# The end..."
   ]
  }
 ],
 "metadata": {
  "kernelspec": {
   "display_name": "Python (nonsig-venv)",
   "language": "python",
   "name": "nonsig-venv"
  },
  "language_info": {
   "codemirror_mode": {
    "name": "ipython",
    "version": 3
   },
   "file_extension": ".py",
   "mimetype": "text/x-python",
   "name": "python",
   "nbconvert_exporter": "python",
   "pygments_lexer": "ipython3",
   "version": "3.12.10"
  }
 },
 "nbformat": 4,
 "nbformat_minor": 5
}
