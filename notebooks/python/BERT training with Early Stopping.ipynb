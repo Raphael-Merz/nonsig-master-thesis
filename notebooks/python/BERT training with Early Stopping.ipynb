{
 "cells": [
  {
   "cell_type": "markdown",
   "id": "5e0f8a44",
   "metadata": {},
   "source": [
    "# Bert Training with Early Stopping"
   ]
  },
  {
   "cell_type": "markdown",
   "id": "ef72840b",
   "metadata": {},
   "source": [
    "## 0. Setup"
   ]
  },
  {
   "cell_type": "markdown",
   "id": "32992dd0",
   "metadata": {},
   "source": [
    "### 0.1 Install libraries"
   ]
  },
  {
   "cell_type": "code",
   "execution_count": 1,
   "id": "da13a949",
   "metadata": {},
   "outputs": [
    {
     "name": "stdout",
     "output_type": "stream",
     "text": [
      "Requirement already satisfied: absl-py==2.3.1 in c:\\users\\raphael\\documents\\github\\nonsig-master-thesis\\venv\\lib\\site-packages (from -r requirements.txt (line 1)) (2.3.1)\n",
      "Requirement already satisfied: accelerate==1.8.1 in c:\\users\\raphael\\documents\\github\\nonsig-master-thesis\\venv\\lib\\site-packages (from -r requirements.txt (line 2)) (1.8.1)\n",
      "Requirement already satisfied: aiohappyeyeballs==2.6.1 in c:\\users\\raphael\\documents\\github\\nonsig-master-thesis\\venv\\lib\\site-packages (from -r requirements.txt (line 3)) (2.6.1)\n",
      "Requirement already satisfied: aiohttp==3.12.13 in c:\\users\\raphael\\documents\\github\\nonsig-master-thesis\\venv\\lib\\site-packages (from -r requirements.txt (line 4)) (3.12.13)\n",
      "Requirement already satisfied: aiosignal==1.4.0 in c:\\users\\raphael\\documents\\github\\nonsig-master-thesis\\venv\\lib\\site-packages (from -r requirements.txt (line 5)) (1.4.0)\n",
      "Requirement already satisfied: asttokens==3.0.0 in c:\\users\\raphael\\documents\\github\\nonsig-master-thesis\\venv\\lib\\site-packages (from -r requirements.txt (line 6)) (3.0.0)\n",
      "Requirement already satisfied: astunparse==1.6.3 in c:\\users\\raphael\\documents\\github\\nonsig-master-thesis\\venv\\lib\\site-packages (from -r requirements.txt (line 7)) (1.6.3)\n",
      "Requirement already satisfied: attrs==25.3.0 in c:\\users\\raphael\\documents\\github\\nonsig-master-thesis\\venv\\lib\\site-packages (from -r requirements.txt (line 8)) (25.3.0)\n",
      "Requirement already satisfied: certifi==2025.6.15 in c:\\users\\raphael\\documents\\github\\nonsig-master-thesis\\venv\\lib\\site-packages (from -r requirements.txt (line 9)) (2025.6.15)\n",
      "Requirement already satisfied: charset-normalizer==3.4.2 in c:\\users\\raphael\\documents\\github\\nonsig-master-thesis\\venv\\lib\\site-packages (from -r requirements.txt (line 10)) (3.4.2)\n",
      "Requirement already satisfied: colorama==0.4.6 in c:\\users\\raphael\\documents\\github\\nonsig-master-thesis\\venv\\lib\\site-packages (from -r requirements.txt (line 11)) (0.4.6)\n",
      "Requirement already satisfied: comm==0.2.2 in c:\\users\\raphael\\documents\\github\\nonsig-master-thesis\\venv\\lib\\site-packages (from -r requirements.txt (line 12)) (0.2.2)\n",
      "Requirement already satisfied: contourpy==1.3.2 in c:\\users\\raphael\\documents\\github\\nonsig-master-thesis\\venv\\lib\\site-packages (from -r requirements.txt (line 13)) (1.3.2)\n",
      "Requirement already satisfied: cycler==0.12.1 in c:\\users\\raphael\\documents\\github\\nonsig-master-thesis\\venv\\lib\\site-packages (from -r requirements.txt (line 14)) (0.12.1)\n",
      "Requirement already satisfied: datasets==3.6.0 in c:\\users\\raphael\\documents\\github\\nonsig-master-thesis\\venv\\lib\\site-packages (from -r requirements.txt (line 15)) (3.6.0)\n",
      "Requirement already satisfied: debugpy==1.8.14 in c:\\users\\raphael\\documents\\github\\nonsig-master-thesis\\venv\\lib\\site-packages (from -r requirements.txt (line 16)) (1.8.14)\n",
      "Requirement already satisfied: decorator==5.2.1 in c:\\users\\raphael\\documents\\github\\nonsig-master-thesis\\venv\\lib\\site-packages (from -r requirements.txt (line 17)) (5.2.1)\n",
      "Requirement already satisfied: dill==0.3.8 in c:\\users\\raphael\\documents\\github\\nonsig-master-thesis\\venv\\lib\\site-packages (from -r requirements.txt (line 18)) (0.3.8)\n",
      "Requirement already satisfied: et_xmlfile==2.0.0 in c:\\users\\raphael\\documents\\github\\nonsig-master-thesis\\venv\\lib\\site-packages (from -r requirements.txt (line 19)) (2.0.0)\n",
      "Requirement already satisfied: evaluate==0.4.4 in c:\\users\\raphael\\documents\\github\\nonsig-master-thesis\\venv\\lib\\site-packages (from -r requirements.txt (line 20)) (0.4.4)\n",
      "Requirement already satisfied: executing==2.2.0 in c:\\users\\raphael\\documents\\github\\nonsig-master-thesis\\venv\\lib\\site-packages (from -r requirements.txt (line 21)) (2.2.0)\n",
      "Requirement already satisfied: filelock==3.18.0 in c:\\users\\raphael\\documents\\github\\nonsig-master-thesis\\venv\\lib\\site-packages (from -r requirements.txt (line 22)) (3.18.0)\n",
      "Requirement already satisfied: flatbuffers==25.2.10 in c:\\users\\raphael\\documents\\github\\nonsig-master-thesis\\venv\\lib\\site-packages (from -r requirements.txt (line 23)) (25.2.10)\n",
      "Requirement already satisfied: fonttools==4.58.5 in c:\\users\\raphael\\documents\\github\\nonsig-master-thesis\\venv\\lib\\site-packages (from -r requirements.txt (line 24)) (4.58.5)\n",
      "Requirement already satisfied: frozenlist==1.7.0 in c:\\users\\raphael\\documents\\github\\nonsig-master-thesis\\venv\\lib\\site-packages (from -r requirements.txt (line 25)) (1.7.0)\n",
      "Requirement already satisfied: fsspec==2025.3.0 in c:\\users\\raphael\\documents\\github\\nonsig-master-thesis\\venv\\lib\\site-packages (from -r requirements.txt (line 26)) (2025.3.0)\n",
      "Requirement already satisfied: gast==0.6.0 in c:\\users\\raphael\\documents\\github\\nonsig-master-thesis\\venv\\lib\\site-packages (from -r requirements.txt (line 27)) (0.6.0)\n",
      "Requirement already satisfied: google-pasta==0.2.0 in c:\\users\\raphael\\documents\\github\\nonsig-master-thesis\\venv\\lib\\site-packages (from -r requirements.txt (line 28)) (0.2.0)\n",
      "Requirement already satisfied: grpcio==1.73.1 in c:\\users\\raphael\\documents\\github\\nonsig-master-thesis\\venv\\lib\\site-packages (from -r requirements.txt (line 29)) (1.73.1)\n",
      "Requirement already satisfied: h5py==3.14.0 in c:\\users\\raphael\\documents\\github\\nonsig-master-thesis\\venv\\lib\\site-packages (from -r requirements.txt (line 30)) (3.14.0)\n",
      "Requirement already satisfied: huggingface-hub==0.33.2 in c:\\users\\raphael\\documents\\github\\nonsig-master-thesis\\venv\\lib\\site-packages (from -r requirements.txt (line 31)) (0.33.2)\n",
      "Requirement already satisfied: idna==3.10 in c:\\users\\raphael\\documents\\github\\nonsig-master-thesis\\venv\\lib\\site-packages (from -r requirements.txt (line 32)) (3.10)\n",
      "Requirement already satisfied: ipykernel==6.29.5 in c:\\users\\raphael\\documents\\github\\nonsig-master-thesis\\venv\\lib\\site-packages (from -r requirements.txt (line 33)) (6.29.5)\n",
      "Requirement already satisfied: ipython==9.4.0 in c:\\users\\raphael\\documents\\github\\nonsig-master-thesis\\venv\\lib\\site-packages (from -r requirements.txt (line 34)) (9.4.0)\n",
      "Requirement already satisfied: ipython_pygments_lexers==1.1.1 in c:\\users\\raphael\\documents\\github\\nonsig-master-thesis\\venv\\lib\\site-packages (from -r requirements.txt (line 35)) (1.1.1)\n",
      "Requirement already satisfied: jedi==0.19.2 in c:\\users\\raphael\\documents\\github\\nonsig-master-thesis\\venv\\lib\\site-packages (from -r requirements.txt (line 36)) (0.19.2)\n",
      "Requirement already satisfied: Jinja2==3.1.6 in c:\\users\\raphael\\documents\\github\\nonsig-master-thesis\\venv\\lib\\site-packages (from -r requirements.txt (line 37)) (3.1.6)\n",
      "Requirement already satisfied: joblib==1.5.1 in c:\\users\\raphael\\documents\\github\\nonsig-master-thesis\\venv\\lib\\site-packages (from -r requirements.txt (line 38)) (1.5.1)\n",
      "Requirement already satisfied: jupyter_client==8.6.3 in c:\\users\\raphael\\documents\\github\\nonsig-master-thesis\\venv\\lib\\site-packages (from -r requirements.txt (line 39)) (8.6.3)\n",
      "Requirement already satisfied: jupyter_core==5.8.1 in c:\\users\\raphael\\documents\\github\\nonsig-master-thesis\\venv\\lib\\site-packages (from -r requirements.txt (line 40)) (5.8.1)\n",
      "Requirement already satisfied: keras==3.10.0 in c:\\users\\raphael\\documents\\github\\nonsig-master-thesis\\venv\\lib\\site-packages (from -r requirements.txt (line 41)) (3.10.0)\n",
      "Requirement already satisfied: kiwisolver==1.4.8 in c:\\users\\raphael\\documents\\github\\nonsig-master-thesis\\venv\\lib\\site-packages (from -r requirements.txt (line 42)) (1.4.8)\n",
      "Requirement already satisfied: libclang==18.1.1 in c:\\users\\raphael\\documents\\github\\nonsig-master-thesis\\venv\\lib\\site-packages (from -r requirements.txt (line 43)) (18.1.1)\n",
      "Requirement already satisfied: Markdown==3.8.2 in c:\\users\\raphael\\documents\\github\\nonsig-master-thesis\\venv\\lib\\site-packages (from -r requirements.txt (line 44)) (3.8.2)\n",
      "Requirement already satisfied: markdown-it-py==3.0.0 in c:\\users\\raphael\\documents\\github\\nonsig-master-thesis\\venv\\lib\\site-packages (from -r requirements.txt (line 45)) (3.0.0)\n",
      "Requirement already satisfied: MarkupSafe==3.0.2 in c:\\users\\raphael\\documents\\github\\nonsig-master-thesis\\venv\\lib\\site-packages (from -r requirements.txt (line 46)) (3.0.2)\n",
      "Requirement already satisfied: matplotlib==3.10.3 in c:\\users\\raphael\\documents\\github\\nonsig-master-thesis\\venv\\lib\\site-packages (from -r requirements.txt (line 47)) (3.10.3)\n",
      "Requirement already satisfied: matplotlib-inline==0.1.7 in c:\\users\\raphael\\documents\\github\\nonsig-master-thesis\\venv\\lib\\site-packages (from -r requirements.txt (line 48)) (0.1.7)\n",
      "Requirement already satisfied: mdurl==0.1.2 in c:\\users\\raphael\\documents\\github\\nonsig-master-thesis\\venv\\lib\\site-packages (from -r requirements.txt (line 49)) (0.1.2)\n",
      "Requirement already satisfied: ml_dtypes==0.5.1 in c:\\users\\raphael\\documents\\github\\nonsig-master-thesis\\venv\\lib\\site-packages (from -r requirements.txt (line 50)) (0.5.1)\n",
      "Requirement already satisfied: mpmath==1.3.0 in c:\\users\\raphael\\documents\\github\\nonsig-master-thesis\\venv\\lib\\site-packages (from -r requirements.txt (line 51)) (1.3.0)\n",
      "Requirement already satisfied: multidict==6.6.3 in c:\\users\\raphael\\documents\\github\\nonsig-master-thesis\\venv\\lib\\site-packages (from -r requirements.txt (line 52)) (6.6.3)\n",
      "Requirement already satisfied: multiprocess==0.70.16 in c:\\users\\raphael\\documents\\github\\nonsig-master-thesis\\venv\\lib\\site-packages (from -r requirements.txt (line 53)) (0.70.16)\n",
      "Requirement already satisfied: namex==0.1.0 in c:\\users\\raphael\\documents\\github\\nonsig-master-thesis\\venv\\lib\\site-packages (from -r requirements.txt (line 54)) (0.1.0)\n",
      "Requirement already satisfied: nest-asyncio==1.6.0 in c:\\users\\raphael\\documents\\github\\nonsig-master-thesis\\venv\\lib\\site-packages (from -r requirements.txt (line 55)) (1.6.0)\n",
      "Requirement already satisfied: networkx==3.5 in c:\\users\\raphael\\documents\\github\\nonsig-master-thesis\\venv\\lib\\site-packages (from -r requirements.txt (line 56)) (3.5)\n",
      "Requirement already satisfied: numpy==2.1.3 in c:\\users\\raphael\\documents\\github\\nonsig-master-thesis\\venv\\lib\\site-packages (from -r requirements.txt (line 57)) (2.1.3)\n",
      "Requirement already satisfied: openpyxl==3.1.5 in c:\\users\\raphael\\documents\\github\\nonsig-master-thesis\\venv\\lib\\site-packages (from -r requirements.txt (line 58)) (3.1.5)\n",
      "Requirement already satisfied: opt_einsum==3.4.0 in c:\\users\\raphael\\documents\\github\\nonsig-master-thesis\\venv\\lib\\site-packages (from -r requirements.txt (line 59)) (3.4.0)\n",
      "Requirement already satisfied: optree==0.16.0 in c:\\users\\raphael\\documents\\github\\nonsig-master-thesis\\venv\\lib\\site-packages (from -r requirements.txt (line 60)) (0.16.0)\n",
      "Requirement already satisfied: packaging==25.0 in c:\\users\\raphael\\documents\\github\\nonsig-master-thesis\\venv\\lib\\site-packages (from -r requirements.txt (line 61)) (25.0)\n",
      "Requirement already satisfied: pandas==2.3.1 in c:\\users\\raphael\\documents\\github\\nonsig-master-thesis\\venv\\lib\\site-packages (from -r requirements.txt (line 62)) (2.3.1)\n",
      "Requirement already satisfied: parso==0.8.4 in c:\\users\\raphael\\documents\\github\\nonsig-master-thesis\\venv\\lib\\site-packages (from -r requirements.txt (line 63)) (0.8.4)\n",
      "Requirement already satisfied: pillow==11.3.0 in c:\\users\\raphael\\documents\\github\\nonsig-master-thesis\\venv\\lib\\site-packages (from -r requirements.txt (line 64)) (11.3.0)\n",
      "Requirement already satisfied: platformdirs==4.3.8 in c:\\users\\raphael\\documents\\github\\nonsig-master-thesis\\venv\\lib\\site-packages (from -r requirements.txt (line 65)) (4.3.8)\n",
      "Requirement already satisfied: prompt_toolkit==3.0.51 in c:\\users\\raphael\\documents\\github\\nonsig-master-thesis\\venv\\lib\\site-packages (from -r requirements.txt (line 66)) (3.0.51)\n",
      "Requirement already satisfied: propcache==0.3.2 in c:\\users\\raphael\\documents\\github\\nonsig-master-thesis\\venv\\lib\\site-packages (from -r requirements.txt (line 67)) (0.3.2)\n",
      "Requirement already satisfied: protobuf==5.29.5 in c:\\users\\raphael\\documents\\github\\nonsig-master-thesis\\venv\\lib\\site-packages (from -r requirements.txt (line 68)) (5.29.5)\n",
      "Requirement already satisfied: psutil==7.0.0 in c:\\users\\raphael\\documents\\github\\nonsig-master-thesis\\venv\\lib\\site-packages (from -r requirements.txt (line 69)) (7.0.0)\n",
      "Requirement already satisfied: pure_eval==0.2.3 in c:\\users\\raphael\\documents\\github\\nonsig-master-thesis\\venv\\lib\\site-packages (from -r requirements.txt (line 70)) (0.2.3)\n",
      "Requirement already satisfied: pyarrow==20.0.0 in c:\\users\\raphael\\documents\\github\\nonsig-master-thesis\\venv\\lib\\site-packages (from -r requirements.txt (line 71)) (20.0.0)\n",
      "Requirement already satisfied: Pygments==2.19.2 in c:\\users\\raphael\\documents\\github\\nonsig-master-thesis\\venv\\lib\\site-packages (from -r requirements.txt (line 72)) (2.19.2)\n",
      "Requirement already satisfied: pyparsing==3.2.3 in c:\\users\\raphael\\documents\\github\\nonsig-master-thesis\\venv\\lib\\site-packages (from -r requirements.txt (line 73)) (3.2.3)\n",
      "Requirement already satisfied: python-dateutil==2.9.0.post0 in c:\\users\\raphael\\documents\\github\\nonsig-master-thesis\\venv\\lib\\site-packages (from -r requirements.txt (line 74)) (2.9.0.post0)\n",
      "Requirement already satisfied: pytz==2025.2 in c:\\users\\raphael\\documents\\github\\nonsig-master-thesis\\venv\\lib\\site-packages (from -r requirements.txt (line 75)) (2025.2)\n",
      "Requirement already satisfied: pywin32==310 in c:\\users\\raphael\\documents\\github\\nonsig-master-thesis\\venv\\lib\\site-packages (from -r requirements.txt (line 76)) (310)\n",
      "Requirement already satisfied: PyYAML==6.0.2 in c:\\users\\raphael\\documents\\github\\nonsig-master-thesis\\venv\\lib\\site-packages (from -r requirements.txt (line 77)) (6.0.2)\n",
      "Requirement already satisfied: pyzmq==27.0.0 in c:\\users\\raphael\\documents\\github\\nonsig-master-thesis\\venv\\lib\\site-packages (from -r requirements.txt (line 78)) (27.0.0)\n",
      "Requirement already satisfied: regex==2024.11.6 in c:\\users\\raphael\\documents\\github\\nonsig-master-thesis\\venv\\lib\\site-packages (from -r requirements.txt (line 79)) (2024.11.6)\n",
      "Requirement already satisfied: requests==2.32.4 in c:\\users\\raphael\\documents\\github\\nonsig-master-thesis\\venv\\lib\\site-packages (from -r requirements.txt (line 80)) (2.32.4)\n",
      "Requirement already satisfied: rich==14.0.0 in c:\\users\\raphael\\documents\\github\\nonsig-master-thesis\\venv\\lib\\site-packages (from -r requirements.txt (line 81)) (14.0.0)\n",
      "Requirement already satisfied: safetensors==0.5.3 in c:\\users\\raphael\\documents\\github\\nonsig-master-thesis\\venv\\lib\\site-packages (from -r requirements.txt (line 82)) (0.5.3)\n",
      "Requirement already satisfied: scikit-learn==1.7.0 in c:\\users\\raphael\\documents\\github\\nonsig-master-thesis\\venv\\lib\\site-packages (from -r requirements.txt (line 83)) (1.7.0)\n",
      "Requirement already satisfied: scipy==1.16.0 in c:\\users\\raphael\\documents\\github\\nonsig-master-thesis\\venv\\lib\\site-packages (from -r requirements.txt (line 84)) (1.16.0)\n",
      "Requirement already satisfied: seaborn==0.13.2 in c:\\users\\raphael\\documents\\github\\nonsig-master-thesis\\venv\\lib\\site-packages (from -r requirements.txt (line 85)) (0.13.2)\n",
      "Requirement already satisfied: setuptools==80.9.0 in c:\\users\\raphael\\documents\\github\\nonsig-master-thesis\\venv\\lib\\site-packages (from -r requirements.txt (line 86)) (80.9.0)\n",
      "Requirement already satisfied: six==1.17.0 in c:\\users\\raphael\\documents\\github\\nonsig-master-thesis\\venv\\lib\\site-packages (from -r requirements.txt (line 87)) (1.17.0)\n",
      "Requirement already satisfied: stack-data==0.6.3 in c:\\users\\raphael\\documents\\github\\nonsig-master-thesis\\venv\\lib\\site-packages (from -r requirements.txt (line 88)) (0.6.3)\n",
      "Requirement already satisfied: sympy==1.14.0 in c:\\users\\raphael\\documents\\github\\nonsig-master-thesis\\venv\\lib\\site-packages (from -r requirements.txt (line 89)) (1.14.0)\n",
      "Requirement already satisfied: tensorboard==2.19.0 in c:\\users\\raphael\\documents\\github\\nonsig-master-thesis\\venv\\lib\\site-packages (from -r requirements.txt (line 90)) (2.19.0)\n",
      "Requirement already satisfied: tensorboard-data-server==0.7.2 in c:\\users\\raphael\\documents\\github\\nonsig-master-thesis\\venv\\lib\\site-packages (from -r requirements.txt (line 91)) (0.7.2)\n",
      "Requirement already satisfied: tensorflow==2.19.0 in c:\\users\\raphael\\documents\\github\\nonsig-master-thesis\\venv\\lib\\site-packages (from -r requirements.txt (line 92)) (2.19.0)\n",
      "Requirement already satisfied: termcolor==3.1.0 in c:\\users\\raphael\\documents\\github\\nonsig-master-thesis\\venv\\lib\\site-packages (from -r requirements.txt (line 93)) (3.1.0)\n",
      "Requirement already satisfied: tf_keras==2.19.0 in c:\\users\\raphael\\documents\\github\\nonsig-master-thesis\\venv\\lib\\site-packages (from -r requirements.txt (line 94)) (2.19.0)\n",
      "Requirement already satisfied: threadpoolctl==3.6.0 in c:\\users\\raphael\\documents\\github\\nonsig-master-thesis\\venv\\lib\\site-packages (from -r requirements.txt (line 95)) (3.6.0)\n",
      "Requirement already satisfied: tokenizers==0.21.2 in c:\\users\\raphael\\documents\\github\\nonsig-master-thesis\\venv\\lib\\site-packages (from -r requirements.txt (line 96)) (0.21.2)\n",
      "Requirement already satisfied: tornado==6.5.1 in c:\\users\\raphael\\documents\\github\\nonsig-master-thesis\\venv\\lib\\site-packages (from -r requirements.txt (line 97)) (6.5.1)\n",
      "Requirement already satisfied: tqdm==4.67.1 in c:\\users\\raphael\\documents\\github\\nonsig-master-thesis\\venv\\lib\\site-packages (from -r requirements.txt (line 98)) (4.67.1)\n",
      "Requirement already satisfied: traitlets==5.14.3 in c:\\users\\raphael\\documents\\github\\nonsig-master-thesis\\venv\\lib\\site-packages (from -r requirements.txt (line 99)) (5.14.3)\n",
      "Requirement already satisfied: transformers==4.53.1 in c:\\users\\raphael\\documents\\github\\nonsig-master-thesis\\venv\\lib\\site-packages (from -r requirements.txt (line 100)) (4.53.1)\n",
      "Requirement already satisfied: typing_extensions==4.14.1 in c:\\users\\raphael\\documents\\github\\nonsig-master-thesis\\venv\\lib\\site-packages (from -r requirements.txt (line 101)) (4.14.1)\n",
      "Requirement already satisfied: tzdata==2025.2 in c:\\users\\raphael\\documents\\github\\nonsig-master-thesis\\venv\\lib\\site-packages (from -r requirements.txt (line 102)) (2025.2)\n",
      "Requirement already satisfied: urllib3==2.5.0 in c:\\users\\raphael\\documents\\github\\nonsig-master-thesis\\venv\\lib\\site-packages (from -r requirements.txt (line 103)) (2.5.0)\n",
      "Requirement already satisfied: wcwidth==0.2.13 in c:\\users\\raphael\\documents\\github\\nonsig-master-thesis\\venv\\lib\\site-packages (from -r requirements.txt (line 104)) (0.2.13)\n",
      "Requirement already satisfied: Werkzeug==3.1.3 in c:\\users\\raphael\\documents\\github\\nonsig-master-thesis\\venv\\lib\\site-packages (from -r requirements.txt (line 105)) (3.1.3)\n",
      "Requirement already satisfied: wheel==0.45.1 in c:\\users\\raphael\\documents\\github\\nonsig-master-thesis\\venv\\lib\\site-packages (from -r requirements.txt (line 106)) (0.45.1)\n",
      "Requirement already satisfied: wrapt==1.17.2 in c:\\users\\raphael\\documents\\github\\nonsig-master-thesis\\venv\\lib\\site-packages (from -r requirements.txt (line 107)) (1.17.2)\n",
      "Requirement already satisfied: xxhash==3.5.0 in c:\\users\\raphael\\documents\\github\\nonsig-master-thesis\\venv\\lib\\site-packages (from -r requirements.txt (line 108)) (3.5.0)\n",
      "Requirement already satisfied: yarl==1.20.1 in c:\\users\\raphael\\documents\\github\\nonsig-master-thesis\\venv\\lib\\site-packages (from -r requirements.txt (line 109)) (1.20.1)\n",
      "Requirement already satisfied: torch>=2.0.0 in c:\\users\\raphael\\documents\\github\\nonsig-master-thesis\\venv\\lib\\site-packages (from accelerate==1.8.1->-r requirements.txt (line 2)) (2.7.1+cu128)\n"
     ]
    },
    {
     "name": "stderr",
     "output_type": "stream",
     "text": [
      "\n",
      "[notice] A new release of pip is available: 25.0.1 -> 25.1.1\n",
      "[notice] To update, run: python.exe -m pip install --upgrade pip\n"
     ]
    }
   ],
   "source": [
    "! pip install -r requirements.txt"
   ]
  },
  {
   "cell_type": "code",
   "execution_count": 2,
   "id": "5946c6f5",
   "metadata": {},
   "outputs": [
    {
     "name": "stdout",
     "output_type": "stream",
     "text": [
      "Looking in links: https://download.pytorch.org/whl/torch/\n",
      "Requirement already satisfied: torch==2.7.1+cu128 in c:\\users\\raphael\\documents\\github\\nonsig-master-thesis\\venv\\lib\\site-packages (2.7.1+cu128)\n",
      "Requirement already satisfied: filelock in c:\\users\\raphael\\documents\\github\\nonsig-master-thesis\\venv\\lib\\site-packages (from torch==2.7.1+cu128) (3.18.0)\n",
      "Requirement already satisfied: typing-extensions>=4.10.0 in c:\\users\\raphael\\documents\\github\\nonsig-master-thesis\\venv\\lib\\site-packages (from torch==2.7.1+cu128) (4.14.1)\n",
      "Requirement already satisfied: sympy>=1.13.3 in c:\\users\\raphael\\documents\\github\\nonsig-master-thesis\\venv\\lib\\site-packages (from torch==2.7.1+cu128) (1.14.0)\n",
      "Requirement already satisfied: networkx in c:\\users\\raphael\\documents\\github\\nonsig-master-thesis\\venv\\lib\\site-packages (from torch==2.7.1+cu128) (3.5)\n",
      "Requirement already satisfied: jinja2 in c:\\users\\raphael\\documents\\github\\nonsig-master-thesis\\venv\\lib\\site-packages (from torch==2.7.1+cu128) (3.1.6)\n",
      "Requirement already satisfied: fsspec in c:\\users\\raphael\\documents\\github\\nonsig-master-thesis\\venv\\lib\\site-packages (from torch==2.7.1+cu128) (2025.3.0)\n",
      "Requirement already satisfied: setuptools in c:\\users\\raphael\\documents\\github\\nonsig-master-thesis\\venv\\lib\\site-packages (from torch==2.7.1+cu128) (80.9.0)\n",
      "Requirement already satisfied: mpmath<1.4,>=1.1.0 in c:\\users\\raphael\\documents\\github\\nonsig-master-thesis\\venv\\lib\\site-packages (from sympy>=1.13.3->torch==2.7.1+cu128) (1.3.0)\n",
      "Requirement already satisfied: MarkupSafe>=2.0 in c:\\users\\raphael\\documents\\github\\nonsig-master-thesis\\venv\\lib\\site-packages (from jinja2->torch==2.7.1+cu128) (3.0.2)\n"
     ]
    },
    {
     "name": "stderr",
     "output_type": "stream",
     "text": [
      "\n",
      "[notice] A new release of pip is available: 25.0.1 -> 25.1.1\n",
      "[notice] To update, run: python.exe -m pip install --upgrade pip\n"
     ]
    },
    {
     "name": "stdout",
     "output_type": "stream",
     "text": [
      "Looking in links: https://download.pytorch.org/whl/torchaudio/\n",
      "Requirement already satisfied: torchaudio==2.7.1+cu128 in c:\\users\\raphael\\documents\\github\\nonsig-master-thesis\\venv\\lib\\site-packages (2.7.1+cu128)\n",
      "Requirement already satisfied: torch==2.7.1+cu128 in c:\\users\\raphael\\documents\\github\\nonsig-master-thesis\\venv\\lib\\site-packages (from torchaudio==2.7.1+cu128) (2.7.1+cu128)\n",
      "Requirement already satisfied: filelock in c:\\users\\raphael\\documents\\github\\nonsig-master-thesis\\venv\\lib\\site-packages (from torch==2.7.1+cu128->torchaudio==2.7.1+cu128) (3.18.0)\n",
      "Requirement already satisfied: typing-extensions>=4.10.0 in c:\\users\\raphael\\documents\\github\\nonsig-master-thesis\\venv\\lib\\site-packages (from torch==2.7.1+cu128->torchaudio==2.7.1+cu128) (4.14.1)\n",
      "Requirement already satisfied: sympy>=1.13.3 in c:\\users\\raphael\\documents\\github\\nonsig-master-thesis\\venv\\lib\\site-packages (from torch==2.7.1+cu128->torchaudio==2.7.1+cu128) (1.14.0)\n",
      "Requirement already satisfied: networkx in c:\\users\\raphael\\documents\\github\\nonsig-master-thesis\\venv\\lib\\site-packages (from torch==2.7.1+cu128->torchaudio==2.7.1+cu128) (3.5)\n",
      "Requirement already satisfied: jinja2 in c:\\users\\raphael\\documents\\github\\nonsig-master-thesis\\venv\\lib\\site-packages (from torch==2.7.1+cu128->torchaudio==2.7.1+cu128) (3.1.6)\n",
      "Requirement already satisfied: fsspec in c:\\users\\raphael\\documents\\github\\nonsig-master-thesis\\venv\\lib\\site-packages (from torch==2.7.1+cu128->torchaudio==2.7.1+cu128) (2025.3.0)\n",
      "Requirement already satisfied: setuptools in c:\\users\\raphael\\documents\\github\\nonsig-master-thesis\\venv\\lib\\site-packages (from torch==2.7.1+cu128->torchaudio==2.7.1+cu128) (80.9.0)\n",
      "Requirement already satisfied: mpmath<1.4,>=1.1.0 in c:\\users\\raphael\\documents\\github\\nonsig-master-thesis\\venv\\lib\\site-packages (from sympy>=1.13.3->torch==2.7.1+cu128->torchaudio==2.7.1+cu128) (1.3.0)\n",
      "Requirement already satisfied: MarkupSafe>=2.0 in c:\\users\\raphael\\documents\\github\\nonsig-master-thesis\\venv\\lib\\site-packages (from jinja2->torch==2.7.1+cu128->torchaudio==2.7.1+cu128) (3.0.2)\n"
     ]
    },
    {
     "name": "stderr",
     "output_type": "stream",
     "text": [
      "\n",
      "[notice] A new release of pip is available: 25.0.1 -> 25.1.1\n",
      "[notice] To update, run: python.exe -m pip install --upgrade pip\n"
     ]
    },
    {
     "name": "stdout",
     "output_type": "stream",
     "text": [
      "Looking in links: https://download.pytorch.org/whl/torchvision/\n",
      "Requirement already satisfied: torchvision==0.22.1+cu128 in c:\\users\\raphael\\documents\\github\\nonsig-master-thesis\\venv\\lib\\site-packages (0.22.1+cu128)\n",
      "Requirement already satisfied: numpy in c:\\users\\raphael\\documents\\github\\nonsig-master-thesis\\venv\\lib\\site-packages (from torchvision==0.22.1+cu128) (2.1.3)\n",
      "Requirement already satisfied: torch==2.7.1+cu128 in c:\\users\\raphael\\documents\\github\\nonsig-master-thesis\\venv\\lib\\site-packages (from torchvision==0.22.1+cu128) (2.7.1+cu128)\n",
      "Requirement already satisfied: pillow!=8.3.*,>=5.3.0 in c:\\users\\raphael\\documents\\github\\nonsig-master-thesis\\venv\\lib\\site-packages (from torchvision==0.22.1+cu128) (11.3.0)\n",
      "Requirement already satisfied: filelock in c:\\users\\raphael\\documents\\github\\nonsig-master-thesis\\venv\\lib\\site-packages (from torch==2.7.1+cu128->torchvision==0.22.1+cu128) (3.18.0)\n",
      "Requirement already satisfied: typing-extensions>=4.10.0 in c:\\users\\raphael\\documents\\github\\nonsig-master-thesis\\venv\\lib\\site-packages (from torch==2.7.1+cu128->torchvision==0.22.1+cu128) (4.14.1)\n",
      "Requirement already satisfied: sympy>=1.13.3 in c:\\users\\raphael\\documents\\github\\nonsig-master-thesis\\venv\\lib\\site-packages (from torch==2.7.1+cu128->torchvision==0.22.1+cu128) (1.14.0)\n",
      "Requirement already satisfied: networkx in c:\\users\\raphael\\documents\\github\\nonsig-master-thesis\\venv\\lib\\site-packages (from torch==2.7.1+cu128->torchvision==0.22.1+cu128) (3.5)\n",
      "Requirement already satisfied: jinja2 in c:\\users\\raphael\\documents\\github\\nonsig-master-thesis\\venv\\lib\\site-packages (from torch==2.7.1+cu128->torchvision==0.22.1+cu128) (3.1.6)\n",
      "Requirement already satisfied: fsspec in c:\\users\\raphael\\documents\\github\\nonsig-master-thesis\\venv\\lib\\site-packages (from torch==2.7.1+cu128->torchvision==0.22.1+cu128) (2025.3.0)\n",
      "Requirement already satisfied: setuptools in c:\\users\\raphael\\documents\\github\\nonsig-master-thesis\\venv\\lib\\site-packages (from torch==2.7.1+cu128->torchvision==0.22.1+cu128) (80.9.0)\n",
      "Requirement already satisfied: mpmath<1.4,>=1.1.0 in c:\\users\\raphael\\documents\\github\\nonsig-master-thesis\\venv\\lib\\site-packages (from sympy>=1.13.3->torch==2.7.1+cu128->torchvision==0.22.1+cu128) (1.3.0)\n",
      "Requirement already satisfied: MarkupSafe>=2.0 in c:\\users\\raphael\\documents\\github\\nonsig-master-thesis\\venv\\lib\\site-packages (from jinja2->torch==2.7.1+cu128->torchvision==0.22.1+cu128) (3.0.2)\n"
     ]
    },
    {
     "name": "stderr",
     "output_type": "stream",
     "text": [
      "\n",
      "[notice] A new release of pip is available: 25.0.1 -> 25.1.1\n",
      "[notice] To update, run: python.exe -m pip install --upgrade pip\n"
     ]
    }
   ],
   "source": [
    "# If you work with GPU-support:\n",
    "! pip install torch==2.7.1+cu128 -f https://download.pytorch.org/whl/torch/\n",
    "! pip install torchaudio==2.7.1+cu128 -f https://download.pytorch.org/whl/torchaudio/\n",
    "! pip install torchvision==0.22.1+cu128 -f https://download.pytorch.org/whl/torchvision/"
   ]
  },
  {
   "cell_type": "code",
   "execution_count": 3,
   "id": "645e8ca9",
   "metadata": {},
   "outputs": [],
   "source": [
    "# If you only work with CPU-support:\n",
    "# ! pip install torch==2.7.1\n",
    "# ! pip install torchaudio==2.7.1\n",
    "# ! pip install torchvision==0.22.1"
   ]
  },
  {
   "cell_type": "markdown",
   "id": "6d5fa995",
   "metadata": {},
   "source": [
    "### 0.2 GPU setup"
   ]
  },
  {
   "cell_type": "code",
   "execution_count": 4,
   "id": "a3336508",
   "metadata": {},
   "outputs": [
    {
     "name": "stdout",
     "output_type": "stream",
     "text": [
      "True\n",
      "0\n",
      "NVIDIA GeForce RTX 2070 with Max-Q Design\n"
     ]
    }
   ],
   "source": [
    "# Check if CUDA is available and print the current device's name\n",
    "import torch\n",
    "print(torch.cuda.is_available())\n",
    "if torch.cuda.is_available():\n",
    "    print(torch.cuda.current_device())\n",
    "    print(torch.cuda.get_device_name(0))"
   ]
  },
  {
   "cell_type": "markdown",
   "id": "19253634",
   "metadata": {},
   "source": [
    "## 1. Configuration"
   ]
  },
  {
   "cell_type": "code",
   "execution_count": 5,
   "id": "ff026edd",
   "metadata": {},
   "outputs": [],
   "source": [
    "# Data variables\n",
    "data_path = r\"../../data/labeled/2025-06-28_labeled_data.xlsx\" # path to the Excel file with the labeled data\n",
    "text_column_name = \"expanded\" # name of the column containing the text to classify\n",
    "label_column_name = \"label_strict\" # name of the column containing the labels (0 = correct or 1 = incorrect)\n",
    "num_labels = 2 # binary classification (see above)\n",
    "\n",
    "# Model configuration\n",
    "model_name = \"bert-base-uncased\" # standard; I specify other models in the \"3. Initialize Models\" section of this script\n",
    "test_size = 0.2 # ratio of the dataset to be used for testing\n",
    "max_length = 350 # maximum length of the input sequences for BERT\n",
    "num_epochs = 10 # number of epochs for training\n",
    "batch_size = 16 # batch size for training and evaluation\n",
    "learning_rate = 2e-5 # learning rate for the optimizer\n",
    "weight_decay = 0.01 # weight decay for the optimizer\n",
    "early_stopping_patience = 2 # number of epochs with no improvement after which training will be stopped\n",
    "\n",
    "# Seed for reproducibility\n",
    "import random\n",
    "import numpy as np\n",
    "seed = 42\n",
    "random.seed(seed)\n",
    "np.random.seed(seed)\n",
    "torch.manual_seed(seed)\n",
    "torch.cuda.manual_seed_all(seed)"
   ]
  },
  {
   "cell_type": "markdown",
   "id": "050e4828",
   "metadata": {},
   "source": [
    "## 2. Read and prepare dataset"
   ]
  },
  {
   "cell_type": "code",
   "execution_count": 7,
   "id": "1789fc47",
   "metadata": {},
   "outputs": [
    {
     "data": {
      "application/vnd.microsoft.datawrangler.viewer.v0+json": {
       "columns": [
        {
         "name": "index",
         "rawType": "int64",
         "type": "integer"
        },
        {
         "name": "text",
         "rawType": "object",
         "type": "string"
        },
        {
         "name": "label",
         "rawType": "int64",
         "type": "integer"
        }
       ],
       "ref": "7afdf3e0-1a1b-4bb3-b394-8a1d9a5c68de",
       "rows": [
        [
         "0",
         "As predicted, a Mann-Whitney U test indicated that the percentage of children who waited for the full 15-min period (50%) was comparable with the waiting times in the aware condition of Study 1 (40%; Z = -0.77, p = .440).",
         "1"
        ],
        [
         "1",
         "Contrary to Study 2, results showed no significant effect of rhythm, F(2, 54) = 0.93, p = .40, Î· p 2 = .033 (see Fig. 2c), with BF analysis (BF 10 = 0.21) indicating moderate (Quintana & Williams, 2018) or substantial (Dienes, 2014;Jeffreys, 1939Jeffreys, /1961) ) evidence in favor of the null hypothesis.",
         "0"
        ],
        [
         "2",
         "Results revealed no significant relationship between CP post-jump-scare enjoyment and CP postjump-scare fear (Model 5c: Î² = -0.12, SE = 0.07, p = .095).",
         "0"
        ],
        [
         "3",
         "There were no significant differences by gender in the likelihood of challenging speakers (12% of men, 15% of women), b = 0.02, t(187) = 0.42, p = .676, 95% CI = [-0.09, 0.14].",
         "0"
        ],
        [
         "4",
         "As in Study 1, individuals' risk and social preferences were uncorrelated (Spearman's r = .03, p = .800).",
         "1"
        ]
       ],
       "shape": {
        "columns": 2,
        "rows": 5
       }
      },
      "text/html": [
       "<div>\n",
       "<style scoped>\n",
       "    .dataframe tbody tr th:only-of-type {\n",
       "        vertical-align: middle;\n",
       "    }\n",
       "\n",
       "    .dataframe tbody tr th {\n",
       "        vertical-align: top;\n",
       "    }\n",
       "\n",
       "    .dataframe thead th {\n",
       "        text-align: right;\n",
       "    }\n",
       "</style>\n",
       "<table border=\"1\" class=\"dataframe\">\n",
       "  <thead>\n",
       "    <tr style=\"text-align: right;\">\n",
       "      <th></th>\n",
       "      <th>text</th>\n",
       "      <th>label</th>\n",
       "    </tr>\n",
       "  </thead>\n",
       "  <tbody>\n",
       "    <tr>\n",
       "      <th>0</th>\n",
       "      <td>As predicted, a Mann-Whitney U test indicated ...</td>\n",
       "      <td>1</td>\n",
       "    </tr>\n",
       "    <tr>\n",
       "      <th>1</th>\n",
       "      <td>Contrary to Study 2, results showed no signifi...</td>\n",
       "      <td>0</td>\n",
       "    </tr>\n",
       "    <tr>\n",
       "      <th>2</th>\n",
       "      <td>Results revealed no significant relationship b...</td>\n",
       "      <td>0</td>\n",
       "    </tr>\n",
       "    <tr>\n",
       "      <th>3</th>\n",
       "      <td>There were no significant differences by gende...</td>\n",
       "      <td>0</td>\n",
       "    </tr>\n",
       "    <tr>\n",
       "      <th>4</th>\n",
       "      <td>As in Study 1, individuals' risk and social pr...</td>\n",
       "      <td>1</td>\n",
       "    </tr>\n",
       "  </tbody>\n",
       "</table>\n",
       "</div>"
      ],
      "text/plain": [
       "                                                text  label\n",
       "0  As predicted, a Mann-Whitney U test indicated ...      1\n",
       "1  Contrary to Study 2, results showed no signifi...      0\n",
       "2  Results revealed no significant relationship b...      0\n",
       "3  There were no significant differences by gende...      0\n",
       "4  As in Study 1, individuals' risk and social pr...      1"
      ]
     },
     "execution_count": 7,
     "metadata": {},
     "output_type": "execute_result"
    }
   ],
   "source": [
    "import pandas as pd\n",
    "from sklearn.utils import resample\n",
    "\n",
    "# Load the data\n",
    "df = pd.read_excel(data_path)\n",
    "\n",
    "# Remove all columns but 'expanded' and 'label_strict'\n",
    "df = df.drop(columns=['statement_id', 'section', 'header','div', 'p', 's', 'article_id', 'p_comp', 'p_value', 'context', 'text', 'label_kind', 'label_keywords', 'label_comment'])\n",
    "\n",
    "# Change column names\n",
    "df = df.rename(columns={text_column_name: 'text', label_column_name: 'label'})\n",
    "\n",
    "# Remove rows where 'label' is NA or -99\n",
    "df = df[~df['label'].isna() & (df['label'] != -99)]\n",
    "\n",
    "# Convert label column to int (required for classification)\n",
    "df['label'] = df['label'].astype(int)\n",
    "\n",
    "# Balance labels via undersampling (generalized)\n",
    "label_counts = df['label'].value_counts()  # Get counts of each label\n",
    "minority_label = label_counts.idxmin() # Get the minority label\n",
    "majority_label = label_counts.idxmax() # Get the majority label\n",
    "\n",
    "df_minority = df[df['label'] == minority_label]\n",
    "df_majority = df[df['label'] == majority_label]\n",
    "\n",
    "df_majority_downsampled = resample( # Downsample majority label\n",
    "    df_majority,\n",
    "    replace=False,\n",
    "    n_samples=len(df_minority),\n",
    "    random_state=seed\n",
    ")\n",
    "\n",
    "df = pd.concat([df_majority_downsampled, df_minority]).sample(frac=1, random_state=seed).reset_index(drop=True)\n",
    "\n",
    "# Show head\n",
    "df.head()"
   ]
  },
  {
   "cell_type": "markdown",
   "id": "c2e53af8",
   "metadata": {},
   "source": [
    "### 2.1 Create Train/Test set"
   ]
  },
  {
   "cell_type": "code",
   "execution_count": 8,
   "id": "2e797a35",
   "metadata": {},
   "outputs": [
    {
     "name": "stderr",
     "output_type": "stream",
     "text": [
      "c:\\Users\\Raphael\\Documents\\GitHub\\nonsig-master-thesis\\venv\\Lib\\site-packages\\tqdm\\auto.py:21: TqdmWarning: IProgress not found. Please update jupyter and ipywidgets. See https://ipywidgets.readthedocs.io/en/stable/user_install.html\n",
      "  from .autonotebook import tqdm as notebook_tqdm\n"
     ]
    }
   ],
   "source": [
    "from sklearn.model_selection import train_test_split\n",
    "\n",
    "# Split the dataset into training and test sets\n",
    "df_train, df_test = train_test_split(df, test_size=test_size, random_state=seed, stratify=df['label'])\n",
    "\n",
    "# Convert to Huggingface dataset\n",
    "from datasets import Dataset\n",
    "train_dataset = Dataset.from_pandas(df_train)\n",
    "test_dataset = Dataset.from_pandas(df_test)"
   ]
  },
  {
   "cell_type": "markdown",
   "id": "ecff339a",
   "metadata": {},
   "source": [
    "Header of the Training set:"
   ]
  },
  {
   "cell_type": "code",
   "execution_count": 9,
   "id": "8f28446b",
   "metadata": {},
   "outputs": [
    {
     "data": {
      "application/vnd.microsoft.datawrangler.viewer.v0+json": {
       "columns": [
        {
         "name": "index",
         "rawType": "int64",
         "type": "integer"
        },
        {
         "name": "text",
         "rawType": "object",
         "type": "string"
        },
        {
         "name": "label",
         "rawType": "int64",
         "type": "integer"
        }
       ],
       "ref": "c1653577-d657-4b6d-ae65-8c5e19c1fd95",
       "rows": [
        [
         "462",
         "Step 1, in which the predictors were fine motor skills, gross motor skills, age, and gender, did not produce significant results, F(4, 48) = 0.70, p > .250.",
         "0"
        ],
        [
         "575",
         "Also, planned pairwise comparisons yielded a reliable difference between the high-and low-probability locations in the biased blocks, t(79) = 3.35 p = .001, d = 0.37, but not in the neutral blocks, t(79) = 1.04, p = .30, d = 0.12.",
         "0"
        ],
        [
         "556",
         "Again, results indicated that endorsement of direct aggression was higher for violations that targeted the self rather than another person, t(343) = -4.57, p < .001, d = -0.43, 95% CI = [-0.65, -0.22], whereas target condition did not have a significant effect on endorsement of indirect aggression, though the pattern of the means was in the opposing direction, t(343) = 1.03, p > .25, d = 0.10, 95% CI = [-0.11, 0.31] (see Fig.",
         "0"
        ],
        [
         "220",
         "Similarly, there were no significant relationships between largescale heart rate standard deviation and self-reported enjoyment (Model 2b: Î² = 0.03, SE = 0.06, p = .677) nor between large-scale heart rate skewness and self-reported enjoyment (Model 3b: Î² = 0.67, SE = 0.44, p = .131).",
         "0"
        ],
        [
         "423",
         "Results revealed no significant relationships between small-scale heart rate standard deviation and self-reported fear (Model 4a: Î² = 7.42, SE = 6.34, p = .245), nor between small-scale heart rate skewness and self-reported fear (Model 5a: Î² = 8.21, SE = 8.86, p = .357).",
         "0"
        ]
       ],
       "shape": {
        "columns": 2,
        "rows": 5
       }
      },
      "text/html": [
       "<div>\n",
       "<style scoped>\n",
       "    .dataframe tbody tr th:only-of-type {\n",
       "        vertical-align: middle;\n",
       "    }\n",
       "\n",
       "    .dataframe tbody tr th {\n",
       "        vertical-align: top;\n",
       "    }\n",
       "\n",
       "    .dataframe thead th {\n",
       "        text-align: right;\n",
       "    }\n",
       "</style>\n",
       "<table border=\"1\" class=\"dataframe\">\n",
       "  <thead>\n",
       "    <tr style=\"text-align: right;\">\n",
       "      <th></th>\n",
       "      <th>text</th>\n",
       "      <th>label</th>\n",
       "    </tr>\n",
       "  </thead>\n",
       "  <tbody>\n",
       "    <tr>\n",
       "      <th>462</th>\n",
       "      <td>Step 1, in which the predictors were fine moto...</td>\n",
       "      <td>0</td>\n",
       "    </tr>\n",
       "    <tr>\n",
       "      <th>575</th>\n",
       "      <td>Also, planned pairwise comparisons yielded a r...</td>\n",
       "      <td>0</td>\n",
       "    </tr>\n",
       "    <tr>\n",
       "      <th>556</th>\n",
       "      <td>Again, results indicated that endorsement of d...</td>\n",
       "      <td>0</td>\n",
       "    </tr>\n",
       "    <tr>\n",
       "      <th>220</th>\n",
       "      <td>Similarly, there were no significant relations...</td>\n",
       "      <td>0</td>\n",
       "    </tr>\n",
       "    <tr>\n",
       "      <th>423</th>\n",
       "      <td>Results revealed no significant relationships ...</td>\n",
       "      <td>0</td>\n",
       "    </tr>\n",
       "  </tbody>\n",
       "</table>\n",
       "</div>"
      ],
      "text/plain": [
       "                                                  text  label\n",
       "462  Step 1, in which the predictors were fine moto...      0\n",
       "575  Also, planned pairwise comparisons yielded a r...      0\n",
       "556  Again, results indicated that endorsement of d...      0\n",
       "220  Similarly, there were no significant relations...      0\n",
       "423  Results revealed no significant relationships ...      0"
      ]
     },
     "execution_count": 9,
     "metadata": {},
     "output_type": "execute_result"
    }
   ],
   "source": [
    "df_train.head()"
   ]
  },
  {
   "cell_type": "code",
   "execution_count": 10,
   "id": "c3ca483d",
   "metadata": {},
   "outputs": [
    {
     "name": "stdout",
     "output_type": "stream",
     "text": [
      "Training label distribution:\n",
      "label\n",
      "0    263\n",
      "1    263\n",
      "Name: count, dtype: int64\n"
     ]
    }
   ],
   "source": [
    "# Check label balance in training set\n",
    "print(\"Training label distribution:\")\n",
    "print(df_train['label'].value_counts())"
   ]
  },
  {
   "cell_type": "markdown",
   "id": "80c18c19",
   "metadata": {},
   "source": [
    "Header of the Test set:"
   ]
  },
  {
   "cell_type": "code",
   "execution_count": 11,
   "id": "2a7722b9",
   "metadata": {},
   "outputs": [
    {
     "data": {
      "application/vnd.microsoft.datawrangler.viewer.v0+json": {
       "columns": [
        {
         "name": "index",
         "rawType": "int64",
         "type": "integer"
        },
        {
         "name": "text",
         "rawType": "object",
         "type": "string"
        },
        {
         "name": "label",
         "rawType": "int64",
         "type": "integer"
        }
       ],
       "ref": "f035ee1e-b0e5-4bdb-80f6-ac301dd0ef7b",
       "rows": [
        [
         "520",
         "Accordingly, we found no difference in responses between the foreground and background targets for either the 50-ms duration, t(35) = 0.40, p = .692, d = 0.07, or the 100-ms duration, t(35) = 1.21, p = .233, d = 0.25.",
         "0"
        ],
        [
         "357",
         "We found no gender differences in task performance, t(51) = -0.66, p > .250.",
         "0"
        ],
        [
         "650",
         "For the opponent, significant increases in the likelihood of pitches being called strikes after the ejection are present for coaches' ejections (OR = 1.398, 95% CI = [1.211, 1.613], p < .001) but not for players' ejections (OR = 1.128, 95% CI = [0.982, 1.295], p < .1138).",
         "0"
        ],
        [
         "250",
         "There was no correlation between these two effects, which supports the dissociation observed in Experiment 1 (r = .13, p > .25; Fig. 2b).",
         "1"
        ],
        [
         "202",
         "Indeed, there was no statistically significant relationship between endorsements of anger and disgust, r = -.01, 95% confidence interval (CI) = [-.15, .13], p > .25.",
         "0"
        ]
       ],
       "shape": {
        "columns": 2,
        "rows": 5
       }
      },
      "text/html": [
       "<div>\n",
       "<style scoped>\n",
       "    .dataframe tbody tr th:only-of-type {\n",
       "        vertical-align: middle;\n",
       "    }\n",
       "\n",
       "    .dataframe tbody tr th {\n",
       "        vertical-align: top;\n",
       "    }\n",
       "\n",
       "    .dataframe thead th {\n",
       "        text-align: right;\n",
       "    }\n",
       "</style>\n",
       "<table border=\"1\" class=\"dataframe\">\n",
       "  <thead>\n",
       "    <tr style=\"text-align: right;\">\n",
       "      <th></th>\n",
       "      <th>text</th>\n",
       "      <th>label</th>\n",
       "    </tr>\n",
       "  </thead>\n",
       "  <tbody>\n",
       "    <tr>\n",
       "      <th>520</th>\n",
       "      <td>Accordingly, we found no difference in respons...</td>\n",
       "      <td>0</td>\n",
       "    </tr>\n",
       "    <tr>\n",
       "      <th>357</th>\n",
       "      <td>We found no gender differences in task perform...</td>\n",
       "      <td>0</td>\n",
       "    </tr>\n",
       "    <tr>\n",
       "      <th>650</th>\n",
       "      <td>For the opponent, significant increases in the...</td>\n",
       "      <td>0</td>\n",
       "    </tr>\n",
       "    <tr>\n",
       "      <th>250</th>\n",
       "      <td>There was no correlation between these two eff...</td>\n",
       "      <td>1</td>\n",
       "    </tr>\n",
       "    <tr>\n",
       "      <th>202</th>\n",
       "      <td>Indeed, there was no statistically significant...</td>\n",
       "      <td>0</td>\n",
       "    </tr>\n",
       "  </tbody>\n",
       "</table>\n",
       "</div>"
      ],
      "text/plain": [
       "                                                  text  label\n",
       "520  Accordingly, we found no difference in respons...      0\n",
       "357  We found no gender differences in task perform...      0\n",
       "650  For the opponent, significant increases in the...      0\n",
       "250  There was no correlation between these two eff...      1\n",
       "202  Indeed, there was no statistically significant...      0"
      ]
     },
     "execution_count": 11,
     "metadata": {},
     "output_type": "execute_result"
    }
   ],
   "source": [
    "df_test.head()"
   ]
  },
  {
   "cell_type": "code",
   "execution_count": 12,
   "id": "fc4d85ef",
   "metadata": {},
   "outputs": [
    {
     "name": "stdout",
     "output_type": "stream",
     "text": [
      "Test label distribution:\n",
      "label\n",
      "0    66\n",
      "1    66\n",
      "Name: count, dtype: int64\n"
     ]
    }
   ],
   "source": [
    "# Check label balance in test set\n",
    "print(\"Test label distribution:\")\n",
    "print(df_test['label'].value_counts())"
   ]
  },
  {
   "cell_type": "markdown",
   "id": "7ada89b4",
   "metadata": {},
   "source": [
    "### 2.2 Tokenize 'text'"
   ]
  },
  {
   "cell_type": "code",
   "execution_count": 13,
   "id": "4f669e54",
   "metadata": {},
   "outputs": [
    {
     "name": "stderr",
     "output_type": "stream",
     "text": [
      "Map: 100%|██████████| 526/526 [00:00<00:00, 3801.29 examples/s]\n",
      "Map: 100%|██████████| 132/132 [00:00<00:00, 4100.40 examples/s]\n"
     ]
    }
   ],
   "source": [
    "from transformers import AutoTokenizer\n",
    "\n",
    "tokenizer = AutoTokenizer.from_pretrained(model_name)\n",
    "\n",
    "def tokenize_for_bert(examples):\n",
    "    return tokenizer(examples[\"text\"], truncation=True, padding=True, max_length=max_length)\n",
    "\n",
    "tokenized_train = train_dataset.map(tokenize_for_bert, batched=True)\n",
    "\n",
    "tokenized_test = test_dataset.map(tokenize_for_bert, batched=True)"
   ]
  },
  {
   "cell_type": "markdown",
   "id": "8f2bf57e",
   "metadata": {},
   "source": [
    "## 3. Train BERT"
   ]
  },
  {
   "cell_type": "markdown",
   "id": "ef0e7023",
   "metadata": {},
   "source": [
    "### 3.1 Initializing model"
   ]
  },
  {
   "cell_type": "code",
   "execution_count": 14,
   "id": "d32e1ea4",
   "metadata": {},
   "outputs": [
    {
     "name": "stderr",
     "output_type": "stream",
     "text": [
      "Some weights of BertForSequenceClassification were not initialized from the model checkpoint at bert-base-uncased and are newly initialized: ['classifier.bias', 'classifier.weight']\n",
      "You should probably TRAIN this model on a down-stream task to be able to use it for predictions and inference.\n"
     ]
    }
   ],
   "source": [
    "from transformers import AutoModelForSequenceClassification\n",
    "\n",
    "model = AutoModelForSequenceClassification.from_pretrained(model_name, num_labels=num_labels)"
   ]
  },
  {
   "cell_type": "markdown",
   "id": "df611f60",
   "metadata": {},
   "source": [
    "### 3.2 Training regular BERT"
   ]
  },
  {
   "cell_type": "code",
   "execution_count": null,
   "id": "7b330cbd",
   "metadata": {},
   "outputs": [
    {
     "ename": "TypeError",
     "evalue": "TrainingArguments.__init__() got an unexpected keyword argument 'evaluation_strategy'",
     "output_type": "error",
     "traceback": [
      "\u001b[31m---------------------------------------------------------------------------\u001b[39m",
      "\u001b[31mTypeError\u001b[39m                                 Traceback (most recent call last)",
      "\u001b[36mCell\u001b[39m\u001b[36m \u001b[39m\u001b[32mIn[16]\u001b[39m\u001b[32m, line 27\u001b[39m\n\u001b[32m     18\u001b[39m     precision, recall, f1, _ = precision_recall_fscore_support(labels, preds, average=\u001b[33m\"\u001b[39m\u001b[33mbinary\u001b[39m\u001b[33m\"\u001b[39m)\n\u001b[32m     20\u001b[39m     \u001b[38;5;28;01mreturn\u001b[39;00m {\n\u001b[32m     21\u001b[39m         \u001b[33m\"\u001b[39m\u001b[33maccuracy\u001b[39m\u001b[33m\"\u001b[39m: acc,\n\u001b[32m     22\u001b[39m         \u001b[33m\"\u001b[39m\u001b[33mprecision\u001b[39m\u001b[33m\"\u001b[39m: precision,\n\u001b[32m     23\u001b[39m         \u001b[33m\"\u001b[39m\u001b[33mrecall\u001b[39m\u001b[33m\"\u001b[39m: recall,\n\u001b[32m     24\u001b[39m         \u001b[33m\"\u001b[39m\u001b[33mf1\u001b[39m\u001b[33m\"\u001b[39m: f1\n\u001b[32m     25\u001b[39m     }\n\u001b[32m---> \u001b[39m\u001b[32m27\u001b[39m training_args = \u001b[43mTrainingArguments\u001b[49m\u001b[43m(\u001b[49m\n\u001b[32m     28\u001b[39m \u001b[43m    \u001b[49m\u001b[43moutput_dir\u001b[49m\u001b[43m=\u001b[49m\u001b[33;43m\"\u001b[39;49m\u001b[33;43m./results\u001b[39;49m\u001b[33;43m\"\u001b[39;49m\u001b[43m,\u001b[49m\n\u001b[32m     29\u001b[39m \u001b[43m    \u001b[49m\u001b[43mlearning_rate\u001b[49m\u001b[43m=\u001b[49m\u001b[43mlearning_rate\u001b[49m\u001b[43m,\u001b[49m\u001b[43m \u001b[49m\u001b[38;5;66;43;03m# Specify learning rate for BERT\u001b[39;49;00m\n\u001b[32m     30\u001b[39m \u001b[43m    \u001b[49m\u001b[43mper_device_train_batch_size\u001b[49m\u001b[43m=\u001b[49m\u001b[43mbatch_size\u001b[49m\u001b[43m,\u001b[49m\n\u001b[32m     31\u001b[39m \u001b[43m    \u001b[49m\u001b[43mper_device_eval_batch_size\u001b[49m\u001b[43m=\u001b[49m\u001b[43mbatch_size\u001b[49m\u001b[43m,\u001b[49m\n\u001b[32m     32\u001b[39m \u001b[43m    \u001b[49m\u001b[43mnum_train_epochs\u001b[49m\u001b[43m=\u001b[49m\u001b[43mnum_epochs\u001b[49m\u001b[43m,\u001b[49m\n\u001b[32m     33\u001b[39m \u001b[43m    \u001b[49m\u001b[43mweight_decay\u001b[49m\u001b[43m=\u001b[49m\u001b[43mweight_decay\u001b[49m\u001b[43m,\u001b[49m\n\u001b[32m     34\u001b[39m \u001b[43m    \u001b[49m\u001b[43mlogging_strategy\u001b[49m\u001b[43m=\u001b[49m\u001b[33;43m\"\u001b[39;49m\u001b[33;43mepoch\u001b[39;49m\u001b[33;43m\"\u001b[39;49m\u001b[43m,\u001b[49m\n\u001b[32m     35\u001b[39m \u001b[43m    \u001b[49m\u001b[43mreport_to\u001b[49m\u001b[43m=\u001b[49m\u001b[33;43m\"\u001b[39;49m\u001b[33;43mnone\u001b[39;49m\u001b[33;43m\"\u001b[39;49m\u001b[43m,\u001b[49m\n\u001b[32m     36\u001b[39m \u001b[43m    \u001b[49m\u001b[43mevaluation_strategy\u001b[49m\u001b[43m=\u001b[49m\u001b[33;43m\"\u001b[39;49m\u001b[33;43mepoch\u001b[39;49m\u001b[33;43m\"\u001b[39;49m\u001b[43m,\u001b[49m\n\u001b[32m     37\u001b[39m \u001b[43m    \u001b[49m\u001b[43mload_best_model_at_end\u001b[49m\u001b[43m=\u001b[49m\u001b[38;5;28;43;01mTrue\u001b[39;49;00m\u001b[43m,\u001b[49m\n\u001b[32m     38\u001b[39m \u001b[43m)\u001b[49m\n\u001b[32m     40\u001b[39m \u001b[38;5;66;03m# Model specific setup\u001b[39;00m\n\u001b[32m     41\u001b[39m trainer = Trainer(\n\u001b[32m     42\u001b[39m     model=model,\n\u001b[32m     43\u001b[39m     args=training_args,\n\u001b[32m   (...)\u001b[39m\u001b[32m     49\u001b[39m     callbacks=[EarlyStoppingCallback(early_stopping_patience=early_stopping_patience)]  \u001b[38;5;66;03m# Stop training if no improvement after 2 epochs\u001b[39;00m\n\u001b[32m     50\u001b[39m )\n",
      "\u001b[31mTypeError\u001b[39m: TrainingArguments.__init__() got an unexpected keyword argument 'evaluation_strategy'"
     ]
    }
   ],
   "source": [
    "# Standard Setup for training a model with Huggingface Transformers\n",
    "from sklearn.metrics import accuracy_score, precision_recall_fscore_support\n",
    "from transformers import EarlyStoppingCallback\n",
    "from transformers import DataCollatorWithPadding\n",
    "from transformers import TrainingArguments, Trainer\n",
    "import evaluate\n",
    "import numpy as np\n",
    "\n",
    "data_collator = DataCollatorWithPadding(tokenizer=tokenizer)\n",
    "\n",
    "metric = evaluate.load(\"accuracy\")\n",
    "\n",
    "def compute_metrics(eval_pred):\n",
    "    logits, labels = eval_pred\n",
    "    preds = np.argmax(logits, axis=-1)\n",
    "\n",
    "    acc = accuracy_score(labels, preds)\n",
    "    precision, recall, f1, _ = precision_recall_fscore_support(labels, preds, average=\"binary\")\n",
    "\n",
    "    return {\n",
    "        \"accuracy\": acc,\n",
    "        \"precision\": precision,\n",
    "        \"recall\": recall,\n",
    "        \"f1\": f1\n",
    "    }\n",
    "\n",
    "training_args = TrainingArguments( # ERROR HERE, FIX LATER\n",
    "    output_dir=\"./results\",\n",
    "    learning_rate=learning_rate, # Specify learning rate for BERT\n",
    "    per_device_train_batch_size=batch_size,\n",
    "    per_device_eval_batch_size=batch_size,\n",
    "    num_train_epochs=num_epochs,\n",
    "    weight_decay=weight_decay,\n",
    "    logging_strategy=\"epoch\",\n",
    "    report_to=\"none\",\n",
    "    evaluation_strategy=\"epoch\",\n",
    "    load_best_model_at_end=True,\n",
    ")\n",
    "\n",
    "# Model specific setup\n",
    "trainer = Trainer(\n",
    "    model=model,\n",
    "    args=training_args,\n",
    "    train_dataset=tokenized_train,\n",
    "    eval_dataset=tokenized_test,\n",
    "    tokenizer=tokenizer,\n",
    "    data_collator=data_collator,\n",
    "    compute_metrics=compute_metrics,\n",
    "    callbacks=[EarlyStoppingCallback(early_stopping_patience=early_stopping_patience)]  # Stop training if no improvement after 2 epochs\n",
    ")"
   ]
  },
  {
   "cell_type": "code",
   "execution_count": null,
   "id": "a0ab3c9e",
   "metadata": {},
   "outputs": [
    {
     "data": {
      "text/html": [
       "\n",
       "    <div>\n",
       "      \n",
       "      <progress value='330' max='330' style='width:300px; height:20px; vertical-align: middle;'></progress>\n",
       "      [330/330 02:31, Epoch 5/5]\n",
       "    </div>\n",
       "    <table border=\"1\" class=\"dataframe\">\n",
       "  <thead>\n",
       " <tr style=\"text-align: left;\">\n",
       "      <th>Step</th>\n",
       "      <th>Training Loss</th>\n",
       "    </tr>\n",
       "  </thead>\n",
       "  <tbody>\n",
       "    <tr>\n",
       "      <td>66</td>\n",
       "      <td>0.662700</td>\n",
       "    </tr>\n",
       "    <tr>\n",
       "      <td>132</td>\n",
       "      <td>0.297700</td>\n",
       "    </tr>\n",
       "    <tr>\n",
       "      <td>198</td>\n",
       "      <td>0.141400</td>\n",
       "    </tr>\n",
       "    <tr>\n",
       "      <td>264</td>\n",
       "      <td>0.059900</td>\n",
       "    </tr>\n",
       "    <tr>\n",
       "      <td>330</td>\n",
       "      <td>0.031800</td>\n",
       "    </tr>\n",
       "  </tbody>\n",
       "</table><p>"
      ],
      "text/plain": [
       "<IPython.core.display.HTML object>"
      ]
     },
     "metadata": {},
     "output_type": "display_data"
    },
    {
     "data": {
      "text/plain": [
       "TrainOutput(global_step=330, training_loss=0.23869111826925565, metrics={'train_runtime': 153.1755, 'train_samples_per_second': 17.17, 'train_steps_per_second': 2.154, 'total_flos': 473034621990000.0, 'train_loss': 0.23869111826925565, 'epoch': 5.0})"
      ]
     },
     "execution_count": 16,
     "metadata": {},
     "output_type": "execute_result"
    }
   ],
   "source": [
    "trainer.train()"
   ]
  },
  {
   "cell_type": "markdown",
   "id": "86a63e73",
   "metadata": {},
   "source": [
    "#### 3.2.1 Save last model"
   ]
  },
  {
   "cell_type": "code",
   "execution_count": null,
   "id": "ab2a5e7a",
   "metadata": {},
   "outputs": [],
   "source": [
    "# Save the best model and tokenizer\n",
    "trainer.save_model(\"./best_model\")\n",
    "tokenizer.save_pretrained(\"./best_model\")"
   ]
  },
  {
   "cell_type": "markdown",
   "id": "63996c7d",
   "metadata": {},
   "source": [
    "### 3.3 Evaluate model"
   ]
  },
  {
   "cell_type": "markdown",
   "id": "42526e66",
   "metadata": {},
   "source": [
    "#### 3.3.1 Predict training data"
   ]
  },
  {
   "cell_type": "code",
   "execution_count": null,
   "id": "1016cf86",
   "metadata": {},
   "outputs": [
    {
     "data": {
      "text/html": [],
      "text/plain": [
       "<IPython.core.display.HTML object>"
      ]
     },
     "metadata": {},
     "output_type": "display_data"
    },
    {
     "name": "stdout",
     "output_type": "stream",
     "text": [
      "              precision    recall  f1-score   support\n",
      "\n",
      "           0       0.99      1.00      0.99       263\n",
      "           1       1.00      0.99      0.99       263\n",
      "\n",
      "    accuracy                           0.99       526\n",
      "   macro avg       0.99      0.99      0.99       526\n",
      "weighted avg       0.99      0.99      0.99       526\n",
      "\n"
     ]
    }
   ],
   "source": [
    "from sklearn.metrics import classification_report\n",
    "\n",
    "train_preds = trainer.predict(tokenized_train)\n",
    "train_preds = np.argmax(train_preds.predictions, axis=1)\n",
    "GT_train = df_train['label'].tolist()\n",
    "print(\"Training Classification Report:\")\n",
    "print(classification_report(GT_train, train_preds))"
   ]
  },
  {
   "cell_type": "markdown",
   "id": "ee34e701",
   "metadata": {},
   "source": [
    "#### 3.3.2 Predict test data"
   ]
  },
  {
   "cell_type": "code",
   "execution_count": null,
   "id": "c1671518",
   "metadata": {},
   "outputs": [
    {
     "data": {
      "text/html": [],
      "text/plain": [
       "<IPython.core.display.HTML object>"
      ]
     },
     "metadata": {},
     "output_type": "display_data"
    },
    {
     "name": "stdout",
     "output_type": "stream",
     "text": [
      "              precision    recall  f1-score   support\n",
      "\n",
      "           0       0.90      0.97      0.93        66\n",
      "           1       0.97      0.89      0.93        66\n",
      "\n",
      "    accuracy                           0.93       132\n",
      "   macro avg       0.93      0.93      0.93       132\n",
      "weighted avg       0.93      0.93      0.93       132\n",
      "\n"
     ]
    }
   ],
   "source": [
    "test_preds = trainer.predict(tokenized_test)\n",
    "test_preds = np.argmax(test_preds.predictions, axis=1)\n",
    "GT_test = df_test['label'].tolist()\n",
    "print(\"Test Classification Report:\")\n",
    "print(classification_report(GT_test, test_preds))"
   ]
  },
  {
   "cell_type": "markdown",
   "id": "e2830b7b",
   "metadata": {},
   "source": [
    "#### 3.3.3 4.3.3 Confusion-Matrix for test data"
   ]
  },
  {
   "cell_type": "code",
   "execution_count": null,
   "id": "bc29093b",
   "metadata": {},
   "outputs": [
    {
     "data": {
      "image/png": "[encoded data removed]",
      "text/plain": [
       "<Figure size 600x500 with 2 Axes>"
      ]
     },
     "metadata": {},
     "output_type": "display_data"
    }
   ],
   "source": [
    "import seaborn as sns\n",
    "from sklearn.metrics import confusion_matrix\n",
    "import matplotlib.pyplot as plt\n",
    "\n",
    "# Use predictions and ground truth from previous evaluation on test set\n",
    "conf_matrix = confusion_matrix(GT, preds)\n",
    "\n",
    "plt.figure(figsize=(6,5))\n",
    "sns.heatmap(conf_matrix, annot=True, fmt='d', cmap='Blues',\n",
    "            xticklabels=[\"Predicted 0\", \"Predicted 1\"],\n",
    "            yticklabels=[\"Actual 0\", \"Actual 1\"])\n",
    "\n",
    "plt.xlabel('Predicted Label')\n",
    "plt.ylabel('True Label')\n",
    "plt.title('Confusion Matrix')\n",
    "plt.show()"
   ]
  },
  {
   "cell_type": "code",
   "execution_count": null,
   "id": "f2714bc6",
   "metadata": {},
   "outputs": [],
   "source": [
    "# F1 score printout\n",
    "from sklearn.metrics import f1_score\n",
    "print(f\"Test F1 score: {f1_score(GT_test, test_preds):.3f}\")"
   ]
  },
  {
   "cell_type": "markdown",
   "id": "12e9b778",
   "metadata": {},
   "source": [
    "#### 3.3.4 List of statements per category (TP, TN, FP, FN)"
   ]
  },
  {
   "cell_type": "code",
   "execution_count": null,
   "id": "07366994",
   "metadata": {},
   "outputs": [],
   "source": [
    "# Get ground truth and predictions for test set\n",
    "y_true = df_test['label'].tolist()\n",
    "y_pred = preds\n",
    "\n",
    "# True Positives: predicted 1, actual 1\n",
    "true_positives = df_test[(df_test['label'] == 1) & (y_pred == 1)]\n",
    "\n",
    "# True Negatives: predicted 0, actual 0\n",
    "true_negatives = df_test[(df_test['label'] == 0) & (y_pred == 0)]\n",
    "\n",
    "# False Positives: predicted 1, actual 0\n",
    "false_positives = df_test[(df_test['label'] == 0) & (y_pred == 1)]\n",
    "\n",
    "# False Negatives: predicted 0, actual 1\n",
    "false_negatives = df_test[(df_test['label'] == 1) & (y_pred == 0)]\n",
    "\n",
    "# Function to print statements\n",
    "import pandas as pd\n",
    "from IPython.display import display\n",
    "\n",
    "def display_statements(df, title):\n",
    "    if not df.empty:\n",
    "        print(f\"\\n{title} (count: {len(df)})\")\n",
    "        display(df[['text']].reset_index(drop=True))\n",
    "    else:\n",
    "        print(f\"\\n{title}: None\")"
   ]
  },
  {
   "cell_type": "code",
   "execution_count": null,
   "id": "2433dc88",
   "metadata": {},
   "outputs": [
    {
     "name": "stdout",
     "output_type": "stream",
     "text": [
      "\n",
      "True Positives (predicted 1, actual 1) (count: 59)\n"
     ]
    },
    {
     "data": {
      "application/vnd.microsoft.datawrangler.viewer.v0+json": {
       "columns": [
        {
         "name": "index",
         "rawType": "int64",
         "type": "integer"
        },
        {
         "name": "text",
         "rawType": "object",
         "type": "string"
        }
       ],
       "ref": "122e9c9f-6039-40cc-9a9d-da2624f7d7b1",
       "rows": [
        [
         "0",
         "There was no correlation between number of imagineto-hear errors and CAPS score, r S (1376) = .02, 95% CI = [-.03, .07], p = .461."
        ],
        [
         "1",
         "The decline in the joy condition did not differ from that in the awe condition, b = -0.30, SE = 0.26, t(348) = -1.18, p = .240, Î· p 2 < .01 (see Table S15 in the Supplemental Material for descriptive statistics)."
        ],
        [
         "2",
         "Specifically, when infants learned faces from high-variability videos, d was greater for Segment 2 than both Segments 1 and 3 (ps < .021), and there was no difference between Segments 1 and 3 (p = .150); but when they learned faces from low-variability videos, there was a linear decrease of d from Segment 1 to Segment 3, and there were significant differences among the three segments (ps < .013)."
        ],
        [
         "3",
         "As with choices, the interaction between sure-option framing and time constraint was driven by an increased tendency to fixate the sure option first in gain-framed trials, t(39) = 6.54, p < .001, d = 1.03, 95% CI = [0.64, 1.42], whereas there was no effect in loss-framed trials, t(39) = -0.82, p = .42, d = 0.13, 95% CI = [-0.19, 0.45]."
        ],
        [
         "4",
         "When both targets were available, observers switched on 37% of all search displays, yet there was no difference in saccade latency between switch trials (M = 251 ms) and repeat trials (M = 246 ms), t(19) = 1.60, p = .13, Cohen's d = 0.08."
        ],
        [
         "5",
         "Although overall, infants had longer first fixations than adults (p = .020), infants' first fixations to the learned and novel models did not differ in length (p = .142), which is consistent with their lack of preference across the entire trial."
        ],
        [
         "6",
         "This preference, however, disappeared in the experimental condition, F(1, 170) = 2.32, p = .130, Î· p 2 = .01."
        ],
        [
         "7",
         "A negative binomial regression showed no difference in the number of accurately counted food items between conditions, Wald Ï‡ 2 (2, N = 353) = 3.34, p = .188 (see Fig. 2, right)."
        ],
        [
         "8",
         "There was no effect of session order for bimodal bilinguals (Î² = 3.52, SE = 2.11, z = 1.67, p = .10), indicating that bimodal bilinguals' semantically specific descriptions were not due to or primed by describing similar pictures in an earlier session in NGT (for information on the order analysis, see the Supplemental Material)."
        ],
        [
         "9",
         "At pretest, the groups did not differ, F(2, 72) = 0.65, p = .526; Î· p 2 = .02, whereas they did differ at posttest, F(2, 72) = 3.13, p = .0497, Î· p 2 = .08."
        ],
        [
         "10",
         "Most importantly, test anxiety did not predict the change in performance from the mock exams to the final exam (b anx = -0.09, p = .077), which speaks against the interference hypothesis."
        ],
        [
         "11",
         "With regard to hit rate, there was no main effect of emotion, F(1, 38) = 1.48, p = .231, Î· p 2 = .037 (see Fig. 2 and Table 1), but a significant effect of task, F(1.45, 55.13) = 27.59, p < .001, Î· p 2 = .421."
        ],
        [
         "12",
         "There was no difference in the ratings given to faces in the other-slow and other-fast conditions, t(28) = 1.44, p = .16, Cohen's d = 0.27."
        ],
        [
         "13",
         "Distance, Ï‡ 2 (1, N = 32) = 1.52, p = .217, did not improve model fit."
        ],
        [
         "14",
         "CloudResearch sample, b = 1.23, 95% CI = [0.24, 2.22], OR = 3.42, d = 0.68, z = 2.43, p = .015, but not in the student sample, b = 0.48, 95% CI = [-0.23, 1.18], OR = 1.61, d = 0.26, z = 1.33, p = .183."
        ],
        [
         "15",
         "Unlike the analyses using RT on search trials as the dependent variable, there was no main effect of real-time entropy on fixation time, F(1, 22,897.2) = 1.64, p = .20, Î² = -0.006, SE = 0.005."
        ],
        [
         "16",
         "In the inferior temporal gyrus, however, there was a significant interaction of treatment and expectancy violation, F(1, 76) = 5.11, p = .027, Î· p 2 = .06, showing that inferior temporal activity was significantly higher in stressed participants with only minimal prior information about the psychosocial stressor than in the informed stress group, F(1, 36) = 4.74, p = .036, Î· p 2 = .12, whereas there was no influence of prior information in the control condition, F(1, 40) = 0.97, p = .331, Î· p 2 = .02 (Fig. 3b)."
        ],
        [
         "17",
         "ANOVAs within blocks revealed that during the beginning of acquisition, IBI did not differ between CS types (p = .559), whereas CS type modulated IBI in the second block of acquisition (p = .023), as shown in Figure 5."
        ],
        [
         "18",
         "Identifiability increased vicarious optimism specifically by reducing updating from bad news, t(168) = 3.19, p = .002; identifiability did not affect updating from good news, t(168) = 1.11, p = .27."
        ],
        [
         "19",
         "The type of deprivation had specific effects on motivation, as participants reported neither more loneliness and desire for social contact in the food deprivation condition nor more hunger and desire for food in the social isolation condition (p > .25) compared with baseline."
        ],
        [
         "20",
         "In this condition, there was no difference in valuations between the 20% (M = $0.86, SD = $0.69) and 80% (M = $0.87, SD = $0.67) initialprobability gambles, t(748) = 0.28, p = .780, d = 0.02, 95% CI = [-0.12, 0.16]."
        ],
        [
         "21",
         "However, the orientation selected during false alarms was equally likely to be congruent or incongruent to imagery (Supplementary Fig. 3 in the Supplemental Material), M = -0.0025%, SEM Â±7.4%, t(18) = -0.03, p = .97, 95% CI = [-15.79, 15.3] (two-tailed t test), suggesting no overt decisional bias."
        ],
        [
         "22",
         "Simple-slopes analyses revealed that there was no effect of the missed opportunity when information was not sought, b = 0.006, t(212) = 0.16, p = .873, 95% CI = [-0.074, 0.087]."
        ],
        [
         "23",
         "The average accuracy in the scene-categorization tasks for the high (M = 0.87, SD = 0.14) versus low (M = 0.86, SD = 0.15) aesthetic conditions was comparable, F(1, 948) = 1.9, p = .168 (high vs. low aesthetic condition difference = .013, 95% CI = [-.005, .031]), showing that access to overall scene semantic content is not differentially altered by these specific contour manipulations."
        ],
        [
         "24",
         "In the first block of test (immediately after exposure), children showed robust learning (ÃŸ = 0.32, SE = 0.06, df = 4753, t = 5.15, p < .0001), whereas adults did not exhibit any learning whatsoever (ÃŸ = 0.10, SE = 0.05, df = 4740, t = 1.89, p = .24)."
        ],
        [
         "25",
         "Efficiency did not differ between the congruent and incongruent trials, as suggested by a paired-samples comparison between the ratio of efficient choices in the two conditions (V = 116, p = .065, r = -.23, 95% CI = [-0.02, 0.26]; see Fig. 2a)."
        ],
        [
         "26",
         "There was no difference between the self-and agreeing-perspective conditions with regard to benefit of averaging (d = 0.03, p = .61)."
        ],
        [
         "27",
         "By contrast, participants who did not perceive that the destruction of the rain forest violated a protected value were equally likely to decide that one acre of rain forest should be razed to enable the creation of four additional water-treatment facilities in both the unavoidable-harm scenario (74.0%) and the avoidable-harm scenario (68.4%; b = 0.51, SE = 0.43, z = 1.22, p = .22)."
        ],
        [
         "28",
         "The model was not significant, Ï‡ 2 (3, N = 90) = 2.13, p = .546, which indicates that the hammer-knocking task was not predictive of waiting times across conditions."
        ],
        [
         "29",
         "Next, we compared these data with those obtained from Experiment 1 and found that the strength of motion perception induced by the predictive cues was equivalent to those induced by 10%-or 20%-motion signals-10%: t(38) = 0.11, false discovery rate (FDR)-corrected p = .913, Cohen's d = 0.03; 20%: t(38) = -1.13, FDR-corrected p = .308, Cohen's d = 0.35, independent-samples t tests."
        ],
        [
         "30",
         "As expected, there was no difference between participants in the agreeing-and self-perspective conditions (d = 0.12, p = .06)."
        ],
        [
         "31",
         "Across the experiments, the holistic-processing effect for faces remained constant (Experiment 1a: M = 0.51, SE = 0.18; Experiment 1b: M = 0.50, SE = 0.25; Experiment 2: M = 0.48, SE = 0.16), F(2, 63) = 0.01, p = .993."
        ],
        [
         "32",
         "By contrast, there was no evidence of differential responding to the CS+ and the CS-among the unaware participants, F(1, 14) = 1.42, p = .254, 95% CI = [-0.16, 0.41], and no interaction with linear trend over blocks, F < 1."
        ],
        [
         "33",
         "Importantly, stress did not modulate the accuracy difference between repeat and switch trials (Condition Ã— Trial Type: p = .192), which provides evidence against the possibility that increased effort aversion under stress was simply caused by a desire to avoid more errors."
        ],
        [
         "34",
         "The effect of block was driven by slower responses to fixed penalties than to fixed rewards-pairwise post hoc t(24) = 2.02, p = .027; there was no difference between reward and penalty blocks for the 0-pence conditions, t(24) = 0.79, p = .22."
        ],
        [
         "35",
         "As in Study 2a, identifiability reduced updating from bad news, t(468) = 3.17, p = .002, but did not affect updating from good news, t(168) = 0.89, p = .37."
        ],
        [
         "36",
         "A rank-based Spearman's correlation test (p < .05 in the Shapiro-Wilk test of normality) indicates that in our sample there was no significant correlation between the calculated subjective-awareness score and the difference in RTs between high-and low-probability locations in the b-CFS task (r = .15, p = .488; see Fig. 2c), suggesting that the effect on conscious access did not depend on the level of awareness of the regularity."
        ],
        [
         "37",
         "View change did not interact with focus distance (Fig. 3b), Experiment 2: F(1, 34) = 2.24, p = .14, Î· p 2 = .06; Experiment 3: F(1, 31) = 0.48, p = .49, Î· p 2 = .01, and there was no three-way interaction, Experiment 2: F(1, 34) = 0.05, p = .82, Î· p 2 = .01; Experiment 3: F(1, 31) = 0.02, p = .88, Î· p 2 = .01."
        ],
        [
         "38",
         "There was no difference between adults who appealed to metaphors and adults who did not, t(62) = 1.40, p = .17."
        ],
        [
         "39",
         "However, there was no difference between the agreeing-and disagreeing-perspective conditions (d = 0.04, p = .55), 5 although the effect was in the right direction: The benefits of averaging were numerically higher in the disagreeing-perspective condition."
        ],
        [
         "40",
         "When participants made large errors on previous trials, their encoding speed on subsequent trials was the same, or if anything slightly lower (Î² = -0.121, t = -1.69, p = .094, BF 10 = 0.374, Î”BIC = -1.98; see Fig."
        ],
        [
         "41",
         "The three-way interaction was not significant, F(1, 21) = 0.01, p = .930, Î· p 2 < .01, which suggests that holistic processing of faces and dot patterns is qualitatively similar."
        ],
        [
         "42",
         "As expected, there was no difference between participants in the agreeing-and self-perspective conditions (d = 0.04, p = .51)."
        ],
        [
         "43",
         "Importantly, it was comparable with that in the alertness-training group in Study 2, t(52) = 0.40, p = .690, 95% CI for the mean difference = [-.06, .09], Cohen's d = 0.11 (Figs. 2b and 3c)."
        ],
        [
         "44",
         "Similar to perpetrator infidelity, higher levels of commitment were associated with no change in well-being following infidelity (e.g., socialization effects at 1 SD above the mean of commitment: actor relationship satisfaction b = -0.06, p = .316; actor intimacy b = -0.04, p = .100; actor admiration b = -0.02, p = .333; actor conflict b = 0.001, p = .963; partner relationship satisfaction b = -0.05, p = .137)."
        ],
        [
         "45",
         "The inclusion of time (Model 1; see Table 2) did not improve the model, Ï‡ 2 (1) = 1.13, p = .288, but time was retained as a control variable."
        ],
        [
         "46",
         "Notably, applying the same analysis to the data from our AQ study revealed no effect of AQ group on the tendency to choose the decoy, b = -0.056, 95% CI = [-0.328, 0.217], p = .689, or on the tendency to choose the target rather than the competitor, b = 0.001, 95% CI = [-0.103, 0.105], p = .980."
        ],
        [
         "47",
         "Accuracy (proportion of correct responses) did not differ between the overt-attention (M = .85, SD = .13) and covert-attention (M = .86, SD = .11) blocks, F(1, 23) = 0.23, p = .636, Î· p 2 = .01."
        ],
        [
         "48",
         "The pattern of interaction is consistent with the possibility that high levels of circulating oxytocin, indexed by 24-hr urine concentration, facilitated perceptions of expresser responsiveness: For targets with high oxytocin, perceptions of the expresser's responsiveness did not depend on the expresser's behavior in that specific interaction, b = 0.07, p = .410, 95% CI = [-0.10, 0.23], t(107) = 0.83."
        ],
        [
         "49",
         "Time increased negative attitudes among liberal participants, b = 0.22, SE = 0.06, 95% CI = [0.10, 0.33], t(1922) = 3.63, p < .001, but did not affect attitudes among conservative participants, b = 0.03, SE = 0.06, 95% CI = [-0.09, 0.14], t(1922) = 0.45, p > .250."
        ]
       ],
       "shape": {
        "columns": 1,
        "rows": 59
       }
      },
      "text/html": [
       "<div>\n",
       "<style scoped>\n",
       "    .dataframe tbody tr th:only-of-type {\n",
       "        vertical-align: middle;\n",
       "    }\n",
       "\n",
       "    .dataframe tbody tr th {\n",
       "        vertical-align: top;\n",
       "    }\n",
       "\n",
       "    .dataframe thead th {\n",
       "        text-align: right;\n",
       "    }\n",
       "</style>\n",
       "<table border=\"1\" class=\"dataframe\">\n",
       "  <thead>\n",
       "    <tr style=\"text-align: right;\">\n",
       "      <th></th>\n",
       "      <th>text</th>\n",
       "    </tr>\n",
       "  </thead>\n",
       "  <tbody>\n",
       "    <tr>\n",
       "      <th>0</th>\n",
       "      <td>There was no correlation between number of ima...</td>\n",
       "    </tr>\n",
       "    <tr>\n",
       "      <th>1</th>\n",
       "      <td>The decline in the joy condition did not diffe...</td>\n",
       "    </tr>\n",
       "    <tr>\n",
       "      <th>2</th>\n",
       "      <td>Specifically, when infants learned faces from ...</td>\n",
       "    </tr>\n",
       "    <tr>\n",
       "      <th>3</th>\n",
       "      <td>As with choices, the interaction between sure-...</td>\n",
       "    </tr>\n",
       "    <tr>\n",
       "      <th>4</th>\n",
       "      <td>When both targets were available, observers sw...</td>\n",
       "    </tr>\n",
       "    <tr>\n",
       "      <th>5</th>\n",
       "      <td>Although overall, infants had longer first fix...</td>\n",
       "    </tr>\n",
       "    <tr>\n",
       "      <th>6</th>\n",
       "      <td>This preference, however, disappeared in the e...</td>\n",
       "    </tr>\n",
       "    <tr>\n",
       "      <th>7</th>\n",
       "      <td>A negative binomial regression showed no diffe...</td>\n",
       "    </tr>\n",
       "    <tr>\n",
       "      <th>8</th>\n",
       "      <td>There was no effect of session order for bimod...</td>\n",
       "    </tr>\n",
       "    <tr>\n",
       "      <th>9</th>\n",
       "      <td>At pretest, the groups did not differ, F(2, 72...</td>\n",
       "    </tr>\n",
       "    <tr>\n",
       "      <th>10</th>\n",
       "      <td>Most importantly, test anxiety did not predict...</td>\n",
       "    </tr>\n",
       "    <tr>\n",
       "      <th>11</th>\n",
       "      <td>With regard to hit rate, there was no main eff...</td>\n",
       "    </tr>\n",
       "    <tr>\n",
       "      <th>12</th>\n",
       "      <td>There was no difference in the ratings given t...</td>\n",
       "    </tr>\n",
       "    <tr>\n",
       "      <th>13</th>\n",
       "      <td>Distance, Ï‡ 2 (1, N = 32) = 1.52, p = .217, d...</td>\n",
       "    </tr>\n",
       "    <tr>\n",
       "      <th>14</th>\n",
       "      <td>CloudResearch sample, b = 1.23, 95% CI = [0.24...</td>\n",
       "    </tr>\n",
       "    <tr>\n",
       "      <th>15</th>\n",
       "      <td>Unlike the analyses using RT on search trials ...</td>\n",
       "    </tr>\n",
       "    <tr>\n",
       "      <th>16</th>\n",
       "      <td>In the inferior temporal gyrus, however, there...</td>\n",
       "    </tr>\n",
       "    <tr>\n",
       "      <th>17</th>\n",
       "      <td>ANOVAs within blocks revealed that during the ...</td>\n",
       "    </tr>\n",
       "    <tr>\n",
       "      <th>18</th>\n",
       "      <td>Identifiability increased vicarious optimism s...</td>\n",
       "    </tr>\n",
       "    <tr>\n",
       "      <th>19</th>\n",
       "      <td>The type of deprivation had specific effects o...</td>\n",
       "    </tr>\n",
       "    <tr>\n",
       "      <th>20</th>\n",
       "      <td>In this condition, there was no difference in ...</td>\n",
       "    </tr>\n",
       "    <tr>\n",
       "      <th>21</th>\n",
       "      <td>However, the orientation selected during false...</td>\n",
       "    </tr>\n",
       "    <tr>\n",
       "      <th>22</th>\n",
       "      <td>Simple-slopes analyses revealed that there was...</td>\n",
       "    </tr>\n",
       "    <tr>\n",
       "      <th>23</th>\n",
       "      <td>The average accuracy in the scene-categorizati...</td>\n",
       "    </tr>\n",
       "    <tr>\n",
       "      <th>24</th>\n",
       "      <td>In the first block of test (immediately after ...</td>\n",
       "    </tr>\n",
       "    <tr>\n",
       "      <th>25</th>\n",
       "      <td>Efficiency did not differ between the congruen...</td>\n",
       "    </tr>\n",
       "    <tr>\n",
       "      <th>26</th>\n",
       "      <td>There was no difference between the self-and a...</td>\n",
       "    </tr>\n",
       "    <tr>\n",
       "      <th>27</th>\n",
       "      <td>By contrast, participants who did not perceive...</td>\n",
       "    </tr>\n",
       "    <tr>\n",
       "      <th>28</th>\n",
       "      <td>The model was not significant, Ï‡ 2 (3, N = 90...</td>\n",
       "    </tr>\n",
       "    <tr>\n",
       "      <th>29</th>\n",
       "      <td>Next, we compared these data with those obtain...</td>\n",
       "    </tr>\n",
       "    <tr>\n",
       "      <th>30</th>\n",
       "      <td>As expected, there was no difference between p...</td>\n",
       "    </tr>\n",
       "    <tr>\n",
       "      <th>31</th>\n",
       "      <td>Across the experiments, the holistic-processin...</td>\n",
       "    </tr>\n",
       "    <tr>\n",
       "      <th>32</th>\n",
       "      <td>By contrast, there was no evidence of differen...</td>\n",
       "    </tr>\n",
       "    <tr>\n",
       "      <th>33</th>\n",
       "      <td>Importantly, stress did not modulate the accur...</td>\n",
       "    </tr>\n",
       "    <tr>\n",
       "      <th>34</th>\n",
       "      <td>The effect of block was driven by slower respo...</td>\n",
       "    </tr>\n",
       "    <tr>\n",
       "      <th>35</th>\n",
       "      <td>As in Study 2a, identifiability reduced updati...</td>\n",
       "    </tr>\n",
       "    <tr>\n",
       "      <th>36</th>\n",
       "      <td>A rank-based Spearman's correlation test (p &lt; ...</td>\n",
       "    </tr>\n",
       "    <tr>\n",
       "      <th>37</th>\n",
       "      <td>View change did not interact with focus distan...</td>\n",
       "    </tr>\n",
       "    <tr>\n",
       "      <th>38</th>\n",
       "      <td>There was no difference between adults who app...</td>\n",
       "    </tr>\n",
       "    <tr>\n",
       "      <th>39</th>\n",
       "      <td>However, there was no difference between the a...</td>\n",
       "    </tr>\n",
       "    <tr>\n",
       "      <th>40</th>\n",
       "      <td>When participants made large errors on previou...</td>\n",
       "    </tr>\n",
       "    <tr>\n",
       "      <th>41</th>\n",
       "      <td>The three-way interaction was not significant,...</td>\n",
       "    </tr>\n",
       "    <tr>\n",
       "      <th>42</th>\n",
       "      <td>As expected, there was no difference between p...</td>\n",
       "    </tr>\n",
       "    <tr>\n",
       "      <th>43</th>\n",
       "      <td>Importantly, it was comparable with that in th...</td>\n",
       "    </tr>\n",
       "    <tr>\n",
       "      <th>44</th>\n",
       "      <td>Similar to perpetrator infidelity, higher leve...</td>\n",
       "    </tr>\n",
       "    <tr>\n",
       "      <th>45</th>\n",
       "      <td>The inclusion of time (Model 1; see Table 2) d...</td>\n",
       "    </tr>\n",
       "    <tr>\n",
       "      <th>46</th>\n",
       "      <td>Notably, applying the same analysis to the dat...</td>\n",
       "    </tr>\n",
       "    <tr>\n",
       "      <th>47</th>\n",
       "      <td>Accuracy (proportion of correct responses) did...</td>\n",
       "    </tr>\n",
       "    <tr>\n",
       "      <th>48</th>\n",
       "      <td>The pattern of interaction is consistent with ...</td>\n",
       "    </tr>\n",
       "    <tr>\n",
       "      <th>49</th>\n",
       "      <td>Time increased negative attitudes among libera...</td>\n",
       "    </tr>\n",
       "    <tr>\n",
       "      <th>50</th>\n",
       "      <td>In reward blocks, the results of Experiment 1 ...</td>\n",
       "    </tr>\n",
       "    <tr>\n",
       "      <th>51</th>\n",
       "      <td>There was no correlation between the reproduce...</td>\n",
       "    </tr>\n",
       "    <tr>\n",
       "      <th>52</th>\n",
       "      <td>Specifically, adults' area-weighted fixation c...</td>\n",
       "    </tr>\n",
       "    <tr>\n",
       "      <th>53</th>\n",
       "      <td>We found, first of all, that risk preferences ...</td>\n",
       "    </tr>\n",
       "    <tr>\n",
       "      <th>54</th>\n",
       "      <td>There was no relationship between risk taking ...</td>\n",
       "    </tr>\n",
       "    <tr>\n",
       "      <th>55</th>\n",
       "      <td>This finding was similar to that in the forced...</td>\n",
       "    </tr>\n",
       "    <tr>\n",
       "      <th>56</th>\n",
       "      <td>Results were similar using the continuous appr...</td>\n",
       "    </tr>\n",
       "    <tr>\n",
       "      <th>57</th>\n",
       "      <td>There was no effect of search condition, F(1, ...</td>\n",
       "    </tr>\n",
       "    <tr>\n",
       "      <th>58</th>\n",
       "      <td>Examining paired comparisons between the pre-a...</td>\n",
       "    </tr>\n",
       "  </tbody>\n",
       "</table>\n",
       "</div>"
      ],
      "text/plain": [
       "                                                 text\n",
       "0   There was no correlation between number of ima...\n",
       "1   The decline in the joy condition did not diffe...\n",
       "2   Specifically, when infants learned faces from ...\n",
       "3   As with choices, the interaction between sure-...\n",
       "4   When both targets were available, observers sw...\n",
       "5   Although overall, infants had longer first fix...\n",
       "6   This preference, however, disappeared in the e...\n",
       "7   A negative binomial regression showed no diffe...\n",
       "8   There was no effect of session order for bimod...\n",
       "9   At pretest, the groups did not differ, F(2, 72...\n",
       "10  Most importantly, test anxiety did not predict...\n",
       "11  With regard to hit rate, there was no main eff...\n",
       "12  There was no difference in the ratings given t...\n",
       "13  Distance, Ï‡ 2 (1, N = 32) = 1.52, p = .217, d...\n",
       "14  CloudResearch sample, b = 1.23, 95% CI = [0.24...\n",
       "15  Unlike the analyses using RT on search trials ...\n",
       "16  In the inferior temporal gyrus, however, there...\n",
       "17  ANOVAs within blocks revealed that during the ...\n",
       "18  Identifiability increased vicarious optimism s...\n",
       "19  The type of deprivation had specific effects o...\n",
       "20  In this condition, there was no difference in ...\n",
       "21  However, the orientation selected during false...\n",
       "22  Simple-slopes analyses revealed that there was...\n",
       "23  The average accuracy in the scene-categorizati...\n",
       "24  In the first block of test (immediately after ...\n",
       "25  Efficiency did not differ between the congruen...\n",
       "26  There was no difference between the self-and a...\n",
       "27  By contrast, participants who did not perceive...\n",
       "28  The model was not significant, Ï‡ 2 (3, N = 90...\n",
       "29  Next, we compared these data with those obtain...\n",
       "30  As expected, there was no difference between p...\n",
       "31  Across the experiments, the holistic-processin...\n",
       "32  By contrast, there was no evidence of differen...\n",
       "33  Importantly, stress did not modulate the accur...\n",
       "34  The effect of block was driven by slower respo...\n",
       "35  As in Study 2a, identifiability reduced updati...\n",
       "36  A rank-based Spearman's correlation test (p < ...\n",
       "37  View change did not interact with focus distan...\n",
       "38  There was no difference between adults who app...\n",
       "39  However, there was no difference between the a...\n",
       "40  When participants made large errors on previou...\n",
       "41  The three-way interaction was not significant,...\n",
       "42  As expected, there was no difference between p...\n",
       "43  Importantly, it was comparable with that in th...\n",
       "44  Similar to perpetrator infidelity, higher leve...\n",
       "45  The inclusion of time (Model 1; see Table 2) d...\n",
       "46  Notably, applying the same analysis to the dat...\n",
       "47  Accuracy (proportion of correct responses) did...\n",
       "48  The pattern of interaction is consistent with ...\n",
       "49  Time increased negative attitudes among libera...\n",
       "50  In reward blocks, the results of Experiment 1 ...\n",
       "51  There was no correlation between the reproduce...\n",
       "52  Specifically, adults' area-weighted fixation c...\n",
       "53  We found, first of all, that risk preferences ...\n",
       "54  There was no relationship between risk taking ...\n",
       "55  This finding was similar to that in the forced...\n",
       "56  Results were similar using the continuous appr...\n",
       "57  There was no effect of search condition, F(1, ...\n",
       "58  Examining paired comparisons between the pre-a..."
      ]
     },
     "metadata": {},
     "output_type": "display_data"
    }
   ],
   "source": [
    "display_statements(true_positives, \"True Positives (predicted 1, actual 1)\")"
   ]
  },
  {
   "cell_type": "code",
   "execution_count": null,
   "id": "64f843b9",
   "metadata": {},
   "outputs": [
    {
     "name": "stdout",
     "output_type": "stream",
     "text": [
      "\n",
      "True Negatives (predicted 0, actual 0) (count: 64)\n"
     ]
    },
    {
     "data": {
      "application/vnd.microsoft.datawrangler.viewer.v0+json": {
       "columns": [
        {
         "name": "index",
         "rawType": "int64",
         "type": "integer"
        },
        {
         "name": "text",
         "rawType": "object",
         "type": "string"
        }
       ],
       "ref": "fadc3593-2a04-4d9e-b94a-bced56f725b7",
       "rows": [
        [
         "0",
         "There was neither a significant main effect of speech-feedback interval, F(1.5, 40.45) = 0.94, p = .37, Î· p 2 = .034 (Greenhouse-Geisser corrected), nor a significant interaction, F(4.73, 127.58) = 0.19, p = .96, Î· p 2 = .0070 (Greenhouse-Geisser corrected)."
        ],
        [
         "1",
         "The senders' overall corrugator activity was not significantly different during touch compared with baseline (EMM = .06, 95% CI = [-.04, .157]), t(28) = 1.14, p = .264, but did vary significantly with cue, F(5, 891) = 8.58, p < .001 (Fig. 2b)."
        ],
        [
         "2",
         "In contrast, there were no significant group differences in the linear trend across groups in the rule-based task, F(1, 54) = 0.46, p = .50052, Î· p Â² = .008."
        ],
        [
         "3",
         "The two-way interaction between CRP and cancer-related stress was significant among women who scored low or average on the index of psychosocial resilience, b = 1.22, SE = 0.27, Î² = 0.096, t(611) = 4.53, p < .001, and b = 0.74, SE = 0.22, Î² = 0.059, t(610) = 3.32, p = .001, respectively, but not among women who scored high on the index of psychosocial resilience, b = 0.26, SE = 0.35, Î² = 0.020, t(610) = 0.74, p = .46."
        ],
        [
         "4",
         "The alternative explanation of an order effect was not supported by a significant target race by target expression by order interaction, F(1, 394) = 0.02, p = .885."
        ],
        [
         "5",
         "By contrast, leader narcissism levels were not significantly related to follower-perceived leader authority, b = 0.04, 95% CI = [-0.04, 0.13], Î² = 0.10, p = .304, and effectiveness, b = 0.04, 95% CI = [-0.06, 0.14], Î² = 0.08, p = .398."
        ],
        [
         "6",
         "Specifically, stronger Republicans were less likely to share both true and false headlines but were particularly less likely (relative to Democrats) to share true headlines-however, the three-way interaction among partisanship, veracity, and condition was not significant, F(1, 25402) = 1.62, p = .20."
        ],
        [
         "7",
         "However, polarization scores were somewhat stronger in a friendly climate compared with the baseline (b = 0.26, 95% CI = [0.00, 0.53], p = .049), whereas no difference between baseline and oppositional climate could be found (b = -0.21, 95% CI = [-0.54, 0.11], p = .183; see Table S9 in the Supplemental Material)."
        ],
        [
         "8",
         "In the second block of tests in this experiment, children no longer exhibited statistically reliable learning sensitivity (ÃŸ = 0.14, SE = 0.06, df = 4751, t = 2.22, p = .12), whereas adults, curiously, now did (ÃŸ = 0.24, SE = 0.06, df = 4740, t = 4.28, p = .0001), although the difference in these estimated slopes between children and adults was not significant (ÃŸ = 0.05, SE = 0.04, df = 4746, t = 1.23, p = .61)."
        ],
        [
         "9",
         "We found no significant difference between the high-pitch and neutral conditions, t(28) = 0.30, p = .77, Cohen's d = 0.055, BF 01 = 4.86 (range in which scales were consistent with support for the null hypothesis = 0.393-2), or between the low-pitch and neutral conditions, t(28) = 0.79, p = .43, Cohen's d = 0.15, BF 01 = 3.80 (range in which scales were consistent with support for the null hypothesis = 0.528-2)."
        ],
        [
         "10",
         "The Kruskal-Wallis test on average indicated that the die-roll outcome for each of the five levels of perceived time pressure (very low, low, neutral, high, very high) was not significant, Ï‡ 2 (4, N = 138) = 3.16, p = .532 (see Fig."
        ],
        [
         "11",
         "For the mid-scale questions, we found no difference between the self-and agreeingperspective conditions (d = 0.05, p = .39), whereas the benefit of averaging was again higher for participants in the disagreeing-perspective condition compared with the self-perspective (d = 0.28, p < .001) and agreeingperspective (d = 0.24, p < .001) conditions."
        ],
        [
         "12",
         "Further, there were no significant differences between the no-task control group and the reactivation-only group, t(32.23) = 0.22, p = .83, or between the no-task control group and the Tetris-only group, t(30.03) = 1.01, p = .32."
        ],
        [
         "13",
         "There was not a significant difference between the high-pitch and lowpitch conditions, and the BF supported the null hypothesis, t(27) = 0.806, p = .427, Cohen's d = 0.152, Bonferroni corrected, BF U(-8, 8) = 0.04."
        ],
        [
         "14",
         "The effect of host-country tightness was not significant, Wald Ï‡ 2 = 1.43, p = .232."
        ],
        [
         "15",
         "Results revealed no significant relationship between CP post-jump-scare enjoyment and CP postjump-scare fear (Model 5c: Î² = -0.12, SE = 0.07, p = .095)."
        ],
        [
         "16",
         "We found that sounds did not have a significant impact on report error, F(2, 78) = 2.08, p = .13, Î· 2 = .05 (Fig. 4b), and we did not find a significant RT benefit for related sounds (Ms = 2,008 vs. 2,037 ms), t(39) = 1.73, p = .09, Cohen's d z = 0.27, 95% CI = [-0.073, 0.619], BF 01 = 1.50 (Fig. 4c)."
        ],
        [
         "17",
         "A 2 (condition: adversarial vs. benevolent) Ã— 2 (valence: positive vs. negative) repeated measures analysis of variance on relative learning rates revealed no significant main effects (p = .57 for condition, p = .84 for valence) but a significant interaction, F(1, 71) = 4.91, p < .05."
        ],
        [
         "18",
         "There was also no significant difference between posterior beliefs in the boost+ condition (M = 9.44, SD = 58.56) and the boost condition (M = 20.17, SD = 57.25), F(1, 293) = 3.03, p = .083, Î· p 2 = .010, 90% CI = [.000, .037], BF 10 = 0.54."
        ],
        [
         "19",
         "As in Experiment 1, accuracy did not significantly differ between these two conditions, t(25) = -0.89, p = .385."
        ],
        [
         "20",
         "RT from the visual discrimination phase was again faster when sounds were related to the target morph (M = 1,798 ms) than when they were unrelated (M = 1,860 ms), t(39) = 3.22, p = 0.003, Cohen's d z = 0.51, 95% CI = [0.12, 0.89], and like before, this difference in RT did not result in a reliable difference in accuracy (Ms = 6.84), t(39) = 0.03, p = .98, Cohen's d z = 0.004, 95% CI = [-0.001, 0.009], BF 01 = 5.86."
        ],
        [
         "21",
         "Controlling for relationship satisfaction did not change the conclusions about primary, secondary, or discriminant outcomes; however, the target's perceptions that the expresser felt grateful (b = 0.92, p = .078, 95% CI = [-0.11, 1.95]) and loving (b = 0.64, p = .064, 95% CI = [-0.04, 1.31]) were no longer significantly associated with oxytocin in these analyses."
        ],
        [
         "22",
         "Leader narcissism levels were not significantly related to future leader preference, either from the leader's perspective, b = 0.07, 95% CI = [-0.07, 0.22], Î² = 0.10, p = .317, or from the followers' perspective, b = 0.01, 95% CI = [-0.10, 0.13], Î² = 0.02, p = .812."
        ],
        [
         "23",
         "In contrast to Experiment 1a, there was reduced visual acuity as a consequence of the contracting motion aftereffect in Experiment 1b and no significant association between initial acuity and performance change (Fig. 4b; Pearson's r = -.039, p = .838; R 2 = .0015)."
        ],
        [
         "24",
         "A control model, in which self-ratings on the five personality traits were randomly shuffled within each participant, performed poorly (AIC = 196.4, Ï‡ 2 < .001, p > .999), and the parameter estimate of the randomly shuffled variable assessing participants' self-reported personality traits was nonsignificant, Î² â‰¤ -0.001, t(358.9) = -0.06, p = .95."
        ],
        [
         "25",
         "In contrast, non-White AI faces (left side of Fig. 2a) were judged as human at around chance levels, M non-White-AI = 50.5%, t(314) = 0.41, p = .682, d = 0.02, 95% CI = [-0.09, 0.13], which did not differ significantly from how often non-White human faces were judged to be human, versus M non-White-human = 51.3%, t(314) = 0.74, p = .461, d = 0.04, 95% CI = [-0.07, 0.15]."
        ],
        [
         "26",
         "No significant relation between the two measures was found (r = -.22, p = .20)."
        ],
        [
         "27",
         "Participants scoring higher on trait sociability (+1 SD) had significantly lower desire for social contact on social isolation days compared with baseline days, Î² = -6.52, SE = 2.12, t(66.65) = -3.07, p = .003, but this was not the case for those scoring lower (-1 SD) on sociability, Î² = -0.18, SE = 2.08, t(66.65) = -0.09, p = .929."
        ],
        [
         "28",
         "The years-of-experience single effect was not significant (Î² = 0.001, 95% CI = [-0.07, 0.07], p = .976)."
        ],
        [
         "29",
         "The three-way Configuration Ã— Decoy Ã— Choice interaction in a log linear analysis was nonsignificant, Ï‡ 2 (1, N = 770) = 2.60, p = .11."
        ],
        [
         "30",
         "This difference, however, was highly significant in Malayalam readers (p < .0005) but not in Telugu readers (p = .09)."
        ],
        [
         "31",
         "Moving to factual beliefs, we again found no significant subgroup differences between topics, Q(2) = 1.36, p = .507, although the effect for climate change (k = 30), g = 0.12, 95% CI = [0.08, 0.15], was smaller than the effect for genetically modified food (k = 8), g = 0.16, 95% CI = [0.08, 0.23]."
        ],
        [
         "32",
         "Participants were significantly faster on related trials (M = 1,779 ms) compared with unrelated trials (M = 1,852 ms), t(84) = 4.05, p < .001, Cohen's d z = 0.44, 95% CI = [0.079, 0.7996] (Fig. 3e, blue bars), when sounds played during the visual discrimination phase, and this difference in RT did not lead to significant differences in accuracy (Ms = 7.76 vs. 7.31), t(84) = 1.21, p = .23, Cohen's d z = 0.13, 95% CI = [-0.875, 0.612], BF 01 = 4.13 (see Fig. 3e)."
        ],
        [
         "33",
         "The interaction between distance and shape was not significant either, t(1633) = 0.45, p = .654, 95% CI for the fixed-effect coefficient = [3.1%, 5.0%]."
        ],
        [
         "34",
         "Participants in the time-pressure condition (n = 80; M = 3.86, SD = 1.65) did not report significantly higher die-roll outcomes than participants in the self-paced condition (n = 97; M = 3.68, SD = 1.70), Z = 0.70, p = .241, rank biserial correlation (r bc ) = -.05, 95% CI = [-âˆž, .09]."
        ],
        [
         "35",
         "Finally, the effect of feeling small was tested by adding the variable to the intercept-only model-feeling small was not significantly related to behavior in the dictator game, Wald Ï‡ 2 (1) = 0.08, b = -0.006, SE = 0.022, 95% CI = [-0.050, 0.037], p = .781 (QICc = 333.06)."
        ],
        [
         "36",
         "The congruency effect was significant in the aligned conditions of the face task, t(19) = 3.60, p = .002, Cohen's d = 0.80, and the line-pattern task, t(19) = 8.39, p < .001, Cohen's d = 1.88, but was not significant in the misaligned conditions, t(19) = 0.92, p = .367, Cohen's d = 0.21, and t(21) = 0.85, p = .404, Cohen's d = 0.19, respectively."
        ],
        [
         "37",
         "Post hoc tests of the effect of trait aggression on bilateral amygdala activation for incongruent versus congruent trials revealed that this effect was primarily driven by increased amygdala activation during the congruent condition in individuals with relatively high aggression (r = .14, p = .02), whereas the aggression-related reduction during incongruent trials was not significant (r = -.10, p = .10; Fig. S1A)."
        ],
        [
         "38",
         "The correlation was nonsignificant for the COVID-19 pandemic (r = -.02, p = .705) and for the 9/11 terrorist attacks (r = -.08, p = .236)."
        ],
        [
         "39",
         "The interaction between familiarity and length was also significant, F(1, 19) = 13.55, p = .002, Î· p 2 = .42, OP = .94, because of higher peaks for five-letter pseudowords (M = 17.05%, SD = 8.17) compared with three-letter pseudowords (M = 14.16%, SD = 6.11), t(19) = -3.58, p = .002, but length was not significant in the case of real words (five letters: M = 13.35%, SD = 5.14; three letters: M = 13.31%, SD = 4.73), t(19) = -0.10, p = .92."
        ],
        [
         "40",
         "But, most important, the slope at 45Â° was not significantly higher than the slope at 0Â°, Î² = 0.002, t(9) = 2.143, p = .061, and at 90Â° it was significantly lower, Î² = -0.004, t(9) = -4.5, p = .001."
        ],
        [
         "41",
         "Indeed, there was no significant difference in accuracy between finding the longest line across the two experiments, t(72) = 1.91, p = .23, or for finding the shortest line, t(72) = 0.479, p = .96."
        ],
        [
         "42",
         "We also examined whether individual differences in stress reactivityspecifically, the increased salivary cortisol-predicted low-demand choices in the DST but found no significant predictive relationship (main effect: p = .141;"
        ],
        [
         "43",
         "For nonrepeated displays, the individual mean amplitude showed a positive but nonsignificant relationship between the learning and relocation phases (r = .45, p = .08; see Fig. 5d)."
        ],
        [
         "44",
         "Congruent and incongruent negative evaluations did not differ significantly (p = .165)."
        ],
        [
         "45",
         "As expected, participants were more accurate on repeat trials compared with switch trials (p = .032; repeat: M = 91.40%, SE = 0.24; switch: M = 89.60%, SE = 0.31; for full regression coefficients, see Table 2), but overall accuracy did not differ significantly between stress and control conditions (p = .743; control: M = 90.30%, SE = 0.28; stress: M = 90.90%, SE = 0.27) or between demand levels (p = .394; low demand: M = 91.30%, SE = 0.25; high demand: M = 89.60%, SE = 0.32)."
        ],
        [
         "46",
         "As expected, we observed no significant difference in RT between the related (M = 1,899 ms) and unrelated (M = 1,903 ms) conditions when sounds were played during the continuous report phase, t(84) = 0.25, p = .80, Cohen's d z = 0.03, 95% CI = [-0.287, 0.343], BF 01 = 7.99 (Fig. 3e, purple bars)."
        ],
        [
         "47",
         "No difference was found in verbal tests, t(343) = 1.20, p = .23."
        ],
        [
         "48",
         "There was no significant interaction between emotion and task, F(2, 76) = 0.81, p = .449, Î· p 2 = .021."
        ],
        [
         "49",
         "Tukey's HSD tests revealed significant differences between all pairwise positions (all ps < .001) except Position 1 versus Position 5, t(116) = -1.18, p = .80, and Position 2 versus Position 4, t(116) = 1.258, p = .717."
        ]
       ],
       "shape": {
        "columns": 1,
        "rows": 64
       }
      },
      "text/html": [
       "<div>\n",
       "<style scoped>\n",
       "    .dataframe tbody tr th:only-of-type {\n",
       "        vertical-align: middle;\n",
       "    }\n",
       "\n",
       "    .dataframe tbody tr th {\n",
       "        vertical-align: top;\n",
       "    }\n",
       "\n",
       "    .dataframe thead th {\n",
       "        text-align: right;\n",
       "    }\n",
       "</style>\n",
       "<table border=\"1\" class=\"dataframe\">\n",
       "  <thead>\n",
       "    <tr style=\"text-align: right;\">\n",
       "      <th></th>\n",
       "      <th>text</th>\n",
       "    </tr>\n",
       "  </thead>\n",
       "  <tbody>\n",
       "    <tr>\n",
       "      <th>0</th>\n",
       "      <td>There was neither a significant main effect of...</td>\n",
       "    </tr>\n",
       "    <tr>\n",
       "      <th>1</th>\n",
       "      <td>The senders' overall corrugator activity was n...</td>\n",
       "    </tr>\n",
       "    <tr>\n",
       "      <th>2</th>\n",
       "      <td>In contrast, there were no significant group d...</td>\n",
       "    </tr>\n",
       "    <tr>\n",
       "      <th>3</th>\n",
       "      <td>The two-way interaction between CRP and cancer...</td>\n",
       "    </tr>\n",
       "    <tr>\n",
       "      <th>4</th>\n",
       "      <td>The alternative explanation of an order effect...</td>\n",
       "    </tr>\n",
       "    <tr>\n",
       "      <th>...</th>\n",
       "      <td>...</td>\n",
       "    </tr>\n",
       "    <tr>\n",
       "      <th>59</th>\n",
       "      <td>The Target Ã— Valence interaction was not sign...</td>\n",
       "    </tr>\n",
       "    <tr>\n",
       "      <th>60</th>\n",
       "      <td>Consequently, receivers' use of the odd-oneout...</td>\n",
       "    </tr>\n",
       "    <tr>\n",
       "      <th>61</th>\n",
       "      <td>A repeated measures ANOVA on the two questions...</td>\n",
       "    </tr>\n",
       "    <tr>\n",
       "      <th>62</th>\n",
       "      <td>Follow-up tests revealed that the AOI Ã— Varia...</td>\n",
       "    </tr>\n",
       "    <tr>\n",
       "      <th>63</th>\n",
       "      <td>There was no significant interaction between p...</td>\n",
       "    </tr>\n",
       "  </tbody>\n",
       "</table>\n",
       "<p>64 rows × 1 columns</p>\n",
       "</div>"
      ],
      "text/plain": [
       "                                                 text\n",
       "0   There was neither a significant main effect of...\n",
       "1   The senders' overall corrugator activity was n...\n",
       "2   In contrast, there were no significant group d...\n",
       "3   The two-way interaction between CRP and cancer...\n",
       "4   The alternative explanation of an order effect...\n",
       "..                                                ...\n",
       "59  The Target Ã— Valence interaction was not sign...\n",
       "60  Consequently, receivers' use of the odd-oneout...\n",
       "61  A repeated measures ANOVA on the two questions...\n",
       "62  Follow-up tests revealed that the AOI Ã— Varia...\n",
       "63  There was no significant interaction between p...\n",
       "\n",
       "[64 rows x 1 columns]"
      ]
     },
     "metadata": {},
     "output_type": "display_data"
    }
   ],
   "source": [
    "display_statements(true_negatives, \"True Negatives (predicted 0, actual 0)\")"
   ]
  },
  {
   "cell_type": "code",
   "execution_count": null,
   "id": "a79eca53",
   "metadata": {},
   "outputs": [
    {
     "name": "stdout",
     "output_type": "stream",
     "text": [
      "\n",
      "False Positives (predicted 1, actual 0) (count: 2)\n"
     ]
    },
    {
     "data": {
      "application/vnd.microsoft.datawrangler.viewer.v0+json": {
       "columns": [
        {
         "name": "index",
         "rawType": "int64",
         "type": "integer"
        },
        {
         "name": "text",
         "rawType": "object",
         "type": "string"
        }
       ],
       "ref": "82e5dcd7-cae5-4ada-a94f-f5ab7e24bacb",
       "rows": [
        [
         "0",
         "We did not observe a main effect of aperture, F(1, 34) = 1.42, p = .24, Î· p 2 = .04, or a main effect of view change, F(1, 34) = 1.38, p = .25, Î· p 2 = .04."
        ],
        [
         "1",
         "Relying on the categorical approach, and again using the preregistered critical p value of .025, we detected a relation between illness recency and perceived infectability, r = .16, 95% CI = [.05, .26], p = .006, but not between illness recency and germ aversion, r = .11, 95% CI = [.01, .22], p = .037; sensitivity to pathogen disgust, r = .12, 95% CI = [.01, .23], p = .038; or disgust ratings of the images from the Curtis data set, r = .05, 95% CI = [-.06, .16], p = .358."
        ]
       ],
       "shape": {
        "columns": 1,
        "rows": 2
       }
      },
      "text/html": [
       "<div>\n",
       "<style scoped>\n",
       "    .dataframe tbody tr th:only-of-type {\n",
       "        vertical-align: middle;\n",
       "    }\n",
       "\n",
       "    .dataframe tbody tr th {\n",
       "        vertical-align: top;\n",
       "    }\n",
       "\n",
       "    .dataframe thead th {\n",
       "        text-align: right;\n",
       "    }\n",
       "</style>\n",
       "<table border=\"1\" class=\"dataframe\">\n",
       "  <thead>\n",
       "    <tr style=\"text-align: right;\">\n",
       "      <th></th>\n",
       "      <th>text</th>\n",
       "    </tr>\n",
       "  </thead>\n",
       "  <tbody>\n",
       "    <tr>\n",
       "      <th>0</th>\n",
       "      <td>We did not observe a main effect of aperture, ...</td>\n",
       "    </tr>\n",
       "    <tr>\n",
       "      <th>1</th>\n",
       "      <td>Relying on the categorical approach, and again...</td>\n",
       "    </tr>\n",
       "  </tbody>\n",
       "</table>\n",
       "</div>"
      ],
      "text/plain": [
       "                                                text\n",
       "0  We did not observe a main effect of aperture, ...\n",
       "1  Relying on the categorical approach, and again..."
      ]
     },
     "metadata": {},
     "output_type": "display_data"
    }
   ],
   "source": [
    "display_statements(false_positives, \"False Positives (predicted 1, actual 0)\")"
   ]
  },
  {
   "cell_type": "code",
   "execution_count": null,
   "id": "9b473d8e",
   "metadata": {},
   "outputs": [
    {
     "name": "stdout",
     "output_type": "stream",
     "text": [
      "\n",
      "False Negatives (predicted 0, actual 1) (count: 7)\n"
     ]
    },
    {
     "data": {
      "application/vnd.microsoft.datawrangler.viewer.v0+json": {
       "columns": [
        {
         "name": "index",
         "rawType": "int64",
         "type": "integer"
        },
        {
         "name": "text",
         "rawType": "object",
         "type": "string"
        }
       ],
       "ref": "11ec00cc-25db-4ca6-85ce-bd73c4946b53",
       "rows": [
        [
         "0",
         "The omnibus ANCOVA, in which posterior perceived consensus was the dependent variable, condition was the independent variable, and prior perceived consensus was the covariate, yielded no significant effect, F(2, 218) = 0.42, p = .655, Î· p 2 = .004, 90% CI = [.000, .021], indicating that the boost conditions did not have an effect on changes in perceived scientific consensus compared with the consensus-only condition (though note that there was a significant difference between prior and posterior perceived consensus overall; see \"Supplementary Analyses\" on OSF at <https://osf.io/5xnt4/>)."
        ],
        [
         "1",
         "The number of incongruent negative and positive trials did not differ (p = .974)."
        ],
        [
         "2",
         "RT data showed a very similar pattern: Responses were slower for congruent than for incongruent trials within the probe-key condition, t(193) = 4.21, p < .001, d = 0.30, BF 10 = 677.40; difference M = 0.053 log 10 (RT/s), 95% CI = [0.032, 0.074]; congruent: M = 1.15 s, incongruent: M = 1.09 s, difference: M = 0.060 s (see Fig. S7 in the Supplemental Material), but there was no such difference for the probe-other condition, t(193) = -1.03, p = .152, d = 0.07; difference: M = -0.013 log 10 (RT/s), 95% CI = [-0.035, 0.0080]; congruent: M = 1.21 s, incongruent: M = 1.24 s, difference M = -0.032 s (see Fig. S7), although the evidence for a null effect here was anecdotal at best (BF 10 = 0.54)."
        ],
        [
         "3",
         "In contrast, the mean signed response offset for the opposite-sideprobe condition exhibited a nonsignificant negative signed offset for shape, M = -0.36Â°, t(27) = -0.78, p = .441, 95% CI = [-1.32Â°, 0.59Â°], Cohen's d -0.15, and a small but significant negative signed offset for color, M = -1.29Â°, t(27) = 2.20, p = .037, 95% CI = [-2.49Â°, -0.09Â°], Cohen's d = -0.42, indicating that the memory reports were, if anything, biased away from the first similar probe."
        ],
        [
         "4",
         "In addition, although participants with shorter RTs were more likely to make decoy selections and non-attraction preference reversals (decoy selections: b = -0.604, 95% CI = [-0.811, -0.396], p < .001; non-attraction preference reversals: b = 0.513, 95% CI = [0.172, 0.853], p = .003), there was no meaningful association between response latency and the tendency to make consistent choices rather than preference reversals, b = 0.079, 95% CI = [-0.059, 0.216], p = .263."
        ],
        [
         "5",
         "Importantly, there were no between-group differences in the percentage who were successful once they had chosen to work for themselves and others (young adults' mean success rate = 0.98, SD = 0.03; older adults' mean success rate = 0.97, SD = 0.05; p = .107, Cohen's d = 0.24, 95% CI = [-0.04, 0.53]), and there were no significant effects of group, recipient, or their interactions when we ran a model predicting success on each trial-group: Ï‡ 2 (1) = 0.519, p = .471; recipient: Ï‡ 2 (1) = 0.855, p = .355; interaction: Ï‡ 2 (1) = 1.535, p = .215."
        ],
        [
         "6",
         "Gender, trait aggression, and endogenous testosterone did not affect these behavioral congruency effects on RTs and accuracy, and aggression and endogenous testosterone were not significantly correlated (r = .046, p = .45)."
        ]
       ],
       "shape": {
        "columns": 1,
        "rows": 7
       }
      },
      "text/html": [
       "<div>\n",
       "<style scoped>\n",
       "    .dataframe tbody tr th:only-of-type {\n",
       "        vertical-align: middle;\n",
       "    }\n",
       "\n",
       "    .dataframe tbody tr th {\n",
       "        vertical-align: top;\n",
       "    }\n",
       "\n",
       "    .dataframe thead th {\n",
       "        text-align: right;\n",
       "    }\n",
       "</style>\n",
       "<table border=\"1\" class=\"dataframe\">\n",
       "  <thead>\n",
       "    <tr style=\"text-align: right;\">\n",
       "      <th></th>\n",
       "      <th>text</th>\n",
       "    </tr>\n",
       "  </thead>\n",
       "  <tbody>\n",
       "    <tr>\n",
       "      <th>0</th>\n",
       "      <td>The omnibus ANCOVA, in which posterior perceiv...</td>\n",
       "    </tr>\n",
       "    <tr>\n",
       "      <th>1</th>\n",
       "      <td>The number of incongruent negative and positiv...</td>\n",
       "    </tr>\n",
       "    <tr>\n",
       "      <th>2</th>\n",
       "      <td>RT data showed a very similar pattern: Respons...</td>\n",
       "    </tr>\n",
       "    <tr>\n",
       "      <th>3</th>\n",
       "      <td>In contrast, the mean signed response offset f...</td>\n",
       "    </tr>\n",
       "    <tr>\n",
       "      <th>4</th>\n",
       "      <td>In addition, although participants with shorte...</td>\n",
       "    </tr>\n",
       "    <tr>\n",
       "      <th>5</th>\n",
       "      <td>Importantly, there were no between-group diffe...</td>\n",
       "    </tr>\n",
       "    <tr>\n",
       "      <th>6</th>\n",
       "      <td>Gender, trait aggression, and endogenous testo...</td>\n",
       "    </tr>\n",
       "  </tbody>\n",
       "</table>\n",
       "</div>"
      ],
      "text/plain": [
       "                                                text\n",
       "0  The omnibus ANCOVA, in which posterior perceiv...\n",
       "1  The number of incongruent negative and positiv...\n",
       "2  RT data showed a very similar pattern: Respons...\n",
       "3  In contrast, the mean signed response offset f...\n",
       "4  In addition, although participants with shorte...\n",
       "5  Importantly, there were no between-group diffe...\n",
       "6  Gender, trait aggression, and endogenous testo..."
      ]
     },
     "metadata": {},
     "output_type": "display_data"
    }
   ],
   "source": [
    "display_statements(false_negatives, \"False Negatives (predicted 0, actual 1)\")"
   ]
  },
  {
   "cell_type": "code",
   "execution_count": null,
   "id": "56e5e265",
   "metadata": {},
   "outputs": [],
   "source": [
    "# The end..."
   ]
  }
 ],
 "metadata": {
  "kernelspec": {
   "display_name": "Python (nonsig-venv)",
   "language": "python",
   "name": "nonsig-venv"
  },
  "language_info": {
   "codemirror_mode": {
    "name": "ipython",
    "version": 3
   },
   "file_extension": ".py",
   "mimetype": "text/x-python",
   "name": "python",
   "nbconvert_exporter": "python",
   "pygments_lexer": "ipython3",
   "version": "3.12.10"
  }
 },
 "nbformat": 4,
 "nbformat_minor": 5
}
