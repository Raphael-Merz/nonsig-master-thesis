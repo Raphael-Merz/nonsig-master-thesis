{
 "cells": [
  {
   "cell_type": "markdown",
   "id": "5e0f8a44",
   "metadata": {},
   "source": [
    "# Bert Training with Early Stopping"
   ]
  },
  {
   "cell_type": "markdown",
   "id": "ef72840b",
   "metadata": {},
   "source": [
    "## 0. Setup"
   ]
  },
  {
   "cell_type": "markdown",
   "id": "32992dd0",
   "metadata": {},
   "source": [
    "### 0.1 Install libraries"
   ]
  },
  {
   "cell_type": "code",
   "execution_count": 299,
   "id": "da13a949",
   "metadata": {},
   "outputs": [
    {
     "name": "stdout",
     "output_type": "stream",
     "text": [
      "Requirement already satisfied: absl-py==2.3.1 in c:\\users\\raphael\\documents\\github\\nonsig-master-thesis\\venv\\lib\\site-packages (from -r requirements.txt (line 1)) (2.3.1)\n",
      "Requirement already satisfied: accelerate==1.8.1 in c:\\users\\raphael\\documents\\github\\nonsig-master-thesis\\venv\\lib\\site-packages (from -r requirements.txt (line 2)) (1.8.1)\n",
      "Requirement already satisfied: aiohappyeyeballs==2.6.1 in c:\\users\\raphael\\documents\\github\\nonsig-master-thesis\\venv\\lib\\site-packages (from -r requirements.txt (line 3)) (2.6.1)\n",
      "Requirement already satisfied: aiohttp==3.12.13 in c:\\users\\raphael\\documents\\github\\nonsig-master-thesis\\venv\\lib\\site-packages (from -r requirements.txt (line 4)) (3.12.13)\n",
      "Requirement already satisfied: aiosignal==1.4.0 in c:\\users\\raphael\\documents\\github\\nonsig-master-thesis\\venv\\lib\\site-packages (from -r requirements.txt (line 5)) (1.4.0)\n",
      "Requirement already satisfied: asttokens==3.0.0 in c:\\users\\raphael\\documents\\github\\nonsig-master-thesis\\venv\\lib\\site-packages (from -r requirements.txt (line 6)) (3.0.0)\n",
      "Requirement already satisfied: astunparse==1.6.3 in c:\\users\\raphael\\documents\\github\\nonsig-master-thesis\\venv\\lib\\site-packages (from -r requirements.txt (line 7)) (1.6.3)\n",
      "Requirement already satisfied: attrs==25.3.0 in c:\\users\\raphael\\documents\\github\\nonsig-master-thesis\\venv\\lib\\site-packages (from -r requirements.txt (line 8)) (25.3.0)\n",
      "Requirement already satisfied: certifi==2025.6.15 in c:\\users\\raphael\\documents\\github\\nonsig-master-thesis\\venv\\lib\\site-packages (from -r requirements.txt (line 9)) (2025.6.15)\n",
      "Requirement already satisfied: charset-normalizer==3.4.2 in c:\\users\\raphael\\documents\\github\\nonsig-master-thesis\\venv\\lib\\site-packages (from -r requirements.txt (line 10)) (3.4.2)\n",
      "Requirement already satisfied: colorama==0.4.6 in c:\\users\\raphael\\documents\\github\\nonsig-master-thesis\\venv\\lib\\site-packages (from -r requirements.txt (line 11)) (0.4.6)\n",
      "Requirement already satisfied: comm==0.2.2 in c:\\users\\raphael\\documents\\github\\nonsig-master-thesis\\venv\\lib\\site-packages (from -r requirements.txt (line 12)) (0.2.2)\n",
      "Requirement already satisfied: contourpy==1.3.2 in c:\\users\\raphael\\documents\\github\\nonsig-master-thesis\\venv\\lib\\site-packages (from -r requirements.txt (line 13)) (1.3.2)\n",
      "Requirement already satisfied: cycler==0.12.1 in c:\\users\\raphael\\documents\\github\\nonsig-master-thesis\\venv\\lib\\site-packages (from -r requirements.txt (line 14)) (0.12.1)\n",
      "Requirement already satisfied: datasets==3.6.0 in c:\\users\\raphael\\documents\\github\\nonsig-master-thesis\\venv\\lib\\site-packages (from -r requirements.txt (line 15)) (3.6.0)\n",
      "Requirement already satisfied: debugpy==1.8.14 in c:\\users\\raphael\\documents\\github\\nonsig-master-thesis\\venv\\lib\\site-packages (from -r requirements.txt (line 16)) (1.8.14)\n",
      "Requirement already satisfied: decorator==5.2.1 in c:\\users\\raphael\\documents\\github\\nonsig-master-thesis\\venv\\lib\\site-packages (from -r requirements.txt (line 17)) (5.2.1)\n",
      "Requirement already satisfied: dill==0.3.8 in c:\\users\\raphael\\documents\\github\\nonsig-master-thesis\\venv\\lib\\site-packages (from -r requirements.txt (line 18)) (0.3.8)\n",
      "Requirement already satisfied: et_xmlfile==2.0.0 in c:\\users\\raphael\\documents\\github\\nonsig-master-thesis\\venv\\lib\\site-packages (from -r requirements.txt (line 19)) (2.0.0)\n",
      "Requirement already satisfied: evaluate==0.4.4 in c:\\users\\raphael\\documents\\github\\nonsig-master-thesis\\venv\\lib\\site-packages (from -r requirements.txt (line 20)) (0.4.4)\n",
      "Requirement already satisfied: executing==2.2.0 in c:\\users\\raphael\\documents\\github\\nonsig-master-thesis\\venv\\lib\\site-packages (from -r requirements.txt (line 21)) (2.2.0)\n",
      "Requirement already satisfied: filelock==3.18.0 in c:\\users\\raphael\\documents\\github\\nonsig-master-thesis\\venv\\lib\\site-packages (from -r requirements.txt (line 22)) (3.18.0)\n",
      "Requirement already satisfied: flatbuffers==25.2.10 in c:\\users\\raphael\\documents\\github\\nonsig-master-thesis\\venv\\lib\\site-packages (from -r requirements.txt (line 23)) (25.2.10)\n",
      "Requirement already satisfied: fonttools==4.58.5 in c:\\users\\raphael\\documents\\github\\nonsig-master-thesis\\venv\\lib\\site-packages (from -r requirements.txt (line 24)) (4.58.5)\n",
      "Requirement already satisfied: frozenlist==1.7.0 in c:\\users\\raphael\\documents\\github\\nonsig-master-thesis\\venv\\lib\\site-packages (from -r requirements.txt (line 25)) (1.7.0)\n",
      "Requirement already satisfied: fsspec==2025.3.0 in c:\\users\\raphael\\documents\\github\\nonsig-master-thesis\\venv\\lib\\site-packages (from -r requirements.txt (line 26)) (2025.3.0)\n",
      "Requirement already satisfied: gast==0.6.0 in c:\\users\\raphael\\documents\\github\\nonsig-master-thesis\\venv\\lib\\site-packages (from -r requirements.txt (line 27)) (0.6.0)\n",
      "Requirement already satisfied: google-pasta==0.2.0 in c:\\users\\raphael\\documents\\github\\nonsig-master-thesis\\venv\\lib\\site-packages (from -r requirements.txt (line 28)) (0.2.0)\n",
      "Requirement already satisfied: grpcio==1.73.1 in c:\\users\\raphael\\documents\\github\\nonsig-master-thesis\\venv\\lib\\site-packages (from -r requirements.txt (line 29)) (1.73.1)\n",
      "Requirement already satisfied: h5py==3.14.0 in c:\\users\\raphael\\documents\\github\\nonsig-master-thesis\\venv\\lib\\site-packages (from -r requirements.txt (line 30)) (3.14.0)\n",
      "Requirement already satisfied: huggingface-hub==0.33.2 in c:\\users\\raphael\\documents\\github\\nonsig-master-thesis\\venv\\lib\\site-packages (from -r requirements.txt (line 31)) (0.33.2)\n",
      "Requirement already satisfied: idna==3.10 in c:\\users\\raphael\\documents\\github\\nonsig-master-thesis\\venv\\lib\\site-packages (from -r requirements.txt (line 32)) (3.10)\n",
      "Requirement already satisfied: ipykernel==6.29.5 in c:\\users\\raphael\\documents\\github\\nonsig-master-thesis\\venv\\lib\\site-packages (from -r requirements.txt (line 33)) (6.29.5)\n",
      "Requirement already satisfied: ipython==9.4.0 in c:\\users\\raphael\\documents\\github\\nonsig-master-thesis\\venv\\lib\\site-packages (from -r requirements.txt (line 34)) (9.4.0)\n",
      "Requirement already satisfied: ipython_pygments_lexers==1.1.1 in c:\\users\\raphael\\documents\\github\\nonsig-master-thesis\\venv\\lib\\site-packages (from -r requirements.txt (line 35)) (1.1.1)\n",
      "Requirement already satisfied: jedi==0.19.2 in c:\\users\\raphael\\documents\\github\\nonsig-master-thesis\\venv\\lib\\site-packages (from -r requirements.txt (line 36)) (0.19.2)\n",
      "Requirement already satisfied: Jinja2==3.1.6 in c:\\users\\raphael\\documents\\github\\nonsig-master-thesis\\venv\\lib\\site-packages (from -r requirements.txt (line 37)) (3.1.6)\n",
      "Requirement already satisfied: joblib==1.5.1 in c:\\users\\raphael\\documents\\github\\nonsig-master-thesis\\venv\\lib\\site-packages (from -r requirements.txt (line 38)) (1.5.1)\n",
      "Requirement already satisfied: jupyter_client==8.6.3 in c:\\users\\raphael\\documents\\github\\nonsig-master-thesis\\venv\\lib\\site-packages (from -r requirements.txt (line 39)) (8.6.3)\n",
      "Requirement already satisfied: jupyter_core==5.8.1 in c:\\users\\raphael\\documents\\github\\nonsig-master-thesis\\venv\\lib\\site-packages (from -r requirements.txt (line 40)) (5.8.1)\n",
      "Requirement already satisfied: keras==3.10.0 in c:\\users\\raphael\\documents\\github\\nonsig-master-thesis\\venv\\lib\\site-packages (from -r requirements.txt (line 41)) (3.10.0)\n",
      "Requirement already satisfied: kiwisolver==1.4.8 in c:\\users\\raphael\\documents\\github\\nonsig-master-thesis\\venv\\lib\\site-packages (from -r requirements.txt (line 42)) (1.4.8)\n",
      "Requirement already satisfied: libclang==18.1.1 in c:\\users\\raphael\\documents\\github\\nonsig-master-thesis\\venv\\lib\\site-packages (from -r requirements.txt (line 43)) (18.1.1)\n",
      "Requirement already satisfied: Markdown==3.8.2 in c:\\users\\raphael\\documents\\github\\nonsig-master-thesis\\venv\\lib\\site-packages (from -r requirements.txt (line 44)) (3.8.2)\n",
      "Requirement already satisfied: markdown-it-py==3.0.0 in c:\\users\\raphael\\documents\\github\\nonsig-master-thesis\\venv\\lib\\site-packages (from -r requirements.txt (line 45)) (3.0.0)\n",
      "Requirement already satisfied: MarkupSafe==3.0.2 in c:\\users\\raphael\\documents\\github\\nonsig-master-thesis\\venv\\lib\\site-packages (from -r requirements.txt (line 46)) (3.0.2)\n",
      "Requirement already satisfied: matplotlib==3.10.3 in c:\\users\\raphael\\documents\\github\\nonsig-master-thesis\\venv\\lib\\site-packages (from -r requirements.txt (line 47)) (3.10.3)\n",
      "Requirement already satisfied: matplotlib-inline==0.1.7 in c:\\users\\raphael\\documents\\github\\nonsig-master-thesis\\venv\\lib\\site-packages (from -r requirements.txt (line 48)) (0.1.7)\n",
      "Requirement already satisfied: mdurl==0.1.2 in c:\\users\\raphael\\documents\\github\\nonsig-master-thesis\\venv\\lib\\site-packages (from -r requirements.txt (line 49)) (0.1.2)\n",
      "Requirement already satisfied: ml_dtypes==0.5.1 in c:\\users\\raphael\\documents\\github\\nonsig-master-thesis\\venv\\lib\\site-packages (from -r requirements.txt (line 50)) (0.5.1)\n",
      "Requirement already satisfied: mpmath==1.3.0 in c:\\users\\raphael\\documents\\github\\nonsig-master-thesis\\venv\\lib\\site-packages (from -r requirements.txt (line 51)) (1.3.0)\n",
      "Requirement already satisfied: multidict==6.6.3 in c:\\users\\raphael\\documents\\github\\nonsig-master-thesis\\venv\\lib\\site-packages (from -r requirements.txt (line 52)) (6.6.3)\n",
      "Requirement already satisfied: multiprocess==0.70.16 in c:\\users\\raphael\\documents\\github\\nonsig-master-thesis\\venv\\lib\\site-packages (from -r requirements.txt (line 53)) (0.70.16)\n",
      "Requirement already satisfied: namex==0.1.0 in c:\\users\\raphael\\documents\\github\\nonsig-master-thesis\\venv\\lib\\site-packages (from -r requirements.txt (line 54)) (0.1.0)\n",
      "Requirement already satisfied: nest-asyncio==1.6.0 in c:\\users\\raphael\\documents\\github\\nonsig-master-thesis\\venv\\lib\\site-packages (from -r requirements.txt (line 55)) (1.6.0)\n",
      "Requirement already satisfied: networkx==3.5 in c:\\users\\raphael\\documents\\github\\nonsig-master-thesis\\venv\\lib\\site-packages (from -r requirements.txt (line 56)) (3.5)\n",
      "Requirement already satisfied: numpy==2.1.3 in c:\\users\\raphael\\documents\\github\\nonsig-master-thesis\\venv\\lib\\site-packages (from -r requirements.txt (line 57)) (2.1.3)\n",
      "Requirement already satisfied: openpyxl==3.1.5 in c:\\users\\raphael\\documents\\github\\nonsig-master-thesis\\venv\\lib\\site-packages (from -r requirements.txt (line 58)) (3.1.5)\n",
      "Requirement already satisfied: opt_einsum==3.4.0 in c:\\users\\raphael\\documents\\github\\nonsig-master-thesis\\venv\\lib\\site-packages (from -r requirements.txt (line 59)) (3.4.0)\n",
      "Requirement already satisfied: optree==0.16.0 in c:\\users\\raphael\\documents\\github\\nonsig-master-thesis\\venv\\lib\\site-packages (from -r requirements.txt (line 60)) (0.16.0)\n",
      "Requirement already satisfied: packaging==25.0 in c:\\users\\raphael\\documents\\github\\nonsig-master-thesis\\venv\\lib\\site-packages (from -r requirements.txt (line 61)) (25.0)\n",
      "Requirement already satisfied: pandas==2.3.1 in c:\\users\\raphael\\documents\\github\\nonsig-master-thesis\\venv\\lib\\site-packages (from -r requirements.txt (line 62)) (2.3.1)\n",
      "Requirement already satisfied: parso==0.8.4 in c:\\users\\raphael\\documents\\github\\nonsig-master-thesis\\venv\\lib\\site-packages (from -r requirements.txt (line 63)) (0.8.4)\n",
      "Requirement already satisfied: pillow==11.3.0 in c:\\users\\raphael\\documents\\github\\nonsig-master-thesis\\venv\\lib\\site-packages (from -r requirements.txt (line 64)) (11.3.0)\n",
      "Requirement already satisfied: platformdirs==4.3.8 in c:\\users\\raphael\\documents\\github\\nonsig-master-thesis\\venv\\lib\\site-packages (from -r requirements.txt (line 65)) (4.3.8)\n",
      "Requirement already satisfied: prompt_toolkit==3.0.51 in c:\\users\\raphael\\documents\\github\\nonsig-master-thesis\\venv\\lib\\site-packages (from -r requirements.txt (line 66)) (3.0.51)\n",
      "Requirement already satisfied: propcache==0.3.2 in c:\\users\\raphael\\documents\\github\\nonsig-master-thesis\\venv\\lib\\site-packages (from -r requirements.txt (line 67)) (0.3.2)\n",
      "Requirement already satisfied: protobuf==5.29.5 in c:\\users\\raphael\\documents\\github\\nonsig-master-thesis\\venv\\lib\\site-packages (from -r requirements.txt (line 68)) (5.29.5)\n",
      "Requirement already satisfied: psutil==7.0.0 in c:\\users\\raphael\\documents\\github\\nonsig-master-thesis\\venv\\lib\\site-packages (from -r requirements.txt (line 69)) (7.0.0)\n",
      "Requirement already satisfied: pure_eval==0.2.3 in c:\\users\\raphael\\documents\\github\\nonsig-master-thesis\\venv\\lib\\site-packages (from -r requirements.txt (line 70)) (0.2.3)\n",
      "Requirement already satisfied: pyarrow==20.0.0 in c:\\users\\raphael\\documents\\github\\nonsig-master-thesis\\venv\\lib\\site-packages (from -r requirements.txt (line 71)) (20.0.0)\n",
      "Requirement already satisfied: Pygments==2.19.2 in c:\\users\\raphael\\documents\\github\\nonsig-master-thesis\\venv\\lib\\site-packages (from -r requirements.txt (line 72)) (2.19.2)\n",
      "Requirement already satisfied: pyparsing==3.2.3 in c:\\users\\raphael\\documents\\github\\nonsig-master-thesis\\venv\\lib\\site-packages (from -r requirements.txt (line 73)) (3.2.3)\n",
      "Requirement already satisfied: python-dateutil==2.9.0.post0 in c:\\users\\raphael\\documents\\github\\nonsig-master-thesis\\venv\\lib\\site-packages (from -r requirements.txt (line 74)) (2.9.0.post0)\n",
      "Requirement already satisfied: pytz==2025.2 in c:\\users\\raphael\\documents\\github\\nonsig-master-thesis\\venv\\lib\\site-packages (from -r requirements.txt (line 75)) (2025.2)\n",
      "Requirement already satisfied: pywin32==310 in c:\\users\\raphael\\documents\\github\\nonsig-master-thesis\\venv\\lib\\site-packages (from -r requirements.txt (line 76)) (310)\n",
      "Requirement already satisfied: PyYAML==6.0.2 in c:\\users\\raphael\\documents\\github\\nonsig-master-thesis\\venv\\lib\\site-packages (from -r requirements.txt (line 77)) (6.0.2)\n",
      "Requirement already satisfied: pyzmq==27.0.0 in c:\\users\\raphael\\documents\\github\\nonsig-master-thesis\\venv\\lib\\site-packages (from -r requirements.txt (line 78)) (27.0.0)\n",
      "Requirement already satisfied: regex==2024.11.6 in c:\\users\\raphael\\documents\\github\\nonsig-master-thesis\\venv\\lib\\site-packages (from -r requirements.txt (line 79)) (2024.11.6)\n",
      "Requirement already satisfied: requests==2.32.4 in c:\\users\\raphael\\documents\\github\\nonsig-master-thesis\\venv\\lib\\site-packages (from -r requirements.txt (line 80)) (2.32.4)\n",
      "Requirement already satisfied: rich==14.0.0 in c:\\users\\raphael\\documents\\github\\nonsig-master-thesis\\venv\\lib\\site-packages (from -r requirements.txt (line 81)) (14.0.0)\n",
      "Requirement already satisfied: safetensors==0.5.3 in c:\\users\\raphael\\documents\\github\\nonsig-master-thesis\\venv\\lib\\site-packages (from -r requirements.txt (line 82)) (0.5.3)\n",
      "Requirement already satisfied: scikit-learn==1.7.0 in c:\\users\\raphael\\documents\\github\\nonsig-master-thesis\\venv\\lib\\site-packages (from -r requirements.txt (line 83)) (1.7.0)\n",
      "Requirement already satisfied: scipy==1.16.0 in c:\\users\\raphael\\documents\\github\\nonsig-master-thesis\\venv\\lib\\site-packages (from -r requirements.txt (line 84)) (1.16.0)\n",
      "Requirement already satisfied: seaborn==0.13.2 in c:\\users\\raphael\\documents\\github\\nonsig-master-thesis\\venv\\lib\\site-packages (from -r requirements.txt (line 85)) (0.13.2)\n",
      "Requirement already satisfied: setuptools==80.9.0 in c:\\users\\raphael\\documents\\github\\nonsig-master-thesis\\venv\\lib\\site-packages (from -r requirements.txt (line 86)) (80.9.0)\n",
      "Requirement already satisfied: six==1.17.0 in c:\\users\\raphael\\documents\\github\\nonsig-master-thesis\\venv\\lib\\site-packages (from -r requirements.txt (line 87)) (1.17.0)\n",
      "Requirement already satisfied: stack-data==0.6.3 in c:\\users\\raphael\\documents\\github\\nonsig-master-thesis\\venv\\lib\\site-packages (from -r requirements.txt (line 88)) (0.6.3)\n",
      "Requirement already satisfied: sympy==1.14.0 in c:\\users\\raphael\\documents\\github\\nonsig-master-thesis\\venv\\lib\\site-packages (from -r requirements.txt (line 89)) (1.14.0)\n",
      "Requirement already satisfied: tensorboard==2.19.0 in c:\\users\\raphael\\documents\\github\\nonsig-master-thesis\\venv\\lib\\site-packages (from -r requirements.txt (line 90)) (2.19.0)\n",
      "Requirement already satisfied: tensorboard-data-server==0.7.2 in c:\\users\\raphael\\documents\\github\\nonsig-master-thesis\\venv\\lib\\site-packages (from -r requirements.txt (line 91)) (0.7.2)\n",
      "Requirement already satisfied: tensorflow==2.19.0 in c:\\users\\raphael\\documents\\github\\nonsig-master-thesis\\venv\\lib\\site-packages (from -r requirements.txt (line 92)) (2.19.0)\n",
      "Requirement already satisfied: termcolor==3.1.0 in c:\\users\\raphael\\documents\\github\\nonsig-master-thesis\\venv\\lib\\site-packages (from -r requirements.txt (line 93)) (3.1.0)\n",
      "Requirement already satisfied: tf_keras==2.19.0 in c:\\users\\raphael\\documents\\github\\nonsig-master-thesis\\venv\\lib\\site-packages (from -r requirements.txt (line 94)) (2.19.0)\n",
      "Requirement already satisfied: threadpoolctl==3.6.0 in c:\\users\\raphael\\documents\\github\\nonsig-master-thesis\\venv\\lib\\site-packages (from -r requirements.txt (line 95)) (3.6.0)\n",
      "Requirement already satisfied: tokenizers==0.21.2 in c:\\users\\raphael\\documents\\github\\nonsig-master-thesis\\venv\\lib\\site-packages (from -r requirements.txt (line 96)) (0.21.2)\n",
      "Requirement already satisfied: tornado==6.5.1 in c:\\users\\raphael\\documents\\github\\nonsig-master-thesis\\venv\\lib\\site-packages (from -r requirements.txt (line 97)) (6.5.1)\n",
      "Requirement already satisfied: tqdm==4.67.1 in c:\\users\\raphael\\documents\\github\\nonsig-master-thesis\\venv\\lib\\site-packages (from -r requirements.txt (line 98)) (4.67.1)\n",
      "Requirement already satisfied: traitlets==5.14.3 in c:\\users\\raphael\\documents\\github\\nonsig-master-thesis\\venv\\lib\\site-packages (from -r requirements.txt (line 99)) (5.14.3)\n",
      "Requirement already satisfied: transformers==4.53.1 in c:\\users\\raphael\\documents\\github\\nonsig-master-thesis\\venv\\lib\\site-packages (from -r requirements.txt (line 100)) (4.53.1)\n",
      "Requirement already satisfied: typing_extensions==4.14.1 in c:\\users\\raphael\\documents\\github\\nonsig-master-thesis\\venv\\lib\\site-packages (from -r requirements.txt (line 101)) (4.14.1)\n",
      "Requirement already satisfied: tzdata==2025.2 in c:\\users\\raphael\\documents\\github\\nonsig-master-thesis\\venv\\lib\\site-packages (from -r requirements.txt (line 102)) (2025.2)\n",
      "Requirement already satisfied: urllib3==2.5.0 in c:\\users\\raphael\\documents\\github\\nonsig-master-thesis\\venv\\lib\\site-packages (from -r requirements.txt (line 103)) (2.5.0)\n",
      "Requirement already satisfied: wcwidth==0.2.13 in c:\\users\\raphael\\documents\\github\\nonsig-master-thesis\\venv\\lib\\site-packages (from -r requirements.txt (line 104)) (0.2.13)\n",
      "Requirement already satisfied: Werkzeug==3.1.3 in c:\\users\\raphael\\documents\\github\\nonsig-master-thesis\\venv\\lib\\site-packages (from -r requirements.txt (line 105)) (3.1.3)\n",
      "Requirement already satisfied: wheel==0.45.1 in c:\\users\\raphael\\documents\\github\\nonsig-master-thesis\\venv\\lib\\site-packages (from -r requirements.txt (line 106)) (0.45.1)\n",
      "Requirement already satisfied: wrapt==1.17.2 in c:\\users\\raphael\\documents\\github\\nonsig-master-thesis\\venv\\lib\\site-packages (from -r requirements.txt (line 107)) (1.17.2)\n",
      "Requirement already satisfied: xxhash==3.5.0 in c:\\users\\raphael\\documents\\github\\nonsig-master-thesis\\venv\\lib\\site-packages (from -r requirements.txt (line 108)) (3.5.0)\n",
      "Requirement already satisfied: yarl==1.20.1 in c:\\users\\raphael\\documents\\github\\nonsig-master-thesis\\venv\\lib\\site-packages (from -r requirements.txt (line 109)) (1.20.1)\n",
      "Requirement already satisfied: torch>=2.0.0 in c:\\users\\raphael\\documents\\github\\nonsig-master-thesis\\venv\\lib\\site-packages (from accelerate==1.8.1->-r requirements.txt (line 2)) (2.7.1+cu128)\n"
     ]
    },
    {
     "name": "stderr",
     "output_type": "stream",
     "text": [
      "\n",
      "[notice] A new release of pip is available: 25.0.1 -> 25.1.1\n",
      "[notice] To update, run: python.exe -m pip install --upgrade pip\n"
     ]
    },
    {
     "name": "stdout",
     "output_type": "stream",
     "text": [
      "Looking in links: https://download.pytorch.org/whl/torch/\n",
      "Requirement already satisfied: torch==2.7.1+cu128 in c:\\users\\raphael\\documents\\github\\nonsig-master-thesis\\venv\\lib\\site-packages (2.7.1+cu128)\n",
      "Requirement already satisfied: filelock in c:\\users\\raphael\\documents\\github\\nonsig-master-thesis\\venv\\lib\\site-packages (from torch==2.7.1+cu128) (3.18.0)\n",
      "Requirement already satisfied: typing-extensions>=4.10.0 in c:\\users\\raphael\\documents\\github\\nonsig-master-thesis\\venv\\lib\\site-packages (from torch==2.7.1+cu128) (4.14.1)\n",
      "Requirement already satisfied: sympy>=1.13.3 in c:\\users\\raphael\\documents\\github\\nonsig-master-thesis\\venv\\lib\\site-packages (from torch==2.7.1+cu128) (1.14.0)\n",
      "Requirement already satisfied: networkx in c:\\users\\raphael\\documents\\github\\nonsig-master-thesis\\venv\\lib\\site-packages (from torch==2.7.1+cu128) (3.5)\n",
      "Requirement already satisfied: jinja2 in c:\\users\\raphael\\documents\\github\\nonsig-master-thesis\\venv\\lib\\site-packages (from torch==2.7.1+cu128) (3.1.6)\n",
      "Requirement already satisfied: fsspec in c:\\users\\raphael\\documents\\github\\nonsig-master-thesis\\venv\\lib\\site-packages (from torch==2.7.1+cu128) (2025.3.0)\n",
      "Requirement already satisfied: setuptools in c:\\users\\raphael\\documents\\github\\nonsig-master-thesis\\venv\\lib\\site-packages (from torch==2.7.1+cu128) (80.9.0)\n",
      "Requirement already satisfied: mpmath<1.4,>=1.1.0 in c:\\users\\raphael\\documents\\github\\nonsig-master-thesis\\venv\\lib\\site-packages (from sympy>=1.13.3->torch==2.7.1+cu128) (1.3.0)\n",
      "Requirement already satisfied: MarkupSafe>=2.0 in c:\\users\\raphael\\documents\\github\\nonsig-master-thesis\\venv\\lib\\site-packages (from jinja2->torch==2.7.1+cu128) (3.0.2)\n"
     ]
    },
    {
     "name": "stderr",
     "output_type": "stream",
     "text": [
      "\n",
      "[notice] A new release of pip is available: 25.0.1 -> 25.1.1\n",
      "[notice] To update, run: python.exe -m pip install --upgrade pip\n"
     ]
    },
    {
     "name": "stdout",
     "output_type": "stream",
     "text": [
      "Looking in links: https://download.pytorch.org/whl/torchaudio/\n",
      "Requirement already satisfied: torchaudio==2.7.1+cu128 in c:\\users\\raphael\\documents\\github\\nonsig-master-thesis\\venv\\lib\\site-packages (2.7.1+cu128)\n",
      "Requirement already satisfied: torch==2.7.1+cu128 in c:\\users\\raphael\\documents\\github\\nonsig-master-thesis\\venv\\lib\\site-packages (from torchaudio==2.7.1+cu128) (2.7.1+cu128)\n",
      "Requirement already satisfied: filelock in c:\\users\\raphael\\documents\\github\\nonsig-master-thesis\\venv\\lib\\site-packages (from torch==2.7.1+cu128->torchaudio==2.7.1+cu128) (3.18.0)\n",
      "Requirement already satisfied: typing-extensions>=4.10.0 in c:\\users\\raphael\\documents\\github\\nonsig-master-thesis\\venv\\lib\\site-packages (from torch==2.7.1+cu128->torchaudio==2.7.1+cu128) (4.14.1)\n",
      "Requirement already satisfied: sympy>=1.13.3 in c:\\users\\raphael\\documents\\github\\nonsig-master-thesis\\venv\\lib\\site-packages (from torch==2.7.1+cu128->torchaudio==2.7.1+cu128) (1.14.0)\n",
      "Requirement already satisfied: networkx in c:\\users\\raphael\\documents\\github\\nonsig-master-thesis\\venv\\lib\\site-packages (from torch==2.7.1+cu128->torchaudio==2.7.1+cu128) (3.5)\n",
      "Requirement already satisfied: jinja2 in c:\\users\\raphael\\documents\\github\\nonsig-master-thesis\\venv\\lib\\site-packages (from torch==2.7.1+cu128->torchaudio==2.7.1+cu128) (3.1.6)\n",
      "Requirement already satisfied: fsspec in c:\\users\\raphael\\documents\\github\\nonsig-master-thesis\\venv\\lib\\site-packages (from torch==2.7.1+cu128->torchaudio==2.7.1+cu128) (2025.3.0)\n",
      "Requirement already satisfied: setuptools in c:\\users\\raphael\\documents\\github\\nonsig-master-thesis\\venv\\lib\\site-packages (from torch==2.7.1+cu128->torchaudio==2.7.1+cu128) (80.9.0)\n",
      "Requirement already satisfied: mpmath<1.4,>=1.1.0 in c:\\users\\raphael\\documents\\github\\nonsig-master-thesis\\venv\\lib\\site-packages (from sympy>=1.13.3->torch==2.7.1+cu128->torchaudio==2.7.1+cu128) (1.3.0)\n",
      "Requirement already satisfied: MarkupSafe>=2.0 in c:\\users\\raphael\\documents\\github\\nonsig-master-thesis\\venv\\lib\\site-packages (from jinja2->torch==2.7.1+cu128->torchaudio==2.7.1+cu128) (3.0.2)\n"
     ]
    },
    {
     "name": "stderr",
     "output_type": "stream",
     "text": [
      "\n",
      "[notice] A new release of pip is available: 25.0.1 -> 25.1.1\n",
      "[notice] To update, run: python.exe -m pip install --upgrade pip\n"
     ]
    },
    {
     "name": "stdout",
     "output_type": "stream",
     "text": [
      "Looking in links: https://download.pytorch.org/whl/torchvision/\n",
      "Requirement already satisfied: torchvision==0.22.1+cu128 in c:\\users\\raphael\\documents\\github\\nonsig-master-thesis\\venv\\lib\\site-packages (0.22.1+cu128)\n",
      "Requirement already satisfied: numpy in c:\\users\\raphael\\documents\\github\\nonsig-master-thesis\\venv\\lib\\site-packages (from torchvision==0.22.1+cu128) (2.1.3)\n",
      "Requirement already satisfied: torch==2.7.1+cu128 in c:\\users\\raphael\\documents\\github\\nonsig-master-thesis\\venv\\lib\\site-packages (from torchvision==0.22.1+cu128) (2.7.1+cu128)\n",
      "Requirement already satisfied: pillow!=8.3.*,>=5.3.0 in c:\\users\\raphael\\documents\\github\\nonsig-master-thesis\\venv\\lib\\site-packages (from torchvision==0.22.1+cu128) (11.3.0)\n",
      "Requirement already satisfied: filelock in c:\\users\\raphael\\documents\\github\\nonsig-master-thesis\\venv\\lib\\site-packages (from torch==2.7.1+cu128->torchvision==0.22.1+cu128) (3.18.0)\n",
      "Requirement already satisfied: typing-extensions>=4.10.0 in c:\\users\\raphael\\documents\\github\\nonsig-master-thesis\\venv\\lib\\site-packages (from torch==2.7.1+cu128->torchvision==0.22.1+cu128) (4.14.1)\n",
      "Requirement already satisfied: sympy>=1.13.3 in c:\\users\\raphael\\documents\\github\\nonsig-master-thesis\\venv\\lib\\site-packages (from torch==2.7.1+cu128->torchvision==0.22.1+cu128) (1.14.0)\n",
      "Requirement already satisfied: networkx in c:\\users\\raphael\\documents\\github\\nonsig-master-thesis\\venv\\lib\\site-packages (from torch==2.7.1+cu128->torchvision==0.22.1+cu128) (3.5)\n",
      "Requirement already satisfied: jinja2 in c:\\users\\raphael\\documents\\github\\nonsig-master-thesis\\venv\\lib\\site-packages (from torch==2.7.1+cu128->torchvision==0.22.1+cu128) (3.1.6)\n",
      "Requirement already satisfied: fsspec in c:\\users\\raphael\\documents\\github\\nonsig-master-thesis\\venv\\lib\\site-packages (from torch==2.7.1+cu128->torchvision==0.22.1+cu128) (2025.3.0)\n",
      "Requirement already satisfied: setuptools in c:\\users\\raphael\\documents\\github\\nonsig-master-thesis\\venv\\lib\\site-packages (from torch==2.7.1+cu128->torchvision==0.22.1+cu128) (80.9.0)\n",
      "Requirement already satisfied: mpmath<1.4,>=1.1.0 in c:\\users\\raphael\\documents\\github\\nonsig-master-thesis\\venv\\lib\\site-packages (from sympy>=1.13.3->torch==2.7.1+cu128->torchvision==0.22.1+cu128) (1.3.0)\n",
      "Requirement already satisfied: MarkupSafe>=2.0 in c:\\users\\raphael\\documents\\github\\nonsig-master-thesis\\venv\\lib\\site-packages (from jinja2->torch==2.7.1+cu128->torchvision==0.22.1+cu128) (3.0.2)\n"
     ]
    },
    {
     "name": "stderr",
     "output_type": "stream",
     "text": [
      "\n",
      "[notice] A new release of pip is available: 25.0.1 -> 25.1.1\n",
      "[notice] To update, run: python.exe -m pip install --upgrade pip\n"
     ]
    }
   ],
   "source": [
    "! pip install -r requirements.txt\n",
    "\n",
    "# If you work with GPU-support:\n",
    "! pip install torch==2.7.1+cu128 -f https://download.pytorch.org/whl/torch/\n",
    "! pip install torchaudio==2.7.1+cu128 -f https://download.pytorch.org/whl/torchaudio/\n",
    "! pip install torchvision==0.22.1+cu128 -f https://download.pytorch.org/whl/torchvision/\n",
    "\n",
    "# If you only work with CPU-support:\n",
    "# ! pip install torch==2.7.1\n",
    "# ! pip install torchaudio==2.7.1\n",
    "# ! pip install torchvision==0.22.1"
   ]
  },
  {
   "cell_type": "markdown",
   "id": "6d5fa995",
   "metadata": {},
   "source": [
    "### 0.2 GPU setup"
   ]
  },
  {
   "cell_type": "code",
   "execution_count": 300,
   "id": "a3336508",
   "metadata": {},
   "outputs": [
    {
     "name": "stdout",
     "output_type": "stream",
     "text": [
      "True\n",
      "0\n",
      "NVIDIA GeForce RTX 2070 with Max-Q Design\n"
     ]
    }
   ],
   "source": [
    "# Check if CUDA is available and print the current device's name\n",
    "import torch\n",
    "print(torch.cuda.is_available())\n",
    "if torch.cuda.is_available():\n",
    "    print(torch.cuda.current_device())\n",
    "    print(torch.cuda.get_device_name(0))"
   ]
  },
  {
   "cell_type": "markdown",
   "id": "19253634",
   "metadata": {},
   "source": [
    "## 1 Configuration"
   ]
  },
  {
   "cell_type": "code",
   "execution_count": 301,
   "id": "ff026edd",
   "metadata": {},
   "outputs": [],
   "source": [
    "# Data variables\n",
    "data_path = \"../../data/training_data/labeled/labeled_data.xlsx\" # path to the Excel file with the labeled data\n",
    "validation_path = \"../../data/validation_data/validation_data.csv\" # path to where the validation set should be stored\n",
    "results_path = \"../../data/model_performance\" # path to where the results should be stored\n",
    "text_column_name = \"expanded\" # name of the column containing the text to classify\n",
    "label_column_name = \"label_strict\" # name of the column containing the labels (0 = correct or 1 = incorrect)\n",
    "num_labels = 2 # binary classification (see above)\n",
    "\n",
    "# Model configuration\n",
    "model_name = \"bert-base-uncased\" # standard; I specify other models in the \"3. Initialize Models\" section of this script\n",
    "test_size = 0.2 # ratio of the dataset to be used for testing\n",
    "max_length = 512 # maximum length of the input sequences for BERT\n",
    "num_epochs = 10 # number of epochs for training\n",
    "batch_size = 8 # batch size for training and evaluation\n",
    "learning_rate = 2e-5 # learning rate for the optimizer\n",
    "weight_decay = 0.01 # weight decay for the optimizer\n",
    "early_stopping_patience = 2 # number of epochs with no improvement after which training will be stopped\n",
    "\n",
    "# Seed for reproducibility\n",
    "import random\n",
    "import numpy as np\n",
    "from transformers import set_seed\n",
    "import os\n",
    "\n",
    "seed = 42\n",
    "\n",
    "os.environ['PYTHONHASHSEED'] = str(seed)\n",
    "random.seed(seed)\n",
    "np.random.seed(seed)\n",
    "torch.manual_seed(seed)\n",
    "torch.cuda.manual_seed_all(seed)\n",
    "set_seed(seed)\n",
    "torch.backends.cudnn.deterministic = True\n",
    "torch.backends.cudnn.benchmark = False"
   ]
  },
  {
   "cell_type": "markdown",
   "id": "050e4828",
   "metadata": {},
   "source": [
    "## 2 Read and prepare dataset"
   ]
  },
  {
   "cell_type": "code",
   "execution_count": 302,
   "id": "1789fc47",
   "metadata": {},
   "outputs": [
    {
     "data": {
      "application/vnd.microsoft.datawrangler.viewer.v0+json": {
       "columns": [
        {
         "name": "index",
         "rawType": "int64",
         "type": "integer"
        },
        {
         "name": "text",
         "rawType": "object",
         "type": "string"
        },
        {
         "name": "label",
         "rawType": "int64",
         "type": "integer"
        }
       ],
       "ref": "f8576274-e080-4ddb-a399-426cbf44ecd4",
       "rows": [
        [
         "0",
         "There were no significant differences between ratings for the aversive CS+ and the CS-(p = .330) or the neutral CS+ and the CS-(p = .170).",
         "0"
        ],
        [
         "1",
         "There was no interaction between age group and condition, F(1, 124) = 0.07, p = .79.",
         "1"
        ],
        [
         "2",
         "Opponent height was subsequently added as a fixed effect, which was not significantly related to number of coins kept for self in the ultimatum game, Wald Ï‡ 2 (1) = 1.54, b = 0.004, SE = 0.003, 95% CI = [-0.002, 0.011], p = .215 (QICc = 24.62).",
         "0"
        ],
        [
         "3",
         "Interestingly, however, participants' explicit relationship evaluation did not predict their verbal behavior either, b = -0.002, SE = 0.07, 95% CI = [-0.13, 0.13], p = .979, Î² = -0.002.",
         "1"
        ],
        [
         "4",
         "When participants made large errors on previous trials, their encoding speed on subsequent trials was the same, or if anything slightly lower (Î² = -0.121, t = -1.69, p = .094, BF 10 = 0.374, Î”BIC = -1.98; see Fig. S2 in the Supplemental Material).",
         "1"
        ]
       ],
       "shape": {
        "columns": 2,
        "rows": 5
       }
      },
      "text/html": [
       "<div>\n",
       "<style scoped>\n",
       "    .dataframe tbody tr th:only-of-type {\n",
       "        vertical-align: middle;\n",
       "    }\n",
       "\n",
       "    .dataframe tbody tr th {\n",
       "        vertical-align: top;\n",
       "    }\n",
       "\n",
       "    .dataframe thead th {\n",
       "        text-align: right;\n",
       "    }\n",
       "</style>\n",
       "<table border=\"1\" class=\"dataframe\">\n",
       "  <thead>\n",
       "    <tr style=\"text-align: right;\">\n",
       "      <th></th>\n",
       "      <th>text</th>\n",
       "      <th>label</th>\n",
       "    </tr>\n",
       "  </thead>\n",
       "  <tbody>\n",
       "    <tr>\n",
       "      <th>0</th>\n",
       "      <td>There were no significant differences between ...</td>\n",
       "      <td>0</td>\n",
       "    </tr>\n",
       "    <tr>\n",
       "      <th>1</th>\n",
       "      <td>There was no interaction between age group and...</td>\n",
       "      <td>1</td>\n",
       "    </tr>\n",
       "    <tr>\n",
       "      <th>2</th>\n",
       "      <td>Opponent height was subsequently added as a fi...</td>\n",
       "      <td>0</td>\n",
       "    </tr>\n",
       "    <tr>\n",
       "      <th>3</th>\n",
       "      <td>Interestingly, however, participants' explicit...</td>\n",
       "      <td>1</td>\n",
       "    </tr>\n",
       "    <tr>\n",
       "      <th>4</th>\n",
       "      <td>When participants made large errors on previou...</td>\n",
       "      <td>1</td>\n",
       "    </tr>\n",
       "  </tbody>\n",
       "</table>\n",
       "</div>"
      ],
      "text/plain": [
       "                                                text  label\n",
       "0  There were no significant differences between ...      0\n",
       "1  There was no interaction between age group and...      1\n",
       "2  Opponent height was subsequently added as a fi...      0\n",
       "3  Interestingly, however, participants' explicit...      1\n",
       "4  When participants made large errors on previou...      1"
      ]
     },
     "execution_count": 302,
     "metadata": {},
     "output_type": "execute_result"
    }
   ],
   "source": [
    "import pandas as pd\n",
    "from sklearn.utils import resample\n",
    "from sklearn.model_selection import train_test_split\n",
    "\n",
    "# Load the data\n",
    "df = pd.read_excel(data_path)\n",
    "\n",
    "# Remove all columns but 'expanded' and 'label_strict'\n",
    "df = df.drop(columns=['statement_id', 'section', 'header','div', 'p', 's', 'article_id', 'p_comp', 'p_value', 'context', 'text', 'label_kind', 'label_keywords', 'label_comment'])\n",
    "\n",
    "# Change column names\n",
    "df = df.rename(columns={text_column_name: 'text', label_column_name: 'label'})\n",
    "\n",
    "# Remove rows where 'label' is NA\n",
    "df = df[df['label'].notna()]\n",
    "\n",
    "# Put 20 % of the data (with labels 0, 1, or -99) into a validation set\n",
    "df, val_df = train_test_split(\n",
    "    df,\n",
    "    test_size=0.2,\n",
    "    stratify=df['label'],\n",
    "    random_state=seed\n",
    ")\n",
    "\n",
    "# Save validation set as 'validation_data.csv' at 'validation_path'\n",
    "val_df.to_csv(validation_path, index=False)\n",
    "\n",
    "# Remove rows where 'label' is -99\n",
    "df = df[df['label'] != -99]\n",
    "\n",
    "# Convert label column to int (required for classification)\n",
    "df['label'] = df['label'].astype(int)\n",
    "\n",
    "# Balance labels via undersampling (generalized)\n",
    "label_counts = df['label'].value_counts()  # Get counts of each label\n",
    "minority_label = label_counts.idxmin() # Get the minority label\n",
    "majority_label = label_counts.idxmax() # Get the majority label\n",
    "\n",
    "df_minority = df[df['label'] == minority_label]\n",
    "df_majority = df[df['label'] == majority_label]\n",
    "\n",
    "df_majority_downsampled = resample( # Downsample majority label\n",
    "    df_majority,\n",
    "    replace=False,\n",
    "    n_samples=len(df_minority),\n",
    "    random_state=seed\n",
    ")\n",
    "\n",
    "df = pd.concat([df_majority_downsampled, df_minority]).sample(frac=1, random_state=seed).reset_index(drop=True)\n",
    "\n",
    "# Show head\n",
    "df.head()"
   ]
  },
  {
   "cell_type": "markdown",
   "id": "c2e53af8",
   "metadata": {},
   "source": [
    "### 2.1 Create Train/Test set"
   ]
  },
  {
   "cell_type": "code",
   "execution_count": 303,
   "id": "2e797a35",
   "metadata": {},
   "outputs": [],
   "source": [
    "from sklearn.model_selection import train_test_split\n",
    "\n",
    "# Split the dataset into training and test sets\n",
    "df_train, df_test = train_test_split(df, test_size=test_size, random_state=seed, stratify=df['label'])\n",
    "\n",
    "# Convert to Huggingface dataset\n",
    "from datasets import Dataset\n",
    "train_dataset = Dataset.from_pandas(df_train)\n",
    "test_dataset = Dataset.from_pandas(df_test)"
   ]
  },
  {
   "cell_type": "markdown",
   "id": "ecff339a",
   "metadata": {},
   "source": [
    "Header of the Training set:"
   ]
  },
  {
   "cell_type": "code",
   "execution_count": 304,
   "id": "8f28446b",
   "metadata": {},
   "outputs": [
    {
     "data": {
      "application/vnd.microsoft.datawrangler.viewer.v0+json": {
       "columns": [
        {
         "name": "index",
         "rawType": "int64",
         "type": "integer"
        },
        {
         "name": "text",
         "rawType": "object",
         "type": "string"
        },
        {
         "name": "label",
         "rawType": "int64",
         "type": "integer"
        }
       ],
       "ref": "9cae2389-febc-47d3-8277-7b73bf076fa0",
       "rows": [
        [
         "124",
         "There was no First Fixation Ã— Expected Value interaction, b = -0.54, SE = 0.74, z = -0.72, p = .47.",
         "1"
        ],
        [
         "401",
         "However, a 2 (contingency: performance-dependent outcome vs. random outcome) Ã— 2 (block: reward vs. penalty) ANOVA revealed that there was no difference between contingent reward and contingent penalty, F(1, 24) = 2.62, p = .25.",
         "1"
        ],
        [
         "440",
         "Identifiability increased vicarious optimism specifically by reducing updating from bad news, t(168) = 3.19, p = .002; identifiability did not affect updating from good news, t(168) = 1.11, p = .27.",
         "1"
        ],
        [
         "305",
         "There was no significant difference between implicit and explicit experiments for low-synchrony trials, t(134) = -0.49, p = 1.0, d = -0.09.",
         "0"
        ],
        [
         "383",
         "For initial saccade latency, there was no main effect of judgment, F(1, 26) = 1.708, p = .203, Î· p 2 = .062, or stimuli type, nor was there an interaction between the two for initial saccade latency (Fs < 1).",
         "1"
        ]
       ],
       "shape": {
        "columns": 2,
        "rows": 5
       }
      },
      "text/html": [
       "<div>\n",
       "<style scoped>\n",
       "    .dataframe tbody tr th:only-of-type {\n",
       "        vertical-align: middle;\n",
       "    }\n",
       "\n",
       "    .dataframe tbody tr th {\n",
       "        vertical-align: top;\n",
       "    }\n",
       "\n",
       "    .dataframe thead th {\n",
       "        text-align: right;\n",
       "    }\n",
       "</style>\n",
       "<table border=\"1\" class=\"dataframe\">\n",
       "  <thead>\n",
       "    <tr style=\"text-align: right;\">\n",
       "      <th></th>\n",
       "      <th>text</th>\n",
       "      <th>label</th>\n",
       "    </tr>\n",
       "  </thead>\n",
       "  <tbody>\n",
       "    <tr>\n",
       "      <th>124</th>\n",
       "      <td>There was no First Fixation Ã— Expected Value ...</td>\n",
       "      <td>1</td>\n",
       "    </tr>\n",
       "    <tr>\n",
       "      <th>401</th>\n",
       "      <td>However, a 2 (contingency: performance-depende...</td>\n",
       "      <td>1</td>\n",
       "    </tr>\n",
       "    <tr>\n",
       "      <th>440</th>\n",
       "      <td>Identifiability increased vicarious optimism s...</td>\n",
       "      <td>1</td>\n",
       "    </tr>\n",
       "    <tr>\n",
       "      <th>305</th>\n",
       "      <td>There was no significant difference between im...</td>\n",
       "      <td>0</td>\n",
       "    </tr>\n",
       "    <tr>\n",
       "      <th>383</th>\n",
       "      <td>For initial saccade latency, there was no main...</td>\n",
       "      <td>1</td>\n",
       "    </tr>\n",
       "  </tbody>\n",
       "</table>\n",
       "</div>"
      ],
      "text/plain": [
       "                                                  text  label\n",
       "124  There was no First Fixation Ã— Expected Value ...      1\n",
       "401  However, a 2 (contingency: performance-depende...      1\n",
       "440  Identifiability increased vicarious optimism s...      1\n",
       "305  There was no significant difference between im...      0\n",
       "383  For initial saccade latency, there was no main...      1"
      ]
     },
     "execution_count": 304,
     "metadata": {},
     "output_type": "execute_result"
    }
   ],
   "source": [
    "df_train.head()"
   ]
  },
  {
   "cell_type": "code",
   "execution_count": 305,
   "id": "c3ca483d",
   "metadata": {},
   "outputs": [
    {
     "name": "stdout",
     "output_type": "stream",
     "text": [
      "Training label distribution:\n",
      "label\n",
      "1    213\n",
      "0    212\n",
      "Name: count, dtype: int64\n"
     ]
    }
   ],
   "source": [
    "# Check label balance in training set\n",
    "print(\"Training label distribution:\")\n",
    "print(df_train['label'].value_counts())"
   ]
  },
  {
   "cell_type": "markdown",
   "id": "80c18c19",
   "metadata": {},
   "source": [
    "Header of the Test set:"
   ]
  },
  {
   "cell_type": "code",
   "execution_count": 306,
   "id": "2a7722b9",
   "metadata": {},
   "outputs": [
    {
     "data": {
      "application/vnd.microsoft.datawrangler.viewer.v0+json": {
       "columns": [
        {
         "name": "index",
         "rawType": "int64",
         "type": "integer"
        },
        {
         "name": "text",
         "rawType": "object",
         "type": "string"
        },
        {
         "name": "label",
         "rawType": "int64",
         "type": "integer"
        }
       ],
       "ref": "b0b98f3f-fc41-4095-968b-8e119fafa882",
       "rows": [
        [
         "196",
         "Additionally, feeling small (added as a fixed factor to the interceptonly model) was not significantly related to behavior in the hot-sauce task, Wald Ï‡ 2 (1) = 0.63, b = -0.020, SE = 0.078, 95% CI = [-0.172, 0.133], p = .802 (QICc = 166.94).",
         "0"
        ],
        [
         "251",
         "Perceived control was particularly strongly associated with cash-out frequency in bets that were likely to pay off, Pr(win) = 70%, Ï(85) = .39, p < .001; by contrast, perceived control during the betting phase was not associated with cashout frequency in bets that were unlikely to pay off, Pr(win) = 30%, Ï(85) = -.09, p = .41.",
         "1"
        ],
        [
         "494",
         "Distance, Ï‡ 2 (1, N = 21) = 0.01, p = .911, did not improve model fit.",
         "1"
        ],
        [
         "499",
         "Unlike the target study, our study found that the accuracy nudge was no longer significant for participants who passed two or more attention checks, Î² = 0.0135, 95% CI = [-0.00084, 0.028], F(3, 36930) = 3.66, p = .065; this was also the case for attentive participants who passed all three attention checks, Î² = 0.0065, 95% CI = [-0.021, 0.033], F(3, 13290) = 3.87, p = .64 (see Table S7 in the Supplemental Material).",
         "0"
        ],
        [
         "509",
         "More specifically, the hit rate for central elements of the stressful event was dependent on the degree of expectancy violation, as shown by a Treatment Ã— Expectancy Violation ANOVA-central items: F(1, 89) = 6.97, p = .010, Î· p 2 = .07; peripheral items: F(1, 89) = 0.35, p = .557, Î· p 2 < .01-but there was no such interaction effect for the false-alarm rate-central items: F(1, 89) = 0.83, p = .364, Î· p 2 = .01; peripheral items: F(1, 89) = 5.42, p = .022, Î· p 2 = .06.",
         "1"
        ]
       ],
       "shape": {
        "columns": 2,
        "rows": 5
       }
      },
      "text/html": [
       "<div>\n",
       "<style scoped>\n",
       "    .dataframe tbody tr th:only-of-type {\n",
       "        vertical-align: middle;\n",
       "    }\n",
       "\n",
       "    .dataframe tbody tr th {\n",
       "        vertical-align: top;\n",
       "    }\n",
       "\n",
       "    .dataframe thead th {\n",
       "        text-align: right;\n",
       "    }\n",
       "</style>\n",
       "<table border=\"1\" class=\"dataframe\">\n",
       "  <thead>\n",
       "    <tr style=\"text-align: right;\">\n",
       "      <th></th>\n",
       "      <th>text</th>\n",
       "      <th>label</th>\n",
       "    </tr>\n",
       "  </thead>\n",
       "  <tbody>\n",
       "    <tr>\n",
       "      <th>196</th>\n",
       "      <td>Additionally, feeling small (added as a fixed ...</td>\n",
       "      <td>0</td>\n",
       "    </tr>\n",
       "    <tr>\n",
       "      <th>251</th>\n",
       "      <td>Perceived control was particularly strongly as...</td>\n",
       "      <td>1</td>\n",
       "    </tr>\n",
       "    <tr>\n",
       "      <th>494</th>\n",
       "      <td>Distance, Ï‡ 2 (1, N = 21) = 0.01, p = .911, d...</td>\n",
       "      <td>1</td>\n",
       "    </tr>\n",
       "    <tr>\n",
       "      <th>499</th>\n",
       "      <td>Unlike the target study, our study found that ...</td>\n",
       "      <td>0</td>\n",
       "    </tr>\n",
       "    <tr>\n",
       "      <th>509</th>\n",
       "      <td>More specifically, the hit rate for central el...</td>\n",
       "      <td>1</td>\n",
       "    </tr>\n",
       "  </tbody>\n",
       "</table>\n",
       "</div>"
      ],
      "text/plain": [
       "                                                  text  label\n",
       "196  Additionally, feeling small (added as a fixed ...      0\n",
       "251  Perceived control was particularly strongly as...      1\n",
       "494  Distance, Ï‡ 2 (1, N = 21) = 0.01, p = .911, d...      1\n",
       "499  Unlike the target study, our study found that ...      0\n",
       "509  More specifically, the hit rate for central el...      1"
      ]
     },
     "execution_count": 306,
     "metadata": {},
     "output_type": "execute_result"
    }
   ],
   "source": [
    "df_test.head()"
   ]
  },
  {
   "cell_type": "code",
   "execution_count": 307,
   "id": "fc4d85ef",
   "metadata": {},
   "outputs": [
    {
     "name": "stdout",
     "output_type": "stream",
     "text": [
      "Test label distribution:\n",
      "label\n",
      "0    54\n",
      "1    53\n",
      "Name: count, dtype: int64\n"
     ]
    }
   ],
   "source": [
    "# Check label balance in test set\n",
    "print(\"Test label distribution:\")\n",
    "print(df_test['label'].value_counts())"
   ]
  },
  {
   "cell_type": "markdown",
   "id": "7ada89b4",
   "metadata": {},
   "source": [
    "### 2.2 Tokenize 'text'"
   ]
  },
  {
   "cell_type": "code",
   "execution_count": 308,
   "id": "4f669e54",
   "metadata": {},
   "outputs": [
    {
     "name": "stderr",
     "output_type": "stream",
     "text": [
      "Map: 100%|██████████| 425/425 [00:00<00:00, 6122.10 examples/s]\n",
      "Map: 100%|██████████| 107/107 [00:00<00:00, 4578.09 examples/s]\n"
     ]
    }
   ],
   "source": [
    "from transformers import AutoTokenizer\n",
    "\n",
    "tokenizer = AutoTokenizer.from_pretrained(model_name)\n",
    "\n",
    "def tokenize_for_bert(examples):\n",
    "    return tokenizer(examples[\"text\"], truncation=True, padding=True, max_length=max_length)\n",
    "\n",
    "tokenized_train = train_dataset.map(tokenize_for_bert, batched=True)\n",
    "\n",
    "tokenized_test = test_dataset.map(tokenize_for_bert, batched=True)"
   ]
  },
  {
   "cell_type": "markdown",
   "id": "8f2bf57e",
   "metadata": {},
   "source": [
    "## 3 Train BERT"
   ]
  },
  {
   "cell_type": "markdown",
   "id": "ef0e7023",
   "metadata": {},
   "source": [
    "### 3.1 Initializing model"
   ]
  },
  {
   "cell_type": "code",
   "execution_count": 309,
   "id": "d32e1ea4",
   "metadata": {},
   "outputs": [
    {
     "name": "stderr",
     "output_type": "stream",
     "text": [
      "Some weights of BertForSequenceClassification were not initialized from the model checkpoint at bert-base-uncased and are newly initialized: ['classifier.bias', 'classifier.weight']\n",
      "You should probably TRAIN this model on a down-stream task to be able to use it for predictions and inference.\n"
     ]
    }
   ],
   "source": [
    "from transformers import AutoModelForSequenceClassification\n",
    "\n",
    "model = AutoModelForSequenceClassification.from_pretrained(model_name, num_labels=num_labels)"
   ]
  },
  {
   "cell_type": "markdown",
   "id": "df611f60",
   "metadata": {},
   "source": [
    "### 3.2 Training regular BERT"
   ]
  },
  {
   "cell_type": "code",
   "execution_count": 310,
   "id": "7b330cbd",
   "metadata": {},
   "outputs": [
    {
     "name": "stderr",
     "output_type": "stream",
     "text": [
      "C:\\Users\\Raphael\\AppData\\Local\\Temp\\ipykernel_25072\\923563418.py:43: FutureWarning: `tokenizer` is deprecated and will be removed in version 5.0.0 for `Trainer.__init__`. Use `processing_class` instead.\n",
      "  trainer = Trainer(\n"
     ]
    }
   ],
   "source": [
    "# Standard Setup for training a model with Huggingface Transformers\n",
    "from sklearn.metrics import accuracy_score, precision_recall_fscore_support\n",
    "from transformers import EarlyStoppingCallback\n",
    "from transformers import DataCollatorWithPadding\n",
    "from transformers import TrainingArguments, Trainer\n",
    "import evaluate\n",
    "import numpy as np\n",
    "\n",
    "data_collator = DataCollatorWithPadding(tokenizer=tokenizer)\n",
    "\n",
    "metric = evaluate.load(\"accuracy\")\n",
    "\n",
    "def compute_metrics(eval_pred):\n",
    "    logits, labels = eval_pred\n",
    "    preds = np.argmax(logits, axis=-1)\n",
    "\n",
    "    acc = accuracy_score(labels, preds)\n",
    "    precision, recall, f1, _ = precision_recall_fscore_support(labels, preds, average=\"binary\")\n",
    "\n",
    "    return {\n",
    "        \"accuracy\": acc,\n",
    "        \"precision\": precision,\n",
    "        \"recall\": recall,\n",
    "        \"f1\": f1\n",
    "    }\n",
    "\n",
    "training_args = TrainingArguments(\n",
    "    output_dir=\"./results\",\n",
    "    learning_rate=learning_rate, # Specify learning rate for BERT\n",
    "    per_device_train_batch_size=batch_size,\n",
    "    per_device_eval_batch_size=batch_size,\n",
    "    num_train_epochs=num_epochs,\n",
    "    weight_decay=weight_decay,\n",
    "    logging_strategy=\"epoch\",\n",
    "    report_to=\"none\",\n",
    "    save_strategy=\"epoch\",\n",
    "    eval_strategy=\"epoch\",\n",
    "    load_best_model_at_end=True,\n",
    "    seed=seed\n",
    ")\n",
    "\n",
    "# Model specific setup\n",
    "trainer = Trainer(\n",
    "    model=model,\n",
    "    args=training_args,\n",
    "    train_dataset=tokenized_train,\n",
    "    eval_dataset=tokenized_test,\n",
    "    tokenizer=tokenizer,\n",
    "    data_collator=data_collator,\n",
    "    compute_metrics=compute_metrics,\n",
    "    callbacks=[EarlyStoppingCallback(early_stopping_patience=early_stopping_patience)]  # Stop training if no improvement after 2 epochs\n",
    ")"
   ]
  },
  {
   "cell_type": "code",
   "execution_count": 311,
   "id": "a0ab3c9e",
   "metadata": {},
   "outputs": [
    {
     "data": {
      "text/html": [
       "\n",
       "    <div>\n",
       "      \n",
       "      <progress value='216' max='540' style='width:300px; height:20px; vertical-align: middle;'></progress>\n",
       "      [216/540 01:12 < 01:49, 2.96 it/s, Epoch 4/10]\n",
       "    </div>\n",
       "    <table border=\"1\" class=\"dataframe\">\n",
       "  <thead>\n",
       " <tr style=\"text-align: left;\">\n",
       "      <th>Epoch</th>\n",
       "      <th>Training Loss</th>\n",
       "      <th>Validation Loss</th>\n",
       "      <th>Accuracy</th>\n",
       "      <th>Precision</th>\n",
       "      <th>Recall</th>\n",
       "      <th>F1</th>\n",
       "    </tr>\n",
       "  </thead>\n",
       "  <tbody>\n",
       "    <tr>\n",
       "      <td>1</td>\n",
       "      <td>0.707900</td>\n",
       "      <td>0.673791</td>\n",
       "      <td>0.598131</td>\n",
       "      <td>0.857143</td>\n",
       "      <td>0.226415</td>\n",
       "      <td>0.358209</td>\n",
       "    </tr>\n",
       "    <tr>\n",
       "      <td>2</td>\n",
       "      <td>0.532300</td>\n",
       "      <td>0.382412</td>\n",
       "      <td>0.841121</td>\n",
       "      <td>0.875000</td>\n",
       "      <td>0.792453</td>\n",
       "      <td>0.831683</td>\n",
       "    </tr>\n",
       "    <tr>\n",
       "      <td>3</td>\n",
       "      <td>0.249600</td>\n",
       "      <td>0.397644</td>\n",
       "      <td>0.869159</td>\n",
       "      <td>0.914894</td>\n",
       "      <td>0.811321</td>\n",
       "      <td>0.860000</td>\n",
       "    </tr>\n",
       "    <tr>\n",
       "      <td>4</td>\n",
       "      <td>0.120800</td>\n",
       "      <td>0.405199</td>\n",
       "      <td>0.915888</td>\n",
       "      <td>0.923077</td>\n",
       "      <td>0.905660</td>\n",
       "      <td>0.914286</td>\n",
       "    </tr>\n",
       "  </tbody>\n",
       "</table><p>"
      ],
      "text/plain": [
       "<IPython.core.display.HTML object>"
      ]
     },
     "metadata": {},
     "output_type": "display_data"
    },
    {
     "data": {
      "text/plain": [
       "TrainOutput(global_step=216, training_loss=0.4026681824966713, metrics={'train_runtime': 72.9965, 'train_samples_per_second': 58.222, 'train_steps_per_second': 7.398, 'total_flos': 183458294460000.0, 'train_loss': 0.4026681824966713, 'epoch': 4.0})"
      ]
     },
     "execution_count": 311,
     "metadata": {},
     "output_type": "execute_result"
    }
   ],
   "source": [
    "trainer.train()"
   ]
  },
  {
   "cell_type": "markdown",
   "id": "86a63e73",
   "metadata": {},
   "source": [
    "#### 3.2.1 Save last model"
   ]
  },
  {
   "cell_type": "code",
   "execution_count": 312,
   "id": "ab2a5e7a",
   "metadata": {},
   "outputs": [
    {
     "data": {
      "text/plain": [
       "('./best_model\\\\tokenizer_config.json',\n",
       " './best_model\\\\special_tokens_map.json',\n",
       " './best_model\\\\vocab.txt',\n",
       " './best_model\\\\added_tokens.json',\n",
       " './best_model\\\\tokenizer.json')"
      ]
     },
     "execution_count": 312,
     "metadata": {},
     "output_type": "execute_result"
    }
   ],
   "source": [
    "# Save the best model and tokenizer\n",
    "trainer.save_model(\"./best_model\")\n",
    "tokenizer.save_pretrained(\"./best_model\")"
   ]
  },
  {
   "cell_type": "markdown",
   "id": "63996c7d",
   "metadata": {},
   "source": [
    "### 3.3 Evaluate model"
   ]
  },
  {
   "cell_type": "markdown",
   "id": "42526e66",
   "metadata": {},
   "source": [
    "#### 3.3.1 Predict training data"
   ]
  },
  {
   "cell_type": "code",
   "execution_count": 313,
   "id": "1016cf86",
   "metadata": {},
   "outputs": [
    {
     "data": {
      "text/html": [],
      "text/plain": [
       "<IPython.core.display.HTML object>"
      ]
     },
     "metadata": {},
     "output_type": "display_data"
    },
    {
     "name": "stdout",
     "output_type": "stream",
     "text": [
      "Training Classification Report:\n",
      "              precision    recall  f1-score   support\n",
      "\n",
      "           0       0.86      0.96      0.91       212\n",
      "           1       0.95      0.85      0.90       213\n",
      "\n",
      "    accuracy                           0.90       425\n",
      "   macro avg       0.91      0.90      0.90       425\n",
      "weighted avg       0.91      0.90      0.90       425\n",
      "\n"
     ]
    }
   ],
   "source": [
    "from sklearn.metrics import classification_report\n",
    "\n",
    "train_preds = trainer.predict(tokenized_train)\n",
    "train_preds = np.argmax(train_preds.predictions, axis=1)\n",
    "GT_train = df_train['label'].tolist()\n",
    "print(\"Training Classification Report:\")\n",
    "print(classification_report(GT_train, train_preds))"
   ]
  },
  {
   "cell_type": "markdown",
   "id": "ee34e701",
   "metadata": {},
   "source": [
    "#### 3.3.2 Predict test data"
   ]
  },
  {
   "cell_type": "code",
   "execution_count": 314,
   "id": "c1671518",
   "metadata": {},
   "outputs": [
    {
     "data": {
      "text/html": [],
      "text/plain": [
       "<IPython.core.display.HTML object>"
      ]
     },
     "metadata": {},
     "output_type": "display_data"
    },
    {
     "name": "stdout",
     "output_type": "stream",
     "text": [
      "Test Classification Report:\n",
      "              precision    recall  f1-score   support\n",
      "\n",
      "           0       0.81      0.89      0.85        54\n",
      "           1       0.88      0.79      0.83        53\n",
      "\n",
      "    accuracy                           0.84       107\n",
      "   macro avg       0.84      0.84      0.84       107\n",
      "weighted avg       0.84      0.84      0.84       107\n",
      "\n"
     ]
    }
   ],
   "source": [
    "test_preds = trainer.predict(tokenized_test)\n",
    "test_preds = np.argmax(test_preds.predictions, axis=1)\n",
    "GT_test = df_test['label'].tolist()\n",
    "print(\"Test Classification Report:\")\n",
    "print(classification_report(GT_test, test_preds))"
   ]
  },
  {
   "cell_type": "markdown",
   "id": "e2830b7b",
   "metadata": {},
   "source": [
    "#### 3.3.3 4.3.3 Confusion-Matrix for test data"
   ]
  },
  {
   "cell_type": "code",
   "execution_count": 317,
   "id": "bc29093b",
   "metadata": {},
   "outputs": [
    {
     "data": {
      "image/png": "[encoded data removed]",
      "text/plain": [
       "<Figure size 600x500 with 2 Axes>"
      ]
     },
     "metadata": {},
     "output_type": "display_data"
    }
   ],
   "source": [
    "import seaborn as sns\n",
    "from sklearn.metrics import confusion_matrix\n",
    "import matplotlib.pyplot as plt\n",
    "\n",
    "# Use predictions and ground truth from previous evaluation on test set\n",
    "conf_matrix = confusion_matrix(GT_test, test_preds)\n",
    "\n",
    "plt.figure(figsize=(6,5))\n",
    "sns.heatmap(conf_matrix, annot=True, fmt='d', cmap='Blues',\n",
    "            xticklabels=[\"correct\", \"incorrect\"],\n",
    "            yticklabels=[\"correct\", \"incorrect\"])\n",
    "\n",
    "plt.xlabel('Predicted Label')\n",
    "plt.ylabel('True Label')\n",
    "plt.title('Confusion Matrix')\n",
    "plt.show()"
   ]
  },
  {
   "cell_type": "code",
   "execution_count": 318,
   "id": "f2714bc6",
   "metadata": {},
   "outputs": [
    {
     "name": "stdout",
     "output_type": "stream",
     "text": [
      "Test F1 score: 0.832\n"
     ]
    }
   ],
   "source": [
    "# F1 score printout\n",
    "from sklearn.metrics import f1_score\n",
    "print(f\"Test F1 score: {f1_score(GT_test, test_preds):.3f}\")"
   ]
  },
  {
   "cell_type": "markdown",
   "id": "12e9b778",
   "metadata": {},
   "source": [
    "#### 3.3.4 List of statements per category (TP, TN, FP, FN)"
   ]
  },
  {
   "cell_type": "code",
   "execution_count": 319,
   "id": "07366994",
   "metadata": {},
   "outputs": [],
   "source": [
    "# Get ground truth and predictions for test set\n",
    "y_true = df_test['label'].tolist()\n",
    "y_pred = test_preds\n",
    "\n",
    "# True Positives: predicted 1, actual 1\n",
    "true_positives = df_test[(df_test['label'] == 1) & (y_pred == 1)]\n",
    "\n",
    "# True Negatives: predicted 0, actual 0\n",
    "true_negatives = df_test[(df_test['label'] == 0) & (y_pred == 0)]\n",
    "\n",
    "# False Positives: predicted 1, actual 0\n",
    "false_positives = df_test[(df_test['label'] == 0) & (y_pred == 1)]\n",
    "\n",
    "# False Negatives: predicted 0, actual 1\n",
    "false_negatives = df_test[(df_test['label'] == 1) & (y_pred == 0)]\n",
    "\n",
    "# Function to print statements\n",
    "import pandas as pd\n",
    "from IPython.display import display\n",
    "\n",
    "def display_statements(df, title):\n",
    "    if not df.empty:\n",
    "        print(f\"\\n{title} (count: {len(df)})\")\n",
    "        display(df[['text']].reset_index(drop=True))\n",
    "    else:\n",
    "        print(f\"\\n{title}: None\")"
   ]
  },
  {
   "cell_type": "code",
   "execution_count": 320,
   "id": "2433dc88",
   "metadata": {},
   "outputs": [
    {
     "name": "stdout",
     "output_type": "stream",
     "text": [
      "\n",
      "True Positives (predicted 1, actual 1) (count: 42)\n"
     ]
    },
    {
     "data": {
      "application/vnd.microsoft.datawrangler.viewer.v0+json": {
       "columns": [
        {
         "name": "index",
         "rawType": "int64",
         "type": "integer"
        },
        {
         "name": "text",
         "rawType": "object",
         "type": "string"
        }
       ],
       "ref": "b350397e-b8f9-4ed7-abf1-f535c99e3e31",
       "rows": [
        [
         "0",
         "Perceived control was particularly strongly associated with cash-out frequency in bets that were likely to pay off, Pr(win) = 70%, Ï(85) = .39, p < .001; by contrast, perceived control during the betting phase was not associated with cashout frequency in bets that were unlikely to pay off, Pr(win) = 30%, Ï(85) = -.09, p = .41."
        ],
        [
         "1",
         "Distance, Ï‡ 2 (1, N = 21) = 0.01, p = .911, did not improve model fit."
        ],
        [
         "2",
         "More specifically, the hit rate for central elements of the stressful event was dependent on the degree of expectancy violation, as shown by a Treatment Ã— Expectancy Violation ANOVA-central items: F(1, 89) = 6.97, p = .010, Î· p 2 = .07; peripheral items: F(1, 89) = 0.35, p = .557, Î· p 2 < .01-but there was no such interaction effect for the false-alarm rate-central items: F(1, 89) = 0.83, p = .364, Î· p 2 = .01; peripheral items: F(1, 89) = 5.42, p = .022, Î· p 2 = .06."
        ],
        [
         "3",
         "Viewed differently, participants disliked avoiders regard less of whether they avoided standard or extreme views, b = 0.05, SE = 0.116, 95% CI = [-0.17, 0.28], t(229) = 0.47, p = .641, d = 0.06."
        ],
        [
         "4",
         "However, there was no difference between the agreeing-and disagreeing-perspective conditions (d = 0.04, p = .55), 5 although the effect was in the right direction: The benefits of averaging were numerically higher in the disagreeing-perspective condition."
        ],
        [
         "5",
         "Again, there was no effect of training group, F(1, 48) < 0.01, p = .95, Ï‰ p 2 = -.02, 95% CI = [.00, 1.00], and no interaction, F(2, 96) = 2.58, p = .08, Ï‰ p 2 = .02, 95% CI = [.00, .08]."
        ],
        [
         "6",
         "Time increased negative attitudes among liberal participants, b = 0.22, SE = 0.06, 95% CI = [0.10, 0.33], t(1922) = 3.63, p < .001, but did not affect attitudes among conservative participants, b = 0.03, SE = 0.06, 95% CI = [-0.09, 0.14], t(1922) = 0.45, p > .250."
        ],
        [
         "7",
         "This difference was not found for scrambled stimuli; detection times were similar for scrambled 3D objects and their 2D photographs (3D -2D: Î”M = 0.33 s, SD = 2.4, 95% CI = [-0.18, 0.85], uncorrected p = .275, d = 0.14)."
        ],
        [
         "8",
         "Results showed that for high-probability trials, there was no difference in accuracy between trials preceded by a high-probability trial (fraction correct = 0.75, SD = 0.09) and those preceded by a low-probability trial (fraction correct = 0.74, SD = 0.12), t(55) = 0.86, p = .394, Cohen's d = 0.12, 95% CI = [-0.01, 0.03]."
        ],
        [
         "9",
         "For example, male victims experienced an increase (post-event rebound) in relationship satisfaction (b = 0.07, p = .005), whereas female victims did not (b = -0.01, p = .639)."
        ],
        [
         "10",
         "No difference in performance was observed in the mismatch condition, F(2, 151) = 1.00, p = .37, 95% CI = [-.08, .22], BF 01 = 6.63."
        ],
        [
         "11",
         "By contrast, there was no evidence of differential responding to the CS+ and the CS-among the unaware participants, F(1, 14) = 1.42, p = .254, 95% CI = [-0.16, 0.41], and no interaction with linear trend over blocks, F < 1."
        ],
        [
         "12",
         "Unlike the prior experiment, in which learning increased from ages 7 to 9 years, there was no correlation between a child's age in predicting overall learning-sensitivity scores in this experiment (Pearson's r = .17, p = .24; see Supplemental Fig."
        ],
        [
         "13",
         "Importantly, the absence of an interaction between probability and epoch, F(2, 46) = 0.30, p = .742, Î· p 2 = .01, suggests that the difference in RTs to targets appearing on high-compared to low-probability locations did not change over the course of the experiment (Fig. 2b)."
        ],
        [
         "14",
         "For the N170, there was a large main effect of emotion, F(1, 39) = 16.12, p < .001, Î· p 2 = .292 (see Fig. 3), but no main effect of task, F(2, 78) = 0.81, p = .448, Î· p 2 = .020."
        ],
        [
         "15",
         "Similarly, in the condition with no-depth control scenes, accuracy did not differ between the template-matching (94.1%, SD = 5.0) and the template-mismatching (94.5%, SD = 5.4) conditions, t(25) = -0.55, p = .584."
        ],
        [
         "16",
         "Follow-up analyses showed that there was no Treatment Ã— Expectancy Violation interaction in the subcentral gyrus, F(1, 76) = 0.12, p = .726, Î· p 2 < .01; TPJ, F(1, 76) = 0.27, p = .606, Î· p 2 < .01; or dlPFC, F(1, 76) = 2.30, p = .13, Î· p 2 = .03."
        ],
        [
         "17",
         "There was no correlation between the reproduced time intervals and the effect of alpha tACS-Pearson's r(28) = -.004, p = .982."
        ],
        [
         "18",
         "Similarly, there was no association between CAPS score and the number of correct left-ear responses, r S (1263) = .022, 95% CI = [-.03, .08], p = .435, in the forced-left condition, which was also indistinguishable from 0 (p = .003)."
        ],
        [
         "19",
         "In the no motivation condition, there was no simple effect of frame (b = 0.22, 95% CI = [-0.08, 0.52], z = 1.43, p = .152, OR = 1.25, 95% CI = [0.92, 1.68])."
        ],
        [
         "20",
         "There was no difference between congruent and incongruent trials in the probe-other condition, t(193) = -0.23, p = .591, d = 0.02; difference: M = -0.30%, 95% CI = [-2.45, 1.85] (see Fig. 3), and the data were about 3 times more likely under the null hypothesis of no difference (BF 10 = 0.34)."
        ],
        [
         "21",
         "There was no main effect of statistical-learning ability, F(1, 43.9) = 0.00, p = .995, Î² = 0.0002, SE = 0.03, indicating that people's statistical-learning abilities were unrelated to the total amount they fixated in the main task."
        ],
        [
         "22",
         "As expected, prior to the intervention (at baseline: Day 0), we confirmed that the two groups experienced a similar number of intrusive memories of the film in daily life, t(50) = 0.06, p = .95 (Fig. 1a)."
        ],
        [
         "23",
         "Congruence did not affect measures of RT to either the stimulus (Î² = -0.008, SE = 0.03, p = .78) or the confidence rating (Î² = 0.03, SE = 0.03, p = .33), which makes it unlikely that effects on metacognition were mediated by effects of TMS on details of the action itself (see Fig."
        ],
        [
         "24",
         "In the no motivation condition, there was no simple effect of frame (b = 0.20, 95% CI = [-0.10, 0.49], z = 1.32, p = .187, OR = 1.22, 95% CI = [0.90, 1.63])."
        ],
        [
         "25",
         "The effect of block was driven by slower responses to fixed penalties than to fixed rewards-pairwise post hoc t(24) = 2.02, p = .027; there was no difference between reward and penalty blocks for the 0-pence conditions, t(24) = 0.79, p = .22."
        ],
        [
         "26",
         "Distance, Ï‡ 2 (1, N = 32) = 1.52, p = .217, did not improve model fit."
        ],
        [
         "27",
         "Although the number of morphs identified as \"disgust\" were not differentially impacted by the lower and higher IVA dose, t(16) = 1.30, p = .213, d = 0.38, 95% CI = [-0.11, 0.87] (Holm-Bonferroni corrected), when compared with odorless air, both doses of artificial sweat biased participants to see more disgust across the spectrum of fear-disgust morphs, t(16) = 3.05, p = .008, d = 0.97, 95% CI = [0.08, 1.86]."
        ],
        [
         "28",
         "Notably, applying the same analysis to the data from our AQ study revealed no effect of AQ group on the tendency to choose the decoy, b = -0.056, 95% CI = [-0.328, 0.217], p = .689, or on the tendency to choose the target rather than the competitor, b = 0.001, 95% CI = [-0.103, 0.105], p = .980."
        ],
        [
         "29",
         "We also confirmed the predicted familiarity-by-length interaction, F(1, 19) = 10.57, p = .004, Î· p 2 = .36, OP = .87, indicating a length effect for pseudowords (five-letter strings: M = 5.93%, SD = 5.06; three-letter strings: M = 4.62%, SD = 3.90), t(19) = -2.48, p = .02, but not for real words (five-letter strings: M = 4.01%, SD = 3.08; three-letter strings: M = 4.26%, SD = 2.98), t(19) = 1.13, p = .27."
        ],
        [
         "30",
         "By contrast, participants who did not perceive that the destruction of the rain forest violated a protected value were equally likely to decide that one acre of rain forest should be razed to enable the creation of four additional water-treatment facilities in both the unavoidable-harm scenario (74.0%) and the avoidable-harm scenario (68.4%; b = 0.51, SE = 0.43, z = 1.22, p = .22)."
        ],
        [
         "31",
         "However, velocity was not increased or decreased in the 10-pence-loss condition (M = 427Â°/s -1, SEM = 12) compared with the 0-pence-loss condition (M = 434Â°/s -1, SEM = 12), t(24) = 0.79, p = .21."
        ],
        [
         "32",
         "There was no such association between CAPS score and dâ€², r S (581) = -.05, 95% CI = [-.13, .03], p = .238, although equivalence testing indicated that the correlation was not statistically equivalent to 0 (p = .110)."
        ],
        [
         "33",
         "Follow-up analyses indicated that these effects were driven by increased acceleration to the aversive cue versus the neutral cue (p = .007) but not between the aversive cue and the no-image cue (p = .24) or the neutral cue and the no-image cue (p = .23)."
        ],
        [
         "34",
         "In addition, age of onset did not predict any of the outcomes on the subtests of musical aptitude within identical twin pairs when analyses controlled for total practice (rhythm discrimination: Î² = -0.03, p = .56; melody discrimination: Î² = -0.02, p = .71; pitch discrimination: Î² = 0.08, p = .13)."
        ],
        [
         "35",
         "A negative binomial regression showed no difference in the number of accurately counted food items between conditions, Wald Ï‡ 2 (2, N = 353) = 3.34, p = .188 (see Fig. 2, right)."
        ],
        [
         "36",
         "In contrast, there was no difference between the sham tACS and alpha tACS conditions (p = .475)."
        ],
        [
         "37",
         "The third model added the remaining task variables (right-ear syllables in the nonforced condition of the dichotic-listening task, mean span in the digit-span task, imagine-to-hear errors in the source-memory task) and did not improve on the signal detection model (p = .965)."
        ],
        [
         "38",
         "As in Study 2a, identifiability reduced updating from bad news, t(468) = 3.17, p = .002, but did not affect updating from good news, t(168) = 0.89, p = .37."
        ],
        [
         "39",
         "Most importantly, test anxiety did not predict the change in performance from the mock exams to the final exam (b anx = -0.09, p = .077), which speaks against the interference hypothesis."
        ],
        [
         "40",
         "As the three conditions were very similar in setup and material, we favored the fixed-effects model, and indeed further analyses indicated that the three conditions were homogeneous (Q = 4.71, p = .095)."
        ],
        [
         "41",
         "Similarly, for inverted scenes, categorization accuracy was comparable across high (M = 0.82, SD = 0.14) and low (M = 0.81, SD = 0.85) aesthetic conditions, F(1, 98) = 0.21, p = .647 (high vs. low aesthetic condition difference = .015, 95% CI = [-.051, .082])."
        ]
       ],
       "shape": {
        "columns": 1,
        "rows": 42
       }
      },
      "text/html": [
       "<div>\n",
       "<style scoped>\n",
       "    .dataframe tbody tr th:only-of-type {\n",
       "        vertical-align: middle;\n",
       "    }\n",
       "\n",
       "    .dataframe tbody tr th {\n",
       "        vertical-align: top;\n",
       "    }\n",
       "\n",
       "    .dataframe thead th {\n",
       "        text-align: right;\n",
       "    }\n",
       "</style>\n",
       "<table border=\"1\" class=\"dataframe\">\n",
       "  <thead>\n",
       "    <tr style=\"text-align: right;\">\n",
       "      <th></th>\n",
       "      <th>text</th>\n",
       "    </tr>\n",
       "  </thead>\n",
       "  <tbody>\n",
       "    <tr>\n",
       "      <th>0</th>\n",
       "      <td>Perceived control was particularly strongly as...</td>\n",
       "    </tr>\n",
       "    <tr>\n",
       "      <th>1</th>\n",
       "      <td>Distance, Ï‡ 2 (1, N = 21) = 0.01, p = .911, d...</td>\n",
       "    </tr>\n",
       "    <tr>\n",
       "      <th>2</th>\n",
       "      <td>More specifically, the hit rate for central el...</td>\n",
       "    </tr>\n",
       "    <tr>\n",
       "      <th>3</th>\n",
       "      <td>Viewed differently, participants disliked avoi...</td>\n",
       "    </tr>\n",
       "    <tr>\n",
       "      <th>4</th>\n",
       "      <td>However, there was no difference between the a...</td>\n",
       "    </tr>\n",
       "    <tr>\n",
       "      <th>5</th>\n",
       "      <td>Again, there was no effect of training group, ...</td>\n",
       "    </tr>\n",
       "    <tr>\n",
       "      <th>6</th>\n",
       "      <td>Time increased negative attitudes among libera...</td>\n",
       "    </tr>\n",
       "    <tr>\n",
       "      <th>7</th>\n",
       "      <td>This difference was not found for scrambled st...</td>\n",
       "    </tr>\n",
       "    <tr>\n",
       "      <th>8</th>\n",
       "      <td>Results showed that for high-probability trial...</td>\n",
       "    </tr>\n",
       "    <tr>\n",
       "      <th>9</th>\n",
       "      <td>For example, male victims experienced an incre...</td>\n",
       "    </tr>\n",
       "    <tr>\n",
       "      <th>10</th>\n",
       "      <td>No difference in performance was observed in t...</td>\n",
       "    </tr>\n",
       "    <tr>\n",
       "      <th>11</th>\n",
       "      <td>By contrast, there was no evidence of differen...</td>\n",
       "    </tr>\n",
       "    <tr>\n",
       "      <th>12</th>\n",
       "      <td>Unlike the prior experiment, in which learning...</td>\n",
       "    </tr>\n",
       "    <tr>\n",
       "      <th>13</th>\n",
       "      <td>Importantly, the absence of an interaction bet...</td>\n",
       "    </tr>\n",
       "    <tr>\n",
       "      <th>14</th>\n",
       "      <td>For the N170, there was a large main effect of...</td>\n",
       "    </tr>\n",
       "    <tr>\n",
       "      <th>15</th>\n",
       "      <td>Similarly, in the condition with no-depth cont...</td>\n",
       "    </tr>\n",
       "    <tr>\n",
       "      <th>16</th>\n",
       "      <td>Follow-up analyses showed that there was no Tr...</td>\n",
       "    </tr>\n",
       "    <tr>\n",
       "      <th>17</th>\n",
       "      <td>There was no correlation between the reproduce...</td>\n",
       "    </tr>\n",
       "    <tr>\n",
       "      <th>18</th>\n",
       "      <td>Similarly, there was no association between CA...</td>\n",
       "    </tr>\n",
       "    <tr>\n",
       "      <th>19</th>\n",
       "      <td>In the no motivation condition, there was no s...</td>\n",
       "    </tr>\n",
       "    <tr>\n",
       "      <th>20</th>\n",
       "      <td>There was no difference between congruent and ...</td>\n",
       "    </tr>\n",
       "    <tr>\n",
       "      <th>21</th>\n",
       "      <td>There was no main effect of statistical-learni...</td>\n",
       "    </tr>\n",
       "    <tr>\n",
       "      <th>22</th>\n",
       "      <td>As expected, prior to the intervention (at bas...</td>\n",
       "    </tr>\n",
       "    <tr>\n",
       "      <th>23</th>\n",
       "      <td>Congruence did not affect measures of RT to ei...</td>\n",
       "    </tr>\n",
       "    <tr>\n",
       "      <th>24</th>\n",
       "      <td>In the no motivation condition, there was no s...</td>\n",
       "    </tr>\n",
       "    <tr>\n",
       "      <th>25</th>\n",
       "      <td>The effect of block was driven by slower respo...</td>\n",
       "    </tr>\n",
       "    <tr>\n",
       "      <th>26</th>\n",
       "      <td>Distance, Ï‡ 2 (1, N = 32) = 1.52, p = .217, d...</td>\n",
       "    </tr>\n",
       "    <tr>\n",
       "      <th>27</th>\n",
       "      <td>Although the number of morphs identified as \"d...</td>\n",
       "    </tr>\n",
       "    <tr>\n",
       "      <th>28</th>\n",
       "      <td>Notably, applying the same analysis to the dat...</td>\n",
       "    </tr>\n",
       "    <tr>\n",
       "      <th>29</th>\n",
       "      <td>We also confirmed the predicted familiarity-by...</td>\n",
       "    </tr>\n",
       "    <tr>\n",
       "      <th>30</th>\n",
       "      <td>By contrast, participants who did not perceive...</td>\n",
       "    </tr>\n",
       "    <tr>\n",
       "      <th>31</th>\n",
       "      <td>However, velocity was not increased or decreas...</td>\n",
       "    </tr>\n",
       "    <tr>\n",
       "      <th>32</th>\n",
       "      <td>There was no such association between CAPS sco...</td>\n",
       "    </tr>\n",
       "    <tr>\n",
       "      <th>33</th>\n",
       "      <td>Follow-up analyses indicated that these effect...</td>\n",
       "    </tr>\n",
       "    <tr>\n",
       "      <th>34</th>\n",
       "      <td>In addition, age of onset did not predict any ...</td>\n",
       "    </tr>\n",
       "    <tr>\n",
       "      <th>35</th>\n",
       "      <td>A negative binomial regression showed no diffe...</td>\n",
       "    </tr>\n",
       "    <tr>\n",
       "      <th>36</th>\n",
       "      <td>In contrast, there was no difference between t...</td>\n",
       "    </tr>\n",
       "    <tr>\n",
       "      <th>37</th>\n",
       "      <td>The third model added the remaining task varia...</td>\n",
       "    </tr>\n",
       "    <tr>\n",
       "      <th>38</th>\n",
       "      <td>As in Study 2a, identifiability reduced updati...</td>\n",
       "    </tr>\n",
       "    <tr>\n",
       "      <th>39</th>\n",
       "      <td>Most importantly, test anxiety did not predict...</td>\n",
       "    </tr>\n",
       "    <tr>\n",
       "      <th>40</th>\n",
       "      <td>As the three conditions were very similar in s...</td>\n",
       "    </tr>\n",
       "    <tr>\n",
       "      <th>41</th>\n",
       "      <td>Similarly, for inverted scenes, categorization...</td>\n",
       "    </tr>\n",
       "  </tbody>\n",
       "</table>\n",
       "</div>"
      ],
      "text/plain": [
       "                                                 text\n",
       "0   Perceived control was particularly strongly as...\n",
       "1   Distance, Ï‡ 2 (1, N = 21) = 0.01, p = .911, d...\n",
       "2   More specifically, the hit rate for central el...\n",
       "3   Viewed differently, participants disliked avoi...\n",
       "4   However, there was no difference between the a...\n",
       "5   Again, there was no effect of training group, ...\n",
       "6   Time increased negative attitudes among libera...\n",
       "7   This difference was not found for scrambled st...\n",
       "8   Results showed that for high-probability trial...\n",
       "9   For example, male victims experienced an incre...\n",
       "10  No difference in performance was observed in t...\n",
       "11  By contrast, there was no evidence of differen...\n",
       "12  Unlike the prior experiment, in which learning...\n",
       "13  Importantly, the absence of an interaction bet...\n",
       "14  For the N170, there was a large main effect of...\n",
       "15  Similarly, in the condition with no-depth cont...\n",
       "16  Follow-up analyses showed that there was no Tr...\n",
       "17  There was no correlation between the reproduce...\n",
       "18  Similarly, there was no association between CA...\n",
       "19  In the no motivation condition, there was no s...\n",
       "20  There was no difference between congruent and ...\n",
       "21  There was no main effect of statistical-learni...\n",
       "22  As expected, prior to the intervention (at bas...\n",
       "23  Congruence did not affect measures of RT to ei...\n",
       "24  In the no motivation condition, there was no s...\n",
       "25  The effect of block was driven by slower respo...\n",
       "26  Distance, Ï‡ 2 (1, N = 32) = 1.52, p = .217, d...\n",
       "27  Although the number of morphs identified as \"d...\n",
       "28  Notably, applying the same analysis to the dat...\n",
       "29  We also confirmed the predicted familiarity-by...\n",
       "30  By contrast, participants who did not perceive...\n",
       "31  However, velocity was not increased or decreas...\n",
       "32  There was no such association between CAPS sco...\n",
       "33  Follow-up analyses indicated that these effect...\n",
       "34  In addition, age of onset did not predict any ...\n",
       "35  A negative binomial regression showed no diffe...\n",
       "36  In contrast, there was no difference between t...\n",
       "37  The third model added the remaining task varia...\n",
       "38  As in Study 2a, identifiability reduced updati...\n",
       "39  Most importantly, test anxiety did not predict...\n",
       "40  As the three conditions were very similar in s...\n",
       "41  Similarly, for inverted scenes, categorization..."
      ]
     },
     "metadata": {},
     "output_type": "display_data"
    }
   ],
   "source": [
    "display_statements(true_positives, \"True Positives (predicted 1, actual 1)\")"
   ]
  },
  {
   "cell_type": "code",
   "execution_count": 321,
   "id": "64f843b9",
   "metadata": {},
   "outputs": [
    {
     "name": "stdout",
     "output_type": "stream",
     "text": [
      "\n",
      "True Negatives (predicted 0, actual 0) (count: 48)\n"
     ]
    },
    {
     "data": {
      "application/vnd.microsoft.datawrangler.viewer.v0+json": {
       "columns": [
        {
         "name": "index",
         "rawType": "int64",
         "type": "integer"
        },
        {
         "name": "text",
         "rawType": "object",
         "type": "string"
        }
       ],
       "ref": "62db076c-ad23-48ac-9814-2f2dd2aa42ab",
       "rows": [
        [
         "0",
         "Additionally, feeling small (added as a fixed factor to the interceptonly model) was not significantly related to behavior in the hot-sauce task, Wald Ï‡ 2 (1) = 0.63, b = -0.020, SE = 0.078, 95% CI = [-0.172, 0.133], p = .802 (QICc = 166.94)."
        ],
        [
         "1",
         "Unlike the target study, our study found that the accuracy nudge was no longer significant for participants who passed two or more attention checks, Î² = 0.0135, 95% CI = [-0.00084, 0.028], F(3, 36930) = 3.66, p = .065; this was also the case for attentive participants who passed all three attention checks, Î² = 0.0065, 95% CI = [-0.021, 0.033], F(3, 13290) = 3.87, p = .64 (see Table S7 in the Supplemental Material)."
        ],
        [
         "2",
         "The years-of-experience single effect was not significant (Î² = 0.001, 95% CI = [-0.07, 0.07], p = .976)."
        ],
        [
         "3",
         "Post hoc examination of the interaction did not show a significant simple effect of dimensionality for intact items (Table 3; 3D -2D: Î”M = -0.33 s, SD = 0.73, 95% CI = [-0.74, 0.07], uncorrected p = .11, FDR q = 0.23, Cohen's d = 0.45) or for scrambled items (3D -2D: Î”M = 0.2 s, SD = 0.89, 95% CI = [-0.18, 0.59], uncorrected p = .32, d = 0.23)."
        ],
        [
         "4",
         "No significant relation between the two measures was found (r = -.22, p = .20)."
        ],
        [
         "5",
         "For data time-locked to template A (Fig. 5, left), mean phase angles were highly similar, and the Watson-Williams test yielded no significant difference, F(1, 48) = 0.46, p = .499."
        ],
        [
         "6",
         "Mann-Whitney U tests with experiment as a factor found no statistically significant difference in the proportion of efficient and coefficient choices in the congruent condition (Experiment 1: M = .88, SD = .21; Experiment 2: M = .85, SD = .14; U = 351.5, p = .184, r = .22, 95% CI for the median difference between the two experiments = [-3.49 e-5, 0.31])."
        ],
        [
         "7",
         "Egger's test, however, was again nonsignificant, intercept = 0.55, 95% CI = [-0.28, 1.37], t = 1.30, p = .202."
        ],
        [
         "8",
         "When we compared the foreground and background conditions with the inconsistent condition, we found that at 50 ms, participants responded \"yes\" to the foreground condition more than the control condition, t(35) = 5.93, p < .001, d = 1.47, but interestingly, we did not see a significant difference in responses between the background and control conditions, t(35) = 1.30, p = .20, d = 0.29."
        ],
        [
         "9",
         "A decrease was observed for all age groups, and the three-way interaction was nonsignificant, p = .292."
        ],
        [
         "10",
         "There was no significant difference between the joy and control conditions, Wald Ï‡ 2 (1) = 0.42, b = 0.26, SE = 0.40, p = .515."
        ],
        [
         "11",
         "Note that we included accuracies in the model to account for the small differences in task difficulty between the direction conditions (see below), and this never significantly predicted pupil size (t < 1.113, p > .265)."
        ],
        [
         "12",
         "This interaction was driven by significant suppression-induced forgetting in the control group (M = 10.8%), F(1, 15) = 22.123, p < .001, Î· p 2 = .596, in the absence of significant suppression-induced forgetting in the PTSD group (M = 1.7%), F(1, 15) = 0.297, p = .594, Î· p 2 = .019."
        ],
        [
         "13",
         "Also, we found no significant relationships between CP enjoyment change with participants' age (p = .362), gender (p = .768), or motivation (p = .195)."
        ],
        [
         "14",
         "Post hoc analyses on self-related evaluations revealed larger LPP amplitudes for both incongruent positive (p < .001) and incongruent negative (p = .034) evaluations compared with congruent evaluations, but they did not differ significantly from each other (p = .094)."
        ],
        [
         "15",
         "By contrast, leader narcissism levels were not significantly related to follower-perceived leader authority, b = 0.04, 95% CI = [-0.04, 0.13], Î² = 0.10, p = .304, and effectiveness, b = 0.04, 95% CI = [-0.06, 0.14], Î² = 0.08, p = .398."
        ],
        [
         "16",
         "Opponent height was subsequently added as a fixed effect, which was not significantly related to number of coins kept for self in the ultimatum game, Wald Ï‡ 2 (1) = 1.54, b = 0.004, SE = 0.003, 95% CI = [-0.002, 0.011], p = .215 (QICc = 24.62)."
        ],
        [
         "17",
         "The main effect of aperture, Experiment 2: F(1, 34) = 4.12, p = .05, Î· p 2 = .10; Experiment 3: F(1, 31) = 0.04, p = .85, Î· p 2 = .01; the main effect of focus distance, Experiment 2: F(1, 34) = 0.23, p = .63, Î· p 2 = .01; Experiment 3: F(1, 31) = 0.22, p = .64, Î· p 2 = .01; and the interaction between aperture and focus distance, Experiment 2: F(1, 34) = 0.00, p = .96, Î· p 2 = .00; Experiment 3: F(1, 31) = 2.86, p = .10, Î· p 2 = .08, did not reach significance."
        ],
        [
         "18",
         "Specifically, an ANCOVA comparing the combined boost conditions (M = -50.26, SD = 43.58) with the consensus-only condition (M = -51.21, SD = 39.82) indicated that the main effect of condition on posterior belief in human-caused climate change was not significant, F(1, 212) = 0.46, p = .497, Î· p 2 = .002, 90% confidence interval (CI) = [.000, .023], BF 10 = 0.19."
        ],
        [
         "19",
         "Meta-regression indicated no significant moderating effect of preexisting beliefs, b = -0.17, t(34) = 1.51, p = .141, but provided tentative evidence for a negative association (see Fig. 7)."
        ],
        [
         "20",
         "The differences in the experimental condition were not significant, b = -0.52, SE = 0.31, t = -1.67, p = .100."
        ],
        [
         "21",
         "Performance was fastest for the biggest and smallest positions compared with the inner positions, with no significant difference between the outer two positions, t(116) = -1.417, p = .62, and was slightly faster for sets with one dot, M = 970, SE = 30.60, 95% CI = [907, 1,032], compared with three dots, M = 1,015, SE = 30.6, 95% CI = [953, 1,077], and five dots, M = 1,004, SE = 30.6, 95% CI = 942, 1,066]."
        ],
        [
         "22",
         "The Visual Cue Ã— Choice Direction interaction was not significant, z = 0.85, exp(b) = 1.39, 95% CI = [0.65, 2.97], p = .394."
        ],
        [
         "23",
         "Results showed that all profiles significantly varied from one another (ps < .005) with the exception of Profiles 5 and 6 (p = .31; Fig. 1b)."
        ],
        [
         "24",
         "Simple effects tests confirmed that the effect of time point was not significant in the member average condition, F(3, 231) = 0.80, MSE = 0.02, p = .50, Î· p 2 = .01, BF 01 = 36.654, but was significant in the nonmember average condition, F(3, 267) = 6.75, MSE = 0.04, p < .001, Î· p 2 = .07, BF 10 = 77.309."
        ],
        [
         "25",
         "We found no gender differences in task performance, t(51) = -0.21, p > .250."
        ],
        [
         "26",
         "The LPE effect was reduced to 3.3% in the similarity condition, which was not statistically significant, t(16) = 0.76, p = .46, Î± = .025."
        ],
        [
         "27",
         "Interestingly, here congruent imagery did not lead to a significant increase in accuracy compared with baseline (Fig. 2C), M = 2.21%, SEM Â±2.78, t(10) = 0.79, p = 0.89, 95% CI = [-3.98, 8.4], k = 2 (Bonferroni adjusted two-tailed t test), a result not in line with previous priming research (Ishai & Sagi, 1995;Pearson, 2019)."
        ],
        [
         "28",
         "Accordingly, we found no difference in responses between the foreground and background targets for either the 50-ms duration, t(35) = 0.40, p = .692, d = 0.07, or the 100-ms duration, t(35) = 1.21, p = .233, d = 0.25."
        ],
        [
         "29",
         "This interaction was driven once again by a significant suppression effect in the control group (M = 1.19), F(1, 15) = 33.548, p < .001, Î· p 2 = .691, in the absence of significant suppression in the PTSD group (M = -0.14), F(1, 15) = 0.224, p = .643, Î· p 2 = .015."
        ],
        [
         "30",
         "Results revealed no significant relationship between mean heart rate and self-reported enjoyment (Model 1b: Î² = -0.005, SE = 0.02, p = .760)."
        ],
        [
         "31",
         "There were no significant gender differences in failures to ask questions (women: M = 0.24; men: M = 0.17), b = 0.07, t(187) = 1.09, p = .276, 95% CI = [-0.06, 0.21]."
        ],
        [
         "32",
         "These incongruent positive and negative judgments did not differ significantly (p = .655)."
        ],
        [
         "33",
         "No significant gender differences emerged in initial remarks that were not questions, including remarks that were only comments (women: M = 0.20, men: M = 0.14), b = 0.05, t(187) = 0.83, p = .405, 95% CI = [-0.07, 0.18]."
        ],
        [
         "34",
         "In both the information-integration and rule-based tasks, we found no significant differences between dyslexia and control groups-information integration: t(3.78) = 1.28, p = .27, d = 0.78, 95% CI = [-12.0, 31.6]; rule based: t(35) = 1.54, p = .13, d = 0.51, 95% CI = [-2.78, 20.3]-when participants used the task-appropriate strategy."
        ],
        [
         "35",
         "However, polarization scores were somewhat stronger in a friendly climate compared with the baseline (b = 0.26, 95% CI = [0.00, 0.53], p = .049), whereas no difference between baseline and oppositional climate could be found (b = -0.21, 95% CI = [-0.54, 0.11], p = .183; see Table S9 in the Supplemental Material)."
        ],
        [
         "36",
         "The percentage of children who waited for the full 15-min period was not significantly different between these conditions (40% in the aware condition; 33% in the unaware/additional rewards condition; Mann-Whitney U test: Z = -0.53, p = .595), and a Mantel-Cox log rank test also indicated no difference between the conditions, Ï‡ 2 (1, N = 60) = 0.41, p = .525."
        ],
        [
         "37",
         "A one-sided paired-samples t test comparing the correlation coefficients found using specifications with controls to those found with no controls indicated a nonsignificant association, t(32) = 0.26, p = .79."
        ],
        [
         "38",
         "We did not find a significant main effect of speech-feedback interval, F(1.15, 30.96) = 2.67, p = .11, Î· p 2 = .090 (Greenhouse-Geisser corrected)."
        ],
        [
         "39",
         "Again, no significant interaction effect was found, b = -0.13, t(30) = -0.24, p = .810."
        ],
        [
         "40",
         "There was no significant interaction between participant height and opponent height, Wald Ï‡ 2 (1) = 0.38, b = 0.042, SE = 0.068, 95% CI = [-0.091, 0.174], p = .540 (QICc = 203.85)."
        ],
        [
         "41",
         "The correlation was nonsignificant for the COVID-19 pandemic (r = -.02, p = .705) and for the 9/11 terrorist attacks (r = -.08, p = .236)."
        ],
        [
         "42",
         "Likewise, the difference in mean GPS between the stably uneducated (M = -0.03, SD = 0.99) and upwardly mobile (M = -0.09, SD = 0.98) groups was no longer significant, F(1, 2194) = 2.659, p = .10."
        ],
        [
         "43",
         "However, there was no significant difference in congruent or incongruent false alarms (Supplementary Fig. 10 in the Supplemental Material), M = 1.33%, SEM Â±1.15%, t(19) = 1.1587, p = 0.2617, 95% CI = [-0.0108, 0.0375] (two-tailed t test, noncorrected)."
        ],
        [
         "44",
         "Ratings of control images were not significantly different from baseline (control: M = 2.85, SD = 2.62), t(57.15) = -0.77, b = -0.07, 95% CI = [-0.24, 0.11], p = .445."
        ],
        [
         "45",
         "Contrary to our preregistered hypothesis, results for the three-way Frame Ã— Time Constraint Ã— First Fixation interaction were nonsignificant, b = 0.20, SE = 0.19, z = 1.05, p = .294."
        ],
        [
         "46",
         "Leader narcissism levels also did not significantly predict the odds that a group would arrive at the correct decision, OR = 1.03, b = 0.03, 95% CI = [-0.38, 0.44], p = .898."
        ],
        [
         "47",
         "The single effect of all-star status is also not significant (Î² = 0.03, 95% CI = [-0.04, 0.09], p = .400)."
        ]
       ],
       "shape": {
        "columns": 1,
        "rows": 48
       }
      },
      "text/html": [
       "<div>\n",
       "<style scoped>\n",
       "    .dataframe tbody tr th:only-of-type {\n",
       "        vertical-align: middle;\n",
       "    }\n",
       "\n",
       "    .dataframe tbody tr th {\n",
       "        vertical-align: top;\n",
       "    }\n",
       "\n",
       "    .dataframe thead th {\n",
       "        text-align: right;\n",
       "    }\n",
       "</style>\n",
       "<table border=\"1\" class=\"dataframe\">\n",
       "  <thead>\n",
       "    <tr style=\"text-align: right;\">\n",
       "      <th></th>\n",
       "      <th>text</th>\n",
       "    </tr>\n",
       "  </thead>\n",
       "  <tbody>\n",
       "    <tr>\n",
       "      <th>0</th>\n",
       "      <td>Additionally, feeling small (added as a fixed ...</td>\n",
       "    </tr>\n",
       "    <tr>\n",
       "      <th>1</th>\n",
       "      <td>Unlike the target study, our study found that ...</td>\n",
       "    </tr>\n",
       "    <tr>\n",
       "      <th>2</th>\n",
       "      <td>The years-of-experience single effect was not ...</td>\n",
       "    </tr>\n",
       "    <tr>\n",
       "      <th>3</th>\n",
       "      <td>Post hoc examination of the interaction did no...</td>\n",
       "    </tr>\n",
       "    <tr>\n",
       "      <th>4</th>\n",
       "      <td>No significant relation between the two measur...</td>\n",
       "    </tr>\n",
       "    <tr>\n",
       "      <th>5</th>\n",
       "      <td>For data time-locked to template A (Fig. 5, le...</td>\n",
       "    </tr>\n",
       "    <tr>\n",
       "      <th>6</th>\n",
       "      <td>Mann-Whitney U tests with experiment as a fact...</td>\n",
       "    </tr>\n",
       "    <tr>\n",
       "      <th>7</th>\n",
       "      <td>Egger's test, however, was again nonsignifican...</td>\n",
       "    </tr>\n",
       "    <tr>\n",
       "      <th>8</th>\n",
       "      <td>When we compared the foreground and background...</td>\n",
       "    </tr>\n",
       "    <tr>\n",
       "      <th>9</th>\n",
       "      <td>A decrease was observed for all age groups, an...</td>\n",
       "    </tr>\n",
       "    <tr>\n",
       "      <th>10</th>\n",
       "      <td>There was no significant difference between th...</td>\n",
       "    </tr>\n",
       "    <tr>\n",
       "      <th>11</th>\n",
       "      <td>Note that we included accuracies in the model ...</td>\n",
       "    </tr>\n",
       "    <tr>\n",
       "      <th>12</th>\n",
       "      <td>This interaction was driven by significant sup...</td>\n",
       "    </tr>\n",
       "    <tr>\n",
       "      <th>13</th>\n",
       "      <td>Also, we found no significant relationships be...</td>\n",
       "    </tr>\n",
       "    <tr>\n",
       "      <th>14</th>\n",
       "      <td>Post hoc analyses on self-related evaluations ...</td>\n",
       "    </tr>\n",
       "    <tr>\n",
       "      <th>15</th>\n",
       "      <td>By contrast, leader narcissism levels were not...</td>\n",
       "    </tr>\n",
       "    <tr>\n",
       "      <th>16</th>\n",
       "      <td>Opponent height was subsequently added as a fi...</td>\n",
       "    </tr>\n",
       "    <tr>\n",
       "      <th>17</th>\n",
       "      <td>The main effect of aperture, Experiment 2: F(1...</td>\n",
       "    </tr>\n",
       "    <tr>\n",
       "      <th>18</th>\n",
       "      <td>Specifically, an ANCOVA comparing the combined...</td>\n",
       "    </tr>\n",
       "    <tr>\n",
       "      <th>19</th>\n",
       "      <td>Meta-regression indicated no significant moder...</td>\n",
       "    </tr>\n",
       "    <tr>\n",
       "      <th>20</th>\n",
       "      <td>The differences in the experimental condition ...</td>\n",
       "    </tr>\n",
       "    <tr>\n",
       "      <th>21</th>\n",
       "      <td>Performance was fastest for the biggest and sm...</td>\n",
       "    </tr>\n",
       "    <tr>\n",
       "      <th>22</th>\n",
       "      <td>The Visual Cue Ã— Choice Direction interaction...</td>\n",
       "    </tr>\n",
       "    <tr>\n",
       "      <th>23</th>\n",
       "      <td>Results showed that all profiles significantly...</td>\n",
       "    </tr>\n",
       "    <tr>\n",
       "      <th>24</th>\n",
       "      <td>Simple effects tests confirmed that the effect...</td>\n",
       "    </tr>\n",
       "    <tr>\n",
       "      <th>25</th>\n",
       "      <td>We found no gender differences in task perform...</td>\n",
       "    </tr>\n",
       "    <tr>\n",
       "      <th>26</th>\n",
       "      <td>The LPE effect was reduced to 3.3% in the simi...</td>\n",
       "    </tr>\n",
       "    <tr>\n",
       "      <th>27</th>\n",
       "      <td>Interestingly, here congruent imagery did not ...</td>\n",
       "    </tr>\n",
       "    <tr>\n",
       "      <th>28</th>\n",
       "      <td>Accordingly, we found no difference in respons...</td>\n",
       "    </tr>\n",
       "    <tr>\n",
       "      <th>29</th>\n",
       "      <td>This interaction was driven once again by a si...</td>\n",
       "    </tr>\n",
       "    <tr>\n",
       "      <th>30</th>\n",
       "      <td>Results revealed no significant relationship b...</td>\n",
       "    </tr>\n",
       "    <tr>\n",
       "      <th>31</th>\n",
       "      <td>There were no significant gender differences i...</td>\n",
       "    </tr>\n",
       "    <tr>\n",
       "      <th>32</th>\n",
       "      <td>These incongruent positive and negative judgme...</td>\n",
       "    </tr>\n",
       "    <tr>\n",
       "      <th>33</th>\n",
       "      <td>No significant gender differences emerged in i...</td>\n",
       "    </tr>\n",
       "    <tr>\n",
       "      <th>34</th>\n",
       "      <td>In both the information-integration and rule-b...</td>\n",
       "    </tr>\n",
       "    <tr>\n",
       "      <th>35</th>\n",
       "      <td>However, polarization scores were somewhat str...</td>\n",
       "    </tr>\n",
       "    <tr>\n",
       "      <th>36</th>\n",
       "      <td>The percentage of children who waited for the ...</td>\n",
       "    </tr>\n",
       "    <tr>\n",
       "      <th>37</th>\n",
       "      <td>A one-sided paired-samples t test comparing th...</td>\n",
       "    </tr>\n",
       "    <tr>\n",
       "      <th>38</th>\n",
       "      <td>We did not find a significant main effect of s...</td>\n",
       "    </tr>\n",
       "    <tr>\n",
       "      <th>39</th>\n",
       "      <td>Again, no significant interaction effect was f...</td>\n",
       "    </tr>\n",
       "    <tr>\n",
       "      <th>40</th>\n",
       "      <td>There was no significant interaction between p...</td>\n",
       "    </tr>\n",
       "    <tr>\n",
       "      <th>41</th>\n",
       "      <td>The correlation was nonsignificant for the COV...</td>\n",
       "    </tr>\n",
       "    <tr>\n",
       "      <th>42</th>\n",
       "      <td>Likewise, the difference in mean GPS between t...</td>\n",
       "    </tr>\n",
       "    <tr>\n",
       "      <th>43</th>\n",
       "      <td>However, there was no significant difference i...</td>\n",
       "    </tr>\n",
       "    <tr>\n",
       "      <th>44</th>\n",
       "      <td>Ratings of control images were not significant...</td>\n",
       "    </tr>\n",
       "    <tr>\n",
       "      <th>45</th>\n",
       "      <td>Contrary to our preregistered hypothesis, resu...</td>\n",
       "    </tr>\n",
       "    <tr>\n",
       "      <th>46</th>\n",
       "      <td>Leader narcissism levels also did not signific...</td>\n",
       "    </tr>\n",
       "    <tr>\n",
       "      <th>47</th>\n",
       "      <td>The single effect of all-star status is also n...</td>\n",
       "    </tr>\n",
       "  </tbody>\n",
       "</table>\n",
       "</div>"
      ],
      "text/plain": [
       "                                                 text\n",
       "0   Additionally, feeling small (added as a fixed ...\n",
       "1   Unlike the target study, our study found that ...\n",
       "2   The years-of-experience single effect was not ...\n",
       "3   Post hoc examination of the interaction did no...\n",
       "4   No significant relation between the two measur...\n",
       "5   For data time-locked to template A (Fig. 5, le...\n",
       "6   Mann-Whitney U tests with experiment as a fact...\n",
       "7   Egger's test, however, was again nonsignifican...\n",
       "8   When we compared the foreground and background...\n",
       "9   A decrease was observed for all age groups, an...\n",
       "10  There was no significant difference between th...\n",
       "11  Note that we included accuracies in the model ...\n",
       "12  This interaction was driven by significant sup...\n",
       "13  Also, we found no significant relationships be...\n",
       "14  Post hoc analyses on self-related evaluations ...\n",
       "15  By contrast, leader narcissism levels were not...\n",
       "16  Opponent height was subsequently added as a fi...\n",
       "17  The main effect of aperture, Experiment 2: F(1...\n",
       "18  Specifically, an ANCOVA comparing the combined...\n",
       "19  Meta-regression indicated no significant moder...\n",
       "20  The differences in the experimental condition ...\n",
       "21  Performance was fastest for the biggest and sm...\n",
       "22  The Visual Cue Ã— Choice Direction interaction...\n",
       "23  Results showed that all profiles significantly...\n",
       "24  Simple effects tests confirmed that the effect...\n",
       "25  We found no gender differences in task perform...\n",
       "26  The LPE effect was reduced to 3.3% in the simi...\n",
       "27  Interestingly, here congruent imagery did not ...\n",
       "28  Accordingly, we found no difference in respons...\n",
       "29  This interaction was driven once again by a si...\n",
       "30  Results revealed no significant relationship b...\n",
       "31  There were no significant gender differences i...\n",
       "32  These incongruent positive and negative judgme...\n",
       "33  No significant gender differences emerged in i...\n",
       "34  In both the information-integration and rule-b...\n",
       "35  However, polarization scores were somewhat str...\n",
       "36  The percentage of children who waited for the ...\n",
       "37  A one-sided paired-samples t test comparing th...\n",
       "38  We did not find a significant main effect of s...\n",
       "39  Again, no significant interaction effect was f...\n",
       "40  There was no significant interaction between p...\n",
       "41  The correlation was nonsignificant for the COV...\n",
       "42  Likewise, the difference in mean GPS between t...\n",
       "43  However, there was no significant difference i...\n",
       "44  Ratings of control images were not significant...\n",
       "45  Contrary to our preregistered hypothesis, resu...\n",
       "46  Leader narcissism levels also did not signific...\n",
       "47  The single effect of all-star status is also n..."
      ]
     },
     "metadata": {},
     "output_type": "display_data"
    }
   ],
   "source": [
    "display_statements(true_negatives, \"True Negatives (predicted 0, actual 0)\")"
   ]
  },
  {
   "cell_type": "code",
   "execution_count": 322,
   "id": "a79eca53",
   "metadata": {},
   "outputs": [
    {
     "name": "stdout",
     "output_type": "stream",
     "text": [
      "\n",
      "False Positives (predicted 1, actual 0) (count: 6)\n"
     ]
    },
    {
     "data": {
      "application/vnd.microsoft.datawrangler.viewer.v0+json": {
       "columns": [
        {
         "name": "index",
         "rawType": "int64",
         "type": "integer"
        },
        {
         "name": "text",
         "rawType": "object",
         "type": "string"
        }
       ],
       "ref": "3a8e0481-1ca9-4226-a528-49e321de76d7",
       "rows": [
        [
         "0",
         "The main effect of illness recency did not meet our preregistered threshold (p < .025)-recently ill: M = 661 ms, SD = 197; not recently ill: M = 626 ms, SD = 153, F(1, 400) = 4.23, Î· p 2 = .010, 90% CI = [.000, .039], p = .040-nor did the interaction between illness recency and face type (disfigured vs. typical), F(1, 400) = 1.87, Î· p 2 = .005, 90% CI = [.000, .027], p = .173."
        ],
        [
         "1",
         "A length effect was once again found for pseudowords (five-letter strings: M = 19.88%, SD = 7.87; three-letter strings: M = 16.57%, SD = 4.85), t(17) = -2.91, p = .01, but not for real words (three letters: M = 16.31%, SD = 4.88; five letters: M = 16.12%, SD = 4.55), t(17) = 0.30, p = .77 (see Note 2)."
        ],
        [
         "2",
         "We replicated the effect of familiarity, F(3, 147) = 8.42, p < .001, Ï‰ p 2 = .04, 95% CI = [.00, .10], but found no main effect of trial position, F(1, 49) = 0.01, p = .91, Ï‰ p 2 = .00, 95% CI = [.00, 1.00], and no interaction between trial position and familiarity, F(3, 147) = 0.37, p = .77, Ï‰ p 2 = .00, 95% CI = [.00, 1.00]."
        ],
        [
         "3",
         "As we expected, the effect of information seeking on emotion change was weaker or even nonsignificant (e.g., b = -0.066, z = -1.31, p = .190, 95% CI = [-0.164, 0.033]) when all the covariates and their interactions were included in mixed-effects modeling."
        ],
        [
         "4",
         "Being in an oppositional climate (vs. the balanced condition) only descriptively reduced the willingness to respond to uncongenial comments (b = -0.30, SE = 0.16, 95% CI = [-0.62, 0.02], t = -1.84, p = .065)."
        ],
        [
         "5",
         "For low-probability trials, we also found no difference in RTs between trials preceded by a low-probability trial (4.09 s, SD = 2.21) and those preceded by a highprobability trial (4.12 s, SD = 1.97), t(23) = 0.21, p = .838, Cohen's d = 0.04, 95% CI = [-0.34, 0.41]."
        ]
       ],
       "shape": {
        "columns": 1,
        "rows": 6
       }
      },
      "text/html": [
       "<div>\n",
       "<style scoped>\n",
       "    .dataframe tbody tr th:only-of-type {\n",
       "        vertical-align: middle;\n",
       "    }\n",
       "\n",
       "    .dataframe tbody tr th {\n",
       "        vertical-align: top;\n",
       "    }\n",
       "\n",
       "    .dataframe thead th {\n",
       "        text-align: right;\n",
       "    }\n",
       "</style>\n",
       "<table border=\"1\" class=\"dataframe\">\n",
       "  <thead>\n",
       "    <tr style=\"text-align: right;\">\n",
       "      <th></th>\n",
       "      <th>text</th>\n",
       "    </tr>\n",
       "  </thead>\n",
       "  <tbody>\n",
       "    <tr>\n",
       "      <th>0</th>\n",
       "      <td>The main effect of illness recency did not mee...</td>\n",
       "    </tr>\n",
       "    <tr>\n",
       "      <th>1</th>\n",
       "      <td>A length effect was once again found for pseud...</td>\n",
       "    </tr>\n",
       "    <tr>\n",
       "      <th>2</th>\n",
       "      <td>We replicated the effect of familiarity, F(3, ...</td>\n",
       "    </tr>\n",
       "    <tr>\n",
       "      <th>3</th>\n",
       "      <td>As we expected, the effect of information seek...</td>\n",
       "    </tr>\n",
       "    <tr>\n",
       "      <th>4</th>\n",
       "      <td>Being in an oppositional climate (vs. the bala...</td>\n",
       "    </tr>\n",
       "    <tr>\n",
       "      <th>5</th>\n",
       "      <td>For low-probability trials, we also found no d...</td>\n",
       "    </tr>\n",
       "  </tbody>\n",
       "</table>\n",
       "</div>"
      ],
      "text/plain": [
       "                                                text\n",
       "0  The main effect of illness recency did not mee...\n",
       "1  A length effect was once again found for pseud...\n",
       "2  We replicated the effect of familiarity, F(3, ...\n",
       "3  As we expected, the effect of information seek...\n",
       "4  Being in an oppositional climate (vs. the bala...\n",
       "5  For low-probability trials, we also found no d..."
      ]
     },
     "metadata": {},
     "output_type": "display_data"
    }
   ],
   "source": [
    "display_statements(false_positives, \"False Positives (predicted 1, actual 0)\")"
   ]
  },
  {
   "cell_type": "code",
   "execution_count": 323,
   "id": "9b473d8e",
   "metadata": {},
   "outputs": [
    {
     "name": "stdout",
     "output_type": "stream",
     "text": [
      "\n",
      "False Negatives (predicted 0, actual 1) (count: 11)\n"
     ]
    },
    {
     "data": {
      "application/vnd.microsoft.datawrangler.viewer.v0+json": {
       "columns": [
        {
         "name": "index",
         "rawType": "int64",
         "type": "integer"
        },
        {
         "name": "text",
         "rawType": "object",
         "type": "string"
        }
       ],
       "ref": "5b15ef96-bd7c-43df-8dca-c3781f6dd38b",
       "rows": [
        [
         "0",
         "Unlike RT, accuracy did not significantly differ between these two conditions, t(19) = -1.55, p = .137, suggesting that the increase in performance at the location of the template-matching object was RT specific."
        ],
        [
         "1",
         "RTs significantly varied according to recognition judgment, F(3.58, 3303.28) = 54.86, p < .001, Î· p 2 = .056, and there was no interaction with age (p = .862; all Greenhouse-Geisser adjusted)."
        ],
        [
         "2",
         "In contrast, the mean signed response offset for the opposite-sideprobe condition exhibited a nonsignificant negative signed offset for shape, M = -0.36Â°, t(27) = -0.78, p = .441, 95% CI = [-1.32Â°, 0.59Â°], Cohen's d -0.15, and a small but significant negative signed offset for color, M = -1.29Â°, t(27) = 2.20, p = .037, 95% CI = [-2.49Â°, -0.09Â°], Cohen's d = -0.42, indicating that the memory reports were, if anything, biased away from the first similar probe."
        ],
        [
         "3",
         "There was a significant interactive effect of time and political orientation, b = -0.09, SE = 0.04, 95% CI = [-0.16, -0.02], t(1922) = -2.49, p = .013, on the endorsement of the in-group foundation (see Table S2 in CI = [-0.14, -0.04], t(1922) = -3.59, p < .001, disappeared after 7/7, b = 0.004, SE = 0.02, 95% CI = [-0.04, 0.05], t(1922) = 0.17, p > .250 (see Fig. 2)."
        ],
        [
         "4",
         "The number of incongruent negative and positive trials did not differ (p = .974)."
        ],
        [
         "5",
         "The receivers' overall corrugator activity was not significantly different during touch compared with baseline (EMM = -.04, 95% CI = [-.10, .03]), t(28) = -1.15, p = .262, nor did it vary with cue, F(5, 901) = 1.50, p = .188 (Fig. 2b)."
        ],
        [
         "6",
         "We found that time delays increased perceptions of unfairness (b = 1.12, SE = 0.13, p < .0001, 95% CI = [0.85, 1.38]), unfairness was positively related to punishment (b = 1.50, SE = 0.27, p < .0001, 95% CI = [0.98, 2.03]), and controlling for unfairness eliminated the effect of time delays on punishment (b = 0.12, SE = 0.82, p = .88, 95% CI = [-1.49, 1.73])."
        ],
        [
         "7",
         "As in the previous studies, we found no correlation between interoceptive accuracy (M = 50.80, SD = 8.4) and the difference in trustworthiness ratings in the diastole-self and the average of the other-hearts conditions (r = -.25, p = .20)."
        ],
        [
         "8",
         "There was no significant main effect of the security-camera-information condition, F(1, 467) = 0.02, p = .88, Î· p 2 = .00, and no interaction with the condition, F(1, 466) = 0.01, p = .92, Î· p 2 = .00."
        ],
        [
         "9",
         "As expected, salivary cortisol levels were comparable across both days at baseline (post hoc test: p = .69) and immediately after the TSST (post hoc test: p = .63) but significantly higher in the stress condition compared with the control condition at 25 min (post hoc test: p = .002), 40 min (post hoc test: p < .001), and 60 min (post hoc test: p < .001) after stress onset."
        ],
        [
         "10",
         "Crucially, we found no correlation between the mean of sham and the effect of alpha tACS-Pearson's r(28) = .097, p = .610; Spearman's Ï = -.016, p = .932; N = 30, suggesting that a larger overestimation in the sham tACS condition corresponded to a larger beta-related underestimation."
        ]
       ],
       "shape": {
        "columns": 1,
        "rows": 11
       }
      },
      "text/html": [
       "<div>\n",
       "<style scoped>\n",
       "    .dataframe tbody tr th:only-of-type {\n",
       "        vertical-align: middle;\n",
       "    }\n",
       "\n",
       "    .dataframe tbody tr th {\n",
       "        vertical-align: top;\n",
       "    }\n",
       "\n",
       "    .dataframe thead th {\n",
       "        text-align: right;\n",
       "    }\n",
       "</style>\n",
       "<table border=\"1\" class=\"dataframe\">\n",
       "  <thead>\n",
       "    <tr style=\"text-align: right;\">\n",
       "      <th></th>\n",
       "      <th>text</th>\n",
       "    </tr>\n",
       "  </thead>\n",
       "  <tbody>\n",
       "    <tr>\n",
       "      <th>0</th>\n",
       "      <td>Unlike RT, accuracy did not significantly diff...</td>\n",
       "    </tr>\n",
       "    <tr>\n",
       "      <th>1</th>\n",
       "      <td>RTs significantly varied according to recognit...</td>\n",
       "    </tr>\n",
       "    <tr>\n",
       "      <th>2</th>\n",
       "      <td>In contrast, the mean signed response offset f...</td>\n",
       "    </tr>\n",
       "    <tr>\n",
       "      <th>3</th>\n",
       "      <td>There was a significant interactive effect of ...</td>\n",
       "    </tr>\n",
       "    <tr>\n",
       "      <th>4</th>\n",
       "      <td>The number of incongruent negative and positiv...</td>\n",
       "    </tr>\n",
       "    <tr>\n",
       "      <th>5</th>\n",
       "      <td>The receivers' overall corrugator activity was...</td>\n",
       "    </tr>\n",
       "    <tr>\n",
       "      <th>6</th>\n",
       "      <td>We found that time delays increased perception...</td>\n",
       "    </tr>\n",
       "    <tr>\n",
       "      <th>7</th>\n",
       "      <td>As in the previous studies, we found no correl...</td>\n",
       "    </tr>\n",
       "    <tr>\n",
       "      <th>8</th>\n",
       "      <td>There was no significant main effect of the se...</td>\n",
       "    </tr>\n",
       "    <tr>\n",
       "      <th>9</th>\n",
       "      <td>As expected, salivary cortisol levels were com...</td>\n",
       "    </tr>\n",
       "    <tr>\n",
       "      <th>10</th>\n",
       "      <td>Crucially, we found no correlation between the...</td>\n",
       "    </tr>\n",
       "  </tbody>\n",
       "</table>\n",
       "</div>"
      ],
      "text/plain": [
       "                                                 text\n",
       "0   Unlike RT, accuracy did not significantly diff...\n",
       "1   RTs significantly varied according to recognit...\n",
       "2   In contrast, the mean signed response offset f...\n",
       "3   There was a significant interactive effect of ...\n",
       "4   The number of incongruent negative and positiv...\n",
       "5   The receivers' overall corrugator activity was...\n",
       "6   We found that time delays increased perception...\n",
       "7   As in the previous studies, we found no correl...\n",
       "8   There was no significant main effect of the se...\n",
       "9   As expected, salivary cortisol levels were com...\n",
       "10  Crucially, we found no correlation between the..."
      ]
     },
     "metadata": {},
     "output_type": "display_data"
    }
   ],
   "source": [
    "display_statements(false_negatives, \"False Negatives (predicted 0, actual 1)\")"
   ]
  },
  {
   "cell_type": "markdown",
   "id": "bb5611fc",
   "metadata": {},
   "source": [
    "## 4 Storing results"
   ]
  },
  {
   "cell_type": "markdown",
   "id": "662bc44e",
   "metadata": {},
   "source": [
    "### 4.1 Performance over the epochs"
   ]
  },
  {
   "cell_type": "code",
   "execution_count": 279,
   "id": "6095901e",
   "metadata": {},
   "outputs": [
    {
     "name": "stdout",
     "output_type": "stream",
     "text": [
      "     loss  grad_norm  learning_rate  epoch  step  eval_loss  eval_accuracy  \\\n",
      "0  0.7079  19.871519       0.000018    1.0    54        NaN            NaN   \n",
      "1     NaN        NaN            NaN    1.0    54   0.673791       0.598131   \n",
      "2  0.5323   6.354126       0.000016    2.0   108        NaN            NaN   \n",
      "3     NaN        NaN            NaN    2.0   108   0.382412       0.841121   \n",
      "4  0.2496   2.364589       0.000014    3.0   162        NaN            NaN   \n",
      "\n",
      "   eval_precision  eval_recall   eval_f1  eval_runtime  \\\n",
      "0             NaN          NaN       NaN           NaN   \n",
      "1        0.857143     0.226415  0.358209        0.8929   \n",
      "2             NaN          NaN       NaN           NaN   \n",
      "3        0.875000     0.792453  0.831683        0.9194   \n",
      "4             NaN          NaN       NaN           NaN   \n",
      "\n",
      "   eval_samples_per_second  eval_steps_per_second  train_runtime  \\\n",
      "0                      NaN                    NaN            NaN   \n",
      "1                  119.829                 15.679            NaN   \n",
      "2                      NaN                    NaN            NaN   \n",
      "3                  116.375                 15.227            NaN   \n",
      "4                      NaN                    NaN            NaN   \n",
      "\n",
      "   train_samples_per_second  train_steps_per_second  total_flos  train_loss  \n",
      "0                       NaN                     NaN         NaN         NaN  \n",
      "1                       NaN                     NaN         NaN         NaN  \n",
      "2                       NaN                     NaN         NaN         NaN  \n",
      "3                       NaN                     NaN         NaN         NaN  \n",
      "4                       NaN                     NaN         NaN         NaN  \n"
     ]
    }
   ],
   "source": [
    "# Save log history\n",
    "log_history = trainer.state.log_history\n",
    "\n",
    "# Convert to DataFrame\n",
    "log_df = pd.DataFrame(log_history)\n",
    "\n",
    "# Save to CSV in 'results_path' folder\n",
    "from pathlib import Path\n",
    "log_df.to_csv(Path(results_path) / \"model_training_history.csv\", index=False)\n",
    "\n",
    "# Display the first few rows\n",
    "print(log_df.head())"
   ]
  },
  {
   "cell_type": "markdown",
   "id": "c46b6e7d",
   "metadata": {},
   "source": [
    "### 4.2 Final performance on test set"
   ]
  },
  {
   "cell_type": "code",
   "execution_count": 280,
   "id": "facd4cfa",
   "metadata": {},
   "outputs": [],
   "source": [
    "# Save human and BERT labels on test set\n",
    "predictions_df = pd.DataFrame({\n",
    "    \"human_label\": GT_test,\n",
    "    \"BERT_label\": test_preds\n",
    "})\n",
    "predictions_df.to_csv(Path(results_path) / \"test_predictions.csv\", index=False)"
   ]
  },
  {
   "cell_type": "code",
   "execution_count": null,
   "id": "56e5e265",
   "metadata": {},
   "outputs": [],
   "source": [
    "# The end..."
   ]
  }
 ],
 "metadata": {
  "kernelspec": {
   "display_name": "Python (nonsig-venv)",
   "language": "python",
   "name": "nonsig-venv"
  },
  "language_info": {
   "codemirror_mode": {
    "name": "ipython",
    "version": 3
   },
   "file_extension": ".py",
   "mimetype": "text/x-python",
   "name": "python",
   "nbconvert_exporter": "python",
   "pygments_lexer": "ipython3",
   "version": "3.12.10"
  }
 },
 "nbformat": 4,
 "nbformat_minor": 5
}
