{
 "cells": [
  {
   "cell_type": "markdown",
   "id": "5e0f8a44",
   "metadata": {},
   "source": [
    "# Regular Bert Training with Early Stopping"
   ]
  },
  {
   "cell_type": "markdown",
   "id": "ef72840b",
   "metadata": {},
   "source": [
    "## 0. Setup"
   ]
  },
  {
   "cell_type": "markdown",
   "id": "32992dd0",
   "metadata": {},
   "source": [
    "### 0.1 Install libraries"
   ]
  },
  {
   "cell_type": "code",
   "execution_count": 463,
   "id": "da13a949",
   "metadata": {},
   "outputs": [
    {
     "name": "stdout",
     "output_type": "stream",
     "text": [
      "Requirement already satisfied: absl-py==2.3.1 in d:\\onedrive\\dokumente\\github desktop\\nonsig-master-thesis\\nonsig_venv\\lib\\site-packages (from -r requirements.txt (line 1)) (2.3.1)\n",
      "Requirement already satisfied: accelerate==1.8.1 in d:\\onedrive\\dokumente\\github desktop\\nonsig-master-thesis\\nonsig_venv\\lib\\site-packages (from -r requirements.txt (line 2)) (1.8.1)\n",
      "Requirement already satisfied: aiohappyeyeballs==2.6.1 in d:\\onedrive\\dokumente\\github desktop\\nonsig-master-thesis\\nonsig_venv\\lib\\site-packages (from -r requirements.txt (line 3)) (2.6.1)\n",
      "Requirement already satisfied: aiohttp==3.12.13 in d:\\onedrive\\dokumente\\github desktop\\nonsig-master-thesis\\nonsig_venv\\lib\\site-packages (from -r requirements.txt (line 4)) (3.12.13)\n",
      "Requirement already satisfied: aiosignal==1.4.0 in d:\\onedrive\\dokumente\\github desktop\\nonsig-master-thesis\\nonsig_venv\\lib\\site-packages (from -r requirements.txt (line 5)) (1.4.0)\n",
      "Requirement already satisfied: asttokens==3.0.0 in d:\\onedrive\\dokumente\\github desktop\\nonsig-master-thesis\\nonsig_venv\\lib\\site-packages (from -r requirements.txt (line 6)) (3.0.0)\n",
      "Requirement already satisfied: astunparse==1.6.3 in d:\\onedrive\\dokumente\\github desktop\\nonsig-master-thesis\\nonsig_venv\\lib\\site-packages (from -r requirements.txt (line 7)) (1.6.3)\n",
      "Requirement already satisfied: attrs==25.3.0 in d:\\onedrive\\dokumente\\github desktop\\nonsig-master-thesis\\nonsig_venv\\lib\\site-packages (from -r requirements.txt (line 8)) (25.3.0)\n",
      "Requirement already satisfied: certifi==2025.6.15 in d:\\onedrive\\dokumente\\github desktop\\nonsig-master-thesis\\nonsig_venv\\lib\\site-packages (from -r requirements.txt (line 9)) (2025.6.15)\n",
      "Requirement already satisfied: charset-normalizer==3.4.2 in d:\\onedrive\\dokumente\\github desktop\\nonsig-master-thesis\\nonsig_venv\\lib\\site-packages (from -r requirements.txt (line 10)) (3.4.2)\n",
      "Requirement already satisfied: colorama==0.4.6 in d:\\onedrive\\dokumente\\github desktop\\nonsig-master-thesis\\nonsig_venv\\lib\\site-packages (from -r requirements.txt (line 11)) (0.4.6)\n",
      "Requirement already satisfied: comm==0.2.2 in d:\\onedrive\\dokumente\\github desktop\\nonsig-master-thesis\\nonsig_venv\\lib\\site-packages (from -r requirements.txt (line 12)) (0.2.2)\n",
      "Requirement already satisfied: contourpy==1.3.2 in d:\\onedrive\\dokumente\\github desktop\\nonsig-master-thesis\\nonsig_venv\\lib\\site-packages (from -r requirements.txt (line 13)) (1.3.2)\n",
      "Requirement already satisfied: cycler==0.12.1 in d:\\onedrive\\dokumente\\github desktop\\nonsig-master-thesis\\nonsig_venv\\lib\\site-packages (from -r requirements.txt (line 14)) (0.12.1)\n",
      "Requirement already satisfied: datasets==3.6.0 in d:\\onedrive\\dokumente\\github desktop\\nonsig-master-thesis\\nonsig_venv\\lib\\site-packages (from -r requirements.txt (line 15)) (3.6.0)\n",
      "Requirement already satisfied: debugpy==1.8.14 in d:\\onedrive\\dokumente\\github desktop\\nonsig-master-thesis\\nonsig_venv\\lib\\site-packages (from -r requirements.txt (line 16)) (1.8.14)\n",
      "Requirement already satisfied: decorator==5.2.1 in d:\\onedrive\\dokumente\\github desktop\\nonsig-master-thesis\\nonsig_venv\\lib\\site-packages (from -r requirements.txt (line 17)) (5.2.1)\n",
      "Requirement already satisfied: dill==0.3.8 in d:\\onedrive\\dokumente\\github desktop\\nonsig-master-thesis\\nonsig_venv\\lib\\site-packages (from -r requirements.txt (line 18)) (0.3.8)\n",
      "Requirement already satisfied: et_xmlfile==2.0.0 in d:\\onedrive\\dokumente\\github desktop\\nonsig-master-thesis\\nonsig_venv\\lib\\site-packages (from -r requirements.txt (line 19)) (2.0.0)\n",
      "Requirement already satisfied: evaluate==0.4.4 in d:\\onedrive\\dokumente\\github desktop\\nonsig-master-thesis\\nonsig_venv\\lib\\site-packages (from -r requirements.txt (line 20)) (0.4.4)\n",
      "Requirement already satisfied: executing==2.2.0 in d:\\onedrive\\dokumente\\github desktop\\nonsig-master-thesis\\nonsig_venv\\lib\\site-packages (from -r requirements.txt (line 21)) (2.2.0)\n",
      "Requirement already satisfied: filelock==3.18.0 in d:\\onedrive\\dokumente\\github desktop\\nonsig-master-thesis\\nonsig_venv\\lib\\site-packages (from -r requirements.txt (line 22)) (3.18.0)\n",
      "Requirement already satisfied: flatbuffers==25.2.10 in d:\\onedrive\\dokumente\\github desktop\\nonsig-master-thesis\\nonsig_venv\\lib\\site-packages (from -r requirements.txt (line 23)) (25.2.10)\n",
      "Requirement already satisfied: fonttools==4.58.5 in d:\\onedrive\\dokumente\\github desktop\\nonsig-master-thesis\\nonsig_venv\\lib\\site-packages (from -r requirements.txt (line 24)) (4.58.5)\n",
      "Requirement already satisfied: frozenlist==1.7.0 in d:\\onedrive\\dokumente\\github desktop\\nonsig-master-thesis\\nonsig_venv\\lib\\site-packages (from -r requirements.txt (line 25)) (1.7.0)\n",
      "Requirement already satisfied: fsspec==2025.3.0 in d:\\onedrive\\dokumente\\github desktop\\nonsig-master-thesis\\nonsig_venv\\lib\\site-packages (from -r requirements.txt (line 26)) (2025.3.0)\n",
      "Requirement already satisfied: gast==0.6.0 in d:\\onedrive\\dokumente\\github desktop\\nonsig-master-thesis\\nonsig_venv\\lib\\site-packages (from -r requirements.txt (line 27)) (0.6.0)\n",
      "Requirement already satisfied: google-pasta==0.2.0 in d:\\onedrive\\dokumente\\github desktop\\nonsig-master-thesis\\nonsig_venv\\lib\\site-packages (from -r requirements.txt (line 28)) (0.2.0)\n",
      "Requirement already satisfied: grpcio==1.73.1 in d:\\onedrive\\dokumente\\github desktop\\nonsig-master-thesis\\nonsig_venv\\lib\\site-packages (from -r requirements.txt (line 29)) (1.73.1)\n",
      "Requirement already satisfied: h5py==3.14.0 in d:\\onedrive\\dokumente\\github desktop\\nonsig-master-thesis\\nonsig_venv\\lib\\site-packages (from -r requirements.txt (line 30)) (3.14.0)\n",
      "Requirement already satisfied: huggingface-hub==0.33.2 in d:\\onedrive\\dokumente\\github desktop\\nonsig-master-thesis\\nonsig_venv\\lib\\site-packages (from -r requirements.txt (line 31)) (0.33.2)\n",
      "Requirement already satisfied: idna==3.10 in d:\\onedrive\\dokumente\\github desktop\\nonsig-master-thesis\\nonsig_venv\\lib\\site-packages (from -r requirements.txt (line 32)) (3.10)\n",
      "Requirement already satisfied: ipykernel==6.29.5 in d:\\onedrive\\dokumente\\github desktop\\nonsig-master-thesis\\nonsig_venv\\lib\\site-packages (from -r requirements.txt (line 33)) (6.29.5)\n",
      "Requirement already satisfied: ipython==9.4.0 in d:\\onedrive\\dokumente\\github desktop\\nonsig-master-thesis\\nonsig_venv\\lib\\site-packages (from -r requirements.txt (line 34)) (9.4.0)\n",
      "Requirement already satisfied: ipython_pygments_lexers==1.1.1 in d:\\onedrive\\dokumente\\github desktop\\nonsig-master-thesis\\nonsig_venv\\lib\\site-packages (from -r requirements.txt (line 35)) (1.1.1)\n",
      "Requirement already satisfied: jedi==0.19.2 in d:\\onedrive\\dokumente\\github desktop\\nonsig-master-thesis\\nonsig_venv\\lib\\site-packages (from -r requirements.txt (line 36)) (0.19.2)\n",
      "Requirement already satisfied: Jinja2==3.1.6 in d:\\onedrive\\dokumente\\github desktop\\nonsig-master-thesis\\nonsig_venv\\lib\\site-packages (from -r requirements.txt (line 37)) (3.1.6)\n",
      "Requirement already satisfied: joblib==1.5.1 in d:\\onedrive\\dokumente\\github desktop\\nonsig-master-thesis\\nonsig_venv\\lib\\site-packages (from -r requirements.txt (line 38)) (1.5.1)\n",
      "Requirement already satisfied: jupyter_client==8.6.3 in d:\\onedrive\\dokumente\\github desktop\\nonsig-master-thesis\\nonsig_venv\\lib\\site-packages (from -r requirements.txt (line 39)) (8.6.3)\n",
      "Requirement already satisfied: jupyter_core==5.8.1 in d:\\onedrive\\dokumente\\github desktop\\nonsig-master-thesis\\nonsig_venv\\lib\\site-packages (from -r requirements.txt (line 40)) (5.8.1)\n",
      "Requirement already satisfied: keras==3.10.0 in d:\\onedrive\\dokumente\\github desktop\\nonsig-master-thesis\\nonsig_venv\\lib\\site-packages (from -r requirements.txt (line 41)) (3.10.0)\n",
      "Requirement already satisfied: kiwisolver==1.4.8 in d:\\onedrive\\dokumente\\github desktop\\nonsig-master-thesis\\nonsig_venv\\lib\\site-packages (from -r requirements.txt (line 42)) (1.4.8)\n",
      "Requirement already satisfied: libclang==18.1.1 in d:\\onedrive\\dokumente\\github desktop\\nonsig-master-thesis\\nonsig_venv\\lib\\site-packages (from -r requirements.txt (line 43)) (18.1.1)\n",
      "Requirement already satisfied: Markdown==3.8.2 in d:\\onedrive\\dokumente\\github desktop\\nonsig-master-thesis\\nonsig_venv\\lib\\site-packages (from -r requirements.txt (line 44)) (3.8.2)\n",
      "Requirement already satisfied: markdown-it-py==3.0.0 in d:\\onedrive\\dokumente\\github desktop\\nonsig-master-thesis\\nonsig_venv\\lib\\site-packages (from -r requirements.txt (line 45)) (3.0.0)\n",
      "Requirement already satisfied: MarkupSafe==3.0.2 in d:\\onedrive\\dokumente\\github desktop\\nonsig-master-thesis\\nonsig_venv\\lib\\site-packages (from -r requirements.txt (line 46)) (3.0.2)\n",
      "Requirement already satisfied: matplotlib==3.10.3 in d:\\onedrive\\dokumente\\github desktop\\nonsig-master-thesis\\nonsig_venv\\lib\\site-packages (from -r requirements.txt (line 47)) (3.10.3)\n",
      "Requirement already satisfied: matplotlib-inline==0.1.7 in d:\\onedrive\\dokumente\\github desktop\\nonsig-master-thesis\\nonsig_venv\\lib\\site-packages (from -r requirements.txt (line 48)) (0.1.7)\n",
      "Requirement already satisfied: mdurl==0.1.2 in d:\\onedrive\\dokumente\\github desktop\\nonsig-master-thesis\\nonsig_venv\\lib\\site-packages (from -r requirements.txt (line 49)) (0.1.2)\n",
      "Requirement already satisfied: ml_dtypes==0.5.1 in d:\\onedrive\\dokumente\\github desktop\\nonsig-master-thesis\\nonsig_venv\\lib\\site-packages (from -r requirements.txt (line 50)) (0.5.1)\n",
      "Requirement already satisfied: mpmath==1.3.0 in d:\\onedrive\\dokumente\\github desktop\\nonsig-master-thesis\\nonsig_venv\\lib\\site-packages (from -r requirements.txt (line 51)) (1.3.0)\n",
      "Requirement already satisfied: multidict==6.6.3 in d:\\onedrive\\dokumente\\github desktop\\nonsig-master-thesis\\nonsig_venv\\lib\\site-packages (from -r requirements.txt (line 52)) (6.6.3)\n",
      "Requirement already satisfied: multiprocess==0.70.16 in d:\\onedrive\\dokumente\\github desktop\\nonsig-master-thesis\\nonsig_venv\\lib\\site-packages (from -r requirements.txt (line 53)) (0.70.16)\n",
      "Requirement already satisfied: namex==0.1.0 in d:\\onedrive\\dokumente\\github desktop\\nonsig-master-thesis\\nonsig_venv\\lib\\site-packages (from -r requirements.txt (line 54)) (0.1.0)\n",
      "Requirement already satisfied: nest-asyncio==1.6.0 in d:\\onedrive\\dokumente\\github desktop\\nonsig-master-thesis\\nonsig_venv\\lib\\site-packages (from -r requirements.txt (line 55)) (1.6.0)\n",
      "Requirement already satisfied: networkx==3.5 in d:\\onedrive\\dokumente\\github desktop\\nonsig-master-thesis\\nonsig_venv\\lib\\site-packages (from -r requirements.txt (line 56)) (3.5)\n",
      "Requirement already satisfied: numpy==2.1.3 in d:\\onedrive\\dokumente\\github desktop\\nonsig-master-thesis\\nonsig_venv\\lib\\site-packages (from -r requirements.txt (line 57)) (2.1.3)\n",
      "Requirement already satisfied: openpyxl==3.1.5 in d:\\onedrive\\dokumente\\github desktop\\nonsig-master-thesis\\nonsig_venv\\lib\\site-packages (from -r requirements.txt (line 58)) (3.1.5)\n",
      "Requirement already satisfied: opt_einsum==3.4.0 in d:\\onedrive\\dokumente\\github desktop\\nonsig-master-thesis\\nonsig_venv\\lib\\site-packages (from -r requirements.txt (line 59)) (3.4.0)\n",
      "Requirement already satisfied: optree==0.16.0 in d:\\onedrive\\dokumente\\github desktop\\nonsig-master-thesis\\nonsig_venv\\lib\\site-packages (from -r requirements.txt (line 60)) (0.16.0)\n",
      "Requirement already satisfied: packaging==25.0 in d:\\onedrive\\dokumente\\github desktop\\nonsig-master-thesis\\nonsig_venv\\lib\\site-packages (from -r requirements.txt (line 61)) (25.0)\n",
      "Requirement already satisfied: pandas==2.3.1 in d:\\onedrive\\dokumente\\github desktop\\nonsig-master-thesis\\nonsig_venv\\lib\\site-packages (from -r requirements.txt (line 62)) (2.3.1)\n",
      "Requirement already satisfied: parso==0.8.4 in d:\\onedrive\\dokumente\\github desktop\\nonsig-master-thesis\\nonsig_venv\\lib\\site-packages (from -r requirements.txt (line 63)) (0.8.4)\n",
      "Requirement already satisfied: pillow==11.3.0 in d:\\onedrive\\dokumente\\github desktop\\nonsig-master-thesis\\nonsig_venv\\lib\\site-packages (from -r requirements.txt (line 64)) (11.3.0)\n",
      "Requirement already satisfied: platformdirs==4.3.8 in d:\\onedrive\\dokumente\\github desktop\\nonsig-master-thesis\\nonsig_venv\\lib\\site-packages (from -r requirements.txt (line 65)) (4.3.8)\n",
      "Requirement already satisfied: prompt_toolkit==3.0.51 in d:\\onedrive\\dokumente\\github desktop\\nonsig-master-thesis\\nonsig_venv\\lib\\site-packages (from -r requirements.txt (line 66)) (3.0.51)\n",
      "Requirement already satisfied: propcache==0.3.2 in d:\\onedrive\\dokumente\\github desktop\\nonsig-master-thesis\\nonsig_venv\\lib\\site-packages (from -r requirements.txt (line 67)) (0.3.2)\n",
      "Requirement already satisfied: protobuf==5.29.5 in d:\\onedrive\\dokumente\\github desktop\\nonsig-master-thesis\\nonsig_venv\\lib\\site-packages (from -r requirements.txt (line 68)) (5.29.5)\n",
      "Requirement already satisfied: psutil==7.0.0 in d:\\onedrive\\dokumente\\github desktop\\nonsig-master-thesis\\nonsig_venv\\lib\\site-packages (from -r requirements.txt (line 69)) (7.0.0)\n",
      "Requirement already satisfied: pure_eval==0.2.3 in d:\\onedrive\\dokumente\\github desktop\\nonsig-master-thesis\\nonsig_venv\\lib\\site-packages (from -r requirements.txt (line 70)) (0.2.3)\n",
      "Requirement already satisfied: pyarrow==20.0.0 in d:\\onedrive\\dokumente\\github desktop\\nonsig-master-thesis\\nonsig_venv\\lib\\site-packages (from -r requirements.txt (line 71)) (20.0.0)\n",
      "Requirement already satisfied: Pygments==2.19.2 in d:\\onedrive\\dokumente\\github desktop\\nonsig-master-thesis\\nonsig_venv\\lib\\site-packages (from -r requirements.txt (line 72)) (2.19.2)\n",
      "Requirement already satisfied: pyparsing==3.2.3 in d:\\onedrive\\dokumente\\github desktop\\nonsig-master-thesis\\nonsig_venv\\lib\\site-packages (from -r requirements.txt (line 73)) (3.2.3)\n",
      "Requirement already satisfied: python-dateutil==2.9.0.post0 in d:\\onedrive\\dokumente\\github desktop\\nonsig-master-thesis\\nonsig_venv\\lib\\site-packages (from -r requirements.txt (line 74)) (2.9.0.post0)\n",
      "Requirement already satisfied: pytz==2025.2 in d:\\onedrive\\dokumente\\github desktop\\nonsig-master-thesis\\nonsig_venv\\lib\\site-packages (from -r requirements.txt (line 75)) (2025.2)\n",
      "Requirement already satisfied: pywin32==310 in d:\\onedrive\\dokumente\\github desktop\\nonsig-master-thesis\\nonsig_venv\\lib\\site-packages (from -r requirements.txt (line 76)) (310)\n",
      "Requirement already satisfied: PyYAML==6.0.2 in d:\\onedrive\\dokumente\\github desktop\\nonsig-master-thesis\\nonsig_venv\\lib\\site-packages (from -r requirements.txt (line 77)) (6.0.2)\n",
      "Requirement already satisfied: pyzmq==27.0.0 in d:\\onedrive\\dokumente\\github desktop\\nonsig-master-thesis\\nonsig_venv\\lib\\site-packages (from -r requirements.txt (line 78)) (27.0.0)\n",
      "Requirement already satisfied: regex==2024.11.6 in d:\\onedrive\\dokumente\\github desktop\\nonsig-master-thesis\\nonsig_venv\\lib\\site-packages (from -r requirements.txt (line 79)) (2024.11.6)\n",
      "Requirement already satisfied: requests==2.32.4 in d:\\onedrive\\dokumente\\github desktop\\nonsig-master-thesis\\nonsig_venv\\lib\\site-packages (from -r requirements.txt (line 80)) (2.32.4)\n",
      "Requirement already satisfied: rich==14.0.0 in d:\\onedrive\\dokumente\\github desktop\\nonsig-master-thesis\\nonsig_venv\\lib\\site-packages (from -r requirements.txt (line 81)) (14.0.0)\n",
      "Requirement already satisfied: safetensors==0.5.3 in d:\\onedrive\\dokumente\\github desktop\\nonsig-master-thesis\\nonsig_venv\\lib\\site-packages (from -r requirements.txt (line 82)) (0.5.3)\n",
      "Requirement already satisfied: scikit-learn==1.7.0 in d:\\onedrive\\dokumente\\github desktop\\nonsig-master-thesis\\nonsig_venv\\lib\\site-packages (from -r requirements.txt (line 83)) (1.7.0)\n",
      "Requirement already satisfied: scipy==1.16.0 in d:\\onedrive\\dokumente\\github desktop\\nonsig-master-thesis\\nonsig_venv\\lib\\site-packages (from -r requirements.txt (line 84)) (1.16.0)\n",
      "Requirement already satisfied: seaborn==0.13.2 in d:\\onedrive\\dokumente\\github desktop\\nonsig-master-thesis\\nonsig_venv\\lib\\site-packages (from -r requirements.txt (line 85)) (0.13.2)\n",
      "Requirement already satisfied: setuptools==80.9.0 in d:\\onedrive\\dokumente\\github desktop\\nonsig-master-thesis\\nonsig_venv\\lib\\site-packages (from -r requirements.txt (line 86)) (80.9.0)\n",
      "Requirement already satisfied: six==1.17.0 in d:\\onedrive\\dokumente\\github desktop\\nonsig-master-thesis\\nonsig_venv\\lib\\site-packages (from -r requirements.txt (line 87)) (1.17.0)\n",
      "Requirement already satisfied: stack-data==0.6.3 in d:\\onedrive\\dokumente\\github desktop\\nonsig-master-thesis\\nonsig_venv\\lib\\site-packages (from -r requirements.txt (line 88)) (0.6.3)\n",
      "Requirement already satisfied: sympy==1.14.0 in d:\\onedrive\\dokumente\\github desktop\\nonsig-master-thesis\\nonsig_venv\\lib\\site-packages (from -r requirements.txt (line 89)) (1.14.0)\n",
      "Requirement already satisfied: tensorboard==2.19.0 in d:\\onedrive\\dokumente\\github desktop\\nonsig-master-thesis\\nonsig_venv\\lib\\site-packages (from -r requirements.txt (line 90)) (2.19.0)\n",
      "Requirement already satisfied: tensorboard-data-server==0.7.2 in d:\\onedrive\\dokumente\\github desktop\\nonsig-master-thesis\\nonsig_venv\\lib\\site-packages (from -r requirements.txt (line 91)) (0.7.2)\n",
      "Requirement already satisfied: tensorflow==2.19.0 in d:\\onedrive\\dokumente\\github desktop\\nonsig-master-thesis\\nonsig_venv\\lib\\site-packages (from -r requirements.txt (line 92)) (2.19.0)\n",
      "Requirement already satisfied: termcolor==3.1.0 in d:\\onedrive\\dokumente\\github desktop\\nonsig-master-thesis\\nonsig_venv\\lib\\site-packages (from -r requirements.txt (line 93)) (3.1.0)\n",
      "Requirement already satisfied: tf_keras==2.19.0 in d:\\onedrive\\dokumente\\github desktop\\nonsig-master-thesis\\nonsig_venv\\lib\\site-packages (from -r requirements.txt (line 94)) (2.19.0)\n",
      "Requirement already satisfied: threadpoolctl==3.6.0 in d:\\onedrive\\dokumente\\github desktop\\nonsig-master-thesis\\nonsig_venv\\lib\\site-packages (from -r requirements.txt (line 95)) (3.6.0)\n",
      "Requirement already satisfied: tokenizers==0.21.2 in d:\\onedrive\\dokumente\\github desktop\\nonsig-master-thesis\\nonsig_venv\\lib\\site-packages (from -r requirements.txt (line 96)) (0.21.2)\n",
      "Requirement already satisfied: tornado==6.5.1 in d:\\onedrive\\dokumente\\github desktop\\nonsig-master-thesis\\nonsig_venv\\lib\\site-packages (from -r requirements.txt (line 97)) (6.5.1)\n",
      "Requirement already satisfied: tqdm==4.67.1 in d:\\onedrive\\dokumente\\github desktop\\nonsig-master-thesis\\nonsig_venv\\lib\\site-packages (from -r requirements.txt (line 98)) (4.67.1)\n",
      "Requirement already satisfied: traitlets==5.14.3 in d:\\onedrive\\dokumente\\github desktop\\nonsig-master-thesis\\nonsig_venv\\lib\\site-packages (from -r requirements.txt (line 99)) (5.14.3)\n",
      "Requirement already satisfied: transformers==4.53.1 in d:\\onedrive\\dokumente\\github desktop\\nonsig-master-thesis\\nonsig_venv\\lib\\site-packages (from -r requirements.txt (line 100)) (4.53.1)\n",
      "Requirement already satisfied: typing_extensions==4.14.1 in d:\\onedrive\\dokumente\\github desktop\\nonsig-master-thesis\\nonsig_venv\\lib\\site-packages (from -r requirements.txt (line 101)) (4.14.1)\n",
      "Requirement already satisfied: tzdata==2025.2 in d:\\onedrive\\dokumente\\github desktop\\nonsig-master-thesis\\nonsig_venv\\lib\\site-packages (from -r requirements.txt (line 102)) (2025.2)\n",
      "Requirement already satisfied: urllib3==2.5.0 in d:\\onedrive\\dokumente\\github desktop\\nonsig-master-thesis\\nonsig_venv\\lib\\site-packages (from -r requirements.txt (line 103)) (2.5.0)\n",
      "Requirement already satisfied: wcwidth==0.2.13 in d:\\onedrive\\dokumente\\github desktop\\nonsig-master-thesis\\nonsig_venv\\lib\\site-packages (from -r requirements.txt (line 104)) (0.2.13)\n",
      "Requirement already satisfied: Werkzeug==3.1.3 in d:\\onedrive\\dokumente\\github desktop\\nonsig-master-thesis\\nonsig_venv\\lib\\site-packages (from -r requirements.txt (line 105)) (3.1.3)\n",
      "Requirement already satisfied: wheel==0.45.1 in d:\\onedrive\\dokumente\\github desktop\\nonsig-master-thesis\\nonsig_venv\\lib\\site-packages (from -r requirements.txt (line 106)) (0.45.1)\n",
      "Requirement already satisfied: wrapt==1.17.2 in d:\\onedrive\\dokumente\\github desktop\\nonsig-master-thesis\\nonsig_venv\\lib\\site-packages (from -r requirements.txt (line 107)) (1.17.2)\n",
      "Requirement already satisfied: xxhash==3.5.0 in d:\\onedrive\\dokumente\\github desktop\\nonsig-master-thesis\\nonsig_venv\\lib\\site-packages (from -r requirements.txt (line 108)) (3.5.0)\n",
      "Requirement already satisfied: yarl==1.20.1 in d:\\onedrive\\dokumente\\github desktop\\nonsig-master-thesis\\nonsig_venv\\lib\\site-packages (from -r requirements.txt (line 109)) (1.20.1)\n",
      "Requirement already satisfied: torch>=2.0.0 in d:\\onedrive\\dokumente\\github desktop\\nonsig-master-thesis\\nonsig_venv\\lib\\site-packages (from accelerate==1.8.1->-r requirements.txt (line 2)) (2.7.1+cu128)\n"
     ]
    },
    {
     "name": "stderr",
     "output_type": "stream",
     "text": [
      "\n",
      "[notice] A new release of pip is available: 25.0.1 -> 25.2\n",
      "[notice] To update, run: python.exe -m pip install --upgrade pip\n"
     ]
    },
    {
     "name": "stdout",
     "output_type": "stream",
     "text": [
      "Looking in links: https://download.pytorch.org/whl/torch/\n",
      "Requirement already satisfied: torch==2.7.1+cu128 in d:\\onedrive\\dokumente\\github desktop\\nonsig-master-thesis\\nonsig_venv\\lib\\site-packages (2.7.1+cu128)\n",
      "Requirement already satisfied: filelock in d:\\onedrive\\dokumente\\github desktop\\nonsig-master-thesis\\nonsig_venv\\lib\\site-packages (from torch==2.7.1+cu128) (3.18.0)\n",
      "Requirement already satisfied: typing-extensions>=4.10.0 in d:\\onedrive\\dokumente\\github desktop\\nonsig-master-thesis\\nonsig_venv\\lib\\site-packages (from torch==2.7.1+cu128) (4.14.1)\n",
      "Requirement already satisfied: sympy>=1.13.3 in d:\\onedrive\\dokumente\\github desktop\\nonsig-master-thesis\\nonsig_venv\\lib\\site-packages (from torch==2.7.1+cu128) (1.14.0)\n",
      "Requirement already satisfied: networkx in d:\\onedrive\\dokumente\\github desktop\\nonsig-master-thesis\\nonsig_venv\\lib\\site-packages (from torch==2.7.1+cu128) (3.5)\n",
      "Requirement already satisfied: jinja2 in d:\\onedrive\\dokumente\\github desktop\\nonsig-master-thesis\\nonsig_venv\\lib\\site-packages (from torch==2.7.1+cu128) (3.1.6)\n",
      "Requirement already satisfied: fsspec in d:\\onedrive\\dokumente\\github desktop\\nonsig-master-thesis\\nonsig_venv\\lib\\site-packages (from torch==2.7.1+cu128) (2025.3.0)\n",
      "Requirement already satisfied: setuptools in d:\\onedrive\\dokumente\\github desktop\\nonsig-master-thesis\\nonsig_venv\\lib\\site-packages (from torch==2.7.1+cu128) (80.9.0)\n",
      "Requirement already satisfied: mpmath<1.4,>=1.1.0 in d:\\onedrive\\dokumente\\github desktop\\nonsig-master-thesis\\nonsig_venv\\lib\\site-packages (from sympy>=1.13.3->torch==2.7.1+cu128) (1.3.0)\n",
      "Requirement already satisfied: MarkupSafe>=2.0 in d:\\onedrive\\dokumente\\github desktop\\nonsig-master-thesis\\nonsig_venv\\lib\\site-packages (from jinja2->torch==2.7.1+cu128) (3.0.2)\n"
     ]
    },
    {
     "name": "stderr",
     "output_type": "stream",
     "text": [
      "\n",
      "[notice] A new release of pip is available: 25.0.1 -> 25.2\n",
      "[notice] To update, run: python.exe -m pip install --upgrade pip\n"
     ]
    },
    {
     "name": "stdout",
     "output_type": "stream",
     "text": [
      "Looking in links: https://download.pytorch.org/whl/torchaudio/\n",
      "Requirement already satisfied: torchaudio==2.7.1+cu128 in d:\\onedrive\\dokumente\\github desktop\\nonsig-master-thesis\\nonsig_venv\\lib\\site-packages (2.7.1+cu128)\n",
      "Requirement already satisfied: torch==2.7.1+cu128 in d:\\onedrive\\dokumente\\github desktop\\nonsig-master-thesis\\nonsig_venv\\lib\\site-packages (from torchaudio==2.7.1+cu128) (2.7.1+cu128)\n",
      "Requirement already satisfied: filelock in d:\\onedrive\\dokumente\\github desktop\\nonsig-master-thesis\\nonsig_venv\\lib\\site-packages (from torch==2.7.1+cu128->torchaudio==2.7.1+cu128) (3.18.0)\n",
      "Requirement already satisfied: typing-extensions>=4.10.0 in d:\\onedrive\\dokumente\\github desktop\\nonsig-master-thesis\\nonsig_venv\\lib\\site-packages (from torch==2.7.1+cu128->torchaudio==2.7.1+cu128) (4.14.1)\n",
      "Requirement already satisfied: sympy>=1.13.3 in d:\\onedrive\\dokumente\\github desktop\\nonsig-master-thesis\\nonsig_venv\\lib\\site-packages (from torch==2.7.1+cu128->torchaudio==2.7.1+cu128) (1.14.0)\n",
      "Requirement already satisfied: networkx in d:\\onedrive\\dokumente\\github desktop\\nonsig-master-thesis\\nonsig_venv\\lib\\site-packages (from torch==2.7.1+cu128->torchaudio==2.7.1+cu128) (3.5)\n",
      "Requirement already satisfied: jinja2 in d:\\onedrive\\dokumente\\github desktop\\nonsig-master-thesis\\nonsig_venv\\lib\\site-packages (from torch==2.7.1+cu128->torchaudio==2.7.1+cu128) (3.1.6)\n",
      "Requirement already satisfied: fsspec in d:\\onedrive\\dokumente\\github desktop\\nonsig-master-thesis\\nonsig_venv\\lib\\site-packages (from torch==2.7.1+cu128->torchaudio==2.7.1+cu128) (2025.3.0)\n",
      "Requirement already satisfied: setuptools in d:\\onedrive\\dokumente\\github desktop\\nonsig-master-thesis\\nonsig_venv\\lib\\site-packages (from torch==2.7.1+cu128->torchaudio==2.7.1+cu128) (80.9.0)\n",
      "Requirement already satisfied: mpmath<1.4,>=1.1.0 in d:\\onedrive\\dokumente\\github desktop\\nonsig-master-thesis\\nonsig_venv\\lib\\site-packages (from sympy>=1.13.3->torch==2.7.1+cu128->torchaudio==2.7.1+cu128) (1.3.0)\n",
      "Requirement already satisfied: MarkupSafe>=2.0 in d:\\onedrive\\dokumente\\github desktop\\nonsig-master-thesis\\nonsig_venv\\lib\\site-packages (from jinja2->torch==2.7.1+cu128->torchaudio==2.7.1+cu128) (3.0.2)\n"
     ]
    },
    {
     "name": "stderr",
     "output_type": "stream",
     "text": [
      "\n",
      "[notice] A new release of pip is available: 25.0.1 -> 25.2\n",
      "[notice] To update, run: python.exe -m pip install --upgrade pip\n"
     ]
    },
    {
     "name": "stdout",
     "output_type": "stream",
     "text": [
      "Looking in links: https://download.pytorch.org/whl/torchvision/\n",
      "Requirement already satisfied: torchvision==0.22.1+cu128 in d:\\onedrive\\dokumente\\github desktop\\nonsig-master-thesis\\nonsig_venv\\lib\\site-packages (0.22.1+cu128)\n",
      "Requirement already satisfied: numpy in d:\\onedrive\\dokumente\\github desktop\\nonsig-master-thesis\\nonsig_venv\\lib\\site-packages (from torchvision==0.22.1+cu128) (2.1.3)\n",
      "Requirement already satisfied: torch==2.7.1+cu128 in d:\\onedrive\\dokumente\\github desktop\\nonsig-master-thesis\\nonsig_venv\\lib\\site-packages (from torchvision==0.22.1+cu128) (2.7.1+cu128)\n",
      "Requirement already satisfied: pillow!=8.3.*,>=5.3.0 in d:\\onedrive\\dokumente\\github desktop\\nonsig-master-thesis\\nonsig_venv\\lib\\site-packages (from torchvision==0.22.1+cu128) (11.3.0)\n",
      "Requirement already satisfied: filelock in d:\\onedrive\\dokumente\\github desktop\\nonsig-master-thesis\\nonsig_venv\\lib\\site-packages (from torch==2.7.1+cu128->torchvision==0.22.1+cu128) (3.18.0)\n",
      "Requirement already satisfied: typing-extensions>=4.10.0 in d:\\onedrive\\dokumente\\github desktop\\nonsig-master-thesis\\nonsig_venv\\lib\\site-packages (from torch==2.7.1+cu128->torchvision==0.22.1+cu128) (4.14.1)\n",
      "Requirement already satisfied: sympy>=1.13.3 in d:\\onedrive\\dokumente\\github desktop\\nonsig-master-thesis\\nonsig_venv\\lib\\site-packages (from torch==2.7.1+cu128->torchvision==0.22.1+cu128) (1.14.0)\n",
      "Requirement already satisfied: networkx in d:\\onedrive\\dokumente\\github desktop\\nonsig-master-thesis\\nonsig_venv\\lib\\site-packages (from torch==2.7.1+cu128->torchvision==0.22.1+cu128) (3.5)\n",
      "Requirement already satisfied: jinja2 in d:\\onedrive\\dokumente\\github desktop\\nonsig-master-thesis\\nonsig_venv\\lib\\site-packages (from torch==2.7.1+cu128->torchvision==0.22.1+cu128) (3.1.6)\n",
      "Requirement already satisfied: fsspec in d:\\onedrive\\dokumente\\github desktop\\nonsig-master-thesis\\nonsig_venv\\lib\\site-packages (from torch==2.7.1+cu128->torchvision==0.22.1+cu128) (2025.3.0)\n",
      "Requirement already satisfied: setuptools in d:\\onedrive\\dokumente\\github desktop\\nonsig-master-thesis\\nonsig_venv\\lib\\site-packages (from torch==2.7.1+cu128->torchvision==0.22.1+cu128) (80.9.0)\n",
      "Requirement already satisfied: mpmath<1.4,>=1.1.0 in d:\\onedrive\\dokumente\\github desktop\\nonsig-master-thesis\\nonsig_venv\\lib\\site-packages (from sympy>=1.13.3->torch==2.7.1+cu128->torchvision==0.22.1+cu128) (1.3.0)\n",
      "Requirement already satisfied: MarkupSafe>=2.0 in d:\\onedrive\\dokumente\\github desktop\\nonsig-master-thesis\\nonsig_venv\\lib\\site-packages (from jinja2->torch==2.7.1+cu128->torchvision==0.22.1+cu128) (3.0.2)\n"
     ]
    },
    {
     "name": "stderr",
     "output_type": "stream",
     "text": [
      "\n",
      "[notice] A new release of pip is available: 25.0.1 -> 25.2\n",
      "[notice] To update, run: python.exe -m pip install --upgrade pip\n"
     ]
    }
   ],
   "source": [
    "! pip install -r requirements.txt\n",
    "\n",
    "# If you work with GPU-support (CUDA 12.8):\n",
    "! pip install torch==2.7.1+cu128 -f https://download.pytorch.org/whl/torch/\n",
    "! pip install torchaudio==2.7.1+cu128 -f https://download.pytorch.org/whl/torchaudio/\n",
    "! pip install torchvision==0.22.1+cu128 -f https://download.pytorch.org/whl/torchvision/\n",
    "\n",
    "# If you only work with CPU-support:\n",
    "# ! pip install torch==2.7.1\n",
    "# ! pip install torchaudio==2.7.1\n",
    "# ! pip install torchvision==0.22.1"
   ]
  },
  {
   "cell_type": "markdown",
   "id": "6d5fa995",
   "metadata": {},
   "source": [
    "### 0.2 GPU setup"
   ]
  },
  {
   "cell_type": "code",
   "execution_count": 464,
   "id": "a3336508",
   "metadata": {},
   "outputs": [
    {
     "name": "stdout",
     "output_type": "stream",
     "text": [
      "True\n",
      "0\n",
      "NVIDIA GeForce RTX 3070\n"
     ]
    }
   ],
   "source": [
    "# Check if CUDA is available and print the current device's name\n",
    "import torch\n",
    "print(torch.cuda.is_available())\n",
    "if torch.cuda.is_available():\n",
    "    print(torch.cuda.current_device())\n",
    "    print(torch.cuda.get_device_name(0))"
   ]
  },
  {
   "cell_type": "markdown",
   "id": "19253634",
   "metadata": {},
   "source": [
    "## 1 Configuration"
   ]
  },
  {
   "cell_type": "code",
   "execution_count": 465,
   "id": "ff026edd",
   "metadata": {},
   "outputs": [],
   "source": [
    "# Data variables\n",
    "data_path = \"../../data/training_data/labeled/labeled_data.xlsx\" # path to the Excel file with the labeled data\n",
    "results_path = \"../../data/model_performance\" # path to where the results should be stored\n",
    "text_column_name = \"expanded\" # name of the column containing the text to classify\n",
    "label_column_name = \"label\" # name of the column containing the labels (0 = correct or 1 = incorrect)\n",
    "num_labels = 2 # binary classification (see above)\n",
    "\n",
    "# Model configuration\n",
    "model_name = \"bert-base-uncased\" # \"bert-base-uncased\" for standard BERT; \"allenai/scibert_scivocab_uncased\" for SciBERT and \"microsoft/BiomedNLP-PubMedBERT-base-uncased-abstract\" for PubMedBERT\n",
    "test_size = 0.2 # ratio of the dataset to be used for testing\n",
    "validation_size = 0.1 # ration of the training set (80%) to be used for validation (model evaluation after each epoch)\n",
    "max_length = 256 # maximum length of the input sequences for BERT\n",
    "num_epochs = 16 # number of epochs for training\n",
    "batch_size = 16 # batch size for training and evaluation\n",
    "learning_rate = 2e-5 # learning rate for the optimizer\n",
    "weight_decay = 0.01 # weight decay for the optimizer\n",
    "early_stopping_patience = 2 # number of epochs with no improvement after which training will be stopped\n",
    "save_checkpoints = False # if 'FALSE', deletes all saved checkpoints at the end of the script\n",
    "\n",
    "# Seed for reproducibility\n",
    "import random\n",
    "import numpy as np\n",
    "from transformers import set_seed\n",
    "import os\n",
    "\n",
    "seed = 42\n",
    "\n",
    "os.environ['PYTHONHASHSEED'] = str(seed)\n",
    "random.seed(seed)\n",
    "np.random.seed(seed)\n",
    "torch.manual_seed(seed)\n",
    "torch.cuda.manual_seed_all(seed)\n",
    "set_seed(seed)\n",
    "torch.backends.cudnn.deterministic = True\n",
    "torch.backends.cudnn.benchmark = False"
   ]
  },
  {
   "cell_type": "markdown",
   "id": "050e4828",
   "metadata": {},
   "source": [
    "## 2 Read and prepare dataset"
   ]
  },
  {
   "cell_type": "code",
   "execution_count": 466,
   "id": "1789fc47",
   "metadata": {},
   "outputs": [
    {
     "name": "stdout",
     "output_type": "stream",
     "text": [
      "Dataset label distribution:\n",
      "label\n",
      "1    353\n",
      "0    353\n",
      "Name: count, dtype: int64\n"
     ]
    }
   ],
   "source": [
    "import pandas as pd\n",
    "from sklearn.utils import resample\n",
    "\n",
    "# Load the data\n",
    "df = pd.read_excel(data_path)\n",
    "\n",
    "# Remove all columns but 'expanded' and 'label_strict'\n",
    "df = df.drop(columns=['statement_id', 'section', 'header','div', 'p', 's', 'article_id', 'p_comp', 'p_value', 'context', 'text', 'label_keywords', 'label_comment'])\n",
    "\n",
    "# Change column names\n",
    "df = df.rename(columns={text_column_name: 'text', label_column_name: 'label'})\n",
    "\n",
    "# Remove rows where 'label' is NA\n",
    "df = df[df['label'].notna()]\n",
    "\n",
    "# Remove rows where 'label' is -99\n",
    "df = df[df['label'] != -99]\n",
    "\n",
    "# Convert label column to int (required for classification)\n",
    "df['label'] = df['label'].astype(int)\n",
    "\n",
    "# Balance labels via undersampling (generalized)\n",
    "label_counts = df['label'].value_counts()  # Get counts of each label\n",
    "minority_label = label_counts.idxmin() # Get the minority label\n",
    "majority_label = label_counts.idxmax() # Get the majority label\n",
    "\n",
    "df_minority = df[df['label'] == minority_label]\n",
    "df_majority = df[df['label'] == majority_label]\n",
    "\n",
    "df_majority_downsampled = resample( # Downsample majority label\n",
    "    df_majority,\n",
    "    replace=False,\n",
    "    n_samples=len(df_minority),\n",
    "    random_state=seed\n",
    ")\n",
    "\n",
    "df = pd.concat([df_majority_downsampled, df_minority]).sample(frac=1, random_state=seed).reset_index(drop=True)\n",
    "\n",
    "# Check label balance in data\n",
    "print(\"Dataset label distribution:\")\n",
    "print(df['label'].value_counts())"
   ]
  },
  {
   "cell_type": "markdown",
   "id": "c2e53af8",
   "metadata": {},
   "source": [
    "### 2.1 Create train & validation set and test set"
   ]
  },
  {
   "cell_type": "code",
   "execution_count": 467,
   "id": "2e797a35",
   "metadata": {},
   "outputs": [],
   "source": [
    "from sklearn.model_selection import train_test_split\n",
    "\n",
    "# Put 20 % of the data into a test set, for evaluation at the end\n",
    "train_df, test_df = train_test_split(df, test_size=test_size, stratify=df['label'], random_state=seed)\n",
    "\n",
    "# Put 10 % of the training data into a test set, for evaluation at the end\n",
    "train_df, validation_df = train_test_split(train_df, test_size=validation_size, stratify=train_df['label'], random_state=seed)\n",
    "\n",
    "# Convert to Huggingface dataset\n",
    "from datasets import Dataset\n",
    "train_dataset = Dataset.from_pandas(train_df)\n",
    "validation_dataset = Dataset.from_pandas(validation_df)\n",
    "test_dataset = Dataset.from_pandas(test_df)"
   ]
  },
  {
   "cell_type": "markdown",
   "id": "965b9685",
   "metadata": {},
   "source": [
    "#### 2.1.1 Label balance in all three datasets"
   ]
  },
  {
   "cell_type": "code",
   "execution_count": 468,
   "id": "c3ca483d",
   "metadata": {},
   "outputs": [
    {
     "name": "stdout",
     "output_type": "stream",
     "text": [
      "Training label distribution:\n",
      "label\n",
      "1    254\n",
      "0    253\n",
      "Name: count, dtype: int64\n",
      "Validation label distribution:\n",
      "label\n",
      "0    29\n",
      "1    28\n",
      "Name: count, dtype: int64\n",
      "Test label distribution:\n",
      "label\n",
      "1    71\n",
      "0    71\n",
      "Name: count, dtype: int64\n"
     ]
    }
   ],
   "source": [
    "# training set\n",
    "print(\"Training label distribution:\")\n",
    "print(train_df['label'].value_counts())\n",
    "\n",
    "# validation set\n",
    "print(\"Validation label distribution:\")\n",
    "print(validation_df['label'].value_counts())\n",
    "\n",
    "# test set\n",
    "print(\"Test label distribution:\")\n",
    "print(test_df['label'].value_counts())"
   ]
  },
  {
   "cell_type": "markdown",
   "id": "7ada89b4",
   "metadata": {},
   "source": [
    "### 2.2 Tokenize 'text'"
   ]
  },
  {
   "cell_type": "code",
   "execution_count": 469,
   "id": "4f669e54",
   "metadata": {},
   "outputs": [
    {
     "name": "stderr",
     "output_type": "stream",
     "text": [
      "Map: 100%|██████████| 507/507 [00:00<00:00, 7936.55 examples/s]\n",
      "Map: 100%|██████████| 57/57 [00:00<00:00, 6031.47 examples/s]\n",
      "Map: 100%|██████████| 142/142 [00:00<00:00, 7422.62 examples/s]\n"
     ]
    }
   ],
   "source": [
    "from transformers import AutoTokenizer\n",
    "\n",
    "tokenizer = AutoTokenizer.from_pretrained(model_name)\n",
    "\n",
    "def tokenize_for_bert(examples):\n",
    "    return tokenizer(examples[\"text\"], truncation=True, padding=True, max_length=max_length)\n",
    "\n",
    "tokenized_train = train_dataset.map(tokenize_for_bert, batched=True)\n",
    "\n",
    "tokenized_validation = validation_dataset.map(tokenize_for_bert, batched=True)\n",
    "\n",
    "tokenized_test = test_dataset.map(tokenize_for_bert, batched=True)"
   ]
  },
  {
   "cell_type": "markdown",
   "id": "8f2bf57e",
   "metadata": {},
   "source": [
    "## 3 Train BERT"
   ]
  },
  {
   "cell_type": "markdown",
   "id": "ef0e7023",
   "metadata": {},
   "source": [
    "### 3.1 Initializing model"
   ]
  },
  {
   "cell_type": "code",
   "execution_count": 470,
   "id": "d32e1ea4",
   "metadata": {},
   "outputs": [
    {
     "name": "stderr",
     "output_type": "stream",
     "text": [
      "Some weights of BertForSequenceClassification were not initialized from the model checkpoint at bert-base-uncased and are newly initialized: ['classifier.bias', 'classifier.weight']\n",
      "You should probably TRAIN this model on a down-stream task to be able to use it for predictions and inference.\n"
     ]
    }
   ],
   "source": [
    "from transformers import AutoModelForSequenceClassification\n",
    "\n",
    "model = AutoModelForSequenceClassification.from_pretrained(model_name, num_labels=num_labels)"
   ]
  },
  {
   "cell_type": "markdown",
   "id": "df611f60",
   "metadata": {},
   "source": [
    "### 3.2 Training regular BERT"
   ]
  },
  {
   "cell_type": "code",
   "execution_count": 471,
   "id": "7b330cbd",
   "metadata": {},
   "outputs": [
    {
     "name": "stderr",
     "output_type": "stream",
     "text": [
      "C:\\Users\\raphi\\AppData\\Local\\Temp\\ipykernel_9460\\1547246147.py:44: FutureWarning: `tokenizer` is deprecated and will be removed in version 5.0.0 for `Trainer.__init__`. Use `processing_class` instead.\n",
      "  trainer = Trainer(\n"
     ]
    }
   ],
   "source": [
    "# Standard Setup for training a model with Huggingface Transformers\n",
    "from sklearn.metrics import accuracy_score, precision_recall_fscore_support\n",
    "from transformers import EarlyStoppingCallback\n",
    "from transformers import DataCollatorWithPadding\n",
    "from transformers import TrainingArguments, Trainer\n",
    "import evaluate\n",
    "import numpy as np\n",
    "\n",
    "data_collator = DataCollatorWithPadding(tokenizer=tokenizer)\n",
    "\n",
    "metric = evaluate.load(\"accuracy\")\n",
    "\n",
    "def compute_metrics(eval_pred):\n",
    "    logits, labels = eval_pred\n",
    "    preds = np.argmax(logits, axis=-1)\n",
    "\n",
    "    acc = accuracy_score(labels, preds)\n",
    "    precision, recall, f1, _ = precision_recall_fscore_support(labels, preds, average=\"binary\")\n",
    "\n",
    "    return {\n",
    "        \"accuracy\": acc,\n",
    "        \"precision\": precision,\n",
    "        \"recall\": recall,\n",
    "        \"f1\": f1\n",
    "    }\n",
    "\n",
    "training_args = TrainingArguments(\n",
    "    output_dir=\"./results/BERT\",\n",
    "    learning_rate=learning_rate,\n",
    "    per_device_train_batch_size=batch_size,\n",
    "    per_device_eval_batch_size=batch_size,\n",
    "    num_train_epochs=num_epochs,\n",
    "    weight_decay=weight_decay,\n",
    "    logging_strategy=\"epoch\",\n",
    "    report_to=\"none\",\n",
    "    save_strategy=\"epoch\",\n",
    "    eval_strategy=\"epoch\",\n",
    "    load_best_model_at_end=True,\n",
    "    metric_for_best_model = \"eval_loss\",\n",
    "    seed=seed\n",
    ")\n",
    "\n",
    "# Model specific setup\n",
    "trainer = Trainer(\n",
    "    model=model,\n",
    "    args=training_args,\n",
    "    train_dataset=tokenized_train,\n",
    "    eval_dataset=tokenized_validation,\n",
    "    tokenizer=tokenizer,\n",
    "    data_collator=data_collator,\n",
    "    compute_metrics=compute_metrics,\n",
    "    callbacks=[EarlyStoppingCallback(early_stopping_patience=early_stopping_patience)]  # Stop training if no improvement after 2 epochs\n",
    ")"
   ]
  },
  {
   "cell_type": "code",
   "execution_count": 472,
   "id": "a0ab3c9e",
   "metadata": {},
   "outputs": [
    {
     "data": {
      "text/html": [
       "\n",
       "    <div>\n",
       "      \n",
       "      <progress value='192' max='512' style='width:300px; height:20px; vertical-align: middle;'></progress>\n",
       "      [192/512 01:39 < 02:47, 1.91 it/s, Epoch 6/16]\n",
       "    </div>\n",
       "    <table border=\"1\" class=\"dataframe\">\n",
       "  <thead>\n",
       " <tr style=\"text-align: left;\">\n",
       "      <th>Epoch</th>\n",
       "      <th>Training Loss</th>\n",
       "      <th>Validation Loss</th>\n",
       "      <th>Accuracy</th>\n",
       "      <th>Precision</th>\n",
       "      <th>Recall</th>\n",
       "      <th>F1</th>\n",
       "    </tr>\n",
       "  </thead>\n",
       "  <tbody>\n",
       "    <tr>\n",
       "      <td>1</td>\n",
       "      <td>0.711800</td>\n",
       "      <td>0.682751</td>\n",
       "      <td>0.578947</td>\n",
       "      <td>0.700000</td>\n",
       "      <td>0.250000</td>\n",
       "      <td>0.368421</td>\n",
       "    </tr>\n",
       "    <tr>\n",
       "      <td>2</td>\n",
       "      <td>0.627400</td>\n",
       "      <td>0.570135</td>\n",
       "      <td>0.771930</td>\n",
       "      <td>0.941176</td>\n",
       "      <td>0.571429</td>\n",
       "      <td>0.711111</td>\n",
       "    </tr>\n",
       "    <tr>\n",
       "      <td>3</td>\n",
       "      <td>0.362800</td>\n",
       "      <td>0.289535</td>\n",
       "      <td>0.912281</td>\n",
       "      <td>1.000000</td>\n",
       "      <td>0.821429</td>\n",
       "      <td>0.901961</td>\n",
       "    </tr>\n",
       "    <tr>\n",
       "      <td>4</td>\n",
       "      <td>0.163300</td>\n",
       "      <td>0.204155</td>\n",
       "      <td>0.947368</td>\n",
       "      <td>0.962963</td>\n",
       "      <td>0.928571</td>\n",
       "      <td>0.945455</td>\n",
       "    </tr>\n",
       "    <tr>\n",
       "      <td>5</td>\n",
       "      <td>0.058400</td>\n",
       "      <td>0.228635</td>\n",
       "      <td>0.947368</td>\n",
       "      <td>1.000000</td>\n",
       "      <td>0.892857</td>\n",
       "      <td>0.943396</td>\n",
       "    </tr>\n",
       "    <tr>\n",
       "      <td>6</td>\n",
       "      <td>0.062600</td>\n",
       "      <td>0.257681</td>\n",
       "      <td>0.929825</td>\n",
       "      <td>0.961538</td>\n",
       "      <td>0.892857</td>\n",
       "      <td>0.925926</td>\n",
       "    </tr>\n",
       "  </tbody>\n",
       "</table><p>"
      ],
      "text/plain": [
       "<IPython.core.display.HTML object>"
      ]
     },
     "metadata": {},
     "output_type": "display_data"
    },
    {
     "data": {
      "text/plain": [
       "TrainOutput(global_step=192, training_loss=0.33104497008025646, metrics={'train_runtime': 100.1126, 'train_samples_per_second': 81.029, 'train_steps_per_second': 5.114, 'total_flos': 400191915202560.0, 'train_loss': 0.33104497008025646, 'epoch': 6.0})"
      ]
     },
     "execution_count": 472,
     "metadata": {},
     "output_type": "execute_result"
    }
   ],
   "source": [
    "trainer.train()"
   ]
  },
  {
   "cell_type": "code",
   "execution_count": 473,
   "id": "2062839c",
   "metadata": {},
   "outputs": [
    {
     "data": {
      "image/png": "[encoded data removed]",
      "text/plain": [
       "<Figure size 600x500 with 1 Axes>"
      ]
     },
     "metadata": {},
     "output_type": "display_data"
    }
   ],
   "source": [
    "# Visualize loss curves\n",
    "import matplotlib.pyplot as plt\n",
    "\n",
    "# Extract training log history\n",
    "logs = pd.DataFrame(trainer.state.log_history)\n",
    "\n",
    "# Filter for loss values\n",
    "loss_logs = logs[logs[\"loss\"].notnull()][[\"epoch\", \"loss\"]]\n",
    "eval_logs = logs[logs[\"eval_loss\"].notnull()][[\"epoch\", \"eval_loss\"]]\n",
    "\n",
    "# Plotting\n",
    "plt.figure(figsize=(6, 5))\n",
    "plt.plot(loss_logs[\"epoch\"], loss_logs[\"loss\"], label=\"Training Loss\")\n",
    "plt.plot(eval_logs[\"epoch\"], eval_logs[\"eval_loss\"], label=\"Validation Loss\")\n",
    "plt.xlabel(\"Epoch\", fontsize=16)\n",
    "plt.ylabel(\"Loss\", fontsize=16)\n",
    "plt.title(\"BERT\", fontsize=18, fontweight='bold')\n",
    "plt.ylim(0, 0.8)\n",
    "plt.legend(fontsize=14)\n",
    "plt.xticks(fontsize=14)\n",
    "plt.yticks(fontsize=14)\n",
    "plt.grid(True)\n",
    "plt.tight_layout()\n",
    "\n",
    "# Save the figure\n",
    "from pathlib import Path\n",
    "plt.savefig((save_path := Path(results_path) / \"loss_curve\").mkdir(parents=True, exist_ok=True) or save_path / \"BERT.pdf\", dpi=300, bbox_inches='tight')\n",
    "\n",
    "plt.show()"
   ]
  },
  {
   "cell_type": "markdown",
   "id": "86a63e73",
   "metadata": {},
   "source": [
    "#### 3.2.1 Save last model"
   ]
  },
  {
   "cell_type": "code",
   "execution_count": 474,
   "id": "ab2a5e7a",
   "metadata": {},
   "outputs": [
    {
     "data": {
      "text/plain": [
       "('./best_model/BERT\\\\tokenizer_config.json',\n",
       " './best_model/BERT\\\\special_tokens_map.json',\n",
       " './best_model/BERT\\\\vocab.txt',\n",
       " './best_model/BERT\\\\added_tokens.json',\n",
       " './best_model/BERT\\\\tokenizer.json')"
      ]
     },
     "execution_count": 474,
     "metadata": {},
     "output_type": "execute_result"
    }
   ],
   "source": [
    "# Save the best model and tokenizer\n",
    "trainer.save_model(\"./best_model/BERT\")\n",
    "tokenizer.save_pretrained(\"./best_model/BERT\")"
   ]
  },
  {
   "cell_type": "markdown",
   "id": "63996c7d",
   "metadata": {},
   "source": [
    "### 3.3 Evaluate model"
   ]
  },
  {
   "cell_type": "markdown",
   "id": "42526e66",
   "metadata": {},
   "source": [
    "#### 3.3.1 Predict training data"
   ]
  },
  {
   "cell_type": "code",
   "execution_count": 475,
   "id": "1016cf86",
   "metadata": {},
   "outputs": [
    {
     "data": {
      "text/html": [],
      "text/plain": [
       "<IPython.core.display.HTML object>"
      ]
     },
     "metadata": {},
     "output_type": "display_data"
    },
    {
     "name": "stdout",
     "output_type": "stream",
     "text": [
      "Training Classification Report:\n",
      "              precision    recall  f1-score   support\n",
      "\n",
      "           0       0.98      0.99      0.99       253\n",
      "           1       0.99      0.98      0.99       254\n",
      "\n",
      "    accuracy                           0.99       507\n",
      "   macro avg       0.99      0.99      0.99       507\n",
      "weighted avg       0.99      0.99      0.99       507\n",
      "\n"
     ]
    }
   ],
   "source": [
    "from sklearn.metrics import classification_report\n",
    "\n",
    "train_preds = trainer.predict(tokenized_train)\n",
    "train_preds = np.argmax(train_preds.predictions, axis=1)\n",
    "GT_train = train_df['label'].tolist()\n",
    "print(\"Training Classification Report:\")\n",
    "print(classification_report(GT_train, train_preds))"
   ]
  },
  {
   "cell_type": "markdown",
   "id": "ee34e701",
   "metadata": {},
   "source": [
    "#### 3.3.2 Predict test data"
   ]
  },
  {
   "cell_type": "code",
   "execution_count": 476,
   "id": "4ebd28bf",
   "metadata": {},
   "outputs": [],
   "source": [
    "# In case you want to change the threshold for classification, you can do so here:\n",
    "# threshold = 0.5\n",
    "\n"
   ]
  },
  {
   "cell_type": "code",
   "execution_count": 477,
   "id": "c1671518",
   "metadata": {},
   "outputs": [
    {
     "data": {
      "text/html": [],
      "text/plain": [
       "<IPython.core.display.HTML object>"
      ]
     },
     "metadata": {},
     "output_type": "display_data"
    },
    {
     "name": "stdout",
     "output_type": "stream",
     "text": [
      "Test Classification Report:\n",
      "              precision    recall  f1-score   support\n",
      "\n",
      "           0       0.86      0.97      0.91        71\n",
      "           1       0.97      0.85      0.90        71\n",
      "\n",
      "    accuracy                           0.91       142\n",
      "   macro avg       0.92      0.91      0.91       142\n",
      "weighted avg       0.92      0.91      0.91       142\n",
      "\n"
     ]
    }
   ],
   "source": [
    "test_preds = trainer.predict(tokenized_test)\n",
    "test_preds = np.argmax(test_preds.predictions, axis=1)\n",
    "GT_test = test_df['label'].tolist()\n",
    "print(\"Test Classification Report:\")\n",
    "print(classification_report(GT_test, test_preds))"
   ]
  },
  {
   "cell_type": "code",
   "execution_count": 478,
   "id": "75e5849a",
   "metadata": {},
   "outputs": [],
   "source": [
    "# Save test results in 'classification_report.csv'\n",
    "\n",
    "# Get classification report as a dict\n",
    "report_dict = classification_report(GT_test, test_preds, output_dict=True)\n",
    "\n",
    "# Convert to DataFrame\n",
    "report_df = pd.DataFrame(report_dict).transpose()\n",
    "\n",
    "# Optionally reset index for nicer format\n",
    "report_df = report_df.reset_index().rename(columns={\"index\": \"class\"})\n",
    "\n",
    "# Save to CSV if you want\n",
    "from pathlib import Path\n",
    "report_df.to_csv((report_path := Path(results_path) / \"classification_report\").mkdir(parents=True, exist_ok=True) or report_path / \"BERT.csv\", index=False)"
   ]
  },
  {
   "cell_type": "markdown",
   "id": "e2830b7b",
   "metadata": {},
   "source": [
    "**Confusion-Matrix for test data:**"
   ]
  },
  {
   "cell_type": "code",
   "execution_count": 479,
   "id": "bc29093b",
   "metadata": {},
   "outputs": [
    {
     "data": {
      "image/png": "[encoded data removed]",
      "text/plain": [
       "<Figure size 600x500 with 2 Axes>"
      ]
     },
     "metadata": {},
     "output_type": "display_data"
    }
   ],
   "source": [
    "import seaborn as sns\n",
    "from sklearn.metrics import confusion_matrix\n",
    "import matplotlib.pyplot as plt\n",
    "\n",
    "# Create confusion matrix\n",
    "conf_matrix = confusion_matrix(GT_test, test_preds)\n",
    "\n",
    "plt.figure(figsize=(6, 5))\n",
    "heatmap = sns.heatmap(\n",
    "    conf_matrix,\n",
    "    annot=True,\n",
    "    fmt='d',\n",
    "    cmap='Blues',\n",
    "    vmin=0,\n",
    "    vmax=70,\n",
    "    xticklabels=[\"correct\", \"incorrect\"],\n",
    "    yticklabels=[\"correct\", \"incorrect\"],\n",
    "    annot_kws={\"size\": 16},                     # Font size inside cells\n",
    "    cbar_kws={\"label\": \"Count\"}                 # Colorbar label\n",
    ")\n",
    "\n",
    "# Increase font size for colorbar label and ticks\n",
    "colorbar = heatmap.collections[0].colorbar\n",
    "colorbar.ax.tick_params(labelsize=14)           # Tick labels on colorbar\n",
    "colorbar.set_label(\"Count\", size=16)            # Colorbar label font size\n",
    "\n",
    "# Axis labels and title\n",
    "plt.xlabel('Predicted Label', fontsize=16)\n",
    "plt.ylabel('True Label', fontsize=16)\n",
    "plt.title('BERT', fontsize=18, fontweight='bold')\n",
    "plt.xticks(fontsize=14)\n",
    "plt.yticks(fontsize=14)\n",
    "\n",
    "plt.tight_layout()\n",
    "\n",
    "# Save the figure\n",
    "plt.savefig((save_path := Path(results_path) / \"confusion_matrix\").mkdir(parents=True, exist_ok=True) or save_path / \"BERT.pdf\", dpi=300, bbox_inches='tight')\n",
    "\n",
    "plt.show()"
   ]
  },
  {
   "cell_type": "markdown",
   "id": "3b67a1d1",
   "metadata": {},
   "source": [
    "**F1 Score**"
   ]
  },
  {
   "cell_type": "code",
   "execution_count": 480,
   "id": "f2714bc6",
   "metadata": {},
   "outputs": [
    {
     "name": "stdout",
     "output_type": "stream",
     "text": [
      "Test F1 score: 0.902\n"
     ]
    }
   ],
   "source": [
    "from sklearn.metrics import f1_score\n",
    "print(f\"Test F1 score: {f1_score(GT_test, test_preds):.3f}\")"
   ]
  },
  {
   "cell_type": "markdown",
   "id": "12e9b778",
   "metadata": {},
   "source": [
    "#### 3.3.4 List of statements per category (TP, TN, FP, FN)"
   ]
  },
  {
   "cell_type": "code",
   "execution_count": 481,
   "id": "07366994",
   "metadata": {},
   "outputs": [],
   "source": [
    "# Get ground truth and predictions for test set\n",
    "y_true = test_df['label'].tolist()\n",
    "y_pred = test_preds\n",
    "\n",
    "# True Positives: predicted 1, actual 1\n",
    "true_positives = test_df[(test_df['label'] == 1) & (y_pred == 1)]\n",
    "\n",
    "# True Negatives: predicted 0, actual 0\n",
    "true_negatives = test_df[(test_df['label'] == 0) & (y_pred == 0)]\n",
    "\n",
    "# False Positives: predicted 1, actual 0\n",
    "false_positives = test_df[(test_df['label'] == 0) & (y_pred == 1)]\n",
    "\n",
    "# False Negatives: predicted 0, actual 1\n",
    "false_negatives = test_df[(test_df['label'] == 1) & (y_pred == 0)]\n",
    "\n",
    "# Function to print statements\n",
    "import pandas as pd\n",
    "from IPython.display import display\n",
    "\n",
    "def display_statements(df, title):\n",
    "    if not df.empty:\n",
    "        print(f\"\\n{title} (count: {len(df)})\")\n",
    "        display(df[['text']].reset_index(drop=True))\n",
    "    else:\n",
    "        print(f\"\\n{title}: None\")"
   ]
  },
  {
   "cell_type": "code",
   "execution_count": 482,
   "id": "2433dc88",
   "metadata": {},
   "outputs": [
    {
     "name": "stdout",
     "output_type": "stream",
     "text": [
      "\n",
      "True Positives (predicted 1, actual 1) (count: 60)\n"
     ]
    },
    {
     "data": {
      "text/html": [
       "<div>\n",
       "<style scoped>\n",
       "    .dataframe tbody tr th:only-of-type {\n",
       "        vertical-align: middle;\n",
       "    }\n",
       "\n",
       "    .dataframe tbody tr th {\n",
       "        vertical-align: top;\n",
       "    }\n",
       "\n",
       "    .dataframe thead th {\n",
       "        text-align: right;\n",
       "    }\n",
       "</style>\n",
       "<table border=\"1\" class=\"dataframe\">\n",
       "  <thead>\n",
       "    <tr style=\"text-align: right;\">\n",
       "      <th></th>\n",
       "      <th>text</th>\n",
       "    </tr>\n",
       "  </thead>\n",
       "  <tbody>\n",
       "    <tr>\n",
       "      <th>0</th>\n",
       "      <td>There were no differences in participant propo...</td>\n",
       "    </tr>\n",
       "    <tr>\n",
       "      <th>1</th>\n",
       "      <td>Conversely, valence did not moderate the relat...</td>\n",
       "    </tr>\n",
       "    <tr>\n",
       "      <th>2</th>\n",
       "      <td>No main effects or interactions with time were...</td>\n",
       "    </tr>\n",
       "    <tr>\n",
       "      <th>3</th>\n",
       "      <td>Including the independent predictors in Step 1...</td>\n",
       "    </tr>\n",
       "    <tr>\n",
       "      <th>4</th>\n",
       "      <td>These effects were not significantly correlate...</td>\n",
       "    </tr>\n",
       "    <tr>\n",
       "      <th>5</th>\n",
       "      <td>Specifically, adults' area-weighted fixation c...</td>\n",
       "    </tr>\n",
       "    <tr>\n",
       "      <th>6</th>\n",
       "      <td>During habituation, the D1 component did not d...</td>\n",
       "    </tr>\n",
       "    <tr>\n",
       "      <th>7</th>\n",
       "      <td>There was no main effect of age on unattended ...</td>\n",
       "    </tr>\n",
       "    <tr>\n",
       "      <th>8</th>\n",
       "      <td>The number of observed individuals had no effe...</td>\n",
       "    </tr>\n",
       "    <tr>\n",
       "      <th>9</th>\n",
       "      <td>There was no correlation between CAPS score an...</td>\n",
       "    </tr>\n",
       "    <tr>\n",
       "      <th>10</th>\n",
       "      <td>There was no difference between congruent and ...</td>\n",
       "    </tr>\n",
       "    <tr>\n",
       "      <th>11</th>\n",
       "      <td>Results were, again, more in line with a socio...</td>\n",
       "    </tr>\n",
       "    <tr>\n",
       "      <th>12</th>\n",
       "      <td>No extra variance was explained by adding a qu...</td>\n",
       "    </tr>\n",
       "    <tr>\n",
       "      <th>13</th>\n",
       "      <td>Across the experiments, the holistic-processin...</td>\n",
       "    </tr>\n",
       "    <tr>\n",
       "      <th>14</th>\n",
       "      <td>Further-although participant-centered valence ...</td>\n",
       "    </tr>\n",
       "    <tr>\n",
       "      <th>15</th>\n",
       "      <td>Variability in movement end points, calculated...</td>\n",
       "    </tr>\n",
       "    <tr>\n",
       "      <th>16</th>\n",
       "      <td>A rank-based Spearman's correlation test (p &lt; ...</td>\n",
       "    </tr>\n",
       "    <tr>\n",
       "      <th>17</th>\n",
       "      <td>As before, a multigroup model with gender as t...</td>\n",
       "    </tr>\n",
       "    <tr>\n",
       "      <th>18</th>\n",
       "      <td>Importantly, the absence of an interaction bet...</td>\n",
       "    </tr>\n",
       "    <tr>\n",
       "      <th>19</th>\n",
       "      <td>As expected on the basis of previous studies, ...</td>\n",
       "    </tr>\n",
       "    <tr>\n",
       "      <th>20</th>\n",
       "      <td>The third model added the remaining task varia...</td>\n",
       "    </tr>\n",
       "    <tr>\n",
       "      <th>21</th>\n",
       "      <td>In reward blocks, the results of Experiment 1 ...</td>\n",
       "    </tr>\n",
       "    <tr>\n",
       "      <th>22</th>\n",
       "      <td>Change-detection RTs in Experiment 1 were not ...</td>\n",
       "    </tr>\n",
       "    <tr>\n",
       "      <th>23</th>\n",
       "      <td>Medical maximizers showed greater belief in bo...</td>\n",
       "    </tr>\n",
       "    <tr>\n",
       "      <th>24</th>\n",
       "      <td>This preference, however, disappeared in the e...</td>\n",
       "    </tr>\n",
       "    <tr>\n",
       "      <th>25</th>\n",
       "      <td>For the end-scale questions, there was no diff...</td>\n",
       "    </tr>\n",
       "    <tr>\n",
       "      <th>26</th>\n",
       "      <td>In addition, LPIPS scores were not correlated ...</td>\n",
       "    </tr>\n",
       "    <tr>\n",
       "      <th>27</th>\n",
       "      <td>Logistic barriers did not prove to be a greate...</td>\n",
       "    </tr>\n",
       "    <tr>\n",
       "      <th>28</th>\n",
       "      <td>The analysis of polarization based on this sin...</td>\n",
       "    </tr>\n",
       "    <tr>\n",
       "      <th>29</th>\n",
       "      <td>In contrast, there was no difference between t...</td>\n",
       "    </tr>\n",
       "    <tr>\n",
       "      <th>30</th>\n",
       "      <td>There was no such association between CAPS sco...</td>\n",
       "    </tr>\n",
       "    <tr>\n",
       "      <th>31</th>\n",
       "      <td>Artworks that related to common activities, ho...</td>\n",
       "    </tr>\n",
       "    <tr>\n",
       "      <th>32</th>\n",
       "      <td>Depending on the outcome measure, individuals ...</td>\n",
       "    </tr>\n",
       "    <tr>\n",
       "      <th>33</th>\n",
       "      <td>This analysis revealed that the effect of cogn...</td>\n",
       "    </tr>\n",
       "    <tr>\n",
       "      <th>34</th>\n",
       "      <td>Results were similar using the continuous appr...</td>\n",
       "    </tr>\n",
       "    <tr>\n",
       "      <th>35</th>\n",
       "      <td>First, prior to the intervention (over the fir...</td>\n",
       "    </tr>\n",
       "    <tr>\n",
       "      <th>36</th>\n",
       "      <td>There was no relationship between risk taking ...</td>\n",
       "    </tr>\n",
       "    <tr>\n",
       "      <th>37</th>\n",
       "      <td>This effect did not interact with the order of...</td>\n",
       "    </tr>\n",
       "    <tr>\n",
       "      <th>38</th>\n",
       "      <td>For adults, patterns were similar to those in ...</td>\n",
       "    </tr>\n",
       "    <tr>\n",
       "      <th>39</th>\n",
       "      <td>There was no difference between the neutral cu...</td>\n",
       "    </tr>\n",
       "    <tr>\n",
       "      <th>40</th>\n",
       "      <td>Parameter estimates showed that feeling small ...</td>\n",
       "    </tr>\n",
       "    <tr>\n",
       "      <th>41</th>\n",
       "      <td>A negative binomial regression showed no diffe...</td>\n",
       "    </tr>\n",
       "    <tr>\n",
       "      <th>42</th>\n",
       "      <td>Furthermore, we found that the nudge was effec...</td>\n",
       "    </tr>\n",
       "    <tr>\n",
       "      <th>43</th>\n",
       "      <td>Multigroup models, grouped on treatment condit...</td>\n",
       "    </tr>\n",
       "    <tr>\n",
       "      <th>44</th>\n",
       "      <td>Further, disgust related positively to sentime...</td>\n",
       "    </tr>\n",
       "    <tr>\n",
       "      <th>45</th>\n",
       "      <td>Follow-up analyses revealed a significant Trea...</td>\n",
       "    </tr>\n",
       "    <tr>\n",
       "      <th>46</th>\n",
       "      <td>Tests of the simple effects of target conditio...</td>\n",
       "    </tr>\n",
       "    <tr>\n",
       "      <th>47</th>\n",
       "      <td>Self-reported height in centimeters (absolute ...</td>\n",
       "    </tr>\n",
       "    <tr>\n",
       "      <th>48</th>\n",
       "      <td>This effect did not interact with the order of...</td>\n",
       "    </tr>\n",
       "    <tr>\n",
       "      <th>49</th>\n",
       "      <td>There was also no difference in polarization b...</td>\n",
       "    </tr>\n",
       "    <tr>\n",
       "      <th>50</th>\n",
       "      <td>Concerning the EPN, there was no main effect o...</td>\n",
       "    </tr>\n",
       "    <tr>\n",
       "      <th>51</th>\n",
       "      <td>Three-year-olds selected the correct response ...</td>\n",
       "    </tr>\n",
       "    <tr>\n",
       "      <th>52</th>\n",
       "      <td>Time increased negative attitudes among libera...</td>\n",
       "    </tr>\n",
       "    <tr>\n",
       "      <th>53</th>\n",
       "      <td>Groups were matched on gender (p = .108) and y...</td>\n",
       "    </tr>\n",
       "    <tr>\n",
       "      <th>54</th>\n",
       "      <td>View change did not interact with focus distan...</td>\n",
       "    </tr>\n",
       "    <tr>\n",
       "      <th>55</th>\n",
       "      <td>Viewed differently, participants disliked avoi...</td>\n",
       "    </tr>\n",
       "    <tr>\n",
       "      <th>56</th>\n",
       "      <td>There was no interaction, F(3, 78) = 1.276, p ...</td>\n",
       "    </tr>\n",
       "    <tr>\n",
       "      <th>57</th>\n",
       "      <td>Unlike the prior experiment, in which learning...</td>\n",
       "    </tr>\n",
       "    <tr>\n",
       "      <th>58</th>\n",
       "      <td>Unlike the analyses using RT on search trials ...</td>\n",
       "    </tr>\n",
       "    <tr>\n",
       "      <th>59</th>\n",
       "      <td>In the no motivation condition, there was no s...</td>\n",
       "    </tr>\n",
       "  </tbody>\n",
       "</table>\n",
       "</div>"
      ],
      "text/plain": [
       "                                                 text\n",
       "0   There were no differences in participant propo...\n",
       "1   Conversely, valence did not moderate the relat...\n",
       "2   No main effects or interactions with time were...\n",
       "3   Including the independent predictors in Step 1...\n",
       "4   These effects were not significantly correlate...\n",
       "5   Specifically, adults' area-weighted fixation c...\n",
       "6   During habituation, the D1 component did not d...\n",
       "7   There was no main effect of age on unattended ...\n",
       "8   The number of observed individuals had no effe...\n",
       "9   There was no correlation between CAPS score an...\n",
       "10  There was no difference between congruent and ...\n",
       "11  Results were, again, more in line with a socio...\n",
       "12  No extra variance was explained by adding a qu...\n",
       "13  Across the experiments, the holistic-processin...\n",
       "14  Further-although participant-centered valence ...\n",
       "15  Variability in movement end points, calculated...\n",
       "16  A rank-based Spearman's correlation test (p < ...\n",
       "17  As before, a multigroup model with gender as t...\n",
       "18  Importantly, the absence of an interaction bet...\n",
       "19  As expected on the basis of previous studies, ...\n",
       "20  The third model added the remaining task varia...\n",
       "21  In reward blocks, the results of Experiment 1 ...\n",
       "22  Change-detection RTs in Experiment 1 were not ...\n",
       "23  Medical maximizers showed greater belief in bo...\n",
       "24  This preference, however, disappeared in the e...\n",
       "25  For the end-scale questions, there was no diff...\n",
       "26  In addition, LPIPS scores were not correlated ...\n",
       "27  Logistic barriers did not prove to be a greate...\n",
       "28  The analysis of polarization based on this sin...\n",
       "29  In contrast, there was no difference between t...\n",
       "30  There was no such association between CAPS sco...\n",
       "31  Artworks that related to common activities, ho...\n",
       "32  Depending on the outcome measure, individuals ...\n",
       "33  This analysis revealed that the effect of cogn...\n",
       "34  Results were similar using the continuous appr...\n",
       "35  First, prior to the intervention (over the fir...\n",
       "36  There was no relationship between risk taking ...\n",
       "37  This effect did not interact with the order of...\n",
       "38  For adults, patterns were similar to those in ...\n",
       "39  There was no difference between the neutral cu...\n",
       "40  Parameter estimates showed that feeling small ...\n",
       "41  A negative binomial regression showed no diffe...\n",
       "42  Furthermore, we found that the nudge was effec...\n",
       "43  Multigroup models, grouped on treatment condit...\n",
       "44  Further, disgust related positively to sentime...\n",
       "45  Follow-up analyses revealed a significant Trea...\n",
       "46  Tests of the simple effects of target conditio...\n",
       "47  Self-reported height in centimeters (absolute ...\n",
       "48  This effect did not interact with the order of...\n",
       "49  There was also no difference in polarization b...\n",
       "50  Concerning the EPN, there was no main effect o...\n",
       "51  Three-year-olds selected the correct response ...\n",
       "52  Time increased negative attitudes among libera...\n",
       "53  Groups were matched on gender (p = .108) and y...\n",
       "54  View change did not interact with focus distan...\n",
       "55  Viewed differently, participants disliked avoi...\n",
       "56  There was no interaction, F(3, 78) = 1.276, p ...\n",
       "57  Unlike the prior experiment, in which learning...\n",
       "58  Unlike the analyses using RT on search trials ...\n",
       "59  In the no motivation condition, there was no s..."
      ]
     },
     "metadata": {},
     "output_type": "display_data"
    }
   ],
   "source": [
    "display_statements(true_positives, \"True Positives (predicted 1, actual 1)\")"
   ]
  },
  {
   "cell_type": "code",
   "execution_count": 483,
   "id": "64f843b9",
   "metadata": {},
   "outputs": [
    {
     "name": "stdout",
     "output_type": "stream",
     "text": [
      "\n",
      "True Negatives (predicted 0, actual 0) (count: 69)\n"
     ]
    },
    {
     "data": {
      "text/html": [
       "<div>\n",
       "<style scoped>\n",
       "    .dataframe tbody tr th:only-of-type {\n",
       "        vertical-align: middle;\n",
       "    }\n",
       "\n",
       "    .dataframe tbody tr th {\n",
       "        vertical-align: top;\n",
       "    }\n",
       "\n",
       "    .dataframe thead th {\n",
       "        text-align: right;\n",
       "    }\n",
       "</style>\n",
       "<table border=\"1\" class=\"dataframe\">\n",
       "  <thead>\n",
       "    <tr style=\"text-align: right;\">\n",
       "      <th></th>\n",
       "      <th>text</th>\n",
       "    </tr>\n",
       "  </thead>\n",
       "  <tbody>\n",
       "    <tr>\n",
       "      <th>0</th>\n",
       "      <td>The effect of transaction frame did not signif...</td>\n",
       "    </tr>\n",
       "    <tr>\n",
       "      <th>1</th>\n",
       "      <td>Most importantly, the Context Ã— Phase interac...</td>\n",
       "    </tr>\n",
       "    <tr>\n",
       "      <th>2</th>\n",
       "      <td>Finally, the effect of feeling small was teste...</td>\n",
       "    </tr>\n",
       "    <tr>\n",
       "      <th>3</th>\n",
       "      <td>The previous interval between fixation onset a...</td>\n",
       "    </tr>\n",
       "    <tr>\n",
       "      <th>4</th>\n",
       "      <td>The most relevant finding for our hypothesis w...</td>\n",
       "    </tr>\n",
       "    <tr>\n",
       "      <th>...</th>\n",
       "      <td>...</td>\n",
       "    </tr>\n",
       "    <tr>\n",
       "      <th>64</th>\n",
       "      <td>Mann-Whitney U tests with experiment as a fact...</td>\n",
       "    </tr>\n",
       "    <tr>\n",
       "      <th>65</th>\n",
       "      <td>Tukey's HSD tests revealed significant differe...</td>\n",
       "    </tr>\n",
       "    <tr>\n",
       "      <th>66</th>\n",
       "      <td>The years-of-experience single effect was not ...</td>\n",
       "    </tr>\n",
       "    <tr>\n",
       "      <th>67</th>\n",
       "      <td>Furthermore, a separate analysis demonstrated ...</td>\n",
       "    </tr>\n",
       "    <tr>\n",
       "      <th>68</th>\n",
       "      <td>The overall interaction effect of Sex Ratio Ã—...</td>\n",
       "    </tr>\n",
       "  </tbody>\n",
       "</table>\n",
       "<p>69 rows × 1 columns</p>\n",
       "</div>"
      ],
      "text/plain": [
       "                                                 text\n",
       "0   The effect of transaction frame did not signif...\n",
       "1   Most importantly, the Context Ã— Phase interac...\n",
       "2   Finally, the effect of feeling small was teste...\n",
       "3   The previous interval between fixation onset a...\n",
       "4   The most relevant finding for our hypothesis w...\n",
       "..                                                ...\n",
       "64  Mann-Whitney U tests with experiment as a fact...\n",
       "65  Tukey's HSD tests revealed significant differe...\n",
       "66  The years-of-experience single effect was not ...\n",
       "67  Furthermore, a separate analysis demonstrated ...\n",
       "68  The overall interaction effect of Sex Ratio Ã—...\n",
       "\n",
       "[69 rows x 1 columns]"
      ]
     },
     "metadata": {},
     "output_type": "display_data"
    }
   ],
   "source": [
    "display_statements(true_negatives, \"True Negatives (predicted 0, actual 0)\")"
   ]
  },
  {
   "cell_type": "code",
   "execution_count": 484,
   "id": "a79eca53",
   "metadata": {},
   "outputs": [
    {
     "name": "stdout",
     "output_type": "stream",
     "text": [
      "\n",
      "False Positives (predicted 1, actual 0) (count: 2)\n"
     ]
    },
    {
     "data": {
      "text/html": [
       "<div>\n",
       "<style scoped>\n",
       "    .dataframe tbody tr th:only-of-type {\n",
       "        vertical-align: middle;\n",
       "    }\n",
       "\n",
       "    .dataframe tbody tr th {\n",
       "        vertical-align: top;\n",
       "    }\n",
       "\n",
       "    .dataframe thead th {\n",
       "        text-align: right;\n",
       "    }\n",
       "</style>\n",
       "<table border=\"1\" class=\"dataframe\">\n",
       "  <thead>\n",
       "    <tr style=\"text-align: right;\">\n",
       "      <th></th>\n",
       "      <th>text</th>\n",
       "    </tr>\n",
       "  </thead>\n",
       "  <tbody>\n",
       "    <tr>\n",
       "      <th>0</th>\n",
       "      <td>The main effect of illness recency did not mee...</td>\n",
       "    </tr>\n",
       "    <tr>\n",
       "      <th>1</th>\n",
       "      <td>For the opponent, significant increases in the...</td>\n",
       "    </tr>\n",
       "  </tbody>\n",
       "</table>\n",
       "</div>"
      ],
      "text/plain": [
       "                                                text\n",
       "0  The main effect of illness recency did not mee...\n",
       "1  For the opponent, significant increases in the..."
      ]
     },
     "metadata": {},
     "output_type": "display_data"
    }
   ],
   "source": [
    "display_statements(false_positives, \"False Positives (predicted 1, actual 0)\")"
   ]
  },
  {
   "cell_type": "code",
   "execution_count": 485,
   "id": "9b473d8e",
   "metadata": {},
   "outputs": [
    {
     "name": "stdout",
     "output_type": "stream",
     "text": [
      "\n",
      "False Negatives (predicted 0, actual 1) (count: 11)\n"
     ]
    },
    {
     "data": {
      "text/html": [
       "<div>\n",
       "<style scoped>\n",
       "    .dataframe tbody tr th:only-of-type {\n",
       "        vertical-align: middle;\n",
       "    }\n",
       "\n",
       "    .dataframe tbody tr th {\n",
       "        vertical-align: top;\n",
       "    }\n",
       "\n",
       "    .dataframe thead th {\n",
       "        text-align: right;\n",
       "    }\n",
       "</style>\n",
       "<table border=\"1\" class=\"dataframe\">\n",
       "  <thead>\n",
       "    <tr style=\"text-align: right;\">\n",
       "      <th></th>\n",
       "      <th>text</th>\n",
       "    </tr>\n",
       "  </thead>\n",
       "  <tbody>\n",
       "    <tr>\n",
       "      <th>0</th>\n",
       "      <td>Although the sensitivity for the not-learned s...</td>\n",
       "    </tr>\n",
       "    <tr>\n",
       "      <th>1</th>\n",
       "      <td>The Participant Group Ã— Tweet type interactio...</td>\n",
       "    </tr>\n",
       "    <tr>\n",
       "      <th>2</th>\n",
       "      <td>We also confirmed the predicted familiarity-by...</td>\n",
       "    </tr>\n",
       "    <tr>\n",
       "      <th>3</th>\n",
       "      <td>However, CS type did not interact significantl...</td>\n",
       "    </tr>\n",
       "    <tr>\n",
       "      <th>4</th>\n",
       "      <td>As seen in Figure 2, post hoc contrasts reveal...</td>\n",
       "    </tr>\n",
       "    <tr>\n",
       "      <th>5</th>\n",
       "      <td>As before, this interaction resulted from a si...</td>\n",
       "    </tr>\n",
       "    <tr>\n",
       "      <th>6</th>\n",
       "      <td>Gender, trait aggression, and endogenous testo...</td>\n",
       "    </tr>\n",
       "    <tr>\n",
       "      <th>7</th>\n",
       "      <td>There was no significant main effect of the se...</td>\n",
       "    </tr>\n",
       "    <tr>\n",
       "      <th>8</th>\n",
       "      <td>However, the absence of a postresponse effect ...</td>\n",
       "    </tr>\n",
       "    <tr>\n",
       "      <th>9</th>\n",
       "      <td>A 2 (Experiment) Ã— 2 (Position) mixed-measure...</td>\n",
       "    </tr>\n",
       "    <tr>\n",
       "      <th>10</th>\n",
       "      <td>A two-way mixed ANOVA investigating whether pe...</td>\n",
       "    </tr>\n",
       "  </tbody>\n",
       "</table>\n",
       "</div>"
      ],
      "text/plain": [
       "                                                 text\n",
       "0   Although the sensitivity for the not-learned s...\n",
       "1   The Participant Group Ã— Tweet type interactio...\n",
       "2   We also confirmed the predicted familiarity-by...\n",
       "3   However, CS type did not interact significantl...\n",
       "4   As seen in Figure 2, post hoc contrasts reveal...\n",
       "5   As before, this interaction resulted from a si...\n",
       "6   Gender, trait aggression, and endogenous testo...\n",
       "7   There was no significant main effect of the se...\n",
       "8   However, the absence of a postresponse effect ...\n",
       "9   A 2 (Experiment) Ã— 2 (Position) mixed-measure...\n",
       "10  A two-way mixed ANOVA investigating whether pe..."
      ]
     },
     "metadata": {},
     "output_type": "display_data"
    }
   ],
   "source": [
    "display_statements(false_negatives, \"False Negatives (predicted 0, actual 1)\")"
   ]
  },
  {
   "cell_type": "markdown",
   "id": "bb5611fc",
   "metadata": {},
   "source": [
    "## 4 Storing results"
   ]
  },
  {
   "cell_type": "markdown",
   "id": "662bc44e",
   "metadata": {},
   "source": [
    "### 4.1 Performance over the epochs"
   ]
  },
  {
   "cell_type": "code",
   "execution_count": 486,
   "id": "6095901e",
   "metadata": {},
   "outputs": [
    {
     "name": "stdout",
     "output_type": "stream",
     "text": [
      "     loss  grad_norm  learning_rate  epoch  step  eval_loss  eval_accuracy  \\\n",
      "0  0.7118   6.666151       0.000019    1.0    32        NaN            NaN   \n",
      "1     NaN        NaN            NaN    1.0    32   0.682751       0.578947   \n",
      "2  0.6274   6.522206       0.000018    2.0    64        NaN            NaN   \n",
      "3     NaN        NaN            NaN    2.0    64   0.570135       0.771930   \n",
      "4  0.3628   6.864197       0.000016    3.0    96        NaN            NaN   \n",
      "\n",
      "   eval_precision  eval_recall   eval_f1  eval_runtime  \\\n",
      "0             NaN          NaN       NaN           NaN   \n",
      "1        0.700000     0.250000  0.368421        0.2947   \n",
      "2             NaN          NaN       NaN           NaN   \n",
      "3        0.941176     0.571429  0.711111        0.2930   \n",
      "4             NaN          NaN       NaN           NaN   \n",
      "\n",
      "   eval_samples_per_second  eval_steps_per_second  train_runtime  \\\n",
      "0                      NaN                    NaN            NaN   \n",
      "1                  193.445                 13.575            NaN   \n",
      "2                      NaN                    NaN            NaN   \n",
      "3                  194.537                 13.652            NaN   \n",
      "4                      NaN                    NaN            NaN   \n",
      "\n",
      "   train_samples_per_second  train_steps_per_second  total_flos  train_loss  \n",
      "0                       NaN                     NaN         NaN         NaN  \n",
      "1                       NaN                     NaN         NaN         NaN  \n",
      "2                       NaN                     NaN         NaN         NaN  \n",
      "3                       NaN                     NaN         NaN         NaN  \n",
      "4                       NaN                     NaN         NaN         NaN  \n"
     ]
    }
   ],
   "source": [
    "# Save log history\n",
    "log_history = trainer.state.log_history\n",
    "\n",
    "# Convert to DataFrame\n",
    "log_df = pd.DataFrame(log_history)\n",
    "\n",
    "# Save to CSV in 'results_path' folder\n",
    "log_df.to_csv((log_path := Path(results_path) / \"model_training_history\").mkdir(parents=True, exist_ok=True) or log_path / \"BERT.csv\", index=False)\n",
    "\n",
    "# Display the first few rows\n",
    "print(log_df.head())"
   ]
  },
  {
   "cell_type": "markdown",
   "id": "c46b6e7d",
   "metadata": {},
   "source": [
    "### 4.2 Final performance on test set"
   ]
  },
  {
   "cell_type": "code",
   "execution_count": 487,
   "id": "facd4cfa",
   "metadata": {},
   "outputs": [],
   "source": [
    "# Save human and BERT labels on test set\n",
    "predictions_df = pd.DataFrame({\n",
    "    \"statement\": test_df['text'],\n",
    "    \"human_label\": GT_test,\n",
    "    \"BERT_label\": test_preds\n",
    "})\n",
    "predictions_df.to_csv((pred_path := Path(results_path) / \"test_predictions\").mkdir(parents=True, exist_ok=True) or pred_path / \"BERT.csv\", index=False)"
   ]
  },
  {
   "cell_type": "code",
   "execution_count": 488,
   "id": "7b184dbe",
   "metadata": {},
   "outputs": [
    {
     "name": "stdout",
     "output_type": "stream",
     "text": [
      "Removed ./results/BERT\\checkpoint-128\n",
      "Removed ./results/BERT\\checkpoint-160\n",
      "Removed ./results/BERT\\checkpoint-192\n",
      "Removed ./results/BERT\\checkpoint-32\n",
      "Removed ./results/BERT\\checkpoint-64\n",
      "Removed ./results/BERT\\checkpoint-96\n"
     ]
    }
   ],
   "source": [
    "import glob\n",
    "import shutil\n",
    "\n",
    "# If save_checkpoints is False, delete all checkpoint folders\n",
    "if save_checkpoints is False:\n",
    "    checkpoint_paths = glob.glob('./results/BERT/checkpoint-*')\n",
    "    for path in checkpoint_paths:\n",
    "        shutil.rmtree(path)  # Remove the entire folder and contents\n",
    "        print(f\"Removed {path}\")"
   ]
  },
  {
   "cell_type": "code",
   "execution_count": 489,
   "id": "56e5e265",
   "metadata": {},
   "outputs": [],
   "source": [
    "# The end..."
   ]
  }
 ],
 "metadata": {
  "kernelspec": {
   "display_name": "nonsig_kernel",
   "language": "python",
   "name": "nonsig_kernel"
  },
  "language_info": {
   "codemirror_mode": {
    "name": "ipython",
    "version": 3
   },
   "file_extension": ".py",
   "mimetype": "text/x-python",
   "name": "python",
   "nbconvert_exporter": "python",
   "pygments_lexer": "ipython3",
   "version": "3.12.10"
  }
 },
 "nbformat": 4,
 "nbformat_minor": 5
}
