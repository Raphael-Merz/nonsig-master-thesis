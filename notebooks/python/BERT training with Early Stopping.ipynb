{
 "cells": [
  {
   "cell_type": "markdown",
   "id": "5e0f8a44",
   "metadata": {},
   "source": [
    "# Bert Training with Early Stopping"
   ]
  },
  {
   "cell_type": "markdown",
   "id": "ef72840b",
   "metadata": {},
   "source": [
    "## 0. Setup"
   ]
  },
  {
   "cell_type": "markdown",
   "id": "32992dd0",
   "metadata": {},
   "source": [
    "### 0.1 Install libraries"
   ]
  },
  {
   "cell_type": "code",
   "execution_count": 237,
   "id": "da13a949",
   "metadata": {},
   "outputs": [
    {
     "name": "stdout",
     "output_type": "stream",
     "text": [
      "Requirement already satisfied: absl-py==2.3.1 in d:\\onedrive\\dokumente\\github desktop\\nonsig-master-thesis\\nonsig_venv\\lib\\site-packages (from -r requirements.txt (line 1)) (2.3.1)\n",
      "Requirement already satisfied: accelerate==1.8.1 in d:\\onedrive\\dokumente\\github desktop\\nonsig-master-thesis\\nonsig_venv\\lib\\site-packages (from -r requirements.txt (line 2)) (1.8.1)\n",
      "Requirement already satisfied: aiohappyeyeballs==2.6.1 in d:\\onedrive\\dokumente\\github desktop\\nonsig-master-thesis\\nonsig_venv\\lib\\site-packages (from -r requirements.txt (line 3)) (2.6.1)\n",
      "Requirement already satisfied: aiohttp==3.12.13 in d:\\onedrive\\dokumente\\github desktop\\nonsig-master-thesis\\nonsig_venv\\lib\\site-packages (from -r requirements.txt (line 4)) (3.12.13)\n",
      "Requirement already satisfied: aiosignal==1.4.0 in d:\\onedrive\\dokumente\\github desktop\\nonsig-master-thesis\\nonsig_venv\\lib\\site-packages (from -r requirements.txt (line 5)) (1.4.0)\n",
      "Requirement already satisfied: asttokens==3.0.0 in d:\\onedrive\\dokumente\\github desktop\\nonsig-master-thesis\\nonsig_venv\\lib\\site-packages (from -r requirements.txt (line 6)) (3.0.0)\n",
      "Requirement already satisfied: astunparse==1.6.3 in d:\\onedrive\\dokumente\\github desktop\\nonsig-master-thesis\\nonsig_venv\\lib\\site-packages (from -r requirements.txt (line 7)) (1.6.3)\n",
      "Requirement already satisfied: attrs==25.3.0 in d:\\onedrive\\dokumente\\github desktop\\nonsig-master-thesis\\nonsig_venv\\lib\\site-packages (from -r requirements.txt (line 8)) (25.3.0)\n",
      "Requirement already satisfied: certifi==2025.6.15 in d:\\onedrive\\dokumente\\github desktop\\nonsig-master-thesis\\nonsig_venv\\lib\\site-packages (from -r requirements.txt (line 9)) (2025.6.15)\n",
      "Requirement already satisfied: charset-normalizer==3.4.2 in d:\\onedrive\\dokumente\\github desktop\\nonsig-master-thesis\\nonsig_venv\\lib\\site-packages (from -r requirements.txt (line 10)) (3.4.2)\n",
      "Requirement already satisfied: colorama==0.4.6 in d:\\onedrive\\dokumente\\github desktop\\nonsig-master-thesis\\nonsig_venv\\lib\\site-packages (from -r requirements.txt (line 11)) (0.4.6)\n",
      "Requirement already satisfied: comm==0.2.2 in d:\\onedrive\\dokumente\\github desktop\\nonsig-master-thesis\\nonsig_venv\\lib\\site-packages (from -r requirements.txt (line 12)) (0.2.2)\n",
      "Requirement already satisfied: contourpy==1.3.2 in d:\\onedrive\\dokumente\\github desktop\\nonsig-master-thesis\\nonsig_venv\\lib\\site-packages (from -r requirements.txt (line 13)) (1.3.2)\n",
      "Requirement already satisfied: cycler==0.12.1 in d:\\onedrive\\dokumente\\github desktop\\nonsig-master-thesis\\nonsig_venv\\lib\\site-packages (from -r requirements.txt (line 14)) (0.12.1)\n",
      "Requirement already satisfied: datasets==3.6.0 in d:\\onedrive\\dokumente\\github desktop\\nonsig-master-thesis\\nonsig_venv\\lib\\site-packages (from -r requirements.txt (line 15)) (3.6.0)\n",
      "Requirement already satisfied: debugpy==1.8.14 in d:\\onedrive\\dokumente\\github desktop\\nonsig-master-thesis\\nonsig_venv\\lib\\site-packages (from -r requirements.txt (line 16)) (1.8.14)\n",
      "Requirement already satisfied: decorator==5.2.1 in d:\\onedrive\\dokumente\\github desktop\\nonsig-master-thesis\\nonsig_venv\\lib\\site-packages (from -r requirements.txt (line 17)) (5.2.1)\n",
      "Requirement already satisfied: dill==0.3.8 in d:\\onedrive\\dokumente\\github desktop\\nonsig-master-thesis\\nonsig_venv\\lib\\site-packages (from -r requirements.txt (line 18)) (0.3.8)\n",
      "Requirement already satisfied: et_xmlfile==2.0.0 in d:\\onedrive\\dokumente\\github desktop\\nonsig-master-thesis\\nonsig_venv\\lib\\site-packages (from -r requirements.txt (line 19)) (2.0.0)\n",
      "Requirement already satisfied: evaluate==0.4.4 in d:\\onedrive\\dokumente\\github desktop\\nonsig-master-thesis\\nonsig_venv\\lib\\site-packages (from -r requirements.txt (line 20)) (0.4.4)\n",
      "Requirement already satisfied: executing==2.2.0 in d:\\onedrive\\dokumente\\github desktop\\nonsig-master-thesis\\nonsig_venv\\lib\\site-packages (from -r requirements.txt (line 21)) (2.2.0)\n",
      "Requirement already satisfied: filelock==3.18.0 in d:\\onedrive\\dokumente\\github desktop\\nonsig-master-thesis\\nonsig_venv\\lib\\site-packages (from -r requirements.txt (line 22)) (3.18.0)\n",
      "Requirement already satisfied: flatbuffers==25.2.10 in d:\\onedrive\\dokumente\\github desktop\\nonsig-master-thesis\\nonsig_venv\\lib\\site-packages (from -r requirements.txt (line 23)) (25.2.10)\n",
      "Requirement already satisfied: fonttools==4.58.5 in d:\\onedrive\\dokumente\\github desktop\\nonsig-master-thesis\\nonsig_venv\\lib\\site-packages (from -r requirements.txt (line 24)) (4.58.5)\n",
      "Requirement already satisfied: frozenlist==1.7.0 in d:\\onedrive\\dokumente\\github desktop\\nonsig-master-thesis\\nonsig_venv\\lib\\site-packages (from -r requirements.txt (line 25)) (1.7.0)\n",
      "Requirement already satisfied: fsspec==2025.3.0 in d:\\onedrive\\dokumente\\github desktop\\nonsig-master-thesis\\nonsig_venv\\lib\\site-packages (from -r requirements.txt (line 26)) (2025.3.0)\n",
      "Requirement already satisfied: gast==0.6.0 in d:\\onedrive\\dokumente\\github desktop\\nonsig-master-thesis\\nonsig_venv\\lib\\site-packages (from -r requirements.txt (line 27)) (0.6.0)\n",
      "Requirement already satisfied: google-pasta==0.2.0 in d:\\onedrive\\dokumente\\github desktop\\nonsig-master-thesis\\nonsig_venv\\lib\\site-packages (from -r requirements.txt (line 28)) (0.2.0)\n",
      "Requirement already satisfied: grpcio==1.73.1 in d:\\onedrive\\dokumente\\github desktop\\nonsig-master-thesis\\nonsig_venv\\lib\\site-packages (from -r requirements.txt (line 29)) (1.73.1)\n",
      "Requirement already satisfied: h5py==3.14.0 in d:\\onedrive\\dokumente\\github desktop\\nonsig-master-thesis\\nonsig_venv\\lib\\site-packages (from -r requirements.txt (line 30)) (3.14.0)\n",
      "Requirement already satisfied: huggingface-hub==0.33.2 in d:\\onedrive\\dokumente\\github desktop\\nonsig-master-thesis\\nonsig_venv\\lib\\site-packages (from -r requirements.txt (line 31)) (0.33.2)\n",
      "Requirement already satisfied: idna==3.10 in d:\\onedrive\\dokumente\\github desktop\\nonsig-master-thesis\\nonsig_venv\\lib\\site-packages (from -r requirements.txt (line 32)) (3.10)\n",
      "Requirement already satisfied: ipykernel==6.29.5 in d:\\onedrive\\dokumente\\github desktop\\nonsig-master-thesis\\nonsig_venv\\lib\\site-packages (from -r requirements.txt (line 33)) (6.29.5)\n",
      "Requirement already satisfied: ipython==9.4.0 in d:\\onedrive\\dokumente\\github desktop\\nonsig-master-thesis\\nonsig_venv\\lib\\site-packages (from -r requirements.txt (line 34)) (9.4.0)\n",
      "Requirement already satisfied: ipython_pygments_lexers==1.1.1 in d:\\onedrive\\dokumente\\github desktop\\nonsig-master-thesis\\nonsig_venv\\lib\\site-packages (from -r requirements.txt (line 35)) (1.1.1)\n",
      "Requirement already satisfied: jedi==0.19.2 in d:\\onedrive\\dokumente\\github desktop\\nonsig-master-thesis\\nonsig_venv\\lib\\site-packages (from -r requirements.txt (line 36)) (0.19.2)\n",
      "Requirement already satisfied: Jinja2==3.1.6 in d:\\onedrive\\dokumente\\github desktop\\nonsig-master-thesis\\nonsig_venv\\lib\\site-packages (from -r requirements.txt (line 37)) (3.1.6)\n",
      "Requirement already satisfied: joblib==1.5.1 in d:\\onedrive\\dokumente\\github desktop\\nonsig-master-thesis\\nonsig_venv\\lib\\site-packages (from -r requirements.txt (line 38)) (1.5.1)\n",
      "Requirement already satisfied: jupyter_client==8.6.3 in d:\\onedrive\\dokumente\\github desktop\\nonsig-master-thesis\\nonsig_venv\\lib\\site-packages (from -r requirements.txt (line 39)) (8.6.3)\n",
      "Requirement already satisfied: jupyter_core==5.8.1 in d:\\onedrive\\dokumente\\github desktop\\nonsig-master-thesis\\nonsig_venv\\lib\\site-packages (from -r requirements.txt (line 40)) (5.8.1)\n",
      "Requirement already satisfied: keras==3.10.0 in d:\\onedrive\\dokumente\\github desktop\\nonsig-master-thesis\\nonsig_venv\\lib\\site-packages (from -r requirements.txt (line 41)) (3.10.0)\n",
      "Requirement already satisfied: kiwisolver==1.4.8 in d:\\onedrive\\dokumente\\github desktop\\nonsig-master-thesis\\nonsig_venv\\lib\\site-packages (from -r requirements.txt (line 42)) (1.4.8)\n",
      "Requirement already satisfied: libclang==18.1.1 in d:\\onedrive\\dokumente\\github desktop\\nonsig-master-thesis\\nonsig_venv\\lib\\site-packages (from -r requirements.txt (line 43)) (18.1.1)\n",
      "Requirement already satisfied: Markdown==3.8.2 in d:\\onedrive\\dokumente\\github desktop\\nonsig-master-thesis\\nonsig_venv\\lib\\site-packages (from -r requirements.txt (line 44)) (3.8.2)\n",
      "Requirement already satisfied: markdown-it-py==3.0.0 in d:\\onedrive\\dokumente\\github desktop\\nonsig-master-thesis\\nonsig_venv\\lib\\site-packages (from -r requirements.txt (line 45)) (3.0.0)\n",
      "Requirement already satisfied: MarkupSafe==3.0.2 in d:\\onedrive\\dokumente\\github desktop\\nonsig-master-thesis\\nonsig_venv\\lib\\site-packages (from -r requirements.txt (line 46)) (3.0.2)\n",
      "Requirement already satisfied: matplotlib==3.10.3 in d:\\onedrive\\dokumente\\github desktop\\nonsig-master-thesis\\nonsig_venv\\lib\\site-packages (from -r requirements.txt (line 47)) (3.10.3)\n",
      "Requirement already satisfied: matplotlib-inline==0.1.7 in d:\\onedrive\\dokumente\\github desktop\\nonsig-master-thesis\\nonsig_venv\\lib\\site-packages (from -r requirements.txt (line 48)) (0.1.7)\n",
      "Requirement already satisfied: mdurl==0.1.2 in d:\\onedrive\\dokumente\\github desktop\\nonsig-master-thesis\\nonsig_venv\\lib\\site-packages (from -r requirements.txt (line 49)) (0.1.2)\n",
      "Requirement already satisfied: ml_dtypes==0.5.1 in d:\\onedrive\\dokumente\\github desktop\\nonsig-master-thesis\\nonsig_venv\\lib\\site-packages (from -r requirements.txt (line 50)) (0.5.1)\n",
      "Requirement already satisfied: mpmath==1.3.0 in d:\\onedrive\\dokumente\\github desktop\\nonsig-master-thesis\\nonsig_venv\\lib\\site-packages (from -r requirements.txt (line 51)) (1.3.0)\n",
      "Requirement already satisfied: multidict==6.6.3 in d:\\onedrive\\dokumente\\github desktop\\nonsig-master-thesis\\nonsig_venv\\lib\\site-packages (from -r requirements.txt (line 52)) (6.6.3)\n",
      "Requirement already satisfied: multiprocess==0.70.16 in d:\\onedrive\\dokumente\\github desktop\\nonsig-master-thesis\\nonsig_venv\\lib\\site-packages (from -r requirements.txt (line 53)) (0.70.16)\n",
      "Requirement already satisfied: namex==0.1.0 in d:\\onedrive\\dokumente\\github desktop\\nonsig-master-thesis\\nonsig_venv\\lib\\site-packages (from -r requirements.txt (line 54)) (0.1.0)\n",
      "Requirement already satisfied: nest-asyncio==1.6.0 in d:\\onedrive\\dokumente\\github desktop\\nonsig-master-thesis\\nonsig_venv\\lib\\site-packages (from -r requirements.txt (line 55)) (1.6.0)\n",
      "Requirement already satisfied: networkx==3.5 in d:\\onedrive\\dokumente\\github desktop\\nonsig-master-thesis\\nonsig_venv\\lib\\site-packages (from -r requirements.txt (line 56)) (3.5)\n",
      "Requirement already satisfied: numpy==2.1.3 in d:\\onedrive\\dokumente\\github desktop\\nonsig-master-thesis\\nonsig_venv\\lib\\site-packages (from -r requirements.txt (line 57)) (2.1.3)\n",
      "Requirement already satisfied: openpyxl==3.1.5 in d:\\onedrive\\dokumente\\github desktop\\nonsig-master-thesis\\nonsig_venv\\lib\\site-packages (from -r requirements.txt (line 58)) (3.1.5)\n",
      "Requirement already satisfied: opt_einsum==3.4.0 in d:\\onedrive\\dokumente\\github desktop\\nonsig-master-thesis\\nonsig_venv\\lib\\site-packages (from -r requirements.txt (line 59)) (3.4.0)\n",
      "Requirement already satisfied: optree==0.16.0 in d:\\onedrive\\dokumente\\github desktop\\nonsig-master-thesis\\nonsig_venv\\lib\\site-packages (from -r requirements.txt (line 60)) (0.16.0)\n",
      "Requirement already satisfied: packaging==25.0 in d:\\onedrive\\dokumente\\github desktop\\nonsig-master-thesis\\nonsig_venv\\lib\\site-packages (from -r requirements.txt (line 61)) (25.0)\n",
      "Requirement already satisfied: pandas==2.3.1 in d:\\onedrive\\dokumente\\github desktop\\nonsig-master-thesis\\nonsig_venv\\lib\\site-packages (from -r requirements.txt (line 62)) (2.3.1)\n",
      "Requirement already satisfied: parso==0.8.4 in d:\\onedrive\\dokumente\\github desktop\\nonsig-master-thesis\\nonsig_venv\\lib\\site-packages (from -r requirements.txt (line 63)) (0.8.4)\n",
      "Requirement already satisfied: pillow==11.3.0 in d:\\onedrive\\dokumente\\github desktop\\nonsig-master-thesis\\nonsig_venv\\lib\\site-packages (from -r requirements.txt (line 64)) (11.3.0)\n",
      "Requirement already satisfied: platformdirs==4.3.8 in d:\\onedrive\\dokumente\\github desktop\\nonsig-master-thesis\\nonsig_venv\\lib\\site-packages (from -r requirements.txt (line 65)) (4.3.8)\n",
      "Requirement already satisfied: prompt_toolkit==3.0.51 in d:\\onedrive\\dokumente\\github desktop\\nonsig-master-thesis\\nonsig_venv\\lib\\site-packages (from -r requirements.txt (line 66)) (3.0.51)\n",
      "Requirement already satisfied: propcache==0.3.2 in d:\\onedrive\\dokumente\\github desktop\\nonsig-master-thesis\\nonsig_venv\\lib\\site-packages (from -r requirements.txt (line 67)) (0.3.2)\n",
      "Requirement already satisfied: protobuf==5.29.5 in d:\\onedrive\\dokumente\\github desktop\\nonsig-master-thesis\\nonsig_venv\\lib\\site-packages (from -r requirements.txt (line 68)) (5.29.5)\n",
      "Requirement already satisfied: psutil==7.0.0 in d:\\onedrive\\dokumente\\github desktop\\nonsig-master-thesis\\nonsig_venv\\lib\\site-packages (from -r requirements.txt (line 69)) (7.0.0)\n",
      "Requirement already satisfied: pure_eval==0.2.3 in d:\\onedrive\\dokumente\\github desktop\\nonsig-master-thesis\\nonsig_venv\\lib\\site-packages (from -r requirements.txt (line 70)) (0.2.3)\n",
      "Requirement already satisfied: pyarrow==20.0.0 in d:\\onedrive\\dokumente\\github desktop\\nonsig-master-thesis\\nonsig_venv\\lib\\site-packages (from -r requirements.txt (line 71)) (20.0.0)\n",
      "Requirement already satisfied: Pygments==2.19.2 in d:\\onedrive\\dokumente\\github desktop\\nonsig-master-thesis\\nonsig_venv\\lib\\site-packages (from -r requirements.txt (line 72)) (2.19.2)\n",
      "Requirement already satisfied: pyparsing==3.2.3 in d:\\onedrive\\dokumente\\github desktop\\nonsig-master-thesis\\nonsig_venv\\lib\\site-packages (from -r requirements.txt (line 73)) (3.2.3)\n",
      "Requirement already satisfied: python-dateutil==2.9.0.post0 in d:\\onedrive\\dokumente\\github desktop\\nonsig-master-thesis\\nonsig_venv\\lib\\site-packages (from -r requirements.txt (line 74)) (2.9.0.post0)\n",
      "Requirement already satisfied: pytz==2025.2 in d:\\onedrive\\dokumente\\github desktop\\nonsig-master-thesis\\nonsig_venv\\lib\\site-packages (from -r requirements.txt (line 75)) (2025.2)\n",
      "Requirement already satisfied: pywin32==310 in d:\\onedrive\\dokumente\\github desktop\\nonsig-master-thesis\\nonsig_venv\\lib\\site-packages (from -r requirements.txt (line 76)) (310)\n",
      "Requirement already satisfied: PyYAML==6.0.2 in d:\\onedrive\\dokumente\\github desktop\\nonsig-master-thesis\\nonsig_venv\\lib\\site-packages (from -r requirements.txt (line 77)) (6.0.2)\n",
      "Requirement already satisfied: pyzmq==27.0.0 in d:\\onedrive\\dokumente\\github desktop\\nonsig-master-thesis\\nonsig_venv\\lib\\site-packages (from -r requirements.txt (line 78)) (27.0.0)\n",
      "Requirement already satisfied: regex==2024.11.6 in d:\\onedrive\\dokumente\\github desktop\\nonsig-master-thesis\\nonsig_venv\\lib\\site-packages (from -r requirements.txt (line 79)) (2024.11.6)\n",
      "Requirement already satisfied: requests==2.32.4 in d:\\onedrive\\dokumente\\github desktop\\nonsig-master-thesis\\nonsig_venv\\lib\\site-packages (from -r requirements.txt (line 80)) (2.32.4)\n",
      "Requirement already satisfied: rich==14.0.0 in d:\\onedrive\\dokumente\\github desktop\\nonsig-master-thesis\\nonsig_venv\\lib\\site-packages (from -r requirements.txt (line 81)) (14.0.0)\n",
      "Requirement already satisfied: safetensors==0.5.3 in d:\\onedrive\\dokumente\\github desktop\\nonsig-master-thesis\\nonsig_venv\\lib\\site-packages (from -r requirements.txt (line 82)) (0.5.3)\n",
      "Requirement already satisfied: scikit-learn==1.7.0 in d:\\onedrive\\dokumente\\github desktop\\nonsig-master-thesis\\nonsig_venv\\lib\\site-packages (from -r requirements.txt (line 83)) (1.7.0)\n",
      "Requirement already satisfied: scipy==1.16.0 in d:\\onedrive\\dokumente\\github desktop\\nonsig-master-thesis\\nonsig_venv\\lib\\site-packages (from -r requirements.txt (line 84)) (1.16.0)\n",
      "Requirement already satisfied: seaborn==0.13.2 in d:\\onedrive\\dokumente\\github desktop\\nonsig-master-thesis\\nonsig_venv\\lib\\site-packages (from -r requirements.txt (line 85)) (0.13.2)\n",
      "Requirement already satisfied: setuptools==80.9.0 in d:\\onedrive\\dokumente\\github desktop\\nonsig-master-thesis\\nonsig_venv\\lib\\site-packages (from -r requirements.txt (line 86)) (80.9.0)\n",
      "Requirement already satisfied: six==1.17.0 in d:\\onedrive\\dokumente\\github desktop\\nonsig-master-thesis\\nonsig_venv\\lib\\site-packages (from -r requirements.txt (line 87)) (1.17.0)\n",
      "Requirement already satisfied: stack-data==0.6.3 in d:\\onedrive\\dokumente\\github desktop\\nonsig-master-thesis\\nonsig_venv\\lib\\site-packages (from -r requirements.txt (line 88)) (0.6.3)\n",
      "Requirement already satisfied: sympy==1.14.0 in d:\\onedrive\\dokumente\\github desktop\\nonsig-master-thesis\\nonsig_venv\\lib\\site-packages (from -r requirements.txt (line 89)) (1.14.0)\n",
      "Requirement already satisfied: tensorboard==2.19.0 in d:\\onedrive\\dokumente\\github desktop\\nonsig-master-thesis\\nonsig_venv\\lib\\site-packages (from -r requirements.txt (line 90)) (2.19.0)\n",
      "Requirement already satisfied: tensorboard-data-server==0.7.2 in d:\\onedrive\\dokumente\\github desktop\\nonsig-master-thesis\\nonsig_venv\\lib\\site-packages (from -r requirements.txt (line 91)) (0.7.2)\n",
      "Requirement already satisfied: tensorflow==2.19.0 in d:\\onedrive\\dokumente\\github desktop\\nonsig-master-thesis\\nonsig_venv\\lib\\site-packages (from -r requirements.txt (line 92)) (2.19.0)\n",
      "Requirement already satisfied: termcolor==3.1.0 in d:\\onedrive\\dokumente\\github desktop\\nonsig-master-thesis\\nonsig_venv\\lib\\site-packages (from -r requirements.txt (line 93)) (3.1.0)\n",
      "Requirement already satisfied: tf_keras==2.19.0 in d:\\onedrive\\dokumente\\github desktop\\nonsig-master-thesis\\nonsig_venv\\lib\\site-packages (from -r requirements.txt (line 94)) (2.19.0)\n",
      "Requirement already satisfied: threadpoolctl==3.6.0 in d:\\onedrive\\dokumente\\github desktop\\nonsig-master-thesis\\nonsig_venv\\lib\\site-packages (from -r requirements.txt (line 95)) (3.6.0)\n",
      "Requirement already satisfied: tokenizers==0.21.2 in d:\\onedrive\\dokumente\\github desktop\\nonsig-master-thesis\\nonsig_venv\\lib\\site-packages (from -r requirements.txt (line 96)) (0.21.2)\n",
      "Requirement already satisfied: tornado==6.5.1 in d:\\onedrive\\dokumente\\github desktop\\nonsig-master-thesis\\nonsig_venv\\lib\\site-packages (from -r requirements.txt (line 97)) (6.5.1)\n",
      "Requirement already satisfied: tqdm==4.67.1 in d:\\onedrive\\dokumente\\github desktop\\nonsig-master-thesis\\nonsig_venv\\lib\\site-packages (from -r requirements.txt (line 98)) (4.67.1)\n",
      "Requirement already satisfied: traitlets==5.14.3 in d:\\onedrive\\dokumente\\github desktop\\nonsig-master-thesis\\nonsig_venv\\lib\\site-packages (from -r requirements.txt (line 99)) (5.14.3)\n",
      "Requirement already satisfied: transformers==4.53.1 in d:\\onedrive\\dokumente\\github desktop\\nonsig-master-thesis\\nonsig_venv\\lib\\site-packages (from -r requirements.txt (line 100)) (4.53.1)\n",
      "Requirement already satisfied: typing_extensions==4.14.1 in d:\\onedrive\\dokumente\\github desktop\\nonsig-master-thesis\\nonsig_venv\\lib\\site-packages (from -r requirements.txt (line 101)) (4.14.1)\n",
      "Requirement already satisfied: tzdata==2025.2 in d:\\onedrive\\dokumente\\github desktop\\nonsig-master-thesis\\nonsig_venv\\lib\\site-packages (from -r requirements.txt (line 102)) (2025.2)\n",
      "Requirement already satisfied: urllib3==2.5.0 in d:\\onedrive\\dokumente\\github desktop\\nonsig-master-thesis\\nonsig_venv\\lib\\site-packages (from -r requirements.txt (line 103)) (2.5.0)\n",
      "Requirement already satisfied: wcwidth==0.2.13 in d:\\onedrive\\dokumente\\github desktop\\nonsig-master-thesis\\nonsig_venv\\lib\\site-packages (from -r requirements.txt (line 104)) (0.2.13)\n",
      "Requirement already satisfied: Werkzeug==3.1.3 in d:\\onedrive\\dokumente\\github desktop\\nonsig-master-thesis\\nonsig_venv\\lib\\site-packages (from -r requirements.txt (line 105)) (3.1.3)\n",
      "Requirement already satisfied: wheel==0.45.1 in d:\\onedrive\\dokumente\\github desktop\\nonsig-master-thesis\\nonsig_venv\\lib\\site-packages (from -r requirements.txt (line 106)) (0.45.1)\n",
      "Requirement already satisfied: wrapt==1.17.2 in d:\\onedrive\\dokumente\\github desktop\\nonsig-master-thesis\\nonsig_venv\\lib\\site-packages (from -r requirements.txt (line 107)) (1.17.2)\n",
      "Requirement already satisfied: xxhash==3.5.0 in d:\\onedrive\\dokumente\\github desktop\\nonsig-master-thesis\\nonsig_venv\\lib\\site-packages (from -r requirements.txt (line 108)) (3.5.0)\n",
      "Requirement already satisfied: yarl==1.20.1 in d:\\onedrive\\dokumente\\github desktop\\nonsig-master-thesis\\nonsig_venv\\lib\\site-packages (from -r requirements.txt (line 109)) (1.20.1)\n",
      "Requirement already satisfied: torch>=2.0.0 in d:\\onedrive\\dokumente\\github desktop\\nonsig-master-thesis\\nonsig_venv\\lib\\site-packages (from accelerate==1.8.1->-r requirements.txt (line 2)) (2.7.1+cu128)\n"
     ]
    },
    {
     "name": "stderr",
     "output_type": "stream",
     "text": [
      "\n",
      "[notice] A new release of pip is available: 25.0.1 -> 25.1.1\n",
      "[notice] To update, run: python.exe -m pip install --upgrade pip\n"
     ]
    },
    {
     "name": "stdout",
     "output_type": "stream",
     "text": [
      "Looking in links: https://download.pytorch.org/whl/torch/\n",
      "Requirement already satisfied: torch==2.7.1+cu128 in d:\\onedrive\\dokumente\\github desktop\\nonsig-master-thesis\\nonsig_venv\\lib\\site-packages (2.7.1+cu128)\n",
      "Requirement already satisfied: filelock in d:\\onedrive\\dokumente\\github desktop\\nonsig-master-thesis\\nonsig_venv\\lib\\site-packages (from torch==2.7.1+cu128) (3.18.0)\n",
      "Requirement already satisfied: typing-extensions>=4.10.0 in d:\\onedrive\\dokumente\\github desktop\\nonsig-master-thesis\\nonsig_venv\\lib\\site-packages (from torch==2.7.1+cu128) (4.14.1)\n",
      "Requirement already satisfied: sympy>=1.13.3 in d:\\onedrive\\dokumente\\github desktop\\nonsig-master-thesis\\nonsig_venv\\lib\\site-packages (from torch==2.7.1+cu128) (1.14.0)\n",
      "Requirement already satisfied: networkx in d:\\onedrive\\dokumente\\github desktop\\nonsig-master-thesis\\nonsig_venv\\lib\\site-packages (from torch==2.7.1+cu128) (3.5)\n",
      "Requirement already satisfied: jinja2 in d:\\onedrive\\dokumente\\github desktop\\nonsig-master-thesis\\nonsig_venv\\lib\\site-packages (from torch==2.7.1+cu128) (3.1.6)\n",
      "Requirement already satisfied: fsspec in d:\\onedrive\\dokumente\\github desktop\\nonsig-master-thesis\\nonsig_venv\\lib\\site-packages (from torch==2.7.1+cu128) (2025.3.0)\n",
      "Requirement already satisfied: setuptools in d:\\onedrive\\dokumente\\github desktop\\nonsig-master-thesis\\nonsig_venv\\lib\\site-packages (from torch==2.7.1+cu128) (80.9.0)\n",
      "Requirement already satisfied: mpmath<1.4,>=1.1.0 in d:\\onedrive\\dokumente\\github desktop\\nonsig-master-thesis\\nonsig_venv\\lib\\site-packages (from sympy>=1.13.3->torch==2.7.1+cu128) (1.3.0)\n",
      "Requirement already satisfied: MarkupSafe>=2.0 in d:\\onedrive\\dokumente\\github desktop\\nonsig-master-thesis\\nonsig_venv\\lib\\site-packages (from jinja2->torch==2.7.1+cu128) (3.0.2)\n"
     ]
    },
    {
     "name": "stderr",
     "output_type": "stream",
     "text": [
      "\n",
      "[notice] A new release of pip is available: 25.0.1 -> 25.1.1\n",
      "[notice] To update, run: python.exe -m pip install --upgrade pip\n"
     ]
    },
    {
     "name": "stdout",
     "output_type": "stream",
     "text": [
      "Looking in links: https://download.pytorch.org/whl/torchaudio/\n",
      "Requirement already satisfied: torchaudio==2.7.1+cu128 in d:\\onedrive\\dokumente\\github desktop\\nonsig-master-thesis\\nonsig_venv\\lib\\site-packages (2.7.1+cu128)\n",
      "Requirement already satisfied: torch==2.7.1+cu128 in d:\\onedrive\\dokumente\\github desktop\\nonsig-master-thesis\\nonsig_venv\\lib\\site-packages (from torchaudio==2.7.1+cu128) (2.7.1+cu128)\n",
      "Requirement already satisfied: filelock in d:\\onedrive\\dokumente\\github desktop\\nonsig-master-thesis\\nonsig_venv\\lib\\site-packages (from torch==2.7.1+cu128->torchaudio==2.7.1+cu128) (3.18.0)\n",
      "Requirement already satisfied: typing-extensions>=4.10.0 in d:\\onedrive\\dokumente\\github desktop\\nonsig-master-thesis\\nonsig_venv\\lib\\site-packages (from torch==2.7.1+cu128->torchaudio==2.7.1+cu128) (4.14.1)\n",
      "Requirement already satisfied: sympy>=1.13.3 in d:\\onedrive\\dokumente\\github desktop\\nonsig-master-thesis\\nonsig_venv\\lib\\site-packages (from torch==2.7.1+cu128->torchaudio==2.7.1+cu128) (1.14.0)\n",
      "Requirement already satisfied: networkx in d:\\onedrive\\dokumente\\github desktop\\nonsig-master-thesis\\nonsig_venv\\lib\\site-packages (from torch==2.7.1+cu128->torchaudio==2.7.1+cu128) (3.5)\n",
      "Requirement already satisfied: jinja2 in d:\\onedrive\\dokumente\\github desktop\\nonsig-master-thesis\\nonsig_venv\\lib\\site-packages (from torch==2.7.1+cu128->torchaudio==2.7.1+cu128) (3.1.6)\n",
      "Requirement already satisfied: fsspec in d:\\onedrive\\dokumente\\github desktop\\nonsig-master-thesis\\nonsig_venv\\lib\\site-packages (from torch==2.7.1+cu128->torchaudio==2.7.1+cu128) (2025.3.0)\n",
      "Requirement already satisfied: setuptools in d:\\onedrive\\dokumente\\github desktop\\nonsig-master-thesis\\nonsig_venv\\lib\\site-packages (from torch==2.7.1+cu128->torchaudio==2.7.1+cu128) (80.9.0)\n",
      "Requirement already satisfied: mpmath<1.4,>=1.1.0 in d:\\onedrive\\dokumente\\github desktop\\nonsig-master-thesis\\nonsig_venv\\lib\\site-packages (from sympy>=1.13.3->torch==2.7.1+cu128->torchaudio==2.7.1+cu128) (1.3.0)\n",
      "Requirement already satisfied: MarkupSafe>=2.0 in d:\\onedrive\\dokumente\\github desktop\\nonsig-master-thesis\\nonsig_venv\\lib\\site-packages (from jinja2->torch==2.7.1+cu128->torchaudio==2.7.1+cu128) (3.0.2)\n"
     ]
    },
    {
     "name": "stderr",
     "output_type": "stream",
     "text": [
      "\n",
      "[notice] A new release of pip is available: 25.0.1 -> 25.1.1\n",
      "[notice] To update, run: python.exe -m pip install --upgrade pip\n"
     ]
    },
    {
     "name": "stdout",
     "output_type": "stream",
     "text": [
      "Looking in links: https://download.pytorch.org/whl/torchvision/\n",
      "Requirement already satisfied: torchvision==0.22.1+cu128 in d:\\onedrive\\dokumente\\github desktop\\nonsig-master-thesis\\nonsig_venv\\lib\\site-packages (0.22.1+cu128)\n",
      "Requirement already satisfied: numpy in d:\\onedrive\\dokumente\\github desktop\\nonsig-master-thesis\\nonsig_venv\\lib\\site-packages (from torchvision==0.22.1+cu128) (2.1.3)\n",
      "Requirement already satisfied: torch==2.7.1+cu128 in d:\\onedrive\\dokumente\\github desktop\\nonsig-master-thesis\\nonsig_venv\\lib\\site-packages (from torchvision==0.22.1+cu128) (2.7.1+cu128)\n",
      "Requirement already satisfied: pillow!=8.3.*,>=5.3.0 in d:\\onedrive\\dokumente\\github desktop\\nonsig-master-thesis\\nonsig_venv\\lib\\site-packages (from torchvision==0.22.1+cu128) (11.3.0)\n",
      "Requirement already satisfied: filelock in d:\\onedrive\\dokumente\\github desktop\\nonsig-master-thesis\\nonsig_venv\\lib\\site-packages (from torch==2.7.1+cu128->torchvision==0.22.1+cu128) (3.18.0)\n",
      "Requirement already satisfied: typing-extensions>=4.10.0 in d:\\onedrive\\dokumente\\github desktop\\nonsig-master-thesis\\nonsig_venv\\lib\\site-packages (from torch==2.7.1+cu128->torchvision==0.22.1+cu128) (4.14.1)\n",
      "Requirement already satisfied: sympy>=1.13.3 in d:\\onedrive\\dokumente\\github desktop\\nonsig-master-thesis\\nonsig_venv\\lib\\site-packages (from torch==2.7.1+cu128->torchvision==0.22.1+cu128) (1.14.0)\n",
      "Requirement already satisfied: networkx in d:\\onedrive\\dokumente\\github desktop\\nonsig-master-thesis\\nonsig_venv\\lib\\site-packages (from torch==2.7.1+cu128->torchvision==0.22.1+cu128) (3.5)\n",
      "Requirement already satisfied: jinja2 in d:\\onedrive\\dokumente\\github desktop\\nonsig-master-thesis\\nonsig_venv\\lib\\site-packages (from torch==2.7.1+cu128->torchvision==0.22.1+cu128) (3.1.6)\n",
      "Requirement already satisfied: fsspec in d:\\onedrive\\dokumente\\github desktop\\nonsig-master-thesis\\nonsig_venv\\lib\\site-packages (from torch==2.7.1+cu128->torchvision==0.22.1+cu128) (2025.3.0)\n",
      "Requirement already satisfied: setuptools in d:\\onedrive\\dokumente\\github desktop\\nonsig-master-thesis\\nonsig_venv\\lib\\site-packages (from torch==2.7.1+cu128->torchvision==0.22.1+cu128) (80.9.0)\n",
      "Requirement already satisfied: mpmath<1.4,>=1.1.0 in d:\\onedrive\\dokumente\\github desktop\\nonsig-master-thesis\\nonsig_venv\\lib\\site-packages (from sympy>=1.13.3->torch==2.7.1+cu128->torchvision==0.22.1+cu128) (1.3.0)\n",
      "Requirement already satisfied: MarkupSafe>=2.0 in d:\\onedrive\\dokumente\\github desktop\\nonsig-master-thesis\\nonsig_venv\\lib\\site-packages (from jinja2->torch==2.7.1+cu128->torchvision==0.22.1+cu128) (3.0.2)\n"
     ]
    },
    {
     "name": "stderr",
     "output_type": "stream",
     "text": [
      "\n",
      "[notice] A new release of pip is available: 25.0.1 -> 25.1.1\n",
      "[notice] To update, run: python.exe -m pip install --upgrade pip\n"
     ]
    }
   ],
   "source": [
    "! pip install -r requirements.txt\n",
    "\n",
    "# If you work with GPU-support:\n",
    "! pip install torch==2.7.1+cu128 -f https://download.pytorch.org/whl/torch/\n",
    "! pip install torchaudio==2.7.1+cu128 -f https://download.pytorch.org/whl/torchaudio/\n",
    "! pip install torchvision==0.22.1+cu128 -f https://download.pytorch.org/whl/torchvision/\n",
    "\n",
    "# If you only work with CPU-support:\n",
    "# ! pip install torch==2.7.1\n",
    "# ! pip install torchaudio==2.7.1\n",
    "# ! pip install torchvision==0.22.1"
   ]
  },
  {
   "cell_type": "markdown",
   "id": "6d5fa995",
   "metadata": {},
   "source": [
    "### 0.2 GPU setup"
   ]
  },
  {
   "cell_type": "code",
   "execution_count": 238,
   "id": "a3336508",
   "metadata": {},
   "outputs": [
    {
     "name": "stdout",
     "output_type": "stream",
     "text": [
      "True\n",
      "0\n",
      "NVIDIA GeForce RTX 3070\n"
     ]
    }
   ],
   "source": [
    "# Check if CUDA is available and print the current device's name\n",
    "import torch\n",
    "print(torch.cuda.is_available())\n",
    "if torch.cuda.is_available():\n",
    "    print(torch.cuda.current_device())\n",
    "    print(torch.cuda.get_device_name(0))"
   ]
  },
  {
   "cell_type": "markdown",
   "id": "19253634",
   "metadata": {},
   "source": [
    "## 1 Configuration"
   ]
  },
  {
   "cell_type": "code",
   "execution_count": 239,
   "id": "ff026edd",
   "metadata": {},
   "outputs": [],
   "source": [
    "# Data variables\n",
    "data_path = \"../../data/training_data/labeled/labeled_data.xlsx\" # path to the Excel file with the labeled data\n",
    "validation_path = \"../../data/validation_data/validation_data.csv\" # path to where the validation set should be stored\n",
    "results_path = \"../../data/model_performance\" # path to where the results should be stored\n",
    "text_column_name = \"expanded\" # name of the column containing the text to classify\n",
    "label_column_name = \"label_strict\" # name of the column containing the labels (0 = correct or 1 = incorrect)\n",
    "num_labels = 2 # binary classification (see above)\n",
    "\n",
    "# Model configuration\n",
    "model_name = \"bert-base-uncased\" # standard; I specify other models in the \"3. Initialize Models\" section of this script\n",
    "test_size = 0.2 # ratio of the dataset to be used for testing\n",
    "max_length = 512 # maximum length of the input sequences for BERT\n",
    "num_epochs = 10 # number of epochs for training\n",
    "batch_size = 8 # batch size for training and evaluation\n",
    "learning_rate = 2e-5 # learning rate for the optimizer\n",
    "weight_decay = 0.01 # weight decay for the optimizer\n",
    "early_stopping_patience = 2 # number of epochs with no improvement after which training will be stopped\n",
    "\n",
    "# Seed for reproducibility\n",
    "import random\n",
    "import numpy as np\n",
    "from transformers import set_seed\n",
    "import os\n",
    "\n",
    "seed = 42\n",
    "\n",
    "os.environ['PYTHONHASHSEED'] = str(seed)\n",
    "random.seed(seed)\n",
    "np.random.seed(seed)\n",
    "torch.manual_seed(seed)\n",
    "torch.cuda.manual_seed_all(seed)\n",
    "set_seed(seed)\n",
    "torch.backends.cudnn.deterministic = True\n",
    "torch.backends.cudnn.benchmark = False\n",
    "\n",
    "# Should 20% of the data be used for validation?\n",
    "do_validation = False"
   ]
  },
  {
   "cell_type": "markdown",
   "id": "050e4828",
   "metadata": {},
   "source": [
    "## 2 Read and prepare dataset"
   ]
  },
  {
   "cell_type": "code",
   "execution_count": 240,
   "id": "1789fc47",
   "metadata": {},
   "outputs": [
    {
     "data": {
      "text/html": [
       "<div>\n",
       "<style scoped>\n",
       "    .dataframe tbody tr th:only-of-type {\n",
       "        vertical-align: middle;\n",
       "    }\n",
       "\n",
       "    .dataframe tbody tr th {\n",
       "        vertical-align: top;\n",
       "    }\n",
       "\n",
       "    .dataframe thead th {\n",
       "        text-align: right;\n",
       "    }\n",
       "</style>\n",
       "<table border=\"1\" class=\"dataframe\">\n",
       "  <thead>\n",
       "    <tr style=\"text-align: right;\">\n",
       "      <th></th>\n",
       "      <th>text</th>\n",
       "      <th>label</th>\n",
       "    </tr>\n",
       "  </thead>\n",
       "  <tbody>\n",
       "    <tr>\n",
       "      <th>0</th>\n",
       "      <td>For relative changes in pupil size, we obtaine...</td>\n",
       "      <td>1</td>\n",
       "    </tr>\n",
       "    <tr>\n",
       "      <th>1</th>\n",
       "      <td>These differences did not reach statistical si...</td>\n",
       "      <td>0</td>\n",
       "    </tr>\n",
       "    <tr>\n",
       "      <th>2</th>\n",
       "      <td>In Experiment 3 (as in Experiment 2), this eff...</td>\n",
       "      <td>1</td>\n",
       "    </tr>\n",
       "    <tr>\n",
       "      <th>3</th>\n",
       "      <td>The decline in the joy condition did not diffe...</td>\n",
       "      <td>1</td>\n",
       "    </tr>\n",
       "    <tr>\n",
       "      <th>4</th>\n",
       "      <td>The main effect of illness recency did not mee...</td>\n",
       "      <td>0</td>\n",
       "    </tr>\n",
       "  </tbody>\n",
       "</table>\n",
       "</div>"
      ],
      "text/plain": [
       "                                                text  label\n",
       "0  For relative changes in pupil size, we obtaine...      1\n",
       "1  These differences did not reach statistical si...      0\n",
       "2  In Experiment 3 (as in Experiment 2), this eff...      1\n",
       "3  The decline in the joy condition did not diffe...      1\n",
       "4  The main effect of illness recency did not mee...      0"
      ]
     },
     "execution_count": 240,
     "metadata": {},
     "output_type": "execute_result"
    }
   ],
   "source": [
    "import pandas as pd\n",
    "from sklearn.utils import resample\n",
    "from sklearn.model_selection import train_test_split\n",
    "\n",
    "# Load the data\n",
    "df = pd.read_excel(data_path)\n",
    "\n",
    "# Remove all columns but 'expanded' and 'label_strict'\n",
    "df = df.drop(columns=['statement_id', 'section', 'header','div', 'p', 's', 'article_id', 'p_comp', 'p_value', 'context', 'text', 'label_kind', 'label_keywords', 'label_comment'])\n",
    "\n",
    "# Change column names\n",
    "df = df.rename(columns={text_column_name: 'text', label_column_name: 'label'})\n",
    "\n",
    "# Remove rows where 'label' is NA\n",
    "df = df[df['label'].notna()]\n",
    "\n",
    "if do_validation == True:\n",
    "    # Put 20 % of the data (with labels 0, 1, or -99) into a validation set\n",
    "    df, val_df = train_test_split(\n",
    "        df,\n",
    "        test_size=0.2,\n",
    "        stratify=df['label'],\n",
    "        random_state=seed\n",
    "    )\n",
    "\n",
    "    # Save validation set as 'validation_data.csv' at 'validation_path'\n",
    "    val_df.to_csv(validation_path, index=False)\n",
    "\n",
    "# Remove rows where 'label' is -99\n",
    "df = df[df['label'] != -99]\n",
    "\n",
    "# Convert label column to int (required for classification)\n",
    "df['label'] = df['label'].astype(int)\n",
    "\n",
    "# Balance labels via undersampling (generalized)\n",
    "label_counts = df['label'].value_counts()  # Get counts of each label\n",
    "minority_label = label_counts.idxmin() # Get the minority label\n",
    "majority_label = label_counts.idxmax() # Get the majority label\n",
    "\n",
    "df_minority = df[df['label'] == minority_label]\n",
    "df_majority = df[df['label'] == majority_label]\n",
    "\n",
    "df_majority_downsampled = resample( # Downsample majority label\n",
    "    df_majority,\n",
    "    replace=False,\n",
    "    n_samples=len(df_minority),\n",
    "    random_state=seed\n",
    ")\n",
    "\n",
    "df = pd.concat([df_majority_downsampled, df_minority]).sample(frac=1, random_state=seed).reset_index(drop=True)\n",
    "\n",
    "# Show head\n",
    "df.head()"
   ]
  },
  {
   "cell_type": "markdown",
   "id": "c2e53af8",
   "metadata": {},
   "source": [
    "### 2.1 Create Train/Test set"
   ]
  },
  {
   "cell_type": "code",
   "execution_count": 241,
   "id": "2e797a35",
   "metadata": {},
   "outputs": [],
   "source": [
    "from sklearn.model_selection import train_test_split\n",
    "\n",
    "# Split the dataset into training and test sets\n",
    "df_train, df_test = train_test_split(df, test_size=test_size, random_state=seed, stratify=df['label'])\n",
    "\n",
    "# Convert to Huggingface dataset\n",
    "from datasets import Dataset\n",
    "train_dataset = Dataset.from_pandas(df_train)\n",
    "test_dataset = Dataset.from_pandas(df_test)"
   ]
  },
  {
   "cell_type": "markdown",
   "id": "ecff339a",
   "metadata": {},
   "source": [
    "Header of the Training set:"
   ]
  },
  {
   "cell_type": "code",
   "execution_count": 242,
   "id": "8f28446b",
   "metadata": {},
   "outputs": [
    {
     "data": {
      "text/html": [
       "<div>\n",
       "<style scoped>\n",
       "    .dataframe tbody tr th:only-of-type {\n",
       "        vertical-align: middle;\n",
       "    }\n",
       "\n",
       "    .dataframe tbody tr th {\n",
       "        vertical-align: top;\n",
       "    }\n",
       "\n",
       "    .dataframe thead th {\n",
       "        text-align: right;\n",
       "    }\n",
       "</style>\n",
       "<table border=\"1\" class=\"dataframe\">\n",
       "  <thead>\n",
       "    <tr style=\"text-align: right;\">\n",
       "      <th></th>\n",
       "      <th>text</th>\n",
       "      <th>label</th>\n",
       "    </tr>\n",
       "  </thead>\n",
       "  <tbody>\n",
       "    <tr>\n",
       "      <th>559</th>\n",
       "      <td>Further-although participant-centered valence ...</td>\n",
       "      <td>1</td>\n",
       "    </tr>\n",
       "    <tr>\n",
       "      <th>245</th>\n",
       "      <td>No extra variance was explained by adding a qu...</td>\n",
       "      <td>1</td>\n",
       "    </tr>\n",
       "    <tr>\n",
       "      <th>265</th>\n",
       "      <td>The previous interval between fixation onset a...</td>\n",
       "      <td>0</td>\n",
       "    </tr>\n",
       "    <tr>\n",
       "      <th>451</th>\n",
       "      <td>Participants in the time-pressure condition (n...</td>\n",
       "      <td>0</td>\n",
       "    </tr>\n",
       "    <tr>\n",
       "      <th>80</th>\n",
       "      <td>There was no interaction between emotion and t...</td>\n",
       "      <td>1</td>\n",
       "    </tr>\n",
       "  </tbody>\n",
       "</table>\n",
       "</div>"
      ],
      "text/plain": [
       "                                                  text  label\n",
       "559  Further-although participant-centered valence ...      1\n",
       "245  No extra variance was explained by adding a qu...      1\n",
       "265  The previous interval between fixation onset a...      0\n",
       "451  Participants in the time-pressure condition (n...      0\n",
       "80   There was no interaction between emotion and t...      1"
      ]
     },
     "execution_count": 242,
     "metadata": {},
     "output_type": "execute_result"
    }
   ],
   "source": [
    "df_train.head()"
   ]
  },
  {
   "cell_type": "code",
   "execution_count": 243,
   "id": "c3ca483d",
   "metadata": {},
   "outputs": [
    {
     "name": "stdout",
     "output_type": "stream",
     "text": [
      "Training label distribution:\n",
      "label\n",
      "1    267\n",
      "0    267\n",
      "Name: count, dtype: int64\n"
     ]
    }
   ],
   "source": [
    "# Check label balance in training set\n",
    "print(\"Training label distribution:\")\n",
    "print(df_train['label'].value_counts())"
   ]
  },
  {
   "cell_type": "markdown",
   "id": "80c18c19",
   "metadata": {},
   "source": [
    "Header of the Test set:"
   ]
  },
  {
   "cell_type": "code",
   "execution_count": 244,
   "id": "2a7722b9",
   "metadata": {},
   "outputs": [
    {
     "data": {
      "text/html": [
       "<div>\n",
       "<style scoped>\n",
       "    .dataframe tbody tr th:only-of-type {\n",
       "        vertical-align: middle;\n",
       "    }\n",
       "\n",
       "    .dataframe tbody tr th {\n",
       "        vertical-align: top;\n",
       "    }\n",
       "\n",
       "    .dataframe thead th {\n",
       "        text-align: right;\n",
       "    }\n",
       "</style>\n",
       "<table border=\"1\" class=\"dataframe\">\n",
       "  <thead>\n",
       "    <tr style=\"text-align: right;\">\n",
       "      <th></th>\n",
       "      <th>text</th>\n",
       "      <th>label</th>\n",
       "    </tr>\n",
       "  </thead>\n",
       "  <tbody>\n",
       "    <tr>\n",
       "      <th>396</th>\n",
       "      <td>When both targets were available, observers sw...</td>\n",
       "      <td>1</td>\n",
       "    </tr>\n",
       "    <tr>\n",
       "      <th>628</th>\n",
       "      <td>As shown in Figure 4, stressed participants wh...</td>\n",
       "      <td>1</td>\n",
       "    </tr>\n",
       "    <tr>\n",
       "      <th>144</th>\n",
       "      <td>Viewed differently, participants disliked avoi...</td>\n",
       "      <td>1</td>\n",
       "    </tr>\n",
       "    <tr>\n",
       "      <th>552</th>\n",
       "      <td>There was no significant interaction, F(2.74, ...</td>\n",
       "      <td>0</td>\n",
       "    </tr>\n",
       "    <tr>\n",
       "      <th>37</th>\n",
       "      <td>When we compared the responses from the foregr...</td>\n",
       "      <td>0</td>\n",
       "    </tr>\n",
       "  </tbody>\n",
       "</table>\n",
       "</div>"
      ],
      "text/plain": [
       "                                                  text  label\n",
       "396  When both targets were available, observers sw...      1\n",
       "628  As shown in Figure 4, stressed participants wh...      1\n",
       "144  Viewed differently, participants disliked avoi...      1\n",
       "552  There was no significant interaction, F(2.74, ...      0\n",
       "37   When we compared the responses from the foregr...      0"
      ]
     },
     "execution_count": 244,
     "metadata": {},
     "output_type": "execute_result"
    }
   ],
   "source": [
    "df_test.head()"
   ]
  },
  {
   "cell_type": "code",
   "execution_count": 245,
   "id": "fc4d85ef",
   "metadata": {},
   "outputs": [
    {
     "name": "stdout",
     "output_type": "stream",
     "text": [
      "Test label distribution:\n",
      "label\n",
      "1    67\n",
      "0    67\n",
      "Name: count, dtype: int64\n"
     ]
    }
   ],
   "source": [
    "# Check label balance in test set\n",
    "print(\"Test label distribution:\")\n",
    "print(df_test['label'].value_counts())"
   ]
  },
  {
   "cell_type": "markdown",
   "id": "7ada89b4",
   "metadata": {},
   "source": [
    "### 2.2 Tokenize 'text'"
   ]
  },
  {
   "cell_type": "code",
   "execution_count": 246,
   "id": "4f669e54",
   "metadata": {},
   "outputs": [
    {
     "name": "stderr",
     "output_type": "stream",
     "text": [
      "Map: 100%|██████████| 534/534 [00:00<00:00, 8904.36 examples/s]\n",
      "Map: 100%|██████████| 134/134 [00:00<00:00, 6733.48 examples/s]\n"
     ]
    }
   ],
   "source": [
    "from transformers import AutoTokenizer\n",
    "\n",
    "tokenizer = AutoTokenizer.from_pretrained(model_name)\n",
    "\n",
    "def tokenize_for_bert(examples):\n",
    "    return tokenizer(examples[\"text\"], truncation=True, padding=True, max_length=max_length)\n",
    "\n",
    "tokenized_train = train_dataset.map(tokenize_for_bert, batched=True)\n",
    "\n",
    "tokenized_test = test_dataset.map(tokenize_for_bert, batched=True)"
   ]
  },
  {
   "cell_type": "markdown",
   "id": "8f2bf57e",
   "metadata": {},
   "source": [
    "## 3 Train BERT"
   ]
  },
  {
   "cell_type": "markdown",
   "id": "ef0e7023",
   "metadata": {},
   "source": [
    "### 3.1 Initializing model"
   ]
  },
  {
   "cell_type": "code",
   "execution_count": 247,
   "id": "d32e1ea4",
   "metadata": {},
   "outputs": [
    {
     "name": "stderr",
     "output_type": "stream",
     "text": [
      "Some weights of BertForSequenceClassification were not initialized from the model checkpoint at bert-base-uncased and are newly initialized: ['classifier.bias', 'classifier.weight']\n",
      "You should probably TRAIN this model on a down-stream task to be able to use it for predictions and inference.\n"
     ]
    }
   ],
   "source": [
    "from transformers import AutoModelForSequenceClassification\n",
    "\n",
    "model = AutoModelForSequenceClassification.from_pretrained(model_name, num_labels=num_labels)"
   ]
  },
  {
   "cell_type": "markdown",
   "id": "df611f60",
   "metadata": {},
   "source": [
    "### 3.2 Training regular BERT"
   ]
  },
  {
   "cell_type": "code",
   "execution_count": 248,
   "id": "7b330cbd",
   "metadata": {},
   "outputs": [
    {
     "name": "stderr",
     "output_type": "stream",
     "text": [
      "C:\\Users\\raphi\\AppData\\Local\\Temp\\ipykernel_24452\\923563418.py:43: FutureWarning: `tokenizer` is deprecated and will be removed in version 5.0.0 for `Trainer.__init__`. Use `processing_class` instead.\n",
      "  trainer = Trainer(\n"
     ]
    }
   ],
   "source": [
    "# Standard Setup for training a model with Huggingface Transformers\n",
    "from sklearn.metrics import accuracy_score, precision_recall_fscore_support\n",
    "from transformers import EarlyStoppingCallback\n",
    "from transformers import DataCollatorWithPadding\n",
    "from transformers import TrainingArguments, Trainer\n",
    "import evaluate\n",
    "import numpy as np\n",
    "\n",
    "data_collator = DataCollatorWithPadding(tokenizer=tokenizer)\n",
    "\n",
    "metric = evaluate.load(\"accuracy\")\n",
    "\n",
    "def compute_metrics(eval_pred):\n",
    "    logits, labels = eval_pred\n",
    "    preds = np.argmax(logits, axis=-1)\n",
    "\n",
    "    acc = accuracy_score(labels, preds)\n",
    "    precision, recall, f1, _ = precision_recall_fscore_support(labels, preds, average=\"binary\")\n",
    "\n",
    "    return {\n",
    "        \"accuracy\": acc,\n",
    "        \"precision\": precision,\n",
    "        \"recall\": recall,\n",
    "        \"f1\": f1\n",
    "    }\n",
    "\n",
    "training_args = TrainingArguments(\n",
    "    output_dir=\"./results\",\n",
    "    learning_rate=learning_rate, # Specify learning rate for BERT\n",
    "    per_device_train_batch_size=batch_size,\n",
    "    per_device_eval_batch_size=batch_size,\n",
    "    num_train_epochs=num_epochs,\n",
    "    weight_decay=weight_decay,\n",
    "    logging_strategy=\"epoch\",\n",
    "    report_to=\"none\",\n",
    "    save_strategy=\"epoch\",\n",
    "    eval_strategy=\"epoch\",\n",
    "    load_best_model_at_end=True,\n",
    "    seed=seed\n",
    ")\n",
    "\n",
    "# Model specific setup\n",
    "trainer = Trainer(\n",
    "    model=model,\n",
    "    args=training_args,\n",
    "    train_dataset=tokenized_train,\n",
    "    eval_dataset=tokenized_test,\n",
    "    tokenizer=tokenizer,\n",
    "    data_collator=data_collator,\n",
    "    compute_metrics=compute_metrics,\n",
    "    callbacks=[EarlyStoppingCallback(early_stopping_patience=early_stopping_patience)]  # Stop training if no improvement after 2 epochs\n",
    ")"
   ]
  },
  {
   "cell_type": "code",
   "execution_count": 249,
   "id": "a0ab3c9e",
   "metadata": {},
   "outputs": [
    {
     "data": {
      "text/html": [
       "\n",
       "    <div>\n",
       "      \n",
       "      <progress value='268' max='670' style='width:300px; height:20px; vertical-align: middle;'></progress>\n",
       "      [268/670 01:36 < 02:25, 2.76 it/s, Epoch 4/10]\n",
       "    </div>\n",
       "    <table border=\"1\" class=\"dataframe\">\n",
       "  <thead>\n",
       " <tr style=\"text-align: left;\">\n",
       "      <th>Epoch</th>\n",
       "      <th>Training Loss</th>\n",
       "      <th>Validation Loss</th>\n",
       "      <th>Accuracy</th>\n",
       "      <th>Precision</th>\n",
       "      <th>Recall</th>\n",
       "      <th>F1</th>\n",
       "    </tr>\n",
       "  </thead>\n",
       "  <tbody>\n",
       "    <tr>\n",
       "      <td>1</td>\n",
       "      <td>0.679600</td>\n",
       "      <td>0.533590</td>\n",
       "      <td>0.783582</td>\n",
       "      <td>0.952381</td>\n",
       "      <td>0.597015</td>\n",
       "      <td>0.733945</td>\n",
       "    </tr>\n",
       "    <tr>\n",
       "      <td>2</td>\n",
       "      <td>0.322100</td>\n",
       "      <td>0.316363</td>\n",
       "      <td>0.925373</td>\n",
       "      <td>0.983051</td>\n",
       "      <td>0.865672</td>\n",
       "      <td>0.920635</td>\n",
       "    </tr>\n",
       "    <tr>\n",
       "      <td>3</td>\n",
       "      <td>0.109600</td>\n",
       "      <td>0.344911</td>\n",
       "      <td>0.932836</td>\n",
       "      <td>0.953125</td>\n",
       "      <td>0.910448</td>\n",
       "      <td>0.931298</td>\n",
       "    </tr>\n",
       "    <tr>\n",
       "      <td>4</td>\n",
       "      <td>0.046500</td>\n",
       "      <td>0.525724</td>\n",
       "      <td>0.895522</td>\n",
       "      <td>0.981818</td>\n",
       "      <td>0.805970</td>\n",
       "      <td>0.885246</td>\n",
       "    </tr>\n",
       "  </tbody>\n",
       "</table><p>"
      ],
      "text/plain": [
       "<IPython.core.display.HTML object>"
      ]
     },
     "metadata": {},
     "output_type": "display_data"
    },
    {
     "data": {
      "text/plain": [
       "TrainOutput(global_step=268, training_loss=0.28945051467240746, metrics={'train_runtime': 96.7599, 'train_samples_per_second': 55.188, 'train_steps_per_second': 6.924, 'total_flos': 304053602240160.0, 'train_loss': 0.28945051467240746, 'epoch': 4.0})"
      ]
     },
     "execution_count": 249,
     "metadata": {},
     "output_type": "execute_result"
    }
   ],
   "source": [
    "trainer.train()"
   ]
  },
  {
   "cell_type": "code",
   "execution_count": 250,
   "id": "2062839c",
   "metadata": {},
   "outputs": [
    {
     "data": {
      "image/png": "[encoded data removed]",
      "text/plain": [
       "<Figure size 800x500 with 1 Axes>"
      ]
     },
     "metadata": {},
     "output_type": "display_data"
    }
   ],
   "source": [
    "# Visualize loss curves\n",
    "import matplotlib.pyplot as plt\n",
    "\n",
    "# Extract training log history\n",
    "logs = pd.DataFrame(trainer.state.log_history)\n",
    "\n",
    "# Filter for loss values\n",
    "loss_logs = logs[logs[\"loss\"].notnull()][[\"epoch\", \"loss\"]]\n",
    "eval_logs = logs[logs[\"eval_loss\"].notnull()][[\"epoch\", \"eval_loss\"]]\n",
    "\n",
    "# Plotting\n",
    "plt.figure(figsize=(8, 5))\n",
    "plt.plot(loss_logs[\"epoch\"], loss_logs[\"loss\"], label=\"Training Loss\")\n",
    "plt.plot(eval_logs[\"epoch\"], eval_logs[\"eval_loss\"], label=\"Validation Loss\")\n",
    "plt.xlabel(\"Epoch\")\n",
    "plt.ylabel(\"Loss\")\n",
    "plt.title(\"Training and Validation Loss\")\n",
    "plt.legend()\n",
    "plt.grid(True)\n",
    "plt.tight_layout()\n",
    "plt.show()"
   ]
  },
  {
   "cell_type": "markdown",
   "id": "86a63e73",
   "metadata": {},
   "source": [
    "#### 3.2.1 Save last model"
   ]
  },
  {
   "cell_type": "code",
   "execution_count": 251,
   "id": "ab2a5e7a",
   "metadata": {},
   "outputs": [
    {
     "data": {
      "text/plain": [
       "('./best_model\\\\tokenizer_config.json',\n",
       " './best_model\\\\special_tokens_map.json',\n",
       " './best_model\\\\vocab.txt',\n",
       " './best_model\\\\added_tokens.json',\n",
       " './best_model\\\\tokenizer.json')"
      ]
     },
     "execution_count": 251,
     "metadata": {},
     "output_type": "execute_result"
    }
   ],
   "source": [
    "# Save the best model and tokenizer\n",
    "trainer.save_model(\"./best_model\")\n",
    "tokenizer.save_pretrained(\"./best_model\")"
   ]
  },
  {
   "cell_type": "markdown",
   "id": "63996c7d",
   "metadata": {},
   "source": [
    "### 3.3 Evaluate model"
   ]
  },
  {
   "cell_type": "markdown",
   "id": "42526e66",
   "metadata": {},
   "source": [
    "#### 3.3.1 Predict training data"
   ]
  },
  {
   "cell_type": "code",
   "execution_count": 252,
   "id": "1016cf86",
   "metadata": {},
   "outputs": [
    {
     "data": {
      "text/html": [],
      "text/plain": [
       "<IPython.core.display.HTML object>"
      ]
     },
     "metadata": {},
     "output_type": "display_data"
    },
    {
     "name": "stdout",
     "output_type": "stream",
     "text": [
      "Training Classification Report:\n",
      "              precision    recall  f1-score   support\n",
      "\n",
      "           0       0.96      0.99      0.97       267\n",
      "           1       0.99      0.96      0.97       267\n",
      "\n",
      "    accuracy                           0.97       534\n",
      "   macro avg       0.97      0.97      0.97       534\n",
      "weighted avg       0.97      0.97      0.97       534\n",
      "\n"
     ]
    }
   ],
   "source": [
    "from sklearn.metrics import classification_report\n",
    "\n",
    "train_preds = trainer.predict(tokenized_train)\n",
    "train_preds = np.argmax(train_preds.predictions, axis=1)\n",
    "GT_train = df_train['label'].tolist()\n",
    "print(\"Training Classification Report:\")\n",
    "print(classification_report(GT_train, train_preds))"
   ]
  },
  {
   "cell_type": "markdown",
   "id": "ee34e701",
   "metadata": {},
   "source": [
    "#### 3.3.2 Predict test data"
   ]
  },
  {
   "cell_type": "code",
   "execution_count": 253,
   "id": "c1671518",
   "metadata": {},
   "outputs": [
    {
     "data": {
      "text/html": [],
      "text/plain": [
       "<IPython.core.display.HTML object>"
      ]
     },
     "metadata": {},
     "output_type": "display_data"
    },
    {
     "name": "stdout",
     "output_type": "stream",
     "text": [
      "Test Classification Report:\n",
      "              precision    recall  f1-score   support\n",
      "\n",
      "           0       0.88      0.99      0.93        67\n",
      "           1       0.98      0.87      0.92        67\n",
      "\n",
      "    accuracy                           0.93       134\n",
      "   macro avg       0.93      0.93      0.93       134\n",
      "weighted avg       0.93      0.93      0.93       134\n",
      "\n"
     ]
    }
   ],
   "source": [
    "test_preds = trainer.predict(tokenized_test)\n",
    "test_preds = np.argmax(test_preds.predictions, axis=1)\n",
    "GT_test = df_test['label'].tolist()\n",
    "print(\"Test Classification Report:\")\n",
    "print(classification_report(GT_test, test_preds))"
   ]
  },
  {
   "cell_type": "code",
   "execution_count": 254,
   "id": "75e5849a",
   "metadata": {},
   "outputs": [],
   "source": [
    "# Save test results in 'classification_report.csv'\n",
    "\n",
    "# Get classification report as a dict\n",
    "report_dict = classification_report(GT_test, test_preds, output_dict=True)\n",
    "\n",
    "# Convert to DataFrame\n",
    "report_df = pd.DataFrame(report_dict).transpose()\n",
    "\n",
    "# Optionally reset index for nicer format\n",
    "report_df = report_df.reset_index().rename(columns={\"index\": \"class\"})\n",
    "\n",
    "# Save to CSV if you want\n",
    "from pathlib import Path\n",
    "report_df.to_csv(Path(results_path) / \"classification_report.csv\", index=False)"
   ]
  },
  {
   "cell_type": "markdown",
   "id": "e2830b7b",
   "metadata": {},
   "source": [
    "#### 3.3.3 4.3.3 Confusion-Matrix for test data"
   ]
  },
  {
   "cell_type": "code",
   "execution_count": 255,
   "id": "bc29093b",
   "metadata": {},
   "outputs": [
    {
     "data": {
      "image/png": "[encoded data removed]",
      "text/plain": [
       "<Figure size 600x500 with 2 Axes>"
      ]
     },
     "metadata": {},
     "output_type": "display_data"
    }
   ],
   "source": [
    "import seaborn as sns\n",
    "from sklearn.metrics import confusion_matrix\n",
    "import matplotlib.pyplot as plt\n",
    "\n",
    "# Use predictions and ground truth from previous evaluation on test set\n",
    "conf_matrix = confusion_matrix(GT_test, test_preds)\n",
    "\n",
    "plt.figure(figsize=(6,5))\n",
    "sns.heatmap(conf_matrix, annot=True, fmt='d', cmap='Blues',\n",
    "            xticklabels=[\"correct\", \"incorrect\"],\n",
    "            yticklabels=[\"correct\", \"incorrect\"])\n",
    "\n",
    "plt.xlabel('Predicted Label')\n",
    "plt.ylabel('True Label')\n",
    "plt.title('Confusion Matrix')\n",
    "\n",
    "# Save the figure (before or after plt.show())\n",
    "plt.savefig(Path(results_path) / \"confusion_matrix.png\", dpi=300, bbox_inches='tight')\n",
    "\n",
    "plt.show()"
   ]
  },
  {
   "cell_type": "code",
   "execution_count": 256,
   "id": "f2714bc6",
   "metadata": {},
   "outputs": [
    {
     "name": "stdout",
     "output_type": "stream",
     "text": [
      "Test F1 score: 0.921\n"
     ]
    }
   ],
   "source": [
    "# F1 score printout\n",
    "from sklearn.metrics import f1_score\n",
    "print(f\"Test F1 score: {f1_score(GT_test, test_preds):.3f}\")"
   ]
  },
  {
   "cell_type": "markdown",
   "id": "12e9b778",
   "metadata": {},
   "source": [
    "#### 3.3.4 List of statements per category (TP, TN, FP, FN)"
   ]
  },
  {
   "cell_type": "code",
   "execution_count": 257,
   "id": "07366994",
   "metadata": {},
   "outputs": [],
   "source": [
    "# Get ground truth and predictions for test set\n",
    "y_true = df_test['label'].tolist()\n",
    "y_pred = test_preds\n",
    "\n",
    "# True Positives: predicted 1, actual 1\n",
    "true_positives = df_test[(df_test['label'] == 1) & (y_pred == 1)]\n",
    "\n",
    "# True Negatives: predicted 0, actual 0\n",
    "true_negatives = df_test[(df_test['label'] == 0) & (y_pred == 0)]\n",
    "\n",
    "# False Positives: predicted 1, actual 0\n",
    "false_positives = df_test[(df_test['label'] == 0) & (y_pred == 1)]\n",
    "\n",
    "# False Negatives: predicted 0, actual 1\n",
    "false_negatives = df_test[(df_test['label'] == 1) & (y_pred == 0)]\n",
    "\n",
    "# Function to print statements\n",
    "import pandas as pd\n",
    "from IPython.display import display\n",
    "\n",
    "def display_statements(df, title):\n",
    "    if not df.empty:\n",
    "        print(f\"\\n{title} (count: {len(df)})\")\n",
    "        display(df[['text']].reset_index(drop=True))\n",
    "    else:\n",
    "        print(f\"\\n{title}: None\")"
   ]
  },
  {
   "cell_type": "code",
   "execution_count": 258,
   "id": "2433dc88",
   "metadata": {},
   "outputs": [
    {
     "name": "stdout",
     "output_type": "stream",
     "text": [
      "\n",
      "True Positives (predicted 1, actual 1) (count: 58)\n"
     ]
    },
    {
     "data": {
      "text/html": [
       "<div>\n",
       "<style scoped>\n",
       "    .dataframe tbody tr th:only-of-type {\n",
       "        vertical-align: middle;\n",
       "    }\n",
       "\n",
       "    .dataframe tbody tr th {\n",
       "        vertical-align: top;\n",
       "    }\n",
       "\n",
       "    .dataframe thead th {\n",
       "        text-align: right;\n",
       "    }\n",
       "</style>\n",
       "<table border=\"1\" class=\"dataframe\">\n",
       "  <thead>\n",
       "    <tr style=\"text-align: right;\">\n",
       "      <th></th>\n",
       "      <th>text</th>\n",
       "    </tr>\n",
       "  </thead>\n",
       "  <tbody>\n",
       "    <tr>\n",
       "      <th>0</th>\n",
       "      <td>When both targets were available, observers sw...</td>\n",
       "    </tr>\n",
       "    <tr>\n",
       "      <th>1</th>\n",
       "      <td>As shown in Figure 4, stressed participants wh...</td>\n",
       "    </tr>\n",
       "    <tr>\n",
       "      <th>2</th>\n",
       "      <td>Viewed differently, participants disliked avoi...</td>\n",
       "    </tr>\n",
       "    <tr>\n",
       "      <th>3</th>\n",
       "      <td>However, velocity was not increased or decreas...</td>\n",
       "    </tr>\n",
       "    <tr>\n",
       "      <th>4</th>\n",
       "      <td>Paired t tests showed that only for the neutra...</td>\n",
       "    </tr>\n",
       "    <tr>\n",
       "      <th>5</th>\n",
       "      <td>In fact, a follow-up analysis comparing the N1...</td>\n",
       "    </tr>\n",
       "    <tr>\n",
       "      <th>6</th>\n",
       "      <td>However, there was no performance difference b...</td>\n",
       "    </tr>\n",
       "    <tr>\n",
       "      <th>7</th>\n",
       "      <td>In line with our reasoning, results showed no ...</td>\n",
       "    </tr>\n",
       "    <tr>\n",
       "      <th>8</th>\n",
       "      <td>Although overall, infants had longer first fix...</td>\n",
       "    </tr>\n",
       "    <tr>\n",
       "      <th>9</th>\n",
       "      <td>In bothtargets blocks, participants switched o...</td>\n",
       "    </tr>\n",
       "    <tr>\n",
       "      <th>10</th>\n",
       "      <td>With 21% and 20% of people's estimates bracket...</td>\n",
       "    </tr>\n",
       "    <tr>\n",
       "      <th>11</th>\n",
       "      <td>Comparing these correlation coefficients, we f...</td>\n",
       "    </tr>\n",
       "    <tr>\n",
       "      <th>12</th>\n",
       "      <td>However, unlike in Experiment 1, the amount of...</td>\n",
       "    </tr>\n",
       "    <tr>\n",
       "      <th>13</th>\n",
       "      <td>There was no main effect of channel-group late...</td>\n",
       "    </tr>\n",
       "    <tr>\n",
       "      <th>14</th>\n",
       "      <td>The magnitude of this effect was equivalent to...</td>\n",
       "    </tr>\n",
       "    <tr>\n",
       "      <th>15</th>\n",
       "      <td>There was a significant effect of feeling smal...</td>\n",
       "    </tr>\n",
       "    <tr>\n",
       "      <th>16</th>\n",
       "      <td>We observed no difference in sensitivity to we...</td>\n",
       "    </tr>\n",
       "    <tr>\n",
       "      <th>17</th>\n",
       "      <td>Concerning the EPN, there was no main effect o...</td>\n",
       "    </tr>\n",
       "    <tr>\n",
       "      <th>18</th>\n",
       "      <td>Time of day did not interact with type of day ...</td>\n",
       "    </tr>\n",
       "    <tr>\n",
       "      <th>19</th>\n",
       "      <td>However, at the between-persons level, greater...</td>\n",
       "    </tr>\n",
       "    <tr>\n",
       "      <th>20</th>\n",
       "      <td>In addition, fit did not improve when the Dist...</td>\n",
       "    </tr>\n",
       "    <tr>\n",
       "      <th>21</th>\n",
       "      <td>There was no main effect of ambiguity on cash-...</td>\n",
       "    </tr>\n",
       "    <tr>\n",
       "      <th>22</th>\n",
       "      <td>There was an increasing tendency to judge item...</td>\n",
       "    </tr>\n",
       "    <tr>\n",
       "      <th>23</th>\n",
       "      <td>Finally, there was no effect of relative heigh...</td>\n",
       "    </tr>\n",
       "    <tr>\n",
       "      <th>24</th>\n",
       "      <td>For âˆ†Î¸ Ë†crit values derived from highversu...</td>\n",
       "    </tr>\n",
       "    <tr>\n",
       "      <th>25</th>\n",
       "      <td>RT data showed a very similar pattern: Respons...</td>\n",
       "    </tr>\n",
       "    <tr>\n",
       "      <th>26</th>\n",
       "      <td>In addition, age of onset did not predict any ...</td>\n",
       "    </tr>\n",
       "    <tr>\n",
       "      <th>27</th>\n",
       "      <td>This preference, however, disappeared in the e...</td>\n",
       "    </tr>\n",
       "    <tr>\n",
       "      <th>28</th>\n",
       "      <td>Crucially, we found no correlation between the...</td>\n",
       "    </tr>\n",
       "    <tr>\n",
       "      <th>29</th>\n",
       "      <td>There was no difference between the neutral cu...</td>\n",
       "    </tr>\n",
       "    <tr>\n",
       "      <th>30</th>\n",
       "      <td>Critically, whereas overall response times wer...</td>\n",
       "    </tr>\n",
       "    <tr>\n",
       "      <th>31</th>\n",
       "      <td>These effects were not significantly correlate...</td>\n",
       "    </tr>\n",
       "    <tr>\n",
       "      <th>32</th>\n",
       "      <td>Here, participants were 6 ms slower (95% CI = ...</td>\n",
       "    </tr>\n",
       "    <tr>\n",
       "      <th>33</th>\n",
       "      <td>View change did not interact with focus distan...</td>\n",
       "    </tr>\n",
       "    <tr>\n",
       "      <th>34</th>\n",
       "      <td>Tests of the simple effects of target conditio...</td>\n",
       "    </tr>\n",
       "    <tr>\n",
       "      <th>35</th>\n",
       "      <td>In reward blocks, the results of Experiment 1 ...</td>\n",
       "    </tr>\n",
       "    <tr>\n",
       "      <th>36</th>\n",
       "      <td>There was also no interaction between particip...</td>\n",
       "    </tr>\n",
       "    <tr>\n",
       "      <th>37</th>\n",
       "      <td>Self-reported height in centimeters (absolute ...</td>\n",
       "    </tr>\n",
       "    <tr>\n",
       "      <th>38</th>\n",
       "      <td>However, an examination of the zero-order asso...</td>\n",
       "    </tr>\n",
       "    <tr>\n",
       "      <th>39</th>\n",
       "      <td>As in Experiment 1, neither congruence nor tim...</td>\n",
       "    </tr>\n",
       "    <tr>\n",
       "      <th>40</th>\n",
       "      <td>Most importantly, neither the effect of the st...</td>\n",
       "    </tr>\n",
       "    <tr>\n",
       "      <th>41</th>\n",
       "      <td>The average accuracy in the scene-categorizati...</td>\n",
       "    </tr>\n",
       "    <tr>\n",
       "      <th>42</th>\n",
       "      <td>Participants of the stress groups (vs. control...</td>\n",
       "    </tr>\n",
       "    <tr>\n",
       "      <th>43</th>\n",
       "      <td>Post hoc t tests showed increased arousal for ...</td>\n",
       "    </tr>\n",
       "    <tr>\n",
       "      <th>44</th>\n",
       "      <td>Distance, Ï‡ 2 (1, N = 32) = 1.52, p = .217, d...</td>\n",
       "    </tr>\n",
       "    <tr>\n",
       "      <th>45</th>\n",
       "      <td>We found that although participants became fas...</td>\n",
       "    </tr>\n",
       "    <tr>\n",
       "      <th>46</th>\n",
       "      <td>Specifically, when infants learned faces from ...</td>\n",
       "    </tr>\n",
       "    <tr>\n",
       "      <th>47</th>\n",
       "      <td>The theta frequency during the alpha stimulati...</td>\n",
       "    </tr>\n",
       "    <tr>\n",
       "      <th>48</th>\n",
       "      <td>An agesquared term as predictor of scores at T...</td>\n",
       "    </tr>\n",
       "    <tr>\n",
       "      <th>49</th>\n",
       "      <td>Viewed differently, participants liked both se...</td>\n",
       "    </tr>\n",
       "    <tr>\n",
       "      <th>50</th>\n",
       "      <td>There was no association between the CAPS scor...</td>\n",
       "    </tr>\n",
       "    <tr>\n",
       "      <th>51</th>\n",
       "      <td>There was also a main effect of stimuli type, ...</td>\n",
       "    </tr>\n",
       "    <tr>\n",
       "      <th>52</th>\n",
       "      <td>Conversely, valence did not moderate the relat...</td>\n",
       "    </tr>\n",
       "    <tr>\n",
       "      <th>53</th>\n",
       "      <td>A negative binomial regression showed no diffe...</td>\n",
       "    </tr>\n",
       "    <tr>\n",
       "      <th>54</th>\n",
       "      <td>There was no main effect of the no-crime-infor...</td>\n",
       "    </tr>\n",
       "    <tr>\n",
       "      <th>55</th>\n",
       "      <td>As seen in Figure 2, post hoc contrasts reveal...</td>\n",
       "    </tr>\n",
       "    <tr>\n",
       "      <th>56</th>\n",
       "      <td>The number of observed individuals had no effe...</td>\n",
       "    </tr>\n",
       "    <tr>\n",
       "      <th>57</th>\n",
       "      <td>There was no main effect of statistical-learni...</td>\n",
       "    </tr>\n",
       "  </tbody>\n",
       "</table>\n",
       "</div>"
      ],
      "text/plain": [
       "                                                 text\n",
       "0   When both targets were available, observers sw...\n",
       "1   As shown in Figure 4, stressed participants wh...\n",
       "2   Viewed differently, participants disliked avoi...\n",
       "3   However, velocity was not increased or decreas...\n",
       "4   Paired t tests showed that only for the neutra...\n",
       "5   In fact, a follow-up analysis comparing the N1...\n",
       "6   However, there was no performance difference b...\n",
       "7   In line with our reasoning, results showed no ...\n",
       "8   Although overall, infants had longer first fix...\n",
       "9   In bothtargets blocks, participants switched o...\n",
       "10  With 21% and 20% of people's estimates bracket...\n",
       "11  Comparing these correlation coefficients, we f...\n",
       "12  However, unlike in Experiment 1, the amount of...\n",
       "13  There was no main effect of channel-group late...\n",
       "14  The magnitude of this effect was equivalent to...\n",
       "15  There was a significant effect of feeling smal...\n",
       "16  We observed no difference in sensitivity to we...\n",
       "17  Concerning the EPN, there was no main effect o...\n",
       "18  Time of day did not interact with type of day ...\n",
       "19  However, at the between-persons level, greater...\n",
       "20  In addition, fit did not improve when the Dist...\n",
       "21  There was no main effect of ambiguity on cash-...\n",
       "22  There was an increasing tendency to judge item...\n",
       "23  Finally, there was no effect of relative heigh...\n",
       "24  For âˆ†Î¸ Ë†crit values derived from highversu...\n",
       "25  RT data showed a very similar pattern: Respons...\n",
       "26  In addition, age of onset did not predict any ...\n",
       "27  This preference, however, disappeared in the e...\n",
       "28  Crucially, we found no correlation between the...\n",
       "29  There was no difference between the neutral cu...\n",
       "30  Critically, whereas overall response times wer...\n",
       "31  These effects were not significantly correlate...\n",
       "32  Here, participants were 6 ms slower (95% CI = ...\n",
       "33  View change did not interact with focus distan...\n",
       "34  Tests of the simple effects of target conditio...\n",
       "35  In reward blocks, the results of Experiment 1 ...\n",
       "36  There was also no interaction between particip...\n",
       "37  Self-reported height in centimeters (absolute ...\n",
       "38  However, an examination of the zero-order asso...\n",
       "39  As in Experiment 1, neither congruence nor tim...\n",
       "40  Most importantly, neither the effect of the st...\n",
       "41  The average accuracy in the scene-categorizati...\n",
       "42  Participants of the stress groups (vs. control...\n",
       "43  Post hoc t tests showed increased arousal for ...\n",
       "44  Distance, Ï‡ 2 (1, N = 32) = 1.52, p = .217, d...\n",
       "45  We found that although participants became fas...\n",
       "46  Specifically, when infants learned faces from ...\n",
       "47  The theta frequency during the alpha stimulati...\n",
       "48  An agesquared term as predictor of scores at T...\n",
       "49  Viewed differently, participants liked both se...\n",
       "50  There was no association between the CAPS scor...\n",
       "51  There was also a main effect of stimuli type, ...\n",
       "52  Conversely, valence did not moderate the relat...\n",
       "53  A negative binomial regression showed no diffe...\n",
       "54  There was no main effect of the no-crime-infor...\n",
       "55  As seen in Figure 2, post hoc contrasts reveal...\n",
       "56  The number of observed individuals had no effe...\n",
       "57  There was no main effect of statistical-learni..."
      ]
     },
     "metadata": {},
     "output_type": "display_data"
    }
   ],
   "source": [
    "display_statements(true_positives, \"True Positives (predicted 1, actual 1)\")"
   ]
  },
  {
   "cell_type": "code",
   "execution_count": 259,
   "id": "64f843b9",
   "metadata": {},
   "outputs": [
    {
     "name": "stdout",
     "output_type": "stream",
     "text": [
      "\n",
      "True Negatives (predicted 0, actual 0) (count: 66)\n"
     ]
    },
    {
     "data": {
      "text/html": [
       "<div>\n",
       "<style scoped>\n",
       "    .dataframe tbody tr th:only-of-type {\n",
       "        vertical-align: middle;\n",
       "    }\n",
       "\n",
       "    .dataframe tbody tr th {\n",
       "        vertical-align: top;\n",
       "    }\n",
       "\n",
       "    .dataframe thead th {\n",
       "        text-align: right;\n",
       "    }\n",
       "</style>\n",
       "<table border=\"1\" class=\"dataframe\">\n",
       "  <thead>\n",
       "    <tr style=\"text-align: right;\">\n",
       "      <th></th>\n",
       "      <th>text</th>\n",
       "    </tr>\n",
       "  </thead>\n",
       "  <tbody>\n",
       "    <tr>\n",
       "      <th>0</th>\n",
       "      <td>There was no significant interaction, F(2.74, ...</td>\n",
       "    </tr>\n",
       "    <tr>\n",
       "      <th>1</th>\n",
       "      <td>When we compared the responses from the foregr...</td>\n",
       "    </tr>\n",
       "    <tr>\n",
       "      <th>2</th>\n",
       "      <td>Again, results indicated that endorsement of d...</td>\n",
       "    </tr>\n",
       "    <tr>\n",
       "      <th>3</th>\n",
       "      <td>See Tables S4 and S8 the outcomes and also did...</td>\n",
       "    </tr>\n",
       "    <tr>\n",
       "      <th>4</th>\n",
       "      <td>Similarly, there was no significant relationsh...</td>\n",
       "    </tr>\n",
       "    <tr>\n",
       "      <th>...</th>\n",
       "      <td>...</td>\n",
       "    </tr>\n",
       "    <tr>\n",
       "      <th>61</th>\n",
       "      <td>Meta-regression indicated no significant moder...</td>\n",
       "    </tr>\n",
       "    <tr>\n",
       "      <th>62</th>\n",
       "      <td>Again, no significant interaction effect was f...</td>\n",
       "    </tr>\n",
       "    <tr>\n",
       "      <th>63</th>\n",
       "      <td>For the CFD stimuli, this contrast was not sig...</td>\n",
       "    </tr>\n",
       "    <tr>\n",
       "      <th>64</th>\n",
       "      <td>This difference, however, was highly significa...</td>\n",
       "    </tr>\n",
       "    <tr>\n",
       "      <th>65</th>\n",
       "      <td>First, a correlational analysis between social...</td>\n",
       "    </tr>\n",
       "  </tbody>\n",
       "</table>\n",
       "<p>66 rows × 1 columns</p>\n",
       "</div>"
      ],
      "text/plain": [
       "                                                 text\n",
       "0   There was no significant interaction, F(2.74, ...\n",
       "1   When we compared the responses from the foregr...\n",
       "2   Again, results indicated that endorsement of d...\n",
       "3   See Tables S4 and S8 the outcomes and also did...\n",
       "4   Similarly, there was no significant relationsh...\n",
       "..                                                ...\n",
       "61  Meta-regression indicated no significant moder...\n",
       "62  Again, no significant interaction effect was f...\n",
       "63  For the CFD stimuli, this contrast was not sig...\n",
       "64  This difference, however, was highly significa...\n",
       "65  First, a correlational analysis between social...\n",
       "\n",
       "[66 rows x 1 columns]"
      ]
     },
     "metadata": {},
     "output_type": "display_data"
    }
   ],
   "source": [
    "display_statements(true_negatives, \"True Negatives (predicted 0, actual 0)\")"
   ]
  },
  {
   "cell_type": "code",
   "execution_count": 260,
   "id": "a79eca53",
   "metadata": {},
   "outputs": [
    {
     "name": "stdout",
     "output_type": "stream",
     "text": [
      "\n",
      "False Positives (predicted 1, actual 0) (count: 1)\n"
     ]
    },
    {
     "data": {
      "text/html": [
       "<div>\n",
       "<style scoped>\n",
       "    .dataframe tbody tr th:only-of-type {\n",
       "        vertical-align: middle;\n",
       "    }\n",
       "\n",
       "    .dataframe tbody tr th {\n",
       "        vertical-align: top;\n",
       "    }\n",
       "\n",
       "    .dataframe thead th {\n",
       "        text-align: right;\n",
       "    }\n",
       "</style>\n",
       "<table border=\"1\" class=\"dataframe\">\n",
       "  <thead>\n",
       "    <tr style=\"text-align: right;\">\n",
       "      <th></th>\n",
       "      <th>text</th>\n",
       "    </tr>\n",
       "  </thead>\n",
       "  <tbody>\n",
       "    <tr>\n",
       "      <th>0</th>\n",
       "      <td>In addition, the absolute impact of losses and...</td>\n",
       "    </tr>\n",
       "  </tbody>\n",
       "</table>\n",
       "</div>"
      ],
      "text/plain": [
       "                                                text\n",
       "0  In addition, the absolute impact of losses and..."
      ]
     },
     "metadata": {},
     "output_type": "display_data"
    }
   ],
   "source": [
    "display_statements(false_positives, \"False Positives (predicted 1, actual 0)\")"
   ]
  },
  {
   "cell_type": "code",
   "execution_count": 261,
   "id": "9b473d8e",
   "metadata": {},
   "outputs": [
    {
     "name": "stdout",
     "output_type": "stream",
     "text": [
      "\n",
      "False Negatives (predicted 0, actual 1) (count: 9)\n"
     ]
    },
    {
     "data": {
      "text/html": [
       "<div>\n",
       "<style scoped>\n",
       "    .dataframe tbody tr th:only-of-type {\n",
       "        vertical-align: middle;\n",
       "    }\n",
       "\n",
       "    .dataframe tbody tr th {\n",
       "        vertical-align: top;\n",
       "    }\n",
       "\n",
       "    .dataframe thead th {\n",
       "        text-align: right;\n",
       "    }\n",
       "</style>\n",
       "<table border=\"1\" class=\"dataframe\">\n",
       "  <thead>\n",
       "    <tr style=\"text-align: right;\">\n",
       "      <th></th>\n",
       "      <th>text</th>\n",
       "    </tr>\n",
       "  </thead>\n",
       "  <tbody>\n",
       "    <tr>\n",
       "      <th>0</th>\n",
       "      <td>For relative changes in pupil size, we obtaine...</td>\n",
       "    </tr>\n",
       "    <tr>\n",
       "      <th>1</th>\n",
       "      <td>A Position Ã— Set Size repeatedmeasures ANOVA ...</td>\n",
       "    </tr>\n",
       "    <tr>\n",
       "      <th>2</th>\n",
       "      <td>There was a significant interactive effect of ...</td>\n",
       "    </tr>\n",
       "    <tr>\n",
       "      <th>3</th>\n",
       "      <td>No difference was found in verbal tests, t(343...</td>\n",
       "    </tr>\n",
       "    <tr>\n",
       "      <th>4</th>\n",
       "      <td>Importantly, there were no between-group diffe...</td>\n",
       "    </tr>\n",
       "    <tr>\n",
       "      <th>5</th>\n",
       "      <td>A 2 (Experiment) Ã— 2 (Position) mixed-measure...</td>\n",
       "    </tr>\n",
       "    <tr>\n",
       "      <th>6</th>\n",
       "      <td>Critically, although overall RTs were reliably...</td>\n",
       "    </tr>\n",
       "    <tr>\n",
       "      <th>7</th>\n",
       "      <td>These effects cannot be explained by the helme...</td>\n",
       "    </tr>\n",
       "    <tr>\n",
       "      <th>8</th>\n",
       "      <td>In addition, although participants with shorte...</td>\n",
       "    </tr>\n",
       "  </tbody>\n",
       "</table>\n",
       "</div>"
      ],
      "text/plain": [
       "                                                text\n",
       "0  For relative changes in pupil size, we obtaine...\n",
       "1  A Position Ã— Set Size repeatedmeasures ANOVA ...\n",
       "2  There was a significant interactive effect of ...\n",
       "3  No difference was found in verbal tests, t(343...\n",
       "4  Importantly, there were no between-group diffe...\n",
       "5  A 2 (Experiment) Ã— 2 (Position) mixed-measure...\n",
       "6  Critically, although overall RTs were reliably...\n",
       "7  These effects cannot be explained by the helme...\n",
       "8  In addition, although participants with shorte..."
      ]
     },
     "metadata": {},
     "output_type": "display_data"
    }
   ],
   "source": [
    "display_statements(false_negatives, \"False Negatives (predicted 0, actual 1)\")"
   ]
  },
  {
   "cell_type": "markdown",
   "id": "bb5611fc",
   "metadata": {},
   "source": [
    "## 4 Storing results"
   ]
  },
  {
   "cell_type": "markdown",
   "id": "662bc44e",
   "metadata": {},
   "source": [
    "### 4.1 Performance over the epochs"
   ]
  },
  {
   "cell_type": "code",
   "execution_count": 262,
   "id": "6095901e",
   "metadata": {},
   "outputs": [
    {
     "name": "stdout",
     "output_type": "stream",
     "text": [
      "     loss  grad_norm  learning_rate  epoch  step  eval_loss  eval_accuracy  \\\n",
      "0  0.6796  14.286785       0.000018    1.0    67        NaN            NaN   \n",
      "1     NaN        NaN            NaN    1.0    67   0.533590       0.783582   \n",
      "2  0.3221   7.270728       0.000016    2.0   134        NaN            NaN   \n",
      "3     NaN        NaN            NaN    2.0   134   0.316363       0.925373   \n",
      "4  0.1096   0.121790       0.000014    3.0   201        NaN            NaN   \n",
      "\n",
      "   eval_precision  eval_recall   eval_f1  eval_runtime  \\\n",
      "0             NaN          NaN       NaN           NaN   \n",
      "1        0.952381     0.597015  0.733945        0.8619   \n",
      "2             NaN          NaN       NaN           NaN   \n",
      "3        0.983051     0.865672  0.920635        0.8618   \n",
      "4             NaN          NaN       NaN           NaN   \n",
      "\n",
      "   eval_samples_per_second  eval_steps_per_second  train_runtime  \\\n",
      "0                      NaN                    NaN            NaN   \n",
      "1                  155.478                 19.725            NaN   \n",
      "2                      NaN                    NaN            NaN   \n",
      "3                  155.497                 19.727            NaN   \n",
      "4                      NaN                    NaN            NaN   \n",
      "\n",
      "   train_samples_per_second  train_steps_per_second  total_flos  train_loss  \n",
      "0                       NaN                     NaN         NaN         NaN  \n",
      "1                       NaN                     NaN         NaN         NaN  \n",
      "2                       NaN                     NaN         NaN         NaN  \n",
      "3                       NaN                     NaN         NaN         NaN  \n",
      "4                       NaN                     NaN         NaN         NaN  \n"
     ]
    }
   ],
   "source": [
    "# Save log history\n",
    "log_history = trainer.state.log_history\n",
    "\n",
    "# Convert to DataFrame\n",
    "log_df = pd.DataFrame(log_history)\n",
    "\n",
    "# Save to CSV in 'results_path' folder\n",
    "log_df.to_csv(Path(results_path) / \"model_training_history.csv\", index=False)\n",
    "\n",
    "# Display the first few rows\n",
    "print(log_df.head())"
   ]
  },
  {
   "cell_type": "markdown",
   "id": "c46b6e7d",
   "metadata": {},
   "source": [
    "### 4.2 Final performance on test set"
   ]
  },
  {
   "cell_type": "code",
   "execution_count": 263,
   "id": "facd4cfa",
   "metadata": {},
   "outputs": [],
   "source": [
    "# Save human and BERT labels on test set\n",
    "predictions_df = pd.DataFrame({\n",
    "    \"human_label\": GT_test,\n",
    "    \"BERT_label\": test_preds\n",
    "})\n",
    "predictions_df.to_csv(Path(results_path) / \"test_predictions.csv\", index=False)"
   ]
  },
  {
   "cell_type": "code",
   "execution_count": 264,
   "id": "56e5e265",
   "metadata": {},
   "outputs": [],
   "source": [
    "# The end..."
   ]
  }
 ],
 "metadata": {
  "kernelspec": {
   "display_name": "nonsig_kernel",
   "language": "python",
   "name": "nonsig_kernel"
  },
  "language_info": {
   "codemirror_mode": {
    "name": "ipython",
    "version": 3
   },
   "file_extension": ".py",
   "mimetype": "text/x-python",
   "name": "python",
   "nbconvert_exporter": "python",
   "pygments_lexer": "ipython3",
   "version": "3.12.10"
  }
 },
 "nbformat": 4,
 "nbformat_minor": 5
}
