{
 "cells": [
  {
   "cell_type": "markdown",
   "id": "5e0f8a44",
   "metadata": {},
   "source": [
    "# Bert Training with Early Stopping"
   ]
  },
  {
   "cell_type": "markdown",
   "id": "ef72840b",
   "metadata": {},
   "source": [
    "## 0. Setup"
   ]
  },
  {
   "cell_type": "markdown",
   "id": "32992dd0",
   "metadata": {},
   "source": [
    "### 0.1 Install libraries"
   ]
  },
  {
   "cell_type": "code",
   "execution_count": 392,
   "id": "da13a949",
   "metadata": {},
   "outputs": [
    {
     "name": "stdout",
     "output_type": "stream",
     "text": [
      "Requirement already satisfied: absl-py==2.3.1 in c:\\users\\raphael\\documents\\github\\nonsig-master-thesis\\venv\\lib\\site-packages (from -r requirements.txt (line 1)) (2.3.1)\n",
      "Requirement already satisfied: accelerate==1.8.1 in c:\\users\\raphael\\documents\\github\\nonsig-master-thesis\\venv\\lib\\site-packages (from -r requirements.txt (line 2)) (1.8.1)\n",
      "Requirement already satisfied: aiohappyeyeballs==2.6.1 in c:\\users\\raphael\\documents\\github\\nonsig-master-thesis\\venv\\lib\\site-packages (from -r requirements.txt (line 3)) (2.6.1)\n",
      "Requirement already satisfied: aiohttp==3.12.13 in c:\\users\\raphael\\documents\\github\\nonsig-master-thesis\\venv\\lib\\site-packages (from -r requirements.txt (line 4)) (3.12.13)\n",
      "Requirement already satisfied: aiosignal==1.4.0 in c:\\users\\raphael\\documents\\github\\nonsig-master-thesis\\venv\\lib\\site-packages (from -r requirements.txt (line 5)) (1.4.0)\n",
      "Requirement already satisfied: asttokens==3.0.0 in c:\\users\\raphael\\documents\\github\\nonsig-master-thesis\\venv\\lib\\site-packages (from -r requirements.txt (line 6)) (3.0.0)\n",
      "Requirement already satisfied: astunparse==1.6.3 in c:\\users\\raphael\\documents\\github\\nonsig-master-thesis\\venv\\lib\\site-packages (from -r requirements.txt (line 7)) (1.6.3)\n",
      "Requirement already satisfied: attrs==25.3.0 in c:\\users\\raphael\\documents\\github\\nonsig-master-thesis\\venv\\lib\\site-packages (from -r requirements.txt (line 8)) (25.3.0)\n",
      "Requirement already satisfied: certifi==2025.6.15 in c:\\users\\raphael\\documents\\github\\nonsig-master-thesis\\venv\\lib\\site-packages (from -r requirements.txt (line 9)) (2025.6.15)\n",
      "Requirement already satisfied: charset-normalizer==3.4.2 in c:\\users\\raphael\\documents\\github\\nonsig-master-thesis\\venv\\lib\\site-packages (from -r requirements.txt (line 10)) (3.4.2)\n",
      "Requirement already satisfied: colorama==0.4.6 in c:\\users\\raphael\\documents\\github\\nonsig-master-thesis\\venv\\lib\\site-packages (from -r requirements.txt (line 11)) (0.4.6)\n",
      "Requirement already satisfied: comm==0.2.2 in c:\\users\\raphael\\documents\\github\\nonsig-master-thesis\\venv\\lib\\site-packages (from -r requirements.txt (line 12)) (0.2.2)\n",
      "Requirement already satisfied: contourpy==1.3.2 in c:\\users\\raphael\\documents\\github\\nonsig-master-thesis\\venv\\lib\\site-packages (from -r requirements.txt (line 13)) (1.3.2)\n",
      "Requirement already satisfied: cycler==0.12.1 in c:\\users\\raphael\\documents\\github\\nonsig-master-thesis\\venv\\lib\\site-packages (from -r requirements.txt (line 14)) (0.12.1)\n",
      "Requirement already satisfied: datasets==3.6.0 in c:\\users\\raphael\\documents\\github\\nonsig-master-thesis\\venv\\lib\\site-packages (from -r requirements.txt (line 15)) (3.6.0)\n",
      "Requirement already satisfied: debugpy==1.8.14 in c:\\users\\raphael\\documents\\github\\nonsig-master-thesis\\venv\\lib\\site-packages (from -r requirements.txt (line 16)) (1.8.14)\n",
      "Requirement already satisfied: decorator==5.2.1 in c:\\users\\raphael\\documents\\github\\nonsig-master-thesis\\venv\\lib\\site-packages (from -r requirements.txt (line 17)) (5.2.1)\n",
      "Requirement already satisfied: dill==0.3.8 in c:\\users\\raphael\\documents\\github\\nonsig-master-thesis\\venv\\lib\\site-packages (from -r requirements.txt (line 18)) (0.3.8)\n",
      "Requirement already satisfied: et_xmlfile==2.0.0 in c:\\users\\raphael\\documents\\github\\nonsig-master-thesis\\venv\\lib\\site-packages (from -r requirements.txt (line 19)) (2.0.0)\n",
      "Requirement already satisfied: evaluate==0.4.4 in c:\\users\\raphael\\documents\\github\\nonsig-master-thesis\\venv\\lib\\site-packages (from -r requirements.txt (line 20)) (0.4.4)\n",
      "Requirement already satisfied: executing==2.2.0 in c:\\users\\raphael\\documents\\github\\nonsig-master-thesis\\venv\\lib\\site-packages (from -r requirements.txt (line 21)) (2.2.0)\n",
      "Requirement already satisfied: filelock==3.18.0 in c:\\users\\raphael\\documents\\github\\nonsig-master-thesis\\venv\\lib\\site-packages (from -r requirements.txt (line 22)) (3.18.0)\n",
      "Requirement already satisfied: flatbuffers==25.2.10 in c:\\users\\raphael\\documents\\github\\nonsig-master-thesis\\venv\\lib\\site-packages (from -r requirements.txt (line 23)) (25.2.10)\n",
      "Requirement already satisfied: fonttools==4.58.5 in c:\\users\\raphael\\documents\\github\\nonsig-master-thesis\\venv\\lib\\site-packages (from -r requirements.txt (line 24)) (4.58.5)\n",
      "Requirement already satisfied: frozenlist==1.7.0 in c:\\users\\raphael\\documents\\github\\nonsig-master-thesis\\venv\\lib\\site-packages (from -r requirements.txt (line 25)) (1.7.0)\n",
      "Requirement already satisfied: fsspec==2025.3.0 in c:\\users\\raphael\\documents\\github\\nonsig-master-thesis\\venv\\lib\\site-packages (from -r requirements.txt (line 26)) (2025.3.0)\n",
      "Requirement already satisfied: gast==0.6.0 in c:\\users\\raphael\\documents\\github\\nonsig-master-thesis\\venv\\lib\\site-packages (from -r requirements.txt (line 27)) (0.6.0)\n",
      "Requirement already satisfied: google-pasta==0.2.0 in c:\\users\\raphael\\documents\\github\\nonsig-master-thesis\\venv\\lib\\site-packages (from -r requirements.txt (line 28)) (0.2.0)\n",
      "Requirement already satisfied: grpcio==1.73.1 in c:\\users\\raphael\\documents\\github\\nonsig-master-thesis\\venv\\lib\\site-packages (from -r requirements.txt (line 29)) (1.73.1)\n",
      "Requirement already satisfied: h5py==3.14.0 in c:\\users\\raphael\\documents\\github\\nonsig-master-thesis\\venv\\lib\\site-packages (from -r requirements.txt (line 30)) (3.14.0)\n",
      "Requirement already satisfied: huggingface-hub==0.33.2 in c:\\users\\raphael\\documents\\github\\nonsig-master-thesis\\venv\\lib\\site-packages (from -r requirements.txt (line 31)) (0.33.2)\n",
      "Requirement already satisfied: idna==3.10 in c:\\users\\raphael\\documents\\github\\nonsig-master-thesis\\venv\\lib\\site-packages (from -r requirements.txt (line 32)) (3.10)\n",
      "Requirement already satisfied: ipykernel==6.29.5 in c:\\users\\raphael\\documents\\github\\nonsig-master-thesis\\venv\\lib\\site-packages (from -r requirements.txt (line 33)) (6.29.5)\n",
      "Requirement already satisfied: ipython==9.4.0 in c:\\users\\raphael\\documents\\github\\nonsig-master-thesis\\venv\\lib\\site-packages (from -r requirements.txt (line 34)) (9.4.0)\n",
      "Requirement already satisfied: ipython_pygments_lexers==1.1.1 in c:\\users\\raphael\\documents\\github\\nonsig-master-thesis\\venv\\lib\\site-packages (from -r requirements.txt (line 35)) (1.1.1)\n",
      "Requirement already satisfied: jedi==0.19.2 in c:\\users\\raphael\\documents\\github\\nonsig-master-thesis\\venv\\lib\\site-packages (from -r requirements.txt (line 36)) (0.19.2)\n",
      "Requirement already satisfied: Jinja2==3.1.6 in c:\\users\\raphael\\documents\\github\\nonsig-master-thesis\\venv\\lib\\site-packages (from -r requirements.txt (line 37)) (3.1.6)\n",
      "Requirement already satisfied: joblib==1.5.1 in c:\\users\\raphael\\documents\\github\\nonsig-master-thesis\\venv\\lib\\site-packages (from -r requirements.txt (line 38)) (1.5.1)\n",
      "Requirement already satisfied: jupyter_client==8.6.3 in c:\\users\\raphael\\documents\\github\\nonsig-master-thesis\\venv\\lib\\site-packages (from -r requirements.txt (line 39)) (8.6.3)\n",
      "Requirement already satisfied: jupyter_core==5.8.1 in c:\\users\\raphael\\documents\\github\\nonsig-master-thesis\\venv\\lib\\site-packages (from -r requirements.txt (line 40)) (5.8.1)\n",
      "Requirement already satisfied: keras==3.10.0 in c:\\users\\raphael\\documents\\github\\nonsig-master-thesis\\venv\\lib\\site-packages (from -r requirements.txt (line 41)) (3.10.0)\n",
      "Requirement already satisfied: kiwisolver==1.4.8 in c:\\users\\raphael\\documents\\github\\nonsig-master-thesis\\venv\\lib\\site-packages (from -r requirements.txt (line 42)) (1.4.8)\n",
      "Requirement already satisfied: libclang==18.1.1 in c:\\users\\raphael\\documents\\github\\nonsig-master-thesis\\venv\\lib\\site-packages (from -r requirements.txt (line 43)) (18.1.1)\n",
      "Requirement already satisfied: Markdown==3.8.2 in c:\\users\\raphael\\documents\\github\\nonsig-master-thesis\\venv\\lib\\site-packages (from -r requirements.txt (line 44)) (3.8.2)\n",
      "Requirement already satisfied: markdown-it-py==3.0.0 in c:\\users\\raphael\\documents\\github\\nonsig-master-thesis\\venv\\lib\\site-packages (from -r requirements.txt (line 45)) (3.0.0)\n",
      "Requirement already satisfied: MarkupSafe==3.0.2 in c:\\users\\raphael\\documents\\github\\nonsig-master-thesis\\venv\\lib\\site-packages (from -r requirements.txt (line 46)) (3.0.2)\n",
      "Requirement already satisfied: matplotlib==3.10.3 in c:\\users\\raphael\\documents\\github\\nonsig-master-thesis\\venv\\lib\\site-packages (from -r requirements.txt (line 47)) (3.10.3)\n",
      "Requirement already satisfied: matplotlib-inline==0.1.7 in c:\\users\\raphael\\documents\\github\\nonsig-master-thesis\\venv\\lib\\site-packages (from -r requirements.txt (line 48)) (0.1.7)\n",
      "Requirement already satisfied: mdurl==0.1.2 in c:\\users\\raphael\\documents\\github\\nonsig-master-thesis\\venv\\lib\\site-packages (from -r requirements.txt (line 49)) (0.1.2)\n",
      "Requirement already satisfied: ml_dtypes==0.5.1 in c:\\users\\raphael\\documents\\github\\nonsig-master-thesis\\venv\\lib\\site-packages (from -r requirements.txt (line 50)) (0.5.1)\n",
      "Requirement already satisfied: mpmath==1.3.0 in c:\\users\\raphael\\documents\\github\\nonsig-master-thesis\\venv\\lib\\site-packages (from -r requirements.txt (line 51)) (1.3.0)\n",
      "Requirement already satisfied: multidict==6.6.3 in c:\\users\\raphael\\documents\\github\\nonsig-master-thesis\\venv\\lib\\site-packages (from -r requirements.txt (line 52)) (6.6.3)\n",
      "Requirement already satisfied: multiprocess==0.70.16 in c:\\users\\raphael\\documents\\github\\nonsig-master-thesis\\venv\\lib\\site-packages (from -r requirements.txt (line 53)) (0.70.16)\n",
      "Requirement already satisfied: namex==0.1.0 in c:\\users\\raphael\\documents\\github\\nonsig-master-thesis\\venv\\lib\\site-packages (from -r requirements.txt (line 54)) (0.1.0)\n",
      "Requirement already satisfied: nest-asyncio==1.6.0 in c:\\users\\raphael\\documents\\github\\nonsig-master-thesis\\venv\\lib\\site-packages (from -r requirements.txt (line 55)) (1.6.0)\n",
      "Requirement already satisfied: networkx==3.5 in c:\\users\\raphael\\documents\\github\\nonsig-master-thesis\\venv\\lib\\site-packages (from -r requirements.txt (line 56)) (3.5)\n",
      "Requirement already satisfied: numpy==2.1.3 in c:\\users\\raphael\\documents\\github\\nonsig-master-thesis\\venv\\lib\\site-packages (from -r requirements.txt (line 57)) (2.1.3)\n",
      "Requirement already satisfied: openpyxl==3.1.5 in c:\\users\\raphael\\documents\\github\\nonsig-master-thesis\\venv\\lib\\site-packages (from -r requirements.txt (line 58)) (3.1.5)\n",
      "Requirement already satisfied: opt_einsum==3.4.0 in c:\\users\\raphael\\documents\\github\\nonsig-master-thesis\\venv\\lib\\site-packages (from -r requirements.txt (line 59)) (3.4.0)\n",
      "Requirement already satisfied: optree==0.16.0 in c:\\users\\raphael\\documents\\github\\nonsig-master-thesis\\venv\\lib\\site-packages (from -r requirements.txt (line 60)) (0.16.0)\n",
      "Requirement already satisfied: packaging==25.0 in c:\\users\\raphael\\documents\\github\\nonsig-master-thesis\\venv\\lib\\site-packages (from -r requirements.txt (line 61)) (25.0)\n",
      "Requirement already satisfied: pandas==2.3.1 in c:\\users\\raphael\\documents\\github\\nonsig-master-thesis\\venv\\lib\\site-packages (from -r requirements.txt (line 62)) (2.3.1)\n",
      "Requirement already satisfied: parso==0.8.4 in c:\\users\\raphael\\documents\\github\\nonsig-master-thesis\\venv\\lib\\site-packages (from -r requirements.txt (line 63)) (0.8.4)\n",
      "Requirement already satisfied: pillow==11.3.0 in c:\\users\\raphael\\documents\\github\\nonsig-master-thesis\\venv\\lib\\site-packages (from -r requirements.txt (line 64)) (11.3.0)\n",
      "Requirement already satisfied: platformdirs==4.3.8 in c:\\users\\raphael\\documents\\github\\nonsig-master-thesis\\venv\\lib\\site-packages (from -r requirements.txt (line 65)) (4.3.8)\n",
      "Requirement already satisfied: prompt_toolkit==3.0.51 in c:\\users\\raphael\\documents\\github\\nonsig-master-thesis\\venv\\lib\\site-packages (from -r requirements.txt (line 66)) (3.0.51)\n",
      "Requirement already satisfied: propcache==0.3.2 in c:\\users\\raphael\\documents\\github\\nonsig-master-thesis\\venv\\lib\\site-packages (from -r requirements.txt (line 67)) (0.3.2)\n",
      "Requirement already satisfied: protobuf==5.29.5 in c:\\users\\raphael\\documents\\github\\nonsig-master-thesis\\venv\\lib\\site-packages (from -r requirements.txt (line 68)) (5.29.5)\n",
      "Requirement already satisfied: psutil==7.0.0 in c:\\users\\raphael\\documents\\github\\nonsig-master-thesis\\venv\\lib\\site-packages (from -r requirements.txt (line 69)) (7.0.0)\n",
      "Requirement already satisfied: pure_eval==0.2.3 in c:\\users\\raphael\\documents\\github\\nonsig-master-thesis\\venv\\lib\\site-packages (from -r requirements.txt (line 70)) (0.2.3)\n",
      "Requirement already satisfied: pyarrow==20.0.0 in c:\\users\\raphael\\documents\\github\\nonsig-master-thesis\\venv\\lib\\site-packages (from -r requirements.txt (line 71)) (20.0.0)\n",
      "Requirement already satisfied: Pygments==2.19.2 in c:\\users\\raphael\\documents\\github\\nonsig-master-thesis\\venv\\lib\\site-packages (from -r requirements.txt (line 72)) (2.19.2)\n",
      "Requirement already satisfied: pyparsing==3.2.3 in c:\\users\\raphael\\documents\\github\\nonsig-master-thesis\\venv\\lib\\site-packages (from -r requirements.txt (line 73)) (3.2.3)\n",
      "Requirement already satisfied: python-dateutil==2.9.0.post0 in c:\\users\\raphael\\documents\\github\\nonsig-master-thesis\\venv\\lib\\site-packages (from -r requirements.txt (line 74)) (2.9.0.post0)\n",
      "Requirement already satisfied: pytz==2025.2 in c:\\users\\raphael\\documents\\github\\nonsig-master-thesis\\venv\\lib\\site-packages (from -r requirements.txt (line 75)) (2025.2)\n",
      "Requirement already satisfied: pywin32==310 in c:\\users\\raphael\\documents\\github\\nonsig-master-thesis\\venv\\lib\\site-packages (from -r requirements.txt (line 76)) (310)\n",
      "Requirement already satisfied: PyYAML==6.0.2 in c:\\users\\raphael\\documents\\github\\nonsig-master-thesis\\venv\\lib\\site-packages (from -r requirements.txt (line 77)) (6.0.2)\n",
      "Requirement already satisfied: pyzmq==27.0.0 in c:\\users\\raphael\\documents\\github\\nonsig-master-thesis\\venv\\lib\\site-packages (from -r requirements.txt (line 78)) (27.0.0)\n",
      "Requirement already satisfied: regex==2024.11.6 in c:\\users\\raphael\\documents\\github\\nonsig-master-thesis\\venv\\lib\\site-packages (from -r requirements.txt (line 79)) (2024.11.6)\n",
      "Requirement already satisfied: requests==2.32.4 in c:\\users\\raphael\\documents\\github\\nonsig-master-thesis\\venv\\lib\\site-packages (from -r requirements.txt (line 80)) (2.32.4)\n",
      "Requirement already satisfied: rich==14.0.0 in c:\\users\\raphael\\documents\\github\\nonsig-master-thesis\\venv\\lib\\site-packages (from -r requirements.txt (line 81)) (14.0.0)\n",
      "Requirement already satisfied: safetensors==0.5.3 in c:\\users\\raphael\\documents\\github\\nonsig-master-thesis\\venv\\lib\\site-packages (from -r requirements.txt (line 82)) (0.5.3)\n",
      "Requirement already satisfied: scikit-learn==1.7.0 in c:\\users\\raphael\\documents\\github\\nonsig-master-thesis\\venv\\lib\\site-packages (from -r requirements.txt (line 83)) (1.7.0)\n",
      "Requirement already satisfied: scipy==1.16.0 in c:\\users\\raphael\\documents\\github\\nonsig-master-thesis\\venv\\lib\\site-packages (from -r requirements.txt (line 84)) (1.16.0)\n",
      "Requirement already satisfied: seaborn==0.13.2 in c:\\users\\raphael\\documents\\github\\nonsig-master-thesis\\venv\\lib\\site-packages (from -r requirements.txt (line 85)) (0.13.2)\n",
      "Requirement already satisfied: setuptools==80.9.0 in c:\\users\\raphael\\documents\\github\\nonsig-master-thesis\\venv\\lib\\site-packages (from -r requirements.txt (line 86)) (80.9.0)\n",
      "Requirement already satisfied: six==1.17.0 in c:\\users\\raphael\\documents\\github\\nonsig-master-thesis\\venv\\lib\\site-packages (from -r requirements.txt (line 87)) (1.17.0)\n",
      "Requirement already satisfied: stack-data==0.6.3 in c:\\users\\raphael\\documents\\github\\nonsig-master-thesis\\venv\\lib\\site-packages (from -r requirements.txt (line 88)) (0.6.3)\n",
      "Requirement already satisfied: sympy==1.14.0 in c:\\users\\raphael\\documents\\github\\nonsig-master-thesis\\venv\\lib\\site-packages (from -r requirements.txt (line 89)) (1.14.0)\n",
      "Requirement already satisfied: tensorboard==2.19.0 in c:\\users\\raphael\\documents\\github\\nonsig-master-thesis\\venv\\lib\\site-packages (from -r requirements.txt (line 90)) (2.19.0)\n",
      "Requirement already satisfied: tensorboard-data-server==0.7.2 in c:\\users\\raphael\\documents\\github\\nonsig-master-thesis\\venv\\lib\\site-packages (from -r requirements.txt (line 91)) (0.7.2)\n",
      "Requirement already satisfied: tensorflow==2.19.0 in c:\\users\\raphael\\documents\\github\\nonsig-master-thesis\\venv\\lib\\site-packages (from -r requirements.txt (line 92)) (2.19.0)\n",
      "Requirement already satisfied: termcolor==3.1.0 in c:\\users\\raphael\\documents\\github\\nonsig-master-thesis\\venv\\lib\\site-packages (from -r requirements.txt (line 93)) (3.1.0)\n",
      "Requirement already satisfied: tf_keras==2.19.0 in c:\\users\\raphael\\documents\\github\\nonsig-master-thesis\\venv\\lib\\site-packages (from -r requirements.txt (line 94)) (2.19.0)\n",
      "Requirement already satisfied: threadpoolctl==3.6.0 in c:\\users\\raphael\\documents\\github\\nonsig-master-thesis\\venv\\lib\\site-packages (from -r requirements.txt (line 95)) (3.6.0)\n",
      "Requirement already satisfied: tokenizers==0.21.2 in c:\\users\\raphael\\documents\\github\\nonsig-master-thesis\\venv\\lib\\site-packages (from -r requirements.txt (line 96)) (0.21.2)\n",
      "Requirement already satisfied: tornado==6.5.1 in c:\\users\\raphael\\documents\\github\\nonsig-master-thesis\\venv\\lib\\site-packages (from -r requirements.txt (line 97)) (6.5.1)\n",
      "Requirement already satisfied: tqdm==4.67.1 in c:\\users\\raphael\\documents\\github\\nonsig-master-thesis\\venv\\lib\\site-packages (from -r requirements.txt (line 98)) (4.67.1)\n",
      "Requirement already satisfied: traitlets==5.14.3 in c:\\users\\raphael\\documents\\github\\nonsig-master-thesis\\venv\\lib\\site-packages (from -r requirements.txt (line 99)) (5.14.3)\n",
      "Requirement already satisfied: transformers==4.53.1 in c:\\users\\raphael\\documents\\github\\nonsig-master-thesis\\venv\\lib\\site-packages (from -r requirements.txt (line 100)) (4.53.1)\n",
      "Requirement already satisfied: typing_extensions==4.14.1 in c:\\users\\raphael\\documents\\github\\nonsig-master-thesis\\venv\\lib\\site-packages (from -r requirements.txt (line 101)) (4.14.1)\n",
      "Requirement already satisfied: tzdata==2025.2 in c:\\users\\raphael\\documents\\github\\nonsig-master-thesis\\venv\\lib\\site-packages (from -r requirements.txt (line 102)) (2025.2)\n",
      "Requirement already satisfied: urllib3==2.5.0 in c:\\users\\raphael\\documents\\github\\nonsig-master-thesis\\venv\\lib\\site-packages (from -r requirements.txt (line 103)) (2.5.0)\n",
      "Requirement already satisfied: wcwidth==0.2.13 in c:\\users\\raphael\\documents\\github\\nonsig-master-thesis\\venv\\lib\\site-packages (from -r requirements.txt (line 104)) (0.2.13)\n",
      "Requirement already satisfied: Werkzeug==3.1.3 in c:\\users\\raphael\\documents\\github\\nonsig-master-thesis\\venv\\lib\\site-packages (from -r requirements.txt (line 105)) (3.1.3)\n",
      "Requirement already satisfied: wheel==0.45.1 in c:\\users\\raphael\\documents\\github\\nonsig-master-thesis\\venv\\lib\\site-packages (from -r requirements.txt (line 106)) (0.45.1)\n",
      "Requirement already satisfied: wrapt==1.17.2 in c:\\users\\raphael\\documents\\github\\nonsig-master-thesis\\venv\\lib\\site-packages (from -r requirements.txt (line 107)) (1.17.2)\n",
      "Requirement already satisfied: xxhash==3.5.0 in c:\\users\\raphael\\documents\\github\\nonsig-master-thesis\\venv\\lib\\site-packages (from -r requirements.txt (line 108)) (3.5.0)\n",
      "Requirement already satisfied: yarl==1.20.1 in c:\\users\\raphael\\documents\\github\\nonsig-master-thesis\\venv\\lib\\site-packages (from -r requirements.txt (line 109)) (1.20.1)\n",
      "Requirement already satisfied: torch>=2.0.0 in c:\\users\\raphael\\documents\\github\\nonsig-master-thesis\\venv\\lib\\site-packages (from accelerate==1.8.1->-r requirements.txt (line 2)) (2.7.1+cu128)\n"
     ]
    },
    {
     "name": "stderr",
     "output_type": "stream",
     "text": [
      "\n",
      "[notice] A new release of pip is available: 25.0.1 -> 25.1.1\n",
      "[notice] To update, run: python.exe -m pip install --upgrade pip\n"
     ]
    },
    {
     "name": "stdout",
     "output_type": "stream",
     "text": [
      "Looking in links: https://download.pytorch.org/whl/torch/\n",
      "Requirement already satisfied: torch==2.7.1+cu128 in c:\\users\\raphael\\documents\\github\\nonsig-master-thesis\\venv\\lib\\site-packages (2.7.1+cu128)\n",
      "Requirement already satisfied: filelock in c:\\users\\raphael\\documents\\github\\nonsig-master-thesis\\venv\\lib\\site-packages (from torch==2.7.1+cu128) (3.18.0)\n",
      "Requirement already satisfied: typing-extensions>=4.10.0 in c:\\users\\raphael\\documents\\github\\nonsig-master-thesis\\venv\\lib\\site-packages (from torch==2.7.1+cu128) (4.14.1)\n",
      "Requirement already satisfied: sympy>=1.13.3 in c:\\users\\raphael\\documents\\github\\nonsig-master-thesis\\venv\\lib\\site-packages (from torch==2.7.1+cu128) (1.14.0)\n",
      "Requirement already satisfied: networkx in c:\\users\\raphael\\documents\\github\\nonsig-master-thesis\\venv\\lib\\site-packages (from torch==2.7.1+cu128) (3.5)\n",
      "Requirement already satisfied: jinja2 in c:\\users\\raphael\\documents\\github\\nonsig-master-thesis\\venv\\lib\\site-packages (from torch==2.7.1+cu128) (3.1.6)\n",
      "Requirement already satisfied: fsspec in c:\\users\\raphael\\documents\\github\\nonsig-master-thesis\\venv\\lib\\site-packages (from torch==2.7.1+cu128) (2025.3.0)\n",
      "Requirement already satisfied: setuptools in c:\\users\\raphael\\documents\\github\\nonsig-master-thesis\\venv\\lib\\site-packages (from torch==2.7.1+cu128) (80.9.0)\n",
      "Requirement already satisfied: mpmath<1.4,>=1.1.0 in c:\\users\\raphael\\documents\\github\\nonsig-master-thesis\\venv\\lib\\site-packages (from sympy>=1.13.3->torch==2.7.1+cu128) (1.3.0)\n",
      "Requirement already satisfied: MarkupSafe>=2.0 in c:\\users\\raphael\\documents\\github\\nonsig-master-thesis\\venv\\lib\\site-packages (from jinja2->torch==2.7.1+cu128) (3.0.2)\n"
     ]
    },
    {
     "name": "stderr",
     "output_type": "stream",
     "text": [
      "\n",
      "[notice] A new release of pip is available: 25.0.1 -> 25.1.1\n",
      "[notice] To update, run: python.exe -m pip install --upgrade pip\n"
     ]
    },
    {
     "name": "stdout",
     "output_type": "stream",
     "text": [
      "Looking in links: https://download.pytorch.org/whl/torchaudio/\n",
      "Requirement already satisfied: torchaudio==2.7.1+cu128 in c:\\users\\raphael\\documents\\github\\nonsig-master-thesis\\venv\\lib\\site-packages (2.7.1+cu128)\n",
      "Requirement already satisfied: torch==2.7.1+cu128 in c:\\users\\raphael\\documents\\github\\nonsig-master-thesis\\venv\\lib\\site-packages (from torchaudio==2.7.1+cu128) (2.7.1+cu128)\n",
      "Requirement already satisfied: filelock in c:\\users\\raphael\\documents\\github\\nonsig-master-thesis\\venv\\lib\\site-packages (from torch==2.7.1+cu128->torchaudio==2.7.1+cu128) (3.18.0)\n",
      "Requirement already satisfied: typing-extensions>=4.10.0 in c:\\users\\raphael\\documents\\github\\nonsig-master-thesis\\venv\\lib\\site-packages (from torch==2.7.1+cu128->torchaudio==2.7.1+cu128) (4.14.1)\n",
      "Requirement already satisfied: sympy>=1.13.3 in c:\\users\\raphael\\documents\\github\\nonsig-master-thesis\\venv\\lib\\site-packages (from torch==2.7.1+cu128->torchaudio==2.7.1+cu128) (1.14.0)\n",
      "Requirement already satisfied: networkx in c:\\users\\raphael\\documents\\github\\nonsig-master-thesis\\venv\\lib\\site-packages (from torch==2.7.1+cu128->torchaudio==2.7.1+cu128) (3.5)\n",
      "Requirement already satisfied: jinja2 in c:\\users\\raphael\\documents\\github\\nonsig-master-thesis\\venv\\lib\\site-packages (from torch==2.7.1+cu128->torchaudio==2.7.1+cu128) (3.1.6)\n",
      "Requirement already satisfied: fsspec in c:\\users\\raphael\\documents\\github\\nonsig-master-thesis\\venv\\lib\\site-packages (from torch==2.7.1+cu128->torchaudio==2.7.1+cu128) (2025.3.0)\n",
      "Requirement already satisfied: setuptools in c:\\users\\raphael\\documents\\github\\nonsig-master-thesis\\venv\\lib\\site-packages (from torch==2.7.1+cu128->torchaudio==2.7.1+cu128) (80.9.0)\n",
      "Requirement already satisfied: mpmath<1.4,>=1.1.0 in c:\\users\\raphael\\documents\\github\\nonsig-master-thesis\\venv\\lib\\site-packages (from sympy>=1.13.3->torch==2.7.1+cu128->torchaudio==2.7.1+cu128) (1.3.0)\n",
      "Requirement already satisfied: MarkupSafe>=2.0 in c:\\users\\raphael\\documents\\github\\nonsig-master-thesis\\venv\\lib\\site-packages (from jinja2->torch==2.7.1+cu128->torchaudio==2.7.1+cu128) (3.0.2)\n"
     ]
    },
    {
     "name": "stderr",
     "output_type": "stream",
     "text": [
      "\n",
      "[notice] A new release of pip is available: 25.0.1 -> 25.1.1\n",
      "[notice] To update, run: python.exe -m pip install --upgrade pip\n"
     ]
    },
    {
     "name": "stdout",
     "output_type": "stream",
     "text": [
      "Looking in links: https://download.pytorch.org/whl/torchvision/\n",
      "Requirement already satisfied: torchvision==0.22.1+cu128 in c:\\users\\raphael\\documents\\github\\nonsig-master-thesis\\venv\\lib\\site-packages (0.22.1+cu128)\n",
      "Requirement already satisfied: numpy in c:\\users\\raphael\\documents\\github\\nonsig-master-thesis\\venv\\lib\\site-packages (from torchvision==0.22.1+cu128) (2.1.3)\n",
      "Requirement already satisfied: torch==2.7.1+cu128 in c:\\users\\raphael\\documents\\github\\nonsig-master-thesis\\venv\\lib\\site-packages (from torchvision==0.22.1+cu128) (2.7.1+cu128)\n",
      "Requirement already satisfied: pillow!=8.3.*,>=5.3.0 in c:\\users\\raphael\\documents\\github\\nonsig-master-thesis\\venv\\lib\\site-packages (from torchvision==0.22.1+cu128) (11.3.0)\n",
      "Requirement already satisfied: filelock in c:\\users\\raphael\\documents\\github\\nonsig-master-thesis\\venv\\lib\\site-packages (from torch==2.7.1+cu128->torchvision==0.22.1+cu128) (3.18.0)\n",
      "Requirement already satisfied: typing-extensions>=4.10.0 in c:\\users\\raphael\\documents\\github\\nonsig-master-thesis\\venv\\lib\\site-packages (from torch==2.7.1+cu128->torchvision==0.22.1+cu128) (4.14.1)\n",
      "Requirement already satisfied: sympy>=1.13.3 in c:\\users\\raphael\\documents\\github\\nonsig-master-thesis\\venv\\lib\\site-packages (from torch==2.7.1+cu128->torchvision==0.22.1+cu128) (1.14.0)\n",
      "Requirement already satisfied: networkx in c:\\users\\raphael\\documents\\github\\nonsig-master-thesis\\venv\\lib\\site-packages (from torch==2.7.1+cu128->torchvision==0.22.1+cu128) (3.5)\n",
      "Requirement already satisfied: jinja2 in c:\\users\\raphael\\documents\\github\\nonsig-master-thesis\\venv\\lib\\site-packages (from torch==2.7.1+cu128->torchvision==0.22.1+cu128) (3.1.6)\n",
      "Requirement already satisfied: fsspec in c:\\users\\raphael\\documents\\github\\nonsig-master-thesis\\venv\\lib\\site-packages (from torch==2.7.1+cu128->torchvision==0.22.1+cu128) (2025.3.0)\n",
      "Requirement already satisfied: setuptools in c:\\users\\raphael\\documents\\github\\nonsig-master-thesis\\venv\\lib\\site-packages (from torch==2.7.1+cu128->torchvision==0.22.1+cu128) (80.9.0)\n",
      "Requirement already satisfied: mpmath<1.4,>=1.1.0 in c:\\users\\raphael\\documents\\github\\nonsig-master-thesis\\venv\\lib\\site-packages (from sympy>=1.13.3->torch==2.7.1+cu128->torchvision==0.22.1+cu128) (1.3.0)\n",
      "Requirement already satisfied: MarkupSafe>=2.0 in c:\\users\\raphael\\documents\\github\\nonsig-master-thesis\\venv\\lib\\site-packages (from jinja2->torch==2.7.1+cu128->torchvision==0.22.1+cu128) (3.0.2)\n"
     ]
    },
    {
     "name": "stderr",
     "output_type": "stream",
     "text": [
      "\n",
      "[notice] A new release of pip is available: 25.0.1 -> 25.1.1\n",
      "[notice] To update, run: python.exe -m pip install --upgrade pip\n"
     ]
    }
   ],
   "source": [
    "! pip install -r requirements.txt\n",
    "\n",
    "# If you work with GPU-support:\n",
    "! pip install torch==2.7.1+cu128 -f https://download.pytorch.org/whl/torch/\n",
    "! pip install torchaudio==2.7.1+cu128 -f https://download.pytorch.org/whl/torchaudio/\n",
    "! pip install torchvision==0.22.1+cu128 -f https://download.pytorch.org/whl/torchvision/\n",
    "\n",
    "# If you only work with CPU-support:\n",
    "# ! pip install torch==2.7.1\n",
    "# ! pip install torchaudio==2.7.1\n",
    "# ! pip install torchvision==0.22.1"
   ]
  },
  {
   "cell_type": "markdown",
   "id": "6d5fa995",
   "metadata": {},
   "source": [
    "### 0.2 GPU setup"
   ]
  },
  {
   "cell_type": "code",
   "execution_count": 393,
   "id": "a3336508",
   "metadata": {},
   "outputs": [
    {
     "name": "stdout",
     "output_type": "stream",
     "text": [
      "True\n",
      "0\n",
      "NVIDIA GeForce RTX 2070 with Max-Q Design\n"
     ]
    }
   ],
   "source": [
    "# Check if CUDA is available and print the current device's name\n",
    "import torch\n",
    "print(torch.cuda.is_available())\n",
    "if torch.cuda.is_available():\n",
    "    print(torch.cuda.current_device())\n",
    "    print(torch.cuda.get_device_name(0))"
   ]
  },
  {
   "cell_type": "markdown",
   "id": "19253634",
   "metadata": {},
   "source": [
    "## 1 Configuration"
   ]
  },
  {
   "cell_type": "code",
   "execution_count": 399,
   "id": "ff026edd",
   "metadata": {},
   "outputs": [],
   "source": [
    "# Data variables\n",
    "data_path = \"../../data/training_data/labeled/labeled_data.xlsx\" # path to the Excel file with the labeled data\n",
    "validation_path = \"../../data/validation_data/validation_data.csv\" # path to where the validation set should be stored\n",
    "results_path = \"../../data/training_data/labeled/model_performance.csv\" # path to where the results should be stored\n",
    "text_column_name = \"expanded\" # name of the column containing the text to classify\n",
    "label_column_name = \"label_strict\" # name of the column containing the labels (0 = correct or 1 = incorrect)\n",
    "num_labels = 2 # binary classification (see above)\n",
    "\n",
    "# Model configuration\n",
    "model_name = \"bert-base-uncased\" # standard; I specify other models in the \"3. Initialize Models\" section of this script\n",
    "test_size = 0.2 # ratio of the dataset to be used for testing\n",
    "max_length = 350 # maximum length of the input sequences for BERT\n",
    "num_epochs = 10 # number of epochs for training\n",
    "batch_size = 8 # batch size for training and evaluation\n",
    "learning_rate = 2e-5 # learning rate for the optimizer\n",
    "weight_decay = 0.01 # weight decay for the optimizer\n",
    "early_stopping_patience = 2 # number of epochs with no improvement after which training will be stopped\n",
    "\n",
    "# Seed for reproducibility\n",
    "import random\n",
    "import numpy as np\n",
    "from transformers import set_seed\n",
    "import os\n",
    "\n",
    "seed = 42\n",
    "\n",
    "os.environ['PYTHONHASHSEED'] = str(seed)\n",
    "random.seed(seed)\n",
    "np.random.seed(seed)\n",
    "torch.manual_seed(seed)\n",
    "torch.cuda.manual_seed_all(seed)\n",
    "set_seed(seed)\n",
    "torch.backends.cudnn.deterministic = True\n",
    "torch.backends.cudnn.benchmark = False\n",
    "\n"
   ]
  },
  {
   "cell_type": "markdown",
   "id": "050e4828",
   "metadata": {},
   "source": [
    "## 2 Read and prepare dataset"
   ]
  },
  {
   "cell_type": "code",
   "execution_count": 397,
   "id": "1789fc47",
   "metadata": {},
   "outputs": [
    {
     "data": {
      "application/vnd.microsoft.datawrangler.viewer.v0+json": {
       "columns": [
        {
         "name": "index",
         "rawType": "int64",
         "type": "integer"
        },
        {
         "name": "text",
         "rawType": "object",
         "type": "string"
        },
        {
         "name": "label",
         "rawType": "int64",
         "type": "integer"
        }
       ],
       "ref": "7de9fb80-1400-4524-9659-d6c8f6136f84",
       "rows": [
        [
         "0",
         "There were no significant differences between ratings for the aversive CS+ and the CS-(p = .330) or the neutral CS+ and the CS-(p = .170).",
         "0"
        ],
        [
         "1",
         "There was no interaction between age group and condition, F(1, 124) = 0.07, p = .79.",
         "1"
        ],
        [
         "2",
         "Opponent height was subsequently added as a fixed effect, which was not significantly related to number of coins kept for self in the ultimatum game, Wald Ï‡ 2 (1) = 1.54, b = 0.004, SE = 0.003, 95% CI = [-0.002, 0.011], p = .215 (QICc = 24.62).",
         "0"
        ],
        [
         "3",
         "Interestingly, however, participants' explicit relationship evaluation did not predict their verbal behavior either, b = -0.002, SE = 0.07, 95% CI = [-0.13, 0.13], p = .979, Î² = -0.002.",
         "1"
        ],
        [
         "4",
         "When participants made large errors on previous trials, their encoding speed on subsequent trials was the same, or if anything slightly lower (Î² = -0.121, t = -1.69, p = .094, BF 10 = 0.374, Î”BIC = -1.98; see Fig. S2 in the Supplemental Material).",
         "1"
        ]
       ],
       "shape": {
        "columns": 2,
        "rows": 5
       }
      },
      "text/html": [
       "<div>\n",
       "<style scoped>\n",
       "    .dataframe tbody tr th:only-of-type {\n",
       "        vertical-align: middle;\n",
       "    }\n",
       "\n",
       "    .dataframe tbody tr th {\n",
       "        vertical-align: top;\n",
       "    }\n",
       "\n",
       "    .dataframe thead th {\n",
       "        text-align: right;\n",
       "    }\n",
       "</style>\n",
       "<table border=\"1\" class=\"dataframe\">\n",
       "  <thead>\n",
       "    <tr style=\"text-align: right;\">\n",
       "      <th></th>\n",
       "      <th>text</th>\n",
       "      <th>label</th>\n",
       "    </tr>\n",
       "  </thead>\n",
       "  <tbody>\n",
       "    <tr>\n",
       "      <th>0</th>\n",
       "      <td>There were no significant differences between ...</td>\n",
       "      <td>0</td>\n",
       "    </tr>\n",
       "    <tr>\n",
       "      <th>1</th>\n",
       "      <td>There was no interaction between age group and...</td>\n",
       "      <td>1</td>\n",
       "    </tr>\n",
       "    <tr>\n",
       "      <th>2</th>\n",
       "      <td>Opponent height was subsequently added as a fi...</td>\n",
       "      <td>0</td>\n",
       "    </tr>\n",
       "    <tr>\n",
       "      <th>3</th>\n",
       "      <td>Interestingly, however, participants' explicit...</td>\n",
       "      <td>1</td>\n",
       "    </tr>\n",
       "    <tr>\n",
       "      <th>4</th>\n",
       "      <td>When participants made large errors on previou...</td>\n",
       "      <td>1</td>\n",
       "    </tr>\n",
       "  </tbody>\n",
       "</table>\n",
       "</div>"
      ],
      "text/plain": [
       "                                                text  label\n",
       "0  There were no significant differences between ...      0\n",
       "1  There was no interaction between age group and...      1\n",
       "2  Opponent height was subsequently added as a fi...      0\n",
       "3  Interestingly, however, participants' explicit...      1\n",
       "4  When participants made large errors on previou...      1"
      ]
     },
     "execution_count": 397,
     "metadata": {},
     "output_type": "execute_result"
    }
   ],
   "source": [
    "import pandas as pd\n",
    "from sklearn.utils import resample\n",
    "from sklearn.model_selection import train_test_split\n",
    "\n",
    "# Load the data\n",
    "df = pd.read_excel(data_path)\n",
    "\n",
    "# Remove all columns but 'expanded' and 'label_strict'\n",
    "df = df.drop(columns=['statement_id', 'section', 'header','div', 'p', 's', 'article_id', 'p_comp', 'p_value', 'context', 'text', 'label_kind', 'label_keywords', 'label_comment'])\n",
    "\n",
    "# Change column names\n",
    "df = df.rename(columns={text_column_name: 'text', label_column_name: 'label'})\n",
    "\n",
    "# Remove rows where 'label' is NA\n",
    "df = df[df['label'].notna()]\n",
    "\n",
    "# Put 20 % of the data (with labels 0, 1, or -99) into a validation set\n",
    "df, val_df = train_test_split(\n",
    "    df,\n",
    "    test_size=0.2,\n",
    "    stratify=df['label'],\n",
    "    random_state=seed\n",
    ")\n",
    "\n",
    "# Save validation set as 'validation_data.csv' at 'validation_path'\n",
    "val_df.to_csv(validation_path, index=False)\n",
    "\n",
    "# Remove rows where 'label' is -99\n",
    "df = df[df['label'] != -99]\n",
    "\n",
    "# Convert label column to int (required for classification)\n",
    "df['label'] = df['label'].astype(int)\n",
    "\n",
    "# Balance labels via undersampling (generalized)\n",
    "label_counts = df['label'].value_counts()  # Get counts of each label\n",
    "minority_label = label_counts.idxmin() # Get the minority label\n",
    "majority_label = label_counts.idxmax() # Get the majority label\n",
    "\n",
    "df_minority = df[df['label'] == minority_label]\n",
    "df_majority = df[df['label'] == majority_label]\n",
    "\n",
    "df_majority_downsampled = resample( # Downsample majority label\n",
    "    df_majority,\n",
    "    replace=False,\n",
    "    n_samples=len(df_minority),\n",
    "    random_state=seed\n",
    ")\n",
    "\n",
    "df = pd.concat([df_majority_downsampled, df_minority]).sample(frac=1, random_state=seed).reset_index(drop=True)\n",
    "\n",
    "# Show head\n",
    "df.head()"
   ]
  },
  {
   "cell_type": "markdown",
   "id": "c2e53af8",
   "metadata": {},
   "source": [
    "### 2.1 Create Train/Test set"
   ]
  },
  {
   "cell_type": "code",
   "execution_count": null,
   "id": "2e797a35",
   "metadata": {},
   "outputs": [],
   "source": [
    "from sklearn.model_selection import train_test_split\n",
    "\n",
    "# Split the dataset into training and test sets\n",
    "df_train, df_test = train_test_split(df, test_size=test_size, random_state=seed, stratify=df['label'])\n",
    "\n",
    "# Convert to Huggingface dataset\n",
    "from datasets import Dataset\n",
    "train_dataset = Dataset.from_pandas(df_train)\n",
    "test_dataset = Dataset.from_pandas(df_test)"
   ]
  },
  {
   "cell_type": "markdown",
   "id": "ecff339a",
   "metadata": {},
   "source": [
    "Header of the Training set:"
   ]
  },
  {
   "cell_type": "code",
   "execution_count": 355,
   "id": "8f28446b",
   "metadata": {},
   "outputs": [
    {
     "data": {
      "application/vnd.microsoft.datawrangler.viewer.v0+json": {
       "columns": [
        {
         "name": "index",
         "rawType": "int64",
         "type": "integer"
        },
        {
         "name": "text",
         "rawType": "object",
         "type": "string"
        },
        {
         "name": "label",
         "rawType": "int64",
         "type": "integer"
        }
       ],
       "ref": "11c99e34-34be-4998-abb2-49587886b2a5",
       "rows": [
        [
         "474",
         "Neither the reaction time nor the proportion of bird's-eye-view strategy use was larger for the sphere-mean time on sphere = 6.4 Â± 2.5 s versus on plane = 7.0 Â± 2.4 s, t(19) = 1.1, p = .85, one-sided; proportion of bird's-eye-view perspective on sphere = 7 out of 20 vs. on plane = 5 out of 20, McNemara test, p = .31.",
         "1"
        ],
        [
         "617",
         "As expected, prior to the intervention (at baseline: Day 0), we confirmed that the two groups experienced a similar number of intrusive memories of the film in daily life, t(50) = 0.06, p = .95 (Fig. 1a).",
         "1"
        ],
        [
         "316",
         "There was no main effect of statistical-learning ability, F(1, 43.9) = 0.00, p = .995, Î² = 0.0002, SE = 0.03, indicating that people's statistical-learning abilities were unrelated to the total amount they fixated in the main task.",
         "1"
        ],
        [
         "13",
         "We found the same pattern for RTs: A 7 (Position) Ã— 4 (Ratio) Ã— 3 (Dots in Set) repeated-measures ANOVA with RT as the dependent variable showed a significant main effect of position, F(4, 116) = 21.17, p = < .001, f = 0.87, a significant main effect of ratio, F(3, 87) = 15.73, p < .001, f = 0.74, a significant main effect of dots in set, F(2, 58) = 5.29, p = .008, f = 0.43, a significant Position Ã— Ratio interaction, F(12, 348) = 2.046, p = .012, f = 0.27, a nonsignificant Position Ã— Dots in Set interaction, F(8, 232) = 1.232, p = .281, f = 0.21, a nonsignificant Ratio Ã— Dots in Set interaction, F(6, 174) = 0.456, p = .84, f = 0.13, and a nonsignificant three-way interaction, F(24, 696) = 1.357, p = .12, f = 0.22.",
         "0"
        ],
        [
         "282",
         "We also confirmed the predicted familiarity-by-length interaction, F(1, 19) = 10.57, p = .004, Î· p 2 = .36, OP = .87, indicating a length effect for pseudowords (five-letter strings: M = 5.93%, SD = 5.06; three-letter strings: M = 4.62%, SD = 3.90), t(19) = -2.48, p = .02, but not for real words (five-letter strings: M = 4.01%, SD = 3.08; three-letter strings: M = 4.26%, SD = 2.98), t(19) = 1.13, p = .27.",
         "1"
        ]
       ],
       "shape": {
        "columns": 2,
        "rows": 5
       }
      },
      "text/html": [
       "<div>\n",
       "<style scoped>\n",
       "    .dataframe tbody tr th:only-of-type {\n",
       "        vertical-align: middle;\n",
       "    }\n",
       "\n",
       "    .dataframe tbody tr th {\n",
       "        vertical-align: top;\n",
       "    }\n",
       "\n",
       "    .dataframe thead th {\n",
       "        text-align: right;\n",
       "    }\n",
       "</style>\n",
       "<table border=\"1\" class=\"dataframe\">\n",
       "  <thead>\n",
       "    <tr style=\"text-align: right;\">\n",
       "      <th></th>\n",
       "      <th>text</th>\n",
       "      <th>label</th>\n",
       "    </tr>\n",
       "  </thead>\n",
       "  <tbody>\n",
       "    <tr>\n",
       "      <th>474</th>\n",
       "      <td>Neither the reaction time nor the proportion o...</td>\n",
       "      <td>1</td>\n",
       "    </tr>\n",
       "    <tr>\n",
       "      <th>617</th>\n",
       "      <td>As expected, prior to the intervention (at bas...</td>\n",
       "      <td>1</td>\n",
       "    </tr>\n",
       "    <tr>\n",
       "      <th>316</th>\n",
       "      <td>There was no main effect of statistical-learni...</td>\n",
       "      <td>1</td>\n",
       "    </tr>\n",
       "    <tr>\n",
       "      <th>13</th>\n",
       "      <td>We found the same pattern for RTs: A 7 (Positi...</td>\n",
       "      <td>0</td>\n",
       "    </tr>\n",
       "    <tr>\n",
       "      <th>282</th>\n",
       "      <td>We also confirmed the predicted familiarity-by...</td>\n",
       "      <td>1</td>\n",
       "    </tr>\n",
       "  </tbody>\n",
       "</table>\n",
       "</div>"
      ],
      "text/plain": [
       "                                                  text  label\n",
       "474  Neither the reaction time nor the proportion o...      1\n",
       "617  As expected, prior to the intervention (at bas...      1\n",
       "316  There was no main effect of statistical-learni...      1\n",
       "13   We found the same pattern for RTs: A 7 (Positi...      0\n",
       "282  We also confirmed the predicted familiarity-by...      1"
      ]
     },
     "execution_count": 355,
     "metadata": {},
     "output_type": "execute_result"
    }
   ],
   "source": [
    "df_train.head()"
   ]
  },
  {
   "cell_type": "code",
   "execution_count": 356,
   "id": "c3ca483d",
   "metadata": {},
   "outputs": [
    {
     "name": "stdout",
     "output_type": "stream",
     "text": [
      "Training label distribution:\n",
      "label\n",
      "1    213\n",
      "0    212\n",
      "Name: count, dtype: int64\n"
     ]
    }
   ],
   "source": [
    "# Check label balance in training set\n",
    "print(\"Training label distribution:\")\n",
    "print(df_train['label'].value_counts())"
   ]
  },
  {
   "cell_type": "markdown",
   "id": "80c18c19",
   "metadata": {},
   "source": [
    "Header of the Test set:"
   ]
  },
  {
   "cell_type": "code",
   "execution_count": 357,
   "id": "2a7722b9",
   "metadata": {},
   "outputs": [
    {
     "data": {
      "application/vnd.microsoft.datawrangler.viewer.v0+json": {
       "columns": [
        {
         "name": "index",
         "rawType": "int64",
         "type": "integer"
        },
        {
         "name": "text",
         "rawType": "object",
         "type": "string"
        },
        {
         "name": "label",
         "rawType": "int64",
         "type": "integer"
        }
       ],
       "ref": "c04647e0-fb09-4e75-85a3-290aa078c5e1",
       "rows": [
        [
         "59",
         "There was no significant difference between the boost+ and consensus-only conditions on perceived consensus, Tukey-corrected p = .145, Î· p 2 = .005, 90% CI = [.000, .020].",
         "0"
        ],
        [
         "375",
         "There was no difference in general inclination to respond between participants in an oppositional climate (M = 3.25, SD = 1.60), participants in the balanced condition (M = 3.40, SD = 1.65), and participants in the friendly climate condition (M = 3.19, SD = 1.66), F(2, 106.62) = 0.13, p = .876.",
         "1"
        ],
        [
         "349",
         "However, an examination of the zero-order associations among partner life satisfaction, perceived partner support, and actor mortality revealed that this mediation path is unlikely: Although having a happier partner was indeed associated with greater perceived partner support (r = .27, 95% CI = [.25, .29], p < .001), perceived partner support was not related to actor mortality (HR = 0.99, 95% CI = [0.94, 1.04], p = .69).",
         "1"
        ],
        [
         "590",
         "Similarly, there was no significant relationship between CP enjoyment change and CP fear change (Model 6c: Î² = 0.01, SE = 0.09, p = .908).",
         "0"
        ],
        [
         "515",
         "Neither of the deprived states modulated subjective levels of stress (p > .3) or anxiety (p > .27).",
         "1"
        ]
       ],
       "shape": {
        "columns": 2,
        "rows": 5
       }
      },
      "text/html": [
       "<div>\n",
       "<style scoped>\n",
       "    .dataframe tbody tr th:only-of-type {\n",
       "        vertical-align: middle;\n",
       "    }\n",
       "\n",
       "    .dataframe tbody tr th {\n",
       "        vertical-align: top;\n",
       "    }\n",
       "\n",
       "    .dataframe thead th {\n",
       "        text-align: right;\n",
       "    }\n",
       "</style>\n",
       "<table border=\"1\" class=\"dataframe\">\n",
       "  <thead>\n",
       "    <tr style=\"text-align: right;\">\n",
       "      <th></th>\n",
       "      <th>text</th>\n",
       "      <th>label</th>\n",
       "    </tr>\n",
       "  </thead>\n",
       "  <tbody>\n",
       "    <tr>\n",
       "      <th>59</th>\n",
       "      <td>There was no significant difference between th...</td>\n",
       "      <td>0</td>\n",
       "    </tr>\n",
       "    <tr>\n",
       "      <th>375</th>\n",
       "      <td>There was no difference in general inclination...</td>\n",
       "      <td>1</td>\n",
       "    </tr>\n",
       "    <tr>\n",
       "      <th>349</th>\n",
       "      <td>However, an examination of the zero-order asso...</td>\n",
       "      <td>1</td>\n",
       "    </tr>\n",
       "    <tr>\n",
       "      <th>590</th>\n",
       "      <td>Similarly, there was no significant relationsh...</td>\n",
       "      <td>0</td>\n",
       "    </tr>\n",
       "    <tr>\n",
       "      <th>515</th>\n",
       "      <td>Neither of the deprived states modulated subje...</td>\n",
       "      <td>1</td>\n",
       "    </tr>\n",
       "  </tbody>\n",
       "</table>\n",
       "</div>"
      ],
      "text/plain": [
       "                                                  text  label\n",
       "59   There was no significant difference between th...      0\n",
       "375  There was no difference in general inclination...      1\n",
       "349  However, an examination of the zero-order asso...      1\n",
       "590  Similarly, there was no significant relationsh...      0\n",
       "515  Neither of the deprived states modulated subje...      1"
      ]
     },
     "execution_count": 357,
     "metadata": {},
     "output_type": "execute_result"
    }
   ],
   "source": [
    "df_test.head()"
   ]
  },
  {
   "cell_type": "code",
   "execution_count": 358,
   "id": "fc4d85ef",
   "metadata": {},
   "outputs": [
    {
     "name": "stdout",
     "output_type": "stream",
     "text": [
      "Test label distribution:\n",
      "label\n",
      "0    54\n",
      "1    53\n",
      "Name: count, dtype: int64\n"
     ]
    }
   ],
   "source": [
    "# Check label balance in test set\n",
    "print(\"Test label distribution:\")\n",
    "print(df_test['label'].value_counts())"
   ]
  },
  {
   "cell_type": "markdown",
   "id": "7ada89b4",
   "metadata": {},
   "source": [
    "### 2.2 Tokenize 'text'"
   ]
  },
  {
   "cell_type": "code",
   "execution_count": 359,
   "id": "4f669e54",
   "metadata": {},
   "outputs": [
    {
     "name": "stderr",
     "output_type": "stream",
     "text": [
      "Map: 100%|██████████| 425/425 [00:00<00:00, 4852.01 examples/s]\n",
      "Map: 100%|██████████| 107/107 [00:00<00:00, 3421.26 examples/s]\n"
     ]
    }
   ],
   "source": [
    "from transformers import AutoTokenizer\n",
    "\n",
    "tokenizer = AutoTokenizer.from_pretrained(model_name)\n",
    "\n",
    "def tokenize_for_bert(examples):\n",
    "    return tokenizer(examples[\"text\"], truncation=True, padding=True, max_length=max_length)\n",
    "\n",
    "tokenized_train = train_dataset.map(tokenize_for_bert, batched=True)\n",
    "\n",
    "tokenized_test = test_dataset.map(tokenize_for_bert, batched=True)"
   ]
  },
  {
   "cell_type": "markdown",
   "id": "8f2bf57e",
   "metadata": {},
   "source": [
    "## 3 Train BERT"
   ]
  },
  {
   "cell_type": "markdown",
   "id": "ef0e7023",
   "metadata": {},
   "source": [
    "### 3.1 Initializing model"
   ]
  },
  {
   "cell_type": "code",
   "execution_count": 360,
   "id": "d32e1ea4",
   "metadata": {},
   "outputs": [
    {
     "name": "stderr",
     "output_type": "stream",
     "text": [
      "Some weights of BertForSequenceClassification were not initialized from the model checkpoint at bert-base-uncased and are newly initialized: ['classifier.bias', 'classifier.weight']\n",
      "You should probably TRAIN this model on a down-stream task to be able to use it for predictions and inference.\n"
     ]
    }
   ],
   "source": [
    "from transformers import AutoModelForSequenceClassification\n",
    "\n",
    "model = AutoModelForSequenceClassification.from_pretrained(model_name, num_labels=num_labels)"
   ]
  },
  {
   "cell_type": "markdown",
   "id": "df611f60",
   "metadata": {},
   "source": [
    "### 3.2 Training regular BERT"
   ]
  },
  {
   "cell_type": "code",
   "execution_count": null,
   "id": "7b330cbd",
   "metadata": {},
   "outputs": [
    {
     "name": "stderr",
     "output_type": "stream",
     "text": [
      "C:\\Users\\Raphael\\AppData\\Local\\Temp\\ipykernel_3860\\1451787568.py:43: FutureWarning: `tokenizer` is deprecated and will be removed in version 5.0.0 for `Trainer.__init__`. Use `processing_class` instead.\n",
      "  trainer = Trainer(\n"
     ]
    }
   ],
   "source": [
    "# Standard Setup for training a model with Huggingface Transformers\n",
    "from sklearn.metrics import accuracy_score, precision_recall_fscore_support\n",
    "from transformers import EarlyStoppingCallback\n",
    "from transformers import DataCollatorWithPadding\n",
    "from transformers import TrainingArguments, Trainer\n",
    "import evaluate\n",
    "import numpy as np\n",
    "\n",
    "data_collator = DataCollatorWithPadding(tokenizer=tokenizer)\n",
    "\n",
    "metric = evaluate.load(\"accuracy\")\n",
    "\n",
    "def compute_metrics(eval_pred):\n",
    "    logits, labels = eval_pred\n",
    "    preds = np.argmax(logits, axis=-1)\n",
    "\n",
    "    acc = accuracy_score(labels, preds)\n",
    "    precision, recall, f1, _ = precision_recall_fscore_support(labels, preds, average=\"binary\")\n",
    "\n",
    "    return {\n",
    "        \"accuracy\": acc,\n",
    "        \"precision\": precision,\n",
    "        \"recall\": recall,\n",
    "        \"f1\": f1\n",
    "    }\n",
    "\n",
    "training_args = TrainingArguments(\n",
    "    output_dir=\"./results\",\n",
    "    learning_rate=learning_rate, # Specify learning rate for BERT\n",
    "    per_device_train_batch_size=batch_size,\n",
    "    per_device_eval_batch_size=batch_size,\n",
    "    num_train_epochs=num_epochs,\n",
    "    weight_decay=weight_decay,\n",
    "    logging_strategy=\"epoch\",\n",
    "    report_to=\"none\",\n",
    "    save_strategy=\"epoch\",\n",
    "    eval_strategy=\"epoch\",\n",
    "    load_best_model_at_end=True,\n",
    "    seed=seed\n",
    ")\n",
    "\n",
    "# Model specific setup\n",
    "trainer = Trainer(\n",
    "    model=model,\n",
    "    args=training_args,\n",
    "    train_dataset=tokenized_train,\n",
    "    eval_dataset=tokenized_test,\n",
    "    tokenizer=tokenizer,\n",
    "    data_collator=data_collator,\n",
    "    compute_metrics=compute_metrics,\n",
    "    callbacks=[EarlyStoppingCallback(early_stopping_patience=early_stopping_patience)]  # Stop training if no improvement after 2 epochs\n",
    ")"
   ]
  },
  {
   "cell_type": "code",
   "execution_count": 373,
   "id": "a0ab3c9e",
   "metadata": {},
   "outputs": [
    {
     "data": {
      "text/html": [
       "\n",
       "    <div>\n",
       "      \n",
       "      <progress value='162' max='540' style='width:300px; height:20px; vertical-align: middle;'></progress>\n",
       "      [162/540 01:09 < 02:44, 2.30 it/s, Epoch 3/10]\n",
       "    </div>\n",
       "    <table border=\"1\" class=\"dataframe\">\n",
       "  <thead>\n",
       " <tr style=\"text-align: left;\">\n",
       "      <th>Epoch</th>\n",
       "      <th>Training Loss</th>\n",
       "      <th>Validation Loss</th>\n",
       "      <th>Accuracy</th>\n",
       "      <th>Precision</th>\n",
       "      <th>Recall</th>\n",
       "      <th>F1</th>\n",
       "    </tr>\n",
       "  </thead>\n",
       "  <tbody>\n",
       "    <tr>\n",
       "      <td>1</td>\n",
       "      <td>0.202800</td>\n",
       "      <td>0.477470</td>\n",
       "      <td>0.887850</td>\n",
       "      <td>0.872727</td>\n",
       "      <td>0.905660</td>\n",
       "      <td>0.888889</td>\n",
       "    </tr>\n",
       "    <tr>\n",
       "      <td>2</td>\n",
       "      <td>0.060100</td>\n",
       "      <td>0.512409</td>\n",
       "      <td>0.906542</td>\n",
       "      <td>0.938776</td>\n",
       "      <td>0.867925</td>\n",
       "      <td>0.901961</td>\n",
       "    </tr>\n",
       "    <tr>\n",
       "      <td>3</td>\n",
       "      <td>0.040300</td>\n",
       "      <td>0.603119</td>\n",
       "      <td>0.906542</td>\n",
       "      <td>0.938776</td>\n",
       "      <td>0.867925</td>\n",
       "      <td>0.901961</td>\n",
       "    </tr>\n",
       "  </tbody>\n",
       "</table><p>"
      ],
      "text/plain": [
       "<IPython.core.display.HTML object>"
      ]
     },
     "metadata": {},
     "output_type": "display_data"
    },
    {
     "data": {
      "text/plain": [
       "TrainOutput(global_step=162, training_loss=0.10109624744933328, metrics={'train_runtime': 70.1342, 'train_samples_per_second': 60.598, 'train_steps_per_second': 7.7, 'total_flos': 181492669876500.0, 'train_loss': 0.10109624744933328, 'epoch': 3.0})"
      ]
     },
     "execution_count": 373,
     "metadata": {},
     "output_type": "execute_result"
    }
   ],
   "source": [
    "trainer.train()"
   ]
  },
  {
   "cell_type": "markdown",
   "id": "86a63e73",
   "metadata": {},
   "source": [
    "#### 3.2.1 Save last model"
   ]
  },
  {
   "cell_type": "code",
   "execution_count": 378,
   "id": "ab2a5e7a",
   "metadata": {},
   "outputs": [
    {
     "data": {
      "text/plain": [
       "('./best_model\\\\tokenizer_config.json',\n",
       " './best_model\\\\special_tokens_map.json',\n",
       " './best_model\\\\vocab.txt',\n",
       " './best_model\\\\added_tokens.json',\n",
       " './best_model\\\\tokenizer.json')"
      ]
     },
     "execution_count": 378,
     "metadata": {},
     "output_type": "execute_result"
    }
   ],
   "source": [
    "# Save the best model and tokenizer\n",
    "trainer.save_model(\"./best_model\")\n",
    "tokenizer.save_pretrained(\"./best_model\")"
   ]
  },
  {
   "cell_type": "markdown",
   "id": "63996c7d",
   "metadata": {},
   "source": [
    "### 3.3 Evaluate model"
   ]
  },
  {
   "cell_type": "markdown",
   "id": "42526e66",
   "metadata": {},
   "source": [
    "#### 3.3.1 Predict training data"
   ]
  },
  {
   "cell_type": "code",
   "execution_count": 379,
   "id": "1016cf86",
   "metadata": {},
   "outputs": [
    {
     "data": {
      "text/html": [],
      "text/plain": [
       "<IPython.core.display.HTML object>"
      ]
     },
     "metadata": {},
     "output_type": "display_data"
    },
    {
     "name": "stdout",
     "output_type": "stream",
     "text": [
      "Training Classification Report:\n",
      "              precision    recall  f1-score   support\n",
      "\n",
      "           0       0.99      0.99      0.99       212\n",
      "           1       0.99      0.99      0.99       213\n",
      "\n",
      "    accuracy                           0.99       425\n",
      "   macro avg       0.99      0.99      0.99       425\n",
      "weighted avg       0.99      0.99      0.99       425\n",
      "\n"
     ]
    }
   ],
   "source": [
    "from sklearn.metrics import classification_report\n",
    "\n",
    "train_preds = trainer.predict(tokenized_train)\n",
    "train_preds = np.argmax(train_preds.predictions, axis=1)\n",
    "GT_train = df_train['label'].tolist()\n",
    "print(\"Training Classification Report:\")\n",
    "print(classification_report(GT_train, train_preds))"
   ]
  },
  {
   "cell_type": "markdown",
   "id": "ee34e701",
   "metadata": {},
   "source": [
    "#### 3.3.2 Predict test data"
   ]
  },
  {
   "cell_type": "code",
   "execution_count": 380,
   "id": "c1671518",
   "metadata": {},
   "outputs": [
    {
     "data": {
      "text/html": [],
      "text/plain": [
       "<IPython.core.display.HTML object>"
      ]
     },
     "metadata": {},
     "output_type": "display_data"
    },
    {
     "name": "stdout",
     "output_type": "stream",
     "text": [
      "Test Classification Report:\n",
      "              precision    recall  f1-score   support\n",
      "\n",
      "           0       0.90      0.87      0.89        54\n",
      "           1       0.87      0.91      0.89        53\n",
      "\n",
      "    accuracy                           0.89       107\n",
      "   macro avg       0.89      0.89      0.89       107\n",
      "weighted avg       0.89      0.89      0.89       107\n",
      "\n"
     ]
    }
   ],
   "source": [
    "test_preds = trainer.predict(tokenized_test)\n",
    "test_preds = np.argmax(test_preds.predictions, axis=1)\n",
    "GT_test = df_test['label'].tolist()\n",
    "print(\"Test Classification Report:\")\n",
    "print(classification_report(GT_test, test_preds))"
   ]
  },
  {
   "cell_type": "markdown",
   "id": "e2830b7b",
   "metadata": {},
   "source": [
    "#### 3.3.3 4.3.3 Confusion-Matrix for test data"
   ]
  },
  {
   "cell_type": "code",
   "execution_count": 381,
   "id": "bc29093b",
   "metadata": {},
   "outputs": [
    {
     "data": {
      "image/png": "[encoded data removed]",
      "text/plain": [
       "<Figure size 600x500 with 2 Axes>"
      ]
     },
     "metadata": {},
     "output_type": "display_data"
    }
   ],
   "source": [
    "import seaborn as sns\n",
    "from sklearn.metrics import confusion_matrix\n",
    "import matplotlib.pyplot as plt\n",
    "\n",
    "# Use predictions and ground truth from previous evaluation on test set\n",
    "conf_matrix = confusion_matrix(GT_test, test_preds)\n",
    "\n",
    "plt.figure(figsize=(6,5))\n",
    "sns.heatmap(conf_matrix, annot=True, fmt='d', cmap='Blues',\n",
    "            xticklabels=[\"Predicted 0\", \"Predicted 1\"],\n",
    "            yticklabels=[\"Actual 0\", \"Actual 1\"])\n",
    "\n",
    "plt.xlabel('Predicted Label')\n",
    "plt.ylabel('True Label')\n",
    "plt.title('Confusion Matrix')\n",
    "plt.show()"
   ]
  },
  {
   "cell_type": "code",
   "execution_count": 367,
   "id": "f2714bc6",
   "metadata": {},
   "outputs": [
    {
     "name": "stdout",
     "output_type": "stream",
     "text": [
      "Test F1 score: 0.837\n"
     ]
    }
   ],
   "source": [
    "# F1 score printout\n",
    "from sklearn.metrics import f1_score\n",
    "print(f\"Test F1 score: {f1_score(GT_test, test_preds):.3f}\")"
   ]
  },
  {
   "cell_type": "markdown",
   "id": "12e9b778",
   "metadata": {},
   "source": [
    "#### 3.3.4 List of statements per category (TP, TN, FP, FN)"
   ]
  },
  {
   "cell_type": "code",
   "execution_count": 368,
   "id": "07366994",
   "metadata": {},
   "outputs": [],
   "source": [
    "# Get ground truth and predictions for test set\n",
    "y_true = df_test['label'].tolist()\n",
    "y_pred = test_preds\n",
    "\n",
    "# True Positives: predicted 1, actual 1\n",
    "true_positives = df_test[(df_test['label'] == 1) & (y_pred == 1)]\n",
    "\n",
    "# True Negatives: predicted 0, actual 0\n",
    "true_negatives = df_test[(df_test['label'] == 0) & (y_pred == 0)]\n",
    "\n",
    "# False Positives: predicted 1, actual 0\n",
    "false_positives = df_test[(df_test['label'] == 0) & (y_pred == 1)]\n",
    "\n",
    "# False Negatives: predicted 0, actual 1\n",
    "false_negatives = df_test[(df_test['label'] == 1) & (y_pred == 0)]\n",
    "\n",
    "# Function to print statements\n",
    "import pandas as pd\n",
    "from IPython.display import display\n",
    "\n",
    "def display_statements(df, title):\n",
    "    if not df.empty:\n",
    "        print(f\"\\n{title} (count: {len(df)})\")\n",
    "        display(df[['text']].reset_index(drop=True))\n",
    "    else:\n",
    "        print(f\"\\n{title}: None\")"
   ]
  },
  {
   "cell_type": "code",
   "execution_count": 369,
   "id": "2433dc88",
   "metadata": {},
   "outputs": [
    {
     "name": "stdout",
     "output_type": "stream",
     "text": [
      "\n",
      "True Positives (predicted 1, actual 1) (count: 41)\n"
     ]
    },
    {
     "data": {
      "application/vnd.microsoft.datawrangler.viewer.v0+json": {
       "columns": [
        {
         "name": "index",
         "rawType": "int64",
         "type": "integer"
        },
        {
         "name": "text",
         "rawType": "object",
         "type": "string"
        }
       ],
       "ref": "4243eb93-f678-4af4-8f79-b244136de1ca",
       "rows": [
        [
         "0",
         "There was no difference in general inclination to respond between participants in an oppositional climate (M = 3.25, SD = 1.60), participants in the balanced condition (M = 3.40, SD = 1.65), and participants in the friendly climate condition (M = 3.19, SD = 1.66), F(2, 106.62) = 0.13, p = .876."
        ],
        [
         "1",
         "However, an examination of the zero-order associations among partner life satisfaction, perceived partner support, and actor mortality revealed that this mediation path is unlikely: Although having a happier partner was indeed associated with greater perceived partner support (r = .27, 95% CI = [.25, .29], p < .001), perceived partner support was not related to actor mortality (HR = 0.99, 95% CI = [0.94, 1.04], p = .69)."
        ],
        [
         "2",
         "Neither of the deprived states modulated subjective levels of stress (p > .3) or anxiety (p > .27)."
        ],
        [
         "3",
         "At pretest, the groups did not differ, F(2, 72) = 0.65, p = .526; Î· p 2 = .02, whereas they did differ at posttest, F(2, 72) = 3.13, p = .0497, Î· p 2 = .08."
        ],
        [
         "4",
         "There was no interaction between stimuli type and ordinal count (F < 1), no interaction between judgment and stimuli type, F(3, 66) = 2.012, p = .121, Î· p 2 = .084, and no three-way interaction (F < 1)."
        ],
        [
         "5",
         "Although the number of morphs identified as \"disgust\" were not differentially impacted by the lower and higher IVA dose, t(16) = 1.30, p = .213, d = 0.38, 95% CI = [-0.11, 0.87] (Holm-Bonferroni corrected), when compared with odorless air, both doses of artificial sweat biased participants to see more disgust across the spectrum of fear-disgust morphs, t(16) = 3.05, p = .008, d = 0.97, 95% CI = [0.08, 1.86]."
        ],
        [
         "6",
         "Simple-slopes analyses revealed that there was no effect of the missed opportunity when information was not sought, b = 0.006, t(212) = 0.16, p = .873, 95% CI = [-0.074, 0.087]."
        ],
        [
         "7",
         "Lottery choices were not predicted by participant sex, Wald Ï‡ 2 = .208, p = .65, or by the interaction of sex ratio and participant sex, Wald Ï‡ 2 = 1.219, p = .27."
        ],
        [
         "8",
         "Post hoc examination (based on standardized change values of C and t 0, respectively, across both alertnesstraining groups) confirmed that the training-related increase in VPS was uncorrelated with the decrease in visual threshold (r = .06, p = .671, 95% CI = [-.21, .32])."
        ],
        [
         "9",
         "As the three conditions were very similar in setup and material, we favored the fixed-effects model, and indeed further analyses indicated that the three conditions were homogeneous (Q = 4.71, p = .095)."
        ],
        [
         "10",
         "Similarly, for inverted scenes, categorization accuracy was comparable across high (M = 0.82, SD = 0.14) and low (M = 0.81, SD = 0.85) aesthetic conditions, F(1, 98) = 0.21, p = .647 (high vs. low aesthetic condition difference = .015, 95% CI = [-.051, .082])."
        ],
        [
         "11",
         "There was no difference in the ratings given to faces in the other-slow and other-fast conditions, t(28) = 1.44, p = .16, Cohen's d = 0.27."
        ],
        [
         "12",
         "Further, there was no interaction of reference and congruency, F(1.26, 56.65) = 0.12, p = .794, Î· p Â² = .003."
        ],
        [
         "13",
         "Viewed differently, participants liked both seekers similarly, regardless of their desire to cooperate or compete with opponents, p = .620, d = 0.05."
        ],
        [
         "14",
         "Consistent with study hypotheses emphasizing the importance of cumulative risk, there was not a main effect of treatment condition on epigenetic age acceleration at T3 (b = 0.14, p = .25, with iPCIT coded as 0 and RAU coded as 1)."
        ],
        [
         "15",
         "Neither distance, Ï‡ 2 (1, N = 20) = 0.04, p = .84, nor hand position, Ï‡ 2 (1, N = 20) = 2.7, p = .10, improved model fit."
        ],
        [
         "16",
         "A linear regression indicated that positive-arousal scores of the neuroimaging sample, t = 8.37, p < .001, but not negativearousal scores of this sample, t = -1.95, p = .055, were associated with Internet lending rates."
        ],
        [
         "17",
         "Paired t tests showed that only for the neutral stimuli, there was a recognition deficit for Black faces relative to White faces (an ORE), t(198) = 4.25, p < .001, Cohen's d z = 0.30, 95% CI = [0.16, 0.44], whereas the same was not true for angry faces for which the effect was even in the descriptively opposite direction, t(198) = -0.92, p = .357, Cohen's d z = -0.07."
        ],
        [
         "18",
         "Conversely, and as predicted, the explicit relationship evaluation assessed at intake was not related to nonverbal behavior exhibited in the conversation, b = 0.05, SE = 0.06, 95% CI = [-0.07, 0.16], p = .411, Î² = 0.05."
        ],
        [
         "19",
         "Risk taking did not differ between participants who received a placebo and those who received atomoxetine (b = 0.02, SE = 0.02, p = .295)."
        ],
        [
         "20",
         "As shown in Figure 4, stressed participants who received only minimal information about the stressor showed significantly better memory performance for central items than participants who received detailed information about the stressful event-central items: t(46) = 2.14, p = .038, d = 0.62; peripheral items: t(46) = -0.68, p = .503, d = 0.19-whereas there were no such differences in participants who underwent the control procedure (both ts < 1, both ps > .34, both ds < 0.29)."
        ],
        [
         "21",
         "Most importantly, test anxiety did not predict the change in performance from the mock exams to the final exam (b anx = -0.09, p = .077), which speaks against the interference hypothesis."
        ],
        [
         "22",
         "As in Study 1, individuals' risk and social preferences were uncorrelated (Spearman's r = .03, p = .800)."
        ],
        [
         "23",
         "The average accuracy in the scene-categorization tasks for the high (M = 0.87, SD = 0.14) versus low (M = 0.86, SD = 0.15) aesthetic conditions was comparable, F(1, 948) = 1.9, p = .168 (high vs. low aesthetic condition difference = .013, 95% CI = [-.005, .031]), showing that access to overall scene semantic content is not differentially altered by these specific contour manipulations."
        ],
        [
         "24",
         "Post hoc t tests showed increased arousal for the aversive CS+ than for the neutral CS+ (p = .020) and the aversive CS+ than the CS-(p = .021) but not between the neutral CS+ and the CS-(p = .742)."
        ],
        [
         "25",
         "Participants of the stress groups (vs. control groups) felt less positive on Day 2, F(3, 89) = 3.27, p = .025, Î· p 2 = .10, but there were no differences between the informed and uninformed stress groups, t(46) = -0.11, p = .915, d = 0.03 (see Table S1 in the Supplemental Material)."
        ],
        [
         "26",
         "Similarly, further analysis indicated that there was no association between imagine-to-hear errors and score on the LSHS-E, r S (1377) = -.005, 95% CI = [-.06, .05], p = .839."
        ],
        [
         "27",
         "In the first block of test (immediately after exposure), children showed robust learning (ÃŸ = 0.32, SE = 0.06, df = 4753, t = 5.15, p < .0001), whereas adults did not exhibit any learning whatsoever (ÃŸ = 0.10, SE = 0.05, df = 4740, t = 1.89, p = .24)."
        ],
        [
         "28",
         "Decoy selections did not depend on age, b = 0.007, 95% CI = [-0.234, 0.248], p = .954, or gender, b = 0.036, 95% CI = [-0.214, 0.283], p = .784."
        ],
        [
         "29",
         "However, when the target was uncommitted, participants no longer preferred the seeker, p = .849, d = -0.03, rating both targets equally."
        ],
        [
         "30",
         "The interaction between probability and epoch was not significant, F(2, 46) = 1.22, p = .305, Î· p 2 = .05, suggesting that the difference in RTs to targets with highcompared to low-probability features did not change over the course of the experiment (Fig. 2e)."
        ],
        [
         "31",
         "In addition, LPIPS scores were not correlated with trial-wise aesthetic ratings (for self-relevant trials, r = -.046, p = .19; for other-relevant trials, r = .00023, p = .99)."
        ],
        [
         "32",
         "Specifically, the curvature (Ï) was smaller for the experienced-feeling function relative to the expected-feeling function-paired-samples t(55) = 3.31, p = .002, Cohen's d = 0.442, 95% CI = [0.034, 0.138], while there was no difference in sensitivity values (Î²s), t(55) = 0.65, p = .52, Cohen's d = 0.087, 95% CI = [-0.079, 0.155]."
        ],
        [
         "33",
         "RT data showed a very similar pattern: Responses were slower for congruent than for incongruent trials within the probe-key condition, t(193) = 4.21, p < .001, d = 0.30, BF 10 = 677.40; difference M = 0.053 log 10 (RT/s), 95% CI = [0.032, 0.074]; congruent: M = 1.15 s, incongruent: M = 1.09 s, difference: M = 0.060 s (see Fig. S7 in the Supplemental Material), but there was no such difference for the probe-other condition, t(193) = -1.03, p = .152, d = 0.07; difference: M = -0.013 log 10 (RT/s), 95% CI = [-0.035, 0.0080]; congruent: M = 1.21 s, incongruent: M = 1.24 s, difference M = -0.032 s (see Fig. S7), although the evidence for a null effect here was anecdotal at best (BF 10 = 0.54)."
        ],
        [
         "34",
         "Results were similar using the continuous approach; we detected a relation between illness recency and perceived infectability, r = .26, 95% CI = [.17, .35], p < .001, but not germ aversion, r = .08, 95% CI = [-.02, .18], p = .127; sensitivity to pathogen disgust, r = .09, 95% CI = [-.00, .19], p = .062; or disgust ratings of images from the Curtis data set, r = .10, 95% CI = [.00, .18], p = .047."
        ],
        [
         "35",
         "There was no correlation between CAPS score and performance in the nonforced condition of the dichoticlistening task, as assessed by the number of right-ear responses (Hypothesis 2), r S (1263) = .006, 95% CI = [-0.05, 0.06], p = .842, and equivalence testing indicated that the effect was statistically indistinguishable from 0 (p < .001)."
        ],
        [
         "36",
         "For initial saccade latency, there was no main effect of judgment, F(1, 26) = 1.708, p = .203, Î· p 2 = .062, or stimuli type, nor was there an interaction between the two for initial saccade latency (Fs < 1)."
        ],
        [
         "37",
         "Depending on the outcome measure, individuals with a higher level of commitment experienced no change or a deterioration in well-being following infidelity (socialization effects at 1 SD above the mean of commitment: relationship satisfaction b = -0.03, p = .260; intimacy b = -0.02, p = .320; admiration b = -0.04, p = .037; conflict b = 0.002, p = .915)."
        ],
        [
         "38",
         "Only in the twin sample did a lower age of onset predict higher levels of melody discrimination (Î² = -0.09, p = .23 in musicians; Î² = -0.05, p = .001 in twins)."
        ],
        [
         "39",
         "First fixation had no effect on choice when time was unlimited and both options were attended, b = -0.17, SE = 0.09, z = -1.76, p = .08."
        ],
        [
         "40",
         "Probability Ã— Time Constraint interaction on first fixation, b = 0.72, SE = 0.24, z = 2.93, p = .003; participants were significantly more likely to fixate high-probability gambles first when time was limited, b = 1.04, SE = 0.21, z = 4.86, p < .001, but not when it was unlimited, b = 0.32, SE = 0.20, z = 1.62, p = .11 (see Fig."
        ]
       ],
       "shape": {
        "columns": 1,
        "rows": 41
       }
      },
      "text/html": [
       "<div>\n",
       "<style scoped>\n",
       "    .dataframe tbody tr th:only-of-type {\n",
       "        vertical-align: middle;\n",
       "    }\n",
       "\n",
       "    .dataframe tbody tr th {\n",
       "        vertical-align: top;\n",
       "    }\n",
       "\n",
       "    .dataframe thead th {\n",
       "        text-align: right;\n",
       "    }\n",
       "</style>\n",
       "<table border=\"1\" class=\"dataframe\">\n",
       "  <thead>\n",
       "    <tr style=\"text-align: right;\">\n",
       "      <th></th>\n",
       "      <th>text</th>\n",
       "    </tr>\n",
       "  </thead>\n",
       "  <tbody>\n",
       "    <tr>\n",
       "      <th>0</th>\n",
       "      <td>There was no difference in general inclination...</td>\n",
       "    </tr>\n",
       "    <tr>\n",
       "      <th>1</th>\n",
       "      <td>However, an examination of the zero-order asso...</td>\n",
       "    </tr>\n",
       "    <tr>\n",
       "      <th>2</th>\n",
       "      <td>Neither of the deprived states modulated subje...</td>\n",
       "    </tr>\n",
       "    <tr>\n",
       "      <th>3</th>\n",
       "      <td>At pretest, the groups did not differ, F(2, 72...</td>\n",
       "    </tr>\n",
       "    <tr>\n",
       "      <th>4</th>\n",
       "      <td>There was no interaction between stimuli type ...</td>\n",
       "    </tr>\n",
       "    <tr>\n",
       "      <th>5</th>\n",
       "      <td>Although the number of morphs identified as \"d...</td>\n",
       "    </tr>\n",
       "    <tr>\n",
       "      <th>6</th>\n",
       "      <td>Simple-slopes analyses revealed that there was...</td>\n",
       "    </tr>\n",
       "    <tr>\n",
       "      <th>7</th>\n",
       "      <td>Lottery choices were not predicted by particip...</td>\n",
       "    </tr>\n",
       "    <tr>\n",
       "      <th>8</th>\n",
       "      <td>Post hoc examination (based on standardized ch...</td>\n",
       "    </tr>\n",
       "    <tr>\n",
       "      <th>9</th>\n",
       "      <td>As the three conditions were very similar in s...</td>\n",
       "    </tr>\n",
       "    <tr>\n",
       "      <th>10</th>\n",
       "      <td>Similarly, for inverted scenes, categorization...</td>\n",
       "    </tr>\n",
       "    <tr>\n",
       "      <th>11</th>\n",
       "      <td>There was no difference in the ratings given t...</td>\n",
       "    </tr>\n",
       "    <tr>\n",
       "      <th>12</th>\n",
       "      <td>Further, there was no interaction of reference...</td>\n",
       "    </tr>\n",
       "    <tr>\n",
       "      <th>13</th>\n",
       "      <td>Viewed differently, participants liked both se...</td>\n",
       "    </tr>\n",
       "    <tr>\n",
       "      <th>14</th>\n",
       "      <td>Consistent with study hypotheses emphasizing t...</td>\n",
       "    </tr>\n",
       "    <tr>\n",
       "      <th>15</th>\n",
       "      <td>Neither distance, Ï‡ 2 (1, N = 20) = 0.04, p =...</td>\n",
       "    </tr>\n",
       "    <tr>\n",
       "      <th>16</th>\n",
       "      <td>A linear regression indicated that positive-ar...</td>\n",
       "    </tr>\n",
       "    <tr>\n",
       "      <th>17</th>\n",
       "      <td>Paired t tests showed that only for the neutra...</td>\n",
       "    </tr>\n",
       "    <tr>\n",
       "      <th>18</th>\n",
       "      <td>Conversely, and as predicted, the explicit rel...</td>\n",
       "    </tr>\n",
       "    <tr>\n",
       "      <th>19</th>\n",
       "      <td>Risk taking did not differ between participant...</td>\n",
       "    </tr>\n",
       "    <tr>\n",
       "      <th>20</th>\n",
       "      <td>As shown in Figure 4, stressed participants wh...</td>\n",
       "    </tr>\n",
       "    <tr>\n",
       "      <th>21</th>\n",
       "      <td>Most importantly, test anxiety did not predict...</td>\n",
       "    </tr>\n",
       "    <tr>\n",
       "      <th>22</th>\n",
       "      <td>As in Study 1, individuals' risk and social pr...</td>\n",
       "    </tr>\n",
       "    <tr>\n",
       "      <th>23</th>\n",
       "      <td>The average accuracy in the scene-categorizati...</td>\n",
       "    </tr>\n",
       "    <tr>\n",
       "      <th>24</th>\n",
       "      <td>Post hoc t tests showed increased arousal for ...</td>\n",
       "    </tr>\n",
       "    <tr>\n",
       "      <th>25</th>\n",
       "      <td>Participants of the stress groups (vs. control...</td>\n",
       "    </tr>\n",
       "    <tr>\n",
       "      <th>26</th>\n",
       "      <td>Similarly, further analysis indicated that the...</td>\n",
       "    </tr>\n",
       "    <tr>\n",
       "      <th>27</th>\n",
       "      <td>In the first block of test (immediately after ...</td>\n",
       "    </tr>\n",
       "    <tr>\n",
       "      <th>28</th>\n",
       "      <td>Decoy selections did not depend on age, b = 0....</td>\n",
       "    </tr>\n",
       "    <tr>\n",
       "      <th>29</th>\n",
       "      <td>However, when the target was uncommitted, part...</td>\n",
       "    </tr>\n",
       "    <tr>\n",
       "      <th>30</th>\n",
       "      <td>The interaction between probability and epoch ...</td>\n",
       "    </tr>\n",
       "    <tr>\n",
       "      <th>31</th>\n",
       "      <td>In addition, LPIPS scores were not correlated ...</td>\n",
       "    </tr>\n",
       "    <tr>\n",
       "      <th>32</th>\n",
       "      <td>Specifically, the curvature (Ï) was smaller f...</td>\n",
       "    </tr>\n",
       "    <tr>\n",
       "      <th>33</th>\n",
       "      <td>RT data showed a very similar pattern: Respons...</td>\n",
       "    </tr>\n",
       "    <tr>\n",
       "      <th>34</th>\n",
       "      <td>Results were similar using the continuous appr...</td>\n",
       "    </tr>\n",
       "    <tr>\n",
       "      <th>35</th>\n",
       "      <td>There was no correlation between CAPS score an...</td>\n",
       "    </tr>\n",
       "    <tr>\n",
       "      <th>36</th>\n",
       "      <td>For initial saccade latency, there was no main...</td>\n",
       "    </tr>\n",
       "    <tr>\n",
       "      <th>37</th>\n",
       "      <td>Depending on the outcome measure, individuals ...</td>\n",
       "    </tr>\n",
       "    <tr>\n",
       "      <th>38</th>\n",
       "      <td>Only in the twin sample did a lower age of ons...</td>\n",
       "    </tr>\n",
       "    <tr>\n",
       "      <th>39</th>\n",
       "      <td>First fixation had no effect on choice when ti...</td>\n",
       "    </tr>\n",
       "    <tr>\n",
       "      <th>40</th>\n",
       "      <td>Probability Ã— Time Constraint interaction on ...</td>\n",
       "    </tr>\n",
       "  </tbody>\n",
       "</table>\n",
       "</div>"
      ],
      "text/plain": [
       "                                                 text\n",
       "0   There was no difference in general inclination...\n",
       "1   However, an examination of the zero-order asso...\n",
       "2   Neither of the deprived states modulated subje...\n",
       "3   At pretest, the groups did not differ, F(2, 72...\n",
       "4   There was no interaction between stimuli type ...\n",
       "5   Although the number of morphs identified as \"d...\n",
       "6   Simple-slopes analyses revealed that there was...\n",
       "7   Lottery choices were not predicted by particip...\n",
       "8   Post hoc examination (based on standardized ch...\n",
       "9   As the three conditions were very similar in s...\n",
       "10  Similarly, for inverted scenes, categorization...\n",
       "11  There was no difference in the ratings given t...\n",
       "12  Further, there was no interaction of reference...\n",
       "13  Viewed differently, participants liked both se...\n",
       "14  Consistent with study hypotheses emphasizing t...\n",
       "15  Neither distance, Ï‡ 2 (1, N = 20) = 0.04, p =...\n",
       "16  A linear regression indicated that positive-ar...\n",
       "17  Paired t tests showed that only for the neutra...\n",
       "18  Conversely, and as predicted, the explicit rel...\n",
       "19  Risk taking did not differ between participant...\n",
       "20  As shown in Figure 4, stressed participants wh...\n",
       "21  Most importantly, test anxiety did not predict...\n",
       "22  As in Study 1, individuals' risk and social pr...\n",
       "23  The average accuracy in the scene-categorizati...\n",
       "24  Post hoc t tests showed increased arousal for ...\n",
       "25  Participants of the stress groups (vs. control...\n",
       "26  Similarly, further analysis indicated that the...\n",
       "27  In the first block of test (immediately after ...\n",
       "28  Decoy selections did not depend on age, b = 0....\n",
       "29  However, when the target was uncommitted, part...\n",
       "30  The interaction between probability and epoch ...\n",
       "31  In addition, LPIPS scores were not correlated ...\n",
       "32  Specifically, the curvature (Ï) was smaller f...\n",
       "33  RT data showed a very similar pattern: Respons...\n",
       "34  Results were similar using the continuous appr...\n",
       "35  There was no correlation between CAPS score an...\n",
       "36  For initial saccade latency, there was no main...\n",
       "37  Depending on the outcome measure, individuals ...\n",
       "38  Only in the twin sample did a lower age of ons...\n",
       "39  First fixation had no effect on choice when ti...\n",
       "40  Probability Ã— Time Constraint interaction on ..."
      ]
     },
     "metadata": {},
     "output_type": "display_data"
    }
   ],
   "source": [
    "display_statements(true_positives, \"True Positives (predicted 1, actual 1)\")"
   ]
  },
  {
   "cell_type": "code",
   "execution_count": 370,
   "id": "64f843b9",
   "metadata": {},
   "outputs": [
    {
     "name": "stdout",
     "output_type": "stream",
     "text": [
      "\n",
      "True Negatives (predicted 0, actual 0) (count: 50)\n"
     ]
    },
    {
     "data": {
      "application/vnd.microsoft.datawrangler.viewer.v0+json": {
       "columns": [
        {
         "name": "index",
         "rawType": "int64",
         "type": "integer"
        },
        {
         "name": "text",
         "rawType": "object",
         "type": "string"
        }
       ],
       "ref": "f4ffafd3-fb97-4ffa-bc22-41eb744bd10d",
       "rows": [
        [
         "0",
         "There was no significant difference between the boost+ and consensus-only conditions on perceived consensus, Tukey-corrected p = .145, Î· p 2 = .005, 90% CI = [.000, .020]."
        ],
        [
         "1",
         "Similarly, there was no significant relationship between CP enjoyment change and CP fear change (Model 6c: Î² = 0.01, SE = 0.09, p = .908)."
        ],
        [
         "2",
         "As in Experiments 1 and 2, participants' accuracy in reporting the orientation of the target grating did not reliably differ between the template-matching condition (92.4% accurate, SD = 5.0) and the template-mismatching condition (91.7% accurate, SD = 47.2), t(24) = 0.65, p = .524."
        ],
        [
         "3",
         "We found no gender differences in task performance, t(51) = -0.66, p > .250."
        ],
        [
         "4",
         "As in the previous studies, we examined the relation between children's scores on the hammer-knocking task and their waiting times, and again the model was not significant, Ï‡ 2 (3, N = 120) = 3.75, p = .289."
        ],
        [
         "5",
         "However, there was not a significant effect of time delay on punishment in the fair condition, F(1, 3058) = 0.84, p = .36, Î· p 2 = .00, as participants in the long-time-delay condition (M = 0.79, SD = 2.16) levied equally severe punishment as those in the short-time-delay condition (M = 0.91, SD = 2.25; see Fig. 2)."
        ],
        [
         "6",
         "Contrary to Study 2, results showed no significant effect of rhythm, F(2, 54) = 0.93, p = .40, Î· p 2 = .033 (see Fig. 2c), with BF analysis (BF 10 = 0.21) indicating moderate (Quintana & Williams, 2018) or substantial (Dienes, 2014;Jeffreys, 1939Jeffreys, /1961) ) evidence in favor of the null hypothesis."
        ],
        [
         "7",
         "There were no significant relationships between CP postjump-scare enjoyment and participant gender (p = .142) or motivation (p = .843)."
        ],
        [
         "8",
         "Because the three-way interaction was nonsignificant, b = 0.51, SE = 0.49, z = 1.05, p = .29, we removed this term and other higher order interactions that did not significantly improve model fit."
        ],
        [
         "9",
         "Crucially, there was no significant interaction between the neutral and proportional-decrease conditions, F(1, 1566) = 0.80, p = .371, Î· p 2 = .001."
        ],
        [
         "10",
         "In Study 1, the ANOVA on VPS parameter C revealed nonsignificant main effects-session: F(1, 72) = 1.50, p = .225, Î· p 2 = .02; group: F(2, 72) = 1.42, p = .249, Î· p 2 = .04."
        ],
        [
         "11",
         "For the RT analysis that included only correct next responses, the interaction was not significant (p = .051) when adolescents were included, but it was significant (p = .002) without them (i.e., when the \"extreme\" group was excluded; see above)."
        ],
        [
         "12",
         "Overall, RT was on average slower when sounds were played during the continuous report phase compared with the visual discrimination phase, but this difference in RT (i.e., having target images with lower levels of noise) was not statistically significant, t(84) = 1.58, p = .12, Cohen's d z = 0.17, 95% CI = [-0.817, 0.475], BF 01 = 2.55, and the numerical difference in RT did not lead to a significant difference in report error across sound-onset conditions (Ms = 7.38 vs."
        ],
        [
         "13",
         "Responses to the direct question, \"What played a greater role in the decisionthe money to be earned or the work of filling out the survey?\" did not significantly differ under the two transaction frames, t(180) = 0.684, p = .495, Cohen's d = 0.10."
        ],
        [
         "14",
         "For shared values, we found no significant direct effect of corrected emotion levels (p = .27), but there was a significant effect mediated on the short-term level of shared values (ACME = 0.0034, 95% CI = [0.0004, 0.01], p < .001)."
        ],
        [
         "15",
         "We found the expected main effect of valence, F(1, 282) = 64.61, p < .0001, Î· p 2 = .18; no main effect of person, F(1, 282) = .003, p = .95; and the predicted interaction effect between valence and likability, F(1, 282) = 50.73, p < .001, Î· p 2 = .15."
        ],
        [
         "16",
         "Again, contrary to expectations, our results revealed no significant main effect of time, b = -0.18, SE = 0.14, 95% CI = [-0.46, 0.10], t(1922) = -1.26, p = .208, political orientation, b = -0.08, SE = 0.06, 95% CI = [-0.20, 0.04], t(1922) = -1.26, p = .209, or their interaction, b = 0.04, SE = 0.04, 95% CI = [-0.04, 0.12], t(1922) = 1.05, p > .250, on endorsement of the harm foundation."
        ],
        [
         "17",
         "In both the information-integration and rule-based tasks, we found no significant differences between dyslexia and control groups-information integration: t(3.78) = 1.28, p = .27, d = 0.78, 95% CI = [-12.0, 31.6]; rule based: t(35) = 1.54, p = .13, d = 0.51, 95% CI = [-2.78, 20.3]-when participants used the task-appropriate strategy."
        ],
        [
         "18",
         "Opponent height did not significantly affect coins kept for self in the dictator game, Wald Ï‡ 2 (1) = 1.34, b = -0.006, SE = 0.005, 95% CI = [-0.015, 0.004], p = .247 (QICc = 325.85)."
        ],
        [
         "19",
         "The consecutive logistic regression model revealed that the CC, the DC, and the CB groups, but not the LB group, significantly differed from the TS group (Î”CC: Î² = -3.856, 95% confidence interval, or CI = [-6.322, -1.813], SE = 1.122, p < .001; Î”DC: Î² = -4.799, 95% CI = [-7.759, -2.463], SE = 1.306, p < .001; Î”CB: Î² = -3.621, 95% CI = [-6.722, -0.963], SE = 1.420, p = .011; Î”LB: Î² = -1.799, 95% CI = [-5.132, 1.165], SE = 1.581, p = .255; see Fig. 2)."
        ],
        [
         "20",
         "Further, generalized linear models (repeated measures ANCOVA with Poisson errors) confirmed no significant difference in the number of intrusive memories over time among the three control groups: no-task control, Tetris-only, and reactivation-only groups, Ï‡ 2 (4, N = 72) = 4.01, p = .40; thus, data from these three groups were pooled into a single control group and compared with the reactivation-plus-Tetris group."
        ],
        [
         "21",
         "A multiple regression with grip strength and sex as predictors of anxiety revealed a negative effect of grip (Î² = -0.17, p = .008) and a positive, but nonsignificant, effect of being female (Î² = 0.12, p = .070)."
        ],
        [
         "22",
         "The test investigating effort (range = 2-7, Mdn = 6) was not significant, t(26) = 1.28, p = .21, d = 0.25; however, self-reported vividness was significantly greater when imagining the CS+ (range = 3-7, Mdn = 6) than the CS-(range = 2-7, Mdn = 5), t(26) = 2.18, p = .04, d = 0.42 (for a frequency graph, see Section 3.2.6 in the Supplemental Material)."
        ],
        [
         "23",
         "Moving to factual beliefs, we again found no significant subgroup differences between topics, Q(2) = 1.36, p = .507, although the effect for climate change (k = 30), g = 0.12, 95% CI = [0.08, 0.15], was smaller than the effect for genetically modified food (k = 8), g = 0.16, 95% CI = [0.08, 0.23]."
        ],
        [
         "24",
         "As in Experiment 1, accuracy did not significantly differ between these two conditions, t(25) = -0.89, p = .385."
        ],
        [
         "25",
         "When we resolved this interaction, results showed no significant differences between the perceptual and age tasks for differences between faces paired with negative compared with neutral information (p = .564)."
        ],
        [
         "26",
         "Although the means of the two liking ratings did not differ significantly, t(617) = 1.27, p = .20, d = 0.05, the baseline and postconversation liking measures were only moderately correlated (r = .48, p < .001)."
        ],
        [
         "27",
         "However, and in contrast to these findings, when participants heard sounds during the continuous report phase (Fig. 3d), we found that error on unrelated trials was not significantly different from error on sound A trials, t(84) = 1.56, p = 0.12, Cohen's d z = 0.16, 95% CI = [-1.043, 0.705], BF 01 = 2.61, and sound B trials, t(84) = 1.42, p = .16, Cohen's d z = 0.15, 95% CI = [-0.51, 0.818], BF 01 = 3.18."
        ],
        [
         "28",
         "Regarding the main effect of task, smaller P1 amplitudes were found in the emotion task compared with the perceptual task (p = .038) and the age task (p = .002); the latter two did not differ significantly in amplitude from each other (p = .674)."
        ],
        [
         "29",
         "Furthermore, the effect of channel-group laterality did not reach significance, F(1, 39) = 1.85, p = .182, Î· p 2 = .045."
        ],
        [
         "30",
         "First, a correlational analysis between social self-esteem and real-face attractiveness revealed that these two variables were not significantly correlated, r(75) = .178, p = .121."
        ],
        [
         "31",
         "Finally, as in Study 1, we examined the relation between children's scores on the hammer-knocking task and their waiting times using a hierarchical Cox regression model, and again the model was not significant, Ï‡ 2 (3, N = 90) = 2.83, p = .419."
        ],
        [
         "32",
         "The average correlation with ink area was significantly different from zero only in V1 to V3 but not in any other ROI (across subjects: mean r = .2, SEM = .04, p < .00001, one-sample t test for V1-V3; mean r = .06, SEM = .04, p = .16 for V4; mean r = -.02, SEM = .06, p = .69 for lateral occipital complex; mean r = .04, SEM = .05, p = .44 for VWFA; and mean r = -.01, SEM = .05, p = .79 for temporal gyrus)."
        ],
        [
         "33",
         "The differences in the experimental condition were not significant, b = -0.52, SE = 0.31, t = -1.67, p = .100."
        ],
        [
         "34",
         "Preplanned t tests of report error further demonstrated that error on unrelated trials was not significantly different from error on sound A trials, t(39) = 1.19, p = 0.24, Cohen's d z = 0.18, 95% CI = [-0.593, 0.968], BF 01 = 3.04, or sound B trials, t(39) = 0.64, p = .53, Cohen's d z = 0.10, 95% CI = [-0.725, 0.927], BF 01 = 4.84."
        ],
        [
         "35",
         "No significant interaction was found when we compared bimodal bilinguals and deaf native signers' descriptions containing double strategies (Î² = -0.25, SE = 0.25, z = -0.97, p = .33)."
        ],
        [
         "36",
         "Interestingly, results revealed no significant linear relationship between overall self-reported enjoyment and fear (Î² = 0.03, SE = 0.11, p = .759)."
        ],
        [
         "37",
         "Simple correlations were first calculated between self-perceived hip width from the self-portraits and the participants' real hip measurements, which revealed no significant relationship, r(37) = .05, p = .759."
        ],
        [
         "38",
         "But, most important, the slope at 45Â° was not significantly higher than the slope at 0Â°, Î² = 0.002, t(9) = 2.143, p = .061, and at 90Â° it was significantly lower, Î² = -0.004, t(9) = -4.5, p = .001."
        ],
        [
         "39",
         "We replicated the effect of familiarity, F(3, 147) = 8.42, p < .001, Ï‰ p 2 = .04, 95% CI = [.00, .10], but found no main effect of trial position, F(1, 49) = 0.01, p = .91, Ï‰ p 2 = .00, 95% CI = [.00, 1.00], and no interaction between trial position and familiarity, F(3, 147) = 0.37, p = .77, Ï‰ p 2 = .00, 95% CI = [.00, 1.00]."
        ],
        [
         "40",
         "There were no significant relationships with CP post-jump-scare enjoyment and age (p = .083), gender (p = .523), or motivation (p = .271)."
        ],
        [
         "41",
         "We also found no effect of cue on capacity (Î² = 0.052, t = 0.957, p = .19, BF 10 = 0.47, Î”BIC = -1.52)."
        ],
        [
         "42",
         "In line with previous research (e.g., Hicks et al., 2017;McNulty et al., 2013), implicit partner evaluations were not significantly related to explicit relationship evaluations (M = 5.97, SD = 0.83) at baseline, b = 0.14, SE = 0.15, 95% CI = [-0.14, 0.43], p = .328, Î² = 0.06."
        ],
        [
         "43",
         "SES was not significantly related to coins kept for self in the ultimatum game, Wald Ï‡ 2 (1) = 2.41, b = -0.062, SE = 0.040, 95% CI = [-0.141, 0.016], p = .121 (QICc = 26.23)."
        ],
        [
         "44",
         "The effect of transaction frame did not significantly interact with ownership status, F(1, 268) = 0.67, p = .796, Î· p 2 = .000."
        ],
        [
         "45",
         "However, pupil dilation was not significantly different in the 10-pencegain condition (M = 376 units, SEM = 32) than in the 0-pence-gain condition (M = 369 units, SEM = 31), t(29) = 0.99, p = .17."
        ],
        [
         "46",
         "Finally, the effect of feeling small was tested by adding the variable to the intercept-only model-feeling small was not significantly related to behavior in the dictator game, Wald Ï‡ 2 (1) = 0.08, b = -0.006, SE = 0.022, 95% CI = [-0.050, 0.037], p = .781 (QICc = 333.06)."
        ],
        [
         "47",
         "Following up, we found that sounds had no significant impact on report error, F(2, 78) = 0.38, p = .69, Î· 2 = .009 (Fig. 3b), and as expected, RT on related (M = 1,911 ms) and unrelated trials (M = 1,906 ms) was not significantly different, t(39) = 0.29, p = .77, Cohen's d z = 0.04, 95% CI = [-0.379, 0.286], BF 01 = 5.63 (Fig. 3d)."
        ],
        [
         "48",
         "We found no relationship between differences in the total number of available trial and ERP differences for the EPN (r = .140, p = .352, N = 46) but a negative relationship with the LPP (r = -.302, p = .041, N = 46)."
        ],
        [
         "49",
         "This difference, however, was highly significant in Malayalam readers (p < .0005) but not in Telugu readers (p = .09)."
        ]
       ],
       "shape": {
        "columns": 1,
        "rows": 50
       }
      },
      "text/html": [
       "<div>\n",
       "<style scoped>\n",
       "    .dataframe tbody tr th:only-of-type {\n",
       "        vertical-align: middle;\n",
       "    }\n",
       "\n",
       "    .dataframe tbody tr th {\n",
       "        vertical-align: top;\n",
       "    }\n",
       "\n",
       "    .dataframe thead th {\n",
       "        text-align: right;\n",
       "    }\n",
       "</style>\n",
       "<table border=\"1\" class=\"dataframe\">\n",
       "  <thead>\n",
       "    <tr style=\"text-align: right;\">\n",
       "      <th></th>\n",
       "      <th>text</th>\n",
       "    </tr>\n",
       "  </thead>\n",
       "  <tbody>\n",
       "    <tr>\n",
       "      <th>0</th>\n",
       "      <td>There was no significant difference between th...</td>\n",
       "    </tr>\n",
       "    <tr>\n",
       "      <th>1</th>\n",
       "      <td>Similarly, there was no significant relationsh...</td>\n",
       "    </tr>\n",
       "    <tr>\n",
       "      <th>2</th>\n",
       "      <td>As in Experiments 1 and 2, participants' accur...</td>\n",
       "    </tr>\n",
       "    <tr>\n",
       "      <th>3</th>\n",
       "      <td>We found no gender differences in task perform...</td>\n",
       "    </tr>\n",
       "    <tr>\n",
       "      <th>4</th>\n",
       "      <td>As in the previous studies, we examined the re...</td>\n",
       "    </tr>\n",
       "    <tr>\n",
       "      <th>5</th>\n",
       "      <td>However, there was not a significant effect of...</td>\n",
       "    </tr>\n",
       "    <tr>\n",
       "      <th>6</th>\n",
       "      <td>Contrary to Study 2, results showed no signifi...</td>\n",
       "    </tr>\n",
       "    <tr>\n",
       "      <th>7</th>\n",
       "      <td>There were no significant relationships betwee...</td>\n",
       "    </tr>\n",
       "    <tr>\n",
       "      <th>8</th>\n",
       "      <td>Because the three-way interaction was nonsigni...</td>\n",
       "    </tr>\n",
       "    <tr>\n",
       "      <th>9</th>\n",
       "      <td>Crucially, there was no significant interactio...</td>\n",
       "    </tr>\n",
       "    <tr>\n",
       "      <th>10</th>\n",
       "      <td>In Study 1, the ANOVA on VPS parameter C revea...</td>\n",
       "    </tr>\n",
       "    <tr>\n",
       "      <th>11</th>\n",
       "      <td>For the RT analysis that included only correct...</td>\n",
       "    </tr>\n",
       "    <tr>\n",
       "      <th>12</th>\n",
       "      <td>Overall, RT was on average slower when sounds ...</td>\n",
       "    </tr>\n",
       "    <tr>\n",
       "      <th>13</th>\n",
       "      <td>Responses to the direct question, \"What played...</td>\n",
       "    </tr>\n",
       "    <tr>\n",
       "      <th>14</th>\n",
       "      <td>For shared values, we found no significant dir...</td>\n",
       "    </tr>\n",
       "    <tr>\n",
       "      <th>15</th>\n",
       "      <td>We found the expected main effect of valence, ...</td>\n",
       "    </tr>\n",
       "    <tr>\n",
       "      <th>16</th>\n",
       "      <td>Again, contrary to expectations, our results r...</td>\n",
       "    </tr>\n",
       "    <tr>\n",
       "      <th>17</th>\n",
       "      <td>In both the information-integration and rule-b...</td>\n",
       "    </tr>\n",
       "    <tr>\n",
       "      <th>18</th>\n",
       "      <td>Opponent height did not significantly affect c...</td>\n",
       "    </tr>\n",
       "    <tr>\n",
       "      <th>19</th>\n",
       "      <td>The consecutive logistic regression model reve...</td>\n",
       "    </tr>\n",
       "    <tr>\n",
       "      <th>20</th>\n",
       "      <td>Further, generalized linear models (repeated m...</td>\n",
       "    </tr>\n",
       "    <tr>\n",
       "      <th>21</th>\n",
       "      <td>A multiple regression with grip strength and s...</td>\n",
       "    </tr>\n",
       "    <tr>\n",
       "      <th>22</th>\n",
       "      <td>The test investigating effort (range = 2-7, Md...</td>\n",
       "    </tr>\n",
       "    <tr>\n",
       "      <th>23</th>\n",
       "      <td>Moving to factual beliefs, we again found no s...</td>\n",
       "    </tr>\n",
       "    <tr>\n",
       "      <th>24</th>\n",
       "      <td>As in Experiment 1, accuracy did not significa...</td>\n",
       "    </tr>\n",
       "    <tr>\n",
       "      <th>25</th>\n",
       "      <td>When we resolved this interaction, results sho...</td>\n",
       "    </tr>\n",
       "    <tr>\n",
       "      <th>26</th>\n",
       "      <td>Although the means of the two liking ratings d...</td>\n",
       "    </tr>\n",
       "    <tr>\n",
       "      <th>27</th>\n",
       "      <td>However, and in contrast to these findings, wh...</td>\n",
       "    </tr>\n",
       "    <tr>\n",
       "      <th>28</th>\n",
       "      <td>Regarding the main effect of task, smaller P1 ...</td>\n",
       "    </tr>\n",
       "    <tr>\n",
       "      <th>29</th>\n",
       "      <td>Furthermore, the effect of channel-group later...</td>\n",
       "    </tr>\n",
       "    <tr>\n",
       "      <th>30</th>\n",
       "      <td>First, a correlational analysis between social...</td>\n",
       "    </tr>\n",
       "    <tr>\n",
       "      <th>31</th>\n",
       "      <td>Finally, as in Study 1, we examined the relati...</td>\n",
       "    </tr>\n",
       "    <tr>\n",
       "      <th>32</th>\n",
       "      <td>The average correlation with ink area was sign...</td>\n",
       "    </tr>\n",
       "    <tr>\n",
       "      <th>33</th>\n",
       "      <td>The differences in the experimental condition ...</td>\n",
       "    </tr>\n",
       "    <tr>\n",
       "      <th>34</th>\n",
       "      <td>Preplanned t tests of report error further dem...</td>\n",
       "    </tr>\n",
       "    <tr>\n",
       "      <th>35</th>\n",
       "      <td>No significant interaction was found when we c...</td>\n",
       "    </tr>\n",
       "    <tr>\n",
       "      <th>36</th>\n",
       "      <td>Interestingly, results revealed no significant...</td>\n",
       "    </tr>\n",
       "    <tr>\n",
       "      <th>37</th>\n",
       "      <td>Simple correlations were first calculated betw...</td>\n",
       "    </tr>\n",
       "    <tr>\n",
       "      <th>38</th>\n",
       "      <td>But, most important, the slope at 45Â° was not...</td>\n",
       "    </tr>\n",
       "    <tr>\n",
       "      <th>39</th>\n",
       "      <td>We replicated the effect of familiarity, F(3, ...</td>\n",
       "    </tr>\n",
       "    <tr>\n",
       "      <th>40</th>\n",
       "      <td>There were no significant relationships with C...</td>\n",
       "    </tr>\n",
       "    <tr>\n",
       "      <th>41</th>\n",
       "      <td>We also found no effect of cue on capacity (Î²...</td>\n",
       "    </tr>\n",
       "    <tr>\n",
       "      <th>42</th>\n",
       "      <td>In line with previous research (e.g., Hicks et...</td>\n",
       "    </tr>\n",
       "    <tr>\n",
       "      <th>43</th>\n",
       "      <td>SES was not significantly related to coins kep...</td>\n",
       "    </tr>\n",
       "    <tr>\n",
       "      <th>44</th>\n",
       "      <td>The effect of transaction frame did not signif...</td>\n",
       "    </tr>\n",
       "    <tr>\n",
       "      <th>45</th>\n",
       "      <td>However, pupil dilation was not significantly ...</td>\n",
       "    </tr>\n",
       "    <tr>\n",
       "      <th>46</th>\n",
       "      <td>Finally, the effect of feeling small was teste...</td>\n",
       "    </tr>\n",
       "    <tr>\n",
       "      <th>47</th>\n",
       "      <td>Following up, we found that sounds had no sign...</td>\n",
       "    </tr>\n",
       "    <tr>\n",
       "      <th>48</th>\n",
       "      <td>We found no relationship between differences i...</td>\n",
       "    </tr>\n",
       "    <tr>\n",
       "      <th>49</th>\n",
       "      <td>This difference, however, was highly significa...</td>\n",
       "    </tr>\n",
       "  </tbody>\n",
       "</table>\n",
       "</div>"
      ],
      "text/plain": [
       "                                                 text\n",
       "0   There was no significant difference between th...\n",
       "1   Similarly, there was no significant relationsh...\n",
       "2   As in Experiments 1 and 2, participants' accur...\n",
       "3   We found no gender differences in task perform...\n",
       "4   As in the previous studies, we examined the re...\n",
       "5   However, there was not a significant effect of...\n",
       "6   Contrary to Study 2, results showed no signifi...\n",
       "7   There were no significant relationships betwee...\n",
       "8   Because the three-way interaction was nonsigni...\n",
       "9   Crucially, there was no significant interactio...\n",
       "10  In Study 1, the ANOVA on VPS parameter C revea...\n",
       "11  For the RT analysis that included only correct...\n",
       "12  Overall, RT was on average slower when sounds ...\n",
       "13  Responses to the direct question, \"What played...\n",
       "14  For shared values, we found no significant dir...\n",
       "15  We found the expected main effect of valence, ...\n",
       "16  Again, contrary to expectations, our results r...\n",
       "17  In both the information-integration and rule-b...\n",
       "18  Opponent height did not significantly affect c...\n",
       "19  The consecutive logistic regression model reve...\n",
       "20  Further, generalized linear models (repeated m...\n",
       "21  A multiple regression with grip strength and s...\n",
       "22  The test investigating effort (range = 2-7, Md...\n",
       "23  Moving to factual beliefs, we again found no s...\n",
       "24  As in Experiment 1, accuracy did not significa...\n",
       "25  When we resolved this interaction, results sho...\n",
       "26  Although the means of the two liking ratings d...\n",
       "27  However, and in contrast to these findings, wh...\n",
       "28  Regarding the main effect of task, smaller P1 ...\n",
       "29  Furthermore, the effect of channel-group later...\n",
       "30  First, a correlational analysis between social...\n",
       "31  Finally, as in Study 1, we examined the relati...\n",
       "32  The average correlation with ink area was sign...\n",
       "33  The differences in the experimental condition ...\n",
       "34  Preplanned t tests of report error further dem...\n",
       "35  No significant interaction was found when we c...\n",
       "36  Interestingly, results revealed no significant...\n",
       "37  Simple correlations were first calculated betw...\n",
       "38  But, most important, the slope at 45Â° was not...\n",
       "39  We replicated the effect of familiarity, F(3, ...\n",
       "40  There were no significant relationships with C...\n",
       "41  We also found no effect of cue on capacity (Î²...\n",
       "42  In line with previous research (e.g., Hicks et...\n",
       "43  SES was not significantly related to coins kep...\n",
       "44  The effect of transaction frame did not signif...\n",
       "45  However, pupil dilation was not significantly ...\n",
       "46  Finally, the effect of feeling small was teste...\n",
       "47  Following up, we found that sounds had no sign...\n",
       "48  We found no relationship between differences i...\n",
       "49  This difference, however, was highly significa..."
      ]
     },
     "metadata": {},
     "output_type": "display_data"
    }
   ],
   "source": [
    "display_statements(true_negatives, \"True Negatives (predicted 0, actual 0)\")"
   ]
  },
  {
   "cell_type": "code",
   "execution_count": 371,
   "id": "a79eca53",
   "metadata": {},
   "outputs": [
    {
     "name": "stdout",
     "output_type": "stream",
     "text": [
      "\n",
      "False Positives (predicted 1, actual 0) (count: 4)\n"
     ]
    },
    {
     "data": {
      "application/vnd.microsoft.datawrangler.viewer.v0+json": {
       "columns": [
        {
         "name": "index",
         "rawType": "int64",
         "type": "integer"
        },
        {
         "name": "text",
         "rawType": "object",
         "type": "string"
        }
       ],
       "ref": "b3643754-bf0a-46f1-bbea-2b844334ff04",
       "rows": [
        [
         "0",
         "For the mid-scale questions, we found no difference between the self-and agreeingperspective conditions (d = 0.05, p = .39), whereas the benefit of averaging was again higher for participants in the disagreeing-perspective condition compared with the self-perspective (d = 0.28, p < .001) and agreeingperspective (d = 0.24, p < .001) conditions."
        ],
        [
         "1",
         "The learning bias for the self condition and the learning bias for the stranger condition were not significantly correlated, r(76) = .10, p = .386 (see Fig."
        ],
        [
         "2",
         "Again, results indicated that endorsement of direct aggression was higher for violations that targeted the self rather than another person, t(343) = -4.57, p < .001, d = -0.43, 95% CI = [-0.65, -0.22], whereas target condition did not have a significant effect on endorsement of indirect aggression, though the pattern of the means was in the opposing direction, t(343) = 1.03, p > .25, d = 0.10, 95% CI = [-0.11, 0.31] (see Fig."
        ],
        [
         "3",
         "In Experiment 2 (but not Experiment 1), there was also a significant negative effect of Pr(win)-Experiment 1: Ï‡ 2 (1) = 0.16, Î² = -0.05, SE = 0.06, p = .69; Experiment 2: Ï‡ 2 (1) = 4.42, Î² = -0.39, SE = 0.18, p = .04-indicating that participants were more likely to cash out on average when they had a lower chance of winning the bet."
        ]
       ],
       "shape": {
        "columns": 1,
        "rows": 4
       }
      },
      "text/html": [
       "<div>\n",
       "<style scoped>\n",
       "    .dataframe tbody tr th:only-of-type {\n",
       "        vertical-align: middle;\n",
       "    }\n",
       "\n",
       "    .dataframe tbody tr th {\n",
       "        vertical-align: top;\n",
       "    }\n",
       "\n",
       "    .dataframe thead th {\n",
       "        text-align: right;\n",
       "    }\n",
       "</style>\n",
       "<table border=\"1\" class=\"dataframe\">\n",
       "  <thead>\n",
       "    <tr style=\"text-align: right;\">\n",
       "      <th></th>\n",
       "      <th>text</th>\n",
       "    </tr>\n",
       "  </thead>\n",
       "  <tbody>\n",
       "    <tr>\n",
       "      <th>0</th>\n",
       "      <td>For the mid-scale questions, we found no diffe...</td>\n",
       "    </tr>\n",
       "    <tr>\n",
       "      <th>1</th>\n",
       "      <td>The learning bias for the self condition and t...</td>\n",
       "    </tr>\n",
       "    <tr>\n",
       "      <th>2</th>\n",
       "      <td>Again, results indicated that endorsement of d...</td>\n",
       "    </tr>\n",
       "    <tr>\n",
       "      <th>3</th>\n",
       "      <td>In Experiment 2 (but not Experiment 1), there ...</td>\n",
       "    </tr>\n",
       "  </tbody>\n",
       "</table>\n",
       "</div>"
      ],
      "text/plain": [
       "                                                text\n",
       "0  For the mid-scale questions, we found no diffe...\n",
       "1  The learning bias for the self condition and t...\n",
       "2  Again, results indicated that endorsement of d...\n",
       "3  In Experiment 2 (but not Experiment 1), there ..."
      ]
     },
     "metadata": {},
     "output_type": "display_data"
    }
   ],
   "source": [
    "display_statements(false_positives, \"False Positives (predicted 1, actual 0)\")"
   ]
  },
  {
   "cell_type": "code",
   "execution_count": 372,
   "id": "9b473d8e",
   "metadata": {},
   "outputs": [
    {
     "name": "stdout",
     "output_type": "stream",
     "text": [
      "\n",
      "False Negatives (predicted 0, actual 1) (count: 12)\n"
     ]
    },
    {
     "data": {
      "application/vnd.microsoft.datawrangler.viewer.v0+json": {
       "columns": [
        {
         "name": "index",
         "rawType": "int64",
         "type": "integer"
        },
        {
         "name": "text",
         "rawType": "object",
         "type": "string"
        }
       ],
       "ref": "1cd82bdf-958a-49c0-8398-53762093d9fd",
       "rows": [
        [
         "0",
         "Our assertion was supported in RTs (classic false belief: M = 978.53 ms; novel false belief: M = 1,033.99 ms; mean difference = 55.46 ms), t(99) = 5.20, p < .001, d = 0.141, and although not statistically significant in accuracy, the direction was consistent with the RT data, ruling out a speed/accuracy trade-off (classic false belief: M = 5.00% errors; novel false belief: M = 6.45% errors; mean difference = 1.45%), t(99) = 1.83, p = .070."
        ],
        [
         "1",
         "Logistic barriers did not prove to be a greater barrier for men or women (men: M = 0.22, women: M = 0.17, b = -0.32, Z = -0.81, p = .416, 95% CI = [-1.07, 0.47])."
        ],
        [
         "2",
         "We observed no such increase in the congruent condition (Block 1: M = .86, SD = .24; Block 2: M = .90, SD = .19; V = 36, p = .315, r = -.76, 95% CI = [-0.27, 0.07])."
        ],
        [
         "3",
         "Follow-up analyses revealed a significant Treatment Ã— Item Type interaction if there was only minimal information about the treatment, F(1, 44) = 4.13, p = .048, Î· p 2 = .04, whereas this interaction effect was abolished by detailed prior information, F(1, 45) = 0.57, p = .456, Î· p 2 = .01."
        ],
        [
         "4",
         "First, using a pilot sample of children who provided saliva at T1 (n = 23), we determined epigenetic age acceleration at T1 did not differ across treatment groups, t(9.44) = -0.42, p = .69."
        ],
        [
         "5",
         "However, the absence of a postresponse effect of TMS on meta-dâ€²/dâ€² should be interpreted with caution, as the Congruence Ã— Time interaction was not significant, F(1, 34) = 2.21, p = .15, Î· p 2 = .06."
        ],
        [
         "6",
         "We next focused on report error and found a main effect of sound, F(2, 84) = 11.31, p < .001, Î· p 2 = .12; there was no main effect of sound onset (during or after visual discrimination), F(1, 84) = 0.16, p = .69, Î· p 2 = .001, and there was a significant interaction, F(2, 168) = 3.39, p = .036, Î· p 2 = .04."
        ],
        [
         "7",
         "As in the previous studies, we found no correlation between interoceptive accuracy (M = 50.80, SD = 8.4) and the difference in trustworthiness ratings in the diastole-self and the average of the other-hearts conditions (r = -.25, p = .20)."
        ],
        [
         "8",
         "With regard to hit rate, there was no main effect of emotion, F(1, 38) = 1.48, p = .231, Î· p 2 = .037 (see Fig. 2 and Table 1), but a significant effect of task, F(1.45, 55.13) = 27.59, p < .001, Î· p 2 = .421."
        ],
        [
         "9",
         "The interaction between valence and target was not significant, F(1, 66) = 0.24, p = .62, indicating that the size of the optimistic learning bias was similar for the self and friend conditions."
        ],
        [
         "10",
         "Cortisol concentrations were comparable at baseline, t(55) = 1.01, p = .317, d = 0.27, but significantly elevated in the stress group relative to the control group both 30 min after the treatment, t(55) = 3.55, p corr = .003, d = 0.94, and 45 min after the treatment, t(55) = 2.52, p corr = .045, d = 0.67 (Table 1)."
        ],
        [
         "11",
         "However, at the between-persons level, greater source attribution predicted reduced use of source-independent strategies, b = -0.19, SE = 0.07, t(369.9) = -2.90, p = .004, 95% CI = [-0.32, -0.06], R 2 M = .01, R 2 C = .58, but was unrelated to the use of source-dependent strategies, b = 0.12, SE = 0.09, t(355.7) = 1.24, p = .216, 95% CI = [-0.07, 0.30], R 2 M = .01, R 2 C = .51."
        ]
       ],
       "shape": {
        "columns": 1,
        "rows": 12
       }
      },
      "text/html": [
       "<div>\n",
       "<style scoped>\n",
       "    .dataframe tbody tr th:only-of-type {\n",
       "        vertical-align: middle;\n",
       "    }\n",
       "\n",
       "    .dataframe tbody tr th {\n",
       "        vertical-align: top;\n",
       "    }\n",
       "\n",
       "    .dataframe thead th {\n",
       "        text-align: right;\n",
       "    }\n",
       "</style>\n",
       "<table border=\"1\" class=\"dataframe\">\n",
       "  <thead>\n",
       "    <tr style=\"text-align: right;\">\n",
       "      <th></th>\n",
       "      <th>text</th>\n",
       "    </tr>\n",
       "  </thead>\n",
       "  <tbody>\n",
       "    <tr>\n",
       "      <th>0</th>\n",
       "      <td>Our assertion was supported in RTs (classic fa...</td>\n",
       "    </tr>\n",
       "    <tr>\n",
       "      <th>1</th>\n",
       "      <td>Logistic barriers did not prove to be a greate...</td>\n",
       "    </tr>\n",
       "    <tr>\n",
       "      <th>2</th>\n",
       "      <td>We observed no such increase in the congruent ...</td>\n",
       "    </tr>\n",
       "    <tr>\n",
       "      <th>3</th>\n",
       "      <td>Follow-up analyses revealed a significant Trea...</td>\n",
       "    </tr>\n",
       "    <tr>\n",
       "      <th>4</th>\n",
       "      <td>First, using a pilot sample of children who pr...</td>\n",
       "    </tr>\n",
       "    <tr>\n",
       "      <th>5</th>\n",
       "      <td>However, the absence of a postresponse effect ...</td>\n",
       "    </tr>\n",
       "    <tr>\n",
       "      <th>6</th>\n",
       "      <td>We next focused on report error and found a ma...</td>\n",
       "    </tr>\n",
       "    <tr>\n",
       "      <th>7</th>\n",
       "      <td>As in the previous studies, we found no correl...</td>\n",
       "    </tr>\n",
       "    <tr>\n",
       "      <th>8</th>\n",
       "      <td>With regard to hit rate, there was no main eff...</td>\n",
       "    </tr>\n",
       "    <tr>\n",
       "      <th>9</th>\n",
       "      <td>The interaction between valence and target was...</td>\n",
       "    </tr>\n",
       "    <tr>\n",
       "      <th>10</th>\n",
       "      <td>Cortisol concentrations were comparable at bas...</td>\n",
       "    </tr>\n",
       "    <tr>\n",
       "      <th>11</th>\n",
       "      <td>However, at the between-persons level, greater...</td>\n",
       "    </tr>\n",
       "  </tbody>\n",
       "</table>\n",
       "</div>"
      ],
      "text/plain": [
       "                                                 text\n",
       "0   Our assertion was supported in RTs (classic fa...\n",
       "1   Logistic barriers did not prove to be a greate...\n",
       "2   We observed no such increase in the congruent ...\n",
       "3   Follow-up analyses revealed a significant Trea...\n",
       "4   First, using a pilot sample of children who pr...\n",
       "5   However, the absence of a postresponse effect ...\n",
       "6   We next focused on report error and found a ma...\n",
       "7   As in the previous studies, we found no correl...\n",
       "8   With regard to hit rate, there was no main eff...\n",
       "9   The interaction between valence and target was...\n",
       "10  Cortisol concentrations were comparable at bas...\n",
       "11  However, at the between-persons level, greater..."
      ]
     },
     "metadata": {},
     "output_type": "display_data"
    }
   ],
   "source": [
    "display_statements(false_negatives, \"False Negatives (predicted 0, actual 1)\")"
   ]
  },
  {
   "cell_type": "markdown",
   "id": "bb5611fc",
   "metadata": {},
   "source": [
    "## 4 Storing results"
   ]
  },
  {
   "cell_type": "markdown",
   "id": "662bc44e",
   "metadata": {},
   "source": [
    "### 4.1 Performance over the epochs"
   ]
  },
  {
   "cell_type": "code",
   "execution_count": null,
   "id": "6095901e",
   "metadata": {},
   "outputs": [],
   "source": [
    "# CODE HERE"
   ]
  },
  {
   "cell_type": "markdown",
   "id": "c46b6e7d",
   "metadata": {},
   "source": [
    "### 4.2 Final performance on test set"
   ]
  },
  {
   "cell_type": "code",
   "execution_count": null,
   "id": "facd4cfa",
   "metadata": {},
   "outputs": [],
   "source": [
    "# CODE HERE"
   ]
  },
  {
   "cell_type": "code",
   "execution_count": 128,
   "id": "56e5e265",
   "metadata": {},
   "outputs": [],
   "source": [
    "# The end..."
   ]
  }
 ],
 "metadata": {
  "kernelspec": {
   "display_name": "Python (nonsig-venv)",
   "language": "python",
   "name": "nonsig-venv"
  },
  "language_info": {
   "codemirror_mode": {
    "name": "ipython",
    "version": 3
   },
   "file_extension": ".py",
   "mimetype": "text/x-python",
   "name": "python",
   "nbconvert_exporter": "python",
   "pygments_lexer": "ipython3",
   "version": "3.12.10"
  }
 },
 "nbformat": 4,
 "nbformat_minor": 5
}
