{
 "cells": [
  {
   "cell_type": "markdown",
   "id": "5e0f8a44",
   "metadata": {},
   "source": [
    "# Regular Bert Training with Early Stopping"
   ]
  },
  {
   "cell_type": "markdown",
   "id": "ef72840b",
   "metadata": {},
   "source": [
    "## 0. Setup"
   ]
  },
  {
   "cell_type": "markdown",
   "id": "32992dd0",
   "metadata": {},
   "source": [
    "### 0.1 Install libraries"
   ]
  },
  {
   "cell_type": "code",
   "execution_count": 1,
   "id": "da13a949",
   "metadata": {},
   "outputs": [
    {
     "name": "stdout",
     "output_type": "stream",
     "text": [
      "Requirement already satisfied: absl-py==2.3.1 in c:\\users\\raphael\\documents\\github\\nonsig-master-thesis\\venv\\lib\\site-packages (from -r requirements.txt (line 1)) (2.3.1)\n",
      "Requirement already satisfied: accelerate==1.8.1 in c:\\users\\raphael\\documents\\github\\nonsig-master-thesis\\venv\\lib\\site-packages (from -r requirements.txt (line 2)) (1.8.1)\n",
      "Requirement already satisfied: aiohappyeyeballs==2.6.1 in c:\\users\\raphael\\documents\\github\\nonsig-master-thesis\\venv\\lib\\site-packages (from -r requirements.txt (line 3)) (2.6.1)\n",
      "Requirement already satisfied: aiohttp==3.12.13 in c:\\users\\raphael\\documents\\github\\nonsig-master-thesis\\venv\\lib\\site-packages (from -r requirements.txt (line 4)) (3.12.13)\n",
      "Requirement already satisfied: aiosignal==1.4.0 in c:\\users\\raphael\\documents\\github\\nonsig-master-thesis\\venv\\lib\\site-packages (from -r requirements.txt (line 5)) (1.4.0)\n",
      "Requirement already satisfied: asttokens==3.0.0 in c:\\users\\raphael\\documents\\github\\nonsig-master-thesis\\venv\\lib\\site-packages (from -r requirements.txt (line 6)) (3.0.0)\n",
      "Requirement already satisfied: astunparse==1.6.3 in c:\\users\\raphael\\documents\\github\\nonsig-master-thesis\\venv\\lib\\site-packages (from -r requirements.txt (line 7)) (1.6.3)\n",
      "Requirement already satisfied: attrs==25.3.0 in c:\\users\\raphael\\documents\\github\\nonsig-master-thesis\\venv\\lib\\site-packages (from -r requirements.txt (line 8)) (25.3.0)\n",
      "Requirement already satisfied: certifi==2025.6.15 in c:\\users\\raphael\\documents\\github\\nonsig-master-thesis\\venv\\lib\\site-packages (from -r requirements.txt (line 9)) (2025.6.15)\n",
      "Requirement already satisfied: charset-normalizer==3.4.2 in c:\\users\\raphael\\documents\\github\\nonsig-master-thesis\\venv\\lib\\site-packages (from -r requirements.txt (line 10)) (3.4.2)\n",
      "Requirement already satisfied: colorama==0.4.6 in c:\\users\\raphael\\documents\\github\\nonsig-master-thesis\\venv\\lib\\site-packages (from -r requirements.txt (line 11)) (0.4.6)\n",
      "Requirement already satisfied: comm==0.2.2 in c:\\users\\raphael\\documents\\github\\nonsig-master-thesis\\venv\\lib\\site-packages (from -r requirements.txt (line 12)) (0.2.2)\n",
      "Requirement already satisfied: contourpy==1.3.2 in c:\\users\\raphael\\documents\\github\\nonsig-master-thesis\\venv\\lib\\site-packages (from -r requirements.txt (line 13)) (1.3.2)\n",
      "Requirement already satisfied: cycler==0.12.1 in c:\\users\\raphael\\documents\\github\\nonsig-master-thesis\\venv\\lib\\site-packages (from -r requirements.txt (line 14)) (0.12.1)\n",
      "Requirement already satisfied: datasets==3.6.0 in c:\\users\\raphael\\documents\\github\\nonsig-master-thesis\\venv\\lib\\site-packages (from -r requirements.txt (line 15)) (3.6.0)\n",
      "Requirement already satisfied: debugpy==1.8.14 in c:\\users\\raphael\\documents\\github\\nonsig-master-thesis\\venv\\lib\\site-packages (from -r requirements.txt (line 16)) (1.8.14)\n",
      "Requirement already satisfied: decorator==5.2.1 in c:\\users\\raphael\\documents\\github\\nonsig-master-thesis\\venv\\lib\\site-packages (from -r requirements.txt (line 17)) (5.2.1)\n",
      "Requirement already satisfied: dill==0.3.8 in c:\\users\\raphael\\documents\\github\\nonsig-master-thesis\\venv\\lib\\site-packages (from -r requirements.txt (line 18)) (0.3.8)\n",
      "Requirement already satisfied: et_xmlfile==2.0.0 in c:\\users\\raphael\\documents\\github\\nonsig-master-thesis\\venv\\lib\\site-packages (from -r requirements.txt (line 19)) (2.0.0)\n",
      "Requirement already satisfied: evaluate==0.4.4 in c:\\users\\raphael\\documents\\github\\nonsig-master-thesis\\venv\\lib\\site-packages (from -r requirements.txt (line 20)) (0.4.4)\n",
      "Requirement already satisfied: executing==2.2.0 in c:\\users\\raphael\\documents\\github\\nonsig-master-thesis\\venv\\lib\\site-packages (from -r requirements.txt (line 21)) (2.2.0)\n",
      "Requirement already satisfied: filelock==3.18.0 in c:\\users\\raphael\\documents\\github\\nonsig-master-thesis\\venv\\lib\\site-packages (from -r requirements.txt (line 22)) (3.18.0)\n",
      "Requirement already satisfied: flatbuffers==25.2.10 in c:\\users\\raphael\\documents\\github\\nonsig-master-thesis\\venv\\lib\\site-packages (from -r requirements.txt (line 23)) (25.2.10)\n",
      "Requirement already satisfied: fonttools==4.58.5 in c:\\users\\raphael\\documents\\github\\nonsig-master-thesis\\venv\\lib\\site-packages (from -r requirements.txt (line 24)) (4.58.5)\n",
      "Requirement already satisfied: frozenlist==1.7.0 in c:\\users\\raphael\\documents\\github\\nonsig-master-thesis\\venv\\lib\\site-packages (from -r requirements.txt (line 25)) (1.7.0)\n",
      "Requirement already satisfied: fsspec==2025.3.0 in c:\\users\\raphael\\documents\\github\\nonsig-master-thesis\\venv\\lib\\site-packages (from -r requirements.txt (line 26)) (2025.3.0)\n",
      "Requirement already satisfied: gast==0.6.0 in c:\\users\\raphael\\documents\\github\\nonsig-master-thesis\\venv\\lib\\site-packages (from -r requirements.txt (line 27)) (0.6.0)\n",
      "Requirement already satisfied: google-pasta==0.2.0 in c:\\users\\raphael\\documents\\github\\nonsig-master-thesis\\venv\\lib\\site-packages (from -r requirements.txt (line 28)) (0.2.0)\n",
      "Requirement already satisfied: grpcio==1.73.1 in c:\\users\\raphael\\documents\\github\\nonsig-master-thesis\\venv\\lib\\site-packages (from -r requirements.txt (line 29)) (1.73.1)\n",
      "Requirement already satisfied: h5py==3.14.0 in c:\\users\\raphael\\documents\\github\\nonsig-master-thesis\\venv\\lib\\site-packages (from -r requirements.txt (line 30)) (3.14.0)\n",
      "Requirement already satisfied: huggingface-hub==0.33.2 in c:\\users\\raphael\\documents\\github\\nonsig-master-thesis\\venv\\lib\\site-packages (from -r requirements.txt (line 31)) (0.33.2)\n",
      "Requirement already satisfied: idna==3.10 in c:\\users\\raphael\\documents\\github\\nonsig-master-thesis\\venv\\lib\\site-packages (from -r requirements.txt (line 32)) (3.10)\n",
      "Requirement already satisfied: ipykernel==6.29.5 in c:\\users\\raphael\\documents\\github\\nonsig-master-thesis\\venv\\lib\\site-packages (from -r requirements.txt (line 33)) (6.29.5)\n",
      "Requirement already satisfied: ipython==9.4.0 in c:\\users\\raphael\\documents\\github\\nonsig-master-thesis\\venv\\lib\\site-packages (from -r requirements.txt (line 34)) (9.4.0)\n",
      "Requirement already satisfied: ipython_pygments_lexers==1.1.1 in c:\\users\\raphael\\documents\\github\\nonsig-master-thesis\\venv\\lib\\site-packages (from -r requirements.txt (line 35)) (1.1.1)\n",
      "Requirement already satisfied: jedi==0.19.2 in c:\\users\\raphael\\documents\\github\\nonsig-master-thesis\\venv\\lib\\site-packages (from -r requirements.txt (line 36)) (0.19.2)\n",
      "Requirement already satisfied: Jinja2==3.1.6 in c:\\users\\raphael\\documents\\github\\nonsig-master-thesis\\venv\\lib\\site-packages (from -r requirements.txt (line 37)) (3.1.6)\n",
      "Requirement already satisfied: joblib==1.5.1 in c:\\users\\raphael\\documents\\github\\nonsig-master-thesis\\venv\\lib\\site-packages (from -r requirements.txt (line 38)) (1.5.1)\n",
      "Requirement already satisfied: jupyter_client==8.6.3 in c:\\users\\raphael\\documents\\github\\nonsig-master-thesis\\venv\\lib\\site-packages (from -r requirements.txt (line 39)) (8.6.3)\n",
      "Requirement already satisfied: jupyter_core==5.8.1 in c:\\users\\raphael\\documents\\github\\nonsig-master-thesis\\venv\\lib\\site-packages (from -r requirements.txt (line 40)) (5.8.1)\n",
      "Requirement already satisfied: keras==3.10.0 in c:\\users\\raphael\\documents\\github\\nonsig-master-thesis\\venv\\lib\\site-packages (from -r requirements.txt (line 41)) (3.10.0)\n",
      "Requirement already satisfied: kiwisolver==1.4.8 in c:\\users\\raphael\\documents\\github\\nonsig-master-thesis\\venv\\lib\\site-packages (from -r requirements.txt (line 42)) (1.4.8)\n",
      "Requirement already satisfied: libclang==18.1.1 in c:\\users\\raphael\\documents\\github\\nonsig-master-thesis\\venv\\lib\\site-packages (from -r requirements.txt (line 43)) (18.1.1)\n",
      "Requirement already satisfied: Markdown==3.8.2 in c:\\users\\raphael\\documents\\github\\nonsig-master-thesis\\venv\\lib\\site-packages (from -r requirements.txt (line 44)) (3.8.2)\n",
      "Requirement already satisfied: markdown-it-py==3.0.0 in c:\\users\\raphael\\documents\\github\\nonsig-master-thesis\\venv\\lib\\site-packages (from -r requirements.txt (line 45)) (3.0.0)\n",
      "Requirement already satisfied: MarkupSafe==3.0.2 in c:\\users\\raphael\\documents\\github\\nonsig-master-thesis\\venv\\lib\\site-packages (from -r requirements.txt (line 46)) (3.0.2)\n",
      "Requirement already satisfied: matplotlib==3.10.3 in c:\\users\\raphael\\documents\\github\\nonsig-master-thesis\\venv\\lib\\site-packages (from -r requirements.txt (line 47)) (3.10.3)\n",
      "Requirement already satisfied: matplotlib-inline==0.1.7 in c:\\users\\raphael\\documents\\github\\nonsig-master-thesis\\venv\\lib\\site-packages (from -r requirements.txt (line 48)) (0.1.7)\n",
      "Requirement already satisfied: mdurl==0.1.2 in c:\\users\\raphael\\documents\\github\\nonsig-master-thesis\\venv\\lib\\site-packages (from -r requirements.txt (line 49)) (0.1.2)\n",
      "Requirement already satisfied: ml_dtypes==0.5.1 in c:\\users\\raphael\\documents\\github\\nonsig-master-thesis\\venv\\lib\\site-packages (from -r requirements.txt (line 50)) (0.5.1)\n",
      "Requirement already satisfied: mpmath==1.3.0 in c:\\users\\raphael\\documents\\github\\nonsig-master-thesis\\venv\\lib\\site-packages (from -r requirements.txt (line 51)) (1.3.0)\n",
      "Requirement already satisfied: multidict==6.6.3 in c:\\users\\raphael\\documents\\github\\nonsig-master-thesis\\venv\\lib\\site-packages (from -r requirements.txt (line 52)) (6.6.3)\n",
      "Requirement already satisfied: multiprocess==0.70.16 in c:\\users\\raphael\\documents\\github\\nonsig-master-thesis\\venv\\lib\\site-packages (from -r requirements.txt (line 53)) (0.70.16)\n",
      "Requirement already satisfied: namex==0.1.0 in c:\\users\\raphael\\documents\\github\\nonsig-master-thesis\\venv\\lib\\site-packages (from -r requirements.txt (line 54)) (0.1.0)\n",
      "Requirement already satisfied: nest-asyncio==1.6.0 in c:\\users\\raphael\\documents\\github\\nonsig-master-thesis\\venv\\lib\\site-packages (from -r requirements.txt (line 55)) (1.6.0)\n",
      "Requirement already satisfied: networkx==3.5 in c:\\users\\raphael\\documents\\github\\nonsig-master-thesis\\venv\\lib\\site-packages (from -r requirements.txt (line 56)) (3.5)\n",
      "Requirement already satisfied: numpy==2.1.3 in c:\\users\\raphael\\documents\\github\\nonsig-master-thesis\\venv\\lib\\site-packages (from -r requirements.txt (line 57)) (2.1.3)\n",
      "Requirement already satisfied: openpyxl==3.1.5 in c:\\users\\raphael\\documents\\github\\nonsig-master-thesis\\venv\\lib\\site-packages (from -r requirements.txt (line 58)) (3.1.5)\n",
      "Requirement already satisfied: opt_einsum==3.4.0 in c:\\users\\raphael\\documents\\github\\nonsig-master-thesis\\venv\\lib\\site-packages (from -r requirements.txt (line 59)) (3.4.0)\n",
      "Requirement already satisfied: optree==0.16.0 in c:\\users\\raphael\\documents\\github\\nonsig-master-thesis\\venv\\lib\\site-packages (from -r requirements.txt (line 60)) (0.16.0)\n",
      "Requirement already satisfied: packaging==25.0 in c:\\users\\raphael\\documents\\github\\nonsig-master-thesis\\venv\\lib\\site-packages (from -r requirements.txt (line 61)) (25.0)\n",
      "Requirement already satisfied: pandas==2.3.1 in c:\\users\\raphael\\documents\\github\\nonsig-master-thesis\\venv\\lib\\site-packages (from -r requirements.txt (line 62)) (2.3.1)\n",
      "Requirement already satisfied: parso==0.8.4 in c:\\users\\raphael\\documents\\github\\nonsig-master-thesis\\venv\\lib\\site-packages (from -r requirements.txt (line 63)) (0.8.4)\n",
      "Requirement already satisfied: pillow==11.3.0 in c:\\users\\raphael\\documents\\github\\nonsig-master-thesis\\venv\\lib\\site-packages (from -r requirements.txt (line 64)) (11.3.0)\n",
      "Requirement already satisfied: platformdirs==4.3.8 in c:\\users\\raphael\\documents\\github\\nonsig-master-thesis\\venv\\lib\\site-packages (from -r requirements.txt (line 65)) (4.3.8)\n",
      "Requirement already satisfied: prompt_toolkit==3.0.51 in c:\\users\\raphael\\documents\\github\\nonsig-master-thesis\\venv\\lib\\site-packages (from -r requirements.txt (line 66)) (3.0.51)\n",
      "Requirement already satisfied: propcache==0.3.2 in c:\\users\\raphael\\documents\\github\\nonsig-master-thesis\\venv\\lib\\site-packages (from -r requirements.txt (line 67)) (0.3.2)\n",
      "Requirement already satisfied: protobuf==5.29.5 in c:\\users\\raphael\\documents\\github\\nonsig-master-thesis\\venv\\lib\\site-packages (from -r requirements.txt (line 68)) (5.29.5)\n",
      "Requirement already satisfied: psutil==7.0.0 in c:\\users\\raphael\\documents\\github\\nonsig-master-thesis\\venv\\lib\\site-packages (from -r requirements.txt (line 69)) (7.0.0)\n",
      "Requirement already satisfied: pure_eval==0.2.3 in c:\\users\\raphael\\documents\\github\\nonsig-master-thesis\\venv\\lib\\site-packages (from -r requirements.txt (line 70)) (0.2.3)\n",
      "Requirement already satisfied: pyarrow==20.0.0 in c:\\users\\raphael\\documents\\github\\nonsig-master-thesis\\venv\\lib\\site-packages (from -r requirements.txt (line 71)) (20.0.0)\n",
      "Requirement already satisfied: Pygments==2.19.2 in c:\\users\\raphael\\documents\\github\\nonsig-master-thesis\\venv\\lib\\site-packages (from -r requirements.txt (line 72)) (2.19.2)\n",
      "Requirement already satisfied: pyparsing==3.2.3 in c:\\users\\raphael\\documents\\github\\nonsig-master-thesis\\venv\\lib\\site-packages (from -r requirements.txt (line 73)) (3.2.3)\n",
      "Requirement already satisfied: python-dateutil==2.9.0.post0 in c:\\users\\raphael\\documents\\github\\nonsig-master-thesis\\venv\\lib\\site-packages (from -r requirements.txt (line 74)) (2.9.0.post0)\n",
      "Requirement already satisfied: pytz==2025.2 in c:\\users\\raphael\\documents\\github\\nonsig-master-thesis\\venv\\lib\\site-packages (from -r requirements.txt (line 75)) (2025.2)\n",
      "Requirement already satisfied: pywin32==310 in c:\\users\\raphael\\documents\\github\\nonsig-master-thesis\\venv\\lib\\site-packages (from -r requirements.txt (line 76)) (310)\n",
      "Requirement already satisfied: PyYAML==6.0.2 in c:\\users\\raphael\\documents\\github\\nonsig-master-thesis\\venv\\lib\\site-packages (from -r requirements.txt (line 77)) (6.0.2)\n",
      "Requirement already satisfied: pyzmq==27.0.0 in c:\\users\\raphael\\documents\\github\\nonsig-master-thesis\\venv\\lib\\site-packages (from -r requirements.txt (line 78)) (27.0.0)\n",
      "Requirement already satisfied: regex==2024.11.6 in c:\\users\\raphael\\documents\\github\\nonsig-master-thesis\\venv\\lib\\site-packages (from -r requirements.txt (line 79)) (2024.11.6)\n",
      "Requirement already satisfied: requests==2.32.4 in c:\\users\\raphael\\documents\\github\\nonsig-master-thesis\\venv\\lib\\site-packages (from -r requirements.txt (line 80)) (2.32.4)\n",
      "Requirement already satisfied: rich==14.0.0 in c:\\users\\raphael\\documents\\github\\nonsig-master-thesis\\venv\\lib\\site-packages (from -r requirements.txt (line 81)) (14.0.0)\n",
      "Requirement already satisfied: safetensors==0.5.3 in c:\\users\\raphael\\documents\\github\\nonsig-master-thesis\\venv\\lib\\site-packages (from -r requirements.txt (line 82)) (0.5.3)\n",
      "Requirement already satisfied: scikit-learn==1.7.0 in c:\\users\\raphael\\documents\\github\\nonsig-master-thesis\\venv\\lib\\site-packages (from -r requirements.txt (line 83)) (1.7.0)\n",
      "Requirement already satisfied: scipy==1.16.0 in c:\\users\\raphael\\documents\\github\\nonsig-master-thesis\\venv\\lib\\site-packages (from -r requirements.txt (line 84)) (1.16.0)\n",
      "Requirement already satisfied: seaborn==0.13.2 in c:\\users\\raphael\\documents\\github\\nonsig-master-thesis\\venv\\lib\\site-packages (from -r requirements.txt (line 85)) (0.13.2)\n",
      "Requirement already satisfied: setuptools==80.9.0 in c:\\users\\raphael\\documents\\github\\nonsig-master-thesis\\venv\\lib\\site-packages (from -r requirements.txt (line 86)) (80.9.0)\n",
      "Requirement already satisfied: six==1.17.0 in c:\\users\\raphael\\documents\\github\\nonsig-master-thesis\\venv\\lib\\site-packages (from -r requirements.txt (line 87)) (1.17.0)\n",
      "Requirement already satisfied: stack-data==0.6.3 in c:\\users\\raphael\\documents\\github\\nonsig-master-thesis\\venv\\lib\\site-packages (from -r requirements.txt (line 88)) (0.6.3)\n",
      "Requirement already satisfied: sympy==1.14.0 in c:\\users\\raphael\\documents\\github\\nonsig-master-thesis\\venv\\lib\\site-packages (from -r requirements.txt (line 89)) (1.14.0)\n",
      "Requirement already satisfied: tensorboard==2.19.0 in c:\\users\\raphael\\documents\\github\\nonsig-master-thesis\\venv\\lib\\site-packages (from -r requirements.txt (line 90)) (2.19.0)\n",
      "Requirement already satisfied: tensorboard-data-server==0.7.2 in c:\\users\\raphael\\documents\\github\\nonsig-master-thesis\\venv\\lib\\site-packages (from -r requirements.txt (line 91)) (0.7.2)\n",
      "Requirement already satisfied: tensorflow==2.19.0 in c:\\users\\raphael\\documents\\github\\nonsig-master-thesis\\venv\\lib\\site-packages (from -r requirements.txt (line 92)) (2.19.0)\n",
      "Requirement already satisfied: termcolor==3.1.0 in c:\\users\\raphael\\documents\\github\\nonsig-master-thesis\\venv\\lib\\site-packages (from -r requirements.txt (line 93)) (3.1.0)\n",
      "Requirement already satisfied: tf_keras==2.19.0 in c:\\users\\raphael\\documents\\github\\nonsig-master-thesis\\venv\\lib\\site-packages (from -r requirements.txt (line 94)) (2.19.0)\n",
      "Requirement already satisfied: threadpoolctl==3.6.0 in c:\\users\\raphael\\documents\\github\\nonsig-master-thesis\\venv\\lib\\site-packages (from -r requirements.txt (line 95)) (3.6.0)\n",
      "Requirement already satisfied: tokenizers==0.21.2 in c:\\users\\raphael\\documents\\github\\nonsig-master-thesis\\venv\\lib\\site-packages (from -r requirements.txt (line 96)) (0.21.2)\n",
      "Requirement already satisfied: tornado==6.5.1 in c:\\users\\raphael\\documents\\github\\nonsig-master-thesis\\venv\\lib\\site-packages (from -r requirements.txt (line 97)) (6.5.1)\n",
      "Requirement already satisfied: tqdm==4.67.1 in c:\\users\\raphael\\documents\\github\\nonsig-master-thesis\\venv\\lib\\site-packages (from -r requirements.txt (line 98)) (4.67.1)\n",
      "Requirement already satisfied: traitlets==5.14.3 in c:\\users\\raphael\\documents\\github\\nonsig-master-thesis\\venv\\lib\\site-packages (from -r requirements.txt (line 99)) (5.14.3)\n",
      "Requirement already satisfied: transformers==4.53.1 in c:\\users\\raphael\\documents\\github\\nonsig-master-thesis\\venv\\lib\\site-packages (from -r requirements.txt (line 100)) (4.53.1)\n",
      "Requirement already satisfied: typing_extensions==4.14.1 in c:\\users\\raphael\\documents\\github\\nonsig-master-thesis\\venv\\lib\\site-packages (from -r requirements.txt (line 101)) (4.14.1)\n",
      "Requirement already satisfied: tzdata==2025.2 in c:\\users\\raphael\\documents\\github\\nonsig-master-thesis\\venv\\lib\\site-packages (from -r requirements.txt (line 102)) (2025.2)\n",
      "Requirement already satisfied: urllib3==2.5.0 in c:\\users\\raphael\\documents\\github\\nonsig-master-thesis\\venv\\lib\\site-packages (from -r requirements.txt (line 103)) (2.5.0)\n",
      "Requirement already satisfied: wcwidth==0.2.13 in c:\\users\\raphael\\documents\\github\\nonsig-master-thesis\\venv\\lib\\site-packages (from -r requirements.txt (line 104)) (0.2.13)\n",
      "Requirement already satisfied: Werkzeug==3.1.3 in c:\\users\\raphael\\documents\\github\\nonsig-master-thesis\\venv\\lib\\site-packages (from -r requirements.txt (line 105)) (3.1.3)\n",
      "Requirement already satisfied: wheel==0.45.1 in c:\\users\\raphael\\documents\\github\\nonsig-master-thesis\\venv\\lib\\site-packages (from -r requirements.txt (line 106)) (0.45.1)\n",
      "Requirement already satisfied: wrapt==1.17.2 in c:\\users\\raphael\\documents\\github\\nonsig-master-thesis\\venv\\lib\\site-packages (from -r requirements.txt (line 107)) (1.17.2)\n",
      "Requirement already satisfied: xxhash==3.5.0 in c:\\users\\raphael\\documents\\github\\nonsig-master-thesis\\venv\\lib\\site-packages (from -r requirements.txt (line 108)) (3.5.0)\n",
      "Requirement already satisfied: yarl==1.20.1 in c:\\users\\raphael\\documents\\github\\nonsig-master-thesis\\venv\\lib\\site-packages (from -r requirements.txt (line 109)) (1.20.1)\n",
      "Requirement already satisfied: torch>=2.0.0 in c:\\users\\raphael\\documents\\github\\nonsig-master-thesis\\venv\\lib\\site-packages (from accelerate==1.8.1->-r requirements.txt (line 2)) (2.7.1+cu128)\n"
     ]
    },
    {
     "name": "stderr",
     "output_type": "stream",
     "text": [
      "\n",
      "[notice] A new release of pip is available: 25.0.1 -> 25.1.1\n",
      "[notice] To update, run: python.exe -m pip install --upgrade pip\n"
     ]
    },
    {
     "name": "stdout",
     "output_type": "stream",
     "text": [
      "Looking in links: https://download.pytorch.org/whl/torch/\n",
      "Requirement already satisfied: torch==2.7.1+cu128 in c:\\users\\raphael\\documents\\github\\nonsig-master-thesis\\venv\\lib\\site-packages (2.7.1+cu128)\n",
      "Requirement already satisfied: filelock in c:\\users\\raphael\\documents\\github\\nonsig-master-thesis\\venv\\lib\\site-packages (from torch==2.7.1+cu128) (3.18.0)\n",
      "Requirement already satisfied: typing-extensions>=4.10.0 in c:\\users\\raphael\\documents\\github\\nonsig-master-thesis\\venv\\lib\\site-packages (from torch==2.7.1+cu128) (4.14.1)\n",
      "Requirement already satisfied: sympy>=1.13.3 in c:\\users\\raphael\\documents\\github\\nonsig-master-thesis\\venv\\lib\\site-packages (from torch==2.7.1+cu128) (1.14.0)\n",
      "Requirement already satisfied: networkx in c:\\users\\raphael\\documents\\github\\nonsig-master-thesis\\venv\\lib\\site-packages (from torch==2.7.1+cu128) (3.5)\n",
      "Requirement already satisfied: jinja2 in c:\\users\\raphael\\documents\\github\\nonsig-master-thesis\\venv\\lib\\site-packages (from torch==2.7.1+cu128) (3.1.6)\n",
      "Requirement already satisfied: fsspec in c:\\users\\raphael\\documents\\github\\nonsig-master-thesis\\venv\\lib\\site-packages (from torch==2.7.1+cu128) (2025.3.0)\n",
      "Requirement already satisfied: setuptools in c:\\users\\raphael\\documents\\github\\nonsig-master-thesis\\venv\\lib\\site-packages (from torch==2.7.1+cu128) (80.9.0)\n",
      "Requirement already satisfied: mpmath<1.4,>=1.1.0 in c:\\users\\raphael\\documents\\github\\nonsig-master-thesis\\venv\\lib\\site-packages (from sympy>=1.13.3->torch==2.7.1+cu128) (1.3.0)\n",
      "Requirement already satisfied: MarkupSafe>=2.0 in c:\\users\\raphael\\documents\\github\\nonsig-master-thesis\\venv\\lib\\site-packages (from jinja2->torch==2.7.1+cu128) (3.0.2)\n"
     ]
    },
    {
     "name": "stderr",
     "output_type": "stream",
     "text": [
      "\n",
      "[notice] A new release of pip is available: 25.0.1 -> 25.1.1\n",
      "[notice] To update, run: python.exe -m pip install --upgrade pip\n"
     ]
    },
    {
     "name": "stdout",
     "output_type": "stream",
     "text": [
      "Looking in links: https://download.pytorch.org/whl/torchaudio/\n",
      "Requirement already satisfied: torchaudio==2.7.1+cu128 in c:\\users\\raphael\\documents\\github\\nonsig-master-thesis\\venv\\lib\\site-packages (2.7.1+cu128)\n",
      "Requirement already satisfied: torch==2.7.1+cu128 in c:\\users\\raphael\\documents\\github\\nonsig-master-thesis\\venv\\lib\\site-packages (from torchaudio==2.7.1+cu128) (2.7.1+cu128)\n",
      "Requirement already satisfied: filelock in c:\\users\\raphael\\documents\\github\\nonsig-master-thesis\\venv\\lib\\site-packages (from torch==2.7.1+cu128->torchaudio==2.7.1+cu128) (3.18.0)\n",
      "Requirement already satisfied: typing-extensions>=4.10.0 in c:\\users\\raphael\\documents\\github\\nonsig-master-thesis\\venv\\lib\\site-packages (from torch==2.7.1+cu128->torchaudio==2.7.1+cu128) (4.14.1)\n",
      "Requirement already satisfied: sympy>=1.13.3 in c:\\users\\raphael\\documents\\github\\nonsig-master-thesis\\venv\\lib\\site-packages (from torch==2.7.1+cu128->torchaudio==2.7.1+cu128) (1.14.0)\n",
      "Requirement already satisfied: networkx in c:\\users\\raphael\\documents\\github\\nonsig-master-thesis\\venv\\lib\\site-packages (from torch==2.7.1+cu128->torchaudio==2.7.1+cu128) (3.5)\n",
      "Requirement already satisfied: jinja2 in c:\\users\\raphael\\documents\\github\\nonsig-master-thesis\\venv\\lib\\site-packages (from torch==2.7.1+cu128->torchaudio==2.7.1+cu128) (3.1.6)\n",
      "Requirement already satisfied: fsspec in c:\\users\\raphael\\documents\\github\\nonsig-master-thesis\\venv\\lib\\site-packages (from torch==2.7.1+cu128->torchaudio==2.7.1+cu128) (2025.3.0)\n",
      "Requirement already satisfied: setuptools in c:\\users\\raphael\\documents\\github\\nonsig-master-thesis\\venv\\lib\\site-packages (from torch==2.7.1+cu128->torchaudio==2.7.1+cu128) (80.9.0)\n",
      "Requirement already satisfied: mpmath<1.4,>=1.1.0 in c:\\users\\raphael\\documents\\github\\nonsig-master-thesis\\venv\\lib\\site-packages (from sympy>=1.13.3->torch==2.7.1+cu128->torchaudio==2.7.1+cu128) (1.3.0)\n",
      "Requirement already satisfied: MarkupSafe>=2.0 in c:\\users\\raphael\\documents\\github\\nonsig-master-thesis\\venv\\lib\\site-packages (from jinja2->torch==2.7.1+cu128->torchaudio==2.7.1+cu128) (3.0.2)\n"
     ]
    },
    {
     "name": "stderr",
     "output_type": "stream",
     "text": [
      "\n",
      "[notice] A new release of pip is available: 25.0.1 -> 25.1.1\n",
      "[notice] To update, run: python.exe -m pip install --upgrade pip\n"
     ]
    },
    {
     "name": "stdout",
     "output_type": "stream",
     "text": [
      "Looking in links: https://download.pytorch.org/whl/torchvision/\n",
      "Requirement already satisfied: torchvision==0.22.1+cu128 in c:\\users\\raphael\\documents\\github\\nonsig-master-thesis\\venv\\lib\\site-packages (0.22.1+cu128)\n",
      "Requirement already satisfied: numpy in c:\\users\\raphael\\documents\\github\\nonsig-master-thesis\\venv\\lib\\site-packages (from torchvision==0.22.1+cu128) (2.1.3)\n",
      "Requirement already satisfied: torch==2.7.1+cu128 in c:\\users\\raphael\\documents\\github\\nonsig-master-thesis\\venv\\lib\\site-packages (from torchvision==0.22.1+cu128) (2.7.1+cu128)\n",
      "Requirement already satisfied: pillow!=8.3.*,>=5.3.0 in c:\\users\\raphael\\documents\\github\\nonsig-master-thesis\\venv\\lib\\site-packages (from torchvision==0.22.1+cu128) (11.3.0)\n",
      "Requirement already satisfied: filelock in c:\\users\\raphael\\documents\\github\\nonsig-master-thesis\\venv\\lib\\site-packages (from torch==2.7.1+cu128->torchvision==0.22.1+cu128) (3.18.0)\n",
      "Requirement already satisfied: typing-extensions>=4.10.0 in c:\\users\\raphael\\documents\\github\\nonsig-master-thesis\\venv\\lib\\site-packages (from torch==2.7.1+cu128->torchvision==0.22.1+cu128) (4.14.1)\n",
      "Requirement already satisfied: sympy>=1.13.3 in c:\\users\\raphael\\documents\\github\\nonsig-master-thesis\\venv\\lib\\site-packages (from torch==2.7.1+cu128->torchvision==0.22.1+cu128) (1.14.0)\n",
      "Requirement already satisfied: networkx in c:\\users\\raphael\\documents\\github\\nonsig-master-thesis\\venv\\lib\\site-packages (from torch==2.7.1+cu128->torchvision==0.22.1+cu128) (3.5)\n",
      "Requirement already satisfied: jinja2 in c:\\users\\raphael\\documents\\github\\nonsig-master-thesis\\venv\\lib\\site-packages (from torch==2.7.1+cu128->torchvision==0.22.1+cu128) (3.1.6)\n",
      "Requirement already satisfied: fsspec in c:\\users\\raphael\\documents\\github\\nonsig-master-thesis\\venv\\lib\\site-packages (from torch==2.7.1+cu128->torchvision==0.22.1+cu128) (2025.3.0)\n",
      "Requirement already satisfied: setuptools in c:\\users\\raphael\\documents\\github\\nonsig-master-thesis\\venv\\lib\\site-packages (from torch==2.7.1+cu128->torchvision==0.22.1+cu128) (80.9.0)\n",
      "Requirement already satisfied: mpmath<1.4,>=1.1.0 in c:\\users\\raphael\\documents\\github\\nonsig-master-thesis\\venv\\lib\\site-packages (from sympy>=1.13.3->torch==2.7.1+cu128->torchvision==0.22.1+cu128) (1.3.0)\n",
      "Requirement already satisfied: MarkupSafe>=2.0 in c:\\users\\raphael\\documents\\github\\nonsig-master-thesis\\venv\\lib\\site-packages (from jinja2->torch==2.7.1+cu128->torchvision==0.22.1+cu128) (3.0.2)\n"
     ]
    },
    {
     "name": "stderr",
     "output_type": "stream",
     "text": [
      "\n",
      "[notice] A new release of pip is available: 25.0.1 -> 25.1.1\n",
      "[notice] To update, run: python.exe -m pip install --upgrade pip\n"
     ]
    }
   ],
   "source": [
    "! pip install -r requirements.txt\n",
    "\n",
    "# If you work with GPU-support (CUDA 12.8):\n",
    "! pip install torch==2.7.1+cu128 -f https://download.pytorch.org/whl/torch/\n",
    "! pip install torchaudio==2.7.1+cu128 -f https://download.pytorch.org/whl/torchaudio/\n",
    "! pip install torchvision==0.22.1+cu128 -f https://download.pytorch.org/whl/torchvision/\n",
    "\n",
    "# If you only work with CPU-support:\n",
    "# ! pip install torch==2.7.1\n",
    "# ! pip install torchaudio==2.7.1\n",
    "# ! pip install torchvision==0.22.1"
   ]
  },
  {
   "cell_type": "markdown",
   "id": "6d5fa995",
   "metadata": {},
   "source": [
    "### 0.2 GPU setup"
   ]
  },
  {
   "cell_type": "code",
   "execution_count": 2,
   "id": "a3336508",
   "metadata": {},
   "outputs": [
    {
     "name": "stdout",
     "output_type": "stream",
     "text": [
      "True\n",
      "0\n",
      "NVIDIA GeForce RTX 2070 with Max-Q Design\n"
     ]
    }
   ],
   "source": [
    "# Check if CUDA is available and print the current device's name\n",
    "import torch\n",
    "print(torch.cuda.is_available())\n",
    "if torch.cuda.is_available():\n",
    "    print(torch.cuda.current_device())\n",
    "    print(torch.cuda.get_device_name(0))"
   ]
  },
  {
   "cell_type": "markdown",
   "id": "19253634",
   "metadata": {},
   "source": [
    "## 1 Configuration"
   ]
  },
  {
   "cell_type": "code",
   "execution_count": 3,
   "id": "ff026edd",
   "metadata": {},
   "outputs": [
    {
     "name": "stderr",
     "output_type": "stream",
     "text": [
      "c:\\Users\\Raphael\\Documents\\GitHub\\nonsig-master-thesis\\venv\\Lib\\site-packages\\tqdm\\auto.py:21: TqdmWarning: IProgress not found. Please update jupyter and ipywidgets. See https://ipywidgets.readthedocs.io/en/stable/user_install.html\n",
      "  from .autonotebook import tqdm as notebook_tqdm\n"
     ]
    }
   ],
   "source": [
    "# Data variables\n",
    "data_path = \"../../data/training_data/labeled/labeled_data.xlsx\" # path to the Excel file with the labeled data\n",
    "results_path = \"../../data/model_performance\" # path to where the results should be stored\n",
    "text_column_name = \"expanded\" # name of the column containing the text to classify\n",
    "label_column_name = \"label\" # name of the column containing the labels (0 = correct or 1 = incorrect)\n",
    "num_labels = 2 # binary classification (see above)\n",
    "\n",
    "# Model configuration\n",
    "model_name = \"microsoft/BiomedNLP-PubMedBERT-base-uncased-abstract\" # \"bert-base-uncased\" for standard BERT; \"allenai/scibert_scivocab_uncased\" for SciBERT and \"microsoft/BiomedNLP-PubMedBERT-base-uncased-abstract\" for PubMedBERT\n",
    "test_size = 0.2 # ratio of the dataset to be used for testing\n",
    "validation_size = 0.1 # ration of the training set (80%) to be used for validation (model evaluation after each epoch)\n",
    "max_length = 256 # maximum length of the input sequences for BERT\n",
    "num_epochs = 10 # number of epochs for training\n",
    "batch_size = 32 # batch size for training and evaluation\n",
    "learning_rate = 2e-5 # learning rate for the optimizer\n",
    "weight_decay = 0.01 # weight decay for the optimizer\n",
    "early_stopping_patience = 2 # number of epochs with no improvement after which training will be stopped\n",
    "save_checkpoints = False # if 'FALSE', deletes all saved checkpoints at the end of the script\n",
    "\n",
    "# Seed for reproducibility\n",
    "import random\n",
    "import numpy as np\n",
    "from transformers import set_seed\n",
    "import os\n",
    "\n",
    "seed = 42\n",
    "\n",
    "os.environ['PYTHONHASHSEED'] = str(seed)\n",
    "random.seed(seed)\n",
    "np.random.seed(seed)\n",
    "torch.manual_seed(seed)\n",
    "torch.cuda.manual_seed_all(seed)\n",
    "set_seed(seed)\n",
    "torch.backends.cudnn.deterministic = True\n",
    "torch.backends.cudnn.benchmark = False"
   ]
  },
  {
   "cell_type": "markdown",
   "id": "050e4828",
   "metadata": {},
   "source": [
    "## 2 Read and prepare dataset"
   ]
  },
  {
   "cell_type": "code",
   "execution_count": 4,
   "id": "1789fc47",
   "metadata": {},
   "outputs": [
    {
     "name": "stdout",
     "output_type": "stream",
     "text": [
      "Training label distribution:\n",
      "label\n",
      "0    352\n",
      "1    352\n",
      "Name: count, dtype: int64\n"
     ]
    }
   ],
   "source": [
    "import pandas as pd\n",
    "from sklearn.utils import resample\n",
    "from sklearn.model_selection import train_test_split\n",
    "\n",
    "# Load the data\n",
    "df = pd.read_excel(data_path)\n",
    "\n",
    "# Remove all columns but 'expanded' and 'label_strict'\n",
    "df = df.drop(columns=['statement_id', 'section', 'header','div', 'p', 's', 'article_id', 'p_comp', 'p_value', 'context', 'text', 'label_keywords', 'label_comment'])\n",
    "\n",
    "# Change column names\n",
    "df = df.rename(columns={text_column_name: 'text', label_column_name: 'label'})\n",
    "\n",
    "# Remove rows where 'label' is NA\n",
    "df = df[df['label'].notna()]\n",
    "\n",
    "# Remove rows where 'label' is -99\n",
    "df = df[df['label'] != -99]\n",
    "\n",
    "# Convert label column to int (required for classification)\n",
    "df['label'] = df['label'].astype(int)\n",
    "\n",
    "# Balance labels via undersampling (generalized)\n",
    "label_counts = df['label'].value_counts()  # Get counts of each label\n",
    "minority_label = label_counts.idxmin() # Get the minority label\n",
    "majority_label = label_counts.idxmax() # Get the majority label\n",
    "\n",
    "df_minority = df[df['label'] == minority_label]\n",
    "df_majority = df[df['label'] == majority_label]\n",
    "\n",
    "df_majority_downsampled = resample( # Downsample majority label\n",
    "    df_majority,\n",
    "    replace=False,\n",
    "    n_samples=len(df_minority),\n",
    "    random_state=seed\n",
    ")\n",
    "\n",
    "df = pd.concat([df_majority_downsampled, df_minority]).sample(frac=1, random_state=seed).reset_index(drop=True)\n",
    "\n",
    "# Check label balance in data\n",
    "print(\"Training label distribution:\")\n",
    "print(df['label'].value_counts())"
   ]
  },
  {
   "cell_type": "markdown",
   "id": "c2e53af8",
   "metadata": {},
   "source": [
    "### 2.1 Create train & validation set and test set"
   ]
  },
  {
   "cell_type": "code",
   "execution_count": 5,
   "id": "2e797a35",
   "metadata": {},
   "outputs": [],
   "source": [
    "from sklearn.model_selection import train_test_split\n",
    "\n",
    "# Put 20 % of the data into a test set, for evaluation at the end\n",
    "train_df, test_df = train_test_split(df, test_size=test_size, stratify=df['label'], random_state=seed)\n",
    "\n",
    "# Put 10 % of the training data into a test set, for evaluation at the end\n",
    "train_df, validation_df = train_test_split(train_df, test_size=validation_size, stratify=train_df['label'], random_state=seed)\n",
    "\n",
    "# Convert to Huggingface dataset\n",
    "from datasets import Dataset\n",
    "train_dataset = Dataset.from_pandas(train_df)\n",
    "validation_dataset = Dataset.from_pandas(validation_df)\n",
    "test_dataset = Dataset.from_pandas(test_df)"
   ]
  },
  {
   "cell_type": "markdown",
   "id": "965b9685",
   "metadata": {},
   "source": [
    "#### 2.1.1 Label balance in all three datasets"
   ]
  },
  {
   "cell_type": "code",
   "execution_count": 6,
   "id": "c3ca483d",
   "metadata": {},
   "outputs": [
    {
     "name": "stdout",
     "output_type": "stream",
     "text": [
      "Training label distribution:\n",
      "label\n",
      "1    253\n",
      "0    253\n",
      "Name: count, dtype: int64\n",
      "Validation label distribution:\n",
      "label\n",
      "1    29\n",
      "0    28\n",
      "Name: count, dtype: int64\n",
      "Test label distribution:\n",
      "label\n",
      "0    71\n",
      "1    70\n",
      "Name: count, dtype: int64\n"
     ]
    }
   ],
   "source": [
    "# training set\n",
    "print(\"Training label distribution:\")\n",
    "print(train_df['label'].value_counts())\n",
    "\n",
    "# validation set\n",
    "print(\"Validation label distribution:\")\n",
    "print(validation_df['label'].value_counts())\n",
    "\n",
    "# test set\n",
    "print(\"Test label distribution:\")\n",
    "print(test_df['label'].value_counts())"
   ]
  },
  {
   "cell_type": "markdown",
   "id": "7ada89b4",
   "metadata": {},
   "source": [
    "### 2.2 Tokenize 'text'"
   ]
  },
  {
   "cell_type": "code",
   "execution_count": 7,
   "id": "4f669e54",
   "metadata": {},
   "outputs": [
    {
     "name": "stderr",
     "output_type": "stream",
     "text": [
      "c:\\Users\\Raphael\\Documents\\GitHub\\nonsig-master-thesis\\venv\\Lib\\site-packages\\huggingface_hub\\file_download.py:143: UserWarning: `huggingface_hub` cache-system uses symlinks by default to efficiently store duplicated files but your machine does not support them in C:\\Users\\Raphael\\.cache\\huggingface\\hub\\models--microsoft--BiomedNLP-PubMedBERT-base-uncased-abstract. Caching files will still work but in a degraded version that might require more space on your disk. This warning can be disabled by setting the `HF_HUB_DISABLE_SYMLINKS_WARNING` environment variable. For more details, see https://huggingface.co/docs/huggingface_hub/how-to-cache#limitations.\n",
      "To support symlinks on Windows, you either need to activate Developer Mode or to run Python as an administrator. In order to activate developer mode, see this article: https://docs.microsoft.com/en-us/windows/apps/get-started/enable-your-device-for-development\n",
      "  warnings.warn(message)\n",
      "Map: 100%|██████████| 506/506 [00:00<00:00, 4340.84 examples/s]\n",
      "Map: 100%|██████████| 57/57 [00:00<00:00, 4538.51 examples/s]\n",
      "Map: 100%|██████████| 141/141 [00:00<00:00, 3804.76 examples/s]\n"
     ]
    }
   ],
   "source": [
    "from transformers import AutoTokenizer\n",
    "\n",
    "tokenizer = AutoTokenizer.from_pretrained(model_name)\n",
    "\n",
    "def tokenize_for_bert(examples):\n",
    "    return tokenizer(examples[\"text\"], truncation=True, padding=True, max_length=max_length)\n",
    "\n",
    "tokenized_train = train_dataset.map(tokenize_for_bert, batched=True)\n",
    "\n",
    "tokenized_validation = validation_dataset.map(tokenize_for_bert, batched=True)\n",
    "\n",
    "tokenized_test = test_dataset.map(tokenize_for_bert, batched=True)"
   ]
  },
  {
   "cell_type": "markdown",
   "id": "8f2bf57e",
   "metadata": {},
   "source": [
    "## 3 Train BERT"
   ]
  },
  {
   "cell_type": "markdown",
   "id": "ef0e7023",
   "metadata": {},
   "source": [
    "### 3.1 Initializing model"
   ]
  },
  {
   "cell_type": "code",
   "execution_count": 8,
   "id": "d32e1ea4",
   "metadata": {},
   "outputs": [
    {
     "name": "stderr",
     "output_type": "stream",
     "text": [
      "Some weights of BertForSequenceClassification were not initialized from the model checkpoint at microsoft/BiomedNLP-PubMedBERT-base-uncased-abstract and are newly initialized: ['classifier.bias', 'classifier.weight']\n",
      "You should probably TRAIN this model on a down-stream task to be able to use it for predictions and inference.\n"
     ]
    }
   ],
   "source": [
    "from transformers import AutoModelForSequenceClassification\n",
    "\n",
    "model = AutoModelForSequenceClassification.from_pretrained(model_name, num_labels=num_labels)"
   ]
  },
  {
   "cell_type": "markdown",
   "id": "df611f60",
   "metadata": {},
   "source": [
    "### 3.2 Training regular BERT"
   ]
  },
  {
   "cell_type": "code",
   "execution_count": 9,
   "id": "7b330cbd",
   "metadata": {},
   "outputs": [
    {
     "name": "stdout",
     "output_type": "stream",
     "text": [
      "WARNING:tensorflow:From c:\\Users\\Raphael\\Documents\\GitHub\\nonsig-master-thesis\\venv\\Lib\\site-packages\\tf_keras\\src\\losses.py:2976: The name tf.losses.sparse_softmax_cross_entropy is deprecated. Please use tf.compat.v1.losses.sparse_softmax_cross_entropy instead.\n",
      "\n"
     ]
    },
    {
     "name": "stderr",
     "output_type": "stream",
     "text": [
      "C:\\Users\\Raphael\\AppData\\Local\\Temp\\ipykernel_10036\\56877117.py:44: FutureWarning: `tokenizer` is deprecated and will be removed in version 5.0.0 for `Trainer.__init__`. Use `processing_class` instead.\n",
      "  trainer = Trainer(\n"
     ]
    }
   ],
   "source": [
    "# Standard Setup for training a model with Huggingface Transformers\n",
    "from sklearn.metrics import accuracy_score, precision_recall_fscore_support\n",
    "from transformers import EarlyStoppingCallback\n",
    "from transformers import DataCollatorWithPadding\n",
    "from transformers import TrainingArguments, Trainer\n",
    "import evaluate\n",
    "import numpy as np\n",
    "\n",
    "data_collator = DataCollatorWithPadding(tokenizer=tokenizer)\n",
    "\n",
    "metric = evaluate.load(\"accuracy\")\n",
    "\n",
    "def compute_metrics(eval_pred):\n",
    "    logits, labels = eval_pred\n",
    "    preds = np.argmax(logits, axis=-1)\n",
    "\n",
    "    acc = accuracy_score(labels, preds)\n",
    "    precision, recall, f1, _ = precision_recall_fscore_support(labels, preds, average=\"binary\")\n",
    "\n",
    "    return {\n",
    "        \"accuracy\": acc,\n",
    "        \"precision\": precision,\n",
    "        \"recall\": recall,\n",
    "        \"f1\": f1\n",
    "    }\n",
    "\n",
    "training_args = TrainingArguments(\n",
    "    output_dir=\"./results/PubMedBERT\",\n",
    "    learning_rate=learning_rate,\n",
    "    per_device_train_batch_size=batch_size,\n",
    "    per_device_eval_batch_size=batch_size,\n",
    "    num_train_epochs=num_epochs,\n",
    "    weight_decay=weight_decay,\n",
    "    logging_strategy=\"epoch\",\n",
    "    report_to=\"none\",\n",
    "    save_strategy=\"epoch\",\n",
    "    eval_strategy=\"epoch\",\n",
    "    load_best_model_at_end=True,\n",
    "    metric_for_best_model = \"eval_loss\",\n",
    "    seed=seed\n",
    ")\n",
    "\n",
    "# Model specific setup\n",
    "trainer = Trainer(\n",
    "    model=model,\n",
    "    args=training_args,\n",
    "    train_dataset=tokenized_train,\n",
    "    eval_dataset=tokenized_validation,\n",
    "    tokenizer=tokenizer,\n",
    "    data_collator=data_collator,\n",
    "    compute_metrics=compute_metrics,\n",
    "    callbacks=[EarlyStoppingCallback(early_stopping_patience=early_stopping_patience)]  # Stop training if no improvement after 2 epochs\n",
    ")"
   ]
  },
  {
   "cell_type": "code",
   "execution_count": 10,
   "id": "a0ab3c9e",
   "metadata": {},
   "outputs": [
    {
     "data": {
      "text/html": [
       "\n",
       "    <div>\n",
       "      \n",
       "      <progress value='6' max='160' style='width:300px; height:20px; vertical-align: middle;'></progress>\n",
       "      [  6/160 00:27 < 17:55, 0.14 it/s, Epoch 0.31/10]\n",
       "    </div>\n",
       "    <table border=\"1\" class=\"dataframe\">\n",
       "  <thead>\n",
       " <tr style=\"text-align: left;\">\n",
       "      <th>Epoch</th>\n",
       "      <th>Training Loss</th>\n",
       "      <th>Validation Loss</th>\n",
       "    </tr>\n",
       "  </thead>\n",
       "  <tbody>\n",
       "  </tbody>\n",
       "</table><p>"
      ],
      "text/plain": [
       "<IPython.core.display.HTML object>"
      ]
     },
     "metadata": {},
     "output_type": "display_data"
    },
    {
     "ename": "KeyboardInterrupt",
     "evalue": "",
     "output_type": "error",
     "traceback": [
      "\u001b[31m---------------------------------------------------------------------------\u001b[39m",
      "\u001b[31mKeyboardInterrupt\u001b[39m                         Traceback (most recent call last)",
      "\u001b[36mCell\u001b[39m\u001b[36m \u001b[39m\u001b[32mIn[10]\u001b[39m\u001b[32m, line 1\u001b[39m\n\u001b[32m----> \u001b[39m\u001b[32m1\u001b[39m \u001b[43mtrainer\u001b[49m\u001b[43m.\u001b[49m\u001b[43mtrain\u001b[49m\u001b[43m(\u001b[49m\u001b[43m)\u001b[49m\n",
      "\u001b[36mFile \u001b[39m\u001b[32mc:\\Users\\Raphael\\Documents\\GitHub\\nonsig-master-thesis\\venv\\Lib\\site-packages\\transformers\\trainer.py:2206\u001b[39m, in \u001b[36mTrainer.train\u001b[39m\u001b[34m(self, resume_from_checkpoint, trial, ignore_keys_for_eval, **kwargs)\u001b[39m\n\u001b[32m   2204\u001b[39m         hf_hub_utils.enable_progress_bars()\n\u001b[32m   2205\u001b[39m \u001b[38;5;28;01melse\u001b[39;00m:\n\u001b[32m-> \u001b[39m\u001b[32m2206\u001b[39m     \u001b[38;5;28;01mreturn\u001b[39;00m \u001b[43minner_training_loop\u001b[49m\u001b[43m(\u001b[49m\n\u001b[32m   2207\u001b[39m \u001b[43m        \u001b[49m\u001b[43margs\u001b[49m\u001b[43m=\u001b[49m\u001b[43margs\u001b[49m\u001b[43m,\u001b[49m\n\u001b[32m   2208\u001b[39m \u001b[43m        \u001b[49m\u001b[43mresume_from_checkpoint\u001b[49m\u001b[43m=\u001b[49m\u001b[43mresume_from_checkpoint\u001b[49m\u001b[43m,\u001b[49m\n\u001b[32m   2209\u001b[39m \u001b[43m        \u001b[49m\u001b[43mtrial\u001b[49m\u001b[43m=\u001b[49m\u001b[43mtrial\u001b[49m\u001b[43m,\u001b[49m\n\u001b[32m   2210\u001b[39m \u001b[43m        \u001b[49m\u001b[43mignore_keys_for_eval\u001b[49m\u001b[43m=\u001b[49m\u001b[43mignore_keys_for_eval\u001b[49m\u001b[43m,\u001b[49m\n\u001b[32m   2211\u001b[39m \u001b[43m    \u001b[49m\u001b[43m)\u001b[49m\n",
      "\u001b[36mFile \u001b[39m\u001b[32mc:\\Users\\Raphael\\Documents\\GitHub\\nonsig-master-thesis\\venv\\Lib\\site-packages\\transformers\\trainer.py:2553\u001b[39m, in \u001b[36mTrainer._inner_training_loop\u001b[39m\u001b[34m(self, batch_size, args, resume_from_checkpoint, trial, ignore_keys_for_eval)\u001b[39m\n\u001b[32m   2547\u001b[39m \u001b[38;5;28;01mwith\u001b[39;00m context():\n\u001b[32m   2548\u001b[39m     tr_loss_step = \u001b[38;5;28mself\u001b[39m.training_step(model, inputs, num_items_in_batch)\n\u001b[32m   2550\u001b[39m \u001b[38;5;28;01mif\u001b[39;00m (\n\u001b[32m   2551\u001b[39m     args.logging_nan_inf_filter\n\u001b[32m   2552\u001b[39m     \u001b[38;5;129;01mand\u001b[39;00m \u001b[38;5;129;01mnot\u001b[39;00m is_torch_xla_available()\n\u001b[32m-> \u001b[39m\u001b[32m2553\u001b[39m     \u001b[38;5;129;01mand\u001b[39;00m (torch.isnan(tr_loss_step) \u001b[38;5;129;01mor\u001b[39;00m \u001b[43mtorch\u001b[49m\u001b[43m.\u001b[49m\u001b[43misinf\u001b[49m\u001b[43m(\u001b[49m\u001b[43mtr_loss_step\u001b[49m\u001b[43m)\u001b[49m)\n\u001b[32m   2554\u001b[39m ):\n\u001b[32m   2555\u001b[39m     \u001b[38;5;66;03m# if loss is nan or inf simply add the average of previous logged losses\u001b[39;00m\n\u001b[32m   2556\u001b[39m     tr_loss = tr_loss + tr_loss / (\u001b[32m1\u001b[39m + \u001b[38;5;28mself\u001b[39m.state.global_step - \u001b[38;5;28mself\u001b[39m._globalstep_last_logged)\n\u001b[32m   2557\u001b[39m \u001b[38;5;28;01melse\u001b[39;00m:\n",
      "\u001b[31mKeyboardInterrupt\u001b[39m: "
     ]
    }
   ],
   "source": [
    "trainer.train()"
   ]
  },
  {
   "cell_type": "code",
   "execution_count": null,
   "id": "2062839c",
   "metadata": {},
   "outputs": [
    {
     "data": {
      "image/png": "[encoded data removed]",
      "text/plain": [
       "<Figure size 800x500 with 1 Axes>"
      ]
     },
     "metadata": {},
     "output_type": "display_data"
    }
   ],
   "source": [
    "# Visualize loss curves\n",
    "import matplotlib.pyplot as plt\n",
    "\n",
    "# Extract training log history\n",
    "logs = pd.DataFrame(trainer.state.log_history)\n",
    "\n",
    "# Filter for loss values\n",
    "loss_logs = logs[logs[\"loss\"].notnull()][[\"epoch\", \"loss\"]]\n",
    "eval_logs = logs[logs[\"eval_loss\"].notnull()][[\"epoch\", \"eval_loss\"]]\n",
    "\n",
    "# Plotting\n",
    "plt.figure(figsize=(8, 5))\n",
    "plt.plot(loss_logs[\"epoch\"], loss_logs[\"loss\"], label=\"Training Loss\")\n",
    "plt.plot(eval_logs[\"epoch\"], eval_logs[\"eval_loss\"], label=\"Validation Loss\")\n",
    "plt.xlabel(\"Epoch\")\n",
    "plt.ylabel(\"Loss\")\n",
    "plt.title(\"PubMedBERT\")\n",
    "plt.legend()\n",
    "plt.grid(True)\n",
    "plt.tight_layout()\n",
    "\n",
    "# Save the figure\n",
    "from pathlib import Path\n",
    "plt.savefig((save_path := Path(results_path) / \"loss_curve\").mkdir(parents=True, exist_ok=True) or save_path / \"PubMedBERT.pdf\", dpi=300, bbox_inches='tight')\n",
    "\n",
    "plt.show()"
   ]
  },
  {
   "cell_type": "markdown",
   "id": "86a63e73",
   "metadata": {},
   "source": [
    "#### 3.2.1 Save last model"
   ]
  },
  {
   "cell_type": "code",
   "execution_count": null,
   "id": "ab2a5e7a",
   "metadata": {},
   "outputs": [
    {
     "data": {
      "text/plain": [
       "('./best_model/SciBERT\\\\tokenizer_config.json',\n",
       " './best_model/SciBERT\\\\special_tokens_map.json',\n",
       " './best_model/SciBERT\\\\vocab.txt',\n",
       " './best_model/SciBERT\\\\added_tokens.json',\n",
       " './best_model/SciBERT\\\\tokenizer.json')"
      ]
     },
     "execution_count": 12,
     "metadata": {},
     "output_type": "execute_result"
    }
   ],
   "source": [
    "# Save the best model and tokenizer\n",
    "trainer.save_model(\"./best_model/PubMedBERT\")\n",
    "tokenizer.save_pretrained(\"./best_model/PubMedBERT\")"
   ]
  },
  {
   "cell_type": "markdown",
   "id": "63996c7d",
   "metadata": {},
   "source": [
    "### 3.3 Evaluate model"
   ]
  },
  {
   "cell_type": "markdown",
   "id": "42526e66",
   "metadata": {},
   "source": [
    "#### 3.3.1 Predict training data"
   ]
  },
  {
   "cell_type": "code",
   "execution_count": null,
   "id": "1016cf86",
   "metadata": {},
   "outputs": [
    {
     "data": {
      "text/html": [],
      "text/plain": [
       "<IPython.core.display.HTML object>"
      ]
     },
     "metadata": {},
     "output_type": "display_data"
    },
    {
     "name": "stdout",
     "output_type": "stream",
     "text": [
      "Training Classification Report:\n",
      "              precision    recall  f1-score   support\n",
      "\n",
      "           0       0.96      0.98      0.97       253\n",
      "           1       0.98      0.96      0.97       253\n",
      "\n",
      "    accuracy                           0.97       506\n",
      "   macro avg       0.97      0.97      0.97       506\n",
      "weighted avg       0.97      0.97      0.97       506\n",
      "\n"
     ]
    }
   ],
   "source": [
    "from sklearn.metrics import classification_report\n",
    "\n",
    "train_preds = trainer.predict(tokenized_train)\n",
    "train_preds = np.argmax(train_preds.predictions, axis=1)\n",
    "GT_train = train_df['label'].tolist()\n",
    "print(\"Training Classification Report:\")\n",
    "print(classification_report(GT_train, train_preds))"
   ]
  },
  {
   "cell_type": "markdown",
   "id": "ee34e701",
   "metadata": {},
   "source": [
    "#### 3.3.2 Predict test data"
   ]
  },
  {
   "cell_type": "code",
   "execution_count": null,
   "id": "4ebd28bf",
   "metadata": {},
   "outputs": [],
   "source": [
    "# In case you want to change the threshold for classification, you can do so here:\n",
    "# threshold = 0.5\n",
    "\n"
   ]
  },
  {
   "cell_type": "code",
   "execution_count": null,
   "id": "c1671518",
   "metadata": {},
   "outputs": [
    {
     "data": {
      "text/html": [],
      "text/plain": [
       "<IPython.core.display.HTML object>"
      ]
     },
     "metadata": {},
     "output_type": "display_data"
    },
    {
     "name": "stdout",
     "output_type": "stream",
     "text": [
      "Test Classification Report:\n",
      "              precision    recall  f1-score   support\n",
      "\n",
      "           0       0.82      0.86      0.84        71\n",
      "           1       0.85      0.81      0.83        70\n",
      "\n",
      "    accuracy                           0.84       141\n",
      "   macro avg       0.84      0.84      0.84       141\n",
      "weighted avg       0.84      0.84      0.84       141\n",
      "\n"
     ]
    }
   ],
   "source": [
    "test_preds = trainer.predict(tokenized_test)\n",
    "test_preds = np.argmax(test_preds.predictions, axis=1)\n",
    "GT_test = test_df['label'].tolist()\n",
    "print(\"Test Classification Report:\")\n",
    "print(classification_report(GT_test, test_preds))"
   ]
  },
  {
   "cell_type": "code",
   "execution_count": null,
   "id": "75e5849a",
   "metadata": {},
   "outputs": [],
   "source": [
    "# Save test results in 'classification_report.csv'\n",
    "\n",
    "# Get classification report as a dict\n",
    "report_dict = classification_report(GT_test, test_preds, output_dict=True)\n",
    "\n",
    "# Convert to DataFrame\n",
    "report_df = pd.DataFrame(report_dict).transpose()\n",
    "\n",
    "# Optionally reset index for nicer format\n",
    "report_df = report_df.reset_index().rename(columns={\"index\": \"class\"})\n",
    "\n",
    "# Save to CSV if you want\n",
    "from pathlib import Path\n",
    "report_df.to_csv((report_path := Path(results_path) / \"classification_report\").mkdir(parents=True, exist_ok=True) or report_path / \"PubMedBERT.csv\", index=False)"
   ]
  },
  {
   "cell_type": "markdown",
   "id": "e2830b7b",
   "metadata": {},
   "source": [
    "**Confusion-Matrix for test data:**"
   ]
  },
  {
   "cell_type": "code",
   "execution_count": null,
   "id": "bc29093b",
   "metadata": {},
   "outputs": [
    {
     "data": {
      "image/png": "[encoded data removed]",
      "text/plain": [
       "<Figure size 600x500 with 2 Axes>"
      ]
     },
     "metadata": {},
     "output_type": "display_data"
    }
   ],
   "source": [
    "import seaborn as sns\n",
    "from sklearn.metrics import confusion_matrix\n",
    "import matplotlib.pyplot as plt\n",
    "\n",
    "# Use predictions and ground truth from previous evaluation on test set\n",
    "conf_matrix = confusion_matrix(GT_test, test_preds)\n",
    "\n",
    "plt.figure(figsize=(6,5))\n",
    "sns.heatmap(conf_matrix, annot=True, fmt='d', cmap='Blues',\n",
    "            xticklabels=[\"correct\", \"incorrect\"],\n",
    "            yticklabels=[\"correct\", \"incorrect\"])\n",
    "\n",
    "plt.xlabel('Predicted Label')\n",
    "plt.ylabel('True Label')\n",
    "plt.title('PubMedBERT')\n",
    "\n",
    "# Save the figure\n",
    "plt.savefig((save_path := Path(results_path) / \"confusion_matrix\").mkdir(parents=True, exist_ok=True) or save_path / \"PubMedBERT.pdf\", dpi=300, bbox_inches='tight')\n",
    "\n",
    "plt.show()"
   ]
  },
  {
   "cell_type": "markdown",
   "id": "3b67a1d1",
   "metadata": {},
   "source": [
    "**F1 Score**"
   ]
  },
  {
   "cell_type": "code",
   "execution_count": null,
   "id": "f2714bc6",
   "metadata": {},
   "outputs": [
    {
     "name": "stdout",
     "output_type": "stream",
     "text": [
      "Test F1 score: 0.832\n"
     ]
    }
   ],
   "source": [
    "from sklearn.metrics import f1_score\n",
    "print(f\"Test F1 score: {f1_score(GT_test, test_preds):.3f}\")"
   ]
  },
  {
   "cell_type": "markdown",
   "id": "12e9b778",
   "metadata": {},
   "source": [
    "#### 3.3.4 List of statements per category (TP, TN, FP, FN)"
   ]
  },
  {
   "cell_type": "code",
   "execution_count": null,
   "id": "07366994",
   "metadata": {},
   "outputs": [],
   "source": [
    "# Get ground truth and predictions for test set\n",
    "y_true = test_df['label'].tolist()\n",
    "y_pred = test_preds\n",
    "\n",
    "# True Positives: predicted 1, actual 1\n",
    "true_positives = test_df[(test_df['label'] == 1) & (y_pred == 1)]\n",
    "\n",
    "# True Negatives: predicted 0, actual 0\n",
    "true_negatives = test_df[(test_df['label'] == 0) & (y_pred == 0)]\n",
    "\n",
    "# False Positives: predicted 1, actual 0\n",
    "false_positives = test_df[(test_df['label'] == 0) & (y_pred == 1)]\n",
    "\n",
    "# False Negatives: predicted 0, actual 1\n",
    "false_negatives = test_df[(test_df['label'] == 1) & (y_pred == 0)]\n",
    "\n",
    "# Function to print statements\n",
    "import pandas as pd\n",
    "from IPython.display import display\n",
    "\n",
    "def display_statements(df, title):\n",
    "    if not df.empty:\n",
    "        print(f\"\\n{title} (count: {len(df)})\")\n",
    "        display(df[['text']].reset_index(drop=True))\n",
    "    else:\n",
    "        print(f\"\\n{title}: None\")"
   ]
  },
  {
   "cell_type": "code",
   "execution_count": null,
   "id": "2433dc88",
   "metadata": {},
   "outputs": [
    {
     "name": "stdout",
     "output_type": "stream",
     "text": [
      "\n",
      "True Positives (predicted 1, actual 1) (count: 57)\n"
     ]
    },
    {
     "data": {
      "application/vnd.microsoft.datawrangler.viewer.v0+json": {
       "columns": [
        {
         "name": "index",
         "rawType": "int64",
         "type": "integer"
        },
        {
         "name": "text",
         "rawType": "object",
         "type": "string"
        }
       ],
       "ref": "d219d99e-dd65-479b-94fa-d557acfa6385",
       "rows": [
        [
         "0",
         "No such increase was observed in the incongruent condition (Block 1: M = .96, SD = .10; Block 2: M = .98, SD = .04; V = 35, p = .484, r = -.77, 95% CI = [-0.31, 0.24])."
        ],
        [
         "1",
         "In contrast, there was no difference between the sham tACS and alpha tACS conditions (p = .475)."
        ],
        [
         "2",
         "When both targets were available, observers switched on 37% of all search displays, yet there was no difference in saccade latency between switch trials (M = 251 ms) and repeat trials (M = 246 ms), t(19) = 1.60, p = .13, Cohen's d = 0.08."
        ],
        [
         "3",
         "Efficiency did not differ between the congruent and incongruent trials, as suggested by a paired-samples comparison between the ratio of efficient choices in the two conditions (V = 116, p = .065, r = -.23, 95% CI = [-0.02, 0.26]; see Fig. 2a)."
        ],
        [
         "4",
         "Neither distance, Ï‡ 2 (1, N = 20) = 0.04, p = .84, nor hand position, Ï‡ 2 (1, N = 20) = 2.7, p = .10, improved model fit."
        ],
        [
         "5",
         "At T0, after adjusting for covariates (age at T0, sex, Latino identity, duration between biological sample collection, and T0 child adversity exposure), BEC proportion-adjusted PedBE age acceleration was the same across CPP treatment (Î¼ = -0.06) and propensity-matched and weighted community (Î¼ = -0.06) samples, F(1, 148) = 0.03, p = .854, Cohen's f = 0.0, 95% CI = [0.00, 1.00]."
        ],
        [
         "6",
         "However, there was no simple effect of target condition on surprise, t(199) = 0.58, p > .25, d = 0.08, 95% CI = [-0.36, 0.19]."
        ],
        [
         "7",
         "The analyses revealed that infants' age in days did not predict their area-weighted fixation counts for faces learned in the high-variability videos, Î² = -0.51, t(33) = -1.03, p = .311, or low-variability videos, Î² = -0.07, t(33) = -0.15, p = .878, nor did it predict their familiarity preference in the testing phase for faces learned in the high-variability videos, Î² = 0.01, t(33) = 0.17, p = .854, or in the low-variability videos (see Fig. 7), Î² = 0.01, t(33) = -1.51, p = .142."
        ],
        [
         "8",
         "There was no correlation between CAPS score and performance in the nonforced condition of the dichoticlistening task, as assessed by the number of right-ear responses (Hypothesis 2), r S (1263) = .006, 95% CI = [-0.05, 0.06], p = .842, and equivalence testing indicated that the effect was statistically indistinguishable from 0 (p < .001)."
        ],
        [
         "9",
         "Non-attraction-effect choices were very rare and, like decoy choices, they likely reflect noisy responding; they were more common among people with lower cognitive ability, b = 0.689, 95% CI = [0.357, 1.021], p < .001, but did not differ between the ASC and control groups, b = -0.037, 95% CI = [-0.381, 0.307], p = .834, and were unrelated to age, b = 0.014, 95% CI = [-0.295, 0.324], p = .929, or gender, b = -0.229, 95% CI = [-0.528, 0.069], p = .132."
        ],
        [
         "10",
         "However, shorter participants did not keep more coins for themselves in the ultimatum game when their opponent was taller than average (1 SD above the mean), b = 0.001, SE = 0.004, 95% CI = [-0.007, 0.009], p = .846."
        ],
        [
         "11",
         "Despite reporting less comfort and greater fears of backlash, women did not report holding back questions more than men (women: M = 3.35, SD = 0.81; men: M = 3.22, SD = 0.70), t(137) = 1.23, p = .219, d = 0.18, 95% CI = [-0.11, 0.47]."
        ],
        [
         "12",
         "There was no First Fixation Ã— Expected Value interaction, b = -0.54, SE = 0.74, z = -0.72, p = .47."
        ],
        [
         "13",
         "Similarly, for inverted scenes, categorization accuracy was comparable across high (M = 0.82, SD = 0.14) and low (M = 0.81, SD = 0.85) aesthetic conditions, F(1, 98) = 0.21, p = .647 (high vs. low aesthetic condition difference = .015, 95% CI = [-.051, .082])."
        ],
        [
         "14",
         "Again, there was no effect of training group, F(1, 48) < 0.01, p = .95, Ï‰ p 2 = -.02, 95% CI = [.00, 1.00], and no interaction, F(2, 96) = 2.58, p = .08, Ï‰ p 2 = .02, 95% CI = [.00, .08]."
        ],
        [
         "15",
         "Participants allocated more area-weighted fixations to the eye region (M = 5,943.88, SE = 853.27) and nose region (M = 5,690.79, SE = 465.17) than the mouth region (M = 1,210.98, SE = 120.56; there was no difference between eyes and nose, p = .761)."
        ],
        [
         "16",
         "The theta frequency during the alpha stimulation did not differ between the expected and unexpected conditions in the first second of the outcome picture (3-4 s), t(37) = 0.62, p = .536."
        ],
        [
         "17",
         "This difference was not found for scrambled stimuli; detection times were similar for scrambled 3D objects and their 2D photographs (3D -2D: Î”M = 0.33 s, SD = 2.4, 95% CI = [-0.18, 0.85], uncorrected p = .275, d = 0.14)."
        ],
        [
         "18",
         "The analysis of the change-detection performance before the actual learning yielded no difference between the d' scores for the learned (1.0) and not-learned (0.9) character sets, t(15) = 1.57, p > .13, d = 0.39."
        ],
        [
         "19",
         "Time of day did not interact with type of day (i.e., social isolation vs. baseline) for any of the above momentary state measures (p > .08)."
        ],
        [
         "20",
         "Distance, Ï‡ 2 (1, N = 21) = 0.01, p = .911, did not improve model fit."
        ],
        [
         "21",
         "Tests of the simple effects of target condition on aggression indicated that, although endorsement of direct aggression was higher in the self compared with the other condition, t(344) = -4.55, p < .001, d = -0.48, 95% CI = [-0.70, -0.27], indirect aggression did not vary between the target conditions, t(344) = -0.91, p > .25, d = -0.10, 95% CI = [-0.31, 0.11]."
        ],
        [
         "22",
         "In keeping with an absence of an effect of M1 TMS on confidence, results showed that M1 stimulation had no effect on metacognitive efficiency, F(1, 16) = 0.13, p = .73, Î· p 2 = .008 (Fig."
        ],
        [
         "23",
         "A linear regression indicated that positive-arousal scores of the neuroimaging sample, t = 8.37, p < .001, but not negativearousal scores of this sample, t = -1.95, p = .055, were associated with Internet lending rates."
        ],
        [
         "24",
         "These effects were not significantly correlated across individuals (Fig. 2b), which suggests that there was no relationship between the two kinds of motivation (Pearson's r = .10, p > .25)."
        ],
        [
         "25",
         "For gig workers, we found no evidence that expertise led to better or worse decision-making (i.e., 76% of gig workers chose the smaller improvement in the 9-p.p. condition compared with 78% for medical professionals and 77% for lay participants), Î² = -0.01, t(503) = 0.316, p = .752, d = 0.03, 95% CI = [-0.16, 0.21]."
        ],
        [
         "26",
         "Further-although participant-centered valence did not predict prosocial behavior, b = 0.08, SE = 0.05, z = 1.53, p = .159, r = .02-participants who typically experienced more positively valenced empathy opportunities were slightly more likely to report prosocial behaviors in a given survey, b = 0.13, SE = 0.04, z = 2.96, p = .009, r = .04 (a between-subjects effect)."
        ],
        [
         "27",
         "In Experiment 3 (as in Experiment 2), this effect did not depend on whether the small or large object was memorized, as revealed by the absence of an interaction between congruence and template size, t(2904) = 1.12, p = .265, 95% CI for the fixed-effect coefficient = [-14 ms, 4 ms]."
        ],
        [
         "28",
         "In reward blocks, the results of Experiment 1 were replicated, showing pupillary dilation for contingent rewards, t(24) = 2.46, p = .011, but not for noncontingent rewards, t(24) = 0.09, p > .25."
        ],
        [
         "29",
         "Although perceiving an opportunity to empathize at Time 1 did not predict noticing another opportunity at Time 2, b = -0.02, SE = 0.09, z = -0.23, p = .817, r = -.01, missing an opportunity at Time 1 did predict noticing an opportunity at Time 2, b = 0.32, SE = 0.12, z = 2.64, p = .008, r = .09."
        ],
        [
         "30",
         "The type of deprivation had specific effects on motivation, as participants reported neither more loneliness and desire for social contact in the food deprivation condition nor more hunger and desire for food in the social isolation condition (p > .25) compared with baseline."
        ],
        [
         "31",
         "Most importantly, neither the effect of the stimulation, F(2, 58) = 0.970, p = .385, Î· p 2 = .032, nor its interaction with age level, F(12, 348) = 0.694, p = .758, Î· p 2 = .23, were significant, suggesting that age estimation was not modulated by alpha or beta oscillations (for the analysis comparing the MTT task with the age estimation task, see \"Supplementary Results\" at <https://osf.io/24cs7/>)."
        ],
        [
         "32",
         "The results indicate that both participants in the fearchemosignal condition (M = 46.42, SD = 9.23) and the rest-body-odor condition (M = 45.22, SD = 10.62) counted a very similar number of bluefish consuming the food morsels (W = 7,538.50, p = .273), indicating that participants in both odor conditions were similarly engaged in the task."
        ],
        [
         "33",
         "This effect did not interact with the order of the groups, F(1, 601) = 1.02, p = .313, Î· p 2 = .002."
        ],
        [
         "34",
         "Results were, again, more in line with a sociofunctional perspective than an equivalence perspective: Anger related positively to higher-cost, physically or verbally aggressive sentiments (direct aggression), t(102.65) = 2.26, p = .026, b = 0.07, 95% CI = [0.01, 0.14], whereas disgust did not, t(802.32) = 0.25, p > .25, b = 0.01, 95% CI = [-0.04, 0.05]."
        ],
        [
         "35",
         "However, an examination of the zero-order associations among partner life satisfaction, perceived partner support, and actor mortality revealed that this mediation path is unlikely: Although having a happier partner was indeed associated with greater perceived partner support (r = .27, 95% CI = [.25, .29], p < .001), perceived partner support was not related to actor mortality (HR = 0.99, 95% CI = [0.94, 1.04], p = .69)."
        ],
        [
         "36",
         "We found that although participants became faster over time on both days (main effect of block: p = .012), stress had no impact on these choice RTs (main effect of condition: p = .712; Condition Ã— Block interaction: p = .823; for full coefficient estimates, see Table 5)."
        ],
        [
         "37",
         "In the recognition test, conducted after the search task, there was no difference between the rates of hits (correct recognition of repeated displays as repeated: 46.1%) and false alarms (erroneous recognition of nonrepeated displays as repeated: 48.4%), t(15) = -0.39, p > .6, Cohen's d = -0.2."
        ],
        [
         "38",
         "Similarly, there was no association between CAPS score and the number of correct left-ear responses, r S (1263) = .022, 95% CI = [-.03, .08], p = .435, in the forced-left condition, which was also indistinguishable from 0 (p = .003)."
        ],
        [
         "39",
         "There was no interaction between age group and condition, F(1, 124) = 0.07, p = .79."
        ],
        [
         "40",
         "On the other hand, hunger and desire for food increased only during the food deprivation session-desire for food: Î² = 9.78, SE = 0.58, t(95.47) = 16.91, p < .001, hunger: Î² = 9.4, SE = 0.53, t(415) = 17.61, p < .001-and not during the baseline session (p > .15)."
        ],
        [
         "41",
         "Unlike RT, accuracy did not significantly differ between these two conditions, t(19) = -1.55, p = .137, suggesting that the increase in performance at the location of the template-matching object was RT specific."
        ],
        [
         "42",
         "Conversely, and as predicted, the explicit relationship evaluation assessed at intake was not related to nonverbal behavior exhibited in the conversation, b = 0.05, SE = 0.06, 95% CI = [-0.07, 0.16], p = .411, Î² = 0.05."
        ],
        [
         "43",
         "The response latencies of the low-AQ and high-AQ groups were very similar to one another (low-AQ group: geometric mean = 17.7 s, 95% CI = [16.2, 19.3]; high-AQ group: geometric mean = 16.8 s, 95% CI = [15.7, 18.0]; b = -0.031, 95% CI = [-0.085, 0.024], p = .269), and although participants with shorter RTs were more likely to make decoy selections, b = -0.303, 95% CI = [-0.521, -0.083], p = .007, there was no association between response latency and the tendency to make consistent choices, b = -0.001, 95% CI = [-0.137, 0.135], p = .990, and controlling for response latency made very little difference to the effect of AQ group on choice consistency, b = 0.161, 95% CI = [0.013, 0.309], p = .033."
        ],
        [
         "44",
         "As in Study 1, individuals' risk and social preferences were uncorrelated (Spearman's r = .03, p = .800)."
        ],
        [
         "45",
         "Results showed that for high-probability trials, there was no difference in accuracy between trials preceded by a high-probability trial (fraction correct = 0.75, SD = 0.09) and those preceded by a low-probability trial (fraction correct = 0.74, SD = 0.12), t(55) = 0.86, p = .394, Cohen's d = 0.12, 95% CI = [-0.01, 0.03]."
        ],
        [
         "46",
         "Reaction time also did not predict pupil size at any of the time points (t < 1.627, p > .103)."
        ],
        [
         "47",
         "Congruence did not affect measures of RT to either the stimulus (Î² = -0.008, SE = 0.03, p = .78) or the confidence rating (Î² = 0.03, SE = 0.03, p = .33), which makes it unlikely that effects on metacognition were mediated by effects of TMS on details of the action itself (see Fig."
        ],
        [
         "48",
         "First fixation had no effect on choice when time was unlimited and both options were attended, b = -0.17, SE = 0.09, z = -1.76, p = .08."
        ],
        [
         "49",
         "Yet our preregistered analysis revealed that both groups spent similar amounts on others, t(197) = 0.69, p = .494, 95% CI = [$-544.7, $1,125.3], d = 0.10."
        ]
       ],
       "shape": {
        "columns": 1,
        "rows": 57
       }
      },
      "text/html": [
       "<div>\n",
       "<style scoped>\n",
       "    .dataframe tbody tr th:only-of-type {\n",
       "        vertical-align: middle;\n",
       "    }\n",
       "\n",
       "    .dataframe tbody tr th {\n",
       "        vertical-align: top;\n",
       "    }\n",
       "\n",
       "    .dataframe thead th {\n",
       "        text-align: right;\n",
       "    }\n",
       "</style>\n",
       "<table border=\"1\" class=\"dataframe\">\n",
       "  <thead>\n",
       "    <tr style=\"text-align: right;\">\n",
       "      <th></th>\n",
       "      <th>text</th>\n",
       "    </tr>\n",
       "  </thead>\n",
       "  <tbody>\n",
       "    <tr>\n",
       "      <th>0</th>\n",
       "      <td>No such increase was observed in the incongrue...</td>\n",
       "    </tr>\n",
       "    <tr>\n",
       "      <th>1</th>\n",
       "      <td>In contrast, there was no difference between t...</td>\n",
       "    </tr>\n",
       "    <tr>\n",
       "      <th>2</th>\n",
       "      <td>When both targets were available, observers sw...</td>\n",
       "    </tr>\n",
       "    <tr>\n",
       "      <th>3</th>\n",
       "      <td>Efficiency did not differ between the congruen...</td>\n",
       "    </tr>\n",
       "    <tr>\n",
       "      <th>4</th>\n",
       "      <td>Neither distance, Ï‡ 2 (1, N = 20) = 0.04, p =...</td>\n",
       "    </tr>\n",
       "    <tr>\n",
       "      <th>5</th>\n",
       "      <td>At T0, after adjusting for covariates (age at ...</td>\n",
       "    </tr>\n",
       "    <tr>\n",
       "      <th>6</th>\n",
       "      <td>However, there was no simple effect of target ...</td>\n",
       "    </tr>\n",
       "    <tr>\n",
       "      <th>7</th>\n",
       "      <td>The analyses revealed that infants' age in day...</td>\n",
       "    </tr>\n",
       "    <tr>\n",
       "      <th>8</th>\n",
       "      <td>There was no correlation between CAPS score an...</td>\n",
       "    </tr>\n",
       "    <tr>\n",
       "      <th>9</th>\n",
       "      <td>Non-attraction-effect choices were very rare a...</td>\n",
       "    </tr>\n",
       "    <tr>\n",
       "      <th>10</th>\n",
       "      <td>However, shorter participants did not keep mor...</td>\n",
       "    </tr>\n",
       "    <tr>\n",
       "      <th>11</th>\n",
       "      <td>Despite reporting less comfort and greater fea...</td>\n",
       "    </tr>\n",
       "    <tr>\n",
       "      <th>12</th>\n",
       "      <td>There was no First Fixation Ã— Expected Value ...</td>\n",
       "    </tr>\n",
       "    <tr>\n",
       "      <th>13</th>\n",
       "      <td>Similarly, for inverted scenes, categorization...</td>\n",
       "    </tr>\n",
       "    <tr>\n",
       "      <th>14</th>\n",
       "      <td>Again, there was no effect of training group, ...</td>\n",
       "    </tr>\n",
       "    <tr>\n",
       "      <th>15</th>\n",
       "      <td>Participants allocated more area-weighted fixa...</td>\n",
       "    </tr>\n",
       "    <tr>\n",
       "      <th>16</th>\n",
       "      <td>The theta frequency during the alpha stimulati...</td>\n",
       "    </tr>\n",
       "    <tr>\n",
       "      <th>17</th>\n",
       "      <td>This difference was not found for scrambled st...</td>\n",
       "    </tr>\n",
       "    <tr>\n",
       "      <th>18</th>\n",
       "      <td>The analysis of the change-detection performan...</td>\n",
       "    </tr>\n",
       "    <tr>\n",
       "      <th>19</th>\n",
       "      <td>Time of day did not interact with type of day ...</td>\n",
       "    </tr>\n",
       "    <tr>\n",
       "      <th>20</th>\n",
       "      <td>Distance, Ï‡ 2 (1, N = 21) = 0.01, p = .911, d...</td>\n",
       "    </tr>\n",
       "    <tr>\n",
       "      <th>21</th>\n",
       "      <td>Tests of the simple effects of target conditio...</td>\n",
       "    </tr>\n",
       "    <tr>\n",
       "      <th>22</th>\n",
       "      <td>In keeping with an absence of an effect of M1 ...</td>\n",
       "    </tr>\n",
       "    <tr>\n",
       "      <th>23</th>\n",
       "      <td>A linear regression indicated that positive-ar...</td>\n",
       "    </tr>\n",
       "    <tr>\n",
       "      <th>24</th>\n",
       "      <td>These effects were not significantly correlate...</td>\n",
       "    </tr>\n",
       "    <tr>\n",
       "      <th>25</th>\n",
       "      <td>For gig workers, we found no evidence that exp...</td>\n",
       "    </tr>\n",
       "    <tr>\n",
       "      <th>26</th>\n",
       "      <td>Further-although participant-centered valence ...</td>\n",
       "    </tr>\n",
       "    <tr>\n",
       "      <th>27</th>\n",
       "      <td>In Experiment 3 (as in Experiment 2), this eff...</td>\n",
       "    </tr>\n",
       "    <tr>\n",
       "      <th>28</th>\n",
       "      <td>In reward blocks, the results of Experiment 1 ...</td>\n",
       "    </tr>\n",
       "    <tr>\n",
       "      <th>29</th>\n",
       "      <td>Although perceiving an opportunity to empathiz...</td>\n",
       "    </tr>\n",
       "    <tr>\n",
       "      <th>30</th>\n",
       "      <td>The type of deprivation had specific effects o...</td>\n",
       "    </tr>\n",
       "    <tr>\n",
       "      <th>31</th>\n",
       "      <td>Most importantly, neither the effect of the st...</td>\n",
       "    </tr>\n",
       "    <tr>\n",
       "      <th>32</th>\n",
       "      <td>The results indicate that both participants in...</td>\n",
       "    </tr>\n",
       "    <tr>\n",
       "      <th>33</th>\n",
       "      <td>This effect did not interact with the order of...</td>\n",
       "    </tr>\n",
       "    <tr>\n",
       "      <th>34</th>\n",
       "      <td>Results were, again, more in line with a socio...</td>\n",
       "    </tr>\n",
       "    <tr>\n",
       "      <th>35</th>\n",
       "      <td>However, an examination of the zero-order asso...</td>\n",
       "    </tr>\n",
       "    <tr>\n",
       "      <th>36</th>\n",
       "      <td>We found that although participants became fas...</td>\n",
       "    </tr>\n",
       "    <tr>\n",
       "      <th>37</th>\n",
       "      <td>In the recognition test, conducted after the s...</td>\n",
       "    </tr>\n",
       "    <tr>\n",
       "      <th>38</th>\n",
       "      <td>Similarly, there was no association between CA...</td>\n",
       "    </tr>\n",
       "    <tr>\n",
       "      <th>39</th>\n",
       "      <td>There was no interaction between age group and...</td>\n",
       "    </tr>\n",
       "    <tr>\n",
       "      <th>40</th>\n",
       "      <td>On the other hand, hunger and desire for food ...</td>\n",
       "    </tr>\n",
       "    <tr>\n",
       "      <th>41</th>\n",
       "      <td>Unlike RT, accuracy did not significantly diff...</td>\n",
       "    </tr>\n",
       "    <tr>\n",
       "      <th>42</th>\n",
       "      <td>Conversely, and as predicted, the explicit rel...</td>\n",
       "    </tr>\n",
       "    <tr>\n",
       "      <th>43</th>\n",
       "      <td>The response latencies of the low-AQ and high-...</td>\n",
       "    </tr>\n",
       "    <tr>\n",
       "      <th>44</th>\n",
       "      <td>As in Study 1, individuals' risk and social pr...</td>\n",
       "    </tr>\n",
       "    <tr>\n",
       "      <th>45</th>\n",
       "      <td>Results showed that for high-probability trial...</td>\n",
       "    </tr>\n",
       "    <tr>\n",
       "      <th>46</th>\n",
       "      <td>Reaction time also did not predict pupil size ...</td>\n",
       "    </tr>\n",
       "    <tr>\n",
       "      <th>47</th>\n",
       "      <td>Congruence did not affect measures of RT to ei...</td>\n",
       "    </tr>\n",
       "    <tr>\n",
       "      <th>48</th>\n",
       "      <td>First fixation had no effect on choice when ti...</td>\n",
       "    </tr>\n",
       "    <tr>\n",
       "      <th>49</th>\n",
       "      <td>Yet our preregistered analysis revealed that b...</td>\n",
       "    </tr>\n",
       "    <tr>\n",
       "      <th>50</th>\n",
       "      <td>In addition, age of onset did not predict any ...</td>\n",
       "    </tr>\n",
       "    <tr>\n",
       "      <th>51</th>\n",
       "      <td>As in Study 2a, identifiability reduced updati...</td>\n",
       "    </tr>\n",
       "    <tr>\n",
       "      <th>52</th>\n",
       "      <td>Follow-up analyses showed that there was no Tr...</td>\n",
       "    </tr>\n",
       "    <tr>\n",
       "      <th>53</th>\n",
       "      <td>There was no difference in the ratings given t...</td>\n",
       "    </tr>\n",
       "    <tr>\n",
       "      <th>54</th>\n",
       "      <td>Also, when the analyses were limited to biased...</td>\n",
       "    </tr>\n",
       "    <tr>\n",
       "      <th>55</th>\n",
       "      <td>There was no effect of search condition, F(1, ...</td>\n",
       "    </tr>\n",
       "    <tr>\n",
       "      <th>56</th>\n",
       "      <td>Depending on the outcome measure, individuals ...</td>\n",
       "    </tr>\n",
       "  </tbody>\n",
       "</table>\n",
       "</div>"
      ],
      "text/plain": [
       "                                                 text\n",
       "0   No such increase was observed in the incongrue...\n",
       "1   In contrast, there was no difference between t...\n",
       "2   When both targets were available, observers sw...\n",
       "3   Efficiency did not differ between the congruen...\n",
       "4   Neither distance, Ï‡ 2 (1, N = 20) = 0.04, p =...\n",
       "5   At T0, after adjusting for covariates (age at ...\n",
       "6   However, there was no simple effect of target ...\n",
       "7   The analyses revealed that infants' age in day...\n",
       "8   There was no correlation between CAPS score an...\n",
       "9   Non-attraction-effect choices were very rare a...\n",
       "10  However, shorter participants did not keep mor...\n",
       "11  Despite reporting less comfort and greater fea...\n",
       "12  There was no First Fixation Ã— Expected Value ...\n",
       "13  Similarly, for inverted scenes, categorization...\n",
       "14  Again, there was no effect of training group, ...\n",
       "15  Participants allocated more area-weighted fixa...\n",
       "16  The theta frequency during the alpha stimulati...\n",
       "17  This difference was not found for scrambled st...\n",
       "18  The analysis of the change-detection performan...\n",
       "19  Time of day did not interact with type of day ...\n",
       "20  Distance, Ï‡ 2 (1, N = 21) = 0.01, p = .911, d...\n",
       "21  Tests of the simple effects of target conditio...\n",
       "22  In keeping with an absence of an effect of M1 ...\n",
       "23  A linear regression indicated that positive-ar...\n",
       "24  These effects were not significantly correlate...\n",
       "25  For gig workers, we found no evidence that exp...\n",
       "26  Further-although participant-centered valence ...\n",
       "27  In Experiment 3 (as in Experiment 2), this eff...\n",
       "28  In reward blocks, the results of Experiment 1 ...\n",
       "29  Although perceiving an opportunity to empathiz...\n",
       "30  The type of deprivation had specific effects o...\n",
       "31  Most importantly, neither the effect of the st...\n",
       "32  The results indicate that both participants in...\n",
       "33  This effect did not interact with the order of...\n",
       "34  Results were, again, more in line with a socio...\n",
       "35  However, an examination of the zero-order asso...\n",
       "36  We found that although participants became fas...\n",
       "37  In the recognition test, conducted after the s...\n",
       "38  Similarly, there was no association between CA...\n",
       "39  There was no interaction between age group and...\n",
       "40  On the other hand, hunger and desire for food ...\n",
       "41  Unlike RT, accuracy did not significantly diff...\n",
       "42  Conversely, and as predicted, the explicit rel...\n",
       "43  The response latencies of the low-AQ and high-...\n",
       "44  As in Study 1, individuals' risk and social pr...\n",
       "45  Results showed that for high-probability trial...\n",
       "46  Reaction time also did not predict pupil size ...\n",
       "47  Congruence did not affect measures of RT to ei...\n",
       "48  First fixation had no effect on choice when ti...\n",
       "49  Yet our preregistered analysis revealed that b...\n",
       "50  In addition, age of onset did not predict any ...\n",
       "51  As in Study 2a, identifiability reduced updati...\n",
       "52  Follow-up analyses showed that there was no Tr...\n",
       "53  There was no difference in the ratings given t...\n",
       "54  Also, when the analyses were limited to biased...\n",
       "55  There was no effect of search condition, F(1, ...\n",
       "56  Depending on the outcome measure, individuals ..."
      ]
     },
     "metadata": {},
     "output_type": "display_data"
    }
   ],
   "source": [
    "display_statements(true_positives, \"True Positives (predicted 1, actual 1)\")"
   ]
  },
  {
   "cell_type": "code",
   "execution_count": null,
   "id": "64f843b9",
   "metadata": {},
   "outputs": [
    {
     "name": "stdout",
     "output_type": "stream",
     "text": [
      "\n",
      "True Negatives (predicted 0, actual 0) (count: 61)\n"
     ]
    },
    {
     "data": {
      "application/vnd.microsoft.datawrangler.viewer.v0+json": {
       "columns": [
        {
         "name": "index",
         "rawType": "int64",
         "type": "integer"
        },
        {
         "name": "text",
         "rawType": "object",
         "type": "string"
        }
       ],
       "ref": "ca8252ea-e518-4ea4-b75c-69c103d2d3bf",
       "rows": [
        [
         "0",
         "Results revealed no significant relationship between age and enjoyment (Î² = 0.03, SE = 0.03, p = .219)."
        ],
        [
         "1",
         "Moreover, a second model-intended to ascertain the existence of any statistically significant SSA-V in the three groups-revealed that only the TS group, but not the CC group or the DC group, displayed a systematic SSA-V different from chance level (TS: Î² = 1.914, 95% CI = [1.267, 2.683], SE = 0.357, p < .001; CC: Î² = 0.208, 95% CI = [-0.523, 0.957], SE = 0.373, p = .578; DC: Î² = 0.337, 95% CI = [-0.468, 1.178], SE = 0.414, p = .416; see Fig. 2)."
        ],
        [
         "2",
         "Overall, RT was on average slower when sounds were played during the continuous report phase compared with the visual discrimination phase, but this difference in RT (i.e., having target images with lower levels of noise) was not statistically significant, t(84) = 1.58, p = .12, Cohen's d z = 0.17, 95% CI = [-0.817, 0.475], BF 01 = 2.55, and the numerical difference in RT did not lead to a significant difference in report error across sound-onset conditions (Ms = 7.38 vs. 7.54), t(84) = 0.62, p = .54, Cohen's d z = 0.06, 95% CI = [-0.85, 0.725], BF 01 = 6.94."
        ],
        [
         "3",
         "We also did not detect an interaction between the continuous measure of illness recency and attentional biases toward disfigured relative to typical faces, F(1, 400) = 0.16, Î· p 2 < .001, 90% CI = [0.000, 0.013], p = .691, and further, we did not detect a main effect of the continuous measure on response latencies, F(1, 400) = 1.06, Î· p 2 = .003, 90% CI = [.000, .022], p = .303."
        ],
        [
         "4",
         "Grip strength was negatively associated with anxiety in both men, r(147) = -.14, p = .082, and women, r(352) = -.10, p = .051, although these relationships did not individually reach significance."
        ],
        [
         "5",
         "The interaction between KoR on SOC in younger adults was statistically significant in RT, F(1, 49) = 15.45, p < .001, Î· p 2 = .240, but not in younger adults' accuracy, F(1, 49) = .04, p = .836, Î· p 2 = .001."
        ],
        [
         "6",
         "Finally, as in Study 1, we examined the relation between children's scores on the hammer-knocking task and their waiting times using a hierarchical Cox regression model, and again the model was not significant, Ï‡ 2 (3, N = 90) = 2.83, p = .419."
        ],
        [
         "7",
         "Importantly, there was no significant difference between the active learning and incidental learning conditions (p = .78); however, the Bayesian analysis did not provide evidence for or against this effect (BF 01 = 2.30)."
        ],
        [
         "8",
         "However, fixations on the nonface region did not significantly differ for high-variability videos (M = 18.71, SE = 2.29) and low-variability videos (M = 18.61, SE = 2.40), t(82) = 0.04, p = .968, Cohen's d = 0.01, a pattern consistent across age groups (see Fig. 4a)."
        ],
        [
         "9",
         "There was no significant difference between implicit and explicit experiments for low-synchrony trials, t(134) = -1,05 p = 1.0, d = 0.18, or high-synchrony trials, t(134) = -2.32, p = -.13, d = -0.4."
        ],
        [
         "10",
         "There were no significant differences between ratings for the aversive CS+ and the CS-(p = .330) or the neutral CS+ and the CS-(p = .170)."
        ],
        [
         "11",
         "For the RT analysis that included only correct next responses, the interaction was not significant (p = .051) when adolescents were included, but it was significant (p = .002) without them (i.e., when the \"extreme\" group was excluded; see above)."
        ],
        [
         "12",
         "There was no significant interaction, F(2.74, 76.68) = 0.76, p = .51, Î· p 2 = .026 (Greenhouse-Geisser corrected)."
        ],
        [
         "13",
         "Performance was fastest for the biggest and smallest positions compared with the inner positions, with no significant difference between the outer two positions, t(116) = -1.417, p = .62, and was slightly faster for sets with one dot, M = 970, SE = 30.60, 95% CI = [907, 1,032], compared with three dots, M = 1,015, SE = 30.6, 95% CI = [953, 1,077], and five dots, M = 1,004, SE = 30.6, 95% CI = 942, 1,066]."
        ],
        [
         "14",
         "The Visual Cue Ã— Choice Direction interaction was not significant, z = 0.86, exp(b) = 1.24, 95% CI = [0.76, 2.05], p = .391."
        ],
        [
         "15",
         "For data time-locked to template A (Fig. 5, left), mean phase angles were highly similar, and the Watson-Williams test yielded no significant difference, F(1, 48) = 0.46, p = .499."
        ],
        [
         "16",
         "There were no significant relationships between CP postjump-scare enjoyment and participant gender (p = .142) or motivation (p = .843)."
        ],
        [
         "17",
         "Crucially, there was no significant interaction between the neutral and proportional-decrease conditions, F(1, 1566) = 0.80, p = .371, Î· p 2 = .001."
        ],
        [
         "18",
         "When we compared the foreground and background conditions with the inconsistent condition, we found that at 50 ms, participants responded \"yes\" to the foreground condition more than the control condition, t(35) = 5.93, p < .001, d = 1.47, but interestingly, we did not see a significant difference in responses between the background and control conditions, t(35) = 1.30, p = .20, d = 0.29."
        ],
        [
         "19",
         "Responses to the direct question, \"What played a greater role in the decisionthe money to be earned or the work of filling out the survey?\" did not significantly differ under the two transaction frames, t(180) = 0.684, p = .495, Cohen's d = 0.10."
        ],
        [
         "20",
         "The receivers' zygomatic activity during touch was not overall significantly greater than baseline (EMM = .03, 95% CI = [-.03, .10]), t(28) = 1.02, p = .316, but did vary significantly with the cue, F(5, 920) = 7.04, p < .001 (Fig. 2a)."
        ],
        [
         "21",
         "Responses to the direct question, \"What played a greater role in the decision-the money to be earned or the work of filling out the survey?\" under the two transaction frames did not significantly differ, t(212) = 1.402, p = .162, Cohen's d = 0.196."
        ],
        [
         "22",
         "The triple interaction (Î² = -0.06, 95% CI = [-0.20, 0.08], p = .428) did not significantly improve the model compared to the model with only an interaction between ejection event and ejected team, likelihood ratio test Ï‡ 2 (4) = 3.53, p = .473."
        ],
        [
         "23",
         "In both-targets blocks, saccade latencies were smaller than in one-target blocks, but did not differ significantly for switch trials (M = 234 ms) and repeat trials (M = 232 ms), t(11) = 0.25, p > .250, Cohen's d = 0.09."
        ],
        [
         "24",
         "There were no significant differences by gender in the likelihood of challenging speakers (12% of men, 15% of women), b = 0.02, t(187) = 0.42, p = .676, 95% CI = [-0.09, 0.14]."
        ],
        [
         "25",
         "The two-way interaction between CRP and cancer-related stress was significant among women who scored low or average on the index of psychosocial resilience, b = 1.22, SE = 0.27, Î² = 0.096, t(611) = 4.53, p < .001, and b = 0.74, SE = 0.22, Î² = 0.059, t(610) = 3.32, p = .001, respectively, but not among women who scored high on the index of psychosocial resilience, b = 0.26, SE = 0.35, Î² = 0.020, t(610) = 0.74, p = .46."
        ],
        [
         "26",
         "No significant main effect of top-down signal availability was found, F(1, 38) = 2.60, p = .115, Î· p 2 = .06."
        ],
        [
         "27",
         "The interaction of Sex Ratio Ã— Participant Sex was not significant, F(2, 361) = 1.69, p = .19."
        ],
        [
         "28",
         "The Target Ã— Valence interaction was not significant, t(18.13) = 0.73, b = 0.21, 95% CI = [-0.36, 0.79], p = .476."
        ],
        [
         "29",
         "First, a correlational analysis between social self-esteem and real-face attractiveness revealed that these two variables were not significantly correlated, r(75) = .178, p = .121."
        ],
        [
         "30",
         "The percentage of children who waited for the full 15-min period did not differ significantly between the new aware condition (50%) and the unaware/additional rewards condition of Study 1 (33%; Z = -1.30, p = .194)."
        ],
        [
         "31",
         "The moderator tests were nonsignificant for both perceived scientific consensus, b = -0.13, t(23) = -0.17, p = .870, and factual beliefs, b = -0.02, t(26) = -0.07, p = .943."
        ],
        [
         "32",
         "However, no effect of arousal was found for unconditional penalties, t(24) = 1.16, p = .13."
        ],
        [
         "33",
         "This correlation, however, ceased to be significant when the analysis controlled for age, r = -.071, p = .058 (age correlated positively with fWHR and negatively with extraversion)."
        ],
        [
         "34",
         "The main effect of workload was not significant, F(1, 268) = 1.027, p = .312, Î· p 2 = .004."
        ],
        [
         "35",
         "There was not a significant difference between the high-pitch and low-pitch conditions, t(27) = 1.03, p = .31, Cohen's d = 0.19, Bonferroni corrected."
        ],
        [
         "36",
         "They were significantly below the physical of 4.1Â° in the two observation groups: video observation, t(29) = 5.452, p < .001, d = 0.995; live observation, t(33) = 3.009, p = .005, d = 0.516; but not in the interaction group, t(31) = 1.606, p = .118, d = 0.284."
        ],
        [
         "37",
         "Using multigroup models, the interaction between cumulative risk and negative parenting was nonsignificant regardless of treatment condition (Wald test: p = .95)."
        ],
        [
         "38",
         "Meta-regression indicated no significant moderating effect of preexisting perceptions of consensus, b = -0.84, t(35) = -1.44, p = .159."
        ],
        [
         "39",
         "The main effect of illness recency did not meet our preregistered threshold (p < .025)-recently ill: M = 661 ms, SD = 197; not recently ill: M = 626 ms, SD = 153, F(1, 400) = 4.23, Î· p 2 = .010, 90% CI = [.000, .039], p = .040-nor did the interaction between illness recency and face type (disfigured vs. typical), F(1, 400) = 1.87, Î· p 2 = .005, 90% CI = [.000, .027], p = .173."
        ],
        [
         "40",
         "Before creating the two-group structural equation model, we established that strong (scalar) measurement invariance was present for all latent variables in the model because constraining the unstandardized factor loadings and intercepts to be equal across groups resulted in no significant change in fit, Î”Ï‡ 2 (23) = 30.464, p = .137."
        ],
        [
         "41",
         "That is, analyses of both Emotionality (p = .676) and its Anxiety facet (p = .652) clearly failed to reach statistical significance, whereas both tests had an approximate statistical power (1 -Î²) of 92% for detecting a small effect (i.e., an OR of 1.25 for a z-standardized predictor)."
        ],
        [
         "42",
         "Opponent height was then added to the model but had no significant effect on coins kept for self in the dictator game, Wald Ï‡ 2 (1) = 1.61, b = -0.016, SE = 0.013, 95% CI = [-0.041, 0.009], p = .205 (QICc = 115.84)."
        ],
        [
         "43",
         "A multiple regression with grip strength and sex as predictors of anxiety revealed a negative effect of grip (Î² = -0.17, p = .008) and a positive, but nonsignificant, effect of being female (Î² = 0.12, p = .070)."
        ],
        [
         "44",
         "Neither participant sex, F = 0.004, p = .95, nor the interaction between sex ratio and participant sex were significant, F = 1.318, p = .26."
        ],
        [
         "45",
         "Although the means of the two liking ratings did not differ significantly, t(617) = 1.27, p = .20, d = 0.05, the baseline and postconversation liking measures were only moderately correlated (r = .48, p < .001)."
        ],
        [
         "46",
         "No significant gender differences emerged in anxiety (men: M = 0.45, women: M = 0.38, b = -0.31, Z = -0.76, p = .445, 95% CI = [-1.11, 0.49]), logistics (men: M = 0.07, women: M = 0.18, b = 1.05, Z = 1.53, p = .125, 95% CI = [-0.19, 2.59]), or preferring one-on-one conversations (men: M = 0.00, women: M = 0.03, b = 17.18, Z = 0.01, p = .995)."
        ],
        [
         "47",
         "Third, reaction times did not significantly predict pupil size at any of the time points (t < .96, p > .33)."
        ],
        [
         "48",
         "However, pupil dilation was not significantly different in the 10-pencegain condition (M = 376 units, SEM = 32) than in the 0-pence-gain condition (M = 369 units, SEM = 31), t(29) = 0.99, p = .17."
        ],
        [
         "49",
         "We confirmed with follow-up one-way ANOVAs that this was driven by a significant effect of familiarity on speech-intelligibility-benefit scores, F(2, 98) = 4.27, p = .017, Ï‰ p 2 = .04, 95% CI = [.00, .13], and a nonsignificant effect of familiarity on explicit-recognition scores, F(2, 98) = 0.15, p = .87, Ï‰ p 2 = .00, 95% CI = [.00, 1.00]."
        ]
       ],
       "shape": {
        "columns": 1,
        "rows": 61
       }
      },
      "text/html": [
       "<div>\n",
       "<style scoped>\n",
       "    .dataframe tbody tr th:only-of-type {\n",
       "        vertical-align: middle;\n",
       "    }\n",
       "\n",
       "    .dataframe tbody tr th {\n",
       "        vertical-align: top;\n",
       "    }\n",
       "\n",
       "    .dataframe thead th {\n",
       "        text-align: right;\n",
       "    }\n",
       "</style>\n",
       "<table border=\"1\" class=\"dataframe\">\n",
       "  <thead>\n",
       "    <tr style=\"text-align: right;\">\n",
       "      <th></th>\n",
       "      <th>text</th>\n",
       "    </tr>\n",
       "  </thead>\n",
       "  <tbody>\n",
       "    <tr>\n",
       "      <th>0</th>\n",
       "      <td>Results revealed no significant relationship b...</td>\n",
       "    </tr>\n",
       "    <tr>\n",
       "      <th>1</th>\n",
       "      <td>Moreover, a second model-intended to ascertain...</td>\n",
       "    </tr>\n",
       "    <tr>\n",
       "      <th>2</th>\n",
       "      <td>Overall, RT was on average slower when sounds ...</td>\n",
       "    </tr>\n",
       "    <tr>\n",
       "      <th>3</th>\n",
       "      <td>We also did not detect an interaction between ...</td>\n",
       "    </tr>\n",
       "    <tr>\n",
       "      <th>4</th>\n",
       "      <td>Grip strength was negatively associated with a...</td>\n",
       "    </tr>\n",
       "    <tr>\n",
       "      <th>...</th>\n",
       "      <td>...</td>\n",
       "    </tr>\n",
       "    <tr>\n",
       "      <th>56</th>\n",
       "      <td>When we resolved this interaction, results sho...</td>\n",
       "    </tr>\n",
       "    <tr>\n",
       "      <th>57</th>\n",
       "      <td>We found that sounds did not have a significan...</td>\n",
       "    </tr>\n",
       "    <tr>\n",
       "      <th>58</th>\n",
       "      <td>Again, contrary to expectations, our results r...</td>\n",
       "    </tr>\n",
       "    <tr>\n",
       "      <th>59</th>\n",
       "      <td>Meta-regression indicated no significant moder...</td>\n",
       "    </tr>\n",
       "    <tr>\n",
       "      <th>60</th>\n",
       "      <td>The overall interaction effect of Sex Ratio Ã—...</td>\n",
       "    </tr>\n",
       "  </tbody>\n",
       "</table>\n",
       "<p>61 rows × 1 columns</p>\n",
       "</div>"
      ],
      "text/plain": [
       "                                                 text\n",
       "0   Results revealed no significant relationship b...\n",
       "1   Moreover, a second model-intended to ascertain...\n",
       "2   Overall, RT was on average slower when sounds ...\n",
       "3   We also did not detect an interaction between ...\n",
       "4   Grip strength was negatively associated with a...\n",
       "..                                                ...\n",
       "56  When we resolved this interaction, results sho...\n",
       "57  We found that sounds did not have a significan...\n",
       "58  Again, contrary to expectations, our results r...\n",
       "59  Meta-regression indicated no significant moder...\n",
       "60  The overall interaction effect of Sex Ratio Ã—...\n",
       "\n",
       "[61 rows x 1 columns]"
      ]
     },
     "metadata": {},
     "output_type": "display_data"
    }
   ],
   "source": [
    "display_statements(true_negatives, \"True Negatives (predicted 0, actual 0)\")"
   ]
  },
  {
   "cell_type": "code",
   "execution_count": null,
   "id": "a79eca53",
   "metadata": {},
   "outputs": [
    {
     "name": "stdout",
     "output_type": "stream",
     "text": [
      "\n",
      "False Positives (predicted 1, actual 0) (count: 10)\n"
     ]
    },
    {
     "data": {
      "application/vnd.microsoft.datawrangler.viewer.v0+json": {
       "columns": [
        {
         "name": "index",
         "rawType": "int64",
         "type": "integer"
        },
        {
         "name": "text",
         "rawType": "object",
         "type": "string"
        }
       ],
       "ref": "23422d7a-d057-4993-b68b-9ecfcd71f6df",
       "rows": [
        [
         "0",
         "Again, results indicated that endorsement of direct aggression was higher for violations that targeted the self rather than another person, t(343) = -4.57, p < .001, d = -0.43, 95% CI = [-0.65, -0.22], whereas target condition did not have a significant effect on endorsement of indirect aggression, though the pattern of the means was in the opposing direction, t(343) = 1.03, p > .25, d = 0.10, 95% CI = [-0.11, 0.31] (see Fig."
        ],
        [
         "1",
         "Leader narcissism levels also did not significantly predict the odds that a group would arrive at the correct decision, OR = 1.03, b = 0.03, 95% CI = [-0.38, 0.44], p = .898."
        ],
        [
         "2",
         "However, there was not a significant effect of time delay on punishment in the fair condition, F(1, 3058) = 0.84, p = .36, Î· p 2 = .00, as participants in the long-time-delay condition (M = 0.79, SD = 2.16) levied equally severe punishment as those in the short-time-delay condition (M = 0.91, SD = 2.25; see Fig. 2)."
        ],
        [
         "3",
         "However, interestingly, there was no significant association between the participant's verbal and nonverbal behaviors, r(246) = .07, 95% CI = [-.06, .19], p = .301, which underlines the importance of coding both behaviors separately."
        ],
        [
         "4",
         "Effects of reference and congruency were not significant over left sensors-reference: F(1, 45) = 2.37, p = .131, Î· p Â² = .050; congruency: F(2, 90) = 0.99, p = .377, Î· p Â² = .021-but reached significance over right sensors-reference: F(1, 45) = 17.86, p < .001, Î· p Â² = .284; congruency: F(2, 90) = 9.21, p < .001, Î· p Â² = .170 (see Fig."
        ],
        [
         "5",
         "That is, participants' implicit partner evaluations were significantly associated with their spontaneous nonverbal behavior in dyadic interactions, b = 0.33, SE = 0.14, 95% CI = [0.06, 0.61], p = .019, Î² = 0.12, but not their controlled verbal statements, b = -0.03, SE = 0.14, 95% CI = [-0.31, 0.24], p = .808, Î² = -0.01."
        ],
        [
         "6",
         "Hedonic-app usage remained a significant negative predictor of perceived risk (p < .05), but communications-app usage was no longer a significant predictor (p = .14), perhaps because our measure of initial fear also measured the dependent variable, perceived threat."
        ],
        [
         "7",
         "For low-probability trials, we also found no difference in RTs between trials that were preceded by a low-probability trial (2.46 s, SD = 1.40) and those preceded by a high-probability trial (2.56 s, SD = 1.22), t(23) = 0.76, p = .452, Cohen's d = 0.16, 95% CI = [-0.16, 0.35]."
        ],
        [
         "8",
         "In Experiment 2 (but not Experiment 1), there was also a significant negative effect of Pr(win)-Experiment 1: Ï‡ 2 (1) = 0.16, Î² = -0.05, SE = 0.06, p = .69; Experiment 2: Ï‡ 2 (1) = 4.42, Î² = -0.39, SE = 0.18, p = .04-indicating that participants were more likely to cash out on average when they had a lower chance of winning the bet."
        ],
        [
         "9",
         "Results suggested that among the Ackerman stimuli, angry faces were rated as more unusual than neutral faces, F(1, 28) = 83.95, p < .001, Î· p 2 = .75, 95% CI = [0.57, 0.84], but this was not significantly (albeit descriptively) moderated by target race, F(1, 28) = 4.15, p = .051."
        ]
       ],
       "shape": {
        "columns": 1,
        "rows": 10
       }
      },
      "text/html": [
       "<div>\n",
       "<style scoped>\n",
       "    .dataframe tbody tr th:only-of-type {\n",
       "        vertical-align: middle;\n",
       "    }\n",
       "\n",
       "    .dataframe tbody tr th {\n",
       "        vertical-align: top;\n",
       "    }\n",
       "\n",
       "    .dataframe thead th {\n",
       "        text-align: right;\n",
       "    }\n",
       "</style>\n",
       "<table border=\"1\" class=\"dataframe\">\n",
       "  <thead>\n",
       "    <tr style=\"text-align: right;\">\n",
       "      <th></th>\n",
       "      <th>text</th>\n",
       "    </tr>\n",
       "  </thead>\n",
       "  <tbody>\n",
       "    <tr>\n",
       "      <th>0</th>\n",
       "      <td>Again, results indicated that endorsement of d...</td>\n",
       "    </tr>\n",
       "    <tr>\n",
       "      <th>1</th>\n",
       "      <td>Leader narcissism levels also did not signific...</td>\n",
       "    </tr>\n",
       "    <tr>\n",
       "      <th>2</th>\n",
       "      <td>However, there was not a significant effect of...</td>\n",
       "    </tr>\n",
       "    <tr>\n",
       "      <th>3</th>\n",
       "      <td>However, interestingly, there was no significa...</td>\n",
       "    </tr>\n",
       "    <tr>\n",
       "      <th>4</th>\n",
       "      <td>Effects of reference and congruency were not s...</td>\n",
       "    </tr>\n",
       "    <tr>\n",
       "      <th>5</th>\n",
       "      <td>That is, participants' implicit partner evalua...</td>\n",
       "    </tr>\n",
       "    <tr>\n",
       "      <th>6</th>\n",
       "      <td>Hedonic-app usage remained a significant negat...</td>\n",
       "    </tr>\n",
       "    <tr>\n",
       "      <th>7</th>\n",
       "      <td>For low-probability trials, we also found no d...</td>\n",
       "    </tr>\n",
       "    <tr>\n",
       "      <th>8</th>\n",
       "      <td>In Experiment 2 (but not Experiment 1), there ...</td>\n",
       "    </tr>\n",
       "    <tr>\n",
       "      <th>9</th>\n",
       "      <td>Results suggested that among the Ackerman stim...</td>\n",
       "    </tr>\n",
       "  </tbody>\n",
       "</table>\n",
       "</div>"
      ],
      "text/plain": [
       "                                                text\n",
       "0  Again, results indicated that endorsement of d...\n",
       "1  Leader narcissism levels also did not signific...\n",
       "2  However, there was not a significant effect of...\n",
       "3  However, interestingly, there was no significa...\n",
       "4  Effects of reference and congruency were not s...\n",
       "5  That is, participants' implicit partner evalua...\n",
       "6  Hedonic-app usage remained a significant negat...\n",
       "7  For low-probability trials, we also found no d...\n",
       "8  In Experiment 2 (but not Experiment 1), there ...\n",
       "9  Results suggested that among the Ackerman stim..."
      ]
     },
     "metadata": {},
     "output_type": "display_data"
    }
   ],
   "source": [
    "display_statements(false_positives, \"False Positives (predicted 1, actual 0)\")"
   ]
  },
  {
   "cell_type": "code",
   "execution_count": null,
   "id": "9b473d8e",
   "metadata": {},
   "outputs": [
    {
     "name": "stdout",
     "output_type": "stream",
     "text": [
      "\n",
      "False Negatives (predicted 0, actual 1) (count: 13)\n"
     ]
    },
    {
     "data": {
      "application/vnd.microsoft.datawrangler.viewer.v0+json": {
       "columns": [
        {
         "name": "index",
         "rawType": "int64",
         "type": "integer"
        },
        {
         "name": "text",
         "rawType": "object",
         "type": "string"
        }
       ],
       "ref": "493d5876-4457-41db-ac84-d4a4b7b18875",
       "rows": [
        [
         "0",
         "As before, this interaction resulted from a significant length effect for pseudowords (five-letter strings: M = 19.30%, SD = 10.40; three-letter strings: M = 15.68%, SD = 7.69), t(29) = -4.52, p < .001, but not for real words (three letters: M = 14.67%, SD = 8.29; five letters: M = 15.24%, SD = 7.04), t(29) = -0.67, p = .51."
        ],
        [
         "1",
         "First, participant height (added as a fixed factor to the intercept-only model) had no effect on aggressive behavior, Wald Ï‡ 2 (1) = 0.10, b = -0.024, SE = 0.074, 95% CI = [-0.169, 0.122], p = .749 (QICc = 166.91)."
        ],
        [
         "2",
         "We also confirmed the predicted familiarity-by-length interaction, F(1, 19) = 10.57, p = .004, Î· p 2 = .36, OP = .87, indicating a length effect for pseudowords (five-letter strings: M = 5.93%, SD = 5.06; three-letter strings: M = 4.62%, SD = 3.90), t(19) = -2.48, p = .02, but not for real words (five-letter strings: M = 4.01%, SD = 3.08; three-letter strings: M = 4.26%, SD = 2.98), t(19) = 1.13, p = .27."
        ],
        [
         "3",
         "A two-way mixed ANOVA investigating whether performance during training differed across groups (quiet, babble; between subjects) and familiarity conditions (most familiar, moderately familiar, least familiar; within subjects) revealed no effect of group, F(1, 48) = 0.36, p = .55, Ï‰ p 2 = -.01, 95% CI = [.00, 1.00], 1 and no significant interaction between group and familiarity, F(2, 96) = 0.21, p = .81, Ï‰ p 2 = -.01, 95% CI = [.00, 1.00]."
        ],
        [
         "4",
         "Crucially, we found no correlation between the mean of sham and the effect of alpha tACS-Pearson's r(28) = .097, p = .610; Spearman's Ï = -.016, p = .932; N = 30, suggesting that a larger overestimation in the sham tACS condition corresponded to a larger beta-related underestimation."
        ],
        [
         "5",
         "The third model added the remaining task variables (right-ear syllables in the nonforced condition of the dichotic-listening task, mean span in the digit-span task, imagine-to-hear errors in the source-memory task) and did not improve on the signal detection model (p = .965)."
        ],
        [
         "6",
         "Simple-slopes analysis revealed that participants scoring higher on trait sociability (+1 SD) reported lower energetic arousal on social isolation days compared with baseline days, Î² = -4.69, SE = 1.84, t(69.16) = -2.55, p = .013, but this was not the case for those scoring lower (-1 SD) on sociability, Î² = 0.70, SE = 1.79, t(69.16) = 0.39, p = .696."
        ],
        [
         "7",
         "Further, self-views of empathic accuracy were more strongly correlated with self-rated life satisfaction (z = 2.95, p < .01), but not more strongly correlated with peer-rated life satisfaction (z = 1.52, p = .13), than selfviews about cognitive ability."
        ],
        [
         "8",
         "However, the absence of a postresponse effect of TMS on meta-dâ€²/dâ€² should be interpreted with caution, as the Congruence Ã— Time interaction was not significant, F(1, 34) = 2.21, p = .15, Î· p 2 = .06."
        ],
        [
         "9",
         "A second analysis to test for the presence of an SSA-H in each of the five groups revealed that only the TS and the LB groups exhibited a significant SSA-H at a higher-than-chance level (TS: Î² = 5.086, 95% CI = [3.584, 6.881], SE = 0.841, p < .001; LB: Î² = 3.287, 95% CI = [0.289, 6.589], SE = 1.614, p = .042), whereas the CC, the DC, and the CB groups did not perform differently from chance level (CC: Î² = 1.230, 95% CI = [-0.479, 3.210], SE = 0.887, p = .165; DC: Î² = 0.287, 95% CI = [-1.840, 2.510], SE = 1.035, p = .782; CB: Î² = 1.465, 95% CI = [-0.989, 4.265], SE = 1.265, p = .247)."
        ],
        [
         "10",
         "When we added hours of practice to the analyses, the results did not change (Î² = 0.01, p = .87)."
        ],
        [
         "11",
         "The inclusion of time (Model 1; see Table 2) did not improve the model, Ï‡ 2 (1) = 1.13, p = .288, but time was retained as a control variable."
        ],
        [
         "12",
         "Our assertion was supported in RTs (classic false belief: M = 978.53 ms; novel false belief: M = 1,033.99 ms; mean difference = 55.46 ms), t(99) = 5.20, p < .001, d = 0.141, and although not statistically significant in accuracy, the direction was consistent with the RT data, ruling out a speed/accuracy trade-off (classic false belief: M = 5.00% errors; novel false belief: M = 6.45% errors; mean difference = 1.45%), t(99) = 1.83, p = .070."
        ]
       ],
       "shape": {
        "columns": 1,
        "rows": 13
       }
      },
      "text/html": [
       "<div>\n",
       "<style scoped>\n",
       "    .dataframe tbody tr th:only-of-type {\n",
       "        vertical-align: middle;\n",
       "    }\n",
       "\n",
       "    .dataframe tbody tr th {\n",
       "        vertical-align: top;\n",
       "    }\n",
       "\n",
       "    .dataframe thead th {\n",
       "        text-align: right;\n",
       "    }\n",
       "</style>\n",
       "<table border=\"1\" class=\"dataframe\">\n",
       "  <thead>\n",
       "    <tr style=\"text-align: right;\">\n",
       "      <th></th>\n",
       "      <th>text</th>\n",
       "    </tr>\n",
       "  </thead>\n",
       "  <tbody>\n",
       "    <tr>\n",
       "      <th>0</th>\n",
       "      <td>As before, this interaction resulted from a si...</td>\n",
       "    </tr>\n",
       "    <tr>\n",
       "      <th>1</th>\n",
       "      <td>First, participant height (added as a fixed fa...</td>\n",
       "    </tr>\n",
       "    <tr>\n",
       "      <th>2</th>\n",
       "      <td>We also confirmed the predicted familiarity-by...</td>\n",
       "    </tr>\n",
       "    <tr>\n",
       "      <th>3</th>\n",
       "      <td>A two-way mixed ANOVA investigating whether pe...</td>\n",
       "    </tr>\n",
       "    <tr>\n",
       "      <th>4</th>\n",
       "      <td>Crucially, we found no correlation between the...</td>\n",
       "    </tr>\n",
       "    <tr>\n",
       "      <th>5</th>\n",
       "      <td>The third model added the remaining task varia...</td>\n",
       "    </tr>\n",
       "    <tr>\n",
       "      <th>6</th>\n",
       "      <td>Simple-slopes analysis revealed that participa...</td>\n",
       "    </tr>\n",
       "    <tr>\n",
       "      <th>7</th>\n",
       "      <td>Further, self-views of empathic accuracy were ...</td>\n",
       "    </tr>\n",
       "    <tr>\n",
       "      <th>8</th>\n",
       "      <td>However, the absence of a postresponse effect ...</td>\n",
       "    </tr>\n",
       "    <tr>\n",
       "      <th>9</th>\n",
       "      <td>A second analysis to test for the presence of ...</td>\n",
       "    </tr>\n",
       "    <tr>\n",
       "      <th>10</th>\n",
       "      <td>When we added hours of practice to the analyse...</td>\n",
       "    </tr>\n",
       "    <tr>\n",
       "      <th>11</th>\n",
       "      <td>The inclusion of time (Model 1; see Table 2) d...</td>\n",
       "    </tr>\n",
       "    <tr>\n",
       "      <th>12</th>\n",
       "      <td>Our assertion was supported in RTs (classic fa...</td>\n",
       "    </tr>\n",
       "  </tbody>\n",
       "</table>\n",
       "</div>"
      ],
      "text/plain": [
       "                                                 text\n",
       "0   As before, this interaction resulted from a si...\n",
       "1   First, participant height (added as a fixed fa...\n",
       "2   We also confirmed the predicted familiarity-by...\n",
       "3   A two-way mixed ANOVA investigating whether pe...\n",
       "4   Crucially, we found no correlation between the...\n",
       "5   The third model added the remaining task varia...\n",
       "6   Simple-slopes analysis revealed that participa...\n",
       "7   Further, self-views of empathic accuracy were ...\n",
       "8   However, the absence of a postresponse effect ...\n",
       "9   A second analysis to test for the presence of ...\n",
       "10  When we added hours of practice to the analyse...\n",
       "11  The inclusion of time (Model 1; see Table 2) d...\n",
       "12  Our assertion was supported in RTs (classic fa..."
      ]
     },
     "metadata": {},
     "output_type": "display_data"
    }
   ],
   "source": [
    "display_statements(false_negatives, \"False Negatives (predicted 0, actual 1)\")"
   ]
  },
  {
   "cell_type": "markdown",
   "id": "bb5611fc",
   "metadata": {},
   "source": [
    "## 4 Storing results"
   ]
  },
  {
   "cell_type": "markdown",
   "id": "662bc44e",
   "metadata": {},
   "source": [
    "### 4.1 Performance over the epochs"
   ]
  },
  {
   "cell_type": "code",
   "execution_count": null,
   "id": "6095901e",
   "metadata": {},
   "outputs": [
    {
     "name": "stdout",
     "output_type": "stream",
     "text": [
      "     loss  grad_norm  learning_rate  epoch  step  eval_loss  eval_accuracy  \\\n",
      "0  0.7015   4.142504       0.000018    1.0    16        NaN            NaN   \n",
      "1     NaN        NaN            NaN    1.0    16   0.695049       0.473684   \n",
      "2  0.6879   5.187061       0.000016    2.0    32        NaN            NaN   \n",
      "3     NaN        NaN            NaN    2.0    32   0.688568       0.561404   \n",
      "4  0.6552   5.379740       0.000014    3.0    48        NaN            NaN   \n",
      "\n",
      "   eval_precision  eval_recall   eval_f1  eval_runtime  \\\n",
      "0             NaN          NaN       NaN           NaN   \n",
      "1        0.488372     0.724138  0.583333        0.6243   \n",
      "2             NaN          NaN       NaN           NaN   \n",
      "3        0.642857     0.310345  0.418605        0.6360   \n",
      "4             NaN          NaN       NaN           NaN   \n",
      "\n",
      "   eval_samples_per_second  eval_steps_per_second  train_runtime  \\\n",
      "0                      NaN                    NaN            NaN   \n",
      "1                    91.30                  3.204            NaN   \n",
      "2                      NaN                    NaN            NaN   \n",
      "3                    89.63                  3.145            NaN   \n",
      "4                      NaN                    NaN            NaN   \n",
      "\n",
      "   train_samples_per_second  train_steps_per_second  total_flos  train_loss  \n",
      "0                       NaN                     NaN         NaN         NaN  \n",
      "1                       NaN                     NaN         NaN         NaN  \n",
      "2                       NaN                     NaN         NaN         NaN  \n",
      "3                       NaN                     NaN         NaN         NaN  \n",
      "4                       NaN                     NaN         NaN         NaN  \n"
     ]
    }
   ],
   "source": [
    "# Save log history\n",
    "log_history = trainer.state.log_history\n",
    "\n",
    "# Convert to DataFrame\n",
    "log_df = pd.DataFrame(log_history)\n",
    "\n",
    "# Save to CSV in 'results_path' folder\n",
    "log_df.to_csv((log_path := Path(results_path) / \"model_training_history\").mkdir(parents=True, exist_ok=True) or log_path / \"PubMedBERT.csv\", index=False)\n",
    "\n",
    "# Display the first few rows\n",
    "print(log_df.head())"
   ]
  },
  {
   "cell_type": "markdown",
   "id": "c46b6e7d",
   "metadata": {},
   "source": [
    "### 4.2 Final performance on test set"
   ]
  },
  {
   "cell_type": "code",
   "execution_count": null,
   "id": "facd4cfa",
   "metadata": {},
   "outputs": [],
   "source": [
    "# Save human and BERT labels on test set\n",
    "predictions_df = pd.DataFrame({\n",
    "    \"statement\": test_df['text'],\n",
    "    \"human_label\": GT_test,\n",
    "    \"BERT_label\": test_preds\n",
    "})\n",
    "predictions_df.to_csv((pred_path := Path(results_path) / \"test_predictions\").mkdir(parents=True, exist_ok=True) or pred_path / \"PubMedBERT.csv\", index=False)"
   ]
  },
  {
   "cell_type": "code",
   "execution_count": null,
   "id": "a74d4d6d",
   "metadata": {},
   "outputs": [],
   "source": [
    "import glob\n",
    "import shutil\n",
    "\n",
    "# If save_checkpoints is False, delete all checkpoint folders\n",
    "if save_checkpoints is False:\n",
    "    checkpoint_paths = glob.glob('./results/PubMedBERT/checkpoint-*')\n",
    "    for path in checkpoint_paths:\n",
    "        shutil.rmtree(path)  # Remove the entire folder and contents\n",
    "        print(f\"Removed {path}\")"
   ]
  },
  {
   "cell_type": "code",
   "execution_count": null,
   "id": "56e5e265",
   "metadata": {},
   "outputs": [],
   "source": [
    "# The end..."
   ]
  }
 ],
 "metadata": {
  "kernelspec": {
   "display_name": "Python (nonsig-venv)",
   "language": "python",
   "name": "nonsig-venv"
  },
  "language_info": {
   "codemirror_mode": {
    "name": "ipython",
    "version": 3
   },
   "file_extension": ".py",
   "mimetype": "text/x-python",
   "name": "python",
   "nbconvert_exporter": "python",
   "pygments_lexer": "ipython3",
   "version": "3.12.10"
  }
 },
 "nbformat": 4,
 "nbformat_minor": 5
}
