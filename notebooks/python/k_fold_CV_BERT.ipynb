{
 "cells": [
  {
   "cell_type": "markdown",
   "id": "5e0f8a44",
   "metadata": {},
   "source": [
    "# k fold cross-validation for BERT\n",
    "\n",
    "--> Code from: https://vtiya.medium.com/lets-code-k-fold-validation-on-bert-722f9438f932"
   ]
  },
  {
   "cell_type": "markdown",
   "id": "ef72840b",
   "metadata": {},
   "source": [
    "## 0. Setup"
   ]
  },
  {
   "cell_type": "markdown",
   "id": "32992dd0",
   "metadata": {},
   "source": [
    "### 0.1 Install libraries"
   ]
  },
  {
   "cell_type": "code",
   "execution_count": 22,
   "id": "da13a949",
   "metadata": {},
   "outputs": [
    {
     "name": "stdout",
     "output_type": "stream",
     "text": [
      "Requirement already satisfied: absl-py==2.3.1 in c:\\users\\raphael\\documents\\github\\nonsig-master-thesis\\venv\\lib\\site-packages (from -r requirements.txt (line 1)) (2.3.1)\n",
      "Requirement already satisfied: accelerate==1.8.1 in c:\\users\\raphael\\documents\\github\\nonsig-master-thesis\\venv\\lib\\site-packages (from -r requirements.txt (line 2)) (1.8.1)\n",
      "Requirement already satisfied: aiohappyeyeballs==2.6.1 in c:\\users\\raphael\\documents\\github\\nonsig-master-thesis\\venv\\lib\\site-packages (from -r requirements.txt (line 3)) (2.6.1)\n",
      "Requirement already satisfied: aiohttp==3.12.13 in c:\\users\\raphael\\documents\\github\\nonsig-master-thesis\\venv\\lib\\site-packages (from -r requirements.txt (line 4)) (3.12.13)\n",
      "Requirement already satisfied: aiosignal==1.4.0 in c:\\users\\raphael\\documents\\github\\nonsig-master-thesis\\venv\\lib\\site-packages (from -r requirements.txt (line 5)) (1.4.0)\n",
      "Requirement already satisfied: asttokens==3.0.0 in c:\\users\\raphael\\documents\\github\\nonsig-master-thesis\\venv\\lib\\site-packages (from -r requirements.txt (line 6)) (3.0.0)\n",
      "Requirement already satisfied: astunparse==1.6.3 in c:\\users\\raphael\\documents\\github\\nonsig-master-thesis\\venv\\lib\\site-packages (from -r requirements.txt (line 7)) (1.6.3)\n",
      "Requirement already satisfied: attrs==25.3.0 in c:\\users\\raphael\\documents\\github\\nonsig-master-thesis\\venv\\lib\\site-packages (from -r requirements.txt (line 8)) (25.3.0)\n",
      "Requirement already satisfied: certifi==2025.6.15 in c:\\users\\raphael\\documents\\github\\nonsig-master-thesis\\venv\\lib\\site-packages (from -r requirements.txt (line 9)) (2025.6.15)\n",
      "Requirement already satisfied: charset-normalizer==3.4.2 in c:\\users\\raphael\\documents\\github\\nonsig-master-thesis\\venv\\lib\\site-packages (from -r requirements.txt (line 10)) (3.4.2)\n",
      "Requirement already satisfied: colorama==0.4.6 in c:\\users\\raphael\\documents\\github\\nonsig-master-thesis\\venv\\lib\\site-packages (from -r requirements.txt (line 11)) (0.4.6)\n",
      "Requirement already satisfied: comm==0.2.2 in c:\\users\\raphael\\documents\\github\\nonsig-master-thesis\\venv\\lib\\site-packages (from -r requirements.txt (line 12)) (0.2.2)\n",
      "Requirement already satisfied: contourpy==1.3.2 in c:\\users\\raphael\\documents\\github\\nonsig-master-thesis\\venv\\lib\\site-packages (from -r requirements.txt (line 13)) (1.3.2)\n",
      "Requirement already satisfied: cycler==0.12.1 in c:\\users\\raphael\\documents\\github\\nonsig-master-thesis\\venv\\lib\\site-packages (from -r requirements.txt (line 14)) (0.12.1)\n",
      "Requirement already satisfied: datasets==3.6.0 in c:\\users\\raphael\\documents\\github\\nonsig-master-thesis\\venv\\lib\\site-packages (from -r requirements.txt (line 15)) (3.6.0)\n",
      "Requirement already satisfied: debugpy==1.8.14 in c:\\users\\raphael\\documents\\github\\nonsig-master-thesis\\venv\\lib\\site-packages (from -r requirements.txt (line 16)) (1.8.14)\n",
      "Requirement already satisfied: decorator==5.2.1 in c:\\users\\raphael\\documents\\github\\nonsig-master-thesis\\venv\\lib\\site-packages (from -r requirements.txt (line 17)) (5.2.1)\n",
      "Requirement already satisfied: dill==0.3.8 in c:\\users\\raphael\\documents\\github\\nonsig-master-thesis\\venv\\lib\\site-packages (from -r requirements.txt (line 18)) (0.3.8)\n",
      "Requirement already satisfied: et_xmlfile==2.0.0 in c:\\users\\raphael\\documents\\github\\nonsig-master-thesis\\venv\\lib\\site-packages (from -r requirements.txt (line 19)) (2.0.0)\n",
      "Requirement already satisfied: evaluate==0.4.4 in c:\\users\\raphael\\documents\\github\\nonsig-master-thesis\\venv\\lib\\site-packages (from -r requirements.txt (line 20)) (0.4.4)\n",
      "Requirement already satisfied: executing==2.2.0 in c:\\users\\raphael\\documents\\github\\nonsig-master-thesis\\venv\\lib\\site-packages (from -r requirements.txt (line 21)) (2.2.0)\n",
      "Requirement already satisfied: filelock==3.18.0 in c:\\users\\raphael\\documents\\github\\nonsig-master-thesis\\venv\\lib\\site-packages (from -r requirements.txt (line 22)) (3.18.0)\n",
      "Requirement already satisfied: flatbuffers==25.2.10 in c:\\users\\raphael\\documents\\github\\nonsig-master-thesis\\venv\\lib\\site-packages (from -r requirements.txt (line 23)) (25.2.10)\n",
      "Requirement already satisfied: fonttools==4.58.5 in c:\\users\\raphael\\documents\\github\\nonsig-master-thesis\\venv\\lib\\site-packages (from -r requirements.txt (line 24)) (4.58.5)\n",
      "Requirement already satisfied: frozenlist==1.7.0 in c:\\users\\raphael\\documents\\github\\nonsig-master-thesis\\venv\\lib\\site-packages (from -r requirements.txt (line 25)) (1.7.0)\n",
      "Requirement already satisfied: fsspec==2025.3.0 in c:\\users\\raphael\\documents\\github\\nonsig-master-thesis\\venv\\lib\\site-packages (from -r requirements.txt (line 26)) (2025.3.0)\n",
      "Requirement already satisfied: gast==0.6.0 in c:\\users\\raphael\\documents\\github\\nonsig-master-thesis\\venv\\lib\\site-packages (from -r requirements.txt (line 27)) (0.6.0)\n",
      "Requirement already satisfied: google-pasta==0.2.0 in c:\\users\\raphael\\documents\\github\\nonsig-master-thesis\\venv\\lib\\site-packages (from -r requirements.txt (line 28)) (0.2.0)\n",
      "Requirement already satisfied: grpcio==1.73.1 in c:\\users\\raphael\\documents\\github\\nonsig-master-thesis\\venv\\lib\\site-packages (from -r requirements.txt (line 29)) (1.73.1)\n",
      "Requirement already satisfied: h5py==3.14.0 in c:\\users\\raphael\\documents\\github\\nonsig-master-thesis\\venv\\lib\\site-packages (from -r requirements.txt (line 30)) (3.14.0)\n",
      "Requirement already satisfied: huggingface-hub==0.33.2 in c:\\users\\raphael\\documents\\github\\nonsig-master-thesis\\venv\\lib\\site-packages (from -r requirements.txt (line 31)) (0.33.2)\n",
      "Requirement already satisfied: idna==3.10 in c:\\users\\raphael\\documents\\github\\nonsig-master-thesis\\venv\\lib\\site-packages (from -r requirements.txt (line 32)) (3.10)\n",
      "Requirement already satisfied: ipykernel==6.29.5 in c:\\users\\raphael\\documents\\github\\nonsig-master-thesis\\venv\\lib\\site-packages (from -r requirements.txt (line 33)) (6.29.5)\n",
      "Requirement already satisfied: ipython==9.4.0 in c:\\users\\raphael\\documents\\github\\nonsig-master-thesis\\venv\\lib\\site-packages (from -r requirements.txt (line 34)) (9.4.0)\n",
      "Requirement already satisfied: ipython_pygments_lexers==1.1.1 in c:\\users\\raphael\\documents\\github\\nonsig-master-thesis\\venv\\lib\\site-packages (from -r requirements.txt (line 35)) (1.1.1)\n",
      "Requirement already satisfied: jedi==0.19.2 in c:\\users\\raphael\\documents\\github\\nonsig-master-thesis\\venv\\lib\\site-packages (from -r requirements.txt (line 36)) (0.19.2)\n",
      "Requirement already satisfied: Jinja2==3.1.6 in c:\\users\\raphael\\documents\\github\\nonsig-master-thesis\\venv\\lib\\site-packages (from -r requirements.txt (line 37)) (3.1.6)\n",
      "Requirement already satisfied: joblib==1.5.1 in c:\\users\\raphael\\documents\\github\\nonsig-master-thesis\\venv\\lib\\site-packages (from -r requirements.txt (line 38)) (1.5.1)\n",
      "Requirement already satisfied: jupyter_client==8.6.3 in c:\\users\\raphael\\documents\\github\\nonsig-master-thesis\\venv\\lib\\site-packages (from -r requirements.txt (line 39)) (8.6.3)\n",
      "Requirement already satisfied: jupyter_core==5.8.1 in c:\\users\\raphael\\documents\\github\\nonsig-master-thesis\\venv\\lib\\site-packages (from -r requirements.txt (line 40)) (5.8.1)\n",
      "Requirement already satisfied: keras==3.10.0 in c:\\users\\raphael\\documents\\github\\nonsig-master-thesis\\venv\\lib\\site-packages (from -r requirements.txt (line 41)) (3.10.0)\n",
      "Requirement already satisfied: kiwisolver==1.4.8 in c:\\users\\raphael\\documents\\github\\nonsig-master-thesis\\venv\\lib\\site-packages (from -r requirements.txt (line 42)) (1.4.8)\n",
      "Requirement already satisfied: libclang==18.1.1 in c:\\users\\raphael\\documents\\github\\nonsig-master-thesis\\venv\\lib\\site-packages (from -r requirements.txt (line 43)) (18.1.1)\n",
      "Requirement already satisfied: Markdown==3.8.2 in c:\\users\\raphael\\documents\\github\\nonsig-master-thesis\\venv\\lib\\site-packages (from -r requirements.txt (line 44)) (3.8.2)\n",
      "Requirement already satisfied: markdown-it-py==3.0.0 in c:\\users\\raphael\\documents\\github\\nonsig-master-thesis\\venv\\lib\\site-packages (from -r requirements.txt (line 45)) (3.0.0)\n",
      "Requirement already satisfied: MarkupSafe==3.0.2 in c:\\users\\raphael\\documents\\github\\nonsig-master-thesis\\venv\\lib\\site-packages (from -r requirements.txt (line 46)) (3.0.2)\n",
      "Requirement already satisfied: matplotlib==3.10.3 in c:\\users\\raphael\\documents\\github\\nonsig-master-thesis\\venv\\lib\\site-packages (from -r requirements.txt (line 47)) (3.10.3)\n",
      "Requirement already satisfied: matplotlib-inline==0.1.7 in c:\\users\\raphael\\documents\\github\\nonsig-master-thesis\\venv\\lib\\site-packages (from -r requirements.txt (line 48)) (0.1.7)\n",
      "Requirement already satisfied: mdurl==0.1.2 in c:\\users\\raphael\\documents\\github\\nonsig-master-thesis\\venv\\lib\\site-packages (from -r requirements.txt (line 49)) (0.1.2)\n",
      "Requirement already satisfied: ml_dtypes==0.5.1 in c:\\users\\raphael\\documents\\github\\nonsig-master-thesis\\venv\\lib\\site-packages (from -r requirements.txt (line 50)) (0.5.1)\n",
      "Requirement already satisfied: mpmath==1.3.0 in c:\\users\\raphael\\documents\\github\\nonsig-master-thesis\\venv\\lib\\site-packages (from -r requirements.txt (line 51)) (1.3.0)\n",
      "Requirement already satisfied: multidict==6.6.3 in c:\\users\\raphael\\documents\\github\\nonsig-master-thesis\\venv\\lib\\site-packages (from -r requirements.txt (line 52)) (6.6.3)\n",
      "Requirement already satisfied: multiprocess==0.70.16 in c:\\users\\raphael\\documents\\github\\nonsig-master-thesis\\venv\\lib\\site-packages (from -r requirements.txt (line 53)) (0.70.16)\n",
      "Requirement already satisfied: namex==0.1.0 in c:\\users\\raphael\\documents\\github\\nonsig-master-thesis\\venv\\lib\\site-packages (from -r requirements.txt (line 54)) (0.1.0)\n",
      "Requirement already satisfied: nest-asyncio==1.6.0 in c:\\users\\raphael\\documents\\github\\nonsig-master-thesis\\venv\\lib\\site-packages (from -r requirements.txt (line 55)) (1.6.0)\n",
      "Requirement already satisfied: networkx==3.5 in c:\\users\\raphael\\documents\\github\\nonsig-master-thesis\\venv\\lib\\site-packages (from -r requirements.txt (line 56)) (3.5)\n",
      "Requirement already satisfied: numpy==2.1.3 in c:\\users\\raphael\\documents\\github\\nonsig-master-thesis\\venv\\lib\\site-packages (from -r requirements.txt (line 57)) (2.1.3)\n",
      "Requirement already satisfied: openpyxl==3.1.5 in c:\\users\\raphael\\documents\\github\\nonsig-master-thesis\\venv\\lib\\site-packages (from -r requirements.txt (line 58)) (3.1.5)\n",
      "Requirement already satisfied: opt_einsum==3.4.0 in c:\\users\\raphael\\documents\\github\\nonsig-master-thesis\\venv\\lib\\site-packages (from -r requirements.txt (line 59)) (3.4.0)\n",
      "Requirement already satisfied: optree==0.16.0 in c:\\users\\raphael\\documents\\github\\nonsig-master-thesis\\venv\\lib\\site-packages (from -r requirements.txt (line 60)) (0.16.0)\n",
      "Requirement already satisfied: packaging==25.0 in c:\\users\\raphael\\documents\\github\\nonsig-master-thesis\\venv\\lib\\site-packages (from -r requirements.txt (line 61)) (25.0)\n",
      "Requirement already satisfied: pandas==2.3.1 in c:\\users\\raphael\\documents\\github\\nonsig-master-thesis\\venv\\lib\\site-packages (from -r requirements.txt (line 62)) (2.3.1)\n",
      "Requirement already satisfied: parso==0.8.4 in c:\\users\\raphael\\documents\\github\\nonsig-master-thesis\\venv\\lib\\site-packages (from -r requirements.txt (line 63)) (0.8.4)\n",
      "Requirement already satisfied: pillow==11.3.0 in c:\\users\\raphael\\documents\\github\\nonsig-master-thesis\\venv\\lib\\site-packages (from -r requirements.txt (line 64)) (11.3.0)\n",
      "Requirement already satisfied: platformdirs==4.3.8 in c:\\users\\raphael\\documents\\github\\nonsig-master-thesis\\venv\\lib\\site-packages (from -r requirements.txt (line 65)) (4.3.8)\n",
      "Requirement already satisfied: prompt_toolkit==3.0.51 in c:\\users\\raphael\\documents\\github\\nonsig-master-thesis\\venv\\lib\\site-packages (from -r requirements.txt (line 66)) (3.0.51)\n",
      "Requirement already satisfied: propcache==0.3.2 in c:\\users\\raphael\\documents\\github\\nonsig-master-thesis\\venv\\lib\\site-packages (from -r requirements.txt (line 67)) (0.3.2)\n",
      "Requirement already satisfied: protobuf==5.29.5 in c:\\users\\raphael\\documents\\github\\nonsig-master-thesis\\venv\\lib\\site-packages (from -r requirements.txt (line 68)) (5.29.5)\n",
      "Requirement already satisfied: psutil==7.0.0 in c:\\users\\raphael\\documents\\github\\nonsig-master-thesis\\venv\\lib\\site-packages (from -r requirements.txt (line 69)) (7.0.0)\n",
      "Requirement already satisfied: pure_eval==0.2.3 in c:\\users\\raphael\\documents\\github\\nonsig-master-thesis\\venv\\lib\\site-packages (from -r requirements.txt (line 70)) (0.2.3)\n",
      "Requirement already satisfied: pyarrow==20.0.0 in c:\\users\\raphael\\documents\\github\\nonsig-master-thesis\\venv\\lib\\site-packages (from -r requirements.txt (line 71)) (20.0.0)\n",
      "Requirement already satisfied: Pygments==2.19.2 in c:\\users\\raphael\\documents\\github\\nonsig-master-thesis\\venv\\lib\\site-packages (from -r requirements.txt (line 72)) (2.19.2)\n",
      "Requirement already satisfied: pyparsing==3.2.3 in c:\\users\\raphael\\documents\\github\\nonsig-master-thesis\\venv\\lib\\site-packages (from -r requirements.txt (line 73)) (3.2.3)\n",
      "Requirement already satisfied: python-dateutil==2.9.0.post0 in c:\\users\\raphael\\documents\\github\\nonsig-master-thesis\\venv\\lib\\site-packages (from -r requirements.txt (line 74)) (2.9.0.post0)\n",
      "Requirement already satisfied: pytz==2025.2 in c:\\users\\raphael\\documents\\github\\nonsig-master-thesis\\venv\\lib\\site-packages (from -r requirements.txt (line 75)) (2025.2)\n",
      "Requirement already satisfied: pywin32==310 in c:\\users\\raphael\\documents\\github\\nonsig-master-thesis\\venv\\lib\\site-packages (from -r requirements.txt (line 76)) (310)\n",
      "Requirement already satisfied: PyYAML==6.0.2 in c:\\users\\raphael\\documents\\github\\nonsig-master-thesis\\venv\\lib\\site-packages (from -r requirements.txt (line 77)) (6.0.2)\n",
      "Requirement already satisfied: pyzmq==27.0.0 in c:\\users\\raphael\\documents\\github\\nonsig-master-thesis\\venv\\lib\\site-packages (from -r requirements.txt (line 78)) (27.0.0)\n",
      "Requirement already satisfied: regex==2024.11.6 in c:\\users\\raphael\\documents\\github\\nonsig-master-thesis\\venv\\lib\\site-packages (from -r requirements.txt (line 79)) (2024.11.6)\n",
      "Requirement already satisfied: requests==2.32.4 in c:\\users\\raphael\\documents\\github\\nonsig-master-thesis\\venv\\lib\\site-packages (from -r requirements.txt (line 80)) (2.32.4)\n",
      "Requirement already satisfied: rich==14.0.0 in c:\\users\\raphael\\documents\\github\\nonsig-master-thesis\\venv\\lib\\site-packages (from -r requirements.txt (line 81)) (14.0.0)\n",
      "Requirement already satisfied: safetensors==0.5.3 in c:\\users\\raphael\\documents\\github\\nonsig-master-thesis\\venv\\lib\\site-packages (from -r requirements.txt (line 82)) (0.5.3)\n",
      "Requirement already satisfied: scikit-learn==1.7.0 in c:\\users\\raphael\\documents\\github\\nonsig-master-thesis\\venv\\lib\\site-packages (from -r requirements.txt (line 83)) (1.7.0)\n",
      "Requirement already satisfied: scipy==1.16.0 in c:\\users\\raphael\\documents\\github\\nonsig-master-thesis\\venv\\lib\\site-packages (from -r requirements.txt (line 84)) (1.16.0)\n",
      "Requirement already satisfied: seaborn==0.13.2 in c:\\users\\raphael\\documents\\github\\nonsig-master-thesis\\venv\\lib\\site-packages (from -r requirements.txt (line 85)) (0.13.2)\n",
      "Requirement already satisfied: setuptools==80.9.0 in c:\\users\\raphael\\documents\\github\\nonsig-master-thesis\\venv\\lib\\site-packages (from -r requirements.txt (line 86)) (80.9.0)\n",
      "Requirement already satisfied: six==1.17.0 in c:\\users\\raphael\\documents\\github\\nonsig-master-thesis\\venv\\lib\\site-packages (from -r requirements.txt (line 87)) (1.17.0)\n",
      "Requirement already satisfied: stack-data==0.6.3 in c:\\users\\raphael\\documents\\github\\nonsig-master-thesis\\venv\\lib\\site-packages (from -r requirements.txt (line 88)) (0.6.3)\n",
      "Requirement already satisfied: sympy==1.14.0 in c:\\users\\raphael\\documents\\github\\nonsig-master-thesis\\venv\\lib\\site-packages (from -r requirements.txt (line 89)) (1.14.0)\n",
      "Requirement already satisfied: tensorboard==2.19.0 in c:\\users\\raphael\\documents\\github\\nonsig-master-thesis\\venv\\lib\\site-packages (from -r requirements.txt (line 90)) (2.19.0)\n",
      "Requirement already satisfied: tensorboard-data-server==0.7.2 in c:\\users\\raphael\\documents\\github\\nonsig-master-thesis\\venv\\lib\\site-packages (from -r requirements.txt (line 91)) (0.7.2)\n",
      "Requirement already satisfied: tensorflow==2.19.0 in c:\\users\\raphael\\documents\\github\\nonsig-master-thesis\\venv\\lib\\site-packages (from -r requirements.txt (line 92)) (2.19.0)\n",
      "Requirement already satisfied: termcolor==3.1.0 in c:\\users\\raphael\\documents\\github\\nonsig-master-thesis\\venv\\lib\\site-packages (from -r requirements.txt (line 93)) (3.1.0)\n",
      "Requirement already satisfied: tf_keras==2.19.0 in c:\\users\\raphael\\documents\\github\\nonsig-master-thesis\\venv\\lib\\site-packages (from -r requirements.txt (line 94)) (2.19.0)\n",
      "Requirement already satisfied: threadpoolctl==3.6.0 in c:\\users\\raphael\\documents\\github\\nonsig-master-thesis\\venv\\lib\\site-packages (from -r requirements.txt (line 95)) (3.6.0)\n",
      "Requirement already satisfied: tokenizers==0.21.2 in c:\\users\\raphael\\documents\\github\\nonsig-master-thesis\\venv\\lib\\site-packages (from -r requirements.txt (line 96)) (0.21.2)\n",
      "Requirement already satisfied: tornado==6.5.1 in c:\\users\\raphael\\documents\\github\\nonsig-master-thesis\\venv\\lib\\site-packages (from -r requirements.txt (line 97)) (6.5.1)\n",
      "Requirement already satisfied: tqdm==4.67.1 in c:\\users\\raphael\\documents\\github\\nonsig-master-thesis\\venv\\lib\\site-packages (from -r requirements.txt (line 98)) (4.67.1)\n",
      "Requirement already satisfied: traitlets==5.14.3 in c:\\users\\raphael\\documents\\github\\nonsig-master-thesis\\venv\\lib\\site-packages (from -r requirements.txt (line 99)) (5.14.3)\n",
      "Requirement already satisfied: transformers==4.53.1 in c:\\users\\raphael\\documents\\github\\nonsig-master-thesis\\venv\\lib\\site-packages (from -r requirements.txt (line 100)) (4.53.1)\n",
      "Requirement already satisfied: typing_extensions==4.14.1 in c:\\users\\raphael\\documents\\github\\nonsig-master-thesis\\venv\\lib\\site-packages (from -r requirements.txt (line 101)) (4.14.1)\n",
      "Requirement already satisfied: tzdata==2025.2 in c:\\users\\raphael\\documents\\github\\nonsig-master-thesis\\venv\\lib\\site-packages (from -r requirements.txt (line 102)) (2025.2)\n",
      "Requirement already satisfied: urllib3==2.5.0 in c:\\users\\raphael\\documents\\github\\nonsig-master-thesis\\venv\\lib\\site-packages (from -r requirements.txt (line 103)) (2.5.0)\n",
      "Requirement already satisfied: wcwidth==0.2.13 in c:\\users\\raphael\\documents\\github\\nonsig-master-thesis\\venv\\lib\\site-packages (from -r requirements.txt (line 104)) (0.2.13)\n",
      "Requirement already satisfied: Werkzeug==3.1.3 in c:\\users\\raphael\\documents\\github\\nonsig-master-thesis\\venv\\lib\\site-packages (from -r requirements.txt (line 105)) (3.1.3)\n",
      "Requirement already satisfied: wheel==0.45.1 in c:\\users\\raphael\\documents\\github\\nonsig-master-thesis\\venv\\lib\\site-packages (from -r requirements.txt (line 106)) (0.45.1)\n",
      "Requirement already satisfied: wrapt==1.17.2 in c:\\users\\raphael\\documents\\github\\nonsig-master-thesis\\venv\\lib\\site-packages (from -r requirements.txt (line 107)) (1.17.2)\n",
      "Requirement already satisfied: xxhash==3.5.0 in c:\\users\\raphael\\documents\\github\\nonsig-master-thesis\\venv\\lib\\site-packages (from -r requirements.txt (line 108)) (3.5.0)\n",
      "Requirement already satisfied: yarl==1.20.1 in c:\\users\\raphael\\documents\\github\\nonsig-master-thesis\\venv\\lib\\site-packages (from -r requirements.txt (line 109)) (1.20.1)\n",
      "Requirement already satisfied: torch>=2.0.0 in c:\\users\\raphael\\documents\\github\\nonsig-master-thesis\\venv\\lib\\site-packages (from accelerate==1.8.1->-r requirements.txt (line 2)) (2.7.1+cu128)\n"
     ]
    },
    {
     "name": "stderr",
     "output_type": "stream",
     "text": [
      "\n",
      "[notice] A new release of pip is available: 25.0.1 -> 25.1.1\n",
      "[notice] To update, run: python.exe -m pip install --upgrade pip\n"
     ]
    }
   ],
   "source": [
    "! pip install -r requirements.txt"
   ]
  },
  {
   "cell_type": "code",
   "execution_count": 23,
   "id": "5946c6f5",
   "metadata": {},
   "outputs": [
    {
     "name": "stdout",
     "output_type": "stream",
     "text": [
      "Looking in links: https://download.pytorch.org/whl/torch/\n",
      "Requirement already satisfied: torch==2.7.1+cu128 in c:\\users\\raphael\\documents\\github\\nonsig-master-thesis\\venv\\lib\\site-packages (2.7.1+cu128)\n",
      "Requirement already satisfied: filelock in c:\\users\\raphael\\documents\\github\\nonsig-master-thesis\\venv\\lib\\site-packages (from torch==2.7.1+cu128) (3.18.0)\n",
      "Requirement already satisfied: typing-extensions>=4.10.0 in c:\\users\\raphael\\documents\\github\\nonsig-master-thesis\\venv\\lib\\site-packages (from torch==2.7.1+cu128) (4.14.1)\n",
      "Requirement already satisfied: sympy>=1.13.3 in c:\\users\\raphael\\documents\\github\\nonsig-master-thesis\\venv\\lib\\site-packages (from torch==2.7.1+cu128) (1.14.0)\n",
      "Requirement already satisfied: networkx in c:\\users\\raphael\\documents\\github\\nonsig-master-thesis\\venv\\lib\\site-packages (from torch==2.7.1+cu128) (3.5)\n",
      "Requirement already satisfied: jinja2 in c:\\users\\raphael\\documents\\github\\nonsig-master-thesis\\venv\\lib\\site-packages (from torch==2.7.1+cu128) (3.1.6)\n",
      "Requirement already satisfied: fsspec in c:\\users\\raphael\\documents\\github\\nonsig-master-thesis\\venv\\lib\\site-packages (from torch==2.7.1+cu128) (2025.3.0)\n",
      "Requirement already satisfied: setuptools in c:\\users\\raphael\\documents\\github\\nonsig-master-thesis\\venv\\lib\\site-packages (from torch==2.7.1+cu128) (80.9.0)\n",
      "Requirement already satisfied: mpmath<1.4,>=1.1.0 in c:\\users\\raphael\\documents\\github\\nonsig-master-thesis\\venv\\lib\\site-packages (from sympy>=1.13.3->torch==2.7.1+cu128) (1.3.0)\n",
      "Requirement already satisfied: MarkupSafe>=2.0 in c:\\users\\raphael\\documents\\github\\nonsig-master-thesis\\venv\\lib\\site-packages (from jinja2->torch==2.7.1+cu128) (3.0.2)\n"
     ]
    },
    {
     "name": "stderr",
     "output_type": "stream",
     "text": [
      "\n",
      "[notice] A new release of pip is available: 25.0.1 -> 25.1.1\n",
      "[notice] To update, run: python.exe -m pip install --upgrade pip\n"
     ]
    },
    {
     "name": "stdout",
     "output_type": "stream",
     "text": [
      "Looking in links: https://download.pytorch.org/whl/torchaudio/\n",
      "Requirement already satisfied: torchaudio==2.7.1+cu128 in c:\\users\\raphael\\documents\\github\\nonsig-master-thesis\\venv\\lib\\site-packages (2.7.1+cu128)\n",
      "Requirement already satisfied: torch==2.7.1+cu128 in c:\\users\\raphael\\documents\\github\\nonsig-master-thesis\\venv\\lib\\site-packages (from torchaudio==2.7.1+cu128) (2.7.1+cu128)\n",
      "Requirement already satisfied: filelock in c:\\users\\raphael\\documents\\github\\nonsig-master-thesis\\venv\\lib\\site-packages (from torch==2.7.1+cu128->torchaudio==2.7.1+cu128) (3.18.0)\n",
      "Requirement already satisfied: typing-extensions>=4.10.0 in c:\\users\\raphael\\documents\\github\\nonsig-master-thesis\\venv\\lib\\site-packages (from torch==2.7.1+cu128->torchaudio==2.7.1+cu128) (4.14.1)\n",
      "Requirement already satisfied: sympy>=1.13.3 in c:\\users\\raphael\\documents\\github\\nonsig-master-thesis\\venv\\lib\\site-packages (from torch==2.7.1+cu128->torchaudio==2.7.1+cu128) (1.14.0)\n",
      "Requirement already satisfied: networkx in c:\\users\\raphael\\documents\\github\\nonsig-master-thesis\\venv\\lib\\site-packages (from torch==2.7.1+cu128->torchaudio==2.7.1+cu128) (3.5)\n",
      "Requirement already satisfied: jinja2 in c:\\users\\raphael\\documents\\github\\nonsig-master-thesis\\venv\\lib\\site-packages (from torch==2.7.1+cu128->torchaudio==2.7.1+cu128) (3.1.6)\n",
      "Requirement already satisfied: fsspec in c:\\users\\raphael\\documents\\github\\nonsig-master-thesis\\venv\\lib\\site-packages (from torch==2.7.1+cu128->torchaudio==2.7.1+cu128) (2025.3.0)\n",
      "Requirement already satisfied: setuptools in c:\\users\\raphael\\documents\\github\\nonsig-master-thesis\\venv\\lib\\site-packages (from torch==2.7.1+cu128->torchaudio==2.7.1+cu128) (80.9.0)\n",
      "Requirement already satisfied: mpmath<1.4,>=1.1.0 in c:\\users\\raphael\\documents\\github\\nonsig-master-thesis\\venv\\lib\\site-packages (from sympy>=1.13.3->torch==2.7.1+cu128->torchaudio==2.7.1+cu128) (1.3.0)\n",
      "Requirement already satisfied: MarkupSafe>=2.0 in c:\\users\\raphael\\documents\\github\\nonsig-master-thesis\\venv\\lib\\site-packages (from jinja2->torch==2.7.1+cu128->torchaudio==2.7.1+cu128) (3.0.2)\n"
     ]
    },
    {
     "name": "stderr",
     "output_type": "stream",
     "text": [
      "\n",
      "[notice] A new release of pip is available: 25.0.1 -> 25.1.1\n",
      "[notice] To update, run: python.exe -m pip install --upgrade pip\n"
     ]
    },
    {
     "name": "stdout",
     "output_type": "stream",
     "text": [
      "Looking in links: https://download.pytorch.org/whl/torchvision/\n",
      "Requirement already satisfied: torchvision==0.22.1+cu128 in c:\\users\\raphael\\documents\\github\\nonsig-master-thesis\\venv\\lib\\site-packages (0.22.1+cu128)\n",
      "Requirement already satisfied: numpy in c:\\users\\raphael\\documents\\github\\nonsig-master-thesis\\venv\\lib\\site-packages (from torchvision==0.22.1+cu128) (2.1.3)\n",
      "Requirement already satisfied: torch==2.7.1+cu128 in c:\\users\\raphael\\documents\\github\\nonsig-master-thesis\\venv\\lib\\site-packages (from torchvision==0.22.1+cu128) (2.7.1+cu128)\n",
      "Requirement already satisfied: pillow!=8.3.*,>=5.3.0 in c:\\users\\raphael\\documents\\github\\nonsig-master-thesis\\venv\\lib\\site-packages (from torchvision==0.22.1+cu128) (11.3.0)\n",
      "Requirement already satisfied: filelock in c:\\users\\raphael\\documents\\github\\nonsig-master-thesis\\venv\\lib\\site-packages (from torch==2.7.1+cu128->torchvision==0.22.1+cu128) (3.18.0)\n",
      "Requirement already satisfied: typing-extensions>=4.10.0 in c:\\users\\raphael\\documents\\github\\nonsig-master-thesis\\venv\\lib\\site-packages (from torch==2.7.1+cu128->torchvision==0.22.1+cu128) (4.14.1)\n",
      "Requirement already satisfied: sympy>=1.13.3 in c:\\users\\raphael\\documents\\github\\nonsig-master-thesis\\venv\\lib\\site-packages (from torch==2.7.1+cu128->torchvision==0.22.1+cu128) (1.14.0)\n",
      "Requirement already satisfied: networkx in c:\\users\\raphael\\documents\\github\\nonsig-master-thesis\\venv\\lib\\site-packages (from torch==2.7.1+cu128->torchvision==0.22.1+cu128) (3.5)\n",
      "Requirement already satisfied: jinja2 in c:\\users\\raphael\\documents\\github\\nonsig-master-thesis\\venv\\lib\\site-packages (from torch==2.7.1+cu128->torchvision==0.22.1+cu128) (3.1.6)\n",
      "Requirement already satisfied: fsspec in c:\\users\\raphael\\documents\\github\\nonsig-master-thesis\\venv\\lib\\site-packages (from torch==2.7.1+cu128->torchvision==0.22.1+cu128) (2025.3.0)\n",
      "Requirement already satisfied: setuptools in c:\\users\\raphael\\documents\\github\\nonsig-master-thesis\\venv\\lib\\site-packages (from torch==2.7.1+cu128->torchvision==0.22.1+cu128) (80.9.0)\n",
      "Requirement already satisfied: mpmath<1.4,>=1.1.0 in c:\\users\\raphael\\documents\\github\\nonsig-master-thesis\\venv\\lib\\site-packages (from sympy>=1.13.3->torch==2.7.1+cu128->torchvision==0.22.1+cu128) (1.3.0)\n",
      "Requirement already satisfied: MarkupSafe>=2.0 in c:\\users\\raphael\\documents\\github\\nonsig-master-thesis\\venv\\lib\\site-packages (from jinja2->torch==2.7.1+cu128->torchvision==0.22.1+cu128) (3.0.2)\n"
     ]
    },
    {
     "name": "stderr",
     "output_type": "stream",
     "text": [
      "\n",
      "[notice] A new release of pip is available: 25.0.1 -> 25.1.1\n",
      "[notice] To update, run: python.exe -m pip install --upgrade pip\n"
     ]
    }
   ],
   "source": [
    "# If you work with GPU-support (CUDA 12.8):\n",
    "! pip install torch==2.7.1+cu128 -f https://download.pytorch.org/whl/torch/\n",
    "! pip install torchaudio==2.7.1+cu128 -f https://download.pytorch.org/whl/torchaudio/\n",
    "! pip install torchvision==0.22.1+cu128 -f https://download.pytorch.org/whl/torchvision/"
   ]
  },
  {
   "cell_type": "code",
   "execution_count": 24,
   "id": "645e8ca9",
   "metadata": {},
   "outputs": [],
   "source": [
    "# If you only work with CPU-support:\n",
    "# ! pip install torch==2.7.1\n",
    "# ! pip install torchaudio==2.7.1\n",
    "# ! pip install torchvision==0.22.1"
   ]
  },
  {
   "cell_type": "markdown",
   "id": "6d5fa995",
   "metadata": {},
   "source": [
    "### 0.2 GPU setup"
   ]
  },
  {
   "cell_type": "code",
   "execution_count": 25,
   "id": "a3336508",
   "metadata": {},
   "outputs": [
    {
     "name": "stdout",
     "output_type": "stream",
     "text": [
      "True\n",
      "0\n",
      "NVIDIA GeForce RTX 2070 with Max-Q Design\n"
     ]
    }
   ],
   "source": [
    "# Check if CUDA is available and print the current device's name\n",
    "import torch\n",
    "print(torch.cuda.is_available())\n",
    "if torch.cuda.is_available():\n",
    "    print(torch.cuda.current_device())\n",
    "    print(torch.cuda.get_device_name(0))"
   ]
  },
  {
   "cell_type": "markdown",
   "id": "19253634",
   "metadata": {},
   "source": [
    "## 1. Configuration"
   ]
  },
  {
   "cell_type": "code",
   "execution_count": 26,
   "id": "ff026edd",
   "metadata": {},
   "outputs": [],
   "source": [
    "data_path = r\"../../data/labeled/2025-06-28_labeled_data.xlsx\"\n",
    "text_column_name = \"expanded\"\n",
    "label_column_name = \"label_strict\"\n",
    "num_labels = 2 # number of labels: just correct (0) and incorrect (1)\n",
    "\n",
    "model_name = \"bert-base-uncased\" # Choose, which kind of model to train: Regular BERT - \"bert-base-uncased\", SciBERT - \"allenai/scibert_scivocab_uncased\"; PubMedBERT - \"microsoft/BiomedNLP-PubMedBERT-base-uncased-abstract\"\n",
    "\n",
    "# Set seed for reproducibility\n",
    "import random\n",
    "import numpy as np\n",
    "\n",
    "seed = 42\n",
    "random.seed(seed)\n",
    "np.random.seed(seed)\n",
    "torch.manual_seed(seed)\n",
    "torch.cuda.manual_seed_all(seed)\n",
    "\n",
    "num_epochs = 3 # Number of epochs for training\n",
    "batch_size = 16 # Batch size for training and validation\n",
    "learning_rate = 2e-5 # Learning rate for the optimizer\n",
    "\n",
    "k_folds = 5 # How many folds whould the k fold approach have?\n",
    "from sklearn.model_selection import StratifiedKFold\n",
    "skf = StratifiedKFold(n_splits=k_folds, shuffle=True, random_state=seed)\n",
    "\n",
    "fold_accuracies = [] # Initializing a list to store accuracies for each fold"
   ]
  },
  {
   "cell_type": "markdown",
   "id": "050e4828",
   "metadata": {},
   "source": [
    "## 2. Read and prepare dataset"
   ]
  },
  {
   "cell_type": "code",
   "execution_count": 27,
   "id": "1789fc47",
   "metadata": {},
   "outputs": [
    {
     "data": {
      "application/vnd.microsoft.datawrangler.viewer.v0+json": {
       "columns": [
        {
         "name": "index",
         "rawType": "int64",
         "type": "integer"
        },
        {
         "name": "text",
         "rawType": "object",
         "type": "string"
        },
        {
         "name": "label",
         "rawType": "int64",
         "type": "integer"
        }
       ],
       "ref": "1f2f0f71-334b-4a88-bd2e-92dfa542be11",
       "rows": [
        [
         "0",
         "Indeed, there was no significant difference in accuracy between finding the longest line across the two experiments, t(72) = 1.91, p = .23, or for finding the shortest line, t(72) = 0.479, p = .96.",
         "0"
        ],
        [
         "1",
         "Cortisol concentrations were comparable at baseline, t(55) = 1.01, p = .317, d = 0.27, but significantly elevated in the stress group relative to the control group both 30 min after the treatment, t(55) = 3.55, p corr = .003, d = 0.94, and 45 min after the treatment, t(55) = 2.52, p corr = .045, d = 0.67 (Table 1).",
         "1"
        ],
        [
         "2",
         "Finally, there was no significant interaction between participant height and opponent height, Wald Ï‡ 2 (1) = 1.75, b = -0.193, SE = 0.146, 95% CI = [-0.479, 0.093], p = .186 (QICc = 40.50).",
         "0"
        ],
        [
         "3",
         "Paired t tests showed that only for the neutral stimuli, there was a recognition deficit for Black faces relative to White faces (an ORE), t(198) = 4.25, p < .001, Cohen's d z = 0.30, 95% CI = [0.16, 0.44], whereas the same was not true for angry faces for which the effect was even in the descriptively opposite direction, t(198) = -0.92, p = .357, Cohen's d z = -0.07.",
         "1"
        ],
        [
         "5",
         "Tukey's HSD tests revealed significant differences between all pairwise positions (all ps < .001) except Position 1 versus Position 5, t(116) = -1.18, p = .80, and Position 2 versus Position 4, t(116) = 1.258, p = .717.",
         "0"
        ]
       ],
       "shape": {
        "columns": 2,
        "rows": 5
       }
      },
      "text/html": [
       "<div>\n",
       "<style scoped>\n",
       "    .dataframe tbody tr th:only-of-type {\n",
       "        vertical-align: middle;\n",
       "    }\n",
       "\n",
       "    .dataframe tbody tr th {\n",
       "        vertical-align: top;\n",
       "    }\n",
       "\n",
       "    .dataframe thead th {\n",
       "        text-align: right;\n",
       "    }\n",
       "</style>\n",
       "<table border=\"1\" class=\"dataframe\">\n",
       "  <thead>\n",
       "    <tr style=\"text-align: right;\">\n",
       "      <th></th>\n",
       "      <th>text</th>\n",
       "      <th>label</th>\n",
       "    </tr>\n",
       "  </thead>\n",
       "  <tbody>\n",
       "    <tr>\n",
       "      <th>0</th>\n",
       "      <td>Indeed, there was no significant difference in...</td>\n",
       "      <td>0</td>\n",
       "    </tr>\n",
       "    <tr>\n",
       "      <th>1</th>\n",
       "      <td>Cortisol concentrations were comparable at bas...</td>\n",
       "      <td>1</td>\n",
       "    </tr>\n",
       "    <tr>\n",
       "      <th>2</th>\n",
       "      <td>Finally, there was no significant interaction ...</td>\n",
       "      <td>0</td>\n",
       "    </tr>\n",
       "    <tr>\n",
       "      <th>3</th>\n",
       "      <td>Paired t tests showed that only for the neutra...</td>\n",
       "      <td>1</td>\n",
       "    </tr>\n",
       "    <tr>\n",
       "      <th>5</th>\n",
       "      <td>Tukey's HSD tests revealed significant differe...</td>\n",
       "      <td>0</td>\n",
       "    </tr>\n",
       "  </tbody>\n",
       "</table>\n",
       "</div>"
      ],
      "text/plain": [
       "                                                text  label\n",
       "0  Indeed, there was no significant difference in...      0\n",
       "1  Cortisol concentrations were comparable at bas...      1\n",
       "2  Finally, there was no significant interaction ...      0\n",
       "3  Paired t tests showed that only for the neutra...      1\n",
       "5  Tukey's HSD tests revealed significant differe...      0"
      ]
     },
     "execution_count": 27,
     "metadata": {},
     "output_type": "execute_result"
    }
   ],
   "source": [
    "import pandas as pd\n",
    "\n",
    "# Load the data\n",
    "df = pd.read_excel(data_path)\n",
    "\n",
    "# Remove all columns but 'expanded' and 'label_strict'\n",
    "df = df.drop(columns=['statement_id', 'section', 'header','div', 'p', 's', 'article_id', 'p_comp', 'p_value', 'context', 'text', 'label_kind', 'label_keywords', 'label_comment'])\n",
    "\n",
    "# Change column names\n",
    "df = df.rename(columns={text_column_name: 'text', label_column_name: 'label'})\n",
    "\n",
    "# Remove rows where 'label' is NA or -99\n",
    "df = df[~df['label'].isna() & (df['label'] != -99)]\n",
    "\n",
    "# Convert label column to int (required for classification)\n",
    "df['label'] = df['label'].astype(int)\n",
    "\n",
    "### This is now being done right in the StratifiedKFold method, so it is not needed here anymore:\n",
    "# # Balance the dataset: all 1s and an equal number of random 0s\n",
    "# ones = df[df['label'] == 1]\n",
    "# zeros = df[df['label'] == 0].sample(n=len(ones), random_state=42)\n",
    "# df = pd.concat([ones, zeros]).sample(frac=1, random_state=42).reset_index(drop=True)\n",
    "\n",
    "# Show head\n",
    "df.head()"
   ]
  },
  {
   "cell_type": "markdown",
   "id": "858619d7",
   "metadata": {},
   "source": [
    "## 3. Perform k-fold cross-validation"
   ]
  },
  {
   "cell_type": "code",
   "execution_count": 28,
   "id": "ec22f5f0",
   "metadata": {},
   "outputs": [
    {
     "name": "stderr",
     "output_type": "stream",
     "text": [
      "Some weights of BertForSequenceClassification were not initialized from the model checkpoint at bert-base-uncased and are newly initialized: ['classifier.bias', 'classifier.weight']\n",
      "You should probably TRAIN this model on a down-stream task to be able to use it for predictions and inference.\n"
     ]
    },
    {
     "name": "stdout",
     "output_type": "stream",
     "text": [
      "Training Fold 1/5\n"
     ]
    },
    {
     "name": "stderr",
     "output_type": "stream",
     "text": [
      "Some weights of BertForSequenceClassification were not initialized from the model checkpoint at bert-base-uncased and are newly initialized: ['classifier.bias', 'classifier.weight']\n",
      "You should probably TRAIN this model on a down-stream task to be able to use it for predictions and inference.\n",
      "Epoch 1: 100%|██████████| 38/38 [00:31<00:00,  1.19it/s]\n",
      "Epoch 2: 100%|██████████| 38/38 [00:32<00:00,  1.17it/s]\n",
      "Epoch 3: 100%|██████████| 38/38 [00:32<00:00,  1.16it/s]\n"
     ]
    },
    {
     "name": "stdout",
     "output_type": "stream",
     "text": [
      "Accuracy for Fold 1: 0.9078947368421053\n",
      "Training Fold 2/5\n"
     ]
    },
    {
     "name": "stderr",
     "output_type": "stream",
     "text": [
      "Some weights of BertForSequenceClassification were not initialized from the model checkpoint at bert-base-uncased and are newly initialized: ['classifier.bias', 'classifier.weight']\n",
      "You should probably TRAIN this model on a down-stream task to be able to use it for predictions and inference.\n",
      "Epoch 1: 100%|██████████| 38/38 [00:32<00:00,  1.18it/s]\n",
      "Epoch 2: 100%|██████████| 38/38 [00:32<00:00,  1.16it/s]\n",
      "Epoch 3: 100%|██████████| 38/38 [00:32<00:00,  1.16it/s]\n"
     ]
    },
    {
     "name": "stdout",
     "output_type": "stream",
     "text": [
      "Accuracy for Fold 2: 0.9403973509933775\n",
      "Training Fold 3/5\n"
     ]
    },
    {
     "name": "stderr",
     "output_type": "stream",
     "text": [
      "Some weights of BertForSequenceClassification were not initialized from the model checkpoint at bert-base-uncased and are newly initialized: ['classifier.bias', 'classifier.weight']\n",
      "You should probably TRAIN this model on a down-stream task to be able to use it for predictions and inference.\n",
      "Epoch 1: 100%|██████████| 38/38 [00:32<00:00,  1.18it/s]\n",
      "Epoch 2: 100%|██████████| 38/38 [00:32<00:00,  1.16it/s]\n",
      "Epoch 3: 100%|██████████| 38/38 [00:32<00:00,  1.16it/s]\n"
     ]
    },
    {
     "name": "stdout",
     "output_type": "stream",
     "text": [
      "Accuracy for Fold 3: 0.8609271523178808\n",
      "Training Fold 4/5\n"
     ]
    },
    {
     "name": "stderr",
     "output_type": "stream",
     "text": [
      "Some weights of BertForSequenceClassification were not initialized from the model checkpoint at bert-base-uncased and are newly initialized: ['classifier.bias', 'classifier.weight']\n",
      "You should probably TRAIN this model on a down-stream task to be able to use it for predictions and inference.\n",
      "Epoch 1: 100%|██████████| 38/38 [00:32<00:00,  1.18it/s]\n",
      "Epoch 2: 100%|██████████| 38/38 [00:32<00:00,  1.16it/s]\n",
      "Epoch 3: 100%|██████████| 38/38 [00:32<00:00,  1.16it/s]\n"
     ]
    },
    {
     "name": "stdout",
     "output_type": "stream",
     "text": [
      "Accuracy for Fold 4: 0.9536423841059603\n",
      "Training Fold 5/5\n"
     ]
    },
    {
     "name": "stderr",
     "output_type": "stream",
     "text": [
      "Some weights of BertForSequenceClassification were not initialized from the model checkpoint at bert-base-uncased and are newly initialized: ['classifier.bias', 'classifier.weight']\n",
      "You should probably TRAIN this model on a down-stream task to be able to use it for predictions and inference.\n",
      "Epoch 1: 100%|██████████| 38/38 [00:32<00:00,  1.18it/s]\n",
      "Epoch 2: 100%|██████████| 38/38 [00:32<00:00,  1.16it/s]\n",
      "Epoch 3: 100%|██████████| 38/38 [00:32<00:00,  1.16it/s]\n"
     ]
    },
    {
     "name": "stdout",
     "output_type": "stream",
     "text": [
      "Accuracy for Fold 5: 0.9337748344370861\n",
      "Average Accuracy: 0.919327291739282\n"
     ]
    }
   ],
   "source": [
    "from torch.utils.data import DataLoader\n",
    "from sklearn.metrics import accuracy_score\n",
    "from torch.utils.data import Dataset\n",
    "from transformers import AutoModelForSequenceClassification\n",
    "from transformers import AutoTokenizer\n",
    "from tqdm import tqdm\n",
    "\n",
    "model = AutoModelForSequenceClassification.from_pretrained(model_name, num_labels=num_labels)\n",
    "\n",
    "fold_accuracies = []\n",
    "\n",
    "class TextDataset(Dataset):\n",
    "    def __init__(self, texts, labels, tokenizer, max_length=350):\n",
    "        self.texts = texts\n",
    "        self.labels = labels\n",
    "        self.tokenizer = tokenizer\n",
    "        self.max_length = max_length\n",
    "\n",
    "    def __len__(self):\n",
    "        return len(self.texts)\n",
    "\n",
    "    def __getitem__(self, idx):\n",
    "        encoding = self.tokenizer(\n",
    "            self.texts[idx],\n",
    "            padding='max_length',\n",
    "            truncation=True,\n",
    "            max_length=self.max_length,\n",
    "            return_tensors='pt'\n",
    "        )\n",
    "        return {\n",
    "            'input_ids': encoding['input_ids'].squeeze(),\n",
    "            'attention_mask': encoding['attention_mask'].squeeze(),\n",
    "            'labels': torch.tensor(self.labels[idx])\n",
    "        }\n",
    "\n",
    "tokenizer = AutoTokenizer.from_pretrained(model_name)\n",
    "\n",
    "dataset = TextDataset(\n",
    "    texts=df['text'].tolist(),\n",
    "    labels=df['label'].tolist(),\n",
    "    tokenizer=tokenizer\n",
    ")\n",
    "\n",
    "for fold, (train_indices, val_indices) in enumerate(skf.split(df['text'], df['label'])):\n",
    "    print(f\"Training Fold {fold+1}/{k_folds}\")\n",
    "\n",
    "    # Reinitialize the model at the start of each fold\n",
    "    model = AutoModelForSequenceClassification.from_pretrained(\n",
    "        model_name,\n",
    "        num_labels=num_labels\n",
    "    )\n",
    "    model.to(device) # move model to device (GPU or CPU)\n",
    "\n",
    "    # Split dataset into train and validation sets for the current fold\n",
    "    train_dataset = torch.utils.data.Subset(dataset, train_indices)\n",
    "    val_dataset = torch.utils.data.Subset(dataset, val_indices)\n",
    "    \n",
    "    # Create data loaders\n",
    "    train_loader = DataLoader(train_dataset, batch_size=batch_size, shuffle=True)\n",
    "    val_loader = DataLoader(val_dataset, batch_size=batch_size, shuffle=False)\n",
    "    \n",
    "    # Training loop\n",
    "    optimizer = torch.optim.AdamW(model.parameters(), lr=learning_rate)\n",
    "    criterion = torch.nn.CrossEntropyLoss()\n",
    "    device = torch.device('cuda' if torch.cuda.is_available() else 'cpu')\n",
    "    model.to(device)\n",
    "    model.train()\n",
    "    for epoch in range(num_epochs):  # Adjust the number of epochs as needed\n",
    "        for batch in tqdm(train_loader, desc=f\"Epoch {epoch+1}\"):\n",
    "            optimizer.zero_grad()\n",
    "            input_ids = batch['input_ids'].to(device)\n",
    "            attention_mask = batch['attention_mask'].to(device)\n",
    "            labels = batch['labels'].to(device)\n",
    "            outputs = model(input_ids, attention_mask=attention_mask, labels=labels)\n",
    "            loss = outputs.loss\n",
    "            loss.backward()\n",
    "            optimizer.step()\n",
    "    \n",
    "    # Evaluation loop\n",
    "    model.eval()\n",
    "    val_predictions = []\n",
    "    val_labels = []\n",
    "    with torch.no_grad():\n",
    "        for batch in val_loader:\n",
    "            input_ids = batch['input_ids'].to(device)\n",
    "            attention_mask = batch['attention_mask'].to(device)\n",
    "            labels = batch['labels'].to(device)\n",
    "            outputs = model(input_ids, attention_mask=attention_mask)\n",
    "            _, predicted_labels = torch.max(outputs.logits, dim=1)\n",
    "            val_predictions.extend(predicted_labels.tolist())\n",
    "            val_labels.extend(labels.tolist())\n",
    "\n",
    "    fold_accuracy = accuracy_score(val_labels, val_predictions)\n",
    "    fold_accuracies.append(fold_accuracy)\n",
    "    print(f\"Accuracy for Fold {fold+1}: {fold_accuracy}\")\n",
    "\n",
    "# Calculate average accuracy across all folds\n",
    "average_accuracy = sum(fold_accuracies) / len(fold_accuracies)\n",
    "print(f\"Average Accuracy: {average_accuracy}\")"
   ]
  },
  {
   "cell_type": "code",
   "execution_count": null,
   "id": "56e5e265",
   "metadata": {},
   "outputs": [],
   "source": [
    "# The end..."
   ]
  }
 ],
 "metadata": {
  "kernelspec": {
   "display_name": "Python (nonsig-venv)",
   "language": "python",
   "name": "nonsig-venv"
  },
  "language_info": {
   "codemirror_mode": {
    "name": "ipython",
    "version": 3
   },
   "file_extension": ".py",
   "mimetype": "text/x-python",
   "name": "python",
   "nbconvert_exporter": "python",
   "pygments_lexer": "ipython3",
   "version": "3.12.10"
  }
 },
 "nbformat": 4,
 "nbformat_minor": 5
}
