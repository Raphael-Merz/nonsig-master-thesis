{
 "cells": [
  {
   "cell_type": "markdown",
   "id": "5e0f8a44",
   "metadata": {},
   "source": [
    "# Sentence Classification using BERT\n",
    "\n",
    "Code taken from: https://www.kaggle.com/code/akshat0007/bert-for-sequence-classification/notebook"
   ]
  },
  {
   "cell_type": "markdown",
   "id": "7f35d1a7",
   "metadata": {},
   "source": [
    "#### Check GPU access"
   ]
  },
  {
   "cell_type": "code",
   "execution_count": 33,
   "id": "79b36924",
   "metadata": {},
   "outputs": [
    {
     "name": "stdout",
     "output_type": "stream",
     "text": [
      "True\n",
      "0\n",
      "NVIDIA GeForce RTX 2070 with Max-Q Design\n"
     ]
    }
   ],
   "source": [
    "# Check if CUDA is available and print the current device's name\n",
    "import torch\n",
    "print(torch.cuda.is_available())\n",
    "if torch.cuda.is_available():\n",
    "    print(torch.cuda.current_device())\n",
    "    print(torch.cuda.get_device_name(0))"
   ]
  },
  {
   "cell_type": "code",
   "execution_count": 34,
   "id": "ff52c9a8",
   "metadata": {},
   "outputs": [
    {
     "name": "stdout",
     "output_type": "stream",
     "text": [
      "\n"
     ]
    }
   ],
   "source": [
    "# Get device name\n",
    "import tensorflow as tf\n",
    "\n",
    "# Checking for the GPU\n",
    "device_name = tf.test.gpu_device_name()\n",
    "print(device_name)\n",
    "\n",
    "import torch\n",
    "\n",
    "device = torch.device(\"cuda\")"
   ]
  },
  {
   "cell_type": "code",
   "execution_count": null,
   "id": "4464cc14",
   "metadata": {},
   "outputs": [
    {
     "name": "stdout",
     "output_type": "stream",
     "text": [
      "Total examples in balanced dataset: 280\n",
      "label\n",
      "1    140\n",
      "0    140\n",
      "Name: count, dtype: int64\n"
     ]
    },
    {
     "data": {
      "application/vnd.microsoft.datawrangler.viewer.v0+json": {
       "columns": [
        {
         "name": "index",
         "rawType": "int64",
         "type": "integer"
        },
        {
         "name": "statement_id",
         "rawType": "int64",
         "type": "integer"
        },
        {
         "name": "text",
         "rawType": "object",
         "type": "string"
        },
        {
         "name": "section",
         "rawType": "object",
         "type": "string"
        },
        {
         "name": "header",
         "rawType": "object",
         "type": "string"
        },
        {
         "name": "div",
         "rawType": "int64",
         "type": "integer"
        },
        {
         "name": "p",
         "rawType": "float64",
         "type": "float"
        },
        {
         "name": "s",
         "rawType": "int64",
         "type": "integer"
        },
        {
         "name": "article_id",
         "rawType": "int64",
         "type": "integer"
        },
        {
         "name": "p_comp",
         "rawType": "object",
         "type": "string"
        },
        {
         "name": "p_value",
         "rawType": "float64",
         "type": "float"
        },
        {
         "name": "context",
         "rawType": "object",
         "type": "string"
        },
        {
         "name": "expanded",
         "rawType": "object",
         "type": "string"
        },
        {
         "name": "label_strict",
         "rawType": "float64",
         "type": "float"
        },
        {
         "name": "label_kind",
         "rawType": "float64",
         "type": "float"
        },
        {
         "name": "label_keywords",
         "rawType": "object",
         "type": "unknown"
        },
        {
         "name": "label_comment",
         "rawType": "object",
         "type": "unknown"
        },
        {
         "name": "label",
         "rawType": "int64",
         "type": "integer"
        },
        {
         "name": "sentence",
         "rawType": "object",
         "type": "string"
        }
       ],
       "ref": "61cb79d3-bbde-4363-bd5e-83d48b51ebb3",
       "rows": [
        [
         "0",
         "114",
         "p = .358",
         "results",
         "Subjective congruency ratings partly explain behavioral performance",
         "12",
         "2.0",
         "1",
         "9567976211032670",
         "=",
         "0.358",
         "Change-detection RTs in Experiment 1 were not correlated with inconsistency ratings, r(58) = .05, p = .358, 95% CI = [-.21, .30], BF 10 = 0.12 (see Fig. 6).",
         "Change-detection RTs in Experiment 1 were not correlated with inconsistency ratings, r(58) = .05, p = .358, 95% CI = [-.21, .30], BF 10 = 0.12 (see Fig.",
         "1.0",
         null,
         null,
         null,
         "1",
         "Change-detection RTs in Experiment 1 were not correlated with inconsistency ratings, r(58) = .05, p = .358, 95% CI = [-.21, .30], BF 10 = 0.12 (see Fig."
        ],
        [
         "1",
         "339",
         "p = .55",
         "results",
         "Inner-crowd effects.",
         "16",
         "2.0",
         "4",
         "9567976211061320",
         "=",
         "0.55",
         "Importantly, participants in the disagreeingperspective condition again benefited more from averaging both estimates, compared with the self-perspective condition (d = 0.15, p = .02). However, there was no difference between the agreeing-and disagreeing-perspective conditions (d = 0.04, p = .55), 5 although the effect was in the right direction: The benefits of averaging were numerically higher in the disagreeing-perspective condition.",
         "However, there was no difference between the agreeing-and disagreeing-perspective conditions (d = 0.04, p = .55), 5 although the effect was in the right direction: The benefits of averaging were numerically higher in the disagreeing-perspective condition.",
         "1.0",
         null,
         null,
         null,
         "1",
         "However, there was no difference between the agreeing-and disagreeing-perspective conditions (d = 0.04, p = .55), 5 although the effect was in the right direction: The benefits of averaging were numerically higher in the disagreeing-perspective condition."
        ],
        [
         "2",
         "155",
         "p = .540 ",
         "results",
         "Studies 1 and 2: Combined Data Analysis",
         "14",
         "2.0",
         "5",
         "956797618772822",
         "=",
         "0.54",
         "Participant height remained a significant predictor after we controlled for opponent height, Wald Ï‡ 2 (1) = 9.69, b = -0.193, SE = 0.062, 95% CI = [-0.315, -0.072], p = .002. There was no significant interaction between participant height and opponent height, Wald Ï‡ 2 (1) = 0.38, b = 0.042, SE = 0.068, 95% CI = [-0.091, 0.174], p = .540 (QICc = 203.85). Finally, we added relative height as a fixed effect to the intercept-only model, which showed that relatively shorter participants kept a higher percentage of coins to themselves in the dictator games, Wald Ï‡ 2 (1) = 9.33, b = -0.202, SE = 0.066, 95% CI = [-0.332, -0.072], p = .002 (QICc = 200.67).",
         "There was no significant interaction between participant height and opponent height, Wald Ï‡ 2 (1) = 0.38, b = 0.042, SE = 0.068, 95% CI = [-0.091, 0.174], p = .540 (QICc = 203.85).",
         "0.0",
         null,
         null,
         null,
         "0",
         "There was no significant interaction between participant height and opponent height, Wald Ï‡ 2 (1) = 0.38, b = 0.042, SE = 0.068, 95% CI = [-0.091, 0.174], p = .540 (QICc = 203.85)."
        ],
        [
         "3",
         "277",
         "p = .146",
         "results",
         "Internal Meta-Analysis",
         "16",
         "4.0",
         "6",
         "956797616636631",
         "=",
         "0.146",
         "The z-standardized significance levels (and df ) for each test were as follows-Study 1: z = 0.616 (df = 89); Study 2: z = -0.107 (df = 96); Study 3: z retirement = -0.659, z vaccine = 1.385 (df = 74); Study 4: z = 0.889 (df = 361). The overall interaction effect of Sex Ratio Ã— Participant Sex (weighted by each test's degrees of freedom) was not significant (z = 1.053, p = .146). Thus, no reliable evidence for a moderating effect of participant sex was observed in this investigation.",
         "The overall interaction effect of Sex Ratio Ã— Participant Sex (weighted by each test's degrees of freedom) was not significant (z = 1.053, p = .146).",
         "0.0",
         null,
         null,
         null,
         "0",
         "The overall interaction effect of Sex Ratio Ã— Participant Sex (weighted by each test's degrees of freedom) was not significant (z = 1.053, p = .146)."
        ],
        [
         "4",
         "174",
         "p = .141",
         "results",
         "Individual-differences measures and stress responsivity",
         "13",
         "1.0",
         "2",
         "9567976211005460",
         "=",
         "0.141",
         "Exploratory analyses examining the influence of personality traits and baseline cognitive performance on low-demand choices did not yield significant main effects or interactions with stress (all ps â‰¥ .105; see Tables S4 and S5 in the Supplemental Material). We also examined whether individual differences in stress reactivityspecifically, the increased salivary cortisol-predicted low-demand choices in the DST but found no significant predictive relationship (main effect: p = .141;",
         "We also examined whether individual differences in stress reactivityspecifically, the increased salivary cortisol-predicted low-demand choices in the DST but found no significant predictive relationship (main effect: p = .141;",
         "0.0",
         "0.0",
         null,
         null,
         "0",
         "We also examined whether individual differences in stress reactivityspecifically, the increased salivary cortisol-predicted low-demand choices in the DST but found no significant predictive relationship (main effect: p = .141;"
        ]
       ],
       "shape": {
        "columns": 18,
        "rows": 5
       }
      },
      "text/html": [
       "<div>\n",
       "<style scoped>\n",
       "    .dataframe tbody tr th:only-of-type {\n",
       "        vertical-align: middle;\n",
       "    }\n",
       "\n",
       "    .dataframe tbody tr th {\n",
       "        vertical-align: top;\n",
       "    }\n",
       "\n",
       "    .dataframe thead th {\n",
       "        text-align: right;\n",
       "    }\n",
       "</style>\n",
       "<table border=\"1\" class=\"dataframe\">\n",
       "  <thead>\n",
       "    <tr style=\"text-align: right;\">\n",
       "      <th></th>\n",
       "      <th>statement_id</th>\n",
       "      <th>text</th>\n",
       "      <th>section</th>\n",
       "      <th>header</th>\n",
       "      <th>div</th>\n",
       "      <th>p</th>\n",
       "      <th>s</th>\n",
       "      <th>article_id</th>\n",
       "      <th>p_comp</th>\n",
       "      <th>p_value</th>\n",
       "      <th>context</th>\n",
       "      <th>expanded</th>\n",
       "      <th>label_strict</th>\n",
       "      <th>label_kind</th>\n",
       "      <th>label_keywords</th>\n",
       "      <th>label_comment</th>\n",
       "      <th>label</th>\n",
       "      <th>sentence</th>\n",
       "    </tr>\n",
       "  </thead>\n",
       "  <tbody>\n",
       "    <tr>\n",
       "      <th>0</th>\n",
       "      <td>114</td>\n",
       "      <td>p = .358</td>\n",
       "      <td>results</td>\n",
       "      <td>Subjective congruency ratings partly explain b...</td>\n",
       "      <td>12</td>\n",
       "      <td>2.0</td>\n",
       "      <td>1</td>\n",
       "      <td>9567976211032670</td>\n",
       "      <td>=</td>\n",
       "      <td>0.358</td>\n",
       "      <td>Change-detection RTs in Experiment 1 were not ...</td>\n",
       "      <td>Change-detection RTs in Experiment 1 were not ...</td>\n",
       "      <td>1.0</td>\n",
       "      <td>NaN</td>\n",
       "      <td>NaN</td>\n",
       "      <td>NaN</td>\n",
       "      <td>1</td>\n",
       "      <td>Change-detection RTs in Experiment 1 were not ...</td>\n",
       "    </tr>\n",
       "    <tr>\n",
       "      <th>1</th>\n",
       "      <td>339</td>\n",
       "      <td>p = .55</td>\n",
       "      <td>results</td>\n",
       "      <td>Inner-crowd effects.</td>\n",
       "      <td>16</td>\n",
       "      <td>2.0</td>\n",
       "      <td>4</td>\n",
       "      <td>9567976211061320</td>\n",
       "      <td>=</td>\n",
       "      <td>0.550</td>\n",
       "      <td>Importantly, participants in the disagreeingpe...</td>\n",
       "      <td>However, there was no difference between the a...</td>\n",
       "      <td>1.0</td>\n",
       "      <td>NaN</td>\n",
       "      <td>NaN</td>\n",
       "      <td>NaN</td>\n",
       "      <td>1</td>\n",
       "      <td>However, there was no difference between the a...</td>\n",
       "    </tr>\n",
       "    <tr>\n",
       "      <th>2</th>\n",
       "      <td>155</td>\n",
       "      <td>p = .540</td>\n",
       "      <td>results</td>\n",
       "      <td>Studies 1 and 2: Combined Data Analysis</td>\n",
       "      <td>14</td>\n",
       "      <td>2.0</td>\n",
       "      <td>5</td>\n",
       "      <td>956797618772822</td>\n",
       "      <td>=</td>\n",
       "      <td>0.540</td>\n",
       "      <td>Participant height remained a significant pred...</td>\n",
       "      <td>There was no significant interaction between p...</td>\n",
       "      <td>0.0</td>\n",
       "      <td>NaN</td>\n",
       "      <td>NaN</td>\n",
       "      <td>NaN</td>\n",
       "      <td>0</td>\n",
       "      <td>There was no significant interaction between p...</td>\n",
       "    </tr>\n",
       "    <tr>\n",
       "      <th>3</th>\n",
       "      <td>277</td>\n",
       "      <td>p = .146</td>\n",
       "      <td>results</td>\n",
       "      <td>Internal Meta-Analysis</td>\n",
       "      <td>16</td>\n",
       "      <td>4.0</td>\n",
       "      <td>6</td>\n",
       "      <td>956797616636631</td>\n",
       "      <td>=</td>\n",
       "      <td>0.146</td>\n",
       "      <td>The z-standardized significance levels (and df...</td>\n",
       "      <td>The overall interaction effect of Sex Ratio Ã—...</td>\n",
       "      <td>0.0</td>\n",
       "      <td>NaN</td>\n",
       "      <td>NaN</td>\n",
       "      <td>NaN</td>\n",
       "      <td>0</td>\n",
       "      <td>The overall interaction effect of Sex Ratio Ã—...</td>\n",
       "    </tr>\n",
       "    <tr>\n",
       "      <th>4</th>\n",
       "      <td>174</td>\n",
       "      <td>p = .141</td>\n",
       "      <td>results</td>\n",
       "      <td>Individual-differences measures and stress res...</td>\n",
       "      <td>13</td>\n",
       "      <td>1.0</td>\n",
       "      <td>2</td>\n",
       "      <td>9567976211005460</td>\n",
       "      <td>=</td>\n",
       "      <td>0.141</td>\n",
       "      <td>Exploratory analyses examining the influence o...</td>\n",
       "      <td>We also examined whether individual difference...</td>\n",
       "      <td>0.0</td>\n",
       "      <td>0.0</td>\n",
       "      <td>NaN</td>\n",
       "      <td>NaN</td>\n",
       "      <td>0</td>\n",
       "      <td>We also examined whether individual difference...</td>\n",
       "    </tr>\n",
       "  </tbody>\n",
       "</table>\n",
       "</div>"
      ],
      "text/plain": [
       "   statement_id       text  section  \\\n",
       "0           114   p = .358  results   \n",
       "1           339    p = .55  results   \n",
       "2           155  p = .540   results   \n",
       "3           277   p = .146  results   \n",
       "4           174   p = .141  results   \n",
       "\n",
       "                                              header  div    p  s  \\\n",
       "0  Subjective congruency ratings partly explain b...   12  2.0  1   \n",
       "1                               Inner-crowd effects.   16  2.0  4   \n",
       "2            Studies 1 and 2: Combined Data Analysis   14  2.0  5   \n",
       "3                             Internal Meta-Analysis   16  4.0  6   \n",
       "4  Individual-differences measures and stress res...   13  1.0  2   \n",
       "\n",
       "         article_id p_comp  p_value  \\\n",
       "0  9567976211032670      =    0.358   \n",
       "1  9567976211061320      =    0.550   \n",
       "2   956797618772822      =    0.540   \n",
       "3   956797616636631      =    0.146   \n",
       "4  9567976211005460      =    0.141   \n",
       "\n",
       "                                             context  \\\n",
       "0  Change-detection RTs in Experiment 1 were not ...   \n",
       "1  Importantly, participants in the disagreeingpe...   \n",
       "2  Participant height remained a significant pred...   \n",
       "3  The z-standardized significance levels (and df...   \n",
       "4  Exploratory analyses examining the influence o...   \n",
       "\n",
       "                                            expanded  label_strict  \\\n",
       "0  Change-detection RTs in Experiment 1 were not ...           1.0   \n",
       "1  However, there was no difference between the a...           1.0   \n",
       "2  There was no significant interaction between p...           0.0   \n",
       "3  The overall interaction effect of Sex Ratio Ã—...           0.0   \n",
       "4  We also examined whether individual difference...           0.0   \n",
       "\n",
       "   label_kind label_keywords label_comment  label  \\\n",
       "0         NaN            NaN           NaN      1   \n",
       "1         NaN            NaN           NaN      1   \n",
       "2         NaN            NaN           NaN      0   \n",
       "3         NaN            NaN           NaN      0   \n",
       "4         0.0            NaN           NaN      0   \n",
       "\n",
       "                                            sentence  \n",
       "0  Change-detection RTs in Experiment 1 were not ...  \n",
       "1  However, there was no difference between the a...  \n",
       "2  There was no significant interaction between p...  \n",
       "3  The overall interaction effect of Sex Ratio Ã—...  \n",
       "4  We also examined whether individual difference...  "
      ]
     },
     "execution_count": 35,
     "metadata": {},
     "output_type": "execute_result"
    }
   ],
   "source": [
    "import pandas as pd\n",
    "\n",
    "# Load Excel file\n",
    "df = pd.read_excel(r\"../../data/training_data/labeled/2025-06-28_labeled_data.xlsx\")\n",
    "\n",
    "# Drop rows with NA or label_strict == -99\n",
    "df = df.dropna(subset=['label_strict'])\n",
    "df = df[df['label_strict'] != -99]\n",
    "\n",
    "# Keep only correct (0) and incorrect (1) labels\n",
    "df = df[df['label_strict'].isin([0, 1])]\n",
    "\n",
    "# Create binary label column (same as label_strict)\n",
    "df['label'] = df['label_strict'].astype(int)\n",
    "\n",
    "# Rename your text column to 'sentence'\n",
    "# Replace 'statement_text' with the actual name if needed\n",
    "df['sentence'] = df['expanded']\n",
    "\n",
    "# Create a balanced subset:\n",
    "# - All incorrect (label == 1)\n",
    "# - Equal number of randomly sampled correct (label == 0)\n",
    "incorrect_df = df[df['label'] == 1]\n",
    "correct_df = df[df['label'] == 0].sample(n=incorrect_df.shape[0], random_state=42)\n",
    "\n",
    "# Combine and shuffle\n",
    "balanced_df = pd.concat([incorrect_df, correct_df]).sample(frac=1, random_state=42).reset_index(drop=True)\n",
    "\n",
    "# Print result summary\n",
    "print(f\"Total examples in balanced dataset: {balanced_df.shape[0]}\")\n",
    "print(balanced_df['label'].value_counts())\n",
    "\n",
    "# Show 5 random rows\n",
    "balanced_df.head()"
   ]
  },
  {
   "cell_type": "code",
   "execution_count": 36,
   "id": "2fc13d84",
   "metadata": {},
   "outputs": [],
   "source": [
    "# Divide data into train and test sets\n",
    "from sklearn.model_selection import train_test_split\n",
    "\n",
    "# Split the data into training and test sets (80/20)\n",
    "train_df, test_df = train_test_split(\n",
    "    balanced_df,\n",
    "    test_size=0.2,\n",
    "    random_state=42,\n",
    "    stratify=balanced_df['label']  # Ensures label balance\n",
    ")"
   ]
  },
  {
   "cell_type": "code",
   "execution_count": 37,
   "id": "8c8eb7e9",
   "metadata": {},
   "outputs": [
    {
     "data": {
      "application/vnd.microsoft.datawrangler.viewer.v0+json": {
       "columns": [
        {
         "name": "label",
         "rawType": "int64",
         "type": "integer"
        },
        {
         "name": "count",
         "rawType": "int64",
         "type": "integer"
        }
       ],
       "ref": "5b63a483-3d6d-49ef-9503-ef1ed2551755",
       "rows": [
        [
         "1",
         "112"
        ],
        [
         "0",
         "112"
        ]
       ],
       "shape": {
        "columns": 1,
        "rows": 2
       }
      },
      "text/plain": [
       "label\n",
       "1    112\n",
       "0    112\n",
       "Name: count, dtype: int64"
      ]
     },
     "execution_count": 37,
     "metadata": {},
     "output_type": "execute_result"
    }
   ],
   "source": [
    "# Check label balance in both training and test sets\n",
    "train_df['label'].value_counts()"
   ]
  },
  {
   "cell_type": "code",
   "execution_count": 38,
   "id": "727f61fb",
   "metadata": {},
   "outputs": [
    {
     "data": {
      "application/vnd.microsoft.datawrangler.viewer.v0+json": {
       "columns": [
        {
         "name": "label",
         "rawType": "int64",
         "type": "integer"
        },
        {
         "name": "count",
         "rawType": "int64",
         "type": "integer"
        }
       ],
       "ref": "824492e9-6e1a-43ee-8406-41118f6a4ba9",
       "rows": [
        [
         "0",
         "28"
        ],
        [
         "1",
         "28"
        ]
       ],
       "shape": {
        "columns": 1,
        "rows": 2
       }
      },
      "text/plain": [
       "label\n",
       "0    28\n",
       "1    28\n",
       "Name: count, dtype: int64"
      ]
     },
     "execution_count": 38,
     "metadata": {},
     "output_type": "execute_result"
    }
   ],
   "source": [
    "test_df['label'].value_counts()"
   ]
  },
  {
   "cell_type": "code",
   "execution_count": 39,
   "id": "30227b5d",
   "metadata": {},
   "outputs": [
    {
     "data": {
      "application/vnd.microsoft.datawrangler.viewer.v0+json": {
       "columns": [
        {
         "name": "index",
         "rawType": "int64",
         "type": "integer"
        },
        {
         "name": "sentence",
         "rawType": "object",
         "type": "string"
        },
        {
         "name": "label",
         "rawType": "int64",
         "type": "integer"
        }
       ],
       "ref": "28014df8-df69-487d-b741-c86eeb9ec5c6",
       "rows": [
        [
         "166",
         "No significant gender differences emerged in anxiety (men: M = 0.45, women: M = 0.38, b = -0.31, Z = -0.76, p = .445, 95% CI = [-1.11, 0.49]), logistics (men: M = 0.07, women: M = 0.18, b = 1.05, Z = 1.53, p = .125, 95% CI = [-0.19, 2.59]), or preferring one-on-one conversations (men: M = 0.00, women: M = 0.03, b = 17.18, Z = 0.01, p = .995).",
         "0"
        ],
        [
         "199",
         "There was no difference between congruent and incongruent trials in the probe-other condition, t(193) = -0.23, p = .591, d = 0.02; difference: M = -0.30%, 95% CI = [-2.45, 1.85] (see Fig. 3), and the data were about 3 times more likely under the null hypothesis of no difference (BF 10 = 0.34).",
         "1"
        ],
        [
         "48",
         "In all these models, women were more likely to report higher fear intensity compared with men (Model 1a: Î² = 1.08, SE = 0.55, p = .054; Model 2a: Î² = 1.04, SE = 0.53, p = .051; Model 3a: Î² = 1.31, SE = 0.50, p = .011), whereas motivation (Model 1a: p = .158, Model 2a: p = .102, Model 3a: p = .090) and age (Model 1a: p = .680, Model 2a: p = .352, Model 3a: p = .117) showed no significant effects.",
         "0"
        ],
        [
         "170",
         "Depending on the outcome measure, individuals with a higher level of commitment experienced no change or a deterioration in well-being following infidelity (socialization effects at 1 SD above the mean of commitment: relationship satisfaction b = -0.03, p = .260; intimacy b = -0.02, p = .320; admiration b = -0.04, p = .037; conflict b = 0.002, p = .915).",
         "1"
        ],
        [
         "248",
         "As in Experiment 1, neither congruence nor time of stimulation influenced visual discrimination performance (Fig. 2b; congruence: Î² = -0.13, SE = 0.13, p = .34; time: Î² = 0.12, SE = 0.09, p = .18), and there was no evidence that TMS pulses induced a contralateral bias in responding (95% CI for percentage of contralateral responsespreresponse condition = [47%, 55%]; postresponse condition = [49%, 56%]).",
         "1"
        ]
       ],
       "shape": {
        "columns": 2,
        "rows": 5
       }
      },
      "text/html": [
       "<div>\n",
       "<style scoped>\n",
       "    .dataframe tbody tr th:only-of-type {\n",
       "        vertical-align: middle;\n",
       "    }\n",
       "\n",
       "    .dataframe tbody tr th {\n",
       "        vertical-align: top;\n",
       "    }\n",
       "\n",
       "    .dataframe thead th {\n",
       "        text-align: right;\n",
       "    }\n",
       "</style>\n",
       "<table border=\"1\" class=\"dataframe\">\n",
       "  <thead>\n",
       "    <tr style=\"text-align: right;\">\n",
       "      <th></th>\n",
       "      <th>sentence</th>\n",
       "      <th>label</th>\n",
       "    </tr>\n",
       "  </thead>\n",
       "  <tbody>\n",
       "    <tr>\n",
       "      <th>166</th>\n",
       "      <td>No significant gender differences emerged in a...</td>\n",
       "      <td>0</td>\n",
       "    </tr>\n",
       "    <tr>\n",
       "      <th>199</th>\n",
       "      <td>There was no difference between congruent and ...</td>\n",
       "      <td>1</td>\n",
       "    </tr>\n",
       "    <tr>\n",
       "      <th>48</th>\n",
       "      <td>In all these models, women were more likely to...</td>\n",
       "      <td>0</td>\n",
       "    </tr>\n",
       "    <tr>\n",
       "      <th>170</th>\n",
       "      <td>Depending on the outcome measure, individuals ...</td>\n",
       "      <td>1</td>\n",
       "    </tr>\n",
       "    <tr>\n",
       "      <th>248</th>\n",
       "      <td>As in Experiment 1, neither congruence nor tim...</td>\n",
       "      <td>1</td>\n",
       "    </tr>\n",
       "  </tbody>\n",
       "</table>\n",
       "</div>"
      ],
      "text/plain": [
       "                                              sentence  label\n",
       "166  No significant gender differences emerged in a...      0\n",
       "199  There was no difference between congruent and ...      1\n",
       "48   In all these models, women were more likely to...      0\n",
       "170  Depending on the outcome measure, individuals ...      1\n",
       "248  As in Experiment 1, neither congruence nor tim...      1"
      ]
     },
     "execution_count": 39,
     "metadata": {},
     "output_type": "execute_result"
    }
   ],
   "source": [
    "#Another random 5 examples from training set\n",
    "train_df.sample(5)[['sentence', 'label']]"
   ]
  },
  {
   "cell_type": "code",
   "execution_count": 40,
   "id": "ab5f7efb",
   "metadata": {},
   "outputs": [],
   "source": [
    "# Get the lists of sentences and their labels.\n",
    "train_sentences = train_df.sentence.values\n",
    "train_labels = train_df.label.values\n",
    "\n",
    "test_sentences = test_df.sentence.values\n",
    "test_labels = test_df.label.values"
   ]
  },
  {
   "cell_type": "code",
   "execution_count": 41,
   "id": "26c661e5",
   "metadata": {},
   "outputs": [],
   "source": [
    "from transformers import BertTokenizer\n",
    "\n",
    "# Load the BERT tokenizer.\n",
    "\n",
    "tokenizer = BertTokenizer.from_pretrained('bert-base-uncased', do_lower_case=True)"
   ]
  },
  {
   "cell_type": "code",
   "execution_count": 42,
   "id": "78edfdea",
   "metadata": {},
   "outputs": [
    {
     "name": "stdout",
     "output_type": "stream",
     "text": [
      " Original:  For âˆ†Î¸ Ë†crit values derived from highversus low-friction trials, values were different from 0Â° in the live-observation group, t(33) = 5.495, p < .001, d = 0.942, and the interaction group, t(31) = 5.339, p < .001, d = 0.851, but not in the video-observation group, t(29) = 1.232, p = .228, d = 0.225.\n",
      "Tokenized:  ['for', '[UNK]', '†', '[UNK]', 'e', '†', 'cr', '##it', 'values', 'derived', 'from', 'high', '##vers', '##us', 'low', '-', 'friction', 'trials', ',', 'values', 'were', 'different', 'from', '0', '##a', '##°', 'in', 'the', 'live', '-', 'observation', 'group', ',', 't', '(', '33', ')', '=', '5', '.', '495', ',', 'p', '<', '.', '001', ',', 'd', '=', '0', '.', '94', '##2', ',', 'and', 'the', 'interaction', 'group', ',', 't', '(', '31', ')', '=', '5', '.', '339', ',', 'p', '<', '.', '001', ',', 'd', '=', '0', '.', '85', '##1', ',', 'but', 'not', 'in', 'the', 'video', '-', 'observation', 'group', ',', 't', '(', '29', ')', '=', '1', '.', '232', ',', 'p', '=', '.', '228', ',', 'd', '=', '0', '.', '225', '.']\n",
      "Token IDs:  [2005, 100, 1526, 100, 1041, 1526, 13675, 4183, 5300, 5173, 2013, 2152, 14028, 2271, 2659, 1011, 15012, 7012, 1010, 5300, 2020, 2367, 2013, 1014, 2050, 7737, 1999, 1996, 2444, 1011, 8089, 2177, 1010, 1056, 1006, 3943, 1007, 1027, 1019, 1012, 29302, 1010, 1052, 1026, 1012, 25604, 1010, 1040, 1027, 1014, 1012, 6365, 2475, 1010, 1998, 1996, 8290, 2177, 1010, 1056, 1006, 2861, 1007, 1027, 1019, 1012, 28977, 1010, 1052, 1026, 1012, 25604, 1010, 1040, 1027, 1014, 1012, 5594, 2487, 1010, 2021, 2025, 1999, 1996, 2678, 1011, 8089, 2177, 1010, 1056, 1006, 2756, 1007, 1027, 1015, 1012, 20666, 1010, 1052, 1027, 1012, 22238, 1010, 1040, 1027, 1014, 1012, 14993, 1012]\n"
     ]
    }
   ],
   "source": [
    "# Print the original sentence.\n",
    "print(' Original: ', train_sentences[0])\n",
    "\n",
    "# Print the sentence split into tokens.\n",
    "print('Tokenized: ', tokenizer.tokenize(train_sentences[0]))\n",
    "\n",
    "# Print the sentence mapped to token ids.\n",
    "print('Token IDs: ', tokenizer.convert_tokens_to_ids(tokenizer.tokenize(train_sentences[0])))"
   ]
  },
  {
   "cell_type": "code",
   "execution_count": 43,
   "id": "57e2b740",
   "metadata": {},
   "outputs": [
    {
     "name": "stdout",
     "output_type": "stream",
     "text": [
      "Original:  For âˆ†Î¸ Ë†crit values derived from highversus low-friction trials, values were different from 0Â° in the live-observation group, t(33) = 5.495, p < .001, d = 0.942, and the interaction group, t(31) = 5.339, p < .001, d = 0.851, but not in the video-observation group, t(29) = 1.232, p = .228, d = 0.225.\n",
      "Token IDs: [101, 2005, 100, 1526, 100, 1041, 1526, 13675, 4183, 5300, 5173, 2013, 2152, 14028, 2271, 2659, 1011, 15012, 7012, 1010, 5300, 2020, 2367, 2013, 1014, 2050, 7737, 1999, 1996, 2444, 1011, 8089, 2177, 1010, 1056, 1006, 3943, 1007, 1027, 1019, 1012, 29302, 1010, 1052, 1026, 1012, 25604, 1010, 1040, 1027, 1014, 1012, 6365, 2475, 1010, 1998, 1996, 8290, 2177, 1010, 1056, 1006, 2861, 1007, 1027, 1019, 1012, 28977, 1010, 1052, 1026, 1012, 25604, 1010, 1040, 1027, 1014, 1012, 5594, 2487, 1010, 2021, 2025, 1999, 1996, 2678, 1011, 8089, 2177, 1010, 1056, 1006, 2756, 1007, 1027, 1015, 1012, 20666, 1010, 1052, 1027, 1012, 22238, 1010, 1040, 1027, 1014, 1012, 14993, 1012, 102]\n"
     ]
    }
   ],
   "source": [
    "# Tokenize all of the sentences and map the tokens to thier word IDs.\n",
    "input_ids = []\n",
    "\n",
    "# For every sentence...\n",
    "for sent in train_sentences:\n",
    "    # `encode` will:\n",
    "    #   (1) Tokenize the sentence.\n",
    "    #   (2) Prepend the `[CLS]` token to the start.\n",
    "    #   (3) Append the `[SEP]` token to the end.\n",
    "    #   (4) Map tokens to their IDs.\n",
    "    encoded_sent = tokenizer.encode(\n",
    "                        sent\n",
    "                   )\n",
    "    \n",
    "    # Add the encoded sentence to the list.\n",
    "    input_ids.append(encoded_sent)\n",
    "\n",
    "# Print sentence 0, now as a list of IDs.\n",
    "print('Original: ', train_sentences[0])\n",
    "print('Token IDs:', input_ids[0])"
   ]
  },
  {
   "cell_type": "code",
   "execution_count": 44,
   "id": "63dcdbe7",
   "metadata": {},
   "outputs": [
    {
     "name": "stdout",
     "output_type": "stream",
     "text": [
      "Max sentence length:  277\n"
     ]
    }
   ],
   "source": [
    "print('Max sentence length: ', max([len(sen) for sen in input_ids]))"
   ]
  },
  {
   "cell_type": "code",
   "execution_count": 45,
   "id": "c6a7aec4",
   "metadata": {},
   "outputs": [],
   "source": [
    "# We will use some utility function from tensorflow(Tensorflow was my first crush)\n",
    "from keras.preprocessing.sequence import pad_sequences\n",
    "\n",
    "MAX_LEN = 300\n",
    "\n",
    "# Helper function\n",
    "def tokenize_and_pad(sentences, tokenizer, max_len):\n",
    "    input_ids = []\n",
    "    for sent in sentences:\n",
    "        encoded = tokenizer.encode(sent, add_special_tokens=True, truncation=True, max_length=max_len)\n",
    "        input_ids.append(encoded)\n",
    "    input_ids = pad_sequences(input_ids, maxlen=max_len, padding='post', truncating='post')\n",
    "    attention_masks = [[int(token_id > 0) for token_id in seq] for seq in input_ids]\n",
    "    return input_ids, attention_masks\n",
    "\n",
    "# Tokenize train and test\n",
    "train_input_ids, train_attention_masks = tokenize_and_pad(train_sentences, tokenizer, MAX_LEN)\n",
    "test_input_ids, test_attention_masks = tokenize_and_pad(test_sentences, tokenizer, MAX_LEN)"
   ]
  },
  {
   "cell_type": "code",
   "execution_count": 46,
   "id": "99c4fb57",
   "metadata": {},
   "outputs": [],
   "source": [
    "# Creating the attention masks\n",
    "attention_masks = []\n",
    "\n",
    "# For each sentence...\n",
    "for sent in input_ids:\n",
    "    \n",
    "    # Create the attention mask.\n",
    "    #   - If a token ID is 0, then it's padding, set the mask to 0.\n",
    "    #   - If a token ID is > 0, then it's a real token, set the mask to 1.\n",
    "    att_mask = [int(token_id > 0) for token_id in sent]\n",
    "    \n",
    "    # Store the attention mask for this sentence.\n",
    "    attention_masks.append(att_mask)"
   ]
  },
  {
   "cell_type": "code",
   "execution_count": 47,
   "id": "bd2afd65",
   "metadata": {},
   "outputs": [],
   "source": [
    "# # We will call the train_test_split() function from sklearn\n",
    "# from sklearn.model_selection import train_test_split\n",
    "\n",
    "\n",
    "# # Use this to split input_ids and labels\n",
    "# train_inputs, validation_inputs, labels_train, labels_val = train_test_split(\n",
    "#     train_input_ids, train_labels, test_size=0.2, random_state=2018, stratify=train_labels)\n",
    "\n",
    "# # Use the same split to split the attention masks\n",
    "# train_masks, validation_masks, _, _ = train_test_split(\n",
    "#     train_attention_masks, train_labels, test_size=0.2, random_state=2018, stratify=train_labels)"
   ]
  },
  {
   "cell_type": "code",
   "execution_count": 48,
   "id": "6081dd9d",
   "metadata": {},
   "outputs": [
    {
     "name": "stdout",
     "output_type": "stream",
     "text": [
      "224 224\n"
     ]
    }
   ],
   "source": [
    "print(len(train_input_ids), len(train_labels))"
   ]
  },
  {
   "cell_type": "code",
   "execution_count": 49,
   "id": "fbe89aab",
   "metadata": {},
   "outputs": [],
   "source": [
    "import torch\n",
    "\n",
    "# Convert training data to tensors\n",
    "train_inputs = torch.tensor(train_input_ids)        # your tokenized & padded training inputs\n",
    "train_labels = torch.tensor(train_labels)           # training labels\n",
    "train_masks = torch.tensor(train_attention_masks)   # attention masks for training\n",
    "\n",
    "# Convert test data to tensors\n",
    "test_inputs = torch.tensor(test_input_ids)           # tokenized test inputs\n",
    "test_labels = torch.tensor(test_labels)               # test labels\n",
    "test_masks = torch.tensor(test_attention_masks)     # attention masks for test"
   ]
  },
  {
   "cell_type": "code",
   "execution_count": 50,
   "id": "f36b17fb",
   "metadata": {},
   "outputs": [],
   "source": [
    "from torch.utils.data import TensorDataset, DataLoader, RandomSampler\n",
    "\n",
    "batch_size = 32\n",
    "\n",
    "# Create the DataLoader for the training set\n",
    "train_data = TensorDataset(train_inputs, train_masks, train_labels)\n",
    "train_sampler = RandomSampler(train_data)\n",
    "train_dataloader = DataLoader(train_data, sampler=train_sampler, batch_size=batch_size)"
   ]
  },
  {
   "cell_type": "code",
   "execution_count": 51,
   "id": "e241ee4c",
   "metadata": {},
   "outputs": [
    {
     "name": "stderr",
     "output_type": "stream",
     "text": [
      "Some weights of BertForSequenceClassification were not initialized from the model checkpoint at bert-base-uncased and are newly initialized: ['classifier.bias', 'classifier.weight']\n",
      "You should probably TRAIN this model on a down-stream task to be able to use it for predictions and inference.\n"
     ]
    },
    {
     "data": {
      "text/plain": [
       "BertForSequenceClassification(\n",
       "  (bert): BertModel(\n",
       "    (embeddings): BertEmbeddings(\n",
       "      (word_embeddings): Embedding(30522, 768, padding_idx=0)\n",
       "      (position_embeddings): Embedding(512, 768)\n",
       "      (token_type_embeddings): Embedding(2, 768)\n",
       "      (LayerNorm): LayerNorm((768,), eps=1e-12, elementwise_affine=True)\n",
       "      (dropout): Dropout(p=0.1, inplace=False)\n",
       "    )\n",
       "    (encoder): BertEncoder(\n",
       "      (layer): ModuleList(\n",
       "        (0-11): 12 x BertLayer(\n",
       "          (attention): BertAttention(\n",
       "            (self): BertSdpaSelfAttention(\n",
       "              (query): Linear(in_features=768, out_features=768, bias=True)\n",
       "              (key): Linear(in_features=768, out_features=768, bias=True)\n",
       "              (value): Linear(in_features=768, out_features=768, bias=True)\n",
       "              (dropout): Dropout(p=0.1, inplace=False)\n",
       "            )\n",
       "            (output): BertSelfOutput(\n",
       "              (dense): Linear(in_features=768, out_features=768, bias=True)\n",
       "              (LayerNorm): LayerNorm((768,), eps=1e-12, elementwise_affine=True)\n",
       "              (dropout): Dropout(p=0.1, inplace=False)\n",
       "            )\n",
       "          )\n",
       "          (intermediate): BertIntermediate(\n",
       "            (dense): Linear(in_features=768, out_features=3072, bias=True)\n",
       "            (intermediate_act_fn): GELUActivation()\n",
       "          )\n",
       "          (output): BertOutput(\n",
       "            (dense): Linear(in_features=3072, out_features=768, bias=True)\n",
       "            (LayerNorm): LayerNorm((768,), eps=1e-12, elementwise_affine=True)\n",
       "            (dropout): Dropout(p=0.1, inplace=False)\n",
       "          )\n",
       "        )\n",
       "      )\n",
       "    )\n",
       "    (pooler): BertPooler(\n",
       "      (dense): Linear(in_features=768, out_features=768, bias=True)\n",
       "      (activation): Tanh()\n",
       "    )\n",
       "  )\n",
       "  (dropout): Dropout(p=0.1, inplace=False)\n",
       "  (classifier): Linear(in_features=768, out_features=2, bias=True)\n",
       ")"
      ]
     },
     "execution_count": 51,
     "metadata": {},
     "output_type": "execute_result"
    }
   ],
   "source": [
    "#Loading the pre-trained BERT model from huggingface library\n",
    "\n",
    "from transformers import BertForSequenceClassification, BertConfig\n",
    "from torch.optim import AdamW\n",
    "\n",
    "# Load BertForSequenceClassification, the pretrained BERT model with a single \n",
    "# linear classification layer on top. \n",
    "model = BertForSequenceClassification.from_pretrained(\n",
    "    \"bert-base-uncased\", \n",
    "    num_labels = 2,   \n",
    "    output_attentions = False, \n",
    "    output_hidden_states = False, )\n",
    "\n",
    "# Teeling the model to run on GPU\n",
    "model.cuda()"
   ]
  },
  {
   "cell_type": "code",
   "execution_count": 52,
   "id": "91f6bcb6",
   "metadata": {},
   "outputs": [],
   "source": [
    "# AdamW is an optimizer which is a Adam Optimzier with weight-decay-fix\n",
    "optimizer = AdamW(model.parameters(),\n",
    "                  lr = 2e-5, \n",
    "                  eps = 1e-8 \n",
    "                )"
   ]
  },
  {
   "cell_type": "code",
   "execution_count": 53,
   "id": "f5f37e5c",
   "metadata": {},
   "outputs": [
    {
     "data": {
      "text/plain": [
       "<torch.optim.lr_scheduler.LambdaLR at 0x1cbedf06840>"
      ]
     },
     "execution_count": 53,
     "metadata": {},
     "output_type": "execute_result"
    }
   ],
   "source": [
    "from transformers import get_linear_schedule_with_warmup\n",
    "\n",
    "# Number of training epochs (authors recommend between 2 and 4)\n",
    "epochs = 4\n",
    "\n",
    "# Total number of training steps is number of batches * number of epochs.\n",
    "total_steps = len(train_dataloader) * epochs\n",
    "\n",
    "# Create the learning rate scheduler.\n",
    "scheduler = get_linear_schedule_with_warmup(optimizer, \n",
    "                                            num_warmup_steps = 0, # Default value in run_glue.py\n",
    "                                            num_training_steps = total_steps)\n",
    "scheduler"
   ]
  },
  {
   "cell_type": "markdown",
   "id": "333699dc",
   "metadata": {},
   "source": [
    "Define a helper function for calculating accuracy."
   ]
  },
  {
   "cell_type": "code",
   "execution_count": 54,
   "id": "30788254",
   "metadata": {},
   "outputs": [],
   "source": [
    "import numpy as np\n",
    "\n",
    "# Function to calculate the accuracy of our predictions vs labels\n",
    "def flat_accuracy(preds, labels):\n",
    "    pred_flat = np.argmax(preds, axis=1).flatten()\n",
    "    labels_flat = labels.flatten()\n",
    "    return np.sum(pred_flat == labels_flat) / len(labels_flat)"
   ]
  },
  {
   "cell_type": "code",
   "execution_count": 55,
   "id": "96008642",
   "metadata": {},
   "outputs": [],
   "source": [
    "#Creating the helper function to have a watch on elapsed time\n",
    "\n",
    "import time\n",
    "import datetime\n",
    "\n",
    "def format_time(elapsed):\n",
    "    '''\n",
    "    Takes a time in seconds and returns a string hh:mm:ss\n",
    "    '''\n",
    "    # Round to the nearest second.\n",
    "    elapsed_rounded = int(round((elapsed)))\n",
    "    \n",
    "    # Format as hh:mm:ss\n",
    "    return str(datetime.timedelta(seconds=elapsed_rounded))"
   ]
  },
  {
   "cell_type": "markdown",
   "id": "c5ed68c8",
   "metadata": {},
   "source": [
    "## Let's start the training process"
   ]
  },
  {
   "cell_type": "code",
   "execution_count": 57,
   "id": "69ebce05",
   "metadata": {},
   "outputs": [
    {
     "name": "stdout",
     "output_type": "stream",
     "text": [
      "\n",
      "======== Epoch 1 / 4 ========\n",
      "Training...\n",
      "\n",
      "  Average training loss: 0.63\n",
      "  Training epoch took: 0:00:15\n",
      "\n",
      "======== Epoch 2 / 4 ========\n",
      "Training...\n",
      "\n",
      "  Average training loss: 0.64\n",
      "  Training epoch took: 0:00:17\n",
      "\n",
      "======== Epoch 3 / 4 ========\n",
      "Training...\n",
      "\n",
      "  Average training loss: 0.60\n",
      "  Training epoch took: 0:00:17\n",
      "\n",
      "======== Epoch 4 / 4 ========\n",
      "Training...\n",
      "\n",
      "  Average training loss: 0.60\n",
      "  Training epoch took: 0:00:17\n",
      "\n",
      "Training complete!\n"
     ]
    }
   ],
   "source": [
    "import random\n",
    "\n",
    "# This training code is based on the `run_glue.py` script here:\n",
    "# https://github.com/huggingface/transformers/blob/5bfcd0485ece086ebcbed2d008813037968a9e58/examples/run_glue.py#L128\n",
    "\n",
    "\n",
    "# Set the seed value all over the place to make this reproducible.\n",
    "seed_val = 42\n",
    "\n",
    "random.seed(seed_val)\n",
    "np.random.seed(seed_val)\n",
    "torch.manual_seed(seed_val)\n",
    "torch.cuda.manual_seed_all(seed_val)\n",
    "\n",
    "# Store the average loss after each epoch so we can plot them.\n",
    "loss_values = []\n",
    "\n",
    "# For each epoch...\n",
    "for epoch_i in range(0, epochs):\n",
    "    \n",
    "    # ========================================\n",
    "    #               Training\n",
    "    # ========================================\n",
    "    \n",
    "    # Perform one full pass over the training set.\n",
    "\n",
    "    print(\"\")\n",
    "    print('======== Epoch {:} / {:} ========'.format(epoch_i + 1, epochs))\n",
    "    print('Training...')\n",
    "\n",
    "    # Measure how long the training epoch takes.\n",
    "    t0 = time.time()\n",
    "\n",
    "    # Reset the total loss for this epoch.\n",
    "    total_loss = 0\n",
    "\n",
    "    # Put the model into training mode. Don't be mislead--the call to \n",
    "    # `train` just changes the *mode*, it doesn't *perform* the training.\n",
    "    # `dropout` and `batchnorm` layers behave differently during training\n",
    "    # vs. test (source: https://stackoverflow.com/questions/51433378/what-does-model-train-do-in-pytorch)\n",
    "    model.train()\n",
    "\n",
    "    # For each batch of training data...\n",
    "    for step, batch in enumerate(train_dataloader):\n",
    "\n",
    "        # Progress update every 40 batches.\n",
    "        if step % 40 == 0 and not step == 0:\n",
    "            # Calculate elapsed time in minutes.\n",
    "            elapsed = format_time(time.time() - t0)\n",
    "            \n",
    "            # Report progress.\n",
    "            print('  Batch {:>5,}  of  {:>5,}.    Elapsed: {:}.'.format(step, len(train_dataloader), elapsed))\n",
    "\n",
    "        # Unpack this training batch from our dataloader. \n",
    "        #\n",
    "        # As we unpack the batch, we'll also copy each tensor to the GPU using the \n",
    "        # `to` method.\n",
    "        #\n",
    "        # `batch` contains three pytorch tensors:\n",
    "        #   [0]: input ids \n",
    "        #   [1]: attention masks\n",
    "        #   [2]: labels \n",
    "        b_input_ids = batch[0].to(device)\n",
    "        b_input_mask = batch[1].to(device)\n",
    "        b_labels = batch[2].to(device)\n",
    "\n",
    "        # Always clear any previously calculated gradients before performing a\n",
    "        # backward pass. PyTorch doesn't do this automatically because \n",
    "        # accumulating the gradients is \"convenient while training RNNs\". \n",
    "        # (source: https://stackoverflow.com/questions/48001598/why-do-we-need-to-call-zero-grad-in-pytorch)\n",
    "        model.zero_grad()        \n",
    "\n",
    "        # Perform a forward pass (evaluate the model on this training batch).\n",
    "        # This will return the loss (rather than the model output) because we\n",
    "        # have provided the `labels`.\n",
    "        # The documentation for this `model` function is here: \n",
    "        # https://huggingface.co/transformers/v2.2.0/model_doc/bert.html#transformers.BertForSequenceClassification\n",
    "        outputs = model(b_input_ids, \n",
    "                    token_type_ids=None, \n",
    "                    attention_mask=b_input_mask, \n",
    "                    labels=b_labels)\n",
    "        \n",
    "        # The call to `model` always returns a tuple, so we need to pull the \n",
    "        # loss value out of the tuple.\n",
    "        loss = outputs[0]\n",
    "\n",
    "        # Accumulate the training loss over all of the batches so that we can\n",
    "        # calculate the average loss at the end. `loss` is a Tensor containing a\n",
    "        # single value; the `.item()` function just returns the Python value \n",
    "        # from the tensor.\n",
    "        total_loss += loss.item()\n",
    "\n",
    "        # Perform a backward pass to calculate the gradients.\n",
    "        loss.backward()\n",
    "\n",
    "        # Clip the norm of the gradients to 1.0.\n",
    "        # This is to help prevent the \"exploding gradients\" problem.\n",
    "        torch.nn.utils.clip_grad_norm_(model.parameters(), 1.0)\n",
    "\n",
    "        # Update parameters and take a step using the computed gradient.\n",
    "        # The optimizer dictates the \"update rule\"--how the parameters are\n",
    "        # modified based on their gradients, the learning rate, etc.\n",
    "        optimizer.step()\n",
    "\n",
    "        # Update the learning rate.\n",
    "        scheduler.step()\n",
    "\n",
    "    # Calculate the average loss over the training data.\n",
    "    avg_train_loss = total_loss / len(train_dataloader)            \n",
    "    \n",
    "    # Store the loss value for plotting the learning curve.\n",
    "    loss_values.append(avg_train_loss)\n",
    "\n",
    "    print(\"\")\n",
    "    print(\"  Average training loss: {0:.2f}\".format(avg_train_loss))\n",
    "    print(\"  Training epoch took: {:}\".format(format_time(time.time() - t0)))\n",
    "        \n",
    "    # # ========================================\n",
    "    # #               Validation\n",
    "    # # ========================================\n",
    "    # # After the completion of each training epoch, measure our performance on\n",
    "    # # our validation set.\n",
    "\n",
    "    # print(\"\")\n",
    "    # print(\"Running Validation...\")\n",
    "\n",
    "    # t0 = time.time()\n",
    "\n",
    "    # # Put the model in evaluation mode--the dropout layers behave differently\n",
    "    # # during evaluation.\n",
    "    # model.eval()\n",
    "\n",
    "    # # Tracking variables \n",
    "    # eval_loss, eval_accuracy = 0, 0\n",
    "    # nb_eval_steps, nb_eval_examples = 0, 0\n",
    "\n",
    "    # # Evaluate data for one epoch\n",
    "    # for batch in validation_dataloader:\n",
    "        \n",
    "    #     # Add batch to GPU\n",
    "    #     batch = tuple(t.to(device) for t in batch)\n",
    "        \n",
    "    #     # Unpack the inputs from our dataloader\n",
    "    #     b_input_ids, b_input_mask, b_labels = batch\n",
    "        \n",
    "    #     # Telling the model not to compute or store gradients, saving memory and\n",
    "    #     # speeding up validation\n",
    "    #     with torch.no_grad():        \n",
    "\n",
    "    #         # Forward pass, calculate logit predictions.\n",
    "    #         # This will return the logits rather than the loss because we have\n",
    "    #         # not provided labels.\n",
    "    #         # token_type_ids is the same as the \"segment ids\", which \n",
    "    #         # differentiates sentence 1 and 2 in 2-sentence tasks.\n",
    "    #         # The documentation for this `model` function is here: \n",
    "    #         # https://huggingface.co/transformers/v2.2.0/model_doc/bert.html#transformers.BertForSequenceClassification\n",
    "    #         outputs = model(b_input_ids, \n",
    "    #                         token_type_ids=None, \n",
    "    #                         attention_mask=b_input_mask)\n",
    "        \n",
    "    #     # Get the \"logits\" output by the model. The \"logits\" are the output\n",
    "    #     # values prior to applying an activation function like the softmax.\n",
    "    #     logits = outputs[0]\n",
    "\n",
    "    #     # Move logits and labels to CPU\n",
    "    #     logits = logits.detach().cpu().numpy()\n",
    "    #     label_ids = b_labels.to('cpu').numpy()\n",
    "        \n",
    "    #     # Calculate the accuracy for this batch of test sentences.\n",
    "    #     tmp_eval_accuracy = flat_accuracy(logits, label_ids)\n",
    "        \n",
    "    #     # Accumulate the total accuracy.\n",
    "    #     eval_accuracy += tmp_eval_accuracy\n",
    "\n",
    "    #     # Track the number of batches\n",
    "    #     nb_eval_steps += 1\n",
    "\n",
    "    # # Report the final accuracy for this validation run.\n",
    "    # print(\"  Accuracy: {0:.2f}\".format(eval_accuracy/nb_eval_steps))\n",
    "    # print(\"  Validation took: {:}\".format(format_time(time.time() - t0)))\n",
    "\n",
    "print(\"\")\n",
    "print(\"Training complete!\")"
   ]
  },
  {
   "cell_type": "code",
   "execution_count": 58,
   "id": "74f4911f",
   "metadata": {},
   "outputs": [
    {
     "name": "stdout",
     "output_type": "stream",
     "text": [
      "[0.6313880426543099, 0.6373624290738787, 0.6001586232866559, 0.5988414883613586]\n"
     ]
    }
   ],
   "source": [
    "print(loss_values) #Having a view of stored loss values in the list"
   ]
  },
  {
   "cell_type": "code",
   "execution_count": 60,
   "id": "8127b671",
   "metadata": {},
   "outputs": [
    {
     "name": "stderr",
     "output_type": "stream",
     "text": [
      "C:\\Users\\Raphael\\AppData\\Local\\Temp\\ipykernel_27596\\1985238333.py:7: UserWarning: To copy construct from a tensor, it is recommended to use sourceTensor.detach().clone() or sourceTensor.detach().clone().requires_grad_(True), rather than torch.tensor(sourceTensor).\n",
      "  prediction_labels = torch.tensor(test_labels)\n"
     ]
    }
   ],
   "source": [
    "#Loading the test data and applying the same preprocessing techniques which we performed on the train data\n",
    "import pandas as pd\n",
    "from torch.utils.data import DataLoader, TensorDataset, SequentialSampler\n",
    "\n",
    "prediction_inputs = torch.tensor(test_input_ids)\n",
    "prediction_masks = torch.tensor(test_attention_masks)\n",
    "prediction_labels = torch.tensor(test_labels)\n",
    "\n",
    "# Set the batch size.  \n",
    "batch_size = 32  \n",
    "\n",
    "# Create the DataLoader.\n",
    "prediction_data = TensorDataset(prediction_inputs, prediction_masks, prediction_labels)\n",
    "prediction_sampler = SequentialSampler(prediction_data)\n",
    "prediction_dataloader = DataLoader(prediction_data, sampler=prediction_sampler, batch_size=batch_size)"
   ]
  },
  {
   "cell_type": "code",
   "execution_count": 62,
   "id": "868b8a04",
   "metadata": {},
   "outputs": [
    {
     "name": "stdout",
     "output_type": "stream",
     "text": [
      "Predicting labels for 56 test sentences...\n"
     ]
    }
   ],
   "source": [
    "#Evaluating our model on the test set\n",
    "\n",
    "# Prediction on test set\n",
    "\n",
    "print('Predicting labels for {:,} test sentences...'.format(len(prediction_inputs)))\n",
    "\n",
    "# Put model in evaluation mode\n",
    "model.eval()\n",
    "\n",
    "# Tracking variables \n",
    "predictions , true_labels = [], []\n",
    "\n",
    "# Predict \n",
    "for batch in prediction_dataloader:\n",
    "  # Add batch to GPU\n",
    "  batch = tuple(t.to(device) for t in batch)\n",
    "  \n",
    "  # Unpack the inputs from our dataloader\n",
    "  b_input_ids, b_input_mask, b_labels = batch\n",
    "  \n",
    "  # Telling the model not to compute or store gradients, saving memory and \n",
    "  # speeding up prediction\n",
    "  with torch.no_grad():\n",
    "      # Forward pass, calculate logit predictions\n",
    "      outputs = model(b_input_ids, token_type_ids=None, \n",
    "                      attention_mask=b_input_mask)\n",
    "\n",
    "  logits = outputs[0]\n",
    "\n",
    "  # Move logits and labels to CPU\n",
    "  logits = logits.detach().cpu().numpy()\n",
    "  label_ids = b_labels.to('cpu').numpy()\n",
    "  \n",
    "  # Store predictions and true labels\n",
    "  predictions.append(logits)\n",
    "  true_labels.append(label_ids)"
   ]
  },
  {
   "cell_type": "markdown",
   "id": "327ab160",
   "metadata": {},
   "source": [
    "We will use Matthews Correlation Coefficient(MCC) to evaluate our model. MCC is used in many areas of Natural Language Processing. Also, it's a great metric to be used for imbalanced dataset\n",
    "\n",
    "Link: https://towardsdatascience.com/the-best-classification-metric-youve-never-heard-of-the-matthews-correlation-coefficient-3bf50a2f3e9a"
   ]
  },
  {
   "cell_type": "code",
   "execution_count": 63,
   "id": "2b453d5d",
   "metadata": {},
   "outputs": [
    {
     "name": "stdout",
     "output_type": "stream",
     "text": [
      "Positive samples: 140 of 309 (45.31%)\n"
     ]
    }
   ],
   "source": [
    "print('Positive samples: %d of %d (%.2f%%)' % (df.label.sum(), len(df.label), (df.label.sum() / len(df.label) * 100.0)))"
   ]
  },
  {
   "cell_type": "code",
   "execution_count": 64,
   "id": "d6421417",
   "metadata": {},
   "outputs": [
    {
     "name": "stdout",
     "output_type": "stream",
     "text": [
      "Calculating Matthews Corr. Coef. for each batch...\n"
     ]
    }
   ],
   "source": [
    "from sklearn.metrics import matthews_corrcoef\n",
    "\n",
    "matthews_set = []\n",
    "\n",
    "# Evaluate each test batch using Matthew's correlation coefficient\n",
    "print('Calculating Matthews Corr. Coef. for each batch...')\n",
    "\n",
    "# For each input batch...\n",
    "for i in range(len(true_labels)):\n",
    "  \n",
    "  # The predictions for this batch are a 2-column ndarray (one column for \"0\" \n",
    "  # and one column for \"1\"). Pick the label with the highest value and turn this\n",
    "  # in to a list of 0s and 1s.\n",
    "  pred_labels_i = np.argmax(predictions[i], axis=1).flatten()\n",
    "  \n",
    "  # Calculate and store the coef for this batch.  \n",
    "  matthews = matthews_corrcoef(true_labels[i], pred_labels_i)                \n",
    "  matthews_set.append(matthews)"
   ]
  },
  {
   "cell_type": "code",
   "execution_count": 65,
   "id": "9b2b5111",
   "metadata": {},
   "outputs": [
    {
     "name": "stdout",
     "output_type": "stream",
     "text": [
      "MCC: 0.322\n"
     ]
    }
   ],
   "source": [
    "# Combine the predictions for each batch into a single list of 0s and 1s.\n",
    "flat_predictions = [item for sublist in predictions for item in sublist]\n",
    "flat_predictions = np.argmax(flat_predictions, axis=1).flatten()\n",
    "\n",
    "# Combine the correct labels for each batch into a single list.\n",
    "flat_true_labels = [item for sublist in true_labels for item in sublist]\n",
    "\n",
    "# Calculate the MCC\n",
    "mcc = matthews_corrcoef(flat_true_labels, flat_predictions)\n",
    "\n",
    "print('MCC: %.3f' % mcc)"
   ]
  },
  {
   "cell_type": "markdown",
   "id": "5eba3cb7",
   "metadata": {},
   "source": [
    "### Confusion Matrix"
   ]
  },
  {
   "cell_type": "code",
   "execution_count": 66,
   "id": "da00fa55",
   "metadata": {},
   "outputs": [
    {
     "name": "stdout",
     "output_type": "stream",
     "text": [
      "Confusion Matrix:\n",
      "[[19  9]\n",
      " [10 18]]\n",
      "\n",
      "Classification Report:\n",
      "              precision    recall  f1-score   support\n",
      "\n",
      "     class 0       0.66      0.68      0.67        28\n",
      "     class 1       0.67      0.64      0.65        28\n",
      "\n",
      "    accuracy                           0.66        56\n",
      "   macro avg       0.66      0.66      0.66        56\n",
      "weighted avg       0.66      0.66      0.66        56\n",
      "\n"
     ]
    }
   ],
   "source": [
    "import numpy as np\n",
    "from sklearn.metrics import confusion_matrix, classification_report\n",
    "\n",
    "# Step 1: Convert logits to predicted class labels\n",
    "# Each element in predictions is a batch of logits\n",
    "flat_predictions = np.concatenate(predictions, axis=0)\n",
    "predicted_labels = np.argmax(flat_predictions, axis=1)\n",
    "\n",
    "# Step 2: Flatten the true labels\n",
    "flat_true_labels = np.concatenate(true_labels, axis=0)\n",
    "\n",
    "# Step 3: Generate the confusion matrix\n",
    "conf_matrix = confusion_matrix(flat_true_labels, predicted_labels)\n",
    "print(\"Confusion Matrix:\")\n",
    "print(conf_matrix)\n",
    "\n",
    "# Optional: Print a classification report (includes precision, recall, F1)\n",
    "print(\"\\nClassification Report:\")\n",
    "print(classification_report(flat_true_labels, predicted_labels, target_names=[\"class 0\", \"class 1\"]))\n"
   ]
  },
  {
   "cell_type": "code",
   "execution_count": 67,
   "id": "7ad6d4f2",
   "metadata": {},
   "outputs": [
    {
     "data": {
      "image/png": "[encoded data removed]",
      "text/plain": [
       "<Figure size 600x500 with 2 Axes>"
      ]
     },
     "metadata": {},
     "output_type": "display_data"
    }
   ],
   "source": [
    "import matplotlib.pyplot as plt\n",
    "import seaborn as sns\n",
    "from sklearn.metrics import confusion_matrix\n",
    "\n",
    "# Assuming flat_true_labels and predicted_labels are defined as before\n",
    "\n",
    "conf_matrix = confusion_matrix(flat_true_labels, predicted_labels)\n",
    "\n",
    "plt.figure(figsize=(6,5))\n",
    "sns.heatmap(conf_matrix, annot=True, fmt='d', cmap='Blues',\n",
    "            xticklabels=[\"Predicted 0\", \"Predicted 1\"],\n",
    "            yticklabels=[\"Actual 0\", \"Actual 1\"])\n",
    "\n",
    "plt.xlabel('Predicted Label')\n",
    "plt.ylabel('True Label')\n",
    "plt.title('Confusion Matrix')\n",
    "plt.show()\n"
   ]
  }
 ],
 "metadata": {
  "kernelspec": {
   "display_name": "Python (nonsig-venv)",
   "language": "python",
   "name": "nonsig-venv"
  },
  "language_info": {
   "codemirror_mode": {
    "name": "ipython",
    "version": 3
   },
   "file_extension": ".py",
   "mimetype": "text/x-python",
   "name": "python",
   "nbconvert_exporter": "python",
   "pygments_lexer": "ipython3",
   "version": "3.12.10"
  }
 },
 "nbformat": 4,
 "nbformat_minor": 5
}
